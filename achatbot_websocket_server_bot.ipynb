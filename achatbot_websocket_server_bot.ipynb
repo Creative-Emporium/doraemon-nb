{
  "nbformat": 4,
  "nbformat_minor": 0,
  "metadata": {
    "colab": {
      "provenance": [],
      "machine_shape": "hm",
      "authorship_tag": "ABX9TyNa9XNCqkf2+nKDsszTDaxE",
      "include_colab_link": true
    },
    "kernelspec": {
      "name": "python3",
      "display_name": "Python 3"
    },
    "language_info": {
      "name": "python"
    }
  },
  "cells": [
    {
      "cell_type": "markdown",
      "metadata": {
        "id": "view-in-github",
        "colab_type": "text"
      },
      "source": [
        "<a href=\"https://colab.research.google.com/github/weedge/doraemon-nb/blob/main/achatbot_websocket_server_bot.ipynb\" target=\"_parent\"><img src=\"https://colab.research.google.com/assets/colab-badge.svg\" alt=\"Open In Colab\"/></a>"
      ]
    },
    {
      "cell_type": "markdown",
      "source": [
        "# install achatbot"
      ],
      "metadata": {
        "id": "faBeNQ78ohag"
      }
    },
    {
      "cell_type": "code",
      "execution_count": null,
      "metadata": {
        "id": "8x2vZWM5sw13"
      },
      "outputs": [],
      "source": [
        "!cd /content && rm -rf achatbot && git clone --recursive https://github.com/ai-bot-pro/achatbot.git"
      ]
    },
    {
      "cell_type": "code",
      "source": [
        "%cd /content/achatbot\n"
      ],
      "metadata": {
        "id": "GiZ_hTJHnyNO"
      },
      "execution_count": null,
      "outputs": []
    },
    {
      "cell_type": "code",
      "source": [
        "!bash scripts/pypi_achatbot.sh dev\n"
      ],
      "metadata": {
        "id": "vMd1iWE0n2-d"
      },
      "execution_count": null,
      "outputs": []
    },
    {
      "cell_type": "code",
      "source": [
        "!pip install -q \"dist/achatbot-0.0.7.2-py3-none-any.whl[fastapi_bot_server,ngrok_proxy,websocket_server_transport,silero_vad_analyzer,sense_voice_asr,openai,google_ai,together_ai,tts_edge,queue]\"\n"
      ],
      "metadata": {
        "id": "zlYoQrrun5yE"
      },
      "execution_count": null,
      "outputs": []
    },
    {
      "cell_type": "markdown",
      "source": [
        "# init api key"
      ],
      "metadata": {
        "id": "71zChXIRobZr"
      }
    },
    {
      "cell_type": "markdown",
      "source": [
        "run bot task woker with bot.json, e.g.: dummy_bot.json\n",
        "\n",
        "- use websocket protocol audio stream\n",
        "- use openai/groq/together.ai api llm model need api key\n",
        "  - [openai](https://openai.com/) OPENAI_API_KEY\n",
        "  - [groq](https://groq.com/) GROQ_API_KEY\n",
        "  - [together.ai](https://www.together.ai/) TOGETHER_API_KEY\n",
        "- use image gen model:\n",
        "  - [openai](https://openai.com/) OPENAI_API_KEY\n",
        "  - [together.ai](https://www.together.ai/) TOGETHER_API_KEY\n",
        "  - [huggingface api](https://huggingface.co/docs/api-inference/tasks/text-to-image) HF_API_KEY\n",
        "\n",
        "\n"
      ],
      "metadata": {
        "id": "DVnxKXITzLnr"
      }
    },
    {
      "cell_type": "code",
      "source": [
        "from google.colab import userdata\n",
        "TOGETHER_API_KEY=userdata.get('TOGETHER_API_KEY')\n",
        "HF_TOKEN=userdata.get('HF_TOKEN')\n"
      ],
      "metadata": {
        "id": "OuKR4j5_x0jE"
      },
      "execution_count": null,
      "outputs": []
    },
    {
      "cell_type": "markdown",
      "source": [
        "# download model"
      ],
      "metadata": {
        "id": "gU0jr8ZZk1DE"
      }
    },
    {
      "cell_type": "code",
      "source": [
        "!huggingface-cli login --token $HF_TOKEN --add-to-git-credential"
      ],
      "metadata": {
        "id": "dcp1LW2bsHQ9"
      },
      "execution_count": null,
      "outputs": []
    },
    {
      "cell_type": "code",
      "source": [
        "!huggingface-cli download FunAudioLLM/SenseVoiceSmall  --local-dir ./models/FunAudioLLM/SenseVoiceSmall --local-dir-use-symlinks False\n"
      ],
      "metadata": {
        "id": "Ifz9IaK9GEzf"
      },
      "execution_count": null,
      "outputs": []
    },
    {
      "cell_type": "markdown",
      "source": [
        "# run bot with config"
      ],
      "metadata": {
        "id": "V7Yb6Yboo23u"
      }
    },
    {
      "cell_type": "code",
      "source": [
        "!cat /content/websocket_server_bot.json"
      ],
      "metadata": {
        "id": "TN0cN49ZH2uT"
      },
      "execution_count": null,
      "outputs": []
    },
    {
      "cell_type": "code",
      "source": [
        "!TOGETHER_API_KEY=$TOGETHER_API_KEY \\\n",
        "  python -m src.cmd.bots.main -f /content/websocket_server_bot.json"
      ],
      "metadata": {
        "id": "ftEP-y-AIFnx"
      },
      "execution_count": null,
      "outputs": []
    },
    {
      "cell_type": "markdown",
      "source": [
        "# http fastapi"
      ],
      "metadata": {
        "id": "Oe2CNw4rko6x"
      }
    },
    {
      "cell_type": "markdown",
      "source": [
        "ui: https://github.com/ai-bot-pro/nextjs-react-web-storytelling"
      ],
      "metadata": {
        "id": "Dtpwe0Km4XUq"
      }
    },
    {
      "cell_type": "markdown",
      "source": [
        "## use colab kernel proxy\n",
        "just use in google chrome,\n",
        "need cookie"
      ],
      "metadata": {
        "id": "H6wMzfE80Z6C"
      }
    },
    {
      "cell_type": "code",
      "source": [
        "from google.colab.output import eval_js\n",
        "print(eval_js(\"google.colab.kernel.proxyPort(8000)\"))"
      ],
      "metadata": {
        "id": "tfslf0JOknur"
      },
      "execution_count": null,
      "outputs": []
    },
    {
      "cell_type": "code",
      "source": [
        "# https://m08wf4l3jc-496ff2e9c6d22116-8000-colab.googleusercontent.com/docs\n",
        "# NOTE: just use in google chrome\n",
        "# for http api server on colab\n",
        "!DAILY_API_KEY=$DAILY_API_KEY TOGETHER_API_KEY=$TOGETHER_API_KEY \\\n",
        "  python -m src.cmd.http.server.fastapi_daily_bot_serve --port 8000\n"
      ],
      "metadata": {
        "id": "gr5hKyJUkdJv"
      },
      "execution_count": null,
      "outputs": []
    },
    {
      "cell_type": "markdown",
      "source": [
        "## use ngrok proxy"
      ],
      "metadata": {
        "id": "DGzgYv2i0oux"
      }
    },
    {
      "cell_type": "code",
      "source": [
        "from google.colab import userdata\n",
        "NGROK_TOKEN=userdata.get('NGROK_TOKEN')"
      ],
      "metadata": {
        "id": "dFB-u0CIvcPH"
      },
      "execution_count": null,
      "outputs": []
    },
    {
      "cell_type": "code",
      "source": [
        "!ngrok config add-authtoken $NGROK_TOKEN"
      ],
      "metadata": {
        "id": "zWxcqngtvOr5"
      },
      "execution_count": null,
      "outputs": []
    },
    {
      "cell_type": "code",
      "source": [
        "!TOGETHER_API_KEY=$TOGETHER_API_KEY \\\n",
        "  python -m src.cmd.http.server.fastapi_daily_bot_serve --port 8765 --ngrok 1"
      ],
      "metadata": {
        "id": "pcb6AhfN0yJ6"
      },
      "execution_count": null,
      "outputs": []
    },
    {
      "cell_type": "markdown",
      "source": [
        "# bot task queue redis"
      ],
      "metadata": {
        "id": "Q7PUaN2zksLf"
      }
    },
    {
      "cell_type": "code",
      "source": [
        "from google.colab import userdata\n",
        "REDIS_PASSWORD=userdata.get('REDIS_PASSWORD')\n"
      ],
      "metadata": {
        "id": "KWZaV2R6ICZ-"
      },
      "execution_count": null,
      "outputs": []
    },
    {
      "cell_type": "code",
      "source": [
        "!LOG_LEVEL=debug REDIS_PASSWORD=$REDIS_PASSWORD python -m src.cmd.bots.main -f /content/task_bot.json"
      ],
      "metadata": {
        "id": "4C5qgvz2IIXz"
      },
      "execution_count": null,
      "outputs": []
    }
  ]
}