{
  "nbformat": 4,
  "nbformat_minor": 0,
  "metadata": {
    "colab": {
      "provenance": [],
      "machine_shape": "hm",
      "authorship_tag": "ABX9TyPwK6hAF1YIW6xKfkLqFjI1",
      "include_colab_link": true
    },
    "kernelspec": {
      "name": "python3",
      "display_name": "Python 3"
    },
    "language_info": {
      "name": "python"
    }
  },
  "cells": [
    {
      "cell_type": "markdown",
      "metadata": {
        "id": "view-in-github",
        "colab_type": "text"
      },
      "source": [
        "<a href=\"https://colab.research.google.com/github/weedge/doraemon-nb/blob/main/achatbot_websocket_server_bot.ipynb\" target=\"_parent\"><img src=\"https://colab.research.google.com/assets/colab-badge.svg\" alt=\"Open In Colab\"/></a>"
      ]
    },
    {
      "cell_type": "markdown",
      "source": [
        "# install achatbot"
      ],
      "metadata": {
        "id": "faBeNQ78ohag"
      }
    },
    {
      "cell_type": "code",
      "execution_count": null,
      "metadata": {
        "id": "8x2vZWM5sw13"
      },
      "outputs": [],
      "source": [
        "!cd /content && rm -rf achatbot && git clone --recursive https://github.com/ai-bot-pro/achatbot.git"
      ]
    },
    {
      "cell_type": "code",
      "source": [
        "%cd /content/achatbot\n"
      ],
      "metadata": {
        "id": "GiZ_hTJHnyNO"
      },
      "execution_count": null,
      "outputs": []
    },
    {
      "cell_type": "code",
      "source": [
        "!bash scripts/pypi_achatbot.sh dev\n"
      ],
      "metadata": {
        "id": "vMd1iWE0n2-d"
      },
      "execution_count": null,
      "outputs": []
    },
    {
      "cell_type": "code",
      "source": [
        "!pip install -q \"dist/achatbot-0.0.7.2-py3-none-any.whl[fastapi_bot_server,ngrok_proxy,websocket_server_transport,silero_vad_analyzer,sense_voice_asr,openai,google_ai,together_ai,tts_edge,queue]\"\n"
      ],
      "metadata": {
        "id": "zlYoQrrun5yE"
      },
      "execution_count": null,
      "outputs": []
    },
    {
      "cell_type": "markdown",
      "source": [
        "# init api key"
      ],
      "metadata": {
        "id": "71zChXIRobZr"
      }
    },
    {
      "cell_type": "markdown",
      "source": [
        "run bot task woker with bot.json, e.g.: dummy_bot.json\n",
        "\n",
        "- use websocket protocol audio stream\n",
        "- use openai/groq/together.ai api llm model need api key\n",
        "  - [openai](https://openai.com/) OPENAI_API_KEY\n",
        "  - [groq](https://groq.com/) GROQ_API_KEY\n",
        "  - [together.ai](https://www.together.ai/) TOGETHER_API_KEY\n",
        "- use image gen model:\n",
        "  - [openai](https://openai.com/) OPENAI_API_KEY\n",
        "  - [together.ai](https://www.together.ai/) TOGETHER_API_KEY\n",
        "  - [huggingface api](https://huggingface.co/docs/api-inference/tasks/text-to-image) HF_API_KEY\n",
        "\n",
        "\n"
      ],
      "metadata": {
        "id": "DVnxKXITzLnr"
      }
    },
    {
      "cell_type": "code",
      "source": [
        "from google.colab import userdata\n",
        "TOGETHER_API_KEY=userdata.get('TOGETHER_API_KEY')\n",
        "HF_TOKEN=userdata.get('HF_TOKEN')\n"
      ],
      "metadata": {
        "id": "OuKR4j5_x0jE"
      },
      "execution_count": null,
      "outputs": []
    },
    {
      "cell_type": "markdown",
      "source": [
        "# download model"
      ],
      "metadata": {
        "id": "gU0jr8ZZk1DE"
      }
    },
    {
      "cell_type": "code",
      "source": [
        "!huggingface-cli login --token $HF_TOKEN --add-to-git-credential"
      ],
      "metadata": {
        "id": "dcp1LW2bsHQ9"
      },
      "execution_count": null,
      "outputs": []
    },
    {
      "cell_type": "code",
      "source": [
        "!huggingface-cli download FunAudioLLM/SenseVoiceSmall  --local-dir ./models/FunAudioLLM/SenseVoiceSmall --local-dir-use-symlinks False\n"
      ],
      "metadata": {
        "id": "Ifz9IaK9GEzf"
      },
      "execution_count": null,
      "outputs": []
    },
    {
      "cell_type": "markdown",
      "source": [
        "# run bot with config"
      ],
      "metadata": {
        "id": "V7Yb6Yboo23u"
      }
    },
    {
      "cell_type": "code",
      "source": [
        "!cat /content/websocket_server_bot.json"
      ],
      "metadata": {
        "id": "TN0cN49ZH2uT"
      },
      "execution_count": null,
      "outputs": []
    },
    {
      "cell_type": "code",
      "source": [
        "!TOGETHER_API_KEY=$TOGETHER_API_KEY \\\n",
        "  python -m src.cmd.bots.main -f /content/websocket_server_bot.json"
      ],
      "metadata": {
        "id": "ftEP-y-AIFnx"
      },
      "execution_count": null,
      "outputs": []
    },
    {
      "cell_type": "markdown",
      "source": [
        "# http fastapi"
      ],
      "metadata": {
        "id": "Oe2CNw4rko6x"
      }
    },
    {
      "cell_type": "markdown",
      "source": [
        "ui: https://github.com/ai-bot-pro/nextjs-react-web-storytelling"
      ],
      "metadata": {
        "id": "Dtpwe0Km4XUq"
      }
    },
    {
      "cell_type": "markdown",
      "source": [
        "## use colab kernel proxy\n",
        "just use in google chrome,\n",
        "need cookie"
      ],
      "metadata": {
        "id": "H6wMzfE80Z6C"
      }
    },
    {
      "cell_type": "code",
      "source": [
        "from google.colab.output import eval_js\n",
        "print(eval_js(\"google.colab.kernel.proxyPort(8000)\"))"
      ],
      "metadata": {
        "id": "tfslf0JOknur"
      },
      "execution_count": null,
      "outputs": []
    },
    {
      "cell_type": "code",
      "source": [
        "# https://m08wf4l3jc-496ff2e9c6d22116-8000-colab.googleusercontent.com/docs\n",
        "# NOTE: just use in google chrome\n",
        "# for http api server on colab\n",
        "!TOGETHER_API_KEY=$TOGETHER_API_KEY \\\n",
        "  python -m src.cmd.websocket.server.fastapi_ws_bot_serve --port 8000\n"
      ],
      "metadata": {
        "id": "gr5hKyJUkdJv"
      },
      "execution_count": null,
      "outputs": []
    },
    {
      "cell_type": "markdown",
      "source": [
        "## use ngrok proxy"
      ],
      "metadata": {
        "id": "DGzgYv2i0oux"
      }
    },
    {
      "cell_type": "code",
      "source": [
        "from google.colab import userdata\n",
        "NGROK_TOKEN=userdata.get('NGROK_TOKEN')"
      ],
      "metadata": {
        "id": "dFB-u0CIvcPH"
      },
      "execution_count": null,
      "outputs": []
    },
    {
      "cell_type": "code",
      "source": [
        "!ngrok config add-authtoken $NGROK_TOKEN"
      ],
      "metadata": {
        "id": "zWxcqngtvOr5"
      },
      "execution_count": null,
      "outputs": []
    },
    {
      "cell_type": "code",
      "source": [
        "!cat config/bots/fastapi_websocket_server_bot.json"
      ],
      "metadata": {
        "colab": {
          "base_uri": "https://localhost:8080/"
        },
        "id": "knXTccZCLhrW",
        "outputId": "88e3bdc9-dac7-4a66-c5ce-3ce83572b6fc"
      },
      "execution_count": 18,
      "outputs": [
        {
          "output_type": "stream",
          "name": "stdout",
          "text": [
            "{\n",
            "  \"chat_bot_name\": \"FastapiWebsocketServerBot\",\n",
            "  \"transport_type\": \"websocket\",\n",
            "  \"services\": {\n",
            "    \"pipeline\": \"achatbot\",\n",
            "    \"vad\": \"silero\",\n",
            "    \"asr\": \"sense_voice\",\n",
            "    \"llm\": \"together\",\n",
            "    \"tts\": \"edge\"\n",
            "  },\n",
            "  \"config\": {\n",
            "    \"vad\": {\n",
            "      \"tag\": \"silero_vad_analyzer\",\n",
            "      \"args\": { \"stop_secs\": 0.7 }\n",
            "    },\n",
            "    \"asr\": {\n",
            "      \"tag\": \"sense_voice_asr\",\n",
            "      \"args\": {\n",
            "        \"language\": \"zn\",\n",
            "        \"model_name_or_path\": \"./models/FunAudioLLM/SenseVoiceSmall\"\n",
            "      }\n",
            "    },\n",
            "    \"llm\": {\n",
            "      \"tag\": \"openai_llm_processor\",\n",
            "      \"base_url\": \"https://api.together.xyz/v1\",\n",
            "      \"model\": \"Qwen/Qwen2-72B-Instruct\",\n",
            "      \"language\": \"zh\",\n",
            "      \"messages\": [\n",
            "        {\n",
            "          \"role\": \"system\",\n",
            "          \"content\": \"你是一名叫奥利给的智能助理。保持回答简短和清晰。请用中文回答。\"\n",
            "        }\n",
            "      ]\n",
            "    },\n",
            "    \"tts\": {\n",
            "      \"tag\": \"tts_edge\",\n",
            "      \"args\": {\n",
            "        \"voice_name\": \"zh-CN-YunjianNeural\",\n",
            "        \"language\": \"zh\",\n",
            "        \"gender\": \"Male\"\n",
            "      }\n",
            "    }\n",
            "  },\n",
            "  \"config_list\": []\n",
            "}\n"
          ]
        }
      ]
    },
    {
      "cell_type": "code",
      "source": [
        "!TOGETHER_API_KEY=$TOGETHER_API_KEY \\\n",
        "  python -m src.cmd.websocket.server.fastapi_ws_bot_serve --port 8000 --ngrok 1"
      ],
      "metadata": {
        "colab": {
          "base_uri": "https://localhost:8080/"
        },
        "id": "pcb6AhfN0yJ6",
        "outputId": "4271ac2f-ae82-4e14-c7db-3c0d54bad586"
      },
      "execution_count": 20,
      "outputs": [
        {
          "output_type": "stream",
          "name": "stdout",
          "text": [
            "2024-11-05 16:36:37,798 - pyngrok.ngrok - INFO - /usr/local/lib/python3.10/dist-packages/pyngrok/ngrok.py:283 - connect - Opening tunnel named: http-8000-f436f5c2-93af-413b-a632-9d7486fe2bb4\n",
            "2024-11-05 16:36:37,821 - pyngrok.process.ngrok - INFO - /usr/local/lib/python3.10/dist-packages/pyngrok/process.py:99 - _log_line - t=2024-11-05T16:36:37+0000 lvl=info msg=\"no configuration paths supplied\"\n",
            "2024-11-05 16:36:37,822 - pyngrok.process.ngrok - INFO - /usr/local/lib/python3.10/dist-packages/pyngrok/process.py:99 - _log_line - t=2024-11-05T16:36:37+0000 lvl=info msg=\"using configuration at default config path\" path=/root/.config/ngrok/ngrok.yml\n",
            "2024-11-05 16:36:37,822 - pyngrok.process.ngrok - INFO - /usr/local/lib/python3.10/dist-packages/pyngrok/process.py:99 - _log_line - t=2024-11-05T16:36:37+0000 lvl=info msg=\"open config file\" path=/root/.config/ngrok/ngrok.yml err=nil\n",
            "2024-11-05 16:36:37,835 - pyngrok.process.ngrok - INFO - /usr/local/lib/python3.10/dist-packages/pyngrok/process.py:99 - _log_line - t=2024-11-05T16:36:37+0000 lvl=info msg=\"starting web service\" obj=web addr=127.0.0.1:4040 allow_hosts=[]\n",
            "2024-11-05 16:36:38,127 - pyngrok.process.ngrok - INFO - /usr/local/lib/python3.10/dist-packages/pyngrok/process.py:99 - _log_line - t=2024-11-05T16:36:38+0000 lvl=info msg=\"client session established\" obj=tunnels.session\n",
            "2024-11-05 16:36:38,127 - pyngrok.process.ngrok - INFO - /usr/local/lib/python3.10/dist-packages/pyngrok/process.py:99 - _log_line - t=2024-11-05T16:36:38+0000 lvl=info msg=\"tunnel session started\" obj=tunnels.session\n",
            "2024-11-05 16:36:38,130 - pyngrok.process.ngrok - INFO - /usr/local/lib/python3.10/dist-packages/pyngrok/process.py:99 - _log_line - t=2024-11-05T16:36:38+0000 lvl=info msg=start pg=/api/tunnels id=b820f0f4a009901e\n",
            "2024-11-05 16:36:38,131 - pyngrok.process.ngrok - INFO - /usr/local/lib/python3.10/dist-packages/pyngrok/process.py:99 - _log_line - t=2024-11-05T16:36:38+0000 lvl=info msg=end pg=/api/tunnels id=b820f0f4a009901e status=200 dur=256.94µs\n",
            "2024-11-05 16:36:38,131 - pyngrok.process.ngrok - INFO - /usr/local/lib/python3.10/dist-packages/pyngrok/process.py:99 - _log_line - t=2024-11-05T16:36:38+0000 lvl=info msg=start pg=/api/tunnels id=5fd752e82093cea0\n",
            "2024-11-05 16:36:38,131 - pyngrok.process.ngrok - INFO - /usr/local/lib/python3.10/dist-packages/pyngrok/process.py:99 - _log_line - t=2024-11-05T16:36:38+0000 lvl=info msg=end pg=/api/tunnels id=5fd752e82093cea0 status=200 dur=128.27µs\n",
            "2024-11-05 16:36:38,133 - pyngrok.process.ngrok - INFO - /usr/local/lib/python3.10/dist-packages/pyngrok/process.py:99 - _log_line - t=2024-11-05T16:36:38+0000 lvl=info msg=start pg=/api/tunnels id=bb2b4825cb22dfa4\n",
            "2024-11-05 16:36:38,160 - pyngrok.process.ngrok - INFO - /usr/local/lib/python3.10/dist-packages/pyngrok/process.py:99 - _log_line - t=2024-11-05T16:36:38+0000 lvl=info msg=\"started tunnel\" obj=tunnels name=http-8000-f436f5c2-93af-413b-a632-9d7486fe2bb4 addr=http://localhost:8000 url=https://6c36-34-70-251-33.ngrok-free.app\n",
            "2024-11-05 16:36:38,161 - pyngrok.process.ngrok - INFO - /usr/local/lib/python3.10/dist-packages/pyngrok/process.py:99 - _log_line - t=2024-11-05T16:36:38+0000 lvl=info msg=end pg=/api/tunnels id=bb2b4825cb22dfa4 status=201 dur=27.4067ms\n",
            "Public URL: https://6c36-34-70-251-33.ngrok-free.app\n",
            "\u001b[32mINFO\u001b[0m:     Started server process [\u001b[36m106399\u001b[0m]\n",
            "\u001b[32mINFO\u001b[0m:     Waiting for application startup.\n",
            "\u001b[32mINFO\u001b[0m:     Application startup complete.\n",
            "\u001b[32mINFO\u001b[0m:     Uvicorn running on \u001b[1mhttp://0.0.0.0:8000\u001b[0m (Press CTRL+C to quit)\n",
            "2024-11-05 16:37:01,816 - pyngrok.process.ngrok - INFO - /usr/local/lib/python3.10/dist-packages/pyngrok/process.py:99 - _log_line - t=2024-11-05T16:37:01+0000 lvl=info msg=\"join connections\" obj=join id=b9805549ab14 l=127.0.0.1:8000 r=156.146.53.93:60546\n",
            "2024-11-05 16:37:01,818 - chat-bot - INFO - /content/achatbot/src/cmd/websocket/server/fastapi_ws_bot_serve.py:39 - websocket_endpoint - bot:fastapi_websocket_server_bot client: Address(host='156.146.53.93', port=0)\n",
            "/content/achatbot/config/bots/fastapi_websocket_server_bot.json\n",
            "{\n",
            "    \"chat_bot_name\": \"FastapiWebsocketServerBot\",\n",
            "    \"config\": {\n",
            "        \"asr\": {\n",
            "            \"args\": {\n",
            "                \"language\": \"zn\",\n",
            "                \"model_name_or_path\": \"./models/FunAudioLLM/SenseVoiceSmall\"\n",
            "            },\n",
            "            \"tag\": \"sense_voice_asr\"\n",
            "        },\n",
            "        \"llm\": {\n",
            "            \"base_url\": \"https://api.together.xyz/v1\",\n",
            "            \"language\": \"zh\",\n",
            "            \"messages\": [\n",
            "                {\n",
            "                    \"content\": \"\\u4f60\\u662f\\u4e00\\u540d\\u53eb\\u5965\\u5229\\u7ed9\\u7684\\u667a\\u80fd\\u52a9\\u7406\\u3002\\u4fdd\\u6301\\u56de\\u7b54\\u7b80\\u77ed\\u548c\\u6e05\\u6670\\u3002\\u8bf7\\u7528\\u4e2d\\u6587\\u56de\\u7b54\\u3002\",\n",
            "                    \"role\": \"system\"\n",
            "                }\n",
            "            ],\n",
            "            \"model\": \"Qwen/Qwen2-72B-Instruct\",\n",
            "            \"tag\": \"openai_llm_processor\"\n",
            "        },\n",
            "        \"tts\": {\n",
            "            \"args\": {\n",
            "                \"gender\": \"Male\",\n",
            "                \"language\": \"zh\",\n",
            "                \"voice_name\": \"zh-CN-YunjianNeural\"\n",
            "            },\n",
            "            \"tag\": \"tts_edge\"\n",
            "        },\n",
            "        \"vad\": {\n",
            "            \"args\": {\n",
            "                \"stop_secs\": 0.7\n",
            "            },\n",
            "            \"tag\": \"silero_vad_analyzer\"\n",
            "        }\n",
            "    },\n",
            "    \"config_list\": [],\n",
            "    \"services\": {\n",
            "        \"asr\": \"sense_voice\",\n",
            "        \"llm\": \"together\",\n",
            "        \"pipeline\": \"achatbot\",\n",
            "        \"tts\": \"edge\",\n",
            "        \"vad\": \"silero\"\n",
            "    },\n",
            "    \"transport_type\": \"websocket\"\n",
            "}\n",
            "2024-11-05 16:37:01,819 - chat-bot - INFO - /content/achatbot/src/cmd/websocket/server/fastapi_ws_bot_serve.py:33 - load_bot_config_from_local - bot_info:is_agent=False chat_bot_name='FastapiWebsocketServerBot' config={'vad': {'tag': 'silero_vad_analyzer', 'args': {'stop_secs': 0.7}}, 'asr': {'tag': 'sense_voice_asr', 'args': {'language': 'zn', 'model_name_or_path': './models/FunAudioLLM/SenseVoiceSmall'}}, 'llm': {'tag': 'openai_llm_processor', 'base_url': 'https://api.together.xyz/v1', 'model': 'Qwen/Qwen2-72B-Instruct', 'language': 'zh', 'messages': [{'role': 'system', 'content': '你是一名叫奥利给的智能助理。保持回答简短和清晰。请用中文回答。'}]}, 'tts': {'tag': 'tts_edge', 'args': {'voice_name': 'zh-CN-YunjianNeural', 'language': 'zh', 'gender': 'Male'}}} room_name='chat-room' room_url='' token='' config_list=[] services={'pipeline': 'achatbot', 'vad': 'silero', 'asr': 'sense_voice', 'llm': 'together', 'tts': 'edge'} websocket_server_host='localhost' websocket_server_port=8765 transport_type='websocket' task_connector=None room_manager=None\n",
            "\u001b[32mINFO\u001b[0m:     ('156.146.53.93', 0) - \"WebSocket /fastapi_websocket_server_bot\" [accepted]\n",
            "2024-11-05 16:37:01,819 - chat-bot - INFO - /content/achatbot/src/cmd/websocket/server/fastapi_ws_bot_serve.py:48 - websocket_endpoint - bot:fastapi_websocket_server_bot accept client: Address(host='156.146.53.93', port=0)\n",
            "2024-11-05 16:37:01,819 - chat-bot - INFO - /content/achatbot/src/cmd/bots/base.py:63 - init_bot_config - ai bot_config: vad=VADConfig(tag='silero_vad_analyzer', args={'stop_secs': 0.7}) asr=ASRConfig(tag='sense_voice_asr', args={'language': 'zn', 'model_name_or_path': './models/FunAudioLLM/SenseVoiceSmall'}) llm=LLMConfig(base_url='https://api.together.xyz/v1', model='Qwen/Qwen2-72B-Instruct', language='zh', messages=[{'role': 'system', 'content': '你是一名叫奥利给的智能助理。保持回答简短和清晰。请用中文回答。'}], tools=None, tag='openai_llm_processor', args=None) vision_llm=None vision_detector=None vision_ocr=None tts=TTSConfig(voice=None, language=None, tag='tts_edge', args={'voice_name': 'zh-CN-YunjianNeural', 'language': 'zh', 'gender': 'Male'}) img_gen=None extends=None\n",
            "2024-11-05 16:37:03,441 - chat-bot - INFO - /content/achatbot/src/common/factory.py:68 - get_engine_by_tag - use silero_vad_analyzer engine\n",
            "2024-11-05 16:37:03,441 - chat-bot - INFO - /content/achatbot/src/common/factory.py:33 - get_instance - class: <class 'src.modules.speech.vad_analyzer.silero.SileroVADAnalyzer'> args: {'sample_rate': 16000, 'num_channels': 1, 'confidence': 0.7, 'start_secs': 0.2, 'stop_secs': 0.8, 'min_volume': 0.6, 'repo_or_dir': 'snakers4/silero-vad', 'model': 'silero_vad', 'source': 'github', 'force_reload': False, 'trust_repo': True, 'verbose': True, 'onnx': False, 'silero_sensitivity': 0.4, 'is_pad_tensor': True, 'check_frames_mode': 1}\n",
            "Using cache found in /root/.cache/torch/hub/snakers4_silero-vad_master\n",
            "2024-11-05 16:37:03,853 - chat-bot - INFO - /content/achatbot/src/modules/speech/vad_analyzer/__init__.py:60 - initVADAnalyzerEngine - initVADEngine: silero_vad_analyzer, TAG:silero_vad_analyzer | SileroVADAnalyzer\n",
            "2024-11-05 16:37:03,857 - chat-bot - INFO - /content/achatbot/src/common/factory.py:68 - get_engine_by_tag - use sense_voice_asr engine\n",
            "2024-11-05 16:37:03,857 - chat-bot - INFO - /content/achatbot/src/common/factory.py:33 - get_instance - class: <class 'src.modules.speech.asr.sense_voice_asr.SenseVoiceAsr'> args: {'download_path': '', 'model_name_or_path': './models/FunAudioLLM/SenseVoiceSmall', 'language': 'zn', 'verbose': True, 'prompt': '', 'sample_rate': 16000, 'device': None}\n",
            "2024-11-05 16:37:04,523 - numexpr.utils - INFO - /usr/local/lib/python3.10/dist-packages/numexpr/utils.py:161 - _init_num_threads - NumExpr defaulting to 8 threads.\n",
            "2024-11-05 16:37:06,662 - chat-bot - INFO - /usr/local/lib/python3.10/dist-packages/funasr/register.py:55 - decorator - New registry table added: preprocessor_classes\n",
            "Key Conformer already exists in model_classes, re-register\n",
            "2024-11-05 16:37:07,543 - chat-bot - INFO - /usr/local/lib/python3.10/dist-packages/funasr/register.py:55 - decorator - New registry table added: adaptor_classes\n",
            "Key Linear already exists in adaptor_classes, re-register\n",
            "Key TransformerDecoder already exists in decoder_classes, re-register\n",
            "Key LightweightConvolutionTransformerDecoder already exists in decoder_classes, re-register\n",
            "Key LightweightConvolution2DTransformerDecoder already exists in decoder_classes, re-register\n",
            "Key DynamicConvolutionTransformerDecoder already exists in decoder_classes, re-register\n",
            "Key DynamicConvolution2DTransformerDecoder already exists in decoder_classes, re-register\n",
            "2024-11-05 16:37:07,942 - chat-bot - INFO - /usr/local/lib/python3.10/dist-packages/funasr/register.py:55 - decorator - New registry table added: lid_predictor_classes\n",
            "Key SenseVoiceEncoderSmall already exists in encoder_classes, re-register\n",
            "Key SenseVoiceSmall already exists in model_classes, re-register\n",
            "2024-11-05 16:37:08,045 - chat-bot - INFO - /usr/local/lib/python3.10/dist-packages/funasr/auto/auto_model.py:177 - build_model - download models from model hub: ms\n",
            "Detect model requirements, begin to install it: ./models/FunAudioLLM/SenseVoiceSmall/requirements.txt\n",
            "install model requirements successfully\n",
            "Loading remote code failed: model, No module named 'model'\n",
            "2024-11-05 16:37:13,640 - chat-bot - INFO - /usr/local/lib/python3.10/dist-packages/funasr/auto/auto_model.py:269 - build_model - Loading pretrained params from ./models/FunAudioLLM/SenseVoiceSmall/model.pt\n",
            "2024-11-05 16:37:13,647 - chat-bot - INFO - /usr/local/lib/python3.10/dist-packages/funasr/train_utils/load_pretrained_model.py:36 - load_pretrained_model - ckpt: ./models/FunAudioLLM/SenseVoiceSmall/model.pt\n",
            "2024-11-05 16:37:16,082 - chat-bot - INFO - /usr/local/lib/python3.10/dist-packages/funasr/train_utils/load_pretrained_model.py:52 - load_pretrained_model - scope_map: ['module.', 'None']\n",
            "2024-11-05 16:37:16,082 - chat-bot - INFO - /usr/local/lib/python3.10/dist-packages/funasr/train_utils/load_pretrained_model.py:58 - load_pretrained_model - excludes: None\n",
            "2024-11-05 16:37:16,156 - chat-bot - INFO - /usr/local/lib/python3.10/dist-packages/funasr/train_utils/load_pretrained_model.py:103 - load_pretrained_model - Loading ckpt: ./models/FunAudioLLM/SenseVoiceSmall/model.pt, status: <All keys matched successfully>\n",
            "2024-11-05 16:37:16,475 - chat-bot - INFO - /content/achatbot/src/common/factory.py:68 - get_engine_by_tag - use tts_edge engine\n",
            "2024-11-05 16:37:16,475 - chat-bot - INFO - /content/achatbot/src/common/factory.py:33 - get_instance - class: <class 'src.modules.speech.tts.edge_tts.EdgeTTS'> args: {'language': 'zh', 'gender': 'Male', 'voice_name': 'zh-CN-YunjianNeural', 'rate': '+15%', 'volume': '+0%', 'pitch': '+0Hz'}\n",
            "\u001b[32mINFO\u001b[0m:     connection open\n",
            "2024-11-05 16:37:16,479 - chat-bot - INFO - /content/achatbot/src/cmd/bots/fastapi_websocket_server_bot.py:95 - on_client_connected - on_client_disconnected client:Address(host='156.146.53.93', port=0)\n",
            "2024-11-05 16:37:16,479 - chat-bot - INFO - /content/achatbot/src/processors/llm/openai_llm_processor.py:106 - _stream_chat_completions - Generating chat context messages: [{\"role\": \"system\", \"content\": \"\\u4f60\\u662f\\u4e00\\u540d\\u53eb\\u5965\\u5229\\u7ed9\\u7684\\u667a\\u80fd\\u52a9\\u7406\\u3002\\u4fdd\\u6301\\u56de\\u7b54\\u7b80\\u77ed\\u548c\\u6e05\\u6670\\u3002\\u8bf7\\u7528\\u4e2d\\u6587\\u56de\\u7b54\\u3002\", \"name\": \"system\"}, {\"role\": \"user\", \"content\": \"\\u8bf7\\u7528\\u4e2d\\u6587\\u4ecb\\u7ecd\\u4e0b\\u81ea\\u5df1\\u3002\", \"name\": \"user\"}]\n",
            "2024-11-05 16:37:16,865 - httpx - INFO - /usr/local/lib/python3.10/dist-packages/httpx/_client.py:1786 - _send_single_request - HTTP Request: POST https://api.together.xyz/v1/chat/completions \"HTTP/1.1 200 OK\"\n",
            "2024-11-05 16:37:17,146 - chat-bot - INFO - /content/achatbot/src/processors/speech/tts/tts_processor.py:54 - run_tts - Generating TTS: [我叫奥利给，是一名智能助理，可以帮你处理各种问题和任务。]\n",
            "2024-11-05 16:37:27,963 - chat-bot - WARNING - /usr/local/lib/python3.10/dist-packages/apipeline/serializers/protobuf.py:25 - serialize - Frame type <class 'apipeline.frames.sys_frames.StartInterruptionFrame'> is not serializable\n",
            "2024-11-05 16:37:27,964 - chat-bot - WARNING - /usr/local/lib/python3.10/dist-packages/apipeline/serializers/protobuf.py:25 - serialize - Frame type <class 'apipeline.frames.sys_frames.StartInterruptionFrame'> is not serializable\n",
            "2024-11-05 16:37:29,549 - chat-bot - INFO - /content/achatbot/src/processors/speech/asr/asr_processor.py:67 - run_asr - sense_voice_asr Transcription: [讲一个故事]\n",
            "2024-11-05 16:37:29,554 - chat-bot - INFO - /content/achatbot/src/processors/llm/openai_llm_processor.py:106 - _stream_chat_completions - Generating chat context messages: [{\"role\": \"system\", \"content\": \"\\u4f60\\u662f\\u4e00\\u540d\\u53eb\\u5965\\u5229\\u7ed9\\u7684\\u667a\\u80fd\\u52a9\\u7406\\u3002\\u4fdd\\u6301\\u56de\\u7b54\\u7b80\\u77ed\\u548c\\u6e05\\u6670\\u3002\\u8bf7\\u7528\\u4e2d\\u6587\\u56de\\u7b54\\u3002\", \"name\": \"system\"}, {\"role\": \"user\", \"content\": \"\\u8bf7\\u7528\\u4e2d\\u6587\\u4ecb\\u7ecd\\u4e0b\\u81ea\\u5df1\\u3002\", \"name\": \"user\"}, {\"role\": \"assistant\", \"content\": \" \\u6211\\u53eb\\u5965\\u5229\\u7ed9\\uff0c\\u662f\\u4e00\\u540d\\u667a\\u80fd\\u52a9\\u7406\\uff0c\\u53ef\\u4ee5\\u5e2e\\u4f60\\u5904\\u7406\\u5404\\u79cd\\u95ee\\u9898\\u548c\\u4efb\\u52a1\\u3002\", \"name\": \"assistant\"}, {\"role\": \"user\", \"content\": \" \\u8bb2\\u4e00\\u4e2a\\u6545\\u4e8b\", \"name\": \"user\"}]\n",
            "2024-11-05 16:37:29,798 - httpx - INFO - /usr/local/lib/python3.10/dist-packages/httpx/_client.py:1786 - _send_single_request - HTTP Request: POST https://api.together.xyz/v1/chat/completions \"HTTP/1.1 200 OK\"\n",
            "2024-11-05 16:37:30,099 - chat-bot - INFO - /content/achatbot/src/processors/speech/tts/tts_processor.py:54 - run_tts - Generating TTS: [从前，有个小村庄，里面住着一个勇敢的小孩。]\n",
            "2024-11-05 16:37:31,499 - chat-bot - INFO - /content/achatbot/src/processors/speech/tts/tts_processor.py:54 - run_tts - Generating TTS: [一天，村庄被一只恶龙袭击，小孩决定挺身而出，保护家园。]\n",
            "2024-11-05 16:37:32,781 - chat-bot - INFO - /content/achatbot/src/processors/speech/tts/tts_processor.py:54 - run_tts - Generating TTS: [他勇敢地面对恶龙，用智慧和勇气战胜了它，拯救了村庄。]\n",
            "2024-11-05 16:37:34,012 - chat-bot - INFO - /content/achatbot/src/processors/speech/tts/tts_processor.py:54 - run_tts - Generating TTS: [从此，小孩成为了村庄的英雄，被大家尊敬和爱戴。]\n",
            "2024-11-05 16:37:36,387 - chat-bot - INFO - /content/achatbot/src/processors/speech/tts/tts_processor.py:54 - run_tts - Generating TTS: [这个故事告诉我们，勇气和智慧可以战胜一切困难。]\n",
            "2024-11-05 16:37:59,435 - chat-bot - WARNING - /usr/local/lib/python3.10/dist-packages/apipeline/pipeline/runner.py:53 - _sig_handler - Interruption detected. Canceling runner PipelineRunner#0\n",
            "2024-11-05 16:37:59,436 - chat-bot - WARNING - /usr/local/lib/python3.10/dist-packages/apipeline/pipeline/runner.py:53 - _sig_handler - Interruption detected. Canceling runner PipelineRunner#0\n",
            "2024-11-05 16:37:59,437 - pyngrok.process.ngrok - INFO - /usr/local/lib/python3.10/dist-packages/pyngrok/process.py:99 - _log_line - t=2024-11-05T16:37:59+0000 lvl=info msg=\"received stop request\" obj=app stopReq=\"{err:<nil> restart:false}\"\n",
            "2024-11-05 16:37:59,437 - pyngrok.process.ngrok - INFO - /usr/local/lib/python3.10/dist-packages/pyngrok/process.py:99 - _log_line - t=2024-11-05T16:37:59+0000 lvl=info msg=\"session closing\" obj=tunnels.session err=nil\n",
            "2024-11-05 16:37:59,437 - pyngrok.process.ngrok - INFO - /usr/local/lib/python3.10/dist-packages/pyngrok/process.py:99 - _log_line - t=2024-11-05T16:37:59+0000 lvl=info msg=\"accept failed\" obj=tunnels.session obj=csess id=937f1f10888a err=\"reconnecting session closed\"\n",
            "2024-11-05 16:37:59,439 - chat-bot - INFO - /content/achatbot/src/cmd/bots/fastapi_websocket_server_bot.py:117 - on_client_disconnected - on_client_disconnected client:Address(host='156.146.53.93', port=0)\n",
            "\u001b[32mINFO\u001b[0m:     connection closed\n",
            "2024-11-05 16:38:09,376 - chat-bot - WARNING - /usr/local/lib/python3.10/dist-packages/apipeline/pipeline/runner.py:53 - _sig_handler - Interruption detected. Canceling runner PipelineRunner#0\n",
            "2024-11-05 16:38:09,376 - chat-bot - WARNING - /usr/local/lib/python3.10/dist-packages/apipeline/pipeline/runner.py:53 - _sig_handler - Interruption detected. Canceling runner PipelineRunner#0\n",
            "^C\n"
          ]
        }
      ]
    },
    {
      "cell_type": "markdown",
      "source": [
        "# bot task queue redis"
      ],
      "metadata": {
        "id": "Q7PUaN2zksLf"
      }
    },
    {
      "cell_type": "code",
      "source": [
        "from google.colab import userdata\n",
        "REDIS_PASSWORD=userdata.get('REDIS_PASSWORD')\n"
      ],
      "metadata": {
        "id": "KWZaV2R6ICZ-"
      },
      "execution_count": null,
      "outputs": []
    },
    {
      "cell_type": "code",
      "source": [
        "!LOG_LEVEL=debug REDIS_PASSWORD=$REDIS_PASSWORD python -m src.cmd.bots.main -f /content/task_bot.json"
      ],
      "metadata": {
        "id": "4C5qgvz2IIXz"
      },
      "execution_count": null,
      "outputs": []
    }
  ]
}