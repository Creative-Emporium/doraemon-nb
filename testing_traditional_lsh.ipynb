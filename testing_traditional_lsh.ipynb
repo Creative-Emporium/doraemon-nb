{
  "cells": [
    {
      "cell_type": "markdown",
      "metadata": {
        "id": "view-in-github",
        "colab_type": "text"
      },
      "source": [
        "<a href=\"https://colab.research.google.com/github/weedge/doraemon-nb/blob/main/testing_traditional_lsh.ipynb\" target=\"_parent\"><img src=\"https://colab.research.google.com/assets/colab-badge.svg\" alt=\"Open In Colab\"/></a>"
      ]
    },
    {
      "cell_type": "markdown",
      "metadata": {
        "id": "rvj6Q5SKxMU0"
      },
      "source": [
        "# Testing LSH\n",
        "\n",
        "This notebook covers the implementation (with Numpy) and testing of a traditional LSH process. Covering shingling, MinHashing, and a straightforward LSH banding process for identifying candidate pairs.\n",
        "\n",
        "The first thing we need is data."
      ]
    },
    {
      "cell_type": "code",
      "execution_count": 1,
      "metadata": {
        "id": "HVecVtf_xMU1",
        "outputId": "0e68fd20-eeff-43a9-fbee-6db8a8f9596e",
        "colab": {
          "base_uri": "https://localhost:8080/",
          "height": 206
        }
      },
      "outputs": [
        {
          "output_type": "execute_result",
          "data": {
            "text/plain": [
              "   pair_ID                                         sentence_A  \\\n",
              "0        1  A group of kids is playing in a yard and an ol...   \n",
              "1        2  A group of children is playing in the house an...   \n",
              "2        3  The young boys are playing outdoors and the ma...   \n",
              "3        5  The kids are playing outdoors near a man with ...   \n",
              "4        9  The young boys are playing outdoors and the ma...   \n",
              "\n",
              "                                          sentence_B  relatedness_score  \\\n",
              "0  A group of boys in a yard is playing and a man...                4.5   \n",
              "1  A group of kids is playing in a yard and an ol...                3.2   \n",
              "2  The kids are playing outdoors near a man with ...                4.7   \n",
              "3  A group of kids is playing in a yard and an ol...                3.4   \n",
              "4  A group of kids is playing in a yard and an ol...                3.7   \n",
              "\n",
              "  entailment_judgment  \n",
              "0             NEUTRAL  \n",
              "1             NEUTRAL  \n",
              "2          ENTAILMENT  \n",
              "3             NEUTRAL  \n",
              "4             NEUTRAL  "
            ],
            "text/html": [
              "\n",
              "  <div id=\"df-de4d3626-30ee-44de-ad83-d594cd587020\" class=\"colab-df-container\">\n",
              "    <div>\n",
              "<style scoped>\n",
              "    .dataframe tbody tr th:only-of-type {\n",
              "        vertical-align: middle;\n",
              "    }\n",
              "\n",
              "    .dataframe tbody tr th {\n",
              "        vertical-align: top;\n",
              "    }\n",
              "\n",
              "    .dataframe thead th {\n",
              "        text-align: right;\n",
              "    }\n",
              "</style>\n",
              "<table border=\"1\" class=\"dataframe\">\n",
              "  <thead>\n",
              "    <tr style=\"text-align: right;\">\n",
              "      <th></th>\n",
              "      <th>pair_ID</th>\n",
              "      <th>sentence_A</th>\n",
              "      <th>sentence_B</th>\n",
              "      <th>relatedness_score</th>\n",
              "      <th>entailment_judgment</th>\n",
              "    </tr>\n",
              "  </thead>\n",
              "  <tbody>\n",
              "    <tr>\n",
              "      <th>0</th>\n",
              "      <td>1</td>\n",
              "      <td>A group of kids is playing in a yard and an ol...</td>\n",
              "      <td>A group of boys in a yard is playing and a man...</td>\n",
              "      <td>4.5</td>\n",
              "      <td>NEUTRAL</td>\n",
              "    </tr>\n",
              "    <tr>\n",
              "      <th>1</th>\n",
              "      <td>2</td>\n",
              "      <td>A group of children is playing in the house an...</td>\n",
              "      <td>A group of kids is playing in a yard and an ol...</td>\n",
              "      <td>3.2</td>\n",
              "      <td>NEUTRAL</td>\n",
              "    </tr>\n",
              "    <tr>\n",
              "      <th>2</th>\n",
              "      <td>3</td>\n",
              "      <td>The young boys are playing outdoors and the ma...</td>\n",
              "      <td>The kids are playing outdoors near a man with ...</td>\n",
              "      <td>4.7</td>\n",
              "      <td>ENTAILMENT</td>\n",
              "    </tr>\n",
              "    <tr>\n",
              "      <th>3</th>\n",
              "      <td>5</td>\n",
              "      <td>The kids are playing outdoors near a man with ...</td>\n",
              "      <td>A group of kids is playing in a yard and an ol...</td>\n",
              "      <td>3.4</td>\n",
              "      <td>NEUTRAL</td>\n",
              "    </tr>\n",
              "    <tr>\n",
              "      <th>4</th>\n",
              "      <td>9</td>\n",
              "      <td>The young boys are playing outdoors and the ma...</td>\n",
              "      <td>A group of kids is playing in a yard and an ol...</td>\n",
              "      <td>3.7</td>\n",
              "      <td>NEUTRAL</td>\n",
              "    </tr>\n",
              "  </tbody>\n",
              "</table>\n",
              "</div>\n",
              "    <div class=\"colab-df-buttons\">\n",
              "\n",
              "  <div class=\"colab-df-container\">\n",
              "    <button class=\"colab-df-convert\" onclick=\"convertToInteractive('df-de4d3626-30ee-44de-ad83-d594cd587020')\"\n",
              "            title=\"Convert this dataframe to an interactive table.\"\n",
              "            style=\"display:none;\">\n",
              "\n",
              "  <svg xmlns=\"http://www.w3.org/2000/svg\" height=\"24px\" viewBox=\"0 -960 960 960\">\n",
              "    <path d=\"M120-120v-720h720v720H120Zm60-500h600v-160H180v160Zm220 220h160v-160H400v160Zm0 220h160v-160H400v160ZM180-400h160v-160H180v160Zm440 0h160v-160H620v160ZM180-180h160v-160H180v160Zm440 0h160v-160H620v160Z\"/>\n",
              "  </svg>\n",
              "    </button>\n",
              "\n",
              "  <style>\n",
              "    .colab-df-container {\n",
              "      display:flex;\n",
              "      gap: 12px;\n",
              "    }\n",
              "\n",
              "    .colab-df-convert {\n",
              "      background-color: #E8F0FE;\n",
              "      border: none;\n",
              "      border-radius: 50%;\n",
              "      cursor: pointer;\n",
              "      display: none;\n",
              "      fill: #1967D2;\n",
              "      height: 32px;\n",
              "      padding: 0 0 0 0;\n",
              "      width: 32px;\n",
              "    }\n",
              "\n",
              "    .colab-df-convert:hover {\n",
              "      background-color: #E2EBFA;\n",
              "      box-shadow: 0px 1px 2px rgba(60, 64, 67, 0.3), 0px 1px 3px 1px rgba(60, 64, 67, 0.15);\n",
              "      fill: #174EA6;\n",
              "    }\n",
              "\n",
              "    .colab-df-buttons div {\n",
              "      margin-bottom: 4px;\n",
              "    }\n",
              "\n",
              "    [theme=dark] .colab-df-convert {\n",
              "      background-color: #3B4455;\n",
              "      fill: #D2E3FC;\n",
              "    }\n",
              "\n",
              "    [theme=dark] .colab-df-convert:hover {\n",
              "      background-color: #434B5C;\n",
              "      box-shadow: 0px 1px 3px 1px rgba(0, 0, 0, 0.15);\n",
              "      filter: drop-shadow(0px 1px 2px rgba(0, 0, 0, 0.3));\n",
              "      fill: #FFFFFF;\n",
              "    }\n",
              "  </style>\n",
              "\n",
              "    <script>\n",
              "      const buttonEl =\n",
              "        document.querySelector('#df-de4d3626-30ee-44de-ad83-d594cd587020 button.colab-df-convert');\n",
              "      buttonEl.style.display =\n",
              "        google.colab.kernel.accessAllowed ? 'block' : 'none';\n",
              "\n",
              "      async function convertToInteractive(key) {\n",
              "        const element = document.querySelector('#df-de4d3626-30ee-44de-ad83-d594cd587020');\n",
              "        const dataTable =\n",
              "          await google.colab.kernel.invokeFunction('convertToInteractive',\n",
              "                                                    [key], {});\n",
              "        if (!dataTable) return;\n",
              "\n",
              "        const docLinkHtml = 'Like what you see? Visit the ' +\n",
              "          '<a target=\"_blank\" href=https://colab.research.google.com/notebooks/data_table.ipynb>data table notebook</a>'\n",
              "          + ' to learn more about interactive tables.';\n",
              "        element.innerHTML = '';\n",
              "        dataTable['output_type'] = 'display_data';\n",
              "        await google.colab.output.renderOutput(dataTable, element);\n",
              "        const docLink = document.createElement('div');\n",
              "        docLink.innerHTML = docLinkHtml;\n",
              "        element.appendChild(docLink);\n",
              "      }\n",
              "    </script>\n",
              "  </div>\n",
              "\n",
              "\n",
              "<div id=\"df-404da873-c348-4ead-8b4c-2d3938bc0d2e\">\n",
              "  <button class=\"colab-df-quickchart\" onclick=\"quickchart('df-404da873-c348-4ead-8b4c-2d3938bc0d2e')\"\n",
              "            title=\"Suggest charts.\"\n",
              "            style=\"display:none;\">\n",
              "\n",
              "<svg xmlns=\"http://www.w3.org/2000/svg\" height=\"24px\"viewBox=\"0 0 24 24\"\n",
              "     width=\"24px\">\n",
              "    <g>\n",
              "        <path d=\"M19 3H5c-1.1 0-2 .9-2 2v14c0 1.1.9 2 2 2h14c1.1 0 2-.9 2-2V5c0-1.1-.9-2-2-2zM9 17H7v-7h2v7zm4 0h-2V7h2v10zm4 0h-2v-4h2v4z\"/>\n",
              "    </g>\n",
              "</svg>\n",
              "  </button>\n",
              "\n",
              "<style>\n",
              "  .colab-df-quickchart {\n",
              "      --bg-color: #E8F0FE;\n",
              "      --fill-color: #1967D2;\n",
              "      --hover-bg-color: #E2EBFA;\n",
              "      --hover-fill-color: #174EA6;\n",
              "      --disabled-fill-color: #AAA;\n",
              "      --disabled-bg-color: #DDD;\n",
              "  }\n",
              "\n",
              "  [theme=dark] .colab-df-quickchart {\n",
              "      --bg-color: #3B4455;\n",
              "      --fill-color: #D2E3FC;\n",
              "      --hover-bg-color: #434B5C;\n",
              "      --hover-fill-color: #FFFFFF;\n",
              "      --disabled-bg-color: #3B4455;\n",
              "      --disabled-fill-color: #666;\n",
              "  }\n",
              "\n",
              "  .colab-df-quickchart {\n",
              "    background-color: var(--bg-color);\n",
              "    border: none;\n",
              "    border-radius: 50%;\n",
              "    cursor: pointer;\n",
              "    display: none;\n",
              "    fill: var(--fill-color);\n",
              "    height: 32px;\n",
              "    padding: 0;\n",
              "    width: 32px;\n",
              "  }\n",
              "\n",
              "  .colab-df-quickchart:hover {\n",
              "    background-color: var(--hover-bg-color);\n",
              "    box-shadow: 0 1px 2px rgba(60, 64, 67, 0.3), 0 1px 3px 1px rgba(60, 64, 67, 0.15);\n",
              "    fill: var(--button-hover-fill-color);\n",
              "  }\n",
              "\n",
              "  .colab-df-quickchart-complete:disabled,\n",
              "  .colab-df-quickchart-complete:disabled:hover {\n",
              "    background-color: var(--disabled-bg-color);\n",
              "    fill: var(--disabled-fill-color);\n",
              "    box-shadow: none;\n",
              "  }\n",
              "\n",
              "  .colab-df-spinner {\n",
              "    border: 2px solid var(--fill-color);\n",
              "    border-color: transparent;\n",
              "    border-bottom-color: var(--fill-color);\n",
              "    animation:\n",
              "      spin 1s steps(1) infinite;\n",
              "  }\n",
              "\n",
              "  @keyframes spin {\n",
              "    0% {\n",
              "      border-color: transparent;\n",
              "      border-bottom-color: var(--fill-color);\n",
              "      border-left-color: var(--fill-color);\n",
              "    }\n",
              "    20% {\n",
              "      border-color: transparent;\n",
              "      border-left-color: var(--fill-color);\n",
              "      border-top-color: var(--fill-color);\n",
              "    }\n",
              "    30% {\n",
              "      border-color: transparent;\n",
              "      border-left-color: var(--fill-color);\n",
              "      border-top-color: var(--fill-color);\n",
              "      border-right-color: var(--fill-color);\n",
              "    }\n",
              "    40% {\n",
              "      border-color: transparent;\n",
              "      border-right-color: var(--fill-color);\n",
              "      border-top-color: var(--fill-color);\n",
              "    }\n",
              "    60% {\n",
              "      border-color: transparent;\n",
              "      border-right-color: var(--fill-color);\n",
              "    }\n",
              "    80% {\n",
              "      border-color: transparent;\n",
              "      border-right-color: var(--fill-color);\n",
              "      border-bottom-color: var(--fill-color);\n",
              "    }\n",
              "    90% {\n",
              "      border-color: transparent;\n",
              "      border-bottom-color: var(--fill-color);\n",
              "    }\n",
              "  }\n",
              "</style>\n",
              "\n",
              "  <script>\n",
              "    async function quickchart(key) {\n",
              "      const quickchartButtonEl =\n",
              "        document.querySelector('#' + key + ' button');\n",
              "      quickchartButtonEl.disabled = true;  // To prevent multiple clicks.\n",
              "      quickchartButtonEl.classList.add('colab-df-spinner');\n",
              "      try {\n",
              "        const charts = await google.colab.kernel.invokeFunction(\n",
              "            'suggestCharts', [key], {});\n",
              "      } catch (error) {\n",
              "        console.error('Error during call to suggestCharts:', error);\n",
              "      }\n",
              "      quickchartButtonEl.classList.remove('colab-df-spinner');\n",
              "      quickchartButtonEl.classList.add('colab-df-quickchart-complete');\n",
              "    }\n",
              "    (() => {\n",
              "      let quickchartButtonEl =\n",
              "        document.querySelector('#df-404da873-c348-4ead-8b4c-2d3938bc0d2e button');\n",
              "      quickchartButtonEl.style.display =\n",
              "        google.colab.kernel.accessAllowed ? 'block' : 'none';\n",
              "    })();\n",
              "  </script>\n",
              "</div>\n",
              "    </div>\n",
              "  </div>\n"
            ]
          },
          "metadata": {},
          "execution_count": 1
        }
      ],
      "source": [
        "import requests\n",
        "import pandas as pd\n",
        "import numpy as np\n",
        "import io\n",
        "\n",
        "url = \"https://raw.githubusercontent.com/brmson/dataset-sts/master/data/sts/sick2014/SICK_train.txt\"\n",
        "\n",
        "text = requests.get(url).text\n",
        "\n",
        "data = pd.read_csv(io.StringIO(text), sep='\\t')\n",
        "data.head()"
      ]
    },
    {
      "cell_type": "markdown",
      "metadata": {
        "id": "HidEmwqMxMU3"
      },
      "source": [
        "We will take the text from just one column."
      ]
    },
    {
      "cell_type": "code",
      "execution_count": 2,
      "metadata": {
        "id": "J52FC17oxMU4",
        "outputId": "a6461d0b-f630-42ab-dbde-346a00e6d0ba",
        "colab": {
          "base_uri": "https://localhost:8080/"
        }
      },
      "outputs": [
        {
          "output_type": "execute_result",
          "data": {
            "text/plain": [
              "['A group of kids is playing in a yard and an old man is standing in the background',\n",
              " 'A group of children is playing in the house and there is no man standing in the background',\n",
              " 'The young boys are playing outdoors and the man is smiling nearby']"
            ]
          },
          "metadata": {},
          "execution_count": 2
        }
      ],
      "source": [
        "sentences = data['sentence_A'].tolist()\n",
        "sentences[:3]"
      ]
    },
    {
      "cell_type": "markdown",
      "metadata": {
        "id": "u_AcLEkXxMU4"
      },
      "source": [
        "We have our data, now to shingle and one-hot encode it."
      ]
    },
    {
      "cell_type": "code",
      "execution_count": 3,
      "metadata": {
        "id": "qYLcgd3axMU5"
      },
      "outputs": [],
      "source": [
        "def build_shingles(sentence: str, k: int):\n",
        "    shingles = []\n",
        "    for i in range(len(sentence) - k):\n",
        "        shingles.append(sentence[i:i+k])\n",
        "    return set(shingles)\n",
        "\n",
        "def build_vocab(shingle_sets: list):\n",
        "    # convert list of shingle sets into single set\n",
        "    full_set = {item for set_ in shingle_sets for item in set_}\n",
        "    vocab = {}\n",
        "    for i, shingle in enumerate(list(full_set)):\n",
        "        vocab[shingle] = i\n",
        "    return vocab\n",
        "\n",
        "def one_hot(shingles: set, vocab: dict):\n",
        "    vec = np.zeros(len(vocab))\n",
        "    for shingle in shingles:\n",
        "        idx = vocab[shingle]\n",
        "        vec[idx] = 1\n",
        "    return vec"
      ]
    },
    {
      "cell_type": "code",
      "execution_count": 4,
      "metadata": {
        "id": "o8AL7siexMU5",
        "outputId": "ef6694a0-7319-4644-f03a-8f7f756c53b3",
        "colab": {
          "base_uri": "https://localhost:8080/"
        }
      },
      "outputs": [
        {
          "output_type": "stream",
          "name": "stdout",
          "text": [
            "4500\n"
          ]
        },
        {
          "output_type": "execute_result",
          "data": {
            "text/plain": [
              "(4500, 36466)"
            ]
          },
          "metadata": {},
          "execution_count": 4
        }
      ],
      "source": [
        "k = 8  # shingle size\n",
        "\n",
        "# build shingles\n",
        "shingles = []\n",
        "for sentence in sentences:\n",
        "    shingles.append(build_shingles(sentence, k))\n",
        "print(len(shingles))\n",
        "# build vocab\n",
        "vocab = build_vocab(shingles)\n",
        "\n",
        "# one-hot encode our shingles\n",
        "shingles_1hot = []\n",
        "for shingle_set in shingles:\n",
        "    shingles_1hot.append(one_hot(shingle_set, vocab))\n",
        "# stack into single numpy array\n",
        "shingles_1hot = np.stack(shingles_1hot)\n",
        "shingles_1hot.shape"
      ]
    },
    {
      "cell_type": "code",
      "execution_count": 5,
      "metadata": {
        "id": "ziUr8l2qxMU6",
        "outputId": "30853c97-e2c1-45f0-91eb-b9c3d5cf0a8f",
        "colab": {
          "base_uri": "https://localhost:8080/"
        }
      },
      "outputs": [
        {
          "output_type": "execute_result",
          "data": {
            "text/plain": [
              "array([[0., 0., 0., ..., 0., 0., 0.],\n",
              "       [0., 0., 0., ..., 0., 0., 0.],\n",
              "       [0., 0., 0., ..., 0., 0., 0.],\n",
              "       [0., 0., 0., ..., 0., 0., 0.],\n",
              "       [0., 0., 0., ..., 0., 0., 0.]])"
            ]
          },
          "metadata": {},
          "execution_count": 5
        }
      ],
      "source": [
        "shingles_1hot[:5]"
      ]
    },
    {
      "cell_type": "code",
      "execution_count": 6,
      "metadata": {
        "id": "GfO2lahZxMU7",
        "outputId": "478847f7-8552-450f-8efe-c2b813c96e7e",
        "colab": {
          "base_uri": "https://localhost:8080/"
        }
      },
      "outputs": [
        {
          "output_type": "execute_result",
          "data": {
            "text/plain": [
              "73.0"
            ]
          },
          "metadata": {},
          "execution_count": 6
        }
      ],
      "source": [
        "sum(shingles_1hot[0])  # confirm we have 1s"
      ]
    },
    {
      "cell_type": "markdown",
      "metadata": {
        "id": "ZHuJHrI0xMU7"
      },
      "source": [
        "## MinHash\n",
        "\n",
        "Now we move onto minhashing, first we need to create functions for building a range of minhash vectors, and another to process our sparse vectors through this minhash array - to produce our signatures."
      ]
    },
    {
      "cell_type": "code",
      "execution_count": 7,
      "metadata": {
        "id": "y8kr64SGxMU8"
      },
      "outputs": [],
      "source": [
        "def minhash_arr(vocab: dict, resolution: int):\n",
        "    length = len(vocab.keys())\n",
        "    arr = np.zeros((resolution, length))\n",
        "    for i in range(resolution):\n",
        "        permutation = np.random.permutation(len(vocab)) + 1\n",
        "        arr[i, :] = permutation.copy()\n",
        "    return arr.astype(int)\n",
        "\n",
        "def get_signature(minhash, vector):\n",
        "    # get index locations of every 1 value in vector\n",
        "    idx = np.nonzero(vector)[0].tolist()\n",
        "    # use index locations to pull only +ve positions in minhash\n",
        "    shingles = minhash[:, idx]\n",
        "    # find minimum value in each hash vector\n",
        "    signature = np.min(shingles, axis=1)\n",
        "    return signature"
      ]
    },
    {
      "cell_type": "code",
      "execution_count": 8,
      "metadata": {
        "id": "MAG0iX8VxMU9",
        "outputId": "033e3c0d-3f65-4f95-fbc3-6c9c69811823",
        "colab": {
          "base_uri": "https://localhost:8080/"
        }
      },
      "outputs": [
        {
          "output_type": "execute_result",
          "data": {
            "text/plain": [
              "(4500, 100)"
            ]
          },
          "metadata": {},
          "execution_count": 8
        }
      ],
      "source": [
        "arr = minhash_arr(vocab, 100)\n",
        "\n",
        "signatures = []\n",
        "\n",
        "for vector in shingles_1hot:\n",
        "    signatures.append(get_signature(arr, vector))\n",
        "\n",
        "# merge signatures into single array\n",
        "signatures = np.stack(signatures)\n",
        "signatures.shape"
      ]
    },
    {
      "cell_type": "code",
      "execution_count": 9,
      "metadata": {
        "id": "74DDTUBGxMU9",
        "outputId": "e602fcd6-0dc0-4587-b83d-6d29008a678f",
        "colab": {
          "base_uri": "https://localhost:8080/"
        }
      },
      "outputs": [
        {
          "output_type": "execute_result",
          "data": {
            "text/plain": [
              "array([ 669, 1137,  192, 1130,  700,  290,  122, 1757,  603,  782,  131,\n",
              "        291,  213,  566,  323,  746,  328,    5,  100,  305,  688,  145,\n",
              "        673,   82,  138, 1317,  266,  217,   74,  168,   86,  443,  510,\n",
              "         39,  145,   25,   29,   77, 1700,  157,  622,    8,   98,  426,\n",
              "       1128, 1439,  177,  147,  848,   50,   42,   83,  959,  794,  306,\n",
              "         44,  528,  114,   16,  274,  107,  130,  540,  124,  405,  831,\n",
              "        538,  265, 1319,  215,  821,  308,  411,  317,  548,  251,   24,\n",
              "        504,   13, 1206,   83,  202,  356,  338,  402,   26,  271,  481,\n",
              "          9,   66,  322,  384,  304, 2424,  818, 1153,  516,   93,  243,\n",
              "        951])"
            ]
          },
          "metadata": {},
          "execution_count": 9
        }
      ],
      "source": [
        "signatures[0]"
      ]
    },
    {
      "cell_type": "markdown",
      "metadata": {
        "id": "WptnpNg5xMU-"
      },
      "source": [
        "## LSH\n",
        "\n",
        "Finally, we move onto the LSH process. We will use a class here:"
      ]
    },
    {
      "cell_type": "code",
      "execution_count": 10,
      "metadata": {
        "id": "Ydk8ejKaxMU-"
      },
      "outputs": [],
      "source": [
        "from itertools import combinations\n",
        "\n",
        "class LSH:\n",
        "    buckets = []\n",
        "    counter = 0\n",
        "    def __init__(self, b):\n",
        "        self.b = b\n",
        "        for i in range(b):\n",
        "            self.buckets.append({})\n",
        "\n",
        "    def make_subvecs(self, signature):\n",
        "        l = len(signature)\n",
        "        assert l % self.b == 0\n",
        "        r = int(l / self.b)\n",
        "        # break signature into subvectors\n",
        "        subvecs = []\n",
        "        for i in range(0, l, r):\n",
        "            subvecs.append(signature[i:i+r])\n",
        "        return np.stack(subvecs)\n",
        "\n",
        "    def add_hash(self, signature):\n",
        "        subvecs = self.make_subvecs(signature).astype(str)\n",
        "        for i, subvec in enumerate(subvecs):\n",
        "            subvec = ','.join(subvec)\n",
        "            if subvec not in self.buckets[i].keys():\n",
        "                self.buckets[i][subvec] = []\n",
        "            self.buckets[i][subvec].append(self.counter)\n",
        "        self.counter += 1\n",
        "\n",
        "    def check_candidates(self):\n",
        "        candidates = []\n",
        "        for bucket_band in self.buckets:\n",
        "            keys = bucket_band.keys()\n",
        "            for bucket in keys:\n",
        "                hits = bucket_band[bucket]\n",
        "                if len(hits) > 1:\n",
        "                    candidates.extend(combinations(hits, 2))\n",
        "        return set(candidates)"
      ]
    },
    {
      "cell_type": "code",
      "execution_count": 11,
      "metadata": {
        "id": "M24OI-lrxMU-"
      },
      "outputs": [],
      "source": [
        "b = 20\n",
        "\n",
        "lsh = LSH(b)\n",
        "\n",
        "for signature in signatures:\n",
        "    lsh.add_hash(signature)"
      ]
    },
    {
      "cell_type": "code",
      "execution_count": 13,
      "metadata": {
        "id": "cqjz3yEuxMU_",
        "outputId": "9fa94832-9a70-448c-dd32-896865ca4583",
        "colab": {
          "base_uri": "https://localhost:8080/"
        }
      },
      "outputs": [
        {
          "output_type": "execute_result",
          "data": {
            "text/plain": [
              "[{'669,1137,192,1130,700': [0],\n",
              "  '197,193,306,217,50': [1],\n",
              "  '240,50,839,74,357': [2, 4],\n",
              "  '180,15,839,169,357': [3],\n",
              "  '1219,198,1927,1506,825': [5],\n",
              "  '126,25,72,127,155': [6, 7],\n",
              "  '977,532,8,3142,1396': [8],\n",
              "  '977,532,8,2281,1396': [9],\n",
              "  '896,490,364,244,1057': [10],\n",
              "  '226,292,372,1639,375': [11, 12],\n",
              "  '363,103,1196,238,485': [13],\n",
              "  '386,17,137,36,365': [14],\n",
              "  '901,321,830,502,2201': [15, 16],\n",
              "  '386,321,1418,36,365': [17],\n",
              "  '619,321,637,502,2196': [18],\n",
              "  '1029,1616,2007,692,7': [19],\n",
              "  '180,2877,511,1067,399': [20],\n",
              "  '1229,1302,114,936,700': [21, 22],\n",
              "  '1093,901,331,279,349': [23],\n",
              "  '332,433,56,479,700': [24, 26],\n",
              "  '484,433,56,811,700': [25],\n",
              "  '476,609,232,10,403': [27, 28, 33, 34],\n",
              "  '1914,858,2463,4,202': [29],\n",
              "  '2061,257,100,1191,726': [30, 31],\n",
              "  '2061,257,570,1191,2867': [32],\n",
              "  '1460,12,1090,391,372': [35, 39, 41],\n",
              "  '720,847,2170,2004,372': [36],\n",
              "  '3543,12,689,1579,562': [37, 38],\n",
              "  '1629,509,1773,732,5331': [40],\n",
              "  '180,1143,1913,6368,2288': [42],\n",
              "  '1740,650,1913,950,791': [43],\n",
              "  '1740,122,1252,2199,700': [44],\n",
              "  '166,154,112,763,2065': [45],\n",
              "  '157,858,1483,185,1544': [46],\n",
              "  '1448,230,75,2506,53': [47],\n",
              "  '826,2936,3976,763,518': [48],\n",
              "  '2442,184,1906,28,413': [49, 53],\n",
              "  '180,85,68,339,1083': [50, 51],\n",
              "  '2471,1137,816,315,2786': [52],\n",
              "  '717,1719,865,1579,1181': [54],\n",
              "  '717,2263,3314,1579,1181': [55, 59],\n",
              "  '513,2146,4,801,1181': [56],\n",
              "  '252,2042,364,1045,1181': [57, 58],\n",
              "  '1731,1953,227,261,645': [60, 62],\n",
              "  '1731,763,220,261,353': [61, 63],\n",
              "  '2382,12,3877,1108,562': [64],\n",
              "  '627,473,614,978,683': [65],\n",
              "  '484,184,37,1994,570': [66],\n",
              "  '627,473,614,422,991': [67],\n",
              "  '837,473,614,122,805': [68],\n",
              "  '492,5,353,612,204': [69],\n",
              "  '492,481,353,3809,587': [70],\n",
              "  '1223,481,478,1444,587': [71],\n",
              "  '157,1819,236,185,261': [72, 74],\n",
              "  '144,874,570,921,261': [73],\n",
              "  '64,858,603,837,20': [75],\n",
              "  '373,772,1013,3502,596': [76],\n",
              "  '198,88,95,891,654': [77],\n",
              "  '874,223,2460,34,48': [78],\n",
              "  '720,223,303,34,653': [79],\n",
              "  '27,292,78,591,447': [80],\n",
              "  '27,470,78,278,1495': [81],\n",
              "  '1219,7371,798,2102,776': [82, 83, 84],\n",
              "  '2180,3902,1060,1155,367': [85, 86],\n",
              "  '1919,1784,2849,641,673': [87],\n",
              "  '1387,282,362,1671,1795': [88],\n",
              "  '180,1143,391,1579,534': [89, 90],\n",
              "  '609,26,1193,315,1933': [91],\n",
              "  '609,26,429,315,1024': [92],\n",
              "  '1690,26,1193,59,480': [93],\n",
              "  '930,1786,1155,119,1678': [94, 97],\n",
              "  '930,1786,1472,119,1919': [95],\n",
              "  '95,1227,67,293,148': [96],\n",
              "  '71,354,1541,1348,1406': [98, 100, 101],\n",
              "  '720,7,183,63,50': [99],\n",
              "  '77,7,183,63,1219': [102],\n",
              "  '71,1158,95,517,653': [103],\n",
              "  '1618,600,625,1193,176': [104],\n",
              "  '1618,600,625,1193,1501': [105],\n",
              "  '198,78,555,2487,587': [106],\n",
              "  '910,2230,61,3980,925': [107],\n",
              "  '731,1137,314,969,700': [108],\n",
              "  '1510,470,1064,831,1181': [109],\n",
              "  '2029,1137,1013,4299,700': [110],\n",
              "  '1540,1729,1064,427,2450': [111],\n",
              "  '669,1033,2415,1422,3094': [112, 113, 114],\n",
              "  '720,1033,1384,1422,50': [115],\n",
              "  '1510,123,23,950,399': [116],\n",
              "  '513,1168,4,1067,399': [117],\n",
              "  '513,1521,4,1365,1159': [118],\n",
              "  '52,1061,529,547,55': [119, 120, 122, 124],\n",
              "  '2327,1286,1757,588,1919': [121],\n",
              "  '1859,51,529,974,666': [123],\n",
              "  '157,470,909,185,1872': [125],\n",
              "  '157,470,3395,185,1872': [126],\n",
              "  '570,193,111,191,500': [127],\n",
              "  '137,470,294,315,1078': [128],\n",
              "  '254,31,198,1223,836': [129, 130],\n",
              "  '669,31,198,1223,1052': [131],\n",
              "  '157,4976,1838,185,3261': [132, 133, 135],\n",
              "  '232,903,95,451,360': [134, 136, 137],\n",
              "  '1720,780,431,79,260': [138, 143],\n",
              "  '223,780,431,563,39': [139],\n",
              "  '3079,780,431,79,260': [140, 142],\n",
              "  '2757,52,1770,574,754': [141],\n",
              "  '606,62,989,510,41': [144, 148],\n",
              "  '1219,560,399,129,38': [145],\n",
              "  '606,62,1352,510,578': [146],\n",
              "  '60,560,399,129,38': [147],\n",
              "  '351,254,2649,225,191': [149],\n",
              "  '351,52,223,584,4119': [150],\n",
              "  '2,261,364,1430,485': [151],\n",
              "  '351,254,2649,225,2145': [152, 153],\n",
              "  '717,2263,988,525,1181': [154, 158],\n",
              "  '1926,416,140,632,31': [155, 156, 161, 162],\n",
              "  '301,849,140,632,1891': [157, 159],\n",
              "  '399,369,988,525,1765': [160],\n",
              "  '343,4581,108,668,1937': [163],\n",
              "  '343,4333,108,131,1937': [164, 4440],\n",
              "  '615,1178,1803,422,560': [165],\n",
              "  '615,365,1145,291,50': [166],\n",
              "  '421,507,1011,1140,474': [167],\n",
              "  '198,1113,678,1579,1080': [168, 171],\n",
              "  '615,365,1145,422,560': [169],\n",
              "  '720,3595,1384,6077,50': [170],\n",
              "  '145,502,4,505,633': [172],\n",
              "  '484,19,615,978,7967': [173, 174],\n",
              "  '145,502,587,505,3254': [175],\n",
              "  '292,300,60,248,298': [176],\n",
              "  '1093,958,1649,4379,773': [177],\n",
              "  '40,382,60,24,1165': [178],\n",
              "  '664,4546,60,2093,1165': [179],\n",
              "  '40,4546,60,1675,1165': [180],\n",
              "  '664,470,1013,1213,50': [181],\n",
              "  '3936,364,4066,3980,591': [182, 187],\n",
              "  '889,338,877,464,650': [183, 184, 188],\n",
              "  '862,364,129,1080,591': [185],\n",
              "  '834,1731,129,1080,649': [186],\n",
              "  '949,2435,1629,125,1542': [189],\n",
              "  '439,5469,1027,2184,9056': [190, 192],\n",
              "  '717,3588,3716,1480,1919': [191, 4431],\n",
              "  '163,72,251,395,3648': [193],\n",
              "  '1268,619,816,1432,1399': [194, 195, 196],\n",
              "  '4735,30,1371,2705,1183': [197],\n",
              "  '1182,1012,423,755,484': [198],\n",
              "  '720,30,1371,1208,50': [199],\n",
              "  '2029,1945,5817,632,147': [200],\n",
              "  '845,528,497,76,153': [201],\n",
              "  '720,1037,497,632,71': [202],\n",
              "  '380,528,805,76,1125': [203],\n",
              "  '917,1332,474,740,521': [204],\n",
              "  '2122,1302,919,2299,521': [205],\n",
              "  '1004,100,4,479,700': [206],\n",
              "  '720,1376,919,2299,521': [207],\n",
              "  '95,238,1242,691,1288': [208, 210, 211],\n",
              "  '285,183,115,217,223': [209],\n",
              "  '95,390,539,217,377': [212],\n",
              "  '1753,40,153,666,37': [213],\n",
              "  '1397,418,791,529,25': [214, 215],\n",
              "  '853,207,261,90,552': [216],\n",
              "  '166,154,112,513,25': [217],\n",
              "  '717,181,156,153,428': [218],\n",
              "  '717,1077,146,251,1181': [219],\n",
              "  '166,22,534,237,1535': [220, 222, 224],\n",
              "  '166,23,8,1594,1533': [221],\n",
              "  '166,22,18,237,1535': [223],\n",
              "  '225,310,364,561,1405': [225],\n",
              "  '96,354,1463,431,3202': [226],\n",
              "  '166,154,112,228,762': [227],\n",
              "  '225,310,1463,1045,2927': [228],\n",
              "  '1754,338,2012,74,72': [229],\n",
              "  '63,1190,1153,127,1181': [230, 231],\n",
              "  '717,1137,1013,2078,251': [232, 233],\n",
              "  '63,1598,1331,127,1181': [234],\n",
              "  '125,1190,1384,127,50': [235],\n",
              "  '717,1927,1539,164,251': [236],\n",
              "  '225,1452,4,1737,700': [237],\n",
              "  '781,210,336,271,33': [238],\n",
              "  '734,100,328,684,166': [239, 240],\n",
              "  '1576,100,328,684,188': [241, 243],\n",
              "  '720,2822,4,3315,2': [242],\n",
              "  '1510,1015,1135,691,80': [244],\n",
              "  '1859,100,88,131,569': [245],\n",
              "  '970,233,884,1037,1': [246],\n",
              "  '2286,60,2200,16,666': [247],\n",
              "  '879,25,536,1430,521': [248],\n",
              "  '11,856,2200,315,666': [249],\n",
              "  '1502,499,606,131,1469': [250],\n",
              "  '225,857,1236,710,209': [251],\n",
              "  '705,224,218,1071,1129': [252],\n",
              "  '348,174,162,1045,77': [253, 254, 255, 257],\n",
              "  '348,174,136,367,219': [256],\n",
              "  '362,1065,71,1045,354': [258],\n",
              "  '1045,96,14,263,1776': [259, 261],\n",
              "  '516,1441,1104,920,313': [260, 262],\n",
              "  '133,679,2552,525,128': [263],\n",
              "  '534,250,48,368,128': [264, 269],\n",
              "  '63,470,909,74,114': [265, 266],\n",
              "  '363,470,909,74,114': [267],\n",
              "  '363,470,122,213,128': [268],\n",
              "  '133,679,48,368,128': [270],\n",
              "  '203,132,793,753,553': [271],\n",
              "  '225,1137,364,973,1795': [272],\n",
              "  '55,292,1756,1760,3505': [273],\n",
              "  '577,132,2072,74,1123': [274],\n",
              "  '225,1383,364,973,1123': [275, 276, 277],\n",
              "  '1045,1245,460,774,491': [278, 282],\n",
              "  '225,926,1304,369,1123': [279, 280],\n",
              "  '809,1598,104,612,204': [281],\n",
              "  '716,1493,1461,1934,816': [283],\n",
              "  '481,2342,877,3036,372': [284],\n",
              "  '1754,329,345,74,203': [285, 286],\n",
              "  '225,1452,454,110,389': [287, 288],\n",
              "  '2028,385,770,1153,91': [289],\n",
              "  '2028,525,2089,1497,91': [290],\n",
              "  '225,1452,454,110,79': [291],\n",
              "  '225,633,492,680,2710': [292],\n",
              "  '74,633,492,680,3081': [293, 296],\n",
              "  '225,481,75,1200,145': [294, 295, 298],\n",
              "  '226,762,75,264,1271': [297],\n",
              "  '634,379,577,128,60': [299],\n",
              "  '708,400,511,217,60': [300],\n",
              "  '708,43,1114,606,60': [301],\n",
              "  '515,1077,957,1067,360': [302],\n",
              "  '63,369,1406,74,2389': [303],\n",
              "  '2757,194,2519,1710,344': [304, 306],\n",
              "  '421,2263,171,325,506': [305],\n",
              "  '1111,292,317,775,567': [307, 308, 312],\n",
              "  '63,185,355,82,62': [309, 311],\n",
              "  '63,296,355,82,1770': [310, 313, 314, 316],\n",
              "  '631,760,4977,2183,402': [315],\n",
              "  '176,404,1134,21,131': [317, 321],\n",
              "  '550,1016,1134,21,131': [318, 322],\n",
              "  '722,2356,171,1834,1060': [319],\n",
              "  '174,1056,997,396,372': [320],\n",
              "  '230,2049,1008,2703,372': [323, 324],\n",
              "  '92,1067,632,904,453': [325, 327],\n",
              "  '1826,1067,632,1714,453': [326],\n",
              "  '586,789,572,801,219': [328, 329, 332],\n",
              "  '1939,2877,2170,1212,394': [330],\n",
              "  '1158,4705,1684,6550,4698': [331],\n",
              "  '3428,2877,2170,3940,394': [333],\n",
              "  '232,619,1577,1009,360': [334],\n",
              "  '1139,1015,510,526,233': [335],\n",
              "  '1139,388,510,1099,24': [336],\n",
              "  '221,869,9,271,340': [337, 342],\n",
              "  '172,158,628,693,1637': [338],\n",
              "  '390,158,628,693,1637': [339, 341, 343],\n",
              "  '109,1955,4,2299,340': [340],\n",
              "  '315,365,2640,1045,597': [344, 347, 348],\n",
              "  '639,365,2640,235,281': [345],\n",
              "  '315,19,2640,1045,597': [346],\n",
              "  '223,2066,150,563,393': [349],\n",
              "  '770,97,507,23,840': [350],\n",
              "  '23,97,124,320,1795': [351],\n",
              "  '445,346,283,364,439': [352],\n",
              "  '330,339,539,364,377': [353],\n",
              "  '157,2450,580,185,1779': [354],\n",
              "  '157,1561,389,185,162': [355],\n",
              "  '53,469,897,184,10': [356],\n",
              "  '351,1643,438,584,10': [357],\n",
              "  '513,348,4,1365,1431': [358, 359],\n",
              "  '438,388,84,523,974': [360, 363, 366],\n",
              "  '425,247,2072,699,695': [361],\n",
              "  '425,247,2072,774,695': [362, 365],\n",
              "  '1045,289,398,2151,1776': [364],\n",
              "  '183,3457,4,1208,165': [367],\n",
              "  '10,637,4,850,208': [368, 370],\n",
              "  '10,331,4,850,208': [369],\n",
              "  '676,71,4,824,593': [371],\n",
              "  '157,858,485,185,2494': [372, 378],\n",
              "  '484,782,1074,3063,1050': [373],\n",
              "  '214,1586,1146,458,1175': [374, 377],\n",
              "  '214,440,1146,458,976': [375],\n",
              "  '214,1586,1146,458,976': [376, 379, 380],\n",
              "  '225,465,177,281,367': [381],\n",
              "  '477,1841,78,462,1366': [382, 387],\n",
              "  '1371,484,610,691,367': [383, 386],\n",
              "  '3457,484,665,691,367': [384],\n",
              "  '273,378,665,691,367': [385],\n",
              "  '225,715,177,282,367': [388],\n",
              "  '988,644,228,479,51': [389, 392],\n",
              "  '450,467,221,479,24': [390, 391],\n",
              "  '63,259,159,74,545': [393],\n",
              "  '63,259,8,74,545': [394, 398, 4429],\n",
              "  '540,259,78,127,322': [395, 396],\n",
              "  '1129,290,78,127,322': [397],\n",
              "  '484,268,1084,940,636': [399],\n",
              "  '484,858,1258,947,2208': [400],\n",
              "  '386,444,1258,2419,2798': [401, 402],\n",
              "  '890,667,1865,3448,1042': [403, 404],\n",
              "  '1747,718,716,979,1638': [405],\n",
              "  '265,398,1684,796,1060': [406, 410],\n",
              "  '265,122,1018,731,706': [407, 408],\n",
              "  '1093,12,689,2527,562': [409],\n",
              "  '265,622,194,731,1113': [411],\n",
              "  '225,375,499,536,224': [412, 417],\n",
              "  '898,406,1684,536,20': [413],\n",
              "  '180,1761,1098,15,20': [414],\n",
              "  '225,375,499,208,20': [415, 418],\n",
              "  '225,375,499,484,6': [416],\n",
              "  '162,957,345,127,62': [419, 421, 423],\n",
              "  '751,1531,1687,127,62': [420],\n",
              "  '92,44,870,127,1999': [422],\n",
              "  '92,44,345,161,981': [424],\n",
              "  '104,242,1040,533,137': [425, 426],\n",
              "  '513,868,95,99,565': [427],\n",
              "  '88,56,121,375,1560': [428],\n",
              "  '44,651,121,1579,1686': [429, 430],\n",
              "  '63,413,629,217,360': [431, 432, 435],\n",
              "  '606,2037,827,1541,509': [433],\n",
              "  '720,2037,827,1352,509': [434],\n",
              "  '475,156,284,327,126': [436, 438, 439],\n",
              "  '604,61,134,253,56': [437],\n",
              "  '225,251,220,158,1054': [440],\n",
              "  '225,251,942,158,1054': [441],\n",
              "  '653,251,203,61,231': [442],\n",
              "  '440,12,4,271,21': [443],\n",
              "  '1246,602,98,271,177': [444, 445],\n",
              "  '198,386,577,663,23': [446, 447],\n",
              "  '641,762,204,663,19': [448],\n",
              "  '935,762,204,663,954': [449, 450, 451],\n",
              "  '181,992,364,1452,895': [452],\n",
              "  '1870,5749,143,1108,1603': [453, 456],\n",
              "  '787,1590,143,1566,1047': [454],\n",
              "  '363,1363,1773,2023,1581': [455],\n",
              "  '155,1867,1595,707,372': [457],\n",
              "  '3758,470,4498,1654,372': [458, 464, 467],\n",
              "  '295,12,581,347,372': [459],\n",
              "  '130,544,4,579,231': [460, 461, 462, 465],\n",
              "  '130,199,576,579,231': [463],\n",
              "  '450,2771,866,1651,24': [466],\n",
              "  '850,369,518,249,232': [468],\n",
              "  '1300,4,1638,189,544': [469, 4483],\n",
              "  '720,1282,518,249,232': [470],\n",
              "  '850,1322,364,249,232': [471],\n",
              "  '1991,4,25,189,562': [472],\n",
              "  '513,1168,4,100,2466': [473, 475],\n",
              "  '1004,2245,4,1045,19': [474],\n",
              "  '513,151,4,763,858': [476, 478, 480],\n",
              "  '513,151,4,1365,653': [477],\n",
              "  '225,201,324,846,587': [479, 482, 483, 485],\n",
              "  '172,511,199,155,87': [481],\n",
              "  '1004,151,4,271,858': [484],\n",
              "  '529,165,1554,156,274': [486, 487, 491, 494],\n",
              "  '720,3684,2364,214,653': [488],\n",
              "  '166,154,112,686,274': [489],\n",
              "  '5770,369,2364,2035,1919': [490, 1909, 2027, 2028, 2223],\n",
              "  '717,2263,317,558,286': [492, 495],\n",
              "  '717,2263,317,470,286': [493],\n",
              "  '1027,614,1087,3383,307': [496],\n",
              "  '1027,614,1130,3383,2416': [497, 498],\n",
              "  '720,614,1130,3315,653': [499],\n",
              "  '2447,663,1048,2362,2034': [500],\n",
              "  '2023,1110,308,614,594': [501],\n",
              "  '569,663,923,2362,2034': [502],\n",
              "  '2023,1110,308,723,594': [503],\n",
              "  '452,2645,2147,530,1540': [504, 505],\n",
              "  '720,2102,1384,3579,50': [506, 509, 1522, 2034, 2046, 2151, 2185],\n",
              "  '720,2102,1384,2394,50': [507],\n",
              "  '669,336,2479,1579,1400': [508],\n",
              "  '1370,3248,824,578,1020': [510],\n",
              "  '172,728,1574,1322,1919': [511],\n",
              "  '172,314,155,422,1919': [512],\n",
              "  '172,728,2104,1963,1919': [513],\n",
              "  '720,243,1516,214,653': [514, 1052],\n",
              "  '720,243,166,214,653': [515],\n",
              "  '533,8044,1849,970,1919': [516],\n",
              "  '421,284,2582,1976,1919': [517, 518],\n",
              "  '8306,52,2785,1976,1919': [519],\n",
              "  '1380,2025,1290,1152,360': [520],\n",
              "  '431,2025,615,1152,360': [521],\n",
              "  '1380,1554,615,1152,360': [522],\n",
              "  '13,166,524,492,182': [523, 528],\n",
              "  '717,2263,70,492,4022': [524, 525, 527],\n",
              "  '52,184,1646,671,1795': [526],\n",
              "  '717,260,70,1579,4022': [529],\n",
              "  '2411,1255,645,451,1230': [530, 532],\n",
              "  '3486,52,645,451,917': [531, 533],\n",
              "  '2411,3039,645,451,1230': [534],\n",
              "  '990,2488,617,1747,6142': [535],\n",
              "  '1859,1026,617,810,700': [536],\n",
              "  '2021,3322,617,1747,6142': [537],\n",
              "  '1859,2037,617,810,569': [538],\n",
              "  '717,2263,1167,1579,5123': [539, 1397],\n",
              "  '717,2263,3058,1579,219': [540, 545],\n",
              "  '5947,1019,353,1579,2409': [541, 1938, 2614],\n",
              "  '1387,291,3976,1250,1919': [542],\n",
              "  '720,702,1918,214,653': [543],\n",
              "  '673,369,266,406,263': [544, 547],\n",
              "  '5981,289,1501,1946,1764': [546,\n",
              "   952,\n",
              "   955,\n",
              "   1472,\n",
              "   1473,\n",
              "   1475,\n",
              "   1762,\n",
              "   2397,\n",
              "   2398,\n",
              "   2429],\n",
              "  '717,3362,1167,3721,1919': [548, 1763, 1915, 1925, 2626],\n",
              "  '2154,692,4673,257,505': [549],\n",
              "  '2399,2045,999,1533,577': [550],\n",
              "  '2399,6116,999,87,1919': [551],\n",
              "  '4451,260,750,3583,297': [552],\n",
              "  '720,978,1384,5853,50': [553, 558],\n",
              "  '1548,2263,977,1463,3302': [554],\n",
              "  '3522,166,5587,779,3805': [555, 556],\n",
              "  '717,2263,2406,136,331': [557],\n",
              "  '1859,2130,3314,1579,1060': [559],\n",
              "  '10740,2263,4571,1579,2151': [560,\n",
              "   1103,\n",
              "   1104,\n",
              "   1563,\n",
              "   1718,\n",
              "   1722,\n",
              "   1789,\n",
              "   1793,\n",
              "   1854,\n",
              "   1857,\n",
              "   2160],\n",
              "  '720,1179,1384,451,50': [561],\n",
              "  '354,166,813,1304,1642': [562],\n",
              "  '3226,374,2246,3198,2426': [563, 566],\n",
              "  '3226,1085,2246,3198,2426': [564],\n",
              "  '669,575,493,1540,452': [565],\n",
              "  '1124,575,493,948,452': [567],\n",
              "  '669,1239,2479,1579,4916': [568,\n",
              "   569,\n",
              "   571,\n",
              "   624,\n",
              "   626,\n",
              "   628,\n",
              "   655,\n",
              "   1503,\n",
              "   1504,\n",
              "   1506,\n",
              "   1525,\n",
              "   1679,\n",
              "   1946,\n",
              "   2002,\n",
              "   2003,\n",
              "   2045,\n",
              "   2150,\n",
              "   2184],\n",
              "  '38,166,790,39,816': [570],\n",
              "  '1291,1012,364,785,650': [572, 573],\n",
              "  '203,292,144,1076,300': [574, 575],\n",
              "  '2,292,1763,1927,2482': [576, 578, 579],\n",
              "  '2,1073,958,140,2690': [577],\n",
              "  '520,2687,348,510,96': [580],\n",
              "  '3249,166,4049,87,796': [581],\n",
              "  '720,36,1075,376,50': [582],\n",
              "  '1318,270,4855,451,1230': [583, 584],\n",
              "  '722,2263,171,1579,974': [585],\n",
              "  '1318,166,3593,1579,816': [586],\n",
              "  '720,2014,2109,1226,146': [587],\n",
              "  '146,1544,3324,2074,653': [588],\n",
              "  '2209,254,1298,1226,146': [589],\n",
              "  '146,1195,1712,599,146': [590],\n",
              "  '396,86,585,686,1031': [591],\n",
              "  '396,86,1198,1235,2842': [592, 594],\n",
              "  '2204,52,585,1116,1031': [593],\n",
              "  '720,2102,674,3579,50': [595, 627, 2048],\n",
              "  '669,1239,674,1579,2742': [596, 625],\n",
              "  '2313,52,317,2116,2080': [597],\n",
              "  '669,73,674,1579,2742': [598],\n",
              "  '1508,369,2323,1579,1099': [599, 604],\n",
              "  '17,258,235,348,532': [600, 602],\n",
              "  '1508,2218,886,4352,41': [601, 603],\n",
              "  '339,1760,364,1745,219': [605],\n",
              "  '2804,52,364,449,44': [606],\n",
              "  '1300,2146,364,2281,1149': [607],\n",
              "  '1300,2146,364,2281,654': [608],\n",
              "  '339,1530,364,449,99': [609],\n",
              "  '720,3684,1384,3360,50': [610],\n",
              "  '690,906,1253,955,2387': [611, 616],\n",
              "  '187,931,1486,1579,1220': [612],\n",
              "  '1706,499,234,2541,5352': [613],\n",
              "  '187,906,1574,1322,1220': [614],\n",
              "  '408,52,736,1972,1919': [615, 2468],\n",
              "  '264,1702,751,5576,5813': [617, 618, 620],\n",
              "  '264,7837,751,1139,1254': [619],\n",
              "  '915,4043,4673,345,1919': [621],\n",
              "  '339,1530,3570,449,99': [622, 2237],\n",
              "  '421,4427,461,345,84': [623],\n",
              "  '1792,2263,2645,500,565': [629],\n",
              "  '720,3684,1384,2904,50': [630, 2523],\n",
              "  '717,1694,2456,1579,449': [631, 632],\n",
              "  '717,170,1315,2471,1919': [633],\n",
              "  '1154,7580,2645,500,6383': [634],\n",
              "  '859,155,712,1579,822': [635],\n",
              "  '7125,2263,480,1579,3464': [636],\n",
              "  '41,7580,3543,6148,2767': [637],\n",
              "  '2002,1,3763,1577,289': [638],\n",
              "  '764,1,3763,2527,289': [639],\n",
              "  '100,76,98,298,792': [640],\n",
              "  '1009,1,3763,1577,289': [641],\n",
              "  '808,1137,1013,387,609': [642, 646],\n",
              "  '555,12,1945,1108,562': [643],\n",
              "  '1011,12,847,1108,562': [644, 647],\n",
              "  '2382,12,1041,1108,562': [645],\n",
              "  '148,1483,1544,1142,4505': [648],\n",
              "  '63,2021,253,74,332': [649],\n",
              "  '63,2263,253,74,2389': [650, 651],\n",
              "  '720,1519,631,481,50': [652, 2482, 3784],\n",
              "  '669,1239,631,481,479': [653, 2480],\n",
              "  '669,1239,2479,1579,901': [654],\n",
              "  '11,1,2103,2257,1180': [656, 657],\n",
              "  '1029,198,3994,31,7': [658],\n",
              "  '40,1941,463,216,875': [659, 662],\n",
              "  '11,3759,60,2093,2983': [660, 661, 663],\n",
              "  '720,2991,736,214,653': [664],\n",
              "  '172,984,3332,1963,1919': [665],\n",
              "  '172,1019,736,232,1919': [666],\n",
              "  '172,984,736,232,1919': [667],\n",
              "  '1334,1019,353,2182,57': [668],\n",
              "  '2804,1019,736,2182,99': [669, 1839, 2253],\n",
              "  '720,1530,736,214,99': [670, 1836],\n",
              "  '1532,3257,1013,1193,592': [671],\n",
              "  '1618,2852,4680,763,2168': [672],\n",
              "  '669,1754,1717,2394,226': [673, 1697, 1698, 1702],\n",
              "  '669,1194,765,1579,844': [674, 675],\n",
              "  '476,1368,1518,984,297': [676],\n",
              "  '2002,260,5735,6160,4022': [677, 679],\n",
              "  '582,7071,60,775,753': [678, 680],\n",
              "  '11,7043,386,577,297': [681],\n",
              "  '1190,2263,1217,1579,2151': [682],\n",
              "  '929,627,55,1413,1017': [683, 685],\n",
              "  '645,1239,3332,1579,1308': [684],\n",
              "  '1064,1239,317,558,1376': [686],\n",
              "  '669,1239,317,558,4916': [687,\n",
              "   689,\n",
              "   1011,\n",
              "   1062,\n",
              "   1063,\n",
              "   1130,\n",
              "   1131,\n",
              "   1426,\n",
              "   1427,\n",
              "   1428,\n",
              "   1429,\n",
              "   1430,\n",
              "   1727,\n",
              "   1729,\n",
              "   1971,\n",
              "   2265,\n",
              "   2403,\n",
              "   2404,\n",
              "   2408,\n",
              "   2410],\n",
              "  '1248,1185,205,881,583': [688],\n",
              "  '669,2146,364,675,4916': [690, 691],\n",
              "  '669,1239,317,558,127': [692],\n",
              "  '65,2174,201,1467,906': [693, 694],\n",
              "  '1212,189,287,1467,523': [695, 696],\n",
              "  '1265,239,2972,847,1927': [697],\n",
              "  '574,721,1122,669,240': [698, 700, 701],\n",
              "  '286,932,378,3046,2542': [699],\n",
              "  '63,2263,1029,74,41': [702, 705],\n",
              "  '63,1790,1029,74,41': [703],\n",
              "  '63,2263,181,74,464': [704],\n",
              "  '1924,4540,1430,1004,301': [706, 711],\n",
              "  '421,678,1896,1579,301': [707],\n",
              "  '63,67,719,74,1487': [708, 709, 710],\n",
              "  '826,1733,429,824,521': [712],\n",
              "  '63,669,219,16,2374': [713],\n",
              "  '63,1239,1717,74,226': [714, 715],\n",
              "  '25,166,824,133,190': [716],\n",
              "  '843,107,364,44,492': [717],\n",
              "  '67,351,461,2700,190': [718, 719, 721],\n",
              "  '1269,1210,154,679,190': [720],\n",
              "  '1539,33,665,98,1465': [722, 723, 725, 726, 731],\n",
              "  '513,12,95,570,9': [724],\n",
              "  '8092,1751,4802,385,1156': [727],\n",
              "  '1539,33,665,98,647': [728],\n",
              "  '3080,33,665,98,688': [729],\n",
              "  '20,588,1601,1108,1465': [730],\n",
              "  '717,232,1501,87,1764': [732, 736],\n",
              "  '2270,289,955,443,242': [733],\n",
              "  '2888,378,660,117,179': [734, 738, 1474],\n",
              "  '1109,289,1501,87,1764': [735],\n",
              "  '720,289,1501,214,653': [737, 2430],\n",
              "  '1170,946,846,118,383': [739, 740],\n",
              "  '219,2166,960,585,258': [741],\n",
              "  '1170,2913,594,1187,383': [742],\n",
              "  '525,1954,634,585,258': [743],\n",
              "  '344,630,184,783,671': [744],\n",
              "  '63,81,59,74,1389': [745],\n",
              "  '148,930,1373,118,1303': [746],\n",
              "  '63,18,1373,74,2389': [747, 748],\n",
              "  '347,1834,2473,480,284': [749],\n",
              "  '542,1707,1239,203,672': [750, 752, 753],\n",
              "  '99,962,1239,990,653': [751],\n",
              "  '762,366,3044,806,3386': [754],\n",
              "  '5727,1537,967,632,3386': [755],\n",
              "  '2946,790,1574,1322,1902': [756, 757, 2013],\n",
              "  '717,1530,3058,1579,99': [758],\n",
              "  '2399,2263,999,1533,6092': [759],\n",
              "  '1706,1156,5449,2338,4505': [760, 763],\n",
              "  '1706,1156,5449,2338,1940': [761],\n",
              "  '926,4580,2494,1142,318': [762, 4439],\n",
              "  '2014,369,2364,1579,6823': [764, 765, 766, 767],\n",
              "  '669,536,317,2447,3405': [768],\n",
              "  '1170,1697,21,2048,123': [769],\n",
              "  '513,2053,95,74,2996': [770, 771, 772],\n",
              "  '1170,3239,965,2665,1361': [773, 774, 776],\n",
              "  '1109,765,1840,87,465': [775],\n",
              "  '1064,669,317,1212,2045': [777, 779, 780, 781, 783],\n",
              "  '2031,669,317,16,5702': [778],\n",
              "  '1170,252,3232,1142,1361': [782],\n",
              "  '621,360,680,124,515': [784, 785, 786],\n",
              "  '928,360,680,124,1794': [787, 788],\n",
              "  '928,360,680,124,933': [789],\n",
              "  '127,1263,944,662,909': [790],\n",
              "  '3985,449,275,149,1935': [791],\n",
              "  '4127,232,343,326,1867': [792],\n",
              "  '127,820,944,1144,1734': [793],\n",
              "  '720,2102,317,178,50': [794],\n",
              "  '500,52,1194,468,1869': [795],\n",
              "  '669,1239,317,178,4916': [796],\n",
              "  '777,574,219,2533,1570': [797, 802],\n",
              "  '225,574,1457,1760,1570': [798, 803],\n",
              "  '266,70,270,1478,446': [799],\n",
              "  '172,70,626,48,446': [800],\n",
              "  '172,583,2729,48,690': [801],\n",
              "  '128,278,103,240,318': [804],\n",
              "  '926,278,2279,5371,318': [805, 2565],\n",
              "  '187,803,736,2232,352': [806],\n",
              "  '1139,927,249,728,98': [807, 810],\n",
              "  '590,491,5171,1183,98': [808],\n",
              "  '717,1357,3792,74,9': [809],\n",
              "  '1139,927,249,728,2799': [811],\n",
              "  '513,2263,95,74,9': [812],\n",
              "  '63,1199,193,74,34': [813, 816],\n",
              "  '225,307,735,1579,34': [814],\n",
              "  '225,369,519,566,1084': [815],\n",
              "  '363,424,1028,221,1230': [817],\n",
              "  '903,2794,70,1428,2382': [818],\n",
              "  '3478,983,1206,8442,1966': [819, 824],\n",
              "  '741,470,999,1533,697': [820],\n",
              "  '523,946,834,484,697': [821, 823, 825],\n",
              "  '523,983,834,1032,20': [822],\n",
              "  '1534,2146,317,558,286': [826, 827, 831],\n",
              "  '1064,1239,429,1579,1376': [828, 830],\n",
              "  '2507,1239,1519,1091,2409': [829, 1524],\n",
              "  '66,221,3064,3058,521': [832],\n",
              "  '66,960,2170,227,700': [833],\n",
              "  '484,858,3064,4280,2798': [834, 835],\n",
              "  '3434,1210,365,1142,693': [836],\n",
              "  '3188,1210,239,1142,693': [837, 841],\n",
              "  '49,2039,1553,74,1485': [838],\n",
              "  '49,2039,5587,74,2151': [839, 840],\n",
              "  '574,932,378,87,1169': [842, 843],\n",
              "  '48,499,1769,966,400': [844, 846, 849],\n",
              "  '48,499,3482,57,400': [845],\n",
              "  '2507,2146,364,2281,499': [847],\n",
              "  '2307,1078,364,1799,1169': [848],\n",
              "  '450,2491,866,2219,2836': [850],\n",
              "  '172,728,866,1963,697': [851, 852],\n",
              "  '2344,8364,2189,4344,286': [853],\n",
              "  '582,1414,2779,2800,1906': [854],\n",
              "  '2909,1239,106,1799,295': [855, 856],\n",
              "  '225,520,66,87,101': [857, 859],\n",
              "  '669,852,317,317,2135': [858, 860],\n",
              "  '669,536,317,558,3405': [861, 1814],\n",
              "  '225,520,66,87,1015': [862],\n",
              "  '347,1834,516,480,653': [863],\n",
              "  '1357,1328,6399,267,515': [864, 865],\n",
              "  '347,1834,2615,480,1518': [866],\n",
              "  '669,1239,317,558,1919': [867, 4466],\n",
              "  '669,1967,317,558,5045': [868, 872, 875],\n",
              "  '1064,31,429,74,2603': [869],\n",
              "  '63,31,317,74,2389': [870, 871, 874],\n",
              "  '135,2263,224,74,749': [873],\n",
              "  '2112,369,3212,1579,3648': [876, 878, 1096],\n",
              "  '657,517,5587,1579,1064': [877],\n",
              "  '1067,2821,1894,1094,645': [879, 880],\n",
              "  '1991,772,465,763,1247': [881],\n",
              "  '1161,369,348,1579,3648': [882],\n",
              "  '63,2263,1827,74,483': [883],\n",
              "  '273,378,846,118,2529': [884],\n",
              "  '63,4877,219,74,2374': [885],\n",
              "  '63,2263,345,74,2151': [886],\n",
              "  '1823,286,446,204,242': [887, 888, 889, 890],\n",
              "  '1139,1042,167,3657,370': [891],\n",
              "  '1170,1838,2615,1187,383': [892, 893],\n",
              "  '63,1239,1840,74,76': [894],\n",
              "  '839,220,124,343,670': [895],\n",
              "  '2192,2146,1840,558,76': [896, 897],\n",
              "  '45,294,429,1920,700': [898],\n",
              "  '669,536,1064,1481,700': [899, 901],\n",
              "  '669,1698,963,2299,521': [900, 902, 903, 904],\n",
              "  '116,2882,999,87,967': [905],\n",
              "  '113,638,736,2845,1236': [906],\n",
              "  '720,638,736,1300,653': [907],\n",
              "  '317,499,622,1286,2116': [908],\n",
              "  '15,620,1099,338,271': [909],\n",
              "  '397,2037,1099,1164,271': [910],\n",
              "  '15,620,1608,74,569': [911, 914, 915],\n",
              "  '252,31,752,440,3133': [912, 913],\n",
              "  '1269,124,1061,679,190': [916],\n",
              "  '67,124,364,1880,190': [917, 921, 922],\n",
              "  '67,516,13,70,115': [918, 919, 923, 924, 925, 4451],\n",
              "  '421,178,778,70,1796': [920],\n",
              "  '260,54,846,118,1150': [926],\n",
              "  '1615,107,1645,1929,138': [927],\n",
              "  '20,946,2176,60,4175': [928, 931, 4418],\n",
              "  '720,946,1390,60,343': [929],\n",
              "  '63,620,2559,74,2389': [930, 933],\n",
              "  '63,620,700,74,2151': [932],\n",
              "  '564,63,271,634,653': [934],\n",
              "  '421,1323,4256,1579,3280': [935],\n",
              "  '956,166,1663,805,76': [936],\n",
              "  '49,369,519,1579,1485': [937],\n",
              "  '3689,1579,540,1142,1608': [938, 939, 941],\n",
              "  '717,1677,3058,1579,76': [940],\n",
              "  '1599,2605,357,720,603': [942, 946],\n",
              "  '5477,707,2988,1092,1518': [943],\n",
              "  '99,707,694,2858,653': [944],\n",
              "  '99,707,1239,283,1157': [945, 950],\n",
              "  '99,962,4425,587,525': [947],\n",
              "  '2,362,357,334,118': [948],\n",
              "  '1425,2899,1365,1109,539': [949],\n",
              "  '669,536,963,2299,521': [951, 2349, 2350],\n",
              "  '63,1747,3058,74,206': [953],\n",
              "  '63,2263,999,74,707': [954],\n",
              "  '63,1747,3058,74,1896': [956, 957, 958],\n",
              "  '1201,2263,1751,1579,3015': [959],\n",
              "  '63,152,171,74,36': [960],\n",
              "  '2149,3786,3976,332,391': [961],\n",
              "  '1175,482,933,70,1919': [962],\n",
              "  '1203,668,2744,70,1919': [963, 965],\n",
              "  '717,3487,3976,1366,1373': [964],\n",
              "  '940,499,686,159,780': [966],\n",
              "  '512,1152,1370,2182,370': [967, 4460],\n",
              "  '512,516,3057,87,1919': [968, 970, 971, 972],\n",
              "  '512,516,126,87,614': [969],\n",
              "  '1461,1630,792,612,3767': [973],\n",
              "  '1420,858,200,1265,3767': [974],\n",
              "  '881,331,200,1265,1402': [975],\n",
              "  '442,204,248,65,696': [976, 978, 4444],\n",
              "  '717,353,1366,323,381': [977, 980],\n",
              "  '442,204,248,65,1101': [979],\n",
              "  '180,679,1581,659,128': [981, 982, 985, 986],\n",
              "  '496,173,1841,821,628': [983],\n",
              "  '107,495,1841,175,628': [984, 987],\n",
              "  '250,216,185,659,128': [988],\n",
              "  '186,651,191,1283,2276': [989],\n",
              "  '925,651,191,4426,2605': [990],\n",
              "  '63,56,1116,74,160': [991],\n",
              "  '63,1126,1116,74,356': [992],\n",
              "  '58,101,352,465,42': [993],\n",
              "  '58,101,4673,1320,42': [994, 995, 997],\n",
              "  '58,3351,4413,214,42': [996],\n",
              "  '187,37,1167,794,302': [998, 999, 1002, 1003, 1004],\n",
              "  '363,52,1910,2821,837': [1000],\n",
              "  '2,47,2148,2775,5068': [1001],\n",
              "  '720,2882,1384,401,50': [1005],\n",
              "  '2399,2263,999,401,2902': [1006],\n",
              "  '720,79,1384,9353,50': [1007],\n",
              "  '1883,707,2229,283,2902': [1008],\n",
              "  '63,79,999,74,555': [1009],\n",
              "  '669,2146,317,66,1032': [1010],\n",
              "  '717,2263,1653,558,30': [1012],\n",
              "  '63,1239,317,66,1032': [1013],\n",
              "  '2138,107,599,87,1919': [1014, 1015],\n",
              "  '633,2395,6310,809,6055': [1016, 1018],\n",
              "  '575,1676,196,3981,3710': [1017, 1019],\n",
              "  '669,1754,963,2299,521': [1020, 1021, 2558, 4434],\n",
              "  '669,1754,963,1109,304': [1022],\n",
              "  '669,1754,963,1109,521': [1023],\n",
              "  '669,536,1064,1481,3405': [1024, 1025],\n",
              "  '669,536,2479,1481,3405': [1026, 2121, 2122, 2125],\n",
              "  '1333,4043,959,87,1047': [1027],\n",
              "  '2356,4043,4627,87,1919': [1028, 1031, 1032],\n",
              "  '4772,695,1748,1560,1919': [1029, 1030],\n",
              "  '1309,1315,655,3769,149': [1033, 1040],\n",
              "  '521,1315,1484,82,1111': [1034, 1037, 1038],\n",
              "  '136,304,1210,82,429': [1035],\n",
              "  '63,1582,148,74,1775': [1036],\n",
              "  '4,107,2307,276,351': [1039],\n",
              "  '521,1793,715,82,653': [1041],\n",
              "  '2804,1530,364,2281,99': [1042, 2139, 2142],\n",
              "  '2399,1787,364,2281,78': [1043],\n",
              "  '720,1282,539,2074,99': [1044],\n",
              "  '2804,1180,364,2281,99': [1045],\n",
              "  '777,2146,364,2281,99': [1046],\n",
              "  '869,2977,364,1343,99': [1047],\n",
              "  '363,45,79,425,938': [1048, 1051],\n",
              "  '844,907,1343,478,874': [1049],\n",
              "  '878,35,79,425,1485': [1050],\n",
              "  '554,344,350,306,897': [1053, 1055, 1056],\n",
              "  '520,107,407,1864,411': [1054],\n",
              "  '172,653,364,276,747': [1057],\n",
              "  '2134,121,364,276,1290': [1058],\n",
              "  '343,107,681,276,2373': [1059],\n",
              "  '400,107,539,276,86': [1060],\n",
              "  '494,107,681,276,2373': [1061],\n",
              "  '63,277,1833,74,2389': [1064, 1065],\n",
              "  '918,35,364,2281,99': [1066],\n",
              "  '395,35,1631,219,318': [1067],\n",
              "  '3988,35,364,1590,1485': [1068],\n",
              "  '63,289,166,74,2389': [1069, 1071, 2372],\n",
              "  '63,2263,33,74,1101': [1070],\n",
              "  '645,1180,353,2447,1308': [1072],\n",
              "  '1334,2085,1027,87,1784': [1073],\n",
              "  '717,3362,1167,87,1919': [1074],\n",
              "  '577,743,4056,1579,3608': [1075, 1077],\n",
              "  '918,52,1315,87,99': [1076],\n",
              "  '717,292,1315,87,99': [1078],\n",
              "  '28,230,3275,2506,1138': [1079, 1080],\n",
              "  '28,2178,942,243,1584': [1081],\n",
              "  '1856,369,3212,1579,7296': [1082],\n",
              "  '720,2049,1384,591,50': [1083],\n",
              "  '6940,369,3212,763,2168': [1084],\n",
              "  '9065,31,5587,1579,2700': [1085],\n",
              "  '63,669,317,74,2389': [1086, 1087, 1089],\n",
              "  '720,669,317,2464,50': [1088],\n",
              "  '2929,560,1271,120,629': [1090, 1093],\n",
              "  '1065,2425,439,243,1060': [1091, 1092, 1094, 1095],\n",
              "  '373,144,2778,280,654': [1097, 1098, 1099],\n",
              "  '2844,1651,511,616,275': [1100],\n",
              "  '484,19,3503,2537,374': [1101],\n",
              "  '10740,2263,4531,74,2151': [1102],\n",
              "  '1045,1145,2072,1579,1776': [1105],\n",
              "  '895,2008,3025,1579,391': [1106],\n",
              "  '421,648,358,314,1956': [1107],\n",
              "  '720,3684,2728,2074,653': [1108],\n",
              "  '1045,1441,2340,361,1123': [1109],\n",
              "  '1045,1441,2340,851,1123': [1110],\n",
              "  '1110,117,2070,662,1919': [1111],\n",
              "  '421,950,182,1585,1919': [1112, 1116],\n",
              "  '7378,8040,4571,87,1919': [1113, 1114],\n",
              "  '720,2658,3314,214,653': [1115],\n",
              "  '484,858,4331,2762,1306': [1117],\n",
              "  '385,858,220,1261,140': [1118],\n",
              "  '1093,2882,3407,3198,9': [1119],\n",
              "  '116,2882,1188,1963,2426': [1120],\n",
              "  '3288,1315,1167,1716,6332': [1121, 1125],\n",
              "  '1008,357,484,1364,515': [1122],\n",
              "  '1898,357,219,2533,2126': [1123],\n",
              "  '645,1180,353,2401,1308': [1124],\n",
              "  '720,669,100,2584,653': [1126, 1127],\n",
              "  '669,669,100,1207,726': [1128],\n",
              "  '669,1203,100,1207,726': [1129, 1256, 1257],\n",
              "  '63,2263,4571,74,2151': [1132, 1133, 1559],\n",
              "  '720,2102,1384,2091,50': [1134],\n",
              "  '669,1239,2028,1579,587': [1135, 1136],\n",
              "  '669,1219,2479,1579,67': [1137],\n",
              "  '1221,1294,364,967,528': [1138, 1140],\n",
              "  '1221,1180,364,967,1258': [1139, 1142],\n",
              "  '172,1180,364,232,1448': [1141],\n",
              "  '744,2038,944,243,6411': [1143],\n",
              "  '1261,1179,1813,422,1056': [1144],\n",
              "  '1261,2038,1813,243,1060': [1145, 1147],\n",
              "  '1261,110,1813,243,172': [1146, 1149, 1150],\n",
              "  '1261,189,1813,1792,1576': [1148],\n",
              "  '5366,4427,831,790,84': [1151, 1152],\n",
              "  '520,574,2014,3649,3120': [1153, 4469],\n",
              "  '5166,574,3988,87,1919': [1154],\n",
              "  '112,372,1479,801,966': [1155, 1156, 1160, 1162],\n",
              "  '1672,292,2268,1542,264': [1157],\n",
              "  '507,292,1268,932,50': [1158],\n",
              "  '63,292,2256,1542,264': [1159],\n",
              "  '245,1137,985,431,5802': [1161],\n",
              "  '1522,4559,2007,1711,4': [1163],\n",
              "  '943,269,140,401,1255': [1164],\n",
              "  '193,553,832,412,1093': [1165, 1167, 4464],\n",
              "  '193,269,140,1711,1255': [1166],\n",
              "  '1164,269,140,1711,1255': [1168],\n",
              "  '63,2263,484,74,16': [1169, 1170],\n",
              "  '512,1152,151,44,370': [1171, 1175],\n",
              "  '520,2520,171,2641,1570': [1172],\n",
              "  '520,3029,171,3873,1570': [1173],\n",
              "  '116,2364,1754,2062,1101': [1174],\n",
              "  '220,819,1120,1065,1049': [1176, 1178, 1179],\n",
              "  '1045,199,1120,1065,1776': [1177],\n",
              "  '522,1502,1795,455,819': [1180],\n",
              "  '2009,2263,1377,139,819': [1181],\n",
              "  '1038,1502,353,670,332': [1182],\n",
              "  '1038,1502,1377,617,819': [1183],\n",
              "  '1235,35,353,2080,441': [1184, 1185, 1186, 1187],\n",
              "  '283,35,2326,1788,2159': [1188],\n",
              "  '720,3528,317,558,50': [1189],\n",
              "  '63,2263,317,74,286': [1190, 1728, 4497],\n",
              "  '2162,2146,2582,453,2652': [1191],\n",
              "  '2162,2146,364,453,2652': [1192],\n",
              "  '326,7172,609,453,513': [1193, 1194],\n",
              "  '421,1512,2497,453,1919': [1195, 1197, 2642, 2643, 2645, 2647],\n",
              "  '560,1282,539,453,377': [1196],\n",
              "  '166,44,112,78,217': [1198],\n",
              "  '63,125,717,74,1378': [1199, 1202],\n",
              "  '63,52,1917,74,268': [1200],\n",
              "  '2,2263,1225,74,1577': [1201, 1203],\n",
              "  '551,2439,964,401,390': [1204],\n",
              "  '717,498,317,470,286': [1205, 4412],\n",
              "  '551,1598,964,401,390': [1206, 1207],\n",
              "  '1568,277,1831,958,2746': [1208],\n",
              "  '225,1239,1096,87,1429': [1209],\n",
              "  '669,1239,2479,87,901': [1210, 1211],\n",
              "  '512,1152,3717,87,1919': [1212, 2464],\n",
              "  '520,351,552,171,1211': [1213],\n",
              "  '252,169,1262,1010,1228': [1214, 1215, 1218],\n",
              "  '2,169,897,36,197': [1216, 1220],\n",
              "  '2,19,897,36,197': [1217],\n",
              "  '252,1791,1262,1010,960': [1219],\n",
              "  '1380,2025,1290,1152,20': [1221, 1223, 1225],\n",
              "  '1380,1936,2155,1152,360': [1222],\n",
              "  '1380,2025,957,1152,360': [1224],\n",
              "  '424,1282,378,306,377': [1226, 1230],\n",
              "  '424,1938,364,306,616': [1227, 1232],\n",
              "  '1811,289,364,306,676': [1228],\n",
              "  '424,326,364,306,278': [1229],\n",
              "  '322,177,364,1965,1486': [1231],\n",
              "  '4808,52,1608,87,569': [1233],\n",
              "  '1613,71,39,1400,569': [1234, 1236],\n",
              "  '1859,2037,1608,87,569': [1235, 4485],\n",
              "  '2316,66,1516,596,1485': [1237],\n",
              "  '836,451,1159,596,3': [1238, 1239],\n",
              "  '717,1677,1315,1579,1485': [1240, 1243],\n",
              "  '717,1530,3058,87,99': [1241],\n",
              "  '926,946,846,1813,318': [1242],\n",
              "  '194,8954,596,10908,2202': [1244],\n",
              "  '194,2418,596,3341,2501': [1245, 1246],\n",
              "  '194,1672,278,1409,129': [1247, 1248],\n",
              "  '1875,981,1370,1516,468': [1249],\n",
              "  '641,981,1664,2089,1362': [1250],\n",
              "  '819,171,13,637,1447': [1251],\n",
              "  '1002,723,665,70,407': [1252, 1253],\n",
              "  '223,669,317,563,653': [1254],\n",
              "  '669,2042,961,894,1341': [1255],\n",
              "  '5157,5252,1849,87,1919': [1258, 1260],\n",
              "  '7104,52,3698,87,827': [1259],\n",
              "  '5157,5252,1849,2073,1919': [1261],\n",
              "  '2524,1302,963,2299,521': [1262, 1265],\n",
              "  '1292,198,1532,4280,1474': [1263],\n",
              "  '1661,3065,2099,3184,1004': [1264],\n",
              "  '2524,17,469,2299,521': [1266],\n",
              "  '4736,198,1622,1506,825': [1267],\n",
              "  '1786,1210,557,1094,693': [1268],\n",
              "  '6172,2218,5357,4074,3648': [1269],\n",
              "  '484,858,220,3848,654': [1270, 1273],\n",
              "  '484,858,220,3848,1676': [1271],\n",
              "  '484,858,257,2395,654': [1272],\n",
              "  '63,369,3177,74,161': [1274],\n",
              "  '63,52,3177,74,161': [1275],\n",
              "  '720,453,1384,2115,50': [1276],\n",
              "  '717,1219,429,2214,1263': [1277],\n",
              "  '669,1239,317,66,1032': [1278, 2446, 2447, 2451],\n",
              "  '63,2263,1023,74,2389': [1279, 1280, 1281],\n",
              "  '90,2263,1023,611,2588': [1282],\n",
              "  '15,619,3570,338,1244': [1283, 1284],\n",
              "  '15,292,4482,338,1244': [1285],\n",
              "  '15,619,353,338,401': [1286, 1287],\n",
              "  '1176,3829,1080,2022,2704': [1288, 1289, 1291, 1293],\n",
              "  '878,6854,375,1729,2631': [1290],\n",
              "  '223,3176,1362,563,653': [1292],\n",
              "  '623,3197,2283,775,609': [1294, 1295],\n",
              "  '623,3382,57,34,1143': [1296],\n",
              "  '623,3382,57,1035,1143': [1297, 1298],\n",
              "  '717,1530,3058,3721,99': [1299, 1835, 2064, 2065, 2071, 2077, 2235],\n",
              "  '720,243,4283,214,99': [1300, 2061],\n",
              "  '939,574,1516,87,1485': [1301],\n",
              "  '4546,1019,353,87,1485': [1302],\n",
              "  '29,198,60,1506,5496': [1303, 1307],\n",
              "  '1816,194,60,1078,5496': [1304, 1305, 1306, 1308, 1309],\n",
              "  '720,14,2296,214,653': [1310],\n",
              "  '5003,1239,2296,87,1919': [1311],\n",
              "  '2399,2263,15,1533,587': [1312, 1316, 1929, 1930, 1933],\n",
              "  '63,272,15,74,528': [1313, 1315],\n",
              "  '63,52,15,74,587': [1314],\n",
              "  '63,272,15,74,587': [1317],\n",
              "  '2,289,1501,1111,256': [1318, 1321],\n",
              "  '2,1888,4281,443,988': [1319],\n",
              "  '492,289,290,1606,668': [1320],\n",
              "  '2,289,868,371,1981': [1322],\n",
              "  '492,289,290,1606,256': [1323],\n",
              "  '648,2436,1483,572,144': [1324, 1325, 1327],\n",
              "  '45,294,429,1920,53': [1326],\n",
              "  '7041,4986,3064,2197,53': [1328, 1329],\n",
              "  '1510,457,1717,229,226': [1330],\n",
              "  '89,1137,1013,1727,1410': [1331],\n",
              "  '2029,1563,1840,2045,76': [1332],\n",
              "  '1510,3242,1717,229,226': [1333],\n",
              "  '669,1239,2479,2353,901': [1334],\n",
              "  '720,2155,3064,214,480': [1335],\n",
              "  '720,957,412,127,50': [1336],\n",
              "  '63,2437,428,389,286': [1337],\n",
              "  '63,297,428,389,2506': [1338],\n",
              "  '1129,957,412,127,1019': [1339],\n",
              "  '705,156,391,550,1129': [1340, 1341],\n",
              "  '705,224,391,1741,700': [1342, 1344],\n",
              "  '938,1168,391,1741,700': [1343],\n",
              "  '764,33,281,950,289': [1345],\n",
              "  '796,4933,281,1460,3388': [1346],\n",
              "  '504,3046,281,315,289': [1347],\n",
              "  '209,1416,963,102,300': [1348],\n",
              "  '209,536,963,102,300': [1349, 1350],\n",
              "  '1539,1779,98,1579,3180': [1351],\n",
              "  '9860,12,98,1579,562': [1352, 1353],\n",
              "  '994,12,3384,652,562': [1354],\n",
              "  '994,12,1139,98,562': [1355, 1356],\n",
              "  '574,932,378,669,1169': [1357],\n",
              "  '574,932,378,669,1486': [1358],\n",
              "  '49,107,534,87,569': [1359, 1362],\n",
              "  '49,107,112,203,569': [1360],\n",
              "  '49,107,679,214,569': [1361],\n",
              "  '4546,2146,2161,790,84': [1363],\n",
              "  '4546,2146,364,790,84': [1364, 1366],\n",
              "  '2518,2146,364,2193,98': [1365],\n",
              "  '339,2708,976,1745,770': [1367, 1368],\n",
              "  '1698,1,392,1741,4952': [1369, 1370, 1372],\n",
              "  '1698,2043,392,1741,875': [1371],\n",
              "  '135,769,1106,481,1181': [1373],\n",
              "  '63,1075,944,74,2389': [1374],\n",
              "  '116,2882,1384,1963,50': [1375],\n",
              "  '63,2263,999,74,2389': [1376],\n",
              "  '116,2263,999,1533,3265': [1377],\n",
              "  '417,1309,542,70,154': [1378],\n",
              "  '1002,723,542,70,154': [1379],\n",
              "  '697,62,991,150,236': [1380, 1381, 4445],\n",
              "  '1154,342,27,8137,1702': [1382, 2182],\n",
              "  '1154,3242,6899,1792,3011': [1383],\n",
              "  '946,623,831,2406,3508': [1384],\n",
              "  '2164,490,558,379,650': [1385, 1386],\n",
              "  '5947,1019,353,401,2409': [1387, 1388, 1394],\n",
              "  '63,1019,73,74,2389': [1389, 1393],\n",
              "  '1093,1019,73,148,3633': [1390],\n",
              "  '63,52,73,74,2389': [1391],\n",
              "  '1706,1156,5449,576,4505': [1392],\n",
              "  '720,518,1178,404,143': [1395],\n",
              "  '717,232,2170,1579,700': [1396],\n",
              "  '717,3362,1516,3721,1485': [1398, 1400],\n",
              "  '2430,818,1519,1091,1919': [1399],\n",
              "  '717,2116,253,87,190': [1401, 1402],\n",
              "  '819,2116,2006,637,190': [1403],\n",
              "  '2829,318,2494,2,834': [1404],\n",
              "  '600,3251,3268,214,653': [1405],\n",
              "  '366,1707,2143,1681,3289': [1406],\n",
              "  '669,1262,963,999,521': [1407],\n",
              "  '150,1707,78,1335,521': [1408],\n",
              "  '669,1707,231,2299,424': [1409],\n",
              "  '178,1007,727,130,1070': [1410],\n",
              "  '1859,1883,2426,689,189': [1411, 1413],\n",
              "  '421,1320,579,1393,125': [1412],\n",
              "  '720,1300,134,49,341': [1414],\n",
              "  '1739,333,277,2189,974': [1415],\n",
              "  '205,281,866,763,68': [1416, 1417],\n",
              "  '433,2734,278,910,4217': [1418],\n",
              "  '1080,850,3116,763,282': [1419],\n",
              "  '421,8508,2582,1976,1919': [1420],\n",
              "  '599,516,73,306,897': [1421],\n",
              "  '599,314,888,306,263': [1422, 4401],\n",
              "  '2888,499,4015,4250,693': [1423],\n",
              "  ...}]"
            ]
          },
          "metadata": {},
          "execution_count": 13
        }
      ],
      "source": [
        "lsh.buckets[:1]"
      ]
    },
    {
      "cell_type": "markdown",
      "metadata": {
        "id": "qemuKIghxMU_"
      },
      "source": [
        "Now we've filled our hash buckets all we need to do is loop through each and where we have multiple entries in a single bucket, mark these as our candidate pairs."
      ]
    },
    {
      "cell_type": "code",
      "execution_count": 14,
      "metadata": {
        "id": "85uNFdNtxMU_",
        "outputId": "2ba5cac9-aa95-4ded-8f5f-b97ab11d4533",
        "colab": {
          "base_uri": "https://localhost:8080/"
        }
      },
      "outputs": [
        {
          "output_type": "execute_result",
          "data": {
            "text/plain": [
              "7395"
            ]
          },
          "metadata": {},
          "execution_count": 14
        }
      ],
      "source": [
        "candidate_pairs = lsh.check_candidates()\n",
        "len(candidate_pairs)"
      ]
    },
    {
      "cell_type": "code",
      "execution_count": 15,
      "metadata": {
        "id": "8Tqd9cXtxMU_",
        "outputId": "efa854c1-f3e3-410a-8690-59564ce172da",
        "colab": {
          "base_uri": "https://localhost:8080/"
        }
      },
      "outputs": [
        {
          "output_type": "execute_result",
          "data": {
            "text/plain": [
              "[(3877, 3878), (867, 1131), (208, 4235), (1979, 1981), (568, 2003)]"
            ]
          },
          "metadata": {},
          "execution_count": 15
        }
      ],
      "source": [
        "list(candidate_pairs)[:5]"
      ]
    },
    {
      "cell_type": "markdown",
      "metadata": {
        "id": "X0s6fPLIxMU_"
      },
      "source": [
        "We now have all of our candidate pairs!"
      ]
    },
    {
      "cell_type": "markdown",
      "metadata": {
        "id": "JujXAZPaxMVA"
      },
      "source": [
        "## Optimizing the Bands\n",
        "\n",
        "Now let's visualize the actual cosine similarity of our signature vectors against whether we identified the signatures as candidate pairs or not.\n",
        "\n",
        "(we will also calculate Jaccard but it's less useful here, try both!)"
      ]
    },
    {
      "cell_type": "code",
      "execution_count": 16,
      "metadata": {
        "id": "TxzJEp6hxMVA"
      },
      "outputs": [],
      "source": [
        "from sklearn.metrics.pairwise import cosine_similarity\n",
        "\n",
        "def jaccard(a: set, b: set):\n",
        "    return len(a.intersection(b)) / len(a.union(b))"
      ]
    },
    {
      "cell_type": "code",
      "execution_count": 18,
      "metadata": {
        "id": "zLzFTsYzxMVA"
      },
      "outputs": [],
      "source": [
        "pairs = pd.DataFrame({\n",
        "    'x': [],\n",
        "    'y': [],\n",
        "    'jaccard': [],\n",
        "    'cosine': [],\n",
        "    'candidate': []\n",
        "})\n",
        "\n",
        "data_len = shingles_1hot.shape[0]\n",
        "chosen = set()\n",
        "# take random sample of pairs\n",
        "sample_size = 50_000\n",
        "for _ in range(sample_size):\n",
        "    x, y = np.random.choice(data_len, 2)\n",
        "    if x == y or (x, y) in chosen: continue\n",
        "    chosen.add((x, y))\n",
        "    vector_x = signatures[x]\n",
        "    vector_y = signatures[y]\n",
        "    candidate = 1 if (x, y) in candidate_pairs else 0\n",
        "    cosine = cosine_similarity([vector_x], [vector_y])[0][0]\n",
        "    pairs = pd.concat([pairs, pd.DataFrame({\n",
        "            'x': x,\n",
        "            'y': y,\n",
        "            'jaccard': jaccard(set(vector_x), set(vector_y)),\n",
        "            'cosine': cosine,\n",
        "            'candidate': candidate\n",
        "        },index=[0])], ignore_index=True)\n",
        "\n",
        "# add a normalized cosine column for better alignment\n",
        "cos_min = pairs['cosine'].min()\n",
        "cos_max = pairs['cosine'].max()\n",
        "pairs['cosine_norm'] = (pairs['cosine'] - cos_min) / (cos_max - cos_min)"
      ]
    },
    {
      "cell_type": "code",
      "execution_count": 19,
      "metadata": {
        "id": "Gkh027C_xMVA",
        "outputId": "bfe0005c-3851-4ca9-a8b0-d9fe0c84f80c",
        "colab": {
          "base_uri": "https://localhost:8080/",
          "height": 467
        }
      },
      "outputs": [
        {
          "output_type": "execute_result",
          "data": {
            "text/plain": [
              "<Axes: xlabel='cosine', ylabel='candidate'>"
            ]
          },
          "metadata": {},
          "execution_count": 19
        },
        {
          "output_type": "display_data",
          "data": {
            "text/plain": [
              "<Figure size 640x480 with 1 Axes>"
            ],
            "image/png": "[encoded data removed]"
          },
          "metadata": {}
        }
      ],
      "source": [
        "import matplotlib.pyplot as plt\n",
        "import seaborn as sns\n",
        "\n",
        "sns.scatterplot(data=pairs, x='cosine', y='candidate', alpha=0.5)"
      ]
    },
    {
      "cell_type": "markdown",
      "metadata": {
        "id": "2UC7g7ELxMVA"
      },
      "source": [
        "Now, this is an *interesting* way to visualize our distribution, but we have reason. We can actually tune our LSH function using `b`, and we have a formalized function that tells us the probability of identifying a pair as candidate pairs given their similarity. We calculate this as so:"
      ]
    },
    {
      "cell_type": "code",
      "execution_count": 20,
      "metadata": {
        "id": "8GjP9wIzxMVB"
      },
      "outputs": [],
      "source": [
        "def probability(s, r, b):\n",
        "    # s: similarity\n",
        "    # r: rows (per band)\n",
        "    # b: number of bands\n",
        "    return 1 - (1 - s**r)**b\n",
        "\n",
        "def normalize(x, x_min, x_max):\n",
        "    return (x - x_min) / (x_max - x_min)"
      ]
    },
    {
      "cell_type": "markdown",
      "metadata": {
        "id": "nQBOxX3mxMVB"
      },
      "source": [
        "Let's visualize that for our current parameters, alongside our scatter plot."
      ]
    },
    {
      "cell_type": "code",
      "execution_count": 21,
      "metadata": {
        "id": "sn3TkySOxMVB",
        "outputId": "0eac2e68-b698-48af-f9a8-8b282adb5575",
        "colab": {
          "base_uri": "https://localhost:8080/",
          "height": 467
        }
      },
      "outputs": [
        {
          "output_type": "execute_result",
          "data": {
            "text/plain": [
              "<Axes: xlabel='cosine', ylabel='candidate'>"
            ]
          },
          "metadata": {},
          "execution_count": 21
        },
        {
          "output_type": "display_data",
          "data": {
            "text/plain": [
              "<Figure size 640x480 with 1 Axes>"
            ],
            "image/png": "[encoded data removed]"
          },
          "metadata": {}
        }
      ],
      "source": [
        "b = 20\n",
        "r = int(100 / b)\n",
        "s_scores = np.arange(0.01, 1, 0.01)\n",
        "P_scores = [probability(s, r, b) for s in s_scores]\n",
        "\n",
        "sns.lineplot(x=s_scores, y=P_scores)\n",
        "sns.scatterplot(data=pairs, x='cosine', y='candidate', alpha=0.1, color='k')"
      ]
    },
    {
      "cell_type": "code",
      "execution_count": 22,
      "metadata": {
        "id": "ctMnCn05xMVB",
        "outputId": "11024209-9f51-4214-ee63-3cbcc2bfa1f0",
        "colab": {
          "base_uri": "https://localhost:8080/",
          "height": 468
        }
      },
      "outputs": [
        {
          "output_type": "execute_result",
          "data": {
            "text/plain": [
              "<Axes: xlabel='cosine_norm', ylabel='candidate'>"
            ]
          },
          "metadata": {},
          "execution_count": 22
        },
        {
          "output_type": "display_data",
          "data": {
            "text/plain": [
              "<Figure size 640x480 with 1 Axes>"
            ],
            "image/png": "[encoded data removed]"
          },
          "metadata": {}
        }
      ],
      "source": [
        "b = 20\n",
        "r = int(100 / b)\n",
        "s_scores = np.arange(0.01, 1, 0.01)\n",
        "P_scores = [probability(s, r, b) for s in s_scores]\n",
        "\n",
        "sns.lineplot(x=s_scores, y=P_scores)\n",
        "sns.scatterplot(data=pairs, x='cosine_norm', y='candidate', alpha=0.1, color='k')"
      ]
    },
    {
      "cell_type": "markdown",
      "metadata": {
        "id": "gWuc3xQoxMVB"
      },
      "source": [
        "From here we can attempt to modify the similarity threshold `t` - which is the cut-off point on our similarity axes as to where we would like a given cosine similarity to rate as a candidate pair or not.\n",
        "\n",
        "Let's try a few different band values with our probability formula to see where this balance may be."
      ]
    },
    {
      "cell_type": "code",
      "execution_count": 24,
      "metadata": {
        "id": "aS-3iA82xMVB",
        "outputId": "dac9b3f4-1764-4fc6-94f5-b98edf10c7c8",
        "colab": {
          "base_uri": "https://localhost:8080/",
          "height": 467
        }
      },
      "outputs": [
        {
          "output_type": "execute_result",
          "data": {
            "text/plain": [
              "<Axes: xlabel='s', ylabel='P'>"
            ]
          },
          "metadata": {},
          "execution_count": 24
        },
        {
          "output_type": "display_data",
          "data": {
            "text/plain": [
              "<Figure size 640x480 with 1 Axes>"
            ],
            "image/png": "[encoded data removed]"
          },
          "metadata": {}
        }
      ],
      "source": [
        "probs = pd.DataFrame({\n",
        "    'P': [],\n",
        "    's': [],\n",
        "    'b': []\n",
        "})\n",
        "\n",
        "for b in [100, 50, 25, 20, 10, 5, 2]:\n",
        "    r = int(100 / b)\n",
        "    s_scores = np.arange(0.01, 1, 0.01)\n",
        "    P_scores = [probability(s, r, b) for s in s_scores]\n",
        "    probs = pd.concat([probs,pd.DataFrame({\n",
        "        'P': P_scores,\n",
        "        's': s_scores,\n",
        "        'b': [str(b)]*len(s_scores)\n",
        "    })], ignore_index=True)\n",
        "\n",
        "sns.lineplot(data=probs, x='s', y='P', hue='b')"
      ]
    },
    {
      "cell_type": "markdown",
      "metadata": {
        "id": "O4OCfNawxMVB"
      },
      "source": [
        "So a `b` value of `20` have us a threshold value `t` slightly too high (depending on our definition of 'similar'), so maybe we can use `b == 25` to get a better distribution of our candidate pairs.\n",
        "\n",
        "Let's try:"
      ]
    },
    {
      "cell_type": "code",
      "execution_count": 25,
      "metadata": {
        "id": "Qkg4UUjJxMVB",
        "outputId": "525b05e9-ff76-4285-ec35-2853d2eb0538",
        "colab": {
          "base_uri": "https://localhost:8080/"
        }
      },
      "outputs": [
        {
          "output_type": "execute_result",
          "data": {
            "text/plain": [
              "12769"
            ]
          },
          "metadata": {},
          "execution_count": 25
        }
      ],
      "source": [
        "b = 25\n",
        "\n",
        "lsh = LSH(b)\n",
        "\n",
        "for signature in signatures:\n",
        "    lsh.add_hash(signature)\n",
        "\n",
        "candidate_pairs = lsh.check_candidates()\n",
        "len(candidate_pairs)"
      ]
    },
    {
      "cell_type": "code",
      "execution_count": 28,
      "metadata": {
        "id": "pgndOYjyxMVC"
      },
      "outputs": [],
      "source": [
        "pairs = pd.DataFrame({\n",
        "    'x': [],\n",
        "    'y': [],\n",
        "    'jaccard': [],\n",
        "    'cosine': [],\n",
        "    'candidate': []\n",
        "})\n",
        "\n",
        "data_len = shingles_1hot.shape[0]\n",
        "chosen = set()\n",
        "# take random sample of pairs\n",
        "sample_size = 50_000\n",
        "for _ in range(sample_size):\n",
        "    x, y = np.random.choice(data_len, 2)\n",
        "    if x == y or (x, y) in chosen: continue\n",
        "    chosen.add((x, y))\n",
        "    vector_x = signatures[x]\n",
        "    vector_y = signatures[y]\n",
        "    candidate = 1 if (x, y) in candidate_pairs else 0\n",
        "    cosine = cosine_similarity([vector_x], [vector_y])[0][0]\n",
        "    pairs = pd.concat([pairs,pd.DataFrame({\n",
        "            'x': x,\n",
        "            'y': y,\n",
        "            'jaccard': jaccard(set(vector_x), set(vector_y)),\n",
        "            'cosine': cosine,\n",
        "            'candidate': candidate\n",
        "        },index=[0])], ignore_index=True)\n",
        "\n",
        "# add a normalized cosine column for better alignment\n",
        "cos_min = pairs['cosine'].min()\n",
        "cos_max = pairs['cosine'].max()\n",
        "pairs['cosine_norm'] = (pairs['cosine'] - cos_min) / (cos_max - cos_min)"
      ]
    },
    {
      "cell_type": "code",
      "execution_count": 29,
      "metadata": {
        "id": "pRCfcMiIxMVC",
        "outputId": "5905265f-a8e2-4c14-e442-a231b4e43569",
        "colab": {
          "base_uri": "https://localhost:8080/",
          "height": 467
        }
      },
      "outputs": [
        {
          "output_type": "execute_result",
          "data": {
            "text/plain": [
              "<Axes: xlabel='cosine', ylabel='candidate'>"
            ]
          },
          "metadata": {},
          "execution_count": 29
        },
        {
          "output_type": "display_data",
          "data": {
            "text/plain": [
              "<Figure size 640x480 with 1 Axes>"
            ],
            "image/png": "[encoded data removed]"
          },
          "metadata": {}
        }
      ],
      "source": [
        "r = int(100 / b)\n",
        "s_scores = np.arange(0.01, 1, 0.01)\n",
        "P_scores = [probability(s, r, b) for s in s_scores]\n",
        "\n",
        "sns.lineplot(x=s_scores, y=P_scores)\n",
        "sns.scatterplot(data=pairs, x='cosine', y='candidate', alpha=0.1, color='k')"
      ]
    },
    {
      "cell_type": "code",
      "execution_count": 30,
      "metadata": {
        "id": "jXhb_xPZxMVC",
        "outputId": "3c57f060-8780-4b5b-bb49-4ec739dce31a",
        "colab": {
          "base_uri": "https://localhost:8080/",
          "height": 468
        }
      },
      "outputs": [
        {
          "output_type": "execute_result",
          "data": {
            "text/plain": [
              "<Axes: xlabel='cosine_norm', ylabel='candidate'>"
            ]
          },
          "metadata": {},
          "execution_count": 30
        },
        {
          "output_type": "display_data",
          "data": {
            "text/plain": [
              "<Figure size 640x480 with 1 Axes>"
            ],
            "image/png": "[encoded data removed]"
          },
          "metadata": {}
        }
      ],
      "source": [
        "r = int(100 / b)\n",
        "s_scores = np.arange(0.01, 1, 0.01)\n",
        "P_scores = [probability(s, r, b) for s in s_scores]\n",
        "\n",
        "sns.lineplot(x=s_scores, y=P_scores)\n",
        "sns.scatterplot(data=pairs, x='cosine_norm', y='candidate', alpha=0.1, color='k')"
      ]
    },
    {
      "cell_type": "markdown",
      "metadata": {
        "id": "5tpAhY-CxMVC"
      },
      "source": [
        "Shifting from `b == 20` to `b == 25` has reduced the number of non-candidates around `0.7 - 0.8`, and we can see that the number of candidate pairs in total has increased significantly too, from `7468` to `19436`.\n",
        "\n",
        "Now, in our own use-cases, the preferred similarity threshold will of-course change.\n",
        "\n",
        "It's also worth noting that different similarity metrics will produce different charts:"
      ]
    },
    {
      "cell_type": "code",
      "execution_count": 31,
      "metadata": {
        "id": "amKw_oo6xMVD",
        "outputId": "36329bed-47b2-4de3-e719-9823b5e1b82a",
        "colab": {
          "base_uri": "https://localhost:8080/",
          "height": 467
        }
      },
      "outputs": [
        {
          "output_type": "execute_result",
          "data": {
            "text/plain": [
              "<Axes: xlabel='jaccard', ylabel='candidate'>"
            ]
          },
          "metadata": {},
          "execution_count": 31
        },
        {
          "output_type": "display_data",
          "data": {
            "text/plain": [
              "<Figure size 640x480 with 1 Axes>"
            ],
            "image/png": "[encoded data removed]"
          },
          "metadata": {}
        }
      ],
      "source": [
        "r = int(100 / b)\n",
        "s_scores = np.arange(0.01, 1, 0.01)\n",
        "P_scores = [probability(s, r, b) for s in s_scores]\n",
        "\n",
        "sns.lineplot(x=s_scores, y=P_scores)\n",
        "sns.scatterplot(data=pairs, x='jaccard', y='candidate', alpha=0.1, color='k')"
      ]
    }
  ],
  "metadata": {
    "interpreter": {
      "hash": "a683edd788238e5c64f9fa2e4bdd4387776bc5c6f4f0a84da0685f9a25e421d6"
    },
    "kernelspec": {
      "display_name": "Python 3.8.8 64-bit ('ml': conda)",
      "name": "python3"
    },
    "language_info": {
      "codemirror_mode": {
        "name": "ipython",
        "version": 3
      },
      "file_extension": ".py",
      "mimetype": "text/x-python",
      "name": "python",
      "nbconvert_exporter": "python",
      "pygments_lexer": "ipython3",
      "version": "3.8.8"
    },
    "orig_nbformat": 4,
    "colab": {
      "provenance": [],
      "include_colab_link": true
    }
  },
  "nbformat": 4,
  "nbformat_minor": 0
}