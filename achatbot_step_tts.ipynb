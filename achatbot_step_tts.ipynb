{
  "nbformat": 4,
  "nbformat_minor": 0,
  "metadata": {
    "colab": {
      "provenance": [],
      "gpuType": "T4",
      "authorship_tag": "ABX9TyNozb60heBWVoRrThW1OFya",
      "include_colab_link": true
    },
    "kernelspec": {
      "name": "python3",
      "display_name": "Python 3"
    },
    "language_info": {
      "name": "python"
    },
    "accelerator": "GPU"
  },
  "cells": [
    {
      "cell_type": "markdown",
      "metadata": {
        "id": "view-in-github",
        "colab_type": "text"
      },
      "source": [
        "<a href=\"https://colab.research.google.com/github/weedge/doraemon-nb/blob/main/achatbot_step_tts.ipynb\" target=\"_parent\"><img src=\"https://colab.research.google.com/assets/colab-badge.svg\" alt=\"Open In Colab\"/></a>"
      ]
    },
    {
      "cell_type": "markdown",
      "source": [
        "# install"
      ],
      "metadata": {
        "id": "SKRjufoQUwv8"
      }
    },
    {
      "cell_type": "code",
      "execution_count": null,
      "metadata": {
        "id": "STvIg2jVUlEf"
      },
      "outputs": [],
      "source": [
        "!git clone https://github.com/ai-bot-pro/achatbot.git -b feat/tts\n"
      ]
    },
    {
      "cell_type": "code",
      "source": [
        "%cd /content/achatbot\n"
      ],
      "metadata": {
        "colab": {
          "base_uri": "https://localhost:8080/"
        },
        "id": "oVE_tDmwU-gl",
        "outputId": "65b8fff7-9fdd-4325-cfa4-c7d25df8ec71"
      },
      "execution_count": 2,
      "outputs": [
        {
          "output_type": "stream",
          "name": "stdout",
          "text": [
            "/content/achatbot\n"
          ]
        }
      ]
    },
    {
      "cell_type": "code",
      "source": [
        "!git submodule update --init --recursive\n"
      ],
      "metadata": {
        "id": "hCv0dzy1VNdZ"
      },
      "execution_count": null,
      "outputs": []
    },
    {
      "cell_type": "code",
      "source": [
        "!git checkout . && git pull origin feat/tts\n"
      ],
      "metadata": {
        "id": "UGN3hxynVQvS"
      },
      "execution_count": null,
      "outputs": []
    },
    {
      "cell_type": "code",
      "source": [
        "!bash -x scripts/pypi_achatbot.sh dev\n"
      ],
      "metadata": {
        "id": "ORxrrNMLU_0R"
      },
      "execution_count": null,
      "outputs": []
    },
    {
      "cell_type": "code",
      "source": [
        "!pip install -q dist/achatbot-0.0.8.12-py3-none-any.whl[tts_step,grpc]\n"
      ],
      "metadata": {
        "id": "m_amXWRUVTYw"
      },
      "execution_count": null,
      "outputs": []
    },
    {
      "cell_type": "code",
      "source": [
        "!pip install onnxruntime-gpu==1.20.1"
      ],
      "metadata": {
        "id": "_M2bohr1VbzM"
      },
      "execution_count": null,
      "outputs": []
    },
    {
      "cell_type": "code",
      "source": [
        "!apt install -y sox"
      ],
      "metadata": {
        "id": "V5PJIF1TVfjj"
      },
      "execution_count": null,
      "outputs": []
    },
    {
      "cell_type": "markdown",
      "source": [
        "# download ckpt\n"
      ],
      "metadata": {
        "id": "Dq81SvYfPbkE"
      }
    },
    {
      "cell_type": "code",
      "source": [
        "from google.colab import userdata\n",
        "HF_TOKEN=userdata.get('HF_TOKEN')"
      ],
      "metadata": {
        "id": "6hhujTc_xuom"
      },
      "execution_count": 8,
      "outputs": []
    },
    {
      "cell_type": "code",
      "source": [
        "!huggingface-cli login --token $HF_TOKEN --add-to-git-credential\n"
      ],
      "metadata": {
        "id": "c_j8AcMtyF0g"
      },
      "execution_count": null,
      "outputs": []
    },
    {
      "cell_type": "code",
      "source": [
        "!huggingface-cli download stepfun-ai/Step-Audio-Tokenizer --quie --local-dir /content/models/stepfun-ai/Step-Audio-Tokenizer\n"
      ],
      "metadata": {
        "colab": {
          "base_uri": "https://localhost:8080/"
        },
        "id": "iwhowytqImqn",
        "outputId": "a80e0f5d-c0bb-4d02-9c0d-43195347e967"
      },
      "execution_count": 10,
      "outputs": [
        {
          "output_type": "stream",
          "name": "stdout",
          "text": [
            "/content/models/stepfun-ai/Step-Audio-Tokenizer\n"
          ]
        }
      ]
    },
    {
      "cell_type": "code",
      "source": [
        "!huggingface-cli download stepfun-ai/Step-Audio-TTS-3B --quie --local-dir /content/models/stepfun-ai/Step-Audio-TTS-3B\n"
      ],
      "metadata": {
        "colab": {
          "base_uri": "https://localhost:8080/"
        },
        "id": "zJW_a0mRO-xR",
        "outputId": "82aa29f2-b9ab-439e-8563-4340723a7c9c"
      },
      "execution_count": 11,
      "outputs": [
        {
          "output_type": "stream",
          "name": "stdout",
          "text": [
            "/content/models/stepfun-ai/Step-Audio-TTS-3B\n"
          ]
        }
      ]
    },
    {
      "cell_type": "markdown",
      "source": [
        "# test tts\n"
      ],
      "metadata": {
        "id": "JbUaheV6VnmZ"
      }
    },
    {
      "cell_type": "code",
      "source": [
        "%cd /content/achatbot\n"
      ],
      "metadata": {
        "colab": {
          "base_uri": "https://localhost:8080/"
        },
        "id": "9Kgkz8S5Vu0E",
        "outputId": "35c2f895-e863-4d48-869f-2708c2aebc16"
      },
      "execution_count": 12,
      "outputs": [
        {
          "output_type": "stream",
          "name": "stdout",
          "text": [
            "/content/achatbot\n"
          ]
        }
      ]
    },
    {
      "cell_type": "code",
      "source": [
        "!LOG_LEVEL=info TTS_LM_MODEL_PATH=/content/models/stepfun-ai/Step-Audio-TTS-3B \\\n",
        "  TTS_TOKENIZER_MODEL_PATH=/content/models/stepfun-ai/Step-Audio-Tokenizer \\\n",
        "  python -m unittest test.modules.speech.tts.test_step.TestStepTTS.test_get_voices"
      ],
      "metadata": {
        "id": "woQO0HV_VnDi"
      },
      "execution_count": null,
      "outputs": []
    },
    {
      "cell_type": "code",
      "source": [
        "!LOG_LEVEL=info TTS_LM_MODEL_PATH=/content/models/stepfun-ai/Step-Audio-TTS-3B \\\n",
        "  TTS_TOKENIZER_MODEL_PATH=/content/models/stepfun-ai/Step-Audio-Tokenizer \\\n",
        "  REF_AUDIO_PATH=./test/audio_files/asr_example_zh.wav \\\n",
        "  REF_TEXT=\"欢迎大家来体验达摩院推出的语音识别模型\" \\\n",
        "  python -m unittest test.modules.speech.tts.test_step.TestStepTTS.test_set_voice"
      ],
      "metadata": {
        "id": "d7Lw8dJEVvZK"
      },
      "execution_count": null,
      "outputs": []
    },
    {
      "cell_type": "code",
      "source": [
        "!LOG_LEVEL=debug TTS_WARMUP_STEPS=2 TTS_LM_MODEL_PATH=/content/models/stepfun-ai/Step-Audio-TTS-3B \\\n",
        "  TTS_TOKENIZER_MODEL_PATH=/content/models/stepfun-ai/Step-Audio-Tokenizer \\\n",
        "  python -m unittest test.modules.speech.tts.test_step.TestStepTTS.test_synthesize"
      ],
      "metadata": {
        "id": "TNIWJ0-jVysL"
      },
      "execution_count": null,
      "outputs": []
    },
    {
      "cell_type": "code",
      "source": [
        "from IPython.display import Audio\n",
        "Audio(\"/content/achatbot/records/test_tts_step.wav\",autoplay=True)"
      ],
      "metadata": {
        "id": "Zg651jCEneOJ"
      },
      "execution_count": null,
      "outputs": []
    },
    {
      "cell_type": "code",
      "source": [
        "# ref audio\n",
        "!LOG_LEVEL=debug TTS_WARMUP_STEPS=2 TTS_LM_MODEL_PATH=/content/models/stepfun-ai/Step-Audio-TTS-3B \\\n",
        "  TTS_TOKENIZER_MODEL_PATH=/content/models/stepfun-ai/Step-Audio-Tokenizer \\\n",
        "  TTS_STREAM_FACTOR=5 \\\n",
        "  REF_AUDIO_PATH=./test/audio_files/asr_example_zh.wav \\\n",
        "  REF_TEXT=\"欢迎大家来体验达摩院推出的语音识别模型\" \\\n",
        "  TTS_TEXT=\"万物之始,大道至简,衍化至繁。君不见黄河之水天上来，奔流到海不复回。君不见高堂明镜悲白发，朝如青丝暮成雪。人生得意须尽欢，莫使金樽空对月。天生我材必有用，千金散尽还复来。\" \\\n",
        "  python -m unittest test.modules.speech.tts.test_step.TestStepTTS.test_synthesize"
      ],
      "metadata": {
        "id": "sELu2eh6V2G8"
      },
      "execution_count": null,
      "outputs": []
    },
    {
      "cell_type": "code",
      "source": [
        "from IPython.display import Audio\n",
        "Audio(\"/content/achatbot/records/test_tts_step.wav\",autoplay=True)"
      ],
      "metadata": {
        "id": "3ANq5uNR7ir_"
      },
      "execution_count": null,
      "outputs": []
    },
    {
      "cell_type": "code",
      "source": [
        "# ---- TTS_MODE: voice_clone ----\n",
        "# src audio + default ref audio\n",
        "!LOG_LEVEL=debug TTS_WARMUP_STEPS=2 TTS_LM_MODEL_PATH=/content/models/stepfun-ai/Step-Audio-TTS-3B \\\n",
        "  TTS_TOKENIZER_MODEL_PATH=/content/models/stepfun-ai/Step-Audio-Tokenizer \\\n",
        "  TTS_STREAM_FACTOR=2 \\\n",
        "  TTS_MODE=voice_clone \\\n",
        "  SRC_AUDIO_PATH=./test/audio_files/asr_example_zh.wav \\\n",
        "  python -m unittest test.modules.speech.tts.test_step.TestStepTTS.test_synthesize"
      ],
      "metadata": {
        "id": "06pe_g5OV5Ss"
      },
      "execution_count": null,
      "outputs": []
    },
    {
      "cell_type": "code",
      "source": [
        "from IPython.display import Audio\n",
        "Audio(\"/content/achatbot/records/test_tts_step.wav\",autoplay=True)"
      ],
      "metadata": {
        "id": "xT_Im1V__WJO"
      },
      "execution_count": null,
      "outputs": []
    },
    {
      "cell_type": "markdown",
      "source": [
        "# tts speaker with grpc\n"
      ],
      "metadata": {
        "id": "zGwCpCBnKSem"
      }
    },
    {
      "cell_type": "code",
      "source": [
        "%cd /content/achatbot\n"
      ],
      "metadata": {
        "colab": {
          "base_uri": "https://localhost:8080/"
        },
        "id": "eahh5dQEKH1z",
        "outputId": "0f773bfc-487c-458b-a12c-c370cba121b7"
      },
      "execution_count": 77,
      "outputs": [
        {
          "output_type": "stream",
          "name": "stdout",
          "text": [
            "/content/achatbot\n"
          ]
        }
      ]
    },
    {
      "cell_type": "code",
      "source": [
        "#!python -m src.cmd.grpc.speaker.server.serve\n"
      ],
      "metadata": {
        "id": "wrM-ZpHbKVin"
      },
      "execution_count": null,
      "outputs": []
    },
    {
      "cell_type": "code",
      "source": [
        "!TTS_TAG=tts_step IS_SAVE=1 IS_RELOAD=1 \\\n",
        "  TTS_WARMUP_STEPS=2 TTS_LM_MODEL_PATH=/content/models/stepfun-ai/Step-Audio-TTS-3B \\\n",
        "  TTS_TOKENIZER_MODEL_PATH=/content/models/stepfun-ai/Step-Audio-Tokenizer \\\n",
        "  python -m src.cmd.grpc.speaker.client"
      ],
      "metadata": {
        "id": "KIwVOR46KXdA"
      },
      "execution_count": null,
      "outputs": []
    },
    {
      "cell_type": "code",
      "source": [
        "from IPython.display import Audio\n",
        "Audio(\"/content/achatbot/records/grpc_tts_step.wav\",autoplay=True)"
      ],
      "metadata": {
        "id": "uyEGsmWiLXon"
      },
      "execution_count": null,
      "outputs": []
    },
    {
      "cell_type": "code",
      "source": [
        "!TTS_TAG=tts_step IS_SAVE=1 IS_RELOAD=1 \\\n",
        "  TTS_WARMUP_STEPS=2 TTS_LM_MODEL_PATH=/content/models/stepfun-ai/Step-Audio-TTS-3B \\\n",
        "  TTS_TOKENIZER_MODEL_PATH=/content/models/stepfun-ai/Step-Audio-Tokenizer \\\n",
        "  TTS_STREAM_FACTOR=2 \\\n",
        "  TTS_MODE=voice_clone \\\n",
        "  SRC_AUDIO_PATH=./test/audio_files/asr_example_zh.wav \\\n",
        "  python -m src.cmd.grpc.speaker.client"
      ],
      "metadata": {
        "colab": {
          "base_uri": "https://localhost:8080/"
        },
        "id": "vRm_mMCtLmTC",
        "outputId": "17db110d-c6e0-4b91-9334-0d071d245459"
      },
      "execution_count": 87,
      "outputs": [
        {
          "output_type": "stream",
          "name": "stdout",
          "text": [
            "2025-02-21 11:25:25,761 - chat-bot-tts-client - DEBUG - /content/achatbot/src/cmd/grpc/speaker/client.py:59 - load_model - tts_tag: \"tts_step\"\n",
            "is_reload: true\n",
            "json_kwargs: \"{\\\"lm_args\\\": {\\\"lm_model_name_or_path\\\": \\\"/content/models/stepfun-ai/Step-Audio-TTS-3B\\\", \\\"lm_device_map\\\": null, \\\"lm_device\\\": null, \\\"lm_torch_dtype\\\": \\\"auto\\\", \\\"lm_attn_impl\\\": null, \\\"user_role\\\": \\\"user\\\", \\\"warnup_prompt\\\": \\\"Repeat the word \\'weedge niu bi\\'.\\\", \\\"warmup_steps\\\": 2, \\\"init_chat_role\\\": \\\"system\\\", \\\"init_chat_prompt\\\": \\\"You are a helpful and friendly AI assistant. You are polite, respectful, and aim to provide concise responses of less than 20 words.\\\", \\\"lm_gen_seed\\\": 42, \\\"lm_gen_max_new_tokens\\\": 1024, \\\"lm_gen_min_new_tokens\\\": 0, \\\"lm_gen_do_sample\\\": true, \\\"lm_gen_temperature\\\": 0.8, \\\"lm_gen_top_k\\\": 10, \\\"lm_gen_top_p\\\": 1.0, \\\"lm_gen_repetition_penalty\\\": 1.1, \\\"lm_tokenizer_decode_batch_size\\\": 60, \\\"chat_history_size\\\": null, \\\"lm_stream\\\": true, \\\"model_type\\\": \\\"chat_completion\\\", \\\"lm_bnb_quant_type\\\": \\\"int4\\\"}, \\\"stream_factor\\\": 2, \\\"tts_mode\\\": \\\"voice_clone\\\", \\\"speech_tokenizer_model_path\\\": \\\"/content/models/stepfun-ai/Step-Audio-Tokenizer\\\"}\"\n",
            "\n",
            "2025-02-21 11:25:25,761 - chat-bot-tts-client - DEBUG - /content/achatbot/src/common/grpc/interceptors/authentication_client.py:89 - intercept_call - client_call_details: _ClientCallDetails(method='/chat_bot.tts.TTS/LoadModel', timeout=None, metadata=None, credentials=None, wait_for_ready=None, compression=None)\n",
            "2025-02-21 11:27:08,707 - chat-bot-tts-client - DEBUG - /content/achatbot/src/common/grpc/interceptors/authentication_client.py:62 - postprocess - postprocess response: <grpc._interceptor._UnaryOutcome object at 0x79ac22a0ed90>\n",
            "2025-02-21 11:27:08,708 - chat-bot-tts-client - DEBUG - /content/achatbot/src/cmd/grpc/speaker/client.py:61 - load_model - \n",
            "2025-02-21 11:27:08,708 - chat-bot-tts-client - DEBUG - /content/achatbot/src/common/grpc/interceptors/authentication_client.py:89 - intercept_call - client_call_details: _ClientCallDetails(method='/chat_bot.tts.TTS/GetStreamInfo', timeout=None, metadata=None, credentials=None, wait_for_ready=None, compression=None)\n",
            "2025-02-21 11:27:08,709 - chat-bot-tts-client - DEBUG - /content/achatbot/src/common/grpc/interceptors/authentication_client.py:62 - postprocess - postprocess response: <grpc._interceptor._UnaryOutcome object at 0x79ac22538250>\n",
            "2025-02-21 11:27:08,709 - chat-bot-tts-client - DEBUG - /content/achatbot/src/cmd/grpc/speaker/client.py:183 - <module> - stream_info:format: 1\n",
            "channels: 1\n",
            "rate: 22050\n",
            "sample_width: 2\n",
            "\n",
            "2025-02-21 11:27:08,709 - chat-bot-tts-client - DEBUG - /content/achatbot/src/common/grpc/interceptors/authentication_client.py:89 - intercept_call - client_call_details: _ClientCallDetails(method='/chat_bot.tts.TTS/GetVoices', timeout=None, metadata=None, credentials=None, wait_for_ready=None, compression=None)\n",
            "2025-02-21 11:27:08,710 - chat-bot-tts-client - DEBUG - /content/achatbot/src/common/grpc/interceptors/authentication_client.py:62 - postprocess - postprocess response: <grpc._interceptor._UnaryOutcome object at 0x79ac229ec0d0>\n",
            "2025-02-21 11:27:08,710 - chat-bot-tts-client - DEBUG - /content/achatbot/src/cmd/grpc/speaker/client.py:186 - <module> - voices:['TingtingRAP', 'Tingting哼唱', 'Tingting']\n",
            "2025-02-21 11:27:08,710 - chat-bot-tts-client - DEBUG - /content/achatbot/src/cmd/grpc/speaker/client.py:74 - synthesize_us - tts_text: \"hello,你好，我是机器人\"\n",
            "json_kwargs: \"{\\\"src_audio_path\\\": \\\"./test/audio_files/asr_example_zh.wav\\\"}\"\n",
            "\n",
            "2025-02-21 11:27:08,710 - chat-bot-tts-client - DEBUG - /content/achatbot/src/common/grpc/interceptors/authentication_client.py:89 - intercept_call - client_call_details: _ClientCallDetails(method='/chat_bot.tts.TTS/SynthesizeUS', timeout=None, metadata=None, credentials=None, wait_for_ready=None, compression=None)\n",
            "2025-02-21 11:27:08,712 - chat-bot-tts-client - DEBUG - /content/achatbot/src/common/grpc/interceptors/authentication_client.py:62 - postprocess - postprocess response: <_MultiThreadedRendezvous object>\n",
            "2025-02-21 11:27:12,019 - chat-bot-tts-client - DEBUG - /content/achatbot/src/cmd/grpc/speaker/client.py:205 - <module> - play tts_chunk len:380928\n",
            "2025-02-21 11:27:12,033 - chat-bot-tts-client - INFO - /content/achatbot/src/cmd/grpc/speaker/client.py:229 - <module> - save audio stream to /content/achatbot/records/grpc_tts_step.wav\n"
          ]
        }
      ]
    },
    {
      "cell_type": "code",
      "source": [
        "from IPython.display import Audio\n",
        "Audio(\"/content/achatbot/records/grpc_tts_step.wav\",autoplay=True)"
      ],
      "metadata": {
        "id": "NI2naXr9MapC"
      },
      "execution_count": null,
      "outputs": []
    }
  ]
}