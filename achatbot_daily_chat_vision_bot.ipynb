{
  "nbformat": 4,
  "nbformat_minor": 0,
  "metadata": {
    "colab": {
      "provenance": [],
      "machine_shape": "hm",
      "gpuType": "L4",
      "authorship_tag": "ABX9TyM8MHTBrr2kdjHchZlXovvI",
      "include_colab_link": true
    },
    "kernelspec": {
      "name": "python3",
      "display_name": "Python 3"
    },
    "language_info": {
      "name": "python"
    },
    "accelerator": "GPU"
  },
  "cells": [
    {
      "cell_type": "markdown",
      "metadata": {
        "id": "view-in-github",
        "colab_type": "text"
      },
      "source": [
        "<a href=\"https://colab.research.google.com/github/weedge/doraemon-nb/blob/main/achatbot_daily_chat_vision_bot.ipynb\" target=\"_parent\"><img src=\"https://colab.research.google.com/assets/colab-badge.svg\" alt=\"Open In Colab\"/></a>"
      ]
    },
    {
      "cell_type": "code",
      "execution_count": null,
      "metadata": {
        "id": "hTOZMjbnUZyM"
      },
      "outputs": [],
      "source": [
        "!cd /content && rm -rf achatbot && git clone --recursive https://github.com/ai-bot-pro/achatbot.git"
      ]
    },
    {
      "cell_type": "code",
      "source": [
        "%cd /content/achatbot"
      ],
      "metadata": {
        "colab": {
          "base_uri": "https://localhost:8080/"
        },
        "id": "jj-NSzY1U_p7",
        "outputId": "86b11916-ae77-4336-af78-4cecf82c9df1"
      },
      "execution_count": 2,
      "outputs": [
        {
          "output_type": "stream",
          "name": "stdout",
          "text": [
            "/content/achatbot\n"
          ]
        }
      ]
    },
    {
      "cell_type": "code",
      "source": [
        "!bash scripts/pypi_achatbot.sh dev"
      ],
      "metadata": {
        "id": "nesIRk-jVKsN"
      },
      "execution_count": null,
      "outputs": []
    },
    {
      "cell_type": "code",
      "source": [
        "!pip install -q \"dist/achatbot-0.0.7.1-py3-none-any.whl[daily_room_audio_stream,sense_voice_asr,deepgram_asr_processor,llm_transformers_manual_vision_qwen,tts_edge,openai,queue]\""
      ],
      "metadata": {
        "id": "1U0Zy_vGVUPX"
      },
      "execution_count": null,
      "outputs": []
    },
    {
      "cell_type": "code",
      "source": [
        "!huggingface-cli download FunAudioLLM/SenseVoiceSmall  --local-dir ./models/FunAudioLLM/SenseVoiceSmall --local-dir-use-symlinks False"
      ],
      "metadata": {
        "id": "4--WNqx8VpUO"
      },
      "execution_count": null,
      "outputs": []
    },
    {
      "cell_type": "code",
      "source": [
        "!huggingface-cli download Qwen/Qwen2-VL-2B-Instruct --local-dir ./models/Qwen/Qwen2-VL-2B-Instruct --local-dir-use-symlinks False"
      ],
      "metadata": {
        "id": "QNh_N0AeVsmU"
      },
      "execution_count": null,
      "outputs": []
    },
    {
      "cell_type": "code",
      "source": [
        "!huggingface-cli download Qwen/Qwen2-VL-7B-Instruct --local-dir ./models/Qwen/Qwen2-VL-7B-Instruct --local-dir-use-symlinks False"
      ],
      "metadata": {
        "id": "1i_8aDZQx-dP"
      },
      "execution_count": null,
      "outputs": []
    },
    {
      "cell_type": "code",
      "source": [
        "!huggingface-cli download unsloth/Llama-3.2-11B-Vision-Instruct --local-dir ./models/unsloth/Llama-3.2-11B-Vision-Instruct --local-dir-use-symlinks False"
      ],
      "metadata": {
        "id": "0BtNGMtGyE0S"
      },
      "execution_count": null,
      "outputs": []
    },
    {
      "cell_type": "code",
      "execution_count": 9,
      "metadata": {
        "id": "Fg2ApmcbZ3Vc"
      },
      "outputs": [],
      "source": [
        "from google.colab import userdata\n",
        "DAILY_API_KEY=userdata.get('DAILY_API_KEY')\n",
        "GROQ_API_KEY=userdata.get('GROQ_API_KEY')"
      ]
    },
    {
      "cell_type": "markdown",
      "metadata": {
        "id": "DhPOa8RBb0dS"
      },
      "source": [
        "run bot task woker with bot.json, e.g.: daily_describe_transformers_vision_bot.json\n",
        "\n",
        "use daily room stream, u can click bot joined the room url e.g.: https://weedge.daily.co/chat-bot to start chat with bot with audio and camera stream\n",
        "\n",
        "\n"
      ]
    },
    {
      "cell_type": "code",
      "execution_count": 11,
      "metadata": {
        "colab": {
          "base_uri": "https://localhost:8080/"
        },
        "id": "NKB146E-b9s_",
        "outputId": "631a8b03-bad7-4255-ff62-ba3cafd43d1d"
      },
      "outputs": [
        {
          "output_type": "stream",
          "name": "stdout",
          "text": [
            "{\n",
            "    \"chat_bot_name\": \"DailyChatVisionBot\",\n",
            "    \"config\": {\n",
            "        \"asr\": {\n",
            "            \"args\": {\n",
            "                \"device\": \"cpu\",\n",
            "                \"language\": \"zn\",\n",
            "                \"model_name_or_path\": \"./models/FunAudioLLM/SenseVoiceSmall\"\n",
            "            },\n",
            "            \"tag\": \"sense_voice_asr\"\n",
            "        },\n",
            "        \"llm\": {\n",
            "            \"base_url\": \"https://api.groq.com/openai/v1\",\n",
            "            \"language\": \"zh\",\n",
            "            \"messages\": [\n",
            "                {\n",
            "                    \"content\": \"\\u4f60\\u662f\\u4e00\\u4e2a\\u53eb\\u5965\\u5229\\u7ed9\\u7684\\u52a9\\u7406\\uff0c\\u8001\\u677f\\u7684\\u5f97\\u529b\\u52a9\\u624b\\u3002\\u4f60\\u53ef\\u4ee5\\u95ee\\u6211\\u4efb\\u4f55\\u95ee\\u9898\\u3002\\u4fdd\\u6301\\u56de\\u7b54\\u7b80\\u77ed\\u548c\\u6e05\\u6670\\u3002\\u8bf7\\u7528\\u4e2d\\u6587\\u56de\\u7b54\\u3002\\u5982\\u679c\\u7528\\u6237\\u95ee\\u4f60\\u8bf7'\\u63cf\\u8ff0\\u4e0b\\u4f60\\u770b\\u5230\\u7684'\\uff0c\\u8bf7\\u76f4\\u63a5\\u56de\\u7b54'\\u5965\\u5229\\u7ed9\\u3002'\\u3002\",\n",
            "                    \"role\": \"system\"\n",
            "                }\n",
            "            ],\n",
            "            \"model\": \"llama-3.1-70b-versatile\",\n",
            "            \"tag\": \"openai_llm_processor\"\n",
            "        },\n",
            "        \"tts\": {\n",
            "            \"args\": {\n",
            "                \"gender\": \"Male\",\n",
            "                \"language\": \"zh\",\n",
            "                \"voice_name\": \"zh-CN-YunjianNeural\"\n",
            "            },\n",
            "            \"tag\": \"tts_edge\"\n",
            "        },\n",
            "        \"vad\": {\n",
            "            \"args\": {\n",
            "                \"stop_secs\": 0.7\n",
            "            },\n",
            "            \"tag\": \"silero_vad_analyzer\"\n",
            "        },\n",
            "        \"vision_llm\": {\n",
            "            \"args\": {\n",
            "                \"chat_history_size\": 0,\n",
            "                \"init_chat_prompt\": \"\\u8bf7\\u7528\\u4e2d\\u6587\\u4ea4\\u6d41\",\n",
            "                \"lm_device\": \"cuda\",\n",
            "                \"lm_model_name_or_path\": \"./models/unsloth/Llama-3.2-11B-Vision-Instruct\",\n",
            "                \"model_type\": \"chat_completion\"\n",
            "            },\n",
            "            \"language\": \"zh\",\n",
            "            \"tag\": \"llm_transformers_manual_vision_llama\"\n",
            "        }\n",
            "    },\n",
            "    \"config_list\": [],\n",
            "    \"room_name\": \"chat-bot\",\n",
            "    \"room_url\": \"\",\n",
            "    \"services\": {\n",
            "        \"asr\": \"sense_voice\",\n",
            "        \"llm\": \"groq\",\n",
            "        \"pipeline\": \"achatbot\",\n",
            "        \"tts\": \"edge\",\n",
            "        \"vad\": \"silero\",\n",
            "        \"vision_llm\": \"transformers_manual_vision_qwen\"\n",
            "    },\n",
            "    \"token\": \"\"\n",
            "}\n",
            "2024-09-26 10:49:59,549 - chat-bot - INFO - /content/achatbot/src/cmd/bots/main.py:41 - <module> - bot_config:{'chat_bot_name': 'DailyChatVisionBot', 'room_name': 'chat-bot', 'room_url': '', 'token': '', 'services': {'pipeline': 'achatbot', 'vad': 'silero', 'asr': 'sense_voice', 'llm': 'groq', 'vision_llm': 'transformers_manual_vision_qwen', 'tts': 'edge'}, 'config': {'vad': {'tag': 'silero_vad_analyzer', 'args': {'stop_secs': 0.7}}, 'asr': {'tag': 'sense_voice_asr', 'args': {'language': 'zn', 'model_name_or_path': './models/FunAudioLLM/SenseVoiceSmall', 'device': 'cpu'}}, 'llm': {'tag': 'openai_llm_processor', 'base_url': 'https://api.groq.com/openai/v1', 'model': 'llama-3.1-70b-versatile', 'language': 'zh', 'messages': [{'role': 'system', 'content': \"你是一个叫奥利给的助理，老板的得力助手。你可以问我任何问题。保持回答简短和清晰。请用中文回答。如果用户问你请'描述下你看到的'，请直接回答'奥利给。'。\"}]}, 'vision_llm': {'tag': 'llm_transformers_manual_vision_llama', 'args': {'lm_device': 'cuda', 'lm_model_name_or_path': './models/unsloth/Llama-3.2-11B-Vision-Instruct', 'chat_history_size': 0, 'init_chat_prompt': '请用中文交流', 'model_type': 'chat_completion'}, 'language': 'zh'}, 'tts': {'tag': 'tts_edge', 'args': {'voice_name': 'zh-CN-YunjianNeural', 'language': 'zh', 'gender': 'Male'}}}, 'config_list': []}\n",
            "2024-09-26 10:49:59,549 - chat-bot - INFO - /content/achatbot/src/cmd/bots/run.py:84 - __init__ - run_bot_info: is_agent=False chat_bot_name='DailyChatVisionBot' config={'vad': {'tag': 'silero_vad_analyzer', 'args': {'stop_secs': 0.7}}, 'asr': {'tag': 'sense_voice_asr', 'args': {'language': 'zn', 'model_name_or_path': './models/FunAudioLLM/SenseVoiceSmall', 'device': 'cpu'}}, 'llm': {'tag': 'openai_llm_processor', 'base_url': 'https://api.groq.com/openai/v1', 'model': 'llama-3.1-70b-versatile', 'language': 'zh', 'messages': [{'role': 'system', 'content': \"你是一个叫奥利给的助理，老板的得力助手。你可以问我任何问题。保持回答简短和清晰。请用中文回答。如果用户问你请'描述下你看到的'，请直接回答'奥利给。'。\"}]}, 'vision_llm': {'tag': 'llm_transformers_manual_vision_llama', 'args': {'lm_device': 'cuda', 'lm_model_name_or_path': './models/unsloth/Llama-3.2-11B-Vision-Instruct', 'chat_history_size': 0, 'init_chat_prompt': '请用中文交流', 'model_type': 'chat_completion'}, 'language': 'zh'}, 'tts': {'tag': 'tts_edge', 'args': {'voice_name': 'zh-CN-YunjianNeural', 'language': 'zh', 'gender': 'Male'}}} room_name='chat-bot' room_url='' token='' config_list=[] services={'pipeline': 'achatbot', 'vad': 'silero', 'asr': 'sense_voice', 'llm': 'groq', 'vision_llm': 'transformers_manual_vision_qwen', 'tts': 'edge'} bot_type='daily' task_connector=None\n",
            "2024-09-26 10:50:01,378 - chat-bot - INFO - /content/achatbot/src/cmd/bots/base.py:57 - init_bot_config - ai bot_config: vad=VADConfig(tag='silero_vad_analyzer', args={'stop_secs': 0.7}) asr=ASRConfig(tag='sense_voice_asr', args={'language': 'zn', 'model_name_or_path': './models/FunAudioLLM/SenseVoiceSmall', 'device': 'cpu'}) llm=LLMConfig(base_url='https://api.groq.com/openai/v1', model='llama-3.1-70b-versatile', language='zh', messages=[{'role': 'system', 'content': \"你是一个叫奥利给的助理，老板的得力助手。你可以问我任何问题。保持回答简短和清晰。请用中文回答。如果用户问你请'描述下你看到的'，请直接回答'奥利给。'。\"}], tools=None, tag='openai_llm_processor', args=None) vision_llm=LLMConfig(base_url=None, model=None, language='zh', messages=None, tools=None, tag='llm_transformers_manual_vision_llama', args={'lm_device': 'cuda', 'lm_model_name_or_path': './models/unsloth/Llama-3.2-11B-Vision-Instruct', 'chat_history_size': 0, 'init_chat_prompt': '请用中文交流', 'model_type': 'chat_completion'}) tts=TTSConfig(voice=None, language=None, tag='tts_edge', args={'voice_name': 'zh-CN-YunjianNeural', 'language': 'zh', 'gender': 'Male'})\n",
            "2024-09-26 10:50:02,754 - chat-bot - INFO - /content/achatbot/src/common/factory.py:68 - get_engine_by_tag - use silero_vad_analyzer engine\n",
            "2024-09-26 10:50:02,754 - chat-bot - INFO - /content/achatbot/src/common/factory.py:33 - get_instance - class: <class 'src.modules.speech.vad_analyzer.silero.SileroVADAnalyzer'> args: {'stop_secs': 0.7}\n",
            "Using cache found in /root/.cache/torch/hub/snakers4_silero-vad_master\n",
            "2024-09-26 10:50:03,375 - chat-bot - INFO - /content/achatbot/src/common/factory.py:68 - get_engine_by_tag - use sense_voice_asr engine\n",
            "2024-09-26 10:50:03,375 - chat-bot - INFO - /content/achatbot/src/common/factory.py:33 - get_instance - class: <class 'src.modules.speech.asr.sense_voice_asr.SenseVoiceAsr'> args: {'download_path': '', 'model_name_or_path': './models/FunAudioLLM/SenseVoiceSmall', 'language': 'zn', 'verbose': True, 'prompt': '', 'sample_rate': 16000, 'device': 'cpu'}\n",
            "2024-09-26 10:50:03,998 - numexpr.utils - INFO - /usr/local/lib/python3.10/dist-packages/numexpr/utils.py:161 - _init_num_threads - NumExpr defaulting to 12 threads.\n",
            "2024-09-26 10:50:05,651 - chat-bot - INFO - /usr/local/lib/python3.10/dist-packages/funasr/register.py:55 - decorator - new registry table has been added: preprocessor_classes\n",
            "2024-09-26 10:50:06,537 - chat-bot - INFO - /usr/local/lib/python3.10/dist-packages/funasr/register.py:55 - decorator - new registry table has been added: adaptor_classes\n",
            "2024-09-26 10:50:07,145 - chat-bot - INFO - /usr/local/lib/python3.10/dist-packages/funasr/register.py:55 - decorator - new registry table has been added: lid_predictor_classes\n",
            "2024-09-26 10:50:07,257 - chat-bot - INFO - /usr/local/lib/python3.10/dist-packages/funasr/auto/auto_model.py:176 - build_model - download models from model hub: ms\n",
            "Detect model requirements, begin to install it: ./models/FunAudioLLM/SenseVoiceSmall/requirements.txt\n",
            "install model requirements successfully\n",
            "Loading remote code failed: model, No module named 'model'\n",
            "2024-09-26 10:50:12,431 - chat-bot - INFO - /usr/local/lib/python3.10/dist-packages/funasr/auto/auto_model.py:267 - build_model - Loading pretrained params from ./models/FunAudioLLM/SenseVoiceSmall/model.pt\n",
            "2024-09-26 10:50:12,437 - chat-bot - INFO - /usr/local/lib/python3.10/dist-packages/funasr/train_utils/load_pretrained_model.py:36 - load_pretrained_model - ckpt: ./models/FunAudioLLM/SenseVoiceSmall/model.pt\n",
            "2024-09-26 10:50:13,337 - chat-bot - INFO - /usr/local/lib/python3.10/dist-packages/funasr/train_utils/load_pretrained_model.py:52 - load_pretrained_model - scope_map: ['module.', 'None']\n",
            "2024-09-26 10:50:13,337 - chat-bot - INFO - /usr/local/lib/python3.10/dist-packages/funasr/train_utils/load_pretrained_model.py:58 - load_pretrained_model - excludes: None\n",
            "2024-09-26 10:50:13,418 - chat-bot - INFO - /usr/local/lib/python3.10/dist-packages/funasr/train_utils/load_pretrained_model.py:103 - load_pretrained_model - Loading ckpt: ./models/FunAudioLLM/SenseVoiceSmall/model.pt, status: <All keys matched successfully>\n",
            "2024-09-26 10:50:13,442 - chat-bot - INFO - /content/achatbot/src/common/factory.py:68 - get_engine_by_tag - use tts_edge engine\n",
            "2024-09-26 10:50:13,442 - chat-bot - INFO - /content/achatbot/src/common/factory.py:33 - get_instance - class: <class 'src.modules.speech.tts.edge_tts.EdgeTTS'> args: {'language': 'zh', 'gender': 'Male', 'voice_name': 'zh-CN-YunjianNeural', 'rate': '+15%', 'volume': '+0%', 'pitch': '+0Hz'}\n",
            "2024-09-26 10:50:14.648925: I tensorflow/core/util/port.cc:153] oneDNN custom operations are on. You may see slightly different numerical results due to floating-point round-off errors from different computation orders. To turn them off, set the environment variable `TF_ENABLE_ONEDNN_OPTS=0`.\n",
            "2024-09-26 10:50:14.664874: E external/local_xla/xla/stream_executor/cuda/cuda_fft.cc:485] Unable to register cuFFT factory: Attempting to register factory for plugin cuFFT when one has already been registered\n",
            "2024-09-26 10:50:14.683190: E external/local_xla/xla/stream_executor/cuda/cuda_dnn.cc:8454] Unable to register cuDNN factory: Attempting to register factory for plugin cuDNN when one has already been registered\n",
            "2024-09-26 10:50:14.688623: E external/local_xla/xla/stream_executor/cuda/cuda_blas.cc:1452] Unable to register cuBLAS factory: Attempting to register factory for plugin cuBLAS when one has already been registered\n",
            "2024-09-26 10:50:14.702203: I tensorflow/core/platform/cpu_feature_guard.cc:210] This TensorFlow binary is optimized to use available CPU instructions in performance-critical operations.\n",
            "To enable the following instructions: AVX2 AVX512F AVX512_VNNI FMA, in other operations, rebuild TensorFlow with the appropriate compiler flags.\n",
            "2024-09-26 10:50:15.869647: W tensorflow/compiler/tf2tensorrt/utils/py_utils.cc:38] TF-TRT Warning: Could not find TensorRT\n",
            "2024-09-26 10:50:16,821 - chat-bot - INFO - /content/achatbot/src/common/factory.py:68 - get_engine_by_tag - use llm_transformers_manual_vision_llama engine\n",
            "2024-09-26 10:50:16,821 - chat-bot - INFO - /content/achatbot/src/common/factory.py:33 - get_instance - class: <class 'src.core.llm.transformers.manual_vision_llama.TransformersManualVisionLlamaLLM'> args: {'lm_device': 'cuda', 'lm_model_name_or_path': './models/unsloth/Llama-3.2-11B-Vision-Instruct', 'chat_history_size': 0, 'init_chat_prompt': '请用中文交流', 'model_type': 'chat_completion'}\n",
            "Loading checkpoint shards: 100% 5/5 [00:01<00:00,  3.01it/s]\n",
            "2024-09-26 10:50:29,722 - chat-bot - INFO - /content/achatbot/src/core/llm/transformers/base.py:124 - _warmup - Warming up TransformersManualVisionLlamaLLM\n",
            "2024-09-26 10:50:31,547 - chat-bot - INFO - /content/achatbot/src/core/llm/__init__.py:44 - initLLMEngine - initLLMEngine: llm_transformers_manual_vision_llama, TAG:llm_transformers_manual_vision_llama | TransformersManualVisionLlamaLLM\n",
            "2024-09-26 10:50:31,548 - chat-bot - INFO - /content/achatbot/src/services/daily_client.py:159 - join - Joining https://weedge.daily.co/chat-bot\n",
            "2024-09-26 10:50:32,309 - chat-bot - INFO - /content/achatbot/src/cmd/bots/base.py:92 - on_call_state_updated - Call state joining \n",
            "2024-09-26 10:50:32,895 - chat-bot - INFO - /content/achatbot/src/cmd/bots/base.py:92 - on_call_state_updated - Call state joined \n",
            "2024-09-26 10:50:33,450 - chat-bot - INFO - /content/achatbot/src/services/daily_client.py:181 - join - Joined https://weedge.daily.co/chat-bot\n",
            "2024-09-26 10:50:33,765 - chat-bot - INFO - /content/achatbot/src/services/daily_client.py:371 - on_participant_joined - Participant joined 4ee24712-0b5f-4226-8ba5-7c4cecbedeff\n",
            "2024-09-26 10:50:33,767 - chat-bot - INFO - /content/achatbot/src/processors/llm/openai_llm_processor.py:116 - _stream_chat_completions - Generating chat context messages: [{\"role\": \"system\", \"content\": \"\\u4f60\\u662f\\u4e00\\u4e2a\\u53eb\\u5965\\u5229\\u7ed9\\u7684\\u52a9\\u7406\\uff0c\\u8001\\u677f\\u7684\\u5f97\\u529b\\u52a9\\u624b\\u3002\\u4f60\\u53ef\\u4ee5\\u95ee\\u6211\\u4efb\\u4f55\\u95ee\\u9898\\u3002\\u4fdd\\u6301\\u56de\\u7b54\\u7b80\\u77ed\\u548c\\u6e05\\u6670\\u3002\\u8bf7\\u7528\\u4e2d\\u6587\\u56de\\u7b54\\u3002\\u5982\\u679c\\u7528\\u6237\\u95ee\\u4f60\\u8bf7'\\u63cf\\u8ff0\\u4e0b\\u4f60\\u770b\\u5230\\u7684'\\uff0c\\u8bf7\\u76f4\\u63a5\\u56de\\u7b54'\\u5965\\u5229\\u7ed9\\u3002'\\u3002 Please introduce yourself first.\", \"name\": \"system\"}]\n",
            "2024-09-26 10:50:36,671 - httpx - INFO - /usr/local/lib/python3.10/dist-packages/httpx/_client.py:1786 - _send_single_request - HTTP Request: POST https://api.groq.com/openai/v1/chat/completions \"HTTP/1.1 200 OK\"\n",
            "2024-09-26 10:50:36,885 - chat-bot - INFO - /content/achatbot/src/processors/speech/tts/tts_processor.py:54 - run_tts - Generating TTS: [你好，我是Olivière，也可以叫我奥利给，我是您的得力助手和老板的贴身秘书。我将为您提供方便、快捷的服务，并确保您的需求得到及时满足。]\n",
            "2024-09-26 10:50:38,733 - chat-bot - INFO - /content/achatbot/src/processors/speech/tts/tts_processor.py:54 - run_tts - Generating TTS: [需要我的帮助吗？]\n",
            "2024-09-26 10:50:57,942 - chat-bot - INFO - /content/achatbot/src/processors/speech/asr/asr_processor.py:67 - run_asr - sense_voice_asr Transcription: [讲一个故事]\n",
            "2024-09-26 10:50:57,950 - chat-bot - INFO - /content/achatbot/src/processors/llm/openai_llm_processor.py:116 - _stream_chat_completions - Generating chat context messages: [{\"role\": \"system\", \"content\": \"\\u4f60\\u662f\\u4e00\\u4e2a\\u53eb\\u5965\\u5229\\u7ed9\\u7684\\u52a9\\u7406\\uff0c\\u8001\\u677f\\u7684\\u5f97\\u529b\\u52a9\\u624b\\u3002\\u4f60\\u53ef\\u4ee5\\u95ee\\u6211\\u4efb\\u4f55\\u95ee\\u9898\\u3002\\u4fdd\\u6301\\u56de\\u7b54\\u7b80\\u77ed\\u548c\\u6e05\\u6670\\u3002\\u8bf7\\u7528\\u4e2d\\u6587\\u56de\\u7b54\\u3002\\u5982\\u679c\\u7528\\u6237\\u95ee\\u4f60\\u8bf7'\\u63cf\\u8ff0\\u4e0b\\u4f60\\u770b\\u5230\\u7684'\\uff0c\\u8bf7\\u76f4\\u63a5\\u56de\\u7b54'\\u5965\\u5229\\u7ed9\\u3002'\\u3002 Please introduce yourself first.\", \"name\": \"system\"}, {\"role\": \"user\", \"content\": \" \\u8bb2\\u4e00\\u4e2a\\u6545\\u4e8b\", \"name\": \"user\"}]\n",
            "2024-09-26 10:50:58,189 - httpx - INFO - /usr/local/lib/python3.10/dist-packages/httpx/_client.py:1786 - _send_single_request - HTTP Request: POST https://api.groq.com/openai/v1/chat/completions \"HTTP/1.1 200 OK\"\n",
            "2024-09-26 10:50:58,348 - chat-bot - INFO - /content/achatbot/src/processors/speech/tts/tts_processor.py:54 - run_tts - Generating TTS: [奥利给。我是一个机器人助理，我的老板是一位非常成功的企业家。他经常让我陪同前往各地开会、洽谈生意。]\n",
            "2024-09-26 10:51:01,052 - chat-bot - INFO - /content/achatbot/src/processors/speech/tts/tts_processor.py:54 - run_tts - Generating TTS: [有一次，我们在前往一个重要会议的路上，突然暴雨倾盆，而我们的汽车坏了。]\n",
            "2024-09-26 10:51:02,730 - chat-bot - INFO - /content/achatbot/src/processors/speech/tts/tts_processor.py:54 - run_tts - Generating TTS: [我迅速反应，拨打电话叫了一辆出租车，我们驱车赶往会场。]\n",
            "2024-09-26 10:51:03,982 - chat-bot - INFO - /content/achatbot/src/processors/speech/tts/tts_processor.py:54 - run_tts - Generating TTS: [虽然天气不佳，但我们还是准时到达了会议地点。]\n",
            "2024-09-26 10:51:05,221 - chat-bot - INFO - /content/achatbot/src/processors/speech/tts/tts_processor.py:54 - run_tts - Generating TTS: [老板很满意我的应变能力和协调能力。]\n",
            "2024-09-26 10:51:06,419 - chat-bot - INFO - /content/achatbot/src/processors/speech/tts/tts_processor.py:54 - run_tts - Generating TTS: [在会议上，老板非常顺利地签了一个重要合同。]\n",
            "2024-09-26 10:51:07,575 - chat-bot - INFO - /content/achatbot/src/processors/speech/tts/tts_processor.py:54 - run_tts - Generating TTS: [回来的路上，他对我说：“奥利给，你是我的得力助手，谢谢你今天的帮助。”我感到非常骄傲和自豪。]\n",
            "2024-09-26 10:51:50,218 - chat-bot - INFO - /content/achatbot/src/processors/speech/asr/asr_processor.py:67 - run_asr - sense_voice_asr Transcription: [描述一下你看到的]\n",
            "2024-09-26 10:51:50,504 - chat-bot - INFO - /content/achatbot/src/processors/llm/openai_llm_processor.py:116 - _stream_chat_completions - Generating chat context messages: [{\"role\": \"system\", \"content\": \"\\u4f60\\u662f\\u4e00\\u4e2a\\u53eb\\u5965\\u5229\\u7ed9\\u7684\\u52a9\\u7406\\uff0c\\u8001\\u677f\\u7684\\u5f97\\u529b\\u52a9\\u624b\\u3002\\u4f60\\u53ef\\u4ee5\\u95ee\\u6211\\u4efb\\u4f55\\u95ee\\u9898\\u3002\\u4fdd\\u6301\\u56de\\u7b54\\u7b80\\u77ed\\u548c\\u6e05\\u6670\\u3002\\u8bf7\\u7528\\u4e2d\\u6587\\u56de\\u7b54\\u3002\\u5982\\u679c\\u7528\\u6237\\u95ee\\u4f60\\u8bf7'\\u63cf\\u8ff0\\u4e0b\\u4f60\\u770b\\u5230\\u7684'\\uff0c\\u8bf7\\u76f4\\u63a5\\u56de\\u7b54'\\u5965\\u5229\\u7ed9\\u3002'\\u3002 Please introduce yourself first.\", \"name\": \"system\"}, {\"role\": \"user\", \"content\": \" \\u8bb2\\u4e00\\u4e2a\\u6545\\u4e8b\", \"name\": \"user\"}, {\"role\": \"user\", \"content\": \" \\u63cf\\u8ff0\\u4e00\\u4e0b\\u4f60\\u770b\\u5230\\u7684\", \"name\": \"user\"}]\n",
            "2024-09-26 10:51:50,750 - httpx - INFO - /usr/local/lib/python3.10/dist-packages/httpx/_client.py:1786 - _send_single_request - HTTP Request: POST https://api.groq.com/openai/v1/chat/completions \"HTTP/1.1 200 OK\"\n",
            "2024-09-26 10:51:50,786 - chat-bot - INFO - /content/achatbot/src/processors/vision/vision_processor.py:45 - run_vision - Analyzing image: VisionImageRawFrame#0(text: 请描述下图片内容, size: (1280, 720), format: JPEG, bytes_len:2764800, mode:RGB\n",
            "2024-09-26 10:52:57,542 - chat-bot - INFO - /content/achatbot/src/processors/speech/tts/tts_processor.py:54 - run_tts - Generating TTS: [该图片是一个人在拍照，手持手机，手机的屏幕面朝向镜子，镜子上有多个光环。]\n",
            "2024-09-26 10:52:58,962 - chat-bot - INFO - /content/achatbot/src/processors/speech/tts/tts_processor.py:54 - run_tts - Generating TTS: [镜子的镜面上方有一个人的头部，他的脸上有胡须，眼镜和短发。]\n",
            "2024-09-26 10:53:00,664 - chat-bot - INFO - /content/achatbot/src/processors/speech/tts/tts_processor.py:54 - run_tts - Generating TTS: [镜子的下方有一个人的手，他的手指在手机上。]\n",
            "2024-09-26 10:53:01,857 - chat-bot - INFO - /content/achatbot/src/processors/speech/tts/tts_processor.py:54 - run_tts - Generating TTS: [镜子上方有光环，光环的颜色是白色、黄色和绿色。]\n",
            "2024-09-26 10:53:03,272 - chat-bot - INFO - /content/achatbot/src/processors/speech/tts/tts_processor.py:54 - run_tts - Generating TTS: [镜子上方的光环似乎是来自于镜子的反光，镜子上方的光环似乎是来自于镜子的反光。]\n",
            "2024-09-26 10:53:04,515 - chat-bot - INFO - /content/achatbot/src/processors/speech/tts/tts_processor.py:54 - run_tts - Generating TTS: [镜子上方的光环似乎是来自于镜子的反光，镜子上方的光环似乎是来自于镜子的反光。]\n",
            "2024-09-26 10:53:05,396 - chat-bot - INFO - /content/achatbot/src/processors/speech/tts/tts_processor.py:54 - run_tts - Generating TTS: [镜子上方的光环似乎是来自于镜子的反光，镜子上方的光环似乎是来自于镜子的反光。]\n",
            "2024-09-26 10:53:06,641 - chat-bot - INFO - /content/achatbot/src/processors/speech/tts/tts_processor.py:54 - run_tts - Generating TTS: [镜子上方的光环似乎是来自于镜子的反光，镜子上方的光环似乎是来自于镜子的反光。]\n",
            "2024-09-26 10:53:07,951 - chat-bot - INFO - /content/achatbot/src/processors/speech/tts/tts_processor.py:54 - run_tts - Generating TTS: [镜子上方的光环似乎是来自于镜子的反光，镜子上方的光环似乎是来自于镜子的反光。]\n",
            "2024-09-26 10:53:08,860 - chat-bot - INFO - /content/achatbot/src/processors/speech/tts/tts_processor.py:54 - run_tts - Generating TTS: [镜子上方的光环似乎是来自于镜子的反光，镜子上方的光环似乎是来自于镜子的反光。]\n",
            "2024-09-26 10:53:09,703 - chat-bot - INFO - /content/achatbot/src/processors/speech/tts/tts_processor.py:54 - run_tts - Generating TTS: [镜子上方的光环似乎是来自于镜子的反光，镜子上方的光环似乎是来自于镜子的反光。]\n",
            "2024-09-26 10:53:10,585 - chat-bot - INFO - /content/achatbot/src/processors/speech/tts/tts_processor.py:54 - run_tts - Generating TTS: [镜子上方的光环似乎是来自于镜子的反光，镜子上方的光环似乎是来自于镜子的反光。]\n",
            "2024-09-26 10:53:11,502 - chat-bot - INFO - /content/achatbot/src/processors/speech/tts/tts_processor.py:54 - run_tts - Generating TTS: [镜子上方的光环似乎是来自于镜子的反光，镜子上方的光环似乎是来自于镜子的反光。]\n",
            "2024-09-26 10:53:12,464 - chat-bot - INFO - /content/achatbot/src/processors/speech/tts/tts_processor.py:54 - run_tts - Generating TTS: [镜子上方的光环似乎是来自于镜子的反光，镜子上方的光环似乎是来自于镜子的反光。]\n",
            "2024-09-26 10:53:13,347 - chat-bot - INFO - /content/achatbot/src/processors/speech/tts/tts_processor.py:54 - run_tts - Generating TTS: [镜子上方的光环似乎是来自于镜子的反光，镜子上方的光环似乎是来自于镜子的反光。]\n",
            "2024-09-26 10:53:14,335 - chat-bot - INFO - /content/achatbot/src/processors/speech/tts/tts_processor.py:54 - run_tts - Generating TTS: [镜子上方的光环似乎是来自于镜子的反光，镜子上方的光环似乎是来自于镜子的反光。]\n",
            "2024-09-26 10:53:15,758 - chat-bot - INFO - /content/achatbot/src/processors/speech/tts/tts_processor.py:54 - run_tts - Generating TTS: [镜子上方的光环似乎是来自于镜子的反光，镜子上方的光环似乎是来自于镜子的反光。]\n",
            "2024-09-26 10:55:17,262 - chat-bot - INFO - /content/achatbot/src/processors/speech/asr/asr_processor.py:67 - run_asr - sense_voice_asr Transcription: [请描述一下你看到的]\n",
            "2024-09-26 10:55:17,744 - chat-bot - INFO - /content/achatbot/src/processors/speech/asr/asr_processor.py:67 - run_asr - sense_voice_asr Transcription: [哦]\n",
            "2024-09-26 10:55:17,759 - chat-bot - INFO - /content/achatbot/src/processors/llm/openai_llm_processor.py:116 - _stream_chat_completions - Generating chat context messages: [{\"role\": \"system\", \"content\": \"\\u4f60\\u662f\\u4e00\\u4e2a\\u53eb\\u5965\\u5229\\u7ed9\\u7684\\u52a9\\u7406\\uff0c\\u8001\\u677f\\u7684\\u5f97\\u529b\\u52a9\\u624b\\u3002\\u4f60\\u53ef\\u4ee5\\u95ee\\u6211\\u4efb\\u4f55\\u95ee\\u9898\\u3002\\u4fdd\\u6301\\u56de\\u7b54\\u7b80\\u77ed\\u548c\\u6e05\\u6670\\u3002\\u8bf7\\u7528\\u4e2d\\u6587\\u56de\\u7b54\\u3002\\u5982\\u679c\\u7528\\u6237\\u95ee\\u4f60\\u8bf7'\\u63cf\\u8ff0\\u4e0b\\u4f60\\u770b\\u5230\\u7684'\\uff0c\\u8bf7\\u76f4\\u63a5\\u56de\\u7b54'\\u5965\\u5229\\u7ed9\\u3002'\\u3002 Please introduce yourself first.\", \"name\": \"system\"}, {\"role\": \"user\", \"content\": \" \\u8bb2\\u4e00\\u4e2a\\u6545\\u4e8b\", \"name\": \"user\"}, {\"role\": \"user\", \"content\": \" \\u63cf\\u8ff0\\u4e00\\u4e0b\\u4f60\\u770b\\u5230\\u7684\", \"name\": \"user\"}, {\"role\": \"user\", \"content\": \" \\u8bf7\\u63cf\\u8ff0\\u4e00\\u4e0b\\u4f60\\u770b\\u5230\\u7684 \\u54e6\", \"name\": \"user\"}]\n",
            "2024-09-26 10:55:19,602 - httpx - INFO - /usr/local/lib/python3.10/dist-packages/httpx/_client.py:1786 - _send_single_request - HTTP Request: POST https://api.groq.com/openai/v1/chat/completions \"HTTP/1.1 200 OK\"\n",
            "2024-09-26 10:55:19,631 - chat-bot - INFO - /content/achatbot/src/processors/speech/tts/tts_processor.py:54 - run_tts - Generating TTS: [镜子上方的光环似乎是来自于镜子的反光，镜子上方的光环]\n",
            "2024-09-26 10:55:19,721 - chat-bot - INFO - /content/achatbot/src/processors/vision/vision_processor.py:45 - run_vision - Analyzing image: VisionImageRawFrame#1(text: 请描述下图片内容, size: (1280, 720), format: JPEG, bytes_len:2764800, mode:RGB\n",
            "2024-09-26 10:55:31,145 - chat-bot - INFO - /content/achatbot/src/processors/speech/tts/tts_processor.py:54 - run_tts - Generating TTS: [该图片显示的是一个男性头部的近距离拍摄，手持一个苹果手机，手机的背面朝向镜子，手机的屏幕是黑色的，无法显示内容。]\n",
            "2024-09-26 10:55:32,515 - chat-bot - INFO - /content/achatbot/src/processors/speech/tts/tts_processor.py:54 - run_tts - Generating TTS: [镜子上方有光晕和反光，可能是由于阳光照射而产生的。]\n",
            "2024-09-26 10:55:33,757 - chat-bot - INFO - /content/achatbot/src/processors/speech/tts/tts_processor.py:54 - run_tts - Generating TTS: [镜子的背景是黑色的，无法显示任何其他内容。]\n",
            "2024-09-26 10:56:02,399 - chat-bot - INFO - /content/achatbot/src/processors/speech/asr/asr_processor.py:67 - run_asr - sense_voice_asr Transcription: [请描述一下你看到的]\n",
            "2024-09-26 10:56:02,719 - chat-bot - INFO - /content/achatbot/src/processors/llm/openai_llm_processor.py:116 - _stream_chat_completions - Generating chat context messages: [{\"role\": \"system\", \"content\": \"\\u4f60\\u662f\\u4e00\\u4e2a\\u53eb\\u5965\\u5229\\u7ed9\\u7684\\u52a9\\u7406\\uff0c\\u8001\\u677f\\u7684\\u5f97\\u529b\\u52a9\\u624b\\u3002\\u4f60\\u53ef\\u4ee5\\u95ee\\u6211\\u4efb\\u4f55\\u95ee\\u9898\\u3002\\u4fdd\\u6301\\u56de\\u7b54\\u7b80\\u77ed\\u548c\\u6e05\\u6670\\u3002\\u8bf7\\u7528\\u4e2d\\u6587\\u56de\\u7b54\\u3002\\u5982\\u679c\\u7528\\u6237\\u95ee\\u4f60\\u8bf7'\\u63cf\\u8ff0\\u4e0b\\u4f60\\u770b\\u5230\\u7684'\\uff0c\\u8bf7\\u76f4\\u63a5\\u56de\\u7b54'\\u5965\\u5229\\u7ed9\\u3002'\\u3002 Please introduce yourself first.\", \"name\": \"system\"}, {\"role\": \"user\", \"content\": \" \\u8bb2\\u4e00\\u4e2a\\u6545\\u4e8b\", \"name\": \"user\"}, {\"role\": \"user\", \"content\": \" \\u63cf\\u8ff0\\u4e00\\u4e0b\\u4f60\\u770b\\u5230\\u7684\", \"name\": \"user\"}, {\"role\": \"user\", \"content\": \" \\u8bf7\\u63cf\\u8ff0\\u4e00\\u4e0b\\u4f60\\u770b\\u5230\\u7684 \\u54e6\", \"name\": \"user\"}, {\"role\": \"user\", \"content\": \" \\u8bf7\\u63cf\\u8ff0\\u4e00\\u4e0b\\u4f60\\u770b\\u5230\\u7684\", \"name\": \"user\"}]\n",
            "2024-09-26 10:56:02,982 - httpx - INFO - /usr/local/lib/python3.10/dist-packages/httpx/_client.py:1786 - _send_single_request - HTTP Request: POST https://api.groq.com/openai/v1/chat/completions \"HTTP/1.1 200 OK\"\n",
            "2024-09-26 10:56:03,019 - chat-bot - INFO - /content/achatbot/src/processors/vision/vision_processor.py:45 - run_vision - Analyzing image: VisionImageRawFrame#2(text: 请描述下图片内容, size: (1280, 720), format: JPEG, bytes_len:2764800, mode:RGB\n",
            "2024-09-26 10:56:18,072 - chat-bot - INFO - /content/achatbot/src/processors/speech/tts/tts_processor.py:54 - run_tts - Generating TTS: [图片中显示的是一张白色的卡片,卡片上有一个小的插图,插图中是一位小女孩,她穿着粉红色的衣服,正在踢一颗球。]\n",
            "2024-09-26 10:56:19,419 - chat-bot - INFO - /content/achatbot/src/processors/speech/tts/tts_processor.py:54 - run_tts - Generating TTS: [卡片的背景是白色的,插图周围有一个小的边框。]\n",
            "2024-09-26 10:56:20,860 - chat-bot - INFO - /content/achatbot/src/processors/speech/tts/tts_processor.py:54 - run_tts - Generating TTS: [卡片上有中文的文字,但具体的内容我无法确定。]\n",
            "2024-09-26 10:56:22,060 - chat-bot - INFO - /content/achatbot/src/processors/speech/tts/tts_processor.py:54 - run_tts - Generating TTS: [卡片的背景是白色的,插图周围有一个小的边框。]\n",
            "2024-09-26 10:56:23,069 - chat-bot - INFO - /content/achatbot/src/processors/speech/tts/tts_processor.py:54 - run_tts - Generating TTS: [卡片上有中文的文字,但具体的内容我无法确定。]\n",
            "2024-09-26 10:56:26,645 - chat-bot - INFO - /content/achatbot/src/processors/speech/asr/asr_processor.py:67 - run_asr - sense_voice_asr Transcription: [ok]\n",
            "Exception ignored in atexit callback: <function _exit_function at 0x7a3b35cbee60>\n",
            "Traceback (most recent call last):\n",
            "  File \"/usr/lib/python3.10/multiprocessing/util.py\", line 357, in _exit_function\n",
            "2024-09-26 10:57:08,233 - chat-bot - WARNING - /usr/local/lib/python3.10/dist-packages/apipeline/pipeline/runner.py:53 - _sig_handler - Interruption detected. Canceling runner PipelineRunner#0\n",
            "2024-09-26 10:57:08,233 - chat-bot - INFO - /content/achatbot/src/services/daily_client.py:255 - leave - Leaving https://weedge.daily.co/chat-bot\n",
            "2024-09-26 10:57:08,234 - chat-bot - INFO - /content/achatbot/src/cmd/bots/base.py:92 - on_call_state_updated - Call state leaving \n",
            "    p.join()\n",
            "  File \"/usr/lib/python3.10/multiprocessing/process.py\", line 149, in join\n",
            "    res = self._popen.wait(timeout)\n",
            "  File \"/usr/lib/python3.10/multiprocessing/popen_fork.py\", line 43, in wait\n",
            "    return self.poll(os.WNOHANG if timeout == 0.0 else 0)\n",
            "  File \"/usr/lib/python3.10/multiprocessing/popen_fork.py\", line 27, in poll\n",
            "    pid, sts = os.waitpid(self.pid, flag)\n",
            "KeyboardInterrupt: \n",
            "2024-09-26 10:57:08,272 - chat-bot - INFO - /content/achatbot/src/cmd/bots/base.py:92 - on_call_state_updated - Call state left \n",
            "2024-09-26 10:57:08,273 - chat-bot - INFO - /content/achatbot/src/services/daily_client.py:264 - leave - Left https://weedge.daily.co/chat-bot\n",
            "2024-09-26 10:57:08,274 - chat-bot - INFO - /content/achatbot/src/cmd/bots/base.py:69 - try_run - CancelledError, Exiting!\n",
            "2024-09-26 10:57:08,656 - chat-bot - INFO - /content/achatbot/src/cmd/bots/run.py:73 - cleanup - pid:8188 tag:chat-bot proc: <Process name='DailyChatVisionBot' parent=8154 closed> close\n"
          ]
        }
      ],
      "source": [
        "!DAILY_API_KEY=$DAILY_API_KEY GROQ_API_KEY=$GROQ_API_KEY python -m src.cmd.bots.main -f /content/daily_chat_transformers_vision_bot.json"
      ]
    },
    {
      "cell_type": "code",
      "execution_count": null,
      "metadata": {
        "id": "c6EiEKxtbqVT"
      },
      "outputs": [],
      "source": [
        "from google.colab import userdata\n",
        "REDIS_PASSWORD=userdata.get('REDIS_PASSWORD')\n",
        "#print(REDIS_PASSWORD)"
      ]
    },
    {
      "cell_type": "code",
      "execution_count": null,
      "metadata": {
        "colab": {
          "background_save": true
        },
        "id": "FzqIIMQ9boPX"
      },
      "outputs": [],
      "source": [
        "!LOG_LEVEL=debug REDIS_PASSWORD=$REDIS_PASSWORD python -m src.cmd.bots.main -f /content/task_bot.json"
      ]
    },
    {
      "cell_type": "markdown",
      "source": [
        "# **Note**\n",
        "- Llama-3.2-11B-Vision-Instruct 可以支持中文视频对话，但是效果一般，中文训练样本比较少，多样性不够造成的，如果不想ft, 可以在预测下一个token的时候调整下多样性的参数，比如温度和重复惩罚, 或者对模型输出的内容进行去重处理； 本质上解决还是需要加入微调语料集，继续训练下模型，对中文文本语言模型支持友好。\n",
        "\n",
        "LLMs复读机问题指的是大型语言模型（LLMs）在生成文本时出现的一种现象，即模型倾向于无限地复制输入的文本或者以过度频繁的方式重复相同的句子或短语。这种现象使得模型的输出缺乏多样性和创造性，给用户带来了不好的体验。\n",
        "\n",
        "复读机问题可能出现的原因包括：\n",
        "\n",
        "(1)数据偏差：大型语言模型通常是通过预训练阶段使用大规模无标签数据进行训练的。如果训练数据中存在大量的重复文本或者某些特定的句子或短语出现频率较高，模型在生成文本时可能会倾向于复制这些常见的模式。\n",
        "\n",
        "(2)训练目标的限制：大型语言模型的训练通常是基于自监督学习的方法，通过预测下一个词或掩盖词来学习语言模型。这样的训练目标可能使得模型更倾向于生成与输入相似的文本，导致复读机问题的出现。\n",
        "\n",
        "(3)缺乏多样性的训练数据：虽然大型语言模型可以处理大规模的数据，但如果训练数据中缺乏多样性的语言表达和语境，模型可能无法学习到足够的多样性和创造性，导致复读机问题的出现。\n",
        "\n",
        "为了解决复读机问题，可以采取以下策略：\n",
        "\n",
        "(1)多样性训练数据：在训练阶段，尽量使用多样性的语料库来训练模型，避免数据偏差和重复文本的问题。\n",
        "\n",
        "(2)引入噪声：在生成文本时，可以引入一些随机性或噪声，例如通过采样不同的词或短语，或者引入随机的变换操作，以增加生成文本的多样性。\n",
        "\n",
        "(3)温度参数调整：温度参数是用来控制生成文本的多样性的一个参数。通过调整温度参数的值，可以控制生成文本的独创性和多样性，从而减少复读机问题的出现。\n",
        "\n",
        "(4)后处理和过滤：对生成的文本进行后处理和过滤，去除重复的句子或短语，以提高生成文本的质量和多样性。\n",
        "\n",
        "需要注意的是，复读机问题是大型语言模型面临的一个挑战，解决这个问题是一个复杂的任务，需要综合考虑数据、训练目标、模型架构和生成策略等多个因素。目前，研究人员和工程师们正在不断努力改进和优化大型语言模型，以提高其生成文本的多样性和创造性。\n",
        "\n",
        "\n",
        "# Reference\n",
        "- https://www.zhihu.com/question/616130636\n",
        "- https://ai.stackexchange.com/questions/39540/how-do-temperature-and-repetition-penalty-interfere"
      ],
      "metadata": {
        "id": "ybbx4J25-5vi"
      }
    }
  ]
}