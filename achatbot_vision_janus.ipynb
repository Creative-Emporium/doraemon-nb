{
  "nbformat": 4,
  "nbformat_minor": 0,
  "metadata": {
    "colab": {
      "provenance": [],
      "machine_shape": "hm",
      "gpuType": "T4",
      "authorship_tag": "ABX9TyN/M5w5PYt0LFUqCGdr9UhS",
      "include_colab_link": true
    },
    "kernelspec": {
      "name": "python3",
      "display_name": "Python 3"
    },
    "language_info": {
      "name": "python"
    },
    "accelerator": "GPU"
  },
  "cells": [
    {
      "cell_type": "markdown",
      "metadata": {
        "id": "view-in-github",
        "colab_type": "text"
      },
      "source": [
        "<a href=\"https://colab.research.google.com/github/weedge/doraemon-nb/blob/main/achatbot_vision_janus.ipynb\" target=\"_parent\"><img src=\"https://colab.research.google.com/assets/colab-badge.svg\" alt=\"Open In Colab\"/></a>"
      ]
    },
    {
      "cell_type": "markdown",
      "source": [
        "# install"
      ],
      "metadata": {
        "id": "-DSxG0KC86f9"
      }
    },
    {
      "cell_type": "code",
      "execution_count": null,
      "metadata": {
        "id": "CepHVoTB7OCO"
      },
      "outputs": [],
      "source": [
        "!cd /content && rm -rf achatbot && git clone --recursive https://github.com/ai-bot-pro/achatbot.git"
      ]
    },
    {
      "cell_type": "code",
      "source": [
        "%cd /content/achatbot"
      ],
      "metadata": {
        "colab": {
          "base_uri": "https://localhost:8080/"
        },
        "id": "P1i4Vmbr712c",
        "outputId": "819a3030-54ef-4249-818e-0d7034cd573c"
      },
      "execution_count": 2,
      "outputs": [
        {
          "output_type": "stream",
          "name": "stdout",
          "text": [
            "/content/achatbot\n"
          ]
        }
      ]
    },
    {
      "cell_type": "code",
      "source": [
        "!bash scripts/pypi_achatbot.sh dev"
      ],
      "metadata": {
        "id": "K5zg_Mi278Aj"
      },
      "execution_count": null,
      "outputs": []
    },
    {
      "cell_type": "code",
      "source": [
        "!pip install -q \"dist/achatbot-0.0.8.6-py3-none-any.whl[tensorrt,daily_room_audio_stream,livekit,livekit-api,sense_voice_asr,deepgram_asr_processor,llm_transformers_manual_vision_img_janus,tts_edge,openai,queue]\""
      ],
      "metadata": {
        "id": "1R-SA5Ci78xD"
      },
      "execution_count": null,
      "outputs": []
    },
    {
      "cell_type": "markdown",
      "source": [
        "# download model\n"
      ],
      "metadata": {
        "id": "u0ShW0538J2y"
      }
    },
    {
      "cell_type": "code",
      "execution_count": 6,
      "metadata": {
        "id": "Oh9kyx4Dg8ZU"
      },
      "outputs": [],
      "source": [
        "from google.colab import userdata\n",
        "HF_TOKEN=userdata.get('HF_TOKEN')"
      ]
    },
    {
      "cell_type": "code",
      "execution_count": null,
      "metadata": {
        "id": "jGGYbtpNgSq4"
      },
      "outputs": [],
      "source": [
        "!huggingface-cli login --token $HF_TOKEN --add-to-git-credential"
      ]
    },
    {
      "cell_type": "code",
      "source": [
        "!huggingface-cli download FunAudioLLM/SenseVoiceSmall --quiet --local-dir /content/models/FunAudioLLM/SenseVoiceSmall"
      ],
      "metadata": {
        "colab": {
          "base_uri": "https://localhost:8080/"
        },
        "id": "Kc1zgRHPfCI9",
        "outputId": "facff38c-a42f-45ba-e1d3-06c82a3db9b8"
      },
      "execution_count": 15,
      "outputs": [
        {
          "output_type": "stream",
          "name": "stdout",
          "text": [
            "/content/models/FunAudioLLM/SenseVoiceSmall\n"
          ]
        }
      ]
    },
    {
      "cell_type": "code",
      "source": [
        "!huggingface-cli download stabilityai/sdxl-vae --quiet --local-dir /content/models/stabilityai/sdxl-vae"
      ],
      "metadata": {
        "id": "ZW8ejlWen-e2",
        "colab": {
          "base_uri": "https://localhost:8080/"
        },
        "outputId": "b8774872-0244-4da2-bcb3-d7932e559e48"
      },
      "execution_count": 9,
      "outputs": [
        {
          "output_type": "stream",
          "name": "stdout",
          "text": [
            "/content/models/stabilityai/sdxl-vae\n"
          ]
        }
      ]
    },
    {
      "cell_type": "code",
      "execution_count": 10,
      "metadata": {
        "id": "lMMn7WEEYNuo",
        "colab": {
          "base_uri": "https://localhost:8080/"
        },
        "outputId": "556a6af8-5ad4-42de-81bf-41996481491a"
      },
      "outputs": [
        {
          "output_type": "stream",
          "name": "stdout",
          "text": [
            "/content/models/deepseek-ai/JanusFlow-1.3B\n"
          ]
        }
      ],
      "source": [
        "!huggingface-cli download deepseek-ai/JanusFlow-1.3B --quiet --local-dir /content/models/deepseek-ai/JanusFlow-1.3B"
      ]
    },
    {
      "cell_type": "code",
      "execution_count": 11,
      "metadata": {
        "id": "krAC-qSBbbXJ",
        "colab": {
          "base_uri": "https://localhost:8080/"
        },
        "outputId": "61699541-c372-4021-f265-72ba25883f53"
      },
      "outputs": [
        {
          "output_type": "stream",
          "name": "stdout",
          "text": [
            "/content/models/deepseek-ai/Janus-Pro-1B\n"
          ]
        }
      ],
      "source": [
        "!huggingface-cli download deepseek-ai/Janus-Pro-1B --quiet --local-dir /content/models/deepseek-ai/Janus-Pro-1B"
      ]
    },
    {
      "cell_type": "code",
      "execution_count": null,
      "metadata": {
        "id": "6AJgbIHcXy-1",
        "colab": {
          "base_uri": "https://localhost:8080/"
        },
        "outputId": "145406e2-5891-4f9a-d754-68815f01fa23"
      },
      "outputs": [
        {
          "output_type": "stream",
          "name": "stdout",
          "text": [
            "/content/models/deepseek-ai/Janus-Pro-7B\n"
          ]
        }
      ],
      "source": [
        "!huggingface-cli download deepseek-ai/Janus-Pro-7B --quiet --local-dir /content/models/deepseek-ai/Janus-Pro-7B"
      ]
    },
    {
      "cell_type": "markdown",
      "source": [
        "# run webrtc (daily/livekit) chatbot"
      ],
      "metadata": {
        "id": "3-jVYxHVgD1g"
      }
    },
    {
      "cell_type": "code",
      "execution_count": 12,
      "metadata": {
        "id": "Fg2ApmcbZ3Vc"
      },
      "outputs": [],
      "source": [
        "from google.colab import userdata\n",
        "DAILY_API_KEY=userdata.get('DAILY_API_KEY')\n",
        "\n",
        "LIVEKIT_URL=userdata.get('LIVEKIT_URL')\n",
        "LIVEKIT_API_KEY=userdata.get('LIVEKIT_API_KEY')\n",
        "LIVEKIT_API_SECRET=userdata.get('LIVEKIT_API_SECRET')\n"
      ]
    },
    {
      "cell_type": "markdown",
      "metadata": {
        "id": "DhPOa8RBb0dS"
      },
      "source": [
        "run bot task woker with bot.json, e.g.: dummy_bot.json\n",
        "\n",
        "- use daily/livekit room stream, u can click bot joined the room url, to start chat with bot with audio and camera stream,\n",
        "  - [daily](https://www.daily.co/) need DAILY_API_KEY\n",
        "  - [livekit](https://livekit.io/) need project url LIVEKIT_URL, LIVEKIT_API_KEY, LIVEKIT_API_SECRET\n",
        "\n"
      ]
    },
    {
      "cell_type": "code",
      "source": [
        "!cat /content/daily_describe_transformers_vision_bot.json"
      ],
      "metadata": {
        "colab": {
          "base_uri": "https://localhost:8080/"
        },
        "id": "8r5g8-u0paks",
        "outputId": "ef5d9f61-cd25-4b92-ad13-bd312baabfe6"
      },
      "execution_count": 17,
      "outputs": [
        {
          "output_type": "stream",
          "name": "stdout",
          "text": [
            "{\n",
            "  \"chat_bot_name\": \"DailyDescribeVisionBot\",\n",
            "  \"room_name\": \"chat-bot\",\n",
            "  \"room_url\": \"\",\n",
            "  \"token\": \"\",\n",
            "  \"services\": {\n",
            "    \"pipeline\": \"achatbot\",\n",
            "    \"vad\": \"silero\",\n",
            "    \"asr\": \"sense_voice\",\n",
            "    \"llm\": \"llm_transformers_manual_vision_janus\",\n",
            "    \"tts\": \"edge\"\n",
            "  },\n",
            "  \"config\": {\n",
            "    \"vad\": {\n",
            "      \"tag\": \"silero_vad_analyzer\",\n",
            "      \"args\": { \"stop_secs\": 0.7 }\n",
            "    },\n",
            "    \"asr\": {\n",
            "      \"tag\": \"sense_voice_asr\",\n",
            "      \"args\": {\n",
            "        \"language\": \"zn\",\n",
            "        \"model_name_or_path\": \"/content/models/FunAudioLLM/SenseVoiceSmall\"\n",
            "      }\n",
            "    },\n",
            "    \"llm\": {\n",
            "      \"tag\":\"llm_transformers_manual_vision_janus\",\n",
            "      \"args\":{\n",
            "        \"lm_device\":\"cuda\",\n",
            "        \"lm_model_name_or_path\":\"/content/models/deepseek-ai/Janus-Pro-1B\",\n",
            "        \"chat_history_size\": 0,\n",
            "        \"init_chat_prompt\":\"请用中文交流\",\n",
            "        \"model_type\":\"chat_completion\"\n",
            "      },\n",
            "      \"language\": \"zh\"\n",
            "    },\n",
            "    \"tts\": {\n",
            "      \"tag\": \"tts_edge\",\n",
            "      \"args\": {\n",
            "        \"voice_name\": \"zh-CN-YunjianNeural\",\n",
            "        \"language\": \"zh\",\n",
            "        \"gender\": \"Male\"\n",
            "      }\n",
            "    }\n",
            "  },\n",
            "  \"config_list\": []\n",
            "}\n"
          ]
        }
      ]
    },
    {
      "cell_type": "code",
      "execution_count": 18,
      "metadata": {
        "id": "NKB146E-b9s_",
        "colab": {
          "base_uri": "https://localhost:8080/"
        },
        "outputId": "7a3b100e-4dde-4ec6-87cf-079e145af521"
      },
      "outputs": [
        {
          "output_type": "stream",
          "name": "stdout",
          "text": [
            "{\n",
            "    \"chat_bot_name\": \"DailyDescribeVisionBot\",\n",
            "    \"config\": {\n",
            "        \"asr\": {\n",
            "            \"args\": {\n",
            "                \"language\": \"zn\",\n",
            "                \"model_name_or_path\": \"/content/models/FunAudioLLM/SenseVoiceSmall\"\n",
            "            },\n",
            "            \"tag\": \"sense_voice_asr\"\n",
            "        },\n",
            "        \"llm\": {\n",
            "            \"args\": {\n",
            "                \"chat_history_size\": 0,\n",
            "                \"init_chat_prompt\": \"\\u8bf7\\u7528\\u4e2d\\u6587\\u4ea4\\u6d41\",\n",
            "                \"lm_device\": \"cuda\",\n",
            "                \"lm_model_name_or_path\": \"/content/models/deepseek-ai/Janus-Pro-1B\",\n",
            "                \"model_type\": \"chat_completion\"\n",
            "            },\n",
            "            \"language\": \"zh\",\n",
            "            \"tag\": \"llm_transformers_manual_vision_janus\"\n",
            "        },\n",
            "        \"tts\": {\n",
            "            \"args\": {\n",
            "                \"gender\": \"Male\",\n",
            "                \"language\": \"zh\",\n",
            "                \"voice_name\": \"zh-CN-YunjianNeural\"\n",
            "            },\n",
            "            \"tag\": \"tts_edge\"\n",
            "        },\n",
            "        \"vad\": {\n",
            "            \"args\": {\n",
            "                \"stop_secs\": 0.7\n",
            "            },\n",
            "            \"tag\": \"silero_vad_analyzer\"\n",
            "        }\n",
            "    },\n",
            "    \"config_list\": [],\n",
            "    \"room_name\": \"chat-bot\",\n",
            "    \"room_url\": \"\",\n",
            "    \"services\": {\n",
            "        \"asr\": \"sense_voice\",\n",
            "        \"llm\": \"llm_transformers_manual_vision_janus\",\n",
            "        \"pipeline\": \"achatbot\",\n",
            "        \"tts\": \"edge\",\n",
            "        \"vad\": \"silero\"\n",
            "    },\n",
            "    \"token\": \"\"\n",
            "}\n",
            "2025-02-06 04:34:02,157 - chat-bot - INFO - /content/achatbot/src/cmd/bots/main.py:63 - <module> - bot_config:{'chat_bot_name': 'DailyDescribeVisionBot', 'room_name': 'chat-bot', 'room_url': '', 'token': '', 'services': {'pipeline': 'achatbot', 'vad': 'silero', 'asr': 'sense_voice', 'llm': 'llm_transformers_manual_vision_janus', 'tts': 'edge'}, 'config': {'vad': {'tag': 'silero_vad_analyzer', 'args': {'stop_secs': 0.7}}, 'asr': {'tag': 'sense_voice_asr', 'args': {'language': 'zn', 'model_name_or_path': '/content/models/FunAudioLLM/SenseVoiceSmall'}}, 'llm': {'tag': 'llm_transformers_manual_vision_janus', 'args': {'lm_device': 'cuda', 'lm_model_name_or_path': '/content/models/deepseek-ai/Janus-Pro-1B', 'chat_history_size': 0, 'init_chat_prompt': '请用中文交流', 'model_type': 'chat_completion'}, 'language': 'zh'}, 'tts': {'tag': 'tts_edge', 'args': {'voice_name': 'zh-CN-YunjianNeural', 'language': 'zh', 'gender': 'Male'}}}, 'config_list': []}\n",
            "2025-02-06 04:34:02,157 - chat-bot - INFO - /content/achatbot/src/cmd/bots/run.py:33 - __init__ - run_bot_info: is_agent=False chat_bot_name='DailyDescribeVisionBot' config={'vad': {'tag': 'silero_vad_analyzer', 'args': {'stop_secs': 0.7}}, 'asr': {'tag': 'sense_voice_asr', 'args': {'language': 'zn', 'model_name_or_path': '/content/models/FunAudioLLM/SenseVoiceSmall'}}, 'llm': {'tag': 'llm_transformers_manual_vision_janus', 'args': {'lm_device': 'cuda', 'lm_model_name_or_path': '/content/models/deepseek-ai/Janus-Pro-1B', 'chat_history_size': 0, 'init_chat_prompt': '请用中文交流', 'model_type': 'chat_completion'}, 'language': 'zh'}, 'tts': {'tag': 'tts_edge', 'args': {'voice_name': 'zh-CN-YunjianNeural', 'language': 'zh', 'gender': 'Male'}}} room_name='chat-bot' room_url='' token='' config_list=[] services={'pipeline': 'achatbot', 'vad': 'silero', 'asr': 'sense_voice', 'llm': 'llm_transformers_manual_vision_janus', 'tts': 'edge'} websocket_server_host='localhost' websocket_server_port=8765 transport_type='room' handle_sigint=True task_connector=None room_manager=None\n",
            "2025-02-06 04:34:02,267 - chat-bot - INFO - /content/achatbot/src/common/factory.py:69 - get_engine_by_tag - use daily_room engine\n",
            "2025-02-06 04:34:02,267 - chat-bot - INFO - /content/achatbot/src/common/factory.py:34 - get_instance - class: <class 'src.services.help.daily_room.DailyRoom'> args: {'privacy': 'public'}\n",
            "2025-02-06 04:34:02,267 - chat-bot - INFO - /content/achatbot/src/services/help/__init__.py:37 - initEngine - initEngine: daily_room, TAG:daily_room | DailyRoom\n",
            "2025-02-06 04:34:05,028 - chat-bot - INFO - /content/achatbot/src/cmd/bots/base.py:76 - init_bot_config - ai bot_config: vad=VADConfig(tag='silero_vad_analyzer', args={'stop_secs': 0.7}) asr=ASRConfig(tag='sense_voice_asr', args={'language': 'zn', 'model_name_or_path': '/content/models/FunAudioLLM/SenseVoiceSmall'}) llm=LLMConfig(base_url=None, model=None, language='zh', messages=None, tools=None, tag='llm_transformers_manual_vision_janus', args={'lm_device': 'cuda', 'lm_model_name_or_path': '/content/models/deepseek-ai/Janus-Pro-1B', 'chat_history_size': 0, 'init_chat_prompt': '请用中文交流', 'model_type': 'chat_completion'}) nlp_task_llm=None voice_llm=None vision_llm=None vision_detector=None vision_ocr=None tts=TTSConfig(voice=None, language=None, tag='tts_edge', args={'voice_name': 'zh-CN-YunjianNeural', 'language': 'zh', 'gender': 'Male'}) img_gen=None extends=None\n",
            "2025-02-06 04:34:05,065 - chat-bot - INFO - /content/achatbot/src/common/factory.py:69 - get_engine_by_tag - use silero_vad_analyzer engine\n",
            "2025-02-06 04:34:05,066 - chat-bot - INFO - /content/achatbot/src/common/factory.py:34 - get_instance - class: <class 'src.modules.speech.vad_analyzer.silero.SileroVADAnalyzer'> args: {'stop_secs': 0.7}\n",
            "Using cache found in /root/.cache/torch/hub/snakers4_silero-vad_master\n",
            "2025-02-06 04:34:05,389 - chat-bot - INFO - /content/achatbot/src/common/factory.py:69 - get_engine_by_tag - use sense_voice_asr engine\n",
            "2025-02-06 04:34:05,389 - chat-bot - INFO - /content/achatbot/src/common/factory.py:34 - get_instance - class: <class 'src.modules.speech.asr.sense_voice_asr.SenseVoiceAsr'> args: {'download_path': '', 'model_name_or_path': '/content/models/FunAudioLLM/SenseVoiceSmall', 'language': 'zn', 'verbose': True, 'prompt': '', 'sample_rate': 16000, 'device': None}\n",
            "2025-02-06 04:34:06,047 - numexpr.utils - INFO - /usr/local/lib/python3.11/dist-packages/numexpr/utils.py:162 - _init_num_threads - NumExpr defaulting to 8 threads.\n",
            "2025-02-06 04:34:08,224 - chat-bot - INFO - /usr/local/lib/python3.11/dist-packages/funasr/register.py:55 - decorator - New registry table added: preprocessor_classes\n",
            "2025-02-06 04:34:08,549 - chat-bot - WARNING - /usr/local/lib/python3.11/dist-packages/funasr/register.py:61 - decorator - Key Conformer already exists in model_classes, re-register\n",
            "2025-02-06 04:34:09,028 - chat-bot - INFO - /usr/local/lib/python3.11/dist-packages/funasr/register.py:55 - decorator - New registry table added: adaptor_classes\n",
            "2025-02-06 04:34:09,113 - chat-bot - WARNING - /usr/local/lib/python3.11/dist-packages/funasr/register.py:61 - decorator - Key Linear already exists in adaptor_classes, re-register\n",
            "2025-02-06 04:34:09,186 - chat-bot - WARNING - /usr/local/lib/python3.11/dist-packages/funasr/register.py:61 - decorator - Key TransformerDecoder already exists in decoder_classes, re-register\n",
            "2025-02-06 04:34:09,198 - chat-bot - WARNING - /usr/local/lib/python3.11/dist-packages/funasr/register.py:61 - decorator - Key LightweightConvolutionTransformerDecoder already exists in decoder_classes, re-register\n",
            "2025-02-06 04:34:09,204 - chat-bot - WARNING - /usr/local/lib/python3.11/dist-packages/funasr/register.py:61 - decorator - Key LightweightConvolution2DTransformerDecoder already exists in decoder_classes, re-register\n",
            "2025-02-06 04:34:09,210 - chat-bot - WARNING - /usr/local/lib/python3.11/dist-packages/funasr/register.py:61 - decorator - Key DynamicConvolutionTransformerDecoder already exists in decoder_classes, re-register\n",
            "2025-02-06 04:34:09,217 - chat-bot - WARNING - /usr/local/lib/python3.11/dist-packages/funasr/register.py:61 - decorator - Key DynamicConvolution2DTransformerDecoder already exists in decoder_classes, re-register\n",
            "2025-02-06 04:34:09,584 - chat-bot - INFO - /usr/local/lib/python3.11/dist-packages/funasr/register.py:55 - decorator - New registry table added: lid_predictor_classes\n",
            "2025-02-06 04:34:09,648 - chat-bot - WARNING - /usr/local/lib/python3.11/dist-packages/funasr/register.py:61 - decorator - Key SenseVoiceEncoderSmall already exists in encoder_classes, re-register\n",
            "2025-02-06 04:34:09,659 - chat-bot - WARNING - /usr/local/lib/python3.11/dist-packages/funasr/register.py:61 - decorator - Key SenseVoiceSmall already exists in model_classes, re-register\n",
            "Found 1 device(s).\n",
            "Device: 0\n",
            "  Name: Tesla T4\n",
            "  Compute Capability: 7.5\n",
            "  Multiprocessors: 40\n",
            "  CUDA Cores: 2560\n",
            "  Concurrent threads: 40960\n",
            "  GPU clock: 1590 MHz\n",
            "  Memory clock: 5001 MHz\n",
            "  Total Memory: 15095 MiB\n",
            "  Free Memory: 14992 MiB\n",
            "2025-02-06 04:34:09,818 - chat-bot - INFO - /usr/local/lib/python3.11/dist-packages/funasr/auto/auto_model.py:177 - build_model - download models from model hub: ms\n",
            "Detect model requirements, begin to install it: /content/models/FunAudioLLM/SenseVoiceSmall/requirements.txt\n",
            "install model requirements successfully\n",
            "Loading remote code failed: model, No module named 'model'\n",
            "2025-02-06 04:34:14,510 - chat-bot - INFO - /usr/local/lib/python3.11/dist-packages/funasr/auto/auto_model.py:269 - build_model - Loading pretrained params from /content/models/FunAudioLLM/SenseVoiceSmall/model.pt\n",
            "2025-02-06 04:34:14,516 - chat-bot - INFO - /usr/local/lib/python3.11/dist-packages/funasr/train_utils/load_pretrained_model.py:36 - load_pretrained_model - ckpt: /content/models/FunAudioLLM/SenseVoiceSmall/model.pt\n",
            "2025-02-06 04:34:15,431 - chat-bot - INFO - /usr/local/lib/python3.11/dist-packages/funasr/train_utils/load_pretrained_model.py:52 - load_pretrained_model - scope_map: ['module.', 'None']\n",
            "2025-02-06 04:34:15,431 - chat-bot - INFO - /usr/local/lib/python3.11/dist-packages/funasr/train_utils/load_pretrained_model.py:58 - load_pretrained_model - excludes: None\n",
            "2025-02-06 04:34:15,509 - chat-bot - INFO - /usr/local/lib/python3.11/dist-packages/funasr/train_utils/load_pretrained_model.py:103 - load_pretrained_model - Loading ckpt: /content/models/FunAudioLLM/SenseVoiceSmall/model.pt, status: <All keys matched successfully>\n",
            "2025-02-06 04:34:16,096 - chat-bot - INFO - /content/achatbot/src/common/factory.py:69 - get_engine_by_tag - use tts_edge engine\n",
            "2025-02-06 04:34:16,096 - chat-bot - INFO - /content/achatbot/src/common/factory.py:34 - get_instance - class: <class 'src.modules.speech.tts.edge_tts.EdgeTTS'> args: {'language': 'zh', 'gender': 'Male', 'voice_name': 'zh-CN-YunjianNeural', 'rate': '+15%', 'volume': '+0%', 'pitch': '+0Hz'}\n",
            "2025-02-06 04:34:16,097 - chat-bot - INFO - /content/achatbot/src/transports/daily.py:52 - __init__ - DailyTransport register event names: dict_keys(['on_joined', 'on_left', 'on_app_message', 'on_call_state_updated', 'on_dialin_ready', 'on_dialout_answered', 'on_dialout_connected', 'on_dialout_stopped', 'on_dialout_error', 'on_dialout_warning', 'on_first_participant_joined', 'on_participant_joined', 'on_participant_left', 'on_participant_updated'])\n",
            "Python version is above 3.10, patching the collections module.\n",
            "2025-02-06 04:34:16.816939: E external/local_xla/xla/stream_executor/cuda/cuda_fft.cc:477] Unable to register cuFFT factory: Attempting to register factory for plugin cuFFT when one has already been registered\n",
            "WARNING: All log messages before absl::InitializeLog() is called are written to STDERR\n",
            "E0000 00:00:1738816456.835097    6953 cuda_dnn.cc:8310] Unable to register cuDNN factory: Attempting to register factory for plugin cuDNN when one has already been registered\n",
            "E0000 00:00:1738816456.840208    6953 cuda_blas.cc:1418] Unable to register cuBLAS factory: Attempting to register factory for plugin cuBLAS when one has already been registered\n",
            "2025-02-06 04:34:16.858565: I tensorflow/core/platform/cpu_feature_guard.cc:210] This TensorFlow binary is optimized to use available CPU instructions in performance-critical operations.\n",
            "To enable the following instructions: AVX2 AVX512F FMA, in other operations, rebuild TensorFlow with the appropriate compiler flags.\n",
            "Python version is above 3.10, patching the collections module.\n",
            "2025-02-06 04:34:20,651 - chat-bot - INFO - /content/achatbot/src/common/factory.py:69 - get_engine_by_tag - use llm_transformers_manual_vision_janus engine\n",
            "2025-02-06 04:34:20,651 - chat-bot - INFO - /content/achatbot/src/common/factory.py:34 - get_instance - class: <class 'src.core.llm.transformers.manual_vision_img_janus_pro.TransformersManualVisionJanusPro'> args: {'lm_device': 'cuda', 'lm_model_name_or_path': '/content/models/deepseek-ai/Janus-Pro-1B', 'chat_history_size': 0, 'init_chat_prompt': '请用中文交流', 'model_type': 'chat_completion'}\n",
            "2025-02-06 04:34:20,651 - chat-bot - INFO - /content/achatbot/src/core/llm/transformers/manual_vision_img_janus_pro.py:48 - __init__ - TransformersLMArgs: TransformersLMArgs(lm_model_name_or_path='/content/models/deepseek-ai/Janus-Pro-1B', lm_device_map=None, lm_device='cuda', lm_torch_dtype='auto', lm_attn_impl=None, user_role='user', warnup_prompt=\"Repeat the word 'weedge niu bi'.\", warnup_steps=2, init_chat_role='system', init_chat_prompt='请用中文交流', lm_gen_seed=42, lm_gen_max_new_tokens=1024, lm_gen_min_new_tokens=0, lm_gen_do_sample=True, lm_gen_temperature=0.1, lm_gen_top_k=1, lm_gen_top_p=0.8, lm_gen_repetition_penalty=1.0, lm_tokenizer_decode_batch_size=60, chat_history_size=0, lm_stream=True, model_type='chat_completion', lm_bnb_quant_type='int4')\n",
            "You are using the default legacy behaviour of the <class 'transformers.models.llama.tokenization_llama_fast.LlamaTokenizerFast'>. This is expected, and simply means that the `legacy` (previous) behavior will be used so nothing changes for you. If you want to use the new behaviour, set `legacy=False`. This should only be set if you understand what it means, and thoroughly read the reason why this was added as explained in https://github.com/huggingface/transformers/pull/24565 - if you loaded a llama tokenizer from a GGUF file you can ignore this message.\n",
            "Some kwargs in processor config are unused and will not have any effect: ignore_id, mask_prompt, image_tag, add_special_token, num_image_tokens, sft_format. \n",
            "2025-02-06 04:34:26,547 - chat-bot - INFO - /content/achatbot/src/core/llm/transformers/base.py:134 - _warmup - Warming up TransformersManualVisionJanusPro device: cuda:0\n",
            "Starting from v4.46, the `logits` model output will have the same type as the model (except at train time, where it will always be FP32)\n",
            "2025-02-06 04:34:27,906 - chat-bot - INFO - /content/achatbot/src/core/llm/transformers/base.py:152 - _warmup - step 0 warnup TTFT time: 0.83475697699987 s\n",
            "2025-02-06 04:34:28,993 - chat-bot - INFO - /content/achatbot/src/core/llm/transformers/base.py:152 - _warmup - step 1 warnup TTFT time: 0.6010595640000247 s\n",
            "2025-02-06 04:34:28,993 - chat-bot - INFO - /content/achatbot/src/core/llm/transformers/base.py:157 - _warmup - TransformersManualVisionJanusPro:  warmed up! time: 2.447 s\n",
            "2025-02-06 04:34:28,994 - chat-bot - INFO - /content/achatbot/src/core/llm/__init__.py:52 - initLLMEngine - initLLMEngine: llm_transformers_manual_vision_janus, TAG:llm_transformers_manual_vision_janus | TransformersManualVisionJanusPro\n",
            "2025-02-06 04:34:28,995 - chat-bot - INFO - /content/achatbot/src/services/daily_client.py:174 - join - Joining https://weedge.daily.co/chat-bot\n",
            "2025-02-06 04:34:29,653 - chat-bot - INFO - /content/achatbot/src/cmd/bots/base_daily.py:34 - on_call_state_updated - Call state joining \n",
            "2025-02-06 04:34:29,884 - chat-bot - INFO - /content/achatbot/src/cmd/bots/base_daily.py:34 - on_call_state_updated - Call state joined \n",
            "2025-02-06 04:34:30,383 - chat-bot - INFO - /content/achatbot/src/services/daily_client.py:193 - join - Joined https://weedge.daily.co/chat-bot\n",
            "2025-02-06 04:34:46,059 - chat-bot - INFO - /content/achatbot/src/services/daily_client.py:386 - on_participant_joined - Participant joined 8fae2d90-79d9-4e56-9ae9-0ad5a6913666\n",
            "2025-02-06 04:34:46,060 - chat-bot - INFO - /content/achatbot/src/processors/speech/tts/tts_processor.py:51 - run_tts - Generating TTS: [你好，欢迎使用 Vision Bot. 我是一名虚拟助手，可以结合视频进行提问。]\n",
            "2025-02-06 04:34:49,131 - chat-bot - INFO - /content/achatbot/src/processors/speech/asr/asr_processor.py:69 - run_asr - sense_voice_asr Transcription: [描述]\n",
            "2025-02-06 04:34:49,712 - chat-bot - INFO - /content/achatbot/src/processors/speech/asr/asr_processor.py:69 - run_asr - sense_voice_asr Transcription: [うん]\n",
            "2025-02-06 04:34:50,538 - chat-bot - INFO - /content/achatbot/src/processors/speech/asr/asr_processor.py:69 - run_asr - sense_voice_asr Transcription: [可那]\n",
            "2025-02-06 04:35:00,430 - chat-bot - INFO - /content/achatbot/src/processors/speech/asr/asr_processor.py:69 - run_asr - sense_voice_asr Transcription: [描述一下你看到的内容]\n",
            "2025-02-06 04:35:00,853 - chat-bot - INFO - /content/achatbot/src/processors/speech/asr/asr_processor.py:69 - run_asr - sense_voice_asr Transcription: [う]\n",
            "2025-02-06 04:35:03,163 - chat-bot - INFO - /content/achatbot/src/processors/speech/tts/tts_processor.py:51 - run_tts - Generating TTS: [うん 可那 图片中可以看到一个室内场景，背景是一排深色的书架，上面摆放着几幅照片和一些装饰品。]\n",
            "2025-02-06 04:35:04,422 - chat-bot - INFO - /content/achatbot/src/processors/speech/tts/tts_processor.py:51 - run_tts - Generating TTS: [书架上还有一些小摆件，比如一个迷你玩具狗、一个迷你人偶和一些其他的小物件。]\n",
            "2025-02-06 04:35:06,166 - chat-bot - INFO - /content/achatbot/src/processors/speech/tts/tts_processor.py:51 - run_tts - Generating TTS: [书架的右侧可以看到窗户，窗帘是白色的，透过窗户可以看到一些自然光照射进来。]\n",
            "2025-02-06 04:35:06,819 - chat-bot - INFO - /content/achatbot/src/processors/speech/tts/tts_processor.py:51 - run_tts - Generating TTS: [图片中的人物穿着一件灰绿色的上衣，坐在书架前，似乎在进行某种视频会议或在线交流。]\n",
            "2025-02-06 04:35:41,654 - chat-bot - INFO - /content/achatbot/src/processors/speech/asr/asr_processor.py:69 - run_asr - sense_voice_asr Transcription: [讲一个故事]\n",
            "2025-02-06 04:35:44,427 - chat-bot - INFO - /content/achatbot/src/processors/speech/tts/tts_processor.py:51 - run_tts - Generating TTS: [您好，我是由中国的深度求索（DeepSeek）公司开发的智能助手DeepSeek-VL。我可以帮助您进行语音识别、文本翻译、图像识别以及提供信息查询等服务。]\n",
            "2025-02-06 04:35:46,180 - chat-bot - INFO - /content/achatbot/src/processors/speech/tts/tts_processor.py:51 - run_tts - Generating TTS: [您可以告诉我，您想了解哪些内容？]\n",
            "2025-02-06 04:36:09,805 - chat-bot - INFO - /content/achatbot/src/processors/speech/asr/asr_processor.py:69 - run_asr - sense_voice_asr Transcription: [文本翻译]\n",
            "2025-02-06 04:37:09,194 - chat-bot - INFO - /content/achatbot/src/processors/speech/asr/asr_processor.py:69 - run_asr - sense_voice_asr Transcription: [你好]\n",
            "2025-02-06 04:37:10,722 - chat-bot - INFO - /content/achatbot/src/processors/speech/tts/tts_processor.py:51 - run_tts - Generating TTS: [您好，我是由中国的深度求索（DeepSeek）公司开发的智能助手DeepSeek-VL。 你好！]\n",
            "2025-02-06 04:37:11,458 - chat-bot - INFO - /content/achatbot/src/processors/speech/tts/tts_processor.py:51 - run_tts - Generating TTS: [我可以帮助你完成任何任务。]\n",
            "2025-02-06 04:37:29,274 - chat-bot - INFO - /content/achatbot/src/processors/speech/asr/asr_processor.py:69 - run_asr - sense_voice_asr Transcription: [我正在干嘛]\n",
            "2025-02-06 04:37:30,996 - chat-bot - INFO - /content/achatbot/src/processors/speech/tts/tts_processor.py:51 - run_tts - Generating TTS: [您好，我可以帮助您完成一些任务。]\n",
            "2025-02-06 04:37:31,664 - chat-bot - INFO - /content/achatbot/src/processors/speech/tts/tts_processor.py:51 - run_tts - Generating TTS: [请问您想做什么呢？]\n",
            "2025-02-06 04:37:41,903 - chat-bot - INFO - /content/achatbot/src/processors/speech/asr/asr_processor.py:69 - run_asr - sense_voice_asr Transcription: [y]\n",
            "2025-02-06 04:37:42,605 - chat-bot - INFO - /content/achatbot/src/processors/speech/asr/asr_processor.py:69 - run_asr - sense_voice_asr Transcription: [oay]\n",
            "2025-02-06 04:37:44,436 - chat-bot - INFO - /content/achatbot/src/processors/speech/asr/asr_processor.py:69 - run_asr - sense_voice_asr Transcription: [可以个吧]\n",
            "2025-02-06 04:37:46,128 - chat-bot - INFO - /content/achatbot/src/processors/speech/tts/tts_processor.py:51 - run_tts - Generating TTS: [当然可以！]\n",
            "2025-02-06 04:37:48,527 - chat-bot - INFO - /content/achatbot/src/processors/speech/asr/asr_processor.py:69 - run_asr - sense_voice_asr Transcription: [no]\n",
            "2025-02-06 04:37:50,336 - chat-bot - INFO - /content/achatbot/src/processors/speech/tts/tts_processor.py:51 - run_tts - Generating TTS: [The assistant is unable to understand the user's request.]\n",
            "2025-02-06 04:37:51,306 - chat-bot - INFO - /content/achatbot/src/processors/speech/asr/asr_processor.py:69 - run_asr - sense_voice_asr Transcription: [y]\n",
            "2025-02-06 04:37:53,068 - chat-bot - INFO - /content/achatbot/src/processors/speech/tts/tts_processor.py:51 - run_tts - Generating TTS: [The assistant is a person who can understand and respond to natural language.]\n",
            "2025-02-06 04:38:05,961 - chat-bot - INFO - /content/achatbot/src/processors/speech/asr/asr_processor.py:69 - run_asr - sense_voice_asr Transcription: [描述一下你看]\n",
            "2025-02-06 04:38:07,113 - chat-bot - INFO - /content/achatbot/src/processors/speech/asr/asr_processor.py:69 - run_asr - sense_voice_asr Transcription: [看到的内容]\n",
            "2025-02-06 04:38:09,587 - chat-bot - INFO - /content/achatbot/src/processors/speech/tts/tts_processor.py:51 - run_tts - Generating TTS: [图片中可以看到一个室内场景，背景是一个深色的木质书柜，书柜上摆放着几幅照片和一些装饰品。]\n",
            "2025-02-06 04:38:10,927 - chat-bot - INFO - /content/achatbot/src/processors/speech/tts/tts_processor.py:51 - run_tts - Generating TTS: [书柜的左侧有几排架子，上面摆放着几幅照片，其中一幅照片上有一个穿着花裙的女孩，另一幅照片上是一个穿着紫色衣服的女孩。]\n",
            "2025-02-06 04:38:12,422 - chat-bot - INFO - /content/achatbot/src/processors/speech/tts/tts_processor.py:51 - run_tts - Generating TTS: [书柜的右侧有一个玻璃门，里面放着一些盒子。]\n",
            "2025-02-06 04:38:13,512 - chat-bot - INFO - /content/achatbot/src/processors/speech/tts/tts_processor.py:51 - run_tts - Generating TTS: [书柜前面有一个穿着灰色衣服的人，他靠在书柜上，双手托着下巴，似乎在思考或休息。]\n",
            "Exception ignored in sys.unraisablehook: <built-in function unraisablehook>\n",
            "KeyboardInterrupt\n",
            "2025-02-06 04:38:43,493 - chat-bot - WARNING - /usr/local/lib/python3.11/dist-packages/apipeline/pipeline/runner.py:53 - _sig_handler - Interruption detected. Canceling runner PipelineRunner#0\n",
            "2025-02-06 04:38:43,493 - chat-bot - WARNING - /usr/local/lib/python3.11/dist-packages/apipeline/pipeline/runner.py:53 - _sig_handler - Interruption detected. Canceling runner PipelineRunner#0\n",
            "2025-02-06 04:38:43,494 - chat-bot - INFO - /content/achatbot/src/services/daily_client.py:270 - leave - Leaving https://weedge.daily.co/chat-bot\n",
            "2025-02-06 04:38:43,495 - chat-bot - INFO - /content/achatbot/src/cmd/bots/base_daily.py:34 - on_call_state_updated - Call state leaving \n",
            "2025-02-06 04:38:43,523 - chat-bot - INFO - /content/achatbot/src/cmd/bots/base_daily.py:34 - on_call_state_updated - Call state left \n",
            "2025-02-06 04:38:48,497 - chat-bot - ERROR - /content/achatbot/src/common/task_manager/multiprocessing_task_manager.py:34 - cleanup - Error while cleaning up process 6953: Cannot close a process while it is still running. You should first call join() or terminate().\n",
            "2025-02-06 04:38:48,498 - chat-bot - WARNING - /content/achatbot/src/common/task_manager/multiprocessing_task_manager.py:37 - cleanup - pid:6953 tag:chat-bot proc: <Process name='DailyDescribeVisionBot' pid=6953 parent=6923 started> killed\n"
          ]
        }
      ],
      "source": [
        "!DAILY_API_KEY=$DAILY_API_KEY python -m src.cmd.bots.main -f /content/daily_describe_transformers_vision_bot.json"
      ]
    },
    {
      "cell_type": "code",
      "source": [
        "!cat /content/livekit_describe_transformers_vision_bot.json"
      ],
      "metadata": {
        "colab": {
          "base_uri": "https://localhost:8080/"
        },
        "id": "IKA0TixSpdyn",
        "outputId": "ed7d645c-c9d7-4152-e7b3-d7714aa8a76c"
      },
      "execution_count": 19,
      "outputs": [
        {
          "output_type": "stream",
          "name": "stdout",
          "text": [
            "{\n",
            "  \"chat_bot_name\": \"LivekitDescribeVisionBot\",\n",
            "  \"room_name\": \"chat-bot\",\n",
            "  \"room_url\": \"\",\n",
            "  \"token\": \"\",\n",
            "  \"room_manager\": {\n",
            "    \"tag\": \"livekit_room\",\n",
            "    \"args\": {\n",
            "      \"bot_name\": \"LivekitDescribeVisionBot\",\n",
            "      \"is_common_session\": false\n",
            "    }\n",
            "  },\n",
            "  \"services\": {\n",
            "    \"pipeline\": \"achatbot\",\n",
            "    \"vad\": \"silero\",\n",
            "    \"asr\": \"sense_voice\",\n",
            "    \"llm\": \"llm_transformers_manual_vision_janus\",\n",
            "    \"tts\": \"edge\"\n",
            "  },\n",
            "  \"config\": {\n",
            "    \"vad\": {\n",
            "      \"tag\": \"silero_vad_analyzer\",\n",
            "      \"args\": { \"stop_secs\": 0.7 }\n",
            "    },\n",
            "    \"asr\": {\n",
            "      \"tag\": \"sense_voice_asr\",\n",
            "      \"args\": {\n",
            "        \"language\": \"zn\",\n",
            "        \"model_name_or_path\": \"/content/models/FunAudioLLM/SenseVoiceSmall\"\n",
            "      }\n",
            "    },\n",
            "    \"llm\": {\n",
            "      \"tag\": \"llm_transformers_manual_vision_janus\",\n",
            "      \"args\": {\n",
            "        \"lm_device\": \"cuda\",\n",
            "        \"lm_model_name_or_path\": \"/content/models/deepseek-ai/Janus-Pro-1B\",\n",
            "        \"chat_history_size\": 0,\n",
            "        \"init_chat_prompt\": \"请用中文交流\",\n",
            "        \"model_type\": \"chat_completion\"\n",
            "      },\n",
            "      \"language\": \"zh\"\n",
            "    },\n",
            "    \"tts\": {\n",
            "      \"tag\": \"tts_edge\",\n",
            "      \"args\": {\n",
            "        \"voice_name\": \"zh-CN-YunjianNeural\",\n",
            "        \"language\": \"zh\",\n",
            "        \"gender\": \"Male\"\n",
            "      }\n",
            "    }\n",
            "  },\n",
            "  \"config_list\": []\n",
            "}\n"
          ]
        }
      ]
    },
    {
      "cell_type": "code",
      "source": [
        "!LIVEKIT_URL=$LIVEKIT_URL LIVEKIT_API_KEY=$LIVEKIT_API_KEY LIVEKIT_API_SECRET=$LIVEKIT_API_SECRET \\\n",
        "  python -m src.cmd.bots.main -f /content/livekit_describe_transformers_vision_bot.json"
      ],
      "metadata": {
        "id": "JPAK853Tpgqa",
        "colab": {
          "base_uri": "https://localhost:8080/"
        },
        "outputId": "14ab453b-c712-4df8-9259-391995b3ffe2"
      },
      "execution_count": 20,
      "outputs": [
        {
          "output_type": "stream",
          "name": "stdout",
          "text": [
            "{\n",
            "    \"chat_bot_name\": \"LivekitDescribeVisionBot\",\n",
            "    \"config\": {\n",
            "        \"asr\": {\n",
            "            \"args\": {\n",
            "                \"language\": \"zn\",\n",
            "                \"model_name_or_path\": \"/content/models/FunAudioLLM/SenseVoiceSmall\"\n",
            "            },\n",
            "            \"tag\": \"sense_voice_asr\"\n",
            "        },\n",
            "        \"llm\": {\n",
            "            \"args\": {\n",
            "                \"chat_history_size\": 0,\n",
            "                \"init_chat_prompt\": \"\\u8bf7\\u7528\\u4e2d\\u6587\\u4ea4\\u6d41\",\n",
            "                \"lm_device\": \"cuda\",\n",
            "                \"lm_model_name_or_path\": \"/content/models/deepseek-ai/Janus-Pro-1B\",\n",
            "                \"model_type\": \"chat_completion\"\n",
            "            },\n",
            "            \"language\": \"zh\",\n",
            "            \"tag\": \"llm_transformers_manual_vision_janus\"\n",
            "        },\n",
            "        \"tts\": {\n",
            "            \"args\": {\n",
            "                \"gender\": \"Male\",\n",
            "                \"language\": \"zh\",\n",
            "                \"voice_name\": \"zh-CN-YunjianNeural\"\n",
            "            },\n",
            "            \"tag\": \"tts_edge\"\n",
            "        },\n",
            "        \"vad\": {\n",
            "            \"args\": {\n",
            "                \"stop_secs\": 0.7\n",
            "            },\n",
            "            \"tag\": \"silero_vad_analyzer\"\n",
            "        }\n",
            "    },\n",
            "    \"config_list\": [],\n",
            "    \"room_manager\": {\n",
            "        \"args\": {\n",
            "            \"bot_name\": \"LivekitDescribeVisionBot\",\n",
            "            \"is_common_session\": false\n",
            "        },\n",
            "        \"tag\": \"livekit_room\"\n",
            "    },\n",
            "    \"room_name\": \"chat-bot\",\n",
            "    \"room_url\": \"\",\n",
            "    \"services\": {\n",
            "        \"asr\": \"sense_voice\",\n",
            "        \"llm\": \"llm_transformers_manual_vision_janus\",\n",
            "        \"pipeline\": \"achatbot\",\n",
            "        \"tts\": \"edge\",\n",
            "        \"vad\": \"silero\"\n",
            "    },\n",
            "    \"token\": \"\"\n",
            "}\n",
            "2025-02-06 04:39:28,050 - chat-bot - INFO - /content/achatbot/src/cmd/bots/main.py:63 - <module> - bot_config:{'chat_bot_name': 'LivekitDescribeVisionBot', 'room_name': 'chat-bot', 'room_url': '', 'token': '', 'room_manager': {'tag': 'livekit_room', 'args': {'bot_name': 'LivekitDescribeVisionBot', 'is_common_session': False}}, 'services': {'pipeline': 'achatbot', 'vad': 'silero', 'asr': 'sense_voice', 'llm': 'llm_transformers_manual_vision_janus', 'tts': 'edge'}, 'config': {'vad': {'tag': 'silero_vad_analyzer', 'args': {'stop_secs': 0.7}}, 'asr': {'tag': 'sense_voice_asr', 'args': {'language': 'zn', 'model_name_or_path': '/content/models/FunAudioLLM/SenseVoiceSmall'}}, 'llm': {'tag': 'llm_transformers_manual_vision_janus', 'args': {'lm_device': 'cuda', 'lm_model_name_or_path': '/content/models/deepseek-ai/Janus-Pro-1B', 'chat_history_size': 0, 'init_chat_prompt': '请用中文交流', 'model_type': 'chat_completion'}, 'language': 'zh'}, 'tts': {'tag': 'tts_edge', 'args': {'voice_name': 'zh-CN-YunjianNeural', 'language': 'zh', 'gender': 'Male'}}}, 'config_list': []}\n",
            "2025-02-06 04:39:28,051 - chat-bot - INFO - /content/achatbot/src/cmd/bots/run.py:33 - __init__ - run_bot_info: is_agent=False chat_bot_name='LivekitDescribeVisionBot' config={'vad': {'tag': 'silero_vad_analyzer', 'args': {'stop_secs': 0.7}}, 'asr': {'tag': 'sense_voice_asr', 'args': {'language': 'zn', 'model_name_or_path': '/content/models/FunAudioLLM/SenseVoiceSmall'}}, 'llm': {'tag': 'llm_transformers_manual_vision_janus', 'args': {'lm_device': 'cuda', 'lm_model_name_or_path': '/content/models/deepseek-ai/Janus-Pro-1B', 'chat_history_size': 0, 'init_chat_prompt': '请用中文交流', 'model_type': 'chat_completion'}, 'language': 'zh'}, 'tts': {'tag': 'tts_edge', 'args': {'voice_name': 'zh-CN-YunjianNeural', 'language': 'zh', 'gender': 'Male'}}} room_name='chat-bot' room_url='' token='' config_list=[] services={'pipeline': 'achatbot', 'vad': 'silero', 'asr': 'sense_voice', 'llm': 'llm_transformers_manual_vision_janus', 'tts': 'edge'} websocket_server_host='localhost' websocket_server_port=8765 transport_type='room' handle_sigint=True task_connector=None room_manager=EngineClassInfo(tag='livekit_room', args={'bot_name': 'LivekitDescribeVisionBot', 'is_common_session': False})\n",
            "2025-02-06 04:39:28,267 - chat-bot - INFO - /content/achatbot/src/common/factory.py:69 - get_engine_by_tag - use livekit_room engine\n",
            "2025-02-06 04:39:28,268 - chat-bot - INFO - /content/achatbot/src/common/factory.py:34 - get_instance - class: <class 'src.services.help.livekit_room.LivekitRoom'> args: {'bot_name': 'LivekitDescribeVisionBot', 'is_common_session': False}\n",
            "2025-02-06 04:39:28,268 - chat-bot - INFO - /content/achatbot/src/services/help/__init__.py:37 - initEngine - initEngine: livekit_room, TAG:livekit_room | LivekitRoom\n",
            "2025-02-06 04:39:30,937 - chat-bot - INFO - /content/achatbot/src/cmd/bots/base.py:76 - init_bot_config - ai bot_config: vad=VADConfig(tag='silero_vad_analyzer', args={'stop_secs': 0.7}) asr=ASRConfig(tag='sense_voice_asr', args={'language': 'zn', 'model_name_or_path': '/content/models/FunAudioLLM/SenseVoiceSmall'}) llm=LLMConfig(base_url=None, model=None, language='zh', messages=None, tools=None, tag='llm_transformers_manual_vision_janus', args={'lm_device': 'cuda', 'lm_model_name_or_path': '/content/models/deepseek-ai/Janus-Pro-1B', 'chat_history_size': 0, 'init_chat_prompt': '请用中文交流', 'model_type': 'chat_completion'}) nlp_task_llm=None voice_llm=None vision_llm=None vision_detector=None vision_ocr=None tts=TTSConfig(voice=None, language=None, tag='tts_edge', args={'voice_name': 'zh-CN-YunjianNeural', 'language': 'zh', 'gender': 'Male'}) img_gen=None extends=None\n",
            "2025-02-06 04:39:30,952 - chat-bot - INFO - /content/achatbot/src/common/factory.py:69 - get_engine_by_tag - use silero_vad_analyzer engine\n",
            "2025-02-06 04:39:30,953 - chat-bot - INFO - /content/achatbot/src/common/factory.py:34 - get_instance - class: <class 'src.modules.speech.vad_analyzer.silero.SileroVADAnalyzer'> args: {'stop_secs': 0.7}\n",
            "Using cache found in /root/.cache/torch/hub/snakers4_silero-vad_master\n",
            "2025-02-06 04:39:31,542 - chat-bot - INFO - /content/achatbot/src/common/factory.py:69 - get_engine_by_tag - use sense_voice_asr engine\n",
            "2025-02-06 04:39:31,542 - chat-bot - INFO - /content/achatbot/src/common/factory.py:34 - get_instance - class: <class 'src.modules.speech.asr.sense_voice_asr.SenseVoiceAsr'> args: {'download_path': '', 'model_name_or_path': '/content/models/FunAudioLLM/SenseVoiceSmall', 'language': 'zn', 'verbose': True, 'prompt': '', 'sample_rate': 16000, 'device': None}\n",
            "2025-02-06 04:39:32,363 - numexpr.utils - INFO - /usr/local/lib/python3.11/dist-packages/numexpr/utils.py:162 - _init_num_threads - NumExpr defaulting to 8 threads.\n",
            "2025-02-06 04:39:34,444 - chat-bot - INFO - /usr/local/lib/python3.11/dist-packages/funasr/register.py:55 - decorator - New registry table added: preprocessor_classes\n",
            "2025-02-06 04:39:34,956 - chat-bot - WARNING - /usr/local/lib/python3.11/dist-packages/funasr/register.py:61 - decorator - Key Conformer already exists in model_classes, re-register\n",
            "2025-02-06 04:39:35,256 - chat-bot - INFO - /usr/local/lib/python3.11/dist-packages/funasr/register.py:55 - decorator - New registry table added: adaptor_classes\n",
            "2025-02-06 04:39:35,339 - chat-bot - WARNING - /usr/local/lib/python3.11/dist-packages/funasr/register.py:61 - decorator - Key Linear already exists in adaptor_classes, re-register\n",
            "2025-02-06 04:39:35,413 - chat-bot - WARNING - /usr/local/lib/python3.11/dist-packages/funasr/register.py:61 - decorator - Key TransformerDecoder already exists in decoder_classes, re-register\n",
            "2025-02-06 04:39:35,426 - chat-bot - WARNING - /usr/local/lib/python3.11/dist-packages/funasr/register.py:61 - decorator - Key LightweightConvolutionTransformerDecoder already exists in decoder_classes, re-register\n",
            "2025-02-06 04:39:35,432 - chat-bot - WARNING - /usr/local/lib/python3.11/dist-packages/funasr/register.py:61 - decorator - Key LightweightConvolution2DTransformerDecoder already exists in decoder_classes, re-register\n",
            "2025-02-06 04:39:35,439 - chat-bot - WARNING - /usr/local/lib/python3.11/dist-packages/funasr/register.py:61 - decorator - Key DynamicConvolutionTransformerDecoder already exists in decoder_classes, re-register\n",
            "2025-02-06 04:39:35,446 - chat-bot - WARNING - /usr/local/lib/python3.11/dist-packages/funasr/register.py:61 - decorator - Key DynamicConvolution2DTransformerDecoder already exists in decoder_classes, re-register\n",
            "2025-02-06 04:39:35,839 - chat-bot - INFO - /usr/local/lib/python3.11/dist-packages/funasr/register.py:55 - decorator - New registry table added: lid_predictor_classes\n",
            "2025-02-06 04:39:35,904 - chat-bot - WARNING - /usr/local/lib/python3.11/dist-packages/funasr/register.py:61 - decorator - Key SenseVoiceEncoderSmall already exists in encoder_classes, re-register\n",
            "2025-02-06 04:39:35,914 - chat-bot - WARNING - /usr/local/lib/python3.11/dist-packages/funasr/register.py:61 - decorator - Key SenseVoiceSmall already exists in model_classes, re-register\n",
            "Found 1 device(s).\n",
            "Device: 0\n",
            "  Name: Tesla T4\n",
            "  Compute Capability: 7.5\n",
            "  Multiprocessors: 40\n",
            "  CUDA Cores: 2560\n",
            "  Concurrent threads: 40960\n",
            "  GPU clock: 1590 MHz\n",
            "  Memory clock: 5001 MHz\n",
            "  Total Memory: 15095 MiB\n",
            "  Free Memory: 14992 MiB\n",
            "2025-02-06 04:39:36,073 - chat-bot - INFO - /usr/local/lib/python3.11/dist-packages/funasr/auto/auto_model.py:177 - build_model - download models from model hub: ms\n",
            "Detect model requirements, begin to install it: /content/models/FunAudioLLM/SenseVoiceSmall/requirements.txt\n",
            "install model requirements successfully\n",
            "Loading remote code failed: model, No module named 'model'\n",
            "2025-02-06 04:39:40,663 - chat-bot - INFO - /usr/local/lib/python3.11/dist-packages/funasr/auto/auto_model.py:269 - build_model - Loading pretrained params from /content/models/FunAudioLLM/SenseVoiceSmall/model.pt\n",
            "2025-02-06 04:39:40,669 - chat-bot - INFO - /usr/local/lib/python3.11/dist-packages/funasr/train_utils/load_pretrained_model.py:36 - load_pretrained_model - ckpt: /content/models/FunAudioLLM/SenseVoiceSmall/model.pt\n",
            "2025-02-06 04:39:41,548 - chat-bot - INFO - /usr/local/lib/python3.11/dist-packages/funasr/train_utils/load_pretrained_model.py:52 - load_pretrained_model - scope_map: ['module.', 'None']\n",
            "2025-02-06 04:39:41,548 - chat-bot - INFO - /usr/local/lib/python3.11/dist-packages/funasr/train_utils/load_pretrained_model.py:58 - load_pretrained_model - excludes: None\n",
            "2025-02-06 04:39:41,624 - chat-bot - INFO - /usr/local/lib/python3.11/dist-packages/funasr/train_utils/load_pretrained_model.py:103 - load_pretrained_model - Loading ckpt: /content/models/FunAudioLLM/SenseVoiceSmall/model.pt, status: <All keys matched successfully>\n",
            "2025-02-06 04:39:42,230 - chat-bot - INFO - /content/achatbot/src/common/factory.py:69 - get_engine_by_tag - use tts_edge engine\n",
            "2025-02-06 04:39:42,230 - chat-bot - INFO - /content/achatbot/src/common/factory.py:34 - get_instance - class: <class 'src.modules.speech.tts.edge_tts.EdgeTTS'> args: {'language': 'zh', 'gender': 'Male', 'voice_name': 'zh-CN-YunjianNeural', 'rate': '+15%', 'volume': '+0%', 'pitch': '+0Hz'}\n",
            "2025-02-06 04:39:42,230 - chat-bot - INFO - /content/achatbot/src/transports/livekit.py:43 - __init__ - LivekitTransport register event names: dict_keys(['on_connected', 'on_error', 'on_connection_state_changed', 'on_disconnected', 'on_participant_connected', 'on_participant_disconnected', 'on_audio_track_subscribed', 'on_audio_track_unsubscribed', 'on_video_track_subscribed', 'on_video_track_unsubscribed', 'on_data_received', 'on_first_participant_joined'])\n",
            "Python version is above 3.10, patching the collections module.\n",
            "2025-02-06 04:39:43.225592: E external/local_xla/xla/stream_executor/cuda/cuda_fft.cc:477] Unable to register cuFFT factory: Attempting to register factory for plugin cuFFT when one has already been registered\n",
            "WARNING: All log messages before absl::InitializeLog() is called are written to STDERR\n",
            "E0000 00:00:1738816783.243769    8942 cuda_dnn.cc:8310] Unable to register cuDNN factory: Attempting to register factory for plugin cuDNN when one has already been registered\n",
            "E0000 00:00:1738816783.249265    8942 cuda_blas.cc:1418] Unable to register cuBLAS factory: Attempting to register factory for plugin cuBLAS when one has already been registered\n",
            "2025-02-06 04:39:43.268474: I tensorflow/core/platform/cpu_feature_guard.cc:210] This TensorFlow binary is optimized to use available CPU instructions in performance-critical operations.\n",
            "To enable the following instructions: AVX2 AVX512F FMA, in other operations, rebuild TensorFlow with the appropriate compiler flags.\n",
            "Python version is above 3.10, patching the collections module.\n",
            "2025-02-06 04:39:46,227 - chat-bot - INFO - /content/achatbot/src/common/factory.py:69 - get_engine_by_tag - use llm_transformers_manual_vision_janus engine\n",
            "2025-02-06 04:39:46,227 - chat-bot - INFO - /content/achatbot/src/common/factory.py:34 - get_instance - class: <class 'src.core.llm.transformers.manual_vision_img_janus_pro.TransformersManualVisionJanusPro'> args: {'lm_device': 'cuda', 'lm_model_name_or_path': '/content/models/deepseek-ai/Janus-Pro-1B', 'chat_history_size': 0, 'init_chat_prompt': '请用中文交流', 'model_type': 'chat_completion'}\n",
            "2025-02-06 04:39:46,227 - chat-bot - INFO - /content/achatbot/src/core/llm/transformers/manual_vision_img_janus_pro.py:48 - __init__ - TransformersLMArgs: TransformersLMArgs(lm_model_name_or_path='/content/models/deepseek-ai/Janus-Pro-1B', lm_device_map=None, lm_device='cuda', lm_torch_dtype='auto', lm_attn_impl=None, user_role='user', warnup_prompt=\"Repeat the word 'weedge niu bi'.\", warnup_steps=2, init_chat_role='system', init_chat_prompt='请用中文交流', lm_gen_seed=42, lm_gen_max_new_tokens=1024, lm_gen_min_new_tokens=0, lm_gen_do_sample=True, lm_gen_temperature=0.1, lm_gen_top_k=1, lm_gen_top_p=0.8, lm_gen_repetition_penalty=1.0, lm_tokenizer_decode_batch_size=60, chat_history_size=0, lm_stream=True, model_type='chat_completion', lm_bnb_quant_type='int4')\n",
            "You are using the default legacy behaviour of the <class 'transformers.models.llama.tokenization_llama_fast.LlamaTokenizerFast'>. This is expected, and simply means that the `legacy` (previous) behavior will be used so nothing changes for you. If you want to use the new behaviour, set `legacy=False`. This should only be set if you understand what it means, and thoroughly read the reason why this was added as explained in https://github.com/huggingface/transformers/pull/24565 - if you loaded a llama tokenizer from a GGUF file you can ignore this message.\n",
            "Some kwargs in processor config are unused and will not have any effect: add_special_token, num_image_tokens, image_tag, sft_format, mask_prompt, ignore_id. \n",
            "2025-02-06 04:39:52,462 - chat-bot - INFO - /content/achatbot/src/core/llm/transformers/base.py:134 - _warmup - Warming up TransformersManualVisionJanusPro device: cuda:0\n",
            "Starting from v4.46, the `logits` model output will have the same type as the model (except at train time, where it will always be FP32)\n",
            "2025-02-06 04:39:53,829 - chat-bot - INFO - /content/achatbot/src/core/llm/transformers/base.py:152 - _warmup - step 0 warnup TTFT time: 0.8258487790001254 s\n",
            "2025-02-06 04:39:54,954 - chat-bot - INFO - /content/achatbot/src/core/llm/transformers/base.py:152 - _warmup - step 1 warnup TTFT time: 0.6155231959999128 s\n",
            "2025-02-06 04:39:54,954 - chat-bot - INFO - /content/achatbot/src/core/llm/transformers/base.py:157 - _warmup - TransformersManualVisionJanusPro:  warmed up! time: 2.492 s\n",
            "2025-02-06 04:39:54,954 - chat-bot - INFO - /content/achatbot/src/core/llm/__init__.py:52 - initLLMEngine - initLLMEngine: llm_transformers_manual_vision_janus, TAG:llm_transformers_manual_vision_janus | TransformersManualVisionJanusPro\n",
            "2025-02-06 04:39:54,956 - chat-bot - INFO - /content/achatbot/src/services/livekit_client.py:157 - _join - LivekitDescribeVisionBot Connecting to chat-bot, current remote participants:[]\n",
            "2025-02-06 04:39:54,960 - livekit - INFO - /usr/local/lib/python3.11/dist-packages/livekit/rtc/_ffi_client.py:164 - ffi_event_callback - livekit_ffi::server:133:livekit_ffi::server - initializing ffi server v0.12.1\n",
            "2025-02-06 04:39:54,960 - chat-bot - WARNING - /content/achatbot/src/services/livekit_client.py:194 - join - LivekitDescribeVisionBot has connected chat-bot\n",
            "2025-02-06 04:39:54,961 - livekit - INFO - /usr/local/lib/python3.11/dist-packages/livekit/rtc/_ffi_client.py:164 - ffi_event_callback - livekit_ffi::cabi:36:livekit_ffi::cabi - initializing ffi server v0.12.1\n",
            "2025-02-06 04:39:54,971 - livekit - INFO - /usr/local/lib/python3.11/dist-packages/livekit/rtc/_ffi_client.py:164 - ffi_event_callback - livekit_api::signal_client::signal_stream:96:livekit_api::signal_client::signal_stream - connecting to wss://chat-bot-3siyyeda.livekit.cloud/rtc?sdk=python&protocol=15&auto_subscribe=1&adaptive_stream=0&version=0.17.6&access_token=...\n",
            "2025-02-06 04:39:55,216 - chat-bot - INFO - /content/achatbot/src/services/livekit_client.py:182 - _join - local_participant:rtc.LocalParticipant(sid=PA_RxK7PkCvtr93, identity=373e57a3-1fe4-45dc-9bef-5362e555f1eb, name=LivekitDescribeVisionBot) joined room: chat-bot connection_state: 1\n",
            "2025-02-06 04:39:55,230 - chat-bot - INFO - /content/achatbot/src/services/livekit_client.py:216 - join - audio track local publication rtc.LocalTrackPublication(sid=TR_AMgm5EgX3MeudD, name=achatbot-out-audio, kind=1, source=2)\n",
            "2025-02-06 04:39:55,230 - chat-bot - INFO - /content/achatbot/src/services/livekit_client.py:246 - join - u can access sandbox url: https://ultra-terminal-re8nmd.sandbox.livekit.io/rooms/chat-bot\n",
            "2025-02-06 04:39:55,230 - chat-bot - INFO - /content/achatbot/src/processors/livekit_input_transport_processor.py:78 - _audio_in_task_handler - Start sub room in audio stream task\n",
            "2025-02-06 04:40:14,538 - chat-bot - INFO - /content/achatbot/src/services/livekit_client.py:390 - _async_on_participant_connected - Participant:rtc.RemoteParticipant(sid=PA_SHxNzjnxc9AH, identity=weedge, name=) connected\n",
            "2025-02-06 04:40:14,538 - chat-bot - WARNING - /content/achatbot/src/services/livekit_client.py:700 - capture_participant_video - participant_id PA_SHxNzjnxc9AH no video track\n",
            "2025-02-06 04:40:14,539 - chat-bot - INFO - /content/achatbot/src/processors/speech/tts/tts_processor.py:51 - run_tts - Generating TTS: [你好,weedge。欢迎使用 Vision Bot. 我是一名虚拟助手，可以结合视频进行提问。]\n",
            "2025-02-06 04:40:16,072 - chat-bot - INFO - /content/achatbot/src/services/livekit_client.py:408 - _async_on_track_subscribed - track subscribed: rtc.RemoteVideoTrack(sid=TR_VCqqBkimkvZejc, name=) from participant rtc.RemoteParticipant(sid=PA_SHxNzjnxc9AH, identity=weedge, name=)\n",
            "2025-02-06 04:40:16,072 - chat-bot - INFO - /content/achatbot/src/services/livekit_client.py:408 - _async_on_track_subscribed - track subscribed: rtc.RemoteAudioTrack(sid=TR_AM75oQm9di5SYp, name=) from participant rtc.RemoteParticipant(sid=PA_SHxNzjnxc9AH, identity=weedge, name=)\n",
            "2025-02-06 04:40:16,073 - chat-bot - INFO - /content/achatbot/src/services/livekit_client.py:740 - _async_on_participant_video_frame - Started capture participant_id:PA_SHxNzjnxc9AH from video stream <livekit.rtc.video_stream.VideoStream object at 0x7d2c5a249610>\n",
            "2025-02-06 04:40:16,073 - chat-bot - INFO - /content/achatbot/src/services/livekit_client.py:431 - _process_audio_stream - Started processing audio stream for participant PA_SHxNzjnxc9AH\n",
            "2025-02-06 04:40:26,546 - chat-bot - INFO - /content/achatbot/src/processors/speech/asr/asr_processor.py:69 - run_asr - sense_voice_asr Transcription: [请描述一下你看到的]\n",
            "2025-02-06 04:40:27,313 - chat-bot - INFO - /content/achatbot/src/processors/speech/asr/asr_processor.py:69 - run_asr - sense_voice_asr Transcription: [内容]\n",
            "2025-02-06 04:40:29,785 - chat-bot - INFO - /content/achatbot/src/processors/speech/tts/tts_processor.py:51 - run_tts - Generating TTS: [我看到的是一个室内场景，背景中有一个深色的木质书架，上面摆放着几幅照片和一些装饰品。]\n",
            "2025-02-06 04:40:31,217 - chat-bot - INFO - /content/achatbot/src/processors/speech/tts/tts_processor.py:51 - run_tts - Generating TTS: [书架的中间部分有一个玻璃门，可以看到里面放着一些文件或物品。]\n",
            "2025-02-06 04:40:32,537 - chat-bot - INFO - /content/achatbot/src/processors/speech/tts/tts_processor.py:51 - run_tts - Generating TTS: [书架的左侧和右侧各有一排照片，其中一些照片是相框装裱的。]\n",
            "2025-02-06 04:40:33,286 - chat-bot - INFO - /content/achatbot/src/processors/speech/tts/tts_processor.py:51 - run_tts - Generating TTS: [书架的下方，靠近人物的位置，可以看到一个穿着灰色上衣的人物照片。]\n",
            "2025-02-06 04:40:34,380 - chat-bot - INFO - /content/achatbot/src/processors/speech/tts/tts_processor.py:51 - run_tts - Generating TTS: [背景中还可以看到一扇窗户，窗帘半拉开，让自然光进入房间。]\n",
            "2025-02-06 04:40:35,910 - chat-bot - INFO - /content/achatbot/src/processors/speech/asr/asr_processor.py:69 - run_asr - sense_voice_asr Transcription: [theeah]\n",
            "Exception ignored in sys.unraisablehook: <built-in function unraisablehook>\n",
            "KeyboardInterrupt\n",
            "2025-02-06 04:41:05,164 - chat-bot - WARNING - /usr/local/lib/python3.11/dist-packages/apipeline/pipeline/runner.py:53 - _sig_handler - Interruption detected. Canceling runner PipelineRunner#0\n",
            "2025-02-06 04:41:05,164 - chat-bot - WARNING - /usr/local/lib/python3.11/dist-packages/apipeline/pipeline/runner.py:53 - _sig_handler - Interruption detected. Canceling runner PipelineRunner#0\n",
            "2025-02-06 04:41:05,164 - chat-bot - INFO - /content/achatbot/src/services/livekit_client.py:278 - leave - LivekitDescribeVisionBot Disconnecting from chat-bot\n",
            "2025-02-06 04:41:05,165 - chat-bot - WARNING - /content/achatbot/src/services/livekit_client.py:272 - leave - LivekitDescribeVisionBot unconnect chat-bot, don't to leave\n",
            "2025-02-06 04:41:06,165 - chat-bot - INFO - /content/achatbot/src/services/livekit_client.py:463 - _async_on_disconnected - Disconnected from chat-bot. Reason: Leave Room.\n",
            "2025-02-06 04:41:06,181 - livekit - INFO - /usr/local/lib/python3.11/dist-packages/livekit/rtc/_ffi_client.py:164 - ffi_event_callback - livekit::room:1128:livekit::room - disconnected from room with reason: ClientInitiated\n",
            "2025-02-06 04:41:06,182 - chat-bot - INFO - /content/achatbot/src/services/livekit_client.py:463 - _async_on_disconnected - Disconnected from chat-bot. Reason: 1\n",
            "2025-02-06 04:41:10,169 - chat-bot - ERROR - /content/achatbot/src/common/task_manager/multiprocessing_task_manager.py:34 - cleanup - Error while cleaning up process 8942: Cannot close a process while it is still running. You should first call join() or terminate().\n",
            "2025-02-06 04:41:10,170 - chat-bot - WARNING - /content/achatbot/src/common/task_manager/multiprocessing_task_manager.py:37 - cleanup - pid:8942 tag:chat-bot proc: <Process name='LivekitDescribeVisionBot' pid=8942 parent=8909 started> killed\n"
          ]
        }
      ]
    },
    {
      "cell_type": "code",
      "execution_count": null,
      "metadata": {
        "id": "c6EiEKxtbqVT"
      },
      "outputs": [],
      "source": [
        "from google.colab import userdata\n",
        "REDIS_PASSWORD=userdata.get('REDIS_PASSWORD')"
      ]
    },
    {
      "cell_type": "code",
      "execution_count": null,
      "metadata": {
        "colab": {
          "background_save": true
        },
        "id": "FzqIIMQ9boPX"
      },
      "outputs": [],
      "source": [
        "!LOG_LEVEL=debug REDIS_PASSWORD=$REDIS_PASSWORD python -m src.cmd.bots.main -f /content/task_bot.json"
      ]
    }
  ]
}