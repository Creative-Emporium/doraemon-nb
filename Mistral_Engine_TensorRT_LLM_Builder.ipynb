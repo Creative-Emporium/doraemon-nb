{
  "nbformat": 4,
  "nbformat_minor": 0,
  "metadata": {
    "colab": {
      "provenance": [],
      "gpuType": "L4",
      "machine_shape": "hm",
      "include_colab_link": true
    },
    "kernelspec": {
      "name": "python3",
      "display_name": "Python 3"
    },
    "language_info": {
      "name": "python"
    },
    "accelerator": "GPU"
  },
  "cells": [
    {
      "cell_type": "markdown",
      "metadata": {
        "id": "view-in-github",
        "colab_type": "text"
      },
      "source": [
        "<a href=\"https://colab.research.google.com/github/weedge/doraemon-nb/blob/main/Mistral_Engine_TensorRT_LLM_Builder.ipynb\" target=\"_parent\"><img src=\"https://colab.research.google.com/assets/colab-badge.svg\" alt=\"Open In Colab\"/></a>"
      ]
    },
    {
      "cell_type": "markdown",
      "source": [
        "💡\n",
        "\n",
        "https://pypi.org/project/tensorrt-llm/\n",
        "\n",
        "tensorrt_llm don't support 3.11,  support 3.10 3.12, so need upgrade python to 3.12 or 3.10"
      ],
      "metadata": {
        "id": "8NETnQWbS2BX"
      }
    },
    {
      "cell_type": "markdown",
      "source": [
        "# use python3.10"
      ],
      "metadata": {
        "id": "R06Prqz-NmhM"
      }
    },
    {
      "cell_type": "code",
      "source": [
        "!ls /usr/bin/python3.*"
      ],
      "metadata": {
        "colab": {
          "base_uri": "https://localhost:8080/"
        },
        "id": "sKtGbk60PMdd",
        "outputId": "b2df4e88-405c-4ed1-fb62-7ffd7c4492a3"
      },
      "execution_count": null,
      "outputs": [
        {
          "output_type": "stream",
          "name": "stdout",
          "text": [
            "/usr/bin/python3.10  /usr/bin/python3.10-config  /usr/bin/python3.11  /usr/bin/python3.11-config\n"
          ]
        }
      ]
    },
    {
      "cell_type": "code",
      "source": [
        "!update-alternatives --install /usr/bin/python3 python3 /usr/bin/python3.11 1\n",
        "!update-alternatives --install /usr/bin/python3 python3 /usr/bin/python3.10 2\n"
      ],
      "metadata": {
        "colab": {
          "base_uri": "https://localhost:8080/"
        },
        "id": "QgUK4vpoOYgS",
        "outputId": "526e8e0e-3f6e-40ee-9995-5726c4d13004"
      },
      "execution_count": null,
      "outputs": [
        {
          "output_type": "stream",
          "name": "stdout",
          "text": [
            "update-alternatives: using /usr/bin/python3.10 to provide /usr/bin/python3 (python3) in auto mode\n"
          ]
        }
      ]
    },
    {
      "cell_type": "code",
      "source": [
        "!python --version"
      ],
      "metadata": {
        "id": "Rwz6qmPvOgvk"
      },
      "execution_count": null,
      "outputs": []
    },
    {
      "cell_type": "code",
      "source": [
        "!apt-get install -y build-essential python3-dev python3-pip"
      ],
      "metadata": {
        "id": "1LOB2IecTgzT"
      },
      "execution_count": null,
      "outputs": []
    },
    {
      "cell_type": "markdown",
      "source": [
        "# run"
      ],
      "metadata": {
        "id": "I242bOWdTA1T"
      }
    },
    {
      "cell_type": "code",
      "execution_count": null,
      "metadata": {
        "id": "qcZO59ZU_c2f"
      },
      "outputs": [],
      "source": [
        "# Clone the nvidia TensorRT LLM repository\n",
        "\n",
        "!git clone https://github.com/NVIDIA/TensorRT-LLM.git\n",
        "%cd TensorRT-LLM/examples/llama"
      ]
    },
    {
      "cell_type": "code",
      "source": [
        "!python --version"
      ],
      "metadata": {
        "id": "y0iNRtP7KUuj"
      },
      "execution_count": null,
      "outputs": []
    },
    {
      "cell_type": "code",
      "source": [
        "# Install necessary python dependencies\n",
        "\n",
        "!pip install -q tensorrt_llm --pre --extra-index-url https://pypi.nvidia.com\n",
        "!pip install huggingface_hub pynvml mpi4py\n",
        "!pip install -q -r requirements.txt"
      ],
      "metadata": {
        "id": "ujLw1SWA_011"
      },
      "execution_count": null,
      "outputs": []
    },
    {
      "cell_type": "code",
      "source": [
        "# Download the Mistral 7B Instruct v0.2 weights from hugging face\n",
        "\n",
        "from huggingface_hub import snapshot_download\n",
        "from google.colab import userdata\n",
        "\n",
        "\n",
        "snapshot_download(\n",
        "    \"mistralai/Mistral-7B-Instruct-v0.2\",\n",
        "    local_dir=\"tmp/hf_models/mistral-7b-instruct-v0.2\",\n",
        "    max_workers=4\n",
        ")"
      ],
      "metadata": {
        "id": "MVx8LwS4Aj8k"
      },
      "execution_count": null,
      "outputs": []
    },
    {
      "cell_type": "code",
      "source": [
        "# Convert the raw model weights into tensorrt-llm checkpoint format\n",
        "\n",
        "!python convert_checkpoint.py --model_dir ./tmp/hf_models/mistral-7b-instruct-v0.2 \\\n",
        "                             --output_dir ./tmp/trt_engines/1-gpu/ \\\n",
        "                             --dtype float16"
      ],
      "metadata": {
        "id": "L3SDqim8BdHj"
      },
      "execution_count": null,
      "outputs": []
    },
    {
      "cell_type": "code",
      "source": [
        "# Compile the model\n",
        "\n",
        "!trtllm-build --checkpoint_dir ./tmp/trt_engines/1-gpu/ \\\n",
        "            --output_dir ./tmp/trt_engines/compiled-model/ \\\n",
        "            --gpt_attention_plugin float16 \\\n",
        "            --gemm_plugin float16 \\\n",
        "            --max_input_len 32256\n"
      ],
      "metadata": {
        "id": "7XXzRSI6Eqwg"
      },
      "execution_count": null,
      "outputs": []
    },
    {
      "cell_type": "code",
      "source": [
        "# Upload the compiled model to hugging face hub\n",
        "\n",
        "import os\n",
        "from huggingface_hub import HfApi\n",
        "\n",
        "for root, dirs, files in os.walk(f\"tmp/trt_engines/compiled-model\", topdown=False):\n",
        "    for name in files:\n",
        "        filepath = os.path.join(root, name)\n",
        "        filename = \"/\".join(filepath.split(\"/\")[-2:])\n",
        "        print(\"uploading file: \", filename)\n",
        "        api = HfApi(token=userdata.get('HF_WRITE_TOKEN'))\n",
        "        api.upload_file(\n",
        "            path_or_fileobj=filepath,\n",
        "            path_in_repo=filename,\n",
        "            repo_id=\"htrivedi99/mistral-7b-v0.2-trtllm\"\n",
        "        )"
      ],
      "metadata": {
        "id": "9JPtch4tFU9r"
      },
      "execution_count": null,
      "outputs": []
    },
    {
      "cell_type": "code",
      "source": [
        "%cd ..\n",
        "!pwd"
      ],
      "metadata": {
        "colab": {
          "base_uri": "https://localhost:8080/"
        },
        "id": "bh1dqTGBI655",
        "outputId": "bd0b3272-9b35-409b-8ef2-49f2e7769995"
      },
      "execution_count": null,
      "outputs": [
        {
          "output_type": "stream",
          "name": "stdout",
          "text": [
            "/content/TensorRT-LLM/examples\n",
            "/content/TensorRT-LLM/examples\n"
          ]
        }
      ]
    },
    {
      "cell_type": "code",
      "source": [
        "# Test the compiled model\n",
        "\n",
        "!python3 run.py --max_output_len=256 \\\n",
        "               --tokenizer_dir ./llama/tmp/hf_models/mistral-7b-instruct-v0.2/ \\\n",
        "               --engine_dir=./llama/tmp/trt_engines/compiled-model \\\n",
        "               --max_attention_window_size=4096"
      ],
      "metadata": {
        "id": "GCv8h4UkIgig"
      },
      "execution_count": null,
      "outputs": []
    }
  ]
}