{
  "nbformat": 4,
  "nbformat_minor": 0,
  "metadata": {
    "colab": {
      "provenance": [],
      "machine_shape": "hm",
      "gpuType": "L4",
      "authorship_tag": "ABX9TyPufbEvzRnL8FCKiEH3yVZk",
      "include_colab_link": true
    },
    "kernelspec": {
      "name": "python3",
      "display_name": "Python 3"
    },
    "language_info": {
      "name": "python"
    },
    "accelerator": "GPU"
  },
  "cells": [
    {
      "cell_type": "markdown",
      "metadata": {
        "id": "view-in-github",
        "colab_type": "text"
      },
      "source": [
        "<a href=\"https://colab.research.google.com/github/weedge/doraemon-nb/blob/main/achatbot_daily_month_narration_bot.ipynb\" target=\"_parent\"><img src=\"https://colab.research.google.com/assets/colab-badge.svg\" alt=\"Open In Colab\"/></a>"
      ]
    },
    {
      "cell_type": "code",
      "source": [
        "!nvidia-smi && lscpu"
      ],
      "metadata": {
        "colab": {
          "base_uri": "https://localhost:8080/"
        },
        "id": "Rq6wP3Ti-nVe",
        "outputId": "d6c1c7d7-2eee-44dd-8fab-c84f10747a74"
      },
      "execution_count": 1,
      "outputs": [
        {
          "output_type": "stream",
          "name": "stdout",
          "text": [
            "Thu Oct 31 05:33:23 2024       \n",
            "+---------------------------------------------------------------------------------------+\n",
            "| NVIDIA-SMI 535.104.05             Driver Version: 535.104.05   CUDA Version: 12.2     |\n",
            "|-----------------------------------------+----------------------+----------------------+\n",
            "| GPU  Name                 Persistence-M | Bus-Id        Disp.A | Volatile Uncorr. ECC |\n",
            "| Fan  Temp   Perf          Pwr:Usage/Cap |         Memory-Usage | GPU-Util  Compute M. |\n",
            "|                                         |                      |               MIG M. |\n",
            "|=========================================+======================+======================|\n",
            "|   0  NVIDIA L4                      Off | 00000000:00:03.0 Off |                    0 |\n",
            "| N/A   63C    P8              14W /  72W |      1MiB / 23034MiB |      0%      Default |\n",
            "|                                         |                      |                  N/A |\n",
            "+-----------------------------------------+----------------------+----------------------+\n",
            "                                                                                         \n",
            "+---------------------------------------------------------------------------------------+\n",
            "| Processes:                                                                            |\n",
            "|  GPU   GI   CI        PID   Type   Process name                            GPU Memory |\n",
            "|        ID   ID                                                             Usage      |\n",
            "|=======================================================================================|\n",
            "|  No running processes found                                                           |\n",
            "+---------------------------------------------------------------------------------------+\n",
            "Architecture:             x86_64\n",
            "  CPU op-mode(s):         32-bit, 64-bit\n",
            "  Address sizes:          46 bits physical, 48 bits virtual\n",
            "  Byte Order:             Little Endian\n",
            "CPU(s):                   12\n",
            "  On-line CPU(s) list:    0-11\n",
            "Vendor ID:                GenuineIntel\n",
            "  Model name:             Intel(R) Xeon(R) CPU @ 2.20GHz\n",
            "    CPU family:           6\n",
            "    Model:                85\n",
            "    Thread(s) per core:   2\n",
            "    Core(s) per socket:   6\n",
            "    Socket(s):            1\n",
            "    Stepping:             7\n",
            "    BogoMIPS:             4400.42\n",
            "    Flags:                fpu vme de pse tsc msr pae mce cx8 apic sep mtrr pge mca cmov pat pse36 cl\n",
            "                          flush mmx fxsr sse sse2 ss ht syscall nx pdpe1gb rdtscp lm constant_tsc re\n",
            "                          p_good nopl xtopology nonstop_tsc cpuid tsc_known_freq pni pclmulqdq ssse3\n",
            "                           fma cx16 pcid sse4_1 sse4_2 x2apic movbe popcnt aes xsave avx f16c rdrand\n",
            "                           hypervisor lahf_lm abm 3dnowprefetch invpcid_single ssbd ibrs ibpb stibp \n",
            "                          ibrs_enhanced fsgsbase tsc_adjust bmi1 hle avx2 smep bmi2 erms invpcid rtm\n",
            "                           mpx avx512f avx512dq rdseed adx smap clflushopt clwb avx512cd avx512bw av\n",
            "                          x512vl xsaveopt xsavec xgetbv1 xsaves arat avx512_vnni md_clear arch_capab\n",
            "                          ilities\n",
            "Virtualization features:  \n",
            "  Hypervisor vendor:      KVM\n",
            "  Virtualization type:    full\n",
            "Caches (sum of all):      \n",
            "  L1d:                    192 KiB (6 instances)\n",
            "  L1i:                    192 KiB (6 instances)\n",
            "  L2:                     6 MiB (6 instances)\n",
            "  L3:                     38.5 MiB (1 instance)\n",
            "NUMA:                     \n",
            "  NUMA node(s):           1\n",
            "  NUMA node0 CPU(s):      0-11\n",
            "Vulnerabilities:          \n",
            "  Gather data sampling:   Not affected\n",
            "  Itlb multihit:          Not affected\n",
            "  L1tf:                   Not affected\n",
            "  Mds:                    Not affected\n",
            "  Meltdown:               Not affected\n",
            "  Mmio stale data:        Vulnerable\n",
            "  Reg file data sampling: Not affected\n",
            "  Retbleed:               Vulnerable\n",
            "  Spec rstack overflow:   Not affected\n",
            "  Spec store bypass:      Vulnerable\n",
            "  Spectre v1:             Vulnerable: __user pointer sanitization and usercopy barriers only; no swa\n",
            "                          pgs barriers\n",
            "  Spectre v2:             Vulnerable; IBPB: disabled; STIBP: disabled; PBRSB-eIBRS: Vulnerable; BHI:\n",
            "                           Vulnerable (Syscall hardening enabled)\n",
            "  Srbds:                  Not affected\n",
            "  Tsx async abort:        Vulnerable\n"
          ]
        }
      ]
    },
    {
      "cell_type": "code",
      "execution_count": null,
      "metadata": {
        "id": "8x2vZWM5sw13"
      },
      "outputs": [],
      "source": [
        "!cd /content && rm -rf achatbot && git clone --recursive https://github.com/ai-bot-pro/achatbot.git -b feat/gen-image"
      ]
    },
    {
      "cell_type": "code",
      "source": [
        "%cd /content/achatbot\n"
      ],
      "metadata": {
        "colab": {
          "base_uri": "https://localhost:8080/"
        },
        "id": "GiZ_hTJHnyNO",
        "outputId": "3185c0a7-2469-4478-dac7-704cd9e0bc3e"
      },
      "execution_count": 3,
      "outputs": [
        {
          "output_type": "stream",
          "name": "stdout",
          "text": [
            "/content/achatbot\n"
          ]
        }
      ]
    },
    {
      "cell_type": "code",
      "source": [
        "!bash scripts/pypi_achatbot.sh dev\n"
      ],
      "metadata": {
        "id": "vMd1iWE0n2-d"
      },
      "execution_count": null,
      "outputs": []
    },
    {
      "cell_type": "code",
      "source": [
        "!pip install -q \"dist/achatbot-0.0.7.2-py3-none-any.whl[daily_room_audio_stream,deep_translator,openai,google_ai,together_ai,diffusers,bitsandbytes,tts_edge,queue]\"\n"
      ],
      "metadata": {
        "colab": {
          "base_uri": "https://localhost:8080/"
        },
        "id": "zlYoQrrun5yE",
        "outputId": "29ad11b4-c750-40a1-ae1c-3c8316d91f02"
      },
      "execution_count": 15,
      "outputs": [
        {
          "output_type": "stream",
          "name": "stdout",
          "text": [
            "\u001b[?25l   \u001b[90m━━━━━━━━━━━━━━━━━━━━━━━━━━━━━━━━━━━━━━━━\u001b[0m \u001b[32m0.0/42.3 kB\u001b[0m \u001b[31m?\u001b[0m eta \u001b[36m-:--:--\u001b[0m\r\u001b[2K   \u001b[90m━━━━━━━━━━━━━━━━━━━━━━━━━━━━━━━━━━━━━━━━\u001b[0m \u001b[32m42.3/42.3 kB\u001b[0m \u001b[31m2.5 MB/s\u001b[0m eta \u001b[36m0:00:00\u001b[0m\n",
            "\u001b[?25h"
          ]
        }
      ]
    },
    {
      "cell_type": "code",
      "source": [
        "!pip show torch torchaudio torchvision diffusers bitsandbytes deep_translator"
      ],
      "metadata": {
        "colab": {
          "base_uri": "https://localhost:8080/"
        },
        "id": "WnsWhOWj05qt",
        "outputId": "4fa68de9-8187-40a3-c515-50fd1b76fb68"
      },
      "execution_count": 16,
      "outputs": [
        {
          "output_type": "stream",
          "name": "stdout",
          "text": [
            "Name: torch\n",
            "Version: 2.4.1\n",
            "Summary: Tensors and Dynamic neural networks in Python with strong GPU acceleration\n",
            "Home-page: https://pytorch.org/\n",
            "Author: PyTorch Team\n",
            "Author-email: packages@pytorch.org\n",
            "License: BSD-3\n",
            "Location: /usr/local/lib/python3.10/dist-packages\n",
            "Requires: filelock, fsspec, jinja2, networkx, nvidia-cublas-cu12, nvidia-cuda-cupti-cu12, nvidia-cuda-nvrtc-cu12, nvidia-cuda-runtime-cu12, nvidia-cudnn-cu12, nvidia-cufft-cu12, nvidia-curand-cu12, nvidia-cusolver-cu12, nvidia-cusparse-cu12, nvidia-nccl-cu12, nvidia-nvtx-cu12, sympy, triton, typing-extensions\n",
            "Required-by: accelerate, bitsandbytes, fastai, peft, sentence-transformers, timm, torchaudio, torchvision\n",
            "---\n",
            "Name: torchaudio\n",
            "Version: 2.4.1\n",
            "Summary: An audio package for PyTorch\n",
            "Home-page: https://github.com/pytorch/audio\n",
            "Author: Soumith Chintala, David Pollack, Sean Naren, Peter Goldsborough, Moto Hira, Caroline Chen, Jeff Hwang, Zhaoheng Ni, Xiaohui Zhang\n",
            "Author-email: soumith@pytorch.org\n",
            "License: \n",
            "Location: /usr/local/lib/python3.10/dist-packages\n",
            "Requires: torch\n",
            "Required-by: \n",
            "---\n",
            "Name: torchvision\n",
            "Version: 0.19.1\n",
            "Summary: image and video datasets and models for torch deep learning\n",
            "Home-page: https://github.com/pytorch/vision\n",
            "Author: PyTorch Core Team\n",
            "Author-email: soumith@pytorch.org\n",
            "License: BSD\n",
            "Location: /usr/local/lib/python3.10/dist-packages\n",
            "Requires: numpy, pillow, torch\n",
            "Required-by: fastai, timm\n",
            "---\n",
            "Name: diffusers\n",
            "Version: 0.31.0\n",
            "Summary: State-of-the-art diffusion in PyTorch and JAX.\n",
            "Home-page: https://github.com/huggingface/diffusers\n",
            "Author: The Hugging Face team (past and future) with the help of all our contributors (https://github.com/huggingface/diffusers/graphs/contributors)\n",
            "Author-email: diffusers@huggingface.co\n",
            "License: Apache 2.0 License\n",
            "Location: /usr/local/lib/python3.10/dist-packages\n",
            "Requires: filelock, huggingface-hub, importlib-metadata, numpy, Pillow, regex, requests, safetensors\n",
            "Required-by: \n",
            "---\n",
            "Name: bitsandbytes\n",
            "Version: 0.44.1\n",
            "Summary: k-bit optimizers and matrix multiplication routines.\n",
            "Home-page: https://github.com/TimDettmers/bitsandbytes\n",
            "Author: Tim Dettmers\n",
            "Author-email: dettmers@cs.washington.edu\n",
            "License: MIT\n",
            "Location: /usr/local/lib/python3.10/dist-packages\n",
            "Requires: numpy, torch\n",
            "Required-by: \n",
            "---\n",
            "Name: deep-translator\n",
            "Version: 1.11.4\n",
            "Summary: A flexible free and unlimited python tool to translate between different languages in a simple way using multiple translators\n",
            "Home-page: https://github.com/nidhaloff/deep_translator\n",
            "Author: Nidhal Baccouri\n",
            "Author-email: nidhalbacc@gmail.com\n",
            "License: MIT\n",
            "Location: /usr/local/lib/python3.10/dist-packages\n",
            "Requires: beautifulsoup4, requests\n",
            "Required-by: \n"
          ]
        }
      ]
    },
    {
      "cell_type": "markdown",
      "source": [
        "run bot task woker with bot.json, e.g.: dummy_bot.json\n",
        "\n",
        "- use daily/livekit room stream, u can click bot joined the room url, to start chat with bot with audio and camera stream,\n",
        "  - [daily](https://www.daily.co/) need DAILY_API_KEY\n",
        "- use openai/groq/together.ai api llm model need api key\n",
        "  - [openai](https://openai.com/) OPENAI_API_KEY\n",
        "  - [groq](https://groq.com/) GROQ_API_KEY\n",
        "  - [together.ai](https://www.together.ai/) TOGETHER_API_KEY\n",
        "- use image gen model:\n",
        "  - [openai](https://openai.com/) OPENAI_API_KEY\n",
        "  - [together.ai](https://www.together.ai/) TOGETHER_API_KEY\n",
        "  - [huggingface api](https://huggingface.co/docs/api-inference/tasks/text-to-image) HF_API_KEY\n",
        "  - [HFStableDiffusion](https://huggingface.co/docs/diffusers/using-diffusers/conditional_image_generation) HF_TOKEN/HF_API_KEY\n",
        "\n",
        "\n"
      ],
      "metadata": {
        "id": "DVnxKXITzLnr"
      }
    },
    {
      "cell_type": "code",
      "source": [
        "from google.colab import userdata\n",
        "DAILY_API_KEY=userdata.get('DAILY_API_KEY')\n",
        "TOGETHER_API_KEY=userdata.get('TOGETHER_API_KEY')\n",
        "HF_TOKEN=userdata.get('HF_TOKEN')\n"
      ],
      "metadata": {
        "id": "OuKR4j5_x0jE"
      },
      "execution_count": 7,
      "outputs": []
    },
    {
      "cell_type": "code",
      "source": [
        "!huggingface-cli login --token $HF_TOKEN --add-to-git-credential"
      ],
      "metadata": {
        "id": "dcp1LW2bsHQ9"
      },
      "execution_count": null,
      "outputs": []
    },
    {
      "cell_type": "code",
      "source": [
        "!huggingface-cli download stabilityai/stable-diffusion-3.5-large  --local-dir ./models/stabilityai/stable-diffusion-3.5-large --local-dir-use-symlinks False\n"
      ],
      "metadata": {
        "id": "Ifz9IaK9GEzf"
      },
      "execution_count": null,
      "outputs": []
    },
    {
      "cell_type": "code",
      "source": [
        "!mkdir -p images\n",
        "!IMAGE_GEN_PROCESSOR=HFStableDiffusionImageGenProcessor DEVICE=auto SD_MODEL=./models/stabilityai/stable-diffusion-3.5-large \\\n",
        "    python -m unittest test.integration.processors.test_image_gen_processor.TestProcessor"
      ],
      "metadata": {
        "id": "tYzS5TsKxxpE"
      },
      "execution_count": null,
      "outputs": []
    },
    {
      "cell_type": "code",
      "source": [
        "!cat /content/daily_month_narration_bot.json"
      ],
      "metadata": {
        "colab": {
          "base_uri": "https://localhost:8080/"
        },
        "id": "TN0cN49ZH2uT",
        "outputId": "387fadd7-20c9-4156-8b7a-d6e7caa8cf15"
      },
      "execution_count": 12,
      "outputs": [
        {
          "output_type": "stream",
          "name": "stdout",
          "text": [
            "{\n",
            "  \"chat_bot_name\": \"DailyMonthNarrationBot\",\n",
            "  \"room_name\": \"chat-room\",\n",
            "  \"room_url\": \"\",\n",
            "  \"token\": \"\",\n",
            "  \"room_manager\": {\n",
            "    \"tag\": \"daily_room\",\n",
            "    \"args\": {\n",
            "      \"privacy\": \"public\"\n",
            "    }\n",
            "  },\n",
            "  \"services\": {\n",
            "    \"pipeline\": \"achatbot\",\n",
            "    \"llm\": \"together\",\n",
            "    \"img-gen\": \"together\",\n",
            "    \"tts\": \"edge\"\n",
            "  },\n",
            "  \"config\": {\n",
            "    \"llm\": {\n",
            "      \"tag\": \"openai_llm_processor\",\n",
            "      \"base_url\": \"https://api.together.xyz/v1\",\n",
            "      \"model\": \"Qwen/Qwen2-72B-Instruct\",\n",
            "      \"language\": \"en\",\n",
            "      \"messages\": [{}]\n",
            "    },\n",
            "    \"img_gen\": {\n",
            "      \"tag\": \"TogetherImageGenProcessor\",\n",
            "      \"args\": {\n",
            "        \"gen_rate_s\": 10,\n",
            "        \"model\": \"black-forest-labs/FLUX.1-schnell-Free\"\n",
            "      }\n",
            "    },\n",
            "    \"tts\": {\n",
            "      \"tag\": \"tts_edge\",\n",
            "      \"args\": {\n",
            "        \"voice_name\": \"zh-CN-YunjianNeural\",\n",
            "        \"language\": \"zh\",\n",
            "        \"gender\": \"Male\"\n",
            "      }\n",
            "    }\n",
            "  },\n",
            "  \"config_list\": []\n",
            "}\n"
          ]
        }
      ]
    },
    {
      "cell_type": "code",
      "source": [
        "!DAILY_API_KEY=$DAILY_API_KEY TOGETHER_API_KEY=$TOGETHER_API_KEY \\\n",
        "  python -m src.cmd.bots.main -f /content/daily_month_narration_bot.json"
      ],
      "metadata": {
        "colab": {
          "base_uri": "https://localhost:8080/"
        },
        "id": "ftEP-y-AIFnx",
        "outputId": "db33e656-da74-4004-9e3e-b990f375c14e"
      },
      "execution_count": 17,
      "outputs": [
        {
          "output_type": "stream",
          "name": "stdout",
          "text": [
            "{\n",
            "    \"chat_bot_name\": \"DailyMonthNarrationBot\",\n",
            "    \"config\": {\n",
            "        \"img_gen\": {\n",
            "            \"args\": {\n",
            "                \"gen_rate_s\": 10,\n",
            "                \"model\": \"black-forest-labs/FLUX.1-schnell-Free\"\n",
            "            },\n",
            "            \"tag\": \"TogetherImageGenProcessor\"\n",
            "        },\n",
            "        \"llm\": {\n",
            "            \"base_url\": \"https://api.together.xyz/v1\",\n",
            "            \"language\": \"en\",\n",
            "            \"messages\": [\n",
            "                {}\n",
            "            ],\n",
            "            \"model\": \"Qwen/Qwen2-72B-Instruct\",\n",
            "            \"tag\": \"openai_llm_processor\"\n",
            "        },\n",
            "        \"tts\": {\n",
            "            \"args\": {\n",
            "                \"gender\": \"Male\",\n",
            "                \"language\": \"zh\",\n",
            "                \"voice_name\": \"zh-CN-YunjianNeural\"\n",
            "            },\n",
            "            \"tag\": \"tts_edge\"\n",
            "        }\n",
            "    },\n",
            "    \"config_list\": [],\n",
            "    \"room_manager\": {\n",
            "        \"args\": {\n",
            "            \"privacy\": \"public\"\n",
            "        },\n",
            "        \"tag\": \"daily_room\"\n",
            "    },\n",
            "    \"room_name\": \"chat-room\",\n",
            "    \"room_url\": \"\",\n",
            "    \"services\": {\n",
            "        \"img-gen\": \"together\",\n",
            "        \"llm\": \"together\",\n",
            "        \"pipeline\": \"achatbot\",\n",
            "        \"tts\": \"edge\"\n",
            "    },\n",
            "    \"token\": \"\"\n",
            "}\n",
            "2024-10-31 05:55:30,390 - chat-bot - INFO - /content/achatbot/src/cmd/bots/main.py:42 - <module> - bot_config:{'chat_bot_name': 'DailyMonthNarrationBot', 'room_name': 'chat-room', 'room_url': '', 'token': '', 'room_manager': {'tag': 'daily_room', 'args': {'privacy': 'public'}}, 'services': {'pipeline': 'achatbot', 'llm': 'together', 'img-gen': 'together', 'tts': 'edge'}, 'config': {'llm': {'tag': 'openai_llm_processor', 'base_url': 'https://api.together.xyz/v1', 'model': 'Qwen/Qwen2-72B-Instruct', 'language': 'en', 'messages': [{}]}, 'img_gen': {'tag': 'TogetherImageGenProcessor', 'args': {'gen_rate_s': 10, 'model': 'black-forest-labs/FLUX.1-schnell-Free'}}, 'tts': {'tag': 'tts_edge', 'args': {'voice_name': 'zh-CN-YunjianNeural', 'language': 'zh', 'gender': 'Male'}}}, 'config_list': []}\n",
            "2024-10-31 05:55:30,390 - chat-bot - INFO - /content/achatbot/src/cmd/bots/run.py:93 - __init__ - run_bot_info: is_agent=False chat_bot_name='DailyMonthNarrationBot' config={'llm': {'tag': 'openai_llm_processor', 'base_url': 'https://api.together.xyz/v1', 'model': 'Qwen/Qwen2-72B-Instruct', 'language': 'en', 'messages': [{}]}, 'img_gen': {'tag': 'TogetherImageGenProcessor', 'args': {'gen_rate_s': 10, 'model': 'black-forest-labs/FLUX.1-schnell-Free'}}, 'tts': {'tag': 'tts_edge', 'args': {'voice_name': 'zh-CN-YunjianNeural', 'language': 'zh', 'gender': 'Male'}}} room_name='chat-room' room_url='' token='' config_list=[] services={'pipeline': 'achatbot', 'llm': 'together', 'img-gen': 'together', 'tts': 'edge'} task_connector=None room_manager=EngineClassInfo(tag='daily_room', args={'privacy': 'public'})\n",
            "2024-10-31 05:55:30,518 - chat-bot - INFO - /content/achatbot/src/common/factory.py:68 - get_engine_by_tag - use daily_room engine\n",
            "2024-10-31 05:55:30,518 - chat-bot - INFO - /content/achatbot/src/common/factory.py:33 - get_instance - class: <class 'src.services.help.daily_room.DailyRoom'> args: {'privacy': 'public'}\n",
            "2024-10-31 05:55:30,518 - chat-bot - INFO - /content/achatbot/src/services/help/__init__.py:33 - initEngine - initEngine: daily_room, TAG:daily_room | DailyRoom\n",
            "2024-10-31 05:55:32,033 - chat-bot - INFO - /content/achatbot/src/services/help/daily_room.py:40 - create_room - Failed to get room chat-room from Daily REST API: Room not found: chat-room, to new a room: chat-room\n",
            "2024-10-31 05:55:32,361 - chat-bot - INFO - /content/achatbot/src/cmd/bots/base.py:63 - init_bot_config - ai bot_config: vad=None asr=None llm=LLMConfig(base_url='https://api.together.xyz/v1', model='Qwen/Qwen2-72B-Instruct', language='en', messages=[{}], tools=None, tag='openai_llm_processor', args=None) vision_llm=None vision_detector=None vision_ocr=None tts=TTSConfig(voice=None, language=None, tag='tts_edge', args={'voice_name': 'zh-CN-YunjianNeural', 'language': 'zh', 'gender': 'Male'}) img_gen=ImageGenConfig(tag='TogetherImageGenProcessor', args={'gen_rate_s': 10, 'model': 'black-forest-labs/FLUX.1-schnell-Free'}) extends=None\n",
            "2024-10-31 05:55:32,388 - chat-bot - INFO - /content/achatbot/src/common/factory.py:68 - get_engine_by_tag - use tts_edge engine\n",
            "2024-10-31 05:55:32,388 - chat-bot - INFO - /content/achatbot/src/common/factory.py:33 - get_instance - class: <class 'src.modules.speech.tts.edge_tts.EdgeTTS'> args: {'language': 'zh', 'gender': 'Male', 'voice_name': 'zh-CN-YunjianNeural', 'rate': '+15%', 'volume': '+0%', 'pitch': '+0Hz'}\n",
            "2024-10-31 05:55:32,389 - chat-bot - INFO - /content/achatbot/src/transports/daily.py:56 - __init__ - DailyTransport register event names: dict_keys(['on_joined', 'on_left', 'on_app_message', 'on_call_state_updated', 'on_dialin_ready', 'on_dialout_answered', 'on_dialout_connected', 'on_dialout_stopped', 'on_dialout_error', 'on_dialout_warning', 'on_first_participant_joined', 'on_participant_joined', 'on_participant_left', 'on_participant_updated'])\n",
            "2024-10-31 05:55:33,554 - chat-bot - INFO - /content/achatbot/src/services/daily_client.py:170 - join - Joining https://weedge.daily.co/chat-room\n",
            "2024-10-31 05:55:33,766 - chat-bot - INFO - /content/achatbot/src/cmd/bots/base_daily.py:34 - on_call_state_updated - Call state joining \n",
            "2024-10-31 05:55:34,052 - chat-bot - INFO - /content/achatbot/src/cmd/bots/base_daily.py:34 - on_call_state_updated - Call state joined \n",
            "2024-10-31 05:55:34,533 - chat-bot - INFO - /content/achatbot/src/services/daily_client.py:192 - join - Joined https://weedge.daily.co/chat-room\n",
            "2024-10-31 05:55:34,533 - chat-bot - INFO - /content/achatbot/src/processors/llm/openai_llm_processor.py:106 - _stream_chat_completions - Generating chat context messages: [{\"role\": \"system\", \"content\": \"Describe a nature photograph suitable for use in a calendar, for the month of January. Include only the image description with no preamble. Limit the description to one sentence, please.\", \"name\": \"system\"}]\n",
            "2024-10-31 05:55:35,099 - httpx - INFO - /usr/local/lib/python3.10/dist-packages/httpx/_client.py:1786 - _send_single_request - HTTP Request: POST https://api.together.xyz/v1/chat/completions \"HTTP/1.1 200 OK\"\n",
            "2024-10-31 05:55:36,890 - chat-bot - INFO - /content/achatbot/src/processors/speech/tts/tts_processor.py:54 - run_tts - Generating TTS: [一月：白雪覆盖的景观覆盖着森林，被柔和的冬日朝阳照亮，冰冻的湖面倒映着苍白的天空，前景中有一棵雄伟的常青树高高耸立。]\n",
            "2024-10-31 05:55:39,388 - chat-bot - INFO - /usr/local/lib/python3.10/dist-packages/apipeline/processors/logger.py:34 - process_frame - SyncParallelPipeline#0 ---> FrameLogger#0 Frame: AudioRawFrame#0(size: 481572, frames: 240786, sample_rate: 22050,sample_width: 2, channels: 1)\n",
            "2024-10-31 05:55:39,388 - chat-bot - INFO - /usr/local/lib/python3.10/dist-packages/apipeline/processors/logger.py:34 - process_frame - SyncParallelPipeline#0 ---> FrameLogger#0 Frame: AudioRawFrame#1(size: 13230, frames: 6615, sample_rate: 22050,sample_width: 2, channels: 1)\n",
            "2024-10-31 05:55:39,388 - chat-bot - INFO - /usr/local/lib/python3.10/dist-packages/apipeline/processors/logger.py:34 - process_frame - SyncParallelPipeline#0 ---> FrameLogger#0 Frame: ImageRawFrame#0(size: (1280, 720), format: JPEG, mode: RGB)\n",
            "2024-10-31 05:55:39,392 - chat-bot - INFO - /content/achatbot/src/processors/llm/openai_llm_processor.py:106 - _stream_chat_completions - Generating chat context messages: [{\"role\": \"system\", \"content\": \"Describe a nature photograph suitable for use in a calendar, for the month of February. Include only the image description with no preamble. Limit the description to one sentence, please.\", \"name\": \"system\"}]\n",
            "2024-10-31 05:55:39,738 - httpx - INFO - /usr/local/lib/python3.10/dist-packages/httpx/_client.py:1786 - _send_single_request - HTTP Request: POST https://api.together.xyz/v1/chat/completions \"HTTP/1.1 200 OK\"\n",
            "2024-10-31 05:55:41,381 - chat-bot - INFO - /content/achatbot/src/processors/speech/tts/tts_processor.py:54 - run_tts - Generating TTS: [二月：一片白雪皑皑的景观被柔和的粉红色日出照亮，一棵孤独的常青树在冬日的背景中屹立不倒。]\n",
            "2024-10-31 05:55:42,807 - chat-bot - INFO - /usr/local/lib/python3.10/dist-packages/apipeline/processors/logger.py:34 - process_frame - SyncParallelPipeline#0 ---> FrameLogger#0 Frame: AudioRawFrame#2(size: 361972, frames: 180986, sample_rate: 22050,sample_width: 2, channels: 1)\n",
            "2024-10-31 05:55:42,807 - chat-bot - INFO - /usr/local/lib/python3.10/dist-packages/apipeline/processors/logger.py:34 - process_frame - SyncParallelPipeline#0 ---> FrameLogger#0 Frame: AudioRawFrame#3(size: 13230, frames: 6615, sample_rate: 22050,sample_width: 2, channels: 1)\n",
            "2024-10-31 05:55:51,031 - chat-bot - INFO - /usr/local/lib/python3.10/dist-packages/apipeline/processors/logger.py:34 - process_frame - SyncParallelPipeline#0 ---> FrameLogger#0 Frame: ImageRawFrame#1(size: (1280, 720), format: JPEG, mode: RGB)\n",
            "2024-10-31 05:55:51,033 - chat-bot - INFO - /content/achatbot/src/processors/llm/openai_llm_processor.py:106 - _stream_chat_completions - Generating chat context messages: [{\"role\": \"system\", \"content\": \"Describe a nature photograph suitable for use in a calendar, for the month of March. Include only the image description with no preamble. Limit the description to one sentence, please.\", \"name\": \"system\"}]\n",
            "2024-10-31 05:55:51,262 - httpx - INFO - /usr/local/lib/python3.10/dist-packages/httpx/_client.py:1786 - _send_single_request - HTTP Request: POST https://api.together.xyz/v1/chat/completions \"HTTP/1.1 200 OK\"\n",
            "2024-10-31 05:55:52,208 - chat-bot - INFO - /content/achatbot/src/services/daily_client.py:382 - on_participant_joined - Participant joined 1970a772-f7be-45ad-9aaf-119c10e0d498\n",
            "2024-10-31 05:55:53,481 - chat-bot - INFO - /content/achatbot/src/processors/speech/tts/tts_processor.py:54 - run_tts - Generating TTS: [三月：这是一张充满活力的早春郁郁葱葱的森林照片，娇嫩的樱花在高大坚固的树木间绽放，一条清澈的小溪在灌木丛中缓缓流淌，反射着明媚的三月天柔和而散射的阳光。]\n",
            "2024-10-31 05:55:53,536 - chat-bot - INFO - /content/achatbot/src/cmd/bots/base_daily.py:17 - on_first_participant_joined - First participant 1970a772-f7be-45ad-9aaf-119c10e0d498 joined\n",
            "2024-10-31 05:55:55,068 - chat-bot - INFO - /usr/local/lib/python3.10/dist-packages/apipeline/processors/logger.py:34 - process_frame - SyncParallelPipeline#0 ---> FrameLogger#0 Frame: AudioRawFrame#4(size: 617046, frames: 308523, sample_rate: 22050,sample_width: 2, channels: 1)\n",
            "2024-10-31 05:55:55,068 - chat-bot - INFO - /usr/local/lib/python3.10/dist-packages/apipeline/processors/logger.py:34 - process_frame - SyncParallelPipeline#0 ---> FrameLogger#0 Frame: AudioRawFrame#5(size: 13230, frames: 6615, sample_rate: 22050,sample_width: 2, channels: 1)\n",
            "2024-10-31 05:56:03,685 - chat-bot - INFO - /usr/local/lib/python3.10/dist-packages/apipeline/processors/logger.py:34 - process_frame - SyncParallelPipeline#0 ---> FrameLogger#0 Frame: ImageRawFrame#2(size: (1280, 720), format: JPEG, mode: RGB)\n",
            "2024-10-31 05:56:03,689 - chat-bot - INFO - /content/achatbot/src/processors/llm/openai_llm_processor.py:106 - _stream_chat_completions - Generating chat context messages: [{\"role\": \"system\", \"content\": \"Describe a nature photograph suitable for use in a calendar, for the month of April. Include only the image description with no preamble. Limit the description to one sentence, please.\", \"name\": \"system\"}]\n",
            "2024-10-31 05:56:03,898 - httpx - INFO - /usr/local/lib/python3.10/dist-packages/httpx/_client.py:1786 - _send_single_request - HTTP Request: POST https://api.together.xyz/v1/chat/completions \"HTTP/1.1 200 OK\"\n",
            "2024-10-31 05:56:04,871 - chat-bot - INFO - /content/achatbot/src/processors/speech/tts/tts_processor.py:54 - run_tts - Generating TTS: [四月：一张充满活力的照片，照片中是一片郁郁葱葱、鲜花盛开的青翠森林，树下铺满了娇嫩的蓝铃花和水仙花，被初春柔和的金色阳光照耀着。]\n",
            "2024-10-31 05:56:06,448 - chat-bot - INFO - /usr/local/lib/python3.10/dist-packages/apipeline/processors/logger.py:34 - process_frame - SyncParallelPipeline#0 ---> FrameLogger#0 Frame: AudioRawFrame#6(size: 516498, frames: 258249, sample_rate: 22050,sample_width: 2, channels: 1)\n",
            "2024-10-31 05:56:06,448 - chat-bot - INFO - /usr/local/lib/python3.10/dist-packages/apipeline/processors/logger.py:34 - process_frame - SyncParallelPipeline#0 ---> FrameLogger#0 Frame: AudioRawFrame#7(size: 13230, frames: 6615, sample_rate: 22050,sample_width: 2, channels: 1)\n",
            "2024-10-31 05:56:15,959 - chat-bot - INFO - /usr/local/lib/python3.10/dist-packages/apipeline/processors/logger.py:34 - process_frame - SyncParallelPipeline#0 ---> FrameLogger#0 Frame: ImageRawFrame#3(size: (1280, 720), format: JPEG, mode: RGB)\n",
            "2024-10-31 05:56:15,961 - chat-bot - INFO - /content/achatbot/src/processors/llm/openai_llm_processor.py:106 - _stream_chat_completions - Generating chat context messages: [{\"role\": \"system\", \"content\": \"Describe a nature photograph suitable for use in a calendar, for the month of May. Include only the image description with no preamble. Limit the description to one sentence, please.\", \"name\": \"system\"}]\n",
            "2024-10-31 05:56:16,218 - httpx - INFO - /usr/local/lib/python3.10/dist-packages/httpx/_client.py:1786 - _send_single_request - HTTP Request: POST https://api.together.xyz/v1/chat/completions \"HTTP/1.1 200 OK\"\n",
            "2024-10-31 05:56:17,779 - chat-bot - INFO - /content/achatbot/src/processors/speech/tts/tts_processor.py:54 - run_tts - Generating TTS: [五月：一片生机勃勃的绿色草地，覆盖着淡黄色的蒲公英和毛茛花，一直延伸到地平线，太阳轻轻地亲吻着天空，将天空染成橙色和粉红色。]\n",
            "2024-10-31 05:56:19,336 - chat-bot - INFO - /usr/local/lib/python3.10/dist-packages/apipeline/processors/logger.py:34 - process_frame - SyncParallelPipeline#0 ---> FrameLogger#0 Frame: AudioRawFrame#8(size: 505914, frames: 252957, sample_rate: 22050,sample_width: 2, channels: 1)\n",
            "2024-10-31 05:56:19,336 - chat-bot - INFO - /usr/local/lib/python3.10/dist-packages/apipeline/processors/logger.py:34 - process_frame - SyncParallelPipeline#0 ---> FrameLogger#0 Frame: AudioRawFrame#9(size: 13230, frames: 6615, sample_rate: 22050,sample_width: 2, channels: 1)\n",
            "2024-10-31 05:56:27,943 - chat-bot - INFO - /usr/local/lib/python3.10/dist-packages/apipeline/processors/logger.py:34 - process_frame - SyncParallelPipeline#0 ---> FrameLogger#0 Frame: ImageRawFrame#4(size: (1280, 720), format: JPEG, mode: RGB)\n",
            "2024-10-31 05:56:27,947 - chat-bot - INFO - /content/achatbot/src/processors/llm/openai_llm_processor.py:106 - _stream_chat_completions - Generating chat context messages: [{\"role\": \"system\", \"content\": \"Describe a nature photograph suitable for use in a calendar, for the month of June. Include only the image description with no preamble. Limit the description to one sentence, please.\", \"name\": \"system\"}]\n",
            "2024-10-31 05:56:28,183 - httpx - INFO - /usr/local/lib/python3.10/dist-packages/httpx/_client.py:1786 - _send_single_request - HTTP Request: POST https://api.together.xyz/v1/chat/completions \"HTTP/1.1 200 OK\"\n",
            "2024-10-31 05:56:30,188 - chat-bot - INFO - /content/achatbot/src/processors/speech/tts/tts_processor.py:54 - run_tts - Generating TTS: [六月：一片生机勃勃、郁郁葱葱的绿色草地，盛开的野花点缀其间，在湛蓝的天空下延伸至地平线，温暖的金色阳光洒下长长的光芒，象征着夏天的开始。]\n",
            "2024-10-31 05:56:31,762 - chat-bot - INFO - /usr/local/lib/python3.10/dist-packages/apipeline/processors/logger.py:34 - process_frame - SyncParallelPipeline#0 ---> FrameLogger#0 Frame: AudioRawFrame#10(size: 553542, frames: 276771, sample_rate: 22050,sample_width: 2, channels: 1)\n",
            "2024-10-31 05:56:31,762 - chat-bot - INFO - /usr/local/lib/python3.10/dist-packages/apipeline/processors/logger.py:34 - process_frame - SyncParallelPipeline#0 ---> FrameLogger#0 Frame: AudioRawFrame#11(size: 13230, frames: 6615, sample_rate: 22050,sample_width: 2, channels: 1)\n",
            "2024-10-31 05:56:39,096 - chat-bot - INFO - /usr/local/lib/python3.10/dist-packages/apipeline/processors/logger.py:34 - process_frame - SyncParallelPipeline#0 ---> FrameLogger#0 Frame: ImageRawFrame#5(size: (1280, 720), format: JPEG, mode: RGB)\n",
            "2024-10-31 05:56:39,099 - chat-bot - INFO - /content/achatbot/src/processors/llm/openai_llm_processor.py:106 - _stream_chat_completions - Generating chat context messages: [{\"role\": \"system\", \"content\": \"Describe a nature photograph suitable for use in a calendar, for the month of July. Include only the image description with no preamble. Limit the description to one sentence, please.\", \"name\": \"system\"}]\n",
            "2024-10-31 05:56:39,451 - httpx - INFO - /usr/local/lib/python3.10/dist-packages/httpx/_client.py:1786 - _send_single_request - HTTP Request: POST https://api.together.xyz/v1/chat/completions \"HTTP/1.1 200 OK\"\n",
            "2024-10-31 05:56:41,352 - chat-bot - INFO - /content/achatbot/src/processors/speech/tts/tts_processor.py:54 - run_tts - Generating TTS: [七月：一片生机勃勃、郁郁葱葱的绿色草地，盛开的野花点缀其间，蜜蜂和蝴蝶嗡嗡作响，在湛蓝的天空下绵延不绝，温暖的阳光为这片土地投下金色的光芒，完美地体现了七月的本质。]\n",
            "2024-10-31 05:56:42,963 - chat-bot - INFO - /usr/local/lib/python3.10/dist-packages/apipeline/processors/logger.py:34 - process_frame - SyncParallelPipeline#0 ---> FrameLogger#0 Frame: AudioRawFrame#12(size: 645624, frames: 322812, sample_rate: 22050,sample_width: 2, channels: 1)\n",
            "2024-10-31 05:56:42,963 - chat-bot - INFO - /usr/local/lib/python3.10/dist-packages/apipeline/processors/logger.py:34 - process_frame - SyncParallelPipeline#0 ---> FrameLogger#0 Frame: AudioRawFrame#13(size: 13230, frames: 6615, sample_rate: 22050,sample_width: 2, channels: 1)\n",
            "2024-10-31 05:56:51,342 - chat-bot - INFO - /usr/local/lib/python3.10/dist-packages/apipeline/processors/logger.py:34 - process_frame - SyncParallelPipeline#0 ---> FrameLogger#0 Frame: ImageRawFrame#6(size: (1280, 720), format: JPEG, mode: RGB)\n",
            "2024-10-31 05:56:51,345 - chat-bot - INFO - /content/achatbot/src/processors/llm/openai_llm_processor.py:106 - _stream_chat_completions - Generating chat context messages: [{\"role\": \"system\", \"content\": \"Describe a nature photograph suitable for use in a calendar, for the month of August. Include only the image description with no preamble. Limit the description to one sentence, please.\", \"name\": \"system\"}]\n",
            "2024-10-31 05:56:51,558 - httpx - INFO - /usr/local/lib/python3.10/dist-packages/httpx/_client.py:1786 - _send_single_request - HTTP Request: POST https://api.together.xyz/v1/chat/completions \"HTTP/1.1 200 OK\"\n",
            "2024-10-31 05:56:53,203 - chat-bot - INFO - /content/achatbot/src/processors/speech/tts/tts_processor.py:54 - run_tts - Generating TTS: [八月：一片生机勃勃、郁郁葱葱的绿色森林，八月的金色阳光透过树叶照射下来，照亮了整个森林，在青苔覆盖的地面上投下了斑驳的阴影。]\n",
            "2024-10-31 05:56:54,420 - chat-bot - INFO - /usr/local/lib/python3.10/dist-packages/apipeline/processors/logger.py:34 - process_frame - SyncParallelPipeline#0 ---> FrameLogger#0 Frame: AudioRawFrame#14(size: 486864, frames: 243432, sample_rate: 22050,sample_width: 2, channels: 1)\n",
            "2024-10-31 05:56:54,420 - chat-bot - INFO - /usr/local/lib/python3.10/dist-packages/apipeline/processors/logger.py:34 - process_frame - SyncParallelPipeline#0 ---> FrameLogger#0 Frame: AudioRawFrame#15(size: 13230, frames: 6615, sample_rate: 22050,sample_width: 2, channels: 1)\n",
            "2024-10-31 05:57:04,272 - chat-bot - INFO - /usr/local/lib/python3.10/dist-packages/apipeline/processors/logger.py:34 - process_frame - SyncParallelPipeline#0 ---> FrameLogger#0 Frame: ImageRawFrame#7(size: (1280, 720), format: JPEG, mode: RGB)\n",
            "2024-10-31 05:57:04,275 - chat-bot - INFO - /content/achatbot/src/processors/llm/openai_llm_processor.py:106 - _stream_chat_completions - Generating chat context messages: [{\"role\": \"system\", \"content\": \"Describe a nature photograph suitable for use in a calendar, for the month of September. Include only the image description with no preamble. Limit the description to one sentence, please.\", \"name\": \"system\"}]\n",
            "2024-10-31 05:57:04,632 - httpx - INFO - /usr/local/lib/python3.10/dist-packages/httpx/_client.py:1786 - _send_single_request - HTTP Request: POST https://api.together.xyz/v1/chat/completions \"HTTP/1.1 200 OK\"\n",
            "2024-10-31 05:57:06,418 - chat-bot - INFO - /content/achatbot/src/processors/speech/tts/tts_processor.py:54 - run_tts - Generating TTS: [九月：一张充满活力的照片，宁静的湖泊倒映着秋叶的温暖色调，湛蓝的天空和第一场雪落在远处的山峰上，体现了九月的本质。]\n",
            "2024-10-31 05:57:07,844 - chat-bot - INFO - /usr/local/lib/python3.10/dist-packages/apipeline/processors/logger.py:34 - process_frame - SyncParallelPipeline#0 ---> FrameLogger#0 Frame: AudioRawFrame#16(size: 469928, frames: 234964, sample_rate: 22050,sample_width: 2, channels: 1)\n",
            "2024-10-31 05:57:07,844 - chat-bot - INFO - /usr/local/lib/python3.10/dist-packages/apipeline/processors/logger.py:34 - process_frame - SyncParallelPipeline#0 ---> FrameLogger#0 Frame: AudioRawFrame#17(size: 13230, frames: 6615, sample_rate: 22050,sample_width: 2, channels: 1)\n",
            "2024-10-31 05:57:16,074 - chat-bot - INFO - /usr/local/lib/python3.10/dist-packages/apipeline/processors/logger.py:34 - process_frame - SyncParallelPipeline#0 ---> FrameLogger#0 Frame: ImageRawFrame#8(size: (1280, 720), format: JPEG, mode: RGB)\n",
            "2024-10-31 05:57:16,076 - chat-bot - INFO - /content/achatbot/src/processors/llm/openai_llm_processor.py:106 - _stream_chat_completions - Generating chat context messages: [{\"role\": \"system\", \"content\": \"Describe a nature photograph suitable for use in a calendar, for the month of October. Include only the image description with no preamble. Limit the description to one sentence, please.\", \"name\": \"system\"}]\n",
            "2024-10-31 05:57:16,550 - httpx - INFO - /usr/local/lib/python3.10/dist-packages/httpx/_client.py:1786 - _send_single_request - HTTP Request: POST https://api.together.xyz/v1/chat/completions \"HTTP/1.1 200 OK\"\n",
            "2024-10-31 05:57:18,517 - chat-bot - INFO - /content/achatbot/src/processors/speech/tts/tts_processor.py:54 - run_tts - Generating TTS: [十月：绚烂的金色落日照亮了雾气弥漫的琥珀色森林，古老橡树的叶子呈现出火红和橙色的光芒，创造出令人惊叹的秋日壮丽景色。]\n",
            "2024-10-31 05:57:20,113 - chat-bot - INFO - /usr/local/lib/python3.10/dist-packages/apipeline/processors/logger.py:34 - process_frame - SyncParallelPipeline#0 ---> FrameLogger#0 Frame: AudioRawFrame#18(size: 490038, frames: 245019, sample_rate: 22050,sample_width: 2, channels: 1)\n",
            "2024-10-31 05:57:20,113 - chat-bot - INFO - /usr/local/lib/python3.10/dist-packages/apipeline/processors/logger.py:34 - process_frame - SyncParallelPipeline#0 ---> FrameLogger#0 Frame: AudioRawFrame#19(size: 13230, frames: 6615, sample_rate: 22050,sample_width: 2, channels: 1)\n",
            "2024-10-31 05:57:28,456 - chat-bot - INFO - /usr/local/lib/python3.10/dist-packages/apipeline/processors/logger.py:34 - process_frame - SyncParallelPipeline#0 ---> FrameLogger#0 Frame: ImageRawFrame#9(size: (1280, 720), format: JPEG, mode: RGB)\n",
            "2024-10-31 05:57:28,460 - chat-bot - INFO - /content/achatbot/src/processors/llm/openai_llm_processor.py:106 - _stream_chat_completions - Generating chat context messages: [{\"role\": \"system\", \"content\": \"Describe a nature photograph suitable for use in a calendar, for the month of November. Include only the image description with no preamble. Limit the description to one sentence, please.\", \"name\": \"system\"}]\n",
            "2024-10-31 05:57:28,674 - httpx - INFO - /usr/local/lib/python3.10/dist-packages/httpx/_client.py:1786 - _send_single_request - HTTP Request: POST https://api.together.xyz/v1/chat/completions \"HTTP/1.1 200 OK\"\n",
            "2024-10-31 05:57:30,911 - chat-bot - INFO - /content/achatbot/src/processors/speech/tts/tts_processor.py:54 - run_tts - Generating TTS: [十一月：十一月的一个早晨，森林里雾气弥漫，一片生机勃勃，金色的落叶铺满大地，高大的树木呈现出琥珀色和赤褐色，常青树在背景中若隐若现，捕捉着秋天宁静的精髓。]\n",
            "2024-10-31 05:57:32,449 - chat-bot - INFO - /usr/local/lib/python3.10/dist-packages/apipeline/processors/logger.py:34 - process_frame - SyncParallelPipeline#0 ---> FrameLogger#0 Frame: AudioRawFrame#20(size: 617046, frames: 308523, sample_rate: 22050,sample_width: 2, channels: 1)\n",
            "2024-10-31 05:57:32,449 - chat-bot - INFO - /usr/local/lib/python3.10/dist-packages/apipeline/processors/logger.py:34 - process_frame - SyncParallelPipeline#0 ---> FrameLogger#0 Frame: AudioRawFrame#21(size: 13230, frames: 6615, sample_rate: 22050,sample_width: 2, channels: 1)\n",
            "2024-10-31 05:57:40,855 - chat-bot - INFO - /usr/local/lib/python3.10/dist-packages/apipeline/processors/logger.py:34 - process_frame - SyncParallelPipeline#0 ---> FrameLogger#0 Frame: ImageRawFrame#10(size: (1280, 720), format: JPEG, mode: RGB)\n",
            "2024-10-31 05:57:40,858 - chat-bot - INFO - /content/achatbot/src/processors/llm/openai_llm_processor.py:106 - _stream_chat_completions - Generating chat context messages: [{\"role\": \"system\", \"content\": \"Describe a nature photograph suitable for use in a calendar, for the month of December. Include only the image description with no preamble. Limit the description to one sentence, please.\", \"name\": \"system\"}]\n",
            "2024-10-31 05:57:41,340 - httpx - INFO - /usr/local/lib/python3.10/dist-packages/httpx/_client.py:1786 - _send_single_request - HTTP Request: POST https://api.together.xyz/v1/chat/completions \"HTTP/1.1 200 OK\"\n",
            "2024-10-31 05:57:43,276 - chat-bot - INFO - /content/achatbot/src/processors/speech/tts/tts_processor.py:54 - run_tts - Generating TTS: [十二月：一层新雪覆盖着森林地面，在透过光秃秃的树枝透射出的柔和冬日阳光下闪闪发光，一只雄鹿站在前景中，在清冷的空气中清晰可见它的呼吸。]\n",
            "2024-10-31 05:57:44,802 - chat-bot - INFO - /usr/local/lib/python3.10/dist-packages/apipeline/processors/logger.py:34 - process_frame - SyncParallelPipeline#0 ---> FrameLogger#0 Frame: AudioRawFrame#22(size: 570476, frames: 285238, sample_rate: 22050,sample_width: 2, channels: 1)\n",
            "2024-10-31 05:57:44,803 - chat-bot - INFO - /usr/local/lib/python3.10/dist-packages/apipeline/processors/logger.py:34 - process_frame - SyncParallelPipeline#0 ---> FrameLogger#0 Frame: AudioRawFrame#23(size: 13230, frames: 6615, sample_rate: 22050,sample_width: 2, channels: 1)\n",
            "2024-10-31 05:57:52,181 - chat-bot - INFO - /usr/local/lib/python3.10/dist-packages/apipeline/processors/logger.py:34 - process_frame - SyncParallelPipeline#0 ---> FrameLogger#0 Frame: ImageRawFrame#11(size: (1280, 720), format: JPEG, mode: RGB)\n",
            "Exception ignored in sys.unraisablehook: <built-in function unraisablehook>\n",
            "KeyboardInterrupt\n",
            "2024-10-31 06:00:42,297 - chat-bot - WARNING - /usr/local/lib/python3.10/dist-packages/apipeline/pipeline/runner.py:53 - _sig_handler - Interruption detected. Canceling runner PipelineRunner#0\n",
            "2024-10-31 06:00:42,298 - chat-bot - WARNING - /usr/local/lib/python3.10/dist-packages/apipeline/pipeline/runner.py:53 - _sig_handler - Interruption detected. Canceling runner PipelineRunner#0\n",
            "2024-10-31 06:00:42,298 - chat-bot - INFO - /content/achatbot/src/services/daily_client.py:266 - leave - Leaving https://weedge.daily.co/chat-room\n",
            "2024-10-31 06:00:42,300 - chat-bot - INFO - /content/achatbot/src/cmd/bots/base_daily.py:34 - on_call_state_updated - Call state leaving \n",
            "2024-10-31 06:00:42,341 - chat-bot - INFO - /content/achatbot/src/cmd/bots/base_daily.py:34 - on_call_state_updated - Call state left \n",
            "2024-10-31 06:00:42,341 - chat-bot - INFO - /content/achatbot/src/services/daily_client.py:275 - leave - Left https://weedge.daily.co/chat-room\n",
            "2024-10-31 06:00:42,342 - chat-bot - INFO - /content/achatbot/src/cmd/bots/base.py:75 - try_run - CancelledError, Exiting!\n",
            "2024-10-31 06:00:42,360 - chat-bot - INFO - /content/achatbot/src/cmd/bots/run.py:77 - cleanup - pid:6705 tag:chat-room proc: <Process name='DailyMonthNarrationBot' parent=6673 closed> close\n"
          ]
        }
      ]
    },
    {
      "cell_type": "code",
      "source": [
        "!cat /content/daily_sd_month_narration_bot.json"
      ],
      "metadata": {
        "colab": {
          "base_uri": "https://localhost:8080/"
        },
        "id": "DYj0eGOPIwWs",
        "outputId": "4ecea590-c434-4fc3-a29f-d4d3eee21082"
      },
      "execution_count": 18,
      "outputs": [
        {
          "output_type": "stream",
          "name": "stdout",
          "text": [
            "{\n",
            "  \"chat_bot_name\": \"DailyMonthNarrationBot\",\n",
            "  \"room_name\": \"chat-room\",\n",
            "  \"room_url\": \"\",\n",
            "  \"token\": \"\",\n",
            "  \"room_manager\": {\n",
            "    \"tag\": \"daily_room\",\n",
            "    \"args\": {\n",
            "      \"privacy\": \"public\"\n",
            "    }\n",
            "  },\n",
            "  \"services\": {\n",
            "    \"pipeline\": \"achatbot\",\n",
            "    \"llm\": \"together\",\n",
            "    \"img-gen\": \"together\",\n",
            "    \"tts\": \"edge\"\n",
            "  },\n",
            "  \"config\": {\n",
            "    \"llm\": {\n",
            "      \"tag\": \"openai_llm_processor\",\n",
            "      \"base_url\": \"https://api.together.xyz/v1\",\n",
            "      \"model\": \"Qwen/Qwen2-72B-Instruct\",\n",
            "      \"language\": \"en\",\n",
            "      \"messages\": [{}]\n",
            "    },\n",
            "    \"img_gen\": {\n",
            "      \"tag\": \"HFStableDiffusionImageGenProcessor\",\n",
            "      \"args\": {\n",
            "        \"guidance_scale\":4.5,\n",
            "        \"device\":\"auto\",\n",
            "        \"is_quantizing\":true,\n",
            "        \"steps\":28,\n",
            "        \"model\": \"./models/stabilityai/stable-diffusion-3.5-large\"\n",
            "      }\n",
            "    },\n",
            "    \"tts\": {\n",
            "      \"tag\": \"tts_edge\",\n",
            "      \"args\": {\n",
            "        \"voice_name\": \"zh-CN-YunjianNeural\",\n",
            "        \"language\": \"zh\",\n",
            "        \"gender\": \"Male\"\n",
            "      }\n",
            "    }\n",
            "  },\n",
            "  \"config_list\": []\n",
            "}\n"
          ]
        }
      ]
    },
    {
      "cell_type": "code",
      "source": [
        "!DAILY_API_KEY=$DAILY_API_KEY TOGETHER_API_KEY=$TOGETHER_API_KEY HF_API_KEY=$HF_TOKEN \\\n",
        "  python -m src.cmd.bots.main -f /content/daily_sd_month_narration_bot.json"
      ],
      "metadata": {
        "colab": {
          "base_uri": "https://localhost:8080/"
        },
        "id": "QdjVGW1TKefw",
        "outputId": "7dddabf6-c6ca-4a65-f927-813f9857f3b6"
      },
      "execution_count": 20,
      "outputs": [
        {
          "output_type": "stream",
          "name": "stdout",
          "text": [
            "{\n",
            "    \"chat_bot_name\": \"DailyMonthNarrationBot\",\n",
            "    \"config\": {\n",
            "        \"img_gen\": {\n",
            "            \"args\": {\n",
            "                \"device\": \"auto\",\n",
            "                \"guidance_scale\": 4.5,\n",
            "                \"is_quantizing\": true,\n",
            "                \"model\": \"./models/stabilityai/stable-diffusion-3.5-large\",\n",
            "                \"steps\": 28\n",
            "            },\n",
            "            \"tag\": \"HFStableDiffusionImageGenProcessor\"\n",
            "        },\n",
            "        \"llm\": {\n",
            "            \"base_url\": \"https://api.together.xyz/v1\",\n",
            "            \"language\": \"en\",\n",
            "            \"messages\": [\n",
            "                {}\n",
            "            ],\n",
            "            \"model\": \"Qwen/Qwen2-72B-Instruct\",\n",
            "            \"tag\": \"openai_llm_processor\"\n",
            "        },\n",
            "        \"tts\": {\n",
            "            \"args\": {\n",
            "                \"gender\": \"Male\",\n",
            "                \"language\": \"zh\",\n",
            "                \"voice_name\": \"zh-CN-YunjianNeural\"\n",
            "            },\n",
            "            \"tag\": \"tts_edge\"\n",
            "        }\n",
            "    },\n",
            "    \"config_list\": [],\n",
            "    \"room_manager\": {\n",
            "        \"args\": {\n",
            "            \"privacy\": \"public\"\n",
            "        },\n",
            "        \"tag\": \"daily_room\"\n",
            "    },\n",
            "    \"room_name\": \"chat-room\",\n",
            "    \"room_url\": \"\",\n",
            "    \"services\": {\n",
            "        \"img-gen\": \"together\",\n",
            "        \"llm\": \"together\",\n",
            "        \"pipeline\": \"achatbot\",\n",
            "        \"tts\": \"edge\"\n",
            "    },\n",
            "    \"token\": \"\"\n",
            "}\n",
            "2024-10-31 06:02:16,125 - chat-bot - INFO - /content/achatbot/src/cmd/bots/main.py:42 - <module> - bot_config:{'chat_bot_name': 'DailyMonthNarrationBot', 'room_name': 'chat-room', 'room_url': '', 'token': '', 'room_manager': {'tag': 'daily_room', 'args': {'privacy': 'public'}}, 'services': {'pipeline': 'achatbot', 'llm': 'together', 'img-gen': 'together', 'tts': 'edge'}, 'config': {'llm': {'tag': 'openai_llm_processor', 'base_url': 'https://api.together.xyz/v1', 'model': 'Qwen/Qwen2-72B-Instruct', 'language': 'en', 'messages': [{}]}, 'img_gen': {'tag': 'HFStableDiffusionImageGenProcessor', 'args': {'guidance_scale': 4.5, 'device': 'auto', 'is_quantizing': True, 'steps': 28, 'model': './models/stabilityai/stable-diffusion-3.5-large'}}, 'tts': {'tag': 'tts_edge', 'args': {'voice_name': 'zh-CN-YunjianNeural', 'language': 'zh', 'gender': 'Male'}}}, 'config_list': []}\n",
            "2024-10-31 06:02:16,125 - chat-bot - INFO - /content/achatbot/src/cmd/bots/run.py:93 - __init__ - run_bot_info: is_agent=False chat_bot_name='DailyMonthNarrationBot' config={'llm': {'tag': 'openai_llm_processor', 'base_url': 'https://api.together.xyz/v1', 'model': 'Qwen/Qwen2-72B-Instruct', 'language': 'en', 'messages': [{}]}, 'img_gen': {'tag': 'HFStableDiffusionImageGenProcessor', 'args': {'guidance_scale': 4.5, 'device': 'auto', 'is_quantizing': True, 'steps': 28, 'model': './models/stabilityai/stable-diffusion-3.5-large'}}, 'tts': {'tag': 'tts_edge', 'args': {'voice_name': 'zh-CN-YunjianNeural', 'language': 'zh', 'gender': 'Male'}}} room_name='chat-room' room_url='' token='' config_list=[] services={'pipeline': 'achatbot', 'llm': 'together', 'img-gen': 'together', 'tts': 'edge'} task_connector=None room_manager=EngineClassInfo(tag='daily_room', args={'privacy': 'public'})\n",
            "2024-10-31 06:02:16,251 - chat-bot - INFO - /content/achatbot/src/common/factory.py:68 - get_engine_by_tag - use daily_room engine\n",
            "2024-10-31 06:02:16,252 - chat-bot - INFO - /content/achatbot/src/common/factory.py:33 - get_instance - class: <class 'src.services.help.daily_room.DailyRoom'> args: {'privacy': 'public'}\n",
            "2024-10-31 06:02:16,252 - chat-bot - INFO - /content/achatbot/src/services/help/__init__.py:33 - initEngine - initEngine: daily_room, TAG:daily_room | DailyRoom\n",
            "2024-10-31 06:02:17,261 - chat-bot - INFO - /content/achatbot/src/cmd/bots/base.py:63 - init_bot_config - ai bot_config: vad=None asr=None llm=LLMConfig(base_url='https://api.together.xyz/v1', model='Qwen/Qwen2-72B-Instruct', language='en', messages=[{}], tools=None, tag='openai_llm_processor', args=None) vision_llm=None vision_detector=None vision_ocr=None tts=TTSConfig(voice=None, language=None, tag='tts_edge', args={'voice_name': 'zh-CN-YunjianNeural', 'language': 'zh', 'gender': 'Male'}) img_gen=ImageGenConfig(tag='HFStableDiffusionImageGenProcessor', args={'guidance_scale': 4.5, 'device': 'auto', 'is_quantizing': True, 'steps': 28, 'model': './models/stabilityai/stable-diffusion-3.5-large'}) extends=None\n",
            "2024-10-31 06:02:17,277 - chat-bot - INFO - /content/achatbot/src/common/factory.py:68 - get_engine_by_tag - use tts_edge engine\n",
            "2024-10-31 06:02:17,277 - chat-bot - INFO - /content/achatbot/src/common/factory.py:33 - get_instance - class: <class 'src.modules.speech.tts.edge_tts.EdgeTTS'> args: {'language': 'zh', 'gender': 'Male', 'voice_name': 'zh-CN-YunjianNeural', 'rate': '+15%', 'volume': '+0%', 'pitch': '+0Hz'}\n",
            "2024-10-31 06:02:17,278 - chat-bot - INFO - /content/achatbot/src/transports/daily.py:56 - __init__ - DailyTransport register event names: dict_keys(['on_joined', 'on_left', 'on_app_message', 'on_call_state_updated', 'on_dialin_ready', 'on_dialout_answered', 'on_dialout_connected', 'on_dialout_stopped', 'on_dialout_error', 'on_dialout_warning', 'on_first_participant_joined', 'on_participant_joined', 'on_participant_left', 'on_participant_updated'])\n",
            "2024-10-31 06:02:21.756911: I tensorflow/core/util/port.cc:153] oneDNN custom operations are on. You may see slightly different numerical results due to floating-point round-off errors from different computation orders. To turn them off, set the environment variable `TF_ENABLE_ONEDNN_OPTS=0`.\n",
            "2024-10-31 06:02:21.773582: E external/local_xla/xla/stream_executor/cuda/cuda_fft.cc:485] Unable to register cuFFT factory: Attempting to register factory for plugin cuFFT when one has already been registered\n",
            "2024-10-31 06:02:21.795321: E external/local_xla/xla/stream_executor/cuda/cuda_dnn.cc:8454] Unable to register cuDNN factory: Attempting to register factory for plugin cuDNN when one has already been registered\n",
            "2024-10-31 06:02:21.801785: E external/local_xla/xla/stream_executor/cuda/cuda_blas.cc:1452] Unable to register cuBLAS factory: Attempting to register factory for plugin cuBLAS when one has already been registered\n",
            "2024-10-31 06:02:21.817700: I tensorflow/core/platform/cpu_feature_guard.cc:210] This TensorFlow binary is optimized to use available CPU instructions in performance-critical operations.\n",
            "To enable the following instructions: AVX2 AVX512F AVX512_VNNI FMA, in other operations, rebuild TensorFlow with the appropriate compiler flags.\n",
            "2024-10-31 06:02:23.306191: W tensorflow/compiler/tf2tensorrt/utils/py_utils.cc:38] TF-TRT Warning: Could not find TensorRT\n",
            "2024-10-31 06:02:24,557 - numexpr.utils - INFO - /usr/local/lib/python3.10/dist-packages/numexpr/utils.py:161 - _init_num_threads - NumExpr defaulting to 12 threads.\n",
            "Loading pipeline components...:   0% 0/9 [00:00<?, ?it/s]You set `add_prefix_space`. The tokenizer needs to be converted from the slow tokenizers\n",
            "Loading pipeline components...:  67% 6/9 [00:11<00:07,  2.44s/it]\n",
            "Loading checkpoint shards:   0% 0/2 [00:00<?, ?it/s]\u001b[A\n",
            "Loading checkpoint shards:  50% 1/2 [00:26<00:26, 26.08s/it]\u001b[A\n",
            "Loading checkpoint shards: 100% 2/2 [00:49<00:00, 24.56s/it]\n",
            "Loading pipeline components...: 100% 9/9 [01:00<00:00,  6.78s/it]\n",
            "2024-10-31 06:04:24,778 - chat-bot - INFO - /content/achatbot/src/services/daily_client.py:170 - join - Joining https://weedge.daily.co/chat-room\n",
            "2024-10-31 06:04:25,072 - chat-bot - INFO - /content/achatbot/src/cmd/bots/base_daily.py:34 - on_call_state_updated - Call state joining \n",
            "2024-10-31 06:04:25,389 - chat-bot - INFO - /content/achatbot/src/cmd/bots/base_daily.py:34 - on_call_state_updated - Call state joined \n",
            "2024-10-31 06:04:25,812 - chat-bot - INFO - /content/achatbot/src/services/daily_client.py:192 - join - Joined https://weedge.daily.co/chat-room\n",
            "2024-10-31 06:04:25,813 - chat-bot - INFO - /content/achatbot/src/processors/llm/openai_llm_processor.py:106 - _stream_chat_completions - Generating chat context messages: [{\"role\": \"system\", \"content\": \"Describe a nature photograph suitable for use in a calendar, for the month of January. Include only the image description with no preamble. Limit the description to one sentence, please.\", \"name\": \"system\"}]\n",
            "2024-10-31 06:04:26,117 - httpx - INFO - /usr/local/lib/python3.10/dist-packages/httpx/_client.py:1786 - _send_single_request - HTTP Request: POST https://api.together.xyz/v1/chat/completions \"HTTP/1.1 200 OK\"\n",
            "2024-10-31 06:04:26,274 - chat-bot - INFO - /content/achatbot/src/services/daily_client.py:382 - on_participant_joined - Participant joined 1970a772-f7be-45ad-9aaf-119c10e0d498\n",
            "2024-10-31 06:04:26,274 - chat-bot - INFO - /content/achatbot/src/cmd/bots/base_daily.py:17 - on_first_participant_joined - First participant 1970a772-f7be-45ad-9aaf-119c10e0d498 joined\n",
            "2024-10-31 06:04:27,462 - chat-bot - INFO - /content/achatbot/src/processors/speech/tts/tts_processor.py:54 - run_tts - Generating TTS: [一月：白雪覆盖的森林被柔和的金色朝阳照亮，投下长长的阴影，突显出原始的冰雪景观。]\n",
            "100% 28/28 [00:55<00:00,  2.00s/it]\n",
            "2024-10-31 06:05:36,949 - chat-bot - INFO - /usr/local/lib/python3.10/dist-packages/apipeline/processors/logger.py:34 - process_frame - SyncParallelPipeline#0 ---> FrameLogger#0 Frame: ImageRawFrame#0(size: (1280, 720), format: JPEG, mode: RGB)\n",
            "2024-10-31 06:05:36,950 - chat-bot - INFO - /usr/local/lib/python3.10/dist-packages/apipeline/processors/logger.py:34 - process_frame - SyncParallelPipeline#0 ---> FrameLogger#0 Frame: AudioRawFrame#0(size: 333396, frames: 166698, sample_rate: 22050,sample_width: 2, channels: 1)\n",
            "2024-10-31 06:05:36,950 - chat-bot - INFO - /usr/local/lib/python3.10/dist-packages/apipeline/processors/logger.py:34 - process_frame - SyncParallelPipeline#0 ---> FrameLogger#0 Frame: AudioRawFrame#1(size: 13230, frames: 6615, sample_rate: 22050,sample_width: 2, channels: 1)\n",
            "2024-10-31 06:05:36,954 - chat-bot - INFO - /content/achatbot/src/processors/llm/openai_llm_processor.py:106 - _stream_chat_completions - Generating chat context messages: [{\"role\": \"system\", \"content\": \"Describe a nature photograph suitable for use in a calendar, for the month of February. Include only the image description with no preamble. Limit the description to one sentence, please.\", \"name\": \"system\"}]\n",
            "2024-10-31 06:05:37,243 - httpx - INFO - /usr/local/lib/python3.10/dist-packages/httpx/_client.py:1786 - _send_single_request - HTTP Request: POST https://api.together.xyz/v1/chat/completions \"HTTP/1.1 200 OK\"\n",
            "2024-10-31 06:05:38,167 - chat-bot - INFO - /content/achatbot/src/processors/speech/tts/tts_processor.py:54 - run_tts - Generating TTS: [二月：一片白雪皑皑的景观被柔和的粉红色日出照亮，一棵孤独的常青树在冬日的天空中屹立不倒。]\n",
            "100% 28/28 [00:54<00:00,  1.94s/it]\n",
            "2024-10-31 06:06:41,042 - chat-bot - INFO - /usr/local/lib/python3.10/dist-packages/apipeline/processors/logger.py:34 - process_frame - SyncParallelPipeline#0 ---> FrameLogger#0 Frame: ImageRawFrame#1(size: (1280, 720), format: JPEG, mode: RGB)\n",
            "2024-10-31 06:06:42,277 - chat-bot - INFO - /usr/local/lib/python3.10/dist-packages/apipeline/processors/logger.py:34 - process_frame - SyncParallelPipeline#0 ---> FrameLogger#0 Frame: AudioRawFrame#2(size: 364088, frames: 182044, sample_rate: 22050,sample_width: 2, channels: 1)\n",
            "2024-10-31 06:06:42,277 - chat-bot - INFO - /usr/local/lib/python3.10/dist-packages/apipeline/processors/logger.py:34 - process_frame - SyncParallelPipeline#0 ---> FrameLogger#0 Frame: AudioRawFrame#3(size: 13230, frames: 6615, sample_rate: 22050,sample_width: 2, channels: 1)\n",
            "2024-10-31 06:06:42,280 - chat-bot - INFO - /content/achatbot/src/processors/llm/openai_llm_processor.py:106 - _stream_chat_completions - Generating chat context messages: [{\"role\": \"system\", \"content\": \"Describe a nature photograph suitable for use in a calendar, for the month of March. Include only the image description with no preamble. Limit the description to one sentence, please.\", \"name\": \"system\"}]\n",
            "2024-10-31 06:06:42,650 - httpx - INFO - /usr/local/lib/python3.10/dist-packages/httpx/_client.py:1786 - _send_single_request - HTTP Request: POST https://api.together.xyz/v1/chat/completions \"HTTP/1.1 200 OK\"\n",
            "2024-10-31 06:06:43,613 - chat-bot - INFO - /content/achatbot/src/processors/speech/tts/tts_processor.py:54 - run_tts - Generating TTS: [三月：这是一张充满活力的早春郁郁葱葱的森林照片，娇嫩的樱花在高大坚固的树木间绽放，一条清澈的小溪在灌木丛中缓缓流淌，反射着明媚的三月天柔和而散射的阳光。]\n",
            "100% 28/28 [00:54<00:00,  1.94s/it]\n",
            "2024-10-31 06:07:46,883 - chat-bot - INFO - /usr/local/lib/python3.10/dist-packages/apipeline/processors/logger.py:34 - process_frame - SyncParallelPipeline#0 ---> FrameLogger#0 Frame: ImageRawFrame#2(size: (1280, 720), format: JPEG, mode: RGB)\n",
            "2024-10-31 06:07:48,330 - chat-bot - INFO - /usr/local/lib/python3.10/dist-packages/apipeline/processors/logger.py:34 - process_frame - SyncParallelPipeline#0 ---> FrameLogger#0 Frame: AudioRawFrame#4(size: 617046, frames: 308523, sample_rate: 22050,sample_width: 2, channels: 1)\n",
            "2024-10-31 06:07:48,330 - chat-bot - INFO - /usr/local/lib/python3.10/dist-packages/apipeline/processors/logger.py:34 - process_frame - SyncParallelPipeline#0 ---> FrameLogger#0 Frame: AudioRawFrame#5(size: 13230, frames: 6615, sample_rate: 22050,sample_width: 2, channels: 1)\n",
            "2024-10-31 06:07:48,333 - chat-bot - INFO - /content/achatbot/src/processors/llm/openai_llm_processor.py:106 - _stream_chat_completions - Generating chat context messages: [{\"role\": \"system\", \"content\": \"Describe a nature photograph suitable for use in a calendar, for the month of April. Include only the image description with no preamble. Limit the description to one sentence, please.\", \"name\": \"system\"}]\n",
            "2024-10-31 06:07:48,569 - httpx - INFO - /usr/local/lib/python3.10/dist-packages/httpx/_client.py:1786 - _send_single_request - HTTP Request: POST https://api.together.xyz/v1/chat/completions \"HTTP/1.1 200 OK\"\n",
            "2024-10-31 06:07:49,428 - chat-bot - INFO - /content/achatbot/src/processors/speech/tts/tts_processor.py:54 - run_tts - Generating TTS: [四月：一张充满活力的照片，照片中是一片郁郁葱葱、鲜花盛开的青翠森林，树下铺满了娇嫩的蓝铃花和水仙花，被初春柔和的金色阳光照耀着。]\n",
            "100% 28/28 [00:54<00:00,  1.94s/it]\n",
            "2024-10-31 06:08:51,404 - chat-bot - INFO - /usr/local/lib/python3.10/dist-packages/apipeline/processors/logger.py:34 - process_frame - SyncParallelPipeline#0 ---> FrameLogger#0 Frame: ImageRawFrame#3(size: (1280, 720), format: JPEG, mode: RGB)\n",
            "2024-10-31 06:08:52,783 - chat-bot - INFO - /usr/local/lib/python3.10/dist-packages/apipeline/processors/logger.py:34 - process_frame - SyncParallelPipeline#0 ---> FrameLogger#0 Frame: AudioRawFrame#6(size: 516498, frames: 258249, sample_rate: 22050,sample_width: 2, channels: 1)\n",
            "2024-10-31 06:08:52,783 - chat-bot - INFO - /usr/local/lib/python3.10/dist-packages/apipeline/processors/logger.py:34 - process_frame - SyncParallelPipeline#0 ---> FrameLogger#0 Frame: AudioRawFrame#7(size: 13230, frames: 6615, sample_rate: 22050,sample_width: 2, channels: 1)\n",
            "2024-10-31 06:08:52,786 - chat-bot - INFO - /content/achatbot/src/processors/llm/openai_llm_processor.py:106 - _stream_chat_completions - Generating chat context messages: [{\"role\": \"system\", \"content\": \"Describe a nature photograph suitable for use in a calendar, for the month of May. Include only the image description with no preamble. Limit the description to one sentence, please.\", \"name\": \"system\"}]\n",
            "2024-10-31 06:08:53,003 - httpx - INFO - /usr/local/lib/python3.10/dist-packages/httpx/_client.py:1786 - _send_single_request - HTTP Request: POST https://api.together.xyz/v1/chat/completions \"HTTP/1.1 200 OK\"\n",
            "2024-10-31 06:08:53,786 - chat-bot - INFO - /content/achatbot/src/processors/speech/tts/tts_processor.py:54 - run_tts - Generating TTS: [五月：一片生机勃勃的绿色草地，覆盖着淡黄色的蒲公英和毛茛花，一直延伸到地平线，太阳轻轻地亲吻着天空，将天空染成橙色和粉红色。]\n",
            "100% 28/28 [00:54<00:00,  1.94s/it]\n",
            "2024-10-31 06:09:56,215 - chat-bot - INFO - /usr/local/lib/python3.10/dist-packages/apipeline/processors/logger.py:34 - process_frame - SyncParallelPipeline#0 ---> FrameLogger#0 Frame: ImageRawFrame#4(size: (1280, 720), format: JPEG, mode: RGB)\n",
            "2024-10-31 06:09:57,788 - chat-bot - INFO - /usr/local/lib/python3.10/dist-packages/apipeline/processors/logger.py:34 - process_frame - SyncParallelPipeline#0 ---> FrameLogger#0 Frame: AudioRawFrame#8(size: 505914, frames: 252957, sample_rate: 22050,sample_width: 2, channels: 1)\n",
            "2024-10-31 06:09:57,788 - chat-bot - INFO - /usr/local/lib/python3.10/dist-packages/apipeline/processors/logger.py:34 - process_frame - SyncParallelPipeline#0 ---> FrameLogger#0 Frame: AudioRawFrame#9(size: 13230, frames: 6615, sample_rate: 22050,sample_width: 2, channels: 1)\n",
            "2024-10-31 06:09:57,791 - chat-bot - INFO - /content/achatbot/src/processors/llm/openai_llm_processor.py:106 - _stream_chat_completions - Generating chat context messages: [{\"role\": \"system\", \"content\": \"Describe a nature photograph suitable for use in a calendar, for the month of June. Include only the image description with no preamble. Limit the description to one sentence, please.\", \"name\": \"system\"}]\n",
            "2024-10-31 06:09:58,048 - httpx - INFO - /usr/local/lib/python3.10/dist-packages/httpx/_client.py:1786 - _send_single_request - HTTP Request: POST https://api.together.xyz/v1/chat/completions \"HTTP/1.1 200 OK\"\n",
            "2024-10-31 06:09:59,042 - chat-bot - INFO - /content/achatbot/src/processors/speech/tts/tts_processor.py:54 - run_tts - Generating TTS: [六月：一片生机勃勃、郁郁葱葱的绿色草地，盛开的野花点缀其间，在湛蓝的天空下延伸至地平线，温暖的金色阳光洒下长长的光芒，象征着夏天的开始。]\n",
            "100% 28/28 [00:54<00:00,  1.94s/it]\n",
            "2024-10-31 06:11:00,707 - chat-bot - INFO - /usr/local/lib/python3.10/dist-packages/apipeline/processors/logger.py:34 - process_frame - SyncParallelPipeline#0 ---> FrameLogger#0 Frame: ImageRawFrame#5(size: (1280, 720), format: JPEG, mode: RGB)\n",
            "2024-10-31 06:11:01,996 - chat-bot - INFO - /usr/local/lib/python3.10/dist-packages/apipeline/processors/logger.py:34 - process_frame - SyncParallelPipeline#0 ---> FrameLogger#0 Frame: AudioRawFrame#10(size: 553542, frames: 276771, sample_rate: 22050,sample_width: 2, channels: 1)\n",
            "2024-10-31 06:11:01,996 - chat-bot - INFO - /usr/local/lib/python3.10/dist-packages/apipeline/processors/logger.py:34 - process_frame - SyncParallelPipeline#0 ---> FrameLogger#0 Frame: AudioRawFrame#11(size: 13230, frames: 6615, sample_rate: 22050,sample_width: 2, channels: 1)\n",
            "2024-10-31 06:11:02,002 - chat-bot - INFO - /content/achatbot/src/processors/llm/openai_llm_processor.py:106 - _stream_chat_completions - Generating chat context messages: [{\"role\": \"system\", \"content\": \"Describe a nature photograph suitable for use in a calendar, for the month of July. Include only the image description with no preamble. Limit the description to one sentence, please.\", \"name\": \"system\"}]\n",
            "2024-10-31 06:11:02,256 - httpx - INFO - /usr/local/lib/python3.10/dist-packages/httpx/_client.py:1786 - _send_single_request - HTTP Request: POST https://api.together.xyz/v1/chat/completions \"HTTP/1.1 200 OK\"\n",
            "2024-10-31 06:11:04,460 - chat-bot - INFO - /content/achatbot/src/processors/speech/tts/tts_processor.py:54 - run_tts - Generating TTS: [七月：一片生机勃勃、郁郁葱葱的绿色草地，盛开着野花，延伸至地平线，蓝天下点缀着几朵白色蓬松的云，被午后温暖的金色阳光照亮。]\n",
            "100% 28/28 [00:53<00:00,  1.91s/it]\n",
            "2024-10-31 06:12:05,490 - chat-bot - INFO - /usr/local/lib/python3.10/dist-packages/apipeline/processors/logger.py:34 - process_frame - SyncParallelPipeline#0 ---> FrameLogger#0 Frame: ImageRawFrame#6(size: (1280, 720), format: JPEG, mode: RGB)\n",
            "2024-10-31 06:12:06,971 - chat-bot - INFO - /usr/local/lib/python3.10/dist-packages/apipeline/processors/logger.py:34 - process_frame - SyncParallelPipeline#0 ---> FrameLogger#0 Frame: AudioRawFrame#12(size: 475220, frames: 237610, sample_rate: 22050,sample_width: 2, channels: 1)\n",
            "2024-10-31 06:12:06,971 - chat-bot - INFO - /usr/local/lib/python3.10/dist-packages/apipeline/processors/logger.py:34 - process_frame - SyncParallelPipeline#0 ---> FrameLogger#0 Frame: AudioRawFrame#13(size: 13230, frames: 6615, sample_rate: 22050,sample_width: 2, channels: 1)\n",
            "2024-10-31 06:12:06,974 - chat-bot - INFO - /content/achatbot/src/processors/llm/openai_llm_processor.py:106 - _stream_chat_completions - Generating chat context messages: [{\"role\": \"system\", \"content\": \"Describe a nature photograph suitable for use in a calendar, for the month of August. Include only the image description with no preamble. Limit the description to one sentence, please.\", \"name\": \"system\"}]\n",
            "2024-10-31 06:12:07,363 - httpx - INFO - /usr/local/lib/python3.10/dist-packages/httpx/_client.py:1786 - _send_single_request - HTTP Request: POST https://api.together.xyz/v1/chat/completions \"HTTP/1.1 200 OK\"\n",
            "2024-10-31 06:12:07,992 - chat-bot - INFO - /content/achatbot/src/processors/speech/tts/tts_processor.py:54 - run_tts - Generating TTS: [八月：一片生机勃勃、郁郁葱葱的绿色森林，八月的金色阳光透过树叶照射下来，照亮了整个森林，在青苔覆盖的地面上投下了斑驳的阴影。]\n",
            "100% 28/28 [00:53<00:00,  1.92s/it]\n",
            "2024-10-31 06:13:08,933 - chat-bot - INFO - /usr/local/lib/python3.10/dist-packages/apipeline/processors/logger.py:34 - process_frame - SyncParallelPipeline#0 ---> FrameLogger#0 Frame: ImageRawFrame#7(size: (1280, 720), format: JPEG, mode: RGB)\n",
            "2024-10-31 06:13:10,139 - chat-bot - INFO - /usr/local/lib/python3.10/dist-packages/apipeline/processors/logger.py:34 - process_frame - SyncParallelPipeline#0 ---> FrameLogger#0 Frame: AudioRawFrame#14(size: 486864, frames: 243432, sample_rate: 22050,sample_width: 2, channels: 1)\n",
            "2024-10-31 06:13:10,139 - chat-bot - INFO - /usr/local/lib/python3.10/dist-packages/apipeline/processors/logger.py:34 - process_frame - SyncParallelPipeline#0 ---> FrameLogger#0 Frame: AudioRawFrame#15(size: 13230, frames: 6615, sample_rate: 22050,sample_width: 2, channels: 1)\n",
            "2024-10-31 06:13:10,142 - chat-bot - INFO - /content/achatbot/src/processors/llm/openai_llm_processor.py:106 - _stream_chat_completions - Generating chat context messages: [{\"role\": \"system\", \"content\": \"Describe a nature photograph suitable for use in a calendar, for the month of September. Include only the image description with no preamble. Limit the description to one sentence, please.\", \"name\": \"system\"}]\n",
            "2024-10-31 06:13:10,515 - httpx - INFO - /usr/local/lib/python3.10/dist-packages/httpx/_client.py:1786 - _send_single_request - HTTP Request: POST https://api.together.xyz/v1/chat/completions \"HTTP/1.1 200 OK\"\n",
            "2024-10-31 06:13:11,406 - chat-bot - INFO - /content/achatbot/src/processors/speech/tts/tts_processor.py:54 - run_tts - Generating TTS: [九月：一张充满活力的照片，宁静的湖泊倒映着秋叶的温暖色调，湛蓝的天空和第一场雪落在远处的山峰上，体现了九月的本质。]\n",
            "100% 28/28 [00:53<00:00,  1.92s/it]\n",
            "2024-10-31 06:14:12,866 - chat-bot - INFO - /usr/local/lib/python3.10/dist-packages/apipeline/processors/logger.py:34 - process_frame - SyncParallelPipeline#0 ---> FrameLogger#0 Frame: ImageRawFrame#8(size: (1280, 720), format: JPEG, mode: RGB)\n",
            "2024-10-31 06:14:14,033 - chat-bot - INFO - /usr/local/lib/python3.10/dist-packages/apipeline/processors/logger.py:34 - process_frame - SyncParallelPipeline#0 ---> FrameLogger#0 Frame: AudioRawFrame#16(size: 469928, frames: 234964, sample_rate: 22050,sample_width: 2, channels: 1)\n",
            "2024-10-31 06:14:14,033 - chat-bot - INFO - /usr/local/lib/python3.10/dist-packages/apipeline/processors/logger.py:34 - process_frame - SyncParallelPipeline#0 ---> FrameLogger#0 Frame: AudioRawFrame#17(size: 13230, frames: 6615, sample_rate: 22050,sample_width: 2, channels: 1)\n",
            "2024-10-31 06:14:14,036 - chat-bot - INFO - /content/achatbot/src/processors/llm/openai_llm_processor.py:106 - _stream_chat_completions - Generating chat context messages: [{\"role\": \"system\", \"content\": \"Describe a nature photograph suitable for use in a calendar, for the month of October. Include only the image description with no preamble. Limit the description to one sentence, please.\", \"name\": \"system\"}]\n",
            "2024-10-31 06:14:14,563 - httpx - INFO - /usr/local/lib/python3.10/dist-packages/httpx/_client.py:1786 - _send_single_request - HTTP Request: POST https://api.together.xyz/v1/chat/completions \"HTTP/1.1 200 OK\"\n",
            "2024-10-31 06:14:15,533 - chat-bot - INFO - /content/achatbot/src/processors/speech/tts/tts_processor.py:54 - run_tts - Generating TTS: [十月：绚烂的金色落日照亮了雾气弥漫的琥珀色森林，古老橡树的叶子呈现出火红和橙色的光芒，创造出令人惊叹的秋日壮丽景色。]\n",
            " 43% 12/28 [00:27<00:27,  1.71s/it]{\"timestamp\":\"2024-10-31T06:14:48.318212Z\",\"level\":\"ERROR\",\"fields\":{\"message\":\"no subscription for consumer: ConsumerId(\\\"c55264de-f28b-4bb0-b81f-49b5424d5d64\\\")\"},\"target\":\"daily_core::call_manager::events::from_sfu::soup_consumer_closed\"}\n",
            "{\"timestamp\":\"2024-10-31T06:14:48.368224Z\",\"level\":\"ERROR\",\"fields\":{\"message\":\"Failed to close consumer: ConsumerNoLongerExists(ConsumerId(\\\"c55264de-f28b-4bb0-b81f-49b5424d5d64\\\"))\"},\"target\":\"daily_core::call_manager::events::subscription::common\"}\n",
            "100% 28/28 [00:54<00:00,  1.93s/it]\n",
            "2024-10-31 06:15:17,579 - chat-bot - INFO - /usr/local/lib/python3.10/dist-packages/apipeline/processors/logger.py:34 - process_frame - SyncParallelPipeline#0 ---> FrameLogger#0 Frame: ImageRawFrame#9(size: (1280, 720), format: JPEG, mode: RGB)\n",
            "2024-10-31 06:15:18,718 - chat-bot - INFO - /usr/local/lib/python3.10/dist-packages/apipeline/processors/logger.py:34 - process_frame - SyncParallelPipeline#0 ---> FrameLogger#0 Frame: AudioRawFrame#18(size: 490038, frames: 245019, sample_rate: 22050,sample_width: 2, channels: 1)\n",
            "2024-10-31 06:15:18,719 - chat-bot - INFO - /usr/local/lib/python3.10/dist-packages/apipeline/processors/logger.py:34 - process_frame - SyncParallelPipeline#0 ---> FrameLogger#0 Frame: AudioRawFrame#19(size: 13230, frames: 6615, sample_rate: 22050,sample_width: 2, channels: 1)\n",
            "2024-10-31 06:15:18,722 - chat-bot - INFO - /content/achatbot/src/processors/llm/openai_llm_processor.py:106 - _stream_chat_completions - Generating chat context messages: [{\"role\": \"system\", \"content\": \"Describe a nature photograph suitable for use in a calendar, for the month of November. Include only the image description with no preamble. Limit the description to one sentence, please.\", \"name\": \"system\"}]\n",
            "2024-10-31 06:15:18,934 - httpx - INFO - /usr/local/lib/python3.10/dist-packages/httpx/_client.py:1786 - _send_single_request - HTTP Request: POST https://api.together.xyz/v1/chat/completions \"HTTP/1.1 200 OK\"\n",
            "2024-10-31 06:15:20,960 - chat-bot - INFO - /content/achatbot/src/processors/speech/tts/tts_processor.py:54 - run_tts - Generating TTS: [十一月：十一月的一个早晨，森林里雾气弥漫，金色的树叶铺满大地，高大的树木呈现出琥珀色和赤褐色，常青树的背景显得格外微妙，透过树冠柔和、散射的阳光照射在树上。]\n",
            "100% 28/28 [00:54<00:00,  1.93s/it]\n",
            "2024-10-31 06:16:22,662 - chat-bot - INFO - /usr/local/lib/python3.10/dist-packages/apipeline/processors/logger.py:34 - process_frame - SyncParallelPipeline#0 ---> FrameLogger#0 Frame: ImageRawFrame#10(size: (1280, 720), format: JPEG, mode: RGB)\n",
            "2024-10-31 06:16:24,180 - chat-bot - INFO - /usr/local/lib/python3.10/dist-packages/apipeline/processors/logger.py:34 - process_frame - SyncParallelPipeline#0 ---> FrameLogger#0 Frame: AudioRawFrame#20(size: 635040, frames: 317520, sample_rate: 22050,sample_width: 2, channels: 1)\n",
            "2024-10-31 06:16:24,180 - chat-bot - INFO - /usr/local/lib/python3.10/dist-packages/apipeline/processors/logger.py:34 - process_frame - SyncParallelPipeline#0 ---> FrameLogger#0 Frame: AudioRawFrame#21(size: 13230, frames: 6615, sample_rate: 22050,sample_width: 2, channels: 1)\n",
            "2024-10-31 06:16:24,183 - chat-bot - INFO - /content/achatbot/src/processors/llm/openai_llm_processor.py:106 - _stream_chat_completions - Generating chat context messages: [{\"role\": \"system\", \"content\": \"Describe a nature photograph suitable for use in a calendar, for the month of December. Include only the image description with no preamble. Limit the description to one sentence, please.\", \"name\": \"system\"}]\n",
            "2024-10-31 06:16:24,452 - httpx - INFO - /usr/local/lib/python3.10/dist-packages/httpx/_client.py:1786 - _send_single_request - HTTP Request: POST https://api.together.xyz/v1/chat/completions \"HTTP/1.1 200 OK\"\n",
            "2024-10-31 06:16:25,314 - chat-bot - INFO - /content/achatbot/src/processors/speech/tts/tts_processor.py:54 - run_tts - Generating TTS: [十二月：一层新雪覆盖着森林地面，在透过光秃秃的树枝透射出的柔和冬日阳光下闪闪发光，一只雄鹿站在前景中，在清冷的空气中清晰可见它的呼吸。]\n",
            "100% 28/28 [00:53<00:00,  1.92s/it]\n",
            "2024-10-31 06:17:26,662 - chat-bot - INFO - /usr/local/lib/python3.10/dist-packages/apipeline/processors/logger.py:34 - process_frame - SyncParallelPipeline#0 ---> FrameLogger#0 Frame: ImageRawFrame#11(size: (1280, 720), format: JPEG, mode: RGB)\n",
            "2024-10-31 06:17:27,962 - chat-bot - INFO - /usr/local/lib/python3.10/dist-packages/apipeline/processors/logger.py:34 - process_frame - SyncParallelPipeline#0 ---> FrameLogger#0 Frame: AudioRawFrame#22(size: 570476, frames: 285238, sample_rate: 22050,sample_width: 2, channels: 1)\n",
            "2024-10-31 06:17:27,962 - chat-bot - INFO - /usr/local/lib/python3.10/dist-packages/apipeline/processors/logger.py:34 - process_frame - SyncParallelPipeline#0 ---> FrameLogger#0 Frame: AudioRawFrame#23(size: 13230, frames: 6615, sample_rate: 22050,sample_width: 2, channels: 1)\n",
            "2024-10-31 06:25:32,002 - chat-bot - INFO - /content/achatbot/src/cmd/bots/base_daily.py:34 - on_call_state_updated - Call state leaving \n",
            "2024-10-31 06:25:32,018 - chat-bot - INFO - /content/achatbot/src/cmd/bots/base_daily.py:34 - on_call_state_updated - Call state left \n",
            "2024-10-31 06:25:32,019 - chat-bot - INFO - /content/achatbot/src/services/daily_client.py:266 - leave - Leaving https://weedge.daily.co/chat-room\n",
            "2024-10-31 06:25:32,019 - chat-bot - INFO - /content/achatbot/src/cmd/bots/base_daily.py:34 - on_call_state_updated - Call state leaving \n",
            "2024-10-31 06:25:32,020 - chat-bot - INFO - /content/achatbot/src/cmd/bots/base_daily.py:34 - on_call_state_updated - Call state left \n",
            "2024-10-31 06:25:32,020 - chat-bot - INFO - /content/achatbot/src/services/daily_client.py:275 - leave - Left https://weedge.daily.co/chat-room\n",
            "Exception ignored in sys.unraisablehook: <built-in function unraisablehook>\n",
            "KeyboardInterrupt\n",
            "2024-10-31 06:25:33,564 - chat-bot - INFO - /content/achatbot/src/cmd/bots/run.py:77 - cleanup - pid:8911 tag:chat-room proc: <Process name='DailyMonthNarrationBot' parent=8879 closed> close\n"
          ]
        }
      ]
    },
    {
      "cell_type": "code",
      "source": [
        "from google.colab import userdata\n",
        "REDIS_PASSWORD=userdata.get('REDIS_PASSWORD')\n"
      ],
      "metadata": {
        "id": "KWZaV2R6ICZ-"
      },
      "execution_count": null,
      "outputs": []
    },
    {
      "cell_type": "code",
      "source": [
        "!LOG_LEVEL=debug REDIS_PASSWORD=$REDIS_PASSWORD python -m src.cmd.bots.main -f /content/task_bot.json"
      ],
      "metadata": {
        "id": "4C5qgvz2IIXz"
      },
      "execution_count": null,
      "outputs": []
    }
  ]
}