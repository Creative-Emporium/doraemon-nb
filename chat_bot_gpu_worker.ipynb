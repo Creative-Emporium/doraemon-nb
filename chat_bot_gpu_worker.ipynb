{
  "nbformat": 4,
  "nbformat_minor": 0,
  "metadata": {
    "colab": {
      "provenance": [],
      "machine_shape": "hm",
      "gpuType": "T4",
      "toc_visible": true,
      "authorship_tag": "ABX9TyN//B8PNxT6fhsj9BhK2td5",
      "include_colab_link": true
    },
    "kernelspec": {
      "name": "python3",
      "display_name": "Python 3"
    },
    "language_info": {
      "name": "python"
    },
    "accelerator": "GPU"
  },
  "cells": [
    {
      "cell_type": "markdown",
      "metadata": {
        "id": "view-in-github",
        "colab_type": "text"
      },
      "source": [
        "<a href=\"https://colab.research.google.com/github/weedge/doraemon-nb/blob/main/chat_bot_gpu_worker.ipynb\" target=\"_parent\"><img src=\"https://colab.research.google.com/assets/colab-badge.svg\" alt=\"Open In Colab\"/></a>"
      ]
    },
    {
      "cell_type": "code",
      "execution_count": null,
      "metadata": {
        "id": "MzbvNQvNWyJC"
      },
      "outputs": [],
      "source": [
        "!nvcc --version"
      ]
    },
    {
      "cell_type": "markdown",
      "source": [
        "# install"
      ],
      "metadata": {
        "id": "CYsG1UE0IoRj"
      }
    },
    {
      "cell_type": "code",
      "source": [
        "!pip install \"achatbot[remote_queue_chat_bot_be_worker]\"=\"==0.0.5.27\"\n"
      ],
      "metadata": {
        "id": "vHK19ftkXmLg"
      },
      "execution_count": null,
      "outputs": []
    },
    {
      "cell_type": "code",
      "source": [
        "!pip show scipy"
      ],
      "metadata": {
        "id": "XFqIedKFBiVY"
      },
      "execution_count": null,
      "outputs": []
    },
    {
      "cell_type": "markdown",
      "source": [
        "# download models"
      ],
      "metadata": {
        "id": "wl4c3mgmIiiS"
      }
    },
    {
      "cell_type": "code",
      "source": [
        "!mkdir -p ~/.achatbot/{log,config,models,records,videos}"
      ],
      "metadata": {
        "id": "ViKqI3XjJvWb"
      },
      "execution_count": null,
      "outputs": []
    },
    {
      "cell_type": "code",
      "source": [
        "!git lfs install\n"
      ],
      "metadata": {
        "id": "LyeWpYcEKje9"
      },
      "execution_count": null,
      "outputs": []
    },
    {
      "cell_type": "code",
      "source": [
        "# vad pyannote segmentation ckpt\n",
        "#!huggingface-cli download pyannote/segmentation-3.0  --local-dir ~/.achatbot/models/pyannote/segmentation-3.0 --local-dir-use-symlinks False"
      ],
      "metadata": {
        "id": "sA82mU-nIlqq"
      },
      "execution_count": null,
      "outputs": []
    },
    {
      "cell_type": "code",
      "source": [
        "# asr openai whisper ckpt\n",
        "!wget https://openaipublic.azureedge.net/main/whisper/models/ed3a0b6b1c0edf879ad9b11b1af5a0e6ab5db9205f891f668f8b0e6c6326e34e/base.pt -O ~/.achatbot/models/base.pt\n",
        "\n",
        "# asr hf openai whisper ckpt for transformers pipeline to load\n",
        "!huggingface-cli download openai/whisper-base  --local-dir ~/.achatbot/models/openai/whisper-base --local-dir-use-symlinks False\n",
        "\n",
        "# asr hf faster whisper (CTranslate2)\n",
        "!huggingface-cli download Systran/faster-whisper-base  --local-dir ~/.achatbot/models/Systran/faster-whisper-base --local-dir-use-symlinks False\n",
        "\n",
        "# asr SenseVoice ckpt\n",
        "!huggingface-cli download FunAudioLLM/SenseVoiceSmall  --local-dir ~/.achatbot/models/FunAudioLLM/SenseVoiceSmall --local-dir-use-symlinks False"
      ],
      "metadata": {
        "id": "WNRLGZGtLATa"
      },
      "execution_count": null,
      "outputs": []
    },
    {
      "cell_type": "code",
      "source": [
        "# llm llamacpp Qwen2-Instruct\n",
        "!huggingface-cli download Qwen/Qwen2-1.5B-Instruct-GGUF qwen2-1_5b-instruct-q8_0.gguf  --local-dir ~/.achatbot/models --local-dir-use-symlinks False\n",
        "\n",
        "# llm llamacpp Qwen1.5-chat\n",
        "!huggingface-cli download Qwen/Qwen1.5-7B-Chat-GGUF qwen1_5-7b-chat-q8_0.gguf  --local-dir ~/.achatbot/models --local-dir-use-symlinks False\n",
        "\n",
        "# llm llamacpp phi-3-mini-4k-instruct\n",
        "!huggingface-cli download microsoft/Phi-3-mini-4k-instruct-gguf Phi-3-mini-4k-instruct-q4.gguf --local-dir ~/.achatbot/models --local-dir-use-symlinks False\n"
      ],
      "metadata": {
        "id": "gptAWyUWL-Kk"
      },
      "execution_count": null,
      "outputs": []
    },
    {
      "cell_type": "code",
      "source": [
        "# tts chatTTS\n",
        "!huggingface-cli download 2Noise/ChatTTS  --local-dir ~/.achatbot/models/2Noise/ChatTTS --local-dir-use-symlinks False\n",
        "\n",
        "# tts coquiTTS\n",
        "!huggingface-cli download coqui/XTTS-v2  --local-dir ~/.achatbot/models/coqui/XTTS-v2 --local-dir-use-symlinks False\n",
        "\n",
        "# tts cosy voice\n",
        "!git lfs install\n",
        "!git clone https://www.modelscope.cn/iic/CosyVoice-300M.git ~/.achatbot/models/CosyVoice-300M\n",
        "!git clone https://www.modelscope.cn/iic/CosyVoice-300M-SFT.git ~/.achatbot/models/CosyVoice-300M-SFT\n",
        "!git clone https://www.modelscope.cn/iic/CosyVoice-300M-Instruct.git ~/.achatbot/models/CosyVoice-300M-Instruct\n",
        "#git clone https://www.modelscope.cn/iic/CosyVoice-ttsfrd.git ~/.achatbot/models/CosyVoice-ttsfrd\n"
      ],
      "metadata": {
        "id": "i_cyqzFDMdy9"
      },
      "execution_count": null,
      "outputs": []
    },
    {
      "cell_type": "markdown",
      "source": [
        "# run"
      ],
      "metadata": {
        "id": "kcIJPaYaImTo"
      }
    },
    {
      "cell_type": "markdown",
      "source": [
        "   u can login [redislabs](https://app.redislabs.com/#/) create 30M free databases; set `REDIS_HOST`,`REDIS_PORT` and `REDIS_PASSWORD` to run"
      ],
      "metadata": {
        "id": "WDkEQmQ2cGm-"
      }
    },
    {
      "cell_type": "code",
      "source": [
        "from google.colab import userdata\n",
        "redis_pwd = userdata.get('REDIS_PASSWORD')\n",
        "#print(redis_pwd)"
      ],
      "metadata": {
        "id": "EIGOCV_HJpWL"
      },
      "execution_count": null,
      "outputs": []
    },
    {
      "cell_type": "code",
      "source": [
        "!ACHATBOT_PKG=1 RUN_OP=be \\\n",
        "  TQDM_DISABLE=True \\\n",
        "  REDIS_PASSWORD=$redis_pwd \\\n",
        "  REDIS_HOST=redis-14241.c256.us-east-1-2.ec2.redns.redis-cloud.com \\\n",
        "  REDIS_PORT=14241 \\\n",
        "  ASR_TAG=sense_voice_asr \\\n",
        "  ASR_LANG=zn \\\n",
        "  ASR_MODEL_NAME_OR_PATH=~/.achatbot/models/FunAudioLLM/SenseVoiceSmall \\\n",
        "  N_GPU_LAYERS=33 FLASH_ATTN=1 \\\n",
        "  LLM_MODEL_NAME=qwen \\\n",
        "  LLM_MODEL_PATH=~/.achatbot/models/qwen1_5-7b-chat-q8_0.gguf \\\n",
        "  TTS_TAG=tts_cosy_voice \\\n",
        "  python -m achatbot.cmd.remote-queue-chat.generate_audio2audio > ~/.achatbot/log/be_std_out.log\n"
      ],
      "metadata": {
        "id": "smL7Zd13IKBy"
      },
      "execution_count": null,
      "outputs": []
    }
  ]
}