{
  "nbformat": 4,
  "nbformat_minor": 0,
  "metadata": {
    "colab": {
      "provenance": [],
      "gpuType": "T4",
      "collapsed_sections": [
        "ZV4N6O_BJMse",
        "2H62StkAQ4AO",
        "RkKYn5vsL6-l"
      ],
      "authorship_tag": "ABX9TyOAcYfjl7dghtiDE9uH/YnY",
      "include_colab_link": true
    },
    "kernelspec": {
      "name": "python3",
      "display_name": "Python 3"
    },
    "language_info": {
      "name": "python"
    },
    "accelerator": "GPU"
  },
  "cells": [
    {
      "cell_type": "markdown",
      "metadata": {
        "id": "view-in-github",
        "colab_type": "text"
      },
      "source": [
        "<a href=\"https://colab.research.google.com/github/weedge/doraemon-nb/blob/main/tts_step_audio_stream.ipynb\" target=\"_parent\"><img src=\"https://colab.research.google.com/assets/colab-badge.svg\" alt=\"Open In Colab\"/></a>"
      ]
    },
    {
      "cell_type": "markdown",
      "source": [
        "# install"
      ],
      "metadata": {
        "id": "dIBf62RTHm_i"
      }
    },
    {
      "cell_type": "code",
      "execution_count": null,
      "metadata": {
        "id": "AsXbWTupHeIR"
      },
      "outputs": [],
      "source": [
        "!git clone --recursive https://github.com/weedge/Step-Audio.git -b feat/stream"
      ]
    },
    {
      "cell_type": "code",
      "source": [
        "%cd /content/Step-Audio"
      ],
      "metadata": {
        "id": "tUzyqez6IXu0"
      },
      "execution_count": null,
      "outputs": []
    },
    {
      "cell_type": "code",
      "source": [
        "!git checkout . && git pull origin feat/stream"
      ],
      "metadata": {
        "id": "G73LieCizk9G"
      },
      "execution_count": null,
      "outputs": []
    },
    {
      "cell_type": "code",
      "source": [
        "!nvcc --version"
      ],
      "metadata": {
        "id": "n9jRNymQNYnE"
      },
      "execution_count": null,
      "outputs": []
    },
    {
      "cell_type": "code",
      "source": [
        "!ls /usr/local/cuda-12.5/lib64/libcublasLt*"
      ],
      "metadata": {
        "id": "LKFsrBB4PrrY"
      },
      "execution_count": null,
      "outputs": []
    },
    {
      "cell_type": "code",
      "source": [
        "!pip install -q -r requirements.txt"
      ],
      "metadata": {
        "id": "xWS1_hc3IfEB"
      },
      "execution_count": null,
      "outputs": []
    },
    {
      "cell_type": "code",
      "source": [
        "!pip show torch torchaudio torchvision"
      ],
      "metadata": {
        "id": "UnnJ2jWPTsHr"
      },
      "execution_count": null,
      "outputs": []
    },
    {
      "cell_type": "code",
      "source": [
        "#!pip install torch==2.3.1 torchvision==0.18.1 torchaudio==2.3.1 --index-url https://download.pytorch.org/whl/cu121"
      ],
      "metadata": {
        "id": "eN6Ss_8xTvJk"
      },
      "execution_count": null,
      "outputs": []
    },
    {
      "cell_type": "code",
      "source": [
        "!pip install onnxruntime-gpu==1.20.1"
      ],
      "metadata": {
        "id": "2RTSNPJmNS2z"
      },
      "execution_count": null,
      "outputs": []
    },
    {
      "cell_type": "code",
      "source": [
        "!pip show onnxruntime-gpu"
      ],
      "metadata": {
        "id": "LnUm7gijNUSf"
      },
      "execution_count": null,
      "outputs": []
    },
    {
      "cell_type": "code",
      "source": [
        "!apt install -y sox"
      ],
      "metadata": {
        "id": "p4y9fTyiN8n0"
      },
      "execution_count": null,
      "outputs": []
    },
    {
      "cell_type": "code",
      "source": [
        "!pip install -q python-dotenv"
      ],
      "metadata": {
        "id": "kg3tl-FIJUs2"
      },
      "execution_count": null,
      "outputs": []
    },
    {
      "cell_type": "markdown",
      "source": [
        "# download ckpt\n"
      ],
      "metadata": {
        "id": "Dq81SvYfPbkE"
      }
    },
    {
      "cell_type": "code",
      "source": [
        "from google.colab import userdata\n",
        "HF_TOKEN=userdata.get('HF_TOKEN')"
      ],
      "metadata": {
        "id": "6hhujTc_xuom"
      },
      "execution_count": null,
      "outputs": []
    },
    {
      "cell_type": "code",
      "source": [
        "!huggingface-cli login --token $HF_TOKEN --add-to-git-credential\n"
      ],
      "metadata": {
        "id": "c_j8AcMtyF0g"
      },
      "execution_count": null,
      "outputs": []
    },
    {
      "cell_type": "code",
      "source": [
        "!huggingface-cli download stepfun-ai/Step-Audio-Tokenizer --quie --local-dir /content/models/stepfun-ai/Step-Audio-Tokenizer\n"
      ],
      "metadata": {
        "id": "iwhowytqImqn"
      },
      "execution_count": null,
      "outputs": []
    },
    {
      "cell_type": "code",
      "source": [
        "!huggingface-cli download stepfun-ai/Step-Audio-TTS-3B --quie --local-dir /content/models/stepfun-ai/Step-Audio-TTS-3B\n"
      ],
      "metadata": {
        "id": "zJW_a0mRO-xR"
      },
      "execution_count": null,
      "outputs": []
    },
    {
      "cell_type": "markdown",
      "source": [
        "# tts static batch stream inference"
      ],
      "metadata": {
        "id": "VnP2lleDw7dh"
      }
    },
    {
      "cell_type": "code",
      "source": [
        "%cd /content/Step-Audio"
      ],
      "metadata": {
        "id": "p88WFCbaxE6O"
      },
      "execution_count": null,
      "outputs": []
    },
    {
      "cell_type": "code",
      "source": [
        "# tts without ref audio\n",
        "!TTS_TEXT=\"你好！\" python tts_inference_stream.py --model-path=/content/models/stepfun-ai/ --synthesis-type=tts --output-path=./ --stream=static_batch --stream-factor=2"
      ],
      "metadata": {
        "colab": {
          "base_uri": "https://localhost:8080/"
        },
        "outputId": "f9bc3166-5a1c-4d46-dbb6-650f8ad8124d",
        "id": "V7bpSHdHxE6O"
      },
      "execution_count": 33,
      "outputs": [
        {
          "output_type": "stream",
          "name": "stdout",
          "text": [
            "If you want to use the speaker diarization, please `pip install hdbscan`\n",
            "If you want use mossformer, please install rotary_embedding_torch by: \n",
            " pip install -U rotary_embedding_torch\n",
            "If you want use mossformer, please install rotary_embedding_torch by: \n",
            " pip install -U rotary_embedding_torch\n",
            "Please Requires the ffmpeg CLI and `ffmpeg-python` package to be installed.\n",
            "If you want use mossformer, please install rotary_embedding_torch by: \n",
            " pip install -U rotary_embedding_torch\n",
            "If you want use mossformer, please install rotary_embedding_torch by: \n",
            " pip install -U rotary_embedding_torch\n",
            "\n",
            "tables: \n",
            "\n",
            "-----------    ** dataset_classes **    --------------\n",
            "| class name   | class location                                                          |\n",
            "| AudioDataset | /content/Step-Audio/funasr_detach/datasets/audio_datasets/datasets.py:7 |\n",
            "-----------    ** index_ds_classes **    --------------\n",
            "| class name            | class location                                                           |\n",
            "| IndexDSJsonlRankFull  | /content/Step-Audio/funasr_detach/datasets/audio_datasets/index_ds.py:80 |\n",
            "| IndexDSJsonlRankFull  | /content/Step-Audio/funasr_detach/datasets/audio_datasets/index_ds.py:80 |\n",
            "| IndexDSJsonlRankSplit | /content/Step-Audio/funasr_detach/datasets/audio_datasets/index_ds.py:12 |\n",
            "-----------    ** preprocessor_classes **    --------------\n",
            "| class name                   | class location                                                               |\n",
            "| SpeechPreprocessSpeedPerturb | /content/Step-Audio/funasr_detach/datasets/audio_datasets/preprocessor.py:18 |\n",
            "| TextPreprocessSegDict        | /content/Step-Audio/funasr_detach/datasets/audio_datasets/preprocessor.py:39 |\n",
            "-----------    ** batch_sampler_classes **    --------------\n",
            "| class name                              | class location                                                            |\n",
            "| BatchSampler                            | /content/Step-Audio/funasr_detach/datasets/audio_datasets/samplers.py:9   |\n",
            "| RankFullLocalShuffleBatchSampler        | /content/Step-Audio/funasr_detach/datasets/audio_datasets/samplers.py:95  |\n",
            "| RankFullLocalShuffleBatchSampler        | /content/Step-Audio/funasr_detach/datasets/audio_datasets/samplers.py:95  |\n",
            "| RankFullLocalShuffleDynamicBatchSampler | /content/Step-Audio/funasr_detach/datasets/audio_datasets/samplers.py:199 |\n",
            "-----------    ** frontend_classes **    --------------\n",
            "| class name        | class location                                                  |\n",
            "| WavFrontend       | /content/Step-Audio/funasr_detach/frontends/wav_frontend.py:78  |\n",
            "| WavFrontendOnline | /content/Step-Audio/funasr_detach/frontends/wav_frontend.py:211 |\n",
            "-----------    ** joint_network_classes **    --------------\n",
            "| class name   | class location                                                          |\n",
            "| JointNetwork | /content/Step-Audio/funasr_detach/models/transducer/joint_network.py:12 |\n",
            "-----------    ** model_classes **    --------------\n",
            "| class name             | class location                                                                |\n",
            "| BAT                    | /content/Step-Audio/funasr_detach/models/bat/model.py:35                      |\n",
            "| BiCifParaformer        | /content/Step-Audio/funasr_detach/models/bicif_paraformer/model.py:37         |\n",
            "| Branchformer           | /content/Step-Audio/funasr_detach/models/branchformer/model.py:7              |\n",
            "| CAMPPlus               | /content/Step-Audio/funasr_detach/models/campplus/model.py:37                 |\n",
            "| CTTransformer          | /content/Step-Audio/funasr_detach/models/ct_transformer/model.py:37           |\n",
            "| CTTransformerStreaming | /content/Step-Audio/funasr_detach/models/ct_transformer_streaming/model.py:30 |\n",
            "| Conformer              | /content/Step-Audio/funasr_detach/models/conformer/model.py:9                 |\n",
            "| ContextualParaformer   | /content/Step-Audio/funasr_detach/models/contextual_paraformer/model.py:43    |\n",
            "| EBranchformer          | /content/Step-Audio/funasr_detach/models/e_branchformer/model.py:7            |\n",
            "| Emotion2vec            | /content/Step-Audio/funasr_detach/models/emotion2vec/model.py:34              |\n",
            "| FsmnVADStreaming       | /content/Step-Audio/funasr_detach/models/fsmn_vad_streaming/model.py:279      |\n",
            "| MonotonicAligner       | /content/Step-Audio/funasr_detach/models/monotonic_aligner/model.py:24        |\n",
            "| Paraformer             | /content/Step-Audio/funasr_detach/models/paraformer/model.py:26               |\n",
            "| ParaformerStreaming    | /content/Step-Audio/funasr_detach/models/paraformer_streaming/model.py:37     |\n",
            "| SANM                   | /content/Step-Audio/funasr_detach/models/sanm/model.py:14                     |\n",
            "| SCAMA                  | /content/Step-Audio/funasr_detach/models/scama/model.py:39                    |\n",
            "| SeacoParaformer        | /content/Step-Audio/funasr_detach/models/seaco_paraformer/model.py:45         |\n",
            "| Transducer             | /content/Step-Audio/funasr_detach/models/transducer/model.py:34               |\n",
            "| Transformer            | /content/Step-Audio/funasr_detach/models/transformer/model.py:22              |\n",
            "| UniASR                 | /content/Step-Audio/funasr_detach/models/uniasr/model.py:26                   |\n",
            "| Whisper                | /content/Step-Audio/funasr_detach/models/whisper/model.py:226                 |\n",
            "-----------    ** predictor_classes **    --------------\n",
            "| class name     | class location                                                                 |\n",
            "| CifPredictor   | /content/Step-Audio/funasr_detach/models/paraformer/cif_predictor.py:15        |\n",
            "| CifPredictorV2 | /content/Step-Audio/funasr_detach/models/paraformer/cif_predictor.py:191       |\n",
            "| CifPredictorV3 | /content/Step-Audio/funasr_detach/models/bicif_paraformer/cif_predictor.py:106 |\n",
            "-----------    ** encoder_classes **    --------------\n",
            "| class name            | class location                                                                   |\n",
            "| AudioEncoder          | /content/Step-Audio/funasr_detach/models/whisper/model.py:146                    |\n",
            "| BranchformerEncoder   | /content/Step-Audio/funasr_detach/models/branchformer/encoder.py:296             |\n",
            "| ConformerChunkEncoder | /content/Step-Audio/funasr_detach/models/conformer/encoder.py:895                |\n",
            "| ConformerEncoder      | /content/Step-Audio/funasr_detach/models/conformer/encoder.py:287                |\n",
            "| DFSMN                 | /content/Step-Audio/funasr_detach/models/fsmn_vad_streaming/encoder.py:254       |\n",
            "| EBranchformerEncoder  | /content/Step-Audio/funasr_detach/models/e_branchformer/encoder.py:182           |\n",
            "| FSMN                  | /content/Step-Audio/funasr_detach/models/fsmn_vad_streaming/encoder.py:180       |\n",
            "| RWKVEncoder           | /content/Step-Audio/funasr_detach/models/rwkv_bat/rwkv_encoder.py:16             |\n",
            "| SANMEncoder           | /content/Step-Audio/funasr_detach/models/sanm/encoder.py:192                     |\n",
            "| SANMEncoderChunkOpt   | /content/Step-Audio/funasr_detach/models/scama/encoder.py:192                    |\n",
            "| SANMVadEncoder        | /content/Step-Audio/funasr_detach/models/ct_transformer_streaming/encoder.py:180 |\n",
            "| TransformerEncoder    | /content/Step-Audio/funasr_detach/models/transformer/encoder.py:143              |\n",
            "-----------    ** decoder_classes **    --------------\n",
            "| class name                                 | class location                                                                |\n",
            "| ContextualParaformerDecoder                | /content/Step-Audio/funasr_detach/models/contextual_paraformer/decoder.py:119 |\n",
            "| DynamicConvolution2DTransformerDecoder     | /content/Step-Audio/funasr_detach/models/sa_asr/transformer_decoder.py:709    |\n",
            "| DynamicConvolutionTransformerDecoder       | /content/Step-Audio/funasr_detach/models/sa_asr/transformer_decoder.py:647    |\n",
            "| FsmnDecoder                                | /content/Step-Audio/funasr_detach/models/sanm/decoder.py:207                  |\n",
            "| FsmnDecoderSCAMAOpt                        | /content/Step-Audio/funasr_detach/models/scama/decoder.py:207                 |\n",
            "| LightweightConvolution2DTransformerDecoder | /content/Step-Audio/funasr_detach/models/sa_asr/transformer_decoder.py:585    |\n",
            "| LightweightConvolutionTransformerDecoder   | /content/Step-Audio/funasr_detach/models/sa_asr/transformer_decoder.py:523    |\n",
            "| ParaformerDecoderSAN                       | /content/Step-Audio/funasr_detach/models/sa_asr/transformer_decoder.py:409    |\n",
            "| ParaformerSANDecoder                       | /content/Step-Audio/funasr_detach/models/paraformer/decoder.py:569            |\n",
            "| ParaformerSANMDecoder                      | /content/Step-Audio/funasr_detach/models/paraformer/decoder.py:216            |\n",
            "| RNNDecoder                                 | /content/Step-Audio/funasr_detach/models/transducer/rnn_decoder.py:87         |\n",
            "| RNNTDecoder                                | /content/Step-Audio/funasr_detach/models/transducer/rnnt_decoder.py:14        |\n",
            "| TextDecoder                                | /content/Step-Audio/funasr_detach/models/whisper/model.py:180                 |\n",
            "| TransformerDecoder                         | /content/Step-Audio/funasr_detach/models/sa_asr/transformer_decoder.py:360    |\n",
            "-----------    ** normalize_classes **    --------------\n",
            "| class name   | class location                                                        |\n",
            "| GlobalMVN    | /content/Step-Audio/funasr_detach/models/normalize/global_mvn.py:12   |\n",
            "| UtteranceMVN | /content/Step-Audio/funasr_detach/models/normalize/utterance_mvn.py:9 |\n",
            "-----------    ** specaug_classes **    --------------\n",
            "| class name | class location                                                  |\n",
            "| SpecAug    | /content/Step-Audio/funasr_detach/models/specaug/specaug.py:16  |\n",
            "| SpecAugLFR | /content/Step-Audio/funasr_detach/models/specaug/specaug.py:107 |\n",
            "-----------    ** tokenizer_classes **    --------------\n",
            "| class name              | class location                                                            |\n",
            "| CharTokenizer           | /content/Step-Audio/funasr_detach/tokenizer/char_tokenizer.py:12          |\n",
            "| SentencepiecesTokenizer | /content/Step-Audio/funasr_detach/tokenizer/sentencepiece_tokenizer.py:12 |\n",
            "\n",
            "\n",
            "ckpt: /content/models/stepfun-ai//Step-Audio-Tokenizer/dengcunqin/speech_paraformer-large_asr_nat-zh-cantonese-en-16k-vocab8501-online/model.pt\n",
            "\u001b[0;93m2025-02-20 11:51:41.230631101 [W:onnxruntime:, transformer_memcpy.cc:74 ApplyImpl] 12 Memcpy nodes are added to the graph main_graph for CUDAExecutionProvider. It might have negative impact on performance (including unable to run CUDA graph). Set session_options.log_severity_level=1 to see the detail logs before this message.\u001b[m\n",
            "\u001b[0;93m2025-02-20 11:51:41.232490525 [W:onnxruntime:, session_state.cc:1168 VerifyEachNodeIsAssignedToAnEp] Some nodes were not assigned to the preferred execution providers which may or may not have an negative impact on performance. e.g. ORT explicitly assigns shape related ops to CPU to improve perf.\u001b[m\n",
            "\u001b[0;93m2025-02-20 11:51:41.232512409 [W:onnxruntime:, session_state.cc:1170 VerifyEachNodeIsAssignedToAnEp] Rerunning with verbose output on a non-minimal build will show node assignments.\u001b[m\n",
            "2025-02-20 11:51:42.641977: E external/local_xla/xla/stream_executor/cuda/cuda_fft.cc:477] Unable to register cuFFT factory: Attempting to register factory for plugin cuFFT when one has already been registered\n",
            "WARNING: All log messages before absl::InitializeLog() is called are written to STDERR\n",
            "E0000 00:00:1740052302.667454   33507 cuda_dnn.cc:8310] Unable to register cuDNN factory: Attempting to register factory for plugin cuDNN when one has already been registered\n",
            "E0000 00:00:1740052302.675648   33507 cuda_blas.cc:1418] Unable to register cuBLAS factory: Attempting to register factory for plugin cuBLAS when one has already been registered\n",
            "2025-02-20 11:51:42.710604: I tensorflow/core/platform/cpu_feature_guard.cc:210] This TensorFlow binary is optimized to use available CPU instructions in performance-critical operations.\n",
            "To enable the following instructions: AVX2 AVX512F FMA, in other operations, rebuild TensorFlow with the appropriate compiler flags.\n",
            "\u001b[0;93m2025-02-20 11:52:32.250573100 [W:onnxruntime:, transformer_memcpy.cc:74 ApplyImpl] 12 Memcpy nodes are added to the graph main_graph for CUDAExecutionProvider. It might have negative impact on performance (including unable to run CUDA graph). Set session_options.log_severity_level=1 to see the detail logs before this message.\u001b[m\n",
            "\u001b[0;93m2025-02-20 11:52:32.252571675 [W:onnxruntime:, session_state.cc:1168 VerifyEachNodeIsAssignedToAnEp] Some nodes were not assigned to the preferred execution providers which may or may not have an negative impact on performance. e.g. ORT explicitly assigns shape related ops to CPU to improve perf.\u001b[m\n",
            "\u001b[0;93m2025-02-20 11:52:32.252594636 [W:onnxruntime:, session_state.cc:1170 VerifyEachNodeIsAssignedToAnEp] Rerunning with verbose output on a non-minimal build will show node assignments.\u001b[m\n",
            "\u001b[0;93m2025-02-20 11:52:42.568151378 [W:onnxruntime:, transformer_memcpy.cc:74 ApplyImpl] 12 Memcpy nodes are added to the graph main_graph for CUDAExecutionProvider. It might have negative impact on performance (including unable to run CUDA graph). Set session_options.log_severity_level=1 to see the detail logs before this message.\u001b[m\n",
            "\u001b[0;93m2025-02-20 11:52:42.570557095 [W:onnxruntime:, session_state.cc:1168 VerifyEachNodeIsAssignedToAnEp] Some nodes were not assigned to the preferred execution providers which may or may not have an negative impact on performance. e.g. ORT explicitly assigns shape related ops to CPU to improve perf.\u001b[m\n",
            "\u001b[0;93m2025-02-20 11:52:42.570587734 [W:onnxruntime:, session_state.cc:1170 VerifyEachNodeIsAssignedToAnEp] Rerunning with verbose output on a non-minimal build will show node assignments.\u001b[m\n",
            "Registered speaker: TingtingRAP\n",
            "Registered speaker: Tingting哼唱\n",
            "Registered speaker: Tingting\n"
          ]
        }
      ]
    },
    {
      "cell_type": "code",
      "source": [
        "# tts without ref audio\n",
        "!python tts_inference_stream.py --model-path=/content/models/stepfun-ai/ --synthesis-type=tts --output-path=./ --stream=static_batch --stream-factor=4"
      ],
      "metadata": {
        "id": "dsHOt4N3Jxaf"
      },
      "execution_count": null,
      "outputs": []
    },
    {
      "cell_type": "code",
      "source": [
        "from IPython.display import Audio\n",
        "Audio('./output_tts_stream.wav',autoplay=True)"
      ],
      "metadata": {
        "colab": {
          "base_uri": "https://localhost:8080/",
          "height": 75
        },
        "outputId": "0731d224-046e-490f-843d-a10b24d5505b",
        "id": "4sFgESH0xSCQ"
      },
      "execution_count": 34,
      "outputs": [
        {
          "output_type": "execute_result",
          "data": {
            "text/plain": [
              "<IPython.lib.display.Audio object>"
            ],
            "text/html": [
              "\n",
              "                <audio  controls=\"controls\" autoplay=\"autoplay\">\n",
              "                    <source src=\"data:audio/x-wav;base64,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\" type=\"audio/x-wav\" />\n",
              "                    Your browser does not support the audio element.\n",
              "                </audio>\n",
              "              "
            ]
          },
          "metadata": {},
          "execution_count": 34
        }
      ]
    },
    {
      "cell_type": "code",
      "source": [
        "from IPython.display import Audio\n",
        "Audio('examples/prompt_wav_yuqian.wav',autoplay=True)"
      ],
      "metadata": {
        "id": "u9D6ZPX9xSCR"
      },
      "execution_count": null,
      "outputs": []
    },
    {
      "cell_type": "code",
      "source": [
        "# tts with ref audio\n",
        "!python tts_inference_stream.py --model-path=/content/models/stepfun-ai/ --synthesis-type=clone --output-path=./ --stream=static_batch --stream-factor=4"
      ],
      "metadata": {
        "id": "TpXJf1s_18se"
      },
      "execution_count": null,
      "outputs": []
    },
    {
      "cell_type": "code",
      "source": [
        "# tts with ref audio\n",
        "!TTS_TEXT=\"你好！\" python tts_inference_stream.py --model-path=/content/models/stepfun-ai/ --synthesis-type=clone --output-path=./ --stream=static_batch --stream-factor=2"
      ],
      "metadata": {
        "id": "XLax4bXoKH52"
      },
      "execution_count": null,
      "outputs": []
    },
    {
      "cell_type": "code",
      "source": [
        "from IPython.display import Audio\n",
        "Audio('./output_clone_stream.wav',autoplay=True)"
      ],
      "metadata": {
        "id": "Q6m-iJDo5Y6A"
      },
      "execution_count": null,
      "outputs": []
    },
    {
      "cell_type": "markdown",
      "source": [
        "# text to speech"
      ],
      "metadata": {
        "id": "ZV4N6O_BJMse"
      }
    },
    {
      "cell_type": "code",
      "source": [
        "%cd /content/Step-Audio"
      ],
      "metadata": {
        "id": "ImlT8xl0OUSz"
      },
      "execution_count": null,
      "outputs": []
    },
    {
      "cell_type": "code",
      "source": [
        "# tts without ref audio\n",
        "!python tts_inference.py --model-path=/content/models/stepfun-ai/ --synthesis-type=tts --output-path=./"
      ],
      "metadata": {
        "id": "KSDNp0bNJQFN"
      },
      "execution_count": null,
      "outputs": []
    },
    {
      "cell_type": "code",
      "source": [
        "from IPython.display import Audio\n",
        "Audio('./output_tts.wav',autoplay=True)"
      ],
      "metadata": {
        "id": "8egYGRvaSWk_"
      },
      "execution_count": null,
      "outputs": []
    },
    {
      "cell_type": "code",
      "source": [
        "from IPython.display import Audio\n",
        "Audio('examples/prompt_wav_yuqian.wav',autoplay=True)"
      ],
      "metadata": {
        "id": "WqMHz6xtZOCC"
      },
      "execution_count": null,
      "outputs": []
    },
    {
      "cell_type": "code",
      "source": [
        "# tts with ref audio\n",
        "!python tts_inference.py --model-path=/content/models/stepfun-ai/ --synthesis-type=clone --output-path=./"
      ],
      "metadata": {
        "id": "3BzKaftgJ0bE"
      },
      "execution_count": null,
      "outputs": []
    },
    {
      "cell_type": "code",
      "source": [
        "from IPython.display import Audio\n",
        "Audio('./output_clone.wav',autoplay=True)"
      ],
      "metadata": {
        "id": "xqpHUg1WZYrX"
      },
      "execution_count": null,
      "outputs": []
    },
    {
      "cell_type": "markdown",
      "source": [
        "# step1 LM tokenizer"
      ],
      "metadata": {
        "id": "PRd4KskAATxZ"
      }
    },
    {
      "cell_type": "code",
      "source": [
        "%cd /content/Step-Audio"
      ],
      "metadata": {
        "id": "-X-Aext5Hu4y"
      },
      "execution_count": null,
      "outputs": []
    },
    {
      "cell_type": "code",
      "source": [
        "import os\n",
        "import sys\n",
        "sys.path.insert(1, \"/content/Step-Audio\")"
      ],
      "metadata": {
        "id": "rg0IKtsxGxhx"
      },
      "execution_count": null,
      "outputs": []
    },
    {
      "cell_type": "code",
      "source": [
        "from tts import StepAudioTTS\n",
        "from tokenizer import StepAudioTokenizer\n",
        "\n",
        "encoder = StepAudioTokenizer(f\"/content/models/stepfun-ai/Step-Audio-Tokenizer\")\n",
        "print(encoder)\n",
        "tts_engine = StepAudioTTS(f\"/content/models/stepfun-ai/Step-Audio-TTS-3B\", encoder)\n",
        "print(tts_engine)\n"
      ],
      "metadata": {
        "id": "lXqZd4GnGb8k"
      },
      "execution_count": null,
      "outputs": []
    },
    {
      "cell_type": "code",
      "source": [
        "text = \"本文介绍了Step-Audio，这是一个开源的智能语音交互框架，旨在解决现有开源模型在语音数据采集成本高、动态控制能力弱和智能水平有限等问题。\"\n",
        "text = \"君不见黄河之水天上来，奔流到海不复回。君不见高堂明镜悲白发，朝如青丝暮成雪。人生得意须尽欢，莫使金樽空对月。天生我材必有用，千金散尽还复来。\"\n",
        "#instruction_name = tts_engine.detect_instruction_name(text)\n",
        "prompt_speaker_info = tts_engine.speakers_info[\"Tingting\"]\n",
        "print(prompt_speaker_info)"
      ],
      "metadata": {
        "id": "72UMi9x_L-rp"
      },
      "execution_count": null,
      "outputs": []
    },
    {
      "cell_type": "code",
      "source": [
        "token_ids = tts_engine.tokenize(text,prompt_speaker_info[\"prompt_text\"],\"\",prompt_speaker_info[\"prompt_code\"])\n",
        "print(token_ids)"
      ],
      "metadata": {
        "id": "hckOXiqPNK4h"
      },
      "execution_count": null,
      "outputs": []
    },
    {
      "cell_type": "code",
      "source": [
        "text = tts_engine.tokenizer.decode(token_ids)\n",
        "print(text)"
      ],
      "metadata": {
        "id": "mr8tf1muNQPJ"
      },
      "execution_count": null,
      "outputs": []
    },
    {
      "cell_type": "markdown",
      "source": [
        "# step1 LM generate"
      ],
      "metadata": {
        "id": "o_R20-YmPBLb"
      }
    },
    {
      "cell_type": "markdown",
      "source": [
        "## generate"
      ],
      "metadata": {
        "id": "lKDMIYXoQx7n"
      }
    },
    {
      "cell_type": "code",
      "source": [
        "import torch\n",
        "\n",
        "from tts import LogitsProcessorList,RepetitionAwareLogitsProcessor\n",
        "\n",
        "output_ids = tts_engine.llm.generate(\n",
        "  torch.tensor([token_ids]).to(torch.long).to(\"cuda\"),\n",
        "  max_length=8192,\n",
        "  temperature=0.7,\n",
        "  do_sample=True,\n",
        "  logits_processor=LogitsProcessorList([RepetitionAwareLogitsProcessor()]),\n",
        ")\n",
        "print(output_ids)"
      ],
      "metadata": {
        "id": "jj-T_M8eOKiu"
      },
      "execution_count": null,
      "outputs": []
    },
    {
      "cell_type": "code",
      "source": [
        "text = tts_engine.tokenizer.decode(output_ids[0])\n",
        "print(text)"
      ],
      "metadata": {
        "id": "HWS1itlGPXse"
      },
      "execution_count": null,
      "outputs": []
    },
    {
      "cell_type": "code",
      "source": [
        "audio_token_ids = output_ids[0][len(token_ids):-1] # skip <|EOT|> token\n",
        "print(audio_token_ids)\n",
        "audio_token_text = tts_engine.tokenizer.decode(audio_token_ids)\n",
        "print(audio_token_text)"
      ],
      "metadata": {
        "id": "RCgaC5w1P0Lp"
      },
      "execution_count": null,
      "outputs": []
    },
    {
      "cell_type": "markdown",
      "source": [
        "## stream generate"
      ],
      "metadata": {
        "id": "2H62StkAQ4AO"
      }
    },
    {
      "cell_type": "code",
      "source": [
        "from queue import Queue\n",
        "\n",
        "from transformers.generation.streamers import BaseStreamer\n",
        "\n",
        "class TokenStreamer(BaseStreamer):\n",
        "    def __init__(self, skip_prompt: bool = False, timeout=None):\n",
        "        self.skip_prompt = skip_prompt\n",
        "\n",
        "        # variables used in the streaming process\n",
        "        self.token_queue = Queue()\n",
        "        self.stop_signal = None\n",
        "        self.next_tokens_are_prompt = True\n",
        "        self.timeout = timeout\n",
        "\n",
        "    def put(self, value):\n",
        "        if len(value.shape) > 1 and value.shape[0] > 1:\n",
        "            raise ValueError(\"TextStreamer only supports batch size 1\")\n",
        "        elif len(value.shape) > 1:\n",
        "            value = value[0]\n",
        "        #print(value)\n",
        "\n",
        "        if self.skip_prompt and self.next_tokens_are_prompt:\n",
        "            self.next_tokens_are_prompt = False\n",
        "            return\n",
        "\n",
        "        for token in value.tolist():\n",
        "            self.token_queue.put(token)\n",
        "\n",
        "    def end(self):\n",
        "        self.token_queue.put(self.stop_signal)\n",
        "\n",
        "    def __iter__(self):\n",
        "        return self\n",
        "\n",
        "    def __next__(self):\n",
        "        value = self.token_queue.get(timeout=self.timeout)\n",
        "        if value == self.stop_signal:\n",
        "            raise StopIteration()\n",
        "        else:\n",
        "            return value"
      ],
      "metadata": {
        "id": "j-Y_lTgJR7_r"
      },
      "execution_count": null,
      "outputs": []
    },
    {
      "cell_type": "code",
      "source": [
        "streamer = TokenStreamer(skip_prompt=True)\n",
        "print(streamer)"
      ],
      "metadata": {
        "id": "2zzC0zzHS_Q-"
      },
      "execution_count": null,
      "outputs": []
    },
    {
      "cell_type": "code",
      "source": [
        "from threading import Thread\n",
        "\n",
        "import torch\n",
        "\n",
        "from tts import LogitsProcessorList,RepetitionAwareLogitsProcessor\n",
        "\n",
        "generation_kwargs = dict(\n",
        "  input_ids=torch.tensor([token_ids]).to(torch.long).to(\"cuda\"),\n",
        "  eos_token_id=3,\n",
        "  streamer=streamer,\n",
        "  max_length=8192,\n",
        "  temperature=0.7,\n",
        "  do_sample=True,\n",
        "  logits_processor=LogitsProcessorList([RepetitionAwareLogitsProcessor()]),\n",
        ")\n",
        "print(\"generation_kwargs\", generation_kwargs)\n",
        "\n",
        "thread = Thread(target=tts_engine.llm.generate, kwargs=generation_kwargs)\n",
        "thread.start()\n",
        "\n",
        "generated_ids = []\n",
        "for token_id in streamer:\n",
        "  print(token_id, end=\",\", flush=True)\n",
        "  generated_ids.append(token_id)\n",
        "\n",
        "print(\"\\n\",generated_ids)"
      ],
      "metadata": {
        "id": "gq7rx3SQQ-jG"
      },
      "execution_count": null,
      "outputs": []
    },
    {
      "cell_type": "code",
      "source": [
        "audio_token_text = tts_engine.tokenizer.decode(generated_ids)\n",
        "print(audio_token_text)"
      ],
      "metadata": {
        "id": "Fy94aK9bVnZV"
      },
      "execution_count": null,
      "outputs": []
    },
    {
      "cell_type": "code",
      "source": [
        "prompt_token_text = tts_engine.tokenizer.decode(token_ids)\n",
        "print(prompt_token_text)"
      ],
      "metadata": {
        "id": "hwtex-UmXn6M"
      },
      "execution_count": null,
      "outputs": []
    },
    {
      "cell_type": "code",
      "source": [
        "audio_token_text = tts_engine.tokenizer.decode(3)\n",
        "print(audio_token_text)"
      ],
      "metadata": {
        "id": "BGuLSancYX7z"
      },
      "execution_count": null,
      "outputs": []
    },
    {
      "cell_type": "code",
      "source": [
        "audio_token_ids = generated_ids[:-1] # skip <|EOT|> token\n",
        "print(audio_token_ids)\n",
        "audio_token_text = tts_engine.tokenizer.decode(audio_token_ids)\n",
        "print(audio_token_text)"
      ],
      "metadata": {
        "id": "3gjNcAvXWe5Z"
      },
      "execution_count": null,
      "outputs": []
    },
    {
      "cell_type": "code",
      "source": [
        "from threading import Thread\n",
        "import math\n",
        "\n",
        "import torch\n",
        "\n",
        "from tts import LogitsProcessorList,RepetitionAwareLogitsProcessor\n",
        "\n",
        "generation_kwargs = dict(\n",
        "  input_ids=torch.tensor([token_ids]).to(torch.long).to(\"cuda\"),\n",
        "  eos_token_id=3,\n",
        "  streamer=streamer,\n",
        "  max_length=8192,\n",
        "  temperature=0.7,\n",
        "  do_sample=True,\n",
        "  logits_processor=LogitsProcessorList([RepetitionAwareLogitsProcessor()]),\n",
        ")\n",
        "print(\"generation_kwargs\", generation_kwargs)\n",
        "\n",
        "thread = Thread(target=tts_engine.llm.generate, kwargs=generation_kwargs)\n",
        "thread.start()\n",
        "\n",
        "#batch_size = 30\n",
        "stream_factor=2 # >=2 increase for better speech quality, but rft slow (speech quality vs rft slow)\n",
        "batch_size = math.ceil(stream_factor*tts_engine.common_cosy_model.model.flow.input_frame_rate)\n",
        "print(batch_size)\n",
        "\n",
        "generated_ids = []\n",
        "for token_id in streamer:\n",
        "  #print(token_id, end=\",\", flush=True)\n",
        "  if token_id == 3:  # skip <|EOT|>, break\n",
        "    break\n",
        "  generated_ids.append(token_id)\n",
        "  if len(generated_ids) % batch_size == 0:\n",
        "    print(\"\\n\",generated_ids)\n",
        "    batch = (\n",
        "        torch.tensor(generated_ids)\n",
        "        .unsqueeze(0)\n",
        "        .to(tts_engine.common_cosy_model.model.device)\n",
        "    )  # [T] -> [1,T]\n",
        "    print(batch,batch.shape)\n",
        "    # Process each batch\n",
        "    sub_tts_speech = tts_engine.common_cosy_model.token_to_wav_offline(\n",
        "                    batch,\n",
        "                    prompt_speaker_info[\"cosy_speech_feat\"].to(torch.bfloat16),\n",
        "                    prompt_speaker_info[\"cosy_speech_feat_len\"],\n",
        "                    prompt_speaker_info[\"cosy_prompt_token\"],\n",
        "                    prompt_speaker_info[\"cosy_prompt_token_len\"],\n",
        "                    prompt_speaker_info[\"cosy_speech_embedding\"].to(torch.bfloat16),\n",
        "    )\n",
        "    print(sub_tts_speech,sub_tts_speech.shape)\n",
        "\n",
        "\n",
        "\n",
        "print(\"\\n\",generated_ids)\n"
      ],
      "metadata": {
        "id": "zMgy3NnCAcMH"
      },
      "execution_count": null,
      "outputs": []
    },
    {
      "cell_type": "markdown",
      "source": [
        "# generate waveform from audio vq codes"
      ],
      "metadata": {
        "id": "VV0DjPrkkk9J"
      }
    },
    {
      "cell_type": "code",
      "source": [
        "print(prompt_speaker_info)"
      ],
      "metadata": {
        "id": "zbAb1vNiik5T"
      },
      "execution_count": null,
      "outputs": []
    },
    {
      "cell_type": "code",
      "source": [
        "prompt_speaker_info[\"cosy_speech_feat\"]"
      ],
      "metadata": {
        "id": "T1yg9sshixxm"
      },
      "execution_count": null,
      "outputs": []
    },
    {
      "cell_type": "code",
      "source": [
        "prompt_speaker_info[\"cosy_speech_feat_len\"]"
      ],
      "metadata": {
        "id": "RzBxxjS4izSl"
      },
      "execution_count": null,
      "outputs": []
    },
    {
      "cell_type": "code",
      "source": [
        "prompt_speaker_info[\"cosy_prompt_token\"].to(\"cuda\")"
      ],
      "metadata": {
        "id": "HMB7eBBFi3Vy"
      },
      "execution_count": null,
      "outputs": []
    },
    {
      "cell_type": "code",
      "source": [
        "prompt_speaker_info[\"cosy_prompt_token_len\"].to(\"cuda\")"
      ],
      "metadata": {
        "id": "-UKuepvli9D0"
      },
      "execution_count": null,
      "outputs": []
    },
    {
      "cell_type": "code",
      "source": [
        "prompt_speaker_info[\"cosy_speech_embedding\"]"
      ],
      "metadata": {
        "id": "f1874WjdjAcy"
      },
      "execution_count": null,
      "outputs": []
    },
    {
      "cell_type": "code",
      "source": [
        "# 你好\n",
        "audio_token_ids = [66424, 65801, 66725, 66575, 68722, 65949, 66106, 67604, 69789, 69810, 65589, 65589, 69810, 68289, 68295, 66027, 66547, 68649, 68295, 67783, 66107, 66547, 67783, 67909, 67909, 65613, 65613, 66586, 66586, 70493]\n",
        "#audio_token_text = \"<audio_888><audio_265><audio_1189><audio_1039><audio_3186><audio_413><audio_570><audio_2068><audio_4253><audio_4274><audio_53><audio_53><audio_4274><audio_2753><audio_2759><audio_491><audio_1011><audio_3113><audio_2759><audio_2247><audio_571><audio_1011><audio_2247><audio_2373><audio_2373><audio_77><audio_77><audio_1050><audio_1050><audio_4957>\""
      ],
      "metadata": {
        "id": "R78jvKBZf8oS"
      },
      "execution_count": null,
      "outputs": []
    },
    {
      "cell_type": "code",
      "source": [
        "# 本文介绍了Step-Audio，这是一个开源的智能语音交互框架，旨在解决现有开源模型在语音数据采集成本高、动态控制能力弱和智能水平有限等问题。\n",
        "audio_token_ids=[\n",
        "        66077, 65712, 66725, 68670, 66614, 65949, 66185, 66609, 67812, 68014,\n",
        "        66185, 65607, 68130, 69827, 68810, 65607, 66486, 68076, 68813, 67130,\n",
        "        65645, 65972, 67597, 69622, 68175, 65767, 66486, 68803, 66903, 69492,\n",
        "        65557, 65557, 66885, 68443, 68139, 65754, 65977, 69097, 67816, 67816,\n",
        "        65621, 66547, 67816, 67778, 67587, 65613, 65840, 68294, 70458, 70458,\n",
        "        66471, 66361, 70458, 67445, 67526, 66029, 66029, 70476, 69264, 68622,\n",
        "        66381, 66133, 67460, 70160, 68708, 66177, 66217, 66669, 67075, 66679,\n",
        "        66041, 66041, 67021, 67260, 66762, 66447, 66486, 68272, 66885, 66885,\n",
        "        66502, 66502, 67300, 67878, 70160, 66502, 66309, 68466, 66629, 68200,\n",
        "        66284, 65811, 66992, 66992, 68073, 66167, 65977, 68073, 66940, 68064,\n",
        "        66167, 66061, 68064, 67250, 67250, 65840, 66283, 67587, 68006, 68064,\n",
        "        65684, 65684, 68029, 68175, 68803, 65682, 66035, 66594, 66601, 66588,\n",
        "        65795, 65795, 68258, 66619, 66619, 66279, 66486, 70112, 70576, 66561,\n",
        "        66279, 65911, 67092, 68610, 70576, 65911, 66237, 67966, 66580, 67753,\n",
        "        65735, 65735, 67130, 70321, 67277, 65735, 66254, 67049, 69206, 67333,\n",
        "        66336, 65821, 67333, 69559, 67633, 65897, 65897, 66592, 67963, 66907,\n",
        "        65973, 66215, 67129, 68959, 70153, 66215, 66472, 67333, 68130, 68115,\n",
        "        66241, 66241, 66946, 68128, 67945, 66402, 66536, 67945, 69666, 66600,\n",
        "        65549, 65829, 69181, 69346, 68810, 65847, 66472, 66829, 68813, 68806,\n",
        "        66366, 66366, 69492, 67328, 66794, 66402, 66429, 70507, 66633, 68815,\n",
        "        66443, 66402, 70052, 66794, 66885, 65554, 66048, 66946, 67801, 70114,\n",
        "        65792, 65792, 68800, 66679, 69418, 66167, 66012, 66568, 66568, 67587,\n",
        "        65967, 66167, 68064, 68064, 67250, 65840, 65840, 70458, 70458, 66613,\n",
        "        66132, 65705, 70209, 70209, 67526, 65617, 65750, 66605, 67129, 66566,\n",
        "        66040, 66040, 66566, 68076, 66661, 66360, 66315, 66981, 66679, 66593,\n",
        "        65947, 65947, 68076, 68813, 67913, 65972, 65972, 67851, 66829, 67352,\n",
        "        65972, 66335, 67945, 68200, 67049, 66379, 66379, 67736, 68800, 67206,\n",
        "        65877, 65877, 69404, 66753, 67261, 65899, 65899, 67130, 67604, 69401,\n",
        "        65899, 65911, 66992, 68356, 69524, 65911, 66472, 68847, 67966, 67572,\n",
        "        65735, 65735, 67658, 70321, 66592, 66160, 66472, 68038, 66569, 68989,\n",
        "        66160, 65969, 67362, 68169, 68803, 66421, 66472, 67184, 69404, 66753,\n",
        "        66466, 66290, 68220, 69980, 68747, 66167, 65840, 69624, 66682, 68768,\n",
        "        66167, 66471, 67526, 70458, 66613, 65840, 66283, 70209, 69538, 68076,\n",
        "        66102, 66360, 68254, 69559, 66981, 66402, 66035, 66669, 70616, 66619,\n",
        "        66241, 65549, 67945, 67945, 69666, 65549, 66472, 66600, 66619, 69181,\n",
        "        66335, 65970, 68128, 70639, 69798, 65970, 66472, 69798, 67318, 66644,\n",
        "        66137, 66137, 67502, 67054, 66935, 66402, 65615, 67277, 68364, 66829,\n",
        "        66538, 66538, 68254, 67966, 66580, 66402, 65554, 67071, 70616, 67803,\n",
        "        65964, 66335, 66889, 68220, 67877, 66423, 66472, 70328, 70209, 68624,\n",
        "        66127, 66127, 66881, 67440, 67314, 66402, 65669, 67633, 69436, 68248,\n",
        "        65987, 65987, 70576, 66614, 66918, 66402, 65977, 66918, 67783, 67070,\n",
        "        65967, 66167, 67070, 66940, 68867, 65545, 65840, 68064, 68064, 67250,\n",
        "        66471, 65705, 67250, 68064, 67424, 65752, 65750, 69897, 67873, 66765,\n",
        "        66539, 65932, 67128, 68069, 68663, 65932, 66486, 70160, 67966, 66580,\n",
        "        66335, 66443, 69834, 70474, 66962, 66443, 66237, 67442, 66794, 68069,\n",
        "        65938, 65938, 67935, 70328, 66588, 66215, 66486, 70153, 67764, 68847,\n",
        "        66215, 65968, 66618, 69853, 66663, 66257, 65668, 67906, 70321, 67502,\n",
        "        65714, 65714, 68127, 69825, 67100, 66402, 65977, 68959, 66622, 69998,\n",
        "        66066, 66167, 68162, 70111, 68867, 65654, 65840, 70458, 70458, 67582,\n",
        "        66109, 66109, 66586, 67250, 68847, 66109, 65897, 67221, 68866, 66592,\n",
        "        65973, 65973, 68067, 68278, 67129, 66215, 66156, 68803, 67333, 68139,\n",
        "        65651, 65814, 68115, 67590, 66946, 65814, 66486, 69798, 67487, 69064,\n",
        "        66460, 66460, 68144, 68670, 69571, 66460, 66035, 69666, 68128, 68597,\n",
        "        66384, 66384, 70049, 68866, 70172, 65601, 66048, 67403, 67206, 68665,\n",
        "        66062, 66306, 70049, 67130, 68054, 66306, 66472, 67801, 70160, 70142,\n",
        "        66185, 66185, 66618, 66618, 67229, 66402, 66048, 69827, 68883, 67963,\n",
        "        65959, 65959, 68428, 68732, 70404, 66167, 66012, 66928, 68220, 66619,\n",
        "        65967, 66167, 70616, 67851, 66746, 65654, 65840, 67677, 68064, 68064\n",
        "]\n",
        "#audio_token_text=\"<audio_541><audio_176><audio_1189><audio_3134><audio_1078><audio_413><audio_649><audio_1073><audio_2276><audio_2478><audio_649><audio_71><audio_2594><audio_4291><audio_3274><audio_71><audio_950><audio_2540><audio_3277><audio_1594><audio_109><audio_436><audio_2061><audio_4086><audio_2639><audio_231><audio_950><audio_3267><audio_1367><audio_3956><audio_21><audio_21><audio_1349><audio_2907><audio_2603><audio_218><audio_441><audio_3561><audio_2280><audio_2280><audio_85><audio_1011><audio_2280><audio_2242><audio_2051><audio_77><audio_304><audio_2758><audio_4922><audio_4922><audio_935><audio_825><audio_4922><audio_1909><audio_1990><audio_493><audio_493><audio_4940><audio_3728><audio_3086><audio_845><audio_597><audio_1924><audio_4624><audio_3172><audio_641><audio_681><audio_1133><audio_1539><audio_1143><audio_505><audio_505><audio_1485><audio_1724><audio_1226><audio_911><audio_950><audio_2736><audio_1349><audio_1349><audio_966><audio_966><audio_1764><audio_2342><audio_4624><audio_966><audio_773><audio_2930><audio_1093><audio_2664><audio_748><audio_275><audio_1456><audio_1456><audio_2537><audio_631><audio_441><audio_2537><audio_1404><audio_2528><audio_631><audio_525><audio_2528><audio_1714><audio_1714><audio_304><audio_747><audio_2051><audio_2470><audio_2528><audio_148><audio_148><audio_2493><audio_2639><audio_3267><audio_146><audio_499><audio_1058><audio_1065><audio_1052><audio_259><audio_259><audio_2722><audio_1083><audio_1083><audio_743><audio_950><audio_4576><audio_5040><audio_1025><audio_743><audio_375><audio_1556><audio_3074><audio_5040><audio_375><audio_701><audio_2430><audio_1044><audio_2217><audio_199><audio_199><audio_1594><audio_4785><audio_1741><audio_199><audio_718><audio_1513><audio_3670><audio_1797><audio_800><audio_285><audio_1797><audio_4023><audio_2097><audio_361><audio_361><audio_1056><audio_2427><audio_1371><audio_437><audio_679><audio_1593><audio_3423><audio_4617><audio_679><audio_936><audio_1797><audio_2594><audio_2579><audio_705><audio_705><audio_1410><audio_2592><audio_2409><audio_866><audio_1000><audio_2409><audio_4130><audio_1064><audio_13><audio_293><audio_3645><audio_3810><audio_3274><audio_311><audio_936><audio_1293><audio_3277><audio_3270><audio_830><audio_830><audio_3956><audio_1792><audio_1258><audio_866><audio_893><audio_4971><audio_1097><audio_3279><audio_907><audio_866><audio_4516><audio_1258><audio_1349><audio_18><audio_512><audio_1410><audio_2265><audio_4578><audio_256><audio_256><audio_3264><audio_1143><audio_3882><audio_631><audio_476><audio_1032><audio_1032><audio_2051><audio_431><audio_631><audio_2528><audio_2528><audio_1714><audio_304><audio_304><audio_4922><audio_4922><audio_1077><audio_596><audio_169><audio_4673><audio_4673><audio_1990><audio_81><audio_214><audio_1069><audio_1593><audio_1030><audio_504><audio_504><audio_1030><audio_2540><audio_1125><audio_824><audio_779><audio_1445><audio_1143><audio_1057><audio_411><audio_411><audio_2540><audio_3277><audio_2377><audio_436><audio_436><audio_2315><audio_1293><audio_1816><audio_436><audio_799><audio_2409><audio_2664><audio_1513><audio_843><audio_843><audio_2200><audio_3264><audio_1670><audio_341><audio_341><audio_3868><audio_1217><audio_1725><audio_363><audio_363><audio_1594><audio_2068><audio_3865><audio_363><audio_375><audio_1456><audio_2820><audio_3988><audio_375><audio_936><audio_3311><audio_2430><audio_2036><audio_199><audio_199><audio_2122><audio_4785><audio_1056><audio_624><audio_936><audio_2502><audio_1033><audio_3453><audio_624><audio_433><audio_1826><audio_2633><audio_3267><audio_885><audio_936><audio_1648><audio_3868><audio_1217><audio_930><audio_754><audio_2684><audio_4444><audio_3211><audio_631><audio_304><audio_4088><audio_1146><audio_3232><audio_631><audio_935><audio_1990><audio_4922><audio_1077><audio_304><audio_747><audio_4673><audio_4002><audio_2540><audio_566><audio_824><audio_2718><audio_4023><audio_1445><audio_866><audio_499><audio_1133><audio_5080><audio_1083><audio_705><audio_13><audio_2409><audio_2409><audio_4130><audio_13><audio_936><audio_1064><audio_1083><audio_3645><audio_799><audio_434><audio_2592><audio_5103><audio_4262><audio_434><audio_936><audio_4262><audio_1782><audio_1108><audio_601><audio_601><audio_1966><audio_1518><audio_1399><audio_866><audio_79><audio_1741><audio_2828><audio_1293><audio_1002><audio_1002><audio_2718><audio_2430><audio_1044><audio_866><audio_18><audio_1535><audio_5080><audio_2267><audio_428><audio_799><audio_1353><audio_2684><audio_2341><audio_887><audio_936><audio_4792><audio_4673><audio_3088><audio_591><audio_591><audio_1345><audio_1904><audio_1778><audio_866><audio_133><audio_2097><audio_3900><audio_2712><audio_451><audio_451><audio_5040><audio_1078><audio_1382><audio_866><audio_441><audio_1382><audio_2247><audio_1534><audio_431><audio_631><audio_1534><audio_1404><audio_3331><audio_9><audio_304><audio_2528><audio_2528><audio_1714><audio_935><audio_169><audio_1714><audio_2528><audio_1888><audio_216><audio_214><audio_4361><audio_2337><audio_1229><audio_1003><audio_396><audio_1592><audio_2533><audio_3127><audio_396><audio_950><audio_4624><audio_2430><audio_1044><audio_799><audio_907><audio_4298><audio_4938><audio_1426><audio_907><audio_701><audio_1906><audio_1258><audio_2533><audio_402><audio_402><audio_2399><audio_4792><audio_1052><audio_679><audio_950><audio_4617><audio_2228><audio_3311><audio_679><audio_432><audio_1082><audio_4317><audio_1127><audio_721><audio_132><audio_2370><audio_4785><audio_1966><audio_178><audio_178><audio_2591><audio_4289><audio_1564><audio_866><audio_441><audio_3423><audio_1086><audio_4462><audio_530><audio_631><audio_2626><audio_4575><audio_3331><audio_118><audio_304><audio_4922><audio_4922><audio_2046><audio_573><audio_573><audio_1050><audio_1714><audio_3311><audio_573><audio_361><audio_1685><audio_3330><audio_1056><audio_437><audio_437><audio_2531><audio_2742><audio_1593><audio_679><audio_620><audio_3267><audio_1797><audio_2603><audio_115><audio_278><audio_2579><audio_2054><audio_1410><audio_278><audio_950><audio_4262><audio_1951><audio_3528><audio_924><audio_924><audio_2608><audio_3134><audio_4035><audio_924><audio_499><audio_4130><audio_2592><audio_3061><audio_848><audio_848><audio_4513><audio_3330><audio_4636><audio_65><audio_512><audio_1867><audio_1670><audio_3129><audio_526><audio_770><audio_4513><audio_1594><audio_2518><audio_770><audio_936><audio_2265><audio_4624><audio_4606><audio_649><audio_649><audio_1082><audio_1082><audio_1693><audio_866><audio_512><audio_4291><audio_3347><audio_2427><audio_423><audio_423><audio_2892><audio_3196><audio_4868><audio_631><audio_476><audio_1392><audio_2684><audio_1083><audio_431><audio_631><audio_5080><audio_2315><audio_1210><audio_118><audio_304><audio_2141><audio_2528><audio_2528>\""
      ],
      "metadata": {
        "id": "UGmsOHU1P9vv"
      },
      "execution_count": null,
      "outputs": []
    },
    {
      "cell_type": "code",
      "source": [
        "audio_token_text = tts_engine.tokenizer.decode(audio_token_ids)\n",
        "print(audio_token_text)"
      ],
      "metadata": {
        "id": "Y7Oa17prQquo"
      },
      "execution_count": null,
      "outputs": []
    },
    {
      "cell_type": "code",
      "source": [
        "import torch\n",
        "# audio vq codes\n",
        "tensor_audio_token_ids = torch.tensor([audio_token_ids]).to(torch.long).to(\"cuda\")-65536\n",
        "print(tensor_audio_token_ids)"
      ],
      "metadata": {
        "id": "piPgDgWMhtVu"
      },
      "execution_count": null,
      "outputs": []
    },
    {
      "cell_type": "code",
      "source": [
        "tts_speech = tts_engine.common_cosy_model.token_to_wav_offline(\n",
        "    tensor_audio_token_ids,\n",
        "    prompt_speaker_info[\"cosy_speech_feat\"].to(torch.bfloat16),\n",
        "    prompt_speaker_info[\"cosy_speech_feat_len\"],\n",
        "    prompt_speaker_info[\"cosy_prompt_token\"],\n",
        "    prompt_speaker_info[\"cosy_prompt_token_len\"],\n",
        "    prompt_speaker_info[\"cosy_speech_embedding\"].to(torch.bfloat16),\n",
        ")"
      ],
      "metadata": {
        "id": "rlDiYCXVhd0K"
      },
      "execution_count": null,
      "outputs": []
    },
    {
      "cell_type": "code",
      "source": [
        "print(tts_speech,tts_speech.shape)"
      ],
      "metadata": {
        "id": "KZ7AuBYJlvOW"
      },
      "execution_count": null,
      "outputs": []
    },
    {
      "cell_type": "code",
      "source": [
        "import torchaudio\n",
        "torchaudio.save(f\"/content/output_tts.wav\", tts_speech, 22050)"
      ],
      "metadata": {
        "id": "4QkaOrpvme9x"
      },
      "execution_count": null,
      "outputs": []
    },
    {
      "cell_type": "code",
      "source": [
        "from IPython.display import Audio\n",
        "Audio('/content/output_tts.wav',autoplay=True)"
      ],
      "metadata": {
        "id": "jjfLMGrdm0DJ"
      },
      "execution_count": null,
      "outputs": []
    },
    {
      "cell_type": "markdown",
      "source": [
        "## flow (CFM) generate mel spec from audio vq codes"
      ],
      "metadata": {
        "id": "tLmvHPpGkvbm"
      }
    },
    {
      "cell_type": "code",
      "source": [
        "device = \"cuda\" if torch.cuda.is_available() else \"cpu\"\n",
        "tts_mel = tts_engine.common_cosy_model.model.flow.inference(\n",
        "    token=tensor_audio_token_ids.to(device),\n",
        "    token_len=torch.tensor([tensor_audio_token_ids.size(1)], dtype=torch.int32).to(device),\n",
        "    prompt_token=prompt_speaker_info[\"cosy_prompt_token\"].to(device),\n",
        "    prompt_token_len=prompt_speaker_info[\"cosy_prompt_token_len\"].to(device),\n",
        "    prompt_feat=prompt_speaker_info[\"cosy_speech_feat\"].to(torch.bfloat16).to(device),\n",
        "    prompt_feat_len=prompt_speaker_info[\"cosy_speech_feat_len\"].to(device),\n",
        "    embedding=prompt_speaker_info[\"cosy_speech_embedding\"].to(torch.bfloat16).to(device),\n",
        ")"
      ],
      "metadata": {
        "id": "t7F6GQrqkx_O"
      },
      "execution_count": null,
      "outputs": []
    },
    {
      "cell_type": "code",
      "source": [
        "print(tts_mel)"
      ],
      "metadata": {
        "id": "B3zkRmh7k1U6"
      },
      "execution_count": null,
      "outputs": []
    },
    {
      "cell_type": "markdown",
      "source": [
        "## vocoder(hifi) generate waveform from mel spec"
      ],
      "metadata": {
        "id": "IDLo0Inzf9Ip"
      }
    },
    {
      "cell_type": "code",
      "source": [
        "tts_speech_waveform = tts_engine.common_cosy_model.model.hift.inference(mel=tts_mel.float())[0].cpu()"
      ],
      "metadata": {
        "id": "BfXDfA_tlae9"
      },
      "execution_count": null,
      "outputs": []
    },
    {
      "cell_type": "code",
      "source": [
        "print(tts_speech_waveform)"
      ],
      "metadata": {
        "id": "e0i-QXfvlhtX"
      },
      "execution_count": null,
      "outputs": []
    },
    {
      "cell_type": "code",
      "source": [
        "import torchaudio\n",
        "torchaudio.save(f\"/content/output_tts_again.wav\", tts_speech_waveform, 22050)"
      ],
      "metadata": {
        "id": "JVcouPC9nVbh"
      },
      "execution_count": null,
      "outputs": []
    },
    {
      "cell_type": "code",
      "source": [
        "from IPython.display import Audio\n",
        "Audio('/content/output_tts_again.wav',autoplay=True)"
      ],
      "metadata": {
        "id": "JFjjqAeqnbLr"
      },
      "execution_count": null,
      "outputs": []
    },
    {
      "cell_type": "markdown",
      "source": [
        "## batch generate waveform from aduio vq codes"
      ],
      "metadata": {
        "id": "53DPvG-LrehZ"
      }
    },
    {
      "cell_type": "code",
      "source": [
        "print(tensor_audio_token_ids,tensor_audio_token_ids.shape)"
      ],
      "metadata": {
        "id": "yCFOhZWYsA0f"
      },
      "execution_count": null,
      "outputs": []
    },
    {
      "cell_type": "code",
      "source": [
        "# prompt: 将tensor_audio_token_ids 按 batch_size 批量 生成\n",
        "\n",
        "import torch\n",
        "\n",
        "# Assuming tensor_audio_token_ids is already defined as in your original code\n",
        "# and has shape (1, sequence_length)\n",
        "\n",
        "def batch_generate(tensor_audio_token_ids, batch_size):\n",
        "  \"\"\"\n",
        "  Generates batches of audio token IDs.\n",
        "\n",
        "  Args:\n",
        "    tensor_audio_token_ids: A tensor of audio token IDs.\n",
        "    batch_size: The desired batch size.\n",
        "\n",
        "  Returns:\n",
        "    A list of tensors, where each tensor is a batch of audio token IDs.\n",
        "  \"\"\"\n",
        "  sequence_length = tensor_audio_token_ids.shape[1]\n",
        "  num_batches = (sequence_length + batch_size - 1) // batch_size\n",
        "  batched_ids = []\n",
        "\n",
        "  for i in range(num_batches):\n",
        "      start_index = i * batch_size\n",
        "      end_index = min((i + 1) * batch_size, sequence_length)\n",
        "      batch = tensor_audio_token_ids[:, start_index:end_index]\n",
        "      batched_ids.append(batch)\n",
        "\n",
        "  return batched_ids"
      ],
      "metadata": {
        "id": "Pe0ddLherl51"
      },
      "execution_count": null,
      "outputs": []
    },
    {
      "cell_type": "code",
      "source": [
        "import math\n",
        "#batch_size = 30\n",
        "stream_factor=2 # >=2 increase for better speech quality, but rft slow (speech quality vs rft slow)\n",
        "batch_size = math.ceil(stream_factor*tts_engine.common_cosy_model.model.flow.input_frame_rate)\n",
        "print(batch_size)\n",
        "batched_tensor_audio_token_ids = batch_generate(tensor_audio_token_ids, batch_size)\n",
        "for batched_tensor_audio_token_id in batched_tensor_audio_token_ids:\n",
        "  print(batched_tensor_audio_token_id,batched_tensor_audio_token_id.shape)\n",
        "print(len(batched_tensor_audio_token_ids))"
      ],
      "metadata": {
        "id": "l6P8Rzzjr6DL"
      },
      "execution_count": null,
      "outputs": []
    },
    {
      "cell_type": "code",
      "source": [
        "sub_tts_speechs = []\n",
        "# Now you can iterate through the batched_tensor_audio_token_ids and process each batch\n",
        "for batch in batched_tensor_audio_token_ids:\n",
        "    print(batch.shape) # Print the shape of each batch\n",
        "    # Process each batch with tts_engine.common_cosy_model.token_to_wav_offline()\n",
        "    sub_tts_speech = tts_engine.common_cosy_model.token_to_wav_offline(\n",
        "        batch,\n",
        "        prompt_speaker_info[\"cosy_speech_feat\"].to(torch.bfloat16),  # Pass the correct input for this function\n",
        "        prompt_speaker_info[\"cosy_speech_feat_len\"],\n",
        "        prompt_speaker_info[\"cosy_prompt_token\"],\n",
        "        prompt_speaker_info[\"cosy_prompt_token_len\"],\n",
        "        prompt_speaker_info[\"cosy_speech_embedding\"].to(torch.bfloat16),\n",
        "    )\n",
        "    print(sub_tts_speech.shape)\n",
        "    sub_tts_speechs.append(sub_tts_speech)\n"
      ],
      "metadata": {
        "id": "sRqJTf6gsLBP"
      },
      "execution_count": null,
      "outputs": []
    },
    {
      "cell_type": "code",
      "source": [
        "print(len(sub_tts_speechs))"
      ],
      "metadata": {
        "id": "ALnaOFhvslVd"
      },
      "execution_count": null,
      "outputs": []
    },
    {
      "cell_type": "code",
      "source": [
        "# prompt: 将 sub_tts_speechs 合并成 一个 tensor\n",
        "\n",
        "import torch\n",
        "\n",
        "# Assuming sub_tts_speechs is a list of tensors\n",
        "# and all tensors in the list have the same number of channels\n",
        "# but possibly different lengths.\n",
        "\n",
        "def merge_tensors(sub_tts_speechs):\n",
        "  \"\"\"Merges a list of tensors into a single tensor.\n",
        "\n",
        "  Args:\n",
        "    sub_tts_speechs: A list of tensors.\n",
        "\n",
        "  Returns:\n",
        "    A single tensor with all the sub tensors concatenated along the time dimension.\n",
        "    Returns None if the input list is empty or contains tensors with inconsistent shapes.\n",
        "  \"\"\"\n",
        "  if not sub_tts_speechs:\n",
        "    return None\n",
        "\n",
        "  num_channels = sub_tts_speechs[0].shape[0]\n",
        "  total_length = sum(tensor.shape[1] for tensor in sub_tts_speechs)\n",
        "  merged_tensor = torch.empty(num_channels, total_length, dtype=sub_tts_speechs[0].dtype, device=sub_tts_speechs[0].device)\n",
        "  current_position = 0\n",
        "\n",
        "  for tensor in sub_tts_speechs:\n",
        "      if tensor.shape[0] != num_channels:\n",
        "          print(\"Error: Tensors have inconsistent number of channels.\")\n",
        "          return None\n",
        "\n",
        "      merged_tensor[:, current_position:current_position + tensor.shape[1]] = tensor\n",
        "      current_position += tensor.shape[1]\n",
        "\n",
        "  return merged_tensor\n",
        "\n",
        "\n"
      ],
      "metadata": {
        "id": "rwLUCu_CswMn"
      },
      "execution_count": null,
      "outputs": []
    },
    {
      "cell_type": "code",
      "source": [
        "merged_speech = merge_tensors(sub_tts_speechs)\n",
        "print(merged_speech)\n",
        "\n",
        "if merged_speech is not None:\n",
        "    print(merged_speech.shape)\n",
        "    torchaudio.save(f\"/content/merged_output.wav\", merged_speech, 22050)\n",
        "    print(\"Merged audio saved to /content/merged_output.wav\")\n",
        "else:\n",
        "    print(\"Could not merge audio tensors.\")"
      ],
      "metadata": {
        "id": "Lq_wqJL4G0ZM"
      },
      "execution_count": null,
      "outputs": []
    },
    {
      "cell_type": "code",
      "source": [
        "from IPython.display import Audio\n",
        "Audio('/content/merged_output.wav',autoplay=True)"
      ],
      "metadata": {
        "id": "zrCmMklmtmgN"
      },
      "execution_count": null,
      "outputs": []
    }
  ]
}