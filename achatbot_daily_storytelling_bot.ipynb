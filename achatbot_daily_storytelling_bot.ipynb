{
  "nbformat": 4,
  "nbformat_minor": 0,
  "metadata": {
    "colab": {
      "provenance": [],
      "machine_shape": "hm",
      "authorship_tag": "ABX9TyNXqMwVCtNPU3/17InpAVvg",
      "include_colab_link": true
    },
    "kernelspec": {
      "name": "python3",
      "display_name": "Python 3"
    },
    "language_info": {
      "name": "python"
    }
  },
  "cells": [
    {
      "cell_type": "markdown",
      "metadata": {
        "id": "view-in-github",
        "colab_type": "text"
      },
      "source": [
        "<a href=\"https://colab.research.google.com/github/weedge/doraemon-nb/blob/main/achatbot_daily_storytelling_bot.ipynb\" target=\"_parent\"><img src=\"https://colab.research.google.com/assets/colab-badge.svg\" alt=\"Open In Colab\"/></a>"
      ]
    },
    {
      "cell_type": "code",
      "execution_count": null,
      "metadata": {
        "id": "8x2vZWM5sw13"
      },
      "outputs": [],
      "source": [
        "!cd /content && rm -rf achatbot && git clone --recursive https://github.com/ai-bot-pro/achatbot.git"
      ]
    },
    {
      "cell_type": "code",
      "source": [
        "%cd /content/achatbot\n"
      ],
      "metadata": {
        "id": "GiZ_hTJHnyNO"
      },
      "execution_count": null,
      "outputs": []
    },
    {
      "cell_type": "code",
      "source": [
        "!bash scripts/pypi_achatbot.sh dev\n"
      ],
      "metadata": {
        "id": "vMd1iWE0n2-d"
      },
      "execution_count": null,
      "outputs": []
    },
    {
      "cell_type": "code",
      "source": [
        "!pip install -q \"dist/achatbot-0.0.7.2-py3-none-any.whl[daily_room_audio_stream,silero_vad_analyzer,sense_voice_asr,deep_translator,openai,google_ai,together_ai,tts_edge,queue]\"\n"
      ],
      "metadata": {
        "id": "zlYoQrrun5yE"
      },
      "execution_count": null,
      "outputs": []
    },
    {
      "cell_type": "markdown",
      "source": [
        "run bot task woker with bot.json, e.g.: dummy_bot.json\n",
        "\n",
        "- use daily/livekit room stream, u can click bot joined the room url, to start chat with bot with audio and camera stream,\n",
        "  - [daily](https://www.daily.co/) need DAILY_API_KEY\n",
        "- use openai/groq/together.ai api llm model need api key\n",
        "  - [openai](https://openai.com/) OPENAI_API_KEY\n",
        "  - [groq](https://groq.com/) GROQ_API_KEY\n",
        "  - [together.ai](https://www.together.ai/) TOGETHER_API_KEY\n",
        "- use image gen model:\n",
        "  - [openai](https://openai.com/) OPENAI_API_KEY\n",
        "  - [together.ai](https://www.together.ai/) TOGETHER_API_KEY\n",
        "  - [huggingface api](https://huggingface.co/docs/api-inference/tasks/text-to-image) HF_API_KEY\n",
        "  - [HFStableDiffusion](https://huggingface.co/docs/diffusers/using-diffusers/conditional_image_generation) HF_TOKEN/HF_API_KEY\n",
        "\n",
        "\n"
      ],
      "metadata": {
        "id": "DVnxKXITzLnr"
      }
    },
    {
      "cell_type": "code",
      "source": [
        "from google.colab import userdata\n",
        "DAILY_API_KEY=userdata.get('DAILY_API_KEY')\n",
        "TOGETHER_API_KEY=userdata.get('TOGETHER_API_KEY')\n",
        "HF_TOKEN=userdata.get('HF_TOKEN')\n"
      ],
      "metadata": {
        "id": "OuKR4j5_x0jE"
      },
      "execution_count": null,
      "outputs": []
    },
    {
      "cell_type": "code",
      "source": [
        "!huggingface-cli login --token $HF_TOKEN --add-to-git-credential"
      ],
      "metadata": {
        "id": "dcp1LW2bsHQ9"
      },
      "execution_count": null,
      "outputs": []
    },
    {
      "cell_type": "code",
      "source": [
        "!huggingface-cli download FunAudioLLM/SenseVoiceSmall  --local-dir ./models/FunAudioLLM/SenseVoiceSmall --local-dir-use-symlinks False\n"
      ],
      "metadata": {
        "id": "Ifz9IaK9GEzf"
      },
      "execution_count": null,
      "outputs": []
    },
    {
      "cell_type": "code",
      "source": [
        "!cat /content/daily_storytelling_bot.json"
      ],
      "metadata": {
        "colab": {
          "base_uri": "https://localhost:8080/"
        },
        "id": "TN0cN49ZH2uT",
        "outputId": "dd8f4488-ecce-4eb8-f5c7-4da64f887961"
      },
      "execution_count": 12,
      "outputs": [
        {
          "output_type": "stream",
          "name": "stdout",
          "text": [
            "{\n",
            "  \"chat_bot_name\": \"DailyStoryTellingBot\",\n",
            "  \"room_name\": \"chat-room\",\n",
            "  \"room_url\": \"\",\n",
            "  \"token\": \"\",\n",
            "  \"room_manager\": {\n",
            "    \"tag\": \"daily_room\",\n",
            "    \"args\": {\n",
            "      \"privacy\": \"public\"\n",
            "    }\n",
            "  },\n",
            "  \"services\": {\n",
            "    \"pipeline\": \"achatbot\",\n",
            "    \"vad\": \"silero\",\n",
            "    \"asr\": \"sense_voice\",\n",
            "    \"llm\": \"together\",\n",
            "    \"gen_img\": \"together\",\n",
            "    \"tts\": \"edge\"\n",
            "  },\n",
            "  \"config\": {\n",
            "    \"vad\": {\n",
            "      \"tag\": \"silero_vad_analyzer\",\n",
            "      \"args\": { \"stop_secs\": 0.7 }\n",
            "    },\n",
            "    \"asr\": {\n",
            "      \"tag\": \"sense_voice_asr\",\n",
            "      \"args\": {\n",
            "        \"language\": \"zn\",\n",
            "        \"model_name_or_path\": \"./models/FunAudioLLM/SenseVoiceSmall\"\n",
            "      }\n",
            "    },\n",
            "    \"llm\": {\n",
            "      \"tag\": \"openai_llm_processor\",\n",
            "      \"base_url\": \"https://api.together.xyz/v1\",\n",
            "      \"model\": \"Qwen/Qwen2.5-72B-Instruct-Turbo\",\n",
            "      \"language\": \"zh-CN\",\n",
            "      \"messages\": []\n",
            "    },\n",
            "    \"img_gen\": {\n",
            "      \"tag\": \"TogetherImageGenProcessor\",\n",
            "      \"args\": {\n",
            "        \"gen_rate_s\": 10,\n",
            "        \"model\": \"black-forest-labs/FLUX.1-schnell-Free\"\n",
            "      }\n",
            "    },\n",
            "    \"tts\": {\n",
            "      \"tag\": \"tts_edge\",\n",
            "      \"args\": {\n",
            "        \"voice_name\": \"zh-CN-YunjianNeural\",\n",
            "        \"language\": \"zh-CN\",\n",
            "        \"gender\": \"Male\"\n",
            "      }\n",
            "    }\n",
            "  },\n",
            "  \"config_list\": []\n",
            "}\n"
          ]
        }
      ]
    },
    {
      "cell_type": "code",
      "source": [
        "!DAILY_API_KEY=$DAILY_API_KEY TOGETHER_API_KEY=$TOGETHER_API_KEY \\\n",
        "  python -m src.cmd.bots.main -f /content/daily_storytelling_bot.json"
      ],
      "metadata": {
        "colab": {
          "base_uri": "https://localhost:8080/"
        },
        "id": "ftEP-y-AIFnx",
        "outputId": "104a80cc-36a2-4619-fb2c-2ce68eca916a"
      },
      "execution_count": 13,
      "outputs": [
        {
          "output_type": "stream",
          "name": "stdout",
          "text": [
            "{\n",
            "    \"chat_bot_name\": \"DailyStoryTellingBot\",\n",
            "    \"config\": {\n",
            "        \"asr\": {\n",
            "            \"args\": {\n",
            "                \"language\": \"zn\",\n",
            "                \"model_name_or_path\": \"./models/FunAudioLLM/SenseVoiceSmall\"\n",
            "            },\n",
            "            \"tag\": \"sense_voice_asr\"\n",
            "        },\n",
            "        \"img_gen\": {\n",
            "            \"args\": {\n",
            "                \"gen_rate_s\": 10,\n",
            "                \"model\": \"black-forest-labs/FLUX.1-schnell-Free\"\n",
            "            },\n",
            "            \"tag\": \"TogetherImageGenProcessor\"\n",
            "        },\n",
            "        \"llm\": {\n",
            "            \"base_url\": \"https://api.together.xyz/v1\",\n",
            "            \"language\": \"zh-CN\",\n",
            "            \"messages\": [],\n",
            "            \"model\": \"Qwen/Qwen2.5-72B-Instruct-Turbo\",\n",
            "            \"tag\": \"openai_llm_processor\"\n",
            "        },\n",
            "        \"tts\": {\n",
            "            \"args\": {\n",
            "                \"gender\": \"Male\",\n",
            "                \"language\": \"zh-CN\",\n",
            "                \"voice_name\": \"zh-CN-YunjianNeural\"\n",
            "            },\n",
            "            \"tag\": \"tts_edge\"\n",
            "        },\n",
            "        \"vad\": {\n",
            "            \"args\": {\n",
            "                \"stop_secs\": 0.7\n",
            "            },\n",
            "            \"tag\": \"silero_vad_analyzer\"\n",
            "        }\n",
            "    },\n",
            "    \"config_list\": [],\n",
            "    \"room_manager\": {\n",
            "        \"args\": {\n",
            "            \"privacy\": \"public\"\n",
            "        },\n",
            "        \"tag\": \"daily_room\"\n",
            "    },\n",
            "    \"room_name\": \"chat-room\",\n",
            "    \"room_url\": \"\",\n",
            "    \"services\": {\n",
            "        \"asr\": \"sense_voice\",\n",
            "        \"gen_img\": \"together\",\n",
            "        \"llm\": \"together\",\n",
            "        \"pipeline\": \"achatbot\",\n",
            "        \"tts\": \"edge\",\n",
            "        \"vad\": \"silero\"\n",
            "    },\n",
            "    \"token\": \"\"\n",
            "}\n",
            "2024-11-01 11:22:13,467 - chat-bot - INFO - /content/achatbot/src/cmd/bots/main.py:42 - <module> - bot_config:{'chat_bot_name': 'DailyStoryTellingBot', 'room_name': 'chat-room', 'room_url': '', 'token': '', 'room_manager': {'tag': 'daily_room', 'args': {'privacy': 'public'}}, 'services': {'pipeline': 'achatbot', 'vad': 'silero', 'asr': 'sense_voice', 'llm': 'together', 'gen_img': 'together', 'tts': 'edge'}, 'config': {'vad': {'tag': 'silero_vad_analyzer', 'args': {'stop_secs': 0.7}}, 'asr': {'tag': 'sense_voice_asr', 'args': {'language': 'zn', 'model_name_or_path': './models/FunAudioLLM/SenseVoiceSmall'}}, 'llm': {'tag': 'openai_llm_processor', 'base_url': 'https://api.together.xyz/v1', 'model': 'Qwen/Qwen2.5-72B-Instruct-Turbo', 'language': 'zh-CN', 'messages': []}, 'img_gen': {'tag': 'TogetherImageGenProcessor', 'args': {'gen_rate_s': 10, 'model': 'black-forest-labs/FLUX.1-schnell-Free'}}, 'tts': {'tag': 'tts_edge', 'args': {'voice_name': 'zh-CN-YunjianNeural', 'language': 'zh-CN', 'gender': 'Male'}}}, 'config_list': []}\n",
            "2024-11-01 11:22:13,467 - chat-bot - INFO - /content/achatbot/src/cmd/bots/run.py:93 - __init__ - run_bot_info: is_agent=False chat_bot_name='DailyStoryTellingBot' config={'vad': {'tag': 'silero_vad_analyzer', 'args': {'stop_secs': 0.7}}, 'asr': {'tag': 'sense_voice_asr', 'args': {'language': 'zn', 'model_name_or_path': './models/FunAudioLLM/SenseVoiceSmall'}}, 'llm': {'tag': 'openai_llm_processor', 'base_url': 'https://api.together.xyz/v1', 'model': 'Qwen/Qwen2.5-72B-Instruct-Turbo', 'language': 'zh-CN', 'messages': []}, 'img_gen': {'tag': 'TogetherImageGenProcessor', 'args': {'gen_rate_s': 10, 'model': 'black-forest-labs/FLUX.1-schnell-Free'}}, 'tts': {'tag': 'tts_edge', 'args': {'voice_name': 'zh-CN-YunjianNeural', 'language': 'zh-CN', 'gender': 'Male'}}} room_name='chat-room' room_url='' token='' config_list=[] services={'pipeline': 'achatbot', 'vad': 'silero', 'asr': 'sense_voice', 'llm': 'together', 'gen_img': 'together', 'tts': 'edge'} task_connector=None room_manager=EngineClassInfo(tag='daily_room', args={'privacy': 'public'})\n",
            "2024-11-01 11:22:13,557 - chat-bot - INFO - /content/achatbot/src/common/factory.py:68 - get_engine_by_tag - use daily_room engine\n",
            "2024-11-01 11:22:13,557 - chat-bot - INFO - /content/achatbot/src/common/factory.py:33 - get_instance - class: <class 'src.services.help.daily_room.DailyRoom'> args: {'privacy': 'public'}\n",
            "2024-11-01 11:22:13,557 - chat-bot - INFO - /content/achatbot/src/services/help/__init__.py:33 - initEngine - initEngine: daily_room, TAG:daily_room | DailyRoom\n",
            "2024-11-01 11:22:14,634 - chat-bot - INFO - /content/achatbot/src/services/help/daily_room.py:40 - create_room - Failed to get room chat-room from Daily REST API: Room not found: chat-room, to new a room: chat-room\n",
            "2024-11-01 11:22:15,337 - chat-bot - INFO - /content/achatbot/src/cmd/bots/base.py:63 - init_bot_config - ai bot_config: vad=VADConfig(tag='silero_vad_analyzer', args={'stop_secs': 0.7}) asr=ASRConfig(tag='sense_voice_asr', args={'language': 'zn', 'model_name_or_path': './models/FunAudioLLM/SenseVoiceSmall'}) llm=LLMConfig(base_url='https://api.together.xyz/v1', model='Qwen/Qwen2.5-72B-Instruct-Turbo', language='zh-CN', messages=[], tools=None, tag='openai_llm_processor', args=None) vision_llm=None vision_detector=None vision_ocr=None tts=TTSConfig(voice=None, language=None, tag='tts_edge', args={'voice_name': 'zh-CN-YunjianNeural', 'language': 'zh-CN', 'gender': 'Male'}) img_gen=ImageGenConfig(tag='TogetherImageGenProcessor', args={'gen_rate_s': 10, 'model': 'black-forest-labs/FLUX.1-schnell-Free'}) extends=None\n",
            "2024-11-01 11:22:16,994 - chat-bot - INFO - /content/achatbot/src/common/factory.py:68 - get_engine_by_tag - use silero_vad_analyzer engine\n",
            "2024-11-01 11:22:16,994 - chat-bot - INFO - /content/achatbot/src/common/factory.py:33 - get_instance - class: <class 'src.modules.speech.vad_analyzer.silero.SileroVADAnalyzer'> args: {'sample_rate': 16000, 'num_channels': 1, 'confidence': 0.7, 'start_secs': 0.2, 'stop_secs': 0.8, 'min_volume': 0.6, 'repo_or_dir': 'snakers4/silero-vad', 'model': 'silero_vad', 'source': 'github', 'force_reload': False, 'trust_repo': True, 'verbose': True, 'onnx': False, 'silero_sensitivity': 0.4, 'is_pad_tensor': True, 'check_frames_mode': 1}\n",
            "Downloading: \"https://github.com/snakers4/silero-vad/zipball/master\" to /root/.cache/torch/hub/master.zip\n",
            "2024-11-01 11:22:18,667 - chat-bot - INFO - /content/achatbot/src/modules/speech/vad_analyzer/__init__.py:60 - initVADAnalyzerEngine - initVADEngine: silero_vad_analyzer, TAG:silero_vad_analyzer | SileroVADAnalyzer\n",
            "2024-11-01 11:22:18,672 - chat-bot - INFO - /content/achatbot/src/common/factory.py:68 - get_engine_by_tag - use sense_voice_asr engine\n",
            "2024-11-01 11:22:18,673 - chat-bot - INFO - /content/achatbot/src/common/factory.py:33 - get_instance - class: <class 'src.modules.speech.asr.sense_voice_asr.SenseVoiceAsr'> args: {'download_path': '', 'model_name_or_path': './models/FunAudioLLM/SenseVoiceSmall', 'language': 'zn', 'verbose': True, 'prompt': '', 'sample_rate': 16000, 'device': None}\n",
            "2024-11-01 11:22:19,465 - numexpr.utils - INFO - /usr/local/lib/python3.10/dist-packages/numexpr/utils.py:161 - _init_num_threads - NumExpr defaulting to 8 threads.\n",
            "The cache for model files in Transformers v4.22.0 has been updated. Migrating your old cache. This is a one-time only operation. You can interrupt this and resume the migration later on by calling `transformers.utils.move_cache()`.\n",
            "0it [00:00, ?it/s]\n",
            "2024-11-01 11:22:25,089 - chat-bot - INFO - /usr/local/lib/python3.10/dist-packages/funasr/register.py:55 - decorator - New registry table added: preprocessor_classes\n",
            "Key Conformer already exists in model_classes, re-register\n",
            "2024-11-01 11:22:26,045 - chat-bot - INFO - /usr/local/lib/python3.10/dist-packages/funasr/register.py:55 - decorator - New registry table added: adaptor_classes\n",
            "Key Linear already exists in adaptor_classes, re-register\n",
            "Key TransformerDecoder already exists in decoder_classes, re-register\n",
            "Key LightweightConvolutionTransformerDecoder already exists in decoder_classes, re-register\n",
            "Key LightweightConvolution2DTransformerDecoder already exists in decoder_classes, re-register\n",
            "Key DynamicConvolutionTransformerDecoder already exists in decoder_classes, re-register\n",
            "Key DynamicConvolution2DTransformerDecoder already exists in decoder_classes, re-register\n",
            "2024-11-01 11:22:26,620 - chat-bot - INFO - /usr/local/lib/python3.10/dist-packages/funasr/register.py:55 - decorator - New registry table added: lid_predictor_classes\n",
            "Key SenseVoiceEncoderSmall already exists in encoder_classes, re-register\n",
            "Key SenseVoiceSmall already exists in model_classes, re-register\n",
            "2024-11-01 11:22:26,736 - chat-bot - INFO - /usr/local/lib/python3.10/dist-packages/funasr/auto/auto_model.py:177 - build_model - download models from model hub: ms\n",
            "Detect model requirements, begin to install it: ./models/FunAudioLLM/SenseVoiceSmall/requirements.txt\n",
            "install model requirements successfully\n",
            "Loading remote code failed: model, No module named 'model'\n",
            "2024-11-01 11:22:42,663 - chat-bot - INFO - /usr/local/lib/python3.10/dist-packages/funasr/auto/auto_model.py:269 - build_model - Loading pretrained params from ./models/FunAudioLLM/SenseVoiceSmall/model.pt\n",
            "2024-11-01 11:22:42,668 - chat-bot - INFO - /usr/local/lib/python3.10/dist-packages/funasr/train_utils/load_pretrained_model.py:36 - load_pretrained_model - ckpt: ./models/FunAudioLLM/SenseVoiceSmall/model.pt\n",
            "2024-11-01 11:22:47,655 - chat-bot - INFO - /usr/local/lib/python3.10/dist-packages/funasr/train_utils/load_pretrained_model.py:52 - load_pretrained_model - scope_map: ['module.', 'None']\n",
            "2024-11-01 11:22:47,655 - chat-bot - INFO - /usr/local/lib/python3.10/dist-packages/funasr/train_utils/load_pretrained_model.py:58 - load_pretrained_model - excludes: None\n",
            "2024-11-01 11:22:47,718 - chat-bot - INFO - /usr/local/lib/python3.10/dist-packages/funasr/train_utils/load_pretrained_model.py:103 - load_pretrained_model - Loading ckpt: ./models/FunAudioLLM/SenseVoiceSmall/model.pt, status: <All keys matched successfully>\n",
            "2024-11-01 11:22:48,204 - chat-bot - INFO - /content/achatbot/src/common/factory.py:68 - get_engine_by_tag - use tts_edge engine\n",
            "2024-11-01 11:22:48,204 - chat-bot - INFO - /content/achatbot/src/common/factory.py:33 - get_instance - class: <class 'src.modules.speech.tts.edge_tts.EdgeTTS'> args: {'language': 'zh-CN', 'gender': 'Male', 'voice_name': 'zh-CN-YunjianNeural', 'rate': '+15%', 'volume': '+0%', 'pitch': '+0Hz'}\n",
            "2024-11-01 11:22:48,593 - chat-bot - INFO - /content/achatbot/src/transports/daily.py:56 - __init__ - DailyTransport register event names: dict_keys(['on_joined', 'on_left', 'on_app_message', 'on_call_state_updated', 'on_dialin_ready', 'on_dialout_answered', 'on_dialout_connected', 'on_dialout_stopped', 'on_dialout_error', 'on_dialout_warning', 'on_first_participant_joined', 'on_participant_joined', 'on_participant_left', 'on_participant_updated'])\n",
            "2024-11-01 11:22:48,728 - chat-bot - INFO - /content/achatbot/src/services/daily_client.py:170 - join - Joining https://weedge.daily.co/chat-room\n",
            "2024-11-01 11:22:49,142 - chat-bot - INFO - /content/achatbot/src/cmd/bots/base_daily.py:34 - on_call_state_updated - Call state joining \n",
            "2024-11-01 11:22:49,390 - chat-bot - INFO - /content/achatbot/src/cmd/bots/base_daily.py:34 - on_call_state_updated - Call state joined \n",
            "2024-11-01 11:22:49,870 - chat-bot - INFO - /content/achatbot/src/services/daily_client.py:192 - join - Joined https://weedge.daily.co/chat-room\n",
            "2024-11-01 11:22:57,846 - chat-bot - INFO - /content/achatbot/src/services/daily_client.py:382 - on_participant_joined - Participant joined 2bef060a-93cb-4bdd-948d-44233d29acac\n",
            "2024-11-01 11:22:57,846 - chat-bot - INFO - /content/achatbot/src/cmd/bots/base_daily.py:17 - on_first_participant_joined - First participant 2bef060a-93cb-4bdd-948d-44233d29acac joined\n",
            "2024-11-01 11:22:57,847 - chat-bot - INFO - /content/achatbot/src/processors/llm/openai_llm_processor.py:106 - _stream_chat_completions - Generating chat context messages: [{\"role\": \"system\", \"content\": \"You are a creative storyteller who loves to tell whimsical, fantastical stories.         Your goal is to craft an engaging and fun story.         Start by asking the user what kind of story they'd like to hear. Don't provide any examples.         Keep your response to only a few sentences.        Please ensure your responses should be in Chinese simplified(\\u7b80\\u4f53\\u4e2d\\u6587).\", \"name\": \"system\"}]\n",
            "2024-11-01 11:22:58,738 - httpx - INFO - /usr/local/lib/python3.10/dist-packages/httpx/_client.py:1786 - _send_single_request - HTTP Request: POST https://api.together.xyz/v1/chat/completions \"HTTP/1.1 200 OK\"\n",
            "2024-11-01 11:22:58,747 - chat-bot - INFO - /usr/local/lib/python3.10/dist-packages/apipeline/processors/logger.py:34 - process_frame - OpenAILLMProcessor#0 ---> FrameLogger#0 Frame: TextFrame#0(text: 你想)\n",
            "2024-11-01 11:22:59,004 - chat-bot - INFO - /usr/local/lib/python3.10/dist-packages/apipeline/processors/logger.py:34 - process_frame - OpenAILLMProcessor#0 ---> FrameLogger#0 Frame: TextFrame#1(text: 听)\n",
            "2024-11-01 11:22:59,005 - chat-bot - INFO - /usr/local/lib/python3.10/dist-packages/apipeline/processors/logger.py:34 - process_frame - OpenAILLMProcessor#0 ---> FrameLogger#0 Frame: TextFrame#2(text: 一个)\n",
            "2024-11-01 11:22:59,005 - chat-bot - INFO - /usr/local/lib/python3.10/dist-packages/apipeline/processors/logger.py:34 - process_frame - OpenAILLMProcessor#0 ---> FrameLogger#0 Frame: TextFrame#3(text: 怎)\n",
            "2024-11-01 11:22:59,006 - chat-bot - INFO - /usr/local/lib/python3.10/dist-packages/apipeline/processors/logger.py:34 - process_frame - OpenAILLMProcessor#0 ---> FrameLogger#0 Frame: TextFrame#4(text: 样的)\n",
            "2024-11-01 11:22:59,006 - chat-bot - INFO - /usr/local/lib/python3.10/dist-packages/apipeline/processors/logger.py:34 - process_frame - OpenAILLMProcessor#0 ---> FrameLogger#0 Frame: TextFrame#5(text: 故事)\n",
            "2024-11-01 11:22:59,006 - chat-bot - INFO - /usr/local/lib/python3.10/dist-packages/apipeline/processors/logger.py:34 - process_frame - OpenAILLMProcessor#0 ---> FrameLogger#0 Frame: TextFrame#6(text: 呢)\n",
            "2024-11-01 11:22:59,007 - chat-bot - INFO - /usr/local/lib/python3.10/dist-packages/apipeline/processors/logger.py:34 - process_frame - OpenAILLMProcessor#0 ---> FrameLogger#0 Frame: TextFrame#7(text: ？)\n",
            "2024-11-01 11:22:59,007 - chat-bot - INFO - /content/achatbot/src/processors/speech/tts/tts_processor.py:54 - run_tts - Generating TTS: [你想听一个怎样的故事呢？]\n",
            "2024-11-01 11:22:59,868 - chat-bot - INFO - /usr/local/lib/python3.10/dist-packages/apipeline/processors/logger.py:34 - process_frame - OpenAILLMProcessor#0 ---> FrameLogger#0 Frame: TextFrame#9(text: 是)\n",
            "2024-11-01 11:22:59,869 - chat-bot - INFO - /usr/local/lib/python3.10/dist-packages/apipeline/processors/logger.py:34 - process_frame - OpenAILLMProcessor#0 ---> FrameLogger#0 Frame: TextFrame#10(text: 关于)\n",
            "2024-11-01 11:22:59,869 - chat-bot - INFO - /usr/local/lib/python3.10/dist-packages/apipeline/processors/logger.py:34 - process_frame - OpenAILLMProcessor#0 ---> FrameLogger#0 Frame: TextFrame#11(text: 勇敢)\n",
            "2024-11-01 11:22:59,870 - chat-bot - INFO - /usr/local/lib/python3.10/dist-packages/apipeline/processors/logger.py:34 - process_frame - OpenAILLMProcessor#0 ---> FrameLogger#0 Frame: TextFrame#12(text: 的)\n",
            "2024-11-01 11:22:59,870 - chat-bot - INFO - /usr/local/lib/python3.10/dist-packages/apipeline/processors/logger.py:34 - process_frame - OpenAILLMProcessor#0 ---> FrameLogger#0 Frame: TextFrame#13(text: 冒险)\n",
            "2024-11-01 11:22:59,870 - chat-bot - INFO - /usr/local/lib/python3.10/dist-packages/apipeline/processors/logger.py:34 - process_frame - OpenAILLMProcessor#0 ---> FrameLogger#0 Frame: TextFrame#14(text: ，)\n",
            "2024-11-01 11:22:59,873 - chat-bot - INFO - /usr/local/lib/python3.10/dist-packages/apipeline/processors/logger.py:34 - process_frame - OpenAILLMProcessor#0 ---> FrameLogger#0 Frame: TextFrame#15(text: 还是)\n",
            "2024-11-01 11:22:59,873 - chat-bot - INFO - /usr/local/lib/python3.10/dist-packages/apipeline/processors/logger.py:34 - process_frame - OpenAILLMProcessor#0 ---> FrameLogger#0 Frame: TextFrame#16(text: 奇妙)\n",
            "2024-11-01 11:22:59,873 - chat-bot - INFO - /usr/local/lib/python3.10/dist-packages/apipeline/processors/logger.py:34 - process_frame - OpenAILLMProcessor#0 ---> FrameLogger#0 Frame: TextFrame#17(text: 的)\n",
            "2024-11-01 11:22:59,873 - chat-bot - INFO - /usr/local/lib/python3.10/dist-packages/apipeline/processors/logger.py:34 - process_frame - OpenAILLMProcessor#0 ---> FrameLogger#0 Frame: TextFrame#18(text: 魔法)\n",
            "2024-11-01 11:22:59,874 - chat-bot - INFO - /usr/local/lib/python3.10/dist-packages/apipeline/processors/logger.py:34 - process_frame - OpenAILLMProcessor#0 ---> FrameLogger#0 Frame: TextFrame#19(text: ，)\n",
            "2024-11-01 11:22:59,874 - chat-bot - INFO - /usr/local/lib/python3.10/dist-packages/apipeline/processors/logger.py:34 - process_frame - OpenAILLMProcessor#0 ---> FrameLogger#0 Frame: TextFrame#20(text: 或者是)\n",
            "2024-11-01 11:22:59,874 - chat-bot - INFO - /usr/local/lib/python3.10/dist-packages/apipeline/processors/logger.py:34 - process_frame - OpenAILLMProcessor#0 ---> FrameLogger#0 Frame: TextFrame#21(text: 温馨)\n",
            "2024-11-01 11:22:59,875 - chat-bot - INFO - /usr/local/lib/python3.10/dist-packages/apipeline/processors/logger.py:34 - process_frame - OpenAILLMProcessor#0 ---> FrameLogger#0 Frame: TextFrame#22(text: 的)\n",
            "2024-11-01 11:22:59,875 - chat-bot - INFO - /usr/local/lib/python3.10/dist-packages/apipeline/processors/logger.py:34 - process_frame - OpenAILLMProcessor#0 ---> FrameLogger#0 Frame: TextFrame#23(text: 友情)\n",
            "2024-11-01 11:22:59,875 - chat-bot - INFO - /usr/local/lib/python3.10/dist-packages/apipeline/processors/logger.py:34 - process_frame - OpenAILLMProcessor#0 ---> FrameLogger#0 Frame: TextFrame#24(text: ？)\n",
            "2024-11-01 11:22:59,875 - chat-bot - INFO - /content/achatbot/src/processors/speech/tts/tts_processor.py:54 - run_tts - Generating TTS: [是关于勇敢的冒险，还是奇妙的魔法，或者是温馨的友情？]\n",
            "2024-11-01 11:23:08,037 - chat-bot - INFO - /content/achatbot/src/services/daily_client.py:126 - send_message - daily send message:{'cue': 'user_turn'}, participant_id:None\n",
            "2024-11-01 11:23:12,674 - chat-bot - INFO - /content/achatbot/src/processors/speech/asr/asr_processor.py:67 - run_asr - sense_voice_asr Transcription: [温馨的友情]\n",
            "2024-11-01 11:23:12,791 - chat-bot - INFO - /content/achatbot/src/processors/llm/openai_llm_processor.py:106 - _stream_chat_completions - Generating chat context messages: [{\"role\": \"system\", \"content\": \"You are a creative storyteller who loves tell whimsical, fantastical stories. Your goal is to craft an engaging and fun story.\\n\\nResponses should use the format:  {[Image prompts]}  [story sentence] [END] {[Image prompts]} [story sentence] [END] ...\\nKeep response have 3-5 sentences. Include [END] after each sentence of the story.\\nPlease ensure Image prompts should be described in English.\\nPlease ensure story sentence should be in Chinese simplified(\\u7b80\\u4f53\\u4e2d\\u6587).\\n\\nStart each sentence with an image prompt, wrapped in triangle braces, that I can use to generate an illustration representing the upcoming scene.\\nImage prompts should always be wrapped in  braces, like this: { image prompt goes here }. Don't repeat.\\nYou should provide as much descriptive detail in your image prompt as you can to help recreate the current scene depicted by the sentence.\\nFor any recurring characters, you should provide a description of them in the image prompt each time, for example: {a brown fluffy dog ...}.\\nPlease do not include any character names in the image prompts, just their descriptions.\\nImage prompts should focus on key visual attributes of all characters each time, for example {a brown fluffy dog and the tiny red cat ...}.\\nPlease use the following structure for your image prompts: characters, setting, action, and mood.\\nImage prompts should be less than 200-300 characters and start in lowercase.\\nPlease ensure Image prompts should be described in English.\\n\\nAfter each response, Give a ask , for example how I'd like the story to continue and wait for my input. Ask should be in Chinese simplified(\\u7b80\\u4f53\\u4e2d\\u6587).\\n\\nPlease refrain from using any explicit language or content. Do not tell scary stories.\", \"name\": \"system\"}, {\"role\": \"user\", \"content\": \" \\u6e29\\u99a8\\u7684\\u53cb\\u60c5\", \"name\": \"user\"}]\n",
            "2024-11-01 11:23:12,795 - chat-bot - INFO - /content/achatbot/src/services/daily_client.py:126 - send_message - daily send message:{'cue': 'assistant_turn'}, participant_id:None\n",
            "2024-11-01 11:23:13,513 - httpx - INFO - /usr/local/lib/python3.10/dist-packages/httpx/_client.py:1786 - _send_single_request - HTTP Request: POST https://api.together.xyz/v1/chat/completions \"HTTP/1.1 200 OK\"\n",
            "2024-11-01 11:23:13,514 - chat-bot - INFO - /content/achatbot/src/services/daily_client.py:126 - send_message - daily send message:{'type': 'chatbot-metrics', 'metrics': {'ttfb': [{'processor': 'OpenAILLMProcessor#0', 'value': 0.7229471206665039}]}}, participant_id:None\n",
            "2024-11-01 11:23:15,626 - chat-bot - INFO - /usr/local/lib/python3.10/dist-packages/apipeline/processors/logger.py:34 - process_frame - GoogleTranslateProcessor#0 ---> FrameLogger#1 Frame: StoryImageFrame#1(text: Illustrative art of a small blue bird and a tiny brown rabbit sitting on a large, moss-covered rock in a sunlit forest. In the style of Studio Ghibli. colorful, whimsical, painterly, concept art.)\n",
            "2024-11-01 11:23:17,060 - chat-bot - INFO - /content/achatbot/src/processors/speech/tts/tts_processor.py:54 - run_tts - Generating TTS: [小蓝鸟和小棕兔坐在长满苔藓的大石头上，享受着温暖的阳光。]\n",
            "2024-11-01 11:23:17,060 - chat-bot - INFO - /content/achatbot/src/services/daily_client.py:126 - send_message - daily send message:{'type': 'chatbot-metrics', 'metrics': {'characters': [{'processor': 'TTSProcessor#0', 'value': 28}]}}, participant_id:None\n",
            "2024-11-01 11:23:17,876 - chat-bot - INFO - /content/achatbot/src/services/daily_client.py:126 - send_message - daily send message:{'type': 'chatbot-metrics', 'metrics': {'ttfb': [{'processor': 'TTSProcessor#0', 'value': 0.8161518573760986}]}}, participant_id:None\n",
            "2024-11-01 11:23:17,879 - chat-bot - INFO - /content/achatbot/src/services/daily_client.py:126 - send_message - daily send message:{'type': 'chatbot-metrics', 'metrics': {'processing': [{'processor': 'TTSProcessor#0', 'value': 0.81937575340271}]}}, participant_id:None\n",
            "2024-11-01 11:23:18,333 - chat-bot - INFO - /usr/local/lib/python3.10/dist-packages/apipeline/processors/logger.py:34 - process_frame - GoogleTranslateProcessor#0 ---> FrameLogger#1 Frame: StoryImageFrame#3(text: Illustrative art of the small blue bird and the tiny brown rabbit looking up at a tree with colorful flowers. In the style of Studio Ghibli. colorful, whimsical, painterly, concept art.)\n",
            "2024-11-01 11:23:24,447 - chat-bot - INFO - /content/achatbot/src/services/daily_client.py:126 - send_message - daily send message:{'cue': 'assistant_turn'}, participant_id:None\n",
            "2024-11-01 11:23:28,877 - chat-bot - INFO - /content/achatbot/src/processors/speech/tts/tts_processor.py:54 - run_tts - Generating TTS: [他们抬头看着一棵开满五彩花朵的大树，感到非常好奇。]\n",
            "2024-11-01 11:23:28,877 - chat-bot - INFO - /content/achatbot/src/services/daily_client.py:126 - send_message - daily send message:{'type': 'chatbot-metrics', 'metrics': {'characters': [{'processor': 'TTSProcessor#0', 'value': 25}]}}, participant_id:None\n",
            "2024-11-01 11:23:29,682 - chat-bot - INFO - /content/achatbot/src/services/daily_client.py:126 - send_message - daily send message:{'type': 'chatbot-metrics', 'metrics': {'ttfb': [{'processor': 'TTSProcessor#0', 'value': 0.8041455745697021}]}}, participant_id:None\n",
            "2024-11-01 11:23:29,684 - chat-bot - INFO - /content/achatbot/src/services/daily_client.py:126 - send_message - daily send message:{'type': 'chatbot-metrics', 'metrics': {'processing': [{'processor': 'TTSProcessor#0', 'value': 0.806847095489502}]}}, participant_id:None\n",
            "2024-11-01 11:23:29,956 - chat-bot - INFO - /usr/local/lib/python3.10/dist-packages/apipeline/processors/logger.py:34 - process_frame - GoogleTranslateProcessor#0 ---> FrameLogger#1 Frame: StoryImageFrame#5(text: Illustrative art of the small blue bird and the tiny brown rabbit exploring the forest floor covered with soft, green grass. In the style of Studio Ghibli. colorful, whimsical, painterly, concept art.)\n",
            "2024-11-01 11:23:34,777 - chat-bot - INFO - /content/achatbot/src/services/daily_client.py:126 - send_message - daily send message:{'cue': 'assistant_turn'}, participant_id:None\n",
            "2024-11-01 11:23:40,340 - chat-bot - INFO - /content/achatbot/src/processors/speech/tts/tts_processor.py:54 - run_tts - Generating TTS: [他们决定一起探索这片充满生机的森林，寻找更多的奇妙事物。]\n",
            "2024-11-01 11:23:40,340 - chat-bot - INFO - /content/achatbot/src/services/daily_client.py:126 - send_message - daily send message:{'type': 'chatbot-metrics', 'metrics': {'characters': [{'processor': 'TTSProcessor#0', 'value': 28}]}}, participant_id:None\n",
            "2024-11-01 11:23:41,091 - chat-bot - INFO - /content/achatbot/src/services/daily_client.py:126 - send_message - daily send message:{'type': 'chatbot-metrics', 'metrics': {'ttfb': [{'processor': 'TTSProcessor#0', 'value': 0.7509150505065918}]}}, participant_id:None\n",
            "2024-11-01 11:23:41,094 - chat-bot - INFO - /content/achatbot/src/services/daily_client.py:126 - send_message - daily send message:{'type': 'chatbot-metrics', 'metrics': {'processing': [{'processor': 'TTSProcessor#0', 'value': 0.7540550231933594}]}}, participant_id:None\n",
            "2024-11-01 11:23:41,098 - chat-bot - INFO - /content/achatbot/src/services/daily_client.py:126 - send_message - daily send message:{'type': 'chatbot-metrics', 'metrics': {'tokens': [{'processor': 'OpenAILLMProcessor#0', 'model': 'Qwen/Qwen2.5-72B-Instruct-Turbo', 'prompt_tokens': 367, 'completion_tokens': 137, 'total_tokens': 504}]}}, participant_id:None\n",
            "2024-11-01 11:23:41,100 - chat-bot - INFO - /content/achatbot/src/services/daily_client.py:126 - send_message - daily send message:{'type': 'chatbot-metrics', 'metrics': {'processing': [{'processor': 'OpenAILLMProcessor#0', 'value': 28.30930805206299}]}}, participant_id:None\n",
            "2024-11-01 11:23:41,101 - chat-bot - INFO - /content/achatbot/src/processors/speech/tts/tts_processor.py:54 - run_tts - Generating TTS: [你希望故事接下来发生什么？]\n",
            "2024-11-01 11:23:41,101 - chat-bot - INFO - /content/achatbot/src/services/daily_client.py:126 - send_message - daily send message:{'type': 'chatbot-metrics', 'metrics': {'characters': [{'processor': 'TTSProcessor#0', 'value': 13}]}}, participant_id:None\n",
            "2024-11-01 11:23:41,803 - chat-bot - INFO - /content/achatbot/src/services/daily_client.py:126 - send_message - daily send message:{'type': 'chatbot-metrics', 'metrics': {'ttfb': [{'processor': 'TTSProcessor#0', 'value': 0.702338695526123}]}}, participant_id:None\n",
            "2024-11-01 11:23:41,806 - chat-bot - INFO - /content/achatbot/src/services/daily_client.py:126 - send_message - daily send message:{'type': 'chatbot-metrics', 'metrics': {'processing': [{'processor': 'TTSProcessor#0', 'value': 0.7053084373474121}]}}, participant_id:None\n",
            "2024-11-01 11:23:42,218 - chat-bot - INFO - /content/achatbot/src/processors/speech/asr/asr_processor.py:67 - run_asr - sense_voice_asr Transcription: [yah]\n",
            "2024-11-01 11:23:42,511 - chat-bot - INFO - /content/achatbot/src/processors/speech/asr/asr_processor.py:67 - run_asr - sense_voice_asr Transcription: [う]\n",
            "2024-11-01 11:23:46,997 - chat-bot - INFO - /content/achatbot/src/services/daily_client.py:126 - send_message - daily send message:{'cue': 'assistant_turn'}, participant_id:None\n",
            "2024-11-01 11:23:49,847 - chat-bot - INFO - /content/achatbot/src/services/daily_client.py:126 - send_message - daily send message:{'cue': 'user_turn'}, participant_id:None\n",
            "2024-11-01 11:23:55,655 - chat-bot - INFO - /content/achatbot/src/processors/speech/asr/asr_processor.py:67 - run_asr - sense_voice_asr Transcription: [小蛮鸟和小兔子]\n",
            "2024-11-01 11:23:57,103 - chat-bot - INFO - /content/achatbot/src/processors/speech/asr/asr_processor.py:67 - run_asr - sense_voice_asr Transcription: [开心的玩耍]\n",
            "2024-11-01 11:23:57,271 - chat-bot - INFO - /content/achatbot/src/processors/llm/openai_llm_processor.py:106 - _stream_chat_completions - Generating chat context messages: [{\"role\": \"system\", \"content\": \"You are a creative storyteller who loves tell whimsical, fantastical stories. Your goal is to craft an engaging and fun story.\\n\\nResponses should use the format:  {[Image prompts]}  [story sentence] [END] {[Image prompts]} [story sentence] [END] ...\\nKeep response have 3-5 sentences. Include [END] after each sentence of the story.\\nPlease ensure Image prompts should be described in English.\\nPlease ensure story sentence should be in Chinese simplified(\\u7b80\\u4f53\\u4e2d\\u6587).\\n\\nStart each sentence with an image prompt, wrapped in triangle braces, that I can use to generate an illustration representing the upcoming scene.\\nImage prompts should always be wrapped in  braces, like this: { image prompt goes here }. Don't repeat.\\nYou should provide as much descriptive detail in your image prompt as you can to help recreate the current scene depicted by the sentence.\\nFor any recurring characters, you should provide a description of them in the image prompt each time, for example: {a brown fluffy dog ...}.\\nPlease do not include any character names in the image prompts, just their descriptions.\\nImage prompts should focus on key visual attributes of all characters each time, for example {a brown fluffy dog and the tiny red cat ...}.\\nPlease use the following structure for your image prompts: characters, setting, action, and mood.\\nImage prompts should be less than 200-300 characters and start in lowercase.\\nPlease ensure Image prompts should be described in English.\\n\\nAfter each response, Give a ask , for example how I'd like the story to continue and wait for my input. Ask should be in Chinese simplified(\\u7b80\\u4f53\\u4e2d\\u6587).\\n\\nPlease refrain from using any explicit language or content. Do not tell scary stories.\", \"name\": \"system\"}, {\"role\": \"user\", \"content\": \" \\u6e29\\u99a8\\u7684\\u53cb\\u60c5\", \"name\": \"user\"}, {\"role\": \"assistant\", \"content\": \" \\u5c0f\\u84dd\\u9e1f\\u548c\\u5c0f\\u68d5\\u5154\\u5750\\u5728\\u957f\\u6ee1\\u82d4\\u85d3\\u7684\\u5927\\u77f3\\u5934\\u4e0a\\uff0c\\u4eab\\u53d7\\u7740\\u6e29\\u6696\\u7684\\u9633\\u5149\\u3002 \\u4ed6\\u4eec\\u62ac\\u5934\\u770b\\u7740\\u4e00\\u68f5\\u5f00\\u6ee1\\u4e94\\u5f69\\u82b1\\u6735\\u7684\\u5927\\u6811\\uff0c\\u611f\\u5230\\u975e\\u5e38\\u597d\\u5947\\u3002 \\u4ed6\\u4eec\\u51b3\\u5b9a\\u4e00\\u8d77\\u63a2\\u7d22\\u8fd9\\u7247\\u5145\\u6ee1\\u751f\\u673a\\u7684\\u68ee\\u6797\\uff0c\\u5bfb\\u627e\\u66f4\\u591a\\u7684\\u5947\\u5999\\u4e8b\\u7269\\u3002 \\u4f60\\u5e0c\\u671b\\u6545\\u4e8b\\u63a5\\u4e0b\\u6765\\u53d1\\u751f\\u4ec0\\u4e48\\uff1f\", \"name\": \"assistant\"}, {\"role\": \"user\", \"content\": \" \\u5c0f\\u86ee\\u9e1f\\u548c\\u5c0f\\u5154\\u5b50 \\u5f00\\u5fc3\\u7684\\u73a9\\u800d\", \"name\": \"user\"}]\n",
            "2024-11-01 11:23:57,277 - chat-bot - INFO - /content/achatbot/src/services/daily_client.py:126 - send_message - daily send message:{'cue': 'assistant_turn'}, participant_id:None\n",
            "2024-11-01 11:23:57,673 - httpx - INFO - /usr/local/lib/python3.10/dist-packages/httpx/_client.py:1786 - _send_single_request - HTTP Request: POST https://api.together.xyz/v1/chat/completions \"HTTP/1.1 200 OK\"\n",
            "2024-11-01 11:23:57,673 - chat-bot - INFO - /content/achatbot/src/services/daily_client.py:126 - send_message - daily send message:{'type': 'chatbot-metrics', 'metrics': {'ttfb': [{'processor': 'OpenAILLMProcessor#0', 'value': 0.4021430015563965}]}}, participant_id:None\n",
            "2024-11-01 11:24:00,092 - chat-bot - INFO - /usr/local/lib/python3.10/dist-packages/apipeline/processors/logger.py:34 - process_frame - GoogleTranslateProcessor#0 ---> FrameLogger#1 Frame: StoryImageFrame#7(text: Illustrative art of a small blue bird and a small brown rabbit playing under a tree, surrounded by colorful flowers, with a joyful atmosphere. In the style of Studio Ghibli. colorful, whimsical, painterly, concept art.)\n",
            "2024-11-01 11:24:02,467 - chat-bot - INFO - /usr/local/lib/python3.10/dist-packages/apipeline/processors/logger.py:34 - process_frame - GoogleTranslateProcessor#0 ---> FrameLogger#1 Frame: StoryImageFrame#9(text: Illustrative art of the small blue bird and the small brown rabbit laughing and hopping around a meadow filled with wildflowers, the sun shining brightly. In the style of Studio Ghibli. colorful, whimsical, painterly, concept art.)\n",
            "2024-11-01 11:24:12,909 - chat-bot - INFO - /content/achatbot/src/services/daily_client.py:126 - send_message - daily send message:{'type': 'chatbot-metrics', 'metrics': {'tokens': [{'processor': 'OpenAILLMProcessor#0', 'model': 'Qwen/Qwen2.5-72B-Instruct-Turbo', 'prompt_tokens': 452, 'completion_tokens': 109, 'total_tokens': 561}]}}, participant_id:None\n",
            "2024-11-01 11:24:12,910 - chat-bot - INFO - /content/achatbot/src/services/daily_client.py:126 - send_message - daily send message:{'type': 'chatbot-metrics', 'metrics': {'processing': [{'processor': 'OpenAILLMProcessor#0', 'value': 15.639148235321045}]}}, participant_id:None\n",
            "2024-11-01 11:24:12,911 - chat-bot - INFO - /content/achatbot/src/processors/speech/tts/tts_processor.py:54 - run_tts - Generating TTS: [小蓝鸟和小棕兔在大树下开心地玩耍，追逐着飘落的花瓣。  他们笑闹着，跳过一片开满野花的草地，阳光洒在他们身上，温暖而明媚。 你希望故事接下来发生什么？]\n",
            "2024-11-01 11:24:12,911 - chat-bot - INFO - /content/achatbot/src/services/daily_client.py:126 - send_message - daily send message:{'type': 'chatbot-metrics', 'metrics': {'characters': [{'processor': 'TTSProcessor#0', 'value': 75}]}}, participant_id:None\n",
            "2024-11-01 11:24:13,967 - chat-bot - INFO - /content/achatbot/src/services/daily_client.py:126 - send_message - daily send message:{'type': 'chatbot-metrics', 'metrics': {'ttfb': [{'processor': 'TTSProcessor#0', 'value': 1.0551984310150146}]}}, participant_id:None\n",
            "2024-11-01 11:24:13,969 - chat-bot - INFO - /content/achatbot/src/services/daily_client.py:126 - send_message - daily send message:{'type': 'chatbot-metrics', 'metrics': {'processing': [{'processor': 'TTSProcessor#0', 'value': 1.057910442352295}]}}, participant_id:None\n",
            "2024-11-01 11:24:27,827 - chat-bot - INFO - /content/achatbot/src/services/daily_client.py:126 - send_message - daily send message:{'cue': 'user_turn'}, participant_id:None\n",
            "2024-11-01 11:24:33,113 - chat-bot - INFO - /content/achatbot/src/processors/speech/asr/asr_processor.py:67 - run_asr - sense_voice_asr Transcription: [我想换一个故事]\n",
            "2024-11-01 11:24:33,221 - chat-bot - INFO - /content/achatbot/src/processors/llm/openai_llm_processor.py:106 - _stream_chat_completions - Generating chat context messages: [{\"role\": \"system\", \"content\": \"You are a creative storyteller who loves tell whimsical, fantastical stories. Your goal is to craft an engaging and fun story.\\n\\nResponses should use the format:  {[Image prompts]}  [story sentence] [END] {[Image prompts]} [story sentence] [END] ...\\nKeep response have 3-5 sentences. Include [END] after each sentence of the story.\\nPlease ensure Image prompts should be described in English.\\nPlease ensure story sentence should be in Chinese simplified(\\u7b80\\u4f53\\u4e2d\\u6587).\\n\\nStart each sentence with an image prompt, wrapped in triangle braces, that I can use to generate an illustration representing the upcoming scene.\\nImage prompts should always be wrapped in  braces, like this: { image prompt goes here }. Don't repeat.\\nYou should provide as much descriptive detail in your image prompt as you can to help recreate the current scene depicted by the sentence.\\nFor any recurring characters, you should provide a description of them in the image prompt each time, for example: {a brown fluffy dog ...}.\\nPlease do not include any character names in the image prompts, just their descriptions.\\nImage prompts should focus on key visual attributes of all characters each time, for example {a brown fluffy dog and the tiny red cat ...}.\\nPlease use the following structure for your image prompts: characters, setting, action, and mood.\\nImage prompts should be less than 200-300 characters and start in lowercase.\\nPlease ensure Image prompts should be described in English.\\n\\nAfter each response, Give a ask , for example how I'd like the story to continue and wait for my input. Ask should be in Chinese simplified(\\u7b80\\u4f53\\u4e2d\\u6587).\\n\\nPlease refrain from using any explicit language or content. Do not tell scary stories.\", \"name\": \"system\"}, {\"role\": \"user\", \"content\": \" \\u6e29\\u99a8\\u7684\\u53cb\\u60c5\", \"name\": \"user\"}, {\"role\": \"assistant\", \"content\": \" \\u5c0f\\u84dd\\u9e1f\\u548c\\u5c0f\\u68d5\\u5154\\u5750\\u5728\\u957f\\u6ee1\\u82d4\\u85d3\\u7684\\u5927\\u77f3\\u5934\\u4e0a\\uff0c\\u4eab\\u53d7\\u7740\\u6e29\\u6696\\u7684\\u9633\\u5149\\u3002 \\u4ed6\\u4eec\\u62ac\\u5934\\u770b\\u7740\\u4e00\\u68f5\\u5f00\\u6ee1\\u4e94\\u5f69\\u82b1\\u6735\\u7684\\u5927\\u6811\\uff0c\\u611f\\u5230\\u975e\\u5e38\\u597d\\u5947\\u3002 \\u4ed6\\u4eec\\u51b3\\u5b9a\\u4e00\\u8d77\\u63a2\\u7d22\\u8fd9\\u7247\\u5145\\u6ee1\\u751f\\u673a\\u7684\\u68ee\\u6797\\uff0c\\u5bfb\\u627e\\u66f4\\u591a\\u7684\\u5947\\u5999\\u4e8b\\u7269\\u3002 \\u4f60\\u5e0c\\u671b\\u6545\\u4e8b\\u63a5\\u4e0b\\u6765\\u53d1\\u751f\\u4ec0\\u4e48\\uff1f\", \"name\": \"assistant\"}, {\"role\": \"user\", \"content\": \" \\u5c0f\\u86ee\\u9e1f\\u548c\\u5c0f\\u5154\\u5b50 \\u5f00\\u5fc3\\u7684\\u73a9\\u800d\", \"name\": \"user\"}, {\"role\": \"assistant\", \"content\": \" \\u5c0f\\u84dd\\u9e1f\\u548c\\u5c0f\\u68d5\\u5154\\u5728\\u5927\\u6811\\u4e0b\\u5f00\\u5fc3\\u5730\\u73a9\\u800d\\uff0c\\u8ffd\\u9010\\u7740\\u98d8\\u843d\\u7684\\u82b1\\u74e3\\u3002  \\u4ed6\\u4eec\\u7b11\\u95f9\\u7740\\uff0c\\u8df3\\u8fc7\\u4e00\\u7247\\u5f00\\u6ee1\\u91ce\\u82b1\\u7684\\u8349\\u5730\\uff0c\\u9633\\u5149\\u6d12\\u5728\\u4ed6\\u4eec\\u8eab\\u4e0a\\uff0c\\u6e29\\u6696\\u800c\\u660e\\u5a9a\\u3002 \\u4f60\\u5e0c\\u671b\\u6545\\u4e8b\\u63a5\\u4e0b\\u6765\\u53d1\\u751f\\u4ec0\\u4e48\\uff1f\", \"name\": \"assistant\"}, {\"role\": \"user\", \"content\": \" \\u6211\\u60f3\\u6362\\u4e00\\u4e2a\\u6545\\u4e8b\", \"name\": \"user\"}]\n",
            "2024-11-01 11:24:33,228 - chat-bot - INFO - /content/achatbot/src/services/daily_client.py:126 - send_message - daily send message:{'cue': 'assistant_turn'}, participant_id:None\n",
            "2024-11-01 11:24:33,741 - httpx - INFO - /usr/local/lib/python3.10/dist-packages/httpx/_client.py:1786 - _send_single_request - HTTP Request: POST https://api.together.xyz/v1/chat/completions \"HTTP/1.1 200 OK\"\n",
            "2024-11-01 11:24:33,742 - chat-bot - INFO - /content/achatbot/src/services/daily_client.py:126 - send_message - daily send message:{'type': 'chatbot-metrics', 'metrics': {'ttfb': [{'processor': 'OpenAILLMProcessor#0', 'value': 0.5211939811706543}]}}, participant_id:None\n",
            "2024-11-01 11:24:36,357 - chat-bot - INFO - /usr/local/lib/python3.10/dist-packages/apipeline/processors/logger.py:34 - process_frame - GoogleTranslateProcessor#0 ---> FrameLogger#1 Frame: StoryImageFrame#11(text: illustrative art of A little girl in a blue cloak stands on a meadow full of purple flowers, with an old castle in the distance and some white clouds floating in the sky. . In the style of Studio Ghibli. colorful, whimsical, painterly, concept art.)\n",
            "2024-11-01 11:24:37,829 - chat-bot - INFO - /content/achatbot/src/processors/speech/tts/tts_processor.py:54 - run_tts - Generating TTS: [好的，让我们开始一个新的故事吧！   一个小女孩站在一片开满紫色花朵的草地上，远处是一座古老的城堡，她好奇地望着城堡，心中充满了冒险的渴望。]\n",
            "2024-11-01 11:24:37,830 - chat-bot - INFO - /content/achatbot/src/services/daily_client.py:126 - send_message - daily send message:{'type': 'chatbot-metrics', 'metrics': {'characters': [{'processor': 'TTSProcessor#0', 'value': 70}]}}, participant_id:None\n",
            "2024-11-01 11:24:38,689 - chat-bot - INFO - /content/achatbot/src/services/daily_client.py:126 - send_message - daily send message:{'type': 'chatbot-metrics', 'metrics': {'ttfb': [{'processor': 'TTSProcessor#0', 'value': 0.8586070537567139}]}}, participant_id:None\n",
            "2024-11-01 11:24:38,692 - chat-bot - INFO - /content/achatbot/src/services/daily_client.py:126 - send_message - daily send message:{'type': 'chatbot-metrics', 'metrics': {'processing': [{'processor': 'TTSProcessor#0', 'value': 0.8630530834197998}]}}, participant_id:None\n",
            "2024-11-01 11:24:39,790 - chat-bot - INFO - /usr/local/lib/python3.10/dist-packages/apipeline/processors/logger.py:34 - process_frame - GoogleTranslateProcessor#0 ---> FrameLogger#1 Frame: StoryImageFrame#13(text: illustrative art of A little girl in a blue cape and a small furry fox playing in the grass, surrounded by purple flowers and a clear sky. . In the style of Studio Ghibli. colorful, whimsical, painterly, concept art.)\n",
            "2024-11-01 11:24:49,541 - chat-bot - INFO - /content/achatbot/src/processors/speech/tts/tts_processor.py:54 - run_tts - Generating TTS: [她身边有一只毛茸茸的小狐狸，它们一起在草地上追逐嬉戏，享受着美好的时光。]\n",
            "2024-11-01 11:24:49,541 - chat-bot - INFO - /content/achatbot/src/services/daily_client.py:126 - send_message - daily send message:{'type': 'chatbot-metrics', 'metrics': {'characters': [{'processor': 'TTSProcessor#0', 'value': 36}]}}, participant_id:None\n",
            "2024-11-01 11:24:50,394 - chat-bot - INFO - /content/achatbot/src/services/daily_client.py:126 - send_message - daily send message:{'type': 'chatbot-metrics', 'metrics': {'ttfb': [{'processor': 'TTSProcessor#0', 'value': 0.8527414798736572}]}}, participant_id:None\n",
            "2024-11-01 11:24:50,396 - chat-bot - INFO - /content/achatbot/src/services/daily_client.py:126 - send_message - daily send message:{'type': 'chatbot-metrics', 'metrics': {'processing': [{'processor': 'TTSProcessor#0', 'value': 0.8555917739868164}]}}, participant_id:None\n",
            "2024-11-01 11:24:50,401 - chat-bot - INFO - /content/achatbot/src/services/daily_client.py:126 - send_message - daily send message:{'type': 'chatbot-metrics', 'metrics': {'tokens': [{'processor': 'OpenAILLMProcessor#0', 'model': 'Qwen/Qwen2.5-72B-Instruct-Turbo', 'prompt_tokens': 525, 'completion_tokens': 141, 'total_tokens': 666}]}}, participant_id:None\n",
            "2024-11-01 11:24:50,403 - chat-bot - INFO - /content/achatbot/src/services/daily_client.py:126 - send_message - daily send message:{'type': 'chatbot-metrics', 'metrics': {'processing': [{'processor': 'OpenAILLMProcessor#0', 'value': 17.1820650100708}]}}, participant_id:None\n",
            "2024-11-01 11:24:50,404 - chat-bot - INFO - /content/achatbot/src/processors/speech/tts/tts_processor.py:54 - run_tts - Generating TTS: [你希望故事接下来发生什么？]\n",
            "2024-11-01 11:24:50,404 - chat-bot - INFO - /content/achatbot/src/services/daily_client.py:126 - send_message - daily send message:{'type': 'chatbot-metrics', 'metrics': {'characters': [{'processor': 'TTSProcessor#0', 'value': 13}]}}, participant_id:None\n",
            "2024-11-01 11:24:51,069 - chat-bot - INFO - /content/achatbot/src/services/daily_client.py:126 - send_message - daily send message:{'type': 'chatbot-metrics', 'metrics': {'ttfb': [{'processor': 'TTSProcessor#0', 'value': 0.6654117107391357}]}}, participant_id:None\n",
            "2024-11-01 11:24:51,072 - chat-bot - INFO - /content/achatbot/src/services/daily_client.py:126 - send_message - daily send message:{'type': 'chatbot-metrics', 'metrics': {'processing': [{'processor': 'TTSProcessor#0', 'value': 0.668306827545166}]}}, participant_id:None\n",
            "2024-11-01 11:24:51,365 - chat-bot - INFO - /content/achatbot/src/processors/speech/asr/asr_processor.py:67 - run_asr - sense_voice_asr Transcription: [y]\n",
            "2024-11-01 11:24:52,437 - chat-bot - INFO - /content/achatbot/src/services/daily_client.py:126 - send_message - daily send message:{'cue': 'assistant_turn'}, participant_id:None\n",
            "2024-11-01 11:24:59,007 - chat-bot - INFO - /content/achatbot/src/services/daily_client.py:126 - send_message - daily send message:{'cue': 'assistant_turn'}, participant_id:None\n",
            "2024-11-01 11:25:01,857 - chat-bot - INFO - /content/achatbot/src/services/daily_client.py:126 - send_message - daily send message:{'cue': 'user_turn'}, participant_id:None\n",
            "2024-11-01 11:25:09,653 - chat-bot - INFO - /content/achatbot/src/processors/speech/asr/asr_processor.py:67 - run_asr - sense_voice_asr Transcription: [小狐狸长大了]\n",
            "2024-11-01 11:25:09,701 - chat-bot - INFO - /content/achatbot/src/processors/llm/openai_llm_processor.py:106 - _stream_chat_completions - Generating chat context messages: [{\"role\": \"system\", \"content\": \"You are a creative storyteller who loves tell whimsical, fantastical stories. Your goal is to craft an engaging and fun story.\\n\\nResponses should use the format:  {[Image prompts]}  [story sentence] [END] {[Image prompts]} [story sentence] [END] ...\\nKeep response have 3-5 sentences. Include [END] after each sentence of the story.\\nPlease ensure Image prompts should be described in English.\\nPlease ensure story sentence should be in Chinese simplified(\\u7b80\\u4f53\\u4e2d\\u6587).\\n\\nStart each sentence with an image prompt, wrapped in triangle braces, that I can use to generate an illustration representing the upcoming scene.\\nImage prompts should always be wrapped in  braces, like this: { image prompt goes here }. Don't repeat.\\nYou should provide as much descriptive detail in your image prompt as you can to help recreate the current scene depicted by the sentence.\\nFor any recurring characters, you should provide a description of them in the image prompt each time, for example: {a brown fluffy dog ...}.\\nPlease do not include any character names in the image prompts, just their descriptions.\\nImage prompts should focus on key visual attributes of all characters each time, for example {a brown fluffy dog and the tiny red cat ...}.\\nPlease use the following structure for your image prompts: characters, setting, action, and mood.\\nImage prompts should be less than 200-300 characters and start in lowercase.\\nPlease ensure Image prompts should be described in English.\\n\\nAfter each response, Give a ask , for example how I'd like the story to continue and wait for my input. Ask should be in Chinese simplified(\\u7b80\\u4f53\\u4e2d\\u6587).\\n\\nPlease refrain from using any explicit language or content. Do not tell scary stories.\", \"name\": \"system\"}, {\"role\": \"user\", \"content\": \" \\u6e29\\u99a8\\u7684\\u53cb\\u60c5\", \"name\": \"user\"}, {\"role\": \"assistant\", \"content\": \" \\u5c0f\\u84dd\\u9e1f\\u548c\\u5c0f\\u68d5\\u5154\\u5750\\u5728\\u957f\\u6ee1\\u82d4\\u85d3\\u7684\\u5927\\u77f3\\u5934\\u4e0a\\uff0c\\u4eab\\u53d7\\u7740\\u6e29\\u6696\\u7684\\u9633\\u5149\\u3002 \\u4ed6\\u4eec\\u62ac\\u5934\\u770b\\u7740\\u4e00\\u68f5\\u5f00\\u6ee1\\u4e94\\u5f69\\u82b1\\u6735\\u7684\\u5927\\u6811\\uff0c\\u611f\\u5230\\u975e\\u5e38\\u597d\\u5947\\u3002 \\u4ed6\\u4eec\\u51b3\\u5b9a\\u4e00\\u8d77\\u63a2\\u7d22\\u8fd9\\u7247\\u5145\\u6ee1\\u751f\\u673a\\u7684\\u68ee\\u6797\\uff0c\\u5bfb\\u627e\\u66f4\\u591a\\u7684\\u5947\\u5999\\u4e8b\\u7269\\u3002 \\u4f60\\u5e0c\\u671b\\u6545\\u4e8b\\u63a5\\u4e0b\\u6765\\u53d1\\u751f\\u4ec0\\u4e48\\uff1f\", \"name\": \"assistant\"}, {\"role\": \"user\", \"content\": \" \\u5c0f\\u86ee\\u9e1f\\u548c\\u5c0f\\u5154\\u5b50 \\u5f00\\u5fc3\\u7684\\u73a9\\u800d\", \"name\": \"user\"}, {\"role\": \"assistant\", \"content\": \" \\u5c0f\\u84dd\\u9e1f\\u548c\\u5c0f\\u68d5\\u5154\\u5728\\u5927\\u6811\\u4e0b\\u5f00\\u5fc3\\u5730\\u73a9\\u800d\\uff0c\\u8ffd\\u9010\\u7740\\u98d8\\u843d\\u7684\\u82b1\\u74e3\\u3002  \\u4ed6\\u4eec\\u7b11\\u95f9\\u7740\\uff0c\\u8df3\\u8fc7\\u4e00\\u7247\\u5f00\\u6ee1\\u91ce\\u82b1\\u7684\\u8349\\u5730\\uff0c\\u9633\\u5149\\u6d12\\u5728\\u4ed6\\u4eec\\u8eab\\u4e0a\\uff0c\\u6e29\\u6696\\u800c\\u660e\\u5a9a\\u3002 \\u4f60\\u5e0c\\u671b\\u6545\\u4e8b\\u63a5\\u4e0b\\u6765\\u53d1\\u751f\\u4ec0\\u4e48\\uff1f\", \"name\": \"assistant\"}, {\"role\": \"user\", \"content\": \" \\u6211\\u60f3\\u6362\\u4e00\\u4e2a\\u6545\\u4e8b\", \"name\": \"user\"}, {\"role\": \"assistant\", \"content\": \" \\u597d\\u7684\\uff0c\\u8ba9\\u6211\\u4eec\\u5f00\\u59cb\\u4e00\\u4e2a\\u65b0\\u7684\\u6545\\u4e8b\\u5427\\uff01   \\u4e00\\u4e2a\\u5c0f\\u5973\\u5b69\\u7ad9\\u5728\\u4e00\\u7247\\u5f00\\u6ee1\\u7d2b\\u8272\\u82b1\\u6735\\u7684\\u8349\\u5730\\u4e0a\\uff0c\\u8fdc\\u5904\\u662f\\u4e00\\u5ea7\\u53e4\\u8001\\u7684\\u57ce\\u5821\\uff0c\\u5979\\u597d\\u5947\\u5730\\u671b\\u7740\\u57ce\\u5821\\uff0c\\u5fc3\\u4e2d\\u5145\\u6ee1\\u4e86\\u5192\\u9669\\u7684\\u6e34\\u671b\\u3002 \\u5979\\u8eab\\u8fb9\\u6709\\u4e00\\u53ea\\u6bdb\\u8338\\u8338\\u7684\\u5c0f\\u72d0\\u72f8\\uff0c\\u5b83\\u4eec\\u4e00\\u8d77\\u5728\\u8349\\u5730\\u4e0a\\u8ffd\\u9010\\u5b09\\u620f\\uff0c\\u4eab\\u53d7\\u7740\\u7f8e\\u597d\\u7684\\u65f6\\u5149\\u3002 \\u4f60\\u5e0c\\u671b\\u6545\\u4e8b\\u63a5\\u4e0b\\u6765\\u53d1\\u751f\\u4ec0\\u4e48\\uff1f\", \"name\": \"assistant\"}, {\"role\": \"user\", \"content\": \" \\u5c0f\\u72d0\\u72f8\\u957f\\u5927\\u4e86\", \"name\": \"user\"}]\n",
            "2024-11-01 11:25:09,713 - chat-bot - INFO - /content/achatbot/src/services/daily_client.py:126 - send_message - daily send message:{'cue': 'assistant_turn'}, participant_id:None\n",
            "2024-11-01 11:25:11,762 - httpx - INFO - /usr/local/lib/python3.10/dist-packages/httpx/_client.py:1786 - _send_single_request - HTTP Request: POST https://api.together.xyz/v1/chat/completions \"HTTP/1.1 200 OK\"\n",
            "2024-11-01 11:25:11,763 - chat-bot - INFO - /content/achatbot/src/services/daily_client.py:126 - send_message - daily send message:{'type': 'chatbot-metrics', 'metrics': {'ttfb': [{'processor': 'OpenAILLMProcessor#0', 'value': 2.0618033409118652}]}}, participant_id:None\n",
            "2024-11-01 11:25:14,320 - chat-bot - INFO - /usr/local/lib/python3.10/dist-packages/apipeline/processors/logger.py:34 - process_frame - GoogleTranslateProcessor#0 ---> FrameLogger#1 Frame: StoryImageFrame#15(text: illustrative art of A little girl stands on a meadow full of purple flowers. In the distance is an old castle. Beside her is a furry little fox. The little fox has grown a lot and has become stronger. . In the style of Studio Ghibli. colorful, whimsical, painterly, concept art.)\n",
            "2024-11-01 11:25:17,024 - chat-bot - INFO - /usr/local/lib/python3.10/dist-packages/apipeline/processors/logger.py:34 - process_frame - GoogleTranslateProcessor#0 ---> FrameLogger#1 Frame: StoryImageFrame#17(text: illustrative art of A little girl and a little fox are running on the grass. The little fox gently touches the little girl's hand with its nose, and its eyes are full of tenderness and joy. . In the style of Studio Ghibli. colorful, whimsical, painterly, concept art.)\n",
            "2024-11-01 11:25:26,352 - chat-bot - INFO - /content/achatbot/src/services/daily_client.py:126 - send_message - daily send message:{'type': 'chatbot-metrics', 'metrics': {'tokens': [{'processor': 'OpenAILLMProcessor#0', 'model': 'Qwen/Qwen2.5-72B-Instruct-Turbo', 'prompt_tokens': 615, 'completion_tokens': 117, 'total_tokens': 732}]}}, participant_id:None\n",
            "2024-11-01 11:25:26,354 - chat-bot - INFO - /content/achatbot/src/services/daily_client.py:126 - send_message - daily send message:{'type': 'chatbot-metrics', 'metrics': {'processing': [{'processor': 'OpenAILLMProcessor#0', 'value': 16.652774572372437}]}}, participant_id:None\n",
            "2024-11-01 11:25:26,354 - chat-bot - INFO - /content/achatbot/src/processors/speech/tts/tts_processor.py:54 - run_tts - Generating TTS: [小狐狸长大了，它的体型变得更加健壮，毛发也更加光亮。  它们依然像以前一样亲密无间，一起在草地上奔跑，享受着彼此的陪伴。 你希望故事接下来发生什么？]\n",
            "2024-11-01 11:25:26,354 - chat-bot - INFO - /content/achatbot/src/services/daily_client.py:126 - send_message - daily send message:{'type': 'chatbot-metrics', 'metrics': {'characters': [{'processor': 'TTSProcessor#0', 'value': 74}]}}, participant_id:None\n",
            "2024-11-01 11:25:27,327 - chat-bot - INFO - /content/achatbot/src/services/daily_client.py:126 - send_message - daily send message:{'type': 'chatbot-metrics', 'metrics': {'ttfb': [{'processor': 'TTSProcessor#0', 'value': 0.9725279808044434}]}}, participant_id:None\n",
            "2024-11-01 11:25:27,330 - chat-bot - INFO - /content/achatbot/src/services/daily_client.py:126 - send_message - daily send message:{'type': 'chatbot-metrics', 'metrics': {'processing': [{'processor': 'TTSProcessor#0', 'value': 0.975395917892456}]}}, participant_id:None\n",
            "2024-11-01 11:25:27,693 - chat-bot - INFO - /content/achatbot/src/processors/speech/asr/asr_processor.py:67 - run_asr - sense_voice_asr Transcription: [o]\n",
            "2024-11-01 11:25:40,748 - chat-bot - INFO - /content/achatbot/src/services/daily_client.py:126 - send_message - daily send message:{'cue': 'user_turn'}, participant_id:None\n",
            "2024-11-01 11:25:42,388 - chat-bot - INFO - /content/achatbot/src/processors/speech/asr/asr_processor.py:67 - run_asr - sense_voice_asr Transcription: [说啥嘞]\n",
            "Exception ignored in sys.unraisablehook: <built-in function unraisablehook>\n",
            "KeyboardInterrupt\n",
            "2024-11-01 11:25:50,051 - chat-bot - WARNING - /usr/local/lib/python3.10/dist-packages/apipeline/pipeline/runner.py:53 - _sig_handler - Interruption detected. Canceling runner PipelineRunner#0\n",
            "2024-11-01 11:25:50,052 - chat-bot - WARNING - /usr/local/lib/python3.10/dist-packages/apipeline/pipeline/runner.py:53 - _sig_handler - Interruption detected. Canceling runner PipelineRunner#0\n",
            "2024-11-01 11:25:50,052 - chat-bot - INFO - /content/achatbot/src/services/daily_client.py:266 - leave - Leaving https://weedge.daily.co/chat-room\n",
            "2024-11-01 11:25:50,054 - chat-bot - INFO - /content/achatbot/src/cmd/bots/base_daily.py:34 - on_call_state_updated - Call state leaving \n",
            "2024-11-01 11:25:50,072 - chat-bot - INFO - /content/achatbot/src/cmd/bots/base_daily.py:34 - on_call_state_updated - Call state left \n",
            "2024-11-01 11:25:55,065 - chat-bot - ERROR - /content/achatbot/src/cmd/bots/run.py:81 - cleanup - Error while cleaning up process 7631: Cannot close a process while it is still running. You should first call join() or terminate().\n",
            "2024-11-01 11:25:55,066 - chat-bot - WARNING - /content/achatbot/src/cmd/bots/run.py:84 - cleanup - pid:7631 tag:chat-room proc: <Process name='DailyStoryTellingBot' pid=7631 parent=7607 started> killed\n"
          ]
        }
      ]
    },
    {
      "cell_type": "code",
      "source": [
        "from google.colab import userdata\n",
        "REDIS_PASSWORD=userdata.get('REDIS_PASSWORD')\n"
      ],
      "metadata": {
        "id": "KWZaV2R6ICZ-"
      },
      "execution_count": null,
      "outputs": []
    },
    {
      "cell_type": "code",
      "source": [
        "!LOG_LEVEL=debug REDIS_PASSWORD=$REDIS_PASSWORD python -m src.cmd.bots.main -f /content/task_bot.json"
      ],
      "metadata": {
        "id": "4C5qgvz2IIXz"
      },
      "execution_count": null,
      "outputs": []
    }
  ]
}