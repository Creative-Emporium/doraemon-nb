{
  "cells": [
    {
      "cell_type": "markdown",
      "metadata": {
        "id": "view-in-github",
        "colab_type": "text"
      },
      "source": [
        "<a href=\"https://colab.research.google.com/github/weedge/doraemon-nb/blob/main/chat_bot_gpu.ipynb\" target=\"_parent\"><img src=\"https://colab.research.google.com/assets/colab-badge.svg\" alt=\"Open In Colab\"/></a>"
      ]
    },
    {
      "cell_type": "code",
      "execution_count": null,
      "metadata": {
        "id": "AF3w7_cxZGwD"
      },
      "outputs": [],
      "source": [
        "!nvcc --version\n"
      ]
    },
    {
      "cell_type": "code",
      "execution_count": null,
      "metadata": {
        "id": "aTHYo9EhzGkV"
      },
      "outputs": [],
      "source": [
        "%cd /content"
      ]
    },
    {
      "cell_type": "code",
      "execution_count": null,
      "metadata": {
        "id": "IfmcAQMns6aV"
      },
      "outputs": [],
      "source": [
        "!git clone https://github.com/weedge/chat-bot.git"
      ]
    },
    {
      "cell_type": "code",
      "execution_count": null,
      "metadata": {
        "id": "5a1qIXxQdJvV"
      },
      "outputs": [],
      "source": [
        "%cd /content/chat-bot"
      ]
    },
    {
      "cell_type": "markdown",
      "metadata": {
        "id": "jMvKdwJHlvhS"
      },
      "source": [
        "### install dependencies"
      ]
    },
    {
      "cell_type": "code",
      "execution_count": null,
      "metadata": {
        "id": "PNTGOdhEkXDX"
      },
      "outputs": [],
      "source": [
        "!apt-get install python3-pyaudio && pip -q install pyannote.audio"
      ]
    },
    {
      "cell_type": "code",
      "execution_count": null,
      "metadata": {
        "id": "cGEdDL-QhXLt"
      },
      "outputs": [],
      "source": [
        "!pip install -q pyaudio pydub redis"
      ]
    },
    {
      "cell_type": "code",
      "execution_count": null,
      "metadata": {
        "id": "dbujgZGJlJwc"
      },
      "outputs": [],
      "source": [
        "# asr whisper\n",
        "!pip install -q openai-whisper whisper-timestamped faster-whisper"
      ]
    },
    {
      "cell_type": "code",
      "source": [
        "# asr SenseVoice with funasr\n",
        "!pip install funasr"
      ],
      "metadata": {
        "id": "Cn_LPCDYIabS"
      },
      "execution_count": null,
      "outputs": []
    },
    {
      "cell_type": "code",
      "execution_count": null,
      "metadata": {
        "id": "7wKEoTuwRZiq"
      },
      "outputs": [],
      "source": [
        "# llamacpp https://github.com/abetlen/llama-cpp-python?tab=readme-ov-file#installation\n",
        "# cpu\n",
        "#!pip install llama-cpp-python\n",
        "#!pip install llama-cpp-python --extra-index-url https://abetlen.github.io/llama-cpp-python/whl/cpu\n",
        "#!CMAKE_ARGS=\"-DLLAMA_BLAS=ON -DLLAMA_BLAS_VENDOR=OpenBLAS\" pip install llama-cpp-python\n",
        "\n",
        "# gpu\n",
        "#!CMAKE_ARGS=\"-DLLAMA_CUDA=on\" pip install llama-cpp-python\n",
        "!pip uninstall llama-cpp-python\n",
        "!pip install llama-cpp-python \\\n",
        "  --extra-index-url https://abetlen.github.io/llama-cpp-python/whl/cu122"
      ]
    },
    {
      "cell_type": "code",
      "execution_count": null,
      "metadata": {
        "id": "tHi3wGoeVwtT"
      },
      "outputs": [],
      "source": [
        "!# ChatTTS\n",
        "!git submodule update --init --recursive\n",
        "!pip install -q vocos\n",
        "!pip install vector_quantize_pytorch"
      ]
    },
    {
      "cell_type": "code",
      "execution_count": null,
      "metadata": {
        "id": "vRxSM036dUuv"
      },
      "outputs": [],
      "source": [
        "# CoquiTTS\n",
        "#!pip uninstall TTS\n",
        "!pip install coqui-tts\n"
      ]
    },
    {
      "cell_type": "code",
      "execution_count": null,
      "metadata": {
        "id": "rSEv4KvKjepK"
      },
      "outputs": [],
      "source": [
        "# CosyVoiceTTS\n",
        "!git submodule update --init --recursive\n",
        "!cd deps/CosyVoice && pip install -r requirements.txt\n"
      ]
    },
    {
      "cell_type": "code",
      "execution_count": null,
      "metadata": {
        "id": "ibm0av4Sd2Lr"
      },
      "outputs": [],
      "source": [
        "!pip install numpy==1.25.0"
      ]
    },
    {
      "cell_type": "code",
      "execution_count": null,
      "metadata": {
        "id": "ybwIxsrknMlO"
      },
      "outputs": [],
      "source": [
        "!pip list | grep torch"
      ]
    },
    {
      "cell_type": "code",
      "execution_count": null,
      "metadata": {
        "id": "iQz0z4yTg9JF"
      },
      "outputs": [],
      "source": [
        "!pip install accelerate optimum"
      ]
    },
    {
      "cell_type": "code",
      "execution_count": null,
      "metadata": {
        "id": "UXUdeKJPtvV3"
      },
      "outputs": [],
      "source": [
        "!pip show omegaconf einops IPython ctranslate2 numpy TTS transformers accelerate optimum llama-cpp-python coqui-tts"
      ]
    },
    {
      "cell_type": "markdown",
      "metadata": {
        "id": "HkXuo0PSlriI"
      },
      "source": [
        "### download models"
      ]
    },
    {
      "cell_type": "code",
      "execution_count": null,
      "metadata": {
        "id": "3ZrfUOTGi6_n"
      },
      "outputs": [],
      "source": [
        "# asr openai whisper ckpt\n",
        "!wget https://openaipublic.azureedge.net/main/whisper/models/65147644a518d12f04e32d6f3b26facc3f8dd46e5390956a9424a650c0ce22b9/tiny.pt -O ./models/tiny.pt\n",
        "!wget https://openaipublic.azureedge.net/main/whisper/models/ed3a0b6b1c0edf879ad9b11b1af5a0e6ab5db9205f891f668f8b0e6c6326e34e/base.pt -O ./models/base.pt\n",
        "!wget https://openaipublic.azureedge.net/main/whisper/models/9ecf779972d90ba49c06d968637d720dd632c55bbf19d441fb42bf17a411e794/small.pt -O ./models/small.pt\n",
        "!wget https://openaipublic.azureedge.net/main/whisper/models/345ae4da62f9b3d59415adc60127b97c714f32e89e936602e85993674d08dcb1/medium.pt -O ./models/medium.pt\n",
        "!wget https://openaipublic.azureedge.net/main/whisper/models/e4b87e7e0bf463eb8e6956e646f1e277e901512310def2c24bf0e11bd3c28e9a/large-v1.pt -O ./models/large-v1.pt\n",
        "!wget https://openaipublic.azureedge.net/main/whisper/models/81f7c96c852ee8fc832187b0132e569d6c3065a3252ed18e56effd0b6a73e524/large-v2.pt -O ./models/large-v2.pt\n",
        "!wget https://openaipublic.azureedge.net/main/whisper/models/e5b1a55b89c1367dacf97e3e19bfd829a01529dbfdeefa8caeb59b3f1b81dadb/large-v3.pt -O ./models/large-v3.pt\n"
      ]
    },
    {
      "cell_type": "code",
      "execution_count": null,
      "metadata": {
        "id": "sUBGxsNH9Y1v"
      },
      "outputs": [],
      "source": [
        "# asr hf openai whisper ckpt\n",
        "!huggingface-cli download openai/whisper-base  --local-dir ./models/openai/whisper-base --local-dir-use-symlinks False\n",
        "# faster-whisper\n",
        "!huggingface-cli download Systran/faster-whisper-tiny  --local-dir ./models/Systran/faster-whisper-tiny --local-dir-use-symlinks False\n",
        "!huggingface-cli download Systran/faster-whisper-base  --local-dir ./models/Systran/faster-whisper-base --local-dir-use-symlinks False\n",
        "!huggingface-cli download Systran/faster-whisper-small  --local-dir ./models/Systran/faster-whisper-small --local-dir-use-symlinks False\n",
        "!huggingface-cli download Systran/faster-whisper-medium  --local-dir ./models/Systran/faster-whisper-medium --local-dir-use-symlinks False\n",
        "!huggingface-cli download Systran/faster-whisper-large-v1  --local-dir ./models/Systran/faster-whisper-large-v1 --local-dir-use-symlinks False\n",
        "!huggingface-cli download Systran/faster-whisper-large-v2  --local-dir ./models/Systran/faster-whisper-large-v2 --local-dir-use-symlinks False\n",
        "!huggingface-cli download Systran/faster-whisper-large-v3  --local-dir ./models/Systran/faster-whisper-large-v3 --local-dir-use-symlinks False\n",
        "!huggingface-cli download Systran/faster-distil-whisper-large-v2  --local-dir ./models/Systran/faster-distil-whisper-large-v2 --local-dir-use-symlinks False\n",
        "!huggingface-cli download Systran/faster-distil-whisper-large-v3  --local-dir ./models/Systran/faster-distil-whisper-large-v3 --local-dir-use-symlinks False"
      ]
    },
    {
      "cell_type": "code",
      "source": [
        "# asr SenseVoice ckpt\n",
        "!huggingface-cli download FunAudioLLM/SenseVoiceSmall  --local-dir ./models/FunAudioLLM/SenseVoiceSmall --local-dir-use-symlinks False"
      ],
      "metadata": {
        "id": "mAheOYsfIDPL"
      },
      "execution_count": null,
      "outputs": []
    },
    {
      "cell_type": "code",
      "source": [
        "# llm llamacpp phi-3-mini-4k-instruct\n",
        "!huggingface-cli download microsoft/Phi-3-mini-4k-instruct-gguf Phi-3-mini-4k-instruct-q4.gguf --local-dir ./models --local-dir-use-symlinks False\n"
      ],
      "metadata": {
        "id": "isx0Lc8dJi6h"
      },
      "execution_count": null,
      "outputs": []
    },
    {
      "cell_type": "code",
      "execution_count": null,
      "metadata": {
        "id": "ELUVP0Gx9qAf"
      },
      "outputs": [],
      "source": [
        "# llm llamacpp Qwen1.5-chat\n",
        "!huggingface-cli download Qwen/Qwen1.5-7B-Chat-GGUF qwen1_5-7b-chat-q8_0.gguf  --local-dir ./models --local-dir-use-symlinks False\n",
        "#!huggingface-cli download Qwen/Qwen1.5-14B-Chat-GGUF qwen1_5-14b-chat-q8_0.gguf  --local-dir ./models --local-dir-use-symlinks False\n"
      ]
    },
    {
      "cell_type": "code",
      "source": [
        "!rm -f ./models/qwen2-57b-a14b-instruct-*"
      ],
      "metadata": {
        "id": "qcqbUMskJlep"
      },
      "execution_count": null,
      "outputs": []
    },
    {
      "cell_type": "code",
      "source": [
        "# llm llamacpp Qwen2-Instruct\n",
        "!huggingface-cli download Qwen/Qwen2-1.5B-Instruct-GGUF qwen2-1_5b-instruct-q8_0.gguf  --local-dir ./models --local-dir-use-symlinks False\n",
        "!huggingface-cli download Qwen/Qwen2-1.5B-Instruct-GGUF qwen2-1_5b-instruct-fp16.gguf  --local-dir ./models --local-dir-use-symlinks False\n",
        "!huggingface-cli download Qwen/Qwen2-7B-Instruct-GGUF qwen2-7b-instruct-q8_0.gguf  --local-dir ./models --local-dir-use-symlinks False\n",
        "!huggingface-cli download Qwen/Qwen2-7B-Instruct-GGUF qwen2-7b-instruct-fp16.gguf  --local-dir ./models --local-dir-use-symlinks False\n",
        "#!huggingface-cli download Qwen/Qwen2-57B-A14B-Instruct-GGUF qwen2-57b-a14b-instruct-q3_k_m.gguf  --local-dir ./models --local-dir-use-symlinks False\n",
        "#!huggingface-cli download Qwen/Qwen2-57B-A14B-Instruct-GGUF --include qwen2-57b-a14b-instruct-q8_0-*.gguf  --local-dir ./models --local-dir-use-symlinks False\n"
      ],
      "metadata": {
        "id": "rxyBnRhcJc46"
      },
      "execution_count": null,
      "outputs": []
    },
    {
      "cell_type": "code",
      "execution_count": null,
      "metadata": {
        "id": "awkt1LIzP4bj"
      },
      "outputs": [],
      "source": [
        "#/content/llamacpp/llama-gguf-split --merge qwen2-57b-a14b-instruct-q8_0-00001-of-00002.gguf qwen2-57b-a14b-instruct-q8_0.gguf"
      ]
    },
    {
      "cell_type": "code",
      "source": [
        "# llm chatglmcpp chatGLM"
      ],
      "metadata": {
        "id": "YJ8-0pxZJgAd"
      },
      "execution_count": null,
      "outputs": []
    },
    {
      "cell_type": "code",
      "execution_count": null,
      "metadata": {
        "id": "dIf4oBlZmH9j"
      },
      "outputs": [],
      "source": [
        "# tts chatTTS\n",
        "!huggingface-cli download 2Noise/ChatTTS  --local-dir ./models/2Noise/ChatTTS --local-dir-use-symlinks False"
      ]
    },
    {
      "cell_type": "code",
      "execution_count": null,
      "metadata": {
        "id": "Xgw6Xbu_dIY7"
      },
      "outputs": [],
      "source": [
        "# tts coquiTTS\n",
        "!huggingface-cli download coqui/XTTS-v2  --local-dir ./models/coqui/XTTS-v2 --local-dir-use-symlinks False"
      ]
    },
    {
      "cell_type": "code",
      "execution_count": null,
      "metadata": {
        "id": "kO0EP4ahjtIw"
      },
      "outputs": [],
      "source": [
        "# tts cosy voice\n",
        "!git lfs install\n",
        "!mkdir -p models\n",
        "!git clone https://www.modelscope.cn/iic/CosyVoice-300M.git models/CosyVoice-300M\n",
        "!git clone https://www.modelscope.cn/iic/CosyVoice-300M-SFT.git models/CosyVoice-300M-SFT\n",
        "!git clone https://www.modelscope.cn/iic/CosyVoice-300M-Instruct.git models/CosyVoice-300M-Instruct\n",
        "!git clone https://www.modelscope.cn/iic/CosyVoice-ttsfrd.git models/CosyVoice-ttsfrd\n"
      ]
    },
    {
      "cell_type": "code",
      "execution_count": null,
      "metadata": {
        "id": "Bsqq8WtrkHVk"
      },
      "outputs": [],
      "source": [
        "!cd models/CosyVoice-ttsfrd/ \\\n",
        "  && wget https://www.modelscope.cn/models/speech_tts/speech_kantts_ttsfrd/resolve/master/ttsfrd-0.3.9-cp310-cp310-linux_x86_64.whl\n",
        "!cd models/CosyVoice-ttsfrd/ && unzip resource.zip -d .\n",
        "!pip install models/CosyVoice-ttsfrd/ttsfrd-0.3.9-cp310-cp310-linux_x86_64.whl\n"
      ]
    },
    {
      "cell_type": "markdown",
      "metadata": {
        "id": "GZoE-J3rWNKc"
      },
      "source": [
        "### test\n"
      ]
    },
    {
      "cell_type": "markdown",
      "metadata": {
        "id": "OHREfyc4pDRz"
      },
      "source": [
        "#### ASR"
      ]
    },
    {
      "cell_type": "code",
      "execution_count": null,
      "metadata": {
        "id": "pUzTTh5Ih1aU"
      },
      "outputs": [],
      "source": [
        "!ASR_TAG=whisper_asr MODEL_NAME_OR_PATH=tiny \\\n",
        "  python -m unittest test.modules.speech.asr.test_whisper_asr.TestWhisperASR.test_transcribe\n",
        "\n",
        "!ASR_TAG=whisper_asr MODEL_NAME_OR_PATH=base \\\n",
        "  python -m unittest test.modules.speech.asr.test_whisper_asr.TestWhisperASR.test_transcribe\n",
        "\n",
        "!ASR_TAG=whisper_asr MODEL_NAME_OR_PATH=small \\\n",
        "  python -m unittest test.modules.speech.asr.test_whisper_asr.TestWhisperASR.test_transcribe\n",
        "\n",
        "!ASR_TAG=whisper_asr MODEL_NAME_OR_PATH=medium \\\n",
        "  python -m unittest test.modules.speech.asr.test_whisper_asr.TestWhisperASR.test_transcribe\n",
        "\n",
        "!ASR_TAG=whisper_asr MODEL_NAME_OR_PATH=large-v1 \\\n",
        "  python -m unittest test.modules.speech.asr.test_whisper_asr.TestWhisperASR.test_transcribe\n",
        "\n",
        "!ASR_TAG=whisper_asr MODEL_NAME_OR_PATH=large-v2 \\\n",
        "  python -m unittest test.modules.speech.asr.test_whisper_asr.TestWhisperASR.test_transcribe\n",
        "\n",
        "!ASR_TAG=whisper_asr MODEL_NAME_OR_PATH=large-v3 \\\n",
        "  python -m unittest test.modules.speech.asr.test_whisper_asr.TestWhisperASR.test_transcribe\n"
      ]
    },
    {
      "cell_type": "code",
      "execution_count": null,
      "metadata": {
        "id": "8lIDdVPcWT6H"
      },
      "outputs": [],
      "source": [
        "!ASR_TAG=whisper_transformers_asr MODEL_NAME_OR_PATH=./models/openai/whisper-base \\\n",
        "  python -m unittest test.modules.speech.asr.test_whisper_asr.TestWhisperASR.test_transcribe"
      ]
    },
    {
      "cell_type": "code",
      "execution_count": null,
      "metadata": {
        "id": "aS_6JzlKcHFV"
      },
      "outputs": [],
      "source": [
        "!MODEL_NAME_OR_PATH=./models/Systran/faster-whisper-tiny ASR_VERBOSE=False ASR_TAG=whisper_faster_asr \\\n",
        "  python -m unittest test.modules.speech.asr.test_whisper_asr.TestWhisperASR.test_transcribe\n",
        "\n",
        "!MODEL_NAME_OR_PATH=./models/Systran/faster-whisper-base ASR_VERBOSE=False ASR_TAG=whisper_faster_asr \\\n",
        "  python -m unittest test.modules.speech.asr.test_whisper_asr.TestWhisperASR.test_transcribe\n",
        "\n",
        "!MODEL_NAME_OR_PATH=./models/Systran/faster-whisper-small ASR_VERBOSE=False ASR_TAG=whisper_faster_asr \\\n",
        "  python -m unittest test.modules.speech.asr.test_whisper_asr.TestWhisperASR.test_transcribe\n",
        "\n",
        "!MODEL_NAME_OR_PATH=./models/Systran/faster-whisper-medium ASR_VERBOSE=False ASR_TAG=whisper_faster_asr \\\n",
        "  python -m unittest test.modules.speech.asr.test_whisper_asr.TestWhisperASR.test_transcribe\n",
        "\n",
        "!MODEL_NAME_OR_PATH=./models/Systran/faster-whisper-large-v1 ASR_VERBOSE=False ASR_TAG=whisper_faster_asr \\\n",
        "  python -m unittest test.modules.speech.asr.test_whisper_asr.TestWhisperASR.test_transcribe\n",
        "\n",
        "!MODEL_NAME_OR_PATH=./models/Systran/faster-whisper-large-v2 ASR_VERBOSE=False ASR_TAG=whisper_faster_asr \\\n",
        "  python -m unittest test.modules.speech.asr.test_whisper_asr.TestWhisperASR.test_transcribe\n",
        "\n",
        "!MODEL_NAME_OR_PATH=./models/Systran/faster-whisper-large-v3 ASR_VERBOSE=False ASR_TAG=whisper_faster_asr \\\n",
        "  python -m unittest test.modules.speech.asr.test_whisper_asr.TestWhisperASR.test_transcribe"
      ]
    },
    {
      "cell_type": "markdown",
      "metadata": {
        "id": "5WvK58CTSqzD"
      },
      "source": [
        "#### llm"
      ]
    },
    {
      "cell_type": "code",
      "execution_count": null,
      "metadata": {
        "id": "MzHPvCgDSqRz"
      },
      "outputs": [],
      "source": [
        "!MODEL_TYPE=generate  python -m unittest test.core.llm.test_llamacpp.TestLLamacppLLM.test_generate"
      ]
    },
    {
      "cell_type": "code",
      "execution_count": null,
      "metadata": {
        "id": "bNnKlnf3TvuU"
      },
      "outputs": [],
      "source": [
        "!MODEL_TYPE=generate N_GPU_LAYERS=29 FLASH_ATTN=1 python -m unittest test.core.llm.test_llamacpp.TestLLamacppLLM.test_generate"
      ]
    },
    {
      "cell_type": "code",
      "execution_count": null,
      "metadata": {
        "id": "aN6jKobNmHkz"
      },
      "outputs": [],
      "source": [
        "!MODEL_TYPE=generate N_GPU_LAYERS=33 FLASH_ATTN=1 \\\n",
        "  MODEL_PATH=./models/qwen1_5-7b-chat-q8_0.gguf \\\n",
        "  python -m unittest test.core.llm.test_llamacpp.TestLLamacppLLM.test_generate"
      ]
    },
    {
      "cell_type": "code",
      "execution_count": null,
      "metadata": {
        "id": "AndKovj4mqnC"
      },
      "outputs": [],
      "source": [
        "!MODEL_TYPE=generate N_GPU_LAYERS=33 FLASH_ATTN=1 \\\n",
        "  MODEL_PATH=./models/qwen1_5-14b-chat-q8_0.gguf \\\n",
        "  python -m unittest test.core.llm.test_llamacpp.TestLLamacppLLM.test_generate"
      ]
    },
    {
      "cell_type": "code",
      "execution_count": null,
      "metadata": {
        "id": "uLUnbvLWcFwP"
      },
      "outputs": [],
      "source": [
        "!MODEL_TYPE=generate N_GPU_LAYERS=29 FLASH_ATTN=1 \\\n",
        "  MODEL_PATH=./models/qwen2-1_5b-instruct-fp16.gguf \\\n",
        "  python -m unittest test.core.llm.test_llamacpp.TestLLamacppLLM.test_generate"
      ]
    },
    {
      "cell_type": "code",
      "execution_count": null,
      "metadata": {
        "id": "3sc6CoSNUw0v"
      },
      "outputs": [],
      "source": [
        "!MODEL_TYPE=generate \\\n",
        "  MODEL_PATH=./models/qwen2-7b-instruct-q8_0.gguf \\\n",
        "  python -m unittest test.core.llm.test_llamacpp.TestLLamacppLLM.test_generate"
      ]
    },
    {
      "cell_type": "code",
      "execution_count": null,
      "metadata": {
        "id": "sTDeOkPIX0Ap"
      },
      "outputs": [],
      "source": [
        "!MODEL_TYPE=generate \\\n",
        "  MODEL_PATH=./models/qwen2-7b-instruct-fp16.gguf \\\n",
        "  python -m unittest test.core.llm.test_llamacpp.TestLLamacppLLM.test_generate"
      ]
    },
    {
      "cell_type": "code",
      "execution_count": null,
      "metadata": {
        "id": "pQtYFLcMWt4I"
      },
      "outputs": [],
      "source": [
        "!MODEL_TYPE=generate \\\n",
        "  MODEL_PATH=./models/qwen2-7b-instruct-fp16.gguf \\\n",
        "  python -m unittest test.core.llm.test_llamacpp.TestLLamacppLLM.test_generate\n"
      ]
    },
    {
      "cell_type": "markdown",
      "metadata": {
        "id": "GXmWPwDrtp9G"
      },
      "source": [
        "#### tts"
      ]
    },
    {
      "cell_type": "code",
      "execution_count": null,
      "metadata": {
        "id": "eKXgcGhitrV-"
      },
      "outputs": [],
      "source": [
        "#!python -m unittest test.modules.speech.tts.test_cosy_voice.TestCosyVoiceTTS.test_get_voices\n",
        "!python -m unittest test.modules.speech.tts.test_cosy_voice.TestCosyVoiceTTS.test_synthesize"
      ]
    },
    {
      "cell_type": "code",
      "execution_count": null,
      "metadata": {
        "id": "gjPrkkOS2Gp0"
      },
      "outputs": [],
      "source": [
        "from IPython.display import Audio\n",
        "Audio(\"./records/test_tts_cosy_voice.wav\", autoplay=True)\n"
      ]
    },
    {
      "cell_type": "code",
      "execution_count": null,
      "metadata": {
        "id": "vLY3MejW97Zc"
      },
      "outputs": [],
      "source": [
        "Audio(\"./records/tts_speech.wav\", autoplay=True)\n"
      ]
    },
    {
      "cell_type": "markdown",
      "metadata": {
        "id": "b2IgjS7bmDzV"
      },
      "source": [
        "### run chat bot BE"
      ]
    },
    {
      "cell_type": "code",
      "execution_count": null,
      "metadata": {
        "id": "NIzdOsCZfmQo"
      },
      "outputs": [],
      "source": [
        "from google.colab import userdata\n",
        "redis_pwd = userdata.get('REDIS_PASSWORD')"
      ]
    },
    {
      "cell_type": "code",
      "execution_count": null,
      "metadata": {
        "id": "T2dP-UcWgCT4"
      },
      "outputs": [],
      "source": [
        "!mkdir -p log"
      ]
    },
    {
      "cell_type": "code",
      "execution_count": null,
      "metadata": {
        "id": "Ei6CpMWhdhAs"
      },
      "outputs": [],
      "source": [
        "!REDIS_PASSWORD=$redis_pwd RUN_OP=be TQDM_DISABLE=True python -m src.cmd.remote-queue-chat.generate_audio2audio > ./log/be_std_out.log"
      ]
    },
    {
      "cell_type": "code",
      "execution_count": null,
      "metadata": {
        "id": "-ReK0i0OZy7_"
      },
      "outputs": [],
      "source": [
        "!ASR_TAG=whisper_faster_asr \\\n",
        "  ASR_MODEL_NAME_OR_PATH=./models/Systran/faster-whisper-base \\\n",
        "  REDIS_PASSWORD=$redis_pwd \\\n",
        "  RUN_OP=be \\\n",
        "  TQDM_DISABLE=True \\\n",
        "  python -m src.cmd.remote-queue-chat.generate_audio2audio > ./log/be_std_out.log"
      ]
    },
    {
      "cell_type": "code",
      "execution_count": null,
      "metadata": {
        "id": "L257V1Zmld04"
      },
      "outputs": [],
      "source": [
        "!ASR_TAG=whisper_faster_asr \\\n",
        "  ASR_MODEL_NAME_OR_PATH=./models/Systran/faster-whisper-base \\\n",
        "  REDIS_PASSWORD=$redis_pwd \\\n",
        "  RUN_OP=be \\\n",
        "  TQDM_DISABLE=True \\\n",
        "  TTS_TAG=tts_coqui \\\n",
        "  N_GPU_LAYERS=33 FLASH_ATTN=1 \\\n",
        "  LLM_MODEL_NAME=qwen \\\n",
        "  LLM_MODEL_PATH=./models/qwen1_5-7b-chat-q8_0.gguf \\\n",
        "  python -m src.cmd.remote-queue-chat.generate_audio2audio > ./log/be_std_out.log"
      ]
    },
    {
      "cell_type": "code",
      "execution_count": null,
      "metadata": {
        "id": "CBbtEC-robGN"
      },
      "outputs": [],
      "source": [
        "!ASR_TAG=whisper_faster_asr \\\n",
        "  ASR_MODEL_NAME_OR_PATH=./models/Systran/faster-whisper-base \\\n",
        "  REDIS_PASSWORD=$redis_pwd \\\n",
        "  RUN_OP=be \\\n",
        "  TQDM_DISABLE=True \\\n",
        "  TTS_TAG=tts_coqui TTS_STREAM=1 \\\n",
        "  N_GPU_LAYERS=33 FLASH_ATTN=1 \\\n",
        "  LLM_MODEL_NAME=qwen \\\n",
        "  LLM_MODEL_PATH=./models/qwen1_5-7b-chat-q8_0.gguf \\\n",
        "  python -m src.cmd.remote-queue-chat.generate_audio2audio > ./log/be_std_out.log"
      ]
    },
    {
      "cell_type": "code",
      "execution_count": null,
      "metadata": {
        "id": "J535-FVImimq"
      },
      "outputs": [],
      "source": [
        "!ASR_TAG=whisper_faster_asr \\\n",
        "  ASR_MODEL_NAME_OR_PATH=./models/Systran/faster-whisper-base \\\n",
        "  REDIS_PASSWORD=$redis_pwd \\\n",
        "  RUN_OP=be \\\n",
        "  TQDM_DISABLE=True \\\n",
        "  TTS_TAG=tts_coqui \\\n",
        "  N_GPU_LAYERS=33 FLASH_ATTN=1 \\\n",
        "  LLM_MODEL_NAME=qwen \\\n",
        "  LLM_MODEL_PATH=./models/qwen1_5-14b-chat-q8_0.gguf \\\n",
        "  python -m src.cmd.remote-queue-chat.generate_audio2audio > ./log/be_std_out.log"
      ]
    },
    {
      "cell_type": "code",
      "execution_count": null,
      "metadata": {
        "id": "mNCEuSXgNrM-"
      },
      "outputs": [],
      "source": [
        "!ASR_TAG=whisper_faster_asr \\\n",
        "  ASR_MODEL_NAME_OR_PATH=./models/Systran/faster-whisper-base \\\n",
        "  REDIS_PASSWORD=$redis_pwd \\\n",
        "  RUN_OP=be \\\n",
        "  TQDM_DISABLE=True \\\n",
        "  TTS_TAG=tts_coqui \\\n",
        "  N_GPU_LAYERS=29 FLASH_ATTN=1 \\\n",
        "  LLM_MODEL_NAME=qwen \\\n",
        "  LLM_MODEL_PATH=./models/qwen2-1_5b-instruct-q8_0.gguf \\\n",
        "  python -m src.cmd.remote-queue-chat.generate_audio2audio > ./log/be_std_out.log"
      ]
    },
    {
      "cell_type": "code",
      "execution_count": null,
      "metadata": {
        "id": "Y9_sP2HRNy8B"
      },
      "outputs": [],
      "source": [
        "!ASR_TAG=whisper_faster_asr \\\n",
        "  ASR_MODEL_NAME_OR_PATH=./models/Systran/faster-whisper-base \\\n",
        "  REDIS_PASSWORD=$redis_pwd \\\n",
        "  RUN_OP=be \\\n",
        "  TQDM_DISABLE=True \\\n",
        "  TTS_TAG=tts_coqui \\\n",
        "  N_GPU_LAYERS=29 FLASH_ATTN=1 \\\n",
        "  LLM_MODEL_NAME=qwen \\\n",
        "  LLM_MODEL_PATH=./models/qwen2-1_5b-instruct-fp16.gguf \\\n",
        "  python -m src.cmd.remote-queue-chat.generate_audio2audio > ./log/be_std_out.log"
      ]
    },
    {
      "cell_type": "code",
      "execution_count": null,
      "metadata": {
        "id": "wEENM5t5LC7-"
      },
      "outputs": [],
      "source": [
        "!ASR_TAG=whisper_faster_asr \\\n",
        "  ASR_MODEL_NAME_OR_PATH=./models/Systran/faster-whisper-base \\\n",
        "  REDIS_PASSWORD=$redis_pwd \\\n",
        "  RUN_OP=be \\\n",
        "  TQDM_DISABLE=True \\\n",
        "  TTS_TAG=tts_coqui \\\n",
        "  LLM_MODEL_NAME=qwen \\\n",
        "  LLM_MODEL_PATH=./models/qwen2-7b-instruct-q8_0.gguf \\\n",
        "  python -m src.cmd.remote-queue-chat.generate_audio2audio > ./log/be_std_out.log"
      ]
    },
    {
      "cell_type": "code",
      "execution_count": null,
      "metadata": {
        "id": "vfCMzS1VRIYJ"
      },
      "outputs": [],
      "source": [
        "!ASR_TAG=whisper_faster_asr \\\n",
        "  ASR_MODEL_NAME_OR_PATH=./models/Systran/faster-whisper-base \\\n",
        "  REDIS_PASSWORD=$redis_pwd \\\n",
        "  RUN_OP=be \\\n",
        "  TQDM_DISABLE=True \\\n",
        "  TTS_TAG=tts_coqui \\\n",
        "  LLM_MODEL_NAME=qwen \\\n",
        "  LLM_MODEL_PATH=./models/qwen2-7b-instruct-fp16.gguf \\\n",
        "  python -m src.cmd.remote-queue-chat.generate_audio2audio > ./log/be_std_out.log"
      ]
    },
    {
      "cell_type": "code",
      "execution_count": null,
      "metadata": {
        "id": "ru5774K1b1Yg"
      },
      "outputs": [],
      "source": [
        "# qwen2-57b moe\n",
        "!ASR_TAG=whisper_faster_asr \\\n",
        "  ASR_MODEL_NAME_OR_PATH=./models/Systran/faster-whisper-base \\\n",
        "  REDIS_PASSWORD=$redis_pwd \\\n",
        "  RUN_OP=be \\\n",
        "  TQDM_DISABLE=True \\\n",
        "  TTS_TAG=tts_coqui \\\n",
        "  LLM_MODEL_NAME=qwen \\\n",
        "  LLM_MODEL_PATH=./models/qwen2-57b-a14b-instruct-q3_k_m.gguf \\\n",
        "  python -m src.cmd.remote-queue-chat.generate_audio2audio > ./log/be_std_out.log"
      ]
    },
    {
      "cell_type": "code",
      "execution_count": null,
      "metadata": {
        "id": "hW0aqltdyauf"
      },
      "outputs": [],
      "source": [
        "!RUN_OP=be \\\n",
        "  TQDM_DISABLE=True \\\n",
        "  REDIS_PASSWORD=$redis_pwd \\\n",
        "  ASR_TAG=sense_voice_asr \\\n",
        "  ASR_LANG=zn \\\n",
        "  N_GPU_LAYERS=33 FLASH_ATTN=1 \\\n",
        "  LLM_MODEL_NAME=qwen \\\n",
        "  LLM_MODEL_PATH=./models/qwen1_5-7b-chat-q8_0.gguf \\\n",
        "  ASR_MODEL_NAME_OR_PATH=./models/FunAudioLLM/SenseVoiceSmall \\\n",
        "  TTS_TAG=tts_cosy_voice \\\n",
        "  python -m src.cmd.remote-queue-chat.generate_audio2audio > ./log/be_std_out.log"
      ]
    },
    {
      "cell_type": "markdown",
      "metadata": {
        "id": "1Enfif0_th1y"
      },
      "source": [
        "### opt"
      ]
    },
    {
      "cell_type": "markdown",
      "metadata": {
        "id": "_026sUOStj51"
      },
      "source": [
        "todo:\n",
        "- batch stream tts\n",
        "- use more gpu memory to parallel computing for model tensor weight\n",
        "- sft asr whisper model, llm, tts gen model\n"
      ]
    }
  ],
  "metadata": {
    "accelerator": "GPU",
    "colab": {
      "gpuType": "T4",
      "machine_shape": "hm",
      "provenance": [],
      "authorship_tag": "ABX9TyNie/iSJRSvLklaYEJUwpdY",
      "include_colab_link": true
    },
    "kernelspec": {
      "display_name": "Python 3",
      "name": "python3"
    },
    "language_info": {
      "name": "python"
    }
  },
  "nbformat": 4,
  "nbformat_minor": 0
}