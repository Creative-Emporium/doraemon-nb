{
  "cells": [
    {
      "cell_type": "markdown",
      "metadata": {
        "id": "view-in-github",
        "colab_type": "text"
      },
      "source": [
        "<a href=\"https://colab.research.google.com/github/weedge/doraemon-nb/blob/main/lsh_random_projection_simp.ipynb\" target=\"_parent\"><img src=\"https://colab.research.google.com/assets/colab-badge.svg\" alt=\"Open In Colab\"/></a>"
      ]
    },
    {
      "cell_type": "markdown",
      "metadata": {
        "id": "V3b6dtu45lP5"
      },
      "source": [
        "# Simple Random Projection\n",
        "\n",
        "In this notebook we will demonstrate a few aspects to LSH with random projection.\n",
        "\n",
        "First, we will create our normal vectors."
      ]
    },
    {
      "cell_type": "code",
      "execution_count": 1,
      "metadata": {
        "id": "VpTT-c-J5lP6"
      },
      "outputs": [],
      "source": [
        "nbits = 4  # number of hyperplanes and binary vals to produce\n",
        "d = 2  # vector dimensions"
      ]
    },
    {
      "cell_type": "code",
      "execution_count": 2,
      "metadata": {
        "id": "wQiiaX575lP9",
        "outputId": "e7dcf8f0-8201-4fad-d722-2251a4c878c6",
        "colab": {
          "base_uri": "https://localhost:8080/"
        }
      },
      "outputs": [
        {
          "output_type": "execute_result",
          "data": {
            "text/plain": [
              "array([[-0.26013043, -0.30916898],\n",
              "       [ 0.45810628, -0.24052132],\n",
              "       [-0.26951437, -0.42872805],\n",
              "       [-0.25704942, -0.03125735]])"
            ]
          },
          "metadata": {},
          "execution_count": 2
        }
      ],
      "source": [
        "import numpy as np\n",
        "# create a set of 4 hyperplanes, with 2 dimensions\n",
        "plane_norms = np.random.rand(nbits, d) - .5\n",
        "plane_norms"
      ]
    },
    {
      "cell_type": "markdown",
      "metadata": {
        "id": "aS60Ey1m5lP-"
      },
      "source": [
        "These normal vectors will be used to return +ve/-ve dot product values for different vectors - producing our hashed binary vectors. Let's visualize the direction of these normal vectors first."
      ]
    },
    {
      "cell_type": "code",
      "execution_count": 3,
      "metadata": {
        "id": "ecMm17JS5lP-",
        "outputId": "ce8f9b6a-e15e-4405-b73d-13867f8517ec",
        "colab": {
          "base_uri": "https://localhost:8080/",
          "height": 430
        }
      },
      "outputs": [
        {
          "output_type": "display_data",
          "data": {
            "text/plain": [
              "<Figure size 640x480 with 1 Axes>"
            ],
            "image/png": "[encoded data removed]"
          },
          "metadata": {}
        }
      ],
      "source": [
        "import matplotlib.pyplot as plt\n",
        "\n",
        "for norm in plane_norms:\n",
        "    plt.plot([0, norm[0]], [0, norm[1]])"
      ]
    },
    {
      "cell_type": "markdown",
      "metadata": {
        "id": "GvFByV-q5lP_"
      },
      "source": [
        "Looks good, now we will create a set of vectors to convert into binary format - these are `a`, `b`, and `c`."
      ]
    },
    {
      "cell_type": "code",
      "execution_count": 4,
      "metadata": {
        "id": "oF110xNB5lP_"
      },
      "outputs": [],
      "source": [
        "a = np.asarray([1, 2])\n",
        "b = np.asarray([2, 1])\n",
        "c = np.asarray([3, 1])"
      ]
    },
    {
      "cell_type": "markdown",
      "metadata": {
        "id": "fwpn_Jn35lQA"
      },
      "source": [
        "Calculate the dot-product between each and the normal vectors we built before."
      ]
    },
    {
      "cell_type": "code",
      "execution_count": 5,
      "metadata": {
        "id": "EQdUXkun5lQB",
        "outputId": "324fa42a-9932-4dd5-dd38-6b104e6e1a1b",
        "colab": {
          "base_uri": "https://localhost:8080/"
        }
      },
      "outputs": [
        {
          "output_type": "execute_result",
          "data": {
            "text/plain": [
              "array([-0.87846839, -0.02293636, -1.12697048, -0.31956412])"
            ]
          },
          "metadata": {},
          "execution_count": 5
        }
      ],
      "source": [
        "# calculate the dot product for each of these\n",
        "a_dot = np.dot(a, plane_norms.T)\n",
        "b_dot = np.dot(b, plane_norms.T)\n",
        "c_dot = np.dot(c, plane_norms.T)\n",
        "a_dot"
      ]
    },
    {
      "cell_type": "markdown",
      "metadata": {
        "id": "aVk3hhUw5lQB"
      },
      "source": [
        "And use the dot-product to create a Boolean array, we convert these values to ints - creating our hash buckets/binary vectors."
      ]
    },
    {
      "cell_type": "code",
      "execution_count": 6,
      "metadata": {
        "id": "XQTL3hXE5lQC",
        "outputId": "7dab1638-9ecb-4cb1-908a-c23138c928db",
        "colab": {
          "base_uri": "https://localhost:8080/"
        }
      },
      "outputs": [
        {
          "output_type": "execute_result",
          "data": {
            "text/plain": [
              "array([False, False, False, False])"
            ]
          },
          "metadata": {},
          "execution_count": 6
        }
      ],
      "source": [
        "# we know that a positive dot product == +ve side of hyperplane\n",
        "# and negative dot product == -ve side of hyperplane\n",
        "a_dot = a_dot > 0\n",
        "b_dot = b_dot > 0\n",
        "c_dot = c_dot > 0\n",
        "a_dot"
      ]
    },
    {
      "cell_type": "code",
      "execution_count": 7,
      "metadata": {
        "id": "9W_FUc6Y5lQC",
        "outputId": "f23fa91f-0cec-48e0-cb7f-0f0ea0143269",
        "colab": {
          "base_uri": "https://localhost:8080/"
        }
      },
      "outputs": [
        {
          "output_type": "execute_result",
          "data": {
            "text/plain": [
              "array([0, 0, 0, 0])"
            ]
          },
          "metadata": {},
          "execution_count": 7
        }
      ],
      "source": [
        "# finally, we convert our boolean arrays to int arrays to make bucketing\n",
        "# easier (although we can still use boolean values for Hamming distance)\n",
        "a_dot = a_dot.astype(int)\n",
        "b_dot = b_dot.astype(int)\n",
        "c_dot = c_dot.astype(int)\n",
        "a_dot"
      ]
    },
    {
      "cell_type": "code",
      "execution_count": 8,
      "metadata": {
        "id": "DsEy8lNH5lQC",
        "outputId": "c7f088e2-ce17-4730-91a3-9bc7cc05919c",
        "colab": {
          "base_uri": "https://localhost:8080/"
        }
      },
      "outputs": [
        {
          "output_type": "execute_result",
          "data": {
            "text/plain": [
              "array([0, 1, 0, 0])"
            ]
          },
          "metadata": {},
          "execution_count": 8
        }
      ],
      "source": [
        "b_dot"
      ]
    },
    {
      "cell_type": "code",
      "execution_count": 9,
      "metadata": {
        "id": "T2o49xD05lQC",
        "outputId": "e6a33d0e-2c8f-40ed-e131-08cbd533f5db",
        "colab": {
          "base_uri": "https://localhost:8080/"
        }
      },
      "outputs": [
        {
          "output_type": "execute_result",
          "data": {
            "text/plain": [
              "array([0, 1, 0, 0])"
            ]
          },
          "metadata": {},
          "execution_count": 9
        }
      ],
      "source": [
        "c_dot"
      ]
    },
    {
      "cell_type": "markdown",
      "metadata": {
        "id": "UkklFWTc5lQD"
      },
      "source": [
        "And now we bucket each of our vectors, `a`, `b`, and `c` will be represented by `0`, `1`, and `2` respectively."
      ]
    },
    {
      "cell_type": "code",
      "execution_count": 10,
      "metadata": {
        "id": "j13ikTuh5lQD",
        "outputId": "76dd0150-b169-4870-9b94-8c85a05378a1",
        "colab": {
          "base_uri": "https://localhost:8080/"
        }
      },
      "outputs": [
        {
          "output_type": "stream",
          "name": "stdout",
          "text": [
            "{'0000': [0], '0100': [1, 2]}\n"
          ]
        }
      ],
      "source": [
        "vectors = [a_dot, b_dot, c_dot]\n",
        "buckets = {}\n",
        "i = 0\n",
        "\n",
        "for i in range(len(vectors)):\n",
        "    # convert from array to string\n",
        "    hash_str = ''.join(vectors[i].astype(str))\n",
        "    # create bucket if it doesn't exist\n",
        "    if hash_str not in buckets.keys():\n",
        "        buckets[hash_str] = []\n",
        "    # add vector position to bucket\n",
        "    buckets[hash_str].append(i)\n",
        "\n",
        "print(buckets)"
      ]
    }
  ],
  "metadata": {
    "kernelspec": {
      "display_name": "base",
      "language": "python",
      "name": "python3"
    },
    "language_info": {
      "codemirror_mode": {
        "name": "ipython",
        "version": 3
      },
      "file_extension": ".py",
      "mimetype": "text/x-python",
      "name": "python",
      "nbconvert_exporter": "python",
      "pygments_lexer": "ipython3",
      "version": "3.8.13 (default, Mar 28 2022, 06:59:08) [MSC v.1916 64 bit (AMD64)]"
    },
    "orig_nbformat": 4,
    "vscode": {
      "interpreter": {
        "hash": "5fe10bf018ef3e697f9035d60bf60847932a12bface18908407fd371fe880db9"
      }
    },
    "colab": {
      "provenance": [],
      "include_colab_link": true
    }
  },
  "nbformat": 4,
  "nbformat_minor": 0
}