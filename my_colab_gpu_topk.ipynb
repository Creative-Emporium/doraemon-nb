{
  "nbformat": 4,
  "nbformat_minor": 0,
  "metadata": {
    "colab": {
      "provenance": [],
      "gpuType": "A100",
      "collapsed_sections": [
        "HHXJ1_vE4urh"
      ],
      "machine_shape": "hm",
      "toc_visible": true,
      "authorship_tag": "ABX9TyNTa32Mkpgfn+x6nSeHfe7Q",
      "include_colab_link": true
    },
    "kernelspec": {
      "name": "python3",
      "display_name": "Python 3"
    },
    "language_info": {
      "name": "python"
    },
    "accelerator": "GPU"
  },
  "cells": [
    {
      "cell_type": "markdown",
      "metadata": {
        "id": "view-in-github",
        "colab_type": "text"
      },
      "source": [
        "<a href=\"https://colab.research.google.com/github/weedge/doraemon-nb/blob/main/my_colab_gpu_topk.ipynb\" target=\"_parent\"><img src=\"https://colab.research.google.com/assets/colab-badge.svg\" alt=\"Open In Colab\"/></a>"
      ]
    },
    {
      "cell_type": "markdown",
      "source": [
        "# task\n",
        "Given 8.5 million big data files, each data is an integer id vector of up to 128 dimensions (called doc), and the id value range is 0-50000.\n",
        "Given a integer id vector of up to 128 dimensions (called query), the data set can be spread for optimization\n",
        "\n",
        "```shell\n",
        "# Generate test data, has been sorted in ascending order, the default docs file counts one document per line,10 documents; 10 query files\n",
        "make gen\n",
        "```\n",
        "Find the average score topk (k=100) of the number of data intersections in query and doc; Here we define the intersection fraction of item as:\n",
        "query[i] == doc[j] (0<=i<query_size, 0<=j<doc_size) calculates an intersection, the average number of query and doc intersections /max(query_size,doc_size)\n",
        "\n",
        "``` shell\n",
        "./bin/query_doc_scoring <doc_file_name> <query_file_name> <output_filename>\n",
        "```\n",
        "\n",
        "# optimize\n",
        "note: just optimize stand-alone, for dist m/r(fan-out/in) arch to schedule those instances.\n",
        "\n",
        "0. gpu device RR balance by user request\n",
        "1. concurrency(cpu thread pool) + parallel(cpu openMP + gpu warp threads): cpu(baseline) -> cpu thread concurrency -> cpu + gpu -> cpu thread concurrency/parallel + gpu stream concurrency/warp thread parallel => dist\n",
        "2. find or filter: use hashmap/bitmap(bloom) on cpu/gpu global memory or gpu shared memory\n",
        "3. topk sort: heap sort (partial_sort) on cpu -> bitonic/radix sort on gpu parallel topk,then reduce topk to cpu\n",
        "4. search: need build index (list(IVF,skip),tree, graph), orderly struct/model\n",
        "5. SIMD: for cpu arch instruction set (intel cpu sse,avx2,avx512 etc..)\n",
        "6. sequential IO stream pipeline: for r query/docs file, (batch per thread, multibyte_split parallel Accelerators) , w res file\n",
        "7. resources pool\n",
        "\n",
        "# reference\n",
        "- https://docs.nvidia.com/cuda/cuda-c-programming-guide/index.html\n",
        "- https://docs.nvidia.com/cuda/cuda-c-best-practices-guide/index.html\n",
        "- https://docs.nvidia.com/cuda/cuda-compiler-driver-nvcc/index.html\n",
        "- https://docs.nvidia.com/cuda/cuda-runtime-api/index.html\n",
        "- https://docs.nvidia.com/cuda/thrust/index.html\n",
        "- https://arnon.dk/matching-sm-architectures-arch-and-gencode-for-various-nvidia-cards/\n",
        "- https://nvlabs.github.io/cub/index.html\n",
        "- https://stotko.github.io/stdgpu/api/memory.html\n",
        "-\n",
        "- https://www.youtube.com/watch?v=cOBtkPsgkus\n",
        "- **https://www.youtube.com/watch?v=Na9_2G6niMw**\n",
        "-\n",
        "- https://www.csd.uwo.ca/~mmorenom/HPC-Slides/Many_core_computing_with_CUDA.pdf\n",
        "- [Exploring Performance Portability for Accelerators via High-level Parallel Patterns](https://scholar.google.com/citations?view_op=view_citation&hl=en&user=4Ab_NBkAAAAJ&citation_for_view=4Ab_NBkAAAAJ:hqOjcs7Dif8C), [PPT](https://pdfs.semanticscholar.org/b34a/f7c4739d622379fa31a1e88155335061c1b1.pdf)\n",
        "\n",
        "-\n",
        "- https://zhuanlan.zhihu.com/p/52344300\n",
        "-\n",
        "- https://passlab.github.io/OpenMPProgrammingBook/cover.html\n",
        "-\n",
        "\n",
        "- https://developer.nvidia.com/blog/maximizing-performance-with-massively-parallel-hash-maps-on-gpus/\n",
        "\n",
        "- https://github.com/rapidsai/raft/blob/branch-23.12/docs/source/vector_search_tutorial.md\n",
        "\n",
        "\n",
        "## view paper\n",
        "1. [Fast Segmented Sort on GPUs.](https://raw.github.com/weedge/learn/main/gpu/Fast%20Segmented%20Sort%20on%20GPUs.pdf)\n",
        "2. [Efficient Top-K query processing on massively parallel hardware](https://raw.githubusercontent.com/weedge/learn/main/gpu/Efficient%20Top-K%20Query%20Processing%20on%20Massively%20Parallel%20Hardware.pdf)\n",
        "3. [stdgpu: Efficient STL-like Data Structures on the GPU](https://www.researchgate.net/publication/335233070_stdgpu_Efficient_STL-like_Data_Structures_on_the_GPU)\n",
        "4. [Parallel Top-K Algorithms on GPU: A Comprehensive Study and New Methods](https://sc23.supercomputing.org/presentation/?id=pap294&sess=sess156)\n",
        "\n",
        "## view code\n",
        "1. https://github.com/rapidsai/cudf/pull/8702 , https://github.com/rapidsai/cudf/blob/branch-23.12/cpp/tests/io/text/multibyte_split_test.cpp\n",
        "2. https://github.com/vtsynergy/bb_segsort (k/v), https://github.com/Funatiq/bb_segsort (k,k/v)\n",
        "3. https://github.com/anilshanbhag/gpu-topk\n",
        "4. https://github.com/heavyai/heavydb/blob/master/QueryEngine/TopKSort.cu\n",
        "5. https://github.com/rapidsai/raft/blob/branch-23.12/cpp/include/raft/neighbors/detail/cagra/topk_for_cagra/topk_core.cuh\n",
        "6. https://github.com/rapidsai/raft/blob/branch-23.12/cpp/include/raft/matrix/select_k.cuh , https://github.com/rapidsai/raft/blob/branch-23.12/cpp/test/matrix/select_k.cuh"
      ],
      "metadata": {
        "id": "aMdCQaWebOOG"
      }
    },
    {
      "cell_type": "markdown",
      "source": [
        "## run baseline"
      ],
      "metadata": {
        "id": "q1V_7I2dPC5z"
      }
    },
    {
      "cell_type": "code",
      "source": [
        "!python --version"
      ],
      "metadata": {
        "colab": {
          "base_uri": "https://localhost:8080/"
        },
        "id": "H5w7aMon808y",
        "outputId": "d06203c5-fd66-4096-e8b1-d5a9997a585d"
      },
      "execution_count": null,
      "outputs": [
        {
          "output_type": "stream",
          "name": "stdout",
          "text": [
            "Python 3.10.12\n"
          ]
        }
      ]
    },
    {
      "cell_type": "code",
      "source": [
        "!!lsblk"
      ],
      "metadata": {
        "colab": {
          "base_uri": "https://localhost:8080/"
        },
        "id": "6h9UAHUZhQ88",
        "outputId": "d2c90465-e17a-426c-d267-6bdf12ae07cf"
      },
      "execution_count": 239,
      "outputs": [
        {
          "output_type": "execute_result",
          "data": {
            "text/plain": [
              "['NAME    MAJ:MIN RM   SIZE RO TYPE MOUNTPOINTS',\n",
              " 'loop0     7:0    0   170G  0 loop ',\n",
              " 'sda       8:0    0   180G  0 disk ',\n",
              " '├─sda1    8:1    0 175.8G  0 part /opt/bin/.nvidia',\n",
              " '│                                 /etc/hosts',\n",
              " '│                                 /etc/hostname',\n",
              " '│                                 /etc/resolv.conf',\n",
              " '│                                 /usr/lib64-nvidia',\n",
              " '├─sda2    8:2    0    16M  0 part ',\n",
              " '├─sda3    8:3    0     2G  0 part ',\n",
              " '├─sda4    8:4    0    16M  0 part ',\n",
              " '├─sda5    8:5    0     2G  0 part ',\n",
              " '├─sda6    8:6    0   512B  0 part ',\n",
              " '├─sda7    8:7    0   512B  0 part ',\n",
              " '├─sda8    8:8    0    16M  0 part ',\n",
              " '├─sda9    8:9    0   512B  0 part ',\n",
              " '├─sda10   8:10   0   512B  0 part ',\n",
              " '├─sda11   8:11   0     8M  0 part ',\n",
              " '└─sda12   8:12   0    32M  0 part ']"
            ]
          },
          "metadata": {},
          "execution_count": 239
        }
      ]
    },
    {
      "cell_type": "code",
      "source": [
        "!nvcc -h"
      ],
      "metadata": {
        "id": "1Gpjz3MyYeaD"
      },
      "execution_count": null,
      "outputs": []
    },
    {
      "cell_type": "code",
      "source": [
        "!nvidia-smi"
      ],
      "metadata": {
        "colab": {
          "base_uri": "https://localhost:8080/"
        },
        "id": "dmtPt4JhyDMx",
        "outputId": "d9eefb97-e1f3-4c86-adb1-2a0309861ff8"
      },
      "execution_count": null,
      "outputs": [
        {
          "output_type": "stream",
          "name": "stdout",
          "text": [
            "Fri Nov 10 04:03:27 2023       \n",
            "+-----------------------------------------------------------------------------+\n",
            "| NVIDIA-SMI 525.105.17   Driver Version: 525.105.17   CUDA Version: 12.0     |\n",
            "|-------------------------------+----------------------+----------------------+\n",
            "| GPU  Name        Persistence-M| Bus-Id        Disp.A | Volatile Uncorr. ECC |\n",
            "| Fan  Temp  Perf  Pwr:Usage/Cap|         Memory-Usage | GPU-Util  Compute M. |\n",
            "|                               |                      |               MIG M. |\n",
            "|===============================+======================+======================|\n",
            "|   0  NVIDIA A100-SXM...  Off  | 00000000:00:04.0 Off |                    0 |\n",
            "| N/A   33C    P0    44W / 400W |      0MiB / 40960MiB |      0%      Default |\n",
            "|                               |                      |             Disabled |\n",
            "+-------------------------------+----------------------+----------------------+\n",
            "                                                                               \n",
            "+-----------------------------------------------------------------------------+\n",
            "| Processes:                                                                  |\n",
            "|  GPU   GI   CI        PID   Type   Process name                  GPU Memory |\n",
            "|        ID   ID                                                   Usage      |\n",
            "|=============================================================================|\n",
            "|  No running processes found                                                 |\n",
            "+-----------------------------------------------------------------------------+\n"
          ]
        }
      ]
    },
    {
      "cell_type": "code",
      "source": [
        "!nvidia-smi -q"
      ],
      "metadata": {
        "id": "bse9fRFNxkZI",
        "colab": {
          "base_uri": "https://localhost:8080/"
        },
        "outputId": "1cc1865d-d2b3-4e3f-948e-a5d708dba604"
      },
      "execution_count": null,
      "outputs": [
        {
          "output_type": "stream",
          "name": "stdout",
          "text": [
            "\n",
            "==============NVSMI LOG==============\n",
            "\n",
            "Timestamp                                 : Fri Nov 10 04:03:40 2023\n",
            "Driver Version                            : 525.105.17\n",
            "CUDA Version                              : 12.0\n",
            "\n",
            "Attached GPUs                             : 1\n",
            "GPU 00000000:00:04.0\n",
            "    Product Name                          : NVIDIA A100-SXM4-40GB\n",
            "    Product Brand                         : NVIDIA\n",
            "    Product Architecture                  : Ampere\n",
            "    Display Mode                          : Enabled\n",
            "    Display Active                        : Disabled\n",
            "    Persistence Mode                      : Disabled\n",
            "    MIG Mode\n",
            "        Current                           : Disabled\n",
            "        Pending                           : Disabled\n",
            "    Accounting Mode                       : Disabled\n",
            "    Accounting Mode Buffer Size           : 4000\n",
            "    Driver Model\n",
            "        Current                           : N/A\n",
            "        Pending                           : N/A\n",
            "    Serial Number                         : 1322120078438\n",
            "    GPU UUID                              : GPU-0dcaea2f-ae32-0f80-2786-c4753063c2e1\n",
            "    Minor Number                          : 0\n",
            "    VBIOS Version                         : 92.00.45.00.03\n",
            "    MultiGPU Board                        : No\n",
            "    Board ID                              : 0x4\n",
            "    Board Part Number                     : 692-2G506-0200-000\n",
            "    GPU Part Number                       : 20B0-884-A1\n",
            "    Module ID                             : 5\n",
            "    Inforom Version\n",
            "        Image Version                     : G506.0200.00.04\n",
            "        OEM Object                        : 2.0\n",
            "        ECC Object                        : 6.16\n",
            "        Power Management Object           : N/A\n",
            "    GPU Operation Mode\n",
            "        Current                           : N/A\n",
            "        Pending                           : N/A\n",
            "    GSP Firmware Version                  : N/A\n",
            "    GPU Virtualization Mode\n",
            "        Virtualization Mode               : Pass-Through\n",
            "        Host VGPU Mode                    : N/A\n",
            "    IBMNPU\n",
            "        Relaxed Ordering Mode             : N/A\n",
            "    PCI\n",
            "        Bus                               : 0x00\n",
            "        Device                            : 0x04\n",
            "        Domain                            : 0x0000\n",
            "        Device Id                         : 0x20B010DE\n",
            "        Bus Id                            : 00000000:00:04.0\n",
            "        Sub System Id                     : 0x134F10DE\n",
            "        GPU Link Info\n",
            "            PCIe Generation\n",
            "                Max                       : 4\n",
            "                Current                   : 4\n",
            "                Device Current            : 4\n",
            "                Device Max                : 4\n",
            "                Host Max                  : N/A\n",
            "            Link Width\n",
            "                Max                       : 16x\n",
            "                Current                   : 16x\n",
            "        Bridge Chip\n",
            "            Type                          : N/A\n",
            "            Firmware                      : N/A\n",
            "        Replays Since Reset               : 0\n",
            "        Replay Number Rollovers           : 0\n",
            "        Tx Throughput                     : 0 KB/s\n",
            "        Rx Throughput                     : 0 KB/s\n",
            "        Atomic Caps Inbound               : N/A\n",
            "        Atomic Caps Outbound              : N/A\n",
            "    Fan Speed                             : N/A\n",
            "    Performance State                     : P0\n",
            "    Clocks Throttle Reasons\n",
            "        Idle                              : Active\n",
            "        Applications Clocks Setting       : Not Active\n",
            "        SW Power Cap                      : Not Active\n",
            "        HW Slowdown                       : Not Active\n",
            "            HW Thermal Slowdown           : Not Active\n",
            "            HW Power Brake Slowdown       : Not Active\n",
            "        Sync Boost                        : Not Active\n",
            "        SW Thermal Slowdown               : Not Active\n",
            "        Display Clock Setting             : Not Active\n",
            "    FB Memory Usage\n",
            "        Total                             : 40960 MiB\n",
            "        Reserved                          : 446 MiB\n",
            "        Used                              : 0 MiB\n",
            "        Free                              : 40513 MiB\n",
            "    BAR1 Memory Usage\n",
            "        Total                             : 65536 MiB\n",
            "        Used                              : 1 MiB\n",
            "        Free                              : 65535 MiB\n",
            "    Compute Mode                          : Default\n",
            "    Utilization\n",
            "        Gpu                               : 0 %\n",
            "        Memory                            : 0 %\n",
            "        Encoder                           : 0 %\n",
            "        Decoder                           : 0 %\n",
            "    Encoder Stats\n",
            "        Active Sessions                   : 0\n",
            "        Average FPS                       : 0\n",
            "        Average Latency                   : 0\n",
            "    FBC Stats\n",
            "        Active Sessions                   : 0\n",
            "        Average FPS                       : 0\n",
            "        Average Latency                   : 0\n",
            "    Ecc Mode\n",
            "        Current                           : Enabled\n",
            "        Pending                           : Enabled\n",
            "    ECC Errors\n",
            "        Volatile\n",
            "            SRAM Correctable              : 0\n",
            "            SRAM Uncorrectable            : 0\n",
            "            DRAM Correctable              : 0\n",
            "            DRAM Uncorrectable            : 0\n",
            "        Aggregate\n",
            "            SRAM Correctable              : 0\n",
            "            SRAM Uncorrectable            : 0\n",
            "            DRAM Correctable              : 0\n",
            "            DRAM Uncorrectable            : 0\n",
            "    Retired Pages\n",
            "        Single Bit ECC                    : N/A\n",
            "        Double Bit ECC                    : N/A\n",
            "        Pending Page Blacklist            : N/A\n",
            "    Remapped Rows\n",
            "        Correctable Error                 : 0\n",
            "        Uncorrectable Error               : 0\n",
            "        Pending                           : No\n",
            "        Remapping Failure Occurred        : No\n",
            "        Bank Remap Availability Histogram\n",
            "            Max                           : 640 bank(s)\n",
            "            High                          : 0 bank(s)\n",
            "            Partial                       : 0 bank(s)\n",
            "            Low                           : 0 bank(s)\n",
            "            None                          : 0 bank(s)\n",
            "    Temperature\n",
            "        GPU Current Temp                  : 33 C\n",
            "        GPU T.Limit Temp                  : N/A\n",
            "        GPU Shutdown Temp                 : 92 C\n",
            "        GPU Slowdown Temp                 : 89 C\n",
            "        GPU Max Operating Temp            : 85 C\n",
            "        GPU Target Temperature            : N/A\n",
            "        Memory Current Temp               : 33 C\n",
            "        Memory Max Operating Temp         : 95 C\n",
            "    Power Readings\n",
            "        Power Management                  : Supported\n",
            "        Power Draw                        : 44.50 W\n",
            "        Power Limit                       : 400.00 W\n",
            "        Default Power Limit               : 400.00 W\n",
            "        Enforced Power Limit              : 400.00 W\n",
            "        Min Power Limit                   : 100.00 W\n",
            "        Max Power Limit                   : 400.00 W\n",
            "    Clocks\n",
            "        Graphics                          : 210 MHz\n",
            "        SM                                : 210 MHz\n",
            "        Memory                            : 1215 MHz\n",
            "        Video                             : 585 MHz\n",
            "    Applications Clocks\n",
            "        Graphics                          : 1095 MHz\n",
            "        Memory                            : 1215 MHz\n",
            "    Default Applications Clocks\n",
            "        Graphics                          : 1095 MHz\n",
            "        Memory                            : 1215 MHz\n",
            "    Deferred Clocks\n",
            "        Memory                            : N/A\n",
            "    Max Clocks\n",
            "        Graphics                          : 1410 MHz\n",
            "        SM                                : 1410 MHz\n",
            "        Memory                            : 1215 MHz\n",
            "        Video                             : 1290 MHz\n",
            "    Max Customer Boost Clocks\n",
            "        Graphics                          : 1410 MHz\n",
            "    Clock Policy\n",
            "        Auto Boost                        : N/A\n",
            "        Auto Boost Default                : N/A\n",
            "    Voltage\n",
            "        Graphics                          : 706.250 mV\n",
            "    Fabric\n",
            "        State                             : N/A\n",
            "        Status                            : N/A\n",
            "    Processes                             : None\n",
            "\n"
          ]
        }
      ]
    },
    {
      "cell_type": "code",
      "source": [
        "!wget https://developer.download.nvidia.com/compute/cuda/repos/ubuntu2204/x86_64/nsight-systems-2023.2.3_2023.2.3.1001-1_amd64.deb\n",
        "!apt update\n",
        "!apt install ./nsight-systems-2023.2.3_2023.2.3.1001-1_amd64.deb\n",
        "!apt --fix-broken install\n"
      ],
      "metadata": {
        "id": "HrBuKvu-ETAp"
      },
      "execution_count": null,
      "outputs": []
    },
    {
      "cell_type": "code",
      "source": [
        "!wget \"https://bj.bcebos.com/v1/ai-studio-online/9805dd2d2e8e472693efac637628e16b9f9c5be0fe30438bb4a80de3b386781a?responseContentDisposition=attachment%3B%20filename%3DSTI2_1017.zip&authorization=bce-auth-v1%2F5cfe9a5e1454405eb2a975c43eace6ec%2F2023-10-18T12%3A42%3A27Z%2F-1%2F%2F6b5388dcd9013bc9b340bb1806476afa938ce0c65f2f595e1a75f529e90e4187\" -O STI2_1017.zip"
      ],
      "metadata": {
        "id": "RaVp3M11Ehkd"
      },
      "execution_count": null,
      "outputs": []
    },
    {
      "cell_type": "code",
      "source": [
        "!rm -rf STI2 && unzip STI2_1017.zip && mv STI2\\ 2 STI2"
      ],
      "metadata": {
        "id": "hncSzwE_Ej_i"
      },
      "execution_count": null,
      "outputs": []
    },
    {
      "cell_type": "code",
      "source": [
        "!sh STI2/build.sh"
      ],
      "metadata": {
        "id": "nAUCeZk0EqND"
      },
      "execution_count": null,
      "outputs": []
    },
    {
      "cell_type": "code",
      "source": [
        "!STI2/bin/query_doc_scoring STI2/translate/docs.txt STI2/translate/querys ./res_gpu_baseline.txt"
      ],
      "metadata": {
        "colab": {
          "base_uri": "https://localhost:8080/"
        },
        "id": "fm8QIAby0-fK",
        "outputId": "9525a606-dec3-4f1f-fc39-1ee0e8ffd8f7"
      },
      "execution_count": null,
      "outputs": [
        {
          "output_type": "stream",
          "name": "stdout",
          "text": [
            "start get topk\n",
            "query1.txt:10, 11, 16, 17, 42, 60, 22524, 22546, 22590, 22784, 23212, 23427, 23485, 23525, 23554, 24129, 24133, 24645, 24804, 24875, 25129, 25242, 25502, 25705, 25994, 26000, 26045, 26046, 26077, 26114, 26247, 26338, 26407, 27263, 27468, 27513, 28100, 40111, 40228, 40388, 41700, 45156, 45946, 46367, 47181, 47460, 47672\n",
            "query2.txt:10, 16, 18, 21, 22, 23, 30, 42, 43, 44, 45, 54, 22497, 22512, 22524, 22533, 22535, 22608, 22624, 22790, 22828, 22836, 22885, 23188, 23381, 23409, 23558, 24103, 24197, 24250, 24496, 24918, 24974, 24987, 25179, 25317, 25827, 25994, 25996, 26009, 26015, 26023, 26030, 26050, 26052, 26082, 26096, 26205, 26247, 27399, 27475, 40029, 40300, 40416, 40504, 40696, 40837, 41166, 41172, 41336, 41407, 41516, 43247, 43309, 44547, 44795, 45101, 48828\n",
            "query3.txt:11, 12, 13, 14, 21, 22, 23, 33, 42, 53, 61, 1380, 1545, 1546, 1557, 1560, 1566, 1569, 1583, 1646, 1759, 1762, 1787, 1794, 1877, 1882, 1892, 2069, 2120, 2146, 2368, 2670, 2888, 3022, 3327, 3335, 22460, 22461, 22462, 22497, 22507, 22512, 22797, 22828, 22885, 23010, 23112, 23337, 23351, 23358, 23441, 23930, 24093, 24301, 24320, 24416, 24771, 25378, 25476, 25846, 25882, 25994, 26692, 26992, 30070, 30085, 30111, 30116, 30188, 30195, 30294, 30332, 30476, 30488, 30656, 30731, 30920, 31021, 31024, 31382, 31493, 31510, 31562, 32167, 32657, 33375, 34247, 35336, 36536, 37502, 37643, 38316, 40228, 40510, 40620, 40785, 40793, 41176, 42143, 42766, 43047, 43895, 45069, 46492, 47956, 48995, 49443\n",
            "query4.txt:11, 18, 30, 32, 60, 1557, 1622, 2279, 22469, 22470, 22497, 22590, 22652, 22921, 22940, 23264, 23441, 24138, 26009, 26038, 26046, 26901, 27654, 30040, 30651, 31928, 32002, 32497, 40074, 40411, 40446, 41107, 46175, 46608\n",
            "query5.txt:11, 18, 35, 50, 54, 60, 22533, 22608, 22624, 22686, 22777, 22782, 23140, 23215, 24212, 25188, 26030, 26054, 26259, 26323, 28175, 40366, 40908, 42041\n",
            "query6.txt:21, 1557, 1559, 1561, 1565, 1568, 2118, 22590, 30489\n",
            "query7.txt:16, 17, 42, 22497, 22524, 22652, 22686, 22735, 22736, 22777, 23489, 23535, 25994, 26013, 26069, 26077, 26114, 26251, 26297, 26628, 26633, 26705, 27123, 27320, 40111, 41533, 42195, 42733, 42837, 46956, 49373\n",
            "query8.txt:16, 18, 21, 22, 30, 35, 42, 1600, 1614, 1707, 1875, 2088, 22459, 22463, 22464, 22466, 22474, 22497, 22502, 22507, 22512, 22529, 22533, 22535, 22590, 22608, 22652, 22684, 22686, 22777, 22795, 22803, 22824, 22828, 22867, 22971, 22972, 23066, 23116, 23150, 23188, 23199, 23289, 23312, 23692, 23760, 23927, 24089, 24136, 24301, 25166, 25359, 25502, 25582, 25994, 26015, 26043, 26086, 26114, 26236, 26251, 26515, 27125, 27276, 28235, 28283, 28297, 32541, 33756, 40210, 40320, 40945, 41092, 41096, 41123, 41245, 41665, 41762, 42525, 42820, 43852, 45045, 45264, 47110, 47491, 47632, 47763, 48145, 49837\n",
            "query9.txt:18, 30, 1388, 1557, 1622, 2279, 22469, 22470, 22535, 22777, 24309, 26007, 26046, 26217, 26530, 27824, 30040, 30651, 31928, 32002, 32497, 40074, 41796, 43144, 44293, 46955, 47628, 48045\n",
            "query_size: 9\n",
            "doc_size: 7853052\n",
            "read file cost 32863 ms \n",
            "topk cost 2688 ms \n",
            "all cost 35551 ms \n",
            "end get topk\n"
          ]
        }
      ]
    },
    {
      "cell_type": "code",
      "source": [
        "!nvcc STI2/src/main.cpp STI2/src/topk.cu -o STI2/bin/query_doc_scoring_gpu  \\\n",
        "\t-ISTI2/src \\\n",
        "\t-L/usr/local/cuda/lib64 -lcudart -lcuda \\\n",
        "\t-std=c++11 \\\n",
        "\t-O3 \\\n",
        "\t-g\n"
      ],
      "metadata": {
        "id": "XtxywrK8cm-Z"
      },
      "execution_count": null,
      "outputs": []
    },
    {
      "cell_type": "code",
      "source": [
        "!STI2/bin/query_doc_scoring_gpu STI2/translate/docs.txt STI2/translate/querys ./res_3.txt"
      ],
      "metadata": {
        "colab": {
          "base_uri": "https://localhost:8080/"
        },
        "id": "KpB3DhGQdu3T",
        "outputId": "e7290c47-2a3f-4ba6-a2fb-0620d264a257"
      },
      "execution_count": null,
      "outputs": [
        {
          "output_type": "stream",
          "name": "stdout",
          "text": [
            "start get topk\n",
            "query1.txt:10, 11, 16, 17, 42, 60, 22524, 22546, 22590, 22784, 23212, 23427, 23485, 23525, 23554, 24129, 24133, 24645, 24804, 24875, 25129, 25242, 25502, 25705, 25994, 26000, 26045, 26046, 26077, 26114, 26247, 26338, 26407, 27263, 27468, 27513, 28100, 40111, 40228, 40388, 41700, 45156, 45946, 46367, 47181, 47460, 47672\n",
            "query2.txt:10, 16, 18, 21, 22, 23, 30, 42, 43, 44, 45, 54, 22497, 22512, 22524, 22533, 22535, 22608, 22624, 22790, 22828, 22836, 22885, 23188, 23381, 23409, 23558, 24103, 24197, 24250, 24496, 24918, 24974, 24987, 25179, 25317, 25827, 25994, 25996, 26009, 26015, 26023, 26030, 26050, 26052, 26082, 26096, 26205, 26247, 27399, 27475, 40029, 40300, 40416, 40504, 40696, 40837, 41166, 41172, 41336, 41407, 41516, 43247, 43309, 44547, 44795, 45101, 48828\n",
            "query3.txt:11, 12, 13, 14, 21, 22, 23, 33, 42, 53, 61, 1380, 1545, 1546, 1557, 1560, 1566, 1569, 1583, 1646, 1759, 1762, 1787, 1794, 1877, 1882, 1892, 2069, 2120, 2146, 2368, 2670, 2888, 3022, 3327, 3335, 22460, 22461, 22462, 22497, 22507, 22512, 22797, 22828, 22885, 23010, 23112, 23337, 23351, 23358, 23441, 23930, 24093, 24301, 24320, 24416, 24771, 25378, 25476, 25846, 25882, 25994, 26692, 26992, 30070, 30085, 30111, 30116, 30188, 30195, 30294, 30332, 30476, 30488, 30656, 30731, 30920, 31021, 31024, 31382, 31493, 31510, 31562, 32167, 32657, 33375, 34247, 35336, 36536, 37502, 37643, 38316, 40228, 40510, 40620, 40785, 40793, 41176, 42143, 42766, 43047, 43895, 45069, 46492, 47956, 48995, 49443\n",
            "query4.txt:11, 18, 30, 32, 60, 1557, 1622, 2279, 22469, 22470, 22497, 22590, 22652, 22921, 22940, 23264, 23441, 24138, 26009, 26038, 26046, 26901, 27654, 30040, 30651, 31928, 32002, 32497, 40074, 40411, 40446, 41107, 46175, 46608\n",
            "query5.txt:11, 18, 35, 50, 54, 60, 22533, 22608, 22624, 22686, 22777, 22782, 23140, 23215, 24212, 25188, 26030, 26054, 26259, 26323, 28175, 40366, 40908, 42041\n",
            "query6.txt:21, 1557, 1559, 1561, 1565, 1568, 2118, 22590, 30489\n",
            "query7.txt:16, 17, 42, 22497, 22524, 22652, 22686, 22735, 22736, 22777, 23489, 23535, 25994, 26013, 26069, 26077, 26114, 26251, 26297, 26628, 26633, 26705, 27123, 27320, 40111, 41533, 42195, 42733, 42837, 46956, 49373\n",
            "query8.txt:16, 18, 21, 22, 30, 35, 42, 1600, 1614, 1707, 1875, 2088, 22459, 22463, 22464, 22466, 22474, 22497, 22502, 22507, 22512, 22529, 22533, 22535, 22590, 22608, 22652, 22684, 22686, 22777, 22795, 22803, 22824, 22828, 22867, 22971, 22972, 23066, 23116, 23150, 23188, 23199, 23289, 23312, 23692, 23760, 23927, 24089, 24136, 24301, 25166, 25359, 25502, 25582, 25994, 26015, 26043, 26086, 26114, 26236, 26251, 26515, 27125, 27276, 28235, 28283, 28297, 32541, 33756, 40210, 40320, 40945, 41092, 41096, 41123, 41245, 41665, 41762, 42525, 42820, 43852, 45045, 45264, 47110, 47491, 47632, 47763, 48145, 49837\n",
            "query9.txt:18, 30, 1388, 1557, 1622, 2279, 22469, 22470, 22535, 22777, 24309, 26007, 26046, 26217, 26530, 27824, 30040, 30651, 31928, 32002, 32497, 40074, 41796, 43144, 44293, 46955, 47628, 48045\n",
            "query_size: 9\n",
            "doc_size: 7853052\n",
            "read file cost 36781 ms \n",
            "topk cost 2911 ms \n",
            "all cost 39692 ms \n",
            "end get topk\n"
          ]
        }
      ]
    },
    {
      "cell_type": "code",
      "source": [
        "!diff res_3.txt STI2/translate/res/result.txt"
      ],
      "metadata": {
        "colab": {
          "base_uri": "https://localhost:8080/"
        },
        "id": "srKmqx-61s0V",
        "outputId": "d65ab4d2-e5bd-49bc-f814-2fdd098a3310"
      },
      "execution_count": null,
      "outputs": [
        {
          "output_type": "stream",
          "name": "stdout",
          "text": [
            "1c1\n",
            "< 3175\n",
            "---\n",
            "> 2990\n"
          ]
        }
      ]
    },
    {
      "cell_type": "code",
      "source": [
        "!nvprof --print-gpu-trace STI2/bin/query_doc_scoring_gpu STI2/translate/docs.txt STI2/translate/querys ./res.txt"
      ],
      "metadata": {
        "id": "_Rlom59eqCXm"
      },
      "execution_count": null,
      "outputs": []
    },
    {
      "cell_type": "code",
      "source": [
        "!ncu --set full --call-stack --nvtx -o report_gpu STI2/bin/query_doc_scoring_gpu STI2/translate/docs.txt STI2/translate/querys ./res.txt"
      ],
      "metadata": {
        "colab": {
          "base_uri": "https://localhost:8080/"
        },
        "id": "-u-bMkNgXHmw",
        "outputId": "0b633743-c855-4c06-b6ca-e540b7a3e357"
      },
      "execution_count": null,
      "outputs": [
        {
          "output_type": "stream",
          "name": "stdout",
          "text": [
            "start get topk\n",
            "query1.txt:10, 11, 16, 17, 42, 60, 22524, 22546, 22590, 22784, 23212, 23427, 23485, 23525, 23554, 24129, 24133, 24645, 24804, 24875, 25129, 25242, 25502, 25705, 25994, 26000, 26045, 26046, 26077, 26114, 26247, 26338, 26407, 27263, 27468, 27513, 28100, 40111, 40228, 40388, 41700, 45156, 45946, 46367, 47181, 47460, 47672\n",
            "query2.txt:10, 16, 18, 21, 22, 23, 30, 42, 43, 44, 45, 54, 22497, 22512, 22524, 22533, 22535, 22608, 22624, 22790, 22828, 22836, 22885, 23188, 23381, 23409, 23558, 24103, 24197, 24250, 24496, 24918, 24974, 24987, 25179, 25317, 25827, 25994, 25996, 26009, 26015, 26023, 26030, 26050, 26052, 26082, 26096, 26205, 26247, 27399, 27475, 40029, 40300, 40416, 40504, 40696, 40837, 41166, 41172, 41336, 41407, 41516, 43247, 43309, 44547, 44795, 45101, 48828\n",
            "query3.txt:11, 12, 13, 14, 21, 22, 23, 33, 42, 53, 61, 1380, 1545, 1546, 1557, 1560, 1566, 1569, 1583, 1646, 1759, 1762, 1787, 1794, 1877, 1882, 1892, 2069, 2120, 2146, 2368, 2670, 2888, 3022, 3327, 3335, 22460, 22461, 22462, 22497, 22507, 22512, 22797, 22828, 22885, 23010, 23112, 23337, 23351, 23358, 23441, 23930, 24093, 24301, 24320, 24416, 24771, 25378, 25476, 25846, 25882, 25994, 26692, 26992, 30070, 30085, 30111, 30116, 30188, 30195, 30294, 30332, 30476, 30488, 30656, 30731, 30920, 31021, 31024, 31382, 31493, 31510, 31562, 32167, 32657, 33375, 34247, 35336, 36536, 37502, 37643, 38316, 40228, 40510, 40620, 40785, 40793, 41176, 42143, 42766, 43047, 43895, 45069, 46492, 47956, 48995, 49443\n",
            "query4.txt:11, 18, 30, 32, 60, 1557, 1622, 2279, 22469, 22470, 22497, 22590, 22652, 22921, 22940, 23264, 23441, 24138, 26009, 26038, 26046, 26901, 27654, 30040, 30651, 31928, 32002, 32497, 40074, 40411, 40446, 41107, 46175, 46608\n",
            "query5.txt:11, 18, 35, 50, 54, 60, 22533, 22608, 22624, 22686, 22777, 22782, 23140, 23215, 24212, 25188, 26030, 26054, 26259, 26323, 28175, 40366, 40908, 42041\n",
            "query6.txt:21, 1557, 1559, 1561, 1565, 1568, 2118, 22590, 30489\n",
            "query7.txt:16, 17, 42, 22497, 22524, 22652, 22686, 22735, 22736, 22777, 23489, 23535, 25994, 26013, 26069, 26077, 26114, 26251, 26297, 26628, 26633, 26705, 27123, 27320, 40111, 41533, 42195, 42733, 42837, 46956, 49373\n",
            "query8.txt:16, 18, 21, 22, 30, 35, 42, 1600, 1614, 1707, 1875, 2088, 22459, 22463, 22464, 22466, 22474, 22497, 22502, 22507, 22512, 22529, 22533, 22535, 22590, 22608, 22652, 22684, 22686, 22777, 22795, 22803, 22824, 22828, 22867, 22971, 22972, 23066, 23116, 23150, 23188, 23199, 23289, 23312, 23692, 23760, 23927, 24089, 24136, 24301, 25166, 25359, 25502, 25582, 25994, 26015, 26043, 26086, 26114, 26236, 26251, 26515, 27125, 27276, 28235, 28283, 28297, 32541, 33756, 40210, 40320, 40945, 41092, 41096, 41123, 41245, 41665, 41762, 42525, 42820, 43852, 45045, 45264, 47110, 47491, 47632, 47763, 48145, 49837\n",
            "query9.txt:18, 30, 1388, 1557, 1622, 2279, 22469, 22470, 22535, 22777, 24309, 26007, 26046, 26217, 26530, 27824, 30040, 30651, 31928, 32002, 32497, 40074, 41796, 43144, 44293, 46955, 47628, 48045\n",
            "query_size: 9\n",
            "doc_size: 7853052\n",
            "read file cost 32733 ms \n",
            "==PROF== Connected to process 8432 (/content/STI2/bin/query_doc_scoring_gpu)\n",
            "==PROF== Profiling \"docQueryScoringCoalescedMemor...\" - 0: 0%....50%....100% - 43 passes\n",
            "==PROF== Profiling \"docQueryScoringCoalescedMemor...\" - 1: 0%....50%....100% - 43 passes\n",
            "==PROF== Profiling \"docQueryScoringCoalescedMemor...\" - 2: 0%....50%....100% - 43 passes\n",
            "==PROF== Profiling \"docQueryScoringCoalescedMemor...\" - 3: 0%....50%....100% - 43 passes\n",
            "==PROF== Profiling \"docQueryScoringCoalescedMemor...\" - 4: 0%....50%....100% - 43 passes\n",
            "==PROF== Profiling \"docQueryScoringCoalescedMemor...\" - 5: 0%....50%....100% - 43 passes\n",
            "==PROF== Profiling \"docQueryScoringCoalescedMemor...\" - 6: 0%....50%....100% - 43 passes\n",
            "==PROF== Profiling \"docQueryScoringCoalescedMemor...\" - 7: 0%....50%....100% - 43 passes\n",
            "==PROF== Profiling \"docQueryScoringCoalescedMemor...\" - 8: 0%....50%....100% - 43 passes\n",
            "topk cost 19682 ms \n",
            "all cost 52415 ms \n",
            "end get topk\n",
            "==PROF== Disconnected from process 8432\n",
            "==PROF== Report: /content/report_gpu.ncu-rep\n"
          ]
        }
      ]
    },
    {
      "cell_type": "code",
      "source": [
        "!nvcc STI2/src/main.cpp topk/topk_query_stream.cu -o STI2/bin/query_doc_scoring_gpu_stream  \\\n",
        "\t-ISTI2/src \\\n",
        "\t-L/usr/local/cuda/lib64 -lcudart -lcuda \\\n",
        "\t-std=c++11 \\\n",
        "\t-O3 \\\n",
        "\t-g"
      ],
      "metadata": {
        "id": "Ugfab03lbJX3"
      },
      "execution_count": null,
      "outputs": []
    },
    {
      "cell_type": "code",
      "source": [
        "!STI2/bin/query_doc_scoring_gpu_stream STI2/translate/docs.txt STI2/translate/querys ./res_gpu_stream.txt"
      ],
      "metadata": {
        "colab": {
          "base_uri": "https://localhost:8080/"
        },
        "id": "afW08dnqb0zs",
        "outputId": "a7962b49-402b-4688-b525-24b0d1ef90dd"
      },
      "execution_count": null,
      "outputs": [
        {
          "output_type": "stream",
          "name": "stdout",
          "text": [
            "start get topk\n",
            "query1.txt:10, 11, 16, 17, 42, 60, 22524, 22546, 22590, 22784, 23212, 23427, 23485, 23525, 23554, 24129, 24133, 24645, 24804, 24875, 25129, 25242, 25502, 25705, 25994, 26000, 26045, 26046, 26077, 26114, 26247, 26338, 26407, 27263, 27468, 27513, 28100, 40111, 40228, 40388, 41700, 45156, 45946, 46367, 47181, 47460, 47672\n",
            "query2.txt:10, 16, 18, 21, 22, 23, 30, 42, 43, 44, 45, 54, 22497, 22512, 22524, 22533, 22535, 22608, 22624, 22790, 22828, 22836, 22885, 23188, 23381, 23409, 23558, 24103, 24197, 24250, 24496, 24918, 24974, 24987, 25179, 25317, 25827, 25994, 25996, 26009, 26015, 26023, 26030, 26050, 26052, 26082, 26096, 26205, 26247, 27399, 27475, 40029, 40300, 40416, 40504, 40696, 40837, 41166, 41172, 41336, 41407, 41516, 43247, 43309, 44547, 44795, 45101, 48828\n",
            "query3.txt:11, 12, 13, 14, 21, 22, 23, 33, 42, 53, 61, 1380, 1545, 1546, 1557, 1560, 1566, 1569, 1583, 1646, 1759, 1762, 1787, 1794, 1877, 1882, 1892, 2069, 2120, 2146, 2368, 2670, 2888, 3022, 3327, 3335, 22460, 22461, 22462, 22497, 22507, 22512, 22797, 22828, 22885, 23010, 23112, 23337, 23351, 23358, 23441, 23930, 24093, 24301, 24320, 24416, 24771, 25378, 25476, 25846, 25882, 25994, 26692, 26992, 30070, 30085, 30111, 30116, 30188, 30195, 30294, 30332, 30476, 30488, 30656, 30731, 30920, 31021, 31024, 31382, 31493, 31510, 31562, 32167, 32657, 33375, 34247, 35336, 36536, 37502, 37643, 38316, 40228, 40510, 40620, 40785, 40793, 41176, 42143, 42766, 43047, 43895, 45069, 46492, 47956, 48995, 49443\n",
            "query4.txt:11, 18, 30, 32, 60, 1557, 1622, 2279, 22469, 22470, 22497, 22590, 22652, 22921, 22940, 23264, 23441, 24138, 26009, 26038, 26046, 26901, 27654, 30040, 30651, 31928, 32002, 32497, 40074, 40411, 40446, 41107, 46175, 46608\n",
            "query5.txt:11, 18, 35, 50, 54, 60, 22533, 22608, 22624, 22686, 22777, 22782, 23140, 23215, 24212, 25188, 26030, 26054, 26259, 26323, 28175, 40366, 40908, 42041\n",
            "query6.txt:21, 1557, 1559, 1561, 1565, 1568, 2118, 22590, 30489\n",
            "query7.txt:16, 17, 42, 22497, 22524, 22652, 22686, 22735, 22736, 22777, 23489, 23535, 25994, 26013, 26069, 26077, 26114, 26251, 26297, 26628, 26633, 26705, 27123, 27320, 40111, 41533, 42195, 42733, 42837, 46956, 49373\n",
            "query8.txt:16, 18, 21, 22, 30, 35, 42, 1600, 1614, 1707, 1875, 2088, 22459, 22463, 22464, 22466, 22474, 22497, 22502, 22507, 22512, 22529, 22533, 22535, 22590, 22608, 22652, 22684, 22686, 22777, 22795, 22803, 22824, 22828, 22867, 22971, 22972, 23066, 23116, 23150, 23188, 23199, 23289, 23312, 23692, 23760, 23927, 24089, 24136, 24301, 25166, 25359, 25502, 25582, 25994, 26015, 26043, 26086, 26114, 26236, 26251, 26515, 27125, 27276, 28235, 28283, 28297, 32541, 33756, 40210, 40320, 40945, 41092, 41096, 41123, 41245, 41665, 41762, 42525, 42820, 43852, 45045, 45264, 47110, 47491, 47632, 47763, 48145, 49837\n",
            "query9.txt:18, 30, 1388, 1557, 1622, 2279, 22469, 22470, 22535, 22777, 24309, 26007, 26046, 26217, 26530, 27824, 30040, 30651, 31928, 32002, 32497, 40074, 41796, 43144, 44293, 46955, 47628, 48045\n",
            "query_size: 9\n",
            "doc_size: 7853052\n",
            "read file cost 37949 ms \n",
            "stream_id:  0 scores size:7853052\n",
            "stream_id:  1 scores size:7853052\n",
            "stream_id:  2 scores size:7853052\n",
            "stream_id:  3 scores size:7853052\n",
            "stream_id:  4 scores size:7853052\n",
            "stream_id:  5 scores size:7853052\n",
            "stream_id:  6 scores size:7853052\n",
            "stream_id:  7 scores size:7853052\n",
            "stream_id:  8 scores size:7853052\n",
            "elapsed time:394.807495 ms\n",
            "scores size:7853052\n",
            "partial_sort cost 9 ms \n",
            "scores size:7853052\n",
            "partial_sort cost 9 ms \n",
            "scores size:7853052\n",
            "partial_sort cost 9 ms \n",
            "scores size:7853052\n",
            "partial_sort cost 9 ms \n",
            "scores size:7853052\n",
            "partial_sort cost 9 ms \n",
            "scores size:7853052\n",
            "partial_sort cost 16 ms \n",
            "scores size:7853052\n",
            "partial_sort cost 18 ms \n",
            "scores size:7853052\n",
            "partial_sort cost 14 ms \n",
            "scores size:7853052\n",
            "partial_sort cost 14 ms \n",
            "total partial_sort cost 193 ms \n",
            "topk cost 3111 ms \n",
            "all cost 41061 ms \n",
            "end get topk\n"
          ]
        }
      ]
    },
    {
      "cell_type": "code",
      "source": [
        "!diff ./res_gpu_stream.txt STI2/translate/res/result.txt"
      ],
      "metadata": {
        "colab": {
          "base_uri": "https://localhost:8080/"
        },
        "id": "XnuNTpG1cuox",
        "outputId": "775512e7-00b8-4e01-a2bf-7f0bf7668b43"
      },
      "execution_count": null,
      "outputs": [
        {
          "output_type": "stream",
          "name": "stdout",
          "text": [
            "1c1\n",
            "< 2850\n",
            "---\n",
            "> 2990\n"
          ]
        }
      ]
    },
    {
      "cell_type": "code",
      "source": [
        "!nvprof --print-gpu-trace STI2/bin/query_doc_scoring_gpu_stream STI2/translate/docs.txt STI2/translate/querys ./res_gpu_stream.txt"
      ],
      "metadata": {
        "colab": {
          "base_uri": "https://localhost:8080/"
        },
        "id": "Dc6QuEVNbdWK",
        "outputId": "9eff74fc-8339-48c9-e95f-7bcb8ae8cda8"
      },
      "execution_count": null,
      "outputs": [
        {
          "output_type": "stream",
          "name": "stdout",
          "text": [
            "start get topk\n",
            "query1.txt:10, 11, 16, 17, 42, 60, 22524, 22546, 22590, 22784, 23212, 23427, 23485, 23525, 23554, 24129, 24133, 24645, 24804, 24875, 25129, 25242, 25502, 25705, 25994, 26000, 26045, 26046, 26077, 26114, 26247, 26338, 26407, 27263, 27468, 27513, 28100, 40111, 40228, 40388, 41700, 45156, 45946, 46367, 47181, 47460, 47672\n",
            "query2.txt:10, 16, 18, 21, 22, 23, 30, 42, 43, 44, 45, 54, 22497, 22512, 22524, 22533, 22535, 22608, 22624, 22790, 22828, 22836, 22885, 23188, 23381, 23409, 23558, 24103, 24197, 24250, 24496, 24918, 24974, 24987, 25179, 25317, 25827, 25994, 25996, 26009, 26015, 26023, 26030, 26050, 26052, 26082, 26096, 26205, 26247, 27399, 27475, 40029, 40300, 40416, 40504, 40696, 40837, 41166, 41172, 41336, 41407, 41516, 43247, 43309, 44547, 44795, 45101, 48828\n",
            "query3.txt:11, 12, 13, 14, 21, 22, 23, 33, 42, 53, 61, 1380, 1545, 1546, 1557, 1560, 1566, 1569, 1583, 1646, 1759, 1762, 1787, 1794, 1877, 1882, 1892, 2069, 2120, 2146, 2368, 2670, 2888, 3022, 3327, 3335, 22460, 22461, 22462, 22497, 22507, 22512, 22797, 22828, 22885, 23010, 23112, 23337, 23351, 23358, 23441, 23930, 24093, 24301, 24320, 24416, 24771, 25378, 25476, 25846, 25882, 25994, 26692, 26992, 30070, 30085, 30111, 30116, 30188, 30195, 30294, 30332, 30476, 30488, 30656, 30731, 30920, 31021, 31024, 31382, 31493, 31510, 31562, 32167, 32657, 33375, 34247, 35336, 36536, 37502, 37643, 38316, 40228, 40510, 40620, 40785, 40793, 41176, 42143, 42766, 43047, 43895, 45069, 46492, 47956, 48995, 49443\n",
            "query4.txt:11, 18, 30, 32, 60, 1557, 1622, 2279, 22469, 22470, 22497, 22590, 22652, 22921, 22940, 23264, 23441, 24138, 26009, 26038, 26046, 26901, 27654, 30040, 30651, 31928, 32002, 32497, 40074, 40411, 40446, 41107, 46175, 46608\n",
            "query5.txt:11, 18, 35, 50, 54, 60, 22533, 22608, 22624, 22686, 22777, 22782, 23140, 23215, 24212, 25188, 26030, 26054, 26259, 26323, 28175, 40366, 40908, 42041\n",
            "query6.txt:21, 1557, 1559, 1561, 1565, 1568, 2118, 22590, 30489\n",
            "query7.txt:16, 17, 42, 22497, 22524, 22652, 22686, 22735, 22736, 22777, 23489, 23535, 25994, 26013, 26069, 26077, 26114, 26251, 26297, 26628, 26633, 26705, 27123, 27320, 40111, 41533, 42195, 42733, 42837, 46956, 49373\n",
            "query8.txt:16, 18, 21, 22, 30, 35, 42, 1600, 1614, 1707, 1875, 2088, 22459, 22463, 22464, 22466, 22474, 22497, 22502, 22507, 22512, 22529, 22533, 22535, 22590, 22608, 22652, 22684, 22686, 22777, 22795, 22803, 22824, 22828, 22867, 22971, 22972, 23066, 23116, 23150, 23188, 23199, 23289, 23312, 23692, 23760, 23927, 24089, 24136, 24301, 25166, 25359, 25502, 25582, 25994, 26015, 26043, 26086, 26114, 26236, 26251, 26515, 27125, 27276, 28235, 28283, 28297, 32541, 33756, 40210, 40320, 40945, 41092, 41096, 41123, 41245, 41665, 41762, 42525, 42820, 43852, 45045, 45264, 47110, 47491, 47632, 47763, 48145, 49837\n",
            "query9.txt:18, 30, 1388, 1557, 1622, 2279, 22469, 22470, 22535, 22777, 24309, 26007, 26046, 26217, 26530, 27824, 30040, 30651, 31928, 32002, 32497, 40074, 41796, 43144, 44293, 46955, 47628, 48045\n",
            "query_size: 9\n",
            "doc_size: 7853052\n",
            "read file cost 35981 ms \n",
            "==14003== NVPROF is profiling process 14003, command: STI2/bin/query_doc_scoring_gpu_stream STI2/translate/docs.txt STI2/translate/querys ./res_gpu_stream.txt\n",
            "topk cost 3056 ms \n",
            "all cost 39038 ms \n",
            "end get topk\n",
            "==14003== Profiling application: STI2/bin/query_doc_scoring_gpu_stream STI2/translate/docs.txt STI2/translate/querys ./res_gpu_stream.txt\n",
            "==14003== Profiling result:\n",
            "   Start  Duration            Grid Size      Block Size     Regs*    SSMem*    DSMem*      Size  Throughput  SrcMemType  DstMemType           Device   Context    Stream  Name\n",
            "2.11221s  428.02ms                    -               -         -         -         -  1.8723GB  4.3743GB/s    Pageable      Device     Tesla T4 (0)         1         7  [CUDA memcpy HtoD]\n",
            "2.54047s  6.4260ms                    -               -         -         -         -  29.957MB  4.5526GB/s    Pageable      Device     Tesla T4 (0)         1         7  [CUDA memcpy HtoD]\n",
            "2.55043s  1.9520us                    -               -         -         -         -       94B  45.925MB/s    Pageable      Device     Tesla T4 (0)         1         7  [CUDA memcpy HtoD]\n",
            "2.55047s  18.463ms          (15338 1 1)       (512 1 1)        17  8.0000KB        0B         -           -           -           -     Tesla T4 (0)         1        13  docQueryScoringCoalescedMemoryAccessSampleKernel(unsigned short const *, int const *, unsigned long, unsigned short*, int, float*) [122]\n",
            "2.56896s  6.9257ms                    -               -         -         -         -  29.957MB  4.2241GB/s      Device    Pageable     Tesla T4 (0)         1         7  [CUDA memcpy DtoH]\n",
            "2.59147s  1.8880us                    -               -         -         -         -      136B  68.697MB/s    Pageable      Device     Tesla T4 (0)         1         7  [CUDA memcpy HtoD]\n",
            "2.59150s  22.944ms          (15338 1 1)       (512 1 1)        17  8.0000KB        0B         -           -           -           -     Tesla T4 (0)         1        14  docQueryScoringCoalescedMemoryAccessSampleKernel(unsigned short const *, int const *, unsigned long, unsigned short*, int, float*) [129]\n",
            "2.61448s  7.1050ms                    -               -         -         -         -  29.957MB  4.1175GB/s      Device    Pageable     Tesla T4 (0)         1         7  [CUDA memcpy DtoH]\n",
            "2.63685s  1.9200us                    -               -         -         -         -      214B  106.29MB/s    Pageable      Device     Tesla T4 (0)         1         7  [CUDA memcpy HtoD]\n",
            "2.63688s  35.999ms          (15338 1 1)       (512 1 1)        17  8.0000KB        0B         -           -           -           -     Tesla T4 (0)         1        15  docQueryScoringCoalescedMemoryAccessSampleKernel(unsigned short const *, int const *, unsigned long, unsigned short*, int, float*) [136]\n",
            "2.67291s  6.6864ms                    -               -         -         -         -  29.957MB  4.3753GB/s      Device    Pageable     Tesla T4 (0)         1         7  [CUDA memcpy DtoH]\n",
            "2.69488s  1.8560us                    -               -         -         -         -       68B  34.941MB/s    Pageable      Device     Tesla T4 (0)         1         7  [CUDA memcpy HtoD]\n",
            "2.69491s  13.815ms          (15338 1 1)       (512 1 1)        17  8.0000KB        0B         -           -           -           -     Tesla T4 (0)         1        16  docQueryScoringCoalescedMemoryAccessSampleKernel(unsigned short const *, int const *, unsigned long, unsigned short*, int, float*) [143]\n",
            "2.70875s  6.7802ms                    -               -         -         -         -  29.957MB  4.3147GB/s      Device    Pageable     Tesla T4 (0)         1         7  [CUDA memcpy DtoH]\n",
            "2.73036s  1.9200us                    -               -         -         -         -       48B  23.842MB/s    Pageable      Device     Tesla T4 (0)         1         7  [CUDA memcpy HtoD]\n",
            "2.73040s  10.128ms          (15338 1 1)       (512 1 1)        17  8.0000KB        0B         -           -           -           -     Tesla T4 (0)         1        17  docQueryScoringCoalescedMemoryAccessSampleKernel(unsigned short const *, int const *, unsigned long, unsigned short*, int, float*) [150]\n",
            "2.74055s  6.7404ms                    -               -         -         -         -  29.957MB  4.3402GB/s      Device    Pageable     Tesla T4 (0)         1         7  [CUDA memcpy DtoH]\n",
            "2.76241s  1.8560us                    -               -         -         -         -       18B  9.2490MB/s    Pageable      Device     Tesla T4 (0)         1         7  [CUDA memcpy HtoD]\n",
            "2.76244s  7.1529ms          (15338 1 1)       (512 1 1)        17  8.0000KB        0B         -           -           -           -     Tesla T4 (0)         1        18  docQueryScoringCoalescedMemoryAccessSampleKernel(unsigned short const *, int const *, unsigned long, unsigned short*, int, float*) [157]\n",
            "2.76961s  6.6778ms                    -               -         -         -         -  29.957MB  4.3809GB/s      Device    Pageable     Tesla T4 (0)         1         7  [CUDA memcpy DtoH]\n",
            "2.79085s  1.8560us                    -               -         -         -         -       62B  31.858MB/s    Pageable      Device     Tesla T4 (0)         1         7  [CUDA memcpy HtoD]\n",
            "2.79088s  11.589ms          (15338 1 1)       (512 1 1)        17  8.0000KB        0B         -           -           -           -     Tesla T4 (0)         1        19  docQueryScoringCoalescedMemoryAccessSampleKernel(unsigned short const *, int const *, unsigned long, unsigned short*, int, float*) [164]\n",
            "2.80249s  6.7023ms                    -               -         -         -         -  29.957MB  4.3649GB/s      Device    Pageable     Tesla T4 (0)         1         7  [CUDA memcpy DtoH]\n",
            "2.82970s  1.8880us                    -               -         -         -         -      178B  89.912MB/s    Pageable      Device     Tesla T4 (0)         1         7  [CUDA memcpy HtoD]\n",
            "2.82974s  19.754ms          (15338 1 1)       (512 1 1)        17  8.0000KB        0B         -           -           -           -     Tesla T4 (0)         1        20  docQueryScoringCoalescedMemoryAccessSampleKernel(unsigned short const *, int const *, unsigned long, unsigned short*, int, float*) [171]\n",
            "2.84954s  6.8048ms                    -               -         -         -         -  29.957MB  4.2992GB/s      Device    Pageable     Tesla T4 (0)         1         7  [CUDA memcpy DtoH]\n",
            "2.87150s  2.2400us                    -               -         -         -         -       56B  23.842MB/s    Pageable      Device     Tesla T4 (0)         1         7  [CUDA memcpy HtoD]\n",
            "2.87154s  10.196ms          (15338 1 1)       (512 1 1)        17  8.0000KB        0B         -           -           -           -     Tesla T4 (0)         1        21  docQueryScoringCoalescedMemoryAccessSampleKernel(unsigned short const *, int const *, unsigned long, unsigned short*, int, float*) [178]\n",
            "2.88175s  6.6019ms                    -               -         -         -         -  29.957MB  4.4313GB/s      Device    Pageable     Tesla T4 (0)         1         7  [CUDA memcpy DtoH]\n",
            "\n",
            "Regs: Number of registers used per CUDA thread. This number includes registers used internally by the CUDA driver and/or tools and can be more than what the compiler shows.\n",
            "SSMem: Static shared memory allocated per CUDA block.\n",
            "DSMem: Dynamic shared memory allocated per CUDA block.\n",
            "SrcMemType: The type of source memory accessed by memory operation/copy\n",
            "DstMemType: The type of destination memory accessed by memory operation/copy\n"
          ]
        }
      ]
    },
    {
      "cell_type": "markdown",
      "source": [
        "## run topk"
      ],
      "metadata": {
        "id": "huFk3o-q4vmb"
      }
    },
    {
      "cell_type": "code",
      "source": [
        "!make -C topk/ BUILD_TYPE=Release"
      ],
      "metadata": {
        "id": "WahsSF_u4u24"
      },
      "execution_count": null,
      "outputs": []
    },
    {
      "cell_type": "code",
      "source": [
        "!topk/bin/query_doc_scoring_cpu STI2/translate/docs.txt STI2/translate/querys ./cpu_res.txt"
      ],
      "metadata": {
        "colab": {
          "base_uri": "https://localhost:8080/"
        },
        "id": "Yc1YrybV64UN",
        "outputId": "a3bc5ef4-3b68-4f6e-8f08-350b8f2120ed"
      },
      "execution_count": null,
      "outputs": [
        {
          "output_type": "stream",
          "name": "stdout",
          "text": [
            "start get topk\n",
            "query1.txt:10, 11, 16, 17, 42, 60, 22524, 22546, 22590, 22784, 23212, 23427, 23485, 23525, 23554, 24129, 24133, 24645, 24804, 24875, 25129, 25242, 25502, 25705, 25994, 26000, 26045, 26046, 26077, 26114, 26247, 26338, 26407, 27263, 27468, 27513, 28100, 40111, 40228, 40388, 41700, 45156, 45946, 46367, 47181, 47460, 47672\n",
            "query2.txt:10, 16, 18, 21, 22, 23, 30, 42, 43, 44, 45, 54, 22497, 22512, 22524, 22533, 22535, 22608, 22624, 22790, 22828, 22836, 22885, 23188, 23381, 23409, 23558, 24103, 24197, 24250, 24496, 24918, 24974, 24987, 25179, 25317, 25827, 25994, 25996, 26009, 26015, 26023, 26030, 26050, 26052, 26082, 26096, 26205, 26247, 27399, 27475, 40029, 40300, 40416, 40504, 40696, 40837, 41166, 41172, 41336, 41407, 41516, 43247, 43309, 44547, 44795, 45101, 48828\n",
            "query3.txt:11, 12, 13, 14, 21, 22, 23, 33, 42, 53, 61, 1380, 1545, 1546, 1557, 1560, 1566, 1569, 1583, 1646, 1759, 1762, 1787, 1794, 1877, 1882, 1892, 2069, 2120, 2146, 2368, 2670, 2888, 3022, 3327, 3335, 22460, 22461, 22462, 22497, 22507, 22512, 22797, 22828, 22885, 23010, 23112, 23337, 23351, 23358, 23441, 23930, 24093, 24301, 24320, 24416, 24771, 25378, 25476, 25846, 25882, 25994, 26692, 26992, 30070, 30085, 30111, 30116, 30188, 30195, 30294, 30332, 30476, 30488, 30656, 30731, 30920, 31021, 31024, 31382, 31493, 31510, 31562, 32167, 32657, 33375, 34247, 35336, 36536, 37502, 37643, 38316, 40228, 40510, 40620, 40785, 40793, 41176, 42143, 42766, 43047, 43895, 45069, 46492, 47956, 48995, 49443\n",
            "query4.txt:11, 18, 30, 32, 60, 1557, 1622, 2279, 22469, 22470, 22497, 22590, 22652, 22921, 22940, 23264, 23441, 24138, 26009, 26038, 26046, 26901, 27654, 30040, 30651, 31928, 32002, 32497, 40074, 40411, 40446, 41107, 46175, 46608\n",
            "query5.txt:11, 18, 35, 50, 54, 60, 22533, 22608, 22624, 22686, 22777, 22782, 23140, 23215, 24212, 25188, 26030, 26054, 26259, 26323, 28175, 40366, 40908, 42041\n",
            "query6.txt:21, 1557, 1559, 1561, 1565, 1568, 2118, 22590, 30489\n",
            "query7.txt:16, 17, 42, 22497, 22524, 22652, 22686, 22735, 22736, 22777, 23489, 23535, 25994, 26013, 26069, 26077, 26114, 26251, 26297, 26628, 26633, 26705, 27123, 27320, 40111, 41533, 42195, 42733, 42837, 46956, 49373\n",
            "query8.txt:16, 18, 21, 22, 30, 35, 42, 1600, 1614, 1707, 1875, 2088, 22459, 22463, 22464, 22466, 22474, 22497, 22502, 22507, 22512, 22529, 22533, 22535, 22590, 22608, 22652, 22684, 22686, 22777, 22795, 22803, 22824, 22828, 22867, 22971, 22972, 23066, 23116, 23150, 23188, 23199, 23289, 23312, 23692, 23760, 23927, 24089, 24136, 24301, 25166, 25359, 25502, 25582, 25994, 26015, 26043, 26086, 26114, 26236, 26251, 26515, 27125, 27276, 28235, 28283, 28297, 32541, 33756, 40210, 40320, 40945, 41092, 41096, 41123, 41245, 41665, 41762, 42525, 42820, 43852, 45045, 45264, 47110, 47491, 47632, 47763, 48145, 49837\n",
            "query9.txt:18, 30, 1388, 1557, 1622, 2279, 22469, 22470, 22535, 22777, 24309, 26007, 26046, 26217, 26530, 27824, 30040, 30651, 31928, 32002, 32497, 40074, 41796, 43144, 44293, 46955, 47628, 48045\n",
            "query_size: 9\n",
            "doc_size: 7853052\n",
            "read file cost 33054 ms \n",
            "indices: 2095355 2104387 2118767 2147776 2055923 2206974 2238603 2020057 2267746 2220291 2151279 2154228 1960823 2001825 2005314 2029722 2054064 2098358 2099815 2287637 2300031 2158918 2167292 2177721 2177855 1981772 2196213 2520566 1917947 2017068 2028496 2083981 2323778 2247926 2282000 2202772 2227479 2236897 2186351 2486485 2150430 2381725 1760981 1855263 1869531 1877846 1885219 1896166 1950185 2028110 2079765 2119578 2126999 2306247 2315934 1776753 1811788 1848411 1901590 2026760 2042826 2073036 2217999 2224835 1709996 1754639 1844734 1987029 2091827 2093706 2284846 2151301 2328000 2351661 1706744 2081563 2597490 1759061 2011063 2077727 2737847 2362721 1956654 2193430 2236145 1462218 1816978 1897084 1897296 1902180 1925148 1933929 1952948 1958058 1975060 1984389 1984524 1987018 2013793 2034453 \n",
            "3354548 3584604 3385811 3457483 3229654 3732526 3320427 3340108 2491259 3743142 3631235 3648390 3657624 3516117 2374643 2403142 2575906 2228660 4836663 1839330 4591327 3557359 4697352 3405025 3570449 3602105 3110584 3160212 3212061 3223714 3242875 3273973 3307943 3957807 3992214 3769564 3806523 3629929 3651887 2729851 2934266 3163915 3305058 3355769 3503322 3135869 3350236 3546639 3574824 3989624 4006619 3587218 3601233 3668228 4131144 2828732 3033866 3179151 3273208 3279884 3366688 3394555 3768327 4193955 4227290 3515312 4052232 3859022 5064216 3596686 3605208 3644977 3647798 3648284 4156166 3868121 3875989 3898614 3912700 3947820 3958906 1991883 2204093 2322853 2661022 2672853 2738909 2762270 2792939 3012444 3029707 3039967 3092642 3114822 3137181 3156462 3166063 3179837 3184917 3193891 \n",
            "7788441 7802401 7782377 7801971 7814975 7781694 7810594 7808590 7843401 7809945 7846914 7831446 7761434 6484473 7351329 7839524 4498898 2862865 4338988 5093113 5330069 2665443 3053942 7830965 2901753 2971061 7343026 7796214 5240653 3150957 4269653 5185997 7820720 3596558 7763100 7725698 7796468 7726591 7753631 7773714 7483244 7621636 7738376 7796323 5634249 7675769 7787293 5774762 7632020 7686575 6427189 7634212 7692514 7723174 7759886 1657741 6379050 7736250 7760888 6938835 7681597 7720071 7799338 7799616 7814678 6481180 6920816 6950153 7107304 7333006 7657685 7676458 7732898 7775566 1400612 5594644 6363869 6613416 7267834 7516270 7533604 7709970 7818223 7825162 5124248 6210009 6475394 7183416 7218286 7343105 7781483 7847590 6089541 6539482 6791103 7391558 7725914 7745458 7766653 7836635 \n",
            "1451621 1382250 1540932 1450640 1262561 1566407 1526647 1335473 1692014 1620570 1568523 1193260 1422092 1695638 1607748 1635620 1642524 1747981 1748205 1750716 1753426 1756651 1419752 1588632 1549401 1764065 1771377 1751898 1314500 1843821 1562610 1800155 1905795 1934867 1952083 1681426 2043426 2007984 2116556 2057656 2066523 2182954 2082505 1713928 2235444 2159965 2078676 1883266 829798 1740800 2476390 2478468 2598035 1395880 1462012 1474708 1477362 1181306 1196062 1288223 1332553 1351327 1359159 1362783 1368552 1380350 1401753 1403060 1417818 1418885 1419478 1427076 1444403 1446024 1503685 1528297 1533183 1564895 1580725 1597464 1455141 1456464 1460135 1474289 1479651 1486246 1486492 1487213 1487637 1488488 1498977 1499199 1727770 1500479 1501508 1512040 1513500 1515434 1519849 1523134 \n",
            "909608 827239 835944 1106301 670028 760378 1044469 1256458 971408 1660188 1386593 735164 1758848 1671117 1017181 1019690 1692876 2253771 756936 830452 834248 1060121 1518619 969495 978646 983548 991371 993929 2581823 1118431 1021830 1261547 609363 682264 709182 710432 724946 729305 740024 755611 756670 758961 781663 786129 801445 805738 806569 807739 816678 836966 837206 843575 845992 849308 857722 869084 879533 879937 882969 885608 912651 922608 923211 923499 931621 934316 936424 940713 1195753 1064897 1098145 968685 969629 976841 978251 979620 980553 983371 984343 985531 986554 988549 991986 995536 1199336 2937143 1123418 1137482 1140941 1141285 1143722 1144931 1145908 1253432 1007549 1007815 1008286 1008490 1014131 1015355 \n",
            "230088 216345 335841 216355 221125 245181 249389 258787 275508 283647 296469 332158 459973 705453 368402 373272 382018 382512 393049 499195 80159 102319 122643 125549 129103 144371 152315 160917 162756 163548 179228 189783 197367 201911 204896 207340 210713 226315 229678 230908 236088 242610 243337 246131 246545 247410 247512 248928 250397 250645 250924 254735 255364 255905 256907 257049 259373 260849 263383 264490 268276 270056 270066 270625 271384 271979 274215 275061 276638 279100 279293 281102 282094 284399 284584 285141 287445 293255 293426 294634 295633 296782 297212 297567 298392 300284 301462 302150 303991 304008 306190 306667 307532 308167 308411 308865 310691 312850 315951 317078 \n",
            "1252669 1066220 1113897 1150249 1225249 1576475 970072 1921858 2038652 1893335 1902421 1919831 1570616 1275185 1778618 1806495 1636840 1645131 1683061 2193399 1375114 1886051 1912531 1410377 741971 761714 804954 807786 1062988 1064814 1130413 1180462 1253004 1628438 1986166 2059320 2061277 1673579 1701207 1313043 1868618 1731236 1750223 1369660 1380687 1944444 1573799 1586971 2026808 1431017 1433791 1434744 1445877 1615562 1642850 1655089 1828376 1866084 625063 800738 880457 894216 920367 934990 945747 967598 968216 1036585 1039949 1066090 1071212 1086204 1088107 1100729 1105698 1120282 1124245 1132413 1137647 1147687 1149454 1150791 1173007 1176259 1180793 1181975 1192835 1193281 1194979 1199928 1200103 1216272 1219634 1221329 1224794 1228791 1230024 1237788 1244042 1245441 \n",
            "6090639 6550548 6509567 6584130 6249854 6696550 6975462 4599120 4893967 5007683 6082923 4545070 4905833 4968540 4987919 5247193 5960912 4640042 4696758 4721792 4770021 4818769 4819777 4822667 4831686 4841459 4846437 4848344 4864511 4865656 4878130 4894561 4964502 4968150 4972261 4977180 5013779 5015959 5032262 5047996 5050707 5070563 5077156 5083985 5089526 5099112 5107786 5113537 5131943 5150792 5153381 5157118 5159109 5161050 5173782 5223515 5238178 5261106 5357067 5398027 5492820 5661935 6814748 4770830 4773247 4829337 4843465 4851947 4883775 4884056 4907090 4916550 4941515 5043457 5062701 5066526 5076851 5092793 5098747 5101607 5169146 5178885 5205714 5242125 5268978 5330039 5341655 5366055 5491355 5496175 5904757 5965198 4575321 4892562 4897602 4910754 4976057 4977960 5019812 5024983 \n",
            "1064412 1212301 1165199 1324553 1337544 1279350 1221518 1244284 1244680 972283 1009627 1094325 1252175 1260777 1268224 1384210 1393825 1310814 1315547 1317017 1329501 1341171 1292801 1477389 1427999 1443623 1351931 1352887 1363146 1307186 1480921 1490375 1499799 1418128 1435011 1439307 1440123 1366052 1485951 1486511 1565048 1566093 1500616 1511639 1512826 1538358 1547424 1318251 1554073 1571537 1576178 1588176 1596407 1597752 1690975 1484789 1613338 1622281 1435168 1661370 1772693 1774156 1467924 1527674 1380085 1876256 574048 1951930 2078346 1932445 2416096 1450838 1182901 1216202 1237692 1060174 1086354 1091797 1100362 1123673 1133630 1149061 1348497 1255132 1255449 1260932 1264037 1275180 1288477 1150172 1153735 1184612 1184758 1189700 1535638 1403109 1403478 1408418 1299546 1303931 \n",
            "topk cost 87230 ms \n",
            "all cost 120284 ms \n",
            "end get topk\n"
          ]
        }
      ]
    },
    {
      "cell_type": "code",
      "source": [
        "!diff cpu_res.txt STI2/translate/res/result.txt"
      ],
      "metadata": {
        "colab": {
          "base_uri": "https://localhost:8080/"
        },
        "id": "mVsYBAR-8rgh",
        "outputId": "ac38c850-6a36-45fa-b076-92380e4ab77d"
      },
      "execution_count": null,
      "outputs": [
        {
          "output_type": "stream",
          "name": "stdout",
          "text": [
            "1c1\n",
            "< 87230\n",
            "---\n",
            "> 2990\n"
          ]
        }
      ]
    },
    {
      "cell_type": "code",
      "source": [
        "!topk/bin/query_doc_scoring_cpu_concurrency STI2/translate/docs.txt STI2/translate/querys ./cpu_concurency_res.txt"
      ],
      "metadata": {
        "colab": {
          "base_uri": "https://localhost:8080/"
        },
        "id": "RQ-TYZtG5Wx8",
        "outputId": "79417354-39fe-4c7a-cfba-a783fd7efee2"
      },
      "execution_count": null,
      "outputs": [
        {
          "output_type": "stream",
          "name": "stdout",
          "text": [
            "start get topk\n",
            "query1.txt:10, 11, 16, 17, 42, 60, 22524, 22546, 22590, 22784, 23212, 23427, 23485, 23525, 23554, 24129, 24133, 24645, 24804, 24875, 25129, 25242, 25502, 25705, 25994, 26000, 26045, 26046, 26077, 26114, 26247, 26338, 26407, 27263, 27468, 27513, 28100, 40111, 40228, 40388, 41700, 45156, 45946, 46367, 47181, 47460, 47672\n",
            "query2.txt:10, 16, 18, 21, 22, 23, 30, 42, 43, 44, 45, 54, 22497, 22512, 22524, 22533, 22535, 22608, 22624, 22790, 22828, 22836, 22885, 23188, 23381, 23409, 23558, 24103, 24197, 24250, 24496, 24918, 24974, 24987, 25179, 25317, 25827, 25994, 25996, 26009, 26015, 26023, 26030, 26050, 26052, 26082, 26096, 26205, 26247, 27399, 27475, 40029, 40300, 40416, 40504, 40696, 40837, 41166, 41172, 41336, 41407, 41516, 43247, 43309, 44547, 44795, 45101, 48828\n",
            "query3.txt:11, 12, 13, 14, 21, 22, 23, 33, 42, 53, 61, 1380, 1545, 1546, 1557, 1560, 1566, 1569, 1583, 1646, 1759, 1762, 1787, 1794, 1877, 1882, 1892, 2069, 2120, 2146, 2368, 2670, 2888, 3022, 3327, 3335, 22460, 22461, 22462, 22497, 22507, 22512, 22797, 22828, 22885, 23010, 23112, 23337, 23351, 23358, 23441, 23930, 24093, 24301, 24320, 24416, 24771, 25378, 25476, 25846, 25882, 25994, 26692, 26992, 30070, 30085, 30111, 30116, 30188, 30195, 30294, 30332, 30476, 30488, 30656, 30731, 30920, 31021, 31024, 31382, 31493, 31510, 31562, 32167, 32657, 33375, 34247, 35336, 36536, 37502, 37643, 38316, 40228, 40510, 40620, 40785, 40793, 41176, 42143, 42766, 43047, 43895, 45069, 46492, 47956, 48995, 49443\n",
            "query4.txt:11, 18, 30, 32, 60, 1557, 1622, 2279, 22469, 22470, 22497, 22590, 22652, 22921, 22940, 23264, 23441, 24138, 26009, 26038, 26046, 26901, 27654, 30040, 30651, 31928, 32002, 32497, 40074, 40411, 40446, 41107, 46175, 46608\n",
            "query5.txt:11, 18, 35, 50, 54, 60, 22533, 22608, 22624, 22686, 22777, 22782, 23140, 23215, 24212, 25188, 26030, 26054, 26259, 26323, 28175, 40366, 40908, 42041\n",
            "query6.txt:21, 1557, 1559, 1561, 1565, 1568, 2118, 22590, 30489\n",
            "query7.txt:16, 17, 42, 22497, 22524, 22652, 22686, 22735, 22736, 22777, 23489, 23535, 25994, 26013, 26069, 26077, 26114, 26251, 26297, 26628, 26633, 26705, 27123, 27320, 40111, 41533, 42195, 42733, 42837, 46956, 49373\n",
            "query8.txt:16, 18, 21, 22, 30, 35, 42, 1600, 1614, 1707, 1875, 2088, 22459, 22463, 22464, 22466, 22474, 22497, 22502, 22507, 22512, 22529, 22533, 22535, 22590, 22608, 22652, 22684, 22686, 22777, 22795, 22803, 22824, 22828, 22867, 22971, 22972, 23066, 23116, 23150, 23188, 23199, 23289, 23312, 23692, 23760, 23927, 24089, 24136, 24301, 25166, 25359, 25502, 25582, 25994, 26015, 26043, 26086, 26114, 26236, 26251, 26515, 27125, 27276, 28235, 28283, 28297, 32541, 33756, 40210, 40320, 40945, 41092, 41096, 41123, 41245, 41665, 41762, 42525, 42820, 43852, 45045, 45264, 47110, 47491, 47632, 47763, 48145, 49837\n",
            "query9.txt:18, 30, 1388, 1557, 1622, 2279, 22469, 22470, 22535, 22777, 24309, 26007, 26046, 26217, 26530, 27824, 30040, 30651, 31928, 32002, 32497, 40074, 41796, 43144, 44293, 46955, 47628, 48045\n",
            "query_size: 9\n",
            "doc_size: 7853052\n",
            "read file cost 33448 ms \n",
            "hardware concurrency:12\n",
            "split_docs_size:654421\n",
            "\n",
            "after merge,doc_ids: 531476 599214 363681 636071 642730 522279 648292 544230 607975 614542 624740 638841 643428 644220 648003 652316 653904 206752 281084 372176 388720 405416 438582 438732 442529 446282 463688 473001 480122 480993 481570 482509 483747 488205 490678 491518 493539 495116 498532 499934 500069 503220 506487 509114 511383 516219 520619 527261 532136 540288 542767 549485 550910 552391 552730 557409 558239 565319 565557 565560 567539 570328 570871 572132 574935 576090 577996 580795 581078 581834 587314 588081 591883 593268 598905 600433 605186 606838 607162 607279 607662 609535 610612 612006 613756 614053 614457 614856 615041 615905 616162 616767 617003 617857 618098 618644 619649 624532 625241 625463 1134806 1304950 1291579 1228604 1263466 1253862 1169835 1243297 1275888 1287074 1297119 1299475 1304748 1032542 1167351 1171794 1199574 1213785 1256885 1289510 960925 1055659 1132800 1133658 1136716 1137300 1158527 1164075 1175144 1177353 1203138 1205315 1239536 1244956 1252163 1298073 1303405 952902 1034946 1037883 1066114 1089020 1136247 1150639 1179830 1191861 1194938 1220219 1228017 1257820 1261106 1265694 1278820 1297490 916110 954245 975217 1094621 1105698 1159572 1167297 1244719 1260782 1268922 1270067 1274772 1292405 1300033 1301535 1302710 1302840 1305402 667731 839206 900804 903075 979424 981630 1007831 1022187 1030367 1086100 1090324 1095290 1095495 1129367 1147687 1163114 1164205 1186597 1187366 1201221 1203391 1209643 1214580 1225540 1231145 1245599 1273754 1277386 1960823 1917947 1760981 1855263 1869531 1877846 1885219 1896166 1950185 1776753 1811788 1848411 1901590 1709996 1754639 1844734 1706744 1759061 1956654 1462218 1816978 1897084 1897296 1902180 1925148 1933929 1952948 1958058 1470785 1489786 1514720 1526864 1549228 1566682 1600179 1621674 1630871 1707328 1791348 1849481 1849796 1851029 1876329 1877910 1880622 1885075 1910491 1916387 1936828 1947441 1463276 1539566 1580542 1592236 1616284 1627080 1633135 1644939 1649945 1677098 1712910 1790511 1796054 1815333 1820049 1853361 1881326 1956947 1513572 1568911 1576776 1594933 1703610 1751907 1760510 1785010 1803623 1830489 1834984 1846111 1853009 1879829 1881560 1885586 1904152 1943793 1944129 1950266 1952515 1961844 1962423 1606434 1681374 1777033 1833149 1875294 1894519 1909308 1941168 1945757 2095355 2104387 2118767 2147776 2055923 2206974 2238603 2020057 2267746 2220291 2151279 2154228 2001825 2005314 2029722 2054064 2098358 2099815 2287637 2300031 2158918 2167292 2177721 2177855 1981772 2196213 2520566 2017068 2028496 2083981 2323778 2247926 2282000 2202772 2227479 2236897 2186351 2486485 2150430 2381725 2028110 2079765 2119578 2126999 2306247 2315934 2026760 2042826 2073036 2217999 2224835 1987029 2091827 2093706 2284846 2151301 2328000 2351661 2081563 2597490 2011063 2077727 2362721 2193430 2236145 1975060 1984389 1984524 1987018 2013793 2034453 2070402 2075630 2080230 2133884 2236254 2145939 2153839 2176756 2179047 2003684 2012079 2029963 2082627 2120974 2267485 2272226 1980819 2020848 2077818 2204817 2215133 2315805 2338418 1979569 2015777 2447956 2148326 1969820 1988346 2737847 2714568 2722061 2677453 2744177 2620256 2718107 2719222 2726602 2643267 2863615 2872440 2885590 2621748 2649733 2812023 2978589 2982484 2656809 2869923 3083320 3088228 3112808 3145957 2794322 2830730 2623105 2633164 3270585 2686215 2907615 2928148 2953969 2954844 2730490 2751488 2758892 2759406 3234403 2978496 3012404 3026032 2648349 3100951 2839014 2884040 2898326 2661402 3172202 2915278 2920681 2933557 2952393 2733656 2744588 2746439 3196954 2987080 3011927 2807940 2809599 2812425 2825414 2619142 2626494 2644127 3066771 3105025 2845402 2880350 2654107 2666257 2667712 2710706 2908123 3200860 3214363 3214602 2754180 2986345 2991274 3031132 2782182 3072122 2621320 2649201 2650182 2841118 2858196 2883016 3132043 3148648 3152920 3158034 2681788 2945347 3190251 2748280 2994108 3003786 3325480 3453814 3290094 3701624 3923558 3597634 3341794 3675568 3752754 3488829 3306664 3867828 3337588 3395092 3461942 3347368 3366881 3388275 3402591 3705365 3483096 3516710 3550559 3896143 3921471 3273044 3289408 3583928 3597579 3603844 3647708 3338097 3720468 3420410 3820040 3821987 3868512 3903682 3523079 3603370 3641625 3274362 3274965 3279529 3292015 3307539 3309853 3320905 3688185 3689126 3728809 3360612 3376891 3395699 3404201 3408926 3788320 3789447 3849225 3453751 3566092 3570549 3597592 3610484 3610833 3619553 3625286 3288177 3314126 3687431 3696732 3757241 3361078 3373260 3379816 3387211 3411129 3787102 3813521 3835216 3836939 3425886 3431320 3438307 3866835 3869362 3878370 3882053 3884575 3886358 3892472 3923349 3924603 3500544 3512798 3512897 3513662 3570834 3575076 3581493 4149848 4239570 4090062 4524086 4090058 4147313 4203406 3985490 4162423 4249125 4306704 4053048 4071745 4130521 4568146 4242800 4270115 4301657 4372631 4399675 4005595 4131767 4138120 4138365 4231513 4271876 4368940 4402798 3950714 4181815 4209488 4248870 4281511 4290129 4344339 4348543 4348924 4431458 4446659 4450304 4454972 4467010 4474444 4547668 4112915 4142101 4153973 4177289 4205217 4233061 4234806 4297252 4305221 4312099 4320374 4331613 4336383 4349129 4384758 4398400 4398708 4401482 4418800 3933750 3965620 4011379 4026043 4039963 4073290 4073373 4084916 4088519 4089079 4110313 4165118 4184472 4194413 4213826 4216001 4218844 4219616 4252523 4254074 4269707 4274187 4310095 4310673 4311022 4327194 4343279 4347232 4363164 4384541 3936746 4431345 4435888 4436870 4437020 4466383 4505793 4633436 4711997 5150758 4746032 5018652 4605580 4603810 4968891 4971135 4980179 5050198 5081054 5165483 5220842 4648882 4656732 5004192 5043922 5049670 4597619 4609304 4632118 4669951 4688317 4735686 4766937 4774971 4841438 4857901 4889827 4902639 5034987 5067576 5181328 4597601 4653393 4689968 4719611 4731437 4748760 4754022 4783697 4787945 4821497 4821973 4838710 4844695 4862972 4871024 4902358 4904772 4958080 4983572 4988725 5017053 5047449 5082213 5087874 5141269 5144236 5152958 5196501 5199783 5230250 4591619 4602144 4629010 4629271 4635048 4635244 4639326 4640216 4654854 4656225 4680947 4741140 4744760 4774084 4777061 4785346 4800215 4801763 4809187 4816135 4818758 4819062 4825512 4830569 4831796 4837917 4861008 4864335 4864893 4870502 4887199 4887216 4921813 4941301 4954712 4967105 5592931 5765239 5321988 5827763 5596097 5876934 5623705 5248567 5266245 5306701 5710991 5354325 5563698 5248314 5271134 5273158 5305561 5367681 5460905 5529412 5570202 5605401 5665505 5253241 5261591 5271163 5281466 5282875 5300336 5312618 5332242 5360987 5370445 5384265 5384358 5388720 5414615 5430640 5464563 5503934 5572602 5659167 5661580 5662126 5688246 5706481 5792512 5813708 5816385 5239345 5254165 5260243 5272046 5287747 5299816 5303036 5304900 5306939 5309858 5334231 5360262 5378656 5414975 5438910 5461379 5465792 5470400 5474796 5487369 5497503 5505820 5506000 5510626 5528260 5546481 5569875 5583648 5585439 5586905 5589672 5601476 5612265 5629608 5630874 5630880 5647031 5648676 5655000 5677216 5680231 5710925 5713731 5734452 5792957 5811789 5829599 5834703 5849753 5881358 5239543 5921185 6477915 6481818 6008604 6491553 6284691 6340457 6507208 6414711 5991840 6518879 6036939 6210420 6369770 6376228 6085478 6373316 5990342 6014840 6240830 6404518 6014168 6058333 6058703 6354445 6240967 5935911 6063231 6130373 6137302 6144275 6178756 6208977 6244634 6304831 6391873 6395827 6401465 6425209 6455833 6486931 6515368 5893313 5910622 6006517 6110098 6130521 6130933 6132412 6157601 6233827 6294145 6294213 6332252 6339882 6377852 6411056 6448318 6491939 6499730 6501869 6502014 6513220 5912662 5919260 5959353 5963844 5965392 5996456 6010794 6024814 6029721 6038416 6044122 6045765 6055614 6095072 6105748 6124203 6155210 6157786 6174590 6186033 6186586 6188316 6190293 6190661 6197735 6200468 6201506 6215059 6224585 6243976 6244192 6264314 6271624 6285829 6286470 6290581 6303700 6934542 6636425 6729603 6829374 6835865 6862563 6892256 6906519 7001305 7023048 6562177 7097365 7101300 7117877 7124545 7142038 6658268 6711817 6775534 7156213 7170840 6793704 6810614 6875450 6933708 6957251 7003348 7010006 7021926 6570399 6587461 7042986 7081932 6656498 6816979 6822946 6831878 6893114 6897276 6970997 6601401 6670752 6703920 7155925 7165986 6785832 6823113 6839111 6855918 6894824 6906163 6959714 7002625 7032737 6559810 7052926 7094535 7095529 7099455 7109795 7116472 7136213 7136703 6682856 6772502 7156009 7179923 6796956 6851535 6975142 7144539 7153079 7198516 6723522 7130121 6600376 6629612 7176804 7178247 7195411 6764023 7054120 7151510 6628230 7186898 6686150 6916555 6939322 6994520 7064254 6571814 6601629 6605424 6609721 6671758 6696101 6709000 6770571 6778406 6788528 7254790 7239540 7313695 7416111 7245569 7556759 7411538 7214826 7216387 7230605 7521396 7265830 7317080 7319253 7366106 7442006 7221953 7563401 7576952 7579304 7300025 7366995 7374923 7410213 7440358 7684783 7462000 7475355 7502958 7506349 7593031 7620382 7303057 7347135 7666802 7360274 7703077 7722643 7492736 7550174 7564113 7231264 7281012 7495197 7764999 7779648 7588468 7592436 7269251 7322239 7786613 7662359 7431370 7703641 7749078 7575032 7781169 7653447 7362237 7441752 7726840 7533251 7579242 7766814 7779303 7246589 7585696 7626741 7789640 7263232 7265377 7320624 7337050 7355304 7656356 7364269 7382268 7702161 7741370 7762096 7519836 7534518 7553127 7627513 7212923 7223847 7649872 7265086 7273540 7279038 7293710 7296090 7299879 7301671 7305784 7698667 7722482 7381165 7391538 7406339 \n",
            "581786 615414 620718 625848 638610 392337 414632 461139 479688 499945 530716 536457 542328 552102 554813 558869 565634 566728 579500 584672 591728 592237 597051 608489 608628 609052 616393 617071 622678 629253 631154 632142 633731 639040 640453 640607 648473 649255 650442 653115 653712 404043 434697 440499 441542 464620 469106 471352 488687 489619 497291 505580 509873 511862 521684 523923 524790 524926 527404 528699 531736 532884 533877 535850 537808 544428 544887 548811 556630 558759 558819 563877 564167 564871 566257 566393 566507 566778 569133 569459 569506 571873 572492 573660 575226 576225 576345 577881 580313 580481 581032 581800 582018 583682 584054 584845 585544 586297 586758 587238 1279914 1225231 1277630 1292979 1297412 1306259 1223570 1232783 1299926 883696 1019238 1065389 1093512 1137655 1173622 1176214 1189753 1193451 1205619 1210068 1243610 1248810 1278365 1279957 1279972 1280908 1291686 1299722 1306565 1038227 1040994 1066088 1090925 1109145 1114321 1145831 1153198 1156623 1157575 1161631 1166161 1167549 1171750 1188800 1189269 1197607 1199498 1206571 1222823 1238822 1239490 1241816 1244701 1252700 1252703 1254119 1257959 1258478 1260207 1262001 1275482 1276139 1290453 1297607 1301654 1303114 1303208 1306831 1308588 1308622 876512 884626 911644 939504 965522 965807 996076 1009263 1032153 1037127 1038214 1054941 1056828 1060604 1077220 1078760 1080691 1080775 1080943 1083119 1087856 1087872 1092009 1092731 1094316 1098229 1106029 1106286 1108552 1111175 1839330 1537621 1634843 1641706 1818927 1927136 1589764 1751264 1764162 1843663 1854347 1880791 1953902 1426890 1457156 1457744 1545182 1550390 1589683 1668550 1679310 1842149 1860771 1882456 1894868 1392816 1461328 1476641 1580484 1631218 1697841 1763609 1765125 1789626 1822403 1898099 1901903 1914059 1927070 1939192 1939232 1950407 1952327 1954339 1954499 1955190 1957518 1322727 1406267 1409003 1417256 1433634 1518641 1528674 1540797 1611168 1623900 1630067 1645262 1715166 1723502 1727445 1741130 1757259 1758700 1765120 1777486 1778093 1788435 1797086 1797539 1803379 1827859 1835237 1838629 1839756 1849668 1857303 1860153 1894376 1894595 1904192 1905823 1921438 1937563 1937846 1941113 1949360 1342691 1437369 1458087 1516240 1516474 1519788 1552612 1581767 1587937 1631370 1657765 1660634 2491259 2374643 2403142 2575906 2228660 1991883 2204093 2322853 2002676 2117123 2131561 2164206 2208203 2280642 2304663 2332767 2517573 2602224 2606030 2072741 2086495 2109155 2195300 2235519 2366892 2461237 2462367 2480904 2499288 2500215 2568964 2581584 2599319 2607232 2609868 2003605 2072922 2156200 2265754 2269418 2285088 2291792 2321251 2383143 2388945 2389196 2405363 2411135 2436449 2479168 2503062 2514172 2528094 2534743 2548979 2557811 2574983 2591071 2605620 2614621 2050437 2096684 2129222 2133872 2187779 2203589 2217578 2262984 2275075 2303302 2330979 2338793 2357295 2361792 2426969 2427673 2435358 2440220 2448523 2459649 2462372 2465720 2476908 2482467 2490499 2497364 2504658 2517147 2518492 2530267 2534957 2536236 2548082 2553217 2554258 2560890 2572187 2574380 2580223 2587875 3229654 3110584 3160212 3212061 3223714 3242875 2729851 2934266 3163915 3135869 2828732 3033866 3179151 2661022 2672853 2738909 2762270 2792939 3012444 3029707 3039967 3092642 3114822 3137181 3156462 3166063 3179837 3184917 3193891 3260672 3267041 3267993 2701924 2741081 2751259 2786417 2817639 2840678 2898424 2905066 2952743 2976417 2982729 2983678 2996995 3039514 3046269 3054359 3054977 3061002 3064721 3065314 3070200 3076942 3089088 3090094 3092646 3092885 3105881 3112059 3130047 3132040 3136359 3137780 3140439 3144177 3154260 3161810 3174760 3181196 3184201 3187343 3194674 3202123 3212064 3217253 3244785 3268818 2635663 2640243 2684505 2684799 2688827 2699970 2715374 2721688 2731188 2762919 2781581 2784590 2803687 2838212 2887335 2891687 2898430 2899976 2902213 2903325 2912932 2913919 3354548 3584604 3385811 3457483 3732526 3320427 3340108 3743142 3631235 3648390 3657624 3516117 3557359 3405025 3570449 3602105 3273973 3307943 3769564 3806523 3629929 3651887 3305058 3355769 3503322 3350236 3546639 3574824 3587218 3601233 3668228 3273208 3279884 3366688 3394555 3768327 3515312 3859022 3596686 3605208 3644977 3647798 3648284 3868121 3875989 3898614 3912700 3303329 3306999 3307107 3318855 3318970 3326744 3332076 3341328 3345636 3355421 3390407 3411697 3415147 3416957 3437115 3450767 3453306 3475241 3491401 3492897 3693985 3699035 3728816 3741552 3747715 3497729 3503325 3520522 3522571 3539326 3544654 3550408 3570987 3777334 3790944 3800209 3812123 3586410 3588633 3590850 3592192 3605798 3607050 3620369 3624552 3626355 3630272 3640705 3648783 3649667 3654571 3655510 3659217 3957807 3992214 3989624 4006619 4131144 4193955 4227290 4052232 4156166 3947820 3958906 4252426 4280659 4559634 3986874 4096548 4155549 4449242 3948894 3949823 3954631 4280847 4579256 3995333 4009057 4032408 4042410 4063168 4065776 4074847 4379209 4097486 4119839 4138897 4166438 4173420 4175281 4176756 4184846 4457244 4462240 4474521 4499388 4510322 3928211 3940651 3942101 3945314 3960512 3961289 3964017 3967752 3969219 4193260 4293564 4578447 3981784 3987448 3995488 4001535 4004082 4004115 4004322 4014368 4026041 4026236 4034315 4037619 4046518 4053552 4056577 4058297 4061482 4062168 4075333 4329629 4344021 4363660 4084981 4089024 4089882 4112096 4113859 4116355 4120407 4123678 4140425 4142354 4145281 4145797 4157133 4157150 4168370 4175536 4183146 4186425 4429230 4430708 4480969 4495085 4836663 4591327 4697352 5064216 4751187 4760373 4798542 4864637 4916016 4975376 4741350 4840739 4914728 4592076 4600141 4601283 4605985 4618842 4620277 4637340 4984783 4697652 4723075 4816302 5169671 4854646 4884109 4890274 4940802 4596671 4601565 4606001 4622611 4623178 4631848 4641990 4674775 4674903 4677787 4997849 5045128 5046409 5049165 5064681 4699007 4707464 4713228 4728912 4729566 4730268 4741594 4744270 4752021 4757697 4771620 4789619 4800325 4816222 5160634 5188855 5218550 5220741 5222549 4819733 4827973 4835130 4846341 4852203 4857562 4863869 4889823 4904603 4905492 4917616 4926555 4934638 4936629 4942456 4953684 4972647 4991891 4994806 4998318 5004538 5013698 5041652 5056187 5064242 5081920 4581243 4588159 4595519 4595844 4597149 4601100 4603414 4608299 4614124 4615484 4619811 5518275 5308859 5360337 5833645 5473412 5602470 5671731 5697673 5285531 5294477 5305813 5314642 5339873 5799230 5828386 5404992 5417793 5501471 5545467 5551487 5653493 5692639 5741305 5262273 5273127 5292208 5314178 5343852 5355868 5366259 5371928 5389240 5397421 5431148 5436080 5478520 5488371 5534676 5537521 5628452 5658141 5683892 5688398 5696277 5696568 5737813 5737929 5750167 5751794 5754336 5786434 5803064 5820314 5822257 5822845 5832272 5248357 5253206 5255056 5255842 5257022 5257167 5259876 5262881 5266110 5271008 5276096 5281132 5285324 5290185 5293929 5293955 5295417 5295625 5302357 5329383 5330186 5352664 5353159 5361446 5366178 5366870 5371176 5379813 5380797 5383636 5388344 5391438 5392696 5884070 5399737 5402184 5404728 5413990 5415627 5424217 5430012 5441606 5445631 5453415 5933670 6227666 5998159 5893500 5958167 6279322 5939570 6006873 6081211 6114660 6216593 6349850 5894727 5897280 5987126 6018577 6043571 6047093 6050861 6069955 6076049 6090059 6091360 6095724 6117231 6136494 6166218 6186916 6188637 6237282 6271919 6292598 6298435 6303951 6306420 6326838 6327048 6355058 6356322 6376121 6400224 6418149 6418977 6423463 6440737 6465304 6465953 5892036 5892284 5911013 5919041 5921009 5928433 5932159 5943602 5954832 5963468 5965838 5967503 5975811 5985190 5985389 5995532 5997056 5999615 6003676 6007757 6017050 6021056 6021664 6037230 6040329 6052667 6063421 6076783 6078039 6081406 6093312 6101999 6126022 6131655 6140254 6146795 6147495 6155103 6155651 6165256 6165893 6169068 6173582 6176014 6190507 6203758 6210802 6211630 6213129 6215127 6225814 6235518 6237000 6580629 6975006 6648083 6837417 6552200 6694751 6753536 6866889 6547079 6568589 6584059 6620721 6623986 6658891 6674602 6698873 6735571 6756641 6789997 6794217 6822064 6930513 7021944 6548808 6552121 6554835 6563518 6569966 6575935 6596852 6598667 6600094 6602132 6609493 6613377 6634256 7036944 7088406 6646419 6646950 6654608 6661437 6671666 6688663 6691803 6693456 6695323 6697595 6704627 6715414 6720769 6740954 6758999 6760861 6761452 6768363 6780090 6785524 6811026 6823241 6831859 6843052 6873528 6875364 6875465 6875519 6880977 6893894 6899963 6934776 6935626 6968511 6983953 6989495 7022801 6550456 6566074 6573530 6580100 6583317 6583725 6589411 6595874 6597666 6600958 6602478 6607756 6607943 6613823 6621483 6622822 6626732 6635193 7038493 7070721 7096849 7106448 7138673 7143377 7145750 7329667 7442248 7199583 7200658 7387631 7421980 7201090 7208613 7214852 7229369 7247598 7299183 7314945 7329668 7330410 7343016 7643304 7677572 7479036 7479346 7480442 7495037 7514320 7717439 7204307 7219211 7219957 7238991 7245043 7248696 7534854 7566041 7580220 7582038 7260017 7265100 7265981 7274278 7279674 7280551 7288217 7313198 7315303 7316357 7330139 7340651 7341602 7353114 7371873 7400060 7402224 7404656 7422692 7437185 7653661 7681917 7446984 7456052 7459043 7479169 7508564 7509569 7522364 7526759 7548663 7198700 7200894 7202456 7205148 7215249 7215364 7222658 7233069 7233150 7235434 7239011 7244833 7246445 7246918 7248036 7254315 7254482 7255419 7256749 7258240 7591413 7600727 7636046 7637325 7638831 7261401 7264480 7278960 7283629 7289424 7291993 7292905 7292923 7299162 7301341 \n",
            "518550 582099 638025 585974 603753 609047 617902 631534 647719 648473 649356 403874 469679 481674 494914 498204 524078 529177 534871 554643 561933 566300 567579 570949 571800 578348 582938 586387 587584 596897 598243 606685 607620 610380 616585 618640 623692 626628 626733 628163 630886 634605 634916 635657 637190 637546 638993 639889 640750 644399 647576 647801 652712 653898 654019 654229 324702 380903 383232 384061 384744 393167 399854 403476 410649 411930 412853 416969 422629 423376 425142 425597 426765 428060 432108 432697 435007 438837 442496 447478 448331 449242 450908 453034 454864 455268 456136 456628 457168 457430 457911 458476 458836 459197 459474 461487 461953 462096 462364 463175 1180653 1237077 1064055 1136190 1150301 1216167 1232426 1245025 1269123 1280861 753156 823323 891620 976131 1000467 1000532 1023658 1062775 1072038 1087191 1111600 1122405 1129219 1140263 1156606 1185360 1186637 1195938 1199263 1214749 1224929 1225876 1236469 1237458 1238517 1247816 1253545 1253606 1255962 1256521 1258124 1259737 1274776 1276104 1277120 1297756 1299911 1305901 780817 873356 930142 959232 972683 1003861 1013834 1017352 1023194 1035428 1045946 1052031 1060262 1062819 1083153 1087080 1090343 1095093 1100628 1106865 1114072 1120525 1121307 1127780 1131356 1148177 1148382 1149457 1151946 1154933 1156002 1156112 1156853 1158474 1164210 1173795 1174984 1177967 1183117 1184489 1189994 1190246 1191413 1192683 1193764 1194077 1205116 1205515 1205743 1206175 1206784 1208931 1657741 1400612 1922473 1816997 1864174 1923197 1933124 1952932 1664040 1669173 1695843 1739430 1742340 1744570 1773340 1793187 1796351 1801005 1816017 1817695 1834417 1835493 1835841 1836780 1837991 1839462 1863541 1867103 1870488 1881074 1884627 1886682 1890963 1912409 1918749 1923275 1925307 1929891 1930683 1932124 1945662 1950589 1952910 1961452 1321006 1346297 1397378 1423024 1456367 1490842 1518741 1525763 1529858 1543035 1578529 1607454 1618260 1635693 1637321 1642998 1644720 1645146 1649117 1669538 1673247 1680698 1723948 1724595 1725850 1739489 1746929 1751919 1758531 1759169 1762200 1767239 1774612 1796182 1799577 1808262 1808531 1811958 1817755 1819601 1823052 1824073 1826442 1828106 1830798 1845315 1854064 1855843 1863557 1864768 1865191 1868367 1872156 1872499 1872608 1873330 2212032 2479138 2542879 2390593 2273905 2511907 2578672 2242043 2251833 2307902 2329430 2346316 2407562 2416158 2456221 2465741 2478193 2515214 2540037 2544443 2548459 2567336 2577079 2578015 2581981 2602667 2019954 2057196 2057289 2070724 2094605 2116974 2140262 2153881 2188661 2198153 2216698 2222336 2247117 2256864 2263980 2278866 2291998 2299115 2319940 2361424 2362991 2392696 2393195 2397516 2408856 2413141 2420034 2435274 2435591 2436741 2456340 2463256 2465715 2474706 2474881 2478931 2484236 2491932 2498331 2499499 2502395 2507933 2528053 2532683 2533040 2536281 2563444 2564102 2568954 2570219 2572327 2572391 2577895 2591374 2597943 2598867 2609622 2610922 2614157 2617297 2025323 2047086 2047760 2050012 2051256 2062089 2064169 2082376 2095631 2110331 2138231 2143918 2145702 2148783 2862865 2665443 3053942 2901753 2971061 3150957 2708275 3119953 3205664 2894977 3049174 3078714 2826708 2906761 2974028 3005875 3045268 3098120 3128711 3167821 2630670 2716952 3078443 3095229 3126760 3127363 3185381 3196786 3229963 2622777 2641311 2658364 2715611 2729847 2732575 2745836 2819789 2835391 2857385 2873850 2878844 2894808 2896539 2919467 2935228 3013485 3029305 3037430 3052210 3070464 3071743 3077576 3098357 3101343 3104426 3104647 3136331 3140194 3149179 3169004 3173682 3184504 3193629 3197175 3198692 3202230 3222454 3233276 3234563 3259152 3265159 3266767 2622347 2629104 2630546 2634808 2642029 2651587 2659024 2662427 2682346 2683426 2691033 2694770 2700403 2720583 2726950 2728797 2740785 2776559 2784165 2785832 2786090 2788013 2790485 2812973 2834508 2836296 2841280 2844096 3596558 3868139 3921753 3590560 3671145 3850958 3912192 3367097 3395187 3538469 3625931 3691184 3872280 3299692 3422412 3485208 3492653 3511600 3628778 3707842 3764206 3807336 3808393 3845023 3917896 3272253 3425884 3448817 3466347 3564485 3631586 3632734 3664746 3708053 3719977 3722807 3730700 3735363 3747832 3778215 3799865 3801262 3804797 3810150 3812794 3817353 3828362 3866960 3866984 3879125 3891900 3901180 3906061 3910526 3913131 3273020 3273797 3279388 3281059 3285812 3291760 3298697 3301464 3303734 3320183 3333968 3338911 3347658 3351597 3356466 3361921 3386924 3392141 3395658 3403172 3406020 3406257 3431438 3433704 3434230 3435249 3440798 3442076 3445241 3445303 3448172 3452217 3458201 3464124 3476206 3480919 3482083 3484819 3487620 3519307 3526996 3532851 3534642 3535291 3540129 4498898 4338988 4269653 4303520 4507672 4045514 4118712 4143752 4209365 4212017 4410295 4512522 3960056 4241373 4316044 4338559 4370981 4390099 4430974 4497981 3948333 4002721 4084311 4185825 4199452 4206053 4219574 4222517 4288245 4359776 4378693 4403640 4425429 3940594 3942093 3947550 3951850 3987383 4019957 4045053 4049395 4104951 4127170 4127492 4140297 4142741 4163712 4168859 4189972 4213557 4219510 4312342 4321297 4413794 4440885 4464786 4467341 4512428 4516943 4570886 3926879 3933297 3949621 3954288 4001836 4004897 4006640 4020253 4022925 4023694 4030985 4044128 4060520 4068814 4079584 4086693 4090871 4102432 4106237 4113860 4114856 4120142 4148235 4153469 4156571 4170728 4181577 4182737 4184504 4184843 4191863 4195708 4198762 4202104 4203638 4207130 4217650 4224222 4238974 4246522 5093113 5185997 5124248 5076749 5181294 5101967 4598822 5039201 5188759 4634037 4789948 4825999 4831168 4880914 4923380 4927338 4967266 4984307 5192341 4678478 4696684 4733898 4761236 4921782 4924501 4946960 5043352 5121098 5179127 5226031 4641182 4689310 4709455 4720416 4721692 4738295 4751590 4753880 4761953 4779397 4796335 4799835 4800309 4808748 4818366 4822838 4847738 4857424 4864037 4865614 4898982 4944687 5002649 5040577 5054975 5055239 5063810 5069581 5087273 5102457 5103073 5138084 5152443 5162735 5211650 5226015 5227563 5233337 4583122 4594307 4596300 4599970 4609338 4609404 4617907 4624268 4637779 4638292 4639012 4657577 4659278 4672028 4674674 4678757 4683878 4686418 4699338 4702873 4704088 4705190 4706561 4710923 4710993 4716979 4749196 4752126 4752198 4774205 4784966 4788371 5330069 5240653 5634249 5774762 5594644 5801773 5322921 5801217 5240944 5703899 5721488 5804299 5818726 5548689 5641348 5701451 5264067 5469956 5665052 5768248 5609940 5650312 5687306 5803320 5240974 5256075 5292475 5419023 5426991 5431200 5449672 5524893 5526978 5549282 5565937 5623828 5632637 5641216 5642809 5660273 5815873 5852527 5872802 5236828 5240286 5241425 5251909 5262389 5288219 5288774 5299409 5334721 5336722 5353132 5405017 5412223 5420936 5432601 5436342 5444983 5466908 5480945 5496863 5540094 5545838 5576949 5585303 5597137 5602125 5609800 5617282 5619492 5652166 5661669 5692130 5702178 5712567 5716662 5728285 5736587 5754515 5761990 5778482 5794670 5821907 5832502 5835856 5865259 5865964 5878887 5238601 5238897 5241782 5242298 5242370 5242650 5242905 5251515 5254925 5257370 6484473 6427189 6379050 6481180 6363869 6210009 6475394 6089541 6539482 6486607 5952277 6529990 5952927 6057246 6175885 6512817 6012234 6273008 6431765 6432024 6540666 5964362 6084539 6321893 6386098 6416304 6422783 6430615 6470956 5909118 5926170 5929559 5929636 5959204 5997192 6000623 6056664 6057728 6059410 6072588 6095187 6125837 6144549 6196424 6225334 6225470 6277219 6281545 6288378 6347858 6424779 6447618 6476582 6490535 6541828 5890053 5891530 5897205 5901030 5910625 5928828 5959539 6000118 6011091 6020808 6024396 6038162 6042064 6044904 6050186 6061365 6066010 6081430 6093897 6106200 6113527 6132070 6143166 6154843 6170578 6178275 6208702 6213945 6216527 6222522 6225120 6241989 6247021 6297737 6319591 6322499 6334997 6343994 6345408 6355648 6378101 6378912 6400381 6402492 6403514 6938835 6920816 6950153 7107304 6613416 7183416 6791103 6662119 6845154 6575490 6905394 6552251 6745695 6889208 7124283 6578728 6702910 6787429 6547256 6728047 6735954 6745131 6881448 6928917 6980412 7175518 6565325 6570632 6648234 6689312 6700084 6719979 6735814 6746956 6770521 6789690 6792119 6817217 6821342 6821767 6823829 6855077 6912449 6914304 6945268 6957403 6962416 6969883 7002888 7013383 7028232 7036834 7060512 7070198 7078820 7110926 7135159 7181760 7186768 7188580 6547793 6551973 6553780 6558958 6585798 6588515 6615479 6640802 6648612 6653998 6655571 6655610 6660440 6663018 6674930 6684686 6685979 6692560 6706504 6708803 6710508 6710608 6714596 6718140 6727401 6733877 6738959 6757852 6758301 6762548 6763422 6781722 6782132 6793990 6794385 6823257 6841868 6842689 6843284 6858877 7788441 7802401 7782377 7801971 7814975 7781694 7810594 7808590 7843401 7809945 7846914 7831446 7761434 7351329 7839524 7830965 7343026 7796214 7820720 7763100 7725698 7796468 7726591 7753631 7773714 7483244 7621636 7738376 7796323 7675769 7787293 7632020 7686575 7634212 7692514 7723174 7759886 7736250 7760888 7681597 7720071 7799338 7799616 7814678 7333006 7657685 7676458 7732898 7775566 7267834 7516270 7533604 7709970 7818223 7825162 7218286 7343105 7781483 7847590 7391558 7725914 7745458 7766653 7836635 7841589 7844762 7305911 7421895 7509544 7759799 7768607 7842340 7474496 7641744 7680108 7780376 7789039 7516457 7580327 7614305 7711240 7719946 7750334 7765593 7788702 7795799 7798466 7848011 7831493 7834076 7283776 7415565 7419778 7580689 7757398 7773484 7782774 7842537 7808554 7813169 \n",
            "554855 509176 606282 469808 559319 575717 581177 619492 629553 631868 638785 639445 644411 648662 651047 340337 426007 473443 480499 482245 489574 496756 496984 497432 505427 506543 509570 512478 514595 517485 524303 525317 536108 536834 540030 541909 542964 546879 553221 554825 554897 555562 557320 558652 560959 560986 561234 562050 562906 564166 566418 566657 566694 567810 568275 570715 570978 571100 571312 571397 572480 572606 573725 574697 575262 576311 576447 578878 579625 580043 583816 584393 584917 584990 586012 587706 587937 588831 591582 593094 593329 595708 596642 597199 598022 598213 598820 600374 600608 602032 605424 608007 608674 610121 610252 610524 611715 612420 612508 615223 1262561 1193260 829798 1181306 1196062 1288223 1153735 1186252 1207494 1217764 1239968 1249709 1255340 1278356 1290151 1290708 1307783 1025103 1086005 1086354 1116325 1137535 1139990 1142932 1158335 1175033 1180961 1182901 1184612 1184758 1190057 1190158 1190416 1199876 1204645 1204964 1207223 1207927 1210454 1210580 1216862 1225195 1227963 1229376 1232634 1237887 1245343 1247559 1249463 1252039 1257826 1264199 1267764 1269704 1270560 1270602 1274037 1275175 1280331 1281672 1283900 1286746 1287885 1290454 1292784 1295781 1295854 1297771 1298182 1298992 1301075 1305982 1306756 1307556 1307589 1307647 1307824 1052359 1058846 1060174 1067645 1073659 1078923 1084014 1090403 1098492 1100362 1112792 1131592 1139087 1143328 1145536 1149061 1150162 1161128 1162575 1163953 1164708 1165199 1167858 1451621 1382250 1540932 1450640 1566407 1526647 1335473 1692014 1620570 1568523 1422092 1695638 1607748 1635620 1642524 1747981 1748205 1750716 1753426 1756651 1419752 1588632 1549401 1764065 1771377 1751898 1314500 1843821 1562610 1800155 1905795 1934867 1952083 1681426 1713928 1883266 1740800 1395880 1462012 1474708 1477362 1332553 1351327 1359159 1362783 1368552 1380350 1401753 1403060 1417818 1418885 1419478 1427076 1444403 1446024 1503685 1528297 1533183 1564895 1580725 1597464 1455141 1456464 1460135 1474289 1479651 1486246 1486492 1487213 1487637 1488488 1498977 1499199 1727770 1500479 1501508 1512040 1513500 1515434 1519849 1523134 1525071 1526786 1529009 1536935 1537756 1543892 1549473 1550163 1311757 1316282 1321226 1325437 1326915 1330000 1331650 1333800 1339083 1340321 1344738 2043426 2007984 2116556 2057656 2066523 2182954 2082505 2235444 2159965 2078676 2476390 2478468 2598035 1966655 1976383 1980091 1982909 1987442 1995475 2002837 2008429 2027557 2030586 2032573 2035464 2038101 2041052 2041695 2060698 2061185 2080088 1965654 1966915 1966958 1968413 1970847 1971054 1972129 1972763 1974414 2094027 2096175 2098893 2122297 2129167 2131017 2133852 1974754 1975763 1976848 1977688 1978448 1978657 1980705 1982427 1991984 1992930 1995956 1997071 1997996 1998367 2001263 2002103 2002915 2005167 2006765 2007368 2008651 2011574 2012809 2013149 2013323 2013814 2015015 2016721 2017622 2017819 2018099 2018218 2018642 2018898 2019757 2019843 2020657 2021376 2022685 2022727 2022938 2022940 2023999 2025426 2026888 2026912 2028214 2144643 2150166 2158718 2172060 2029034 2029920 2630991 2659405 2681328 2690875 2699034 2709859 2730999 2753510 2755886 2756996 2802361 2827907 2620190 2621806 2622058 2623315 2636094 2649040 3105130 2856055 2857964 2863222 2888452 2650274 2651917 2654169 2656973 2661372 2661519 2661713 2670514 2672745 2674757 2683961 2687949 2690248 2690957 2693944 2911462 2926611 2928977 2944556 2946157 2714426 2721213 2721827 2725021 2727033 2727599 2727967 2746050 2754068 2758168 2766200 2772422 2995230 2779969 2781382 2795801 2799732 2800607 2830196 2832762 2834134 2623783 2630147 2635640 2638411 2640518 2642483 2645154 2645297 2645902 2646060 2845718 2856797 2871548 2877107 2879598 2892152 2651044 2655413 2656038 2656284 2657855 2658307 2659163 2660451 2663697 2664780 2668461 2670362 2670573 2675172 2679820 2680995 2681723 2691398 2693882 2694260 3465164 3306529 3316428 3528058 3292821 3344409 3382770 3696741 3454962 3500662 3547768 3308493 3331865 3760448 3358998 3384324 3408362 3828310 3484116 3519427 3531359 3542274 3573393 3576187 3634099 3668596 3282270 3286239 3299755 3308067 3316496 3323792 3329370 3329779 3330393 3729846 3758738 3765815 3356525 3356676 3357653 3359994 3367258 3369148 3377607 3390650 3399730 3405259 3776909 3788715 3799776 3424281 3434842 3463443 3483740 3897703 3904956 3497851 3501577 3510522 3520220 3520628 3520688 3549458 3550926 3575245 3578568 3588060 3623699 3634834 3636626 3656771 3666985 3667460 3280324 3281771 3284595 3291922 3293740 3302123 3307028 3315750 3317011 3317460 3325419 3326753 3332501 3712147 3728570 3733207 3735264 3742286 3767144 3333080 3334317 3360659 3363761 3364505 3366384 3373508 4319129 3998997 4254695 4126848 4222543 4272763 3987297 4006018 4026021 4044852 4108656 4124132 4175589 4217145 4255143 4292242 4410690 3929977 3941594 4533838 3970589 3970998 4043474 4062361 4071406 4113476 4149849 4186205 4192830 4200786 4237582 4252259 4258602 4260121 4262999 4279771 4294136 4345214 4350310 4370951 4448072 4469928 4488753 4495466 4520620 4538873 3929647 3942563 3943745 3945159 3949993 3954495 3988732 3994258 3998656 4017589 4017785 4020365 4024620 4026406 4030999 4042619 4062266 4067269 4068251 4070131 4072315 4073361 4075644 4085364 4088591 4092495 4096957 4098968 4101352 4104730 4120866 4127203 4142029 4149648 4155901 4157764 4170791 4171142 4177868 4184202 4193396 4193692 4197140 4197976 4208463 4213002 4217051 4225461 4234164 4238287 4250738 4251424 4251833 4256307 4633070 5123361 4653837 4679761 4772922 4867548 4604537 4605045 4683115 4685549 4799041 4801295 4817613 4828567 4855090 4878141 4890294 4901713 4902574 4950256 4955380 4968329 4987768 5053352 5086242 5131319 5151580 5156437 5163746 5203419 4588162 4599386 4603223 4609682 4648556 4649613 4662792 4665574 4673974 4684851 4687194 4709573 4718964 4733354 4741761 4750963 4751031 4754592 4755410 4764535 4770788 4772676 4778813 4783742 4790653 4791499 4796181 4796937 4814606 4814996 4818280 4820948 4825318 4829953 4834818 4836661 4850330 4851086 4851637 4854545 4864538 4864619 4865061 4865630 4870079 4883605 4884671 4889852 4890424 4895154 4895961 4898331 4903375 4913810 4920226 4921659 4928998 4931288 4933728 4940042 4972763 4975512 4978413 4991147 4998936 4999583 5000615 5004710 5005900 5008146 5391278 5544971 5378770 5471227 5518612 5630179 5641823 5300075 5334237 5440559 5568989 5584075 5244160 5270430 5271189 5276849 5317694 5345021 5389429 5508561 5532274 5534423 5560405 5560776 5598378 5602849 5674745 5697056 5697940 5720087 5748391 5788259 5795926 5249616 5251378 5254141 5269407 5272456 5274275 5278546 5290568 5295359 5298923 5317550 5322778 5334769 5356704 5358318 5365722 5375175 5378491 5380197 5386915 5397375 5398903 5408586 5410988 5424473 5438462 5438536 5444080 5447083 5452847 5466746 5467201 5479852 5481324 5484090 5484627 5487430 5487740 5488525 5489605 5491637 5497742 5503460 5518628 5523999 5535706 5541858 5544468 5545760 5558019 5583755 5585660 5590309 5592350 5593563 5598349 5617980 5636969 5637220 5637405 5641164 5648679 5652520 5654216 5659623 5671034 5676625 5970442 5923534 6014085 6181404 6271300 6483624 5893407 5896122 6046039 6055565 6124876 6145407 6174826 6220912 6247952 6253563 6282354 6284113 6329998 6388149 6406442 6406527 6414218 6419489 6428793 6437896 6439358 6481140 6512305 5890252 5893139 5908473 5931629 5935914 5948903 5949261 5952703 5963011 5997561 6008884 6012759 6020631 6020808 6035227 6035736 6036782 6046366 6062481 6098695 6101894 6110987 6122053 6124434 6141189 6150503 6175216 6175732 6185168 6198519 6212173 6226809 6230436 6230609 6239518 6249223 6268433 6275470 6275654 6276574 6276862 6284050 6308238 6322099 6339411 6351048 6361705 6375453 6396576 6401239 6408594 6428131 6430598 6462957 6463070 6468958 6475031 6487122 6509912 6527046 6527144 6529609 6542263 5889896 5891830 5892664 5896142 5899444 5900121 5902216 5902308 6948646 6974778 7119314 6608692 7001930 6564554 6584039 6616820 6643272 6666782 6713330 6740804 6763792 6783207 6795714 6848894 6877953 6921497 7071283 7098424 7103488 7142757 6554346 6561400 6563287 6569230 6571669 6584172 6609154 6614874 6640195 6647783 6653204 6655020 6668142 6676332 6680653 6682555 6695547 6703539 6726657 6743700 6754241 6763736 6769829 6770116 6773897 6784882 6796009 6806821 6809334 6819375 6821010 6836248 6847525 6849575 6854907 6856948 6860653 6870794 6889448 6908685 6911451 6914071 6917251 6919807 6922793 6925725 6927096 6937889 6950595 6964099 6973053 6976753 6981730 6991706 7036850 7044804 7044904 7053712 7055998 7066614 7070015 7074532 7098465 7104452 7116416 7125751 7130338 7131877 7135635 7146607 7148446 7169377 7169946 7171736 7173991 7190384 7191742 6544301 7414316 7622306 7220518 7247436 7337164 7417313 7518187 7622538 7717038 7835915 7286445 7311042 7330700 7752823 7397084 7409579 7482195 7786627 7534538 7543104 7612185 7615317 7210803 7221308 7227352 7228466 7229664 7241768 7244043 7261652 7289242 7291692 7295328 7296572 7297289 7301285 7308831 7322022 7346952 7739687 7842221 7770952 7779888 7357625 7369614 7381266 7404949 7416552 7427129 7431676 7436627 7437120 7786345 7452113 7465757 7469370 7479225 7480502 7534776 7554474 7565373 7590056 7602482 7604275 7616223 7618287 7657445 7666687 7678944 7837990 7716460 7198856 7199845 7201885 7206924 7208157 7209897 7211511 7213582 7215672 7216810 7217258 7220136 7221895 7224876 7226017 7230475 7232510 7234932 7241526 7241831 7243171 7248594 7248993 7249844 7250820 7254727 7256412 7258425 7258983 \n",
            "609363 408656 516155 565111 569992 578581 583598 606041 622952 644176 644216 649255 393614 409752 424751 447021 468142 478478 485107 485922 490185 498697 500447 502076 503346 507570 508497 510330 519983 521374 521748 522580 522932 524885 527321 530021 534068 535936 536650 537500 539616 540687 543117 561463 561940 564528 567069 567254 569306 569805 571009 576584 580755 581364 585110 585555 586173 587734 591421 592202 596018 596977 600822 601084 604352 605913 611875 613688 616814 618354 619517 626710 626936 628472 631308 633326 634575 635858 637584 642197 642634 643121 644016 644162 644453 646427 646853 646881 647875 650899 651158 651262 651984 653317 285746 347420 360799 368633 374799 376490 909608 827239 835944 1106301 670028 760378 1044469 1256458 971408 735164 1017181 1019690 756936 830452 834248 1060121 969495 978646 983548 991371 993929 1118431 1021830 1261547 682264 709182 710432 724946 729305 740024 755611 756670 758961 781663 786129 801445 805738 806569 807739 816678 836966 837206 843575 845992 849308 857722 869084 879533 879937 882969 885608 912651 922608 923211 923499 931621 934316 936424 940713 1195753 1064897 1098145 968685 969629 976841 978251 979620 980553 983371 984343 985531 986554 988549 991986 995536 1199336 1123418 1137482 1140941 1141285 1143722 1144931 1145908 1253432 1007549 1007815 1008286 1008490 1014131 1015355 1022696 1023329 1024975 1025703 1028822 1030907 1030946 1035973 1039049 1041970 1660188 1386593 1758848 1671117 1692876 1518619 1402827 1317566 1645125 1350993 1373592 1378286 1402101 1309376 1310363 1312014 1312056 1313408 1321337 1337735 1344389 1347768 1467640 1349144 1349880 1352001 1367641 1367684 1368758 1378503 1380223 1380381 1383119 1389919 1391078 1398227 1523684 1524421 1543592 1737856 1751044 1553878 1575443 1398727 1399288 1405018 1408375 1412563 1413960 1418954 1420825 1421565 1422434 1431081 1437807 1439442 1789842 1603882 1642401 1642475 1449873 1450817 1450871 1458885 1461616 1465308 1466171 1466192 1467322 1467844 1470349 1475386 1477331 1479502 1483261 1485612 1488370 1490040 1491790 1494803 1494913 1494944 1498117 1498303 1309051 1309439 1309714 1310604 1311208 1311561 1312835 1314078 1314431 1315967 1316581 1318775 1319286 1319346 1320150 1320979 2253771 2581823 2561219 2086401 1965599 2155810 2185994 2003440 2196988 2251836 2269025 2087261 2127893 2314210 1964236 1970808 2140558 2149644 2149894 2152433 2164195 2172797 2176127 2182318 2182453 2365660 2366697 2384524 2397659 1979485 1980545 1981013 1982743 1984053 1985082 1993627 1993977 1994050 1996351 1998321 2000550 2002424 2003816 2004213 2007192 2008640 2009225 2017753 2018102 2021782 2022138 2022538 2023039 2023668 2024058 2024654 2025639 2026093 2196865 2028289 2028292 2038687 2051392 2061050 2061928 2062591 2066568 2066805 2071433 2072866 2073985 2074218 2076926 2077048 2078575 2080097 2082086 2254199 2261431 2273124 2275113 2281652 2287008 2293666 2295794 2297764 2299124 2301851 2498728 2505510 2084417 2088317 2089286 2090577 2091907 2092429 2093805 2094495 2094574 2096698 2937143 3068982 3165071 3178609 2748791 3151793 2863126 2631373 2738732 2621606 2633625 3178666 2936755 2656602 2661328 2681798 2700847 2720154 2728239 2747690 2750159 2751724 2755865 2770349 2796881 2844858 2853738 2856428 2870926 2881857 2618753 2620719 2620849 2621059 2621843 2622761 2623856 2625679 2630390 2632523 2635299 2636193 2640562 2641097 2641323 2643908 2644631 2645825 2646974 2647544 3225900 2908203 2933927 2934964 2651465 2652360 2652780 2654134 2654367 2655720 2659684 2659888 2660768 2661179 2663917 2664630 2666042 2671275 2672083 2673016 2673997 2674872 2676512 2678381 2679534 2679608 2684440 2687605 2690003 2690208 2690940 2691426 2691779 2691832 2691852 2693697 2694724 2696666 2698516 2701736 2702357 2704446 2706799 2708155 2709659 2709980 2710854 2977659 2990097 2990590 3337977 3369561 3456649 3496437 3504334 3556479 3610641 3682951 3776586 3792059 3815859 3818176 3823061 3854607 3880489 3895692 3897461 3900408 3919603 3456284 3645068 3350195 3818727 3841594 3427385 3536433 3273748 3277596 3285393 3286098 3292800 3298452 3300778 3302651 3323499 3755118 3333197 3333948 3334921 3335263 3337146 3340850 3342172 3342467 3346603 3347225 3347968 3352658 3360497 3362881 3367838 3369405 3370187 3371949 3372344 3373417 3376916 3383622 3384210 3384689 3384831 3388253 3389820 3394479 3398714 3399574 3402344 3403846 3409845 3410069 3411576 3838176 3863771 3417042 3417449 3418058 3418243 3418328 3418828 3419018 3419812 3424148 3425633 3426399 3427505 3429971 3430867 3431889 3436677 3437709 3437804 3438143 3439981 3441141 3442983 3443149 3444259 3444708 3445476 3449295 3930681 3952038 3953119 3960712 3975690 3978215 3980235 3981225 3985425 3993210 4037030 4053691 4074751 4083743 4219829 4229681 4242873 4284038 4296517 4315503 4441304 4557177 4465567 3942542 4504510 3979990 4021464 4078034 4209699 3948947 3970686 3977829 4006872 4066922 4169787 4171146 4212679 4279331 4294308 4393418 4431862 4439436 4473046 4479732 4503593 3926573 3926974 3930268 3934357 3941810 3942120 3944155 3944462 3946561 3948010 3948591 3949293 3949356 3951196 3951702 3952053 3954406 3955740 3957365 3957396 3957561 3957718 3960796 3960987 3961943 3964304 3965189 3966463 3968785 3969231 3970462 3971133 3975510 3976257 3979495 3980891 3982028 3983253 3984110 3984541 3985095 3987028 3989589 3990381 3990489 3991354 3994253 3994359 3994953 3999520 4000284 4000894 4002804 4003990 4007502 4582424 4631114 4665659 4723030 4746870 4805404 4928982 4934592 4991624 5054377 5086979 5159365 4716645 4742532 5003918 4969468 5074266 4654820 4637210 4649304 4678394 4754918 4806136 4862116 4904852 4915502 4925417 4958221 4968107 5026983 5086124 5120866 5132079 5154117 5180964 5196747 5217421 5223641 4586026 4586719 4586899 4591325 4594746 4595025 4597162 4602249 4603385 4605492 4607628 4614943 4618360 4623451 4625245 4627818 4628431 4629322 4630456 4631367 4633122 4633615 4635863 4639299 4642391 4643312 4646021 4650654 4665854 4666806 4667813 4672684 4678409 4682169 4682383 4691255 4693966 4694606 4696805 4702621 4705267 4706038 4719931 4720513 4724214 4727047 4727662 4731038 4733303 4735913 4737158 4740016 4741999 4756335 4758425 4760196 4762294 4765676 4767638 4770990 4773185 4782070 5272488 5324876 5344882 5357938 5499458 5646073 5341771 5506199 5572879 5730131 5818867 5286586 5493223 5610104 5258267 5752355 5283498 5293242 5304718 5347595 5395028 5397750 5465637 5495756 5533987 5557310 5642866 5719395 5759752 5236897 5241558 5243595 5245359 5248537 5256059 5267887 5275225 5277109 5277731 5279341 5280913 5285139 5289427 5296353 5296958 5312971 5319295 5329687 5332618 5333655 5343214 5363610 5365520 5367651 5374347 5381386 5383589 5389170 5394469 5395335 5396288 5398417 5405049 5410576 5418586 5424819 5430889 5438805 5445670 5460792 5464604 5475188 5475745 5478523 5485102 5493478 5495306 5495822 5501199 5503060 5512477 5526488 5529272 5529977 5536940 5541220 5551108 5561890 5592708 5598725 5611808 5624739 5647351 5652566 5653048 5686508 5697000 5697553 5710237 5711599 5910073 6295319 6120349 6023605 6162408 5909224 5994294 5954843 5975100 6144628 6355007 5892095 5903003 5912248 5924237 5927628 5929263 5948054 5952244 5959012 5974864 5974944 5994206 6006244 6020829 6033943 6044309 6105799 6132074 6155742 6165433 6170731 6174369 6256138 6259755 6279232 6280614 6287892 6383494 6403234 6408977 6418365 6461178 6488054 6496893 6501449 6505551 6533422 5890143 5890409 5891006 5893405 5894201 5898694 5900858 5901487 5902553 5903060 5903209 5904587 5904876 5906166 5907645 5911262 5913343 5915041 5915583 5915770 5915967 5916707 5918014 5918662 5920206 5920639 5923124 5923560 5927518 5929252 5931507 5931537 5931785 5931832 5934603 5937328 5937968 5943160 5943169 5943445 5945143 5945903 5946603 5947602 5948462 5948826 5949481 5951477 5954353 5955060 5957162 5957493 7041040 6642887 6766823 6983240 7190756 6586899 6617752 6626053 6760694 6763385 6813988 6828112 6846262 6857040 6873834 6901376 6918045 6978895 6995117 7162149 7174780 7184188 7184227 6546486 6550577 6556494 6557003 6560700 6562050 6568036 6569209 6570789 6571294 6574251 6574838 6574994 6577710 6584140 6586371 6591126 6591178 6591493 6592528 6596519 6599441 6599565 6600859 6601824 6602324 6604135 6605441 6606170 6608976 6610247 6611833 6612366 6614749 6618408 6620715 6621499 6623944 6624812 6629117 6629799 6631546 6633628 6640804 6641273 6643212 6643872 6644524 6645171 6646453 6647298 6648706 6651918 6659042 6659481 6659607 6662273 6662614 6663127 6674277 6682807 6684654 6685485 6687758 6689598 6695672 6696925 6700295 6700795 6704972 6706556 6713850 6726290 6729066 6731554 6741530 6741564 7614142 7210993 7261321 7274087 7345247 7350523 7355116 7362245 7435783 7438318 7480442 7579649 7595269 7625965 7207468 7211638 7214218 7214984 7216110 7216399 7217525 7218151 7218306 7222595 7223611 7224129 7227547 7233982 7234484 7242236 7247033 7249038 7250565 7256742 7268083 7272047 7278524 7289412 7295819 7295992 7298724 7299439 7308072 7310141 7311837 7313372 7315013 7318053 7319272 7327889 7329644 7330031 7331732 7339396 7339761 7340142 7340704 7341352 7342595 7342887 7343353 7354317 7355936 7778575 7357249 7379045 7381014 7384336 7388344 7395508 7401906 7402379 7407377 7418413 7420439 7425139 7428191 7433574 7435644 7442457 7449012 7457018 7459075 7459802 7469958 7483023 7489914 7518109 7815270 7521902 7554382 7561169 7576582 7582021 7588296 7595039 7601963 7603897 7606176 7613856 \n",
            "230088 216345 335841 216355 221125 245181 249389 258787 275508 283647 296469 332158 459973 368402 373272 382018 382512 393049 499195 80159 102319 122643 125549 129103 144371 152315 160917 162756 163548 179228 189783 197367 201911 204896 207340 210713 226315 229678 230908 236088 242610 243337 246131 246545 247410 247512 248928 250397 250645 250924 254735 255364 255905 256907 257049 259373 260849 263383 264490 268276 270056 270066 270625 271384 271979 274215 275061 276638 279100 279293 281102 282094 284399 284584 285141 287445 293255 293426 294634 295633 296782 297212 297567 298392 300284 301462 302150 303991 304008 306190 306667 307532 308167 308411 308865 310691 312850 315951 317078 317552 705453 672978 688370 841521 693348 698493 877799 758702 761619 767349 773983 958963 967341 785658 792157 798381 806532 808199 812140 822288 1007253 1029856 823065 836686 840705 847179 849719 861855 863924 656601 659865 665394 666624 666780 666926 671617 672296 674067 676152 676178 677859 678502 678523 679073 680359 680373 681722 682641 683108 685380 686691 687123 689045 690500 1089677 879748 881284 887175 887607 888712 889751 890496 891537 892235 892880 894066 896803 903888 692212 694551 695809 696226 697046 701432 702667 702952 705330 707507 708676 709518 710312 711943 712095 712269 713195 714288 715352 715771 715799 715965 717075 717224 717262 719185 719276 720622 722460 722586 723241 723365 1340578 1358585 1363811 1370218 1429495 1437747 1439925 1444953 1750051 1450296 1471056 1477420 1514808 1538347 1550009 1554998 1555994 1563772 1564234 1584131 1590641 1593814 1594078 1597888 1599533 1609393 1622568 1631593 1642886 1647884 1309585 1312084 1312187 1314922 1316424 1316768 1319191 1319898 1321639 1322071 1322816 1323555 1325085 1325548 1326342 1326917 1328187 1330088 1330667 1332217 1332694 1333102 1333950 1336692 1337245 1337539 1337809 1337944 1338666 1339460 1339656 1342050 1342071 1344488 1344918 1345268 1345888 1346571 1346850 1347444 1655844 1676384 1680113 1686700 1690076 1690107 1694795 1700601 1704099 1349208 1350121 1350273 1350318 1350568 1352424 1354140 1355770 1356878 1356968 1360288 1361792 1362156 1362256 1363248 1364708 1365742 1366231 1369164 1369954 1370113 2091359 2227958 1965493 2409239 1976074 1978386 1981180 1994329 1995589 1996170 2001768 2002898 2009734 2017761 2018797 2021013 2421585 2446544 2459711 2029125 2031325 2034909 2039498 2040499 2045465 2046771 2047523 2047744 2049381 2053560 2056256 2056570 2057204 2058429 2060823 2061715 2064133 2064314 2069423 2071355 2075061 2078403 2087331 2092209 2093700 2099105 2099515 2100906 2104888 2109250 2111254 2116108 2118742 2119046 2119384 2120274 2120667 2121010 2121739 2130983 2132027 2578484 2139942 2140755 2146236 2151836 2154127 2163790 2169303 2173698 2175227 2177339 2180588 2180680 2182882 2183653 2184108 2186698 2187128 2188326 2199696 2200023 2201019 2201875 2202618 2203985 2204182 2204829 2205576 2211398 2211864 2213693 2216467 2217623 2218194 2218337 2222508 2225789 2225958 2226548 2847726 2983831 3000330 3007130 3131445 3186141 3187732 3189842 2619926 2625551 2625808 2626837 2627046 2627412 2627607 2629184 2630520 2630662 2630813 2631215 2631710 2633477 2637635 2637688 2639846 2642571 2645404 2645572 2649095 2651550 2652550 2654202 2658479 2659673 2659778 2662457 2663264 2665153 2665741 2666503 2666553 2670949 2672468 2673862 2675182 2675780 2676909 2677078 2678578 2680113 2684108 2686877 2687489 2688816 2689245 2692112 2692601 2692747 2694628 2696835 2700249 2705223 2708434 2710101 2710882 2712857 2713541 2713593 2714323 2716280 2718633 2719148 2722976 2725215 2727405 2727488 2729917 2730215 2731264 2731362 2732000 2732769 2737142 2739245 2740774 2740895 2741492 2744597 2745027 2745089 2745478 2745754 2745843 2746796 2747240 2747671 2748884 2753121 2754195 2755199 3902188 3317671 3320715 3364982 3380395 3406759 3448464 3456935 3457596 3463096 3499772 3507637 3610958 3692735 3730527 3761056 3769610 3771036 3776810 3783266 3783845 3792037 3809332 3830652 3838818 3910446 3272160 3274065 3274175 3274262 3274781 3275551 3275590 3278713 3279431 3281387 3284094 3284997 3285308 3285498 3286209 3286478 3287271 3288365 3289458 3290482 3290905 3293105 3293730 3293960 3294550 3296888 3297070 3297087 3297593 3298101 3298333 3298487 3299206 3300386 3303009 3303014 3303110 3303187 3303220 3304025 3304398 3306130 3306781 3306875 3306928 3307105 3307754 3309747 3310143 3310595 3310752 3310832 3311550 3312599 3314253 3315562 3315887 3318747 3318977 3319175 3319594 3320404 3320906 3321253 3321383 3321391 3321911 3322140 3322160 3323147 3324315 3324710 3325424 3326006 4093205 4143258 4226014 4365482 4392319 3967443 3983633 3998586 4005115 4009359 4017858 4019776 4038990 4044520 4046860 4056411 4087186 4093319 4094251 4102906 4124368 4130467 4132771 4140325 4169609 4202974 4237255 4249850 4257257 4271929 4300808 4314357 4335347 4337438 4342756 4366559 4372216 4394341 4401046 4418392 4423284 4437614 4445753 4456443 4465035 4477471 4480074 4486217 4495215 4497056 4505499 4554204 4570811 4576414 3928763 3928877 3928951 3929224 3930159 3931070 3931332 3932458 3935494 3936329 3936614 3937266 3938004 3938234 3938354 3938833 3939115 3939935 3939973 3940022 3940315 3942086 3943535 3944268 3944820 3944980 3945005 3946694 3947180 3947231 3947819 3947871 3948824 3949929 3950797 3951923 3952636 3953109 3953672 3953764 3954151 3956060 3956578 3958082 3958093 3958100 4590042 4672039 4789332 4582878 4586681 4590660 4608912 4615951 4616981 4623908 4628475 4634441 4637348 4639082 4647350 4650900 4656993 4658514 4666457 4674006 4675797 4692082 4710286 4711277 4713926 4716696 4720953 4721445 4723046 4733604 4747693 4749390 4784367 4791463 4793128 4809659 4810769 4814981 4824091 4827136 4843415 4850284 4853510 4864461 4876766 4890845 4899709 4903974 4911964 4912232 4934562 4937769 4939750 4941869 4943293 4944909 4945844 4956528 4959536 4988951 4997297 5003530 5008872 5017580 5020750 5026703 5044556 5056390 5077588 5094930 5096539 5103520 5104018 5108889 5114715 5133961 5135836 5137099 5137371 5139498 5141029 5144163 5144544 5145884 5148721 5152841 5159440 5160552 5179395 5186165 5192421 5194950 5207348 5212362 5213413 5217955 5222491 5225327 4581013 4581343 5450423 5621519 5253423 5257000 5258545 5262571 5264178 5266403 5271415 5291914 5296596 5308349 5337318 5340514 5362037 5386751 5390733 5399518 5401501 5404457 5416278 5421992 5446415 5457275 5460950 5470092 5485242 5488405 5493535 5494259 5510169 5515671 5518433 5526936 5527925 5528941 5531911 5540419 5541065 5546142 5559124 5581475 5584694 5590351 5590548 5602566 5610470 5613076 5614178 5614589 5625702 5628181 5631510 5632356 5636425 5637645 5656987 5659724 5667676 5676376 5683174 5685159 5692142 5697216 5704373 5706286 5715412 5718582 5725005 5725780 5727269 5734503 5735849 5740313 5751209 5757520 5757671 5768435 5771857 5778553 5784036 5815869 5818701 5826196 5828950 5833803 5835336 5841857 5845283 5846019 5846979 5850409 5857282 5860009 5862099 5862508 5868817 5878973 5880606 5889304 6046649 6344580 5898792 5899439 5908121 5909397 5910380 5918140 5919019 5925988 5928088 5939360 5946206 5954930 5968756 5969291 5973874 5979837 5979850 5982078 5984543 5990401 5990939 5997615 5997912 6001083 6003217 6005132 6005552 6006945 6011837 6013260 6019634 6022570 6025908 6026307 6032092 6034129 6036607 6036823 6037400 6037806 6041225 6049153 6057699 6058697 6060566 6063498 6065733 6066513 6066883 6068131 6068286 6069499 6078812 6091105 6099880 6100772 6103719 6105132 6108121 6113040 6113143 6116890 6129570 6138395 6141581 6141852 6148933 6150988 6156647 6158036 6158474 6161588 6180198 6185165 6186781 6189290 6190385 6190495 6190753 6191454 6191517 6194409 6195159 6199586 6201783 6203165 6203446 6214565 6223344 6227232 6228894 6230224 6235604 6240506 6258304 6262049 6264351 6270112 7046674 6939434 7093297 6545570 6546763 6547963 6548406 6551951 6558542 6564034 6569032 6573280 6586137 6592389 6594314 6594583 6598838 6598986 6615274 6616762 6626190 6630148 6638374 6644351 6649790 6649832 6650991 6659746 6666019 6667631 6671351 6672090 6672534 6678739 6681091 6683085 6683119 6685732 6686065 6686074 6686237 6687130 6688760 6690964 6692017 6707419 6708003 6708723 6709795 6713818 6719368 6720750 6727481 6728586 6729105 6733631 6739763 6744370 6745580 6745723 6745930 6746035 6756644 6758182 6761461 6763302 6771911 6772329 6778617 6783589 6788756 6788869 6797217 6799495 6803497 6806868 6807635 6810632 6814196 6826399 6828479 6833154 6841054 6848637 6849484 6851003 6855335 6858097 6859198 6860174 6865212 6867447 6873718 6876711 6886316 6887145 6888200 6894474 6898200 6898822 7308044 7483414 7488941 7521073 7535507 7198886 7199530 7200179 7204831 7204973 7210744 7211704 7213961 7217876 7220573 7222233 7227632 7229668 7230846 7231723 7236807 7237912 7240377 7240968 7243535 7251243 7252213 7256069 7264876 7267667 7268132 7269104 7270606 7276374 7277380 7278182 7281655 7283072 7287859 7292049 7295205 7297420 7299343 7300935 7302204 7303500 7305590 7311703 7312487 7318895 7320981 7326905 7329087 7330868 7332043 7338202 7341660 7343462 7343980 7344698 7346672 7350022 7352533 7355203 7355420 7357061 7359042 7363417 7363831 7364713 7367339 7368672 7370246 7370853 7371566 7372417 7374416 7376532 7379074 7382658 7385454 7387599 7387979 7396592 7397070 7403589 7405257 7406228 7409619 7415641 7416444 7416579 7419304 7419588 7423752 7424984 7425469 7432733 7432971 7436899 \n",
            "625063 576127 578649 637336 360277 466213 500069 506881 522519 524645 544677 565319 572915 576401 586158 587971 598482 609027 615610 627481 634130 638400 641945 651770 653272 303423 306115 311632 344958 368895 379378 390752 395071 397504 402763 402897 404288 413211 417864 421595 431741 441109 442529 445055 454380 456506 462198 462800 463970 464262 464503 464940 466625 468336 472558 477589 478467 480122 480262 480927 480929 483021 483707 484868 486217 486684 489528 489585 489763 489812 491493 491757 492838 494740 498125 498646 499301 499417 500838 501670 502385 503196 504127 505137 508486 510430 511186 511383 511932 512136 516577 518610 519616 522310 523252 524740 524989 527620 528621 528815 1252669 1066220 1113897 1150249 1225249 970072 1275185 741971 761714 804954 807786 1062988 1064814 1130413 1180462 1253004 800738 880457 894216 920367 934990 945747 967598 968216 1036585 1039949 1066090 1071212 1086204 1088107 1100729 1105698 1120282 1124245 1132413 1137647 1147687 1149454 1150791 1173007 1176259 1180793 1181975 1192835 1193281 1194979 1199928 1200103 1216272 1219634 1221329 1224794 1228791 1230024 1237788 1244042 1245441 1247537 1251182 1267219 1267302 1274747 1276543 1281378 1282372 1283509 1286152 1294803 1295886 1298073 1298183 1301867 1302585 1304314 1306422 1308280 670468 704312 705388 732977 780446 782054 782320 784404 793928 805344 809747 811897 815476 816528 821327 823290 836669 837503 843033 843100 860528 860902 867378 869192 1576475 1921858 1893335 1902421 1919831 1570616 1778618 1806495 1636840 1645131 1683061 1375114 1886051 1912531 1410377 1628438 1673579 1701207 1313043 1868618 1731236 1750223 1369660 1380687 1944444 1573799 1586971 1431017 1433791 1434744 1445877 1615562 1642850 1655089 1828376 1866084 1451070 1452432 1453432 1454392 1458252 1458755 1465834 1482834 1489438 1491590 1491627 1499509 1657084 1677703 1679657 1684778 1883915 1308973 1315910 1319192 1326046 1326074 1332640 1340171 1344756 1345429 1502869 1507673 1519158 1519688 1529693 1535011 1546674 1550480 1718410 1729177 1779157 1780066 1787037 1796297 1802482 1808808 1556005 1559806 1561790 1574091 1576842 1582697 1588207 1349126 1351595 1354242 1355028 1355869 1361017 1363470 1363504 1371438 1372557 1377261 1379464 1380609 1381295 1384957 2038652 2193399 1986166 2059320 2061277 2026808 2099202 2188547 2443157 2210740 2009208 2019515 2249110 2260417 2044858 2361237 2368637 2165528 1967886 1972675 1977718 1980179 1987665 1993131 2003957 2008116 2008138 2025245 2027934 2254623 2302439 2555894 2587275 2042268 2058606 2358451 2088996 2089611 2094930 2097575 2102830 2107932 2113993 2115381 2123316 2126891 2134877 2382505 2149026 2162052 2172331 2172376 2172873 2176980 2181837 2189622 2430516 2447078 2448325 1967600 1968007 1970957 1972414 1972670 2200225 2201296 2214480 2217419 2218659 2218992 2219094 2219594 2226908 2227515 2234056 2238629 2244169 2482430 2488131 2507942 2516453 2519361 1976894 1977327 1978488 1978716 1978771 1979233 1979519 1984145 1984680 1985897 1986062 1986126 1989395 1989928 1991615 1995194 1995371 1997541 2966913 3004283 2724268 2755417 2684367 2975545 3017879 2728134 2729773 2743436 2762065 2768799 2774331 2835900 3168136 2882928 2899866 2951012 2620789 2649402 2974158 3001441 3011441 3028447 3030884 2651496 2652625 2654791 2662116 2673181 2684413 2685983 2704817 2706945 3057040 3058182 3070272 3079916 3081766 3100753 3101220 2726602 2730187 2740214 2771552 3127903 3130097 3152541 3154451 3164403 2773392 2784001 2784446 2785727 2789284 2796528 2799399 2803708 2804206 2804341 2809379 2829611 3180181 3202202 3251110 2842150 2844354 2845402 2850308 2853561 2861249 2872440 2883016 2883478 2884057 2885590 2891145 2896248 2903501 2904793 2905343 2906855 2907656 2908486 2909396 2949610 2950763 2965101 2965386 2618863 2621696 2622028 2628058 2628581 2629286 2629500 2629808 2630124 2630840 2632174 3698782 3494053 3286994 3912289 3462729 3574722 3615122 3633046 3698910 3285163 3288177 3296419 3298728 3310792 3311617 3785646 3820938 3840231 3840431 3863256 3379118 3383340 3386214 3387912 3388761 3394981 3911440 3923256 3923631 3415441 3425886 3431320 3438307 3438570 3456989 3475586 3500118 3517967 3527829 3532009 3553893 3570834 3573763 3576590 3588379 3604575 3609870 3626223 3627569 3652268 3654943 3666609 3672457 3675161 3681776 3686454 3691664 3703650 3704234 3714867 3717082 3726904 3733596 3733636 3735758 3736391 3744633 3748525 3760397 3761603 3764120 3273279 3276564 3277134 3278318 3280521 3282621 3288080 3290094 3291676 3292762 3298172 3298609 3300134 3304355 3318388 3318682 3319384 3320134 3327509 3327752 3329801 3331550 3770613 3781486 3782529 3792844 3799778 3802145 3803180 3954153 4263840 4107108 4131678 4176233 4274871 4304304 4367337 4398212 4407736 4449030 4516906 4531701 3948868 3986585 3994570 4008569 4012101 4020376 4068563 4090058 4090474 4101647 4116890 4121407 4165767 4186095 4186477 4191632 4193882 4205169 4206838 4211228 4224920 4232526 4253140 4266589 4267035 4271876 4274583 4284906 4292014 4293701 4310726 4319967 4334153 4335337 4339776 4350917 4351661 4374586 4386766 4397367 4426468 4441139 4449866 4470208 4481691 4492468 4503974 4516388 4537910 4555218 4565294 3937391 3940641 3945690 3946097 3965822 3969340 3972238 3985303 3994818 4002295 4006091 4008719 4024550 4024695 4030368 4035770 4038845 4054082 4056588 4059500 4063870 4063899 4065103 4065499 4067386 4078914 4079583 4089943 4095101 4107371 4114993 4117757 4118481 4119659 4122955 4131270 4685146 4763886 4995108 4608293 4670466 4791514 4814299 5026572 5033042 5193070 4604346 4605064 4636121 4657871 4692034 4710352 4733356 4783589 4786143 4803598 4828724 4839706 4841187 4847589 4864335 4868714 4870502 4882396 4885637 4885815 4908195 4916624 4937469 4954712 4961188 5003684 5003838 5041807 5046167 5052366 5072145 5084811 5102919 5112594 5120652 5128267 5129458 5132017 5133154 5160383 5169508 5177699 5196595 5208396 5209144 5212419 5215489 5220509 4582938 4587844 4590345 4594116 4597521 4600369 4620894 4637919 4641631 4653612 4671406 4673108 4675118 4680321 4682993 4686740 4697449 4697508 4701320 4701337 4701414 4711722 4721485 4744875 4748490 4750080 4751188 4763469 4775304 4781144 4798610 4807008 4823727 4830215 4836230 4838710 4839127 4847376 4848435 4854134 4863172 4874977 5717142 5779444 5675189 5837052 5886412 5431402 5699882 5839089 5270554 5293913 5831754 5254910 5317107 5429756 5808587 5816332 5246701 5254165 5260009 5287747 5303036 5320179 5323900 5326219 5326286 5350698 5361802 5410095 5413645 5445374 5452566 5480540 5501732 5551338 5566251 5568757 5577069 5596276 5596928 5630874 5640459 5663945 5676408 5722490 5730070 5744787 5756142 5757290 5775349 5775474 5777377 5778683 5780279 5787873 5820793 5831249 5849529 5874104 5883110 5884354 5239346 5246917 5255072 5262373 5264165 5265659 5270186 5272033 5279660 5279919 5280067 5280879 5282875 5296863 5298043 5310780 5312493 5316138 5320318 5321832 5323851 5328892 5334399 5334737 5337329 5340132 5342502 5351041 5359921 5361733 5364070 5366480 5367477 5368765 5372097 5372736 5372772 5374465 5377974 5379961 5909779 6079452 6152836 6345305 6405565 6463351 5929331 5958314 6017223 6079876 6122305 6127598 6186214 6205210 6219457 6223022 6224021 6300579 6302235 6326295 6450709 6530282 6531920 5891751 5896712 5932149 5936882 5953837 5955086 5968015 6000351 6002659 6010224 6012418 6016646 6019350 6026062 6029795 6053843 6062886 6067038 6067589 6079037 6102808 6103608 6104007 6108743 6125532 6146213 6151918 6155323 6160218 6161235 6164417 6166813 6171867 6186386 6203746 6208911 6209099 6209928 6246517 6255737 6260535 6291233 6298771 6311255 6316021 6321658 6324508 6330656 6334602 6353346 6355815 6365320 6368351 6371340 6375644 6386490 6399011 6415403 6454025 6457298 6476545 6487023 6528419 6538134 6538712 6542548 5898525 5901124 5909616 5912440 5919086 5920455 5923871 5926854 5927444 5928733 5934174 6934033 7013109 7031588 7048737 7087239 7115298 7156146 7166585 7185894 7192722 6606716 6664754 6668136 6675858 6682505 6687355 6718668 6749922 6768409 6778816 6817682 6861832 6887494 6887964 6902591 6912759 6920855 6921046 6923558 6924566 6929639 6933601 6936264 6946427 6946878 6947710 6957228 6964387 6974228 6981888 6993409 6994446 7004201 7009797 7017177 7021842 7029100 7030444 7031628 7041614 7042188 7050287 7055227 7062654 7065828 7071792 7072174 7073520 7097378 7100681 7100844 7106479 7106912 7118851 7119597 7124139 7129130 7130713 7135414 7140230 7146228 7160699 7162270 7167004 7168737 7174141 7174730 7184292 7192843 6545050 6559184 6596697 6613038 6614446 6626349 6635954 6642824 6650809 6712600 6724005 6732582 6742149 6742321 6752477 6753658 6790220 6794294 6795324 6796981 6797424 7334506 7513520 7238618 7419487 7431264 7488103 7495586 7503116 7786325 7519865 7537417 7555212 7611835 7619572 7233313 7236691 7238854 7243079 7244820 7245067 7253479 7256414 7258619 7702485 7260559 7264209 7266138 7266755 7267819 7272974 7278578 7299879 7303196 7305441 7329407 7339278 7346390 7347629 7350926 7351315 7352000 7728805 7360328 7372221 7406303 7407006 7409204 7410927 7416152 7423979 7428087 7432863 7435044 7438555 7438730 7441528 7442508 7779008 7448718 7478121 7502125 7509853 7510803 7519714 7530652 7535004 7578077 7586092 7596561 7605799 7609238 7616782 7638900 7640513 7661201 7663547 7671122 7674857 7677879 7203626 7246051 7249778 7698655 7704981 7267513 7269827 7274490 7281868 7282499 7285091 7288791 7291062 7298352 7300749 7305784 7308529 7309182 7310047 7310695 7319712 \n",
            "492940 532638 632999 650105 650839 654079 529201 536766 550570 550718 554571 555866 564309 564813 566929 568616 572108 572794 574494 576669 579158 581012 587517 604390 604586 606516 606746 606945 607690 609903 610267 613790 620545 621401 621584 622569 623001 623874 625663 625944 626976 629125 635443 636214 639943 641110 641737 642379 642393 644765 645417 647494 648524 651104 651505 652218 652513 653272 653486 653528 654272 365594 415821 442320 443593 456387 460632 465162 468671 468932 472018 477176 477185 477402 481584 483892 485099 486403 486479 488372 489550 489723 491088 496038 496152 496195 496312 498176 499167 503736 504537 504774 505580 505925 510600 513475 514771 515971 515988 516926 1291868 1047959 1198096 853190 1226243 878663 1032794 1204335 1242465 1056828 1074642 1094939 1111407 1157169 1162789 1173398 1221993 1222499 1229637 1243351 1266832 1273909 1279140 1295395 1308580 780510 986151 1023453 1071962 1111352 1115279 1119235 1123158 1145994 1147830 1153190 1176676 1181916 1201536 1208495 1210722 1215144 1224617 1224775 1231827 1234260 1234748 1235129 1244193 1252703 1255635 1256190 1256911 1258031 1259202 1259691 1272587 1274026 1274832 1275503 1277891 1281385 1285783 1286620 1288096 1291141 1293337 1295913 1298407 1299943 1302248 1303563 825491 860234 863795 875171 884647 889643 917626 960332 964142 965937 969874 982105 1013151 1018251 1036192 1039681 1050433 1067615 1074607 1079026 1081315 1084767 1089662 1091512 1093155 1094082 1096845 1104035 1938413 1852565 1601700 1865180 1460825 1511058 1598765 1917874 1660015 1764225 1855051 1876709 1878114 1758128 1774104 1794631 1809217 1830669 1836861 1853597 1855895 1868315 1882576 1893273 1915285 1917941 1920683 1926689 1958901 1372976 1433456 1529653 1576672 1589479 1600700 1649949 1656034 1659278 1666261 1674290 1725033 1744615 1765616 1770435 1782845 1783763 1814067 1819517 1838893 1845842 1870069 1879791 1883827 1888919 1889041 1889440 1902173 1903390 1907540 1911110 1916935 1918763 1921424 1923604 1925931 1927693 1931726 1932744 1932988 1936829 1948742 1948784 1955441 1958177 1961155 1312336 1402673 1405269 1418497 1452952 1472051 1492957 1544379 1555428 1558257 1566596 1569966 1583417 1584713 1607775 1609632 1641082 1645446 1660879 1675263 1685611 1702713 1702782 1708268 1730936 2605412 2603676 2173953 2447871 2380355 2350028 2194103 2570158 1978186 2010651 2213180 2351959 2376201 2541190 2551483 2571841 1982690 2003156 2084431 2197571 2237477 2363827 2414224 2508662 2129739 2352975 2489427 2517465 2558613 2574866 2579119 2589961 2237260 2255006 2317698 2333535 2499461 2559289 2065476 2070685 2083731 2320707 2347591 2351523 2408017 2421055 2454082 2465867 2524661 2531999 2536863 2562544 2564666 2569066 2609693 2087486 2094858 2104625 2160211 2198194 2245233 2284724 2286228 2317722 2363000 2370557 2378229 2390893 2392368 2394155 2459444 2460913 2476608 2477521 2483535 2509227 2517661 2535512 2543474 2548223 2551535 2555741 2564409 2603024 2603356 2606199 2607289 2607376 2610220 2611834 2616302 2086771 2133125 2156337 2159635 2197405 2203467 2271600 2274932 2330174 2856019 3022313 2907487 3016606 3040444 2918194 2947243 3092826 2655912 2713308 2690301 2765912 3060446 2796695 3139728 3234363 3238869 2711955 2774227 2826072 2831040 3189479 2656965 2971002 3053916 3143926 3152627 3191836 3195258 3218980 3222803 3254208 3263021 2844222 2924763 2937696 2951831 2971574 2974672 3025128 3043363 3049306 3057027 3073950 3078644 3114846 3131423 3147948 3192218 3228326 3246242 3249992 3259760 3264069 2683971 2798357 2799938 2814213 2895291 2898064 2949671 2994109 3065866 3111353 3111758 3112300 3126885 3158413 3165171 3181010 3207286 3207409 3232885 3242958 3249843 3264784 2635079 2662258 2702997 2730047 2825924 2838497 2883581 2918331 2927251 2939710 2956081 2964613 2975042 2979858 2990325 2990605 3130720 3158427 3160160 3167982 3174243 3177923 3215124 3234532 3303318 3354882 3831167 3282491 3399241 3334415 3359236 3454766 3512021 3534361 3907293 3341702 3679886 3399837 3597154 3758553 3780929 3833455 3340041 3449319 3566814 3589724 3603697 3614121 3626506 3640357 3641020 3664197 3667868 3704988 3705256 3707030 3711229 3724413 3738775 3756718 3757879 3769908 3787423 3812817 3824210 3826728 3853061 3859748 3871148 3891488 3892557 3915058 3399725 3437338 3517618 3534610 3535160 3536012 3545612 3559775 3584409 3589374 3589599 3595720 3597908 3598725 3600959 3603787 3607068 3613763 3628820 3633630 3639458 3648148 3656176 3662050 3663276 3666348 3678875 3679228 3682611 3685384 3691696 3699176 3700186 3717608 3721062 3721439 3723615 3724375 3726913 3728758 3735353 3745064 3749419 3758056 3767773 3772324 3774193 3779987 3788268 3795498 3799214 3800179 4545070 4575321 4145043 3999654 4508448 4214603 4217467 4314982 3960386 4372923 4517176 4530989 4363601 4416515 4526332 4086884 4457770 4477919 4524778 4563596 3954885 3964323 4081060 4155882 4285623 4296145 4338749 4349889 4362607 4373732 4411441 4413734 4434438 4463186 4470540 4475745 4480557 4486033 4570639 3976623 4036880 4108452 4121564 4185197 4209314 4251422 4316273 4432084 4461737 4489956 4562158 3927246 3952394 3966161 4013027 4019042 4092063 4175934 4176031 4176473 4181720 4287404 4291932 4301262 4302756 4328732 4344016 4344769 4383188 4483010 3930736 3933454 3944630 3952520 3952700 3966046 3977209 3977891 3988215 3990189 3994487 3995603 4001976 4008730 4009287 4011461 4015654 4018315 4027382 4027463 4031704 4032468 4033747 4035895 4037901 4044405 4049034 4049725 4050511 4050532 4599120 4893967 5007683 4905833 4968540 4987919 4640042 4696758 4721792 4770021 4818769 4819777 4822667 4831686 4841459 4846437 4848344 4864511 4865656 4878130 4894561 4964502 4968150 4972261 4977180 5013779 5015959 5032262 5047996 5050707 5070563 5077156 5083985 5089526 5099112 5107786 5113537 5131943 5150792 5153381 5157118 5159109 5161050 5173782 5223515 4770830 4773247 4829337 4843465 4851947 4883775 4884056 4907090 4916550 4941515 5043457 5062701 5066526 5076851 5092793 5098747 5101607 5169146 5178885 5205714 4892562 4897602 4910754 4976057 4977960 5019812 5024983 5089508 5097542 5104644 5128936 5147726 5214295 5228497 4725275 4779936 4835998 5042461 5087947 5225461 5229218 4709020 4791875 4932105 4982348 5031560 5170161 5188413 4647079 5049604 4583896 4653018 4664676 4730330 4800186 5247193 5238178 5261106 5357067 5398027 5492820 5661935 5242125 5268978 5330039 5341655 5366055 5491355 5496175 5256268 5282631 5289156 5333385 5338091 5367238 5400640 5486365 5570301 5301978 5320364 5631732 5658733 5710361 5778163 5557108 5624157 5394647 5527898 5871485 5272675 5417503 5457937 5558455 5280039 5526505 5467426 5795033 5638610 5292754 5443276 5350010 5441699 5663633 5613359 5288197 5754552 5453230 5268043 5287134 5312416 5545248 5545463 5249332 5326238 5448923 5525216 5551813 5620295 5717929 5270825 5743589 5832795 5273865 5292566 5330604 5341819 5342556 5400108 5432928 5446689 5474234 5573485 5577113 5587688 5646276 5712781 5836531 5286857 5465613 5575061 5590030 5595972 5606002 5634863 5649830 5664348 5672375 5710857 5716208 5716501 5733666 5766989 5777716 5799797 5823390 6090639 6509567 6249854 6082923 5960912 5904757 5965198 5987018 6290403 6108521 6247908 6178222 6133621 6323837 6142900 6220871 6277640 5970480 6243396 6304659 5922070 5957441 6009612 6221649 6289862 6293393 6346988 5928957 5954422 6004838 6351838 6406311 6432108 6456405 5918100 5957231 6023021 6037026 6097181 6113172 6127211 6156177 6519486 6187977 6343456 6344904 6356131 6381352 6400821 6404688 6469986 6473761 6481121 5901071 5907072 5915413 5924136 5925173 5926884 5941423 5949032 5950802 5988420 5992078 5995590 6016073 6019904 6048325 6086811 6102623 6119255 6180773 6193154 6212075 6223543 6225665 6238093 6252064 6262174 6266074 6266502 6298295 6299708 6325816 6339576 6340755 6351954 6359774 6381570 6394747 6422754 6427029 6445167 6457001 6459320 6467304 6475298 5890155 5901443 5913107 6550548 6584130 6696550 6975462 6814748 6988725 6751597 6851857 6716754 6614637 6949316 6763870 6800458 6851139 6599574 6605405 6828209 6585142 6974622 6941103 6671475 6696853 6770051 7088159 7125323 7144140 6839413 6853591 7175501 7191864 6579970 6936208 6994782 6722299 7047913 7066444 7083754 7091867 7133712 6787275 6889408 6894605 7171375 6595271 6603577 6630384 6634503 6634763 6639435 6651756 6673390 6715515 6759387 7048191 7147020 6798258 6811409 6849817 6866011 6878654 6888864 7164732 6547676 6548334 6578740 6596709 6602019 6954667 6956484 6963822 6653274 6658526 6659863 6689780 6708765 6713673 6740226 7047794 7049607 7052562 7054743 7119055 7160094 6788207 6796156 6802943 6830280 6855585 6897733 6920429 6931161 6934168 6937742 6953955 6987038 6988611 6990543 6995361 7002482 7006808 7355578 7503527 7302852 7441150 7408436 7292390 7257025 7474256 7682026 7608386 7703506 7730862 7203713 7289770 7701802 7377244 7397283 7439347 7613369 7446393 7492224 7503558 7271252 7279070 7387437 7496627 7504822 7299730 7304019 7309727 7325030 7340045 7528152 7549495 7379065 7420630 7597102 7626321 7814189 7446402 7465342 7470616 7495142 7515624 7545211 7280751 7281231 7302848 7350250 7607138 7607933 7610004 7628215 7359200 7369824 7400201 7406152 7410988 7661465 7449048 7450475 7457324 7459089 7463826 7473550 7483761 7490375 7500198 7204407 7212349 7225098 7227297 7234930 7687258 7692359 7531994 7540564 7542192 7553546 7558949 7568849 7261694 7264440 7271830 7328520 7345229 7345736 7345806 7349580 7351167 7351682 7735224 7592422 7596056 7609796 7617519 7632880 7359698 7368841 7374561 \n",
            "574048 319272 509176 554855 559319 606282 629553 454615 560708 564166 568275 570978 575213 581177 583816 592852 598022 620423 644411 646503 647144 648662 652149 272793 312788 353558 429662 469808 473443 480499 482245 484486 489574 495642 505427 509142 509570 514367 514595 516311 517485 524132 524303 530814 536834 541909 542964 545611 554825 554897 555562 557320 560959 560986 561234 562050 562906 566657 567810 571100 572480 572606 573725 574697 575262 575717 576311 578878 579625 580043 584990 585103 586012 587706 587937 588831 591582 593030 593094 593329 595708 596642 597199 597264 597275 598213 598331 598820 600374 600608 601814 605424 606904 608007 608674 609323 610121 610524 611715 612420 1064412 1212301 1165199 1279350 1221518 1244284 1244680 972283 1009627 1094325 1252175 1260777 1268224 1292801 1307186 1182901 1216202 1237692 1060174 1086354 1091797 1100362 1123673 1133630 1149061 1255132 1255449 1260932 1264037 1275180 1288477 1150172 1153735 1184612 1184758 1189700 1299546 1303931 1305020 1307673 1308657 1205270 1207494 1210580 1215826 1224063 1229376 1233908 1239968 1244790 1052359 1056242 1058846 1082727 1084014 1086005 1088113 1090403 1094766 1095157 1098492 1120177 1123313 1125262 1132786 1137509 1139087 1139990 1143328 1145536 1248252 1249709 1253140 1263190 1266363 1269704 1283900 1284511 1286084 1286746 1287506 1290151 1290708 1296362 1149781 1150162 1157819 1158335 1160654 1161891 1163208 1163223 1164708 1167858 1173572 1175021 1178008 1178115 1181306 1185345 1324553 1337544 1384210 1393825 1310814 1315547 1317017 1329501 1341171 1477389 1427999 1443623 1351931 1352887 1363146 1480921 1490375 1499799 1418128 1435011 1439307 1440123 1366052 1485951 1486511 1565048 1566093 1500616 1511639 1512826 1538358 1547424 1318251 1554073 1571537 1576178 1588176 1596407 1597752 1690975 1484789 1613338 1622281 1435168 1661370 1772693 1774156 1467924 1527674 1380085 1876256 1951930 1932445 1450838 1348497 1535638 1403109 1403478 1408418 1310970 1313908 1328748 1331627 1335584 1337183 1337396 1449801 1450239 1462119 1463176 1467099 1473971 1354489 1356513 1357420 1372172 1373926 1389397 1392205 1395926 1397566 1510143 1520730 1528193 1538214 1541955 1546143 1546969 1547567 1404138 1406358 1410731 1416376 1420847 1422734 1424030 1424735 1428485 1431247 1431306 2078346 2416096 1964794 1971491 2009700 2017265 2019827 2024111 2026282 2032107 2037663 2041809 2042513 2044133 2049424 2064041 2065735 2066347 2069117 2286723 2090038 2108215 2120333 2122314 1965883 1966467 1967000 1967323 1967341 1967673 1967903 1968053 1968391 1969524 1970358 1970572 1971051 1971293 1972945 2149332 2163983 2164556 2167537 2176617 2177322 2190664 1975013 1975317 1975448 1977443 1978657 1978729 1978972 1980292 1982427 1982678 1985231 1985827 1986384 1987644 1987684 1988471 1988761 1989992 1990625 1991467 1994940 1995769 1995853 1997742 1997924 1997983 1998944 2001100 2002257 2003252 2003824 2003862 2004313 2004531 2006391 2006555 2008918 2012063 2013480 2018890 2020147 2021350 2021376 2022824 2024032 2024603 2024688 2025180 2025715 2027143 2027526 2194041 2198286 2203926 2637419 2696780 3012771 2790018 2801485 2834341 2633334 2634972 2635640 2640138 2641906 2645297 2645586 2648331 2887766 2911462 2932336 2655413 2657855 2659405 2661693 2670573 2677847 2680407 2681328 2683961 2688688 2690875 2691398 2693069 2696110 2698483 2699034 2701931 2708624 2708798 2983712 2992625 2716615 2721213 2730999 2749147 2756996 2759237 2762340 2767240 3069468 2777697 2793465 2798901 2817327 2825541 2827907 2830382 2831778 3137884 2856055 2857964 2863222 2868432 2882644 2885684 2886063 2890490 2892255 2896664 2617743 2617825 2618192 2619897 2620190 2621806 2622058 2623315 2623701 2636094 2645154 2646495 2646913 2647439 2648597 2649758 2650027 3197636 2901088 2908354 2918503 2924952 2926611 2928977 2944556 2650274 2651917 2653042 2653060 2654169 2656843 2660279 2660451 2661372 3369410 3728570 3333973 3467398 3482560 3519427 3528058 3598087 3598848 3608309 3634099 3759228 3760448 3282270 3292821 3304101 3306529 3316428 3331865 3332501 3858148 3340647 3344409 3357188 3360659 3369148 3375143 3380691 3382770 3405259 3890770 3424281 3454962 3484116 3516941 3547768 3575245 3578568 3667460 3668596 3696741 3701631 3712147 3728608 3729846 3733207 3767144 3274467 3277429 3279010 3280324 3281771 3286239 3289026 3308067 3308493 3315005 3317011 3317460 3323792 3329370 3329779 3330393 3790358 3815085 3815301 3828310 3831181 3841583 3852601 3852647 3334317 3338005 3345327 3351752 3352987 3356525 3356676 3358998 3363761 3367258 3374491 3382735 3384324 3389011 3399730 3408362 3878756 3915881 3423104 3424311 3429271 3456841 3464620 3465164 3483740 3490297 3494718 3497851 3500662 4258602 4006018 4017589 4126848 4292242 3943745 3987297 3998997 4020365 4319129 4408568 4479720 3970998 4043474 4068487 4073361 4217145 4222543 4237582 4238287 4251424 4260121 4336908 4410690 4520620 4557969 4565808 3928162 3941594 3946688 3977224 3988732 4000115 4019948 4026406 4062361 4069005 4070131 4073910 4108656 4121302 4137496 4149849 4170791 4175589 4177868 4186107 4192830 4226016 4249782 4279771 4294629 4305404 4316069 4369830 4373909 4380391 4405966 4408609 4455205 4467648 4469928 4511880 4521242 3929977 3930564 3931244 3941415 3952781 3957093 3960732 3962652 3981356 3985366 3990789 3994258 3999055 3999317 3999369 4004904 4006848 4007830 4011619 4017785 4019678 4024990 4033293 4044852 4057225 4067269 4076781 4080400 4082122 4084225 4085269 4086170 4087091 4096957 4098968 4100053 4653837 5048447 5131319 4604537 4605045 4661541 4680721 4739579 4783742 4814996 4829953 5053352 5083277 5097869 5123361 4587521 4597475 4606589 4608958 4633070 4656477 4799041 4826161 4834818 4851637 4855090 4867548 4894353 4898331 4994666 5058217 5080082 5103089 5124731 5185469 5221643 4590275 4592693 4596923 4598662 4607950 4614457 4617549 4624240 4624704 4630046 4641821 4648259 4659442 4663462 4665574 4674571 4678000 4679246 4680815 4686135 4696810 4698665 4699592 4709291 4717616 4719577 4723755 4731674 4743342 4745441 4748891 4764535 4778813 4780474 4784375 4789094 4793530 4796743 4801957 4808858 4818280 4820097 4831962 4833419 4851511 4854545 4864538 4879892 4888517 4888900 4889852 4890294 4893844 4900689 4913887 4915086 4918495 4920226 4927866 4935881 4940042 4944975 4964673 4970554 5389429 5334237 5391278 5544971 5300075 5317550 5333723 5378923 5471227 5508561 5544468 5602849 5801341 5857488 5250901 5278546 5345021 5375175 5378770 5429488 5466746 5474127 5487430 5518656 5532274 5546837 5568989 5599607 5641823 5720087 5764610 5814146 5835290 5839169 5844659 5845509 5868110 5872347 5886511 5264791 5274275 5283650 5307129 5311614 5317694 5325715 5333204 5334769 5342044 5352031 5356491 5364316 5378491 5388001 5394142 5404835 5407033 5413095 5427827 5440559 5447281 5454235 5467130 5467201 5483338 5491461 5493594 5495111 5500063 5503460 5505657 5507803 5508050 5508896 5524535 5527692 5538472 5547562 5554467 5565927 5569819 5574294 5576661 5584015 5588479 5590309 5593295 5593563 5598349 5602804 5604815 5607847 5613646 5626322 5627026 5627378 5628412 5630179 5630497 5635217 6150503 5923534 6062481 6145407 6239518 6248647 6271300 6276574 6282354 6349734 6483624 5929448 5931629 5932726 5952703 5970442 6012759 6055567 6124434 6185168 6274457 6275654 6284050 6292253 6378456 6406527 6424803 6475031 6512305 5893132 5895099 5896122 5902002 5902473 5906470 5908448 5908473 5916356 5920958 5922037 5928185 5929422 5933850 5935914 5938032 5946523 5951590 5961802 5973374 5977153 5984291 5998332 6008559 6020316 6020631 6021011 6032776 6047215 6049369 6060826 6063466 6074838 6101894 6110574 6110987 6121389 6129267 6148164 6151031 6154203 6157068 6171983 6174826 6177695 6189070 6191567 6196551 6198519 6209158 6232079 6235142 6239423 6249223 6253563 6256138 6258519 6259736 6284113 6286211 6298039 6322099 6361705 6362257 6367904 6375453 6376883 6397067 6399378 6400511 6406706 6877953 6974778 6743700 6795714 6815207 6856948 6948646 7098424 6608692 6656818 6666782 6713330 6726657 6751456 6775485 6787807 6809646 6841886 6843605 6848894 6936798 6939084 6960069 7013867 7035381 7119314 7169377 7196900 6561516 6566656 6577351 6584172 6586100 6605959 6619070 6629930 6633989 6653204 6658279 6662853 6666241 6673664 6679862 6706775 6715952 6729690 6732609 6733925 6735561 6743394 6747134 6769829 6771965 6787058 6796003 6796009 6832177 6837080 6846003 6866330 6878408 6881001 6889517 6901373 6910263 6917251 6919984 6921497 6932503 6967558 7013305 7028427 7050345 7056535 7074532 7084927 7097640 7109432 7119772 7129178 7130338 7157256 7161879 7166396 7186893 7189650 7195386 7197776 6545552 6548268 6549199 6552559 6553357 6569117 6574799 6575220 6579132 6581530 6586063 6588265 7479225 7551910 7678424 7348866 7409579 7414316 7622538 7717038 7842221 7219742 7220518 7225288 7779888 7311042 7786627 7462918 7532320 7571042 7660685 7675515 7744080 7752823 7206924 7207663 7247436 7773315 7264513 7278562 7279080 7297289 7306204 7316083 7327225 7335874 7790475 7369614 7374524 7386543 7392071 7400387 7417313 7425666 7439125 7441793 7826448 7443041 7452269 7460149 7463660 7465560 7477174 7484376 7508026 7518187 7831887 7832526 7834681 7519433 7527979 7543104 7547377 7552055 7557016 7835915 7837990 7584172 7615317 7616223 7618367 7622306 7641926 7642268 7646367 7682299 7685014 7695832 7706274 7707925 7741092 7749909 7771172 7775497 7207502 7208323 7212313 7212525 7214954 7215672 7221308 7224963 7225052 7227352 7229664 7233707 7236151 7236317 7237873 7238669 7240968 7241526 \n",
            "after merge,scores: 0.212766 0.212766 0.191489 0.191489 0.191489 0.170213 0.170213 0.148936 0.148936 0.148936 0.148936 0.148936 0.148936 0.148936 0.148936 0.148936 0.148936 0.12766 0.12766 0.12766 0.12766 0.12766 0.12766 0.12766 0.12766 0.12766 0.12766 0.12766 0.12766 0.12766 0.12766 0.12766 0.12766 0.12766 0.12766 0.12766 0.12766 0.12766 0.12766 0.12766 0.12766 0.12766 0.12766 0.12766 0.12766 0.12766 0.12766 0.12766 0.12766 0.12766 0.12766 0.12766 0.12766 0.12766 0.12766 0.12766 0.12766 0.12766 0.12766 0.12766 0.12766 0.12766 0.12766 0.12766 0.12766 0.12766 0.12766 0.12766 0.12766 0.12766 0.12766 0.12766 0.12766 0.12766 0.12766 0.12766 0.12766 0.12766 0.12766 0.12766 0.12766 0.12766 0.12766 0.12766 0.12766 0.12766 0.12766 0.12766 0.12766 0.12766 0.12766 0.12766 0.12766 0.12766 0.12766 0.12766 0.12766 0.12766 0.12766 0.12766 0.468085 0.446809 0.382979 0.361702 0.361702 0.340426 0.319149 0.319149 0.319149 0.319149 0.319149 0.319149 0.319149 0.297872 0.297872 0.297872 0.297872 0.297872 0.297872 0.297872 0.276596 0.276596 0.276596 0.276596 0.276596 0.276596 0.276596 0.276596 0.276596 0.276596 0.276596 0.276596 0.276596 0.276596 0.276596 0.276596 0.276596 0.255319 0.255319 0.255319 0.255319 0.255319 0.255319 0.255319 0.255319 0.255319 0.255319 0.255319 0.255319 0.255319 0.255319 0.255319 0.255319 0.255319 0.234043 0.234043 0.234043 0.234043 0.234043 0.234043 0.234043 0.234043 0.234043 0.234043 0.234043 0.234043 0.234043 0.234043 0.234043 0.234043 0.234043 0.234043 0.212766 0.212766 0.212766 0.212766 0.212766 0.212766 0.212766 0.212766 0.212766 0.212766 0.212766 0.212766 0.212766 0.212766 0.212766 0.212766 0.212766 0.212766 0.212766 0.212766 0.212766 0.212766 0.212766 0.212766 0.212766 0.212766 0.212766 0.212766 0.87234 0.808511 0.765957 0.765957 0.765957 0.765957 0.765957 0.765957 0.765957 0.744681 0.744681 0.744681 0.744681 0.723404 0.723404 0.723404 0.702128 0.680851 0.638298 0.617021 0.617021 0.617021 0.617021 0.617021 0.617021 0.617021 0.617021 0.617021 0.595745 0.595745 0.595745 0.595745 0.595745 0.595745 0.595745 0.595745 0.595745 0.595745 0.595745 0.595745 0.595745 0.595745 0.595745 0.595745 0.595745 0.595745 0.595745 0.595745 0.595745 0.595745 0.574468 0.574468 0.574468 0.574468 0.574468 0.574468 0.574468 0.574468 0.574468 0.574468 0.574468 0.574468 0.574468 0.574468 0.574468 0.574468 0.574468 0.574468 0.553191 0.553191 0.553191 0.553191 0.553191 0.553191 0.553191 0.553191 0.553191 0.553191 0.553191 0.553191 0.553191 0.553191 0.553191 0.553191 0.553191 0.553191 0.553191 0.553191 0.553191 0.553191 0.553191 0.531915 0.531915 0.531915 0.531915 0.531915 0.531915 0.531915 0.531915 0.531915 0.93617 0.93617 0.93617 0.916667 0.914894 0.897959 0.897959 0.893617 0.88 0.877551 0.875 0.875 0.851064 0.851064 0.851064 0.851064 0.851064 0.851064 0.84 0.84 0.833333 0.833333 0.833333 0.833333 0.829787 0.816327 0.814815 0.808511 0.808511 0.808511 0.803922 0.8 0.8 0.795918 0.795918 0.795918 0.791667 0.777778 0.770833 0.769231 0.765957 0.765957 0.765957 0.765957 0.745098 0.745098 0.744681 0.744681 0.744681 0.734694 0.734694 0.723404 0.723404 0.723404 0.72 0.708333 0.705882 0.705882 0.702128 0.696429 0.680851 0.680851 0.653846 0.632653 0.632653 0.617021 0.617021 0.617021 0.617021 0.617021 0.617021 0.617021 0.617021 0.617021 0.617021 0.612245 0.604167 0.604167 0.604167 0.604167 0.595745 0.595745 0.595745 0.595745 0.595745 0.58 0.58 0.574468 0.574468 0.574468 0.571429 0.571429 0.568627 0.568627 0.553191 0.553191 0.54717 0.541667 0.531915 0.531915 0.672414 0.586207 0.482759 0.385965 0.37931 0.375 0.362069 0.362069 0.362069 0.357143 0.35 0.35 0.35 0.339286 0.339286 0.338983 0.33871 0.33871 0.333333 0.333333 0.333333 0.333333 0.328125 0.328125 0.322034 0.322034 0.321429 0.321429 0.318182 0.315789 0.311475 0.311475 0.311475 0.311475 0.310345 0.310345 0.310345 0.310345 0.307692 0.306452 0.306452 0.306452 0.303571 0.301587 0.3 0.3 0.3 0.298246 0.296875 0.295082 0.295082 0.295082 0.295082 0.293103 0.293103 0.293103 0.292308 0.290323 0.290323 0.288136 0.288136 0.288136 0.288136 0.285714 0.285714 0.285714 0.285714 0.285714 0.283333 0.283333 0.280702 0.280702 0.280702 0.280702 0.278689 0.276923 0.276923 0.276923 0.275862 0.274194 0.274194 0.274194 0.271186 0.269841 0.267857 0.267857 0.267857 0.266667 0.266667 0.266667 0.265625 0.265625 0.265625 0.265625 0.263158 0.262295 0.261538 0.258621 0.258065 0.258065 0.439394 0.352941 0.318182 0.309859 0.30137 0.3 0.298507 0.295775 0.295775 0.294118 0.287879 0.287671 0.283582 0.283582 0.279412 0.268657 0.268657 0.268657 0.268657 0.267606 0.264706 0.26087 0.26087 0.260274 0.260274 0.257576 0.257576 0.257143 0.257143 0.257143 0.257143 0.253731 0.253521 0.25 0.25 0.25 0.246575 0.246575 0.246377 0.242857 0.242857 0.242424 0.242424 0.242424 0.242424 0.242424 0.242424 0.242424 0.239437 0.239437 0.239437 0.238806 0.238806 0.238806 0.238806 0.238806 0.236111 0.236111 0.236111 0.235294 0.231884 0.231884 0.228571 0.228571 0.228571 0.228571 0.228571 0.227273 0.227273 0.225352 0.225352 0.225352 0.223881 0.223881 0.223881 0.223881 0.223881 0.222222 0.222222 0.222222 0.222222 0.220588 0.220588 0.220588 0.219178 0.219178 0.219178 0.219178 0.219178 0.219178 0.219178 0.219178 0.219178 0.217391 0.217391 0.217391 0.217391 0.217391 0.217391 0.217391 0.386667 0.355263 0.346667 0.307692 0.293333 0.293333 0.289474 0.283784 0.28 0.276316 0.272727 0.27027 0.27027 0.266667 0.265823 0.263158 0.263158 0.263158 0.25974 0.25974 0.256757 0.253333 0.253333 0.253333 0.25 0.25 0.246753 0.246753 0.246575 0.24 0.236842 0.236842 0.236842 0.236842 0.233766 0.233766 0.233766 0.230769 0.230769 0.230769 0.230769 0.230769 0.230769 0.230769 0.226667 0.226667 0.226667 0.226667 0.223684 0.223684 0.223684 0.223684 0.223684 0.220779 0.220779 0.220779 0.220779 0.220779 0.220779 0.220779 0.220779 0.220779 0.220779 0.219178 0.219178 0.216216 0.216216 0.216216 0.216216 0.216216 0.213333 0.213333 0.213333 0.213333 0.213333 0.213333 0.210526 0.210526 0.210526 0.210526 0.210526 0.210526 0.210526 0.210526 0.210526 0.207792 0.207792 0.207792 0.207792 0.207792 0.207792 0.207792 0.207792 0.205479 0.205128 0.205128 0.205128 0.205128 0.205128 0.205128 0.43038 0.3125 0.301205 0.3 0.268293 0.265823 0.253165 0.243902 0.243902 0.243902 0.243902 0.243902 0.240964 0.240964 0.240506 0.240506 0.231707 0.231707 0.231707 0.227848 0.227848 0.227848 0.227848 0.225 0.225 0.225 0.225 0.222222 0.222222 0.222222 0.222222 0.219512 0.219512 0.216867 0.21519 0.21519 0.2125 0.2125 0.2125 0.2125 0.2125 0.2125 0.2125 0.209877 0.209877 0.209877 0.209877 0.209877 0.209877 0.209877 0.209877 0.207317 0.207317 0.207317 0.207317 0.207317 0.207317 0.207317 0.204819 0.204819 0.204819 0.204819 0.204819 0.204819 0.202532 0.202532 0.202532 0.202532 0.202532 0.202532 0.202532 0.202532 0.202532 0.202532 0.202532 0.2 0.2 0.2 0.2 0.2 0.2 0.2 0.2 0.2 0.197531 0.197531 0.197531 0.197531 0.197531 0.197531 0.197531 0.197531 0.197531 0.197531 0.197531 0.197531 0.197531 0.197531 0.197531 0.195122 0.290698 0.287356 0.285714 0.275862 0.267442 0.261364 0.244186 0.238095 0.238095 0.238095 0.229885 0.22619 0.22093 0.214286 0.214286 0.214286 0.214286 0.214286 0.211765 0.211765 0.209302 0.209302 0.209302 0.202381 0.202381 0.202381 0.202381 0.202381 0.202381 0.202381 0.202381 0.202381 0.202381 0.202381 0.202381 0.202381 0.2 0.2 0.2 0.2 0.197674 0.197674 0.197674 0.197674 0.197674 0.197674 0.195402 0.195402 0.195402 0.192771 0.190476 0.190476 0.190476 0.190476 0.190476 0.190476 0.190476 0.190476 0.190476 0.190476 0.190476 0.190476 0.188235 0.188235 0.188235 0.188235 0.188235 0.188235 0.188235 0.188235 0.188235 0.188235 0.188235 0.188235 0.188235 0.186047 0.186047 0.186047 0.186047 0.186047 0.186047 0.186047 0.186047 0.186047 0.186047 0.186047 0.186047 0.186047 0.186047 0.186047 0.183908 0.183908 0.183908 0.183908 0.183908 0.183908 0.183908 0.183908 0.181818 0.180723 0.363636 0.307692 0.307692 0.306818 0.304348 0.3 0.296703 0.293478 0.285714 0.284091 0.282609 0.280899 0.277778 0.274725 0.274725 0.269663 0.263736 0.25 0.25 0.233333 0.230769 0.227273 0.224719 0.224719 0.21978 0.211111 0.204545 0.202247 0.202247 0.202247 0.202247 0.202247 0.2 0.2 0.2 0.197802 0.197802 0.197802 0.197802 0.197802 0.197802 0.195652 0.193182 0.193182 0.193182 0.191011 0.191011 0.191011 0.191011 0.191011 0.188889 0.188889 0.188889 0.188889 0.186813 0.186813 0.186813 0.186813 0.184783 0.184783 0.184783 0.184783 0.184783 0.181818 0.181818 0.181818 0.181818 0.181818 0.181818 0.181818 0.181818 0.179775 0.179775 0.179775 0.179775 0.179775 0.179775 0.179775 0.179775 0.179775 0.179775 0.179775 0.177778 0.177778 0.177778 0.177778 0.177778 0.177778 0.177778 0.177778 0.177778 0.177778 0.177778 0.177778 0.177778 0.177778 0.177778 0.177778 0.177778 0.177778 0.305263 0.304348 0.301075 0.297872 0.297872 0.297872 0.297872 0.297872 0.294737 0.294737 0.293478 0.291667 0.291667 0.291667 0.291667 0.291667 0.290323 0.290323 0.290323 0.28866 0.28866 0.287234 0.287234 0.287234 0.284211 0.284211 0.284211 0.284211 0.284211 0.282609 0.282609 0.28125 0.28125 0.27957 0.276596 0.276596 0.276596 0.276596 0.276596 0.273684 0.271739 0.268817 0.268817 0.268041 0.268041 0.265957 0.265957 0.265957 0.265957 0.265957 0.265957 0.263158 0.263158 0.263158 0.26087 0.260417 0.260417 0.260417 0.260417 0.260417 0.260417 0.260417 0.260417 0.258065 0.258065 0.257732 0.257732 0.255319 0.255319 0.252632 0.25 0.247423 0.247423 0.247312 0.239583 0.23913 0.23913 0.226804 0.226804 0.226804 0.225806 0.21875 0.21875 0.217391 0.216495 0.215054 0.210526 0.210526 0.210526 0.208333 0.206522 0.206522 0.206522 0.206522 0.204301 0.204301 0.204301 0.204301 0.202128 0.202128 0.319588 0.28866 0.285714 0.282828 0.278351 0.277228 0.272727 0.268041 0.268041 0.268041 0.267327 0.265306 0.265306 0.265306 0.262626 0.262626 0.257732 0.257426 0.257426 0.257426 0.255102 0.252525 0.252525 0.252525 0.252525 0.252427 0.25 0.25 0.25 0.25 0.245098 0.245098 0.244898 0.244898 0.242718 0.242424 0.240385 0.240385 0.24 0.237624 0.237624 0.237113 0.234694 0.23 0.226415 0.226415 0.22549 0.22549 0.22449 0.22449 0.224299 0.223301 0.222222 0.221154 0.219048 0.217822 0.216981 0.213592 0.212121 0.212121 0.209524 0.207921 0.207921 0.207547 0.207547 0.206186 0.205882 0.205882 0.205607 0.204082 0.204082 0.204082 0.204082 0.204082 0.203883 0.20202 0.20202 0.201923 0.2 0.198113 0.19802 0.19802 0.19802 0.196078 0.195876 0.195876 0.194175 0.193878 0.193878 0.193878 0.193878 0.193878 0.193878 0.193878 0.193878 0.192308 0.192308 0.191919 0.191919 0.191919 \n",
            "0.176471 0.161765 0.161765 0.161765 0.161765 0.147059 0.147059 0.147059 0.147059 0.147059 0.147059 0.147059 0.147059 0.147059 0.147059 0.147059 0.147059 0.147059 0.147059 0.147059 0.147059 0.147059 0.147059 0.147059 0.147059 0.147059 0.147059 0.147059 0.147059 0.147059 0.147059 0.147059 0.147059 0.147059 0.147059 0.147059 0.147059 0.147059 0.147059 0.147059 0.147059 0.132353 0.132353 0.132353 0.132353 0.132353 0.132353 0.132353 0.132353 0.132353 0.132353 0.132353 0.132353 0.132353 0.132353 0.132353 0.132353 0.132353 0.132353 0.132353 0.132353 0.132353 0.132353 0.132353 0.132353 0.132353 0.132353 0.132353 0.132353 0.132353 0.132353 0.132353 0.132353 0.132353 0.132353 0.132353 0.132353 0.132353 0.132353 0.132353 0.132353 0.132353 0.132353 0.132353 0.132353 0.132353 0.132353 0.132353 0.132353 0.132353 0.132353 0.132353 0.132353 0.132353 0.132353 0.132353 0.132353 0.132353 0.132353 0.132353 0.279412 0.264706 0.264706 0.264706 0.264706 0.264706 0.25 0.25 0.25 0.235294 0.235294 0.235294 0.235294 0.235294 0.235294 0.235294 0.235294 0.235294 0.235294 0.235294 0.235294 0.235294 0.235294 0.235294 0.235294 0.235294 0.235294 0.235294 0.235294 0.220588 0.220588 0.220588 0.220588 0.220588 0.220588 0.220588 0.220588 0.220588 0.220588 0.220588 0.220588 0.220588 0.220588 0.220588 0.220588 0.220588 0.220588 0.220588 0.220588 0.220588 0.220588 0.220588 0.220588 0.220588 0.220588 0.220588 0.220588 0.220588 0.220588 0.220588 0.220588 0.220588 0.220588 0.220588 0.220588 0.220588 0.220588 0.220588 0.220588 0.220588 0.205882 0.205882 0.205882 0.205882 0.205882 0.205882 0.205882 0.205882 0.205882 0.205882 0.205882 0.205882 0.205882 0.205882 0.205882 0.205882 0.205882 0.205882 0.205882 0.205882 0.205882 0.205882 0.205882 0.205882 0.205882 0.205882 0.205882 0.205882 0.205882 0.205882 0.5 0.367647 0.338235 0.338235 0.338235 0.338235 0.323529 0.323529 0.323529 0.323529 0.323529 0.323529 0.323529 0.308824 0.308824 0.308824 0.308824 0.308824 0.308824 0.308824 0.308824 0.308824 0.308824 0.308824 0.308824 0.294118 0.294118 0.294118 0.294118 0.294118 0.294118 0.294118 0.294118 0.294118 0.294118 0.294118 0.294118 0.294118 0.294118 0.294118 0.294118 0.294118 0.294118 0.294118 0.294118 0.294118 0.294118 0.279412 0.279412 0.279412 0.279412 0.279412 0.279412 0.279412 0.279412 0.279412 0.279412 0.279412 0.279412 0.279412 0.279412 0.279412 0.279412 0.279412 0.279412 0.279412 0.279412 0.279412 0.279412 0.279412 0.279412 0.279412 0.279412 0.279412 0.279412 0.279412 0.279412 0.279412 0.279412 0.279412 0.279412 0.279412 0.279412 0.279412 0.279412 0.279412 0.279412 0.279412 0.264706 0.264706 0.264706 0.264706 0.264706 0.264706 0.264706 0.264706 0.264706 0.264706 0.264706 0.264706 0.794118 0.676471 0.647059 0.632353 0.558824 0.397059 0.397059 0.397059 0.382353 0.367647 0.367647 0.367647 0.367647 0.367647 0.367647 0.367647 0.367647 0.367647 0.367647 0.352941 0.352941 0.352941 0.352941 0.352941 0.352941 0.352941 0.352941 0.352941 0.352941 0.352941 0.352941 0.352941 0.352941 0.352941 0.352941 0.338235 0.338235 0.338235 0.338235 0.338235 0.338235 0.338235 0.338235 0.338235 0.338235 0.338235 0.338235 0.338235 0.338235 0.338235 0.338235 0.338235 0.338235 0.338235 0.338235 0.338235 0.338235 0.338235 0.338235 0.338235 0.323529 0.323529 0.323529 0.323529 0.323529 0.323529 0.323529 0.323529 0.323529 0.323529 0.323529 0.323529 0.323529 0.323529 0.323529 0.323529 0.323529 0.323529 0.323529 0.323529 0.323529 0.323529 0.323529 0.323529 0.323529 0.323529 0.323529 0.323529 0.323529 0.323529 0.323529 0.323529 0.323529 0.323529 0.323529 0.323529 0.323529 0.323529 0.323529 0.323529 0.838235 0.455882 0.455882 0.455882 0.455882 0.455882 0.441176 0.441176 0.441176 0.426471 0.411765 0.411765 0.411765 0.397059 0.397059 0.397059 0.397059 0.397059 0.397059 0.397059 0.397059 0.397059 0.397059 0.397059 0.397059 0.397059 0.397059 0.397059 0.397059 0.397059 0.397059 0.397059 0.382353 0.382353 0.382353 0.382353 0.382353 0.382353 0.382353 0.382353 0.382353 0.382353 0.382353 0.382353 0.382353 0.382353 0.382353 0.382353 0.382353 0.382353 0.382353 0.382353 0.382353 0.382353 0.382353 0.382353 0.382353 0.382353 0.382353 0.382353 0.382353 0.382353 0.382353 0.382353 0.382353 0.382353 0.382353 0.382353 0.382353 0.382353 0.382353 0.382353 0.382353 0.382353 0.382353 0.382353 0.382353 0.382353 0.367647 0.367647 0.367647 0.367647 0.367647 0.367647 0.367647 0.367647 0.367647 0.367647 0.367647 0.367647 0.367647 0.367647 0.367647 0.367647 0.367647 0.367647 0.367647 0.367647 0.367647 0.367647 0.926471 0.914286 0.911765 0.897059 0.830986 0.808824 0.808824 0.788732 0.728571 0.728571 0.728571 0.724638 0.478261 0.470588 0.463768 0.457143 0.455882 0.455882 0.444444 0.444444 0.442857 0.442857 0.441176 0.441176 0.434783 0.426471 0.42029 0.42029 0.414286 0.414286 0.414286 0.411765 0.411765 0.411765 0.411765 0.408451 0.405797 0.402778 0.4 0.4 0.4 0.4 0.4 0.39726 0.39726 0.39726 0.39726 0.397059 0.397059 0.397059 0.397059 0.397059 0.397059 0.397059 0.397059 0.397059 0.397059 0.397059 0.397059 0.397059 0.397059 0.397059 0.397059 0.397059 0.397059 0.397059 0.397059 0.394366 0.394366 0.394366 0.394366 0.394366 0.391304 0.391304 0.391304 0.391304 0.391304 0.391304 0.391304 0.391304 0.388889 0.388889 0.388889 0.388889 0.385714 0.385714 0.385714 0.385714 0.385714 0.385714 0.385714 0.385714 0.385714 0.385714 0.385714 0.385714 0.385714 0.385714 0.385714 0.385714 0.452055 0.445946 0.418919 0.418919 0.413333 0.407895 0.407895 0.405405 0.4 0.39726 0.39726 0.394737 0.394737 0.392405 0.391892 0.386667 0.386667 0.384615 0.383562 0.383562 0.383562 0.381579 0.379747 0.378378 0.378378 0.378378 0.378378 0.378378 0.378378 0.378378 0.376623 0.373333 0.373333 0.373333 0.373333 0.373333 0.373333 0.373333 0.373333 0.371795 0.371795 0.371795 0.371795 0.371795 0.369863 0.369863 0.369863 0.369863 0.369863 0.369863 0.369863 0.369863 0.369863 0.368421 0.368421 0.367089 0.364865 0.364865 0.364865 0.364865 0.364865 0.364865 0.364865 0.364865 0.364865 0.364865 0.364865 0.364865 0.364865 0.364865 0.364865 0.364865 0.364865 0.364865 0.364865 0.363636 0.363636 0.363636 0.36 0.36 0.36 0.36 0.36 0.36 0.36 0.36 0.36 0.36 0.36 0.36 0.36 0.36 0.36 0.36 0.36 0.36 0.358974 0.358974 0.358974 0.358974 0.530864 0.481013 0.475 0.402439 0.3875 0.375 0.375 0.37037 0.37037 0.365854 0.3625 0.358025 0.358025 0.35443 0.35443 0.35443 0.35443 0.35443 0.35443 0.35443 0.353659 0.35 0.35 0.35 0.349398 0.345679 0.345679 0.345679 0.345679 0.341772 0.341772 0.341772 0.341772 0.341772 0.341772 0.341772 0.341772 0.341772 0.341772 0.341463 0.341463 0.341463 0.341463 0.341463 0.3375 0.3375 0.3375 0.3375 0.3375 0.3375 0.3375 0.3375 0.3375 0.3375 0.3375 0.3375 0.3375 0.3375 0.337349 0.337349 0.337349 0.337349 0.337349 0.333333 0.333333 0.333333 0.333333 0.333333 0.333333 0.333333 0.333333 0.333333 0.333333 0.333333 0.333333 0.333333 0.333333 0.333333 0.333333 0.329268 0.329268 0.329268 0.329268 0.329268 0.329268 0.329268 0.329268 0.329268 0.329268 0.329114 0.329114 0.329114 0.329114 0.329114 0.329114 0.329114 0.329114 0.329114 0.329114 0.329114 0.352941 0.345238 0.345238 0.344828 0.341176 0.337209 0.337209 0.337209 0.333333 0.333333 0.333333 0.333333 0.333333 0.333333 0.333333 0.329412 0.329412 0.329412 0.329412 0.329412 0.325581 0.325581 0.321839 0.321429 0.321429 0.321429 0.321429 0.321429 0.321429 0.321429 0.321429 0.321429 0.321429 0.317647 0.317647 0.317647 0.317647 0.317647 0.317647 0.313953 0.313953 0.313953 0.313953 0.313953 0.313953 0.310345 0.310345 0.310345 0.310345 0.310345 0.310345 0.310345 0.310345 0.310345 0.310345 0.310345 0.309524 0.309524 0.309524 0.309524 0.309524 0.309524 0.309524 0.309524 0.309524 0.309524 0.309524 0.309524 0.309524 0.309524 0.309524 0.309524 0.309524 0.309524 0.309524 0.309524 0.309524 0.309524 0.309524 0.309524 0.309524 0.309524 0.309524 0.309524 0.309524 0.309524 0.309524 0.309524 0.309524 0.306818 0.305882 0.305882 0.305882 0.305882 0.305882 0.305882 0.305882 0.305882 0.305882 0.305882 0.352273 0.344444 0.340909 0.329545 0.329545 0.322222 0.318182 0.318182 0.314607 0.314607 0.311111 0.307692 0.306818 0.306818 0.306818 0.306818 0.303371 0.303371 0.303371 0.303371 0.303371 0.303371 0.303371 0.303371 0.303371 0.303371 0.303371 0.3 0.3 0.3 0.3 0.3 0.3 0.3 0.3 0.3 0.3 0.296703 0.296703 0.296703 0.296703 0.296703 0.296703 0.296703 0.296703 0.296703 0.296703 0.295455 0.295455 0.295455 0.295455 0.295455 0.295455 0.295455 0.295455 0.295455 0.295455 0.295455 0.295455 0.295455 0.295455 0.295455 0.295455 0.295455 0.295455 0.295455 0.295455 0.295455 0.295455 0.295455 0.292135 0.292135 0.292135 0.292135 0.292135 0.292135 0.292135 0.292135 0.292135 0.292135 0.292135 0.292135 0.292135 0.292135 0.292135 0.292135 0.292135 0.292135 0.292135 0.292135 0.292135 0.288889 0.288889 0.288889 0.288889 0.288889 0.288889 0.288889 0.288889 0.288889 0.358696 0.347368 0.311828 0.308511 0.304348 0.301075 0.301075 0.297872 0.293478 0.293478 0.293478 0.293478 0.293478 0.290323 0.290323 0.290323 0.290323 0.290323 0.287234 0.287234 0.287234 0.284211 0.284211 0.282609 0.282609 0.282609 0.282609 0.282609 0.282609 0.282609 0.282609 0.282609 0.282609 0.282609 0.282609 0.282609 0.28125 0.28125 0.27957 0.27957 0.27957 0.27957 0.27957 0.27957 0.27957 0.27957 0.27957 0.27957 0.27957 0.27957 0.27957 0.27957 0.27957 0.27957 0.27957 0.27957 0.276596 0.276596 0.276596 0.276596 0.276596 0.276596 0.276596 0.276596 0.276596 0.276596 0.276596 0.276596 0.276596 0.273684 0.273684 0.273684 0.273684 0.273684 0.273684 0.271739 0.271739 0.271739 0.271739 0.271739 0.271739 0.271739 0.271739 0.271739 0.271739 0.271739 0.271739 0.271739 0.271739 0.271739 0.271739 0.271739 0.271739 0.270833 0.270833 0.270833 0.270833 0.270833 0.270833 0.270833 0.295918 0.282828 0.278351 0.278351 0.272727 0.272727 0.268041 0.268041 0.268041 0.268041 0.268041 0.265306 0.265306 0.265306 0.265306 0.265306 0.262136 0.262136 0.26 0.26 0.26 0.26 0.26 0.259615 0.257732 0.257732 0.257732 0.257732 0.257732 0.257732 0.257426 0.257426 0.257426 0.257426 0.255102 0.255102 0.255102 0.255102 0.255102 0.255102 0.255102 0.255102 0.255102 0.255102 0.255102 0.255102 0.255102 0.255102 0.252525 0.252525 0.252525 0.252525 0.252525 0.252525 0.252427 0.252427 0.25 0.25 0.25 0.25 0.25 0.25 0.247525 0.247525 0.247525 0.247423 0.247423 0.247423 0.247423 0.247423 0.247423 0.247423 0.247423 0.247423 0.247423 0.247423 0.247423 0.247423 0.247423 0.247423 0.247423 0.247423 0.247423 0.247423 0.247423 0.245098 0.245098 0.245098 0.245098 0.245098 0.244898 0.244898 0.244898 0.244898 0.244898 0.244898 0.244898 0.244898 0.244898 0.244898 \n",
            "0.102804 0.102804 0.0934579 0.0841122 0.0841122 0.0841122 0.0841122 0.0841122 0.0841122 0.0841122 0.0841122 0.0747664 0.0747664 0.0747664 0.0747664 0.0747664 0.0747664 0.0747664 0.0747664 0.0747664 0.0747664 0.0747664 0.0747664 0.0747664 0.0747664 0.0747664 0.0747664 0.0747664 0.0747664 0.0747664 0.0747664 0.0747664 0.0747664 0.0747664 0.0747664 0.0747664 0.0747664 0.0747664 0.0747664 0.0747664 0.0747664 0.0747664 0.0747664 0.0747664 0.0747664 0.0747664 0.0747664 0.0747664 0.0747664 0.0747664 0.0747664 0.0747664 0.0747664 0.0747664 0.0747664 0.0747664 0.0654206 0.0654206 0.0654206 0.0654206 0.0654206 0.0654206 0.0654206 0.0654206 0.0654206 0.0654206 0.0654206 0.0654206 0.0654206 0.0654206 0.0654206 0.0654206 0.0654206 0.0654206 0.0654206 0.0654206 0.0654206 0.0654206 0.0654206 0.0654206 0.0654206 0.0654206 0.0654206 0.0654206 0.0654206 0.0654206 0.0654206 0.0654206 0.0654206 0.0654206 0.0654206 0.0654206 0.0654206 0.0654206 0.0654206 0.0654206 0.0654206 0.0654206 0.0654206 0.0654206 0.158879 0.140187 0.121495 0.121495 0.121495 0.121495 0.121495 0.121495 0.121495 0.121495 0.11215 0.11215 0.11215 0.11215 0.11215 0.11215 0.11215 0.11215 0.11215 0.11215 0.11215 0.11215 0.11215 0.11215 0.11215 0.11215 0.11215 0.11215 0.11215 0.11215 0.11215 0.11215 0.11215 0.11215 0.11215 0.11215 0.11215 0.11215 0.11215 0.11215 0.11215 0.11215 0.11215 0.11215 0.11215 0.11215 0.11215 0.11215 0.102804 0.102804 0.102804 0.102804 0.102804 0.102804 0.102804 0.102804 0.102804 0.102804 0.102804 0.102804 0.102804 0.102804 0.102804 0.102804 0.102804 0.102804 0.102804 0.102804 0.102804 0.102804 0.102804 0.102804 0.102804 0.102804 0.102804 0.102804 0.102804 0.102804 0.102804 0.102804 0.102804 0.102804 0.102804 0.102804 0.102804 0.102804 0.102804 0.102804 0.102804 0.102804 0.102804 0.102804 0.102804 0.102804 0.102804 0.102804 0.102804 0.102804 0.102804 0.102804 0.317757 0.28972 0.158879 0.149533 0.149533 0.149533 0.149533 0.149533 0.140187 0.140187 0.140187 0.140187 0.140187 0.140187 0.140187 0.140187 0.140187 0.140187 0.140187 0.140187 0.140187 0.140187 0.140187 0.140187 0.140187 0.140187 0.140187 0.140187 0.140187 0.140187 0.140187 0.140187 0.140187 0.140187 0.140187 0.140187 0.140187 0.140187 0.140187 0.140187 0.140187 0.140187 0.140187 0.140187 0.130841 0.130841 0.130841 0.130841 0.130841 0.130841 0.130841 0.130841 0.130841 0.130841 0.130841 0.130841 0.130841 0.130841 0.130841 0.130841 0.130841 0.130841 0.130841 0.130841 0.130841 0.130841 0.130841 0.130841 0.130841 0.130841 0.130841 0.130841 0.130841 0.130841 0.130841 0.130841 0.130841 0.130841 0.130841 0.130841 0.130841 0.130841 0.130841 0.130841 0.130841 0.130841 0.130841 0.130841 0.130841 0.130841 0.130841 0.130841 0.130841 0.130841 0.130841 0.130841 0.130841 0.130841 0.130841 0.130841 0.224299 0.224299 0.196262 0.186916 0.17757 0.17757 0.17757 0.168224 0.168224 0.168224 0.168224 0.168224 0.168224 0.168224 0.168224 0.168224 0.168224 0.168224 0.168224 0.168224 0.168224 0.168224 0.168224 0.168224 0.168224 0.168224 0.158879 0.158879 0.158879 0.158879 0.158879 0.158879 0.158879 0.158879 0.158879 0.158879 0.158879 0.158879 0.158879 0.158879 0.158879 0.158879 0.158879 0.158879 0.158879 0.158879 0.158879 0.158879 0.158879 0.158879 0.158879 0.158879 0.158879 0.158879 0.158879 0.158879 0.158879 0.158879 0.158879 0.158879 0.158879 0.158879 0.158879 0.158879 0.158879 0.158879 0.158879 0.158879 0.158879 0.158879 0.158879 0.158879 0.158879 0.158879 0.158879 0.158879 0.158879 0.158879 0.158879 0.158879 0.158879 0.158879 0.158879 0.158879 0.158879 0.158879 0.149533 0.149533 0.149533 0.149533 0.149533 0.149533 0.149533 0.149533 0.149533 0.149533 0.149533 0.149533 0.149533 0.149533 0.523364 0.514019 0.514019 0.495327 0.485981 0.448598 0.252336 0.252336 0.242991 0.224299 0.224299 0.224299 0.214953 0.214953 0.196262 0.196262 0.196262 0.196262 0.196262 0.196262 0.186916 0.186916 0.186916 0.186916 0.186916 0.186916 0.186916 0.186916 0.186916 0.17757 0.17757 0.17757 0.17757 0.17757 0.17757 0.17757 0.17757 0.17757 0.17757 0.17757 0.17757 0.17757 0.17757 0.17757 0.17757 0.17757 0.17757 0.17757 0.17757 0.17757 0.17757 0.17757 0.17757 0.17757 0.17757 0.17757 0.17757 0.17757 0.17757 0.17757 0.17757 0.17757 0.17757 0.17757 0.17757 0.17757 0.17757 0.17757 0.17757 0.17757 0.17757 0.17757 0.168224 0.168224 0.168224 0.168224 0.168224 0.168224 0.168224 0.168224 0.168224 0.168224 0.168224 0.168224 0.168224 0.168224 0.168224 0.168224 0.168224 0.168224 0.168224 0.168224 0.168224 0.168224 0.168224 0.168224 0.168224 0.168224 0.168224 0.168224 0.411215 0.242991 0.233645 0.224299 0.224299 0.214953 0.214953 0.205607 0.205607 0.205607 0.205607 0.205607 0.205607 0.196262 0.196262 0.196262 0.196262 0.196262 0.196262 0.196262 0.196262 0.196262 0.196262 0.196262 0.196262 0.186916 0.186916 0.186916 0.186916 0.186916 0.186916 0.186916 0.186916 0.186916 0.186916 0.186916 0.186916 0.186916 0.186916 0.186916 0.186916 0.186916 0.186916 0.186916 0.186916 0.186916 0.186916 0.186916 0.186916 0.186916 0.186916 0.186916 0.186916 0.186916 0.186916 0.17757 0.17757 0.17757 0.17757 0.17757 0.17757 0.17757 0.17757 0.17757 0.17757 0.17757 0.17757 0.17757 0.17757 0.17757 0.17757 0.17757 0.17757 0.17757 0.17757 0.17757 0.17757 0.17757 0.17757 0.17757 0.17757 0.17757 0.17757 0.17757 0.17757 0.17757 0.17757 0.17757 0.17757 0.17757 0.17757 0.17757 0.17757 0.17757 0.17757 0.17757 0.17757 0.17757 0.17757 0.17757 0.53271 0.523364 0.448598 0.252336 0.252336 0.233645 0.233645 0.224299 0.224299 0.224299 0.224299 0.224299 0.214953 0.214953 0.214953 0.214953 0.214953 0.214953 0.214953 0.214953 0.205607 0.205607 0.205607 0.205607 0.205607 0.205607 0.205607 0.205607 0.205607 0.205607 0.205607 0.205607 0.205607 0.196262 0.196262 0.196262 0.196262 0.196262 0.196262 0.196262 0.196262 0.196262 0.196262 0.196262 0.196262 0.196262 0.196262 0.196262 0.196262 0.196262 0.196262 0.196262 0.196262 0.196262 0.196262 0.196262 0.196262 0.196262 0.196262 0.196262 0.186916 0.186916 0.186916 0.186916 0.186916 0.186916 0.186916 0.186916 0.186916 0.186916 0.186916 0.186916 0.186916 0.186916 0.186916 0.186916 0.186916 0.186916 0.186916 0.186916 0.186916 0.186916 0.186916 0.186916 0.186916 0.186916 0.186916 0.186916 0.186916 0.186916 0.186916 0.186916 0.186916 0.186916 0.186916 0.186916 0.186916 0.186916 0.186916 0.186916 0.523364 0.448598 0.280374 0.242991 0.242991 0.233645 0.224299 0.224299 0.224299 0.214953 0.214953 0.214953 0.214953 0.214953 0.214953 0.214953 0.214953 0.214953 0.214953 0.205607 0.205607 0.205607 0.205607 0.205607 0.205607 0.205607 0.205607 0.205607 0.205607 0.205607 0.196262 0.196262 0.196262 0.196262 0.196262 0.196262 0.196262 0.196262 0.196262 0.196262 0.196262 0.196262 0.196262 0.196262 0.196262 0.196262 0.196262 0.196262 0.196262 0.196262 0.196262 0.196262 0.196262 0.196262 0.196262 0.196262 0.196262 0.196262 0.196262 0.196262 0.196262 0.196262 0.196262 0.196262 0.196262 0.196262 0.196262 0.196262 0.186916 0.186916 0.186916 0.186916 0.186916 0.186916 0.186916 0.186916 0.186916 0.186916 0.186916 0.186916 0.186916 0.186916 0.186916 0.186916 0.186916 0.186916 0.186916 0.186916 0.186916 0.186916 0.186916 0.186916 0.186916 0.186916 0.186916 0.186916 0.186916 0.186916 0.186916 0.186916 0.523364 0.46729 0.345794 0.336449 0.28972 0.261682 0.252336 0.252336 0.242991 0.242991 0.242991 0.242991 0.242991 0.233645 0.233645 0.233645 0.224299 0.224299 0.224299 0.224299 0.214953 0.214953 0.214953 0.214953 0.205607 0.205607 0.205607 0.205607 0.205607 0.205607 0.205607 0.205607 0.205607 0.205607 0.205607 0.205607 0.205607 0.205607 0.205607 0.205607 0.205607 0.205607 0.205607 0.196262 0.196262 0.196262 0.196262 0.196262 0.196262 0.196262 0.196262 0.196262 0.196262 0.196262 0.196262 0.196262 0.196262 0.196262 0.196262 0.196262 0.196262 0.196262 0.196262 0.196262 0.196262 0.196262 0.196262 0.196262 0.196262 0.196262 0.196262 0.196262 0.196262 0.196262 0.196262 0.196262 0.196262 0.196262 0.196262 0.196262 0.196262 0.196262 0.196262 0.196262 0.196262 0.196262 0.196262 0.196262 0.196262 0.196262 0.186916 0.186916 0.186916 0.186916 0.186916 0.186916 0.186916 0.186916 0.186916 0.186916 0.570093 0.327103 0.317757 0.299065 0.28972 0.280374 0.280374 0.271028 0.271028 0.252336 0.242991 0.242991 0.233645 0.233645 0.233645 0.233645 0.224299 0.224299 0.224299 0.224299 0.224299 0.214953 0.214953 0.214953 0.214953 0.214953 0.214953 0.214953 0.214953 0.205607 0.205607 0.205607 0.205607 0.205607 0.205607 0.205607 0.205607 0.205607 0.205607 0.205607 0.205607 0.205607 0.205607 0.205607 0.205607 0.205607 0.205607 0.205607 0.205607 0.205607 0.205607 0.205607 0.205607 0.205607 0.205607 0.196262 0.196262 0.196262 0.196262 0.196262 0.196262 0.196262 0.196262 0.196262 0.196262 0.196262 0.196262 0.196262 0.196262 0.196262 0.196262 0.196262 0.196262 0.196262 0.196262 0.196262 0.196262 0.196262 0.196262 0.196262 0.196262 0.196262 0.196262 0.196262 0.196262 0.196262 0.196262 0.196262 0.196262 0.196262 0.196262 0.196262 0.196262 0.196262 0.196262 0.196262 0.196262 0.196262 0.196262 0.196262 0.308411 0.299065 0.299065 0.299065 0.28972 0.280374 0.271028 0.261682 0.252336 0.242991 0.242991 0.233645 0.233645 0.233645 0.233645 0.224299 0.224299 0.224299 0.214953 0.214953 0.214953 0.214953 0.214953 0.214953 0.214953 0.214953 0.205607 0.205607 0.205607 0.205607 0.205607 0.205607 0.205607 0.205607 0.205607 0.205607 0.205607 0.205607 0.205607 0.205607 0.205607 0.205607 0.205607 0.205607 0.205607 0.205607 0.205607 0.205607 0.205607 0.205607 0.205607 0.205607 0.205607 0.205607 0.205607 0.205607 0.205607 0.205607 0.205607 0.205607 0.196262 0.196262 0.196262 0.196262 0.196262 0.196262 0.196262 0.196262 0.196262 0.196262 0.196262 0.196262 0.196262 0.196262 0.196262 0.196262 0.196262 0.196262 0.196262 0.196262 0.196262 0.196262 0.196262 0.196262 0.196262 0.196262 0.196262 0.196262 0.196262 0.196262 0.196262 0.196262 0.196262 0.196262 0.196262 0.196262 0.196262 0.196262 0.196262 0.196262 0.981308 0.972222 0.962617 0.916667 0.916667 0.915888 0.907407 0.861111 0.839286 0.824074 0.778761 0.709091 0.607477 0.570093 0.54955 0.5 0.476636 0.476636 0.431193 0.383178 0.373832 0.373832 0.364486 0.364486 0.364486 0.35514 0.35514 0.35514 0.35514 0.345794 0.345794 0.336449 0.336449 0.327103 0.327103 0.327103 0.327103 0.317757 0.317757 0.308411 0.308411 0.308411 0.308411 0.305556 0.299065 0.299065 0.299065 0.299065 0.299065 0.28972 0.28972 0.28972 0.28972 0.284404 0.284404 0.280374 0.280374 0.280374 0.27193 0.271028 0.271028 0.271028 0.271028 0.27027 0.267857 0.265487 0.261682 0.261682 0.261682 0.261682 0.261682 0.258929 0.252336 0.252336 0.252336 0.252336 0.252336 0.242991 0.242991 0.242991 0.242991 0.242991 0.242991 0.242991 0.242991 0.242991 0.242991 0.236842 0.236364 0.236364 0.233645 0.233645 0.233645 0.233645 0.233645 0.233645 0.233645 0.232143 0.231481 0.231481 \n",
            "0.294118 0.264706 0.264706 0.235294 0.235294 0.235294 0.235294 0.235294 0.235294 0.235294 0.235294 0.235294 0.235294 0.235294 0.235294 0.205882 0.205882 0.205882 0.205882 0.205882 0.205882 0.205882 0.205882 0.205882 0.205882 0.205882 0.205882 0.205882 0.205882 0.205882 0.205882 0.205882 0.205882 0.205882 0.205882 0.205882 0.205882 0.205882 0.205882 0.205882 0.205882 0.205882 0.205882 0.205882 0.205882 0.205882 0.205882 0.205882 0.205882 0.205882 0.205882 0.205882 0.205882 0.205882 0.205882 0.205882 0.205882 0.205882 0.205882 0.205882 0.205882 0.205882 0.205882 0.205882 0.205882 0.205882 0.205882 0.205882 0.205882 0.205882 0.205882 0.205882 0.205882 0.205882 0.205882 0.205882 0.205882 0.205882 0.205882 0.205882 0.205882 0.205882 0.205882 0.205882 0.205882 0.205882 0.205882 0.205882 0.205882 0.205882 0.205882 0.205882 0.205882 0.205882 0.205882 0.205882 0.205882 0.205882 0.205882 0.205882 0.911765 0.852941 0.647059 0.5 0.5 0.5 0.470588 0.470588 0.470588 0.470588 0.470588 0.470588 0.470588 0.470588 0.470588 0.470588 0.470588 0.441176 0.441176 0.441176 0.441176 0.441176 0.441176 0.441176 0.441176 0.441176 0.441176 0.441176 0.441176 0.441176 0.441176 0.441176 0.441176 0.441176 0.441176 0.441176 0.441176 0.441176 0.441176 0.441176 0.441176 0.441176 0.441176 0.441176 0.441176 0.441176 0.441176 0.441176 0.441176 0.441176 0.441176 0.441176 0.441176 0.441176 0.441176 0.441176 0.441176 0.441176 0.441176 0.441176 0.441176 0.441176 0.441176 0.441176 0.441176 0.441176 0.441176 0.441176 0.441176 0.441176 0.441176 0.441176 0.441176 0.441176 0.441176 0.441176 0.441176 0.411765 0.411765 0.411765 0.411765 0.411765 0.411765 0.411765 0.411765 0.411765 0.411765 0.411765 0.411765 0.411765 0.411765 0.411765 0.411765 0.411765 0.411765 0.411765 0.411765 0.411765 0.411765 0.411765 0.942857 0.941176 0.916667 0.914286 0.891892 0.888889 0.882353 0.871795 0.868421 0.864865 0.852941 0.846154 0.842105 0.842105 0.842105 0.825 0.825 0.825 0.825 0.825 0.823529 0.810811 0.805556 0.804878 0.804878 0.8 0.794118 0.785714 0.783784 0.780488 0.767442 0.75 0.75 0.74359 0.675 0.651163 0.625 0.529412 0.514286 0.514286 0.514286 0.5 0.5 0.5 0.5 0.5 0.5 0.5 0.5 0.5 0.5 0.5 0.5 0.5 0.5 0.5 0.5 0.5 0.486486 0.486486 0.486486 0.485714 0.485714 0.485714 0.485714 0.485714 0.485714 0.485714 0.485714 0.485714 0.485714 0.485714 0.485714 0.475 0.472222 0.472222 0.472222 0.472222 0.472222 0.472222 0.472222 0.472222 0.472222 0.472222 0.472222 0.472222 0.472222 0.472222 0.472222 0.470588 0.470588 0.470588 0.470588 0.470588 0.470588 0.470588 0.470588 0.470588 0.470588 0.470588 0.73913 0.733333 0.723404 0.717391 0.717391 0.708333 0.695652 0.673469 0.666667 0.652174 0.611111 0.592593 0.589286 0.409091 0.4 0.4 0.4 0.4 0.4 0.4 0.4 0.4 0.391304 0.391304 0.391304 0.391304 0.391304 0.391304 0.391304 0.391304 0.391304 0.386364 0.386364 0.386364 0.386364 0.386364 0.386364 0.386364 0.386364 0.386364 0.382979 0.382979 0.382979 0.382979 0.382979 0.382979 0.382979 0.377778 0.377778 0.377778 0.377778 0.377778 0.377778 0.377778 0.377778 0.377778 0.377778 0.377778 0.377778 0.377778 0.377778 0.377778 0.377778 0.377778 0.377778 0.377778 0.377778 0.377778 0.377778 0.377778 0.377778 0.377778 0.377778 0.377778 0.377778 0.377778 0.377778 0.377778 0.377778 0.377778 0.377778 0.377778 0.377778 0.377778 0.377778 0.377778 0.377778 0.377778 0.377778 0.377778 0.377778 0.377778 0.377778 0.377778 0.375 0.375 0.375 0.375 0.369565 0.369565 0.339286 0.315789 0.315789 0.315789 0.315789 0.315789 0.310345 0.310345 0.310345 0.310345 0.305085 0.305085 0.303571 0.303571 0.303571 0.303571 0.303571 0.303571 0.301587 0.3 0.3 0.3 0.3 0.298246 0.298246 0.298246 0.298246 0.298246 0.298246 0.298246 0.298246 0.298246 0.298246 0.298246 0.298246 0.298246 0.298246 0.298246 0.295082 0.295082 0.295082 0.295082 0.295082 0.293103 0.293103 0.293103 0.293103 0.293103 0.293103 0.293103 0.293103 0.293103 0.293103 0.293103 0.293103 0.290323 0.288136 0.288136 0.288136 0.288136 0.288136 0.288136 0.288136 0.288136 0.285714 0.285714 0.285714 0.285714 0.285714 0.285714 0.285714 0.285714 0.285714 0.285714 0.283333 0.283333 0.283333 0.283333 0.283333 0.283333 0.280702 0.280702 0.280702 0.280702 0.280702 0.280702 0.280702 0.280702 0.280702 0.280702 0.280702 0.280702 0.280702 0.280702 0.280702 0.280702 0.280702 0.280702 0.280702 0.280702 0.455882 0.272727 0.272727 0.26087 0.257576 0.253731 0.253731 0.253521 0.25 0.246377 0.246377 0.242424 0.242424 0.239437 0.238806 0.238806 0.238806 0.236111 0.235294 0.231884 0.231884 0.231884 0.231884 0.231884 0.228571 0.228571 0.227273 0.227273 0.227273 0.227273 0.227273 0.227273 0.227273 0.227273 0.227273 0.225352 0.225352 0.225352 0.223881 0.223881 0.223881 0.223881 0.223881 0.223881 0.223881 0.223881 0.223881 0.223881 0.222222 0.222222 0.222222 0.220588 0.220588 0.220588 0.220588 0.219178 0.219178 0.217391 0.217391 0.217391 0.217391 0.217391 0.217391 0.217391 0.217391 0.217391 0.217391 0.214286 0.214286 0.214286 0.214286 0.214286 0.214286 0.214286 0.212121 0.212121 0.212121 0.212121 0.212121 0.212121 0.212121 0.212121 0.212121 0.212121 0.212121 0.212121 0.212121 0.211268 0.211268 0.211268 0.211268 0.211268 0.211268 0.208955 0.208955 0.208955 0.208955 0.208955 0.208955 0.208955 0.246753 0.243243 0.236842 0.226667 0.223684 0.223684 0.216216 0.216216 0.216216 0.216216 0.213333 0.213333 0.213333 0.210526 0.210526 0.210526 0.207792 0.205479 0.205479 0.205128 0.202703 0.202703 0.202703 0.202703 0.202703 0.2 0.2 0.2 0.197368 0.197368 0.197368 0.197368 0.197368 0.197368 0.197368 0.197368 0.197368 0.194805 0.194805 0.194805 0.192308 0.192308 0.192308 0.192308 0.192308 0.192308 0.191781 0.191781 0.191781 0.191781 0.191781 0.191781 0.189189 0.189189 0.189189 0.189189 0.189189 0.189189 0.189189 0.189189 0.189189 0.189189 0.189189 0.189189 0.189189 0.189189 0.189189 0.189189 0.189189 0.186667 0.186667 0.186667 0.186667 0.186667 0.186667 0.186667 0.186667 0.186667 0.186667 0.186667 0.186667 0.186667 0.186667 0.186667 0.186667 0.186667 0.184211 0.184211 0.184211 0.184211 0.184211 0.184211 0.184211 0.184211 0.184211 0.184211 0.184211 0.184211 0.184211 0.184211 0.21519 0.204819 0.202532 0.202532 0.2 0.197531 0.189873 0.189873 0.1875 0.1875 0.1875 0.1875 0.185185 0.185185 0.185185 0.185185 0.185185 0.185185 0.185185 0.185185 0.185185 0.182927 0.182927 0.182927 0.182927 0.180723 0.180723 0.180723 0.180723 0.180723 0.177215 0.177215 0.177215 0.177215 0.177215 0.177215 0.177215 0.177215 0.177215 0.175 0.175 0.175 0.175 0.175 0.175 0.175 0.175 0.175 0.175 0.175 0.175 0.175 0.175 0.175 0.175 0.175 0.175 0.175 0.175 0.175 0.17284 0.17284 0.17284 0.17284 0.17284 0.17284 0.17284 0.17284 0.17284 0.17284 0.17284 0.17284 0.17284 0.17284 0.17284 0.17284 0.17284 0.17284 0.17284 0.17284 0.17284 0.17284 0.17284 0.17284 0.17284 0.17284 0.17284 0.17284 0.17284 0.17284 0.170732 0.170732 0.170732 0.170732 0.170732 0.170732 0.170732 0.170732 0.170732 0.170732 0.214286 0.211765 0.202381 0.2 0.2 0.197674 0.197674 0.190476 0.190476 0.188235 0.186047 0.186047 0.180723 0.178571 0.178571 0.178571 0.178571 0.178571 0.178571 0.176471 0.176471 0.176471 0.174419 0.174419 0.174419 0.174419 0.174419 0.174419 0.174419 0.172414 0.172414 0.172414 0.172414 0.166667 0.166667 0.166667 0.166667 0.166667 0.166667 0.166667 0.166667 0.166667 0.166667 0.166667 0.166667 0.166667 0.166667 0.166667 0.166667 0.166667 0.166667 0.166667 0.166667 0.166667 0.166667 0.164706 0.164706 0.164706 0.164706 0.164706 0.164706 0.164706 0.164706 0.164706 0.164706 0.164706 0.164706 0.164706 0.164706 0.164706 0.164706 0.164706 0.164706 0.164706 0.164706 0.164706 0.164706 0.164706 0.164706 0.164706 0.164706 0.164706 0.162791 0.162791 0.162791 0.162791 0.162791 0.162791 0.162791 0.162791 0.162791 0.162791 0.162791 0.162791 0.162791 0.162791 0.162791 0.162791 0.162791 0.162791 0.193182 0.181818 0.181818 0.179775 0.177778 0.175824 0.170455 0.170455 0.168539 0.168539 0.168539 0.168539 0.168539 0.166667 0.166667 0.166667 0.166667 0.166667 0.166667 0.164835 0.164835 0.164835 0.164835 0.164835 0.164835 0.164835 0.164835 0.164835 0.163043 0.159091 0.159091 0.159091 0.159091 0.159091 0.159091 0.159091 0.159091 0.159091 0.159091 0.159091 0.159091 0.159091 0.159091 0.157303 0.157303 0.157303 0.157303 0.157303 0.157303 0.157303 0.157303 0.157303 0.157303 0.157303 0.157303 0.157303 0.157303 0.155556 0.155556 0.155556 0.155556 0.155556 0.155556 0.155556 0.155556 0.155556 0.155556 0.155556 0.155556 0.155556 0.155556 0.155556 0.155556 0.153846 0.153846 0.153846 0.153846 0.153846 0.153846 0.153846 0.153846 0.153846 0.153846 0.153846 0.153846 0.153846 0.153846 0.152174 0.152174 0.152174 0.152174 0.152174 0.147727 0.147727 0.147727 0.147727 0.147727 0.147727 0.147727 0.147727 0.210526 0.178947 0.177083 0.173913 0.168421 0.163043 0.163043 0.163043 0.16129 0.16129 0.16129 0.16129 0.16129 0.159574 0.159574 0.159574 0.159574 0.157895 0.15625 0.15625 0.15625 0.15625 0.152174 0.152174 0.152174 0.152174 0.152174 0.152174 0.152174 0.152174 0.150538 0.150538 0.150538 0.150538 0.150538 0.150538 0.150538 0.150538 0.150538 0.150538 0.150538 0.150538 0.150538 0.150538 0.150538 0.150538 0.150538 0.148936 0.148936 0.148936 0.148936 0.148936 0.148936 0.148936 0.148936 0.148936 0.148936 0.148936 0.148936 0.148936 0.148936 0.148936 0.147368 0.147368 0.147368 0.147368 0.147368 0.147368 0.147368 0.147368 0.147368 0.147368 0.147368 0.147368 0.147368 0.147368 0.145833 0.145833 0.145833 0.145833 0.145833 0.145833 0.145833 0.145833 0.145833 0.145833 0.145833 0.145833 0.145833 0.145833 0.145833 0.145833 0.145833 0.14433 0.14433 0.14433 0.14433 0.14433 0.14433 0.141304 0.181818 0.166667 0.164948 0.164948 0.163265 0.161616 0.16 0.156863 0.153846 0.153153 0.153061 0.153061 0.153061 0.152381 0.151515 0.151515 0.15 0.149533 0.148515 0.148515 0.147059 0.147059 0.14433 0.14433 0.14433 0.14433 0.14433 0.14433 0.14433 0.142857 0.142857 0.142857 0.142857 0.142857 0.142857 0.142857 0.142857 0.142857 0.142857 0.142857 0.142857 0.141509 0.141509 0.141414 0.141414 0.141414 0.141414 0.141414 0.141414 0.141414 0.141414 0.141414 0.140187 0.14 0.14 0.14 0.14 0.14 0.138614 0.138614 0.138614 0.137255 0.137255 0.137255 0.137255 0.137255 0.135922 0.135922 0.135922 0.135135 0.134615 0.134021 0.134021 0.134021 0.134021 0.134021 0.134021 0.134021 0.134021 0.134021 0.134021 0.134021 0.134021 0.134021 0.134021 0.134021 0.134021 0.134021 0.134021 0.134021 0.134021 0.134021 0.134021 0.134021 0.134021 0.134021 0.134021 0.134021 0.134021 0.134021 \n",
            "0.416667 0.375 0.375 0.375 0.375 0.375 0.375 0.375 0.375 0.375 0.375 0.375 0.333333 0.333333 0.333333 0.333333 0.333333 0.333333 0.333333 0.333333 0.333333 0.333333 0.333333 0.333333 0.333333 0.333333 0.333333 0.333333 0.333333 0.333333 0.333333 0.333333 0.333333 0.333333 0.333333 0.333333 0.333333 0.333333 0.333333 0.333333 0.333333 0.333333 0.333333 0.333333 0.333333 0.333333 0.333333 0.333333 0.333333 0.333333 0.333333 0.333333 0.333333 0.333333 0.333333 0.333333 0.333333 0.333333 0.333333 0.333333 0.333333 0.333333 0.333333 0.333333 0.333333 0.333333 0.333333 0.333333 0.333333 0.333333 0.333333 0.333333 0.333333 0.333333 0.333333 0.333333 0.333333 0.333333 0.333333 0.333333 0.333333 0.333333 0.333333 0.333333 0.333333 0.333333 0.333333 0.333333 0.333333 0.333333 0.333333 0.333333 0.333333 0.333333 0.291667 0.291667 0.291667 0.291667 0.291667 0.291667 0.916667 0.875 0.875 0.857143 0.75 0.75 0.692308 0.645161 0.64 0.5 0.461538 0.461538 0.458333 0.458333 0.458333 0.444444 0.44 0.44 0.44 0.44 0.44 0.428571 0.423077 0.419355 0.416667 0.416667 0.416667 0.416667 0.416667 0.416667 0.416667 0.416667 0.416667 0.416667 0.416667 0.416667 0.416667 0.416667 0.416667 0.416667 0.416667 0.416667 0.416667 0.416667 0.416667 0.416667 0.416667 0.416667 0.416667 0.416667 0.416667 0.416667 0.416667 0.416667 0.416667 0.416667 0.416667 0.416667 0.416667 0.413793 0.407407 0.407407 0.4 0.4 0.4 0.4 0.4 0.4 0.4 0.4 0.4 0.4 0.4 0.4 0.4 0.4 0.392857 0.392857 0.392857 0.392857 0.392857 0.392857 0.392857 0.387097 0.384615 0.384615 0.384615 0.384615 0.384615 0.384615 0.384615 0.384615 0.384615 0.384615 0.384615 0.384615 0.384615 0.384615 0.384615 0.384615 0.589744 0.575758 0.5 0.487179 0.461538 0.444444 0.382353 0.375 0.368421 0.363636 0.363636 0.363636 0.352941 0.34375 0.34375 0.34375 0.34375 0.34375 0.34375 0.34375 0.34375 0.34375 0.342857 0.333333 0.333333 0.333333 0.333333 0.333333 0.333333 0.333333 0.333333 0.333333 0.333333 0.333333 0.333333 0.333333 0.333333 0.333333 0.333333 0.325 0.325 0.324324 0.324324 0.323529 0.323529 0.323529 0.323529 0.323529 0.323529 0.323529 0.323529 0.323529 0.323529 0.323529 0.323529 0.323529 0.317073 0.315789 0.315789 0.315789 0.314286 0.314286 0.314286 0.314286 0.314286 0.314286 0.314286 0.314286 0.314286 0.314286 0.314286 0.314286 0.314286 0.314286 0.314286 0.314286 0.314286 0.314286 0.314286 0.314286 0.314286 0.314286 0.314286 0.314286 0.3125 0.3125 0.3125 0.3125 0.3125 0.3125 0.3125 0.3125 0.3125 0.3125 0.3125 0.3125 0.3125 0.3125 0.3125 0.3125 0.46 0.436364 0.381818 0.297872 0.295455 0.291667 0.291667 0.288889 0.285714 0.28 0.28 0.276596 0.276596 0.27451 0.272727 0.272727 0.270833 0.270833 0.270833 0.270833 0.270833 0.270833 0.270833 0.270833 0.270833 0.269231 0.269231 0.269231 0.269231 0.266667 0.266667 0.266667 0.266667 0.266667 0.266667 0.266667 0.266667 0.266667 0.266667 0.266667 0.266667 0.266667 0.266667 0.266667 0.266667 0.266667 0.266667 0.266667 0.266667 0.266667 0.266667 0.266667 0.266667 0.266667 0.266667 0.266667 0.266667 0.266667 0.265306 0.26087 0.26087 0.26087 0.26087 0.26087 0.26087 0.26087 0.26087 0.26087 0.26087 0.26087 0.26087 0.26087 0.26087 0.26087 0.26087 0.26087 0.26087 0.26 0.26 0.26 0.26 0.26 0.26 0.26 0.26 0.26 0.26 0.26 0.259259 0.259259 0.255319 0.255319 0.255319 0.255319 0.255319 0.255319 0.255319 0.255319 0.255319 0.255319 0.393443 0.380952 0.375 0.375 0.362069 0.359375 0.35 0.267857 0.258621 0.25 0.25 0.25 0.245902 0.245614 0.245614 0.245614 0.245614 0.241379 0.241379 0.241379 0.241379 0.241379 0.241379 0.241379 0.237288 0.233333 0.233333 0.233333 0.233333 0.233333 0.232143 0.232143 0.232143 0.232143 0.232143 0.232143 0.232143 0.232143 0.232143 0.232143 0.232143 0.232143 0.232143 0.232143 0.232143 0.232143 0.232143 0.232143 0.232143 0.232143 0.230769 0.229508 0.229508 0.229508 0.22807 0.22807 0.22807 0.22807 0.22807 0.22807 0.22807 0.22807 0.22807 0.22807 0.22807 0.22807 0.22807 0.22807 0.22807 0.22807 0.22807 0.22807 0.22807 0.22807 0.22807 0.22807 0.22807 0.22807 0.22807 0.22807 0.22807 0.22807 0.22807 0.22807 0.22807 0.22807 0.22807 0.22807 0.22807 0.22807 0.22807 0.22807 0.22807 0.22807 0.22807 0.22807 0.22807 0.225806 0.225806 0.225806 0.358209 0.358209 0.352941 0.352941 0.347826 0.347826 0.342857 0.338028 0.333333 0.333333 0.333333 0.333333 0.333333 0.333333 0.328767 0.328767 0.328767 0.328767 0.328767 0.308824 0.3 0.283582 0.222222 0.222222 0.220588 0.217391 0.212121 0.212121 0.212121 0.212121 0.212121 0.212121 0.212121 0.212121 0.212121 0.211268 0.208955 0.208955 0.208955 0.208955 0.208955 0.208955 0.208955 0.208955 0.208955 0.208955 0.208955 0.208955 0.208955 0.208955 0.208955 0.208955 0.208955 0.208955 0.208955 0.208955 0.208955 0.208955 0.208955 0.208955 0.208955 0.208955 0.208955 0.208955 0.208955 0.208955 0.208955 0.208955 0.208955 0.208955 0.208955 0.208333 0.208333 0.205882 0.205882 0.205882 0.205882 0.205882 0.205882 0.205882 0.205882 0.205882 0.205882 0.205882 0.205882 0.205882 0.205882 0.205882 0.205882 0.205882 0.205882 0.205882 0.205882 0.205882 0.205882 0.205882 0.205882 0.205882 0.205882 0.205882 0.328767 0.328767 0.328767 0.328767 0.324324 0.324324 0.324324 0.324324 0.324324 0.324324 0.324324 0.324324 0.324324 0.32 0.315789 0.315789 0.315789 0.315789 0.315789 0.311688 0.307692 0.303797 0.294872 0.273973 0.217949 0.216216 0.216216 0.213333 0.210526 0.205479 0.202703 0.202703 0.202703 0.202703 0.2 0.2 0.197368 0.197368 0.197368 0.194805 0.192308 0.192308 0.192308 0.192308 0.192308 0.191781 0.191781 0.191781 0.191781 0.191781 0.191781 0.191781 0.191781 0.191781 0.191781 0.191781 0.191781 0.191781 0.191781 0.191781 0.191781 0.191781 0.191781 0.191781 0.191781 0.191781 0.191781 0.191781 0.191781 0.191781 0.191781 0.191781 0.191781 0.191781 0.191781 0.189189 0.189189 0.189189 0.189189 0.189189 0.189189 0.189189 0.189189 0.189189 0.189189 0.189189 0.189189 0.189189 0.189189 0.189189 0.189189 0.189189 0.189189 0.189189 0.189189 0.189189 0.189189 0.189189 0.189189 0.189189 0.303797 0.303797 0.303797 0.3 0.3 0.3 0.296296 0.296296 0.292683 0.292683 0.292683 0.289157 0.2875 0.2875 0.268293 0.243902 0.219512 0.202532 0.189873 0.189873 0.189873 0.1875 0.1875 0.185185 0.185185 0.185185 0.185185 0.182927 0.182927 0.182927 0.182927 0.180723 0.180723 0.180723 0.180723 0.180723 0.180723 0.180723 0.177215 0.177215 0.177215 0.177215 0.177215 0.177215 0.177215 0.177215 0.177215 0.177215 0.177215 0.177215 0.177215 0.177215 0.177215 0.177215 0.177215 0.177215 0.177215 0.177215 0.177215 0.177215 0.177215 0.177215 0.177215 0.177215 0.177215 0.177215 0.177215 0.177215 0.177215 0.177215 0.177215 0.175 0.175 0.175 0.175 0.175 0.175 0.175 0.175 0.175 0.175 0.175 0.175 0.175 0.175 0.175 0.175 0.175 0.175 0.175 0.175 0.175 0.175 0.175 0.175 0.175 0.175 0.175 0.175 0.175 0.285714 0.285714 0.285714 0.285714 0.282353 0.27907 0.27381 0.270588 0.267442 0.264368 0.264368 0.261905 0.258824 0.255814 0.190476 0.183908 0.178571 0.178571 0.178571 0.178571 0.178571 0.178571 0.176471 0.176471 0.176471 0.174419 0.174419 0.172414 0.172414 0.168675 0.168675 0.168675 0.168675 0.166667 0.166667 0.166667 0.166667 0.166667 0.166667 0.166667 0.166667 0.166667 0.166667 0.166667 0.166667 0.166667 0.166667 0.166667 0.166667 0.166667 0.166667 0.166667 0.166667 0.166667 0.166667 0.166667 0.166667 0.166667 0.166667 0.166667 0.166667 0.166667 0.164706 0.164706 0.164706 0.164706 0.164706 0.164706 0.164706 0.164706 0.164706 0.164706 0.164706 0.164706 0.164706 0.164706 0.164706 0.164706 0.164706 0.164706 0.164706 0.164706 0.164706 0.164706 0.164706 0.164706 0.164706 0.162791 0.162791 0.162791 0.162791 0.162791 0.162791 0.162791 0.162791 0.162791 0.162791 0.162791 0.162791 0.16092 0.272727 0.266667 0.247191 0.227273 0.213483 0.193182 0.181818 0.170455 0.170455 0.168539 0.164835 0.159091 0.159091 0.159091 0.159091 0.159091 0.159091 0.159091 0.159091 0.159091 0.159091 0.159091 0.159091 0.159091 0.159091 0.157303 0.157303 0.157303 0.157303 0.157303 0.157303 0.157303 0.157303 0.155556 0.155556 0.155556 0.155556 0.155556 0.153846 0.153846 0.153846 0.153846 0.153846 0.153846 0.152174 0.152174 0.152174 0.152174 0.147727 0.147727 0.147727 0.147727 0.147727 0.147727 0.147727 0.147727 0.147727 0.147727 0.147727 0.147727 0.147727 0.147727 0.147727 0.147727 0.147727 0.147727 0.147727 0.147727 0.147727 0.147727 0.147727 0.147727 0.147727 0.147727 0.147727 0.147727 0.147727 0.147727 0.147727 0.147727 0.147727 0.147727 0.147727 0.147727 0.147727 0.147727 0.147727 0.147727 0.147727 0.147727 0.147727 0.147727 0.147727 0.147727 0.147727 0.147727 0.147727 0.147727 0.147727 0.147727 0.25 0.16129 0.16129 0.157895 0.154639 0.152174 0.152174 0.152174 0.150538 0.150538 0.148936 0.148936 0.148936 0.148936 0.148936 0.148936 0.147368 0.147368 0.147368 0.14433 0.14433 0.14433 0.14433 0.141304 0.141304 0.141304 0.141304 0.141304 0.141304 0.141304 0.141304 0.141304 0.141304 0.141304 0.141304 0.141304 0.141304 0.141304 0.141304 0.141304 0.141304 0.141304 0.141304 0.141304 0.141304 0.141304 0.141304 0.141304 0.141304 0.141304 0.141304 0.141304 0.141304 0.141304 0.141304 0.141304 0.141304 0.141304 0.141304 0.141304 0.141304 0.141304 0.141304 0.141304 0.141304 0.141304 0.139785 0.139785 0.139785 0.139785 0.139785 0.139785 0.139785 0.139785 0.139785 0.139785 0.139785 0.139785 0.139785 0.139785 0.139785 0.139785 0.139785 0.139785 0.139785 0.139785 0.139785 0.139785 0.139785 0.139785 0.139785 0.139785 0.139785 0.139785 0.139785 0.139785 0.139785 0.139785 0.139785 0.139785 0.235294 0.14433 0.142857 0.142857 0.142857 0.142857 0.142857 0.141414 0.141414 0.141414 0.14 0.138614 0.137255 0.137255 0.134021 0.134021 0.134021 0.134021 0.134021 0.134021 0.134021 0.134021 0.134021 0.134021 0.134021 0.134021 0.134021 0.134021 0.134021 0.134021 0.134021 0.134021 0.134021 0.134021 0.132653 0.132653 0.132653 0.132653 0.132653 0.132653 0.132653 0.132653 0.132653 0.132653 0.132653 0.132653 0.132653 0.132653 0.132653 0.132653 0.132653 0.132653 0.132653 0.132653 0.132653 0.132653 0.132653 0.132653 0.132653 0.132653 0.132653 0.132653 0.132653 0.132075 0.131313 0.131313 0.131313 0.131313 0.131313 0.131313 0.131313 0.131313 0.131313 0.131313 0.131313 0.131313 0.131313 0.131313 0.131313 0.131313 0.13 0.13 0.13 0.13 0.13 0.13 0.13 0.13 0.12963 0.128713 0.128713 0.128713 0.128713 0.128713 0.127451 0.127451 0.127451 0.127451 0.127451 0.127451 \n",
            "0.777778 0.555556 0.5 0.444444 0.444444 0.444444 0.444444 0.444444 0.444444 0.444444 0.444444 0.4 0.384615 0.363636 0.363636 0.363636 0.363636 0.363636 0.357143 0.333333 0.333333 0.333333 0.333333 0.333333 0.333333 0.333333 0.333333 0.333333 0.333333 0.333333 0.333333 0.333333 0.333333 0.333333 0.333333 0.333333 0.333333 0.333333 0.333333 0.333333 0.333333 0.333333 0.333333 0.333333 0.333333 0.333333 0.333333 0.333333 0.333333 0.333333 0.333333 0.333333 0.333333 0.333333 0.333333 0.333333 0.333333 0.333333 0.333333 0.333333 0.333333 0.333333 0.333333 0.333333 0.333333 0.333333 0.333333 0.333333 0.333333 0.333333 0.333333 0.333333 0.333333 0.333333 0.333333 0.333333 0.333333 0.333333 0.333333 0.333333 0.333333 0.333333 0.333333 0.333333 0.333333 0.333333 0.333333 0.333333 0.333333 0.333333 0.333333 0.333333 0.333333 0.333333 0.333333 0.333333 0.333333 0.333333 0.333333 0.333333 0.368421 0.277778 0.277778 0.272727 0.263158 0.263158 0.26087 0.25 0.25 0.25 0.25 0.24 0.24 0.238095 0.238095 0.238095 0.238095 0.238095 0.238095 0.238095 0.230769 0.230769 0.227273 0.227273 0.227273 0.227273 0.227273 0.227273 0.227273 0.222222 0.222222 0.222222 0.222222 0.222222 0.222222 0.222222 0.222222 0.222222 0.222222 0.222222 0.222222 0.222222 0.222222 0.222222 0.222222 0.222222 0.222222 0.222222 0.222222 0.222222 0.222222 0.222222 0.222222 0.222222 0.222222 0.217391 0.217391 0.217391 0.217391 0.217391 0.217391 0.217391 0.217391 0.217391 0.217391 0.217391 0.217391 0.217391 0.210526 0.210526 0.210526 0.210526 0.210526 0.210526 0.210526 0.210526 0.210526 0.210526 0.210526 0.210526 0.210526 0.210526 0.210526 0.210526 0.210526 0.210526 0.210526 0.210526 0.210526 0.210526 0.210526 0.210526 0.210526 0.210526 0.210526 0.210526 0.210526 0.210526 0.210526 0.210526 0.1875 0.181818 0.181818 0.181818 0.176471 0.176471 0.176471 0.176471 0.175 0.171429 0.171429 0.171429 0.166667 0.166667 0.166667 0.162162 0.162162 0.162162 0.162162 0.162162 0.162162 0.162162 0.162162 0.162162 0.162162 0.157895 0.157895 0.157895 0.157895 0.157895 0.15625 0.15625 0.15625 0.15625 0.15625 0.15625 0.15625 0.15625 0.15625 0.15625 0.15625 0.15625 0.15625 0.15625 0.15625 0.15625 0.15625 0.15625 0.15625 0.15625 0.15625 0.15625 0.15625 0.15625 0.15625 0.15625 0.15625 0.15625 0.15625 0.15625 0.15625 0.15625 0.15625 0.15625 0.15625 0.15625 0.15625 0.15625 0.15625 0.15625 0.153846 0.153846 0.153846 0.153846 0.153846 0.153846 0.153846 0.153846 0.153846 0.151515 0.151515 0.151515 0.151515 0.151515 0.151515 0.151515 0.151515 0.151515 0.151515 0.151515 0.151515 0.151515 0.151515 0.151515 0.151515 0.151515 0.151515 0.151515 0.151515 0.151515 0.148936 0.142857 0.136364 0.134615 0.133333 0.133333 0.133333 0.133333 0.133333 0.133333 0.133333 0.133333 0.133333 0.133333 0.133333 0.133333 0.132075 0.132075 0.132075 0.130435 0.130435 0.130435 0.130435 0.130435 0.130435 0.130435 0.130435 0.130435 0.130435 0.130435 0.130435 0.130435 0.130435 0.130435 0.130435 0.130435 0.130435 0.130435 0.130435 0.130435 0.130435 0.130435 0.12766 0.12766 0.12766 0.12766 0.12766 0.12766 0.12766 0.12766 0.12766 0.12766 0.12766 0.12766 0.12766 0.12766 0.12766 0.12766 0.12766 0.12766 0.12766 0.127273 0.125 0.125 0.125 0.125 0.125 0.125 0.125 0.125 0.125 0.125 0.125 0.125 0.125 0.125 0.125 0.125 0.125 0.125 0.122449 0.122449 0.122449 0.122449 0.122449 0.122449 0.122449 0.122449 0.122449 0.122449 0.122449 0.122449 0.122449 0.122449 0.122449 0.122449 0.122449 0.122449 0.122449 0.122449 0.116667 0.112903 0.112903 0.112903 0.109375 0.107692 0.107692 0.107692 0.107143 0.107143 0.107143 0.107143 0.107143 0.107143 0.107143 0.107143 0.107143 0.107143 0.107143 0.107143 0.107143 0.107143 0.107143 0.107143 0.107143 0.107143 0.107143 0.107143 0.107143 0.105263 0.105263 0.105263 0.105263 0.105263 0.105263 0.105263 0.105263 0.105263 0.105263 0.105263 0.105263 0.105263 0.105263 0.105263 0.105263 0.105263 0.105263 0.105263 0.105263 0.105263 0.105263 0.105263 0.105263 0.105263 0.105263 0.105263 0.105263 0.105263 0.105263 0.105263 0.105263 0.105263 0.105263 0.105263 0.105263 0.103448 0.103448 0.103448 0.103448 0.103448 0.103448 0.103448 0.103448 0.103448 0.103448 0.103448 0.103448 0.103448 0.103448 0.103448 0.103448 0.103448 0.103448 0.103448 0.103448 0.103448 0.103448 0.103448 0.103448 0.103448 0.103448 0.103448 0.103448 0.103448 0.103448 0.103448 0.103448 0.103448 0.103448 0.103448 0.109589 0.106061 0.106061 0.104478 0.104478 0.104478 0.102941 0.102941 0.102941 0.102941 0.101449 0.101449 0.1 0.0985916 0.0985916 0.0985916 0.0972222 0.0972222 0.0972222 0.0972222 0.0972222 0.0972222 0.0972222 0.0972222 0.0972222 0.0958904 0.0909091 0.0909091 0.0909091 0.0909091 0.0909091 0.0909091 0.0909091 0.0909091 0.0909091 0.0909091 0.0909091 0.0909091 0.0909091 0.0909091 0.0909091 0.0909091 0.0909091 0.0909091 0.0909091 0.0909091 0.0909091 0.0909091 0.0909091 0.0909091 0.0909091 0.0909091 0.0909091 0.0909091 0.0909091 0.0909091 0.0909091 0.0909091 0.0909091 0.0909091 0.0909091 0.0909091 0.0909091 0.0909091 0.0909091 0.0909091 0.0909091 0.0909091 0.0909091 0.0909091 0.0909091 0.0909091 0.0909091 0.0909091 0.0909091 0.0909091 0.0909091 0.0909091 0.0909091 0.0909091 0.0909091 0.0909091 0.0909091 0.0909091 0.0909091 0.0909091 0.0909091 0.0909091 0.0909091 0.0909091 0.0909091 0.0909091 0.0909091 0.0909091 0.0909091 0.0909091 0.0909091 0.0909091 0.0909091 0.0909091 0.106667 0.106667 0.105263 0.103896 0.103896 0.0958904 0.0945946 0.0945946 0.0945946 0.0945946 0.0945946 0.0945946 0.0945946 0.0945946 0.0945946 0.0945946 0.0933333 0.0933333 0.0933333 0.0933333 0.0933333 0.0933333 0.0933333 0.0933333 0.0933333 0.0921053 0.0921053 0.0921053 0.0921053 0.0921053 0.0921053 0.0909091 0.0909091 0.0909091 0.0909091 0.0909091 0.0909091 0.0909091 0.0909091 0.0909091 0.0909091 0.0897436 0.0897436 0.0897436 0.0897436 0.0897436 0.0897436 0.0897436 0.0897436 0.0897436 0.0897436 0.0886076 0.0886076 0.0886076 0.0821918 0.0821918 0.0821918 0.0821918 0.0821918 0.0821918 0.0821918 0.0821918 0.0821918 0.0821918 0.0821918 0.0821918 0.0821918 0.0821918 0.0821918 0.0821918 0.0821918 0.0821918 0.0821918 0.0821918 0.0821918 0.0821918 0.0821918 0.0821918 0.0821918 0.0821918 0.0821918 0.0821918 0.0821918 0.0821918 0.0821918 0.0821918 0.0821918 0.0821918 0.0821918 0.0821918 0.0821918 0.0821918 0.0821918 0.0821918 0.0821918 0.0821918 0.0821918 0.0821918 0.0821918 0.0821918 0.101266 0.101266 0.1 0.0886076 0.0886076 0.0886076 0.0886076 0.0886076 0.0886076 0.0886076 0.0886076 0.0886076 0.0886076 0.0886076 0.0886076 0.0886076 0.0886076 0.0886076 0.0886076 0.0886076 0.0886076 0.0875 0.0875 0.0875 0.0875 0.0875 0.0875 0.0875 0.0875 0.0875 0.0875 0.0875 0.0875 0.0875 0.0875 0.0875 0.0875 0.0875 0.0864198 0.0864198 0.0864198 0.0864198 0.0864198 0.0864198 0.0864198 0.0864198 0.0864198 0.0864198 0.0864198 0.0864198 0.0864198 0.0864198 0.0864198 0.0864198 0.0864198 0.0864198 0.0864198 0.0853659 0.0853659 0.0853659 0.0853659 0.0853659 0.0853659 0.0853659 0.0853659 0.0853659 0.0853659 0.0853659 0.0853659 0.0853659 0.0853659 0.0843373 0.0843373 0.0843373 0.0843373 0.0843373 0.0843373 0.0843373 0.0843373 0.0843373 0.0843373 0.0843373 0.0843373 0.0843373 0.0843373 0.0843373 0.0843373 0.0843373 0.0843373 0.0843373 0.0843373 0.0843373 0.0843373 0.0843373 0.0843373 0.0843373 0.0843373 0.0843373 0.0759494 0.0759494 0.0941176 0.0930233 0.0833333 0.0833333 0.0833333 0.0833333 0.0833333 0.0833333 0.0833333 0.0833333 0.0833333 0.0833333 0.0833333 0.0833333 0.0833333 0.0833333 0.0833333 0.0823529 0.0823529 0.0823529 0.0823529 0.0823529 0.0823529 0.0823529 0.0823529 0.0823529 0.0823529 0.0823529 0.0823529 0.0823529 0.0823529 0.0823529 0.0823529 0.0823529 0.0823529 0.0823529 0.0823529 0.0823529 0.0823529 0.0823529 0.0813954 0.0813954 0.0813954 0.0813954 0.0813954 0.0813954 0.0813954 0.0813954 0.0813954 0.0813954 0.0813954 0.0813954 0.0813954 0.0813954 0.0813954 0.0813954 0.0813954 0.0813954 0.0813954 0.0813954 0.0813954 0.0813954 0.0813954 0.0813954 0.0813954 0.0813954 0.0804598 0.0804598 0.0804598 0.0804598 0.0804598 0.0804598 0.0804598 0.0804598 0.0804598 0.0804598 0.0804598 0.0804598 0.0804598 0.0804598 0.0804598 0.0804598 0.0804598 0.0804598 0.0804598 0.0804598 0.0804598 0.0804598 0.0804598 0.0804598 0.0804598 0.0804598 0.0804598 0.0804598 0.0804598 0.0804598 0.0795455 0.0795455 0.0795455 0.0795455 0.0898876 0.0879121 0.0795455 0.0795455 0.0795455 0.0795455 0.0795455 0.0795455 0.0795455 0.0795455 0.0795455 0.0795455 0.0795455 0.0795455 0.0795455 0.0795455 0.0795455 0.0795455 0.0795455 0.0795455 0.0795455 0.0795455 0.0795455 0.0795455 0.0795455 0.0795455 0.0795455 0.0795455 0.0795455 0.0795455 0.0795455 0.0795455 0.0795455 0.0795455 0.0795455 0.0795455 0.0786517 0.0786517 0.0786517 0.0786517 0.0786517 0.0786517 0.0786517 0.0786517 0.0786517 0.0786517 0.0786517 0.0786517 0.0786517 0.0786517 0.0786517 0.0786517 0.0786517 0.0786517 0.0786517 0.0786517 0.0786517 0.0786517 0.0786517 0.0786517 0.0786517 0.0786517 0.0786517 0.0786517 0.0786517 0.0786517 0.0786517 0.0786517 0.0786517 0.0786517 0.0786517 0.0786517 0.0786517 0.0786517 0.0786517 0.0777778 0.0777778 0.0777778 0.0777778 0.0777778 0.0777778 0.0777778 0.0777778 0.0777778 0.0777778 0.0777778 0.0777778 0.0777778 0.0777778 0.0777778 0.0777778 0.0777778 0.0777778 0.0777778 0.0777778 0.0777778 0.0777778 0.0777778 0.0777778 0.0777778 0.09375 0.0842105 0.0833333 0.076087 0.076087 0.076087 0.076087 0.076087 0.076087 0.076087 0.076087 0.076087 0.076087 0.076087 0.076087 0.076087 0.076087 0.076087 0.076087 0.076087 0.076087 0.076087 0.0752688 0.0752688 0.0752688 0.0752688 0.0752688 0.0752688 0.0752688 0.0752688 0.0752688 0.0752688 0.0752688 0.0752688 0.0752688 0.0752688 0.0752688 0.0752688 0.0752688 0.0752688 0.0752688 0.0752688 0.0752688 0.0752688 0.0752688 0.0752688 0.0752688 0.0752688 0.0752688 0.0752688 0.0752688 0.0752688 0.0752688 0.0752688 0.0752688 0.0752688 0.0752688 0.0752688 0.0752688 0.0752688 0.0752688 0.0752688 0.0752688 0.0752688 0.0752688 0.0752688 0.0752688 0.0752688 0.0744681 0.0744681 0.0744681 0.0744681 0.0744681 0.0744681 0.0744681 0.0744681 0.0744681 0.0744681 0.0744681 0.0744681 0.0744681 0.0744681 0.0744681 0.0744681 0.0744681 0.0744681 0.0744681 0.0744681 0.0744681 0.0744681 0.0744681 0.0744681 0.0744681 0.0744681 0.0744681 0.0744681 0.0744681 0.0744681 0.0744681 0.0744681 0.0816327 0.08 0.08 0.0792079 0.0792079 0.0721649 0.0721649 0.0721649 0.0721649 0.0721649 0.0721649 0.0721649 0.0721649 0.0721649 0.0721649 0.0721649 0.0721649 0.0721649 0.0721649 0.0721649 0.0721649 0.0721649 0.0721649 0.0721649 0.0721649 0.0721649 0.0721649 0.0721649 0.0714286 0.0714286 0.0714286 0.0714286 0.0714286 0.0714286 0.0714286 0.0714286 0.0714286 0.0714286 0.0714286 0.0714286 0.0714286 0.0714286 0.0714286 0.0714286 0.0714286 0.0714286 0.0714286 0.0714286 0.0714286 0.0714286 0.0714286 0.0714286 0.0714286 0.0714286 0.0714286 0.0714286 0.0714286 0.0714286 0.0714286 0.0714286 0.0714286 0.0714286 0.0714286 0.0714286 0.0714286 0.0707071 0.0707071 0.0707071 0.0707071 0.0707071 0.0707071 0.0707071 0.0707071 0.0707071 0.0707071 0.0707071 0.0707071 0.0707071 0.0707071 0.0707071 0.0707071 0.0707071 0.0707071 0.0707071 0.0707071 0.0707071 0.0707071 0.0707071 0.0707071 0.0707071 0.0707071 0.0707071 0.0707071 0.0707071 0.0707071 0.0707071 0.0707071 0.0707071 0.0707071 0.0707071 \n",
            "0.258065 0.225806 0.225806 0.225806 0.193548 0.193548 0.193548 0.193548 0.193548 0.193548 0.193548 0.193548 0.193548 0.193548 0.193548 0.193548 0.193548 0.193548 0.193548 0.193548 0.193548 0.193548 0.193548 0.193548 0.193548 0.16129 0.16129 0.16129 0.16129 0.16129 0.16129 0.16129 0.16129 0.16129 0.16129 0.16129 0.16129 0.16129 0.16129 0.16129 0.16129 0.16129 0.16129 0.16129 0.16129 0.16129 0.16129 0.16129 0.16129 0.16129 0.16129 0.16129 0.16129 0.16129 0.16129 0.16129 0.16129 0.16129 0.16129 0.16129 0.16129 0.16129 0.16129 0.16129 0.16129 0.16129 0.16129 0.16129 0.16129 0.16129 0.16129 0.16129 0.16129 0.16129 0.16129 0.16129 0.16129 0.16129 0.16129 0.16129 0.16129 0.16129 0.16129 0.16129 0.16129 0.16129 0.16129 0.16129 0.16129 0.16129 0.16129 0.16129 0.16129 0.16129 0.16129 0.16129 0.16129 0.16129 0.16129 0.16129 0.903226 0.870968 0.870968 0.870968 0.870968 0.354839 0.322581 0.290323 0.290323 0.290323 0.290323 0.290323 0.290323 0.290323 0.290323 0.290323 0.258065 0.258065 0.258065 0.258065 0.258065 0.258065 0.258065 0.258065 0.258065 0.258065 0.258065 0.258065 0.258065 0.258065 0.258065 0.258065 0.258065 0.258065 0.258065 0.258065 0.258065 0.258065 0.258065 0.258065 0.258065 0.258065 0.258065 0.258065 0.258065 0.258065 0.258065 0.258065 0.258065 0.258065 0.258065 0.258065 0.258065 0.258065 0.258065 0.258065 0.258065 0.258065 0.258065 0.258065 0.258065 0.258065 0.258065 0.258065 0.258065 0.258065 0.258065 0.258065 0.258065 0.25 0.25 0.25 0.25 0.25 0.25 0.25 0.225806 0.225806 0.225806 0.225806 0.225806 0.225806 0.225806 0.225806 0.225806 0.225806 0.225806 0.225806 0.225806 0.225806 0.225806 0.225806 0.225806 0.225806 0.225806 0.225806 0.225806 0.225806 0.225806 0.225806 0.810811 0.340909 0.325581 0.325581 0.325581 0.324324 0.317073 0.317073 0.315789 0.315789 0.307692 0.30303 0.302326 0.302326 0.294118 0.289474 0.282051 0.282051 0.28125 0.27907 0.275 0.275 0.272727 0.272727 0.272727 0.27027 0.27027 0.264706 0.264706 0.264706 0.264706 0.263158 0.263158 0.263158 0.261905 0.261905 0.257143 0.257143 0.257143 0.257143 0.257143 0.257143 0.257143 0.257143 0.257143 0.257143 0.257143 0.257143 0.25641 0.25641 0.25641 0.25641 0.255814 0.25 0.25 0.25 0.25 0.25 0.25 0.25 0.25 0.25 0.25 0.25 0.25 0.25 0.25 0.25 0.25 0.25 0.25 0.25 0.243902 0.243902 0.243902 0.243902 0.243902 0.243902 0.243243 0.243243 0.243243 0.243243 0.243243 0.243243 0.243243 0.242424 0.242424 0.242424 0.242424 0.242424 0.242424 0.242424 0.242424 0.242424 0.242424 0.242424 0.242424 0.242424 0.242424 0.242424 0.326087 0.306122 0.288889 0.282609 0.282609 0.266667 0.255319 0.25 0.245283 0.244898 0.244444 0.244444 0.24 0.24 0.23913 0.230769 0.230769 0.229167 0.227273 0.227273 0.222222 0.222222 0.222222 0.222222 0.222222 0.222222 0.222222 0.222222 0.222222 0.22 0.22 0.218182 0.218182 0.217391 0.217391 0.215686 0.212766 0.212766 0.212766 0.212766 0.212766 0.212766 0.212766 0.212766 0.212766 0.212766 0.212766 0.211538 0.208333 0.208333 0.208333 0.208333 0.208333 0.208333 0.208333 0.208333 0.207547 0.207547 0.207547 0.204545 0.204545 0.204545 0.204545 0.204545 0.204082 0.204082 0.204082 0.204082 0.204082 0.204082 0.204082 0.204082 0.204082 0.204082 0.204082 0.204082 0.204082 0.203704 0.203704 0.203704 0.203704 0.203704 0.2 0.2 0.2 0.2 0.2 0.2 0.2 0.2 0.2 0.2 0.2 0.2 0.2 0.2 0.2 0.2 0.2 0.2 0.229508 0.225806 0.224138 0.224138 0.210526 0.209677 0.209677 0.206897 0.206897 0.206897 0.206897 0.206897 0.20339 0.20339 0.203125 0.2 0.2 0.196721 0.196429 0.196429 0.193548 0.193548 0.193548 0.193548 0.193548 0.192982 0.192982 0.192982 0.192982 0.192982 0.192982 0.192982 0.192982 0.192982 0.190476 0.190476 0.190476 0.190476 0.190476 0.190476 0.190476 0.189655 0.189655 0.189655 0.189655 0.1875 0.1875 0.1875 0.1875 0.1875 0.186441 0.186441 0.186441 0.186441 0.186441 0.186441 0.186441 0.186441 0.186441 0.186441 0.186441 0.186441 0.184615 0.184615 0.184615 0.183333 0.183333 0.183333 0.183333 0.183333 0.183333 0.183333 0.183333 0.183333 0.183333 0.183333 0.183333 0.183333 0.180328 0.180328 0.180328 0.180328 0.180328 0.180328 0.180328 0.180328 0.180328 0.180328 0.180328 0.178571 0.178571 0.178571 0.178571 0.178571 0.178571 0.178571 0.178571 0.178571 0.178571 0.178571 0.211268 0.205882 0.19697 0.191781 0.191176 0.188406 0.185714 0.185714 0.183099 0.181818 0.181818 0.181818 0.181818 0.181818 0.181818 0.180556 0.180556 0.180556 0.180556 0.180556 0.179104 0.179104 0.179104 0.179104 0.179104 0.179104 0.178082 0.178082 0.178082 0.176471 0.176471 0.176471 0.176471 0.176471 0.176471 0.176471 0.173913 0.173913 0.173913 0.173913 0.173913 0.173913 0.173913 0.173913 0.171429 0.171429 0.171429 0.171429 0.171429 0.171429 0.171429 0.171429 0.171429 0.169014 0.169014 0.169014 0.169014 0.169014 0.169014 0.169014 0.169014 0.169014 0.169014 0.169014 0.169014 0.169014 0.169014 0.169014 0.169014 0.169014 0.169014 0.166667 0.166667 0.166667 0.166667 0.166667 0.166667 0.166667 0.166667 0.166667 0.166667 0.166667 0.166667 0.166667 0.166667 0.166667 0.166667 0.166667 0.166667 0.166667 0.166667 0.166667 0.166667 0.166667 0.166667 0.166667 0.166667 0.166667 0.166667 0.166667 0.205479 0.197368 0.186667 0.186667 0.186667 0.184211 0.184211 0.181818 0.181818 0.181818 0.179487 0.179487 0.179487 0.178082 0.175676 0.175676 0.175676 0.175676 0.175676 0.175676 0.173333 0.173333 0.173333 0.173333 0.173333 0.173333 0.173333 0.173333 0.171053 0.171053 0.171053 0.171053 0.171053 0.171053 0.171053 0.171053 0.171053 0.171053 0.171053 0.171053 0.171053 0.171053 0.171053 0.168831 0.168831 0.168831 0.168831 0.168831 0.168831 0.168831 0.168831 0.168831 0.168831 0.168831 0.166667 0.166667 0.166667 0.166667 0.166667 0.166667 0.166667 0.166667 0.164557 0.164557 0.164384 0.164384 0.164384 0.164384 0.164384 0.164384 0.162162 0.162162 0.162162 0.162162 0.162162 0.162162 0.162162 0.162162 0.162162 0.162162 0.162162 0.162162 0.162162 0.162162 0.162162 0.162162 0.162162 0.162162 0.162162 0.16 0.16 0.16 0.16 0.16 0.16 0.16 0.16 0.16 0.16 0.16 0.2 0.2 0.195122 0.189873 0.189873 0.1875 0.1875 0.182927 0.182927 0.180723 0.177215 0.177215 0.177215 0.177215 0.175 0.175 0.175 0.175 0.175 0.175 0.17284 0.17284 0.17284 0.17284 0.17284 0.17284 0.17284 0.17284 0.17284 0.17284 0.17284 0.17284 0.17284 0.17284 0.170732 0.170732 0.170732 0.170732 0.170732 0.170732 0.170732 0.170732 0.168675 0.168675 0.168675 0.168675 0.168675 0.168675 0.168675 0.168675 0.168675 0.168675 0.168675 0.168675 0.168675 0.168675 0.168675 0.168675 0.164557 0.164557 0.164557 0.164557 0.164557 0.164557 0.164557 0.164557 0.164557 0.164557 0.164557 0.164557 0.164557 0.164557 0.1625 0.1625 0.1625 0.1625 0.1625 0.1625 0.1625 0.1625 0.1625 0.1625 0.1625 0.1625 0.1625 0.1625 0.1625 0.1625 0.1625 0.1625 0.160494 0.160494 0.160494 0.160494 0.160494 0.160494 0.160494 0.160494 0.160494 0.160494 0.229885 0.229885 0.22093 0.218391 0.215909 0.2 0.197674 0.195402 0.190476 0.190476 0.183908 0.178571 0.178571 0.176471 0.172414 0.172414 0.168675 0.166667 0.166667 0.166667 0.166667 0.166667 0.166667 0.166667 0.166667 0.166667 0.166667 0.164706 0.164706 0.164706 0.164706 0.164706 0.164706 0.164706 0.162791 0.162791 0.162791 0.162791 0.162791 0.162791 0.162791 0.162791 0.162791 0.16092 0.16092 0.16092 0.16092 0.16092 0.16092 0.16092 0.16092 0.16092 0.16092 0.16092 0.16092 0.16092 0.16092 0.159091 0.159091 0.159091 0.156627 0.156627 0.154762 0.154762 0.154762 0.154762 0.154762 0.154762 0.154762 0.154762 0.154762 0.154762 0.154762 0.154762 0.154762 0.154762 0.154762 0.154762 0.154762 0.154762 0.154762 0.154762 0.154762 0.154762 0.154762 0.154762 0.154762 0.154762 0.154762 0.154762 0.154762 0.154762 0.154762 0.154762 0.154762 0.154762 0.154762 0.154762 0.154762 0.154762 0.193182 0.179775 0.179775 0.175824 0.175824 0.175824 0.170455 0.170455 0.170455 0.168539 0.168539 0.168539 0.166667 0.166667 0.166667 0.166667 0.166667 0.166667 0.166667 0.166667 0.164835 0.163043 0.163043 0.159091 0.159091 0.159091 0.159091 0.159091 0.159091 0.159091 0.159091 0.159091 0.159091 0.159091 0.159091 0.159091 0.159091 0.157303 0.157303 0.157303 0.157303 0.157303 0.157303 0.157303 0.157303 0.157303 0.157303 0.157303 0.157303 0.157303 0.157303 0.157303 0.157303 0.157303 0.157303 0.157303 0.155556 0.155556 0.155556 0.155556 0.155556 0.155556 0.155556 0.155556 0.155556 0.155556 0.155556 0.155556 0.155556 0.155556 0.155556 0.155556 0.153846 0.153846 0.153846 0.153846 0.153846 0.153846 0.153846 0.153846 0.153846 0.153846 0.153846 0.153846 0.153846 0.152174 0.152174 0.152174 0.152174 0.147727 0.147727 0.147727 0.147727 0.147727 0.147727 0.147727 0.147727 0.147727 0.147727 0.147727 0.189474 0.178947 0.168421 0.166667 0.166667 0.166667 0.164948 0.164948 0.164948 0.164948 0.163043 0.16129 0.16129 0.16129 0.16129 0.16129 0.16129 0.16129 0.16129 0.159574 0.159574 0.159574 0.159574 0.159574 0.159574 0.157895 0.157895 0.157895 0.157895 0.157895 0.157895 0.157895 0.157895 0.157895 0.157895 0.157895 0.157895 0.157895 0.157895 0.157895 0.157895 0.157895 0.157895 0.157895 0.157895 0.157895 0.157895 0.157895 0.157895 0.15625 0.15625 0.15625 0.15625 0.15625 0.15625 0.15625 0.15625 0.15625 0.15625 0.15625 0.15625 0.15625 0.15625 0.15625 0.15625 0.15625 0.15625 0.15625 0.15625 0.15625 0.15625 0.154639 0.154639 0.154639 0.154639 0.154639 0.154639 0.154639 0.154639 0.152174 0.152174 0.152174 0.152174 0.152174 0.152174 0.152174 0.150538 0.150538 0.150538 0.150538 0.150538 0.150538 0.150538 0.150538 0.150538 0.148936 0.148936 0.148936 0.148936 0.148936 0.173469 0.17 0.164948 0.161616 0.161616 0.16 0.16 0.16 0.158879 0.158416 0.158416 0.158416 0.156863 0.156863 0.154639 0.154639 0.154639 0.154639 0.154639 0.154639 0.154639 0.154639 0.154639 0.153846 0.153061 0.153061 0.153061 0.153061 0.153061 0.153061 0.153061 0.153061 0.153061 0.153061 0.153061 0.153061 0.153061 0.153061 0.153061 0.153061 0.153061 0.152381 0.151515 0.151515 0.151515 0.151515 0.151515 0.151515 0.151515 0.151515 0.151515 0.151515 0.151515 0.151515 0.151515 0.151515 0.151515 0.150943 0.15 0.15 0.15 0.15 0.15 0.148515 0.148515 0.148515 0.148515 0.147059 0.147059 0.147059 0.147059 0.147059 0.147059 0.145631 0.145631 0.145631 0.145631 0.145631 0.145631 0.14433 0.14433 0.14433 0.144231 0.144231 0.142857 0.142857 0.142857 0.142857 0.142857 0.142857 0.142857 0.142857 0.142857 0.142857 0.142857 0.142857 0.142857 0.142857 0.142857 0.142857 \n",
            "0.123596 0.123596 0.123596 0.123596 0.123596 0.123596 0.11236 0.11236 0.11236 0.11236 0.11236 0.11236 0.11236 0.11236 0.11236 0.11236 0.11236 0.11236 0.11236 0.11236 0.11236 0.11236 0.11236 0.11236 0.11236 0.11236 0.11236 0.11236 0.11236 0.11236 0.11236 0.11236 0.11236 0.11236 0.11236 0.11236 0.11236 0.11236 0.11236 0.11236 0.11236 0.11236 0.11236 0.11236 0.11236 0.11236 0.11236 0.11236 0.11236 0.11236 0.11236 0.11236 0.11236 0.11236 0.11236 0.11236 0.11236 0.11236 0.11236 0.11236 0.11236 0.101124 0.101124 0.101124 0.101124 0.101124 0.101124 0.101124 0.101124 0.101124 0.101124 0.101124 0.101124 0.101124 0.101124 0.101124 0.101124 0.101124 0.101124 0.101124 0.101124 0.101124 0.101124 0.101124 0.101124 0.101124 0.101124 0.101124 0.101124 0.101124 0.101124 0.101124 0.101124 0.101124 0.101124 0.101124 0.101124 0.101124 0.101124 0.101124 0.303371 0.292135 0.224719 0.213483 0.213483 0.202247 0.191011 0.191011 0.191011 0.179775 0.179775 0.179775 0.179775 0.179775 0.179775 0.179775 0.179775 0.179775 0.179775 0.179775 0.179775 0.179775 0.179775 0.179775 0.179775 0.168539 0.168539 0.168539 0.168539 0.168539 0.168539 0.168539 0.168539 0.168539 0.168539 0.168539 0.168539 0.168539 0.168539 0.168539 0.168539 0.168539 0.168539 0.168539 0.168539 0.168539 0.168539 0.168539 0.168539 0.168539 0.168539 0.168539 0.168539 0.168539 0.168539 0.168539 0.168539 0.168539 0.168539 0.168539 0.168539 0.168539 0.168539 0.168539 0.168539 0.168539 0.168539 0.168539 0.168539 0.168539 0.168539 0.168539 0.157303 0.157303 0.157303 0.157303 0.157303 0.157303 0.157303 0.157303 0.157303 0.157303 0.157303 0.157303 0.157303 0.157303 0.157303 0.157303 0.157303 0.157303 0.157303 0.157303 0.157303 0.157303 0.157303 0.157303 0.157303 0.157303 0.157303 0.157303 0.426966 0.404494 0.393258 0.292135 0.269663 0.247191 0.247191 0.247191 0.235955 0.235955 0.235955 0.235955 0.235955 0.224719 0.224719 0.224719 0.224719 0.224719 0.224719 0.224719 0.224719 0.224719 0.224719 0.224719 0.224719 0.224719 0.224719 0.224719 0.224719 0.213483 0.213483 0.213483 0.213483 0.213483 0.213483 0.213483 0.213483 0.213483 0.213483 0.213483 0.213483 0.213483 0.213483 0.213483 0.213483 0.213483 0.213483 0.213483 0.213483 0.213483 0.213483 0.213483 0.213483 0.213483 0.213483 0.213483 0.213483 0.213483 0.213483 0.213483 0.213483 0.213483 0.213483 0.213483 0.213483 0.213483 0.213483 0.213483 0.213483 0.213483 0.213483 0.213483 0.213483 0.213483 0.213483 0.202247 0.202247 0.202247 0.202247 0.202247 0.202247 0.202247 0.202247 0.202247 0.202247 0.202247 0.202247 0.202247 0.202247 0.202247 0.202247 0.202247 0.202247 0.202247 0.202247 0.202247 0.202247 0.202247 0.202247 0.202247 0.617977 0.561798 0.505618 0.494382 0.483146 0.460674 0.404494 0.325843 0.314607 0.314607 0.314607 0.314607 0.314607 0.314607 0.314607 0.314607 0.303371 0.303371 0.303371 0.303371 0.303371 0.303371 0.303371 0.303371 0.292135 0.292135 0.292135 0.292135 0.292135 0.292135 0.292135 0.292135 0.280899 0.280899 0.280899 0.280899 0.280899 0.280899 0.269663 0.269663 0.269663 0.269663 0.269663 0.269663 0.269663 0.269663 0.269663 0.269663 0.269663 0.269663 0.269663 0.269663 0.269663 0.269663 0.269663 0.258427 0.258427 0.258427 0.258427 0.258427 0.258427 0.258427 0.258427 0.258427 0.258427 0.258427 0.258427 0.258427 0.258427 0.258427 0.258427 0.258427 0.258427 0.258427 0.258427 0.258427 0.258427 0.258427 0.258427 0.258427 0.258427 0.258427 0.258427 0.258427 0.258427 0.258427 0.258427 0.258427 0.258427 0.258427 0.258427 0.247191 0.247191 0.247191 0.247191 0.247191 0.247191 0.247191 0.247191 0.247191 0.640449 0.640449 0.617977 0.617977 0.617977 0.606742 0.606742 0.606742 0.573034 0.573034 0.561798 0.539326 0.393258 0.348315 0.348315 0.348315 0.348315 0.337079 0.337079 0.337079 0.337079 0.337079 0.325843 0.325843 0.325843 0.325843 0.325843 0.325843 0.325843 0.325843 0.325843 0.325843 0.325843 0.314607 0.314607 0.314607 0.314607 0.314607 0.314607 0.314607 0.314607 0.314607 0.314607 0.314607 0.314607 0.314607 0.314607 0.314607 0.314607 0.314607 0.314607 0.314607 0.314607 0.314607 0.303371 0.303371 0.303371 0.303371 0.303371 0.303371 0.303371 0.303371 0.303371 0.303371 0.303371 0.303371 0.303371 0.303371 0.303371 0.303371 0.303371 0.303371 0.303371 0.303371 0.303371 0.303371 0.292135 0.292135 0.292135 0.292135 0.292135 0.292135 0.292135 0.292135 0.292135 0.292135 0.292135 0.292135 0.292135 0.292135 0.292135 0.292135 0.292135 0.292135 0.292135 0.292135 0.292135 0.292135 0.292135 0.292135 0.674157 0.674157 0.674157 0.662921 0.662921 0.651685 0.640449 0.640449 0.460674 0.438202 0.426966 0.41573 0.41573 0.393258 0.359551 0.359551 0.359551 0.359551 0.348315 0.348315 0.348315 0.348315 0.348315 0.348315 0.348315 0.348315 0.348315 0.348315 0.348315 0.348315 0.348315 0.348315 0.348315 0.348315 0.348315 0.348315 0.348315 0.348315 0.348315 0.348315 0.348315 0.348315 0.348315 0.348315 0.348315 0.348315 0.348315 0.348315 0.337079 0.337079 0.337079 0.337079 0.337079 0.337079 0.337079 0.337079 0.337079 0.337079 0.337079 0.337079 0.337079 0.337079 0.337079 0.337079 0.337079 0.337079 0.337079 0.337079 0.337079 0.337079 0.337079 0.337079 0.337079 0.337079 0.337079 0.337079 0.337079 0.337079 0.337079 0.337079 0.337079 0.337079 0.337079 0.337079 0.337079 0.337079 0.337079 0.337079 0.337079 0.337079 0.337079 0.337079 0.337079 0.337079 0.337079 0.337079 0.337079 0.337079 0.337079 0.337079 0.775281 0.741573 0.674157 0.651685 0.651685 0.640449 0.640449 0.640449 0.617977 0.573034 0.573034 0.550562 0.393258 0.393258 0.393258 0.382022 0.382022 0.382022 0.382022 0.382022 0.370787 0.370787 0.370787 0.370787 0.370787 0.370787 0.370787 0.370787 0.370787 0.370787 0.370787 0.370787 0.370787 0.370787 0.370787 0.370787 0.370787 0.370787 0.370787 0.359551 0.359551 0.359551 0.359551 0.359551 0.359551 0.359551 0.359551 0.359551 0.359551 0.359551 0.359551 0.348315 0.348315 0.348315 0.348315 0.348315 0.348315 0.348315 0.348315 0.348315 0.348315 0.348315 0.348315 0.348315 0.348315 0.348315 0.348315 0.348315 0.348315 0.348315 0.337079 0.337079 0.337079 0.337079 0.337079 0.337079 0.337079 0.337079 0.337079 0.337079 0.337079 0.337079 0.337079 0.337079 0.337079 0.337079 0.337079 0.337079 0.337079 0.337079 0.337079 0.337079 0.337079 0.337079 0.337079 0.337079 0.337079 0.337079 0.337079 0.337079 0.786517 0.786517 0.786517 0.775281 0.775281 0.775281 0.764045 0.764045 0.764045 0.764045 0.764045 0.764045 0.764045 0.764045 0.764045 0.764045 0.764045 0.764045 0.764045 0.764045 0.764045 0.764045 0.764045 0.764045 0.764045 0.764045 0.764045 0.764045 0.764045 0.764045 0.764045 0.764045 0.764045 0.764045 0.764045 0.764045 0.764045 0.764045 0.764045 0.764045 0.764045 0.764045 0.764045 0.764045 0.764045 0.752809 0.752809 0.752809 0.752809 0.752809 0.752809 0.752809 0.752809 0.752809 0.752809 0.752809 0.752809 0.752809 0.752809 0.752809 0.752809 0.752809 0.752809 0.752809 0.752809 0.741573 0.741573 0.741573 0.741573 0.741573 0.741573 0.741573 0.741573 0.741573 0.741573 0.741573 0.741573 0.741573 0.741573 0.730337 0.730337 0.730337 0.730337 0.730337 0.730337 0.730337 0.719101 0.719101 0.719101 0.719101 0.719101 0.707865 0.707865 0.685393 0.685393 0.674157 0.674157 0.674157 0.674157 0.674157 0.775281 0.764045 0.764045 0.764045 0.764045 0.764045 0.764045 0.752809 0.752809 0.752809 0.752809 0.752809 0.752809 0.752809 0.741573 0.741573 0.741573 0.741573 0.741573 0.741573 0.741573 0.741573 0.741573 0.730337 0.730337 0.730337 0.730337 0.730337 0.730337 0.719101 0.719101 0.707865 0.707865 0.707865 0.696629 0.696629 0.685393 0.685393 0.674157 0.640449 0.629214 0.629214 0.617977 0.595506 0.595506 0.561798 0.47191 0.449438 0.438202 0.426966 0.426966 0.41573 0.404494 0.404494 0.404494 0.404494 0.404494 0.393258 0.393258 0.393258 0.393258 0.393258 0.393258 0.393258 0.382022 0.382022 0.382022 0.370787 0.370787 0.370787 0.370787 0.370787 0.370787 0.370787 0.370787 0.370787 0.370787 0.370787 0.370787 0.370787 0.370787 0.370787 0.359551 0.359551 0.359551 0.359551 0.359551 0.359551 0.359551 0.359551 0.359551 0.359551 0.359551 0.359551 0.359551 0.359551 0.359551 0.359551 0.359551 0.359551 0.955056 0.913043 0.911111 0.786517 0.775281 0.752809 0.752809 0.730337 0.7 0.674157 0.666667 0.651685 0.58427 0.544444 0.539326 0.522222 0.511111 0.404494 0.388889 0.388889 0.382022 0.382022 0.382022 0.377778 0.377778 0.377778 0.373626 0.370787 0.370787 0.370787 0.362637 0.362637 0.362637 0.362637 0.359551 0.359551 0.359551 0.359551 0.359551 0.359551 0.359551 0.359551 0.358696 0.355556 0.351648 0.351648 0.351648 0.351648 0.351648 0.351648 0.351648 0.351648 0.351648 0.348315 0.348315 0.348315 0.348315 0.348315 0.348315 0.348315 0.348315 0.348315 0.348315 0.348315 0.348315 0.348315 0.348315 0.348315 0.348315 0.348315 0.348315 0.348315 0.344444 0.344444 0.344444 0.344444 0.344444 0.344444 0.344444 0.344444 0.344444 0.344444 0.344444 0.344444 0.340659 0.340659 0.340659 0.340659 0.340659 0.340659 0.340659 0.340659 0.340659 0.340659 0.340659 0.340659 0.340659 0.337079 0.337079 0.337079 0.923913 0.913043 0.892473 0.831579 0.755319 0.631579 0.612903 0.585106 0.569892 0.5 0.463158 0.462366 0.414894 0.414894 0.413043 0.413043 0.393617 0.391304 0.378947 0.368421 0.365591 0.365591 0.365591 0.364583 0.364583 0.364583 0.361702 0.361702 0.360825 0.360825 0.358696 0.357895 0.357895 0.354839 0.354167 0.354167 0.354167 0.354167 0.354167 0.351064 0.351064 0.351064 0.350515 0.347826 0.347826 0.347826 0.347826 0.347826 0.344086 0.344086 0.344086 0.344086 0.344086 0.34375 0.34375 0.340426 0.340426 0.340426 0.340426 0.340426 0.340426 0.340206 0.336957 0.336957 0.336957 0.336957 0.336957 0.336842 0.336842 0.336842 0.333333 0.333333 0.333333 0.333333 0.333333 0.333333 0.333333 0.333333 0.333333 0.333333 0.333333 0.333333 0.329897 0.329787 0.329787 0.329787 0.329787 0.329787 0.329787 0.326316 0.326316 0.326316 0.326316 0.326316 0.326316 0.326316 0.326316 0.326316 0.326316 0.326316 0.581633 0.58 0.561224 0.535354 0.494949 0.44898 0.43299 0.43 0.407767 0.382353 0.375 0.361905 0.360825 0.357143 0.355769 0.353535 0.353535 0.353535 0.352941 0.35 0.35 0.35 0.346939 0.346939 0.343434 0.34 0.34 0.336735 0.336735 0.336735 0.336735 0.336735 0.336634 0.336634 0.333333 0.333333 0.333333 0.333333 0.333333 0.33 0.33 0.33 0.33 0.33 0.326733 0.326531 0.326531 0.326531 0.326531 0.323529 0.323529 0.323529 0.323529 0.323232 0.323232 0.323232 0.323232 0.323232 0.320388 0.32 0.32 0.32 0.32 0.32 0.32 0.32 0.32 0.32 0.319588 0.319588 0.319588 0.319588 0.319588 0.317308 0.317308 0.316832 0.316832 0.316832 0.316832 0.316832 0.316832 0.316327 0.316327 0.316327 0.316327 0.316327 0.316327 0.316327 0.316327 0.316327 0.316327 0.314286 0.313726 0.313726 0.313726 0.313726 0.313726 0.313131 0.313131 0.313131 \n",
            "0.571429 0.357143 0.321429 0.285714 0.285714 0.285714 0.285714 0.25 0.25 0.25 0.25 0.25 0.25 0.25 0.25 0.25 0.25 0.25 0.25 0.25 0.25 0.25 0.25 0.214286 0.214286 0.214286 0.214286 0.214286 0.214286 0.214286 0.214286 0.214286 0.214286 0.214286 0.214286 0.214286 0.214286 0.214286 0.214286 0.214286 0.214286 0.214286 0.214286 0.214286 0.214286 0.214286 0.214286 0.214286 0.214286 0.214286 0.214286 0.214286 0.214286 0.214286 0.214286 0.214286 0.214286 0.214286 0.214286 0.214286 0.214286 0.214286 0.214286 0.214286 0.214286 0.214286 0.214286 0.214286 0.214286 0.214286 0.214286 0.214286 0.214286 0.214286 0.214286 0.214286 0.214286 0.214286 0.214286 0.214286 0.214286 0.214286 0.214286 0.214286 0.214286 0.214286 0.214286 0.214286 0.214286 0.214286 0.214286 0.214286 0.214286 0.214286 0.214286 0.214286 0.214286 0.214286 0.214286 0.214286 0.928571 0.9 0.896552 0.870968 0.866667 0.866667 0.866667 0.857143 0.857143 0.857143 0.83871 0.83871 0.83871 0.806452 0.78125 0.482759 0.466667 0.466667 0.464286 0.464286 0.464286 0.464286 0.464286 0.464286 0.464286 0.451613 0.451613 0.451613 0.451613 0.451613 0.451613 0.448276 0.448276 0.448276 0.448276 0.448276 0.4375 0.4375 0.4375 0.4375 0.4375 0.433333 0.433333 0.433333 0.433333 0.433333 0.433333 0.433333 0.433333 0.433333 0.428571 0.428571 0.428571 0.428571 0.428571 0.428571 0.428571 0.428571 0.428571 0.428571 0.428571 0.428571 0.428571 0.428571 0.428571 0.428571 0.428571 0.428571 0.428571 0.428571 0.419355 0.419355 0.419355 0.419355 0.419355 0.419355 0.419355 0.419355 0.419355 0.419355 0.419355 0.419355 0.419355 0.419355 0.413793 0.413793 0.413793 0.413793 0.413793 0.413793 0.413793 0.413793 0.413793 0.413793 0.413793 0.413793 0.413793 0.413793 0.413793 0.413793 0.875 0.875 0.818182 0.818182 0.8125 0.8125 0.8125 0.8125 0.8125 0.8 0.794118 0.794118 0.787879 0.787879 0.787879 0.771429 0.771429 0.771429 0.764706 0.764706 0.764706 0.764706 0.757576 0.742857 0.742857 0.72973 0.72973 0.722222 0.722222 0.722222 0.722222 0.722222 0.71875 0.702703 0.702703 0.702703 0.702703 0.702703 0.702703 0.692308 0.685714 0.684211 0.684211 0.676471 0.666667 0.658537 0.634146 0.628571 0.611111 0.606061 0.604651 0.568182 0.522727 0.485714 0.454545 0.444444 0.441176 0.441176 0.441176 0.4375 0.4375 0.4375 0.4375 0.4375 0.4375 0.4375 0.428571 0.428571 0.428571 0.428571 0.428571 0.428571 0.424242 0.424242 0.424242 0.424242 0.424242 0.424242 0.424242 0.424242 0.424242 0.416667 0.416667 0.416667 0.416667 0.416667 0.416667 0.416667 0.416667 0.411765 0.411765 0.411765 0.411765 0.411765 0.411765 0.411765 0.411765 0.411765 0.411765 0.411765 0.565217 0.490566 0.340909 0.340909 0.333333 0.333333 0.333333 0.333333 0.333333 0.326087 0.326087 0.326087 0.326087 0.326087 0.326087 0.326087 0.326087 0.326087 0.326087 0.32 0.319149 0.319149 0.319149 0.319149 0.318182 0.318182 0.318182 0.318182 0.318182 0.318182 0.318182 0.318182 0.318182 0.318182 0.318182 0.318182 0.318182 0.318182 0.318182 0.3125 0.3125 0.3125 0.3125 0.3125 0.3125 0.3125 0.311111 0.311111 0.311111 0.311111 0.311111 0.311111 0.311111 0.311111 0.311111 0.311111 0.311111 0.311111 0.311111 0.311111 0.311111 0.311111 0.311111 0.311111 0.311111 0.311111 0.311111 0.311111 0.311111 0.311111 0.311111 0.311111 0.311111 0.311111 0.311111 0.311111 0.311111 0.311111 0.311111 0.311111 0.311111 0.311111 0.311111 0.311111 0.311111 0.311111 0.311111 0.311111 0.311111 0.311111 0.311111 0.311111 0.311111 0.311111 0.311111 0.311111 0.311111 0.306122 0.306122 0.306122 0.267857 0.263158 0.258065 0.254237 0.254237 0.254237 0.25 0.25 0.25 0.25 0.25 0.25 0.25 0.25 0.25 0.245902 0.245902 0.245614 0.245614 0.245614 0.245614 0.245614 0.245614 0.245614 0.245614 0.245614 0.245614 0.245614 0.245614 0.245614 0.245614 0.245614 0.245614 0.245614 0.245614 0.245614 0.241935 0.241935 0.241379 0.241379 0.241379 0.241379 0.241379 0.241379 0.241379 0.241379 0.238095 0.237288 0.237288 0.237288 0.237288 0.237288 0.237288 0.237288 0.237288 0.234375 0.233333 0.233333 0.233333 0.233333 0.233333 0.233333 0.233333 0.233333 0.233333 0.233333 0.232143 0.232143 0.232143 0.232143 0.232143 0.232143 0.232143 0.232143 0.232143 0.232143 0.232143 0.232143 0.232143 0.232143 0.232143 0.232143 0.232143 0.230769 0.229508 0.229508 0.229508 0.229508 0.229508 0.229508 0.229508 0.22807 0.22807 0.22807 0.22807 0.22807 0.22807 0.22807 0.22807 0.22807 0.223881 0.211268 0.208955 0.205882 0.205882 0.202899 0.202899 0.2 0.2 0.2 0.2 0.197183 0.197183 0.19697 0.19697 0.19697 0.19697 0.19697 0.19697 0.19697 0.194444 0.19403 0.19403 0.19403 0.19403 0.19403 0.19403 0.19403 0.19403 0.19403 0.191781 0.191176 0.191176 0.191176 0.188406 0.188406 0.188406 0.188406 0.185714 0.185714 0.183099 0.183099 0.183099 0.183099 0.183099 0.183099 0.183099 0.181818 0.181818 0.181818 0.181818 0.181818 0.181818 0.181818 0.181818 0.181818 0.181818 0.181818 0.181818 0.181818 0.181818 0.181818 0.181818 0.180556 0.180556 0.180556 0.180556 0.180556 0.180556 0.180556 0.180556 0.179104 0.179104 0.179104 0.179104 0.179104 0.179104 0.179104 0.179104 0.179104 0.179104 0.179104 0.179104 0.179104 0.179104 0.179104 0.179104 0.178082 0.178082 0.176471 0.176471 0.176471 0.176471 0.176471 0.176471 0.176471 0.176471 0.176471 0.173913 0.173913 0.210526 0.202703 0.202703 0.2 0.197368 0.191781 0.189189 0.189189 0.189189 0.181818 0.181818 0.179487 0.175676 0.175676 0.175676 0.175676 0.171053 0.171053 0.171053 0.171053 0.171053 0.171053 0.168831 0.168831 0.166667 0.164557 0.164557 0.164384 0.164384 0.164384 0.162162 0.162162 0.162162 0.162162 0.162162 0.162162 0.162162 0.162162 0.162162 0.16 0.16 0.16 0.16 0.16 0.16 0.16 0.16 0.157895 0.157895 0.157895 0.157895 0.157895 0.157895 0.155844 0.155844 0.155844 0.155844 0.155844 0.155844 0.153846 0.153846 0.153846 0.153846 0.153846 0.150685 0.150685 0.150685 0.150685 0.150685 0.150685 0.150685 0.150685 0.148649 0.148649 0.148649 0.148649 0.148649 0.148649 0.148649 0.148649 0.148649 0.148649 0.148649 0.148649 0.148649 0.148649 0.148649 0.148649 0.148649 0.148649 0.148649 0.146667 0.146667 0.146667 0.146667 0.146667 0.146667 0.146667 0.146667 0.146667 0.177215 0.170732 0.168675 0.164557 0.164557 0.164557 0.164557 0.1625 0.1625 0.1625 0.160494 0.158537 0.158537 0.158537 0.156627 0.151899 0.151899 0.151899 0.151899 0.151899 0.151899 0.15 0.148148 0.148148 0.148148 0.148148 0.148148 0.148148 0.148148 0.146341 0.146341 0.146341 0.144578 0.144578 0.144578 0.144578 0.139241 0.139241 0.139241 0.139241 0.139241 0.139241 0.139241 0.139241 0.139241 0.139241 0.139241 0.139241 0.139241 0.139241 0.139241 0.139241 0.139241 0.139241 0.139241 0.1375 0.1375 0.1375 0.1375 0.1375 0.1375 0.1375 0.1375 0.1375 0.1375 0.1375 0.1375 0.1375 0.1375 0.1375 0.1375 0.1375 0.1375 0.1375 0.1375 0.1375 0.135802 0.135802 0.135802 0.135802 0.135802 0.135802 0.135802 0.135802 0.135802 0.135802 0.135802 0.135802 0.135802 0.135802 0.135802 0.135802 0.135802 0.135802 0.135802 0.135802 0.135802 0.135802 0.134146 0.134146 0.178571 0.166667 0.166667 0.164706 0.154762 0.154762 0.154762 0.154762 0.152941 0.152941 0.152941 0.151163 0.149425 0.149425 0.142857 0.142857 0.142857 0.142857 0.142857 0.141176 0.141176 0.141176 0.141176 0.141176 0.141176 0.141176 0.139535 0.139535 0.139535 0.137931 0.137931 0.137931 0.137931 0.137931 0.137931 0.137931 0.137931 0.136364 0.136364 0.130952 0.130952 0.130952 0.130952 0.130952 0.130952 0.130952 0.130952 0.130952 0.130952 0.130952 0.130952 0.130952 0.130952 0.130952 0.130952 0.129412 0.129412 0.129412 0.129412 0.129412 0.129412 0.129412 0.129412 0.129412 0.129412 0.129412 0.129412 0.129412 0.129412 0.129412 0.129412 0.129412 0.129412 0.129412 0.129412 0.129412 0.129412 0.129412 0.127907 0.127907 0.127907 0.127907 0.127907 0.127907 0.127907 0.127907 0.127907 0.127907 0.127907 0.127907 0.127907 0.127907 0.127907 0.127907 0.127907 0.127907 0.127907 0.127907 0.127907 0.127907 0.157303 0.147727 0.146067 0.146067 0.144444 0.144444 0.144444 0.144444 0.144444 0.142857 0.142857 0.136364 0.136364 0.136364 0.136364 0.136364 0.136364 0.134831 0.134831 0.133333 0.133333 0.133333 0.133333 0.133333 0.131868 0.131868 0.131868 0.131868 0.130435 0.125 0.125 0.125 0.125 0.125 0.125 0.125 0.125 0.125 0.125 0.125 0.125 0.125 0.125 0.125 0.125 0.125 0.125 0.125 0.125 0.125 0.125 0.125 0.125 0.125 0.125 0.125 0.123596 0.123596 0.123596 0.123596 0.123596 0.123596 0.123596 0.123596 0.123596 0.123596 0.123596 0.123596 0.123596 0.123596 0.123596 0.123596 0.123596 0.123596 0.122222 0.122222 0.122222 0.122222 0.122222 0.122222 0.122222 0.122222 0.122222 0.122222 0.122222 0.122222 0.122222 0.122222 0.122222 0.122222 0.122222 0.120879 0.120879 0.120879 0.120879 0.120879 0.120879 0.120879 0.120879 0.120879 0.148936 0.147368 0.139785 0.138298 0.138298 0.138298 0.136842 0.135417 0.130435 0.129032 0.129032 0.129032 0.129032 0.129032 0.129032 0.12766 0.12766 0.12766 0.12766 0.12766 0.126316 0.126316 0.126316 0.126316 0.126316 0.125 0.123711 0.123711 0.119565 0.119565 0.119565 0.119565 0.119565 0.119565 0.119565 0.119565 0.119565 0.11828 0.11828 0.11828 0.11828 0.11828 0.11828 0.11828 0.11828 0.11828 0.11828 0.11828 0.11828 0.11828 0.11828 0.11828 0.11828 0.117021 0.117021 0.117021 0.117021 0.117021 0.117021 0.117021 0.117021 0.117021 0.117021 0.117021 0.117021 0.115789 0.115789 0.115789 0.115789 0.115789 0.115789 0.115789 0.114583 0.114583 0.114583 0.114583 0.114583 0.114583 0.114583 0.114583 0.114583 0.113402 0.113402 0.113402 0.113402 0.113402 0.113402 0.113402 0.108696 0.108696 0.108696 0.108696 0.108696 0.108696 0.108696 0.108696 0.108696 0.108696 0.108696 0.108696 0.14 0.138614 0.135922 0.132653 0.131313 0.131313 0.127451 0.125 0.125 0.123711 0.123711 0.123711 0.122642 0.122449 0.121495 0.12 0.118812 0.118812 0.116505 0.116505 0.114286 0.114286 0.113402 0.113402 0.113402 0.113208 0.112245 0.112245 0.112245 0.112245 0.112245 0.112245 0.112245 0.112245 0.11215 0.111111 0.111111 0.111111 0.111111 0.111111 0.111111 0.111111 0.111111 0.111111 0.110092 0.11 0.11 0.11 0.11 0.11 0.11 0.11 0.11 0.11 0.109091 0.109091 0.109091 0.108911 0.108911 0.108911 0.108911 0.108911 0.108911 0.108108 0.108108 0.107843 0.107843 0.107843 0.107843 0.107843 0.106796 0.106796 0.106796 0.106796 0.106796 0.105769 0.105769 0.105769 0.104762 0.104762 0.103774 0.103774 0.103093 0.103093 0.103093 0.103093 0.103093 0.103093 0.103093 0.103093 0.103093 0.103093 0.103093 0.103093 0.103093 0.103093 0.103093 0.103093 0.103093 0.103093 \n",
            "\n",
            "indices: 2095355 2104387 2118767 2147776 2055923 2206974 2238603 2020057 2267746 2220291 2151279 2154228 1960823 2001825 2005314 2029722 2054064 2098358 2099815 2287637 2300031 2158918 2167292 2177721 2177855 1981772 2196213 2520566 1917947 2017068 2028496 2083981 2323778 2247926 2282000 2202772 2227479 2236897 2186351 2486485 2150430 2381725 1760981 1855263 1869531 1877846 1885219 1896166 1950185 2028110 2079765 2119578 2126999 2306247 2315934 1776753 1811788 1848411 1901590 2026760 2042826 2073036 2217999 2224835 1709996 1754639 1844734 1987029 2091827 2093706 2284846 2151301 2328000 2351661 1706744 2081563 2597490 1759061 2011063 2077727 2737847 2362721 1956654 2193430 2236145 1462218 1816978 1897084 1897296 1902180 1925148 1933929 1952948 1958058 1975060 1984389 1984524 1987018 2013793 2034453 \n",
            "3354548 3584604 3385811 3457483 3229654 3732526 3320427 3340108 2491259 3743142 3631235 3648390 3657624 3516117 2374643 2403142 2575906 2228660 4836663 1839330 4591327 3557359 4697352 3405025 3570449 3602105 3110584 3160212 3212061 3223714 3242875 3273973 3307943 3957807 3992214 3769564 3806523 3629929 3651887 2729851 2934266 3163915 3305058 3355769 3503322 3135869 3350236 3546639 3574824 3989624 4006619 3587218 3601233 3668228 4131144 2828732 3033866 3179151 3273208 3279884 3366688 3394555 3768327 4193955 4227290 3515312 4052232 3859022 5064216 3596686 3605208 3644977 3647798 3648284 4156166 3868121 3875989 3898614 3912700 3947820 3958906 1991883 2204093 2322853 2661022 2672853 2738909 2762270 2792939 3012444 3029707 3039967 3092642 3114822 3137181 3156462 3166063 3179837 3184917 3193891 \n",
            "7788441 7802401 7782377 7801971 7814975 7781694 7810594 7808590 7843401 7809945 7846914 7831446 7761434 6484473 7351329 7839524 4498898 2862865 4338988 5093113 5330069 2665443 3053942 7830965 2901753 2971061 7343026 7796214 5240653 3150957 4269653 5185997 7820720 3596558 7763100 7725698 7796468 7726591 7753631 7773714 7483244 7621636 7738376 7796323 5634249 7675769 7787293 5774762 7632020 7686575 6427189 7634212 7692514 7723174 7759886 1657741 6379050 7736250 7760888 6938835 7681597 7720071 7799338 7799616 7814678 6481180 6920816 6950153 7107304 7333006 7657685 7676458 7732898 7775566 1400612 5594644 6363869 6613416 7267834 7516270 7533604 7709970 7818223 7825162 5124248 6210009 6475394 7183416 7218286 7343105 7781483 7847590 6089541 6539482 6791103 7391558 7725914 7745458 7766653 7836635 \n",
            "1451621 1382250 1540932 1450640 1262561 1566407 1526647 1335473 1692014 1620570 1568523 1193260 1422092 1695638 1607748 1635620 1642524 1747981 1748205 1750716 1753426 1756651 1419752 1588632 1549401 1764065 1771377 1751898 1314500 1843821 1562610 1800155 1905795 1934867 1952083 1681426 2043426 2007984 2116556 2057656 2066523 2182954 2082505 1713928 2235444 2159965 2078676 1883266 829798 1740800 2476390 2478468 2598035 1395880 1462012 1474708 1477362 1181306 1196062 1288223 1332553 1351327 1359159 1362783 1368552 1380350 1401753 1403060 1417818 1418885 1419478 1427076 1444403 1446024 1503685 1528297 1533183 1564895 1580725 1597464 1455141 1456464 1460135 1474289 1479651 1486246 1486492 1487213 1487637 1488488 1498977 1499199 1727770 1500479 1501508 1512040 1513500 1515434 1519849 1523134 \n",
            "909608 827239 835944 1106301 670028 760378 1044469 1256458 971408 1660188 1386593 735164 1758848 1671117 1017181 1019690 1692876 2253771 756936 830452 834248 1060121 1518619 969495 978646 983548 991371 993929 2581823 1118431 1021830 1261547 609363 682264 709182 710432 724946 729305 740024 755611 756670 758961 781663 786129 801445 805738 806569 807739 816678 836966 837206 843575 845992 849308 857722 869084 879533 879937 882969 885608 912651 922608 923211 923499 931621 934316 936424 940713 1195753 1064897 1098145 968685 969629 976841 978251 979620 980553 983371 984343 985531 986554 988549 991986 995536 1199336 2937143 1123418 1137482 1140941 1141285 1143722 1144931 1145908 1253432 1007549 1007815 1008286 1008490 1014131 1015355 \n",
            "230088 216345 335841 216355 221125 245181 249389 258787 275508 283647 296469 332158 459973 705453 368402 373272 382018 382512 393049 499195 80159 102319 122643 125549 129103 144371 152315 160917 162756 163548 179228 189783 197367 201911 204896 207340 210713 226315 229678 230908 236088 242610 243337 246131 246545 247410 247512 248928 250397 250645 250924 254735 255364 255905 256907 257049 259373 260849 263383 264490 268276 270056 270066 270625 271384 271979 274215 275061 276638 279100 279293 281102 282094 284399 284584 285141 287445 293255 293426 294634 295633 296782 297212 297567 298392 300284 301462 302150 303991 304008 306190 306667 307532 308167 308411 308865 310691 312850 315951 317078 \n",
            "1252669 1066220 1113897 1150249 1225249 1576475 970072 1921858 2038652 1893335 1902421 1919831 1570616 1275185 1778618 1806495 1636840 1645131 1683061 2193399 1375114 1886051 1912531 1410377 741971 761714 804954 807786 1062988 1064814 1130413 1180462 1253004 1628438 1986166 2059320 2061277 1673579 1701207 1313043 1868618 1731236 1750223 1369660 1380687 1944444 1573799 1586971 2026808 1431017 1433791 1434744 1445877 1615562 1642850 1655089 1828376 1866084 625063 800738 880457 894216 920367 934990 945747 967598 968216 1036585 1039949 1066090 1071212 1086204 1088107 1100729 1105698 1120282 1124245 1132413 1137647 1147687 1149454 1150791 1173007 1176259 1180793 1181975 1192835 1193281 1194979 1199928 1200103 1216272 1219634 1221329 1224794 1228791 1230024 1237788 1244042 1245441 \n",
            "6090639 6550548 6509567 6584130 6249854 6696550 6975462 4599120 4893967 5007683 6082923 4545070 4905833 4968540 4987919 5247193 5960912 4640042 4696758 4721792 4770021 4818769 4819777 4822667 4831686 4841459 4846437 4848344 4864511 4865656 4878130 4894561 4964502 4968150 4972261 4977180 5013779 5015959 5032262 5047996 5050707 5070563 5077156 5083985 5089526 5099112 5107786 5113537 5131943 5150792 5153381 5157118 5159109 5161050 5173782 5223515 5238178 5261106 5357067 5398027 5492820 5661935 6814748 4770830 4773247 4829337 4843465 4851947 4883775 4884056 4907090 4916550 4941515 5043457 5062701 5066526 5076851 5092793 5098747 5101607 5169146 5178885 5205714 5242125 5268978 5330039 5341655 5366055 5491355 5496175 5904757 5965198 4575321 4892562 4897602 4910754 4976057 4977960 5019812 5024983 \n",
            "1064412 1212301 1165199 1324553 1337544 1279350 1221518 1244284 1244680 972283 1009627 1094325 1252175 1260777 1268224 1384210 1393825 1310814 1315547 1317017 1329501 1341171 1292801 1477389 1427999 1443623 1351931 1352887 1363146 1307186 1480921 1490375 1499799 1418128 1435011 1439307 1440123 1366052 1485951 1486511 1565048 1566093 1500616 1511639 1512826 1538358 1547424 1318251 1554073 1571537 1576178 1588176 1596407 1597752 1690975 1484789 1613338 1622281 1435168 1661370 1772693 1774156 1467924 1527674 1380085 1876256 574048 1951930 2078346 1932445 2416096 1450838 1182901 1216202 1237692 1060174 1086354 1091797 1100362 1123673 1133630 1149061 1348497 1255132 1255449 1260932 1264037 1275180 1288477 1150172 1153735 1184612 1184758 1189700 1535638 1403109 1403478 1408418 1299546 1303931 \n",
            "topk cost 14206 ms \n",
            "all cost 47654 ms \n",
            "end get topk\n"
          ]
        }
      ]
    },
    {
      "cell_type": "code",
      "source": [
        "!diff cpu_concurency_res.txt STI2/translate/res/result.txt"
      ],
      "metadata": {
        "colab": {
          "base_uri": "https://localhost:8080/"
        },
        "id": "RT_UE-Ds78rg",
        "outputId": "afb0120d-f9ff-462e-85b0-123eacf4e7b6"
      },
      "execution_count": null,
      "outputs": [
        {
          "output_type": "stream",
          "name": "stdout",
          "text": [
            "1c1\n",
            "< 14206\n",
            "---\n",
            "> 2990\n"
          ]
        }
      ]
    },
    {
      "cell_type": "code",
      "source": [
        "!make -C topk/ build_cpu_gpu BUILD_TYPE=Release NVCCFLAGS=\"-std=c++11\""
      ],
      "metadata": {
        "colab": {
          "base_uri": "https://localhost:8080/"
        },
        "id": "ZeovfHds6o6E",
        "outputId": "bedc72f6-2087-4281-c693-e0c64f31603e"
      },
      "execution_count": null,
      "outputs": [
        {
          "output_type": "stream",
          "name": "stdout",
          "text": [
            "make: Entering directory '/content/topk'\n",
            "mkdir -p bin\n",
            "nvcc ./main.cpp ./topk.cu -o ./bin/query_doc_scoring_cpu_gpu  \\\n",
            "\t-I./ \\\n",
            "\t-L/usr/local/cuda/lib64 -lcudart -lcuda \\\n",
            "\t-std=c++11 \\\n",
            "\t-O3 \\\n",
            "\t-DGPU \\\n",
            "\t-g\n",
            "make: Leaving directory '/content/topk'\n"
          ]
        }
      ]
    },
    {
      "cell_type": "code",
      "source": [
        "!topk/bin/query_doc_scoring_cpu_gpu STI2/translate/docs.txt STI2/translate/querys ./cpu_gpu_res.txt"
      ],
      "metadata": {
        "colab": {
          "base_uri": "https://localhost:8080/"
        },
        "id": "Xus_NdvFZ1Wi",
        "outputId": "1afe7d4b-5561-4c93-dbe2-6f59cabb27a5"
      },
      "execution_count": null,
      "outputs": [
        {
          "output_type": "stream",
          "name": "stdout",
          "text": [
            "start get topk\n",
            "query1.txt:10, 11, 16, 17, 42, 60, 22524, 22546, 22590, 22784, 23212, 23427, 23485, 23525, 23554, 24129, 24133, 24645, 24804, 24875, 25129, 25242, 25502, 25705, 25994, 26000, 26045, 26046, 26077, 26114, 26247, 26338, 26407, 27263, 27468, 27513, 28100, 40111, 40228, 40388, 41700, 45156, 45946, 46367, 47181, 47460, 47672\n",
            "query2.txt:10, 16, 18, 21, 22, 23, 30, 42, 43, 44, 45, 54, 22497, 22512, 22524, 22533, 22535, 22608, 22624, 22790, 22828, 22836, 22885, 23188, 23381, 23409, 23558, 24103, 24197, 24250, 24496, 24918, 24974, 24987, 25179, 25317, 25827, 25994, 25996, 26009, 26015, 26023, 26030, 26050, 26052, 26082, 26096, 26205, 26247, 27399, 27475, 40029, 40300, 40416, 40504, 40696, 40837, 41166, 41172, 41336, 41407, 41516, 43247, 43309, 44547, 44795, 45101, 48828\n",
            "query3.txt:11, 12, 13, 14, 21, 22, 23, 33, 42, 53, 61, 1380, 1545, 1546, 1557, 1560, 1566, 1569, 1583, 1646, 1759, 1762, 1787, 1794, 1877, 1882, 1892, 2069, 2120, 2146, 2368, 2670, 2888, 3022, 3327, 3335, 22460, 22461, 22462, 22497, 22507, 22512, 22797, 22828, 22885, 23010, 23112, 23337, 23351, 23358, 23441, 23930, 24093, 24301, 24320, 24416, 24771, 25378, 25476, 25846, 25882, 25994, 26692, 26992, 30070, 30085, 30111, 30116, 30188, 30195, 30294, 30332, 30476, 30488, 30656, 30731, 30920, 31021, 31024, 31382, 31493, 31510, 31562, 32167, 32657, 33375, 34247, 35336, 36536, 37502, 37643, 38316, 40228, 40510, 40620, 40785, 40793, 41176, 42143, 42766, 43047, 43895, 45069, 46492, 47956, 48995, 49443\n",
            "query4.txt:11, 18, 30, 32, 60, 1557, 1622, 2279, 22469, 22470, 22497, 22590, 22652, 22921, 22940, 23264, 23441, 24138, 26009, 26038, 26046, 26901, 27654, 30040, 30651, 31928, 32002, 32497, 40074, 40411, 40446, 41107, 46175, 46608\n",
            "query5.txt:11, 18, 35, 50, 54, 60, 22533, 22608, 22624, 22686, 22777, 22782, 23140, 23215, 24212, 25188, 26030, 26054, 26259, 26323, 28175, 40366, 40908, 42041\n",
            "query6.txt:21, 1557, 1559, 1561, 1565, 1568, 2118, 22590, 30489\n",
            "query7.txt:16, 17, 42, 22497, 22524, 22652, 22686, 22735, 22736, 22777, 23489, 23535, 25994, 26013, 26069, 26077, 26114, 26251, 26297, 26628, 26633, 26705, 27123, 27320, 40111, 41533, 42195, 42733, 42837, 46956, 49373\n",
            "query8.txt:16, 18, 21, 22, 30, 35, 42, 1600, 1614, 1707, 1875, 2088, 22459, 22463, 22464, 22466, 22474, 22497, 22502, 22507, 22512, 22529, 22533, 22535, 22590, 22608, 22652, 22684, 22686, 22777, 22795, 22803, 22824, 22828, 22867, 22971, 22972, 23066, 23116, 23150, 23188, 23199, 23289, 23312, 23692, 23760, 23927, 24089, 24136, 24301, 25166, 25359, 25502, 25582, 25994, 26015, 26043, 26086, 26114, 26236, 26251, 26515, 27125, 27276, 28235, 28283, 28297, 32541, 33756, 40210, 40320, 40945, 41092, 41096, 41123, 41245, 41665, 41762, 42525, 42820, 43852, 45045, 45264, 47110, 47491, 47632, 47763, 48145, 49837\n",
            "query9.txt:18, 30, 1388, 1557, 1622, 2279, 22469, 22470, 22535, 22777, 24309, 26007, 26046, 26217, 26530, 27824, 30040, 30651, 31928, 32002, 32497, 40074, 41796, 43144, 44293, 46955, 47628, 48045\n",
            "query_size: 9\n",
            "doc_size: 7853052\n",
            "read file cost 33522 ms \n",
            "cudaMalloc docs cost 88 ms \n",
            "align group docs cost 1584 ms \n",
            "cudaMemcpy H2D docs cost 426 ms \n",
            "cudaMemcpy H2D doc_lens cost 6 ms \n",
            "cudaMemcpy H2D query cost 0 ms \n",
            "GPU memory usage: used = 2397.00 MB, free = 38116.56 MB, total = 40513.56 MB\n",
            "docQueryScoringCoalescedMemoryAccessSampleKernel cost 9 ms \n",
            "heap partial_sort cost 12 ms \n",
            "cudaMemcpy H2D query cost 0 ms \n",
            "GPU memory usage: used = 2397.00 MB, free = 38116.56 MB, total = 40513.56 MB\n",
            "docQueryScoringCoalescedMemoryAccessSampleKernel cost 10 ms \n",
            "heap partial_sort cost 13 ms \n",
            "cudaMemcpy H2D query cost 0 ms \n",
            "GPU memory usage: used = 2397.00 MB, free = 38116.56 MB, total = 40513.56 MB\n",
            "docQueryScoringCoalescedMemoryAccessSampleKernel cost 12 ms \n",
            "heap partial_sort cost 12 ms \n",
            "cudaMemcpy H2D query cost 0 ms \n",
            "GPU memory usage: used = 2397.00 MB, free = 38116.56 MB, total = 40513.56 MB\n",
            "docQueryScoringCoalescedMemoryAccessSampleKernel cost 9 ms \n",
            "heap partial_sort cost 12 ms \n",
            "cudaMemcpy H2D query cost 0 ms \n",
            "GPU memory usage: used = 2397.00 MB, free = 38116.56 MB, total = 40513.56 MB\n",
            "docQueryScoringCoalescedMemoryAccessSampleKernel cost 8 ms \n",
            "heap partial_sort cost 12 ms \n",
            "cudaMemcpy H2D query cost 0 ms \n",
            "GPU memory usage: used = 2397.00 MB, free = 38116.56 MB, total = 40513.56 MB\n",
            "docQueryScoringCoalescedMemoryAccessSampleKernel cost 8 ms \n",
            "heap partial_sort cost 12 ms \n",
            "cudaMemcpy H2D query cost 0 ms \n",
            "GPU memory usage: used = 2397.00 MB, free = 38116.56 MB, total = 40513.56 MB\n",
            "docQueryScoringCoalescedMemoryAccessSampleKernel cost 9 ms \n",
            "heap partial_sort cost 12 ms \n",
            "cudaMemcpy H2D query cost 0 ms \n",
            "GPU memory usage: used = 2397.00 MB, free = 38116.56 MB, total = 40513.56 MB\n",
            "docQueryScoringCoalescedMemoryAccessSampleKernel cost 10 ms \n",
            "heap partial_sort cost 12 ms \n",
            "cudaMemcpy H2D query cost 0 ms \n",
            "GPU memory usage: used = 2397.00 MB, free = 38116.56 MB, total = 40513.56 MB\n",
            "docQueryScoringCoalescedMemoryAccessSampleKernel cost 8 ms \n",
            "heap partial_sort cost 12 ms \n",
            "indices: 2095355 2104387 2118767 2147776 2055923 2206974 2238603 2020057 2267746 2220291 2151279 2154228 1960823 2001825 2005314 2029722 2054064 2098358 2099815 2287637 2300031 2158918 2167292 2177721 2177855 1981772 2196213 2520566 1917947 2017068 2028496 2083981 2323778 2247926 2282000 2202772 2227479 2236897 2186351 2486485 2150430 2381725 1760981 1855263 1869531 1877846 1885219 1896166 1950185 2028110 2079765 2119578 2126999 2306247 2315934 1776753 1811788 1848411 1901590 2026760 2042826 2073036 2217999 2224835 1709996 1754639 1844734 1987029 2091827 2093706 2284846 2151301 2328000 2351661 1706744 2081563 2597490 1759061 2011063 2077727 2737847 2362721 1956654 2193430 2236145 1462218 1816978 1897084 1897296 1902180 1925148 1933929 1952948 1958058 1975060 1984389 1984524 1987018 2013793 2034453 \n",
            "3354548 3584604 3385811 3457483 3229654 3732526 3320427 3340108 2491259 3743142 3631235 3648390 3657624 3516117 2374643 2403142 2575906 2228660 4836663 1839330 4591327 3557359 4697352 3405025 3570449 3602105 3110584 3160212 3212061 3223714 3242875 3273973 3307943 3957807 3992214 3769564 3806523 3629929 3651887 2729851 2934266 3163915 3305058 3355769 3503322 3135869 3350236 3546639 3574824 3989624 4006619 3587218 3601233 3668228 4131144 2828732 3033866 3179151 3273208 3279884 3366688 3394555 3768327 4193955 4227290 3515312 4052232 3859022 5064216 3596686 3605208 3644977 3647798 3648284 4156166 3868121 3875989 3898614 3912700 3947820 3958906 1991883 2204093 2322853 2661022 2672853 2738909 2762270 2792939 3012444 3029707 3039967 3092642 3114822 3137181 3156462 3166063 3179837 3184917 3193891 \n",
            "7788441 7802401 7782377 7801971 7814975 7781694 7810594 7808590 7843401 7809945 7846914 7831446 7761434 6484473 7351329 7839524 4498898 2862865 4338988 5093113 5330069 2665443 3053942 7830965 2901753 2971061 7343026 7796214 5240653 3150957 4269653 5185997 7820720 3596558 7763100 7725698 7796468 7726591 7753631 7773714 7483244 7621636 7738376 7796323 5634249 7675769 7787293 5774762 7632020 7686575 6427189 7634212 7692514 7723174 7759886 1657741 6379050 7736250 7760888 6938835 7681597 7720071 7799338 7799616 7814678 6481180 6920816 6950153 7107304 7333006 7657685 7676458 7732898 7775566 1400612 5594644 6363869 6613416 7267834 7516270 7533604 7709970 7818223 7825162 5124248 6210009 6475394 7183416 7218286 7343105 7781483 7847590 6089541 6539482 6791103 7391558 7725914 7745458 7766653 7836635 \n",
            "1451621 1382250 1540932 1450640 1262561 1566407 1526647 1335473 1692014 1620570 1568523 1193260 1422092 1695638 1607748 1635620 1642524 1747981 1748205 1750716 1753426 1756651 1419752 1588632 1549401 1764065 1771377 1751898 1314500 1843821 1562610 1800155 1905795 1934867 1952083 1681426 2043426 2007984 2116556 2057656 2066523 2182954 2082505 1713928 2235444 2159965 2078676 1883266 829798 1740800 2476390 2478468 2598035 1395880 1462012 1474708 1477362 1181306 1196062 1288223 1332553 1351327 1359159 1362783 1368552 1380350 1401753 1403060 1417818 1418885 1419478 1427076 1444403 1446024 1503685 1528297 1533183 1564895 1580725 1597464 1455141 1456464 1460135 1474289 1479651 1486246 1486492 1487213 1487637 1488488 1498977 1499199 1727770 1500479 1501508 1512040 1513500 1515434 1519849 1523134 \n",
            "909608 827239 835944 1106301 670028 760378 1044469 1256458 971408 1660188 1386593 735164 1758848 1671117 1017181 1019690 1692876 2253771 756936 830452 834248 1060121 1518619 969495 978646 983548 991371 993929 2581823 1118431 1021830 1261547 609363 682264 709182 710432 724946 729305 740024 755611 756670 758961 781663 786129 801445 805738 806569 807739 816678 836966 837206 843575 845992 849308 857722 869084 879533 879937 882969 885608 912651 922608 923211 923499 931621 934316 936424 940713 1195753 1064897 1098145 968685 969629 976841 978251 979620 980553 983371 984343 985531 986554 988549 991986 995536 1199336 2937143 1123418 1137482 1140941 1141285 1143722 1144931 1145908 1253432 1007549 1007815 1008286 1008490 1014131 1015355 \n",
            "230088 216345 335841 216355 221125 245181 249389 258787 275508 283647 296469 332158 459973 705453 368402 373272 382018 382512 393049 499195 80159 102319 122643 125549 129103 144371 152315 160917 162756 163548 179228 189783 197367 201911 204896 207340 210713 226315 229678 230908 236088 242610 243337 246131 246545 247410 247512 248928 250397 250645 250924 254735 255364 255905 256907 257049 259373 260849 263383 264490 268276 270056 270066 270625 271384 271979 274215 275061 276638 279100 279293 281102 282094 284399 284584 285141 287445 293255 293426 294634 295633 296782 297212 297567 298392 300284 301462 302150 303991 304008 306190 306667 307532 308167 308411 308865 310691 312850 315951 317078 \n",
            "1252669 1066220 1113897 1150249 1225249 1576475 970072 1921858 2038652 1893335 1902421 1919831 1570616 1275185 1778618 1806495 1636840 1645131 1683061 2193399 1375114 1886051 1912531 1410377 741971 761714 804954 807786 1062988 1064814 1130413 1180462 1253004 1628438 1986166 2059320 2061277 1673579 1701207 1313043 1868618 1731236 1750223 1369660 1380687 1944444 1573799 1586971 2026808 1431017 1433791 1434744 1445877 1615562 1642850 1655089 1828376 1866084 625063 800738 880457 894216 920367 934990 945747 967598 968216 1036585 1039949 1066090 1071212 1086204 1088107 1100729 1105698 1120282 1124245 1132413 1137647 1147687 1149454 1150791 1173007 1176259 1180793 1181975 1192835 1193281 1194979 1199928 1200103 1216272 1219634 1221329 1224794 1228791 1230024 1237788 1244042 1245441 \n",
            "6090639 6550548 6509567 6584130 6249854 6696550 6975462 4599120 4893967 5007683 6082923 4545070 4905833 4968540 4987919 5247193 5960912 4640042 4696758 4721792 4770021 4818769 4819777 4822667 4831686 4841459 4846437 4848344 4864511 4865656 4878130 4894561 4964502 4968150 4972261 4977180 5013779 5015959 5032262 5047996 5050707 5070563 5077156 5083985 5089526 5099112 5107786 5113537 5131943 5150792 5153381 5157118 5159109 5161050 5173782 5223515 5238178 5261106 5357067 5398027 5492820 5661935 6814748 4770830 4773247 4829337 4843465 4851947 4883775 4884056 4907090 4916550 4941515 5043457 5062701 5066526 5076851 5092793 5098747 5101607 5169146 5178885 5205714 5242125 5268978 5330039 5341655 5366055 5491355 5496175 5904757 5965198 4575321 4892562 4897602 4910754 4976057 4977960 5019812 5024983 \n",
            "1064412 1212301 1165199 1324553 1337544 1279350 1221518 1244284 1244680 972283 1009627 1094325 1252175 1260777 1268224 1384210 1393825 1310814 1315547 1317017 1329501 1341171 1292801 1477389 1427999 1443623 1351931 1352887 1363146 1307186 1480921 1490375 1499799 1418128 1435011 1439307 1440123 1366052 1485951 1486511 1565048 1566093 1500616 1511639 1512826 1538358 1547424 1318251 1554073 1571537 1576178 1588176 1596407 1597752 1690975 1484789 1613338 1622281 1435168 1661370 1772693 1774156 1467924 1527674 1380085 1876256 574048 1951930 2078346 1932445 2416096 1450838 1182901 1216202 1237692 1060174 1086354 1091797 1100362 1123673 1133630 1149061 1348497 1255132 1255449 1260932 1264037 1275180 1288477 1150172 1153735 1184612 1184758 1189700 1535638 1403109 1403478 1408418 1299546 1303931 \n",
            "topk cost 2504 ms \n",
            "all cost 36026 ms \n",
            "end get topk\n"
          ]
        }
      ]
    },
    {
      "cell_type": "code",
      "source": [
        "!diff cpu_gpu_res.txt STI2/translate/res/result.txt"
      ],
      "metadata": {
        "colab": {
          "base_uri": "https://localhost:8080/"
        },
        "id": "DFiVJzkbaONU",
        "outputId": "f70edf3e-786e-44fc-b6ad-f42be9d24cad"
      },
      "execution_count": null,
      "outputs": [
        {
          "output_type": "stream",
          "name": "stdout",
          "text": [
            "1c1\n",
            "< 2504\n",
            "---\n",
            "> 2990\n"
          ]
        }
      ]
    },
    {
      "cell_type": "code",
      "source": [
        "!nvprof --print-gpu-trace topk/bin/query_doc_scoring_cpu_gpu STI2/translate/docs.txt STI2/translate/querys ./cpu_gpu_res_1.txt"
      ],
      "metadata": {
        "id": "mNPktqNlpPti"
      },
      "execution_count": null,
      "outputs": []
    },
    {
      "cell_type": "code",
      "source": [
        "!nsys profile  -o a100_report_cpu_gpu.nsys-rep topk/bin/query_doc_scoring_cpu_gpu STI2/translate/docs.txt STI2/translate/querys ./cpu_gpu_res_1.txt\n"
      ],
      "metadata": {
        "id": "JAY_Pi-FmeHS"
      },
      "execution_count": null,
      "outputs": []
    },
    {
      "cell_type": "code",
      "source": [
        "!ncu --set full --call-stack --nvtx -o a100_report_cpu_gpu topk/bin/query_doc_scoring_cpu_gpu STI2/translate/docs.txt STI2/translate/querys ./cpu_gpu_res_1.txt"
      ],
      "metadata": {
        "id": "K6Q2XCESpI22"
      },
      "execution_count": null,
      "outputs": []
    },
    {
      "cell_type": "code",
      "source": [
        "!make -C topk/ build_cpu_concurrency_gpu BUILD_TYPE=Release NVCCFLAGS=\"-std=c++11\""
      ],
      "metadata": {
        "colab": {
          "base_uri": "https://localhost:8080/"
        },
        "id": "S3Hs6Bxc6t-F",
        "outputId": "e8083b61-705b-415c-93fb-cc740c0d0eae"
      },
      "execution_count": null,
      "outputs": [
        {
          "output_type": "stream",
          "name": "stdout",
          "text": [
            "make: Entering directory '/content/topk'\n",
            "mkdir -p bin\n",
            "nvcc ./main.cpp ./topk.cu -o ./bin/query_doc_scoring_cpu_concurrency_gpu  \\\n",
            "\t-I./ \\\n",
            "\t-L/usr/local/cuda/lib64 -lcudart -lcuda \\\n",
            "\t-std=c++11 \\\n",
            "\t-O3 \\\n",
            "\t-DCPU_CONCURRENCY \\\n",
            "\t-DGPU \\\n",
            "\t-g\n",
            "make: Leaving directory '/content/topk'\n"
          ]
        }
      ]
    },
    {
      "cell_type": "code",
      "source": [
        "!topk/bin/query_doc_scoring_cpu_concurrency_gpu STI2/translate/docs.txt STI2/translate/querys ./cpu_concurency_gpu_res.txt"
      ],
      "metadata": {
        "colab": {
          "base_uri": "https://localhost:8080/"
        },
        "id": "WXKHqEoRa28d",
        "outputId": "b600e426-7f1e-4fc6-91c4-03687008263e"
      },
      "execution_count": null,
      "outputs": [
        {
          "output_type": "stream",
          "name": "stdout",
          "text": [
            "start get topk\n",
            "query1.txt:10, 11, 16, 17, 42, 60, 22524, 22546, 22590, 22784, 23212, 23427, 23485, 23525, 23554, 24129, 24133, 24645, 24804, 24875, 25129, 25242, 25502, 25705, 25994, 26000, 26045, 26046, 26077, 26114, 26247, 26338, 26407, 27263, 27468, 27513, 28100, 40111, 40228, 40388, 41700, 45156, 45946, 46367, 47181, 47460, 47672\n",
            "query2.txt:10, 16, 18, 21, 22, 23, 30, 42, 43, 44, 45, 54, 22497, 22512, 22524, 22533, 22535, 22608, 22624, 22790, 22828, 22836, 22885, 23188, 23381, 23409, 23558, 24103, 24197, 24250, 24496, 24918, 24974, 24987, 25179, 25317, 25827, 25994, 25996, 26009, 26015, 26023, 26030, 26050, 26052, 26082, 26096, 26205, 26247, 27399, 27475, 40029, 40300, 40416, 40504, 40696, 40837, 41166, 41172, 41336, 41407, 41516, 43247, 43309, 44547, 44795, 45101, 48828\n",
            "query3.txt:11, 12, 13, 14, 21, 22, 23, 33, 42, 53, 61, 1380, 1545, 1546, 1557, 1560, 1566, 1569, 1583, 1646, 1759, 1762, 1787, 1794, 1877, 1882, 1892, 2069, 2120, 2146, 2368, 2670, 2888, 3022, 3327, 3335, 22460, 22461, 22462, 22497, 22507, 22512, 22797, 22828, 22885, 23010, 23112, 23337, 23351, 23358, 23441, 23930, 24093, 24301, 24320, 24416, 24771, 25378, 25476, 25846, 25882, 25994, 26692, 26992, 30070, 30085, 30111, 30116, 30188, 30195, 30294, 30332, 30476, 30488, 30656, 30731, 30920, 31021, 31024, 31382, 31493, 31510, 31562, 32167, 32657, 33375, 34247, 35336, 36536, 37502, 37643, 38316, 40228, 40510, 40620, 40785, 40793, 41176, 42143, 42766, 43047, 43895, 45069, 46492, 47956, 48995, 49443\n",
            "query4.txt:11, 18, 30, 32, 60, 1557, 1622, 2279, 22469, 22470, 22497, 22590, 22652, 22921, 22940, 23264, 23441, 24138, 26009, 26038, 26046, 26901, 27654, 30040, 30651, 31928, 32002, 32497, 40074, 40411, 40446, 41107, 46175, 46608\n",
            "query5.txt:11, 18, 35, 50, 54, 60, 22533, 22608, 22624, 22686, 22777, 22782, 23140, 23215, 24212, 25188, 26030, 26054, 26259, 26323, 28175, 40366, 40908, 42041\n",
            "query6.txt:21, 1557, 1559, 1561, 1565, 1568, 2118, 22590, 30489\n",
            "query7.txt:16, 17, 42, 22497, 22524, 22652, 22686, 22735, 22736, 22777, 23489, 23535, 25994, 26013, 26069, 26077, 26114, 26251, 26297, 26628, 26633, 26705, 27123, 27320, 40111, 41533, 42195, 42733, 42837, 46956, 49373\n",
            "query8.txt:16, 18, 21, 22, 30, 35, 42, 1600, 1614, 1707, 1875, 2088, 22459, 22463, 22464, 22466, 22474, 22497, 22502, 22507, 22512, 22529, 22533, 22535, 22590, 22608, 22652, 22684, 22686, 22777, 22795, 22803, 22824, 22828, 22867, 22971, 22972, 23066, 23116, 23150, 23188, 23199, 23289, 23312, 23692, 23760, 23927, 24089, 24136, 24301, 25166, 25359, 25502, 25582, 25994, 26015, 26043, 26086, 26114, 26236, 26251, 26515, 27125, 27276, 28235, 28283, 28297, 32541, 33756, 40210, 40320, 40945, 41092, 41096, 41123, 41245, 41665, 41762, 42525, 42820, 43852, 45045, 45264, 47110, 47491, 47632, 47763, 48145, 49837\n",
            "query9.txt:18, 30, 1388, 1557, 1622, 2279, 22469, 22470, 22535, 22777, 24309, 26007, 26046, 26217, 26530, 27824, 30040, 30651, 31928, 32002, 32497, 40074, 41796, 43144, 44293, 46955, 47628, 48045\n",
            "query_size: 9\n",
            "doc_size: 7853052\n",
            "read file cost 33315 ms \n",
            "hardware concurrency:12\n",
            "split_docs_size:654421\n",
            "\n",
            "cudaMalloc docs cost 47 ms \n",
            "cudaMalloc docs cost 250 ms \n",
            "cudaMalloc docs cost 1 ms \n",
            "cudaMalloc docs cost 1 ms \n",
            "cudaMalloc docs cost 0 ms \n",
            "cudaMalloc docs cost 0 ms \n",
            "cudaMalloc docs cost 1 ms \n",
            "cudaMalloc docs cost 1 ms \n",
            "cudaMalloc docs cost 1 ms \n",
            "cudaMalloc docs cost 1 ms \n",
            "cudaMalloc docs cost 0 ms \n",
            "align group docs cost 1063 ms \n",
            "align group docs cost 1087 ms \n",
            "cudaMemcpy H2D docs cost 44 ms \n",
            "cudaMalloc docs cost 29 ms \n",
            "cudaMemcpy H2D doc_lens cost 2 ms \n",
            "cudaMemcpy H2D query cost 0 ms \n",
            "GPU memory usage: used = 2435.00 MB, free = 38078.56 MB, total = 40513.56 MB\n",
            "docQueryScoringCoalescedMemoryAccessSampleKernel cost 1 ms \n",
            "heap partial_sort cost 1 ms \n",
            "cudaMemcpy H2D query cost 0 ms \n",
            "GPU memory usage: used = 2435.00 MB, free = 38078.56 MB, total = 40513.56 MB\n",
            "docQueryScoringCoalescedMemoryAccessSampleKernel cost 1 ms \n",
            "heap partial_sort cost 1 ms \n",
            "align group docs cost 899 ms \n",
            "align group docs cost 711 ms \n",
            "cudaMemcpy H2D docs cost 70 ms \n",
            "align group docs cost 612 ms \n",
            "align group docs cost 519 ms \n",
            "cudaMemcpy H2D docs cost 71 ms \n",
            "align group docs cost 481 ms \n",
            "align group docs cost 302 ms \n",
            "cudaMemcpy H2D docs cost 76 ms \n",
            "cudaMemcpy H2D doc_lens cost 76 ms \n",
            "cudaMemcpy H2D query cost 0 ms \n",
            "GPU memory usage: used = 2435.00 MB, free = 38078.56 MB, total = 40513.56 MB\n",
            "align group docs cost 408 ms \n",
            "align group docs cost 342 ms \n",
            "align group docs cost 228 ms \n",
            "cudaMemcpy H2D docs cost 84 ms \n",
            "cudaMemcpy H2D doc_lens cost 0 ms \n",
            "cudaMemcpy H2D docs cost 80 ms \n",
            "align group docs cost 196 ms \n",
            "cudaMemcpy H2D docs cost 112 ms \n",
            "cudaMemcpy H2D doc_lens cost 109 ms \n",
            "cudaMemcpy H2D docs cost 206 ms \n",
            "cudaMemcpy H2D doc_lens cost 0 ms \n",
            "cudaMemcpy H2D docs cost 170 ms \n",
            "cudaMemcpy H2D docs cost 205 ms \n",
            "cudaMemcpy H2D docs cost 220 ms \n",
            "cudaMemcpy H2D doc_lens cost 288 ms \n",
            "cudaMemcpy H2D query cost 0 ms \n",
            "GPU memory usage: used = 2435.00 MB, free = 38078.56 MB, total = 40513.56 MB\n",
            "cudaMemcpy H2D docs cost 215 ms \n",
            "cudaMemcpy H2D doc_lens cost 180 ms \n",
            "cudaMemcpy H2D query cost 0 ms \n",
            "GPU memory usage: used = 2435.00 MB, free = 38078.56 MB, total = 40513.56 MB\n",
            "docQueryScoringCoalescedMemoryAccessSampleKernel cost 289 ms \n",
            "cudaMemcpy H2D query cost 0 ms \n",
            "GPU memory usage: used = 2435.00 MB, free = 38078.56 MB, total = 40513.56 MB\n",
            "cudaMemcpy H2D doc_lens cost 109 ms \n",
            "heap partial_sort cost 1 ms \n",
            "cudaMemcpy H2D doc_lens cost 74 ms \n",
            "cudaMemcpy H2D doc_lens cost 219 ms \n",
            "cudaMemcpy H2D query cost 0 ms \n",
            "GPU memory usage: used = 2435.00 MB, free = 38078.56 MB, total = 40513.56 MB\n",
            "docQueryScoringCoalescedMemoryAccessSampleKernel cost 40 ms \n",
            "cudaMemcpy H2D query cost 0 ms \n",
            "GPU memory usage: used = 2435.00 MB, free = 38078.56 MB, total = 40513.56 MB\n",
            "docQueryScoringCoalescedMemoryAccessSampleKernel cost 4 ms \n",
            "heap partial_sort cost 1 ms \n",
            "cudaMemcpy H2D doc_lens cost 42 ms \n",
            "cudaMemcpy H2D query cost 0 ms \n",
            "GPU memory usage: used = 2435.00 MB, free = 38078.56 MB, total = 40513.56 MB\n",
            "cudaMemcpy H2D query cost 0 ms \n",
            "GPU memory usage: used = 2435.00 MB, free = 38078.56 MB, total = 40513.56 MB\n",
            "cudaMemcpy H2D query cost 0 ms \n",
            "GPU memory usage: used = 2435.00 MB, free = 38078.56 MB, total = 40513.56 MB\n",
            "heap partial_sort cost 1 ms \n",
            "docQueryScoringCoalescedMemoryAccessSampleKernel cost 0 ms \n",
            "cudaMemcpy H2D query cost 0 ms \n",
            "GPU memory usage: used = 2435.00 MB, free = 38078.56 MB, total = 40513.56 MB\n",
            "cudaMemcpy H2D doc_lens cost 7 ms \n",
            "cudaMemcpy H2D query cost 0 ms \n",
            "GPU memory usage: used = 2435.00 MB, free = 38078.56 MB, total = 40513.56 MB\n",
            "heap partial_sort cost 1 ms \n",
            "cudaMemcpy H2D query cost 0 ms \n",
            "GPU memory usage: used = 2435.00 MB, free = 38078.56 MB, total = 40513.56 MB\n",
            "docQueryScoringCoalescedMemoryAccessSampleKernel cost 8 ms \n",
            "cudaMemcpy H2D query cost 0 ms \n",
            "GPU memory usage: used = 2435.00 MB, free = 38078.56 MB, total = 40513.56 MB\n",
            "heap partial_sort cost 1 ms \n",
            "docQueryScoringCoalescedMemoryAccessSampleKernel cost 7 ms \n",
            "cudaMemcpy H2D query cost 0 ms \n",
            "GPU memory usage: used = 2435.00 MB, free = 38078.56 MB, total = 40513.56 MB\n",
            "docQueryScoringCoalescedMemoryAccessSampleKernel cost 5 ms \n",
            "heap partial_sort cost 1 ms \n",
            "docQueryScoringCoalescedMemoryAccessSampleKernel cost 7 ms \n",
            "heap partial_sort cost 1 ms \n",
            "docQueryScoringCoalescedMemoryAccessSampleKernel cost 6 ms \n",
            "heap partial_sort cost 1 ms \n",
            "docQueryScoringCoalescedMemoryAccessSampleKernel cost 6 ms \n",
            "cudaMemcpy H2D query cost 0 ms \n",
            "GPU memory usage: used = 2435.00 MB, free = 38078.56 MB, total = 40513.56 MB\n",
            "heap partial_sort cost 1 ms \n",
            "cudaMemcpy H2D query cost 0 ms \n",
            "GPU memory usage: used = 2435.00 MB, free = 38078.56 MB, total = 40513.56 MB\n",
            "heap partial_sort cost 1 ms \n",
            "docQueryScoringCoalescedMemoryAccessSampleKernel cost 1 ms \n",
            "docQueryScoringCoalescedMemoryAccessSampleKernel cost 10 ms \n",
            "heap partial_sort cost 1 ms \n",
            "docQueryScoringCoalescedMemoryAccessSampleKernel cost 7 ms \n",
            "heap partial_sort cost 1 ms \n",
            "docQueryScoringCoalescedMemoryAccessSampleKernel cost 9 ms \n",
            "heap partial_sort cost 1 ms \n",
            "docQueryScoringCoalescedMemoryAccessSampleKernel cost 8 ms \n",
            "heap partial_sort cost 1 ms \n",
            "docQueryScoringCoalescedMemoryAccessSampleKernel cost 4 ms \n",
            "cudaMemcpy H2D query cost 0 ms \n",
            "GPU memory usage: used = 2435.00 MB, free = 38078.56 MB, total = 40513.56 MB\n",
            "cudaMemcpy H2D query cost 0 ms \n",
            "GPU memory usage: used = 2435.00 MB, free = 38078.56 MB, total = 40513.56 MB\n",
            "cudaMemcpy H2D query cost 0 ms \n",
            "GPU memory usage: used = 2435.00 MB, free = 38078.56 MB, total = 40513.56 MB\n",
            "cudaMemcpy H2D query cost 0 ms \n",
            "heap partial_sort cost 1 ms \n",
            "GPU memory usage: used = 2435.00 MB, free = 38078.56 MB, total = 40513.56 MB\n",
            "docQueryScoringCoalescedMemoryAccessSampleKernel cost 0 ms \n",
            "cudaMemcpy H2D query cost 1 ms \n",
            "GPU memory usage: used = 2435.00 MB, free = 38078.56 MB, total = 40513.56 MB\n",
            "heap partial_sort cost 2 ms \n",
            "docQueryScoringCoalescedMemoryAccessSampleKernel cost 2 ms \n",
            "cudaMemcpy H2D query cost 0 ms \n",
            "GPU memory usage: used = 2435.00 MB, free = 38078.56 MB, total = 40513.56 MB\n",
            "cudaMemcpy H2D query cost 0 ms \n",
            "GPU memory usage: used = 2435.00 MB, free = 38078.56 MB, total = 40513.56 MB\n",
            "cudaMemcpy H2D query cost 2 ms \n",
            "GPU memory usage: used = 2435.00 MB, free = 38078.56 MB, total = 40513.56 MB\n",
            "heap partial_sort cost 2 ms \n",
            "cudaMemcpy H2D query cost 0 ms \n",
            "GPU memory usage: used = 2435.00 MB, free = 38078.56 MB, total = 40513.56 MB\n",
            "heap partial_sort cost 1 ms \n",
            "docQueryScoringCoalescedMemoryAccessSampleKernel cost 4 ms \n",
            "cudaMemcpy H2D query cost 2 ms \n",
            "GPU memory usage: used = 2435.00 MB, free = 38078.56 MB, total = 40513.56 MB\n",
            "docQueryScoringCoalescedMemoryAccessSampleKernel cost 3 ms \n",
            "heap partial_sort cost 1 ms \n",
            "docQueryScoringCoalescedMemoryAccessSampleKernel cost 3 ms \n",
            "heap partial_sort cost cudaMemcpy H2D query cost 1 ms \n",
            "0 ms \n",
            "cudaMemcpy H2D query cost 0 ms \n",
            "GPU memory usage: used = 2435.00 MB, free = 38078.56 MB, total = 40513.56 MB\n",
            "GPU memory usage: used = 2435.00 MB, free = 38078.56 MB, total = 40513.56 MB\n",
            "heap partial_sort cost 1 ms \n",
            "docQueryScoringCoalescedMemoryAccessSampleKernel cost 8 ms \n",
            "heap partial_sort cost 1 ms \n",
            "docQueryScoringCoalescedMemoryAccessSampleKernel cost 7 ms \n",
            "docQueryScoringCoalescedMemoryAccessSampleKernel cost 8 ms \n",
            "docQueryScoringCoalescedMemoryAccessSampleKernel cost 7 ms \n",
            "heap partial_sort cost 2 ms \n",
            "docQueryScoringCoalescedMemoryAccessSampleKernel cost 4 ms \n",
            "heap partial_sort cost 1 ms \n",
            "heap partial_sort cost 1 ms \n",
            "docQueryScoringCoalescedMemoryAccessSampleKernel cost 7 ms \n",
            "cudaMemcpy H2D query cost 0 ms \n",
            "cudaMemcpy H2D query cost 3 ms \n",
            "GPU memory usage: used = 2435.00 MB, free = 38078.56 MB, total = 40513.56 MB\n",
            "GPU memory usage: used = 2435.00 MB, free = 38078.56 MB, total = 40513.56 MB\n",
            "cudaMemcpy H2D query cost 0 ms \n",
            "GPU memory usage: used = 2435.00 MB, free = 38078.56 MB, total = 40513.56 MB\n",
            "heap partial_sort cost 1 ms \n",
            "docQueryScoringCoalescedMemoryAccessSampleKernel cost 6 ms \n",
            "cudaMemcpy H2D query cost 0 ms \n",
            "GPU memory usage: used = 2435.00 MB, free = 38078.56 MB, total = 40513.56 MB\n",
            "heap partial_sort cost 1 ms \n",
            "cudaMemcpy H2D query cost 0 ms \n",
            "GPU memory usage: used = 2435.00 MB, free = 38078.56 MB, total = 40513.56 MB\n",
            "cudaMemcpy H2D query cost 0 ms \n",
            "GPU memory usage: used = 2435.00 MB, free = 38078.56 MB, total = 40513.56 MB\n",
            "heap partial_sort cost 1 ms \n",
            "cudaMemcpy H2D query cost 0 ms \n",
            "GPU memory usage: used = 2435.00 MB, free = 38078.56 MB, total = 40513.56 MB\n",
            "docQueryScoringCoalescedMemoryAccessSampleKernel cost 3 ms \n",
            "cudaMemcpy H2D query cost 0 ms \n",
            "GPU memory usage: used = 2435.00 MB, free = 38078.56 MB, total = 40513.56 MB\n",
            "docQueryScoringCoalescedMemoryAccessSampleKernel cost 4 ms \n",
            "heap partial_sort cost 2 ms \n",
            "docQueryScoringCoalescedMemoryAccessSampleKernel cost 5 ms \n",
            "cudaMemcpy H2D query cost 0 ms \n",
            "GPU memory usage: used = 2435.00 MB, free = 38078.56 MB, total = 40513.56 MB\n",
            "heap partial_sort cost 1 ms \n",
            "heap partial_sort cost 1 ms \n",
            "docQueryScoringCoalescedMemoryAccessSampleKernel cost 7 ms \n",
            "heap partial_sort cost 1 ms \n",
            "docQueryScoringCoalescedMemoryAccessSampleKernel cost 6 ms \n",
            "cudaMemcpy H2D query cost 0 ms \n",
            "GPU memory usage: used = 2435.00 MB, free = 38078.56 MB, total = 40513.56 MB\n",
            "docQueryScoringCoalescedMemoryAccessSampleKernel cost 7 ms \n",
            "cudaMemcpy H2D query cost 0 ms \n",
            "GPU memory usage: used = 2435.00 MB, free = 38078.56 MB, total = 40513.56 MB\n",
            "cudaMemcpy H2D query cost 0 ms \n",
            "GPU memory usage: used = 2435.00 MB, free = 38078.56 MB, total = 40513.56 MB\n",
            "heap partial_sort cost 1 ms \n",
            "docQueryScoringCoalescedMemoryAccessSampleKernel cost 7 ms \n",
            "docQueryScoringCoalescedMemoryAccessSampleKernel cost 7 ms \n",
            "heap partial_sort cost 2 ms \n",
            "heap partial_sort cost 1 ms \n",
            "heap partial_sort cost 1 ms \n",
            "docQueryScoringCoalescedMemoryAccessSampleKernel cost 3 ms \n",
            "cudaMemcpy H2D query cost 0 ms \n",
            "cudaMemcpy H2D query cost 0 ms \n",
            "GPU memory usage: used = 2435.00 MB, free = 38078.56 MB, total = 40513.56 MB\n",
            "GPU memory usage: used = 2435.00 MB, free = 38078.56 MB, total = 40513.56 MB\n",
            "cudaMemcpy H2D query cost 0 ms \n",
            "GPU memory usage: used = 2435.00 MB, free = 38078.56 MB, total = 40513.56 MB\n",
            "docQueryScoringCoalescedMemoryAccessSampleKernel cost 5 ms \n",
            "heap partial_sort cost 1 ms \n",
            "docQueryScoringCoalescedMemoryAccessSampleKernel cost 5 ms \n",
            "heap partial_sort cost 1 ms \n",
            "docQueryScoringCoalescedMemoryAccessSampleKernel cost 9 ms \n",
            "cudaMemcpy H2D query cost 0 ms \n",
            "GPU memory usage: used = 2435.00 MB, free = 38078.56 MB, total = 40513.56 MB\n",
            "heap partial_sort cost 1 ms \n",
            "docQueryScoringCoalescedMemoryAccessSampleKernel cost 3 ms \n",
            "cudaMemcpy H2D query cost 0 ms \n",
            "GPU memory usage: used = 2435.00 MB, free = 38078.56 MB, total = 40513.56 MB\n",
            "heap partial_sort cost 1 ms \n",
            "docQueryScoringCoalescedMemoryAccessSampleKernel cost 4 ms \n",
            "cudaMemcpy H2D query cost 0 ms \n",
            "cudaMemcpy H2D query cost 0 ms \n",
            "GPU memory usage: used = 2435.00 MB, free = 38078.56 MB, total = 40513.56 MB\n",
            "GPU memory usage: used = 2435.00 MB, free = 38078.56 MB, total = 40513.56 MB\n",
            "cudaMemcpy H2D query cost 0 ms \n",
            "GPU memory usage: used = 2435.00 MB, free = 38078.56 MB, total = 40513.56 MB\n",
            "docQueryScoringCoalescedMemoryAccessSampleKernel cost 0 ms \n",
            "heap partial_sort cost 2 ms \n",
            "heap partial_sort cost 1 ms \n",
            "heap partial_sort cost 1 ms \n",
            "docQueryScoringCoalescedMemoryAccessSampleKernel cost 4 ms \n",
            "cudaMemcpy H2D query cost 0 ms \n",
            "GPU memory usage: used = 2435.00 MB, free = 38078.56 MB, total = 40513.56 MB\n",
            "heap partial_sort cost 1 ms \n",
            "docQueryScoringCoalescedMemoryAccessSampleKernel cost 7 ms \n",
            "cudaMemcpy H2D query cost 0 ms \n",
            "GPU memory usage: used = 2435.00 MB, free = 38078.56 MB, total = 40513.56 MB\n",
            "docQueryScoringCoalescedMemoryAccessSampleKernel cost 4 ms \n",
            "cudaMemcpy H2D query cost 0 ms \n",
            "GPU memory usage: used = 2435.00 MB, free = 38078.56 MB, total = 40513.56 MB\n",
            "heap partial_sort cost 1 ms \n",
            "docQueryScoringCoalescedMemoryAccessSampleKernel cost 0 ms \n",
            "heap partial_sort cost 1 ms \n",
            "docQueryScoringCoalescedMemoryAccessSampleKernel cost 5 ms \n",
            "heap partial_sort cost 1 ms \n",
            "docQueryScoringCoalescedMemoryAccessSampleKernel cost 4 ms \n",
            "cudaMemcpy H2D query cost 3 ms \n",
            "GPU memory usage: used = 2435.00 MB, free = 38078.56 MB, total = 40513.56 MB\n",
            "docQueryScoringCoalescedMemoryAccessSampleKernel cost 3 ms \n",
            "heap partial_sort cost 1 ms \n",
            "cudaMemcpy H2D query cost 0 ms \n",
            "GPU memory usage: used = 2435.00 MB, free = 38078.56 MB, total = 40513.56 MB\n",
            "cudaMemcpy H2D query cost 0 ms \n",
            "GPU memory usage: used = 2435.00 MB, free = 38078.56 MB, total = 40513.56 MB\n",
            "heap partial_sort cost 2 ms \n",
            "cudaMemcpy H2D query cost 0 ms \n",
            "GPU memory usage: used = 2435.00 MB, free = 38078.56 MB, total = 40513.56 MB\n",
            "cudaMemcpy H2D query cost 0 ms \n",
            "GPU memory usage: used = 2435.00 MB, free = 38078.56 MB, total = 40513.56 MB\n",
            "heap partial_sort cost 1 ms \n",
            "docQueryScoringCoalescedMemoryAccessSampleKernel cost 10 ms \n",
            "docQueryScoringCoalescedMemoryAccessSampleKernel cost 2 ms \n",
            "heap partial_sort cost 1 ms \n",
            "docQueryScoringCoalescedMemoryAccessSampleKernel cost 2 ms \n",
            "cudaMemcpy H2D query cost 0 ms \n",
            "GPU memory usage: used = 2435.00 MB, free = 38078.56 MB, total = 40513.56 MB\n",
            "cudaMemcpy H2D query cost 0 ms \n",
            "GPU memory usage: used = 2435.00 MB, free = 38078.56 MB, total = 40513.56 MB\n",
            "heap partial_sort cost 1 ms \n",
            "cudaMemcpy H2D query cost 0 ms \n",
            "GPU memory usage: used = 2435.00 MB, free = 38078.56 MB, total = 40513.56 MB\n",
            "cudaMemcpy H2D query cost 0 ms \n",
            "GPU memory usage: used = 2435.00 MB, free = 38078.56 MB, total = 40513.56 MB\n",
            "docQueryScoringCoalescedMemoryAccessSampleKernel cost 4 ms \n",
            "cudaMemcpy H2D query cost 1 ms \n",
            "GPU memory usage: used = 2435.00 MB, free = 38078.56 MB, total = 40513.56 MB\n",
            "heap partial_sort cost 1 ms \n",
            "docQueryScoringCoalescedMemoryAccessSampleKernel cost 5 ms \n",
            "cudaMemcpy H2D query cost 0 ms \n",
            "GPU memory usage: used = 2435.00 MB, free = 38078.56 MB, total = 40513.56 MB\n",
            "heap partial_sort cost 1 ms \n",
            "docQueryScoringCoalescedMemoryAccessSampleKernel cost 2 ms \n",
            "heap partial_sort cost 1 ms \n",
            "docQueryScoringCoalescedMemoryAccessSampleKernel cost 3 ms \n",
            "heap partial_sort cost 1 ms \n",
            "cudaMemcpy H2D query cost 0 ms \n",
            "GPU memory usage: used = 2435.00 MB, free = 38078.56 MB, total = 40513.56 MB\n",
            "docQueryScoringCoalescedMemoryAccessSampleKernel cost 3 ms \n",
            "cudaMemcpy H2D query cost 0 ms \n",
            "GPU memory usage: used = 2435.00 MB, free = 38078.56 MB, total = 40513.56 MB\n",
            "heap partial_sort cost 2 ms \n",
            "docQueryScoringCoalescedMemoryAccessSampleKernel cost 5 ms \n",
            "heap partial_sort cost 1 ms \n",
            "docQueryScoringCoalescedMemoryAccessSampleKernel cost 5 ms \n",
            "cudaMemcpy H2D query cost 0 ms \n",
            "GPU memory usage: used = 2435.00 MB, free = 38078.56 MB, total = 40513.56 MB\n",
            "heap partial_sort cost 1 ms \n",
            "heap partial_sort cost 1 ms \n",
            "docQueryScoringCoalescedMemoryAccessSampleKernel cost 3 ms \n",
            "docQueryScoringCoalescedMemoryAccessSampleKernel cost 3 ms \n",
            "cudaMemcpy H2D query cost 1 ms \n",
            "GPU memory usage: used = 2435.00 MB, free = 38078.56 MB, total = 40513.56 MB\n",
            "heap partial_sort cost 1 ms \n",
            "docQueryScoringCoalescedMemoryAccessSampleKernel cost 13 ms \n",
            "docQueryScoringCoalescedMemoryAccessSampleKernel cost 3 ms \n",
            "heap partial_sort cost 1 ms \n",
            "heap partial_sort cost 1 ms \n",
            "docQueryScoringCoalescedMemoryAccessSampleKernel cost 10 ms \n",
            "cudaMemcpy H2D query cost 0 ms \n",
            "GPU memory usage: used = 2435.00 MB, free = 38078.56 MB, total = 40513.56 MB\n",
            "cudaMemcpy H2D query cost 0 ms \n",
            "GPU memory usage: used = 2435.00 MB, free = 38078.56 MB, total = 40513.56 MB\n",
            "heap partial_sort cost 1 ms \n",
            "heap partial_sort cost 1 ms \n",
            "docQueryScoringCoalescedMemoryAccessSampleKernel cost 0 ms \n",
            "cudaMemcpy H2D query cost 0 ms \n",
            "GPU memory usage: used = 2435.00 MB, free = 38078.56 MB, total = 40513.56 MB\n",
            "cudaMemcpy H2D query cost 0 ms \n",
            "GPU memory usage: used = 2435.00 MB, free = 38078.56 MB, total = 40513.56 MB\n",
            "docQueryScoringCoalescedMemoryAccessSampleKernel cost 2 ms \n",
            "cudaMemcpy H2D query cost 1 ms \n",
            "cudaMemcpy H2D query cost 1 ms \n",
            "GPU memory usage: used = 2435.00 MB, free = 38078.56 MB, total = 40513.56 MB\n",
            "GPU memory usage: used = 2435.00 MB, free = 38078.56 MB, total = 40513.56 MB\n",
            "heap partial_sort cost 1 ms \n",
            "docQueryScoringCoalescedMemoryAccessSampleKernel cost 4 ms \n",
            "heap partial_sort cost 1 ms \n",
            "docQueryScoringCoalescedMemoryAccessSampleKernel cost 3 ms \n",
            "heap partial_sort cost 1 ms \n",
            "docQueryScoringCoalescedMemoryAccessSampleKernel cost 3 ms \n",
            "cudaMemcpy H2D query cost 0 ms \n",
            "GPU memory usage: used = 2267.00 MB, free = 38246.56 MB, total = 40513.56 MB\n",
            "heap partial_sort cost 1 ms \n",
            "docQueryScoringCoalescedMemoryAccessSampleKernel cost 5 ms \n",
            "heap partial_sort cost 1 ms \n",
            "docQueryScoringCoalescedMemoryAccessSampleKernel cost 4 ms \n",
            "cudaMemcpy H2D query cost 0 ms \n",
            "GPU memory usage: used = 2267.00 MB, free = 38246.56 MB, total = 40513.56 MB\n",
            "cudaMemcpy H2D query cost 0 ms \n",
            "GPU memory usage: used = 2267.00 MB, free = 38246.56 MB, total = 40513.56 MB\n",
            "cudaMemcpy H2D query cost 1 ms \n",
            "GPU memory usage: used = 2267.00 MB, free = 38246.56 MB, total = 40513.56 MB\n",
            "heap partial_sort cost 1 ms \n",
            "docQueryScoringCoalescedMemoryAccessSampleKernel cost 2 ms \n",
            "heap partial_sort cost 1 ms \n",
            "cudaMemcpy H2D query cost 1 ms \n",
            "GPU memory usage: used = 2267.00 MB, free = 38246.56 MB, total = 40513.56 MB\n",
            "docQueryScoringCoalescedMemoryAccessSampleKernel cost 1 ms \n",
            "cudaMemcpy H2D query cost 0 ms \n",
            "GPU memory usage: used = 2267.00 MB, free = 38246.56 MB, total = 40513.56 MB\n",
            "cudaMemcpy H2D query cost 0 ms \n",
            "GPU memory usage: used = 2267.00 MB, free = 38246.56 MB, total = 40513.56 MB\n",
            "heap partial_sort cost 1 ms \n",
            "cudaMemcpy H2D query cost 0 ms \n",
            "GPU memory usage: used = 2267.00 MB, free = 38246.56 MB, total = 40513.56 MB\n",
            "heap partial_sort cost 1 ms \n",
            "docQueryScoringCoalescedMemoryAccessSampleKernel cost 1 ms \n",
            "docQueryScoringCoalescedMemoryAccessSampleKernel cost 4 ms \n",
            "cudaMemcpy H2D query cost 0 ms \n",
            "GPU memory usage: used = 2267.00 MB, free = 38246.56 MB, total = 40513.56 MB\n",
            "heap partial_sort cost 1 ms \n",
            "docQueryScoringCoalescedMemoryAccessSampleKernel cost 2 ms \n",
            "heap partial_sort cost 1 ms \n",
            "docQueryScoringCoalescedMemoryAccessSampleKernel cost 4 ms \n",
            "cudaMemcpy H2D query cost 0 ms \n",
            "GPU memory usage: used = 2267.00 MB, free = 38246.56 MB, total = 40513.56 MB\n",
            "heap partial_sort cost 1 ms \n",
            "cudaMemcpy H2D query cost 0 ms \n",
            "GPU memory usage: used = 2267.00 MB, free = 38246.56 MB, total = 40513.56 MB\n",
            "docQueryScoringCoalescedMemoryAccessSampleKernel cost 7 ms \n",
            "cudaMemcpy H2D query cost 0 ms \n",
            "GPU memory usage: used = 2267.00 MB, free = 38246.56 MB, total = 40513.56 MB\n",
            "heap partial_sort cost 1 ms \n",
            "docQueryScoringCoalescedMemoryAccessSampleKernel cost 2 ms \n",
            "heap partial_sort cost 1 ms \n",
            "docQueryScoringCoalescedMemoryAccessSampleKernel cost 5 ms \n",
            "cudaMemcpy H2D query cost 3 ms \n",
            "GPU memory usage: used = 2267.00 MB, free = 38246.56 MB, total = 40513.56 MB\n",
            "heap partial_sort cost 2 ms \n",
            "docQueryScoringCoalescedMemoryAccessSampleKernel cost 3 ms \n",
            "cudaMemcpy H2D query cost 0 ms \n",
            "GPU memory usage: used = 2267.00 MB, free = 38246.56 MB, total = 40513.56 MB\n",
            "heap partial_sort cost 1 ms \n",
            "docQueryScoringCoalescedMemoryAccessSampleKernel cost 5 ms \n",
            "cudaMemcpy H2D query cost 2 ms \n",
            "GPU memory usage: used = 2267.00 MB, free = 38246.56 MB, total = 40513.56 MB\n",
            "cudaMemcpy H2D query cost 0 ms \n",
            "GPU memory usage: used = 2267.00 MB, free = 38246.56 MB, total = 40513.56 MB\n",
            "heap partial_sort cost 1 ms \n",
            "docQueryScoringCoalescedMemoryAccessSampleKernel cost 9 ms \n",
            "heap partial_sort cost 1 ms \n",
            "docQueryScoringCoalescedMemoryAccessSampleKernel cost 3 ms \n",
            "cudaMemcpy H2D query cost 0 ms \n",
            "GPU memory usage: used = 2267.00 MB, free = 38246.56 MB, total = 40513.56 MB\n",
            "heap partial_sort cost 2 ms \n",
            "docQueryScoringCoalescedMemoryAccessSampleKernel cost 2 ms \n",
            "heap partial_sort cost 1 ms \n",
            "cudaMemcpy H2D query cost 2 ms \n",
            "GPU memory usage: used = 2267.00 MB, free = 38246.56 MB, total = 40513.56 MB\n",
            "cudaMemcpy H2D query cost 0 ms \n",
            "GPU memory usage: used = 2267.00 MB, free = 38246.56 MB, total = 40513.56 MB\n",
            "heap partial_sort cost 1 ms \n",
            "docQueryScoringCoalescedMemoryAccessSampleKernel cost 1 ms \n",
            "docQueryScoringCoalescedMemoryAccessSampleKernel cost 6 ms \n",
            "heap partial_sort cost 1 ms \n",
            "docQueryScoringCoalescedMemoryAccessSampleKernel cost 4 ms \n",
            "cudaMemcpy H2D query cost 2 ms \n",
            "GPU memory usage: used = 2267.00 MB, free = 38246.56 MB, total = 40513.56 MB\n",
            "heap partial_sort cost 1 ms \n",
            "docQueryScoringCoalescedMemoryAccessSampleKernel cost 6 ms \n",
            "cudaMemcpy H2D query cost 0 ms \n",
            "GPU memory usage: used = 2267.00 MB, free = 38246.56 MB, total = 40513.56 MB\n",
            "heap partial_sort cost 1 ms \n",
            "heap partial_sort cost 1 ms \n",
            "docQueryScoringCoalescedMemoryAccessSampleKernel cost 3 ms \n",
            "heap partial_sort cost 1 ms \n",
            "docQueryScoringCoalescedMemoryAccessSampleKernel cost 3 ms \n",
            "cudaMemcpy H2D query cost 0 ms \n",
            "GPU memory usage: used = 2267.00 MB, free = 38246.56 MB, total = 40513.56 MB\n",
            "cudaMemcpy H2D query cost 0 ms \n",
            "GPU memory usage: used = 2267.00 MB, free = 38246.56 MB, total = 40513.56 MB\n",
            "cudaMemcpy H2D query cost 0 ms \n",
            "GPU memory usage: used = 2267.00 MB, free = 38246.56 MB, total = 40513.56 MB\n",
            "cudaMemcpy H2D query cost 0 ms \n",
            "GPU memory usage: used = 2267.00 MB, free = 38246.56 MB, total = 40513.56 MB\n",
            "cudaMemcpy H2D query cost 0 ms \n",
            "cudaMemcpy H2D query cost 2 ms \n",
            "GPU memory usage: used = 2267.00 MB, free = 38246.56 MB, total = 40513.56 MB\n",
            "GPU memory usage: used = 2267.00 MB, free = 38246.56 MB, total = 40513.56 MB\n",
            "docQueryScoringCoalescedMemoryAccessSampleKernel cost 1 ms \n",
            "heap partial_sort cost 2 ms \n",
            "docQueryScoringCoalescedMemoryAccessSampleKernel cost 2 ms \n",
            "heap partial_sort cost 1 ms \n",
            "cudaMemcpy H2D query cost 0 ms \n",
            "GPU memory usage: used = 2267.00 MB, free = 38246.56 MB, total = 40513.56 MB\n",
            "heap partial_sort cost 1 ms \n",
            "docQueryScoringCoalescedMemoryAccessSampleKernel cost 3 ms \n",
            "cudaMemcpy H2D query cost 0 ms \n",
            "GPU memory usage: used = 2267.00 MB, free = 38246.56 MB, total = 40513.56 MB\n",
            "docQueryScoringCoalescedMemoryAccessSampleKernel cost 4 ms \n",
            "heap partial_sort cost 1 ms \n",
            "docQueryScoringCoalescedMemoryAccessSampleKernel cost 5 ms \n",
            "docQueryScoringCoalescedMemoryAccessSampleKernel cost 8 ms \n",
            "heap partial_sort cost 1 ms \n",
            "heap partial_sort cost 2 ms \n",
            "heap partial_sort cost 1 ms \n",
            "cudaMemcpy H2D query cost 0 ms \n",
            "cudaMemcpy H2D query cost 0 ms \n",
            "GPU memory usage: used = 2099.00 MB, free = 38414.56 MB, total = 40513.56 MB\n",
            "GPU memory usage: used = 2099.00 MB, free = 38414.56 MB, total = 40513.56 MB\n",
            "cudaMemcpy H2D query cost 0 ms \n",
            "GPU memory usage: used = 1931.00 MB, free = 38582.56 MB, total = 40513.56 MB\n",
            "docQueryScoringCoalescedMemoryAccessSampleKernel cost 19 ms \n",
            "heap partial_sort cost 1 ms \n",
            "docQueryScoringCoalescedMemoryAccessSampleKernel cost 25 ms \n",
            "docQueryScoringCoalescedMemoryAccessSampleKernel cost 21 ms \n",
            "docQueryScoringCoalescedMemoryAccessSampleKernel cost 22 ms \n",
            "heap partial_sort cost 1 ms \n",
            "docQueryScoringCoalescedMemoryAccessSampleKernel cost 29 ms \n",
            "heap partial_sort cost 1 ms \n",
            "heap partial_sort cost 1 ms \n",
            "heap partial_sort cost 1 ms \n",
            "cudaMemcpy H2D query cost 0 ms \n",
            "GPU memory usage: used = 1595.00 MB, free = 38918.56 MB, total = 40513.56 MB\n",
            "cudaMemcpy H2D query cost 0 ms \n",
            "GPU memory usage: used = 1595.00 MB, free = 38918.56 MB, total = 40513.56 MB\n",
            "docQueryScoringCoalescedMemoryAccessSampleKernel cost 44 ms \n",
            "docQueryScoringCoalescedMemoryAccessSampleKernel cost 22 ms \n",
            "heap partial_sort cost 1 ms \n",
            "heap partial_sort cost 1 ms \n",
            "docQueryScoringCoalescedMemoryAccessSampleKernel cost 64 ms \n",
            "heap partial_sort cost 1 ms \n",
            "after merge,doc_ids: 531476 599214 363681 636071 642730 522279 648292 544230 607975 614542 624740 638841 643428 644220 648003 652316 653904 206752 281084 372176 388720 405416 438582 438732 442529 446282 463688 473001 480122 480993 481570 482509 483747 488205 490678 491518 493539 495116 498532 499934 500069 503220 506487 509114 511383 516219 520619 527261 532136 540288 542767 549485 550910 552391 552730 557409 558239 565319 565557 565560 567539 570328 570871 572132 574935 576090 577996 580795 581078 581834 587314 588081 591883 593268 598905 600433 605186 606838 607162 607279 607662 609535 610612 612006 613756 614053 614457 614856 615041 615905 616162 616767 617003 617857 618098 618644 619649 624532 625241 625463 1134806 1304950 1291579 1228604 1263466 1253862 1169835 1243297 1275888 1287074 1297119 1299475 1304748 1032542 1167351 1171794 1199574 1213785 1256885 1289510 960925 1055659 1132800 1133658 1136716 1137300 1158527 1164075 1175144 1177353 1203138 1205315 1239536 1244956 1252163 1298073 1303405 952902 1034946 1037883 1066114 1089020 1136247 1150639 1179830 1191861 1194938 1220219 1228017 1257820 1261106 1265694 1278820 1297490 916110 954245 975217 1094621 1105698 1159572 1167297 1244719 1260782 1268922 1270067 1274772 1292405 1300033 1301535 1302710 1302840 1305402 667731 839206 900804 903075 979424 981630 1007831 1022187 1030367 1086100 1090324 1095290 1095495 1129367 1147687 1163114 1164205 1186597 1187366 1201221 1203391 1209643 1214580 1225540 1231145 1245599 1273754 1277386 1960823 1917947 1760981 1855263 1869531 1877846 1885219 1896166 1950185 1776753 1811788 1848411 1901590 1709996 1754639 1844734 1706744 1759061 1956654 1462218 1816978 1897084 1897296 1902180 1925148 1933929 1952948 1958058 1470785 1489786 1514720 1526864 1549228 1566682 1600179 1621674 1630871 1707328 1791348 1849481 1849796 1851029 1876329 1877910 1880622 1885075 1910491 1916387 1936828 1947441 1463276 1539566 1580542 1592236 1616284 1627080 1633135 1644939 1649945 1677098 1712910 1790511 1796054 1815333 1820049 1853361 1881326 1956947 1513572 1568911 1576776 1594933 1703610 1751907 1760510 1785010 1803623 1830489 1834984 1846111 1853009 1879829 1881560 1885586 1904152 1943793 1944129 1950266 1952515 1961844 1962423 1606434 1681374 1777033 1833149 1875294 1894519 1909308 1941168 1945757 2095355 2104387 2118767 2147776 2055923 2206974 2238603 2020057 2267746 2220291 2151279 2154228 2001825 2005314 2029722 2054064 2098358 2099815 2287637 2300031 2158918 2167292 2177721 2177855 1981772 2196213 2520566 2017068 2028496 2083981 2323778 2247926 2282000 2202772 2227479 2236897 2186351 2486485 2150430 2381725 2028110 2079765 2119578 2126999 2306247 2315934 2026760 2042826 2073036 2217999 2224835 1987029 2091827 2093706 2284846 2151301 2328000 2351661 2081563 2597490 2011063 2077727 2362721 2193430 2236145 1975060 1984389 1984524 1987018 2013793 2034453 2070402 2075630 2080230 2133884 2236254 2145939 2153839 2176756 2179047 2003684 2012079 2029963 2082627 2120974 2267485 2272226 1980819 2020848 2077818 2204817 2215133 2315805 2338418 1979569 2015777 2447956 2148326 1969820 1988346 2737847 2714568 2722061 2677453 2744177 2620256 2718107 2719222 2726602 2643267 2863615 2872440 2885590 2621748 2649733 2812023 2978589 2982484 2656809 2869923 3083320 3088228 3112808 3145957 2794322 2830730 2623105 2633164 3270585 2686215 2907615 2928148 2953969 2954844 2730490 2751488 2758892 2759406 3234403 2978496 3012404 3026032 2648349 3100951 2839014 2884040 2898326 2661402 3172202 2915278 2920681 2933557 2952393 2733656 2744588 2746439 3196954 2987080 3011927 2807940 2809599 2812425 2825414 2619142 2626494 2644127 3066771 3105025 2845402 2880350 2654107 2666257 2667712 2710706 2908123 3200860 3214363 3214602 2754180 2986345 2991274 3031132 2782182 3072122 2621320 2649201 2650182 2841118 2858196 2883016 3132043 3148648 3152920 3158034 2681788 2945347 3190251 2748280 2994108 3003786 3325480 3453814 3290094 3701624 3923558 3597634 3341794 3675568 3752754 3488829 3306664 3867828 3337588 3395092 3461942 3347368 3366881 3388275 3402591 3705365 3483096 3516710 3550559 3896143 3921471 3273044 3289408 3583928 3597579 3603844 3647708 3338097 3720468 3420410 3820040 3821987 3868512 3903682 3523079 3603370 3641625 3274362 3274965 3279529 3292015 3307539 3309853 3320905 3688185 3689126 3728809 3360612 3376891 3395699 3404201 3408926 3788320 3789447 3849225 3453751 3566092 3570549 3597592 3610484 3610833 3619553 3625286 3288177 3314126 3687431 3696732 3757241 3361078 3373260 3379816 3387211 3411129 3787102 3813521 3835216 3836939 3425886 3431320 3438307 3866835 3869362 3878370 3882053 3884575 3886358 3892472 3923349 3924603 3500544 3512798 3512897 3513662 3570834 3575076 3581493 4149848 4239570 4090062 4524086 4090058 4147313 4203406 3985490 4162423 4249125 4306704 4053048 4071745 4130521 4568146 4242800 4270115 4301657 4372631 4399675 4005595 4131767 4138120 4138365 4231513 4271876 4368940 4402798 3950714 4181815 4209488 4248870 4281511 4290129 4344339 4348543 4348924 4431458 4446659 4450304 4454972 4467010 4474444 4547668 4112915 4142101 4153973 4177289 4205217 4233061 4234806 4297252 4305221 4312099 4320374 4331613 4336383 4349129 4384758 4398400 4398708 4401482 4418800 3933750 3965620 4011379 4026043 4039963 4073290 4073373 4084916 4088519 4089079 4110313 4165118 4184472 4194413 4213826 4216001 4218844 4219616 4252523 4254074 4269707 4274187 4310095 4310673 4311022 4327194 4343279 4347232 4363164 4384541 3936746 4431345 4435888 4436870 4437020 4466383 4505793 4633436 4711997 5150758 4746032 5018652 4605580 4603810 4968891 4971135 4980179 5050198 5081054 5165483 5220842 4648882 4656732 5004192 5043922 5049670 4597619 4609304 4632118 4669951 4688317 4735686 4766937 4774971 4841438 4857901 4889827 4902639 5034987 5067576 5181328 4597601 4653393 4689968 4719611 4731437 4748760 4754022 4783697 4787945 4821497 4821973 4838710 4844695 4862972 4871024 4902358 4904772 4958080 4983572 4988725 5017053 5047449 5082213 5087874 5141269 5144236 5152958 5196501 5199783 5230250 4591619 4602144 4629010 4629271 4635048 4635244 4639326 4640216 4654854 4656225 4680947 4741140 4744760 4774084 4777061 4785346 4800215 4801763 4809187 4816135 4818758 4819062 4825512 4830569 4831796 4837917 4861008 4864335 4864893 4870502 4887199 4887216 4921813 4941301 4954712 4967105 5592931 5765239 5321988 5827763 5596097 5876934 5623705 5248567 5266245 5306701 5710991 5354325 5563698 5248314 5271134 5273158 5305561 5367681 5460905 5529412 5570202 5605401 5665505 5253241 5261591 5271163 5281466 5282875 5300336 5312618 5332242 5360987 5370445 5384265 5384358 5388720 5414615 5430640 5464563 5503934 5572602 5659167 5661580 5662126 5688246 5706481 5792512 5813708 5816385 5239345 5254165 5260243 5272046 5287747 5299816 5303036 5304900 5306939 5309858 5334231 5360262 5378656 5414975 5438910 5461379 5465792 5470400 5474796 5487369 5497503 5505820 5506000 5510626 5528260 5546481 5569875 5583648 5585439 5586905 5589672 5601476 5612265 5629608 5630874 5630880 5647031 5648676 5655000 5677216 5680231 5710925 5713731 5734452 5792957 5811789 5829599 5834703 5849753 5881358 5239543 5921185 6477915 6481818 6008604 6491553 6284691 6340457 6507208 6414711 5991840 6518879 6036939 6210420 6369770 6376228 6085478 6373316 5990342 6014840 6240830 6404518 6014168 6058333 6058703 6354445 6240967 5935911 6063231 6130373 6137302 6144275 6178756 6208977 6244634 6304831 6391873 6395827 6401465 6425209 6455833 6486931 6515368 5893313 5910622 6006517 6110098 6130521 6130933 6132412 6157601 6233827 6294145 6294213 6332252 6339882 6377852 6411056 6448318 6491939 6499730 6501869 6502014 6513220 5912662 5919260 5959353 5963844 5965392 5996456 6010794 6024814 6029721 6038416 6044122 6045765 6055614 6095072 6105748 6124203 6155210 6157786 6174590 6186033 6186586 6188316 6190293 6190661 6197735 6200468 6201506 6215059 6224585 6243976 6244192 6264314 6271624 6285829 6286470 6290581 6303700 6934542 6636425 6729603 6829374 6835865 6862563 6892256 6906519 7001305 7023048 6562177 7097365 7101300 7117877 7124545 7142038 6658268 6711817 6775534 7156213 7170840 6793704 6810614 6875450 6933708 6957251 7003348 7010006 7021926 6570399 6587461 7042986 7081932 6656498 6816979 6822946 6831878 6893114 6897276 6970997 6601401 6670752 6703920 7155925 7165986 6785832 6823113 6839111 6855918 6894824 6906163 6959714 7002625 7032737 6559810 7052926 7094535 7095529 7099455 7109795 7116472 7136213 7136703 6682856 6772502 7156009 7179923 6796956 6851535 6975142 7144539 7153079 7198516 6723522 7130121 6600376 6629612 7176804 7178247 7195411 6764023 7054120 7151510 6628230 7186898 6686150 6916555 6939322 6994520 7064254 6571814 6601629 6605424 6609721 6671758 6696101 6709000 6770571 6778406 6788528 7254790 7239540 7313695 7416111 7245569 7556759 7411538 7214826 7216387 7230605 7521396 7265830 7317080 7319253 7366106 7442006 7221953 7563401 7576952 7579304 7300025 7366995 7374923 7410213 7440358 7684783 7462000 7475355 7502958 7506349 7593031 7620382 7303057 7347135 7666802 7360274 7703077 7722643 7492736 7550174 7564113 7231264 7281012 7495197 7764999 7779648 7588468 7592436 7269251 7322239 7786613 7662359 7431370 7703641 7749078 7575032 7781169 7653447 7362237 7441752 7726840 7533251 7579242 7766814 7779303 7246589 7585696 7626741 7789640 7263232 7265377 7320624 7337050 7355304 7656356 7364269 7382268 7702161 7741370 7762096 7519836 7534518 7553127 7627513 7212923 7223847 7649872 7265086 7273540 7279038 7293710 7296090 7299879 7301671 7305784 7698667 7722482 7381165 7391538 7406339 \n",
            "581786 615414 620718 625848 638610 392337 414632 461139 479688 499945 530716 536457 542328 552102 554813 558869 565634 566728 579500 584672 591728 592237 597051 608489 608628 609052 616393 617071 622678 629253 631154 632142 633731 639040 640453 640607 648473 649255 650442 653115 653712 404043 434697 440499 441542 464620 469106 471352 488687 489619 497291 505580 509873 511862 521684 523923 524790 524926 527404 528699 531736 532884 533877 535850 537808 544428 544887 548811 556630 558759 558819 563877 564167 564871 566257 566393 566507 566778 569133 569459 569506 571873 572492 573660 575226 576225 576345 577881 580313 580481 581032 581800 582018 583682 584054 584845 585544 586297 586758 587238 1279914 1225231 1277630 1292979 1297412 1306259 1223570 1232783 1299926 883696 1019238 1065389 1093512 1137655 1173622 1176214 1189753 1193451 1205619 1210068 1243610 1248810 1278365 1279957 1279972 1280908 1291686 1299722 1306565 1038227 1040994 1066088 1090925 1109145 1114321 1145831 1153198 1156623 1157575 1161631 1166161 1167549 1171750 1188800 1189269 1197607 1199498 1206571 1222823 1238822 1239490 1241816 1244701 1252700 1252703 1254119 1257959 1258478 1260207 1262001 1275482 1276139 1290453 1297607 1301654 1303114 1303208 1306831 1308588 1308622 876512 884626 911644 939504 965522 965807 996076 1009263 1032153 1037127 1038214 1054941 1056828 1060604 1077220 1078760 1080691 1080775 1080943 1083119 1087856 1087872 1092009 1092731 1094316 1098229 1106029 1106286 1108552 1111175 1839330 1537621 1634843 1641706 1818927 1927136 1589764 1751264 1764162 1843663 1854347 1880791 1953902 1426890 1457156 1457744 1545182 1550390 1589683 1668550 1679310 1842149 1860771 1882456 1894868 1392816 1461328 1476641 1580484 1631218 1697841 1763609 1765125 1789626 1822403 1898099 1901903 1914059 1927070 1939192 1939232 1950407 1952327 1954339 1954499 1955190 1957518 1322727 1406267 1409003 1417256 1433634 1518641 1528674 1540797 1611168 1623900 1630067 1645262 1715166 1723502 1727445 1741130 1757259 1758700 1765120 1777486 1778093 1788435 1797086 1797539 1803379 1827859 1835237 1838629 1839756 1849668 1857303 1860153 1894376 1894595 1904192 1905823 1921438 1937563 1937846 1941113 1949360 1342691 1437369 1458087 1516240 1516474 1519788 1552612 1581767 1587937 1631370 1657765 1660634 2491259 2374643 2403142 2575906 2228660 1991883 2204093 2322853 2002676 2117123 2131561 2164206 2208203 2280642 2304663 2332767 2517573 2602224 2606030 2072741 2086495 2109155 2195300 2235519 2366892 2461237 2462367 2480904 2499288 2500215 2568964 2581584 2599319 2607232 2609868 2003605 2072922 2156200 2265754 2269418 2285088 2291792 2321251 2383143 2388945 2389196 2405363 2411135 2436449 2479168 2503062 2514172 2528094 2534743 2548979 2557811 2574983 2591071 2605620 2614621 2050437 2096684 2129222 2133872 2187779 2203589 2217578 2262984 2275075 2303302 2330979 2338793 2357295 2361792 2426969 2427673 2435358 2440220 2448523 2459649 2462372 2465720 2476908 2482467 2490499 2497364 2504658 2517147 2518492 2530267 2534957 2536236 2548082 2553217 2554258 2560890 2572187 2574380 2580223 2587875 3229654 3110584 3160212 3212061 3223714 3242875 2729851 2934266 3163915 3135869 2828732 3033866 3179151 2661022 2672853 2738909 2762270 2792939 3012444 3029707 3039967 3092642 3114822 3137181 3156462 3166063 3179837 3184917 3193891 3260672 3267041 3267993 2701924 2741081 2751259 2786417 2817639 2840678 2898424 2905066 2952743 2976417 2982729 2983678 2996995 3039514 3046269 3054359 3054977 3061002 3064721 3065314 3070200 3076942 3089088 3090094 3092646 3092885 3105881 3112059 3130047 3132040 3136359 3137780 3140439 3144177 3154260 3161810 3174760 3181196 3184201 3187343 3194674 3202123 3212064 3217253 3244785 3268818 2635663 2640243 2684505 2684799 2688827 2699970 2715374 2721688 2731188 2762919 2781581 2784590 2803687 2838212 2887335 2891687 2898430 2899976 2902213 2903325 2912932 2913919 3354548 3584604 3385811 3457483 3732526 3320427 3340108 3743142 3631235 3648390 3657624 3516117 3557359 3405025 3570449 3602105 3273973 3307943 3769564 3806523 3629929 3651887 3305058 3355769 3503322 3350236 3546639 3574824 3587218 3601233 3668228 3273208 3279884 3366688 3394555 3768327 3515312 3859022 3596686 3605208 3644977 3647798 3648284 3868121 3875989 3898614 3912700 3303329 3306999 3307107 3318855 3318970 3326744 3332076 3341328 3345636 3355421 3390407 3411697 3415147 3416957 3437115 3450767 3453306 3475241 3491401 3492897 3693985 3699035 3728816 3741552 3747715 3497729 3503325 3520522 3522571 3539326 3544654 3550408 3570987 3777334 3790944 3800209 3812123 3586410 3588633 3590850 3592192 3605798 3607050 3620369 3624552 3626355 3630272 3640705 3648783 3649667 3654571 3655510 3659217 3957807 3992214 3989624 4006619 4131144 4193955 4227290 4052232 4156166 3947820 3958906 4252426 4280659 4559634 3986874 4096548 4155549 4449242 3948894 3949823 3954631 4280847 4579256 3995333 4009057 4032408 4042410 4063168 4065776 4074847 4379209 4097486 4119839 4138897 4166438 4173420 4175281 4176756 4184846 4457244 4462240 4474521 4499388 4510322 3928211 3940651 3942101 3945314 3960512 3961289 3964017 3967752 3969219 4193260 4293564 4578447 3981784 3987448 3995488 4001535 4004082 4004115 4004322 4014368 4026041 4026236 4034315 4037619 4046518 4053552 4056577 4058297 4061482 4062168 4075333 4329629 4344021 4363660 4084981 4089024 4089882 4112096 4113859 4116355 4120407 4123678 4140425 4142354 4145281 4145797 4157133 4157150 4168370 4175536 4183146 4186425 4429230 4430708 4480969 4495085 4836663 4591327 4697352 5064216 4751187 4760373 4798542 4864637 4916016 4975376 4741350 4840739 4914728 4592076 4600141 4601283 4605985 4618842 4620277 4637340 4984783 4697652 4723075 4816302 5169671 4854646 4884109 4890274 4940802 4596671 4601565 4606001 4622611 4623178 4631848 4641990 4674775 4674903 4677787 4997849 5045128 5046409 5049165 5064681 4699007 4707464 4713228 4728912 4729566 4730268 4741594 4744270 4752021 4757697 4771620 4789619 4800325 4816222 5160634 5188855 5218550 5220741 5222549 4819733 4827973 4835130 4846341 4852203 4857562 4863869 4889823 4904603 4905492 4917616 4926555 4934638 4936629 4942456 4953684 4972647 4991891 4994806 4998318 5004538 5013698 5041652 5056187 5064242 5081920 4581243 4588159 4595519 4595844 4597149 4601100 4603414 4608299 4614124 4615484 4619811 5518275 5308859 5360337 5833645 5473412 5602470 5671731 5697673 5285531 5294477 5305813 5314642 5339873 5799230 5828386 5404992 5417793 5501471 5545467 5551487 5653493 5692639 5741305 5262273 5273127 5292208 5314178 5343852 5355868 5366259 5371928 5389240 5397421 5431148 5436080 5478520 5488371 5534676 5537521 5628452 5658141 5683892 5688398 5696277 5696568 5737813 5737929 5750167 5751794 5754336 5786434 5803064 5820314 5822257 5822845 5832272 5248357 5253206 5255056 5255842 5257022 5257167 5259876 5262881 5266110 5271008 5276096 5281132 5285324 5290185 5293929 5293955 5295417 5295625 5302357 5329383 5330186 5352664 5353159 5361446 5366178 5366870 5371176 5379813 5380797 5383636 5388344 5391438 5392696 5884070 5399737 5402184 5404728 5413990 5415627 5424217 5430012 5441606 5445631 5453415 5933670 6227666 5998159 5893500 5958167 6279322 5939570 6006873 6081211 6114660 6216593 6349850 5894727 5897280 5987126 6018577 6043571 6047093 6050861 6069955 6076049 6090059 6091360 6095724 6117231 6136494 6166218 6186916 6188637 6237282 6271919 6292598 6298435 6303951 6306420 6326838 6327048 6355058 6356322 6376121 6400224 6418149 6418977 6423463 6440737 6465304 6465953 5892036 5892284 5911013 5919041 5921009 5928433 5932159 5943602 5954832 5963468 5965838 5967503 5975811 5985190 5985389 5995532 5997056 5999615 6003676 6007757 6017050 6021056 6021664 6037230 6040329 6052667 6063421 6076783 6078039 6081406 6093312 6101999 6126022 6131655 6140254 6146795 6147495 6155103 6155651 6165256 6165893 6169068 6173582 6176014 6190507 6203758 6210802 6211630 6213129 6215127 6225814 6235518 6237000 6580629 6975006 6648083 6837417 6552200 6694751 6753536 6866889 6547079 6568589 6584059 6620721 6623986 6658891 6674602 6698873 6735571 6756641 6789997 6794217 6822064 6930513 7021944 6548808 6552121 6554835 6563518 6569966 6575935 6596852 6598667 6600094 6602132 6609493 6613377 6634256 7036944 7088406 6646419 6646950 6654608 6661437 6671666 6688663 6691803 6693456 6695323 6697595 6704627 6715414 6720769 6740954 6758999 6760861 6761452 6768363 6780090 6785524 6811026 6823241 6831859 6843052 6873528 6875364 6875465 6875519 6880977 6893894 6899963 6934776 6935626 6968511 6983953 6989495 7022801 6550456 6566074 6573530 6580100 6583317 6583725 6589411 6595874 6597666 6600958 6602478 6607756 6607943 6613823 6621483 6622822 6626732 6635193 7038493 7070721 7096849 7106448 7138673 7143377 7145750 7329667 7442248 7199583 7200658 7387631 7421980 7201090 7208613 7214852 7229369 7247598 7299183 7314945 7329668 7330410 7343016 7643304 7677572 7479036 7479346 7480442 7495037 7514320 7717439 7204307 7219211 7219957 7238991 7245043 7248696 7534854 7566041 7580220 7582038 7260017 7265100 7265981 7274278 7279674 7280551 7288217 7313198 7315303 7316357 7330139 7340651 7341602 7353114 7371873 7400060 7402224 7404656 7422692 7437185 7653661 7681917 7446984 7456052 7459043 7479169 7508564 7509569 7522364 7526759 7548663 7198700 7200894 7202456 7205148 7215249 7215364 7222658 7233069 7233150 7235434 7239011 7244833 7246445 7246918 7248036 7254315 7254482 7255419 7256749 7258240 7591413 7600727 7636046 7637325 7638831 7261401 7264480 7278960 7283629 7289424 7291993 7292905 7292923 7299162 7301341 \n",
            "518550 582099 638025 585974 603753 609047 617902 631534 647719 648473 649356 403874 469679 481674 494914 498204 524078 529177 534871 554643 561933 566300 567579 570949 571800 578348 582938 586387 587584 596897 598243 606685 607620 610380 616585 618640 623692 626628 626733 628163 630886 634605 634916 635657 637190 637546 638993 639889 640750 644399 647576 647801 652712 653898 654019 654229 324702 380903 383232 384061 384744 393167 399854 403476 410649 411930 412853 416969 422629 423376 425142 425597 426765 428060 432108 432697 435007 438837 442496 447478 448331 449242 450908 453034 454864 455268 456136 456628 457168 457430 457911 458476 458836 459197 459474 461487 461953 462096 462364 463175 1180653 1237077 1064055 1136190 1150301 1216167 1232426 1245025 1269123 1280861 753156 823323 891620 976131 1000467 1000532 1023658 1062775 1072038 1087191 1111600 1122405 1129219 1140263 1156606 1185360 1186637 1195938 1199263 1214749 1224929 1225876 1236469 1237458 1238517 1247816 1253545 1253606 1255962 1256521 1258124 1259737 1274776 1276104 1277120 1297756 1299911 1305901 780817 873356 930142 959232 972683 1003861 1013834 1017352 1023194 1035428 1045946 1052031 1060262 1062819 1083153 1087080 1090343 1095093 1100628 1106865 1114072 1120525 1121307 1127780 1131356 1148177 1148382 1149457 1151946 1154933 1156002 1156112 1156853 1158474 1164210 1173795 1174984 1177967 1183117 1184489 1189994 1190246 1191413 1192683 1193764 1194077 1205116 1205515 1205743 1206175 1206784 1208931 1657741 1400612 1922473 1816997 1864174 1923197 1933124 1952932 1664040 1669173 1695843 1739430 1742340 1744570 1773340 1793187 1796351 1801005 1816017 1817695 1834417 1835493 1835841 1836780 1837991 1839462 1863541 1867103 1870488 1881074 1884627 1886682 1890963 1912409 1918749 1923275 1925307 1929891 1930683 1932124 1945662 1950589 1952910 1961452 1321006 1346297 1397378 1423024 1456367 1490842 1518741 1525763 1529858 1543035 1578529 1607454 1618260 1635693 1637321 1642998 1644720 1645146 1649117 1669538 1673247 1680698 1723948 1724595 1725850 1739489 1746929 1751919 1758531 1759169 1762200 1767239 1774612 1796182 1799577 1808262 1808531 1811958 1817755 1819601 1823052 1824073 1826442 1828106 1830798 1845315 1854064 1855843 1863557 1864768 1865191 1868367 1872156 1872499 1872608 1873330 2212032 2479138 2542879 2390593 2273905 2511907 2578672 2242043 2251833 2307902 2329430 2346316 2407562 2416158 2456221 2465741 2478193 2515214 2540037 2544443 2548459 2567336 2577079 2578015 2581981 2602667 2019954 2057196 2057289 2070724 2094605 2116974 2140262 2153881 2188661 2198153 2216698 2222336 2247117 2256864 2263980 2278866 2291998 2299115 2319940 2361424 2362991 2392696 2393195 2397516 2408856 2413141 2420034 2435274 2435591 2436741 2456340 2463256 2465715 2474706 2474881 2478931 2484236 2491932 2498331 2499499 2502395 2507933 2528053 2532683 2533040 2536281 2563444 2564102 2568954 2570219 2572327 2572391 2577895 2591374 2597943 2598867 2609622 2610922 2614157 2617297 2025323 2047086 2047760 2050012 2051256 2062089 2064169 2082376 2095631 2110331 2138231 2143918 2145702 2148783 2862865 2665443 3053942 2901753 2971061 3150957 2708275 3119953 3205664 2894977 3049174 3078714 2826708 2906761 2974028 3005875 3045268 3098120 3128711 3167821 2630670 2716952 3078443 3095229 3126760 3127363 3185381 3196786 3229963 2622777 2641311 2658364 2715611 2729847 2732575 2745836 2819789 2835391 2857385 2873850 2878844 2894808 2896539 2919467 2935228 3013485 3029305 3037430 3052210 3070464 3071743 3077576 3098357 3101343 3104426 3104647 3136331 3140194 3149179 3169004 3173682 3184504 3193629 3197175 3198692 3202230 3222454 3233276 3234563 3259152 3265159 3266767 2622347 2629104 2630546 2634808 2642029 2651587 2659024 2662427 2682346 2683426 2691033 2694770 2700403 2720583 2726950 2728797 2740785 2776559 2784165 2785832 2786090 2788013 2790485 2812973 2834508 2836296 2841280 2844096 3596558 3868139 3921753 3590560 3671145 3850958 3912192 3367097 3395187 3538469 3625931 3691184 3872280 3299692 3422412 3485208 3492653 3511600 3628778 3707842 3764206 3807336 3808393 3845023 3917896 3272253 3425884 3448817 3466347 3564485 3631586 3632734 3664746 3708053 3719977 3722807 3730700 3735363 3747832 3778215 3799865 3801262 3804797 3810150 3812794 3817353 3828362 3866960 3866984 3879125 3891900 3901180 3906061 3910526 3913131 3273020 3273797 3279388 3281059 3285812 3291760 3298697 3301464 3303734 3320183 3333968 3338911 3347658 3351597 3356466 3361921 3386924 3392141 3395658 3403172 3406020 3406257 3431438 3433704 3434230 3435249 3440798 3442076 3445241 3445303 3448172 3452217 3458201 3464124 3476206 3480919 3482083 3484819 3487620 3519307 3526996 3532851 3534642 3535291 3540129 4498898 4338988 4269653 4303520 4507672 4045514 4118712 4143752 4209365 4212017 4410295 4512522 3960056 4241373 4316044 4338559 4370981 4390099 4430974 4497981 3948333 4002721 4084311 4185825 4199452 4206053 4219574 4222517 4288245 4359776 4378693 4403640 4425429 3940594 3942093 3947550 3951850 3987383 4019957 4045053 4049395 4104951 4127170 4127492 4140297 4142741 4163712 4168859 4189972 4213557 4219510 4312342 4321297 4413794 4440885 4464786 4467341 4512428 4516943 4570886 3926879 3933297 3949621 3954288 4001836 4004897 4006640 4020253 4022925 4023694 4030985 4044128 4060520 4068814 4079584 4086693 4090871 4102432 4106237 4113860 4114856 4120142 4148235 4153469 4156571 4170728 4181577 4182737 4184504 4184843 4191863 4195708 4198762 4202104 4203638 4207130 4217650 4224222 4238974 4246522 5093113 5185997 5124248 5076749 5181294 5101967 4598822 5039201 5188759 4634037 4789948 4825999 4831168 4880914 4923380 4927338 4967266 4984307 5192341 4678478 4696684 4733898 4761236 4921782 4924501 4946960 5043352 5121098 5179127 5226031 4641182 4689310 4709455 4720416 4721692 4738295 4751590 4753880 4761953 4779397 4796335 4799835 4800309 4808748 4818366 4822838 4847738 4857424 4864037 4865614 4898982 4944687 5002649 5040577 5054975 5055239 5063810 5069581 5087273 5102457 5103073 5138084 5152443 5162735 5211650 5226015 5227563 5233337 4583122 4594307 4596300 4599970 4609338 4609404 4617907 4624268 4637779 4638292 4639012 4657577 4659278 4672028 4674674 4678757 4683878 4686418 4699338 4702873 4704088 4705190 4706561 4710923 4710993 4716979 4749196 4752126 4752198 4774205 4784966 4788371 5330069 5240653 5634249 5774762 5594644 5801773 5322921 5801217 5240944 5703899 5721488 5804299 5818726 5548689 5641348 5701451 5264067 5469956 5665052 5768248 5609940 5650312 5687306 5803320 5240974 5256075 5292475 5419023 5426991 5431200 5449672 5524893 5526978 5549282 5565937 5623828 5632637 5641216 5642809 5660273 5815873 5852527 5872802 5236828 5240286 5241425 5251909 5262389 5288219 5288774 5299409 5334721 5336722 5353132 5405017 5412223 5420936 5432601 5436342 5444983 5466908 5480945 5496863 5540094 5545838 5576949 5585303 5597137 5602125 5609800 5617282 5619492 5652166 5661669 5692130 5702178 5712567 5716662 5728285 5736587 5754515 5761990 5778482 5794670 5821907 5832502 5835856 5865259 5865964 5878887 5238601 5238897 5241782 5242298 5242370 5242650 5242905 5251515 5254925 5257370 6484473 6427189 6379050 6481180 6363869 6210009 6475394 6089541 6539482 6486607 5952277 6529990 5952927 6057246 6175885 6512817 6012234 6273008 6431765 6432024 6540666 5964362 6084539 6321893 6386098 6416304 6422783 6430615 6470956 5909118 5926170 5929559 5929636 5959204 5997192 6000623 6056664 6057728 6059410 6072588 6095187 6125837 6144549 6196424 6225334 6225470 6277219 6281545 6288378 6347858 6424779 6447618 6476582 6490535 6541828 5890053 5891530 5897205 5901030 5910625 5928828 5959539 6000118 6011091 6020808 6024396 6038162 6042064 6044904 6050186 6061365 6066010 6081430 6093897 6106200 6113527 6132070 6143166 6154843 6170578 6178275 6208702 6213945 6216527 6222522 6225120 6241989 6247021 6297737 6319591 6322499 6334997 6343994 6345408 6355648 6378101 6378912 6400381 6402492 6403514 6938835 6920816 6950153 7107304 6613416 7183416 6791103 6662119 6845154 6575490 6905394 6552251 6745695 6889208 7124283 6578728 6702910 6787429 6547256 6728047 6735954 6745131 6881448 6928917 6980412 7175518 6565325 6570632 6648234 6689312 6700084 6719979 6735814 6746956 6770521 6789690 6792119 6817217 6821342 6821767 6823829 6855077 6912449 6914304 6945268 6957403 6962416 6969883 7002888 7013383 7028232 7036834 7060512 7070198 7078820 7110926 7135159 7181760 7186768 7188580 6547793 6551973 6553780 6558958 6585798 6588515 6615479 6640802 6648612 6653998 6655571 6655610 6660440 6663018 6674930 6684686 6685979 6692560 6706504 6708803 6710508 6710608 6714596 6718140 6727401 6733877 6738959 6757852 6758301 6762548 6763422 6781722 6782132 6793990 6794385 6823257 6841868 6842689 6843284 6858877 7788441 7802401 7782377 7801971 7814975 7781694 7810594 7808590 7843401 7809945 7846914 7831446 7761434 7351329 7839524 7830965 7343026 7796214 7820720 7763100 7725698 7796468 7726591 7753631 7773714 7483244 7621636 7738376 7796323 7675769 7787293 7632020 7686575 7634212 7692514 7723174 7759886 7736250 7760888 7681597 7720071 7799338 7799616 7814678 7333006 7657685 7676458 7732898 7775566 7267834 7516270 7533604 7709970 7818223 7825162 7218286 7343105 7781483 7847590 7391558 7725914 7745458 7766653 7836635 7841589 7844762 7305911 7421895 7509544 7759799 7768607 7842340 7474496 7641744 7680108 7780376 7789039 7516457 7580327 7614305 7711240 7719946 7750334 7765593 7788702 7795799 7798466 7848011 7831493 7834076 7283776 7415565 7419778 7580689 7757398 7773484 7782774 7842537 7808554 7813169 \n",
            "554855 509176 606282 469808 559319 575717 581177 619492 629553 631868 638785 639445 644411 648662 651047 340337 426007 473443 480499 482245 489574 496756 496984 497432 505427 506543 509570 512478 514595 517485 524303 525317 536108 536834 540030 541909 542964 546879 553221 554825 554897 555562 557320 558652 560959 560986 561234 562050 562906 564166 566418 566657 566694 567810 568275 570715 570978 571100 571312 571397 572480 572606 573725 574697 575262 576311 576447 578878 579625 580043 583816 584393 584917 584990 586012 587706 587937 588831 591582 593094 593329 595708 596642 597199 598022 598213 598820 600374 600608 602032 605424 608007 608674 610121 610252 610524 611715 612420 612508 615223 1262561 1193260 829798 1181306 1196062 1288223 1153735 1186252 1207494 1217764 1239968 1249709 1255340 1278356 1290151 1290708 1307783 1025103 1086005 1086354 1116325 1137535 1139990 1142932 1158335 1175033 1180961 1182901 1184612 1184758 1190057 1190158 1190416 1199876 1204645 1204964 1207223 1207927 1210454 1210580 1216862 1225195 1227963 1229376 1232634 1237887 1245343 1247559 1249463 1252039 1257826 1264199 1267764 1269704 1270560 1270602 1274037 1275175 1280331 1281672 1283900 1286746 1287885 1290454 1292784 1295781 1295854 1297771 1298182 1298992 1301075 1305982 1306756 1307556 1307589 1307647 1307824 1052359 1058846 1060174 1067645 1073659 1078923 1084014 1090403 1098492 1100362 1112792 1131592 1139087 1143328 1145536 1149061 1150162 1161128 1162575 1163953 1164708 1165199 1167858 1451621 1382250 1540932 1450640 1566407 1526647 1335473 1692014 1620570 1568523 1422092 1695638 1607748 1635620 1642524 1747981 1748205 1750716 1753426 1756651 1419752 1588632 1549401 1764065 1771377 1751898 1314500 1843821 1562610 1800155 1905795 1934867 1952083 1681426 1713928 1883266 1740800 1395880 1462012 1474708 1477362 1332553 1351327 1359159 1362783 1368552 1380350 1401753 1403060 1417818 1418885 1419478 1427076 1444403 1446024 1503685 1528297 1533183 1564895 1580725 1597464 1455141 1456464 1460135 1474289 1479651 1486246 1486492 1487213 1487637 1488488 1498977 1499199 1727770 1500479 1501508 1512040 1513500 1515434 1519849 1523134 1525071 1526786 1529009 1536935 1537756 1543892 1549473 1550163 1311757 1316282 1321226 1325437 1326915 1330000 1331650 1333800 1339083 1340321 1344738 2043426 2007984 2116556 2057656 2066523 2182954 2082505 2235444 2159965 2078676 2476390 2478468 2598035 1966655 1976383 1980091 1982909 1987442 1995475 2002837 2008429 2027557 2030586 2032573 2035464 2038101 2041052 2041695 2060698 2061185 2080088 1965654 1966915 1966958 1968413 1970847 1971054 1972129 1972763 1974414 2094027 2096175 2098893 2122297 2129167 2131017 2133852 1974754 1975763 1976848 1977688 1978448 1978657 1980705 1982427 1991984 1992930 1995956 1997071 1997996 1998367 2001263 2002103 2002915 2005167 2006765 2007368 2008651 2011574 2012809 2013149 2013323 2013814 2015015 2016721 2017622 2017819 2018099 2018218 2018642 2018898 2019757 2019843 2020657 2021376 2022685 2022727 2022938 2022940 2023999 2025426 2026888 2026912 2028214 2144643 2150166 2158718 2172060 2029034 2029920 2630991 2659405 2681328 2690875 2699034 2709859 2730999 2753510 2755886 2756996 2802361 2827907 2620190 2621806 2622058 2623315 2636094 2649040 3105130 2856055 2857964 2863222 2888452 2650274 2651917 2654169 2656973 2661372 2661519 2661713 2670514 2672745 2674757 2683961 2687949 2690248 2690957 2693944 2911462 2926611 2928977 2944556 2946157 2714426 2721213 2721827 2725021 2727033 2727599 2727967 2746050 2754068 2758168 2766200 2772422 2995230 2779969 2781382 2795801 2799732 2800607 2830196 2832762 2834134 2623783 2630147 2635640 2638411 2640518 2642483 2645154 2645297 2645902 2646060 2845718 2856797 2871548 2877107 2879598 2892152 2651044 2655413 2656038 2656284 2657855 2658307 2659163 2660451 2663697 2664780 2668461 2670362 2670573 2675172 2679820 2680995 2681723 2691398 2693882 2694260 3465164 3306529 3316428 3528058 3292821 3344409 3382770 3696741 3454962 3500662 3547768 3308493 3331865 3760448 3358998 3384324 3408362 3828310 3484116 3519427 3531359 3542274 3573393 3576187 3634099 3668596 3282270 3286239 3299755 3308067 3316496 3323792 3329370 3329779 3330393 3729846 3758738 3765815 3356525 3356676 3357653 3359994 3367258 3369148 3377607 3390650 3399730 3405259 3776909 3788715 3799776 3424281 3434842 3463443 3483740 3897703 3904956 3497851 3501577 3510522 3520220 3520628 3520688 3549458 3550926 3575245 3578568 3588060 3623699 3634834 3636626 3656771 3666985 3667460 3280324 3281771 3284595 3291922 3293740 3302123 3307028 3315750 3317011 3317460 3325419 3326753 3332501 3712147 3728570 3733207 3735264 3742286 3767144 3333080 3334317 3360659 3363761 3364505 3366384 3373508 4319129 3998997 4254695 4126848 4222543 4272763 3987297 4006018 4026021 4044852 4108656 4124132 4175589 4217145 4255143 4292242 4410690 3929977 3941594 4533838 3970589 3970998 4043474 4062361 4071406 4113476 4149849 4186205 4192830 4200786 4237582 4252259 4258602 4260121 4262999 4279771 4294136 4345214 4350310 4370951 4448072 4469928 4488753 4495466 4520620 4538873 3929647 3942563 3943745 3945159 3949993 3954495 3988732 3994258 3998656 4017589 4017785 4020365 4024620 4026406 4030999 4042619 4062266 4067269 4068251 4070131 4072315 4073361 4075644 4085364 4088591 4092495 4096957 4098968 4101352 4104730 4120866 4127203 4142029 4149648 4155901 4157764 4170791 4171142 4177868 4184202 4193396 4193692 4197140 4197976 4208463 4213002 4217051 4225461 4234164 4238287 4250738 4251424 4251833 4256307 4633070 5123361 4653837 4679761 4772922 4867548 4604537 4605045 4683115 4685549 4799041 4801295 4817613 4828567 4855090 4878141 4890294 4901713 4902574 4950256 4955380 4968329 4987768 5053352 5086242 5131319 5151580 5156437 5163746 5203419 4588162 4599386 4603223 4609682 4648556 4649613 4662792 4665574 4673974 4684851 4687194 4709573 4718964 4733354 4741761 4750963 4751031 4754592 4755410 4764535 4770788 4772676 4778813 4783742 4790653 4791499 4796181 4796937 4814606 4814996 4818280 4820948 4825318 4829953 4834818 4836661 4850330 4851086 4851637 4854545 4864538 4864619 4865061 4865630 4870079 4883605 4884671 4889852 4890424 4895154 4895961 4898331 4903375 4913810 4920226 4921659 4928998 4931288 4933728 4940042 4972763 4975512 4978413 4991147 4998936 4999583 5000615 5004710 5005900 5008146 5391278 5544971 5378770 5471227 5518612 5630179 5641823 5300075 5334237 5440559 5568989 5584075 5244160 5270430 5271189 5276849 5317694 5345021 5389429 5508561 5532274 5534423 5560405 5560776 5598378 5602849 5674745 5697056 5697940 5720087 5748391 5788259 5795926 5249616 5251378 5254141 5269407 5272456 5274275 5278546 5290568 5295359 5298923 5317550 5322778 5334769 5356704 5358318 5365722 5375175 5378491 5380197 5386915 5397375 5398903 5408586 5410988 5424473 5438462 5438536 5444080 5447083 5452847 5466746 5467201 5479852 5481324 5484090 5484627 5487430 5487740 5488525 5489605 5491637 5497742 5503460 5518628 5523999 5535706 5541858 5544468 5545760 5558019 5583755 5585660 5590309 5592350 5593563 5598349 5617980 5636969 5637220 5637405 5641164 5648679 5652520 5654216 5659623 5671034 5676625 5970442 5923534 6014085 6181404 6271300 6483624 5893407 5896122 6046039 6055565 6124876 6145407 6174826 6220912 6247952 6253563 6282354 6284113 6329998 6388149 6406442 6406527 6414218 6419489 6428793 6437896 6439358 6481140 6512305 5890252 5893139 5908473 5931629 5935914 5948903 5949261 5952703 5963011 5997561 6008884 6012759 6020631 6020808 6035227 6035736 6036782 6046366 6062481 6098695 6101894 6110987 6122053 6124434 6141189 6150503 6175216 6175732 6185168 6198519 6212173 6226809 6230436 6230609 6239518 6249223 6268433 6275470 6275654 6276574 6276862 6284050 6308238 6322099 6339411 6351048 6361705 6375453 6396576 6401239 6408594 6428131 6430598 6462957 6463070 6468958 6475031 6487122 6509912 6527046 6527144 6529609 6542263 5889896 5891830 5892664 5896142 5899444 5900121 5902216 5902308 6948646 6974778 7119314 6608692 7001930 6564554 6584039 6616820 6643272 6666782 6713330 6740804 6763792 6783207 6795714 6848894 6877953 6921497 7071283 7098424 7103488 7142757 6554346 6561400 6563287 6569230 6571669 6584172 6609154 6614874 6640195 6647783 6653204 6655020 6668142 6676332 6680653 6682555 6695547 6703539 6726657 6743700 6754241 6763736 6769829 6770116 6773897 6784882 6796009 6806821 6809334 6819375 6821010 6836248 6847525 6849575 6854907 6856948 6860653 6870794 6889448 6908685 6911451 6914071 6917251 6919807 6922793 6925725 6927096 6937889 6950595 6964099 6973053 6976753 6981730 6991706 7036850 7044804 7044904 7053712 7055998 7066614 7070015 7074532 7098465 7104452 7116416 7125751 7130338 7131877 7135635 7146607 7148446 7169377 7169946 7171736 7173991 7190384 7191742 6544301 7414316 7622306 7220518 7247436 7337164 7417313 7518187 7622538 7717038 7835915 7286445 7311042 7330700 7752823 7397084 7409579 7482195 7786627 7534538 7543104 7612185 7615317 7210803 7221308 7227352 7228466 7229664 7241768 7244043 7261652 7289242 7291692 7295328 7296572 7297289 7301285 7308831 7322022 7346952 7739687 7842221 7770952 7779888 7357625 7369614 7381266 7404949 7416552 7427129 7431676 7436627 7437120 7786345 7452113 7465757 7469370 7479225 7480502 7534776 7554474 7565373 7590056 7602482 7604275 7616223 7618287 7657445 7666687 7678944 7837990 7716460 7198856 7199845 7201885 7206924 7208157 7209897 7211511 7213582 7215672 7216810 7217258 7220136 7221895 7224876 7226017 7230475 7232510 7234932 7241526 7241831 7243171 7248594 7248993 7249844 7250820 7254727 7256412 7258425 7258983 \n",
            "609363 408656 516155 565111 569992 578581 583598 606041 622952 644176 644216 649255 393614 409752 424751 447021 468142 478478 485107 485922 490185 498697 500447 502076 503346 507570 508497 510330 519983 521374 521748 522580 522932 524885 527321 530021 534068 535936 536650 537500 539616 540687 543117 561463 561940 564528 567069 567254 569306 569805 571009 576584 580755 581364 585110 585555 586173 587734 591421 592202 596018 596977 600822 601084 604352 605913 611875 613688 616814 618354 619517 626710 626936 628472 631308 633326 634575 635858 637584 642197 642634 643121 644016 644162 644453 646427 646853 646881 647875 650899 651158 651262 651984 653317 285746 347420 360799 368633 374799 376490 909608 827239 835944 1106301 670028 760378 1044469 1256458 971408 735164 1017181 1019690 756936 830452 834248 1060121 969495 978646 983548 991371 993929 1118431 1021830 1261547 682264 709182 710432 724946 729305 740024 755611 756670 758961 781663 786129 801445 805738 806569 807739 816678 836966 837206 843575 845992 849308 857722 869084 879533 879937 882969 885608 912651 922608 923211 923499 931621 934316 936424 940713 1195753 1064897 1098145 968685 969629 976841 978251 979620 980553 983371 984343 985531 986554 988549 991986 995536 1199336 1123418 1137482 1140941 1141285 1143722 1144931 1145908 1253432 1007549 1007815 1008286 1008490 1014131 1015355 1022696 1023329 1024975 1025703 1028822 1030907 1030946 1035973 1039049 1041970 1660188 1386593 1758848 1671117 1692876 1518619 1402827 1317566 1645125 1350993 1373592 1378286 1402101 1309376 1310363 1312014 1312056 1313408 1321337 1337735 1344389 1347768 1467640 1349144 1349880 1352001 1367641 1367684 1368758 1378503 1380223 1380381 1383119 1389919 1391078 1398227 1523684 1524421 1543592 1737856 1751044 1553878 1575443 1398727 1399288 1405018 1408375 1412563 1413960 1418954 1420825 1421565 1422434 1431081 1437807 1439442 1789842 1603882 1642401 1642475 1449873 1450817 1450871 1458885 1461616 1465308 1466171 1466192 1467322 1467844 1470349 1475386 1477331 1479502 1483261 1485612 1488370 1490040 1491790 1494803 1494913 1494944 1498117 1498303 1309051 1309439 1309714 1310604 1311208 1311561 1312835 1314078 1314431 1315967 1316581 1318775 1319286 1319346 1320150 1320979 2253771 2581823 2561219 2086401 1965599 2155810 2185994 2003440 2196988 2251836 2269025 2087261 2127893 2314210 1964236 1970808 2140558 2149644 2149894 2152433 2164195 2172797 2176127 2182318 2182453 2365660 2366697 2384524 2397659 1979485 1980545 1981013 1982743 1984053 1985082 1993627 1993977 1994050 1996351 1998321 2000550 2002424 2003816 2004213 2007192 2008640 2009225 2017753 2018102 2021782 2022138 2022538 2023039 2023668 2024058 2024654 2025639 2026093 2196865 2028289 2028292 2038687 2051392 2061050 2061928 2062591 2066568 2066805 2071433 2072866 2073985 2074218 2076926 2077048 2078575 2080097 2082086 2254199 2261431 2273124 2275113 2281652 2287008 2293666 2295794 2297764 2299124 2301851 2498728 2505510 2084417 2088317 2089286 2090577 2091907 2092429 2093805 2094495 2094574 2096698 2937143 3068982 3165071 3178609 2748791 3151793 2863126 2631373 2738732 2621606 2633625 3178666 2936755 2656602 2661328 2681798 2700847 2720154 2728239 2747690 2750159 2751724 2755865 2770349 2796881 2844858 2853738 2856428 2870926 2881857 2618753 2620719 2620849 2621059 2621843 2622761 2623856 2625679 2630390 2632523 2635299 2636193 2640562 2641097 2641323 2643908 2644631 2645825 2646974 2647544 3225900 2908203 2933927 2934964 2651465 2652360 2652780 2654134 2654367 2655720 2659684 2659888 2660768 2661179 2663917 2664630 2666042 2671275 2672083 2673016 2673997 2674872 2676512 2678381 2679534 2679608 2684440 2687605 2690003 2690208 2690940 2691426 2691779 2691832 2691852 2693697 2694724 2696666 2698516 2701736 2702357 2704446 2706799 2708155 2709659 2709980 2710854 2977659 2990097 2990590 3337977 3369561 3456649 3496437 3504334 3556479 3610641 3682951 3776586 3792059 3815859 3818176 3823061 3854607 3880489 3895692 3897461 3900408 3919603 3456284 3645068 3350195 3818727 3841594 3427385 3536433 3273748 3277596 3285393 3286098 3292800 3298452 3300778 3302651 3323499 3755118 3333197 3333948 3334921 3335263 3337146 3340850 3342172 3342467 3346603 3347225 3347968 3352658 3360497 3362881 3367838 3369405 3370187 3371949 3372344 3373417 3376916 3383622 3384210 3384689 3384831 3388253 3389820 3394479 3398714 3399574 3402344 3403846 3409845 3410069 3411576 3838176 3863771 3417042 3417449 3418058 3418243 3418328 3418828 3419018 3419812 3424148 3425633 3426399 3427505 3429971 3430867 3431889 3436677 3437709 3437804 3438143 3439981 3441141 3442983 3443149 3444259 3444708 3445476 3449295 3930681 3952038 3953119 3960712 3975690 3978215 3980235 3981225 3985425 3993210 4037030 4053691 4074751 4083743 4219829 4229681 4242873 4284038 4296517 4315503 4441304 4557177 4465567 3942542 4504510 3979990 4021464 4078034 4209699 3948947 3970686 3977829 4006872 4066922 4169787 4171146 4212679 4279331 4294308 4393418 4431862 4439436 4473046 4479732 4503593 3926573 3926974 3930268 3934357 3941810 3942120 3944155 3944462 3946561 3948010 3948591 3949293 3949356 3951196 3951702 3952053 3954406 3955740 3957365 3957396 3957561 3957718 3960796 3960987 3961943 3964304 3965189 3966463 3968785 3969231 3970462 3971133 3975510 3976257 3979495 3980891 3982028 3983253 3984110 3984541 3985095 3987028 3989589 3990381 3990489 3991354 3994253 3994359 3994953 3999520 4000284 4000894 4002804 4003990 4007502 4582424 4631114 4665659 4723030 4746870 4805404 4928982 4934592 4991624 5054377 5086979 5159365 4716645 4742532 5003918 4969468 5074266 4654820 4637210 4649304 4678394 4754918 4806136 4862116 4904852 4915502 4925417 4958221 4968107 5026983 5086124 5120866 5132079 5154117 5180964 5196747 5217421 5223641 4586026 4586719 4586899 4591325 4594746 4595025 4597162 4602249 4603385 4605492 4607628 4614943 4618360 4623451 4625245 4627818 4628431 4629322 4630456 4631367 4633122 4633615 4635863 4639299 4642391 4643312 4646021 4650654 4665854 4666806 4667813 4672684 4678409 4682169 4682383 4691255 4693966 4694606 4696805 4702621 4705267 4706038 4719931 4720513 4724214 4727047 4727662 4731038 4733303 4735913 4737158 4740016 4741999 4756335 4758425 4760196 4762294 4765676 4767638 4770990 4773185 4782070 5272488 5324876 5344882 5357938 5499458 5646073 5341771 5506199 5572879 5730131 5818867 5286586 5493223 5610104 5258267 5752355 5283498 5293242 5304718 5347595 5395028 5397750 5465637 5495756 5533987 5557310 5642866 5719395 5759752 5236897 5241558 5243595 5245359 5248537 5256059 5267887 5275225 5277109 5277731 5279341 5280913 5285139 5289427 5296353 5296958 5312971 5319295 5329687 5332618 5333655 5343214 5363610 5365520 5367651 5374347 5381386 5383589 5389170 5394469 5395335 5396288 5398417 5405049 5410576 5418586 5424819 5430889 5438805 5445670 5460792 5464604 5475188 5475745 5478523 5485102 5493478 5495306 5495822 5501199 5503060 5512477 5526488 5529272 5529977 5536940 5541220 5551108 5561890 5592708 5598725 5611808 5624739 5647351 5652566 5653048 5686508 5697000 5697553 5710237 5711599 5910073 6295319 6120349 6023605 6162408 5909224 5994294 5954843 5975100 6144628 6355007 5892095 5903003 5912248 5924237 5927628 5929263 5948054 5952244 5959012 5974864 5974944 5994206 6006244 6020829 6033943 6044309 6105799 6132074 6155742 6165433 6170731 6174369 6256138 6259755 6279232 6280614 6287892 6383494 6403234 6408977 6418365 6461178 6488054 6496893 6501449 6505551 6533422 5890143 5890409 5891006 5893405 5894201 5898694 5900858 5901487 5902553 5903060 5903209 5904587 5904876 5906166 5907645 5911262 5913343 5915041 5915583 5915770 5915967 5916707 5918014 5918662 5920206 5920639 5923124 5923560 5927518 5929252 5931507 5931537 5931785 5931832 5934603 5937328 5937968 5943160 5943169 5943445 5945143 5945903 5946603 5947602 5948462 5948826 5949481 5951477 5954353 5955060 5957162 5957493 7041040 6642887 6766823 6983240 7190756 6586899 6617752 6626053 6760694 6763385 6813988 6828112 6846262 6857040 6873834 6901376 6918045 6978895 6995117 7162149 7174780 7184188 7184227 6546486 6550577 6556494 6557003 6560700 6562050 6568036 6569209 6570789 6571294 6574251 6574838 6574994 6577710 6584140 6586371 6591126 6591178 6591493 6592528 6596519 6599441 6599565 6600859 6601824 6602324 6604135 6605441 6606170 6608976 6610247 6611833 6612366 6614749 6618408 6620715 6621499 6623944 6624812 6629117 6629799 6631546 6633628 6640804 6641273 6643212 6643872 6644524 6645171 6646453 6647298 6648706 6651918 6659042 6659481 6659607 6662273 6662614 6663127 6674277 6682807 6684654 6685485 6687758 6689598 6695672 6696925 6700295 6700795 6704972 6706556 6713850 6726290 6729066 6731554 6741530 6741564 7614142 7210993 7261321 7274087 7345247 7350523 7355116 7362245 7435783 7438318 7480442 7579649 7595269 7625965 7207468 7211638 7214218 7214984 7216110 7216399 7217525 7218151 7218306 7222595 7223611 7224129 7227547 7233982 7234484 7242236 7247033 7249038 7250565 7256742 7268083 7272047 7278524 7289412 7295819 7295992 7298724 7299439 7308072 7310141 7311837 7313372 7315013 7318053 7319272 7327889 7329644 7330031 7331732 7339396 7339761 7340142 7340704 7341352 7342595 7342887 7343353 7354317 7355936 7778575 7357249 7379045 7381014 7384336 7388344 7395508 7401906 7402379 7407377 7418413 7420439 7425139 7428191 7433574 7435644 7442457 7449012 7457018 7459075 7459802 7469958 7483023 7489914 7518109 7815270 7521902 7554382 7561169 7576582 7582021 7588296 7595039 7601963 7603897 7606176 7613856 \n",
            "230088 216345 335841 216355 221125 245181 249389 258787 275508 283647 296469 332158 459973 368402 373272 382018 382512 393049 499195 80159 102319 122643 125549 129103 144371 152315 160917 162756 163548 179228 189783 197367 201911 204896 207340 210713 226315 229678 230908 236088 242610 243337 246131 246545 247410 247512 248928 250397 250645 250924 254735 255364 255905 256907 257049 259373 260849 263383 264490 268276 270056 270066 270625 271384 271979 274215 275061 276638 279100 279293 281102 282094 284399 284584 285141 287445 293255 293426 294634 295633 296782 297212 297567 298392 300284 301462 302150 303991 304008 306190 306667 307532 308167 308411 308865 310691 312850 315951 317078 317552 705453 672978 688370 841521 693348 698493 877799 758702 761619 767349 773983 958963 967341 785658 792157 798381 806532 808199 812140 822288 1007253 1029856 823065 836686 840705 847179 849719 861855 863924 656601 659865 665394 666624 666780 666926 671617 672296 674067 676152 676178 677859 678502 678523 679073 680359 680373 681722 682641 683108 685380 686691 687123 689045 690500 1089677 879748 881284 887175 887607 888712 889751 890496 891537 892235 892880 894066 896803 903888 692212 694551 695809 696226 697046 701432 702667 702952 705330 707507 708676 709518 710312 711943 712095 712269 713195 714288 715352 715771 715799 715965 717075 717224 717262 719185 719276 720622 722460 722586 723241 723365 1340578 1358585 1363811 1370218 1429495 1437747 1439925 1444953 1750051 1450296 1471056 1477420 1514808 1538347 1550009 1554998 1555994 1563772 1564234 1584131 1590641 1593814 1594078 1597888 1599533 1609393 1622568 1631593 1642886 1647884 1309585 1312084 1312187 1314922 1316424 1316768 1319191 1319898 1321639 1322071 1322816 1323555 1325085 1325548 1326342 1326917 1328187 1330088 1330667 1332217 1332694 1333102 1333950 1336692 1337245 1337539 1337809 1337944 1338666 1339460 1339656 1342050 1342071 1344488 1344918 1345268 1345888 1346571 1346850 1347444 1655844 1676384 1680113 1686700 1690076 1690107 1694795 1700601 1704099 1349208 1350121 1350273 1350318 1350568 1352424 1354140 1355770 1356878 1356968 1360288 1361792 1362156 1362256 1363248 1364708 1365742 1366231 1369164 1369954 1370113 2091359 2227958 1965493 2409239 1976074 1978386 1981180 1994329 1995589 1996170 2001768 2002898 2009734 2017761 2018797 2021013 2421585 2446544 2459711 2029125 2031325 2034909 2039498 2040499 2045465 2046771 2047523 2047744 2049381 2053560 2056256 2056570 2057204 2058429 2060823 2061715 2064133 2064314 2069423 2071355 2075061 2078403 2087331 2092209 2093700 2099105 2099515 2100906 2104888 2109250 2111254 2116108 2118742 2119046 2119384 2120274 2120667 2121010 2121739 2130983 2132027 2578484 2139942 2140755 2146236 2151836 2154127 2163790 2169303 2173698 2175227 2177339 2180588 2180680 2182882 2183653 2184108 2186698 2187128 2188326 2199696 2200023 2201019 2201875 2202618 2203985 2204182 2204829 2205576 2211398 2211864 2213693 2216467 2217623 2218194 2218337 2222508 2225789 2225958 2226548 2847726 2983831 3000330 3007130 3131445 3186141 3187732 3189842 2619926 2625551 2625808 2626837 2627046 2627412 2627607 2629184 2630520 2630662 2630813 2631215 2631710 2633477 2637635 2637688 2639846 2642571 2645404 2645572 2649095 2651550 2652550 2654202 2658479 2659673 2659778 2662457 2663264 2665153 2665741 2666503 2666553 2670949 2672468 2673862 2675182 2675780 2676909 2677078 2678578 2680113 2684108 2686877 2687489 2688816 2689245 2692112 2692601 2692747 2694628 2696835 2700249 2705223 2708434 2710101 2710882 2712857 2713541 2713593 2714323 2716280 2718633 2719148 2722976 2725215 2727405 2727488 2729917 2730215 2731264 2731362 2732000 2732769 2737142 2739245 2740774 2740895 2741492 2744597 2745027 2745089 2745478 2745754 2745843 2746796 2747240 2747671 2748884 2753121 2754195 2755199 3902188 3317671 3320715 3364982 3380395 3406759 3448464 3456935 3457596 3463096 3499772 3507637 3610958 3692735 3730527 3761056 3769610 3771036 3776810 3783266 3783845 3792037 3809332 3830652 3838818 3910446 3272160 3274065 3274175 3274262 3274781 3275551 3275590 3278713 3279431 3281387 3284094 3284997 3285308 3285498 3286209 3286478 3287271 3288365 3289458 3290482 3290905 3293105 3293730 3293960 3294550 3296888 3297070 3297087 3297593 3298101 3298333 3298487 3299206 3300386 3303009 3303014 3303110 3303187 3303220 3304025 3304398 3306130 3306781 3306875 3306928 3307105 3307754 3309747 3310143 3310595 3310752 3310832 3311550 3312599 3314253 3315562 3315887 3318747 3318977 3319175 3319594 3320404 3320906 3321253 3321383 3321391 3321911 3322140 3322160 3323147 3324315 3324710 3325424 3326006 4093205 4143258 4226014 4365482 4392319 3967443 3983633 3998586 4005115 4009359 4017858 4019776 4038990 4044520 4046860 4056411 4087186 4093319 4094251 4102906 4124368 4130467 4132771 4140325 4169609 4202974 4237255 4249850 4257257 4271929 4300808 4314357 4335347 4337438 4342756 4366559 4372216 4394341 4401046 4418392 4423284 4437614 4445753 4456443 4465035 4477471 4480074 4486217 4495215 4497056 4505499 4554204 4570811 4576414 3928763 3928877 3928951 3929224 3930159 3931070 3931332 3932458 3935494 3936329 3936614 3937266 3938004 3938234 3938354 3938833 3939115 3939935 3939973 3940022 3940315 3942086 3943535 3944268 3944820 3944980 3945005 3946694 3947180 3947231 3947819 3947871 3948824 3949929 3950797 3951923 3952636 3953109 3953672 3953764 3954151 3956060 3956578 3958082 3958093 3958100 4590042 4672039 4789332 4582878 4586681 4590660 4608912 4615951 4616981 4623908 4628475 4634441 4637348 4639082 4647350 4650900 4656993 4658514 4666457 4674006 4675797 4692082 4710286 4711277 4713926 4716696 4720953 4721445 4723046 4733604 4747693 4749390 4784367 4791463 4793128 4809659 4810769 4814981 4824091 4827136 4843415 4850284 4853510 4864461 4876766 4890845 4899709 4903974 4911964 4912232 4934562 4937769 4939750 4941869 4943293 4944909 4945844 4956528 4959536 4988951 4997297 5003530 5008872 5017580 5020750 5026703 5044556 5056390 5077588 5094930 5096539 5103520 5104018 5108889 5114715 5133961 5135836 5137099 5137371 5139498 5141029 5144163 5144544 5145884 5148721 5152841 5159440 5160552 5179395 5186165 5192421 5194950 5207348 5212362 5213413 5217955 5222491 5225327 4581013 4581343 5450423 5621519 5253423 5257000 5258545 5262571 5264178 5266403 5271415 5291914 5296596 5308349 5337318 5340514 5362037 5386751 5390733 5399518 5401501 5404457 5416278 5421992 5446415 5457275 5460950 5470092 5485242 5488405 5493535 5494259 5510169 5515671 5518433 5526936 5527925 5528941 5531911 5540419 5541065 5546142 5559124 5581475 5584694 5590351 5590548 5602566 5610470 5613076 5614178 5614589 5625702 5628181 5631510 5632356 5636425 5637645 5656987 5659724 5667676 5676376 5683174 5685159 5692142 5697216 5704373 5706286 5715412 5718582 5725005 5725780 5727269 5734503 5735849 5740313 5751209 5757520 5757671 5768435 5771857 5778553 5784036 5815869 5818701 5826196 5828950 5833803 5835336 5841857 5845283 5846019 5846979 5850409 5857282 5860009 5862099 5862508 5868817 5878973 5880606 5889304 6046649 6344580 5898792 5899439 5908121 5909397 5910380 5918140 5919019 5925988 5928088 5939360 5946206 5954930 5968756 5969291 5973874 5979837 5979850 5982078 5984543 5990401 5990939 5997615 5997912 6001083 6003217 6005132 6005552 6006945 6011837 6013260 6019634 6022570 6025908 6026307 6032092 6034129 6036607 6036823 6037400 6037806 6041225 6049153 6057699 6058697 6060566 6063498 6065733 6066513 6066883 6068131 6068286 6069499 6078812 6091105 6099880 6100772 6103719 6105132 6108121 6113040 6113143 6116890 6129570 6138395 6141581 6141852 6148933 6150988 6156647 6158036 6158474 6161588 6180198 6185165 6186781 6189290 6190385 6190495 6190753 6191454 6191517 6194409 6195159 6199586 6201783 6203165 6203446 6214565 6223344 6227232 6228894 6230224 6235604 6240506 6258304 6262049 6264351 6270112 7046674 6939434 7093297 6545570 6546763 6547963 6548406 6551951 6558542 6564034 6569032 6573280 6586137 6592389 6594314 6594583 6598838 6598986 6615274 6616762 6626190 6630148 6638374 6644351 6649790 6649832 6650991 6659746 6666019 6667631 6671351 6672090 6672534 6678739 6681091 6683085 6683119 6685732 6686065 6686074 6686237 6687130 6688760 6690964 6692017 6707419 6708003 6708723 6709795 6713818 6719368 6720750 6727481 6728586 6729105 6733631 6739763 6744370 6745580 6745723 6745930 6746035 6756644 6758182 6761461 6763302 6771911 6772329 6778617 6783589 6788756 6788869 6797217 6799495 6803497 6806868 6807635 6810632 6814196 6826399 6828479 6833154 6841054 6848637 6849484 6851003 6855335 6858097 6859198 6860174 6865212 6867447 6873718 6876711 6886316 6887145 6888200 6894474 6898200 6898822 7308044 7483414 7488941 7521073 7535507 7198886 7199530 7200179 7204831 7204973 7210744 7211704 7213961 7217876 7220573 7222233 7227632 7229668 7230846 7231723 7236807 7237912 7240377 7240968 7243535 7251243 7252213 7256069 7264876 7267667 7268132 7269104 7270606 7276374 7277380 7278182 7281655 7283072 7287859 7292049 7295205 7297420 7299343 7300935 7302204 7303500 7305590 7311703 7312487 7318895 7320981 7326905 7329087 7330868 7332043 7338202 7341660 7343462 7343980 7344698 7346672 7350022 7352533 7355203 7355420 7357061 7359042 7363417 7363831 7364713 7367339 7368672 7370246 7370853 7371566 7372417 7374416 7376532 7379074 7382658 7385454 7387599 7387979 7396592 7397070 7403589 7405257 7406228 7409619 7415641 7416444 7416579 7419304 7419588 7423752 7424984 7425469 7432733 7432971 7436899 \n",
            "625063 576127 578649 637336 360277 466213 500069 506881 522519 524645 544677 565319 572915 576401 586158 587971 598482 609027 615610 627481 634130 638400 641945 651770 653272 303423 306115 311632 344958 368895 379378 390752 395071 397504 402763 402897 404288 413211 417864 421595 431741 441109 442529 445055 454380 456506 462198 462800 463970 464262 464503 464940 466625 468336 472558 477589 478467 480122 480262 480927 480929 483021 483707 484868 486217 486684 489528 489585 489763 489812 491493 491757 492838 494740 498125 498646 499301 499417 500838 501670 502385 503196 504127 505137 508486 510430 511186 511383 511932 512136 516577 518610 519616 522310 523252 524740 524989 527620 528621 528815 1252669 1066220 1113897 1150249 1225249 970072 1275185 741971 761714 804954 807786 1062988 1064814 1130413 1180462 1253004 800738 880457 894216 920367 934990 945747 967598 968216 1036585 1039949 1066090 1071212 1086204 1088107 1100729 1105698 1120282 1124245 1132413 1137647 1147687 1149454 1150791 1173007 1176259 1180793 1181975 1192835 1193281 1194979 1199928 1200103 1216272 1219634 1221329 1224794 1228791 1230024 1237788 1244042 1245441 1247537 1251182 1267219 1267302 1274747 1276543 1281378 1282372 1283509 1286152 1294803 1295886 1298073 1298183 1301867 1302585 1304314 1306422 1308280 670468 704312 705388 732977 780446 782054 782320 784404 793928 805344 809747 811897 815476 816528 821327 823290 836669 837503 843033 843100 860528 860902 867378 869192 1576475 1921858 1893335 1902421 1919831 1570616 1778618 1806495 1636840 1645131 1683061 1375114 1886051 1912531 1410377 1628438 1673579 1701207 1313043 1868618 1731236 1750223 1369660 1380687 1944444 1573799 1586971 1431017 1433791 1434744 1445877 1615562 1642850 1655089 1828376 1866084 1451070 1452432 1453432 1454392 1458252 1458755 1465834 1482834 1489438 1491590 1491627 1499509 1657084 1677703 1679657 1684778 1883915 1308973 1315910 1319192 1326046 1326074 1332640 1340171 1344756 1345429 1502869 1507673 1519158 1519688 1529693 1535011 1546674 1550480 1718410 1729177 1779157 1780066 1787037 1796297 1802482 1808808 1556005 1559806 1561790 1574091 1576842 1582697 1588207 1349126 1351595 1354242 1355028 1355869 1361017 1363470 1363504 1371438 1372557 1377261 1379464 1380609 1381295 1384957 2038652 2193399 1986166 2059320 2061277 2026808 2099202 2188547 2443157 2210740 2009208 2019515 2249110 2260417 2044858 2361237 2368637 2165528 1967886 1972675 1977718 1980179 1987665 1993131 2003957 2008116 2008138 2025245 2027934 2254623 2302439 2555894 2587275 2042268 2058606 2358451 2088996 2089611 2094930 2097575 2102830 2107932 2113993 2115381 2123316 2126891 2134877 2382505 2149026 2162052 2172331 2172376 2172873 2176980 2181837 2189622 2430516 2447078 2448325 1967600 1968007 1970957 1972414 1972670 2200225 2201296 2214480 2217419 2218659 2218992 2219094 2219594 2226908 2227515 2234056 2238629 2244169 2482430 2488131 2507942 2516453 2519361 1976894 1977327 1978488 1978716 1978771 1979233 1979519 1984145 1984680 1985897 1986062 1986126 1989395 1989928 1991615 1995194 1995371 1997541 2966913 3004283 2724268 2755417 2684367 2975545 3017879 2728134 2729773 2743436 2762065 2768799 2774331 2835900 3168136 2882928 2899866 2951012 2620789 2649402 2974158 3001441 3011441 3028447 3030884 2651496 2652625 2654791 2662116 2673181 2684413 2685983 2704817 2706945 3057040 3058182 3070272 3079916 3081766 3100753 3101220 2726602 2730187 2740214 2771552 3127903 3130097 3152541 3154451 3164403 2773392 2784001 2784446 2785727 2789284 2796528 2799399 2803708 2804206 2804341 2809379 2829611 3180181 3202202 3251110 2842150 2844354 2845402 2850308 2853561 2861249 2872440 2883016 2883478 2884057 2885590 2891145 2896248 2903501 2904793 2905343 2906855 2907656 2908486 2909396 2949610 2950763 2965101 2965386 2618863 2621696 2622028 2628058 2628581 2629286 2629500 2629808 2630124 2630840 2632174 3698782 3494053 3286994 3912289 3462729 3574722 3615122 3633046 3698910 3285163 3288177 3296419 3298728 3310792 3311617 3785646 3820938 3840231 3840431 3863256 3379118 3383340 3386214 3387912 3388761 3394981 3911440 3923256 3923631 3415441 3425886 3431320 3438307 3438570 3456989 3475586 3500118 3517967 3527829 3532009 3553893 3570834 3573763 3576590 3588379 3604575 3609870 3626223 3627569 3652268 3654943 3666609 3672457 3675161 3681776 3686454 3691664 3703650 3704234 3714867 3717082 3726904 3733596 3733636 3735758 3736391 3744633 3748525 3760397 3761603 3764120 3273279 3276564 3277134 3278318 3280521 3282621 3288080 3290094 3291676 3292762 3298172 3298609 3300134 3304355 3318388 3318682 3319384 3320134 3327509 3327752 3329801 3331550 3770613 3781486 3782529 3792844 3799778 3802145 3803180 3954153 4263840 4107108 4131678 4176233 4274871 4304304 4367337 4398212 4407736 4449030 4516906 4531701 3948868 3986585 3994570 4008569 4012101 4020376 4068563 4090058 4090474 4101647 4116890 4121407 4165767 4186095 4186477 4191632 4193882 4205169 4206838 4211228 4224920 4232526 4253140 4266589 4267035 4271876 4274583 4284906 4292014 4293701 4310726 4319967 4334153 4335337 4339776 4350917 4351661 4374586 4386766 4397367 4426468 4441139 4449866 4470208 4481691 4492468 4503974 4516388 4537910 4555218 4565294 3937391 3940641 3945690 3946097 3965822 3969340 3972238 3985303 3994818 4002295 4006091 4008719 4024550 4024695 4030368 4035770 4038845 4054082 4056588 4059500 4063870 4063899 4065103 4065499 4067386 4078914 4079583 4089943 4095101 4107371 4114993 4117757 4118481 4119659 4122955 4131270 4685146 4763886 4995108 4608293 4670466 4791514 4814299 5026572 5033042 5193070 4604346 4605064 4636121 4657871 4692034 4710352 4733356 4783589 4786143 4803598 4828724 4839706 4841187 4847589 4864335 4868714 4870502 4882396 4885637 4885815 4908195 4916624 4937469 4954712 4961188 5003684 5003838 5041807 5046167 5052366 5072145 5084811 5102919 5112594 5120652 5128267 5129458 5132017 5133154 5160383 5169508 5177699 5196595 5208396 5209144 5212419 5215489 5220509 4582938 4587844 4590345 4594116 4597521 4600369 4620894 4637919 4641631 4653612 4671406 4673108 4675118 4680321 4682993 4686740 4697449 4697508 4701320 4701337 4701414 4711722 4721485 4744875 4748490 4750080 4751188 4763469 4775304 4781144 4798610 4807008 4823727 4830215 4836230 4838710 4839127 4847376 4848435 4854134 4863172 4874977 5717142 5779444 5675189 5837052 5886412 5431402 5699882 5839089 5270554 5293913 5831754 5254910 5317107 5429756 5808587 5816332 5246701 5254165 5260009 5287747 5303036 5320179 5323900 5326219 5326286 5350698 5361802 5410095 5413645 5445374 5452566 5480540 5501732 5551338 5566251 5568757 5577069 5596276 5596928 5630874 5640459 5663945 5676408 5722490 5730070 5744787 5756142 5757290 5775349 5775474 5777377 5778683 5780279 5787873 5820793 5831249 5849529 5874104 5883110 5884354 5239346 5246917 5255072 5262373 5264165 5265659 5270186 5272033 5279660 5279919 5280067 5280879 5282875 5296863 5298043 5310780 5312493 5316138 5320318 5321832 5323851 5328892 5334399 5334737 5337329 5340132 5342502 5351041 5359921 5361733 5364070 5366480 5367477 5368765 5372097 5372736 5372772 5374465 5377974 5379961 5909779 6079452 6152836 6345305 6405565 6463351 5929331 5958314 6017223 6079876 6122305 6127598 6186214 6205210 6219457 6223022 6224021 6300579 6302235 6326295 6450709 6530282 6531920 5891751 5896712 5932149 5936882 5953837 5955086 5968015 6000351 6002659 6010224 6012418 6016646 6019350 6026062 6029795 6053843 6062886 6067038 6067589 6079037 6102808 6103608 6104007 6108743 6125532 6146213 6151918 6155323 6160218 6161235 6164417 6166813 6171867 6186386 6203746 6208911 6209099 6209928 6246517 6255737 6260535 6291233 6298771 6311255 6316021 6321658 6324508 6330656 6334602 6353346 6355815 6365320 6368351 6371340 6375644 6386490 6399011 6415403 6454025 6457298 6476545 6487023 6528419 6538134 6538712 6542548 5898525 5901124 5909616 5912440 5919086 5920455 5923871 5926854 5927444 5928733 5934174 6934033 7013109 7031588 7048737 7087239 7115298 7156146 7166585 7185894 7192722 6606716 6664754 6668136 6675858 6682505 6687355 6718668 6749922 6768409 6778816 6817682 6861832 6887494 6887964 6902591 6912759 6920855 6921046 6923558 6924566 6929639 6933601 6936264 6946427 6946878 6947710 6957228 6964387 6974228 6981888 6993409 6994446 7004201 7009797 7017177 7021842 7029100 7030444 7031628 7041614 7042188 7050287 7055227 7062654 7065828 7071792 7072174 7073520 7097378 7100681 7100844 7106479 7106912 7118851 7119597 7124139 7129130 7130713 7135414 7140230 7146228 7160699 7162270 7167004 7168737 7174141 7174730 7184292 7192843 6545050 6559184 6596697 6613038 6614446 6626349 6635954 6642824 6650809 6712600 6724005 6732582 6742149 6742321 6752477 6753658 6790220 6794294 6795324 6796981 6797424 7334506 7513520 7238618 7419487 7431264 7488103 7495586 7503116 7786325 7519865 7537417 7555212 7611835 7619572 7233313 7236691 7238854 7243079 7244820 7245067 7253479 7256414 7258619 7702485 7260559 7264209 7266138 7266755 7267819 7272974 7278578 7299879 7303196 7305441 7329407 7339278 7346390 7347629 7350926 7351315 7352000 7728805 7360328 7372221 7406303 7407006 7409204 7410927 7416152 7423979 7428087 7432863 7435044 7438555 7438730 7441528 7442508 7779008 7448718 7478121 7502125 7509853 7510803 7519714 7530652 7535004 7578077 7586092 7596561 7605799 7609238 7616782 7638900 7640513 7661201 7663547 7671122 7674857 7677879 7203626 7246051 7249778 7698655 7704981 7267513 7269827 7274490 7281868 7282499 7285091 7288791 7291062 7298352 7300749 7305784 7308529 7309182 7310047 7310695 7319712 \n",
            "492940 532638 632999 650105 650839 654079 529201 536766 550570 550718 554571 555866 564309 564813 566929 568616 572108 572794 574494 576669 579158 581012 587517 604390 604586 606516 606746 606945 607690 609903 610267 613790 620545 621401 621584 622569 623001 623874 625663 625944 626976 629125 635443 636214 639943 641110 641737 642379 642393 644765 645417 647494 648524 651104 651505 652218 652513 653272 653486 653528 654272 365594 415821 442320 443593 456387 460632 465162 468671 468932 472018 477176 477185 477402 481584 483892 485099 486403 486479 488372 489550 489723 491088 496038 496152 496195 496312 498176 499167 503736 504537 504774 505580 505925 510600 513475 514771 515971 515988 516926 1291868 1047959 1198096 853190 1226243 878663 1032794 1204335 1242465 1056828 1074642 1094939 1111407 1157169 1162789 1173398 1221993 1222499 1229637 1243351 1266832 1273909 1279140 1295395 1308580 780510 986151 1023453 1071962 1111352 1115279 1119235 1123158 1145994 1147830 1153190 1176676 1181916 1201536 1208495 1210722 1215144 1224617 1224775 1231827 1234260 1234748 1235129 1244193 1252703 1255635 1256190 1256911 1258031 1259202 1259691 1272587 1274026 1274832 1275503 1277891 1281385 1285783 1286620 1288096 1291141 1293337 1295913 1298407 1299943 1302248 1303563 825491 860234 863795 875171 884647 889643 917626 960332 964142 965937 969874 982105 1013151 1018251 1036192 1039681 1050433 1067615 1074607 1079026 1081315 1084767 1089662 1091512 1093155 1094082 1096845 1104035 1938413 1852565 1601700 1865180 1460825 1511058 1598765 1917874 1660015 1764225 1855051 1876709 1878114 1758128 1774104 1794631 1809217 1830669 1836861 1853597 1855895 1868315 1882576 1893273 1915285 1917941 1920683 1926689 1958901 1372976 1433456 1529653 1576672 1589479 1600700 1649949 1656034 1659278 1666261 1674290 1725033 1744615 1765616 1770435 1782845 1783763 1814067 1819517 1838893 1845842 1870069 1879791 1883827 1888919 1889041 1889440 1902173 1903390 1907540 1911110 1916935 1918763 1921424 1923604 1925931 1927693 1931726 1932744 1932988 1936829 1948742 1948784 1955441 1958177 1961155 1312336 1402673 1405269 1418497 1452952 1472051 1492957 1544379 1555428 1558257 1566596 1569966 1583417 1584713 1607775 1609632 1641082 1645446 1660879 1675263 1685611 1702713 1702782 1708268 1730936 2605412 2603676 2173953 2447871 2380355 2350028 2194103 2570158 1978186 2010651 2213180 2351959 2376201 2541190 2551483 2571841 1982690 2003156 2084431 2197571 2237477 2363827 2414224 2508662 2129739 2352975 2489427 2517465 2558613 2574866 2579119 2589961 2237260 2255006 2317698 2333535 2499461 2559289 2065476 2070685 2083731 2320707 2347591 2351523 2408017 2421055 2454082 2465867 2524661 2531999 2536863 2562544 2564666 2569066 2609693 2087486 2094858 2104625 2160211 2198194 2245233 2284724 2286228 2317722 2363000 2370557 2378229 2390893 2392368 2394155 2459444 2460913 2476608 2477521 2483535 2509227 2517661 2535512 2543474 2548223 2551535 2555741 2564409 2603024 2603356 2606199 2607289 2607376 2610220 2611834 2616302 2086771 2133125 2156337 2159635 2197405 2203467 2271600 2274932 2330174 2856019 3022313 2907487 3016606 3040444 2918194 2947243 3092826 2655912 2713308 2690301 2765912 3060446 2796695 3139728 3234363 3238869 2711955 2774227 2826072 2831040 3189479 2656965 2971002 3053916 3143926 3152627 3191836 3195258 3218980 3222803 3254208 3263021 2844222 2924763 2937696 2951831 2971574 2974672 3025128 3043363 3049306 3057027 3073950 3078644 3114846 3131423 3147948 3192218 3228326 3246242 3249992 3259760 3264069 2683971 2798357 2799938 2814213 2895291 2898064 2949671 2994109 3065866 3111353 3111758 3112300 3126885 3158413 3165171 3181010 3207286 3207409 3232885 3242958 3249843 3264784 2635079 2662258 2702997 2730047 2825924 2838497 2883581 2918331 2927251 2939710 2956081 2964613 2975042 2979858 2990325 2990605 3130720 3158427 3160160 3167982 3174243 3177923 3215124 3234532 3303318 3354882 3831167 3282491 3399241 3334415 3359236 3454766 3512021 3534361 3907293 3341702 3679886 3399837 3597154 3758553 3780929 3833455 3340041 3449319 3566814 3589724 3603697 3614121 3626506 3640357 3641020 3664197 3667868 3704988 3705256 3707030 3711229 3724413 3738775 3756718 3757879 3769908 3787423 3812817 3824210 3826728 3853061 3859748 3871148 3891488 3892557 3915058 3399725 3437338 3517618 3534610 3535160 3536012 3545612 3559775 3584409 3589374 3589599 3595720 3597908 3598725 3600959 3603787 3607068 3613763 3628820 3633630 3639458 3648148 3656176 3662050 3663276 3666348 3678875 3679228 3682611 3685384 3691696 3699176 3700186 3717608 3721062 3721439 3723615 3724375 3726913 3728758 3735353 3745064 3749419 3758056 3767773 3772324 3774193 3779987 3788268 3795498 3799214 3800179 4545070 4575321 4145043 3999654 4508448 4214603 4217467 4314982 3960386 4372923 4517176 4530989 4363601 4416515 4526332 4086884 4457770 4477919 4524778 4563596 3954885 3964323 4081060 4155882 4285623 4296145 4338749 4349889 4362607 4373732 4411441 4413734 4434438 4463186 4470540 4475745 4480557 4486033 4570639 3976623 4036880 4108452 4121564 4185197 4209314 4251422 4316273 4432084 4461737 4489956 4562158 3927246 3952394 3966161 4013027 4019042 4092063 4175934 4176031 4176473 4181720 4287404 4291932 4301262 4302756 4328732 4344016 4344769 4383188 4483010 3930736 3933454 3944630 3952520 3952700 3966046 3977209 3977891 3988215 3990189 3994487 3995603 4001976 4008730 4009287 4011461 4015654 4018315 4027382 4027463 4031704 4032468 4033747 4035895 4037901 4044405 4049034 4049725 4050511 4050532 4599120 4893967 5007683 4905833 4968540 4987919 4640042 4696758 4721792 4770021 4818769 4819777 4822667 4831686 4841459 4846437 4848344 4864511 4865656 4878130 4894561 4964502 4968150 4972261 4977180 5013779 5015959 5032262 5047996 5050707 5070563 5077156 5083985 5089526 5099112 5107786 5113537 5131943 5150792 5153381 5157118 5159109 5161050 5173782 5223515 4770830 4773247 4829337 4843465 4851947 4883775 4884056 4907090 4916550 4941515 5043457 5062701 5066526 5076851 5092793 5098747 5101607 5169146 5178885 5205714 4892562 4897602 4910754 4976057 4977960 5019812 5024983 5089508 5097542 5104644 5128936 5147726 5214295 5228497 4725275 4779936 4835998 5042461 5087947 5225461 5229218 4709020 4791875 4932105 4982348 5031560 5170161 5188413 4647079 5049604 4583896 4653018 4664676 4730330 4800186 5247193 5238178 5261106 5357067 5398027 5492820 5661935 5242125 5268978 5330039 5341655 5366055 5491355 5496175 5256268 5282631 5289156 5333385 5338091 5367238 5400640 5486365 5570301 5301978 5320364 5631732 5658733 5710361 5778163 5557108 5624157 5394647 5527898 5871485 5272675 5417503 5457937 5558455 5280039 5526505 5467426 5795033 5638610 5292754 5443276 5350010 5441699 5663633 5613359 5288197 5754552 5453230 5268043 5287134 5312416 5545248 5545463 5249332 5326238 5448923 5525216 5551813 5620295 5717929 5270825 5743589 5832795 5273865 5292566 5330604 5341819 5342556 5400108 5432928 5446689 5474234 5573485 5577113 5587688 5646276 5712781 5836531 5286857 5465613 5575061 5590030 5595972 5606002 5634863 5649830 5664348 5672375 5710857 5716208 5716501 5733666 5766989 5777716 5799797 5823390 6090639 6509567 6249854 6082923 5960912 5904757 5965198 5987018 6290403 6108521 6247908 6178222 6133621 6323837 6142900 6220871 6277640 5970480 6243396 6304659 5922070 5957441 6009612 6221649 6289862 6293393 6346988 5928957 5954422 6004838 6351838 6406311 6432108 6456405 5918100 5957231 6023021 6037026 6097181 6113172 6127211 6156177 6519486 6187977 6343456 6344904 6356131 6381352 6400821 6404688 6469986 6473761 6481121 5901071 5907072 5915413 5924136 5925173 5926884 5941423 5949032 5950802 5988420 5992078 5995590 6016073 6019904 6048325 6086811 6102623 6119255 6180773 6193154 6212075 6223543 6225665 6238093 6252064 6262174 6266074 6266502 6298295 6299708 6325816 6339576 6340755 6351954 6359774 6381570 6394747 6422754 6427029 6445167 6457001 6459320 6467304 6475298 5890155 5901443 5913107 6550548 6584130 6696550 6975462 6814748 6988725 6751597 6851857 6716754 6614637 6949316 6763870 6800458 6851139 6599574 6605405 6828209 6585142 6974622 6941103 6671475 6696853 6770051 7088159 7125323 7144140 6839413 6853591 7175501 7191864 6579970 6936208 6994782 6722299 7047913 7066444 7083754 7091867 7133712 6787275 6889408 6894605 7171375 6595271 6603577 6630384 6634503 6634763 6639435 6651756 6673390 6715515 6759387 7048191 7147020 6798258 6811409 6849817 6866011 6878654 6888864 7164732 6547676 6548334 6578740 6596709 6602019 6954667 6956484 6963822 6653274 6658526 6659863 6689780 6708765 6713673 6740226 7047794 7049607 7052562 7054743 7119055 7160094 6788207 6796156 6802943 6830280 6855585 6897733 6920429 6931161 6934168 6937742 6953955 6987038 6988611 6990543 6995361 7002482 7006808 7355578 7503527 7302852 7441150 7408436 7292390 7257025 7474256 7682026 7608386 7703506 7730862 7203713 7289770 7701802 7377244 7397283 7439347 7613369 7446393 7492224 7503558 7271252 7279070 7387437 7496627 7504822 7299730 7304019 7309727 7325030 7340045 7528152 7549495 7379065 7420630 7597102 7626321 7814189 7446402 7465342 7470616 7495142 7515624 7545211 7280751 7281231 7302848 7350250 7607138 7607933 7610004 7628215 7359200 7369824 7400201 7406152 7410988 7661465 7449048 7450475 7457324 7459089 7463826 7473550 7483761 7490375 7500198 7204407 7212349 7225098 7227297 7234930 7687258 7692359 7531994 7540564 7542192 7553546 7558949 7568849 7261694 7264440 7271830 7328520 7345229 7345736 7345806 7349580 7351167 7351682 7735224 7592422 7596056 7609796 7617519 7632880 7359698 7368841 7374561 \n",
            "574048 319272 509176 554855 559319 606282 629553 454615 560708 564166 568275 570978 575213 581177 583816 592852 598022 620423 644411 646503 647144 648662 652149 272793 312788 353558 429662 469808 473443 480499 482245 484486 489574 495642 505427 509142 509570 514367 514595 516311 517485 524132 524303 530814 536834 541909 542964 545611 554825 554897 555562 557320 560959 560986 561234 562050 562906 566657 567810 571100 572480 572606 573725 574697 575262 575717 576311 578878 579625 580043 584990 585103 586012 587706 587937 588831 591582 593030 593094 593329 595708 596642 597199 597264 597275 598213 598331 598820 600374 600608 601814 605424 606904 608007 608674 609323 610121 610524 611715 612420 1064412 1212301 1165199 1279350 1221518 1244284 1244680 972283 1009627 1094325 1252175 1260777 1268224 1292801 1307186 1182901 1216202 1237692 1060174 1086354 1091797 1100362 1123673 1133630 1149061 1255132 1255449 1260932 1264037 1275180 1288477 1150172 1153735 1184612 1184758 1189700 1299546 1303931 1305020 1307673 1308657 1205270 1207494 1210580 1215826 1224063 1229376 1233908 1239968 1244790 1052359 1056242 1058846 1082727 1084014 1086005 1088113 1090403 1094766 1095157 1098492 1120177 1123313 1125262 1132786 1137509 1139087 1139990 1143328 1145536 1248252 1249709 1253140 1263190 1266363 1269704 1283900 1284511 1286084 1286746 1287506 1290151 1290708 1296362 1149781 1150162 1157819 1158335 1160654 1161891 1163208 1163223 1164708 1167858 1173572 1175021 1178008 1178115 1181306 1185345 1324553 1337544 1384210 1393825 1310814 1315547 1317017 1329501 1341171 1477389 1427999 1443623 1351931 1352887 1363146 1480921 1490375 1499799 1418128 1435011 1439307 1440123 1366052 1485951 1486511 1565048 1566093 1500616 1511639 1512826 1538358 1547424 1318251 1554073 1571537 1576178 1588176 1596407 1597752 1690975 1484789 1613338 1622281 1435168 1661370 1772693 1774156 1467924 1527674 1380085 1876256 1951930 1932445 1450838 1348497 1535638 1403109 1403478 1408418 1310970 1313908 1328748 1331627 1335584 1337183 1337396 1449801 1450239 1462119 1463176 1467099 1473971 1354489 1356513 1357420 1372172 1373926 1389397 1392205 1395926 1397566 1510143 1520730 1528193 1538214 1541955 1546143 1546969 1547567 1404138 1406358 1410731 1416376 1420847 1422734 1424030 1424735 1428485 1431247 1431306 2078346 2416096 1964794 1971491 2009700 2017265 2019827 2024111 2026282 2032107 2037663 2041809 2042513 2044133 2049424 2064041 2065735 2066347 2069117 2286723 2090038 2108215 2120333 2122314 1965883 1966467 1967000 1967323 1967341 1967673 1967903 1968053 1968391 1969524 1970358 1970572 1971051 1971293 1972945 2149332 2163983 2164556 2167537 2176617 2177322 2190664 1975013 1975317 1975448 1977443 1978657 1978729 1978972 1980292 1982427 1982678 1985231 1985827 1986384 1987644 1987684 1988471 1988761 1989992 1990625 1991467 1994940 1995769 1995853 1997742 1997924 1997983 1998944 2001100 2002257 2003252 2003824 2003862 2004313 2004531 2006391 2006555 2008918 2012063 2013480 2018890 2020147 2021350 2021376 2022824 2024032 2024603 2024688 2025180 2025715 2027143 2027526 2194041 2198286 2203926 2637419 2696780 3012771 2790018 2801485 2834341 2633334 2634972 2635640 2640138 2641906 2645297 2645586 2648331 2887766 2911462 2932336 2655413 2657855 2659405 2661693 2670573 2677847 2680407 2681328 2683961 2688688 2690875 2691398 2693069 2696110 2698483 2699034 2701931 2708624 2708798 2983712 2992625 2716615 2721213 2730999 2749147 2756996 2759237 2762340 2767240 3069468 2777697 2793465 2798901 2817327 2825541 2827907 2830382 2831778 3137884 2856055 2857964 2863222 2868432 2882644 2885684 2886063 2890490 2892255 2896664 2617743 2617825 2618192 2619897 2620190 2621806 2622058 2623315 2623701 2636094 2645154 2646495 2646913 2647439 2648597 2649758 2650027 3197636 2901088 2908354 2918503 2924952 2926611 2928977 2944556 2650274 2651917 2653042 2653060 2654169 2656843 2660279 2660451 2661372 3369410 3728570 3333973 3467398 3482560 3519427 3528058 3598087 3598848 3608309 3634099 3759228 3760448 3282270 3292821 3304101 3306529 3316428 3331865 3332501 3858148 3340647 3344409 3357188 3360659 3369148 3375143 3380691 3382770 3405259 3890770 3424281 3454962 3484116 3516941 3547768 3575245 3578568 3667460 3668596 3696741 3701631 3712147 3728608 3729846 3733207 3767144 3274467 3277429 3279010 3280324 3281771 3286239 3289026 3308067 3308493 3315005 3317011 3317460 3323792 3329370 3329779 3330393 3790358 3815085 3815301 3828310 3831181 3841583 3852601 3852647 3334317 3338005 3345327 3351752 3352987 3356525 3356676 3358998 3363761 3367258 3374491 3382735 3384324 3389011 3399730 3408362 3878756 3915881 3423104 3424311 3429271 3456841 3464620 3465164 3483740 3490297 3494718 3497851 3500662 4258602 4006018 4017589 4126848 4292242 3943745 3987297 3998997 4020365 4319129 4408568 4479720 3970998 4043474 4068487 4073361 4217145 4222543 4237582 4238287 4251424 4260121 4336908 4410690 4520620 4557969 4565808 3928162 3941594 3946688 3977224 3988732 4000115 4019948 4026406 4062361 4069005 4070131 4073910 4108656 4121302 4137496 4149849 4170791 4175589 4177868 4186107 4192830 4226016 4249782 4279771 4294629 4305404 4316069 4369830 4373909 4380391 4405966 4408609 4455205 4467648 4469928 4511880 4521242 3929977 3930564 3931244 3941415 3952781 3957093 3960732 3962652 3981356 3985366 3990789 3994258 3999055 3999317 3999369 4004904 4006848 4007830 4011619 4017785 4019678 4024990 4033293 4044852 4057225 4067269 4076781 4080400 4082122 4084225 4085269 4086170 4087091 4096957 4098968 4100053 4653837 5048447 5131319 4604537 4605045 4661541 4680721 4739579 4783742 4814996 4829953 5053352 5083277 5097869 5123361 4587521 4597475 4606589 4608958 4633070 4656477 4799041 4826161 4834818 4851637 4855090 4867548 4894353 4898331 4994666 5058217 5080082 5103089 5124731 5185469 5221643 4590275 4592693 4596923 4598662 4607950 4614457 4617549 4624240 4624704 4630046 4641821 4648259 4659442 4663462 4665574 4674571 4678000 4679246 4680815 4686135 4696810 4698665 4699592 4709291 4717616 4719577 4723755 4731674 4743342 4745441 4748891 4764535 4778813 4780474 4784375 4789094 4793530 4796743 4801957 4808858 4818280 4820097 4831962 4833419 4851511 4854545 4864538 4879892 4888517 4888900 4889852 4890294 4893844 4900689 4913887 4915086 4918495 4920226 4927866 4935881 4940042 4944975 4964673 4970554 5389429 5334237 5391278 5544971 5300075 5317550 5333723 5378923 5471227 5508561 5544468 5602849 5801341 5857488 5250901 5278546 5345021 5375175 5378770 5429488 5466746 5474127 5487430 5518656 5532274 5546837 5568989 5599607 5641823 5720087 5764610 5814146 5835290 5839169 5844659 5845509 5868110 5872347 5886511 5264791 5274275 5283650 5307129 5311614 5317694 5325715 5333204 5334769 5342044 5352031 5356491 5364316 5378491 5388001 5394142 5404835 5407033 5413095 5427827 5440559 5447281 5454235 5467130 5467201 5483338 5491461 5493594 5495111 5500063 5503460 5505657 5507803 5508050 5508896 5524535 5527692 5538472 5547562 5554467 5565927 5569819 5574294 5576661 5584015 5588479 5590309 5593295 5593563 5598349 5602804 5604815 5607847 5613646 5626322 5627026 5627378 5628412 5630179 5630497 5635217 6150503 5923534 6062481 6145407 6239518 6248647 6271300 6276574 6282354 6349734 6483624 5929448 5931629 5932726 5952703 5970442 6012759 6055567 6124434 6185168 6274457 6275654 6284050 6292253 6378456 6406527 6424803 6475031 6512305 5893132 5895099 5896122 5902002 5902473 5906470 5908448 5908473 5916356 5920958 5922037 5928185 5929422 5933850 5935914 5938032 5946523 5951590 5961802 5973374 5977153 5984291 5998332 6008559 6020316 6020631 6021011 6032776 6047215 6049369 6060826 6063466 6074838 6101894 6110574 6110987 6121389 6129267 6148164 6151031 6154203 6157068 6171983 6174826 6177695 6189070 6191567 6196551 6198519 6209158 6232079 6235142 6239423 6249223 6253563 6256138 6258519 6259736 6284113 6286211 6298039 6322099 6361705 6362257 6367904 6375453 6376883 6397067 6399378 6400511 6406706 6877953 6974778 6743700 6795714 6815207 6856948 6948646 7098424 6608692 6656818 6666782 6713330 6726657 6751456 6775485 6787807 6809646 6841886 6843605 6848894 6936798 6939084 6960069 7013867 7035381 7119314 7169377 7196900 6561516 6566656 6577351 6584172 6586100 6605959 6619070 6629930 6633989 6653204 6658279 6662853 6666241 6673664 6679862 6706775 6715952 6729690 6732609 6733925 6735561 6743394 6747134 6769829 6771965 6787058 6796003 6796009 6832177 6837080 6846003 6866330 6878408 6881001 6889517 6901373 6910263 6917251 6919984 6921497 6932503 6967558 7013305 7028427 7050345 7056535 7074532 7084927 7097640 7109432 7119772 7129178 7130338 7157256 7161879 7166396 7186893 7189650 7195386 7197776 6545552 6548268 6549199 6552559 6553357 6569117 6574799 6575220 6579132 6581530 6586063 6588265 7479225 7551910 7678424 7348866 7409579 7414316 7622538 7717038 7842221 7219742 7220518 7225288 7779888 7311042 7786627 7462918 7532320 7571042 7660685 7675515 7744080 7752823 7206924 7207663 7247436 7773315 7264513 7278562 7279080 7297289 7306204 7316083 7327225 7335874 7790475 7369614 7374524 7386543 7392071 7400387 7417313 7425666 7439125 7441793 7826448 7443041 7452269 7460149 7463660 7465560 7477174 7484376 7508026 7518187 7831887 7832526 7834681 7519433 7527979 7543104 7547377 7552055 7557016 7835915 7837990 7584172 7615317 7616223 7618367 7622306 7641926 7642268 7646367 7682299 7685014 7695832 7706274 7707925 7741092 7749909 7771172 7775497 7207502 7208323 7212313 7212525 7214954 7215672 7221308 7224963 7225052 7227352 7229664 7233707 7236151 7236317 7237873 7238669 7240968 7241526 \n",
            "after merge,scores: 0.212766 0.212766 0.191489 0.191489 0.191489 0.170213 0.170213 0.148936 0.148936 0.148936 0.148936 0.148936 0.148936 0.148936 0.148936 0.148936 0.148936 0.12766 0.12766 0.12766 0.12766 0.12766 0.12766 0.12766 0.12766 0.12766 0.12766 0.12766 0.12766 0.12766 0.12766 0.12766 0.12766 0.12766 0.12766 0.12766 0.12766 0.12766 0.12766 0.12766 0.12766 0.12766 0.12766 0.12766 0.12766 0.12766 0.12766 0.12766 0.12766 0.12766 0.12766 0.12766 0.12766 0.12766 0.12766 0.12766 0.12766 0.12766 0.12766 0.12766 0.12766 0.12766 0.12766 0.12766 0.12766 0.12766 0.12766 0.12766 0.12766 0.12766 0.12766 0.12766 0.12766 0.12766 0.12766 0.12766 0.12766 0.12766 0.12766 0.12766 0.12766 0.12766 0.12766 0.12766 0.12766 0.12766 0.12766 0.12766 0.12766 0.12766 0.12766 0.12766 0.12766 0.12766 0.12766 0.12766 0.12766 0.12766 0.12766 0.12766 0.468085 0.446809 0.382979 0.361702 0.361702 0.340426 0.319149 0.319149 0.319149 0.319149 0.319149 0.319149 0.319149 0.297872 0.297872 0.297872 0.297872 0.297872 0.297872 0.297872 0.276596 0.276596 0.276596 0.276596 0.276596 0.276596 0.276596 0.276596 0.276596 0.276596 0.276596 0.276596 0.276596 0.276596 0.276596 0.276596 0.276596 0.255319 0.255319 0.255319 0.255319 0.255319 0.255319 0.255319 0.255319 0.255319 0.255319 0.255319 0.255319 0.255319 0.255319 0.255319 0.255319 0.255319 0.234043 0.234043 0.234043 0.234043 0.234043 0.234043 0.234043 0.234043 0.234043 0.234043 0.234043 0.234043 0.234043 0.234043 0.234043 0.234043 0.234043 0.234043 0.212766 0.212766 0.212766 0.212766 0.212766 0.212766 0.212766 0.212766 0.212766 0.212766 0.212766 0.212766 0.212766 0.212766 0.212766 0.212766 0.212766 0.212766 0.212766 0.212766 0.212766 0.212766 0.212766 0.212766 0.212766 0.212766 0.212766 0.212766 0.87234 0.808511 0.765957 0.765957 0.765957 0.765957 0.765957 0.765957 0.765957 0.744681 0.744681 0.744681 0.744681 0.723404 0.723404 0.723404 0.702128 0.680851 0.638298 0.617021 0.617021 0.617021 0.617021 0.617021 0.617021 0.617021 0.617021 0.617021 0.595745 0.595745 0.595745 0.595745 0.595745 0.595745 0.595745 0.595745 0.595745 0.595745 0.595745 0.595745 0.595745 0.595745 0.595745 0.595745 0.595745 0.595745 0.595745 0.595745 0.595745 0.595745 0.574468 0.574468 0.574468 0.574468 0.574468 0.574468 0.574468 0.574468 0.574468 0.574468 0.574468 0.574468 0.574468 0.574468 0.574468 0.574468 0.574468 0.574468 0.553191 0.553191 0.553191 0.553191 0.553191 0.553191 0.553191 0.553191 0.553191 0.553191 0.553191 0.553191 0.553191 0.553191 0.553191 0.553191 0.553191 0.553191 0.553191 0.553191 0.553191 0.553191 0.553191 0.531915 0.531915 0.531915 0.531915 0.531915 0.531915 0.531915 0.531915 0.531915 0.93617 0.93617 0.93617 0.916667 0.914894 0.897959 0.897959 0.893617 0.88 0.877551 0.875 0.875 0.851064 0.851064 0.851064 0.851064 0.851064 0.851064 0.84 0.84 0.833333 0.833333 0.833333 0.833333 0.829787 0.816327 0.814815 0.808511 0.808511 0.808511 0.803922 0.8 0.8 0.795918 0.795918 0.795918 0.791667 0.777778 0.770833 0.769231 0.765957 0.765957 0.765957 0.765957 0.745098 0.745098 0.744681 0.744681 0.744681 0.734694 0.734694 0.723404 0.723404 0.723404 0.72 0.708333 0.705882 0.705882 0.702128 0.696429 0.680851 0.680851 0.653846 0.632653 0.632653 0.617021 0.617021 0.617021 0.617021 0.617021 0.617021 0.617021 0.617021 0.617021 0.617021 0.612245 0.604167 0.604167 0.604167 0.604167 0.595745 0.595745 0.595745 0.595745 0.595745 0.58 0.58 0.574468 0.574468 0.574468 0.571429 0.571429 0.568627 0.568627 0.553191 0.553191 0.54717 0.541667 0.531915 0.531915 0.672414 0.586207 0.482759 0.385965 0.37931 0.375 0.362069 0.362069 0.362069 0.357143 0.35 0.35 0.35 0.339286 0.339286 0.338983 0.33871 0.33871 0.333333 0.333333 0.333333 0.333333 0.328125 0.328125 0.322034 0.322034 0.321429 0.321429 0.318182 0.315789 0.311475 0.311475 0.311475 0.311475 0.310345 0.310345 0.310345 0.310345 0.307692 0.306452 0.306452 0.306452 0.303571 0.301587 0.3 0.3 0.3 0.298246 0.296875 0.295082 0.295082 0.295082 0.295082 0.293103 0.293103 0.293103 0.292308 0.290323 0.290323 0.288136 0.288136 0.288136 0.288136 0.285714 0.285714 0.285714 0.285714 0.285714 0.283333 0.283333 0.280702 0.280702 0.280702 0.280702 0.278689 0.276923 0.276923 0.276923 0.275862 0.274194 0.274194 0.274194 0.271186 0.269841 0.267857 0.267857 0.267857 0.266667 0.266667 0.266667 0.265625 0.265625 0.265625 0.265625 0.263158 0.262295 0.261538 0.258621 0.258065 0.258065 0.439394 0.352941 0.318182 0.309859 0.30137 0.3 0.298507 0.295775 0.295775 0.294118 0.287879 0.287671 0.283582 0.283582 0.279412 0.268657 0.268657 0.268657 0.268657 0.267606 0.264706 0.26087 0.26087 0.260274 0.260274 0.257576 0.257576 0.257143 0.257143 0.257143 0.257143 0.253731 0.253521 0.25 0.25 0.25 0.246575 0.246575 0.246377 0.242857 0.242857 0.242424 0.242424 0.242424 0.242424 0.242424 0.242424 0.242424 0.239437 0.239437 0.239437 0.238806 0.238806 0.238806 0.238806 0.238806 0.236111 0.236111 0.236111 0.235294 0.231884 0.231884 0.228571 0.228571 0.228571 0.228571 0.228571 0.227273 0.227273 0.225352 0.225352 0.225352 0.223881 0.223881 0.223881 0.223881 0.223881 0.222222 0.222222 0.222222 0.222222 0.220588 0.220588 0.220588 0.219178 0.219178 0.219178 0.219178 0.219178 0.219178 0.219178 0.219178 0.219178 0.217391 0.217391 0.217391 0.217391 0.217391 0.217391 0.217391 0.386667 0.355263 0.346667 0.307692 0.293333 0.293333 0.289474 0.283784 0.28 0.276316 0.272727 0.27027 0.27027 0.266667 0.265823 0.263158 0.263158 0.263158 0.25974 0.25974 0.256757 0.253333 0.253333 0.253333 0.25 0.25 0.246753 0.246753 0.246575 0.24 0.236842 0.236842 0.236842 0.236842 0.233766 0.233766 0.233766 0.230769 0.230769 0.230769 0.230769 0.230769 0.230769 0.230769 0.226667 0.226667 0.226667 0.226667 0.223684 0.223684 0.223684 0.223684 0.223684 0.220779 0.220779 0.220779 0.220779 0.220779 0.220779 0.220779 0.220779 0.220779 0.220779 0.219178 0.219178 0.216216 0.216216 0.216216 0.216216 0.216216 0.213333 0.213333 0.213333 0.213333 0.213333 0.213333 0.210526 0.210526 0.210526 0.210526 0.210526 0.210526 0.210526 0.210526 0.210526 0.207792 0.207792 0.207792 0.207792 0.207792 0.207792 0.207792 0.207792 0.205479 0.205128 0.205128 0.205128 0.205128 0.205128 0.205128 0.43038 0.3125 0.301205 0.3 0.268293 0.265823 0.253165 0.243902 0.243902 0.243902 0.243902 0.243902 0.240964 0.240964 0.240506 0.240506 0.231707 0.231707 0.231707 0.227848 0.227848 0.227848 0.227848 0.225 0.225 0.225 0.225 0.222222 0.222222 0.222222 0.222222 0.219512 0.219512 0.216867 0.21519 0.21519 0.2125 0.2125 0.2125 0.2125 0.2125 0.2125 0.2125 0.209877 0.209877 0.209877 0.209877 0.209877 0.209877 0.209877 0.209877 0.207317 0.207317 0.207317 0.207317 0.207317 0.207317 0.207317 0.204819 0.204819 0.204819 0.204819 0.204819 0.204819 0.202532 0.202532 0.202532 0.202532 0.202532 0.202532 0.202532 0.202532 0.202532 0.202532 0.202532 0.2 0.2 0.2 0.2 0.2 0.2 0.2 0.2 0.2 0.197531 0.197531 0.197531 0.197531 0.197531 0.197531 0.197531 0.197531 0.197531 0.197531 0.197531 0.197531 0.197531 0.197531 0.197531 0.195122 0.290698 0.287356 0.285714 0.275862 0.267442 0.261364 0.244186 0.238095 0.238095 0.238095 0.229885 0.22619 0.22093 0.214286 0.214286 0.214286 0.214286 0.214286 0.211765 0.211765 0.209302 0.209302 0.209302 0.202381 0.202381 0.202381 0.202381 0.202381 0.202381 0.202381 0.202381 0.202381 0.202381 0.202381 0.202381 0.202381 0.2 0.2 0.2 0.2 0.197674 0.197674 0.197674 0.197674 0.197674 0.197674 0.195402 0.195402 0.195402 0.192771 0.190476 0.190476 0.190476 0.190476 0.190476 0.190476 0.190476 0.190476 0.190476 0.190476 0.190476 0.190476 0.188235 0.188235 0.188235 0.188235 0.188235 0.188235 0.188235 0.188235 0.188235 0.188235 0.188235 0.188235 0.188235 0.186047 0.186047 0.186047 0.186047 0.186047 0.186047 0.186047 0.186047 0.186047 0.186047 0.186047 0.186047 0.186047 0.186047 0.186047 0.183908 0.183908 0.183908 0.183908 0.183908 0.183908 0.183908 0.183908 0.181818 0.180723 0.363636 0.307692 0.307692 0.306818 0.304348 0.3 0.296703 0.293478 0.285714 0.284091 0.282609 0.280899 0.277778 0.274725 0.274725 0.269663 0.263736 0.25 0.25 0.233333 0.230769 0.227273 0.224719 0.224719 0.21978 0.211111 0.204545 0.202247 0.202247 0.202247 0.202247 0.202247 0.2 0.2 0.2 0.197802 0.197802 0.197802 0.197802 0.197802 0.197802 0.195652 0.193182 0.193182 0.193182 0.191011 0.191011 0.191011 0.191011 0.191011 0.188889 0.188889 0.188889 0.188889 0.186813 0.186813 0.186813 0.186813 0.184783 0.184783 0.184783 0.184783 0.184783 0.181818 0.181818 0.181818 0.181818 0.181818 0.181818 0.181818 0.181818 0.179775 0.179775 0.179775 0.179775 0.179775 0.179775 0.179775 0.179775 0.179775 0.179775 0.179775 0.177778 0.177778 0.177778 0.177778 0.177778 0.177778 0.177778 0.177778 0.177778 0.177778 0.177778 0.177778 0.177778 0.177778 0.177778 0.177778 0.177778 0.177778 0.305263 0.304348 0.301075 0.297872 0.297872 0.297872 0.297872 0.297872 0.294737 0.294737 0.293478 0.291667 0.291667 0.291667 0.291667 0.291667 0.290323 0.290323 0.290323 0.28866 0.28866 0.287234 0.287234 0.287234 0.284211 0.284211 0.284211 0.284211 0.284211 0.282609 0.282609 0.28125 0.28125 0.27957 0.276596 0.276596 0.276596 0.276596 0.276596 0.273684 0.271739 0.268817 0.268817 0.268041 0.268041 0.265957 0.265957 0.265957 0.265957 0.265957 0.265957 0.263158 0.263158 0.263158 0.26087 0.260417 0.260417 0.260417 0.260417 0.260417 0.260417 0.260417 0.260417 0.258065 0.258065 0.257732 0.257732 0.255319 0.255319 0.252632 0.25 0.247423 0.247423 0.247312 0.239583 0.23913 0.23913 0.226804 0.226804 0.226804 0.225806 0.21875 0.21875 0.217391 0.216495 0.215054 0.210526 0.210526 0.210526 0.208333 0.206522 0.206522 0.206522 0.206522 0.204301 0.204301 0.204301 0.204301 0.202128 0.202128 0.319588 0.28866 0.285714 0.282828 0.278351 0.277228 0.272727 0.268041 0.268041 0.268041 0.267327 0.265306 0.265306 0.265306 0.262626 0.262626 0.257732 0.257426 0.257426 0.257426 0.255102 0.252525 0.252525 0.252525 0.252525 0.252427 0.25 0.25 0.25 0.25 0.245098 0.245098 0.244898 0.244898 0.242718 0.242424 0.240385 0.240385 0.24 0.237624 0.237624 0.237113 0.234694 0.23 0.226415 0.226415 0.22549 0.22549 0.22449 0.22449 0.224299 0.223301 0.222222 0.221154 0.219048 0.217822 0.216981 0.213592 0.212121 0.212121 0.209524 0.207921 0.207921 0.207547 0.207547 0.206186 0.205882 0.205882 0.205607 0.204082 0.204082 0.204082 0.204082 0.204082 0.203883 0.20202 0.20202 0.201923 0.2 0.198113 0.19802 0.19802 0.19802 0.196078 0.195876 0.195876 0.194175 0.193878 0.193878 0.193878 0.193878 0.193878 0.193878 0.193878 0.193878 0.192308 0.192308 0.191919 0.191919 0.191919 \n",
            "0.176471 0.161765 0.161765 0.161765 0.161765 0.147059 0.147059 0.147059 0.147059 0.147059 0.147059 0.147059 0.147059 0.147059 0.147059 0.147059 0.147059 0.147059 0.147059 0.147059 0.147059 0.147059 0.147059 0.147059 0.147059 0.147059 0.147059 0.147059 0.147059 0.147059 0.147059 0.147059 0.147059 0.147059 0.147059 0.147059 0.147059 0.147059 0.147059 0.147059 0.147059 0.132353 0.132353 0.132353 0.132353 0.132353 0.132353 0.132353 0.132353 0.132353 0.132353 0.132353 0.132353 0.132353 0.132353 0.132353 0.132353 0.132353 0.132353 0.132353 0.132353 0.132353 0.132353 0.132353 0.132353 0.132353 0.132353 0.132353 0.132353 0.132353 0.132353 0.132353 0.132353 0.132353 0.132353 0.132353 0.132353 0.132353 0.132353 0.132353 0.132353 0.132353 0.132353 0.132353 0.132353 0.132353 0.132353 0.132353 0.132353 0.132353 0.132353 0.132353 0.132353 0.132353 0.132353 0.132353 0.132353 0.132353 0.132353 0.132353 0.279412 0.264706 0.264706 0.264706 0.264706 0.264706 0.25 0.25 0.25 0.235294 0.235294 0.235294 0.235294 0.235294 0.235294 0.235294 0.235294 0.235294 0.235294 0.235294 0.235294 0.235294 0.235294 0.235294 0.235294 0.235294 0.235294 0.235294 0.235294 0.220588 0.220588 0.220588 0.220588 0.220588 0.220588 0.220588 0.220588 0.220588 0.220588 0.220588 0.220588 0.220588 0.220588 0.220588 0.220588 0.220588 0.220588 0.220588 0.220588 0.220588 0.220588 0.220588 0.220588 0.220588 0.220588 0.220588 0.220588 0.220588 0.220588 0.220588 0.220588 0.220588 0.220588 0.220588 0.220588 0.220588 0.220588 0.220588 0.220588 0.220588 0.205882 0.205882 0.205882 0.205882 0.205882 0.205882 0.205882 0.205882 0.205882 0.205882 0.205882 0.205882 0.205882 0.205882 0.205882 0.205882 0.205882 0.205882 0.205882 0.205882 0.205882 0.205882 0.205882 0.205882 0.205882 0.205882 0.205882 0.205882 0.205882 0.205882 0.5 0.367647 0.338235 0.338235 0.338235 0.338235 0.323529 0.323529 0.323529 0.323529 0.323529 0.323529 0.323529 0.308824 0.308824 0.308824 0.308824 0.308824 0.308824 0.308824 0.308824 0.308824 0.308824 0.308824 0.308824 0.294118 0.294118 0.294118 0.294118 0.294118 0.294118 0.294118 0.294118 0.294118 0.294118 0.294118 0.294118 0.294118 0.294118 0.294118 0.294118 0.294118 0.294118 0.294118 0.294118 0.294118 0.294118 0.279412 0.279412 0.279412 0.279412 0.279412 0.279412 0.279412 0.279412 0.279412 0.279412 0.279412 0.279412 0.279412 0.279412 0.279412 0.279412 0.279412 0.279412 0.279412 0.279412 0.279412 0.279412 0.279412 0.279412 0.279412 0.279412 0.279412 0.279412 0.279412 0.279412 0.279412 0.279412 0.279412 0.279412 0.279412 0.279412 0.279412 0.279412 0.279412 0.279412 0.279412 0.264706 0.264706 0.264706 0.264706 0.264706 0.264706 0.264706 0.264706 0.264706 0.264706 0.264706 0.264706 0.794118 0.676471 0.647059 0.632353 0.558824 0.397059 0.397059 0.397059 0.382353 0.367647 0.367647 0.367647 0.367647 0.367647 0.367647 0.367647 0.367647 0.367647 0.367647 0.352941 0.352941 0.352941 0.352941 0.352941 0.352941 0.352941 0.352941 0.352941 0.352941 0.352941 0.352941 0.352941 0.352941 0.352941 0.352941 0.338235 0.338235 0.338235 0.338235 0.338235 0.338235 0.338235 0.338235 0.338235 0.338235 0.338235 0.338235 0.338235 0.338235 0.338235 0.338235 0.338235 0.338235 0.338235 0.338235 0.338235 0.338235 0.338235 0.338235 0.338235 0.323529 0.323529 0.323529 0.323529 0.323529 0.323529 0.323529 0.323529 0.323529 0.323529 0.323529 0.323529 0.323529 0.323529 0.323529 0.323529 0.323529 0.323529 0.323529 0.323529 0.323529 0.323529 0.323529 0.323529 0.323529 0.323529 0.323529 0.323529 0.323529 0.323529 0.323529 0.323529 0.323529 0.323529 0.323529 0.323529 0.323529 0.323529 0.323529 0.323529 0.838235 0.455882 0.455882 0.455882 0.455882 0.455882 0.441176 0.441176 0.441176 0.426471 0.411765 0.411765 0.411765 0.397059 0.397059 0.397059 0.397059 0.397059 0.397059 0.397059 0.397059 0.397059 0.397059 0.397059 0.397059 0.397059 0.397059 0.397059 0.397059 0.397059 0.397059 0.397059 0.382353 0.382353 0.382353 0.382353 0.382353 0.382353 0.382353 0.382353 0.382353 0.382353 0.382353 0.382353 0.382353 0.382353 0.382353 0.382353 0.382353 0.382353 0.382353 0.382353 0.382353 0.382353 0.382353 0.382353 0.382353 0.382353 0.382353 0.382353 0.382353 0.382353 0.382353 0.382353 0.382353 0.382353 0.382353 0.382353 0.382353 0.382353 0.382353 0.382353 0.382353 0.382353 0.382353 0.382353 0.382353 0.382353 0.367647 0.367647 0.367647 0.367647 0.367647 0.367647 0.367647 0.367647 0.367647 0.367647 0.367647 0.367647 0.367647 0.367647 0.367647 0.367647 0.367647 0.367647 0.367647 0.367647 0.367647 0.367647 0.926471 0.914286 0.911765 0.897059 0.830986 0.808824 0.808824 0.788732 0.728571 0.728571 0.728571 0.724638 0.478261 0.470588 0.463768 0.457143 0.455882 0.455882 0.444444 0.444444 0.442857 0.442857 0.441176 0.441176 0.434783 0.426471 0.42029 0.42029 0.414286 0.414286 0.414286 0.411765 0.411765 0.411765 0.411765 0.408451 0.405797 0.402778 0.4 0.4 0.4 0.4 0.4 0.39726 0.39726 0.39726 0.39726 0.397059 0.397059 0.397059 0.397059 0.397059 0.397059 0.397059 0.397059 0.397059 0.397059 0.397059 0.397059 0.397059 0.397059 0.397059 0.397059 0.397059 0.397059 0.397059 0.397059 0.394366 0.394366 0.394366 0.394366 0.394366 0.391304 0.391304 0.391304 0.391304 0.391304 0.391304 0.391304 0.391304 0.388889 0.388889 0.388889 0.388889 0.385714 0.385714 0.385714 0.385714 0.385714 0.385714 0.385714 0.385714 0.385714 0.385714 0.385714 0.385714 0.385714 0.385714 0.385714 0.385714 0.452055 0.445946 0.418919 0.418919 0.413333 0.407895 0.407895 0.405405 0.4 0.39726 0.39726 0.394737 0.394737 0.392405 0.391892 0.386667 0.386667 0.384615 0.383562 0.383562 0.383562 0.381579 0.379747 0.378378 0.378378 0.378378 0.378378 0.378378 0.378378 0.378378 0.376623 0.373333 0.373333 0.373333 0.373333 0.373333 0.373333 0.373333 0.373333 0.371795 0.371795 0.371795 0.371795 0.371795 0.369863 0.369863 0.369863 0.369863 0.369863 0.369863 0.369863 0.369863 0.369863 0.368421 0.368421 0.367089 0.364865 0.364865 0.364865 0.364865 0.364865 0.364865 0.364865 0.364865 0.364865 0.364865 0.364865 0.364865 0.364865 0.364865 0.364865 0.364865 0.364865 0.364865 0.364865 0.363636 0.363636 0.363636 0.36 0.36 0.36 0.36 0.36 0.36 0.36 0.36 0.36 0.36 0.36 0.36 0.36 0.36 0.36 0.36 0.36 0.36 0.358974 0.358974 0.358974 0.358974 0.530864 0.481013 0.475 0.402439 0.3875 0.375 0.375 0.37037 0.37037 0.365854 0.3625 0.358025 0.358025 0.35443 0.35443 0.35443 0.35443 0.35443 0.35443 0.35443 0.353659 0.35 0.35 0.35 0.349398 0.345679 0.345679 0.345679 0.345679 0.341772 0.341772 0.341772 0.341772 0.341772 0.341772 0.341772 0.341772 0.341772 0.341772 0.341463 0.341463 0.341463 0.341463 0.341463 0.3375 0.3375 0.3375 0.3375 0.3375 0.3375 0.3375 0.3375 0.3375 0.3375 0.3375 0.3375 0.3375 0.3375 0.337349 0.337349 0.337349 0.337349 0.337349 0.333333 0.333333 0.333333 0.333333 0.333333 0.333333 0.333333 0.333333 0.333333 0.333333 0.333333 0.333333 0.333333 0.333333 0.333333 0.333333 0.329268 0.329268 0.329268 0.329268 0.329268 0.329268 0.329268 0.329268 0.329268 0.329268 0.329114 0.329114 0.329114 0.329114 0.329114 0.329114 0.329114 0.329114 0.329114 0.329114 0.329114 0.352941 0.345238 0.345238 0.344828 0.341176 0.337209 0.337209 0.337209 0.333333 0.333333 0.333333 0.333333 0.333333 0.333333 0.333333 0.329412 0.329412 0.329412 0.329412 0.329412 0.325581 0.325581 0.321839 0.321429 0.321429 0.321429 0.321429 0.321429 0.321429 0.321429 0.321429 0.321429 0.321429 0.317647 0.317647 0.317647 0.317647 0.317647 0.317647 0.313953 0.313953 0.313953 0.313953 0.313953 0.313953 0.310345 0.310345 0.310345 0.310345 0.310345 0.310345 0.310345 0.310345 0.310345 0.310345 0.310345 0.309524 0.309524 0.309524 0.309524 0.309524 0.309524 0.309524 0.309524 0.309524 0.309524 0.309524 0.309524 0.309524 0.309524 0.309524 0.309524 0.309524 0.309524 0.309524 0.309524 0.309524 0.309524 0.309524 0.309524 0.309524 0.309524 0.309524 0.309524 0.309524 0.309524 0.309524 0.309524 0.309524 0.306818 0.305882 0.305882 0.305882 0.305882 0.305882 0.305882 0.305882 0.305882 0.305882 0.305882 0.352273 0.344444 0.340909 0.329545 0.329545 0.322222 0.318182 0.318182 0.314607 0.314607 0.311111 0.307692 0.306818 0.306818 0.306818 0.306818 0.303371 0.303371 0.303371 0.303371 0.303371 0.303371 0.303371 0.303371 0.303371 0.303371 0.303371 0.3 0.3 0.3 0.3 0.3 0.3 0.3 0.3 0.3 0.3 0.296703 0.296703 0.296703 0.296703 0.296703 0.296703 0.296703 0.296703 0.296703 0.296703 0.295455 0.295455 0.295455 0.295455 0.295455 0.295455 0.295455 0.295455 0.295455 0.295455 0.295455 0.295455 0.295455 0.295455 0.295455 0.295455 0.295455 0.295455 0.295455 0.295455 0.295455 0.295455 0.295455 0.292135 0.292135 0.292135 0.292135 0.292135 0.292135 0.292135 0.292135 0.292135 0.292135 0.292135 0.292135 0.292135 0.292135 0.292135 0.292135 0.292135 0.292135 0.292135 0.292135 0.292135 0.288889 0.288889 0.288889 0.288889 0.288889 0.288889 0.288889 0.288889 0.288889 0.358696 0.347368 0.311828 0.308511 0.304348 0.301075 0.301075 0.297872 0.293478 0.293478 0.293478 0.293478 0.293478 0.290323 0.290323 0.290323 0.290323 0.290323 0.287234 0.287234 0.287234 0.284211 0.284211 0.282609 0.282609 0.282609 0.282609 0.282609 0.282609 0.282609 0.282609 0.282609 0.282609 0.282609 0.282609 0.282609 0.28125 0.28125 0.27957 0.27957 0.27957 0.27957 0.27957 0.27957 0.27957 0.27957 0.27957 0.27957 0.27957 0.27957 0.27957 0.27957 0.27957 0.27957 0.27957 0.27957 0.276596 0.276596 0.276596 0.276596 0.276596 0.276596 0.276596 0.276596 0.276596 0.276596 0.276596 0.276596 0.276596 0.273684 0.273684 0.273684 0.273684 0.273684 0.273684 0.271739 0.271739 0.271739 0.271739 0.271739 0.271739 0.271739 0.271739 0.271739 0.271739 0.271739 0.271739 0.271739 0.271739 0.271739 0.271739 0.271739 0.271739 0.270833 0.270833 0.270833 0.270833 0.270833 0.270833 0.270833 0.295918 0.282828 0.278351 0.278351 0.272727 0.272727 0.268041 0.268041 0.268041 0.268041 0.268041 0.265306 0.265306 0.265306 0.265306 0.265306 0.262136 0.262136 0.26 0.26 0.26 0.26 0.26 0.259615 0.257732 0.257732 0.257732 0.257732 0.257732 0.257732 0.257426 0.257426 0.257426 0.257426 0.255102 0.255102 0.255102 0.255102 0.255102 0.255102 0.255102 0.255102 0.255102 0.255102 0.255102 0.255102 0.255102 0.255102 0.252525 0.252525 0.252525 0.252525 0.252525 0.252525 0.252427 0.252427 0.25 0.25 0.25 0.25 0.25 0.25 0.247525 0.247525 0.247525 0.247423 0.247423 0.247423 0.247423 0.247423 0.247423 0.247423 0.247423 0.247423 0.247423 0.247423 0.247423 0.247423 0.247423 0.247423 0.247423 0.247423 0.247423 0.247423 0.247423 0.245098 0.245098 0.245098 0.245098 0.245098 0.244898 0.244898 0.244898 0.244898 0.244898 0.244898 0.244898 0.244898 0.244898 0.244898 \n",
            "0.102804 0.102804 0.0934579 0.0841122 0.0841122 0.0841122 0.0841122 0.0841122 0.0841122 0.0841122 0.0841122 0.0747664 0.0747664 0.0747664 0.0747664 0.0747664 0.0747664 0.0747664 0.0747664 0.0747664 0.0747664 0.0747664 0.0747664 0.0747664 0.0747664 0.0747664 0.0747664 0.0747664 0.0747664 0.0747664 0.0747664 0.0747664 0.0747664 0.0747664 0.0747664 0.0747664 0.0747664 0.0747664 0.0747664 0.0747664 0.0747664 0.0747664 0.0747664 0.0747664 0.0747664 0.0747664 0.0747664 0.0747664 0.0747664 0.0747664 0.0747664 0.0747664 0.0747664 0.0747664 0.0747664 0.0747664 0.0654206 0.0654206 0.0654206 0.0654206 0.0654206 0.0654206 0.0654206 0.0654206 0.0654206 0.0654206 0.0654206 0.0654206 0.0654206 0.0654206 0.0654206 0.0654206 0.0654206 0.0654206 0.0654206 0.0654206 0.0654206 0.0654206 0.0654206 0.0654206 0.0654206 0.0654206 0.0654206 0.0654206 0.0654206 0.0654206 0.0654206 0.0654206 0.0654206 0.0654206 0.0654206 0.0654206 0.0654206 0.0654206 0.0654206 0.0654206 0.0654206 0.0654206 0.0654206 0.0654206 0.158879 0.140187 0.121495 0.121495 0.121495 0.121495 0.121495 0.121495 0.121495 0.121495 0.11215 0.11215 0.11215 0.11215 0.11215 0.11215 0.11215 0.11215 0.11215 0.11215 0.11215 0.11215 0.11215 0.11215 0.11215 0.11215 0.11215 0.11215 0.11215 0.11215 0.11215 0.11215 0.11215 0.11215 0.11215 0.11215 0.11215 0.11215 0.11215 0.11215 0.11215 0.11215 0.11215 0.11215 0.11215 0.11215 0.11215 0.11215 0.102804 0.102804 0.102804 0.102804 0.102804 0.102804 0.102804 0.102804 0.102804 0.102804 0.102804 0.102804 0.102804 0.102804 0.102804 0.102804 0.102804 0.102804 0.102804 0.102804 0.102804 0.102804 0.102804 0.102804 0.102804 0.102804 0.102804 0.102804 0.102804 0.102804 0.102804 0.102804 0.102804 0.102804 0.102804 0.102804 0.102804 0.102804 0.102804 0.102804 0.102804 0.102804 0.102804 0.102804 0.102804 0.102804 0.102804 0.102804 0.102804 0.102804 0.102804 0.102804 0.317757 0.28972 0.158879 0.149533 0.149533 0.149533 0.149533 0.149533 0.140187 0.140187 0.140187 0.140187 0.140187 0.140187 0.140187 0.140187 0.140187 0.140187 0.140187 0.140187 0.140187 0.140187 0.140187 0.140187 0.140187 0.140187 0.140187 0.140187 0.140187 0.140187 0.140187 0.140187 0.140187 0.140187 0.140187 0.140187 0.140187 0.140187 0.140187 0.140187 0.140187 0.140187 0.140187 0.140187 0.130841 0.130841 0.130841 0.130841 0.130841 0.130841 0.130841 0.130841 0.130841 0.130841 0.130841 0.130841 0.130841 0.130841 0.130841 0.130841 0.130841 0.130841 0.130841 0.130841 0.130841 0.130841 0.130841 0.130841 0.130841 0.130841 0.130841 0.130841 0.130841 0.130841 0.130841 0.130841 0.130841 0.130841 0.130841 0.130841 0.130841 0.130841 0.130841 0.130841 0.130841 0.130841 0.130841 0.130841 0.130841 0.130841 0.130841 0.130841 0.130841 0.130841 0.130841 0.130841 0.130841 0.130841 0.130841 0.130841 0.224299 0.224299 0.196262 0.186916 0.17757 0.17757 0.17757 0.168224 0.168224 0.168224 0.168224 0.168224 0.168224 0.168224 0.168224 0.168224 0.168224 0.168224 0.168224 0.168224 0.168224 0.168224 0.168224 0.168224 0.168224 0.168224 0.158879 0.158879 0.158879 0.158879 0.158879 0.158879 0.158879 0.158879 0.158879 0.158879 0.158879 0.158879 0.158879 0.158879 0.158879 0.158879 0.158879 0.158879 0.158879 0.158879 0.158879 0.158879 0.158879 0.158879 0.158879 0.158879 0.158879 0.158879 0.158879 0.158879 0.158879 0.158879 0.158879 0.158879 0.158879 0.158879 0.158879 0.158879 0.158879 0.158879 0.158879 0.158879 0.158879 0.158879 0.158879 0.158879 0.158879 0.158879 0.158879 0.158879 0.158879 0.158879 0.158879 0.158879 0.158879 0.158879 0.158879 0.158879 0.158879 0.158879 0.149533 0.149533 0.149533 0.149533 0.149533 0.149533 0.149533 0.149533 0.149533 0.149533 0.149533 0.149533 0.149533 0.149533 0.523364 0.514019 0.514019 0.495327 0.485981 0.448598 0.252336 0.252336 0.242991 0.224299 0.224299 0.224299 0.214953 0.214953 0.196262 0.196262 0.196262 0.196262 0.196262 0.196262 0.186916 0.186916 0.186916 0.186916 0.186916 0.186916 0.186916 0.186916 0.186916 0.17757 0.17757 0.17757 0.17757 0.17757 0.17757 0.17757 0.17757 0.17757 0.17757 0.17757 0.17757 0.17757 0.17757 0.17757 0.17757 0.17757 0.17757 0.17757 0.17757 0.17757 0.17757 0.17757 0.17757 0.17757 0.17757 0.17757 0.17757 0.17757 0.17757 0.17757 0.17757 0.17757 0.17757 0.17757 0.17757 0.17757 0.17757 0.17757 0.17757 0.17757 0.17757 0.17757 0.168224 0.168224 0.168224 0.168224 0.168224 0.168224 0.168224 0.168224 0.168224 0.168224 0.168224 0.168224 0.168224 0.168224 0.168224 0.168224 0.168224 0.168224 0.168224 0.168224 0.168224 0.168224 0.168224 0.168224 0.168224 0.168224 0.168224 0.168224 0.411215 0.242991 0.233645 0.224299 0.224299 0.214953 0.214953 0.205607 0.205607 0.205607 0.205607 0.205607 0.205607 0.196262 0.196262 0.196262 0.196262 0.196262 0.196262 0.196262 0.196262 0.196262 0.196262 0.196262 0.196262 0.186916 0.186916 0.186916 0.186916 0.186916 0.186916 0.186916 0.186916 0.186916 0.186916 0.186916 0.186916 0.186916 0.186916 0.186916 0.186916 0.186916 0.186916 0.186916 0.186916 0.186916 0.186916 0.186916 0.186916 0.186916 0.186916 0.186916 0.186916 0.186916 0.186916 0.17757 0.17757 0.17757 0.17757 0.17757 0.17757 0.17757 0.17757 0.17757 0.17757 0.17757 0.17757 0.17757 0.17757 0.17757 0.17757 0.17757 0.17757 0.17757 0.17757 0.17757 0.17757 0.17757 0.17757 0.17757 0.17757 0.17757 0.17757 0.17757 0.17757 0.17757 0.17757 0.17757 0.17757 0.17757 0.17757 0.17757 0.17757 0.17757 0.17757 0.17757 0.17757 0.17757 0.17757 0.17757 0.53271 0.523364 0.448598 0.252336 0.252336 0.233645 0.233645 0.224299 0.224299 0.224299 0.224299 0.224299 0.214953 0.214953 0.214953 0.214953 0.214953 0.214953 0.214953 0.214953 0.205607 0.205607 0.205607 0.205607 0.205607 0.205607 0.205607 0.205607 0.205607 0.205607 0.205607 0.205607 0.205607 0.196262 0.196262 0.196262 0.196262 0.196262 0.196262 0.196262 0.196262 0.196262 0.196262 0.196262 0.196262 0.196262 0.196262 0.196262 0.196262 0.196262 0.196262 0.196262 0.196262 0.196262 0.196262 0.196262 0.196262 0.196262 0.196262 0.196262 0.186916 0.186916 0.186916 0.186916 0.186916 0.186916 0.186916 0.186916 0.186916 0.186916 0.186916 0.186916 0.186916 0.186916 0.186916 0.186916 0.186916 0.186916 0.186916 0.186916 0.186916 0.186916 0.186916 0.186916 0.186916 0.186916 0.186916 0.186916 0.186916 0.186916 0.186916 0.186916 0.186916 0.186916 0.186916 0.186916 0.186916 0.186916 0.186916 0.186916 0.523364 0.448598 0.280374 0.242991 0.242991 0.233645 0.224299 0.224299 0.224299 0.214953 0.214953 0.214953 0.214953 0.214953 0.214953 0.214953 0.214953 0.214953 0.214953 0.205607 0.205607 0.205607 0.205607 0.205607 0.205607 0.205607 0.205607 0.205607 0.205607 0.205607 0.196262 0.196262 0.196262 0.196262 0.196262 0.196262 0.196262 0.196262 0.196262 0.196262 0.196262 0.196262 0.196262 0.196262 0.196262 0.196262 0.196262 0.196262 0.196262 0.196262 0.196262 0.196262 0.196262 0.196262 0.196262 0.196262 0.196262 0.196262 0.196262 0.196262 0.196262 0.196262 0.196262 0.196262 0.196262 0.196262 0.196262 0.196262 0.186916 0.186916 0.186916 0.186916 0.186916 0.186916 0.186916 0.186916 0.186916 0.186916 0.186916 0.186916 0.186916 0.186916 0.186916 0.186916 0.186916 0.186916 0.186916 0.186916 0.186916 0.186916 0.186916 0.186916 0.186916 0.186916 0.186916 0.186916 0.186916 0.186916 0.186916 0.186916 0.523364 0.46729 0.345794 0.336449 0.28972 0.261682 0.252336 0.252336 0.242991 0.242991 0.242991 0.242991 0.242991 0.233645 0.233645 0.233645 0.224299 0.224299 0.224299 0.224299 0.214953 0.214953 0.214953 0.214953 0.205607 0.205607 0.205607 0.205607 0.205607 0.205607 0.205607 0.205607 0.205607 0.205607 0.205607 0.205607 0.205607 0.205607 0.205607 0.205607 0.205607 0.205607 0.205607 0.196262 0.196262 0.196262 0.196262 0.196262 0.196262 0.196262 0.196262 0.196262 0.196262 0.196262 0.196262 0.196262 0.196262 0.196262 0.196262 0.196262 0.196262 0.196262 0.196262 0.196262 0.196262 0.196262 0.196262 0.196262 0.196262 0.196262 0.196262 0.196262 0.196262 0.196262 0.196262 0.196262 0.196262 0.196262 0.196262 0.196262 0.196262 0.196262 0.196262 0.196262 0.196262 0.196262 0.196262 0.196262 0.196262 0.196262 0.186916 0.186916 0.186916 0.186916 0.186916 0.186916 0.186916 0.186916 0.186916 0.186916 0.570093 0.327103 0.317757 0.299065 0.28972 0.280374 0.280374 0.271028 0.271028 0.252336 0.242991 0.242991 0.233645 0.233645 0.233645 0.233645 0.224299 0.224299 0.224299 0.224299 0.224299 0.214953 0.214953 0.214953 0.214953 0.214953 0.214953 0.214953 0.214953 0.205607 0.205607 0.205607 0.205607 0.205607 0.205607 0.205607 0.205607 0.205607 0.205607 0.205607 0.205607 0.205607 0.205607 0.205607 0.205607 0.205607 0.205607 0.205607 0.205607 0.205607 0.205607 0.205607 0.205607 0.205607 0.205607 0.196262 0.196262 0.196262 0.196262 0.196262 0.196262 0.196262 0.196262 0.196262 0.196262 0.196262 0.196262 0.196262 0.196262 0.196262 0.196262 0.196262 0.196262 0.196262 0.196262 0.196262 0.196262 0.196262 0.196262 0.196262 0.196262 0.196262 0.196262 0.196262 0.196262 0.196262 0.196262 0.196262 0.196262 0.196262 0.196262 0.196262 0.196262 0.196262 0.196262 0.196262 0.196262 0.196262 0.196262 0.196262 0.308411 0.299065 0.299065 0.299065 0.28972 0.280374 0.271028 0.261682 0.252336 0.242991 0.242991 0.233645 0.233645 0.233645 0.233645 0.224299 0.224299 0.224299 0.214953 0.214953 0.214953 0.214953 0.214953 0.214953 0.214953 0.214953 0.205607 0.205607 0.205607 0.205607 0.205607 0.205607 0.205607 0.205607 0.205607 0.205607 0.205607 0.205607 0.205607 0.205607 0.205607 0.205607 0.205607 0.205607 0.205607 0.205607 0.205607 0.205607 0.205607 0.205607 0.205607 0.205607 0.205607 0.205607 0.205607 0.205607 0.205607 0.205607 0.205607 0.205607 0.196262 0.196262 0.196262 0.196262 0.196262 0.196262 0.196262 0.196262 0.196262 0.196262 0.196262 0.196262 0.196262 0.196262 0.196262 0.196262 0.196262 0.196262 0.196262 0.196262 0.196262 0.196262 0.196262 0.196262 0.196262 0.196262 0.196262 0.196262 0.196262 0.196262 0.196262 0.196262 0.196262 0.196262 0.196262 0.196262 0.196262 0.196262 0.196262 0.196262 0.981308 0.972222 0.962617 0.916667 0.916667 0.915888 0.907407 0.861111 0.839286 0.824074 0.778761 0.709091 0.607477 0.570093 0.54955 0.5 0.476636 0.476636 0.431193 0.383178 0.373832 0.373832 0.364486 0.364486 0.364486 0.35514 0.35514 0.35514 0.35514 0.345794 0.345794 0.336449 0.336449 0.327103 0.327103 0.327103 0.327103 0.317757 0.317757 0.308411 0.308411 0.308411 0.308411 0.305556 0.299065 0.299065 0.299065 0.299065 0.299065 0.28972 0.28972 0.28972 0.28972 0.284404 0.284404 0.280374 0.280374 0.280374 0.27193 0.271028 0.271028 0.271028 0.271028 0.27027 0.267857 0.265487 0.261682 0.261682 0.261682 0.261682 0.261682 0.258929 0.252336 0.252336 0.252336 0.252336 0.252336 0.242991 0.242991 0.242991 0.242991 0.242991 0.242991 0.242991 0.242991 0.242991 0.242991 0.236842 0.236364 0.236364 0.233645 0.233645 0.233645 0.233645 0.233645 0.233645 0.233645 0.232143 0.231481 0.231481 \n",
            "0.294118 0.264706 0.264706 0.235294 0.235294 0.235294 0.235294 0.235294 0.235294 0.235294 0.235294 0.235294 0.235294 0.235294 0.235294 0.205882 0.205882 0.205882 0.205882 0.205882 0.205882 0.205882 0.205882 0.205882 0.205882 0.205882 0.205882 0.205882 0.205882 0.205882 0.205882 0.205882 0.205882 0.205882 0.205882 0.205882 0.205882 0.205882 0.205882 0.205882 0.205882 0.205882 0.205882 0.205882 0.205882 0.205882 0.205882 0.205882 0.205882 0.205882 0.205882 0.205882 0.205882 0.205882 0.205882 0.205882 0.205882 0.205882 0.205882 0.205882 0.205882 0.205882 0.205882 0.205882 0.205882 0.205882 0.205882 0.205882 0.205882 0.205882 0.205882 0.205882 0.205882 0.205882 0.205882 0.205882 0.205882 0.205882 0.205882 0.205882 0.205882 0.205882 0.205882 0.205882 0.205882 0.205882 0.205882 0.205882 0.205882 0.205882 0.205882 0.205882 0.205882 0.205882 0.205882 0.205882 0.205882 0.205882 0.205882 0.205882 0.911765 0.852941 0.647059 0.5 0.5 0.5 0.470588 0.470588 0.470588 0.470588 0.470588 0.470588 0.470588 0.470588 0.470588 0.470588 0.470588 0.441176 0.441176 0.441176 0.441176 0.441176 0.441176 0.441176 0.441176 0.441176 0.441176 0.441176 0.441176 0.441176 0.441176 0.441176 0.441176 0.441176 0.441176 0.441176 0.441176 0.441176 0.441176 0.441176 0.441176 0.441176 0.441176 0.441176 0.441176 0.441176 0.441176 0.441176 0.441176 0.441176 0.441176 0.441176 0.441176 0.441176 0.441176 0.441176 0.441176 0.441176 0.441176 0.441176 0.441176 0.441176 0.441176 0.441176 0.441176 0.441176 0.441176 0.441176 0.441176 0.441176 0.441176 0.441176 0.441176 0.441176 0.441176 0.441176 0.441176 0.411765 0.411765 0.411765 0.411765 0.411765 0.411765 0.411765 0.411765 0.411765 0.411765 0.411765 0.411765 0.411765 0.411765 0.411765 0.411765 0.411765 0.411765 0.411765 0.411765 0.411765 0.411765 0.411765 0.942857 0.941176 0.916667 0.914286 0.891892 0.888889 0.882353 0.871795 0.868421 0.864865 0.852941 0.846154 0.842105 0.842105 0.842105 0.825 0.825 0.825 0.825 0.825 0.823529 0.810811 0.805556 0.804878 0.804878 0.8 0.794118 0.785714 0.783784 0.780488 0.767442 0.75 0.75 0.74359 0.675 0.651163 0.625 0.529412 0.514286 0.514286 0.514286 0.5 0.5 0.5 0.5 0.5 0.5 0.5 0.5 0.5 0.5 0.5 0.5 0.5 0.5 0.5 0.5 0.5 0.486486 0.486486 0.486486 0.485714 0.485714 0.485714 0.485714 0.485714 0.485714 0.485714 0.485714 0.485714 0.485714 0.485714 0.485714 0.475 0.472222 0.472222 0.472222 0.472222 0.472222 0.472222 0.472222 0.472222 0.472222 0.472222 0.472222 0.472222 0.472222 0.472222 0.472222 0.470588 0.470588 0.470588 0.470588 0.470588 0.470588 0.470588 0.470588 0.470588 0.470588 0.470588 0.73913 0.733333 0.723404 0.717391 0.717391 0.708333 0.695652 0.673469 0.666667 0.652174 0.611111 0.592593 0.589286 0.409091 0.4 0.4 0.4 0.4 0.4 0.4 0.4 0.4 0.391304 0.391304 0.391304 0.391304 0.391304 0.391304 0.391304 0.391304 0.391304 0.386364 0.386364 0.386364 0.386364 0.386364 0.386364 0.386364 0.386364 0.386364 0.382979 0.382979 0.382979 0.382979 0.382979 0.382979 0.382979 0.377778 0.377778 0.377778 0.377778 0.377778 0.377778 0.377778 0.377778 0.377778 0.377778 0.377778 0.377778 0.377778 0.377778 0.377778 0.377778 0.377778 0.377778 0.377778 0.377778 0.377778 0.377778 0.377778 0.377778 0.377778 0.377778 0.377778 0.377778 0.377778 0.377778 0.377778 0.377778 0.377778 0.377778 0.377778 0.377778 0.377778 0.377778 0.377778 0.377778 0.377778 0.377778 0.377778 0.377778 0.377778 0.377778 0.377778 0.375 0.375 0.375 0.375 0.369565 0.369565 0.339286 0.315789 0.315789 0.315789 0.315789 0.315789 0.310345 0.310345 0.310345 0.310345 0.305085 0.305085 0.303571 0.303571 0.303571 0.303571 0.303571 0.303571 0.301587 0.3 0.3 0.3 0.3 0.298246 0.298246 0.298246 0.298246 0.298246 0.298246 0.298246 0.298246 0.298246 0.298246 0.298246 0.298246 0.298246 0.298246 0.298246 0.295082 0.295082 0.295082 0.295082 0.295082 0.293103 0.293103 0.293103 0.293103 0.293103 0.293103 0.293103 0.293103 0.293103 0.293103 0.293103 0.293103 0.290323 0.288136 0.288136 0.288136 0.288136 0.288136 0.288136 0.288136 0.288136 0.285714 0.285714 0.285714 0.285714 0.285714 0.285714 0.285714 0.285714 0.285714 0.285714 0.283333 0.283333 0.283333 0.283333 0.283333 0.283333 0.280702 0.280702 0.280702 0.280702 0.280702 0.280702 0.280702 0.280702 0.280702 0.280702 0.280702 0.280702 0.280702 0.280702 0.280702 0.280702 0.280702 0.280702 0.280702 0.280702 0.455882 0.272727 0.272727 0.26087 0.257576 0.253731 0.253731 0.253521 0.25 0.246377 0.246377 0.242424 0.242424 0.239437 0.238806 0.238806 0.238806 0.236111 0.235294 0.231884 0.231884 0.231884 0.231884 0.231884 0.228571 0.228571 0.227273 0.227273 0.227273 0.227273 0.227273 0.227273 0.227273 0.227273 0.227273 0.225352 0.225352 0.225352 0.223881 0.223881 0.223881 0.223881 0.223881 0.223881 0.223881 0.223881 0.223881 0.223881 0.222222 0.222222 0.222222 0.220588 0.220588 0.220588 0.220588 0.219178 0.219178 0.217391 0.217391 0.217391 0.217391 0.217391 0.217391 0.217391 0.217391 0.217391 0.217391 0.214286 0.214286 0.214286 0.214286 0.214286 0.214286 0.214286 0.212121 0.212121 0.212121 0.212121 0.212121 0.212121 0.212121 0.212121 0.212121 0.212121 0.212121 0.212121 0.212121 0.211268 0.211268 0.211268 0.211268 0.211268 0.211268 0.208955 0.208955 0.208955 0.208955 0.208955 0.208955 0.208955 0.246753 0.243243 0.236842 0.226667 0.223684 0.223684 0.216216 0.216216 0.216216 0.216216 0.213333 0.213333 0.213333 0.210526 0.210526 0.210526 0.207792 0.205479 0.205479 0.205128 0.202703 0.202703 0.202703 0.202703 0.202703 0.2 0.2 0.2 0.197368 0.197368 0.197368 0.197368 0.197368 0.197368 0.197368 0.197368 0.197368 0.194805 0.194805 0.194805 0.192308 0.192308 0.192308 0.192308 0.192308 0.192308 0.191781 0.191781 0.191781 0.191781 0.191781 0.191781 0.189189 0.189189 0.189189 0.189189 0.189189 0.189189 0.189189 0.189189 0.189189 0.189189 0.189189 0.189189 0.189189 0.189189 0.189189 0.189189 0.189189 0.186667 0.186667 0.186667 0.186667 0.186667 0.186667 0.186667 0.186667 0.186667 0.186667 0.186667 0.186667 0.186667 0.186667 0.186667 0.186667 0.186667 0.184211 0.184211 0.184211 0.184211 0.184211 0.184211 0.184211 0.184211 0.184211 0.184211 0.184211 0.184211 0.184211 0.184211 0.21519 0.204819 0.202532 0.202532 0.2 0.197531 0.189873 0.189873 0.1875 0.1875 0.1875 0.1875 0.185185 0.185185 0.185185 0.185185 0.185185 0.185185 0.185185 0.185185 0.185185 0.182927 0.182927 0.182927 0.182927 0.180723 0.180723 0.180723 0.180723 0.180723 0.177215 0.177215 0.177215 0.177215 0.177215 0.177215 0.177215 0.177215 0.177215 0.175 0.175 0.175 0.175 0.175 0.175 0.175 0.175 0.175 0.175 0.175 0.175 0.175 0.175 0.175 0.175 0.175 0.175 0.175 0.175 0.175 0.17284 0.17284 0.17284 0.17284 0.17284 0.17284 0.17284 0.17284 0.17284 0.17284 0.17284 0.17284 0.17284 0.17284 0.17284 0.17284 0.17284 0.17284 0.17284 0.17284 0.17284 0.17284 0.17284 0.17284 0.17284 0.17284 0.17284 0.17284 0.17284 0.17284 0.170732 0.170732 0.170732 0.170732 0.170732 0.170732 0.170732 0.170732 0.170732 0.170732 0.214286 0.211765 0.202381 0.2 0.2 0.197674 0.197674 0.190476 0.190476 0.188235 0.186047 0.186047 0.180723 0.178571 0.178571 0.178571 0.178571 0.178571 0.178571 0.176471 0.176471 0.176471 0.174419 0.174419 0.174419 0.174419 0.174419 0.174419 0.174419 0.172414 0.172414 0.172414 0.172414 0.166667 0.166667 0.166667 0.166667 0.166667 0.166667 0.166667 0.166667 0.166667 0.166667 0.166667 0.166667 0.166667 0.166667 0.166667 0.166667 0.166667 0.166667 0.166667 0.166667 0.166667 0.166667 0.164706 0.164706 0.164706 0.164706 0.164706 0.164706 0.164706 0.164706 0.164706 0.164706 0.164706 0.164706 0.164706 0.164706 0.164706 0.164706 0.164706 0.164706 0.164706 0.164706 0.164706 0.164706 0.164706 0.164706 0.164706 0.164706 0.164706 0.162791 0.162791 0.162791 0.162791 0.162791 0.162791 0.162791 0.162791 0.162791 0.162791 0.162791 0.162791 0.162791 0.162791 0.162791 0.162791 0.162791 0.162791 0.193182 0.181818 0.181818 0.179775 0.177778 0.175824 0.170455 0.170455 0.168539 0.168539 0.168539 0.168539 0.168539 0.166667 0.166667 0.166667 0.166667 0.166667 0.166667 0.164835 0.164835 0.164835 0.164835 0.164835 0.164835 0.164835 0.164835 0.164835 0.163043 0.159091 0.159091 0.159091 0.159091 0.159091 0.159091 0.159091 0.159091 0.159091 0.159091 0.159091 0.159091 0.159091 0.159091 0.157303 0.157303 0.157303 0.157303 0.157303 0.157303 0.157303 0.157303 0.157303 0.157303 0.157303 0.157303 0.157303 0.157303 0.155556 0.155556 0.155556 0.155556 0.155556 0.155556 0.155556 0.155556 0.155556 0.155556 0.155556 0.155556 0.155556 0.155556 0.155556 0.155556 0.153846 0.153846 0.153846 0.153846 0.153846 0.153846 0.153846 0.153846 0.153846 0.153846 0.153846 0.153846 0.153846 0.153846 0.152174 0.152174 0.152174 0.152174 0.152174 0.147727 0.147727 0.147727 0.147727 0.147727 0.147727 0.147727 0.147727 0.210526 0.178947 0.177083 0.173913 0.168421 0.163043 0.163043 0.163043 0.16129 0.16129 0.16129 0.16129 0.16129 0.159574 0.159574 0.159574 0.159574 0.157895 0.15625 0.15625 0.15625 0.15625 0.152174 0.152174 0.152174 0.152174 0.152174 0.152174 0.152174 0.152174 0.150538 0.150538 0.150538 0.150538 0.150538 0.150538 0.150538 0.150538 0.150538 0.150538 0.150538 0.150538 0.150538 0.150538 0.150538 0.150538 0.150538 0.148936 0.148936 0.148936 0.148936 0.148936 0.148936 0.148936 0.148936 0.148936 0.148936 0.148936 0.148936 0.148936 0.148936 0.148936 0.147368 0.147368 0.147368 0.147368 0.147368 0.147368 0.147368 0.147368 0.147368 0.147368 0.147368 0.147368 0.147368 0.147368 0.145833 0.145833 0.145833 0.145833 0.145833 0.145833 0.145833 0.145833 0.145833 0.145833 0.145833 0.145833 0.145833 0.145833 0.145833 0.145833 0.145833 0.14433 0.14433 0.14433 0.14433 0.14433 0.14433 0.141304 0.181818 0.166667 0.164948 0.164948 0.163265 0.161616 0.16 0.156863 0.153846 0.153153 0.153061 0.153061 0.153061 0.152381 0.151515 0.151515 0.15 0.149533 0.148515 0.148515 0.147059 0.147059 0.14433 0.14433 0.14433 0.14433 0.14433 0.14433 0.14433 0.142857 0.142857 0.142857 0.142857 0.142857 0.142857 0.142857 0.142857 0.142857 0.142857 0.142857 0.142857 0.141509 0.141509 0.141414 0.141414 0.141414 0.141414 0.141414 0.141414 0.141414 0.141414 0.141414 0.140187 0.14 0.14 0.14 0.14 0.14 0.138614 0.138614 0.138614 0.137255 0.137255 0.137255 0.137255 0.137255 0.135922 0.135922 0.135922 0.135135 0.134615 0.134021 0.134021 0.134021 0.134021 0.134021 0.134021 0.134021 0.134021 0.134021 0.134021 0.134021 0.134021 0.134021 0.134021 0.134021 0.134021 0.134021 0.134021 0.134021 0.134021 0.134021 0.134021 0.134021 0.134021 0.134021 0.134021 0.134021 0.134021 0.134021 \n",
            "0.416667 0.375 0.375 0.375 0.375 0.375 0.375 0.375 0.375 0.375 0.375 0.375 0.333333 0.333333 0.333333 0.333333 0.333333 0.333333 0.333333 0.333333 0.333333 0.333333 0.333333 0.333333 0.333333 0.333333 0.333333 0.333333 0.333333 0.333333 0.333333 0.333333 0.333333 0.333333 0.333333 0.333333 0.333333 0.333333 0.333333 0.333333 0.333333 0.333333 0.333333 0.333333 0.333333 0.333333 0.333333 0.333333 0.333333 0.333333 0.333333 0.333333 0.333333 0.333333 0.333333 0.333333 0.333333 0.333333 0.333333 0.333333 0.333333 0.333333 0.333333 0.333333 0.333333 0.333333 0.333333 0.333333 0.333333 0.333333 0.333333 0.333333 0.333333 0.333333 0.333333 0.333333 0.333333 0.333333 0.333333 0.333333 0.333333 0.333333 0.333333 0.333333 0.333333 0.333333 0.333333 0.333333 0.333333 0.333333 0.333333 0.333333 0.333333 0.333333 0.291667 0.291667 0.291667 0.291667 0.291667 0.291667 0.916667 0.875 0.875 0.857143 0.75 0.75 0.692308 0.645161 0.64 0.5 0.461538 0.461538 0.458333 0.458333 0.458333 0.444444 0.44 0.44 0.44 0.44 0.44 0.428571 0.423077 0.419355 0.416667 0.416667 0.416667 0.416667 0.416667 0.416667 0.416667 0.416667 0.416667 0.416667 0.416667 0.416667 0.416667 0.416667 0.416667 0.416667 0.416667 0.416667 0.416667 0.416667 0.416667 0.416667 0.416667 0.416667 0.416667 0.416667 0.416667 0.416667 0.416667 0.416667 0.416667 0.416667 0.416667 0.416667 0.416667 0.413793 0.407407 0.407407 0.4 0.4 0.4 0.4 0.4 0.4 0.4 0.4 0.4 0.4 0.4 0.4 0.4 0.4 0.392857 0.392857 0.392857 0.392857 0.392857 0.392857 0.392857 0.387097 0.384615 0.384615 0.384615 0.384615 0.384615 0.384615 0.384615 0.384615 0.384615 0.384615 0.384615 0.384615 0.384615 0.384615 0.384615 0.384615 0.589744 0.575758 0.5 0.487179 0.461538 0.444444 0.382353 0.375 0.368421 0.363636 0.363636 0.363636 0.352941 0.34375 0.34375 0.34375 0.34375 0.34375 0.34375 0.34375 0.34375 0.34375 0.342857 0.333333 0.333333 0.333333 0.333333 0.333333 0.333333 0.333333 0.333333 0.333333 0.333333 0.333333 0.333333 0.333333 0.333333 0.333333 0.333333 0.325 0.325 0.324324 0.324324 0.323529 0.323529 0.323529 0.323529 0.323529 0.323529 0.323529 0.323529 0.323529 0.323529 0.323529 0.323529 0.323529 0.317073 0.315789 0.315789 0.315789 0.314286 0.314286 0.314286 0.314286 0.314286 0.314286 0.314286 0.314286 0.314286 0.314286 0.314286 0.314286 0.314286 0.314286 0.314286 0.314286 0.314286 0.314286 0.314286 0.314286 0.314286 0.314286 0.314286 0.314286 0.3125 0.3125 0.3125 0.3125 0.3125 0.3125 0.3125 0.3125 0.3125 0.3125 0.3125 0.3125 0.3125 0.3125 0.3125 0.3125 0.46 0.436364 0.381818 0.297872 0.295455 0.291667 0.291667 0.288889 0.285714 0.28 0.28 0.276596 0.276596 0.27451 0.272727 0.272727 0.270833 0.270833 0.270833 0.270833 0.270833 0.270833 0.270833 0.270833 0.270833 0.269231 0.269231 0.269231 0.269231 0.266667 0.266667 0.266667 0.266667 0.266667 0.266667 0.266667 0.266667 0.266667 0.266667 0.266667 0.266667 0.266667 0.266667 0.266667 0.266667 0.266667 0.266667 0.266667 0.266667 0.266667 0.266667 0.266667 0.266667 0.266667 0.266667 0.266667 0.266667 0.266667 0.265306 0.26087 0.26087 0.26087 0.26087 0.26087 0.26087 0.26087 0.26087 0.26087 0.26087 0.26087 0.26087 0.26087 0.26087 0.26087 0.26087 0.26087 0.26087 0.26 0.26 0.26 0.26 0.26 0.26 0.26 0.26 0.26 0.26 0.26 0.259259 0.259259 0.255319 0.255319 0.255319 0.255319 0.255319 0.255319 0.255319 0.255319 0.255319 0.255319 0.393443 0.380952 0.375 0.375 0.362069 0.359375 0.35 0.267857 0.258621 0.25 0.25 0.25 0.245902 0.245614 0.245614 0.245614 0.245614 0.241379 0.241379 0.241379 0.241379 0.241379 0.241379 0.241379 0.237288 0.233333 0.233333 0.233333 0.233333 0.233333 0.232143 0.232143 0.232143 0.232143 0.232143 0.232143 0.232143 0.232143 0.232143 0.232143 0.232143 0.232143 0.232143 0.232143 0.232143 0.232143 0.232143 0.232143 0.232143 0.232143 0.230769 0.229508 0.229508 0.229508 0.22807 0.22807 0.22807 0.22807 0.22807 0.22807 0.22807 0.22807 0.22807 0.22807 0.22807 0.22807 0.22807 0.22807 0.22807 0.22807 0.22807 0.22807 0.22807 0.22807 0.22807 0.22807 0.22807 0.22807 0.22807 0.22807 0.22807 0.22807 0.22807 0.22807 0.22807 0.22807 0.22807 0.22807 0.22807 0.22807 0.22807 0.22807 0.22807 0.22807 0.22807 0.22807 0.22807 0.225806 0.225806 0.225806 0.358209 0.358209 0.352941 0.352941 0.347826 0.347826 0.342857 0.338028 0.333333 0.333333 0.333333 0.333333 0.333333 0.333333 0.328767 0.328767 0.328767 0.328767 0.328767 0.308824 0.3 0.283582 0.222222 0.222222 0.220588 0.217391 0.212121 0.212121 0.212121 0.212121 0.212121 0.212121 0.212121 0.212121 0.212121 0.211268 0.208955 0.208955 0.208955 0.208955 0.208955 0.208955 0.208955 0.208955 0.208955 0.208955 0.208955 0.208955 0.208955 0.208955 0.208955 0.208955 0.208955 0.208955 0.208955 0.208955 0.208955 0.208955 0.208955 0.208955 0.208955 0.208955 0.208955 0.208955 0.208955 0.208955 0.208955 0.208955 0.208955 0.208955 0.208955 0.208333 0.208333 0.205882 0.205882 0.205882 0.205882 0.205882 0.205882 0.205882 0.205882 0.205882 0.205882 0.205882 0.205882 0.205882 0.205882 0.205882 0.205882 0.205882 0.205882 0.205882 0.205882 0.205882 0.205882 0.205882 0.205882 0.205882 0.205882 0.205882 0.328767 0.328767 0.328767 0.328767 0.324324 0.324324 0.324324 0.324324 0.324324 0.324324 0.324324 0.324324 0.324324 0.32 0.315789 0.315789 0.315789 0.315789 0.315789 0.311688 0.307692 0.303797 0.294872 0.273973 0.217949 0.216216 0.216216 0.213333 0.210526 0.205479 0.202703 0.202703 0.202703 0.202703 0.2 0.2 0.197368 0.197368 0.197368 0.194805 0.192308 0.192308 0.192308 0.192308 0.192308 0.191781 0.191781 0.191781 0.191781 0.191781 0.191781 0.191781 0.191781 0.191781 0.191781 0.191781 0.191781 0.191781 0.191781 0.191781 0.191781 0.191781 0.191781 0.191781 0.191781 0.191781 0.191781 0.191781 0.191781 0.191781 0.191781 0.191781 0.191781 0.191781 0.191781 0.189189 0.189189 0.189189 0.189189 0.189189 0.189189 0.189189 0.189189 0.189189 0.189189 0.189189 0.189189 0.189189 0.189189 0.189189 0.189189 0.189189 0.189189 0.189189 0.189189 0.189189 0.189189 0.189189 0.189189 0.189189 0.303797 0.303797 0.303797 0.3 0.3 0.3 0.296296 0.296296 0.292683 0.292683 0.292683 0.289157 0.2875 0.2875 0.268293 0.243902 0.219512 0.202532 0.189873 0.189873 0.189873 0.1875 0.1875 0.185185 0.185185 0.185185 0.185185 0.182927 0.182927 0.182927 0.182927 0.180723 0.180723 0.180723 0.180723 0.180723 0.180723 0.180723 0.177215 0.177215 0.177215 0.177215 0.177215 0.177215 0.177215 0.177215 0.177215 0.177215 0.177215 0.177215 0.177215 0.177215 0.177215 0.177215 0.177215 0.177215 0.177215 0.177215 0.177215 0.177215 0.177215 0.177215 0.177215 0.177215 0.177215 0.177215 0.177215 0.177215 0.177215 0.177215 0.177215 0.175 0.175 0.175 0.175 0.175 0.175 0.175 0.175 0.175 0.175 0.175 0.175 0.175 0.175 0.175 0.175 0.175 0.175 0.175 0.175 0.175 0.175 0.175 0.175 0.175 0.175 0.175 0.175 0.175 0.285714 0.285714 0.285714 0.285714 0.282353 0.27907 0.27381 0.270588 0.267442 0.264368 0.264368 0.261905 0.258824 0.255814 0.190476 0.183908 0.178571 0.178571 0.178571 0.178571 0.178571 0.178571 0.176471 0.176471 0.176471 0.174419 0.174419 0.172414 0.172414 0.168675 0.168675 0.168675 0.168675 0.166667 0.166667 0.166667 0.166667 0.166667 0.166667 0.166667 0.166667 0.166667 0.166667 0.166667 0.166667 0.166667 0.166667 0.166667 0.166667 0.166667 0.166667 0.166667 0.166667 0.166667 0.166667 0.166667 0.166667 0.166667 0.166667 0.166667 0.166667 0.166667 0.164706 0.164706 0.164706 0.164706 0.164706 0.164706 0.164706 0.164706 0.164706 0.164706 0.164706 0.164706 0.164706 0.164706 0.164706 0.164706 0.164706 0.164706 0.164706 0.164706 0.164706 0.164706 0.164706 0.164706 0.164706 0.162791 0.162791 0.162791 0.162791 0.162791 0.162791 0.162791 0.162791 0.162791 0.162791 0.162791 0.162791 0.16092 0.272727 0.266667 0.247191 0.227273 0.213483 0.193182 0.181818 0.170455 0.170455 0.168539 0.164835 0.159091 0.159091 0.159091 0.159091 0.159091 0.159091 0.159091 0.159091 0.159091 0.159091 0.159091 0.159091 0.159091 0.159091 0.157303 0.157303 0.157303 0.157303 0.157303 0.157303 0.157303 0.157303 0.155556 0.155556 0.155556 0.155556 0.155556 0.153846 0.153846 0.153846 0.153846 0.153846 0.153846 0.152174 0.152174 0.152174 0.152174 0.147727 0.147727 0.147727 0.147727 0.147727 0.147727 0.147727 0.147727 0.147727 0.147727 0.147727 0.147727 0.147727 0.147727 0.147727 0.147727 0.147727 0.147727 0.147727 0.147727 0.147727 0.147727 0.147727 0.147727 0.147727 0.147727 0.147727 0.147727 0.147727 0.147727 0.147727 0.147727 0.147727 0.147727 0.147727 0.147727 0.147727 0.147727 0.147727 0.147727 0.147727 0.147727 0.147727 0.147727 0.147727 0.147727 0.147727 0.147727 0.147727 0.147727 0.147727 0.147727 0.25 0.16129 0.16129 0.157895 0.154639 0.152174 0.152174 0.152174 0.150538 0.150538 0.148936 0.148936 0.148936 0.148936 0.148936 0.148936 0.147368 0.147368 0.147368 0.14433 0.14433 0.14433 0.14433 0.141304 0.141304 0.141304 0.141304 0.141304 0.141304 0.141304 0.141304 0.141304 0.141304 0.141304 0.141304 0.141304 0.141304 0.141304 0.141304 0.141304 0.141304 0.141304 0.141304 0.141304 0.141304 0.141304 0.141304 0.141304 0.141304 0.141304 0.141304 0.141304 0.141304 0.141304 0.141304 0.141304 0.141304 0.141304 0.141304 0.141304 0.141304 0.141304 0.141304 0.141304 0.141304 0.141304 0.139785 0.139785 0.139785 0.139785 0.139785 0.139785 0.139785 0.139785 0.139785 0.139785 0.139785 0.139785 0.139785 0.139785 0.139785 0.139785 0.139785 0.139785 0.139785 0.139785 0.139785 0.139785 0.139785 0.139785 0.139785 0.139785 0.139785 0.139785 0.139785 0.139785 0.139785 0.139785 0.139785 0.139785 0.235294 0.14433 0.142857 0.142857 0.142857 0.142857 0.142857 0.141414 0.141414 0.141414 0.14 0.138614 0.137255 0.137255 0.134021 0.134021 0.134021 0.134021 0.134021 0.134021 0.134021 0.134021 0.134021 0.134021 0.134021 0.134021 0.134021 0.134021 0.134021 0.134021 0.134021 0.134021 0.134021 0.134021 0.132653 0.132653 0.132653 0.132653 0.132653 0.132653 0.132653 0.132653 0.132653 0.132653 0.132653 0.132653 0.132653 0.132653 0.132653 0.132653 0.132653 0.132653 0.132653 0.132653 0.132653 0.132653 0.132653 0.132653 0.132653 0.132653 0.132653 0.132653 0.132653 0.132075 0.131313 0.131313 0.131313 0.131313 0.131313 0.131313 0.131313 0.131313 0.131313 0.131313 0.131313 0.131313 0.131313 0.131313 0.131313 0.131313 0.13 0.13 0.13 0.13 0.13 0.13 0.13 0.13 0.12963 0.128713 0.128713 0.128713 0.128713 0.128713 0.127451 0.127451 0.127451 0.127451 0.127451 0.127451 \n",
            "0.777778 0.555556 0.5 0.444444 0.444444 0.444444 0.444444 0.444444 0.444444 0.444444 0.444444 0.4 0.384615 0.363636 0.363636 0.363636 0.363636 0.363636 0.357143 0.333333 0.333333 0.333333 0.333333 0.333333 0.333333 0.333333 0.333333 0.333333 0.333333 0.333333 0.333333 0.333333 0.333333 0.333333 0.333333 0.333333 0.333333 0.333333 0.333333 0.333333 0.333333 0.333333 0.333333 0.333333 0.333333 0.333333 0.333333 0.333333 0.333333 0.333333 0.333333 0.333333 0.333333 0.333333 0.333333 0.333333 0.333333 0.333333 0.333333 0.333333 0.333333 0.333333 0.333333 0.333333 0.333333 0.333333 0.333333 0.333333 0.333333 0.333333 0.333333 0.333333 0.333333 0.333333 0.333333 0.333333 0.333333 0.333333 0.333333 0.333333 0.333333 0.333333 0.333333 0.333333 0.333333 0.333333 0.333333 0.333333 0.333333 0.333333 0.333333 0.333333 0.333333 0.333333 0.333333 0.333333 0.333333 0.333333 0.333333 0.333333 0.368421 0.277778 0.277778 0.272727 0.263158 0.263158 0.26087 0.25 0.25 0.25 0.25 0.24 0.24 0.238095 0.238095 0.238095 0.238095 0.238095 0.238095 0.238095 0.230769 0.230769 0.227273 0.227273 0.227273 0.227273 0.227273 0.227273 0.227273 0.222222 0.222222 0.222222 0.222222 0.222222 0.222222 0.222222 0.222222 0.222222 0.222222 0.222222 0.222222 0.222222 0.222222 0.222222 0.222222 0.222222 0.222222 0.222222 0.222222 0.222222 0.222222 0.222222 0.222222 0.222222 0.222222 0.217391 0.217391 0.217391 0.217391 0.217391 0.217391 0.217391 0.217391 0.217391 0.217391 0.217391 0.217391 0.217391 0.210526 0.210526 0.210526 0.210526 0.210526 0.210526 0.210526 0.210526 0.210526 0.210526 0.210526 0.210526 0.210526 0.210526 0.210526 0.210526 0.210526 0.210526 0.210526 0.210526 0.210526 0.210526 0.210526 0.210526 0.210526 0.210526 0.210526 0.210526 0.210526 0.210526 0.210526 0.210526 0.1875 0.181818 0.181818 0.181818 0.176471 0.176471 0.176471 0.176471 0.175 0.171429 0.171429 0.171429 0.166667 0.166667 0.166667 0.162162 0.162162 0.162162 0.162162 0.162162 0.162162 0.162162 0.162162 0.162162 0.162162 0.157895 0.157895 0.157895 0.157895 0.157895 0.15625 0.15625 0.15625 0.15625 0.15625 0.15625 0.15625 0.15625 0.15625 0.15625 0.15625 0.15625 0.15625 0.15625 0.15625 0.15625 0.15625 0.15625 0.15625 0.15625 0.15625 0.15625 0.15625 0.15625 0.15625 0.15625 0.15625 0.15625 0.15625 0.15625 0.15625 0.15625 0.15625 0.15625 0.15625 0.15625 0.15625 0.15625 0.15625 0.15625 0.153846 0.153846 0.153846 0.153846 0.153846 0.153846 0.153846 0.153846 0.153846 0.151515 0.151515 0.151515 0.151515 0.151515 0.151515 0.151515 0.151515 0.151515 0.151515 0.151515 0.151515 0.151515 0.151515 0.151515 0.151515 0.151515 0.151515 0.151515 0.151515 0.151515 0.148936 0.142857 0.136364 0.134615 0.133333 0.133333 0.133333 0.133333 0.133333 0.133333 0.133333 0.133333 0.133333 0.133333 0.133333 0.133333 0.132075 0.132075 0.132075 0.130435 0.130435 0.130435 0.130435 0.130435 0.130435 0.130435 0.130435 0.130435 0.130435 0.130435 0.130435 0.130435 0.130435 0.130435 0.130435 0.130435 0.130435 0.130435 0.130435 0.130435 0.130435 0.130435 0.12766 0.12766 0.12766 0.12766 0.12766 0.12766 0.12766 0.12766 0.12766 0.12766 0.12766 0.12766 0.12766 0.12766 0.12766 0.12766 0.12766 0.12766 0.12766 0.127273 0.125 0.125 0.125 0.125 0.125 0.125 0.125 0.125 0.125 0.125 0.125 0.125 0.125 0.125 0.125 0.125 0.125 0.125 0.122449 0.122449 0.122449 0.122449 0.122449 0.122449 0.122449 0.122449 0.122449 0.122449 0.122449 0.122449 0.122449 0.122449 0.122449 0.122449 0.122449 0.122449 0.122449 0.122449 0.116667 0.112903 0.112903 0.112903 0.109375 0.107692 0.107692 0.107692 0.107143 0.107143 0.107143 0.107143 0.107143 0.107143 0.107143 0.107143 0.107143 0.107143 0.107143 0.107143 0.107143 0.107143 0.107143 0.107143 0.107143 0.107143 0.107143 0.107143 0.107143 0.105263 0.105263 0.105263 0.105263 0.105263 0.105263 0.105263 0.105263 0.105263 0.105263 0.105263 0.105263 0.105263 0.105263 0.105263 0.105263 0.105263 0.105263 0.105263 0.105263 0.105263 0.105263 0.105263 0.105263 0.105263 0.105263 0.105263 0.105263 0.105263 0.105263 0.105263 0.105263 0.105263 0.105263 0.105263 0.105263 0.103448 0.103448 0.103448 0.103448 0.103448 0.103448 0.103448 0.103448 0.103448 0.103448 0.103448 0.103448 0.103448 0.103448 0.103448 0.103448 0.103448 0.103448 0.103448 0.103448 0.103448 0.103448 0.103448 0.103448 0.103448 0.103448 0.103448 0.103448 0.103448 0.103448 0.103448 0.103448 0.103448 0.103448 0.103448 0.109589 0.106061 0.106061 0.104478 0.104478 0.104478 0.102941 0.102941 0.102941 0.102941 0.101449 0.101449 0.1 0.0985916 0.0985916 0.0985916 0.0972222 0.0972222 0.0972222 0.0972222 0.0972222 0.0972222 0.0972222 0.0972222 0.0972222 0.0958904 0.0909091 0.0909091 0.0909091 0.0909091 0.0909091 0.0909091 0.0909091 0.0909091 0.0909091 0.0909091 0.0909091 0.0909091 0.0909091 0.0909091 0.0909091 0.0909091 0.0909091 0.0909091 0.0909091 0.0909091 0.0909091 0.0909091 0.0909091 0.0909091 0.0909091 0.0909091 0.0909091 0.0909091 0.0909091 0.0909091 0.0909091 0.0909091 0.0909091 0.0909091 0.0909091 0.0909091 0.0909091 0.0909091 0.0909091 0.0909091 0.0909091 0.0909091 0.0909091 0.0909091 0.0909091 0.0909091 0.0909091 0.0909091 0.0909091 0.0909091 0.0909091 0.0909091 0.0909091 0.0909091 0.0909091 0.0909091 0.0909091 0.0909091 0.0909091 0.0909091 0.0909091 0.0909091 0.0909091 0.0909091 0.0909091 0.0909091 0.0909091 0.0909091 0.0909091 0.0909091 0.0909091 0.0909091 0.0909091 0.0909091 0.106667 0.106667 0.105263 0.103896 0.103896 0.0958904 0.0945946 0.0945946 0.0945946 0.0945946 0.0945946 0.0945946 0.0945946 0.0945946 0.0945946 0.0945946 0.0933333 0.0933333 0.0933333 0.0933333 0.0933333 0.0933333 0.0933333 0.0933333 0.0933333 0.0921053 0.0921053 0.0921053 0.0921053 0.0921053 0.0921053 0.0909091 0.0909091 0.0909091 0.0909091 0.0909091 0.0909091 0.0909091 0.0909091 0.0909091 0.0909091 0.0897436 0.0897436 0.0897436 0.0897436 0.0897436 0.0897436 0.0897436 0.0897436 0.0897436 0.0897436 0.0886076 0.0886076 0.0886076 0.0821918 0.0821918 0.0821918 0.0821918 0.0821918 0.0821918 0.0821918 0.0821918 0.0821918 0.0821918 0.0821918 0.0821918 0.0821918 0.0821918 0.0821918 0.0821918 0.0821918 0.0821918 0.0821918 0.0821918 0.0821918 0.0821918 0.0821918 0.0821918 0.0821918 0.0821918 0.0821918 0.0821918 0.0821918 0.0821918 0.0821918 0.0821918 0.0821918 0.0821918 0.0821918 0.0821918 0.0821918 0.0821918 0.0821918 0.0821918 0.0821918 0.0821918 0.0821918 0.0821918 0.0821918 0.0821918 0.101266 0.101266 0.1 0.0886076 0.0886076 0.0886076 0.0886076 0.0886076 0.0886076 0.0886076 0.0886076 0.0886076 0.0886076 0.0886076 0.0886076 0.0886076 0.0886076 0.0886076 0.0886076 0.0886076 0.0886076 0.0875 0.0875 0.0875 0.0875 0.0875 0.0875 0.0875 0.0875 0.0875 0.0875 0.0875 0.0875 0.0875 0.0875 0.0875 0.0875 0.0875 0.0864198 0.0864198 0.0864198 0.0864198 0.0864198 0.0864198 0.0864198 0.0864198 0.0864198 0.0864198 0.0864198 0.0864198 0.0864198 0.0864198 0.0864198 0.0864198 0.0864198 0.0864198 0.0864198 0.0853659 0.0853659 0.0853659 0.0853659 0.0853659 0.0853659 0.0853659 0.0853659 0.0853659 0.0853659 0.0853659 0.0853659 0.0853659 0.0853659 0.0843373 0.0843373 0.0843373 0.0843373 0.0843373 0.0843373 0.0843373 0.0843373 0.0843373 0.0843373 0.0843373 0.0843373 0.0843373 0.0843373 0.0843373 0.0843373 0.0843373 0.0843373 0.0843373 0.0843373 0.0843373 0.0843373 0.0843373 0.0843373 0.0843373 0.0843373 0.0843373 0.0759494 0.0759494 0.0941176 0.0930233 0.0833333 0.0833333 0.0833333 0.0833333 0.0833333 0.0833333 0.0833333 0.0833333 0.0833333 0.0833333 0.0833333 0.0833333 0.0833333 0.0833333 0.0833333 0.0823529 0.0823529 0.0823529 0.0823529 0.0823529 0.0823529 0.0823529 0.0823529 0.0823529 0.0823529 0.0823529 0.0823529 0.0823529 0.0823529 0.0823529 0.0823529 0.0823529 0.0823529 0.0823529 0.0823529 0.0823529 0.0823529 0.0823529 0.0813954 0.0813954 0.0813954 0.0813954 0.0813954 0.0813954 0.0813954 0.0813954 0.0813954 0.0813954 0.0813954 0.0813954 0.0813954 0.0813954 0.0813954 0.0813954 0.0813954 0.0813954 0.0813954 0.0813954 0.0813954 0.0813954 0.0813954 0.0813954 0.0813954 0.0813954 0.0804598 0.0804598 0.0804598 0.0804598 0.0804598 0.0804598 0.0804598 0.0804598 0.0804598 0.0804598 0.0804598 0.0804598 0.0804598 0.0804598 0.0804598 0.0804598 0.0804598 0.0804598 0.0804598 0.0804598 0.0804598 0.0804598 0.0804598 0.0804598 0.0804598 0.0804598 0.0804598 0.0804598 0.0804598 0.0804598 0.0795455 0.0795455 0.0795455 0.0795455 0.0898876 0.0879121 0.0795455 0.0795455 0.0795455 0.0795455 0.0795455 0.0795455 0.0795455 0.0795455 0.0795455 0.0795455 0.0795455 0.0795455 0.0795455 0.0795455 0.0795455 0.0795455 0.0795455 0.0795455 0.0795455 0.0795455 0.0795455 0.0795455 0.0795455 0.0795455 0.0795455 0.0795455 0.0795455 0.0795455 0.0795455 0.0795455 0.0795455 0.0795455 0.0795455 0.0795455 0.0786517 0.0786517 0.0786517 0.0786517 0.0786517 0.0786517 0.0786517 0.0786517 0.0786517 0.0786517 0.0786517 0.0786517 0.0786517 0.0786517 0.0786517 0.0786517 0.0786517 0.0786517 0.0786517 0.0786517 0.0786517 0.0786517 0.0786517 0.0786517 0.0786517 0.0786517 0.0786517 0.0786517 0.0786517 0.0786517 0.0786517 0.0786517 0.0786517 0.0786517 0.0786517 0.0786517 0.0786517 0.0786517 0.0786517 0.0777778 0.0777778 0.0777778 0.0777778 0.0777778 0.0777778 0.0777778 0.0777778 0.0777778 0.0777778 0.0777778 0.0777778 0.0777778 0.0777778 0.0777778 0.0777778 0.0777778 0.0777778 0.0777778 0.0777778 0.0777778 0.0777778 0.0777778 0.0777778 0.0777778 0.09375 0.0842105 0.0833333 0.076087 0.076087 0.076087 0.076087 0.076087 0.076087 0.076087 0.076087 0.076087 0.076087 0.076087 0.076087 0.076087 0.076087 0.076087 0.076087 0.076087 0.076087 0.076087 0.0752688 0.0752688 0.0752688 0.0752688 0.0752688 0.0752688 0.0752688 0.0752688 0.0752688 0.0752688 0.0752688 0.0752688 0.0752688 0.0752688 0.0752688 0.0752688 0.0752688 0.0752688 0.0752688 0.0752688 0.0752688 0.0752688 0.0752688 0.0752688 0.0752688 0.0752688 0.0752688 0.0752688 0.0752688 0.0752688 0.0752688 0.0752688 0.0752688 0.0752688 0.0752688 0.0752688 0.0752688 0.0752688 0.0752688 0.0752688 0.0752688 0.0752688 0.0752688 0.0752688 0.0752688 0.0752688 0.0744681 0.0744681 0.0744681 0.0744681 0.0744681 0.0744681 0.0744681 0.0744681 0.0744681 0.0744681 0.0744681 0.0744681 0.0744681 0.0744681 0.0744681 0.0744681 0.0744681 0.0744681 0.0744681 0.0744681 0.0744681 0.0744681 0.0744681 0.0744681 0.0744681 0.0744681 0.0744681 0.0744681 0.0744681 0.0744681 0.0744681 0.0744681 0.0816327 0.08 0.08 0.0792079 0.0792079 0.0721649 0.0721649 0.0721649 0.0721649 0.0721649 0.0721649 0.0721649 0.0721649 0.0721649 0.0721649 0.0721649 0.0721649 0.0721649 0.0721649 0.0721649 0.0721649 0.0721649 0.0721649 0.0721649 0.0721649 0.0721649 0.0721649 0.0721649 0.0714286 0.0714286 0.0714286 0.0714286 0.0714286 0.0714286 0.0714286 0.0714286 0.0714286 0.0714286 0.0714286 0.0714286 0.0714286 0.0714286 0.0714286 0.0714286 0.0714286 0.0714286 0.0714286 0.0714286 0.0714286 0.0714286 0.0714286 0.0714286 0.0714286 0.0714286 0.0714286 0.0714286 0.0714286 0.0714286 0.0714286 0.0714286 0.0714286 0.0714286 0.0714286 0.0714286 0.0714286 0.0707071 0.0707071 0.0707071 0.0707071 0.0707071 0.0707071 0.0707071 0.0707071 0.0707071 0.0707071 0.0707071 0.0707071 0.0707071 0.0707071 0.0707071 0.0707071 0.0707071 0.0707071 0.0707071 0.0707071 0.0707071 0.0707071 0.0707071 0.0707071 0.0707071 0.0707071 0.0707071 0.0707071 0.0707071 0.0707071 0.0707071 0.0707071 0.0707071 0.0707071 0.0707071 \n",
            "0.258065 0.225806 0.225806 0.225806 0.193548 0.193548 0.193548 0.193548 0.193548 0.193548 0.193548 0.193548 0.193548 0.193548 0.193548 0.193548 0.193548 0.193548 0.193548 0.193548 0.193548 0.193548 0.193548 0.193548 0.193548 0.16129 0.16129 0.16129 0.16129 0.16129 0.16129 0.16129 0.16129 0.16129 0.16129 0.16129 0.16129 0.16129 0.16129 0.16129 0.16129 0.16129 0.16129 0.16129 0.16129 0.16129 0.16129 0.16129 0.16129 0.16129 0.16129 0.16129 0.16129 0.16129 0.16129 0.16129 0.16129 0.16129 0.16129 0.16129 0.16129 0.16129 0.16129 0.16129 0.16129 0.16129 0.16129 0.16129 0.16129 0.16129 0.16129 0.16129 0.16129 0.16129 0.16129 0.16129 0.16129 0.16129 0.16129 0.16129 0.16129 0.16129 0.16129 0.16129 0.16129 0.16129 0.16129 0.16129 0.16129 0.16129 0.16129 0.16129 0.16129 0.16129 0.16129 0.16129 0.16129 0.16129 0.16129 0.16129 0.903226 0.870968 0.870968 0.870968 0.870968 0.354839 0.322581 0.290323 0.290323 0.290323 0.290323 0.290323 0.290323 0.290323 0.290323 0.290323 0.258065 0.258065 0.258065 0.258065 0.258065 0.258065 0.258065 0.258065 0.258065 0.258065 0.258065 0.258065 0.258065 0.258065 0.258065 0.258065 0.258065 0.258065 0.258065 0.258065 0.258065 0.258065 0.258065 0.258065 0.258065 0.258065 0.258065 0.258065 0.258065 0.258065 0.258065 0.258065 0.258065 0.258065 0.258065 0.258065 0.258065 0.258065 0.258065 0.258065 0.258065 0.258065 0.258065 0.258065 0.258065 0.258065 0.258065 0.258065 0.258065 0.258065 0.258065 0.258065 0.258065 0.25 0.25 0.25 0.25 0.25 0.25 0.25 0.225806 0.225806 0.225806 0.225806 0.225806 0.225806 0.225806 0.225806 0.225806 0.225806 0.225806 0.225806 0.225806 0.225806 0.225806 0.225806 0.225806 0.225806 0.225806 0.225806 0.225806 0.225806 0.225806 0.225806 0.810811 0.340909 0.325581 0.325581 0.325581 0.324324 0.317073 0.317073 0.315789 0.315789 0.307692 0.30303 0.302326 0.302326 0.294118 0.289474 0.282051 0.282051 0.28125 0.27907 0.275 0.275 0.272727 0.272727 0.272727 0.27027 0.27027 0.264706 0.264706 0.264706 0.264706 0.263158 0.263158 0.263158 0.261905 0.261905 0.257143 0.257143 0.257143 0.257143 0.257143 0.257143 0.257143 0.257143 0.257143 0.257143 0.257143 0.257143 0.25641 0.25641 0.25641 0.25641 0.255814 0.25 0.25 0.25 0.25 0.25 0.25 0.25 0.25 0.25 0.25 0.25 0.25 0.25 0.25 0.25 0.25 0.25 0.25 0.25 0.243902 0.243902 0.243902 0.243902 0.243902 0.243902 0.243243 0.243243 0.243243 0.243243 0.243243 0.243243 0.243243 0.242424 0.242424 0.242424 0.242424 0.242424 0.242424 0.242424 0.242424 0.242424 0.242424 0.242424 0.242424 0.242424 0.242424 0.242424 0.326087 0.306122 0.288889 0.282609 0.282609 0.266667 0.255319 0.25 0.245283 0.244898 0.244444 0.244444 0.24 0.24 0.23913 0.230769 0.230769 0.229167 0.227273 0.227273 0.222222 0.222222 0.222222 0.222222 0.222222 0.222222 0.222222 0.222222 0.222222 0.22 0.22 0.218182 0.218182 0.217391 0.217391 0.215686 0.212766 0.212766 0.212766 0.212766 0.212766 0.212766 0.212766 0.212766 0.212766 0.212766 0.212766 0.211538 0.208333 0.208333 0.208333 0.208333 0.208333 0.208333 0.208333 0.208333 0.207547 0.207547 0.207547 0.204545 0.204545 0.204545 0.204545 0.204545 0.204082 0.204082 0.204082 0.204082 0.204082 0.204082 0.204082 0.204082 0.204082 0.204082 0.204082 0.204082 0.204082 0.203704 0.203704 0.203704 0.203704 0.203704 0.2 0.2 0.2 0.2 0.2 0.2 0.2 0.2 0.2 0.2 0.2 0.2 0.2 0.2 0.2 0.2 0.2 0.2 0.229508 0.225806 0.224138 0.224138 0.210526 0.209677 0.209677 0.206897 0.206897 0.206897 0.206897 0.206897 0.20339 0.20339 0.203125 0.2 0.2 0.196721 0.196429 0.196429 0.193548 0.193548 0.193548 0.193548 0.193548 0.192982 0.192982 0.192982 0.192982 0.192982 0.192982 0.192982 0.192982 0.192982 0.190476 0.190476 0.190476 0.190476 0.190476 0.190476 0.190476 0.189655 0.189655 0.189655 0.189655 0.1875 0.1875 0.1875 0.1875 0.1875 0.186441 0.186441 0.186441 0.186441 0.186441 0.186441 0.186441 0.186441 0.186441 0.186441 0.186441 0.186441 0.184615 0.184615 0.184615 0.183333 0.183333 0.183333 0.183333 0.183333 0.183333 0.183333 0.183333 0.183333 0.183333 0.183333 0.183333 0.183333 0.180328 0.180328 0.180328 0.180328 0.180328 0.180328 0.180328 0.180328 0.180328 0.180328 0.180328 0.178571 0.178571 0.178571 0.178571 0.178571 0.178571 0.178571 0.178571 0.178571 0.178571 0.178571 0.211268 0.205882 0.19697 0.191781 0.191176 0.188406 0.185714 0.185714 0.183099 0.181818 0.181818 0.181818 0.181818 0.181818 0.181818 0.180556 0.180556 0.180556 0.180556 0.180556 0.179104 0.179104 0.179104 0.179104 0.179104 0.179104 0.178082 0.178082 0.178082 0.176471 0.176471 0.176471 0.176471 0.176471 0.176471 0.176471 0.173913 0.173913 0.173913 0.173913 0.173913 0.173913 0.173913 0.173913 0.171429 0.171429 0.171429 0.171429 0.171429 0.171429 0.171429 0.171429 0.171429 0.169014 0.169014 0.169014 0.169014 0.169014 0.169014 0.169014 0.169014 0.169014 0.169014 0.169014 0.169014 0.169014 0.169014 0.169014 0.169014 0.169014 0.169014 0.166667 0.166667 0.166667 0.166667 0.166667 0.166667 0.166667 0.166667 0.166667 0.166667 0.166667 0.166667 0.166667 0.166667 0.166667 0.166667 0.166667 0.166667 0.166667 0.166667 0.166667 0.166667 0.166667 0.166667 0.166667 0.166667 0.166667 0.166667 0.166667 0.205479 0.197368 0.186667 0.186667 0.186667 0.184211 0.184211 0.181818 0.181818 0.181818 0.179487 0.179487 0.179487 0.178082 0.175676 0.175676 0.175676 0.175676 0.175676 0.175676 0.173333 0.173333 0.173333 0.173333 0.173333 0.173333 0.173333 0.173333 0.171053 0.171053 0.171053 0.171053 0.171053 0.171053 0.171053 0.171053 0.171053 0.171053 0.171053 0.171053 0.171053 0.171053 0.171053 0.168831 0.168831 0.168831 0.168831 0.168831 0.168831 0.168831 0.168831 0.168831 0.168831 0.168831 0.166667 0.166667 0.166667 0.166667 0.166667 0.166667 0.166667 0.166667 0.164557 0.164557 0.164384 0.164384 0.164384 0.164384 0.164384 0.164384 0.162162 0.162162 0.162162 0.162162 0.162162 0.162162 0.162162 0.162162 0.162162 0.162162 0.162162 0.162162 0.162162 0.162162 0.162162 0.162162 0.162162 0.162162 0.162162 0.16 0.16 0.16 0.16 0.16 0.16 0.16 0.16 0.16 0.16 0.16 0.2 0.2 0.195122 0.189873 0.189873 0.1875 0.1875 0.182927 0.182927 0.180723 0.177215 0.177215 0.177215 0.177215 0.175 0.175 0.175 0.175 0.175 0.175 0.17284 0.17284 0.17284 0.17284 0.17284 0.17284 0.17284 0.17284 0.17284 0.17284 0.17284 0.17284 0.17284 0.17284 0.170732 0.170732 0.170732 0.170732 0.170732 0.170732 0.170732 0.170732 0.168675 0.168675 0.168675 0.168675 0.168675 0.168675 0.168675 0.168675 0.168675 0.168675 0.168675 0.168675 0.168675 0.168675 0.168675 0.168675 0.164557 0.164557 0.164557 0.164557 0.164557 0.164557 0.164557 0.164557 0.164557 0.164557 0.164557 0.164557 0.164557 0.164557 0.1625 0.1625 0.1625 0.1625 0.1625 0.1625 0.1625 0.1625 0.1625 0.1625 0.1625 0.1625 0.1625 0.1625 0.1625 0.1625 0.1625 0.1625 0.160494 0.160494 0.160494 0.160494 0.160494 0.160494 0.160494 0.160494 0.160494 0.160494 0.229885 0.229885 0.22093 0.218391 0.215909 0.2 0.197674 0.195402 0.190476 0.190476 0.183908 0.178571 0.178571 0.176471 0.172414 0.172414 0.168675 0.166667 0.166667 0.166667 0.166667 0.166667 0.166667 0.166667 0.166667 0.166667 0.166667 0.164706 0.164706 0.164706 0.164706 0.164706 0.164706 0.164706 0.162791 0.162791 0.162791 0.162791 0.162791 0.162791 0.162791 0.162791 0.162791 0.16092 0.16092 0.16092 0.16092 0.16092 0.16092 0.16092 0.16092 0.16092 0.16092 0.16092 0.16092 0.16092 0.16092 0.159091 0.159091 0.159091 0.156627 0.156627 0.154762 0.154762 0.154762 0.154762 0.154762 0.154762 0.154762 0.154762 0.154762 0.154762 0.154762 0.154762 0.154762 0.154762 0.154762 0.154762 0.154762 0.154762 0.154762 0.154762 0.154762 0.154762 0.154762 0.154762 0.154762 0.154762 0.154762 0.154762 0.154762 0.154762 0.154762 0.154762 0.154762 0.154762 0.154762 0.154762 0.154762 0.154762 0.193182 0.179775 0.179775 0.175824 0.175824 0.175824 0.170455 0.170455 0.170455 0.168539 0.168539 0.168539 0.166667 0.166667 0.166667 0.166667 0.166667 0.166667 0.166667 0.166667 0.164835 0.163043 0.163043 0.159091 0.159091 0.159091 0.159091 0.159091 0.159091 0.159091 0.159091 0.159091 0.159091 0.159091 0.159091 0.159091 0.159091 0.157303 0.157303 0.157303 0.157303 0.157303 0.157303 0.157303 0.157303 0.157303 0.157303 0.157303 0.157303 0.157303 0.157303 0.157303 0.157303 0.157303 0.157303 0.157303 0.155556 0.155556 0.155556 0.155556 0.155556 0.155556 0.155556 0.155556 0.155556 0.155556 0.155556 0.155556 0.155556 0.155556 0.155556 0.155556 0.153846 0.153846 0.153846 0.153846 0.153846 0.153846 0.153846 0.153846 0.153846 0.153846 0.153846 0.153846 0.153846 0.152174 0.152174 0.152174 0.152174 0.147727 0.147727 0.147727 0.147727 0.147727 0.147727 0.147727 0.147727 0.147727 0.147727 0.147727 0.189474 0.178947 0.168421 0.166667 0.166667 0.166667 0.164948 0.164948 0.164948 0.164948 0.163043 0.16129 0.16129 0.16129 0.16129 0.16129 0.16129 0.16129 0.16129 0.159574 0.159574 0.159574 0.159574 0.159574 0.159574 0.157895 0.157895 0.157895 0.157895 0.157895 0.157895 0.157895 0.157895 0.157895 0.157895 0.157895 0.157895 0.157895 0.157895 0.157895 0.157895 0.157895 0.157895 0.157895 0.157895 0.157895 0.157895 0.157895 0.157895 0.15625 0.15625 0.15625 0.15625 0.15625 0.15625 0.15625 0.15625 0.15625 0.15625 0.15625 0.15625 0.15625 0.15625 0.15625 0.15625 0.15625 0.15625 0.15625 0.15625 0.15625 0.15625 0.154639 0.154639 0.154639 0.154639 0.154639 0.154639 0.154639 0.154639 0.152174 0.152174 0.152174 0.152174 0.152174 0.152174 0.152174 0.150538 0.150538 0.150538 0.150538 0.150538 0.150538 0.150538 0.150538 0.150538 0.148936 0.148936 0.148936 0.148936 0.148936 0.173469 0.17 0.164948 0.161616 0.161616 0.16 0.16 0.16 0.158879 0.158416 0.158416 0.158416 0.156863 0.156863 0.154639 0.154639 0.154639 0.154639 0.154639 0.154639 0.154639 0.154639 0.154639 0.153846 0.153061 0.153061 0.153061 0.153061 0.153061 0.153061 0.153061 0.153061 0.153061 0.153061 0.153061 0.153061 0.153061 0.153061 0.153061 0.153061 0.153061 0.152381 0.151515 0.151515 0.151515 0.151515 0.151515 0.151515 0.151515 0.151515 0.151515 0.151515 0.151515 0.151515 0.151515 0.151515 0.151515 0.150943 0.15 0.15 0.15 0.15 0.15 0.148515 0.148515 0.148515 0.148515 0.147059 0.147059 0.147059 0.147059 0.147059 0.147059 0.145631 0.145631 0.145631 0.145631 0.145631 0.145631 0.14433 0.14433 0.14433 0.144231 0.144231 0.142857 0.142857 0.142857 0.142857 0.142857 0.142857 0.142857 0.142857 0.142857 0.142857 0.142857 0.142857 0.142857 0.142857 0.142857 0.142857 \n",
            "0.123596 0.123596 0.123596 0.123596 0.123596 0.123596 0.11236 0.11236 0.11236 0.11236 0.11236 0.11236 0.11236 0.11236 0.11236 0.11236 0.11236 0.11236 0.11236 0.11236 0.11236 0.11236 0.11236 0.11236 0.11236 0.11236 0.11236 0.11236 0.11236 0.11236 0.11236 0.11236 0.11236 0.11236 0.11236 0.11236 0.11236 0.11236 0.11236 0.11236 0.11236 0.11236 0.11236 0.11236 0.11236 0.11236 0.11236 0.11236 0.11236 0.11236 0.11236 0.11236 0.11236 0.11236 0.11236 0.11236 0.11236 0.11236 0.11236 0.11236 0.11236 0.101124 0.101124 0.101124 0.101124 0.101124 0.101124 0.101124 0.101124 0.101124 0.101124 0.101124 0.101124 0.101124 0.101124 0.101124 0.101124 0.101124 0.101124 0.101124 0.101124 0.101124 0.101124 0.101124 0.101124 0.101124 0.101124 0.101124 0.101124 0.101124 0.101124 0.101124 0.101124 0.101124 0.101124 0.101124 0.101124 0.101124 0.101124 0.101124 0.303371 0.292135 0.224719 0.213483 0.213483 0.202247 0.191011 0.191011 0.191011 0.179775 0.179775 0.179775 0.179775 0.179775 0.179775 0.179775 0.179775 0.179775 0.179775 0.179775 0.179775 0.179775 0.179775 0.179775 0.179775 0.168539 0.168539 0.168539 0.168539 0.168539 0.168539 0.168539 0.168539 0.168539 0.168539 0.168539 0.168539 0.168539 0.168539 0.168539 0.168539 0.168539 0.168539 0.168539 0.168539 0.168539 0.168539 0.168539 0.168539 0.168539 0.168539 0.168539 0.168539 0.168539 0.168539 0.168539 0.168539 0.168539 0.168539 0.168539 0.168539 0.168539 0.168539 0.168539 0.168539 0.168539 0.168539 0.168539 0.168539 0.168539 0.168539 0.168539 0.157303 0.157303 0.157303 0.157303 0.157303 0.157303 0.157303 0.157303 0.157303 0.157303 0.157303 0.157303 0.157303 0.157303 0.157303 0.157303 0.157303 0.157303 0.157303 0.157303 0.157303 0.157303 0.157303 0.157303 0.157303 0.157303 0.157303 0.157303 0.426966 0.404494 0.393258 0.292135 0.269663 0.247191 0.247191 0.247191 0.235955 0.235955 0.235955 0.235955 0.235955 0.224719 0.224719 0.224719 0.224719 0.224719 0.224719 0.224719 0.224719 0.224719 0.224719 0.224719 0.224719 0.224719 0.224719 0.224719 0.224719 0.213483 0.213483 0.213483 0.213483 0.213483 0.213483 0.213483 0.213483 0.213483 0.213483 0.213483 0.213483 0.213483 0.213483 0.213483 0.213483 0.213483 0.213483 0.213483 0.213483 0.213483 0.213483 0.213483 0.213483 0.213483 0.213483 0.213483 0.213483 0.213483 0.213483 0.213483 0.213483 0.213483 0.213483 0.213483 0.213483 0.213483 0.213483 0.213483 0.213483 0.213483 0.213483 0.213483 0.213483 0.213483 0.213483 0.202247 0.202247 0.202247 0.202247 0.202247 0.202247 0.202247 0.202247 0.202247 0.202247 0.202247 0.202247 0.202247 0.202247 0.202247 0.202247 0.202247 0.202247 0.202247 0.202247 0.202247 0.202247 0.202247 0.202247 0.202247 0.617977 0.561798 0.505618 0.494382 0.483146 0.460674 0.404494 0.325843 0.314607 0.314607 0.314607 0.314607 0.314607 0.314607 0.314607 0.314607 0.303371 0.303371 0.303371 0.303371 0.303371 0.303371 0.303371 0.303371 0.292135 0.292135 0.292135 0.292135 0.292135 0.292135 0.292135 0.292135 0.280899 0.280899 0.280899 0.280899 0.280899 0.280899 0.269663 0.269663 0.269663 0.269663 0.269663 0.269663 0.269663 0.269663 0.269663 0.269663 0.269663 0.269663 0.269663 0.269663 0.269663 0.269663 0.269663 0.258427 0.258427 0.258427 0.258427 0.258427 0.258427 0.258427 0.258427 0.258427 0.258427 0.258427 0.258427 0.258427 0.258427 0.258427 0.258427 0.258427 0.258427 0.258427 0.258427 0.258427 0.258427 0.258427 0.258427 0.258427 0.258427 0.258427 0.258427 0.258427 0.258427 0.258427 0.258427 0.258427 0.258427 0.258427 0.258427 0.247191 0.247191 0.247191 0.247191 0.247191 0.247191 0.247191 0.247191 0.247191 0.640449 0.640449 0.617977 0.617977 0.617977 0.606742 0.606742 0.606742 0.573034 0.573034 0.561798 0.539326 0.393258 0.348315 0.348315 0.348315 0.348315 0.337079 0.337079 0.337079 0.337079 0.337079 0.325843 0.325843 0.325843 0.325843 0.325843 0.325843 0.325843 0.325843 0.325843 0.325843 0.325843 0.314607 0.314607 0.314607 0.314607 0.314607 0.314607 0.314607 0.314607 0.314607 0.314607 0.314607 0.314607 0.314607 0.314607 0.314607 0.314607 0.314607 0.314607 0.314607 0.314607 0.314607 0.303371 0.303371 0.303371 0.303371 0.303371 0.303371 0.303371 0.303371 0.303371 0.303371 0.303371 0.303371 0.303371 0.303371 0.303371 0.303371 0.303371 0.303371 0.303371 0.303371 0.303371 0.303371 0.292135 0.292135 0.292135 0.292135 0.292135 0.292135 0.292135 0.292135 0.292135 0.292135 0.292135 0.292135 0.292135 0.292135 0.292135 0.292135 0.292135 0.292135 0.292135 0.292135 0.292135 0.292135 0.292135 0.292135 0.674157 0.674157 0.674157 0.662921 0.662921 0.651685 0.640449 0.640449 0.460674 0.438202 0.426966 0.41573 0.41573 0.393258 0.359551 0.359551 0.359551 0.359551 0.348315 0.348315 0.348315 0.348315 0.348315 0.348315 0.348315 0.348315 0.348315 0.348315 0.348315 0.348315 0.348315 0.348315 0.348315 0.348315 0.348315 0.348315 0.348315 0.348315 0.348315 0.348315 0.348315 0.348315 0.348315 0.348315 0.348315 0.348315 0.348315 0.348315 0.337079 0.337079 0.337079 0.337079 0.337079 0.337079 0.337079 0.337079 0.337079 0.337079 0.337079 0.337079 0.337079 0.337079 0.337079 0.337079 0.337079 0.337079 0.337079 0.337079 0.337079 0.337079 0.337079 0.337079 0.337079 0.337079 0.337079 0.337079 0.337079 0.337079 0.337079 0.337079 0.337079 0.337079 0.337079 0.337079 0.337079 0.337079 0.337079 0.337079 0.337079 0.337079 0.337079 0.337079 0.337079 0.337079 0.337079 0.337079 0.337079 0.337079 0.337079 0.337079 0.775281 0.741573 0.674157 0.651685 0.651685 0.640449 0.640449 0.640449 0.617977 0.573034 0.573034 0.550562 0.393258 0.393258 0.393258 0.382022 0.382022 0.382022 0.382022 0.382022 0.370787 0.370787 0.370787 0.370787 0.370787 0.370787 0.370787 0.370787 0.370787 0.370787 0.370787 0.370787 0.370787 0.370787 0.370787 0.370787 0.370787 0.370787 0.370787 0.359551 0.359551 0.359551 0.359551 0.359551 0.359551 0.359551 0.359551 0.359551 0.359551 0.359551 0.359551 0.348315 0.348315 0.348315 0.348315 0.348315 0.348315 0.348315 0.348315 0.348315 0.348315 0.348315 0.348315 0.348315 0.348315 0.348315 0.348315 0.348315 0.348315 0.348315 0.337079 0.337079 0.337079 0.337079 0.337079 0.337079 0.337079 0.337079 0.337079 0.337079 0.337079 0.337079 0.337079 0.337079 0.337079 0.337079 0.337079 0.337079 0.337079 0.337079 0.337079 0.337079 0.337079 0.337079 0.337079 0.337079 0.337079 0.337079 0.337079 0.337079 0.786517 0.786517 0.786517 0.775281 0.775281 0.775281 0.764045 0.764045 0.764045 0.764045 0.764045 0.764045 0.764045 0.764045 0.764045 0.764045 0.764045 0.764045 0.764045 0.764045 0.764045 0.764045 0.764045 0.764045 0.764045 0.764045 0.764045 0.764045 0.764045 0.764045 0.764045 0.764045 0.764045 0.764045 0.764045 0.764045 0.764045 0.764045 0.764045 0.764045 0.764045 0.764045 0.764045 0.764045 0.764045 0.752809 0.752809 0.752809 0.752809 0.752809 0.752809 0.752809 0.752809 0.752809 0.752809 0.752809 0.752809 0.752809 0.752809 0.752809 0.752809 0.752809 0.752809 0.752809 0.752809 0.741573 0.741573 0.741573 0.741573 0.741573 0.741573 0.741573 0.741573 0.741573 0.741573 0.741573 0.741573 0.741573 0.741573 0.730337 0.730337 0.730337 0.730337 0.730337 0.730337 0.730337 0.719101 0.719101 0.719101 0.719101 0.719101 0.707865 0.707865 0.685393 0.685393 0.674157 0.674157 0.674157 0.674157 0.674157 0.775281 0.764045 0.764045 0.764045 0.764045 0.764045 0.764045 0.752809 0.752809 0.752809 0.752809 0.752809 0.752809 0.752809 0.741573 0.741573 0.741573 0.741573 0.741573 0.741573 0.741573 0.741573 0.741573 0.730337 0.730337 0.730337 0.730337 0.730337 0.730337 0.719101 0.719101 0.707865 0.707865 0.707865 0.696629 0.696629 0.685393 0.685393 0.674157 0.640449 0.629214 0.629214 0.617977 0.595506 0.595506 0.561798 0.47191 0.449438 0.438202 0.426966 0.426966 0.41573 0.404494 0.404494 0.404494 0.404494 0.404494 0.393258 0.393258 0.393258 0.393258 0.393258 0.393258 0.393258 0.382022 0.382022 0.382022 0.370787 0.370787 0.370787 0.370787 0.370787 0.370787 0.370787 0.370787 0.370787 0.370787 0.370787 0.370787 0.370787 0.370787 0.370787 0.359551 0.359551 0.359551 0.359551 0.359551 0.359551 0.359551 0.359551 0.359551 0.359551 0.359551 0.359551 0.359551 0.359551 0.359551 0.359551 0.359551 0.359551 0.955056 0.913043 0.911111 0.786517 0.775281 0.752809 0.752809 0.730337 0.7 0.674157 0.666667 0.651685 0.58427 0.544444 0.539326 0.522222 0.511111 0.404494 0.388889 0.388889 0.382022 0.382022 0.382022 0.377778 0.377778 0.377778 0.373626 0.370787 0.370787 0.370787 0.362637 0.362637 0.362637 0.362637 0.359551 0.359551 0.359551 0.359551 0.359551 0.359551 0.359551 0.359551 0.358696 0.355556 0.351648 0.351648 0.351648 0.351648 0.351648 0.351648 0.351648 0.351648 0.351648 0.348315 0.348315 0.348315 0.348315 0.348315 0.348315 0.348315 0.348315 0.348315 0.348315 0.348315 0.348315 0.348315 0.348315 0.348315 0.348315 0.348315 0.348315 0.348315 0.344444 0.344444 0.344444 0.344444 0.344444 0.344444 0.344444 0.344444 0.344444 0.344444 0.344444 0.344444 0.340659 0.340659 0.340659 0.340659 0.340659 0.340659 0.340659 0.340659 0.340659 0.340659 0.340659 0.340659 0.340659 0.337079 0.337079 0.337079 0.923913 0.913043 0.892473 0.831579 0.755319 0.631579 0.612903 0.585106 0.569892 0.5 0.463158 0.462366 0.414894 0.414894 0.413043 0.413043 0.393617 0.391304 0.378947 0.368421 0.365591 0.365591 0.365591 0.364583 0.364583 0.364583 0.361702 0.361702 0.360825 0.360825 0.358696 0.357895 0.357895 0.354839 0.354167 0.354167 0.354167 0.354167 0.354167 0.351064 0.351064 0.351064 0.350515 0.347826 0.347826 0.347826 0.347826 0.347826 0.344086 0.344086 0.344086 0.344086 0.344086 0.34375 0.34375 0.340426 0.340426 0.340426 0.340426 0.340426 0.340426 0.340206 0.336957 0.336957 0.336957 0.336957 0.336957 0.336842 0.336842 0.336842 0.333333 0.333333 0.333333 0.333333 0.333333 0.333333 0.333333 0.333333 0.333333 0.333333 0.333333 0.333333 0.329897 0.329787 0.329787 0.329787 0.329787 0.329787 0.329787 0.326316 0.326316 0.326316 0.326316 0.326316 0.326316 0.326316 0.326316 0.326316 0.326316 0.326316 0.581633 0.58 0.561224 0.535354 0.494949 0.44898 0.43299 0.43 0.407767 0.382353 0.375 0.361905 0.360825 0.357143 0.355769 0.353535 0.353535 0.353535 0.352941 0.35 0.35 0.35 0.346939 0.346939 0.343434 0.34 0.34 0.336735 0.336735 0.336735 0.336735 0.336735 0.336634 0.336634 0.333333 0.333333 0.333333 0.333333 0.333333 0.33 0.33 0.33 0.33 0.33 0.326733 0.326531 0.326531 0.326531 0.326531 0.323529 0.323529 0.323529 0.323529 0.323232 0.323232 0.323232 0.323232 0.323232 0.320388 0.32 0.32 0.32 0.32 0.32 0.32 0.32 0.32 0.32 0.319588 0.319588 0.319588 0.319588 0.319588 0.317308 0.317308 0.316832 0.316832 0.316832 0.316832 0.316832 0.316832 0.316327 0.316327 0.316327 0.316327 0.316327 0.316327 0.316327 0.316327 0.316327 0.316327 0.314286 0.313726 0.313726 0.313726 0.313726 0.313726 0.313131 0.313131 0.313131 \n",
            "0.571429 0.357143 0.321429 0.285714 0.285714 0.285714 0.285714 0.25 0.25 0.25 0.25 0.25 0.25 0.25 0.25 0.25 0.25 0.25 0.25 0.25 0.25 0.25 0.25 0.214286 0.214286 0.214286 0.214286 0.214286 0.214286 0.214286 0.214286 0.214286 0.214286 0.214286 0.214286 0.214286 0.214286 0.214286 0.214286 0.214286 0.214286 0.214286 0.214286 0.214286 0.214286 0.214286 0.214286 0.214286 0.214286 0.214286 0.214286 0.214286 0.214286 0.214286 0.214286 0.214286 0.214286 0.214286 0.214286 0.214286 0.214286 0.214286 0.214286 0.214286 0.214286 0.214286 0.214286 0.214286 0.214286 0.214286 0.214286 0.214286 0.214286 0.214286 0.214286 0.214286 0.214286 0.214286 0.214286 0.214286 0.214286 0.214286 0.214286 0.214286 0.214286 0.214286 0.214286 0.214286 0.214286 0.214286 0.214286 0.214286 0.214286 0.214286 0.214286 0.214286 0.214286 0.214286 0.214286 0.214286 0.928571 0.9 0.896552 0.870968 0.866667 0.866667 0.866667 0.857143 0.857143 0.857143 0.83871 0.83871 0.83871 0.806452 0.78125 0.482759 0.466667 0.466667 0.464286 0.464286 0.464286 0.464286 0.464286 0.464286 0.464286 0.451613 0.451613 0.451613 0.451613 0.451613 0.451613 0.448276 0.448276 0.448276 0.448276 0.448276 0.4375 0.4375 0.4375 0.4375 0.4375 0.433333 0.433333 0.433333 0.433333 0.433333 0.433333 0.433333 0.433333 0.433333 0.428571 0.428571 0.428571 0.428571 0.428571 0.428571 0.428571 0.428571 0.428571 0.428571 0.428571 0.428571 0.428571 0.428571 0.428571 0.428571 0.428571 0.428571 0.428571 0.428571 0.419355 0.419355 0.419355 0.419355 0.419355 0.419355 0.419355 0.419355 0.419355 0.419355 0.419355 0.419355 0.419355 0.419355 0.413793 0.413793 0.413793 0.413793 0.413793 0.413793 0.413793 0.413793 0.413793 0.413793 0.413793 0.413793 0.413793 0.413793 0.413793 0.413793 0.875 0.875 0.818182 0.818182 0.8125 0.8125 0.8125 0.8125 0.8125 0.8 0.794118 0.794118 0.787879 0.787879 0.787879 0.771429 0.771429 0.771429 0.764706 0.764706 0.764706 0.764706 0.757576 0.742857 0.742857 0.72973 0.72973 0.722222 0.722222 0.722222 0.722222 0.722222 0.71875 0.702703 0.702703 0.702703 0.702703 0.702703 0.702703 0.692308 0.685714 0.684211 0.684211 0.676471 0.666667 0.658537 0.634146 0.628571 0.611111 0.606061 0.604651 0.568182 0.522727 0.485714 0.454545 0.444444 0.441176 0.441176 0.441176 0.4375 0.4375 0.4375 0.4375 0.4375 0.4375 0.4375 0.428571 0.428571 0.428571 0.428571 0.428571 0.428571 0.424242 0.424242 0.424242 0.424242 0.424242 0.424242 0.424242 0.424242 0.424242 0.416667 0.416667 0.416667 0.416667 0.416667 0.416667 0.416667 0.416667 0.411765 0.411765 0.411765 0.411765 0.411765 0.411765 0.411765 0.411765 0.411765 0.411765 0.411765 0.565217 0.490566 0.340909 0.340909 0.333333 0.333333 0.333333 0.333333 0.333333 0.326087 0.326087 0.326087 0.326087 0.326087 0.326087 0.326087 0.326087 0.326087 0.326087 0.32 0.319149 0.319149 0.319149 0.319149 0.318182 0.318182 0.318182 0.318182 0.318182 0.318182 0.318182 0.318182 0.318182 0.318182 0.318182 0.318182 0.318182 0.318182 0.318182 0.3125 0.3125 0.3125 0.3125 0.3125 0.3125 0.3125 0.311111 0.311111 0.311111 0.311111 0.311111 0.311111 0.311111 0.311111 0.311111 0.311111 0.311111 0.311111 0.311111 0.311111 0.311111 0.311111 0.311111 0.311111 0.311111 0.311111 0.311111 0.311111 0.311111 0.311111 0.311111 0.311111 0.311111 0.311111 0.311111 0.311111 0.311111 0.311111 0.311111 0.311111 0.311111 0.311111 0.311111 0.311111 0.311111 0.311111 0.311111 0.311111 0.311111 0.311111 0.311111 0.311111 0.311111 0.311111 0.311111 0.311111 0.311111 0.306122 0.306122 0.306122 0.267857 0.263158 0.258065 0.254237 0.254237 0.254237 0.25 0.25 0.25 0.25 0.25 0.25 0.25 0.25 0.25 0.245902 0.245902 0.245614 0.245614 0.245614 0.245614 0.245614 0.245614 0.245614 0.245614 0.245614 0.245614 0.245614 0.245614 0.245614 0.245614 0.245614 0.245614 0.245614 0.245614 0.245614 0.241935 0.241935 0.241379 0.241379 0.241379 0.241379 0.241379 0.241379 0.241379 0.241379 0.238095 0.237288 0.237288 0.237288 0.237288 0.237288 0.237288 0.237288 0.237288 0.234375 0.233333 0.233333 0.233333 0.233333 0.233333 0.233333 0.233333 0.233333 0.233333 0.233333 0.232143 0.232143 0.232143 0.232143 0.232143 0.232143 0.232143 0.232143 0.232143 0.232143 0.232143 0.232143 0.232143 0.232143 0.232143 0.232143 0.232143 0.230769 0.229508 0.229508 0.229508 0.229508 0.229508 0.229508 0.229508 0.22807 0.22807 0.22807 0.22807 0.22807 0.22807 0.22807 0.22807 0.22807 0.223881 0.211268 0.208955 0.205882 0.205882 0.202899 0.202899 0.2 0.2 0.2 0.2 0.197183 0.197183 0.19697 0.19697 0.19697 0.19697 0.19697 0.19697 0.19697 0.194444 0.19403 0.19403 0.19403 0.19403 0.19403 0.19403 0.19403 0.19403 0.19403 0.191781 0.191176 0.191176 0.191176 0.188406 0.188406 0.188406 0.188406 0.185714 0.185714 0.183099 0.183099 0.183099 0.183099 0.183099 0.183099 0.183099 0.181818 0.181818 0.181818 0.181818 0.181818 0.181818 0.181818 0.181818 0.181818 0.181818 0.181818 0.181818 0.181818 0.181818 0.181818 0.181818 0.180556 0.180556 0.180556 0.180556 0.180556 0.180556 0.180556 0.180556 0.179104 0.179104 0.179104 0.179104 0.179104 0.179104 0.179104 0.179104 0.179104 0.179104 0.179104 0.179104 0.179104 0.179104 0.179104 0.179104 0.178082 0.178082 0.176471 0.176471 0.176471 0.176471 0.176471 0.176471 0.176471 0.176471 0.176471 0.173913 0.173913 0.210526 0.202703 0.202703 0.2 0.197368 0.191781 0.189189 0.189189 0.189189 0.181818 0.181818 0.179487 0.175676 0.175676 0.175676 0.175676 0.171053 0.171053 0.171053 0.171053 0.171053 0.171053 0.168831 0.168831 0.166667 0.164557 0.164557 0.164384 0.164384 0.164384 0.162162 0.162162 0.162162 0.162162 0.162162 0.162162 0.162162 0.162162 0.162162 0.16 0.16 0.16 0.16 0.16 0.16 0.16 0.16 0.157895 0.157895 0.157895 0.157895 0.157895 0.157895 0.155844 0.155844 0.155844 0.155844 0.155844 0.155844 0.153846 0.153846 0.153846 0.153846 0.153846 0.150685 0.150685 0.150685 0.150685 0.150685 0.150685 0.150685 0.150685 0.148649 0.148649 0.148649 0.148649 0.148649 0.148649 0.148649 0.148649 0.148649 0.148649 0.148649 0.148649 0.148649 0.148649 0.148649 0.148649 0.148649 0.148649 0.148649 0.146667 0.146667 0.146667 0.146667 0.146667 0.146667 0.146667 0.146667 0.146667 0.177215 0.170732 0.168675 0.164557 0.164557 0.164557 0.164557 0.1625 0.1625 0.1625 0.160494 0.158537 0.158537 0.158537 0.156627 0.151899 0.151899 0.151899 0.151899 0.151899 0.151899 0.15 0.148148 0.148148 0.148148 0.148148 0.148148 0.148148 0.148148 0.146341 0.146341 0.146341 0.144578 0.144578 0.144578 0.144578 0.139241 0.139241 0.139241 0.139241 0.139241 0.139241 0.139241 0.139241 0.139241 0.139241 0.139241 0.139241 0.139241 0.139241 0.139241 0.139241 0.139241 0.139241 0.139241 0.1375 0.1375 0.1375 0.1375 0.1375 0.1375 0.1375 0.1375 0.1375 0.1375 0.1375 0.1375 0.1375 0.1375 0.1375 0.1375 0.1375 0.1375 0.1375 0.1375 0.1375 0.135802 0.135802 0.135802 0.135802 0.135802 0.135802 0.135802 0.135802 0.135802 0.135802 0.135802 0.135802 0.135802 0.135802 0.135802 0.135802 0.135802 0.135802 0.135802 0.135802 0.135802 0.135802 0.134146 0.134146 0.178571 0.166667 0.166667 0.164706 0.154762 0.154762 0.154762 0.154762 0.152941 0.152941 0.152941 0.151163 0.149425 0.149425 0.142857 0.142857 0.142857 0.142857 0.142857 0.141176 0.141176 0.141176 0.141176 0.141176 0.141176 0.141176 0.139535 0.139535 0.139535 0.137931 0.137931 0.137931 0.137931 0.137931 0.137931 0.137931 0.137931 0.136364 0.136364 0.130952 0.130952 0.130952 0.130952 0.130952 0.130952 0.130952 0.130952 0.130952 0.130952 0.130952 0.130952 0.130952 0.130952 0.130952 0.130952 0.129412 0.129412 0.129412 0.129412 0.129412 0.129412 0.129412 0.129412 0.129412 0.129412 0.129412 0.129412 0.129412 0.129412 0.129412 0.129412 0.129412 0.129412 0.129412 0.129412 0.129412 0.129412 0.129412 0.127907 0.127907 0.127907 0.127907 0.127907 0.127907 0.127907 0.127907 0.127907 0.127907 0.127907 0.127907 0.127907 0.127907 0.127907 0.127907 0.127907 0.127907 0.127907 0.127907 0.127907 0.127907 0.157303 0.147727 0.146067 0.146067 0.144444 0.144444 0.144444 0.144444 0.144444 0.142857 0.142857 0.136364 0.136364 0.136364 0.136364 0.136364 0.136364 0.134831 0.134831 0.133333 0.133333 0.133333 0.133333 0.133333 0.131868 0.131868 0.131868 0.131868 0.130435 0.125 0.125 0.125 0.125 0.125 0.125 0.125 0.125 0.125 0.125 0.125 0.125 0.125 0.125 0.125 0.125 0.125 0.125 0.125 0.125 0.125 0.125 0.125 0.125 0.125 0.125 0.125 0.123596 0.123596 0.123596 0.123596 0.123596 0.123596 0.123596 0.123596 0.123596 0.123596 0.123596 0.123596 0.123596 0.123596 0.123596 0.123596 0.123596 0.123596 0.122222 0.122222 0.122222 0.122222 0.122222 0.122222 0.122222 0.122222 0.122222 0.122222 0.122222 0.122222 0.122222 0.122222 0.122222 0.122222 0.122222 0.120879 0.120879 0.120879 0.120879 0.120879 0.120879 0.120879 0.120879 0.120879 0.148936 0.147368 0.139785 0.138298 0.138298 0.138298 0.136842 0.135417 0.130435 0.129032 0.129032 0.129032 0.129032 0.129032 0.129032 0.12766 0.12766 0.12766 0.12766 0.12766 0.126316 0.126316 0.126316 0.126316 0.126316 0.125 0.123711 0.123711 0.119565 0.119565 0.119565 0.119565 0.119565 0.119565 0.119565 0.119565 0.119565 0.11828 0.11828 0.11828 0.11828 0.11828 0.11828 0.11828 0.11828 0.11828 0.11828 0.11828 0.11828 0.11828 0.11828 0.11828 0.11828 0.117021 0.117021 0.117021 0.117021 0.117021 0.117021 0.117021 0.117021 0.117021 0.117021 0.117021 0.117021 0.115789 0.115789 0.115789 0.115789 0.115789 0.115789 0.115789 0.114583 0.114583 0.114583 0.114583 0.114583 0.114583 0.114583 0.114583 0.114583 0.113402 0.113402 0.113402 0.113402 0.113402 0.113402 0.113402 0.108696 0.108696 0.108696 0.108696 0.108696 0.108696 0.108696 0.108696 0.108696 0.108696 0.108696 0.108696 0.14 0.138614 0.135922 0.132653 0.131313 0.131313 0.127451 0.125 0.125 0.123711 0.123711 0.123711 0.122642 0.122449 0.121495 0.12 0.118812 0.118812 0.116505 0.116505 0.114286 0.114286 0.113402 0.113402 0.113402 0.113208 0.112245 0.112245 0.112245 0.112245 0.112245 0.112245 0.112245 0.112245 0.11215 0.111111 0.111111 0.111111 0.111111 0.111111 0.111111 0.111111 0.111111 0.111111 0.110092 0.11 0.11 0.11 0.11 0.11 0.11 0.11 0.11 0.11 0.109091 0.109091 0.109091 0.108911 0.108911 0.108911 0.108911 0.108911 0.108911 0.108108 0.108108 0.107843 0.107843 0.107843 0.107843 0.107843 0.106796 0.106796 0.106796 0.106796 0.106796 0.105769 0.105769 0.105769 0.104762 0.104762 0.103774 0.103774 0.103093 0.103093 0.103093 0.103093 0.103093 0.103093 0.103093 0.103093 0.103093 0.103093 0.103093 0.103093 0.103093 0.103093 0.103093 0.103093 0.103093 0.103093 \n",
            "\n",
            "indices: 2095355 2104387 2118767 2147776 2055923 2206974 2238603 2020057 2267746 2220291 2151279 2154228 1960823 2001825 2005314 2029722 2054064 2098358 2099815 2287637 2300031 2158918 2167292 2177721 2177855 1981772 2196213 2520566 1917947 2017068 2028496 2083981 2323778 2247926 2282000 2202772 2227479 2236897 2186351 2486485 2150430 2381725 1760981 1855263 1869531 1877846 1885219 1896166 1950185 2028110 2079765 2119578 2126999 2306247 2315934 1776753 1811788 1848411 1901590 2026760 2042826 2073036 2217999 2224835 1709996 1754639 1844734 1987029 2091827 2093706 2284846 2151301 2328000 2351661 1706744 2081563 2597490 1759061 2011063 2077727 2737847 2362721 1956654 2193430 2236145 1462218 1816978 1897084 1897296 1902180 1925148 1933929 1952948 1958058 1975060 1984389 1984524 1987018 2013793 2034453 \n",
            "3354548 3584604 3385811 3457483 3229654 3732526 3320427 3340108 2491259 3743142 3631235 3648390 3657624 3516117 2374643 2403142 2575906 2228660 4836663 1839330 4591327 3557359 4697352 3405025 3570449 3602105 3110584 3160212 3212061 3223714 3242875 3273973 3307943 3957807 3992214 3769564 3806523 3629929 3651887 2729851 2934266 3163915 3305058 3355769 3503322 3135869 3350236 3546639 3574824 3989624 4006619 3587218 3601233 3668228 4131144 2828732 3033866 3179151 3273208 3279884 3366688 3394555 3768327 4193955 4227290 3515312 4052232 3859022 5064216 3596686 3605208 3644977 3647798 3648284 4156166 3868121 3875989 3898614 3912700 3947820 3958906 1991883 2204093 2322853 2661022 2672853 2738909 2762270 2792939 3012444 3029707 3039967 3092642 3114822 3137181 3156462 3166063 3179837 3184917 3193891 \n",
            "7788441 7802401 7782377 7801971 7814975 7781694 7810594 7808590 7843401 7809945 7846914 7831446 7761434 6484473 7351329 7839524 4498898 2862865 4338988 5093113 5330069 2665443 3053942 7830965 2901753 2971061 7343026 7796214 5240653 3150957 4269653 5185997 7820720 3596558 7763100 7725698 7796468 7726591 7753631 7773714 7483244 7621636 7738376 7796323 5634249 7675769 7787293 5774762 7632020 7686575 6427189 7634212 7692514 7723174 7759886 1657741 6379050 7736250 7760888 6938835 7681597 7720071 7799338 7799616 7814678 6481180 6920816 6950153 7107304 7333006 7657685 7676458 7732898 7775566 1400612 5594644 6363869 6613416 7267834 7516270 7533604 7709970 7818223 7825162 5124248 6210009 6475394 7183416 7218286 7343105 7781483 7847590 6089541 6539482 6791103 7391558 7725914 7745458 7766653 7836635 \n",
            "1451621 1382250 1540932 1450640 1262561 1566407 1526647 1335473 1692014 1620570 1568523 1193260 1422092 1695638 1607748 1635620 1642524 1747981 1748205 1750716 1753426 1756651 1419752 1588632 1549401 1764065 1771377 1751898 1314500 1843821 1562610 1800155 1905795 1934867 1952083 1681426 2043426 2007984 2116556 2057656 2066523 2182954 2082505 1713928 2235444 2159965 2078676 1883266 829798 1740800 2476390 2478468 2598035 1395880 1462012 1474708 1477362 1181306 1196062 1288223 1332553 1351327 1359159 1362783 1368552 1380350 1401753 1403060 1417818 1418885 1419478 1427076 1444403 1446024 1503685 1528297 1533183 1564895 1580725 1597464 1455141 1456464 1460135 1474289 1479651 1486246 1486492 1487213 1487637 1488488 1498977 1499199 1727770 1500479 1501508 1512040 1513500 1515434 1519849 1523134 \n",
            "909608 827239 835944 1106301 670028 760378 1044469 1256458 971408 1660188 1386593 735164 1758848 1671117 1017181 1019690 1692876 2253771 756936 830452 834248 1060121 1518619 969495 978646 983548 991371 993929 2581823 1118431 1021830 1261547 609363 682264 709182 710432 724946 729305 740024 755611 756670 758961 781663 786129 801445 805738 806569 807739 816678 836966 837206 843575 845992 849308 857722 869084 879533 879937 882969 885608 912651 922608 923211 923499 931621 934316 936424 940713 1195753 1064897 1098145 968685 969629 976841 978251 979620 980553 983371 984343 985531 986554 988549 991986 995536 1199336 2937143 1123418 1137482 1140941 1141285 1143722 1144931 1145908 1253432 1007549 1007815 1008286 1008490 1014131 1015355 \n",
            "230088 216345 335841 216355 221125 245181 249389 258787 275508 283647 296469 332158 459973 705453 368402 373272 382018 382512 393049 499195 80159 102319 122643 125549 129103 144371 152315 160917 162756 163548 179228 189783 197367 201911 204896 207340 210713 226315 229678 230908 236088 242610 243337 246131 246545 247410 247512 248928 250397 250645 250924 254735 255364 255905 256907 257049 259373 260849 263383 264490 268276 270056 270066 270625 271384 271979 274215 275061 276638 279100 279293 281102 282094 284399 284584 285141 287445 293255 293426 294634 295633 296782 297212 297567 298392 300284 301462 302150 303991 304008 306190 306667 307532 308167 308411 308865 310691 312850 315951 317078 \n",
            "1252669 1066220 1113897 1150249 1225249 1576475 970072 1921858 2038652 1893335 1902421 1919831 1570616 1275185 1778618 1806495 1636840 1645131 1683061 2193399 1375114 1886051 1912531 1410377 741971 761714 804954 807786 1062988 1064814 1130413 1180462 1253004 1628438 1986166 2059320 2061277 1673579 1701207 1313043 1868618 1731236 1750223 1369660 1380687 1944444 1573799 1586971 2026808 1431017 1433791 1434744 1445877 1615562 1642850 1655089 1828376 1866084 625063 800738 880457 894216 920367 934990 945747 967598 968216 1036585 1039949 1066090 1071212 1086204 1088107 1100729 1105698 1120282 1124245 1132413 1137647 1147687 1149454 1150791 1173007 1176259 1180793 1181975 1192835 1193281 1194979 1199928 1200103 1216272 1219634 1221329 1224794 1228791 1230024 1237788 1244042 1245441 \n",
            "6090639 6550548 6509567 6584130 6249854 6696550 6975462 4599120 4893967 5007683 6082923 4545070 4905833 4968540 4987919 5247193 5960912 4640042 4696758 4721792 4770021 4818769 4819777 4822667 4831686 4841459 4846437 4848344 4864511 4865656 4878130 4894561 4964502 4968150 4972261 4977180 5013779 5015959 5032262 5047996 5050707 5070563 5077156 5083985 5089526 5099112 5107786 5113537 5131943 5150792 5153381 5157118 5159109 5161050 5173782 5223515 5238178 5261106 5357067 5398027 5492820 5661935 6814748 4770830 4773247 4829337 4843465 4851947 4883775 4884056 4907090 4916550 4941515 5043457 5062701 5066526 5076851 5092793 5098747 5101607 5169146 5178885 5205714 5242125 5268978 5330039 5341655 5366055 5491355 5496175 5904757 5965198 4575321 4892562 4897602 4910754 4976057 4977960 5019812 5024983 \n",
            "1064412 1212301 1165199 1324553 1337544 1279350 1221518 1244284 1244680 972283 1009627 1094325 1252175 1260777 1268224 1384210 1393825 1310814 1315547 1317017 1329501 1341171 1292801 1477389 1427999 1443623 1351931 1352887 1363146 1307186 1480921 1490375 1499799 1418128 1435011 1439307 1440123 1366052 1485951 1486511 1565048 1566093 1500616 1511639 1512826 1538358 1547424 1318251 1554073 1571537 1576178 1588176 1596407 1597752 1690975 1484789 1613338 1622281 1435168 1661370 1772693 1774156 1467924 1527674 1380085 1876256 574048 1951930 2078346 1932445 2416096 1450838 1182901 1216202 1237692 1060174 1086354 1091797 1100362 1123673 1133630 1149061 1348497 1255132 1255449 1260932 1264037 1275180 1288477 1150172 1153735 1184612 1184758 1189700 1535638 1403109 1403478 1408418 1299546 1303931 \n",
            "topk cost 2915 ms \n",
            "all cost 36230 ms \n",
            "end get topk\n"
          ]
        }
      ]
    },
    {
      "cell_type": "code",
      "source": [
        "!diff cpu_concurency_gpu_res.txt STI2/translate/res/result.txt"
      ],
      "metadata": {
        "colab": {
          "base_uri": "https://localhost:8080/"
        },
        "id": "IfLUEmuCf4qk",
        "outputId": "a86f21c8-2ccb-46bb-a9c9-1d45a06c5acd"
      },
      "execution_count": null,
      "outputs": [
        {
          "output_type": "stream",
          "name": "stdout",
          "text": [
            "1c1\n",
            "< 2915\n",
            "---\n",
            "> 2990\n"
          ]
        }
      ]
    },
    {
      "cell_type": "code",
      "source": [
        "!nvprof --print-gpu-trace topk/bin/query_doc_scoring_cpu_concurency_gpu STI2/translate/docs.txt STI2/translate/querys ./cpu_concurency_gpu_res.txt"
      ],
      "metadata": {
        "id": "0CT8_OkNpp6f"
      },
      "execution_count": null,
      "outputs": []
    },
    {
      "cell_type": "code",
      "source": [
        "!nsys profile  -o a100_report_cpu_concurrency_gpu.nsys-rep topk/bin/query_doc_scoring_cpu_concurrency_gpu STI2/translate/docs.txt STI2/translate/querys ./cpu_concurency_gpu_res.txt\n"
      ],
      "metadata": {
        "id": "EI6nnsS0mx2A"
      },
      "execution_count": null,
      "outputs": []
    },
    {
      "cell_type": "code",
      "source": [
        "!ncu --set full --call-stack --nvtx -o a100_report_cpu_concurrency_gpu topk/bin/query_doc_scoring_cpu_concurrency_gpu STI2/translate/docs.txt STI2/translate/querys ./cpu_concurency_gpu_res.txt"
      ],
      "metadata": {
        "id": "e6Kep-vEOwan"
      },
      "execution_count": null,
      "outputs": []
    },
    {
      "cell_type": "markdown",
      "source": [
        "## insert sort topk"
      ],
      "metadata": {
        "id": "HHXJ1_vE4urh"
      }
    },
    {
      "cell_type": "code",
      "source": [
        "!nvcc sum.cu -o sum"
      ],
      "metadata": {
        "id": "VIq76Vsf8WIq"
      },
      "execution_count": null,
      "outputs": []
    },
    {
      "cell_type": "code",
      "source": [
        "!./sum"
      ],
      "metadata": {
        "colab": {
          "base_uri": "https://localhost:8080/"
        },
        "id": "Lo8H1-cF8ZlE",
        "outputId": "3097e9ef-8e0d-4224-e437-47d970e774c0"
      },
      "execution_count": null,
      "outputs": [
        {
          "output_type": "stream",
          "name": "stdout",
          "text": [
            "Init input source[N]\n",
            "CPU time: 317.27\n",
            "GPU time: 11.21\n",
            "Result: Error\n",
            "GPU_result: 119571172;\n",
            "CPU_result: 450029111;\n"
          ]
        }
      ]
    },
    {
      "cell_type": "code",
      "source": [
        "!nvcc topk.cu -o topk"
      ],
      "metadata": {
        "id": "rUthosFi42yM"
      },
      "execution_count": null,
      "outputs": []
    },
    {
      "cell_type": "code",
      "source": [
        "!./topk"
      ],
      "metadata": {
        "colab": {
          "base_uri": "https://localhost:8080/"
        },
        "id": "VMkjp4CM49Ol",
        "outputId": "04d61093-af44-4772-e978-6b229ae86af0"
      },
      "execution_count": null,
      "outputs": [
        {
          "output_type": "stream",
          "name": "stdout",
          "text": [
            "Init source data...........\n",
            "Complete init source data.....\n",
            "GPU Run **************\n",
            "GPU Complete!!!\n",
            "CPU RUN***************\n",
            "CPU Complete!!!!!CPU top1: 2147483611; GPU top1: 2147483611;\n",
            "CPU top2: 2147483578; GPU top2: 2147483578;\n",
            "CPU top3: 2147483526; GPU top3: 2147483526;\n",
            "CPU top4: 2147483514; GPU top4: 2147483514;\n",
            "CPU top5: 2147483491; GPU top5: 2147483491;\n",
            "CPU top6: 2147483482; GPU top6: 2147483482;\n",
            "CPU top7: 2147483417; GPU top7: 2147483417;\n",
            "CPU top8: 2147483385; GPU top8: 2147483385;\n",
            "CPU top9: 2147483327; GPU top9: 2147483327;\n",
            "CPU top10: 2147483297; GPU top10: 2147483297;\n",
            "CPU top11: 2147483267; GPU top11: 2147483267;\n",
            "CPU top12: 2147483227; GPU top12: 2147483227;\n",
            "CPU top13: 2147483204; GPU top13: 2147483204;\n",
            "CPU top14: 2147483188; GPU top14: 2147483188;\n",
            "CPU top15: 2147483183; GPU top15: 2147483183;\n",
            "CPU top16: 2147483170; GPU top16: 2147483170;\n",
            "CPU top17: 2147483156; GPU top17: 2147483156;\n",
            "CPU top18: 2147483141; GPU top18: 2147483141;\n",
            "CPU top19: 2147483140; GPU top19: 2147483140;\n",
            "CPU top20: 2147483137; GPU top20: 2147483137;\n",
            "Result: Pass\n",
            "CPU time: 5413.41; GPU time: 154.85\n"
          ]
        }
      ]
    },
    {
      "cell_type": "markdown",
      "source": [
        "## sample test"
      ],
      "metadata": {
        "id": "851fkn3d9rXW"
      }
    },
    {
      "cell_type": "code",
      "source": [
        "!make -C topk/ build_example_readfile_cpu BUILD_TYPE=Release CXXFLAGS=\"-std=c++11\""
      ],
      "metadata": {
        "id": "ePjrEqTzlomU",
        "colab": {
          "base_uri": "https://localhost:8080/"
        },
        "outputId": "99d204d9-8375-4230-dff0-99c2edbad312"
      },
      "execution_count": null,
      "outputs": [
        {
          "output_type": "stream",
          "name": "stdout",
          "text": [
            "make: Entering directory '/content/topk'\n",
            "nvcc -o bin/example_readfile_cpu example_readfile.cpp -DFMT_HEADER_ONLY \\\n",
            "\t-I./ \\\n",
            "\t-std=c++11 \\\n",
            "\t-O3 \\\n",
            "\t-g\n",
            "make: Leaving directory '/content/topk'\n"
          ]
        }
      ]
    },
    {
      "cell_type": "code",
      "source": [
        "!topk/bin/example_readfile_cpu STI2/translate/docs.txt line"
      ],
      "metadata": {
        "colab": {
          "base_uri": "https://localhost:8080/"
        },
        "id": "UD8Z7xdVlsmf",
        "outputId": "99166fe3-9e10-49ab-d561-80b6ee4da014"
      },
      "execution_count": null,
      "outputs": [
        {
          "output_type": "stream",
          "name": "stdout",
          "text": [
            "docs_size:7853051 doc_lens_size:7853051\n",
            "read file cost 33616 ms \n"
          ]
        }
      ]
    },
    {
      "cell_type": "code",
      "source": [
        "!topk/bin/example_readfile_cpu STI2/translate/docs.txt buffer"
      ],
      "metadata": {
        "colab": {
          "base_uri": "https://localhost:8080/"
        },
        "id": "4FHQpHgaPIEA",
        "outputId": "7da51b94-0827-40a4-f18e-8b04a4a88aaf"
      },
      "execution_count": null,
      "outputs": [
        {
          "output_type": "stream",
          "name": "stdout",
          "text": [
            "readcnt: 7 fread size: 3287461913\n",
            "docs_size:7853051 doc_lens_size:7853051\n",
            "read file cost 41724 ms \n"
          ]
        }
      ]
    },
    {
      "cell_type": "code",
      "source": [
        "!cd topk && nvcc ./stream.cu -o ./bin/stream && ./bin/stream"
      ],
      "metadata": {
        "colab": {
          "base_uri": "https://localhost:8080/"
        },
        "id": "3IlsNdwuoR3G",
        "outputId": "cc6bff56-e8fa-44c8-b385-d8e3b6b3bce8"
      },
      "execution_count": null,
      "outputs": [
        {
          "output_type": "stream",
          "name": "stdout",
          "text": [
            "Number of device(s): 1\n",
            "Device 0\n",
            "    Name:                    Tesla T4\n",
            "    Glocbal memory:          15101.8 MB\n",
            "    Shared memory per block: 48 KB\n",
            "    Warp size:               32\n",
            "    Max thread per block:    1024\n",
            "    Thread dimension limits: 1024 x 1024 x 64\n",
            "    Max grid size:           2147483647 x 65535 x 65535\n",
            "    Compute capability:      7.5\n",
            " \n",
            "Generating 7680 x 4320 BRGA8888 image, data size: 132710400\n",
            " \n",
            "Computing results using CPU.\n",
            " \n",
            "    Whole process took 497.971ms.\n",
            " \n",
            "Computing results using GPU, default stream.\n",
            " \n",
            "    Move data to GPU.\n",
            "        Data transfer took 12.0095ms.\n",
            "        Performance is 11.0504GB/s.\n",
            "    Convert 8-bit BGRA to 8-bit YUV.\n",
            "        Processing of 8K image took 1.70637ms.\n",
            "        Performance is 77.7736GB/s.\n",
            "    Move data to CPU.\n",
            "        Data transfer took 8.13226ms.\n",
            "        Performance is 12.2393GB/s.\n",
            "    Whole process took 21.8481ms.\n",
            "    Compare CPU and GPU results ...\n",
            "        Results are the same.\n",
            " \n",
            "Computing results using GPU, using 16 streams.\n",
            " \n",
            "    Creating 16 CUDA streams.\n",
            "        Launching stream 0.\n",
            "        Launching stream 1.\n",
            "        Launching stream 2.\n",
            "        Launching stream 3.\n",
            "        Launching stream 4.\n",
            "        Launching stream 5.\n",
            "        Launching stream 6.\n",
            "        Launching stream 7.\n",
            "        Launching stream 8.\n",
            "        Launching stream 9.\n",
            "        Launching stream 10.\n",
            "        Launching stream 11.\n",
            "        Launching stream 12.\n",
            "        Launching stream 13.\n",
            "        Launching stream 14.\n",
            "        Launching stream 15.\n",
            "    Whole process took 14.1979ms.\n",
            "    Compare CPU and GPU results ...\n",
            "        Results are the same.\n"
          ]
        }
      ]
    },
    {
      "cell_type": "code",
      "source": [
        "!make -C topk/ build_cpu_gpu_doc_stream BUILD_TYPE=Release NVCCFLAGS=\"-std=c++11\""
      ],
      "metadata": {
        "colab": {
          "base_uri": "https://localhost:8080/"
        },
        "id": "qQE4ctsTkkVX",
        "outputId": "67a0f083-39b0-407b-b87f-b393f76ac919"
      },
      "execution_count": null,
      "outputs": [
        {
          "output_type": "stream",
          "name": "stdout",
          "text": [
            "make: Entering directory '/content/topk'\n",
            "mkdir -p bin\n",
            "nvcc ./main.cpp ./topk_doc_stream.cu -o ./bin/query_doc_scoring_cpu_gpu_doc_stream  \\\n",
            "\t-I./ \\\n",
            "\t-L/usr/local/cuda/lib64 -lcudart -lcuda \\\n",
            "\t-std=c++11 \\\n",
            "\t-O3 \\\n",
            "\t-DGPU \\\n",
            "\t-g\n",
            "make: Leaving directory '/content/topk'\n"
          ]
        }
      ]
    },
    {
      "cell_type": "code",
      "source": [
        "!topk/bin/query_doc_scoring_cpu_gpu_doc_stream STI2/translate/docs.txt STI2/translate/querys ./res_gpu_doc_stream.txt"
      ],
      "metadata": {
        "id": "YTE89nEAs6-l"
      },
      "execution_count": null,
      "outputs": []
    },
    {
      "cell_type": "code",
      "source": [
        "!diff ./res_gpu_doc_stream.txt STI2/translate/res/result.txt"
      ],
      "metadata": {
        "id": "bYfm9fKrxoMp"
      },
      "execution_count": null,
      "outputs": []
    },
    {
      "cell_type": "markdown",
      "source": [
        "# rapidsai - cudf\n",
        "use chunk multibyte_split, strings split, gpu accelerate.\n",
        "\n",
        "1. https://github.com/rapidsai/cudf/blob/branch-23.12/CONTRIBUTING.md#build-cudf-from-source"
      ],
      "metadata": {
        "id": "Rz7nEJ9gQOJe"
      }
    },
    {
      "cell_type": "code",
      "source": [
        "!pip install \\\n",
        "    --extra-index-url=https://pypi.nvidia.com \\\n",
        "    cudf-cu11"
      ],
      "metadata": {
        "id": "wMpPxxN6smzo"
      },
      "execution_count": null,
      "outputs": []
    },
    {
      "cell_type": "code",
      "source": [
        "!git clone https://github.com/rapidsai/cudf.git"
      ],
      "metadata": {
        "id": "7X9cznQ3Qc0J",
        "colab": {
          "base_uri": "https://localhost:8080/"
        },
        "outputId": "9698aec4-0c96-4918-c903-cc716c08d738"
      },
      "execution_count": null,
      "outputs": [
        {
          "output_type": "stream",
          "name": "stdout",
          "text": [
            "Cloning into 'cudf'...\n",
            "remote: Enumerating objects: 352286, done.\u001b[K\n",
            "remote: Counting objects: 100% (591/591), done.\u001b[K\n",
            "remote: Compressing objects: 100% (367/367), done.\u001b[K\n",
            "remote: Total 352286 (delta 295), reused 421 (delta 222), pack-reused 351695\u001b[K\n",
            "Receiving objects: 100% (352286/352286), 131.07 MiB | 16.46 MiB/s, done.\n",
            "Resolving deltas: 100% (260900/260900), done.\n"
          ]
        }
      ]
    },
    {
      "cell_type": "code",
      "source": [
        "!cd cudf && ./build.sh --help"
      ],
      "metadata": {
        "id": "0Tc0kj3HQlQf"
      },
      "execution_count": null,
      "outputs": []
    },
    {
      "cell_type": "code",
      "source": [
        "!cd cudf && ./build.sh libcudf"
      ],
      "metadata": {
        "id": "L3GF81KNRUKA"
      },
      "execution_count": null,
      "outputs": []
    },
    {
      "cell_type": "code",
      "source": [
        "!ls /include/\n",
        "!ls /lib\n"
      ],
      "metadata": {
        "id": "vJhaRR8yQXxo"
      },
      "execution_count": null,
      "outputs": []
    },
    {
      "cell_type": "code",
      "source": [
        "!git clone https://github.com/gabime/spdlog.git"
      ],
      "metadata": {
        "id": "bS7kQ3XVarQl",
        "colab": {
          "base_uri": "https://localhost:8080/"
        },
        "outputId": "6cbf1d8c-d2a7-4b0b-9e30-b269790a3ec0"
      },
      "execution_count": null,
      "outputs": [
        {
          "output_type": "stream",
          "name": "stdout",
          "text": [
            "Cloning into 'spdlog'...\n",
            "remote: Enumerating objects: 27412, done.\u001b[K\n",
            "remote: Counting objects: 100% (3852/3852), done.\u001b[K\n",
            "remote: Compressing objects: 100% (377/377), done.\u001b[K\n",
            "remote: Total 27412 (delta 3633), reused 3518 (delta 3462), pack-reused 23560\u001b[K\n",
            "Receiving objects: 100% (27412/27412), 40.91 MiB | 12.04 MiB/s, done.\n",
            "Resolving deltas: 100% (18468/18468), done.\n"
          ]
        }
      ]
    },
    {
      "cell_type": "code",
      "source": [
        "!cd spdlog && cmake -B build -S . && make -C build -j"
      ],
      "metadata": {
        "id": "W5I0wTQ3bGIr"
      },
      "execution_count": null,
      "outputs": []
    },
    {
      "cell_type": "code",
      "source": [
        "!cp -r ./spdlog/include/spdlog/fmt/bundled /include/spdlog/fmt/"
      ],
      "metadata": {
        "id": "CEILx6hpcJMR"
      },
      "execution_count": null,
      "outputs": []
    },
    {
      "cell_type": "code",
      "source": [
        "!ls /lib/libarrow*"
      ],
      "metadata": {
        "colab": {
          "base_uri": "https://localhost:8080/"
        },
        "id": "_yziL43SoOaT",
        "outputId": "3d59f54f-44e6-4001-deae-d910b214c682"
      },
      "execution_count": null,
      "outputs": [
        {
          "output_type": "stream",
          "name": "stdout",
          "text": [
            "/lib/libarrow_acero.so\t\t /lib/libarrow_dataset.so\t    /lib/libarrow.so\n",
            "/lib/libarrow_acero.so.1400\t /lib/libarrow_dataset.so.1400\t    /lib/libarrow.so.1400\n",
            "/lib/libarrow_acero.so.1400.1.0  /lib/libarrow_dataset.so.1400.1.0  /lib/libarrow.so.1400.1.0\n"
          ]
        }
      ]
    },
    {
      "cell_type": "code",
      "source": [
        "!tar -zcvf libcudf.tar.gz /include /lib/libcudf.so /lib/libarrow*"
      ],
      "metadata": {
        "id": "wI8r4k0ORo6j"
      },
      "execution_count": null,
      "outputs": []
    },
    {
      "cell_type": "code",
      "source": [
        "!tar -zxvf libcudf.tar.gz"
      ],
      "metadata": {
        "id": "0bBMiuYOx9Sc"
      },
      "execution_count": null,
      "outputs": []
    },
    {
      "cell_type": "code",
      "source": [
        "!cd topk && nvcc example_readfile.cpp readfile.cu -o readfile -O3 --std=c++17 \\\n",
        "  -I./ -I/include -L/lib -lcudf -L/usr/local/cuda/lib64 -lcudart -lcuda -DGPU -DFMT_HEADER_ONLY --expt-relaxed-constexpr"
      ],
      "metadata": {
        "id": "PuaVsv8IXBWx"
      },
      "execution_count": null,
      "outputs": []
    },
    {
      "cell_type": "code",
      "source": [
        "!cat topk/data.txt"
      ],
      "metadata": {
        "colab": {
          "base_uri": "https://localhost:8080/"
        },
        "id": "vxhLZSgVL_iG",
        "outputId": "00992d5c-3b2a-4e6d-9d71-366274d82e80"
      },
      "execution_count": null,
      "outputs": [
        {
          "output_type": "stream",
          "name": "stdout",
          "text": [
            "0, 1, 3\n",
            "1, 2, 3, 4\n",
            "4, 5, 6, 5\n",
            "7, 2"
          ]
        }
      ]
    },
    {
      "cell_type": "code",
      "source": [
        "!topk/readfile topk/data.txt chunk"
      ],
      "metadata": {
        "colab": {
          "base_uri": "https://localhost:8080/"
        },
        "id": "CYp0DceMYdEA",
        "outputId": "90bb195e-229f-4d20-b310-7724b009ebc0"
      },
      "execution_count": null,
      "outputs": [
        {
          "output_type": "stream",
          "name": "stdout",
          "text": [
            "file size: 34\n",
            "chunk size: 268435456\n",
            " fread size: 34\n",
            " buffer: 0, 1, 3\n",
            "1, 2, 3, 4\n",
            "4, 5, 6, 5\n",
            "7, 2\n",
            "\n",
            "tid:0 docid:0 s:0 e:3 sub_view_size:3\n",
            "\n",
            "tid:1 docid:1 s:3 e:7 sub_view_size:4\n",
            "\n",
            "tid:2 docid:2 s:7 e:11 sub_view_size:4\n",
            "\n",
            "tid:3 docid:3 s:11 e:13 sub_view_size:2\n",
            "0,1,4,7,1,2,5,2,3,3,6,4,5,readcnt: 1\n",
            "doccnt: 4\n",
            "docs_size:0 doc_lens_size:0\n",
            "read file cost 1183 ms \n"
          ]
        }
      ]
    },
    {
      "cell_type": "code",
      "source": [
        "!topk/readfile STI2/translate/docs.txt line"
      ],
      "metadata": {
        "colab": {
          "base_uri": "https://localhost:8080/"
        },
        "id": "-SSgdZtXfugf",
        "outputId": "fe6a9c2f-e193-49a0-8fcf-e5b6bd494a4b"
      },
      "execution_count": null,
      "outputs": [
        {
          "output_type": "stream",
          "name": "stdout",
          "text": [
            "docs_size:7853051 doc_lens_size:7853051\n",
            "read file cost 34274 ms \n"
          ]
        }
      ]
    },
    {
      "cell_type": "code",
      "source": [
        "!topk/readfile STI2/translate/docs.txt buffer"
      ],
      "metadata": {
        "colab": {
          "base_uri": "https://localhost:8080/"
        },
        "id": "TiPh7OuqhQlu",
        "outputId": "50fc0b12-edb7-45fa-bd9f-f9a059f0ef59"
      },
      "execution_count": null,
      "outputs": [
        {
          "output_type": "stream",
          "name": "stdout",
          "text": [
            "readcnt: 7 fread size: 3287461913\n",
            "docs_size:7853051 doc_lens_size:7853051\n",
            "read file cost 42369 ms \n"
          ]
        }
      ]
    },
    {
      "cell_type": "code",
      "source": [
        "!make -C topk/ build_example_readfile_gpu BUILD_TYPE=Release NVCCFLAGS=\"-std=c++17 --expt-relaxed-constexpr\""
      ],
      "metadata": {
        "colab": {
          "base_uri": "https://localhost:8080/"
        },
        "id": "a6w9ATdDOzMH",
        "outputId": "0bcbe9c8-ed41-4301-98de-4ddbb70c45cd"
      },
      "execution_count": 228,
      "outputs": [
        {
          "output_type": "stream",
          "name": "stdout",
          "text": [
            "make: Entering directory '/content/topk'\n",
            "nvcc -o bin/example_readfile_gpu example_readfile.cpp readfile.cu -DGPU -DFMT_HEADER_ONLY \\\n",
            "\t-I./ \\\n",
            "\t-std=c++17 --expt-relaxed-constexpr \\\n",
            "\t-L/usr/local/cuda/lib64 -lcudart -lcuda \\\n",
            "\t-L/lib -lcudf -I/include  \\\n",
            "\t-O3 \\\n",
            "\t-g\n",
            "make: Leaving directory '/content/topk'\n"
          ]
        }
      ]
    },
    {
      "cell_type": "code",
      "source": [
        "!topk/bin/example_readfile_gpu STI2/translate/docs.txt chunk"
      ],
      "metadata": {
        "colab": {
          "base_uri": "https://localhost:8080/"
        },
        "id": "Cuag9m_wRXGj",
        "outputId": "9a3e5ab3-81d5-4834-fed6-459042cedf42"
      },
      "execution_count": 229,
      "outputs": [
        {
          "output_type": "stream",
          "name": "stdout",
          "text": [
            "chunk size: 268435456\n",
            " fread size: 268435456\n",
            " fread size: 268435456\n",
            " fread size: 268435456\n",
            " fread size: 268435456\n",
            " fread size: 268435456\n",
            " fread size: 268435456\n",
            " fread size: 268435456\n",
            " fread size: 268435456\n",
            " fread size: 268435456\n",
            " fread size: 268435456\n",
            " fread size: 268435456\n",
            " fread size: 268435456\n",
            " fread size: 66239130\n",
            "readcnt: 13\n",
            "doccnt: 7853052\n",
            "docs_size:7853052 doc_lens_size:7853052\n",
            "read file cost 9271 ms \n"
          ]
        }
      ]
    },
    {
      "cell_type": "code",
      "source": [
        "!make -C topk/ build_cpu_gpu_readfile BUILD_TYPE=Release NVCCFLAGS=\"-std=c++17 --expt-relaxed-constexpr\""
      ],
      "metadata": {
        "colab": {
          "base_uri": "https://localhost:8080/"
        },
        "id": "8e6bV94IsSg4",
        "outputId": "d5dd14c1-0b39-4ab8-8574-245e0795e9b4"
      },
      "execution_count": 225,
      "outputs": [
        {
          "output_type": "stream",
          "name": "stdout",
          "text": [
            "make: Entering directory '/content/topk'\n",
            "mkdir -p bin\n",
            "nvcc ./main.cpp ./readfile.cu ./topk.cu -o ./bin/query_doc_scoring_cpu_gpu_readfile \\\n",
            "\t-I./ \\\n",
            "\t-std=c++17 --expt-relaxed-constexpr \\\n",
            "\t-L/usr/local/cuda/lib64 -lcudart -lcuda \\\n",
            "\t-L/lib -lcudf -I/include  \\\n",
            "\t-O3 \\\n",
            "\t-DGPU -DFMT_HEADER_ONLY -DPIO \\\n",
            "\t-g\n",
            "make: Leaving directory '/content/topk'\n"
          ]
        }
      ]
    },
    {
      "cell_type": "code",
      "source": [
        "!topk/bin/query_doc_scoring_cpu_gpu_readfile STI2/translate/docs.txt STI2/translate/querys ./res_cpu_gpu_readfile.txt"
      ],
      "metadata": {
        "colab": {
          "base_uri": "https://localhost:8080/"
        },
        "id": "MraeumBRZr6W",
        "outputId": "219415d8-f9cd-44f9-8653-fc013f7d1e23"
      },
      "execution_count": 226,
      "outputs": [
        {
          "output_type": "stream",
          "name": "stdout",
          "text": [
            "start get topk\n",
            "query1.txt:10, 11, 16, 17, 42, 60, 22524, 22546, 22590, 22784, 23212, 23427, 23485, 23525, 23554, 24129, 24133, 24645, 24804, 24875, 25129, 25242, 25502, 25705, 25994, 26000, 26045, 26046, 26077, 26114, 26247, 26338, 26407, 27263, 27468, 27513, 28100, 40111, 40228, 40388, 41700, 45156, 45946, 46367, 47181, 47460, 47672\n",
            "query2.txt:10, 16, 18, 21, 22, 23, 30, 42, 43, 44, 45, 54, 22497, 22512, 22524, 22533, 22535, 22608, 22624, 22790, 22828, 22836, 22885, 23188, 23381, 23409, 23558, 24103, 24197, 24250, 24496, 24918, 24974, 24987, 25179, 25317, 25827, 25994, 25996, 26009, 26015, 26023, 26030, 26050, 26052, 26082, 26096, 26205, 26247, 27399, 27475, 40029, 40300, 40416, 40504, 40696, 40837, 41166, 41172, 41336, 41407, 41516, 43247, 43309, 44547, 44795, 45101, 48828\n",
            "query3.txt:11, 12, 13, 14, 21, 22, 23, 33, 42, 53, 61, 1380, 1545, 1546, 1557, 1560, 1566, 1569, 1583, 1646, 1759, 1762, 1787, 1794, 1877, 1882, 1892, 2069, 2120, 2146, 2368, 2670, 2888, 3022, 3327, 3335, 22460, 22461, 22462, 22497, 22507, 22512, 22797, 22828, 22885, 23010, 23112, 23337, 23351, 23358, 23441, 23930, 24093, 24301, 24320, 24416, 24771, 25378, 25476, 25846, 25882, 25994, 26692, 26992, 30070, 30085, 30111, 30116, 30188, 30195, 30294, 30332, 30476, 30488, 30656, 30731, 30920, 31021, 31024, 31382, 31493, 31510, 31562, 32167, 32657, 33375, 34247, 35336, 36536, 37502, 37643, 38316, 40228, 40510, 40620, 40785, 40793, 41176, 42143, 42766, 43047, 43895, 45069, 46492, 47956, 48995, 49443\n",
            "query4.txt:11, 18, 30, 32, 60, 1557, 1622, 2279, 22469, 22470, 22497, 22590, 22652, 22921, 22940, 23264, 23441, 24138, 26009, 26038, 26046, 26901, 27654, 30040, 30651, 31928, 32002, 32497, 40074, 40411, 40446, 41107, 46175, 46608\n",
            "query5.txt:11, 18, 35, 50, 54, 60, 22533, 22608, 22624, 22686, 22777, 22782, 23140, 23215, 24212, 25188, 26030, 26054, 26259, 26323, 28175, 40366, 40908, 42041\n",
            "query6.txt:21, 1557, 1559, 1561, 1565, 1568, 2118, 22590, 30489\n",
            "query7.txt:16, 17, 42, 22497, 22524, 22652, 22686, 22735, 22736, 22777, 23489, 23535, 25994, 26013, 26069, 26077, 26114, 26251, 26297, 26628, 26633, 26705, 27123, 27320, 40111, 41533, 42195, 42733, 42837, 46956, 49373\n",
            "query8.txt:16, 18, 21, 22, 30, 35, 42, 1600, 1614, 1707, 1875, 2088, 22459, 22463, 22464, 22466, 22474, 22497, 22502, 22507, 22512, 22529, 22533, 22535, 22590, 22608, 22652, 22684, 22686, 22777, 22795, 22803, 22824, 22828, 22867, 22971, 22972, 23066, 23116, 23150, 23188, 23199, 23289, 23312, 23692, 23760, 23927, 24089, 24136, 24301, 25166, 25359, 25502, 25582, 25994, 26015, 26043, 26086, 26114, 26236, 26251, 26515, 27125, 27276, 28235, 28283, 28297, 32541, 33756, 40210, 40320, 40945, 41092, 41096, 41123, 41245, 41665, 41762, 42525, 42820, 43852, 45045, 45264, 47110, 47491, 47632, 47763, 48145, 49837\n",
            "query9.txt:18, 30, 1388, 1557, 1622, 2279, 22469, 22470, 22535, 22777, 24309, 26007, 26046, 26217, 26530, 27824, 30040, 30651, 31928, 32002, 32497, 40074, 41796, 43144, 44293, 46955, 47628, 48045\n",
            "query_size: 9\n",
            "chunk size: 268435456\n",
            " fread size: 268435456\n",
            " fread size: 268435456\n",
            " fread size: 268435456\n",
            " fread size: 268435456\n",
            " fread size: 268435456\n",
            " fread size: 268435456\n",
            " fread size: 268435456\n",
            " fread size: 268435456\n",
            " fread size: 268435456\n",
            " fread size: 268435456\n",
            " fread size: 268435456\n",
            " fread size: 268435456\n",
            " fread size: 66239130\n",
            "readcnt: 13\n",
            "doccnt: 7853052\n",
            "read file cost 9196 ms \n",
            "cudaMalloc docs cost 2 ms \n",
            "align group docs cost 1579 ms \n",
            "cudaMemcpy H2D docs cost 434 ms \n",
            "cudaMemcpy H2D doc_lens cost 6 ms \n",
            "cudaMemcpy H2D query cost 0 ms \n",
            "GPU memory usage: used = 2803.00 MB, free = 37710.56 MB, total = 40513.56 MB\n",
            "docQueryScoringCoalescedMemoryAccessSampleKernel cost 9 ms \n",
            "heap partial_sort cost 13 ms \n",
            "cudaMemcpy H2D query cost 0 ms \n",
            "GPU memory usage: used = 2803.00 MB, free = 37710.56 MB, total = 40513.56 MB\n",
            "docQueryScoringCoalescedMemoryAccessSampleKernel cost 10 ms \n",
            "heap partial_sort cost 13 ms \n",
            "cudaMemcpy H2D query cost 0 ms \n",
            "GPU memory usage: used = 2803.00 MB, free = 37710.56 MB, total = 40513.56 MB\n",
            "docQueryScoringCoalescedMemoryAccessSampleKernel cost 12 ms \n",
            "heap partial_sort cost 12 ms \n",
            "cudaMemcpy H2D query cost 0 ms \n",
            "GPU memory usage: used = 2803.00 MB, free = 37710.56 MB, total = 40513.56 MB\n",
            "docQueryScoringCoalescedMemoryAccessSampleKernel cost 9 ms \n",
            "heap partial_sort cost 13 ms \n",
            "cudaMemcpy H2D query cost 0 ms \n",
            "GPU memory usage: used = 2803.00 MB, free = 37710.56 MB, total = 40513.56 MB\n",
            "docQueryScoringCoalescedMemoryAccessSampleKernel cost 9 ms \n",
            "heap partial_sort cost 12 ms \n",
            "cudaMemcpy H2D query cost 0 ms \n",
            "GPU memory usage: used = 2803.00 MB, free = 37710.56 MB, total = 40513.56 MB\n",
            "docQueryScoringCoalescedMemoryAccessSampleKernel cost 8 ms \n",
            "heap partial_sort cost 12 ms \n",
            "cudaMemcpy H2D query cost 0 ms \n",
            "GPU memory usage: used = 2803.00 MB, free = 37710.56 MB, total = 40513.56 MB\n",
            "docQueryScoringCoalescedMemoryAccessSampleKernel cost 9 ms \n",
            "heap partial_sort cost 12 ms \n",
            "cudaMemcpy H2D query cost 0 ms \n",
            "GPU memory usage: used = 2803.00 MB, free = 37710.56 MB, total = 40513.56 MB\n",
            "docQueryScoringCoalescedMemoryAccessSampleKernel cost 10 ms \n",
            "heap partial_sort cost 12 ms \n",
            "cudaMemcpy H2D query cost 0 ms \n",
            "GPU memory usage: used = 2803.00 MB, free = 37710.56 MB, total = 40513.56 MB\n",
            "docQueryScoringCoalescedMemoryAccessSampleKernel cost 8 ms \n",
            "heap partial_sort cost 12 ms \n",
            "indices: 2095355 2104387 2118767 2147776 2055923 2206974 2238603 2020057 2267746 2220291 2151279 2154228 1960823 2001825 2005314 2029722 2054064 2098358 2099815 2287637 2300031 2158918 2167292 2177721 2177855 1981772 2196213 2520566 1917947 2017068 2028496 2083981 2323778 2247926 2282000 2202772 2227479 2236897 2186351 2486485 2150430 2381725 1760981 1855263 1869531 1877846 1885219 1896166 1950185 2028110 2079765 2119578 2126999 2306247 2315934 1776753 1811788 1848411 1901590 2026760 2042826 2073036 2217999 2224835 1709996 1754639 1844734 1987029 2091827 2093706 2284846 2151301 2328000 2351661 1706744 2081563 2597490 1759061 2011063 2077727 2737847 2362721 1956654 2193430 2236145 1462218 1816978 1897084 1897296 1902180 1925148 1933929 1952948 1958058 1975060 1984389 1984524 1987018 2013793 2034453 \n",
            "3354548 3584604 3385811 3457483 3229654 3732526 3320427 3340108 2491259 3743142 3631235 3648390 3657624 3516117 2374643 2403142 2575906 2228660 4836663 1839330 4591327 3557359 4697352 3405025 3570449 3602105 3110584 3160212 3212061 3223714 3242875 3273973 3307943 3957807 3992214 3769564 3806523 3629929 3651887 2729851 2934266 3163915 3305058 3355769 3503322 3135869 3350236 3546639 3574824 3989624 4006619 3587218 3601233 3668228 4131144 2828732 3033866 3179151 3273208 3279884 3366688 3394555 3768327 4193955 4227290 3515312 4052232 3859022 5064216 3596686 3605208 3644977 3647798 3648284 4156166 3868121 3875989 3898614 3912700 3947820 3958906 1991883 2204093 2322853 2661022 2672853 2738909 2762270 2792939 3012444 3029707 3039967 3092642 3114822 3137181 3156462 3166063 3179837 3184917 3193891 \n",
            "7788441 7802401 7782377 7801971 7814975 7781694 7810594 7808590 7843401 7809945 7846914 7831446 7761434 6484473 7351329 7839524 4498898 2862865 4338988 5093113 5330069 2665443 3053942 7830965 2901753 2971061 7343026 7796214 5240653 3150957 4269653 5185997 7820720 3596558 7763100 7725698 7796468 7726591 7753631 7773714 7483244 7621636 7738376 7796323 5634249 7675769 7787293 5774762 7632020 7686575 6427189 7634212 7692514 7723174 7759886 1657741 6379050 7736250 7760888 6938835 7681597 7720071 7799338 7799616 7814678 6481180 6920816 6950153 7107304 7333006 7657685 7676458 7732898 7775566 1400612 5594644 6363869 6613416 7267834 7516270 7533604 7709970 7818223 7825162 5124248 6210009 6475394 7183416 7218286 7343105 7781483 7847590 6089541 6539482 6791103 7391558 7725914 7745458 7766653 7836635 \n",
            "1451621 1382250 1540932 1450640 1262561 1566407 1526647 1335473 1692014 1620570 1568523 1193260 1422092 1695638 1607748 1635620 1642524 1747981 1748205 1750716 1753426 1756651 1419752 1588632 1549401 1764065 1771377 1751898 1314500 1843821 1562610 1800155 1905795 1934867 1952083 1681426 2043426 2007984 2116556 2057656 2066523 2182954 2082505 1713928 2235444 2159965 2078676 1883266 829798 1740800 2476390 2478468 2598035 1395880 1462012 1474708 1477362 1181306 1196062 1288223 1332553 1351327 1359159 1362783 1368552 1380350 1401753 1403060 1417818 1418885 1419478 1427076 1444403 1446024 1503685 1528297 1533183 1564895 1580725 1597464 1455141 1456464 1460135 1474289 1479651 1486246 1486492 1487213 1487637 1488488 1498977 1499199 1727770 1500479 1501508 1512040 1513500 1515434 1519849 1523134 \n",
            "909608 827239 835944 1106301 670028 760378 1044469 1256458 971408 1660188 1386593 735164 1758848 1671117 1017181 1019690 1692876 2253771 756936 830452 834248 1060121 1518619 969495 978646 983548 991371 993929 2581823 1118431 1021830 1261547 609363 682264 709182 710432 724946 729305 740024 755611 756670 758961 781663 786129 801445 805738 806569 807739 816678 836966 837206 843575 845992 849308 857722 869084 879533 879937 882969 885608 912651 922608 923211 923499 931621 934316 936424 940713 1195753 1064897 1098145 968685 969629 976841 978251 979620 980553 983371 984343 985531 986554 988549 991986 995536 1199336 2937143 1123418 1137482 1140941 1141285 1143722 1144931 1145908 1253432 1007549 1007815 1008286 1008490 1014131 1015355 \n",
            "230088 216345 335841 216355 221125 245181 249389 258787 275508 283647 296469 332158 459973 705453 368402 373272 382018 382512 393049 499195 80159 102319 122643 125549 129103 144371 152315 160917 162756 163548 179228 189783 197367 201911 204896 207340 210713 226315 229678 230908 236088 242610 243337 246131 246545 247410 247512 248928 250397 250645 250924 254735 255364 255905 256907 257049 259373 260849 263383 264490 268276 270056 270066 270625 271384 271979 274215 275061 276638 279100 279293 281102 282094 284399 284584 285141 287445 293255 293426 294634 295633 296782 297212 297567 298392 300284 301462 302150 303991 304008 306190 306667 307532 308167 308411 308865 310691 312850 315951 317078 \n",
            "1252669 1066220 1113897 1150249 1225249 1576475 970072 1921858 2038652 1893335 1902421 1919831 1570616 1275185 1778618 1806495 1636840 1645131 1683061 2193399 1375114 1886051 1912531 1410377 741971 761714 804954 807786 1062988 1064814 1130413 1180462 1253004 1628438 1986166 2059320 2061277 1673579 1701207 1313043 1868618 1731236 1750223 1369660 1380687 1944444 1573799 1586971 2026808 1431017 1433791 1434744 1445877 1615562 1642850 1655089 1828376 1866084 625063 800738 880457 894216 920367 934990 945747 967598 968216 1036585 1039949 1066090 1071212 1086204 1088107 1100729 1105698 1120282 1124245 1132413 1137647 1147687 1149454 1150791 1173007 1176259 1180793 1181975 1192835 1193281 1194979 1199928 1200103 1216272 1219634 1221329 1224794 1228791 1230024 1237788 1244042 1245441 \n",
            "6090639 6550548 6509567 6584130 6249854 6696550 6975462 4599120 4893967 5007683 6082923 4545070 4905833 4968540 4987919 5247193 5960912 4640042 4696758 4721792 4770021 4818769 4819777 4822667 4831686 4841459 4846437 4848344 4864511 4865656 4878130 4894561 4964502 4968150 4972261 4977180 5013779 5015959 5032262 5047996 5050707 5070563 5077156 5083985 5089526 5099112 5107786 5113537 5131943 5150792 5153381 5157118 5159109 5161050 5173782 5223515 5238178 5261106 5357067 5398027 5492820 5661935 6814748 4770830 4773247 4829337 4843465 4851947 4883775 4884056 4907090 4916550 4941515 5043457 5062701 5066526 5076851 5092793 5098747 5101607 5169146 5178885 5205714 5242125 5268978 5330039 5341655 5366055 5491355 5496175 5904757 5965198 4575321 4892562 4897602 4910754 4976057 4977960 5019812 5024983 \n",
            "1064412 1212301 1165199 1324553 1337544 1279350 1221518 1244284 1244680 972283 1009627 1094325 1252175 1260777 1268224 1384210 1393825 1310814 1315547 1317017 1329501 1341171 1292801 1477389 1427999 1443623 1351931 1352887 1363146 1307186 1480921 1490375 1499799 1418128 1435011 1439307 1440123 1366052 1485951 1486511 1565048 1566093 1500616 1511639 1512826 1538358 1547424 1318251 1554073 1571537 1576178 1588176 1596407 1597752 1690975 1484789 1613338 1622281 1435168 1661370 1772693 1774156 1467924 1527674 1380085 1876256 574048 1951930 2078346 1932445 2416096 1450838 1182901 1216202 1237692 1060174 1086354 1091797 1100362 1123673 1133630 1149061 1348497 1255132 1255449 1260932 1264037 1275180 1288477 1150172 1153735 1184612 1184758 1189700 1535638 1403109 1403478 1408418 1299546 1303931 \n",
            "topk cost 2393 ms \n",
            "all cost 11589 ms \n",
            "end get topk\n"
          ]
        }
      ]
    },
    {
      "cell_type": "code",
      "source": [
        "!diff res_cpu_gpu_readfile.txt STI2/translate/res/result.txt"
      ],
      "metadata": {
        "colab": {
          "base_uri": "https://localhost:8080/"
        },
        "id": "3YOWnP4qak51",
        "outputId": "15f00409-d028-4ca0-cb9f-913aa5b90920"
      },
      "execution_count": 227,
      "outputs": [
        {
          "output_type": "stream",
          "name": "stdout",
          "text": [
            "1c1\n",
            "< 2393\n",
            "---\n",
            "> 2990\n"
          ]
        }
      ]
    },
    {
      "cell_type": "code",
      "source": [
        "!nsys profile  -o a100_report_cpu_gpu_readfile.nsys-rep \\\n",
        "  topk/bin/query_doc_scoring_cpu_gpu_readfile STI2/translate/docs.txt STI2/translate/querys ./res_cpu_gpu_readfile.txt\n"
      ],
      "metadata": {
        "id": "HJqEknamkGz9"
      },
      "execution_count": null,
      "outputs": []
    },
    {
      "cell_type": "code",
      "source": [
        "!ncu --set full --call-stack --nvtx -o a100_report_cpu_gpu_readfile \\\n",
        "  topk/bin/query_doc_scoring_cpu_gpu_readfile STI2/translate/docs.txt STI2/translate/querys ./res_cpu_gpu_readfile.txt"
      ],
      "metadata": {
        "id": "VpAc8umFk31e"
      },
      "execution_count": null,
      "outputs": []
    },
    {
      "cell_type": "markdown",
      "source": [
        "### gpu_readfile -> vec docs -> gpu_cpu_topk\n",
        "\n",
        "1. read file cost from 34274 ms(line/per) to 9196 ms(gpu chunk multi_split), cost reduce (34274-9196)/34274 = **73.17%**\n",
        "2. total cost reduce (35551 - 11589)/35551 = **67.40%**\n",
        "\n",
        "---\n",
        "\n"
      ],
      "metadata": {
        "id": "ESV8BMuMbR7H"
      }
    },
    {
      "cell_type": "code",
      "source": [
        "!make -C topk/ build_gpu_cudf_strings BUILD_TYPE=Release NVCCFLAGS=\"-std=c++17 --expt-relaxed-constexpr\""
      ],
      "metadata": {
        "colab": {
          "base_uri": "https://localhost:8080/"
        },
        "id": "qyeEKbhxsk0p",
        "outputId": "ff41d31a-2653-403a-ed9d-fb6aaf92fa26"
      },
      "execution_count": 238,
      "outputs": [
        {
          "output_type": "stream",
          "name": "stdout",
          "text": [
            "make: Entering directory '/content/topk'\n",
            "mkdir -p bin\n",
            "nvcc ./main.cpp ./readfile.cu ./topk_doc_cudf_strings.cu -o ./bin/query_doc_scoring_gpu_cudf_strings \\\n",
            "\t-I./ \\\n",
            "\t-std=c++17 --expt-relaxed-constexpr \\\n",
            "\t-L/usr/local/cuda/lib64 -lcudart -lcuda \\\n",
            "\t-L/lib -lcudf -I/include  \\\n",
            "\t-O3 \\\n",
            "\t-DFMT_HEADER_ONLY -DGPU -DPIO_TOPK \\\n",
            "\t-g\n",
            "make: Leaving directory '/content/topk'\n"
          ]
        }
      ]
    },
    {
      "cell_type": "code",
      "source": [
        "!topk/bin/query_doc_scoring_gpu_cudf_strings STI2/translate/docs.txt STI2/translate/querys ./res_gpu_cudf_strings.txt"
      ],
      "metadata": {
        "colab": {
          "base_uri": "https://localhost:8080/"
        },
        "id": "jrfB9PFfdM10",
        "outputId": "4d03bf9f-2508-4660-92fb-3dc522dc3329"
      },
      "execution_count": 241,
      "outputs": [
        {
          "output_type": "stream",
          "name": "stdout",
          "text": [
            "start get topk\n",
            "query1.txt:10, 11, 16, 17, 42, 60, 22524, 22546, 22590, 22784, 23212, 23427, 23485, 23525, 23554, 24129, 24133, 24645, 24804, 24875, 25129, 25242, 25502, 25705, 25994, 26000, 26045, 26046, 26077, 26114, 26247, 26338, 26407, 27263, 27468, 27513, 28100, 40111, 40228, 40388, 41700, 45156, 45946, 46367, 47181, 47460, 47672\n",
            "query2.txt:10, 16, 18, 21, 22, 23, 30, 42, 43, 44, 45, 54, 22497, 22512, 22524, 22533, 22535, 22608, 22624, 22790, 22828, 22836, 22885, 23188, 23381, 23409, 23558, 24103, 24197, 24250, 24496, 24918, 24974, 24987, 25179, 25317, 25827, 25994, 25996, 26009, 26015, 26023, 26030, 26050, 26052, 26082, 26096, 26205, 26247, 27399, 27475, 40029, 40300, 40416, 40504, 40696, 40837, 41166, 41172, 41336, 41407, 41516, 43247, 43309, 44547, 44795, 45101, 48828\n",
            "query3.txt:11, 12, 13, 14, 21, 22, 23, 33, 42, 53, 61, 1380, 1545, 1546, 1557, 1560, 1566, 1569, 1583, 1646, 1759, 1762, 1787, 1794, 1877, 1882, 1892, 2069, 2120, 2146, 2368, 2670, 2888, 3022, 3327, 3335, 22460, 22461, 22462, 22497, 22507, 22512, 22797, 22828, 22885, 23010, 23112, 23337, 23351, 23358, 23441, 23930, 24093, 24301, 24320, 24416, 24771, 25378, 25476, 25846, 25882, 25994, 26692, 26992, 30070, 30085, 30111, 30116, 30188, 30195, 30294, 30332, 30476, 30488, 30656, 30731, 30920, 31021, 31024, 31382, 31493, 31510, 31562, 32167, 32657, 33375, 34247, 35336, 36536, 37502, 37643, 38316, 40228, 40510, 40620, 40785, 40793, 41176, 42143, 42766, 43047, 43895, 45069, 46492, 47956, 48995, 49443\n",
            "query4.txt:11, 18, 30, 32, 60, 1557, 1622, 2279, 22469, 22470, 22497, 22590, 22652, 22921, 22940, 23264, 23441, 24138, 26009, 26038, 26046, 26901, 27654, 30040, 30651, 31928, 32002, 32497, 40074, 40411, 40446, 41107, 46175, 46608\n",
            "query5.txt:11, 18, 35, 50, 54, 60, 22533, 22608, 22624, 22686, 22777, 22782, 23140, 23215, 24212, 25188, 26030, 26054, 26259, 26323, 28175, 40366, 40908, 42041\n",
            "query6.txt:21, 1557, 1559, 1561, 1565, 1568, 2118, 22590, 30489\n",
            "query7.txt:16, 17, 42, 22497, 22524, 22652, 22686, 22735, 22736, 22777, 23489, 23535, 25994, 26013, 26069, 26077, 26114, 26251, 26297, 26628, 26633, 26705, 27123, 27320, 40111, 41533, 42195, 42733, 42837, 46956, 49373\n",
            "query8.txt:16, 18, 21, 22, 30, 35, 42, 1600, 1614, 1707, 1875, 2088, 22459, 22463, 22464, 22466, 22474, 22497, 22502, 22507, 22512, 22529, 22533, 22535, 22590, 22608, 22652, 22684, 22686, 22777, 22795, 22803, 22824, 22828, 22867, 22971, 22972, 23066, 23116, 23150, 23188, 23199, 23289, 23312, 23692, 23760, 23927, 24089, 24136, 24301, 25166, 25359, 25502, 25582, 25994, 26015, 26043, 26086, 26114, 26236, 26251, 26515, 27125, 27276, 28235, 28283, 28297, 32541, 33756, 40210, 40320, 40945, 41092, 41096, 41123, 41245, 41665, 41762, 42525, 42820, 43852, 45045, 45264, 47110, 47491, 47632, 47763, 48145, 49837\n",
            "query9.txt:18, 30, 1388, 1557, 1622, 2279, 22469, 22470, 22535, 22777, 24309, 26007, 26046, 26217, 26530, 27824, 30040, 30651, 31928, 32002, 32497, 40074, 41796, 43144, 44293, 46955, 47628, 48045\n",
            "query_size: 9\n",
            "chunk size: 268435456\n",
            " fread size: 268435456\n",
            "cudaMalloc cost 0 ms \n",
            "cudaMemcpy H2D query cost 0 ms \n",
            "GPU memory usage: used = 1489.00 MB, free = 39024.56 MB, total = 40513.56 MB\n",
            "docQueryScoringCoalescedMemoryAccessSampleKernel cost 9 ms \n",
            "heap partial_sort cost 3 ms \n",
            "cudaMemcpy H2D query cost 0 ms \n",
            "GPU memory usage: used = 1489.00 MB, free = 39024.56 MB, total = 40513.56 MB\n",
            "docQueryScoringCoalescedMemoryAccessSampleKernel cost 6 ms \n",
            "heap partial_sort cost 3 ms \n",
            "cudaMemcpy H2D query cost 0 ms \n",
            "GPU memory usage: used = 1489.00 MB, free = 39024.56 MB, total = 40513.56 MB\n",
            "docQueryScoringCoalescedMemoryAccessSampleKernel cost 6 ms \n",
            "heap partial_sort cost 3 ms \n",
            "cudaMemcpy H2D query cost 0 ms \n",
            "GPU memory usage: used = 1489.00 MB, free = 39024.56 MB, total = 40513.56 MB\n",
            "docQueryScoringCoalescedMemoryAccessSampleKernel cost 6 ms \n",
            "heap partial_sort cost 3 ms \n",
            "cudaMemcpy H2D query cost 0 ms \n",
            "GPU memory usage: used = 1489.00 MB, free = 39024.56 MB, total = 40513.56 MB\n",
            "docQueryScoringCoalescedMemoryAccessSampleKernel cost 6 ms \n",
            "heap partial_sort cost 3 ms \n",
            "cudaMemcpy H2D query cost 0 ms \n",
            "GPU memory usage: used = 1489.00 MB, free = 39024.56 MB, total = 40513.56 MB\n",
            "docQueryScoringCoalescedMemoryAccessSampleKernel cost 6 ms \n",
            "heap partial_sort cost 3 ms \n",
            "cudaMemcpy H2D query cost 0 ms \n",
            "GPU memory usage: used = 1489.00 MB, free = 39024.56 MB, total = 40513.56 MB\n",
            "docQueryScoringCoalescedMemoryAccessSampleKernel cost 6 ms \n",
            "heap partial_sort cost 3 ms \n",
            "cudaMemcpy H2D query cost 0 ms \n",
            "GPU memory usage: used = 1489.00 MB, free = 39024.56 MB, total = 40513.56 MB\n",
            "docQueryScoringCoalescedMemoryAccessSampleKernel cost 6 ms \n",
            "heap partial_sort cost 3 ms \n",
            "cudaMemcpy H2D query cost 0 ms \n",
            "GPU memory usage: used = 1489.00 MB, free = 39024.56 MB, total = 40513.56 MB\n",
            "docQueryScoringCoalescedMemoryAccessSampleKernel cost 6 ms \n",
            "heap partial_sort cost 3 ms \n",
            " fread size: 268435456\n",
            "cudaMalloc cost 0 ms \n",
            "cudaMemcpy H2D query cost 0 ms \n",
            "GPU memory usage: used = 1475.00 MB, free = 39038.56 MB, total = 40513.56 MB\n",
            "docQueryScoringCoalescedMemoryAccessSampleKernel cost 5 ms \n",
            "heap partial_sort cost 2 ms \n",
            "cudaMemcpy H2D query cost 0 ms \n",
            "GPU memory usage: used = 1475.00 MB, free = 39038.56 MB, total = 40513.56 MB\n",
            "docQueryScoringCoalescedMemoryAccessSampleKernel cost 5 ms \n",
            "heap partial_sort cost 1 ms \n",
            "cudaMemcpy H2D query cost 0 ms \n",
            "GPU memory usage: used = 1475.00 MB, free = 39038.56 MB, total = 40513.56 MB\n",
            "docQueryScoringCoalescedMemoryAccessSampleKernel cost 5 ms \n",
            "heap partial_sort cost 1 ms \n",
            "cudaMemcpy H2D query cost 0 ms \n",
            "GPU memory usage: used = 1475.00 MB, free = 39038.56 MB, total = 40513.56 MB\n",
            "docQueryScoringCoalescedMemoryAccessSampleKernel cost 5 ms \n",
            "heap partial_sort cost 1 ms \n",
            "cudaMemcpy H2D query cost 0 ms \n",
            "GPU memory usage: used = 1475.00 MB, free = 39038.56 MB, total = 40513.56 MB\n",
            "docQueryScoringCoalescedMemoryAccessSampleKernel cost 4 ms \n",
            "heap partial_sort cost 1 ms \n",
            "cudaMemcpy H2D query cost 0 ms \n",
            "GPU memory usage: used = 1475.00 MB, free = 39038.56 MB, total = 40513.56 MB\n",
            "docQueryScoringCoalescedMemoryAccessSampleKernel cost 4 ms \n",
            "heap partial_sort cost 1 ms \n",
            "cudaMemcpy H2D query cost 0 ms \n",
            "GPU memory usage: used = 1475.00 MB, free = 39038.56 MB, total = 40513.56 MB\n",
            "docQueryScoringCoalescedMemoryAccessSampleKernel cost 5 ms \n",
            "heap partial_sort cost 1 ms \n",
            "cudaMemcpy H2D query cost 0 ms \n",
            "GPU memory usage: used = 1475.00 MB, free = 39038.56 MB, total = 40513.56 MB\n",
            "docQueryScoringCoalescedMemoryAccessSampleKernel cost 5 ms \n",
            "heap partial_sort cost 1 ms \n",
            "cudaMemcpy H2D query cost 0 ms \n",
            "GPU memory usage: used = 1475.00 MB, free = 39038.56 MB, total = 40513.56 MB\n",
            "docQueryScoringCoalescedMemoryAccessSampleKernel cost 5 ms \n",
            "heap partial_sort cost 1 ms \n",
            " fread size: 268435456\n",
            "cudaMalloc cost 0 ms \n",
            "cudaMemcpy H2D query cost 0 ms \n",
            "GPU memory usage: used = 1473.00 MB, free = 39040.56 MB, total = 40513.56 MB\n",
            "docQueryScoringCoalescedMemoryAccessSampleKernel cost 5 ms \n",
            "heap partial_sort cost 1 ms \n",
            "cudaMemcpy H2D query cost 0 ms \n",
            "GPU memory usage: used = 1473.00 MB, free = 39040.56 MB, total = 40513.56 MB\n",
            "docQueryScoringCoalescedMemoryAccessSampleKernel cost 5 ms \n",
            "heap partial_sort cost 1 ms \n",
            "cudaMemcpy H2D query cost 0 ms \n",
            "GPU memory usage: used = 1473.00 MB, free = 39040.56 MB, total = 40513.56 MB\n",
            "docQueryScoringCoalescedMemoryAccessSampleKernel cost 5 ms \n",
            "heap partial_sort cost 1 ms \n",
            "cudaMemcpy H2D query cost 0 ms \n",
            "GPU memory usage: used = 1473.00 MB, free = 39040.56 MB, total = 40513.56 MB\n",
            "docQueryScoringCoalescedMemoryAccessSampleKernel cost 5 ms \n",
            "heap partial_sort cost 1 ms \n",
            "cudaMemcpy H2D query cost 0 ms \n",
            "GPU memory usage: used = 1473.00 MB, free = 39040.56 MB, total = 40513.56 MB\n",
            "docQueryScoringCoalescedMemoryAccessSampleKernel cost 5 ms \n",
            "heap partial_sort cost 1 ms \n",
            "cudaMemcpy H2D query cost 0 ms \n",
            "GPU memory usage: used = 1473.00 MB, free = 39040.56 MB, total = 40513.56 MB\n",
            "docQueryScoringCoalescedMemoryAccessSampleKernel cost 5 ms \n",
            "heap partial_sort cost 1 ms \n",
            "cudaMemcpy H2D query cost 0 ms \n",
            "GPU memory usage: used = 1473.00 MB, free = 39040.56 MB, total = 40513.56 MB\n",
            "docQueryScoringCoalescedMemoryAccessSampleKernel cost 5 ms \n",
            "heap partial_sort cost 1 ms \n",
            "cudaMemcpy H2D query cost 0 ms \n",
            "GPU memory usage: used = 1473.00 MB, free = 39040.56 MB, total = 40513.56 MB\n",
            "docQueryScoringCoalescedMemoryAccessSampleKernel cost 5 ms \n",
            "heap partial_sort cost 1 ms \n",
            "cudaMemcpy H2D query cost 0 ms \n",
            "GPU memory usage: used = 1473.00 MB, free = 39040.56 MB, total = 40513.56 MB\n",
            "docQueryScoringCoalescedMemoryAccessSampleKernel cost 5 ms \n",
            "heap partial_sort cost 1 ms \n",
            " fread size: 268435456\n",
            "cudaMalloc cost 0 ms \n",
            "cudaMemcpy H2D query cost 0 ms \n",
            "GPU memory usage: used = 1473.00 MB, free = 39040.56 MB, total = 40513.56 MB\n",
            "docQueryScoringCoalescedMemoryAccessSampleKernel cost 5 ms \n",
            "heap partial_sort cost 1 ms \n",
            "cudaMemcpy H2D query cost 0 ms \n",
            "GPU memory usage: used = 1473.00 MB, free = 39040.56 MB, total = 40513.56 MB\n",
            "docQueryScoringCoalescedMemoryAccessSampleKernel cost 5 ms \n",
            "heap partial_sort cost 1 ms \n",
            "cudaMemcpy H2D query cost 0 ms \n",
            "GPU memory usage: used = 1473.00 MB, free = 39040.56 MB, total = 40513.56 MB\n",
            "docQueryScoringCoalescedMemoryAccessSampleKernel cost 5 ms \n",
            "heap partial_sort cost 1 ms \n",
            "cudaMemcpy H2D query cost 0 ms \n",
            "GPU memory usage: used = 1473.00 MB, free = 39040.56 MB, total = 40513.56 MB\n",
            "docQueryScoringCoalescedMemoryAccessSampleKernel cost 5 ms \n",
            "heap partial_sort cost 1 ms \n",
            "cudaMemcpy H2D query cost 0 ms \n",
            "GPU memory usage: used = 1473.00 MB, free = 39040.56 MB, total = 40513.56 MB\n",
            "docQueryScoringCoalescedMemoryAccessSampleKernel cost 5 ms \n",
            "heap partial_sort cost 1 ms \n",
            "cudaMemcpy H2D query cost 0 ms \n",
            "GPU memory usage: used = 1473.00 MB, free = 39040.56 MB, total = 40513.56 MB\n",
            "docQueryScoringCoalescedMemoryAccessSampleKernel cost 5 ms \n",
            "heap partial_sort cost 1 ms \n",
            "cudaMemcpy H2D query cost 0 ms \n",
            "GPU memory usage: used = 1473.00 MB, free = 39040.56 MB, total = 40513.56 MB\n",
            "docQueryScoringCoalescedMemoryAccessSampleKernel cost 5 ms \n",
            "heap partial_sort cost 1 ms \n",
            "cudaMemcpy H2D query cost 0 ms \n",
            "GPU memory usage: used = 1473.00 MB, free = 39040.56 MB, total = 40513.56 MB\n",
            "docQueryScoringCoalescedMemoryAccessSampleKernel cost 5 ms \n",
            "heap partial_sort cost 1 ms \n",
            "cudaMemcpy H2D query cost 0 ms \n",
            "GPU memory usage: used = 1473.00 MB, free = 39040.56 MB, total = 40513.56 MB\n",
            "docQueryScoringCoalescedMemoryAccessSampleKernel cost 5 ms \n",
            "heap partial_sort cost 1 ms \n",
            " fread size: 268435456\n",
            "cudaMalloc cost 0 ms \n",
            "cudaMemcpy H2D query cost 0 ms \n",
            "GPU memory usage: used = 1471.00 MB, free = 39042.56 MB, total = 40513.56 MB\n",
            "docQueryScoringCoalescedMemoryAccessSampleKernel cost 5 ms \n",
            "heap partial_sort cost 0 ms \n",
            "cudaMemcpy H2D query cost 0 ms \n",
            "GPU memory usage: used = 1471.00 MB, free = 39042.56 MB, total = 40513.56 MB\n",
            "docQueryScoringCoalescedMemoryAccessSampleKernel cost 5 ms \n",
            "heap partial_sort cost 0 ms \n",
            "cudaMemcpy H2D query cost 0 ms \n",
            "GPU memory usage: used = 1471.00 MB, free = 39042.56 MB, total = 40513.56 MB\n",
            "docQueryScoringCoalescedMemoryAccessSampleKernel cost 5 ms \n",
            "heap partial_sort cost 0 ms \n",
            "cudaMemcpy H2D query cost 0 ms \n",
            "GPU memory usage: used = 1471.00 MB, free = 39042.56 MB, total = 40513.56 MB\n",
            "docQueryScoringCoalescedMemoryAccessSampleKernel cost 5 ms \n",
            "heap partial_sort cost 1 ms \n",
            "cudaMemcpy H2D query cost 0 ms \n",
            "GPU memory usage: used = 1471.00 MB, free = 39042.56 MB, total = 40513.56 MB\n",
            "docQueryScoringCoalescedMemoryAccessSampleKernel cost 5 ms \n",
            "heap partial_sort cost 0 ms \n",
            "cudaMemcpy H2D query cost 0 ms \n",
            "GPU memory usage: used = 1471.00 MB, free = 39042.56 MB, total = 40513.56 MB\n",
            "docQueryScoringCoalescedMemoryAccessSampleKernel cost 5 ms \n",
            "heap partial_sort cost 0 ms \n",
            "cudaMemcpy H2D query cost 0 ms \n",
            "GPU memory usage: used = 1471.00 MB, free = 39042.56 MB, total = 40513.56 MB\n",
            "docQueryScoringCoalescedMemoryAccessSampleKernel cost 5 ms \n",
            "heap partial_sort cost 0 ms \n",
            "cudaMemcpy H2D query cost 0 ms \n",
            "GPU memory usage: used = 1471.00 MB, free = 39042.56 MB, total = 40513.56 MB\n",
            "docQueryScoringCoalescedMemoryAccessSampleKernel cost 5 ms \n",
            "heap partial_sort cost 0 ms \n",
            "cudaMemcpy H2D query cost 0 ms \n",
            "GPU memory usage: used = 1471.00 MB, free = 39042.56 MB, total = 40513.56 MB\n",
            "docQueryScoringCoalescedMemoryAccessSampleKernel cost 5 ms \n",
            "heap partial_sort cost 0 ms \n",
            " fread size: 268435456\n",
            "cudaMalloc cost 0 ms \n",
            "cudaMemcpy H2D query cost 0 ms \n",
            "GPU memory usage: used = 1463.00 MB, free = 39050.56 MB, total = 40513.56 MB\n",
            "docQueryScoringCoalescedMemoryAccessSampleKernel cost 5 ms \n",
            "heap partial_sort cost 0 ms \n",
            "cudaMemcpy H2D query cost 0 ms \n",
            "GPU memory usage: used = 1463.00 MB, free = 39050.56 MB, total = 40513.56 MB\n",
            "docQueryScoringCoalescedMemoryAccessSampleKernel cost 5 ms \n",
            "heap partial_sort cost 0 ms \n",
            "cudaMemcpy H2D query cost 0 ms \n",
            "GPU memory usage: used = 1463.00 MB, free = 39050.56 MB, total = 40513.56 MB\n",
            "docQueryScoringCoalescedMemoryAccessSampleKernel cost 5 ms \n",
            "heap partial_sort cost 0 ms \n",
            "cudaMemcpy H2D query cost 0 ms \n",
            "GPU memory usage: used = 1463.00 MB, free = 39050.56 MB, total = 40513.56 MB\n",
            "docQueryScoringCoalescedMemoryAccessSampleKernel cost 5 ms \n",
            "heap partial_sort cost 0 ms \n",
            "cudaMemcpy H2D query cost 0 ms \n",
            "GPU memory usage: used = 1463.00 MB, free = 39050.56 MB, total = 40513.56 MB\n",
            "docQueryScoringCoalescedMemoryAccessSampleKernel cost 5 ms \n",
            "heap partial_sort cost 0 ms \n",
            "cudaMemcpy H2D query cost 0 ms \n",
            "GPU memory usage: used = 1463.00 MB, free = 39050.56 MB, total = 40513.56 MB\n",
            "docQueryScoringCoalescedMemoryAccessSampleKernel cost 5 ms \n",
            "heap partial_sort cost 0 ms \n",
            "cudaMemcpy H2D query cost 0 ms \n",
            "GPU memory usage: used = 1463.00 MB, free = 39050.56 MB, total = 40513.56 MB\n",
            "docQueryScoringCoalescedMemoryAccessSampleKernel cost 5 ms \n",
            "heap partial_sort cost 0 ms \n",
            "cudaMemcpy H2D query cost 0 ms \n",
            "GPU memory usage: used = 1463.00 MB, free = 39050.56 MB, total = 40513.56 MB\n",
            "docQueryScoringCoalescedMemoryAccessSampleKernel cost 4 ms \n",
            "heap partial_sort cost 0 ms \n",
            "cudaMemcpy H2D query cost 0 ms \n",
            "GPU memory usage: used = 1463.00 MB, free = 39050.56 MB, total = 40513.56 MB\n",
            "docQueryScoringCoalescedMemoryAccessSampleKernel cost 5 ms \n",
            "heap partial_sort cost 0 ms \n",
            " fread size: 268435456\n",
            "cudaMalloc cost 0 ms \n",
            "cudaMemcpy H2D query cost 0 ms \n",
            "GPU memory usage: used = 1461.00 MB, free = 39052.56 MB, total = 40513.56 MB\n",
            "docQueryScoringCoalescedMemoryAccessSampleKernel cost 5 ms \n",
            "heap partial_sort cost 0 ms \n",
            "cudaMemcpy H2D query cost 0 ms \n",
            "GPU memory usage: used = 1461.00 MB, free = 39052.56 MB, total = 40513.56 MB\n",
            "docQueryScoringCoalescedMemoryAccessSampleKernel cost 5 ms \n",
            "heap partial_sort cost 0 ms \n",
            "cudaMemcpy H2D query cost 0 ms \n",
            "GPU memory usage: used = 1461.00 MB, free = 39052.56 MB, total = 40513.56 MB\n",
            "docQueryScoringCoalescedMemoryAccessSampleKernel cost 5 ms \n",
            "heap partial_sort cost 0 ms \n",
            "cudaMemcpy H2D query cost 0 ms \n",
            "GPU memory usage: used = 1461.00 MB, free = 39052.56 MB, total = 40513.56 MB\n",
            "docQueryScoringCoalescedMemoryAccessSampleKernel cost 5 ms \n",
            "heap partial_sort cost 0 ms \n",
            "cudaMemcpy H2D query cost 0 ms \n",
            "GPU memory usage: used = 1461.00 MB, free = 39052.56 MB, total = 40513.56 MB\n",
            "docQueryScoringCoalescedMemoryAccessSampleKernel cost 5 ms \n",
            "heap partial_sort cost 0 ms \n",
            "cudaMemcpy H2D query cost 0 ms \n",
            "GPU memory usage: used = 1461.00 MB, free = 39052.56 MB, total = 40513.56 MB\n",
            "docQueryScoringCoalescedMemoryAccessSampleKernel cost 5 ms \n",
            "heap partial_sort cost 0 ms \n",
            "cudaMemcpy H2D query cost 0 ms \n",
            "GPU memory usage: used = 1461.00 MB, free = 39052.56 MB, total = 40513.56 MB\n",
            "docQueryScoringCoalescedMemoryAccessSampleKernel cost 5 ms \n",
            "heap partial_sort cost 0 ms \n",
            "cudaMemcpy H2D query cost 0 ms \n",
            "GPU memory usage: used = 1461.00 MB, free = 39052.56 MB, total = 40513.56 MB\n",
            "docQueryScoringCoalescedMemoryAccessSampleKernel cost 5 ms \n",
            "heap partial_sort cost 0 ms \n",
            "cudaMemcpy H2D query cost 0 ms \n",
            "GPU memory usage: used = 1461.00 MB, free = 39052.56 MB, total = 40513.56 MB\n",
            "docQueryScoringCoalescedMemoryAccessSampleKernel cost 5 ms \n",
            "heap partial_sort cost 0 ms \n",
            " fread size: 268435456\n",
            "cudaMalloc cost 0 ms \n",
            "cudaMemcpy H2D query cost 0 ms \n",
            "GPU memory usage: used = 1461.00 MB, free = 39052.56 MB, total = 40513.56 MB\n",
            "docQueryScoringCoalescedMemoryAccessSampleKernel cost 5 ms \n",
            "heap partial_sort cost 0 ms \n",
            "cudaMemcpy H2D query cost 0 ms \n",
            "GPU memory usage: used = 1461.00 MB, free = 39052.56 MB, total = 40513.56 MB\n",
            "docQueryScoringCoalescedMemoryAccessSampleKernel cost 5 ms \n",
            "heap partial_sort cost 0 ms \n",
            "cudaMemcpy H2D query cost 0 ms \n",
            "GPU memory usage: used = 1461.00 MB, free = 39052.56 MB, total = 40513.56 MB\n",
            "docQueryScoringCoalescedMemoryAccessSampleKernel cost 5 ms \n",
            "heap partial_sort cost 0 ms \n",
            "cudaMemcpy H2D query cost 0 ms \n",
            "GPU memory usage: used = 1461.00 MB, free = 39052.56 MB, total = 40513.56 MB\n",
            "docQueryScoringCoalescedMemoryAccessSampleKernel cost 5 ms \n",
            "heap partial_sort cost 0 ms \n",
            "cudaMemcpy H2D query cost 0 ms \n",
            "GPU memory usage: used = 1461.00 MB, free = 39052.56 MB, total = 40513.56 MB\n",
            "docQueryScoringCoalescedMemoryAccessSampleKernel cost 5 ms \n",
            "heap partial_sort cost 0 ms \n",
            "cudaMemcpy H2D query cost 0 ms \n",
            "GPU memory usage: used = 1461.00 MB, free = 39052.56 MB, total = 40513.56 MB\n",
            "docQueryScoringCoalescedMemoryAccessSampleKernel cost 5 ms \n",
            "heap partial_sort cost 0 ms \n",
            "cudaMemcpy H2D query cost 0 ms \n",
            "GPU memory usage: used = 1461.00 MB, free = 39052.56 MB, total = 40513.56 MB\n",
            "docQueryScoringCoalescedMemoryAccessSampleKernel cost 5 ms \n",
            "heap partial_sort cost 0 ms \n",
            "cudaMemcpy H2D query cost 0 ms \n",
            "GPU memory usage: used = 1461.00 MB, free = 39052.56 MB, total = 40513.56 MB\n",
            "docQueryScoringCoalescedMemoryAccessSampleKernel cost 5 ms \n",
            "heap partial_sort cost 0 ms \n",
            "cudaMemcpy H2D query cost 0 ms \n",
            "GPU memory usage: used = 1461.00 MB, free = 39052.56 MB, total = 40513.56 MB\n",
            "docQueryScoringCoalescedMemoryAccessSampleKernel cost 5 ms \n",
            "heap partial_sort cost 0 ms \n",
            " fread size: 268435456\n",
            "cudaMalloc cost 0 ms \n",
            "cudaMemcpy H2D query cost 0 ms \n",
            "GPU memory usage: used = 1461.00 MB, free = 39052.56 MB, total = 40513.56 MB\n",
            "docQueryScoringCoalescedMemoryAccessSampleKernel cost 5 ms \n",
            "heap partial_sort cost 0 ms \n",
            "cudaMemcpy H2D query cost 0 ms \n",
            "GPU memory usage: used = 1461.00 MB, free = 39052.56 MB, total = 40513.56 MB\n",
            "docQueryScoringCoalescedMemoryAccessSampleKernel cost 5 ms \n",
            "heap partial_sort cost 0 ms \n",
            "cudaMemcpy H2D query cost 0 ms \n",
            "GPU memory usage: used = 1461.00 MB, free = 39052.56 MB, total = 40513.56 MB\n",
            "docQueryScoringCoalescedMemoryAccessSampleKernel cost 5 ms \n",
            "heap partial_sort cost 0 ms \n",
            "cudaMemcpy H2D query cost 0 ms \n",
            "GPU memory usage: used = 1461.00 MB, free = 39052.56 MB, total = 40513.56 MB\n",
            "docQueryScoringCoalescedMemoryAccessSampleKernel cost 5 ms \n",
            "heap partial_sort cost 0 ms \n",
            "cudaMemcpy H2D query cost 0 ms \n",
            "GPU memory usage: used = 1461.00 MB, free = 39052.56 MB, total = 40513.56 MB\n",
            "docQueryScoringCoalescedMemoryAccessSampleKernel cost 15 ms \n",
            "heap partial_sort cost 0 ms \n",
            "cudaMemcpy H2D query cost 0 ms \n",
            "GPU memory usage: used = 1461.00 MB, free = 39052.56 MB, total = 40513.56 MB\n",
            "docQueryScoringCoalescedMemoryAccessSampleKernel cost 5 ms \n",
            "heap partial_sort cost 0 ms \n",
            "cudaMemcpy H2D query cost 0 ms \n",
            "GPU memory usage: used = 1461.00 MB, free = 39052.56 MB, total = 40513.56 MB\n",
            "docQueryScoringCoalescedMemoryAccessSampleKernel cost 5 ms \n",
            "heap partial_sort cost 0 ms \n",
            "cudaMemcpy H2D query cost 0 ms \n",
            "GPU memory usage: used = 1461.00 MB, free = 39052.56 MB, total = 40513.56 MB\n",
            "docQueryScoringCoalescedMemoryAccessSampleKernel cost 4 ms \n",
            "heap partial_sort cost 0 ms \n",
            "cudaMemcpy H2D query cost 0 ms \n",
            "GPU memory usage: used = 1461.00 MB, free = 39052.56 MB, total = 40513.56 MB\n",
            "docQueryScoringCoalescedMemoryAccessSampleKernel cost 5 ms \n",
            "heap partial_sort cost 0 ms \n",
            " fread size: 268435456\n",
            "cudaMalloc cost 0 ms \n",
            "cudaMemcpy H2D query cost 0 ms \n",
            "GPU memory usage: used = 1461.00 MB, free = 39052.56 MB, total = 40513.56 MB\n",
            "docQueryScoringCoalescedMemoryAccessSampleKernel cost 5 ms \n",
            "heap partial_sort cost 0 ms \n",
            "cudaMemcpy H2D query cost 0 ms \n",
            "GPU memory usage: used = 1461.00 MB, free = 39052.56 MB, total = 40513.56 MB\n",
            "docQueryScoringCoalescedMemoryAccessSampleKernel cost 5 ms \n",
            "heap partial_sort cost 0 ms \n",
            "cudaMemcpy H2D query cost 0 ms \n",
            "GPU memory usage: used = 1461.00 MB, free = 39052.56 MB, total = 40513.56 MB\n",
            "docQueryScoringCoalescedMemoryAccessSampleKernel cost 5 ms \n",
            "heap partial_sort cost 0 ms \n",
            "cudaMemcpy H2D query cost 0 ms \n",
            "GPU memory usage: used = 1461.00 MB, free = 39052.56 MB, total = 40513.56 MB\n",
            "docQueryScoringCoalescedMemoryAccessSampleKernel cost 5 ms \n",
            "heap partial_sort cost 0 ms \n",
            "cudaMemcpy H2D query cost 0 ms \n",
            "GPU memory usage: used = 1461.00 MB, free = 39052.56 MB, total = 40513.56 MB\n",
            "docQueryScoringCoalescedMemoryAccessSampleKernel cost 5 ms \n",
            "heap partial_sort cost 0 ms \n",
            "cudaMemcpy H2D query cost 0 ms \n",
            "GPU memory usage: used = 1461.00 MB, free = 39052.56 MB, total = 40513.56 MB\n",
            "docQueryScoringCoalescedMemoryAccessSampleKernel cost 5 ms \n",
            "heap partial_sort cost 0 ms \n",
            "cudaMemcpy H2D query cost 0 ms \n",
            "GPU memory usage: used = 1461.00 MB, free = 39052.56 MB, total = 40513.56 MB\n",
            "docQueryScoringCoalescedMemoryAccessSampleKernel cost 5 ms \n",
            "heap partial_sort cost 0 ms \n",
            "cudaMemcpy H2D query cost 0 ms \n",
            "GPU memory usage: used = 1461.00 MB, free = 39052.56 MB, total = 40513.56 MB\n",
            "docQueryScoringCoalescedMemoryAccessSampleKernel cost 5 ms \n",
            "heap partial_sort cost 0 ms \n",
            "cudaMemcpy H2D query cost 0 ms \n",
            "GPU memory usage: used = 1461.00 MB, free = 39052.56 MB, total = 40513.56 MB\n",
            "docQueryScoringCoalescedMemoryAccessSampleKernel cost 5 ms \n",
            "heap partial_sort cost 0 ms \n",
            " fread size: 268435456\n",
            "cudaMalloc cost 0 ms \n",
            "cudaMemcpy H2D query cost 0 ms \n",
            "GPU memory usage: used = 1461.00 MB, free = 39052.56 MB, total = 40513.56 MB\n",
            "docQueryScoringCoalescedMemoryAccessSampleKernel cost 5 ms \n",
            "heap partial_sort cost 0 ms \n",
            "cudaMemcpy H2D query cost 0 ms \n",
            "GPU memory usage: used = 1461.00 MB, free = 39052.56 MB, total = 40513.56 MB\n",
            "docQueryScoringCoalescedMemoryAccessSampleKernel cost 5 ms \n",
            "heap partial_sort cost 0 ms \n",
            "cudaMemcpy H2D query cost 0 ms \n",
            "GPU memory usage: used = 1461.00 MB, free = 39052.56 MB, total = 40513.56 MB\n",
            "docQueryScoringCoalescedMemoryAccessSampleKernel cost 5 ms \n",
            "heap partial_sort cost 0 ms \n",
            "cudaMemcpy H2D query cost 0 ms \n",
            "GPU memory usage: used = 1461.00 MB, free = 39052.56 MB, total = 40513.56 MB\n",
            "docQueryScoringCoalescedMemoryAccessSampleKernel cost 5 ms \n",
            "heap partial_sort cost 0 ms \n",
            "cudaMemcpy H2D query cost 0 ms \n",
            "GPU memory usage: used = 1461.00 MB, free = 39052.56 MB, total = 40513.56 MB\n",
            "docQueryScoringCoalescedMemoryAccessSampleKernel cost 5 ms \n",
            "heap partial_sort cost 0 ms \n",
            "cudaMemcpy H2D query cost 0 ms \n",
            "GPU memory usage: used = 1461.00 MB, free = 39052.56 MB, total = 40513.56 MB\n",
            "docQueryScoringCoalescedMemoryAccessSampleKernel cost 5 ms \n",
            "heap partial_sort cost 0 ms \n",
            "cudaMemcpy H2D query cost 0 ms \n",
            "GPU memory usage: used = 1461.00 MB, free = 39052.56 MB, total = 40513.56 MB\n",
            "docQueryScoringCoalescedMemoryAccessSampleKernel cost 5 ms \n",
            "heap partial_sort cost 0 ms \n",
            "cudaMemcpy H2D query cost 0 ms \n",
            "GPU memory usage: used = 1461.00 MB, free = 39052.56 MB, total = 40513.56 MB\n",
            "docQueryScoringCoalescedMemoryAccessSampleKernel cost 5 ms \n",
            "heap partial_sort cost 0 ms \n",
            "cudaMemcpy H2D query cost 0 ms \n",
            "GPU memory usage: used = 1461.00 MB, free = 39052.56 MB, total = 40513.56 MB\n",
            "docQueryScoringCoalescedMemoryAccessSampleKernel cost 5 ms \n",
            "heap partial_sort cost 0 ms \n",
            " fread size: 268435456\n",
            "cudaMalloc cost 0 ms \n",
            "cudaMemcpy H2D query cost 0 ms \n",
            "GPU memory usage: used = 1461.00 MB, free = 39052.56 MB, total = 40513.56 MB\n",
            "docQueryScoringCoalescedMemoryAccessSampleKernel cost 5 ms \n",
            "heap partial_sort cost 0 ms \n",
            "cudaMemcpy H2D query cost 0 ms \n",
            "GPU memory usage: used = 1461.00 MB, free = 39052.56 MB, total = 40513.56 MB\n",
            "docQueryScoringCoalescedMemoryAccessSampleKernel cost 5 ms \n",
            "heap partial_sort cost 0 ms \n",
            "cudaMemcpy H2D query cost 0 ms \n",
            "GPU memory usage: used = 1461.00 MB, free = 39052.56 MB, total = 40513.56 MB\n",
            "docQueryScoringCoalescedMemoryAccessSampleKernel cost 5 ms \n",
            "heap partial_sort cost 0 ms \n",
            "cudaMemcpy H2D query cost 0 ms \n",
            "GPU memory usage: used = 1461.00 MB, free = 39052.56 MB, total = 40513.56 MB\n",
            "docQueryScoringCoalescedMemoryAccessSampleKernel cost 5 ms \n",
            "heap partial_sort cost 0 ms \n",
            "cudaMemcpy H2D query cost 0 ms \n",
            "GPU memory usage: used = 1461.00 MB, free = 39052.56 MB, total = 40513.56 MB\n",
            "docQueryScoringCoalescedMemoryAccessSampleKernel cost 5 ms \n",
            "heap partial_sort cost 0 ms \n",
            "cudaMemcpy H2D query cost 0 ms \n",
            "GPU memory usage: used = 1461.00 MB, free = 39052.56 MB, total = 40513.56 MB\n",
            "docQueryScoringCoalescedMemoryAccessSampleKernel cost 5 ms \n",
            "heap partial_sort cost 0 ms \n",
            "cudaMemcpy H2D query cost 0 ms \n",
            "GPU memory usage: used = 1461.00 MB, free = 39052.56 MB, total = 40513.56 MB\n",
            "docQueryScoringCoalescedMemoryAccessSampleKernel cost 5 ms \n",
            "heap partial_sort cost 0 ms \n",
            "cudaMemcpy H2D query cost 0 ms \n",
            "GPU memory usage: used = 1461.00 MB, free = 39052.56 MB, total = 40513.56 MB\n",
            "docQueryScoringCoalescedMemoryAccessSampleKernel cost 5 ms \n",
            "heap partial_sort cost 0 ms \n",
            "cudaMemcpy H2D query cost 0 ms \n",
            "GPU memory usage: used = 1461.00 MB, free = 39052.56 MB, total = 40513.56 MB\n",
            "docQueryScoringCoalescedMemoryAccessSampleKernel cost 5 ms \n",
            "heap partial_sort cost 0 ms \n",
            " fread size: 66239130\n",
            "cudaMalloc cost 0 ms \n",
            "cudaMemcpy H2D query cost 0 ms \n",
            "GPU memory usage: used = 983.00 MB, free = 39530.56 MB, total = 40513.56 MB\n",
            "docQueryScoringCoalescedMemoryAccessSampleKernel cost 1 ms \n",
            "heap partial_sort cost 0 ms \n",
            "cudaMemcpy H2D query cost 0 ms \n",
            "GPU memory usage: used = 983.00 MB, free = 39530.56 MB, total = 40513.56 MB\n",
            "docQueryScoringCoalescedMemoryAccessSampleKernel cost 1 ms \n",
            "heap partial_sort cost 0 ms \n",
            "cudaMemcpy H2D query cost 0 ms \n",
            "GPU memory usage: used = 983.00 MB, free = 39530.56 MB, total = 40513.56 MB\n",
            "docQueryScoringCoalescedMemoryAccessSampleKernel cost 1 ms \n",
            "heap partial_sort cost 0 ms \n",
            "cudaMemcpy H2D query cost 0 ms \n",
            "GPU memory usage: used = 983.00 MB, free = 39530.56 MB, total = 40513.56 MB\n",
            "docQueryScoringCoalescedMemoryAccessSampleKernel cost 1 ms \n",
            "heap partial_sort cost 0 ms \n",
            "cudaMemcpy H2D query cost 0 ms \n",
            "GPU memory usage: used = 983.00 MB, free = 39530.56 MB, total = 40513.56 MB\n",
            "docQueryScoringCoalescedMemoryAccessSampleKernel cost 1 ms \n",
            "heap partial_sort cost 0 ms \n",
            "cudaMemcpy H2D query cost 0 ms \n",
            "GPU memory usage: used = 983.00 MB, free = 39530.56 MB, total = 40513.56 MB\n",
            "docQueryScoringCoalescedMemoryAccessSampleKernel cost 1 ms \n",
            "heap partial_sort cost 0 ms \n",
            "cudaMemcpy H2D query cost 0 ms \n",
            "GPU memory usage: used = 983.00 MB, free = 39530.56 MB, total = 40513.56 MB\n",
            "docQueryScoringCoalescedMemoryAccessSampleKernel cost 1 ms \n",
            "heap partial_sort cost 0 ms \n",
            "cudaMemcpy H2D query cost 0 ms \n",
            "GPU memory usage: used = 983.00 MB, free = 39530.56 MB, total = 40513.56 MB\n",
            "docQueryScoringCoalescedMemoryAccessSampleKernel cost 1 ms \n",
            "heap partial_sort cost 0 ms \n",
            "cudaMemcpy H2D query cost 0 ms \n",
            "GPU memory usage: used = 983.00 MB, free = 39530.56 MB, total = 40513.56 MB\n",
            "docQueryScoringCoalescedMemoryAccessSampleKernel cost 0 ms \n",
            "heap partial_sort cost 0 ms \n",
            "readcnt: 13\n",
            "doccnt: 7853052\n",
            "indices: 2095355 2104387 2118767 2147776 2055923 2206974 2238603 2020057 2267746 2220291 2151279 2154228 1960823 2001825 2005314 2029722 2054064 2098358 2099815 2287637 2300031 2158918 2167292 2177721 2177855 1981772 2196213 2520566 1917947 2017068 2028496 2083981 2323778 2247926 2282000 2202772 2227479 2236897 2186351 2486485 2150430 2381725 1760981 1855263 1869531 1877846 1885219 1896166 1950185 2028110 2079765 2119578 2126999 2306247 2315934 1776753 1811788 1848411 1901590 2026760 2042826 2073036 2217999 2224835 1709996 1754639 1844734 1987029 2091827 2093706 2284846 2151301 2328000 2351661 1706744 2081563 2597490 1759061 2011063 2077727 2737847 2362721 1956654 2193430 2236145 1462218 1816978 1897084 1897296 1902180 1925148 1933929 1952948 1958058 1975060 1984389 1984524 1987018 2013793 2034453 \n",
            "3354548 3584604 3385811 3457483 3229654 3732526 3320427 3340108 2491259 3743142 3631235 3648390 3657624 3516117 2374643 2403142 2575906 2228660 4836663 1839330 4591327 3557359 4697352 3405025 3570449 3602105 3110584 3160212 3212061 3223714 3242875 3273973 3307943 3957807 3992214 3769564 3806523 3629929 3651887 2729851 2934266 3163915 3305058 3355769 3503322 3135869 3350236 3546639 3574824 3989624 4006619 3587218 3601233 3668228 4131144 2828732 3033866 3179151 3273208 3279884 3366688 3394555 3768327 4193955 4227290 3515312 4052232 3859022 5064216 3596686 3605208 3644977 3647798 3648284 4156166 3868121 3875989 3898614 3912700 3947820 3958906 1991883 2204093 2322853 2661022 2672853 2738909 2762270 2792939 3012444 3029707 3039967 3092642 3114822 3137181 3156462 3166063 3179837 3184917 3193891 \n",
            "7788441 7802401 7782377 7801971 7814975 7781694 7810594 7808590 7843401 7809945 7846914 7831446 7761434 6484473 7351329 7839524 4498898 2862865 4338988 5093113 5330069 2665443 3053942 7830965 2901753 2971061 7343026 7796214 5240653 3150957 4269653 5185997 7820720 3596558 7763100 7725698 7796468 7726591 7753631 7773714 7483244 7621636 7738376 7796323 5634249 7675769 7787293 5774762 7632020 7686575 6427189 7634212 7692514 7723174 7759886 1657741 6379050 7736250 7760888 6938835 7681597 7720071 7799338 7799616 7814678 6481180 6920816 6950153 7107304 7333006 7657685 7676458 7732898 7775566 1400612 5594644 6363869 6613416 7267834 7516270 7533604 7709970 7818223 7825162 5124248 6210009 6475394 7183416 7218286 7343105 7781483 7847590 6089541 6539482 6791103 7391558 7725914 7745458 7766653 7836635 \n",
            "1451621 1382250 1540932 1450640 1262561 1566407 1526647 1335473 1692014 1620570 1568523 1193260 1422092 1695638 1607748 1635620 1642524 1747981 1748205 1750716 1753426 1756651 1419752 1588632 1549401 1764065 1771377 1751898 1314500 1843821 1562610 1800155 1905795 1934867 1952083 1681426 2043426 2007984 2116556 2057656 2066523 2182954 2082505 1713928 2235444 2159965 2078676 1883266 829798 1740800 2476390 2478468 2598035 1395880 1462012 1474708 1477362 1181306 1196062 1288223 1332553 1351327 1359159 1362783 1368552 1380350 1401753 1403060 1417818 1418885 1419478 1427076 1444403 1446024 1503685 1528297 1533183 1564895 1580725 1597464 1455141 1456464 1460135 1474289 1479651 1486246 1486492 1487213 1487637 1488488 1498977 1499199 1727770 1500479 1501508 1512040 1513500 1515434 1519849 1523134 \n",
            "909608 827239 835944 1106301 670028 760378 1044469 1256458 971408 1660188 1386593 735164 1758848 1671117 1017181 1019690 1692876 2253771 756936 830452 834248 1060121 1518619 969495 978646 983548 991371 993929 2581823 1118431 1021830 1261547 609363 682264 709182 710432 724946 729305 740024 755611 756670 758961 781663 786129 801445 805738 806569 807739 816678 836966 837206 843575 845992 849308 857722 869084 879533 879937 882969 885608 912651 922608 923211 923499 931621 934316 936424 940713 1195753 1064897 1098145 968685 969629 976841 978251 979620 980553 983371 984343 985531 986554 988549 991986 995536 1199336 2937143 1123418 1137482 1140941 1141285 1143722 1144931 1145908 1253432 1007549 1007815 1008286 1008490 1014131 1015355 \n",
            "230088 216345 335841 216355 221125 245181 249389 258787 275508 283647 296469 332158 459973 705453 368402 373272 382018 382512 393049 499195 80159 102319 122643 125549 129103 144371 152315 160917 162756 163548 179228 189783 197367 201911 204896 207340 210713 226315 229678 230908 236088 242610 243337 246131 246545 247410 247512 248928 250397 250645 250924 254735 255364 255905 256907 257049 259373 260849 263383 264490 268276 270056 270066 270625 271384 271979 274215 275061 276638 279100 279293 281102 282094 284399 284584 285141 287445 293255 293426 294634 295633 296782 297212 297567 298392 300284 301462 302150 303991 304008 306190 306667 307532 308167 308411 308865 310691 312850 315951 317078 \n",
            "1252669 1066220 1113897 1150249 1225249 1576475 970072 1921858 2038652 1893335 1902421 1919831 1570616 1275185 1778618 1806495 1636840 1645131 1683061 2193399 1375114 1886051 1912531 1410377 741971 761714 804954 807786 1062988 1064814 1130413 1180462 1253004 1628438 1986166 2059320 2061277 1673579 1701207 1313043 1868618 1731236 1750223 1369660 1380687 1944444 1573799 1586971 2026808 1431017 1433791 1434744 1445877 1615562 1642850 1655089 1828376 1866084 625063 800738 880457 894216 920367 934990 945747 967598 968216 1036585 1039949 1066090 1071212 1086204 1088107 1100729 1105698 1120282 1124245 1132413 1137647 1147687 1149454 1150791 1173007 1176259 1180793 1181975 1192835 1193281 1194979 1199928 1200103 1216272 1219634 1221329 1224794 1228791 1230024 1237788 1244042 1245441 \n",
            "6090639 6550548 6509567 6584130 6249854 6696550 6975462 4599120 4893967 5007683 6082923 4545070 4905833 4968540 4987919 5247193 5960912 4640042 4696758 4721792 4770021 4818769 4819777 4822667 4831686 4841459 4846437 4848344 4864511 4865656 4878130 4894561 4964502 4968150 4972261 4977180 5013779 5015959 5032262 5047996 5050707 5070563 5077156 5083985 5089526 5099112 5107786 5113537 5131943 5150792 5153381 5157118 5159109 5161050 5173782 5223515 5238178 5261106 5357067 5398027 5492820 5661935 6814748 4770830 4773247 4829337 4843465 4851947 4883775 4884056 4907090 4916550 4941515 5043457 5062701 5066526 5076851 5092793 5098747 5101607 5169146 5178885 5205714 5242125 5268978 5330039 5341655 5366055 5491355 5496175 5904757 5965198 4575321 4892562 4897602 4910754 4976057 4977960 5019812 5024983 \n",
            "1064412 1212301 1165199 1324553 1337544 1279350 1221518 1244284 1244680 972283 1009627 1094325 1252175 1260777 1268224 1384210 1393825 1310814 1315547 1317017 1329501 1341171 1292801 1477389 1427999 1443623 1351931 1352887 1363146 1307186 1480921 1490375 1499799 1418128 1435011 1439307 1440123 1366052 1485951 1486511 1565048 1566093 1500616 1511639 1512826 1538358 1547424 1318251 1554073 1571537 1576178 1588176 1596407 1597752 1690975 1484789 1613338 1622281 1435168 1661370 1772693 1774156 1467924 1527674 1380085 1876256 574048 1951930 2078346 1932445 2416096 1450838 1182901 1216202 1237692 1060174 1086354 1091797 1100362 1123673 1133630 1149061 1348497 1255132 1255449 1260932 1264037 1275180 1288477 1150172 1153735 1184612 1184758 1189700 1535638 1403109 1403478 1408418 1299546 1303931 \n",
            "topk cost 0 ms \n",
            "all cost 7021 ms \n",
            "end get topk\n"
          ]
        }
      ]
    },
    {
      "cell_type": "code",
      "source": [
        "!diff res_gpu_cudf_strings.txt STI2/translate/res/result.txt"
      ],
      "metadata": {
        "colab": {
          "base_uri": "https://localhost:8080/"
        },
        "id": "7pxEFyb5h-gI",
        "outputId": "b4f67b7e-0423-4e95-a96e-7aa177708c7a"
      },
      "execution_count": 242,
      "outputs": [
        {
          "output_type": "stream",
          "name": "stdout",
          "text": [
            "1c1\n",
            "< 0\n",
            "---\n",
            "> 2990\n"
          ]
        }
      ]
    },
    {
      "cell_type": "code",
      "source": [
        "!nsys profile  -o a100_report_gpu_cudf_strings.nsys-rep \\\n",
        "  topk/bin/query_doc_scoring_gpu_cudf_strings STI2/translate/docs.txt STI2/translate/querys ./res_gpu_cudf_strings.txt"
      ],
      "metadata": {
        "id": "fvWhgMEmlzgI"
      },
      "execution_count": null,
      "outputs": []
    },
    {
      "cell_type": "code",
      "source": [
        "!ncu --set full --call-stack --nvtx -o a100_report_gpu_cudf_strings \\\n",
        "  topk/bin/query_doc_scoring_gpu_cudf_strings STI2/translate/docs.txt STI2/translate/querys ./res_gpu_cudf_strings.txt"
      ],
      "metadata": {
        "id": "v7WmKSgNlRv4"
      },
      "execution_count": null,
      "outputs": []
    },
    {
      "cell_type": "markdown",
      "source": [
        "### gpu_readfile -> gpu_chunk_topk -> gpu_cpu_topk\n",
        "\n",
        "1. read file chunk pipeline to rank topk on gpu\n",
        "2. total cost reduce (35551 - 7021)//35551 = **80.25%** compare with `gpu baseline`\n",
        "3. total cost reduce (11589 - 7021)/11589 = **39.42%** compare with `gpu read file chunk to cpu vec docs then load to gpu rank topk`\n",
        "\n",
        "---\n",
        "\n",
        "\n"
      ],
      "metadata": {
        "id": "HVc8J_7JhYRY"
      }
    },
    {
      "cell_type": "markdown",
      "source": [
        "### (gpu_readfile -> gpu_chunk_topk -> gpu_cpu_topk) + stream pool + rmm (todo)"
      ],
      "metadata": {
        "id": "9Y3ANiTpjXAG"
      }
    },
    {
      "cell_type": "markdown",
      "source": [
        "# rapidsai - RAFT\n",
        "\n",
        "use select k -> sort -> top k. gpu accelerate\n",
        "\n",
        "1. https://github.com/rapidsai/raft/blob/branch-23.12/docs/source/build.md"
      ],
      "metadata": {
        "id": "_eS0jfoLQmJp"
      }
    },
    {
      "cell_type": "code",
      "source": [
        "!apt install ninja-build"
      ],
      "metadata": {
        "id": "m517uFqwKchl"
      },
      "execution_count": null,
      "outputs": []
    },
    {
      "cell_type": "code",
      "source": [
        "!git clone https://github.com/rapidsai/raft.git"
      ],
      "metadata": {
        "id": "JYftcEk1Qrxe"
      },
      "execution_count": null,
      "outputs": []
    },
    {
      "cell_type": "code",
      "source": [
        "!cd raft && ./build.sh --help"
      ],
      "metadata": {
        "id": "kg6aTe3mVATT"
      },
      "execution_count": null,
      "outputs": []
    },
    {
      "cell_type": "code",
      "source": [
        "!ls /lib"
      ],
      "metadata": {
        "id": "pljtEEcpyy7z"
      },
      "execution_count": null,
      "outputs": []
    },
    {
      "cell_type": "code",
      "source": [
        "!cd raft && ./build.sh libraft --compile-lib"
      ],
      "metadata": {
        "id": "VtjlrRzNVFzY"
      },
      "execution_count": null,
      "outputs": []
    },
    {
      "cell_type": "code",
      "source": [
        "!tar -zcvf libraft.tar.gz /content/raft/cpp/build/install"
      ],
      "metadata": {
        "id": "-1Shub1XPxWw"
      },
      "execution_count": null,
      "outputs": []
    },
    {
      "cell_type": "markdown",
      "source": [
        "# profiling"
      ],
      "metadata": {
        "id": "TgdVEEdWwkQz"
      }
    },
    {
      "cell_type": "code",
      "source": [
        "!tar zcvf a100_gpu_topk_ncu_nsys_profile.tar.gz ./a100*\n",
        "!ls -gh a100*"
      ],
      "metadata": {
        "colab": {
          "base_uri": "https://localhost:8080/"
        },
        "id": "DP-4luTEvywn",
        "outputId": "2a41e814-3a50-4da1-bf29-04eb3eaf7d32"
      },
      "execution_count": 252,
      "outputs": [
        {
          "output_type": "stream",
          "name": "stdout",
          "text": [
            "./a100_report_cpu_concurrency_gpu.ncu-rep\n",
            "./a100_report_cpu_concurrency_gpu.nsys-rep\n",
            "./a100_report_cpu_gpu.ncu-rep\n",
            "./a100_report_cpu_gpu.nsys-rep\n",
            "./a100_report_cpu_gpu_readfile.ncu-rep\n",
            "./a100_report_cpu_gpu_readfile.nsys-rep\n",
            "./a100_report_gpu_cudf_strings.ncu-rep\n",
            "./a100_report_gpu_cudf_strings.nsys-rep\n",
            "-rw-r--r-- 1 root  66M Nov 10 15:03 a100_gpu_topk_ncu_nsys_profile.tar.gz\n",
            "-rw-r--r-- 1 root  29M Nov 10 07:23 a100_report_cpu_concurrency_gpu.ncu-rep\n",
            "-rw-rw-r-- 1 root  11M Nov 10 07:21 a100_report_cpu_concurrency_gpu.nsys-rep\n",
            "-rw-r--r-- 1 root 2.6M Nov 10 07:16 a100_report_cpu_gpu.ncu-rep\n",
            "-rw-rw-r-- 1 root 5.8M Nov 10 07:15 a100_report_cpu_gpu.nsys-rep\n",
            "-rw-r--r-- 1 root 229M Nov 10 14:23 a100_report_cpu_gpu_readfile.ncu-rep\n",
            "-rw-rw-r-- 1 root 583K Nov 10 14:11 a100_report_cpu_gpu_readfile.nsys-rep\n",
            "-rw-r--r-- 1 root 253M Nov 10 14:37 a100_report_gpu_cudf_strings.ncu-rep\n",
            "-rw-rw-r-- 1 root 621K Nov 10 14:37 a100_report_gpu_cudf_strings.nsys-rep\n"
          ]
        }
      ]
    }
  ]
}