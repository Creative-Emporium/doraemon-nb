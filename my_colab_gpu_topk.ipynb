{
  "nbformat": 4,
  "nbformat_minor": 0,
  "metadata": {
    "colab": {
      "provenance": [],
      "gpuType": "T4",
      "authorship_tag": "ABX9TyOt/m57W4JtqYG+JEA4lxiX",
      "include_colab_link": true
    },
    "kernelspec": {
      "name": "python3",
      "display_name": "Python 3"
    },
    "language_info": {
      "name": "python"
    },
    "accelerator": "GPU"
  },
  "cells": [
    {
      "cell_type": "markdown",
      "metadata": {
        "id": "view-in-github",
        "colab_type": "text"
      },
      "source": [
        "<a href=\"https://colab.research.google.com/github/weedge/doraemon-nb/blob/main/my_colab_gpu_topk.ipynb\" target=\"_parent\"><img src=\"https://colab.research.google.com/assets/colab-badge.svg\" alt=\"Open In Colab\"/></a>"
      ]
    },
    {
      "cell_type": "markdown",
      "source": [
        "# task\n",
        "1.给定850万条规模的数据文件，每条数据是最大128维度的整型id向量 （称为doc），id取值范围是0-50000，给定一个最大128维的整型id向量（称为query），求query与doc全集内各数据的交集个数topk（k=100）\n",
        "\n",
        "# reference\n",
        "1. https://www.youtube.com/watch?v=cOBtkPsgkus\n",
        "2. https://raw.githubusercontent.com/cteqeu/HAC/main/GPU/cuda_profile.cu\n",
        "3. https://docs.nvidia.com/cuda/cuda-runtime-api/index.html\n",
        "4. https://docs.nvidia.com/cuda/cuda-c-programming-guide/index.html\n",
        "5. https://docs.nvidia.com/cuda/cuda-c-best-practices-guide/index.html\n",
        "\n"
      ],
      "metadata": {
        "id": "aMdCQaWebOOG"
      }
    },
    {
      "cell_type": "code",
      "source": [
        "!wget https://developer.download.nvidia.com/compute/cuda/repos/ubuntu2204/x86_64/nsight-systems-2023.2.3_2023.2.3.1001-1_amd64.deb\n",
        "!apt update\n",
        "!apt install ./nsight-systems-2023.2.3_2023.2.3.1001-1_amd64.deb\n",
        "!apt --fix-broken install\n"
      ],
      "metadata": {
        "id": "HrBuKvu-ETAp"
      },
      "execution_count": null,
      "outputs": []
    },
    {
      "cell_type": "code",
      "source": [
        "!wget \"https://bj.bcebos.com/v1/ai-studio-online/9805dd2d2e8e472693efac637628e16b9f9c5be0fe30438bb4a80de3b386781a?responseContentDisposition=attachment%3B%20filename%3DSTI2_1017.zip&authorization=bce-auth-v1%2F5cfe9a5e1454405eb2a975c43eace6ec%2F2023-10-18T12%3A42%3A27Z%2F-1%2F%2F6b5388dcd9013bc9b340bb1806476afa938ce0c65f2f595e1a75f529e90e4187\" -O STI2_1017.zip"
      ],
      "metadata": {
        "id": "RaVp3M11Ehkd"
      },
      "execution_count": null,
      "outputs": []
    },
    {
      "cell_type": "code",
      "source": [
        "!rm -rf STI2 && unzip STI2_1017.zip && mv STI2\\ 2 STI2"
      ],
      "metadata": {
        "id": "hncSzwE_Ej_i"
      },
      "execution_count": null,
      "outputs": []
    },
    {
      "cell_type": "code",
      "source": [
        "!sh STI2/build.sh"
      ],
      "metadata": {
        "colab": {
          "base_uri": "https://localhost:8080/"
        },
        "id": "nAUCeZk0EqND",
        "outputId": "b9621df9-23ef-4af8-9364-32bfaf2e72f9"
      },
      "execution_count": 4,
      "outputs": [
        {
          "output_type": "stream",
          "name": "stdout",
          "text": [
            "build success\n"
          ]
        }
      ]
    },
    {
      "cell_type": "markdown",
      "source": [
        "### just dev/test with colab vim IDE ❤ 🐑 🐑 🐑"
      ],
      "metadata": {
        "id": "puvz3VbkcZW1"
      }
    },
    {
      "cell_type": "code",
      "source": [
        "!mkdir -p querys"
      ],
      "metadata": {
        "id": "Zt7gMH6YHScl"
      },
      "execution_count": 26,
      "outputs": []
    },
    {
      "cell_type": "code",
      "source": [
        "!touch querys/query0.txt"
      ],
      "metadata": {
        "id": "7ReQfKwTHgR-"
      },
      "execution_count": 27,
      "outputs": []
    },
    {
      "cell_type": "code",
      "source": [
        "!rm docs.txt && touch docs.txt"
      ],
      "metadata": {
        "id": "CrYq4B6lPogK"
      },
      "execution_count": 44,
      "outputs": []
    },
    {
      "cell_type": "code",
      "source": [
        "!nvcc STI2/src/main.cpp STI2/src/topk.cu -o ./query_doc_scoring  -I STI2/src -L/usr/local/cuda/lib64 -lcudart -lcuda  -O3 -g"
      ],
      "metadata": {
        "id": "G2jCNhgEFaLz"
      },
      "execution_count": 78,
      "outputs": []
    },
    {
      "cell_type": "code",
      "source": [
        "!./query_doc_scoring ./docs.txt ./querys ./res.txt"
      ],
      "metadata": {
        "id": "7KmDKnXfIAXp",
        "colab": {
          "base_uri": "https://localhost:8080/"
        },
        "outputId": "2003a4fa-4b66-408c-f15a-277046e651e1"
      },
      "execution_count": 71,
      "outputs": [
        {
          "output_type": "stream",
          "name": "stdout",
          "text": [
            "start get topk\n",
            "query0.txt:10\n",
            "query_size: 1\n",
            "doc_size: 21\n",
            "read file cost 0 ms \n",
            "end\n",
            "query_idx:0 \t query_on_shm[query_idx]:10\t j:0\t doc_segment[j]:10\t tmp_score:1.0000000000 \n",
            "query_idx:0 \t query_on_shm[query_idx]:10\t j:0\t doc_segment[j]:10\t tmp_score:1.0000000000 \n",
            "query_idx:0 \t query_on_shm[query_idx]:10\t j:0\t doc_segment[j]:1\t tmp_score:0.0000000000 \n",
            "query_idx:0 \t query_on_shm[query_idx]:10\t j:1\t doc_segment[j]:10\t tmp_score:2.0000000000 \n",
            "query_idx:0 \t query_on_shm[query_idx]:10\t j:1\t doc_segment[j]:10\t tmp_score:1.0000000000 \n",
            "query_idx:0 \t query_on_shm[query_idx]:10\t j:2\t doc_segment[j]:10\t tmp_score:3.0000000000 \n",
            "query_idx:0 \t query_on_shm[query_idx]:10\t j:2\t doc_segment[j]:10\t tmp_score:2.0000000000 \n",
            "query_idx:0 \t query_on_shm[query_idx]:10\t j:3\t doc_segment[j]:1\t tmp_score:2.0000000000 \n",
            "query_idx:0 \t query_on_shm[query_idx]:10\t j:4\t doc_segment[j]:10\t tmp_score:3.0000000000 \n",
            "doc_id:0\t scores[doc_id]:1.0000000000\t tmp_score:1.0000000000\t query_len:1\t doc_lens[doc_id]:1\n",
            "doc_id:2\t scores[doc_id]:1.0000000000\t tmp_score:3.0000000000\t query_len:1\t doc_lens[doc_id]:3\n",
            "doc_id:4\t scores[doc_id]:0.6000000238\t tmp_score:3.0000000000\t query_len:1\t doc_lens[doc_id]:5\n",
            "cudaDeviceSynchronize end\n",
            "cudaDeviceSynchronize end\n",
            "1\t0\t1\t0\t0.6\t0\t0\t0\t0\t0\t0\t0\t0\t0\t0\t0\t0\t0\t0\t0\t0\t\n",
            "idx_size:21\n",
            "size:10\n",
            "ok\n",
            "topk cost 222 ms \n",
            "all cost 223 ms \n",
            "end get topk\n"
          ]
        }
      ]
    },
    {
      "cell_type": "code",
      "source": [
        "!cat res.txt"
      ],
      "metadata": {
        "colab": {
          "base_uri": "https://localhost:8080/"
        },
        "id": "rPAgtl7tR91K",
        "outputId": "52a53195-e547-4674-f76f-96b40285cbc0"
      },
      "execution_count": 72,
      "outputs": [
        {
          "output_type": "stream",
          "name": "stdout",
          "text": [
            "222\n",
            "0\t2\t4\t1\t3\t5\t6\t7\t8\t9\n"
          ]
        }
      ]
    },
    {
      "cell_type": "code",
      "source": [
        "!cat STI2/src/{main.cpp,topk.cu,topk.h}"
      ],
      "metadata": {
        "colab": {
          "base_uri": "https://localhost:8080/"
        },
        "id": "WSKopD7va7ZB",
        "outputId": "e6a77f43-3b74-44ad-d2c7-577fbe79769f"
      },
      "execution_count": 74,
      "outputs": [
        {
          "output_type": "stream",
          "name": "stdout",
          "text": [
            "/*\n",
            " * SPDX-FileCopyrightText: Copyright (c) <year> NVIDIA CORPORATION & AFFILIATES. All rights reserved.\n",
            " * SPDX-License-Identifier: LicenseRef-NvidiaProprietary\n",
            " *\n",
            " * NVIDIA CORPORATION, its affiliates and licensors retain all intellectual\n",
            " * property and proprietary rights in and to this material, related\n",
            " * documentation and any modifications thereto. Any use, reproduction,\n",
            " * disclosure or distribution of this material and related documentation\n",
            " * without an express license agreement from NVIDIA CORPORATION or\n",
            " * its affiliates is strictly prohibited.\n",
            " */\n",
            "\n",
            "#include <cuda.h>\n",
            "#include <chrono>\n",
            "#include <vector>\n",
            "#include <random>\n",
            "#include <cassert>\n",
            "#include <fstream>\n",
            "#include <sstream>\n",
            "#include <iostream>\n",
            "#include <algorithm>\n",
            "#include <sys/time.h>\n",
            "#include <stdio.h>\n",
            "#include <dirent.h>\n",
            "#include \"topk.h\"\n",
            "#include <sys/stat.h>\n",
            "\n",
            "std::vector<std::string> getFilesInDirectory(const std::string& directory)\n",
            "{\n",
            "    std::vector<std::string> files;\n",
            "    DIR* dirp = opendir(directory.c_str());\n",
            "    struct dirent * dp;\n",
            "    while ((dp = readdir(dirp)) != NULL) {\n",
            "        struct stat path_stat;\n",
            "        stat((directory + \"/\" + dp->d_name).c_str(), &path_stat);\n",
            "        if (S_ISREG(path_stat.st_mode)) // Check if it's a regular file - not a directory\n",
            "            files.push_back(dp->d_name);\n",
            "    }\n",
            "    closedir(dirp);\n",
            "    std::sort(files.begin(), files.end()); // sort the files\n",
            "    return files;\n",
            "}\n",
            "\n",
            "struct UserSpecifiedInput\n",
            "{\n",
            "    int n_docs;\n",
            "    std::vector<std::vector<uint16_t>> querys;\n",
            "    std::vector<std::vector<uint16_t>> docs;\n",
            "    std::vector<uint16_t> doc_lens;\n",
            "\n",
            "    UserSpecifiedInput(std::string qf, std::string df) {\n",
            "        load(qf, df);\n",
            "    }\n",
            "\n",
            "    void load(std::string query_file_dir, std::string docs_file_name) {\n",
            "        std::stringstream ss;\n",
            "        std::string tmp_str;\n",
            "        std::string tmp_index_str;\n",
            "\n",
            "        std::vector<std::string> files = getFilesInDirectory(query_file_dir);\n",
            "        for(const auto& query_file_name: files)\n",
            "        {\n",
            "            std::vector<uint16_t> single_query;\n",
            "\n",
            "            std::ifstream query_file(query_file_dir + \"/\" + query_file_name);\n",
            "            while (std::getline(query_file, tmp_str)) {\n",
            "                ss.clear();\n",
            "                ss << tmp_str;\n",
            "                std::cout << query_file_name << \":\" << tmp_str << std::endl;\n",
            "                while (std::getline(ss, tmp_index_str, ',')) {\n",
            "                    single_query.emplace_back(std::stoi(tmp_index_str));\n",
            "                }\n",
            "            }\n",
            "            query_file.close();\n",
            "            ss.clear();\n",
            "            std::sort(single_query.begin(), single_query.end()); // pre-sort the query\n",
            "            querys.emplace_back(single_query);\n",
            "        }\n",
            "        std::cout << \"query_size: \" << querys.size() << std::endl;\n",
            "\n",
            "        std::ifstream docs_file(docs_file_name);\n",
            "        while (std::getline(docs_file, tmp_str)) {\n",
            "            std::vector<uint16_t> next_doc;\n",
            "            ss.clear();\n",
            "            ss << tmp_str;\n",
            "            while (std::getline(ss, tmp_index_str, ',')) {\n",
            "                next_doc.emplace_back(std::stoi(tmp_index_str));\n",
            "            }\n",
            "            docs.emplace_back(next_doc);\n",
            "            doc_lens.emplace_back(next_doc.size());\n",
            "        }\n",
            "        docs_file.close();\n",
            "        ss.clear();\n",
            "        n_docs = docs.size();\n",
            "        std::cout << \"doc_size: \" << docs.size() << std::endl;\n",
            "    }\n",
            "};\n",
            "\n",
            "int main(int argc, char *argv[])\n",
            "{    \n",
            "    \n",
            "    if (argc != 4) {\n",
            "        std::cout << \"Usage: query_doc_scoring.bin <doc_file_name> <query_file_name> <output_filename>\" << std::endl;\n",
            "        return -1;\n",
            "    }\n",
            "    std::string doc_file_name = argv[1];;\n",
            "    std::string query_file_dir = argv[2];;\n",
            "    std::string output_file = argv[3];\n",
            "\n",
            "    std::cout << \"start get topk\" << std::endl;\n",
            "\n",
            "    // �文件\n",
            "    std::chrono::high_resolution_clock::time_point t1 = std::chrono::high_resolution_clock::now();\n",
            "    UserSpecifiedInput inputs(query_file_dir, doc_file_name);\n",
            "    std::vector<std::vector<int>> indices;\n",
            "    std::chrono::high_resolution_clock::time_point t2 = std::chrono::high_resolution_clock::now();\n",
            "    std::cout << \"read file cost \" << std::chrono::duration_cast<std::chrono::milliseconds>(t2 - t1).count() << \" ms \" << std::endl;\n",
            "\n",
            "    // 计算得分\n",
            "    doc_query_scoring_gpu_function(inputs.querys, inputs.docs, inputs.doc_lens, indices);\n",
            "    \n",
            "    std::chrono::high_resolution_clock::time_point t3 = std::chrono::high_resolution_clock::now();\n",
            "    std::cout << \"topk cost \" << std::chrono::duration_cast<std::chrono::milliseconds>(t3 - t2).count() << \" ms \" << std::endl;\n",
            "\n",
            "    // get total time\n",
            "    std::chrono::milliseconds total_time = std::chrono::duration_cast<std::chrono::milliseconds>(t3 - t1);\n",
            "    // write result data\n",
            "    std::ofstream ofs;\n",
            "    ofs.open(output_file, std::ios::out);\n",
            "    // first line topk cost time in ms\n",
            "    ofs << std::chrono::duration_cast<std::chrono::milliseconds>(t3 - t2).count()  << std::endl;\n",
            "    // topk index\n",
            "    for (auto& s_indices : indices) { //makesure indices.size() == querys.size()\n",
            "        for(size_t i = 0; i < s_indices.size(); ++i)\n",
            "        {\n",
            "            ofs << s_indices[i];\n",
            "            if(i != s_indices.size() - 1) // if not the last element\n",
            "                ofs << \"\\t\";\n",
            "        }\n",
            "        ofs << \"\\n\";\n",
            "    }\n",
            "    ofs.close();\n",
            "\n",
            "    std::cout << \"all cost \" << total_time.count() << \" ms \" << std::endl;\n",
            "    std::cout << \"end get topk\" << std::endl;\n",
            "    return 0;\n",
            "}\n",
            "\n",
            "#include \"topk.h\"\n",
            "\n",
            "typedef uint4 group_t; // uint32_t\n",
            "\n",
            "void test()\n",
            "{\n",
            "    std::cout<<\"sizeof(group_t) \"<<sizeof(group_t)<< \" sizeof(uint16_t) \" << sizeof(uint16_t) <<\"\\t\"<< sizeof(group_t) / sizeof(uint16_t)<<std::endl;\n",
            "}\n",
            "\n",
            "void __global__ docQueryScoringCoalescedMemoryAccessSampleKernel(\n",
            "        const __restrict__ uint16_t *docs, \n",
            "        const int *doc_lens, const size_t n_docs, \n",
            "        uint16_t *query, const int query_len, float *scores) {\n",
            "    // each thread process one doc-query pair scoring task\n",
            "    register auto tid = blockIdx.x * blockDim.x + threadIdx.x, tnum = gridDim.x * blockDim.x;\n",
            "\n",
            "    if (tid >= n_docs) {\n",
            "        return;\n",
            "    }\n",
            "\n",
            "    __shared__ uint16_t query_on_shm[MAX_QUERY_SIZE];\n",
            "#pragma unroll\n",
            "    for (auto i = threadIdx.x; i < query_len; i += blockDim.x) {\n",
            "        query_on_shm[i] = query[i]; // not very efficient query loading temporally, as assuming its not hotspot\n",
            "    }\n",
            "\n",
            "    __syncthreads();\n",
            "\n",
            "    for (auto doc_id = tid; doc_id < n_docs; doc_id += tnum) {\n",
            "        register int query_idx = 0;\n",
            "\n",
            "        register float tmp_score = 0.;\n",
            "\n",
            "        register bool no_more_load = false;\n",
            "        for (auto i = 0; i < MAX_DOC_SIZE / (sizeof(group_t) / sizeof(uint16_t)); i++) {\n",
            "            if (no_more_load) {\n",
            "                break;\n",
            "            }\n",
            "            register group_t loaded = ((group_t *)docs)[i * n_docs + doc_id]; // tid\n",
            "            register uint16_t *doc_segment = (uint16_t*)(&loaded);\n",
            "            for (auto j = 0; j < sizeof(group_t) / sizeof(uint16_t); j++) {\n",
            "                if (doc_segment[j] == 0) {\n",
            "                    no_more_load = true;\n",
            "                    break;\n",
            "                    // return;\n",
            "                }\n",
            "                while (query_idx < query_len && query_on_shm[query_idx] < doc_segment[j]) {\n",
            "                    ++query_idx;\n",
            "                }\n",
            "                if (query_idx < query_len) { \n",
            "                    tmp_score += (query_on_shm[query_idx] == doc_segment[j]);\n",
            "                    printf(\"query_idx:%d \\t query_on_shm[query_idx]:%d\\t j:%d\\t doc_segment[j]:%d\\t tmp_score:%.10f \\n\",\n",
            "                      query_idx,query_on_shm[query_idx],j,doc_segment[j],tmp_score);\n",
            "                }\n",
            "            }\n",
            "            __syncwarp();\n",
            "        }\n",
            "        scores[doc_id] = tmp_score / max(query_len, doc_lens[doc_id]); // tid\n",
            "        if (scores[doc_id]>0.0){\n",
            "          printf(\"doc_id:%d\\t scores[doc_id]:%.10f\\t tmp_score:%.10f\\t query_len:%d\\t doc_lens[doc_id]:%d\\n\",\n",
            "            doc_id,scores[doc_id],tmp_score, query_len, doc_lens[doc_id]);\n",
            "        }\n",
            "        \n",
            "    }\n",
            "}\n",
            "\n",
            "void doc_query_scoring_gpu_function(std::vector<std::vector<uint16_t>> &querys,\n",
            "    std::vector<std::vector<uint16_t>> &docs,\n",
            "    std::vector<uint16_t> &lens,\n",
            "    std::vector<std::vector<int>> &indices //shape [querys.size(), TOPK]\n",
            "    ) {\n",
            "\n",
            "    auto n_docs = docs.size();\n",
            "    std::vector<float> scores(n_docs);\n",
            "    std::vector<int> s_indices(n_docs);\n",
            "\n",
            "    float *d_scores = nullptr;\n",
            "    uint16_t *d_docs = nullptr, *d_query = nullptr;\n",
            "    int *d_doc_lens = nullptr;\n",
            "\n",
            "    // copy to device\n",
            "    cudaMalloc(&d_docs, sizeof(uint16_t) * MAX_DOC_SIZE * n_docs);\n",
            "    cudaMalloc(&d_scores, sizeof(float) * n_docs);\n",
            "    cudaMalloc(&d_doc_lens, sizeof(int) * n_docs);\n",
            "\n",
            "    uint16_t *h_docs = new uint16_t[MAX_DOC_SIZE * n_docs];\n",
            "    memset(h_docs, 0, sizeof(uint16_t) * MAX_DOC_SIZE * n_docs);\n",
            "    std::vector<int> h_doc_lens_vec(n_docs);\n",
            "    for (int i = 0; i < docs.size(); i++) {\n",
            "        for (int j = 0; j < docs[i].size(); j++) {\n",
            "            auto group_sz = sizeof(group_t) / sizeof(uint16_t);\n",
            "            auto layer_0_offset = j / group_sz;\n",
            "            auto layer_0_stride = n_docs * group_sz;\n",
            "            auto layer_1_offset = i;\n",
            "            auto layer_1_stride = group_sz;\n",
            "            auto layer_2_offset = j % group_sz;\n",
            "            auto final_offset = layer_0_offset * layer_0_stride + layer_1_offset * layer_1_stride + layer_2_offset;\n",
            "            h_docs[final_offset] = docs[i][j];\n",
            "        }\n",
            "        h_doc_lens_vec[i] = docs[i].size();\n",
            "    }\n",
            "\n",
            "    cudaMemcpy(d_docs, h_docs, sizeof(uint16_t) * MAX_DOC_SIZE * n_docs, cudaMemcpyHostToDevice);\n",
            "    cudaMemcpy(d_doc_lens, h_doc_lens_vec.data(), sizeof(int) * n_docs, cudaMemcpyHostToDevice);\n",
            "\n",
            "    cudaDeviceProp device_props;\n",
            "    cudaGetDeviceProperties(&device_props, 0);\n",
            "\n",
            "    cudaSetDevice(0);\n",
            "\n",
            "    for(auto& query : querys) {\n",
            "        //init indices\n",
            "        for (int i = 0; i < n_docs; ++i) {\n",
            "            s_indices[i] = i;\n",
            "        }\n",
            "\n",
            "        const size_t query_len = query.size();\n",
            "        cudaMalloc(&d_query, sizeof(uint16_t) * query_len);\n",
            "        cudaMemcpy(d_query, query.data(), sizeof(uint16_t) * query_len, cudaMemcpyHostToDevice);\n",
            "\n",
            "        // launch kernel\n",
            "        int block = N_THREADS_IN_ONE_BLOCK;\n",
            "        int grid = (n_docs + block - 1) / block;\n",
            "        \n",
            "        docQueryScoringCoalescedMemoryAccessSampleKernel<<<grid, block>>>(d_docs,\n",
            "            d_doc_lens, n_docs, d_query, query_len, d_scores);\n",
            "        std::cout<<\"end\"<<std::endl;\n",
            "        cudaDeviceSynchronize();\n",
            "        std::cout<<\"cudaDeviceSynchronize end\"<<std::endl;\n",
            "\n",
            "        cudaMemcpy(scores.data(), d_scores, sizeof(float) * n_docs, cudaMemcpyDeviceToHost);\n",
            "        std::cout<<\"cudaDeviceSynchronize end\"<<std::endl;\n",
            "        for (float s : scores){\n",
            "          std::cout<<s<<\"\\t\";\n",
            "        }\n",
            "\n",
            "        std::cout<<std::endl<<\"idx_size:\"<<s_indices.size()<<std::endl;\n",
            "\n",
            "\n",
            "        // sort scores\n",
            "        std::partial_sort(s_indices.begin(), s_indices.begin() + 10, s_indices.end(),\n",
            "                        [&scores](const int& a, const int& b) {\n",
            "                            if (scores[a] != scores[b]) {\n",
            "                                return scores[a] > scores[b];  // 按照分数降序排序\n",
            "                            }\n",
            "                            return a < b;  // 如果分数相同，按索引从小到大排序\n",
            "                    });\n",
            "        std::vector<int> s_ans(s_indices.begin(), s_indices.begin() + 10);\n",
            "        indices.push_back(s_ans);\n",
            "\n",
            "        cudaFree(d_query);\n",
            "    }\n",
            "\n",
            "    // deallocation\n",
            "    cudaFree(d_docs);\n",
            "    //cudaFree(d_query);\n",
            "    cudaFree(d_scores);\n",
            "    cudaFree(d_doc_lens);\n",
            "    free(h_docs);\n",
            "\n",
            "}\n",
            "#pragma once\n",
            "#include <iostream>\n",
            "#include <algorithm>\n",
            "#include <vector>\n",
            "#include <cuda.h>\n",
            "\n",
            "#define MAX_DOC_SIZE 128\n",
            "#define MAX_QUERY_SIZE 4096\n",
            "#define N_THREADS_IN_ONE_BLOCK 512\n",
            "#define TOPK 100\n",
            "\n",
            "void doc_query_scoring_gpu_function(std::vector<std::vector<uint16_t>> &query,\n",
            "    std::vector<std::vector<uint16_t>> &docs,\n",
            "    std::vector<uint16_t> &lens,\n",
            "    std::vector<std::vector<int>> &indices);\n",
            "\n",
            "void test();"
          ]
        }
      ]
    },
    {
      "cell_type": "code",
      "source": [
        "!cat ./querys/query0.txt  ./docs.txt ./res.txt"
      ],
      "metadata": {
        "colab": {
          "base_uri": "https://localhost:8080/"
        },
        "id": "TWS9oeE-dS7W",
        "outputId": "86cbd445-6370-40a4-f0fc-46bbf4af5b84"
      },
      "execution_count": 77,
      "outputs": [
        {
          "output_type": "stream",
          "name": "stdout",
          "text": [
            "10\n",
            "10\n",
            "1812,3,4,10,1,4\n",
            "10,10,10\n",
            "42,12,11,10,3,4\n",
            "1,10,10,1,10\n",
            "49,10,4,5\n",
            "2224\n",
            "41031\n",
            "13\n",
            "1408\n",
            "40206\n",
            "21, 22, 23, 25, 26, 27, 29, 1711, 1757, 1841, 1910, 1967, 1971, 1991, 2005, 2051, 2059, 2079, 2117, 2128, 2141, 2188, 2306, 2352, 2453, 2470, 2516, 2518, 2562, 2564, 2573, 2631, 2649, 2650, 2656, 2658, 2682, 2721, 2725, 2730, 2751, 2753, 2756, 2835, 2870, 2875, 2886, 2928, 2954, 3010, 3034, 3035, 3037, 3054, 3110, 3114, 3138, 3156, 3167, 3221, 3248, 3250, 3254, 3273, 3274, 3284, 3294, 3318, 3330, 3342, 3363, 3374, 3427, 3452, 3468, 3472, 3491, 3503, 3530, 3535, 3553, 3588, 3596, 3609, 3667, 3682, 3689, 3719, 3722, 3735, 3752, 3771, 3781, 3793, 3831, 3859, 3883, 3887, 3932, 4021, 4055, 4084, 4098, 4238, 4262, 4295, 4299, 4373, 4499, 4626, 4650, 4791, 4796, 4813, 4848, 5060, 5088, 5174, 5278, 5463, 5776, 22466, 22471, 22482, 30054, 33641, 39222\n",
            "21, 22, 23, 25, 26, 27, 29, 1660, 1668, 1711, 1834, 1841, 1967, 1971, 1991, 2005, 2051, 2059, 2079, 2117, 2188, 2286, 2306, 2352, 2453, 2516, 2518, 2520, 2562, 2564, 2573, 2649, 2650, 2656, 2658, 2682, 2721, 2730, 2751, 2753, 2763, 2835, 2870, 2875, 2886, 2928, 2954, 2997, 3010, 3035, 3037, 3054, 3110, 3114, 3138, 3156, 3167, 3221, 3242, 3248, 3250, 3273, 3274, 3284, 3294, 3330, 3342, 3374, 3427, 3452, 3468, 3472, 3491, 3503, 3518, 3530, 3535, 3553, 3588, 3596, 3609, 3667, 3682, 3689, 3719, 3722, 3752, 3771, 3781, 3793, 3831, 3859, 3883, 3887, 3932, 4006, 4021, 4038, 4055, 4084, 4098, 4119, 4238, 4262, 4295, 4499, 4626, 4791, 4796, 4813, 4848, 4883, 4940, 5060, 5088, 5278, 5463, 6716, 22466, 22471, 22482, 30054, 31293, 33641, 37331, 39222, 39839\n",
            "20, 21, 22, 23, 25, 28, 29, 1597, 1711, 1796, 1798, 1995, 2021, 2093, 2207, 2243, 2291, 2311, 2454, 2527, 2592, 2629, 2663, 2691, 2693, 2700, 2701, 2703, 2805, 2846, 2847, 2909, 2914, 2918, 2959, 2964, 2997, 3004, 3029, 3083, 3130, 3136, 3162, 3181, 3260, 3290, 3308, 3314, 3337, 3355, 3359, 3372, 3423, 3484, 3496, 3523, 3591, 3598, 3623, 3655, 3702, 3705, 3741, 3787, 3792, 3801, 3807, 3832, 3847, 3848, 3849, 3866, 3916, 3958, 3991, 4022, 4029, 4047, 4051, 4113, 4132, 4142, 4171, 4173, 4237, 4246, 4257, 4268, 4283, 4291, 4324, 4361, 4370, 4381, 4383, 4458, 4479, 4496, 4510, 4560, 4571, 4590, 4603, 4608, 4659, 4756, 4810, 4818, 4853, 4929, 5064, 5085, 5101, 5176, 5200, 5229, 5282, 5424, 5567, 5609, 5909, 6010, 6047, 6447, 33641, 37867, 38843\n",
            "21, 22, 23, 25, 28, 29, 1711, 1765, 1796, 1798, 1995, 2021, 2093, 2207, 2243, 2291, 2454, 2527, 2592, 2629, 2663, 2693, 2700, 2701, 2703, 2805, 2846, 2847, 2909, 2918, 2959, 2964, 2997, 3004, 3029, 3083, 3130, 3136, 3162, 3181, 3260, 3290, 3308, 3314, 3337, 3355, 3359, 3372, 3423, 3484, 3496, 3523, 3591, 3598, 3623, 3655, 3705, 3741, 3787, 3801, 3807, 3832, 3847, 3848, 3849, 3866, 3916, 3958, 3991, 4022, 4029, 4047, 4051, 4113, 4132, 4142, 4171, 4237, 4246, 4257, 4268, 4283, 4291, 4324, 4361, 4370, 4381, 4383, 4458, 4479, 4496, 4510, 4560, 4571, 4590, 4603, 4608, 4659, 4756, 4810, 4818, 4853, 4929, 5064, 5085, 5101, 5176, 5200, 5229, 5282, 5308, 5424, 5567, 5609, 5909, 6010, 6047, 6447, 22466, 22468, 22471, 22472, 22479, 22485, 33641, 37867, 38843\n",
            "21, 23, 30, 1561, 1767, 1948, 1997, 2143, 2184, 2211, 2214, 2217, 2228, 2287, 2405, 2428, 2442, 2452, 2458, 2467, 2513, 2664, 2675, 2694, 2731, 2763, 2768, 2784, 2793, 2795, 2810, 2816, 2828, 2829, 2856, 2880, 2884, 2908, 2912, 2923, 2924, 2941, 2983, 3025, 3031, 3061, 3143, 3204, 3208, 3210, 3236, 3240, 3280, 3304, 3362, 3407, 3436, 3439, 3443, 3458, 3459, 3493, 3509, 3534, 3539, 3556, 3564, 3648, 3661, 3676, 3727, 3795, 3797, 3814, 3838, 3879, 3947, 3978, 3983, 4005, 4063, 4077, 4108, 4110, 4144, 4232, 4239, 4245, 4260, 4263, 4314, 4315, 4328, 4362, 4376, 4377, 4380, 4452, 4466, 4570, 4578, 4592, 4677, 4739, 4769, 4785, 4834, 4898, 4931, 5000, 5049, 5166, 5304, 5386, 5535, 5699, 5729, 5777, 5844, 6070, 6294, 6751, 6875, 30860, 32024, 33280, 35784\n",
            "21, 22, 23, 25, 26, 27, 29, 1664, 1676, 1701, 1711, 1800, 1811, 1821, 1833, 1863, 1865, 1888, 1900, 1901, 1933, 1949, 1999, 2003, 2022, 2056, 2071, 2078, 2136, 2148, 2159, 2208, 2226, 2254, 2265, 2270, 2277, 2280, 2294, 2303, 2329, 2340, 2356, 2397, 2470, 2473, 2494, 2531, 2553, 2566, 2609, 2674, 2676, 2736, 2740, 2776, 2778, 2785, 2786, 2801, 2806, 2815, 2914, 2951, 2978, 2995, 3016, 3020, 3062, 3131, 3137, 3215, 3227, 3258, 3266, 3267, 3316, 3317, 3358, 3387, 3460, 3463, 3479, 3497, 3590, 3607, 3656, 3662, 3663, 3668, 3675, 3683, 3784, 3882, 3904, 3906, 3938, 3948, 3995, 4000, 4067, 4207, 4432, 4649, 4697, 4998, 5542, 5611, 5652, 22466, 22471, 22482, 22485, 30127, 30147, 30949, 31900, 31933, 31950, 32656, 32812, 33641, 33823, 34707, 35412, 36760, 38111\n",
            "12, 24, 1561, 1568, 1583, 1597, 1711, 1724, 1796, 1798, 1801, 1862, 1875, 1886, 1910, 1995, 2021, 2075, 2093, 2243, 2291, 2311, 2318, 2454, 2493, 2504, 2526, 2527, 2592, 2597, 2618, 2629, 2663, 2691, 2693, 2700, 2701, 2703, 2776, 2805, 2847, 2909, 2918, 2959, 2964, 3004, 3029, 3083, 3130, 3136, 3162, 3181, 3260, 3294, 3308, 3337, 3355, 3359, 3361, 3372, 3423, 3484, 3496, 3523, 3572, 3591, 3598, 3623, 3651, 3655, 3673, 3702, 3705, 3741, 3792, 3801, 3807, 3832, 3847, 3849, 3866, 3991, 4029, 4047, 4051, 4113, 4132, 4142, 4171, 4173, 4237, 4268, 4283, 4370, 4381, 4458, 4479, 4496, 4510, 4571, 4590, 4608, 4659, 4756, 4810, 4818, 4853, 4929, 5064, 5085, 5101, 5199, 5229, 5424, 5567, 5609, 5909, 22466, 22468, 22471, 22472, 22479, 22485, 22546, 33641, 38843, 40740\n",
            "13, 21, 22, 23, 28, 29, 51, 1711, 1796, 1798, 1995, 2021, 2093, 2207, 2243, 2291, 2454, 2527, 2592, 2629, 2663, 2691, 2693, 2700, 2701, 2703, 2805, 2846, 2847, 2909, 2918, 2959, 2964, 2997, 3004, 3083, 3130, 3136, 3162, 3181, 3260, 3290, 3308, 3314, 3355, 3372, 3423, 3484, 3496, 3523, 3591, 3598, 3623, 3655, 3702, 3705, 3741, 3787, 3792, 3801, 3807, 3832, 3847, 3848, 3849, 3866, 3916, 3958, 3991, 4022, 4029, 4047, 4051, 4113, 4132, 4142, 4171, 4173, 4237, 4246, 4257, 4268, 4283, 4291, 4324, 4361, 4370, 4381, 4383, 4458, 4479, 4496, 4510, 4560, 4571, 4590, 4603, 4608, 4659, 4756, 4810, 4818, 4853, 4929, 5064, 5085, 5101, 5176, 5200, 5229, 5282, 5308, 5424, 5567, 5609, 5909, 6010, 6047, 22466, 22468, 22471, 22472, 22479, 22485, 22586, 33641, 37867\n",
            "42, 61, 1388, 1389, 1559, 1560, 1577, 1579, 1583, 1615, 1662, 1794, 1869, 1879, 1890, 2007, 2064, 2070, 2072, 2105, 2134, 2146, 2195, 2199, 2508, 2651, 2775, 2828, 3216, 3419, 3650, 4190, 22735, 23470, 23749, 23809, 24032, 24148, 24185, 24282, 24679, 24921, 25145, 25255, 25451, 25870, 26000, 26007, 26013, 26023, 26054, 26061, 26077, 26081, 26086, 26090, 26095, 26114, 26307, 26327, 26408, 26435, 26548, 26639, 26816, 26900, 28038, 28175, 28269, 28274, 28477, 30055, 31744, 40036, 40209, 40366, 40519, 40995, 41035, 41533, 41788, 41838, 41881, 41988, 42039, 42117, 42198, 42699, 42879, 42971, 43109, 43249, 43334, 43379, 43389, 43422, 43582, 43674, 43682, 43710, 43858, 43873, 44448, 44590, 45155, 45415, 45663, 45682, 45825, 45991, 46092, 46289, 46409, 46482, 46852, 46934, 47489, 47940, 48025, 48028, 48100, 48215, 48236, 48806, 48960, 49424, 49510\n",
            "1690, 1711, 1747, 1767, 1818, 1920, 1948, 2037, 2143, 2211, 2214, 2228, 2266, 2287, 2405, 2428, 2442, 2444, 2452, 2467, 2508, 2513, 2530, 2592, 2618, 2664, 2675, 2694, 2731, 2763, 2768, 2784, 2795, 2810, 2816, 2828, 2829, 2856, 2884, 2908, 2912, 2923, 2941, 2983, 3086, 3143, 3204, 3208, 3210, 3216, 3233, 3236, 3280, 3362, 3407, 3436, 3439, 3458, 3459, 3462, 3493, 3509, 3534, 3556, 3564, 3581, 3602, 3648, 3727, 3795, 3814, 3838, 3841, 3879, 3886, 3978, 3983, 4011, 4108, 4110, 4131, 4144, 4232, 4239, 4245, 4260, 4263, 4287, 4305, 4314, 4328, 4377, 4380, 4466, 4533, 4570, 4739, 4741, 4769, 4785, 4834, 4898, 4899, 4923, 4931, 5000, 5049, 5112, 5166, 5188, 5248, 5304, 5462, 5484, 5522, 5535, 5745, 6119, 6294, 6389, 6751, 6875, 9017, 30860, 32024, 33641, 34183o\n",
            "222\n",
            "0\t2\t4\t1\t3\t5\t6\t7\t8\t9\n"
          ]
        }
      ]
    }
  ]
}