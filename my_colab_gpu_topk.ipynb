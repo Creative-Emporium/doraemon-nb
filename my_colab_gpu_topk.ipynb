{
  "nbformat": 4,
  "nbformat_minor": 0,
  "metadata": {
    "colab": {
      "provenance": [],
      "gpuType": "A100",
      "collapsed_sections": [
        "huFk3o-q4vmb"
      ],
      "machine_shape": "hm",
      "toc_visible": true,
      "authorship_tag": "ABX9TyOD5fG9UVEsg2Y18mRF3WLG",
      "include_colab_link": true
    },
    "kernelspec": {
      "name": "python3",
      "display_name": "Python 3"
    },
    "language_info": {
      "name": "python"
    },
    "accelerator": "GPU"
  },
  "cells": [
    {
      "cell_type": "markdown",
      "metadata": {
        "id": "view-in-github",
        "colab_type": "text"
      },
      "source": [
        "<a href=\"https://colab.research.google.com/github/weedge/doraemon-nb/blob/main/my_colab_gpu_topk.ipynb\" target=\"_parent\"><img src=\"https://colab.research.google.com/assets/colab-badge.svg\" alt=\"Open In Colab\"/></a>"
      ]
    },
    {
      "cell_type": "markdown",
      "source": [
        "# task\n",
        "Given 8.5 million big data files, each data is an integer id vector of up to 128 dimensions (called doc), and the id value range is 0-50000.\n",
        "Given a integer id vector of up to 128 dimensions (called query), the data set can be spread for optimization\n",
        "\n",
        "```shell\n",
        "# Generate test data, has been sorted in ascending order, the default docs file counts one document per line,10 documents; 10 query files\n",
        "make gen\n",
        "```\n",
        "Find the average score topk (k=100) of the number of data intersections in query and doc; Here we define the intersection fraction of item as:\n",
        "query[i] == doc[j] (0<=i<query_size, 0<=j<doc_size) calculates an intersection, the average number of query and doc intersections /max(query_size,doc_size)\n",
        "\n",
        "``` shell\n",
        "./bin/query_doc_scoring <doc_file_name> <query_file_name> <output_filename>\n",
        "```\n",
        "\n",
        "# optimize\n",
        "note: just optimize stand-alone, for dist m/r(fan-out/in) arch to schedule those instances.\n",
        "\n",
        "0. gpu device RR balance by user request\n",
        "1. concurrency(cpu thread pool) + parallel(cpu openMP + gpu warp threads): cpu(baseline) -> cpu thread concurrency -> cpu + gpu -> cpu thread concurrency/parallel + gpu stream concurrency/warp thread parallel => dist\n",
        "2. find or filter: use hashmap/bitmap(bloom) on cpu/gpu global memory or gpu shared memory\n",
        "3. topk sort: heap sort (partial_sort) on cpu -> bitonic/radix sort on gpu parallel topk,then reduce topk to cpu\n",
        "4. search: need build index (list(IVF,skip),tree, graph), orderly struct/model\n",
        "5. SIMD: for cpu arch instruction set (intel cpu sse,avx2,avx512 etc..)\n",
        "6. IO stream pipeline: for r query/docs file, (batch per thread, multibyte_split parallel Accelerators) , w res file\n",
        "7. resources pool\n",
        "\n",
        "# reference\n",
        "- https://docs.nvidia.com/cuda/cuda-c-programming-guide/index.html\n",
        "- https://docs.nvidia.com/cuda/cuda-c-best-practices-guide/index.html\n",
        "- https://docs.nvidia.com/cuda/cuda-compiler-driver-nvcc/index.html\n",
        "- https://docs.nvidia.com/cuda/cuda-runtime-api/index.html\n",
        "- https://docs.nvidia.com/cuda/thrust/index.html\n",
        "- https://arnon.dk/matching-sm-architectures-arch-and-gencode-for-various-nvidia-cards/\n",
        "- https://nvlabs.github.io/cub/index.html\n",
        "- https://stotko.github.io/stdgpu/api/memory.html\n",
        "-\n",
        "- https://www.youtube.com/watch?v=cOBtkPsgkus\n",
        "- **https://www.youtube.com/watch?v=Na9_2G6niMw**\n",
        "-\n",
        "- https://www.csd.uwo.ca/~mmorenom/HPC-Slides/Many_core_computing_with_CUDA.pdf\n",
        "- [Exploring Performance Portability for Accelerators via High-level Parallel Patterns](https://scholar.google.com/citations?view_op=view_citation&hl=en&user=4Ab_NBkAAAAJ&citation_for_view=4Ab_NBkAAAAJ:hqOjcs7Dif8C), [PPT](https://pdfs.semanticscholar.org/b34a/f7c4739d622379fa31a1e88155335061c1b1.pdf)\n",
        "\n",
        "-\n",
        "- https://zhuanlan.zhihu.com/p/52344300\n",
        "-\n",
        "- https://passlab.github.io/OpenMPProgrammingBook/cover.html\n",
        "-\n",
        "\n",
        "- https://developer.nvidia.com/blog/maximizing-performance-with-massively-parallel-hash-maps-on-gpus/\n",
        "\n",
        "- https://github.com/rapidsai/raft/blob/branch-23.12/docs/source/vector_search_tutorial.md\n",
        "\n",
        "\n",
        "## view paper\n",
        "1. [Fast Segmented Sort on GPUs.](https://raw.github.com/weedge/learn/main/gpu/Fast%20Segmented%20Sort%20on%20GPUs.pdf)\n",
        "2. [Efficient Top-K query processing on massively parallel hardware](https://raw.githubusercontent.com/weedge/learn/main/gpu/Efficient%20Top-K%20Query%20Processing%20on%20Massively%20Parallel%20Hardware.pdf)\n",
        "3. [stdgpu: Efficient STL-like Data Structures on the GPU](https://www.researchgate.net/publication/335233070_stdgpu_Efficient_STL-like_Data_Structures_on_the_GPU)\n",
        "4. [Parallel Top-K Algorithms on GPU: A Comprehensive Study and New Methods](https://sc23.supercomputing.org/presentation/?id=pap294&sess=sess156)\n",
        "\n",
        "## view code\n",
        "1. https://github.com/rapidsai/cudf/pull/8702 , https://github.com/rapidsai/cudf/blob/branch-23.12/cpp/tests/io/text/multibyte_split_test.cpp\n",
        "2. https://github.com/vtsynergy/bb_segsort (k/v), https://github.com/Funatiq/bb_segsort (k,k/v)\n",
        "3. https://github.com/anilshanbhag/gpu-topk\n",
        "4. https://github.com/heavyai/heavydb/blob/master/QueryEngine/TopKSort.cu\n",
        "5. https://github.com/rapidsai/raft/blob/branch-23.12/cpp/include/raft/neighbors/detail/cagra/topk_for_cagra/topk_core.cuh\n",
        "6. https://github.com/rapidsai/raft/blob/branch-23.12/cpp/include/raft/matrix/select_k.cuh , https://github.com/rapidsai/raft/blob/branch-23.12/cpp/test/matrix/select_k.cuh"
      ],
      "metadata": {
        "id": "aMdCQaWebOOG"
      }
    },
    {
      "cell_type": "markdown",
      "source": [
        "## run baseline"
      ],
      "metadata": {
        "id": "q1V_7I2dPC5z"
      }
    },
    {
      "cell_type": "code",
      "source": [
        "!python --version"
      ],
      "metadata": {
        "colab": {
          "base_uri": "https://localhost:8080/"
        },
        "id": "H5w7aMon808y",
        "outputId": "d06203c5-fd66-4096-e8b1-d5a9997a585d"
      },
      "execution_count": null,
      "outputs": [
        {
          "output_type": "stream",
          "name": "stdout",
          "text": [
            "Python 3.10.12\n"
          ]
        }
      ]
    },
    {
      "cell_type": "code",
      "source": [
        "!nvcc -h"
      ],
      "metadata": {
        "id": "1Gpjz3MyYeaD"
      },
      "execution_count": null,
      "outputs": []
    },
    {
      "cell_type": "code",
      "source": [
        "!nvidia-smi"
      ],
      "metadata": {
        "colab": {
          "base_uri": "https://localhost:8080/"
        },
        "id": "dmtPt4JhyDMx",
        "outputId": "663b0032-a1cf-4ff0-f09c-da22870f2ca9"
      },
      "execution_count": null,
      "outputs": [
        {
          "output_type": "stream",
          "name": "stdout",
          "text": [
            "Thu Nov  9 03:35:08 2023       \n",
            "+-----------------------------------------------------------------------------+\n",
            "| NVIDIA-SMI 525.105.17   Driver Version: 525.105.17   CUDA Version: 12.0     |\n",
            "|-------------------------------+----------------------+----------------------+\n",
            "| GPU  Name        Persistence-M| Bus-Id        Disp.A | Volatile Uncorr. ECC |\n",
            "| Fan  Temp  Perf  Pwr:Usage/Cap|         Memory-Usage | GPU-Util  Compute M. |\n",
            "|                               |                      |               MIG M. |\n",
            "|===============================+======================+======================|\n",
            "|   0  Tesla V100-SXM2...  Off  | 00000000:00:04.0 Off |                    0 |\n",
            "| N/A   31C    P0    23W / 300W |      0MiB / 16384MiB |      0%      Default |\n",
            "|                               |                      |                  N/A |\n",
            "+-------------------------------+----------------------+----------------------+\n",
            "                                                                               \n",
            "+-----------------------------------------------------------------------------+\n",
            "| Processes:                                                                  |\n",
            "|  GPU   GI   CI        PID   Type   Process name                  GPU Memory |\n",
            "|        ID   ID                                                   Usage      |\n",
            "|=============================================================================|\n",
            "|  No running processes found                                                 |\n",
            "+-----------------------------------------------------------------------------+\n"
          ]
        }
      ]
    },
    {
      "cell_type": "code",
      "source": [
        "!nvidia-smi -q"
      ],
      "metadata": {
        "id": "bse9fRFNxkZI"
      },
      "execution_count": null,
      "outputs": []
    },
    {
      "cell_type": "code",
      "source": [
        "!wget https://developer.download.nvidia.com/compute/cuda/repos/ubuntu2204/x86_64/nsight-systems-2023.2.3_2023.2.3.1001-1_amd64.deb\n",
        "!apt update\n",
        "!apt install ./nsight-systems-2023.2.3_2023.2.3.1001-1_amd64.deb\n",
        "!apt --fix-broken install\n"
      ],
      "metadata": {
        "id": "HrBuKvu-ETAp",
        "colab": {
          "base_uri": "https://localhost:8080/"
        },
        "outputId": "5f17bad4-afa2-4b4f-9b75-fd9325797c36"
      },
      "execution_count": null,
      "outputs": [
        {
          "output_type": "stream",
          "name": "stdout",
          "text": [
            "--2023-11-08 02:18:17--  https://developer.download.nvidia.com/compute/cuda/repos/ubuntu2204/x86_64/nsight-systems-2023.2.3_2023.2.3.1001-1_amd64.deb\n",
            "Resolving developer.download.nvidia.com (developer.download.nvidia.com)... 152.195.19.142\n",
            "Connecting to developer.download.nvidia.com (developer.download.nvidia.com)|152.195.19.142|:443... connected.\n",
            "HTTP request sent, awaiting response... 200 OK\n",
            "Length: 317705436 (303M) [application/x-deb]\n",
            "Saving to: ‘nsight-systems-2023.2.3_2023.2.3.1001-1_amd64.deb’\n",
            "\n",
            "nsight-systems-2023 100%[===================>] 302.99M   106MB/s    in 2.9s    \n",
            "\n",
            "2023-11-08 02:18:20 (106 MB/s) - ‘nsight-systems-2023.2.3_2023.2.3.1001-1_amd64.deb’ saved [317705436/317705436]\n",
            "\n",
            "Get:1 https://cloud.r-project.org/bin/linux/ubuntu jammy-cran40/ InRelease [3,626 B]\n",
            "Hit:2 https://developer.download.nvidia.com/compute/cuda/repos/ubuntu2204/x86_64  InRelease\n",
            "Get:3 http://security.ubuntu.com/ubuntu jammy-security InRelease [110 kB]\n",
            "Get:4 https://ppa.launchpadcontent.net/c2d4u.team/c2d4u4.0+/ubuntu jammy InRelease [18.1 kB]\n",
            "Get:5 http://security.ubuntu.com/ubuntu jammy-security/universe amd64 Packages [1,008 kB]\n",
            "Hit:6 https://ppa.launchpadcontent.net/deadsnakes/ppa/ubuntu jammy InRelease\n",
            "Get:7 http://security.ubuntu.com/ubuntu jammy-security/main amd64 Packages [1,192 kB]\n",
            "Hit:8 https://ppa.launchpadcontent.net/graphics-drivers/ppa/ubuntu jammy InRelease\n",
            "Hit:9 https://ppa.launchpadcontent.net/ubuntugis/ppa/ubuntu jammy InRelease\n",
            "Get:10 https://ppa.launchpadcontent.net/c2d4u.team/c2d4u4.0+/ubuntu jammy/main Sources [2,240 kB]\n",
            "Hit:11 http://archive.ubuntu.com/ubuntu jammy InRelease\n",
            "Get:12 http://archive.ubuntu.com/ubuntu jammy-updates InRelease [119 kB]\n",
            "Get:13 https://ppa.launchpadcontent.net/c2d4u.team/c2d4u4.0+/ubuntu jammy/main amd64 Packages [1,150 kB]\n",
            "Get:14 http://archive.ubuntu.com/ubuntu jammy-backports InRelease [109 kB]\n",
            "Get:15 http://archive.ubuntu.com/ubuntu jammy-updates/universe amd64 Packages [1,274 kB]\n",
            "Get:16 http://archive.ubuntu.com/ubuntu jammy-updates/main amd64 Packages [1,461 kB]\n",
            "Fetched 8,685 kB in 5s (1,887 kB/s)\n",
            "Reading package lists... Done\n",
            "Building dependency tree... Done\n",
            "Reading state information... Done\n",
            "28 packages can be upgraded. Run 'apt list --upgradable' to see them.\n",
            "Reading package lists... Done\n",
            "Building dependency tree... Done\n",
            "Reading state information... Done\n",
            "Note, selecting 'nsight-systems-2023.2.3' instead of './nsight-systems-2023.2.3_2023.2.3.1001-1_amd64.deb'\n",
            "The following additional packages will be installed:\n",
            "  libtinfo5 libxcb-icccm4 libxcb-image0 libxcb-keysyms1 libxcb-render-util0 libxcb-util1\n",
            "  libxcb-xinerama0 libxcb-xinput0 libxcb-xkb1 libxkbcommon-x11-0 libxtst6\n",
            "The following NEW packages will be installed:\n",
            "  libtinfo5 libxcb-icccm4 libxcb-image0 libxcb-keysyms1 libxcb-render-util0 libxcb-util1\n",
            "  libxcb-xinerama0 libxcb-xinput0 libxcb-xkb1 libxkbcommon-x11-0 libxtst6 nsight-systems-2023.2.3\n",
            "0 upgraded, 12 newly installed, 0 to remove and 28 not upgraded.\n",
            "Need to get 318 MB of archives.\n",
            "After this operation, 1,269 kB of additional disk space will be used.\n",
            "Get:1 http://archive.ubuntu.com/ubuntu jammy-updates/universe amd64 libtinfo5 amd64 6.3-2ubuntu0.1 [100 kB]\n",
            "Get:2 http://archive.ubuntu.com/ubuntu jammy/main amd64 libxcb-xinerama0 amd64 1.14-3ubuntu3 [5,414 B]\n",
            "Get:3 http://archive.ubuntu.com/ubuntu jammy/main amd64 libxcb-xinput0 amd64 1.14-3ubuntu3 [34.3 kB]\n",
            "Get:4 http://archive.ubuntu.com/ubuntu jammy/main amd64 libxcb-xkb1 amd64 1.14-3ubuntu3 [32.8 kB]\n",
            "Get:5 http://archive.ubuntu.com/ubuntu jammy/main amd64 libxkbcommon-x11-0 amd64 1.4.0-1 [14.4 kB]\n",
            "Get:6 http://archive.ubuntu.com/ubuntu jammy/main amd64 libxtst6 amd64 2:1.2.3-1build4 [13.4 kB]\n",
            "Get:7 http://archive.ubuntu.com/ubuntu jammy/main amd64 libxcb-icccm4 amd64 0.4.1-1.1build2 [11.5 kB]\n",
            "Get:8 http://archive.ubuntu.com/ubuntu jammy/main amd64 libxcb-util1 amd64 0.4.0-1build2 [11.4 kB]\n",
            "Get:9 http://archive.ubuntu.com/ubuntu jammy/main amd64 libxcb-image0 amd64 0.4.0-2 [11.5 kB]\n",
            "Get:10 http://archive.ubuntu.com/ubuntu jammy/main amd64 libxcb-keysyms1 amd64 0.4.0-1build3 [8,746 B]\n",
            "Get:11 http://archive.ubuntu.com/ubuntu jammy/main amd64 libxcb-render-util0 amd64 0.3.9-1build3 [10.3 kB]\n",
            "Get:12 https://developer.download.nvidia.com/compute/cuda/repos/ubuntu2204/x86_64  nsight-systems-2023.2.3 2023.2.3.1001-32894139v0 [318 MB]\n",
            "Fetched 318 MB in 5min 46s (919 kB/s)\n",
            "Selecting previously unselected package libtinfo5:amd64.\n",
            "(Reading database ... 120874 files and directories currently installed.)\n",
            "Preparing to unpack .../00-libtinfo5_6.3-2ubuntu0.1_amd64.deb ...\n",
            "Unpacking libtinfo5:amd64 (6.3-2ubuntu0.1) ...\n",
            "Selecting previously unselected package libxcb-xinerama0:amd64.\n",
            "Preparing to unpack .../01-libxcb-xinerama0_1.14-3ubuntu3_amd64.deb ...\n",
            "Unpacking libxcb-xinerama0:amd64 (1.14-3ubuntu3) ...\n",
            "Selecting previously unselected package libxcb-xinput0:amd64.\n",
            "Preparing to unpack .../02-libxcb-xinput0_1.14-3ubuntu3_amd64.deb ...\n",
            "Unpacking libxcb-xinput0:amd64 (1.14-3ubuntu3) ...\n",
            "Selecting previously unselected package libxcb-xkb1:amd64.\n",
            "Preparing to unpack .../03-libxcb-xkb1_1.14-3ubuntu3_amd64.deb ...\n",
            "Unpacking libxcb-xkb1:amd64 (1.14-3ubuntu3) ...\n",
            "Selecting previously unselected package libxkbcommon-x11-0:amd64.\n",
            "Preparing to unpack .../04-libxkbcommon-x11-0_1.4.0-1_amd64.deb ...\n",
            "Unpacking libxkbcommon-x11-0:amd64 (1.4.0-1) ...\n",
            "Selecting previously unselected package libxtst6:amd64.\n",
            "Preparing to unpack .../05-libxtst6_2%3a1.2.3-1build4_amd64.deb ...\n",
            "Unpacking libxtst6:amd64 (2:1.2.3-1build4) ...\n",
            "Selecting previously unselected package libxcb-icccm4:amd64.\n",
            "Preparing to unpack .../06-libxcb-icccm4_0.4.1-1.1build2_amd64.deb ...\n",
            "Unpacking libxcb-icccm4:amd64 (0.4.1-1.1build2) ...\n",
            "Selecting previously unselected package libxcb-util1:amd64.\n",
            "Preparing to unpack .../07-libxcb-util1_0.4.0-1build2_amd64.deb ...\n",
            "Unpacking libxcb-util1:amd64 (0.4.0-1build2) ...\n",
            "Selecting previously unselected package libxcb-image0:amd64.\n",
            "Preparing to unpack .../08-libxcb-image0_0.4.0-2_amd64.deb ...\n",
            "Unpacking libxcb-image0:amd64 (0.4.0-2) ...\n",
            "Selecting previously unselected package libxcb-keysyms1:amd64.\n",
            "Preparing to unpack .../09-libxcb-keysyms1_0.4.0-1build3_amd64.deb ...\n",
            "Unpacking libxcb-keysyms1:amd64 (0.4.0-1build3) ...\n",
            "Selecting previously unselected package libxcb-render-util0:amd64.\n",
            "Preparing to unpack .../10-libxcb-render-util0_0.3.9-1build3_amd64.deb ...\n",
            "Unpacking libxcb-render-util0:amd64 (0.3.9-1build3) ...\n",
            "Selecting previously unselected package nsight-systems-2023.2.3.\n",
            "Preparing to unpack .../11-nsight-systems-2023.2.3_2023.2.3.1001-32894139v0_amd64.deb ...\n",
            "Unpacking nsight-systems-2023.2.3 (2023.2.3.1001-32894139v0) ...\n",
            "Setting up libxcb-xinput0:amd64 (1.14-3ubuntu3) ...\n",
            "Setting up libxtst6:amd64 (2:1.2.3-1build4) ...\n",
            "Setting up libxcb-keysyms1:amd64 (0.4.0-1build3) ...\n",
            "Setting up libxcb-render-util0:amd64 (0.3.9-1build3) ...\n",
            "Setting up libxcb-icccm4:amd64 (0.4.1-1.1build2) ...\n",
            "Setting up libxcb-util1:amd64 (0.4.0-1build2) ...\n",
            "Setting up libxcb-xkb1:amd64 (1.14-3ubuntu3) ...\n",
            "Setting up libxcb-image0:amd64 (0.4.0-2) ...\n",
            "Setting up libxcb-xinerama0:amd64 (1.14-3ubuntu3) ...\n",
            "Setting up libxkbcommon-x11-0:amd64 (1.4.0-1) ...\n",
            "Setting up libtinfo5:amd64 (6.3-2ubuntu0.1) ...\n",
            "Setting up nsight-systems-2023.2.3 (2023.2.3.1001-32894139v0) ...\n",
            "update-alternatives: using /opt/nvidia/nsight-systems/2023.2.3/target-linux-x64/nsys to provide /usr/local/bin/nsys (nsys) in auto mode\n",
            "update-alternatives: using /opt/nvidia/nsight-systems/2023.2.3/host-linux-x64/nsys-ui to provide /usr/local/bin/nsys-ui (nsys-ui) in auto mode\n",
            "Processing triggers for libc-bin (2.35-0ubuntu3.1) ...\n",
            "/sbin/ldconfig.real: /usr/local/lib/libtbb.so.12 is not a symbolic link\n",
            "\n",
            "/sbin/ldconfig.real: /usr/local/lib/libtbbbind.so.3 is not a symbolic link\n",
            "\n",
            "/sbin/ldconfig.real: /usr/local/lib/libtbbbind_2_0.so.3 is not a symbolic link\n",
            "\n",
            "/sbin/ldconfig.real: /usr/local/lib/libtbbmalloc.so.2 is not a symbolic link\n",
            "\n",
            "/sbin/ldconfig.real: /usr/local/lib/libtbbmalloc_proxy.so.2 is not a symbolic link\n",
            "\n",
            "/sbin/ldconfig.real: /usr/local/lib/libtbbbind_2_5.so.3 is not a symbolic link\n",
            "\n",
            "Reading package lists... Done\n",
            "Building dependency tree... Done\n",
            "Reading state information... Done\n",
            "0 upgraded, 0 newly installed, 0 to remove and 29 not upgraded.\n"
          ]
        }
      ]
    },
    {
      "cell_type": "code",
      "source": [
        "!wget \"https://bj.bcebos.com/v1/ai-studio-online/9805dd2d2e8e472693efac637628e16b9f9c5be0fe30438bb4a80de3b386781a?responseContentDisposition=attachment%3B%20filename%3DSTI2_1017.zip&authorization=bce-auth-v1%2F5cfe9a5e1454405eb2a975c43eace6ec%2F2023-10-18T12%3A42%3A27Z%2F-1%2F%2F6b5388dcd9013bc9b340bb1806476afa938ce0c65f2f595e1a75f529e90e4187\" -O STI2_1017.zip"
      ],
      "metadata": {
        "id": "RaVp3M11Ehkd",
        "colab": {
          "base_uri": "https://localhost:8080/"
        },
        "outputId": "96bbc5ed-a945-489d-ed29-5ccc37df3d7f"
      },
      "execution_count": null,
      "outputs": [
        {
          "output_type": "stream",
          "name": "stdout",
          "text": [
            "--2023-11-09 03:35:30--  https://bj.bcebos.com/v1/ai-studio-online/9805dd2d2e8e472693efac637628e16b9f9c5be0fe30438bb4a80de3b386781a?responseContentDisposition=attachment%3B%20filename%3DSTI2_1017.zip&authorization=bce-auth-v1%2F5cfe9a5e1454405eb2a975c43eace6ec%2F2023-10-18T12%3A42%3A27Z%2F-1%2F%2F6b5388dcd9013bc9b340bb1806476afa938ce0c65f2f595e1a75f529e90e4187\n",
            "Resolving bj.bcebos.com (bj.bcebos.com)... 103.235.46.61, 2409:8c04:1001:1002:0:ff:b001:368a\n",
            "Connecting to bj.bcebos.com (bj.bcebos.com)|103.235.46.61|:443... connected.\n",
            "HTTP request sent, awaiting response... 200 OK\n",
            "Length: 1005669898 (959M) [application/octet-stream]\n",
            "Saving to: ‘STI2_1017.zip’\n",
            "\n",
            "STI2_1017.zip       100%[===================>] 959.08M  16.5MB/s    in 77s     \n",
            "\n",
            "2023-11-09 03:36:49 (12.5 MB/s) - ‘STI2_1017.zip’ saved [1005669898/1005669898]\n",
            "\n"
          ]
        }
      ]
    },
    {
      "cell_type": "code",
      "source": [
        "!rm -rf STI2 && unzip STI2_1017.zip && mv STI2\\ 2 STI2"
      ],
      "metadata": {
        "id": "hncSzwE_Ej_i",
        "colab": {
          "base_uri": "https://localhost:8080/"
        },
        "outputId": "dea145cd-0489-43e9-cfd7-90aac7a02f5a"
      },
      "execution_count": null,
      "outputs": [
        {
          "output_type": "stream",
          "name": "stdout",
          "text": [
            "Archive:  STI2_1017.zip\n",
            "   creating: STI2 2/\n",
            "  inflating: __MACOSX/._STI2 2       \n",
            "   creating: STI2 2/bin/\n",
            "  inflating: __MACOSX/STI2 2/._bin   \n",
            "   creating: STI2 2/translate/\n",
            "  inflating: __MACOSX/STI2 2/._translate  \n",
            "  inflating: STI2 2/run.sh           \n",
            "  inflating: __MACOSX/STI2 2/._run.sh  \n",
            "  inflating: STI2 2/build.sh         \n",
            "  inflating: __MACOSX/STI2 2/._build.sh  \n",
            "   creating: STI2 2/src/\n",
            "  inflating: __MACOSX/STI2 2/._src   \n",
            "  inflating: STI2 2/bin/query_doc_scoring  \n",
            "  inflating: __MACOSX/STI2 2/bin/._query_doc_scoring  \n",
            "   creating: STI2 2/translate/res/\n",
            "  inflating: __MACOSX/STI2 2/translate/._res  \n",
            "   creating: STI2 2/translate/querys/\n",
            "  inflating: __MACOSX/STI2 2/translate/._querys  \n",
            "  inflating: STI2 2/translate/docs.txt  \n",
            "  inflating: __MACOSX/STI2 2/translate/._docs.txt  \n",
            "  inflating: STI2 2/src/topk.h       \n",
            "  inflating: __MACOSX/STI2 2/src/._topk.h  \n",
            "  inflating: STI2 2/src/topk.cu      \n",
            "  inflating: __MACOSX/STI2 2/src/._topk.cu  \n",
            "  inflating: STI2 2/src/main.cpp     \n",
            "  inflating: __MACOSX/STI2 2/src/._main.cpp  \n",
            "  inflating: STI2 2/translate/res/result.txt  \n",
            "  inflating: __MACOSX/STI2 2/translate/res/._result.txt  \n",
            "  inflating: STI2 2/translate/querys/query3.txt  \n",
            "  inflating: __MACOSX/STI2 2/translate/querys/._query3.txt  \n",
            "  inflating: STI2 2/translate/querys/query2.txt  \n",
            "  inflating: __MACOSX/STI2 2/translate/querys/._query2.txt  \n",
            "  inflating: STI2 2/translate/querys/query1.txt  \n",
            "  inflating: __MACOSX/STI2 2/translate/querys/._query1.txt  \n",
            "  inflating: STI2 2/translate/querys/query5.txt  \n",
            "  inflating: __MACOSX/STI2 2/translate/querys/._query5.txt  \n",
            "  inflating: STI2 2/translate/querys/query4.txt  \n",
            "  inflating: __MACOSX/STI2 2/translate/querys/._query4.txt  \n",
            "  inflating: STI2 2/translate/querys/query6.txt  \n",
            "  inflating: __MACOSX/STI2 2/translate/querys/._query6.txt  \n",
            "  inflating: STI2 2/translate/querys/query7.txt  \n",
            "  inflating: __MACOSX/STI2 2/translate/querys/._query7.txt  \n",
            "  inflating: STI2 2/translate/querys/query9.txt  \n",
            "  inflating: __MACOSX/STI2 2/translate/querys/._query9.txt  \n",
            "  inflating: STI2 2/translate/querys/query8.txt  \n",
            "  inflating: __MACOSX/STI2 2/translate/querys/._query8.txt  \n"
          ]
        }
      ]
    },
    {
      "cell_type": "code",
      "source": [
        "!sh STI2/build.sh"
      ],
      "metadata": {
        "colab": {
          "base_uri": "https://localhost:8080/"
        },
        "id": "nAUCeZk0EqND",
        "outputId": "dfef3d3a-0ffa-469c-b415-e4cfdb1273c6"
      },
      "execution_count": null,
      "outputs": [
        {
          "output_type": "stream",
          "name": "stdout",
          "text": [
            "build success\n"
          ]
        }
      ]
    },
    {
      "cell_type": "code",
      "source": [
        "!STI2/bin/query_doc_scoring STI2/translate/docs.txt STI2/translate/querys ./res_2.txt"
      ],
      "metadata": {
        "colab": {
          "base_uri": "https://localhost:8080/"
        },
        "id": "fm8QIAby0-fK",
        "outputId": "7e413dc3-f873-41d7-de7b-4a20ab127788"
      },
      "execution_count": null,
      "outputs": [
        {
          "output_type": "stream",
          "name": "stdout",
          "text": [
            "start get topk\n",
            "query1.txt:10, 11, 16, 17, 42, 60, 22524, 22546, 22590, 22784, 23212, 23427, 23485, 23525, 23554, 24129, 24133, 24645, 24804, 24875, 25129, 25242, 25502, 25705, 25994, 26000, 26045, 26046, 26077, 26114, 26247, 26338, 26407, 27263, 27468, 27513, 28100, 40111, 40228, 40388, 41700, 45156, 45946, 46367, 47181, 47460, 47672\n",
            "query2.txt:10, 16, 18, 21, 22, 23, 30, 42, 43, 44, 45, 54, 22497, 22512, 22524, 22533, 22535, 22608, 22624, 22790, 22828, 22836, 22885, 23188, 23381, 23409, 23558, 24103, 24197, 24250, 24496, 24918, 24974, 24987, 25179, 25317, 25827, 25994, 25996, 26009, 26015, 26023, 26030, 26050, 26052, 26082, 26096, 26205, 26247, 27399, 27475, 40029, 40300, 40416, 40504, 40696, 40837, 41166, 41172, 41336, 41407, 41516, 43247, 43309, 44547, 44795, 45101, 48828\n",
            "query3.txt:11, 12, 13, 14, 21, 22, 23, 33, 42, 53, 61, 1380, 1545, 1546, 1557, 1560, 1566, 1569, 1583, 1646, 1759, 1762, 1787, 1794, 1877, 1882, 1892, 2069, 2120, 2146, 2368, 2670, 2888, 3022, 3327, 3335, 22460, 22461, 22462, 22497, 22507, 22512, 22797, 22828, 22885, 23010, 23112, 23337, 23351, 23358, 23441, 23930, 24093, 24301, 24320, 24416, 24771, 25378, 25476, 25846, 25882, 25994, 26692, 26992, 30070, 30085, 30111, 30116, 30188, 30195, 30294, 30332, 30476, 30488, 30656, 30731, 30920, 31021, 31024, 31382, 31493, 31510, 31562, 32167, 32657, 33375, 34247, 35336, 36536, 37502, 37643, 38316, 40228, 40510, 40620, 40785, 40793, 41176, 42143, 42766, 43047, 43895, 45069, 46492, 47956, 48995, 49443\n",
            "query4.txt:11, 18, 30, 32, 60, 1557, 1622, 2279, 22469, 22470, 22497, 22590, 22652, 22921, 22940, 23264, 23441, 24138, 26009, 26038, 26046, 26901, 27654, 30040, 30651, 31928, 32002, 32497, 40074, 40411, 40446, 41107, 46175, 46608\n",
            "query5.txt:11, 18, 35, 50, 54, 60, 22533, 22608, 22624, 22686, 22777, 22782, 23140, 23215, 24212, 25188, 26030, 26054, 26259, 26323, 28175, 40366, 40908, 42041\n",
            "query6.txt:21, 1557, 1559, 1561, 1565, 1568, 2118, 22590, 30489\n",
            "query7.txt:16, 17, 42, 22497, 22524, 22652, 22686, 22735, 22736, 22777, 23489, 23535, 25994, 26013, 26069, 26077, 26114, 26251, 26297, 26628, 26633, 26705, 27123, 27320, 40111, 41533, 42195, 42733, 42837, 46956, 49373\n",
            "query8.txt:16, 18, 21, 22, 30, 35, 42, 1600, 1614, 1707, 1875, 2088, 22459, 22463, 22464, 22466, 22474, 22497, 22502, 22507, 22512, 22529, 22533, 22535, 22590, 22608, 22652, 22684, 22686, 22777, 22795, 22803, 22824, 22828, 22867, 22971, 22972, 23066, 23116, 23150, 23188, 23199, 23289, 23312, 23692, 23760, 23927, 24089, 24136, 24301, 25166, 25359, 25502, 25582, 25994, 26015, 26043, 26086, 26114, 26236, 26251, 26515, 27125, 27276, 28235, 28283, 28297, 32541, 33756, 40210, 40320, 40945, 41092, 41096, 41123, 41245, 41665, 41762, 42525, 42820, 43852, 45045, 45264, 47110, 47491, 47632, 47763, 48145, 49837\n",
            "query9.txt:18, 30, 1388, 1557, 1622, 2279, 22469, 22470, 22535, 22777, 24309, 26007, 26046, 26217, 26530, 27824, 30040, 30651, 31928, 32002, 32497, 40074, 41796, 43144, 44293, 46955, 47628, 48045\n",
            "query_size: 9\n",
            "doc_size: 7853052\n",
            "read file cost 34910 ms \n",
            "topk cost 2784 ms \n",
            "all cost 37694 ms \n",
            "end get topk\n"
          ]
        }
      ]
    },
    {
      "cell_type": "code",
      "source": [
        "!nvcc STI2/src/main.cpp STI2/src/topk.cu -o STI2/bin/query_doc_scoring_gpu  \\\n",
        "\t-ISTI2/src \\\n",
        "\t-L/usr/local/cuda/lib64 -lcudart -lcuda \\\n",
        "\t-std=c++11 \\\n",
        "\t-O3 \\\n",
        "\t-g\n"
      ],
      "metadata": {
        "id": "XtxywrK8cm-Z"
      },
      "execution_count": null,
      "outputs": []
    },
    {
      "cell_type": "code",
      "source": [
        "!STI2/bin/query_doc_scoring_gpu STI2/translate/docs.txt STI2/translate/querys ./res_3.txt"
      ],
      "metadata": {
        "colab": {
          "base_uri": "https://localhost:8080/"
        },
        "id": "KpB3DhGQdu3T",
        "outputId": "e7290c47-2a3f-4ba6-a2fb-0620d264a257"
      },
      "execution_count": null,
      "outputs": [
        {
          "output_type": "stream",
          "name": "stdout",
          "text": [
            "start get topk\n",
            "query1.txt:10, 11, 16, 17, 42, 60, 22524, 22546, 22590, 22784, 23212, 23427, 23485, 23525, 23554, 24129, 24133, 24645, 24804, 24875, 25129, 25242, 25502, 25705, 25994, 26000, 26045, 26046, 26077, 26114, 26247, 26338, 26407, 27263, 27468, 27513, 28100, 40111, 40228, 40388, 41700, 45156, 45946, 46367, 47181, 47460, 47672\n",
            "query2.txt:10, 16, 18, 21, 22, 23, 30, 42, 43, 44, 45, 54, 22497, 22512, 22524, 22533, 22535, 22608, 22624, 22790, 22828, 22836, 22885, 23188, 23381, 23409, 23558, 24103, 24197, 24250, 24496, 24918, 24974, 24987, 25179, 25317, 25827, 25994, 25996, 26009, 26015, 26023, 26030, 26050, 26052, 26082, 26096, 26205, 26247, 27399, 27475, 40029, 40300, 40416, 40504, 40696, 40837, 41166, 41172, 41336, 41407, 41516, 43247, 43309, 44547, 44795, 45101, 48828\n",
            "query3.txt:11, 12, 13, 14, 21, 22, 23, 33, 42, 53, 61, 1380, 1545, 1546, 1557, 1560, 1566, 1569, 1583, 1646, 1759, 1762, 1787, 1794, 1877, 1882, 1892, 2069, 2120, 2146, 2368, 2670, 2888, 3022, 3327, 3335, 22460, 22461, 22462, 22497, 22507, 22512, 22797, 22828, 22885, 23010, 23112, 23337, 23351, 23358, 23441, 23930, 24093, 24301, 24320, 24416, 24771, 25378, 25476, 25846, 25882, 25994, 26692, 26992, 30070, 30085, 30111, 30116, 30188, 30195, 30294, 30332, 30476, 30488, 30656, 30731, 30920, 31021, 31024, 31382, 31493, 31510, 31562, 32167, 32657, 33375, 34247, 35336, 36536, 37502, 37643, 38316, 40228, 40510, 40620, 40785, 40793, 41176, 42143, 42766, 43047, 43895, 45069, 46492, 47956, 48995, 49443\n",
            "query4.txt:11, 18, 30, 32, 60, 1557, 1622, 2279, 22469, 22470, 22497, 22590, 22652, 22921, 22940, 23264, 23441, 24138, 26009, 26038, 26046, 26901, 27654, 30040, 30651, 31928, 32002, 32497, 40074, 40411, 40446, 41107, 46175, 46608\n",
            "query5.txt:11, 18, 35, 50, 54, 60, 22533, 22608, 22624, 22686, 22777, 22782, 23140, 23215, 24212, 25188, 26030, 26054, 26259, 26323, 28175, 40366, 40908, 42041\n",
            "query6.txt:21, 1557, 1559, 1561, 1565, 1568, 2118, 22590, 30489\n",
            "query7.txt:16, 17, 42, 22497, 22524, 22652, 22686, 22735, 22736, 22777, 23489, 23535, 25994, 26013, 26069, 26077, 26114, 26251, 26297, 26628, 26633, 26705, 27123, 27320, 40111, 41533, 42195, 42733, 42837, 46956, 49373\n",
            "query8.txt:16, 18, 21, 22, 30, 35, 42, 1600, 1614, 1707, 1875, 2088, 22459, 22463, 22464, 22466, 22474, 22497, 22502, 22507, 22512, 22529, 22533, 22535, 22590, 22608, 22652, 22684, 22686, 22777, 22795, 22803, 22824, 22828, 22867, 22971, 22972, 23066, 23116, 23150, 23188, 23199, 23289, 23312, 23692, 23760, 23927, 24089, 24136, 24301, 25166, 25359, 25502, 25582, 25994, 26015, 26043, 26086, 26114, 26236, 26251, 26515, 27125, 27276, 28235, 28283, 28297, 32541, 33756, 40210, 40320, 40945, 41092, 41096, 41123, 41245, 41665, 41762, 42525, 42820, 43852, 45045, 45264, 47110, 47491, 47632, 47763, 48145, 49837\n",
            "query9.txt:18, 30, 1388, 1557, 1622, 2279, 22469, 22470, 22535, 22777, 24309, 26007, 26046, 26217, 26530, 27824, 30040, 30651, 31928, 32002, 32497, 40074, 41796, 43144, 44293, 46955, 47628, 48045\n",
            "query_size: 9\n",
            "doc_size: 7853052\n",
            "read file cost 36781 ms \n",
            "topk cost 2911 ms \n",
            "all cost 39692 ms \n",
            "end get topk\n"
          ]
        }
      ]
    },
    {
      "cell_type": "code",
      "source": [
        "!diff res_3.txt STI2/translate/res/result.txt"
      ],
      "metadata": {
        "colab": {
          "base_uri": "https://localhost:8080/"
        },
        "id": "srKmqx-61s0V",
        "outputId": "d65ab4d2-e5bd-49bc-f814-2fdd098a3310"
      },
      "execution_count": null,
      "outputs": [
        {
          "output_type": "stream",
          "name": "stdout",
          "text": [
            "1c1\n",
            "< 3175\n",
            "---\n",
            "> 2990\n"
          ]
        }
      ]
    },
    {
      "cell_type": "code",
      "source": [
        "!nvprof --print-gpu-trace STI2/bin/query_doc_scoring_gpu STI2/translate/docs.txt STI2/translate/querys ./res.txt"
      ],
      "metadata": {
        "id": "_Rlom59eqCXm",
        "colab": {
          "base_uri": "https://localhost:8080/"
        },
        "outputId": "dc57174b-f4c5-487e-ef89-af8494922064"
      },
      "execution_count": null,
      "outputs": [
        {
          "output_type": "stream",
          "name": "stdout",
          "text": [
            "start get topk\n",
            "query1.txt:10, 11, 16, 17, 42, 60, 22524, 22546, 22590, 22784, 23212, 23427, 23485, 23525, 23554, 24129, 24133, 24645, 24804, 24875, 25129, 25242, 25502, 25705, 25994, 26000, 26045, 26046, 26077, 26114, 26247, 26338, 26407, 27263, 27468, 27513, 28100, 40111, 40228, 40388, 41700, 45156, 45946, 46367, 47181, 47460, 47672\n",
            "query2.txt:10, 16, 18, 21, 22, 23, 30, 42, 43, 44, 45, 54, 22497, 22512, 22524, 22533, 22535, 22608, 22624, 22790, 22828, 22836, 22885, 23188, 23381, 23409, 23558, 24103, 24197, 24250, 24496, 24918, 24974, 24987, 25179, 25317, 25827, 25994, 25996, 26009, 26015, 26023, 26030, 26050, 26052, 26082, 26096, 26205, 26247, 27399, 27475, 40029, 40300, 40416, 40504, 40696, 40837, 41166, 41172, 41336, 41407, 41516, 43247, 43309, 44547, 44795, 45101, 48828\n",
            "query3.txt:11, 12, 13, 14, 21, 22, 23, 33, 42, 53, 61, 1380, 1545, 1546, 1557, 1560, 1566, 1569, 1583, 1646, 1759, 1762, 1787, 1794, 1877, 1882, 1892, 2069, 2120, 2146, 2368, 2670, 2888, 3022, 3327, 3335, 22460, 22461, 22462, 22497, 22507, 22512, 22797, 22828, 22885, 23010, 23112, 23337, 23351, 23358, 23441, 23930, 24093, 24301, 24320, 24416, 24771, 25378, 25476, 25846, 25882, 25994, 26692, 26992, 30070, 30085, 30111, 30116, 30188, 30195, 30294, 30332, 30476, 30488, 30656, 30731, 30920, 31021, 31024, 31382, 31493, 31510, 31562, 32167, 32657, 33375, 34247, 35336, 36536, 37502, 37643, 38316, 40228, 40510, 40620, 40785, 40793, 41176, 42143, 42766, 43047, 43895, 45069, 46492, 47956, 48995, 49443\n",
            "query4.txt:11, 18, 30, 32, 60, 1557, 1622, 2279, 22469, 22470, 22497, 22590, 22652, 22921, 22940, 23264, 23441, 24138, 26009, 26038, 26046, 26901, 27654, 30040, 30651, 31928, 32002, 32497, 40074, 40411, 40446, 41107, 46175, 46608\n",
            "query5.txt:11, 18, 35, 50, 54, 60, 22533, 22608, 22624, 22686, 22777, 22782, 23140, 23215, 24212, 25188, 26030, 26054, 26259, 26323, 28175, 40366, 40908, 42041\n",
            "query6.txt:21, 1557, 1559, 1561, 1565, 1568, 2118, 22590, 30489\n",
            "query7.txt:16, 17, 42, 22497, 22524, 22652, 22686, 22735, 22736, 22777, 23489, 23535, 25994, 26013, 26069, 26077, 26114, 26251, 26297, 26628, 26633, 26705, 27123, 27320, 40111, 41533, 42195, 42733, 42837, 46956, 49373\n",
            "query8.txt:16, 18, 21, 22, 30, 35, 42, 1600, 1614, 1707, 1875, 2088, 22459, 22463, 22464, 22466, 22474, 22497, 22502, 22507, 22512, 22529, 22533, 22535, 22590, 22608, 22652, 22684, 22686, 22777, 22795, 22803, 22824, 22828, 22867, 22971, 22972, 23066, 23116, 23150, 23188, 23199, 23289, 23312, 23692, 23760, 23927, 24089, 24136, 24301, 25166, 25359, 25502, 25582, 25994, 26015, 26043, 26086, 26114, 26236, 26251, 26515, 27125, 27276, 28235, 28283, 28297, 32541, 33756, 40210, 40320, 40945, 41092, 41096, 41123, 41245, 41665, 41762, 42525, 42820, 43852, 45045, 45264, 47110, 47491, 47632, 47763, 48145, 49837\n",
            "query9.txt:18, 30, 1388, 1557, 1622, 2279, 22469, 22470, 22535, 22777, 24309, 26007, 26046, 26217, 26530, 27824, 30040, 30651, 31928, 32002, 32497, 40074, 41796, 43144, 44293, 46955, 47628, 48045\n",
            "query_size: 9\n",
            "doc_size: 7853052\n",
            "read file cost 37315 ms \n",
            "==13449== NVPROF is profiling process 13449, command: STI2/bin/query_doc_scoring_gpu STI2/translate/docs.txt STI2/translate/querys ./res.txt\n",
            "topk cost 2981 ms \n",
            "all cost 40296 ms \n",
            "end get topk\n",
            "==13449== Profiling application: STI2/bin/query_doc_scoring_gpu STI2/translate/docs.txt STI2/translate/querys ./res.txt\n",
            "==13449== Profiling result:\n",
            "   Start  Duration            Grid Size      Block Size     Regs*    SSMem*    DSMem*      Size  Throughput  SrcMemType  DstMemType           Device   Context    Stream  Name\n",
            "1.99166s  435.22ms                    -               -         -         -         -  1.8723GB  4.3020GB/s    Pageable      Device     Tesla T4 (0)         1         7  [CUDA memcpy HtoD]\n",
            "2.42719s  6.9903ms                    -               -         -         -         -  29.957MB  4.1851GB/s    Pageable      Device     Tesla T4 (0)         1         7  [CUDA memcpy HtoD]\n",
            "2.43786s  1.9200us                    -               -         -         -         -       94B  46.690MB/s    Pageable      Device     Tesla T4 (0)         1         7  [CUDA memcpy HtoD]\n",
            "2.43790s  18.461ms          (15338 1 1)       (512 1 1)        17  8.0000KB        0B         -           -           -           -     Tesla T4 (0)         1         7  docQueryScoringCoalescedMemoryAccessSampleKernel(unsigned short const *, int const *, unsigned long, unsigned short*, int, float*) [121]\n",
            "2.45640s  6.9843ms                    -               -         -         -         -  29.957MB  4.1887GB/s      Device    Pageable     Tesla T4 (0)         1         7  [CUDA memcpy DtoH]\n",
            "2.48492s  1.9190us                    -               -         -         -         -      136B  67.587MB/s    Pageable      Device     Tesla T4 (0)         1         7  [CUDA memcpy HtoD]\n",
            "2.48495s  22.948ms          (15338 1 1)       (512 1 1)        17  8.0000KB        0B         -           -           -           -     Tesla T4 (0)         1         7  docQueryScoringCoalescedMemoryAccessSampleKernel(unsigned short const *, int const *, unsigned long, unsigned short*, int, float*) [127]\n",
            "2.50793s  6.7220ms                    -               -         -         -         -  29.957MB  4.3521GB/s      Device    Pageable     Tesla T4 (0)         1         7  [CUDA memcpy DtoH]\n",
            "2.53571s  1.9520us                    -               -         -         -         -      214B  104.55MB/s    Pageable      Device     Tesla T4 (0)         1         7  [CUDA memcpy HtoD]\n",
            "2.53573s  33.926ms          (15338 1 1)       (512 1 1)        17  8.0000KB        0B         -           -           -           -     Tesla T4 (0)         1         7  docQueryScoringCoalescedMemoryAccessSampleKernel(unsigned short const *, int const *, unsigned long, unsigned short*, int, float*) [133]\n",
            "2.56970s  6.9142ms                    -               -         -         -         -  29.957MB  4.2312GB/s      Device    Pageable     Tesla T4 (0)         1         7  [CUDA memcpy DtoH]\n",
            "2.59740s  1.9210us                    -               -         -         -         -       68B  33.758MB/s    Pageable      Device     Tesla T4 (0)         1         7  [CUDA memcpy HtoD]\n",
            "2.59743s  12.932ms          (15338 1 1)       (512 1 1)        17  8.0000KB        0B         -           -           -           -     Tesla T4 (0)         1         7  docQueryScoringCoalescedMemoryAccessSampleKernel(unsigned short const *, int const *, unsigned long, unsigned short*, int, float*) [139]\n",
            "2.61039s  6.7813ms                    -               -         -         -         -  29.957MB  4.3140GB/s      Device    Pageable     Tesla T4 (0)         1         7  [CUDA memcpy DtoH]\n",
            "2.63763s  1.9210us                    -               -         -         -         -       48B  23.829MB/s    Pageable      Device     Tesla T4 (0)         1         7  [CUDA memcpy HtoD]\n",
            "2.63765s  11.517ms          (15338 1 1)       (512 1 1)        17  8.0000KB        0B         -           -           -           -     Tesla T4 (0)         1         7  docQueryScoringCoalescedMemoryAccessSampleKernel(unsigned short const *, int const *, unsigned long, unsigned short*, int, float*) [145]\n",
            "2.64919s  6.6849ms                    -               -         -         -         -  29.957MB  4.3763GB/s      Device    Pageable     Tesla T4 (0)         1         7  [CUDA memcpy DtoH]\n",
            "2.67613s  1.8890us                    -               -         -         -         -       18B  9.0874MB/s    Pageable      Device     Tesla T4 (0)         1         7  [CUDA memcpy HtoD]\n",
            "2.67616s  8.0963ms          (15338 1 1)       (512 1 1)        17  8.0000KB        0B         -           -           -           -     Tesla T4 (0)         1         7  docQueryScoringCoalescedMemoryAccessSampleKernel(unsigned short const *, int const *, unsigned long, unsigned short*, int, float*) [151]\n",
            "2.68427s  6.6614ms                    -               -         -         -         -  29.957MB  4.3917GB/s      Device    Pageable     Tesla T4 (0)         1         7  [CUDA memcpy DtoH]\n",
            "2.71035s  1.9520us                    -               -         -         -         -       62B  30.291MB/s    Pageable      Device     Tesla T4 (0)         1         7  [CUDA memcpy HtoD]\n",
            "2.71038s  13.196ms          (15338 1 1)       (512 1 1)        17  8.0000KB        0B         -           -           -           -     Tesla T4 (0)         1         7  docQueryScoringCoalescedMemoryAccessSampleKernel(unsigned short const *, int const *, unsigned long, unsigned short*, int, float*) [157]\n",
            "2.72360s  6.6233ms                    -               -         -         -         -  29.957MB  4.4170GB/s      Device    Pageable     Tesla T4 (0)         1         7  [CUDA memcpy DtoH]\n",
            "2.74949s  1.9200us                    -               -         -         -         -      178B  88.414MB/s    Pageable      Device     Tesla T4 (0)         1         7  [CUDA memcpy HtoD]\n",
            "2.74952s  22.370ms          (15338 1 1)       (512 1 1)        17  8.0000KB        0B         -           -           -           -     Tesla T4 (0)         1         7  docQueryScoringCoalescedMemoryAccessSampleKernel(unsigned short const *, int const *, unsigned long, unsigned short*, int, float*) [163]\n",
            "2.77192s  6.7170ms                    -               -         -         -         -  29.957MB  4.3554GB/s      Device    Pageable     Tesla T4 (0)         1         7  [CUDA memcpy DtoH]\n",
            "2.79781s  1.8880us                    -               -         -         -         -       56B  28.287MB/s    Pageable      Device     Tesla T4 (0)         1         7  [CUDA memcpy HtoD]\n",
            "2.79784s  11.371ms          (15338 1 1)       (512 1 1)        17  8.0000KB        0B         -           -           -           -     Tesla T4 (0)         1         7  docQueryScoringCoalescedMemoryAccessSampleKernel(unsigned short const *, int const *, unsigned long, unsigned short*, int, float*) [169]\n",
            "2.80924s  6.5677ms                    -               -         -         -         -  29.957MB  4.4544GB/s      Device    Pageable     Tesla T4 (0)         1         7  [CUDA memcpy DtoH]\n",
            "\n",
            "Regs: Number of registers used per CUDA thread. This number includes registers used internally by the CUDA driver and/or tools and can be more than what the compiler shows.\n",
            "SSMem: Static shared memory allocated per CUDA block.\n",
            "DSMem: Dynamic shared memory allocated per CUDA block.\n",
            "SrcMemType: The type of source memory accessed by memory operation/copy\n",
            "DstMemType: The type of destination memory accessed by memory operation/copy\n"
          ]
        }
      ]
    },
    {
      "cell_type": "code",
      "source": [
        "!ncu --set full --call-stack --nvtx -o report_gpu STI2/bin/query_doc_scoring_gpu STI2/translate/docs.txt STI2/translate/querys ./res.txt"
      ],
      "metadata": {
        "colab": {
          "base_uri": "https://localhost:8080/"
        },
        "id": "-u-bMkNgXHmw",
        "outputId": "035fd837-5bfb-4816-9315-cdd3b3371f7f"
      },
      "execution_count": null,
      "outputs": [
        {
          "output_type": "stream",
          "name": "stdout",
          "text": [
            "start get topk\n",
            "query1.txt:10, 11, 16, 17, 42, 60, 22524, 22546, 22590, 22784, 23212, 23427, 23485, 23525, 23554, 24129, 24133, 24645, 24804, 24875, 25129, 25242, 25502, 25705, 25994, 26000, 26045, 26046, 26077, 26114, 26247, 26338, 26407, 27263, 27468, 27513, 28100, 40111, 40228, 40388, 41700, 45156, 45946, 46367, 47181, 47460, 47672\n",
            "query2.txt:10, 16, 18, 21, 22, 23, 30, 42, 43, 44, 45, 54, 22497, 22512, 22524, 22533, 22535, 22608, 22624, 22790, 22828, 22836, 22885, 23188, 23381, 23409, 23558, 24103, 24197, 24250, 24496, 24918, 24974, 24987, 25179, 25317, 25827, 25994, 25996, 26009, 26015, 26023, 26030, 26050, 26052, 26082, 26096, 26205, 26247, 27399, 27475, 40029, 40300, 40416, 40504, 40696, 40837, 41166, 41172, 41336, 41407, 41516, 43247, 43309, 44547, 44795, 45101, 48828\n",
            "query3.txt:11, 12, 13, 14, 21, 22, 23, 33, 42, 53, 61, 1380, 1545, 1546, 1557, 1560, 1566, 1569, 1583, 1646, 1759, 1762, 1787, 1794, 1877, 1882, 1892, 2069, 2120, 2146, 2368, 2670, 2888, 3022, 3327, 3335, 22460, 22461, 22462, 22497, 22507, 22512, 22797, 22828, 22885, 23010, 23112, 23337, 23351, 23358, 23441, 23930, 24093, 24301, 24320, 24416, 24771, 25378, 25476, 25846, 25882, 25994, 26692, 26992, 30070, 30085, 30111, 30116, 30188, 30195, 30294, 30332, 30476, 30488, 30656, 30731, 30920, 31021, 31024, 31382, 31493, 31510, 31562, 32167, 32657, 33375, 34247, 35336, 36536, 37502, 37643, 38316, 40228, 40510, 40620, 40785, 40793, 41176, 42143, 42766, 43047, 43895, 45069, 46492, 47956, 48995, 49443\n",
            "query4.txt:11, 18, 30, 32, 60, 1557, 1622, 2279, 22469, 22470, 22497, 22590, 22652, 22921, 22940, 23264, 23441, 24138, 26009, 26038, 26046, 26901, 27654, 30040, 30651, 31928, 32002, 32497, 40074, 40411, 40446, 41107, 46175, 46608\n",
            "query5.txt:11, 18, 35, 50, 54, 60, 22533, 22608, 22624, 22686, 22777, 22782, 23140, 23215, 24212, 25188, 26030, 26054, 26259, 26323, 28175, 40366, 40908, 42041\n",
            "query6.txt:21, 1557, 1559, 1561, 1565, 1568, 2118, 22590, 30489\n",
            "query7.txt:16, 17, 42, 22497, 22524, 22652, 22686, 22735, 22736, 22777, 23489, 23535, 25994, 26013, 26069, 26077, 26114, 26251, 26297, 26628, 26633, 26705, 27123, 27320, 40111, 41533, 42195, 42733, 42837, 46956, 49373\n",
            "query8.txt:16, 18, 21, 22, 30, 35, 42, 1600, 1614, 1707, 1875, 2088, 22459, 22463, 22464, 22466, 22474, 22497, 22502, 22507, 22512, 22529, 22533, 22535, 22590, 22608, 22652, 22684, 22686, 22777, 22795, 22803, 22824, 22828, 22867, 22971, 22972, 23066, 23116, 23150, 23188, 23199, 23289, 23312, 23692, 23760, 23927, 24089, 24136, 24301, 25166, 25359, 25502, 25582, 25994, 26015, 26043, 26086, 26114, 26236, 26251, 26515, 27125, 27276, 28235, 28283, 28297, 32541, 33756, 40210, 40320, 40945, 41092, 41096, 41123, 41245, 41665, 41762, 42525, 42820, 43852, 45045, 45264, 47110, 47491, 47632, 47763, 48145, 49837\n",
            "query9.txt:18, 30, 1388, 1557, 1622, 2279, 22469, 22470, 22535, 22777, 24309, 26007, 26046, 26217, 26530, 27824, 30040, 30651, 31928, 32002, 32497, 40074, 41796, 43144, 44293, 46955, 47628, 48045\n",
            "query_size: 9\n",
            "doc_size: 7853052\n",
            "read file cost 36615 ms \n",
            "==PROF== Connected to process 9459 (/content/STI2/bin/query_doc_scoring_gpu)\n",
            "==PROF== Profiling \"docQueryScoringCoalescedMemor...\" - 0: 0%....50%....100% - 31 passes\n",
            "==PROF== Profiling \"docQueryScoringCoalescedMemor...\" - 1: 0%....50%....100% - 31 passes\n",
            "==PROF== Profiling \"docQueryScoringCoalescedMemor...\" - 2: 0%....50%....100% - 31 passes\n",
            "==PROF== Profiling \"docQueryScoringCoalescedMemor...\" - 3: 0%....50%....100% - 31 passes\n",
            "==PROF== Profiling \"docQueryScoringCoalescedMemor...\" - 4: 0%....50%....100% - 31 passes\n",
            "==PROF== Profiling \"docQueryScoringCoalescedMemor...\" - 5: 0%....50%....100% - 31 passes\n",
            "==PROF== Profiling \"docQueryScoringCoalescedMemor...\" - 6: 0%....50%....100% - 31 passes\n",
            "==PROF== Profiling \"docQueryScoringCoalescedMemor...\" - 7: 0%....50%....100% - 31 passes\n",
            "==PROF== Profiling \"docQueryScoringCoalescedMemor...\" - 8: 0%....50%....100% - 31 passes\n",
            "topk cost 62402 ms \n",
            "all cost 99017 ms \n",
            "end get topk\n",
            "==PROF== Disconnected from process 9459\n",
            "==PROF== Report: /content/report_gpu.ncu-rep\n"
          ]
        }
      ]
    },
    {
      "cell_type": "code",
      "source": [
        "!nvcc STI2/src/main.cpp topk/topk_query_stream.cu -o STI2/bin/query_doc_scoring_gpu_stream  \\\n",
        "\t-ISTI2/src \\\n",
        "\t-L/usr/local/cuda/lib64 -lcudart -lcuda \\\n",
        "\t-std=c++11 \\\n",
        "\t-O3 \\\n",
        "\t-g"
      ],
      "metadata": {
        "id": "Ugfab03lbJX3"
      },
      "execution_count": null,
      "outputs": []
    },
    {
      "cell_type": "code",
      "source": [
        "!STI2/bin/query_doc_scoring_gpu_stream STI2/translate/docs.txt STI2/translate/querys ./res_gpu_stream.txt"
      ],
      "metadata": {
        "colab": {
          "base_uri": "https://localhost:8080/"
        },
        "id": "afW08dnqb0zs",
        "outputId": "a7962b49-402b-4688-b525-24b0d1ef90dd"
      },
      "execution_count": null,
      "outputs": [
        {
          "output_type": "stream",
          "name": "stdout",
          "text": [
            "start get topk\n",
            "query1.txt:10, 11, 16, 17, 42, 60, 22524, 22546, 22590, 22784, 23212, 23427, 23485, 23525, 23554, 24129, 24133, 24645, 24804, 24875, 25129, 25242, 25502, 25705, 25994, 26000, 26045, 26046, 26077, 26114, 26247, 26338, 26407, 27263, 27468, 27513, 28100, 40111, 40228, 40388, 41700, 45156, 45946, 46367, 47181, 47460, 47672\n",
            "query2.txt:10, 16, 18, 21, 22, 23, 30, 42, 43, 44, 45, 54, 22497, 22512, 22524, 22533, 22535, 22608, 22624, 22790, 22828, 22836, 22885, 23188, 23381, 23409, 23558, 24103, 24197, 24250, 24496, 24918, 24974, 24987, 25179, 25317, 25827, 25994, 25996, 26009, 26015, 26023, 26030, 26050, 26052, 26082, 26096, 26205, 26247, 27399, 27475, 40029, 40300, 40416, 40504, 40696, 40837, 41166, 41172, 41336, 41407, 41516, 43247, 43309, 44547, 44795, 45101, 48828\n",
            "query3.txt:11, 12, 13, 14, 21, 22, 23, 33, 42, 53, 61, 1380, 1545, 1546, 1557, 1560, 1566, 1569, 1583, 1646, 1759, 1762, 1787, 1794, 1877, 1882, 1892, 2069, 2120, 2146, 2368, 2670, 2888, 3022, 3327, 3335, 22460, 22461, 22462, 22497, 22507, 22512, 22797, 22828, 22885, 23010, 23112, 23337, 23351, 23358, 23441, 23930, 24093, 24301, 24320, 24416, 24771, 25378, 25476, 25846, 25882, 25994, 26692, 26992, 30070, 30085, 30111, 30116, 30188, 30195, 30294, 30332, 30476, 30488, 30656, 30731, 30920, 31021, 31024, 31382, 31493, 31510, 31562, 32167, 32657, 33375, 34247, 35336, 36536, 37502, 37643, 38316, 40228, 40510, 40620, 40785, 40793, 41176, 42143, 42766, 43047, 43895, 45069, 46492, 47956, 48995, 49443\n",
            "query4.txt:11, 18, 30, 32, 60, 1557, 1622, 2279, 22469, 22470, 22497, 22590, 22652, 22921, 22940, 23264, 23441, 24138, 26009, 26038, 26046, 26901, 27654, 30040, 30651, 31928, 32002, 32497, 40074, 40411, 40446, 41107, 46175, 46608\n",
            "query5.txt:11, 18, 35, 50, 54, 60, 22533, 22608, 22624, 22686, 22777, 22782, 23140, 23215, 24212, 25188, 26030, 26054, 26259, 26323, 28175, 40366, 40908, 42041\n",
            "query6.txt:21, 1557, 1559, 1561, 1565, 1568, 2118, 22590, 30489\n",
            "query7.txt:16, 17, 42, 22497, 22524, 22652, 22686, 22735, 22736, 22777, 23489, 23535, 25994, 26013, 26069, 26077, 26114, 26251, 26297, 26628, 26633, 26705, 27123, 27320, 40111, 41533, 42195, 42733, 42837, 46956, 49373\n",
            "query8.txt:16, 18, 21, 22, 30, 35, 42, 1600, 1614, 1707, 1875, 2088, 22459, 22463, 22464, 22466, 22474, 22497, 22502, 22507, 22512, 22529, 22533, 22535, 22590, 22608, 22652, 22684, 22686, 22777, 22795, 22803, 22824, 22828, 22867, 22971, 22972, 23066, 23116, 23150, 23188, 23199, 23289, 23312, 23692, 23760, 23927, 24089, 24136, 24301, 25166, 25359, 25502, 25582, 25994, 26015, 26043, 26086, 26114, 26236, 26251, 26515, 27125, 27276, 28235, 28283, 28297, 32541, 33756, 40210, 40320, 40945, 41092, 41096, 41123, 41245, 41665, 41762, 42525, 42820, 43852, 45045, 45264, 47110, 47491, 47632, 47763, 48145, 49837\n",
            "query9.txt:18, 30, 1388, 1557, 1622, 2279, 22469, 22470, 22535, 22777, 24309, 26007, 26046, 26217, 26530, 27824, 30040, 30651, 31928, 32002, 32497, 40074, 41796, 43144, 44293, 46955, 47628, 48045\n",
            "query_size: 9\n",
            "doc_size: 7853052\n",
            "read file cost 37949 ms \n",
            "stream_id:  0 scores size:7853052\n",
            "stream_id:  1 scores size:7853052\n",
            "stream_id:  2 scores size:7853052\n",
            "stream_id:  3 scores size:7853052\n",
            "stream_id:  4 scores size:7853052\n",
            "stream_id:  5 scores size:7853052\n",
            "stream_id:  6 scores size:7853052\n",
            "stream_id:  7 scores size:7853052\n",
            "stream_id:  8 scores size:7853052\n",
            "elapsed time:394.807495 ms\n",
            "scores size:7853052\n",
            "partial_sort cost 9 ms \n",
            "scores size:7853052\n",
            "partial_sort cost 9 ms \n",
            "scores size:7853052\n",
            "partial_sort cost 9 ms \n",
            "scores size:7853052\n",
            "partial_sort cost 9 ms \n",
            "scores size:7853052\n",
            "partial_sort cost 9 ms \n",
            "scores size:7853052\n",
            "partial_sort cost 16 ms \n",
            "scores size:7853052\n",
            "partial_sort cost 18 ms \n",
            "scores size:7853052\n",
            "partial_sort cost 14 ms \n",
            "scores size:7853052\n",
            "partial_sort cost 14 ms \n",
            "total partial_sort cost 193 ms \n",
            "topk cost 3111 ms \n",
            "all cost 41061 ms \n",
            "end get topk\n"
          ]
        }
      ]
    },
    {
      "cell_type": "code",
      "source": [
        "!diff ./res_gpu_stream.txt STI2/translate/res/result.txt"
      ],
      "metadata": {
        "colab": {
          "base_uri": "https://localhost:8080/"
        },
        "id": "XnuNTpG1cuox",
        "outputId": "775512e7-00b8-4e01-a2bf-7f0bf7668b43"
      },
      "execution_count": null,
      "outputs": [
        {
          "output_type": "stream",
          "name": "stdout",
          "text": [
            "1c1\n",
            "< 2850\n",
            "---\n",
            "> 2990\n"
          ]
        }
      ]
    },
    {
      "cell_type": "code",
      "source": [
        "!nvprof --print-gpu-trace STI2/bin/query_doc_scoring_gpu_stream STI2/translate/docs.txt STI2/translate/querys ./res_gpu_stream.txt"
      ],
      "metadata": {
        "colab": {
          "base_uri": "https://localhost:8080/"
        },
        "id": "Dc6QuEVNbdWK",
        "outputId": "9eff74fc-8339-48c9-e95f-7bcb8ae8cda8"
      },
      "execution_count": null,
      "outputs": [
        {
          "output_type": "stream",
          "name": "stdout",
          "text": [
            "start get topk\n",
            "query1.txt:10, 11, 16, 17, 42, 60, 22524, 22546, 22590, 22784, 23212, 23427, 23485, 23525, 23554, 24129, 24133, 24645, 24804, 24875, 25129, 25242, 25502, 25705, 25994, 26000, 26045, 26046, 26077, 26114, 26247, 26338, 26407, 27263, 27468, 27513, 28100, 40111, 40228, 40388, 41700, 45156, 45946, 46367, 47181, 47460, 47672\n",
            "query2.txt:10, 16, 18, 21, 22, 23, 30, 42, 43, 44, 45, 54, 22497, 22512, 22524, 22533, 22535, 22608, 22624, 22790, 22828, 22836, 22885, 23188, 23381, 23409, 23558, 24103, 24197, 24250, 24496, 24918, 24974, 24987, 25179, 25317, 25827, 25994, 25996, 26009, 26015, 26023, 26030, 26050, 26052, 26082, 26096, 26205, 26247, 27399, 27475, 40029, 40300, 40416, 40504, 40696, 40837, 41166, 41172, 41336, 41407, 41516, 43247, 43309, 44547, 44795, 45101, 48828\n",
            "query3.txt:11, 12, 13, 14, 21, 22, 23, 33, 42, 53, 61, 1380, 1545, 1546, 1557, 1560, 1566, 1569, 1583, 1646, 1759, 1762, 1787, 1794, 1877, 1882, 1892, 2069, 2120, 2146, 2368, 2670, 2888, 3022, 3327, 3335, 22460, 22461, 22462, 22497, 22507, 22512, 22797, 22828, 22885, 23010, 23112, 23337, 23351, 23358, 23441, 23930, 24093, 24301, 24320, 24416, 24771, 25378, 25476, 25846, 25882, 25994, 26692, 26992, 30070, 30085, 30111, 30116, 30188, 30195, 30294, 30332, 30476, 30488, 30656, 30731, 30920, 31021, 31024, 31382, 31493, 31510, 31562, 32167, 32657, 33375, 34247, 35336, 36536, 37502, 37643, 38316, 40228, 40510, 40620, 40785, 40793, 41176, 42143, 42766, 43047, 43895, 45069, 46492, 47956, 48995, 49443\n",
            "query4.txt:11, 18, 30, 32, 60, 1557, 1622, 2279, 22469, 22470, 22497, 22590, 22652, 22921, 22940, 23264, 23441, 24138, 26009, 26038, 26046, 26901, 27654, 30040, 30651, 31928, 32002, 32497, 40074, 40411, 40446, 41107, 46175, 46608\n",
            "query5.txt:11, 18, 35, 50, 54, 60, 22533, 22608, 22624, 22686, 22777, 22782, 23140, 23215, 24212, 25188, 26030, 26054, 26259, 26323, 28175, 40366, 40908, 42041\n",
            "query6.txt:21, 1557, 1559, 1561, 1565, 1568, 2118, 22590, 30489\n",
            "query7.txt:16, 17, 42, 22497, 22524, 22652, 22686, 22735, 22736, 22777, 23489, 23535, 25994, 26013, 26069, 26077, 26114, 26251, 26297, 26628, 26633, 26705, 27123, 27320, 40111, 41533, 42195, 42733, 42837, 46956, 49373\n",
            "query8.txt:16, 18, 21, 22, 30, 35, 42, 1600, 1614, 1707, 1875, 2088, 22459, 22463, 22464, 22466, 22474, 22497, 22502, 22507, 22512, 22529, 22533, 22535, 22590, 22608, 22652, 22684, 22686, 22777, 22795, 22803, 22824, 22828, 22867, 22971, 22972, 23066, 23116, 23150, 23188, 23199, 23289, 23312, 23692, 23760, 23927, 24089, 24136, 24301, 25166, 25359, 25502, 25582, 25994, 26015, 26043, 26086, 26114, 26236, 26251, 26515, 27125, 27276, 28235, 28283, 28297, 32541, 33756, 40210, 40320, 40945, 41092, 41096, 41123, 41245, 41665, 41762, 42525, 42820, 43852, 45045, 45264, 47110, 47491, 47632, 47763, 48145, 49837\n",
            "query9.txt:18, 30, 1388, 1557, 1622, 2279, 22469, 22470, 22535, 22777, 24309, 26007, 26046, 26217, 26530, 27824, 30040, 30651, 31928, 32002, 32497, 40074, 41796, 43144, 44293, 46955, 47628, 48045\n",
            "query_size: 9\n",
            "doc_size: 7853052\n",
            "read file cost 35981 ms \n",
            "==14003== NVPROF is profiling process 14003, command: STI2/bin/query_doc_scoring_gpu_stream STI2/translate/docs.txt STI2/translate/querys ./res_gpu_stream.txt\n",
            "topk cost 3056 ms \n",
            "all cost 39038 ms \n",
            "end get topk\n",
            "==14003== Profiling application: STI2/bin/query_doc_scoring_gpu_stream STI2/translate/docs.txt STI2/translate/querys ./res_gpu_stream.txt\n",
            "==14003== Profiling result:\n",
            "   Start  Duration            Grid Size      Block Size     Regs*    SSMem*    DSMem*      Size  Throughput  SrcMemType  DstMemType           Device   Context    Stream  Name\n",
            "2.11221s  428.02ms                    -               -         -         -         -  1.8723GB  4.3743GB/s    Pageable      Device     Tesla T4 (0)         1         7  [CUDA memcpy HtoD]\n",
            "2.54047s  6.4260ms                    -               -         -         -         -  29.957MB  4.5526GB/s    Pageable      Device     Tesla T4 (0)         1         7  [CUDA memcpy HtoD]\n",
            "2.55043s  1.9520us                    -               -         -         -         -       94B  45.925MB/s    Pageable      Device     Tesla T4 (0)         1         7  [CUDA memcpy HtoD]\n",
            "2.55047s  18.463ms          (15338 1 1)       (512 1 1)        17  8.0000KB        0B         -           -           -           -     Tesla T4 (0)         1        13  docQueryScoringCoalescedMemoryAccessSampleKernel(unsigned short const *, int const *, unsigned long, unsigned short*, int, float*) [122]\n",
            "2.56896s  6.9257ms                    -               -         -         -         -  29.957MB  4.2241GB/s      Device    Pageable     Tesla T4 (0)         1         7  [CUDA memcpy DtoH]\n",
            "2.59147s  1.8880us                    -               -         -         -         -      136B  68.697MB/s    Pageable      Device     Tesla T4 (0)         1         7  [CUDA memcpy HtoD]\n",
            "2.59150s  22.944ms          (15338 1 1)       (512 1 1)        17  8.0000KB        0B         -           -           -           -     Tesla T4 (0)         1        14  docQueryScoringCoalescedMemoryAccessSampleKernel(unsigned short const *, int const *, unsigned long, unsigned short*, int, float*) [129]\n",
            "2.61448s  7.1050ms                    -               -         -         -         -  29.957MB  4.1175GB/s      Device    Pageable     Tesla T4 (0)         1         7  [CUDA memcpy DtoH]\n",
            "2.63685s  1.9200us                    -               -         -         -         -      214B  106.29MB/s    Pageable      Device     Tesla T4 (0)         1         7  [CUDA memcpy HtoD]\n",
            "2.63688s  35.999ms          (15338 1 1)       (512 1 1)        17  8.0000KB        0B         -           -           -           -     Tesla T4 (0)         1        15  docQueryScoringCoalescedMemoryAccessSampleKernel(unsigned short const *, int const *, unsigned long, unsigned short*, int, float*) [136]\n",
            "2.67291s  6.6864ms                    -               -         -         -         -  29.957MB  4.3753GB/s      Device    Pageable     Tesla T4 (0)         1         7  [CUDA memcpy DtoH]\n",
            "2.69488s  1.8560us                    -               -         -         -         -       68B  34.941MB/s    Pageable      Device     Tesla T4 (0)         1         7  [CUDA memcpy HtoD]\n",
            "2.69491s  13.815ms          (15338 1 1)       (512 1 1)        17  8.0000KB        0B         -           -           -           -     Tesla T4 (0)         1        16  docQueryScoringCoalescedMemoryAccessSampleKernel(unsigned short const *, int const *, unsigned long, unsigned short*, int, float*) [143]\n",
            "2.70875s  6.7802ms                    -               -         -         -         -  29.957MB  4.3147GB/s      Device    Pageable     Tesla T4 (0)         1         7  [CUDA memcpy DtoH]\n",
            "2.73036s  1.9200us                    -               -         -         -         -       48B  23.842MB/s    Pageable      Device     Tesla T4 (0)         1         7  [CUDA memcpy HtoD]\n",
            "2.73040s  10.128ms          (15338 1 1)       (512 1 1)        17  8.0000KB        0B         -           -           -           -     Tesla T4 (0)         1        17  docQueryScoringCoalescedMemoryAccessSampleKernel(unsigned short const *, int const *, unsigned long, unsigned short*, int, float*) [150]\n",
            "2.74055s  6.7404ms                    -               -         -         -         -  29.957MB  4.3402GB/s      Device    Pageable     Tesla T4 (0)         1         7  [CUDA memcpy DtoH]\n",
            "2.76241s  1.8560us                    -               -         -         -         -       18B  9.2490MB/s    Pageable      Device     Tesla T4 (0)         1         7  [CUDA memcpy HtoD]\n",
            "2.76244s  7.1529ms          (15338 1 1)       (512 1 1)        17  8.0000KB        0B         -           -           -           -     Tesla T4 (0)         1        18  docQueryScoringCoalescedMemoryAccessSampleKernel(unsigned short const *, int const *, unsigned long, unsigned short*, int, float*) [157]\n",
            "2.76961s  6.6778ms                    -               -         -         -         -  29.957MB  4.3809GB/s      Device    Pageable     Tesla T4 (0)         1         7  [CUDA memcpy DtoH]\n",
            "2.79085s  1.8560us                    -               -         -         -         -       62B  31.858MB/s    Pageable      Device     Tesla T4 (0)         1         7  [CUDA memcpy HtoD]\n",
            "2.79088s  11.589ms          (15338 1 1)       (512 1 1)        17  8.0000KB        0B         -           -           -           -     Tesla T4 (0)         1        19  docQueryScoringCoalescedMemoryAccessSampleKernel(unsigned short const *, int const *, unsigned long, unsigned short*, int, float*) [164]\n",
            "2.80249s  6.7023ms                    -               -         -         -         -  29.957MB  4.3649GB/s      Device    Pageable     Tesla T4 (0)         1         7  [CUDA memcpy DtoH]\n",
            "2.82970s  1.8880us                    -               -         -         -         -      178B  89.912MB/s    Pageable      Device     Tesla T4 (0)         1         7  [CUDA memcpy HtoD]\n",
            "2.82974s  19.754ms          (15338 1 1)       (512 1 1)        17  8.0000KB        0B         -           -           -           -     Tesla T4 (0)         1        20  docQueryScoringCoalescedMemoryAccessSampleKernel(unsigned short const *, int const *, unsigned long, unsigned short*, int, float*) [171]\n",
            "2.84954s  6.8048ms                    -               -         -         -         -  29.957MB  4.2992GB/s      Device    Pageable     Tesla T4 (0)         1         7  [CUDA memcpy DtoH]\n",
            "2.87150s  2.2400us                    -               -         -         -         -       56B  23.842MB/s    Pageable      Device     Tesla T4 (0)         1         7  [CUDA memcpy HtoD]\n",
            "2.87154s  10.196ms          (15338 1 1)       (512 1 1)        17  8.0000KB        0B         -           -           -           -     Tesla T4 (0)         1        21  docQueryScoringCoalescedMemoryAccessSampleKernel(unsigned short const *, int const *, unsigned long, unsigned short*, int, float*) [178]\n",
            "2.88175s  6.6019ms                    -               -         -         -         -  29.957MB  4.4313GB/s      Device    Pageable     Tesla T4 (0)         1         7  [CUDA memcpy DtoH]\n",
            "\n",
            "Regs: Number of registers used per CUDA thread. This number includes registers used internally by the CUDA driver and/or tools and can be more than what the compiler shows.\n",
            "SSMem: Static shared memory allocated per CUDA block.\n",
            "DSMem: Dynamic shared memory allocated per CUDA block.\n",
            "SrcMemType: The type of source memory accessed by memory operation/copy\n",
            "DstMemType: The type of destination memory accessed by memory operation/copy\n"
          ]
        }
      ]
    },
    {
      "cell_type": "code",
      "source": [
        "!sleep 864000"
      ],
      "metadata": {
        "id": "xo_DnliFcVy1"
      },
      "execution_count": null,
      "outputs": []
    },
    {
      "cell_type": "markdown",
      "source": [
        "## run topk"
      ],
      "metadata": {
        "id": "huFk3o-q4vmb"
      }
    },
    {
      "cell_type": "code",
      "source": [
        "!make -C topk/ BUILD_TYPE=Release"
      ],
      "metadata": {
        "colab": {
          "base_uri": "https://localhost:8080/"
        },
        "id": "WahsSF_u4u24",
        "outputId": "89d55b88-dc50-4bf0-d48e-ef6bc40b7d3e"
      },
      "execution_count": null,
      "outputs": [
        {
          "output_type": "stream",
          "name": "stdout",
          "text": [
            "make: Entering directory '/content/topk'\n",
            "mkdir -p bin\n",
            "g++ ./main.cpp -o ./bin/query_doc_scoring_cpu  \\\n",
            "\t-I./ \\\n",
            "\t-std=c++11 -Wall -march=native -pthread \\\n",
            "\t-O3 \\\n",
            "\t-g \n",
            "\u001b[01m\u001b[K./main.cpp:\u001b[m\u001b[K In function ‘\u001b[01m\u001b[Kvoid doc_query_scoring_cpu(std::vector<std::vector<short unsigned int> >&, int, std::vector<std::vector<short unsigned int> >&, std::vector<short unsigned int>&, std::vector<std::vector<int> >&, std::vector<std::vector<float> >&)\u001b[m\u001b[K’:\n",
            "\u001b[01m\u001b[K./main.cpp:233:29:\u001b[m\u001b[K \u001b[01;35m\u001b[Kwarning: \u001b[m\u001b[Kcomparison of integer expressions of different signedness: ‘\u001b[01m\u001b[Kint\u001b[m\u001b[K’ and ‘\u001b[01m\u001b[Kstd::vector<std::vector<short unsigned int> >::size_type\u001b[m\u001b[K’ {aka ‘\u001b[01m\u001b[Klong unsigned int\u001b[m\u001b[K’} [\u001b[01;35m\u001b[K\u001b]8;;https://gcc.gnu.org/onlinedocs/gcc/Warning-Options.html#index-Wsign-compare\u0007-Wsign-compare\u001b]8;;\u0007\u001b[m\u001b[K]\n",
            "  233 |         for (int id = 0; \u001b[01;35m\u001b[Kid < docs.size()\u001b[m\u001b[K; ++id) {\n",
            "      |                          \u001b[01;35m\u001b[K~~~^~~~~~~~~~~~~\u001b[m\u001b[K\n",
            "\u001b[01m\u001b[K./main.cpp:244:29:\u001b[m\u001b[K \u001b[01;35m\u001b[Kwarning: \u001b[m\u001b[Kcomparison of integer expressions of different signedness: ‘\u001b[01m\u001b[Kint\u001b[m\u001b[K’ and ‘\u001b[01m\u001b[Kstd::vector<std::vector<short unsigned int> >::size_type\u001b[m\u001b[K’ {aka ‘\u001b[01m\u001b[Klong unsigned int\u001b[m\u001b[K’} [\u001b[01;35m\u001b[K\u001b]8;;https://gcc.gnu.org/onlinedocs/gcc/Warning-Options.html#index-Wsign-compare\u0007-Wsign-compare\u001b]8;;\u0007\u001b[m\u001b[K]\n",
            "  244 |         for (int id = 0; \u001b[01;35m\u001b[Kid < docs.size()\u001b[m\u001b[K; id++) {\n",
            "      |                          \u001b[01;35m\u001b[K~~~^~~~~~~~~~~~~\u001b[m\u001b[K\n",
            "\u001b[01m\u001b[K./main.cpp:247:31:\u001b[m\u001b[K \u001b[01;35m\u001b[Kwarning: \u001b[m\u001b[Kcomparison of integer expressions of different signedness: ‘\u001b[01m\u001b[Kint\u001b[m\u001b[K’ and ‘\u001b[01m\u001b[Kstd::vector<short unsigned int>::size_type\u001b[m\u001b[K’ {aka ‘\u001b[01m\u001b[Klong unsigned int\u001b[m\u001b[K’} [\u001b[01;35m\u001b[K\u001b]8;;https://gcc.gnu.org/onlinedocs/gcc/Warning-Options.html#index-Wsign-compare\u0007-Wsign-compare\u001b]8;;\u0007\u001b[m\u001b[K]\n",
            "  247 |             for (int j = 0; \u001b[01;35m\u001b[Kj < doc.size()\u001b[m\u001b[K; j++) {\n",
            "      |                             \u001b[01;35m\u001b[K~~^~~~~~~~~~~~\u001b[m\u001b[K\n",
            "g++ ./main.cpp -o ./bin/query_doc_scoring_cpu_concurrency  \\\n",
            "\t-I./ \\\n",
            "\t-std=c++11 -Wall -march=native -pthread \\\n",
            "\t-O3 \\\n",
            "\t-DCPU_CONCURRENCY \\\n",
            "\t-g \n",
            "\u001b[01m\u001b[K./main.cpp:\u001b[m\u001b[K In function ‘\u001b[01m\u001b[Kvoid doc_query_scoring_cpu(std::vector<std::vector<short unsigned int> >&, int, std::vector<std::vector<short unsigned int> >&, std::vector<short unsigned int>&, std::vector<std::vector<int> >&, std::vector<std::vector<float> >&)\u001b[m\u001b[K’:\n",
            "\u001b[01m\u001b[K./main.cpp:233:29:\u001b[m\u001b[K \u001b[01;35m\u001b[Kwarning: \u001b[m\u001b[Kcomparison of integer expressions of different signedness: ‘\u001b[01m\u001b[Kint\u001b[m\u001b[K’ and ‘\u001b[01m\u001b[Kstd::vector<std::vector<short unsigned int> >::size_type\u001b[m\u001b[K’ {aka ‘\u001b[01m\u001b[Klong unsigned int\u001b[m\u001b[K’} [\u001b[01;35m\u001b[K\u001b]8;;https://gcc.gnu.org/onlinedocs/gcc/Warning-Options.html#index-Wsign-compare\u0007-Wsign-compare\u001b]8;;\u0007\u001b[m\u001b[K]\n",
            "  233 |         for (int id = 0; \u001b[01;35m\u001b[Kid < docs.size()\u001b[m\u001b[K; ++id) {\n",
            "      |                          \u001b[01;35m\u001b[K~~~^~~~~~~~~~~~~\u001b[m\u001b[K\n",
            "\u001b[01m\u001b[K./main.cpp:244:29:\u001b[m\u001b[K \u001b[01;35m\u001b[Kwarning: \u001b[m\u001b[Kcomparison of integer expressions of different signedness: ‘\u001b[01m\u001b[Kint\u001b[m\u001b[K’ and ‘\u001b[01m\u001b[Kstd::vector<std::vector<short unsigned int> >::size_type\u001b[m\u001b[K’ {aka ‘\u001b[01m\u001b[Klong unsigned int\u001b[m\u001b[K’} [\u001b[01;35m\u001b[K\u001b]8;;https://gcc.gnu.org/onlinedocs/gcc/Warning-Options.html#index-Wsign-compare\u0007-Wsign-compare\u001b]8;;\u0007\u001b[m\u001b[K]\n",
            "  244 |         for (int id = 0; \u001b[01;35m\u001b[Kid < docs.size()\u001b[m\u001b[K; id++) {\n",
            "      |                          \u001b[01;35m\u001b[K~~~^~~~~~~~~~~~~\u001b[m\u001b[K\n",
            "\u001b[01m\u001b[K./main.cpp:247:31:\u001b[m\u001b[K \u001b[01;35m\u001b[Kwarning: \u001b[m\u001b[Kcomparison of integer expressions of different signedness: ‘\u001b[01m\u001b[Kint\u001b[m\u001b[K’ and ‘\u001b[01m\u001b[Kstd::vector<short unsigned int>::size_type\u001b[m\u001b[K’ {aka ‘\u001b[01m\u001b[Klong unsigned int\u001b[m\u001b[K’} [\u001b[01;35m\u001b[K\u001b]8;;https://gcc.gnu.org/onlinedocs/gcc/Warning-Options.html#index-Wsign-compare\u0007-Wsign-compare\u001b]8;;\u0007\u001b[m\u001b[K]\n",
            "  247 |             for (int j = 0; \u001b[01;35m\u001b[Kj < doc.size()\u001b[m\u001b[K; j++) {\n",
            "      |                             \u001b[01;35m\u001b[K~~^~~~~~~~~~~~\u001b[m\u001b[K\n",
            "\u001b[01m\u001b[K./main.cpp:\u001b[m\u001b[K In function ‘\u001b[01m\u001b[Kint main(int, char**)\u001b[m\u001b[K’:\n",
            "\u001b[01m\u001b[K./main.cpp:389:29:\u001b[m\u001b[K \u001b[01;35m\u001b[Kwarning: \u001b[m\u001b[Kcomparison of integer expressions of different signedness: ‘\u001b[01m\u001b[Kint\u001b[m\u001b[K’ and ‘\u001b[01m\u001b[Kstd::vector<std::vector<short unsigned int> >::size_type\u001b[m\u001b[K’ {aka ‘\u001b[01m\u001b[Klong unsigned int\u001b[m\u001b[K’} [\u001b[01;35m\u001b[K\u001b]8;;https://gcc.gnu.org/onlinedocs/gcc/Warning-Options.html#index-Wsign-compare\u0007-Wsign-compare\u001b]8;;\u0007\u001b[m\u001b[K]\n",
            "  389 |     for (int q_id = 0; \u001b[01;35m\u001b[Kq_id < inputs.querys.size()\u001b[m\u001b[K; q_id++) {\n",
            "      |                        \u001b[01;35m\u001b[K~~~~~^~~~~~~~~~~~~~~~~~~~~~\u001b[m\u001b[K\n",
            "\u001b[01m\u001b[K./main.cpp:393:29:\u001b[m\u001b[K \u001b[01;35m\u001b[Kwarning: \u001b[m\u001b[Kcomparison of integer expressions of different signedness: ‘\u001b[01m\u001b[Kint\u001b[m\u001b[K’ and ‘\u001b[01m\u001b[Kstd::vector<int>::size_type\u001b[m\u001b[K’ {aka ‘\u001b[01m\u001b[Klong unsigned int\u001b[m\u001b[K’} [\u001b[01;35m\u001b[K\u001b]8;;https://gcc.gnu.org/onlinedocs/gcc/Warning-Options.html#index-Wsign-compare\u0007-Wsign-compare\u001b]8;;\u0007\u001b[m\u001b[K]\n",
            "  393 |         for (int id = 0; \u001b[01;35m\u001b[Kid < doc_ids.size()\u001b[m\u001b[K; ++id) {\n",
            "      |                          \u001b[01;35m\u001b[K~~~^~~~~~~~~~~~~~~~\u001b[m\u001b[K\n",
            "make: Leaving directory '/content/topk'\n"
          ]
        }
      ]
    },
    {
      "cell_type": "code",
      "source": [
        "!topk/bin/query_doc_scoring_cpu STI2/translate/docs.txt STI2/translate/querys ./cpu_res.txt"
      ],
      "metadata": {
        "colab": {
          "base_uri": "https://localhost:8080/"
        },
        "id": "Yc1YrybV64UN",
        "outputId": "420d597e-d8ca-4538-9f14-7d3cd9ac0eee"
      },
      "execution_count": null,
      "outputs": [
        {
          "output_type": "stream",
          "name": "stdout",
          "text": [
            "/bin/bash: line 1: topk/bin/query_doc_scoring_cpu: No such file or directory\n"
          ]
        }
      ]
    },
    {
      "cell_type": "code",
      "source": [
        "!diff cpu_res.txt STI2/translate/res/result.txt"
      ],
      "metadata": {
        "colab": {
          "base_uri": "https://localhost:8080/"
        },
        "id": "mVsYBAR-8rgh",
        "outputId": "8d942461-7713-4312-bee1-ccf12f0e1d05"
      },
      "execution_count": null,
      "outputs": [
        {
          "output_type": "stream",
          "name": "stdout",
          "text": [
            "diff: cpu_res.txt: No such file or directory\n"
          ]
        }
      ]
    },
    {
      "cell_type": "code",
      "source": [
        "!topk/bin/query_doc_scoring_cpu_concurency STI2/translate/docs.txt STI2/translate/querys ./cpu_concurency_res.txt"
      ],
      "metadata": {
        "colab": {
          "base_uri": "https://localhost:8080/"
        },
        "id": "RQ-TYZtG5Wx8",
        "outputId": "6623c993-1a75-4625-ba54-83de2c663376"
      },
      "execution_count": null,
      "outputs": [
        {
          "output_type": "stream",
          "name": "stdout",
          "text": [
            "/bin/bash: line 1: topk/bin/query_doc_scoring_cpu_concurency: No such file or directory\n"
          ]
        }
      ]
    },
    {
      "cell_type": "code",
      "source": [
        "!diff cpu_concurency_res.txt STI2/translate/res/result.txt"
      ],
      "metadata": {
        "colab": {
          "base_uri": "https://localhost:8080/"
        },
        "id": "RT_UE-Ds78rg",
        "outputId": "dad8e3df-78e9-480b-fd94-24f453e67e73"
      },
      "execution_count": null,
      "outputs": [
        {
          "output_type": "stream",
          "name": "stdout",
          "text": [
            "diff: cpu_concurency_res.txt: No such file or directory\n"
          ]
        }
      ]
    },
    {
      "cell_type": "code",
      "source": [
        "!make -C topk/ build_cpu_gpu BUILD_TYPE=Release"
      ],
      "metadata": {
        "colab": {
          "base_uri": "https://localhost:8080/"
        },
        "id": "ZeovfHds6o6E",
        "outputId": "7a4d0021-7c20-4194-98bc-fce7e9f8b8a2"
      },
      "execution_count": null,
      "outputs": [
        {
          "output_type": "stream",
          "name": "stdout",
          "text": [
            "make: Entering directory '/content/topk'\n",
            "mkdir -p bin\n",
            "nvcc ./main.cpp ./topk.cu -o ./bin/query_doc_scoring_cpu_gpu  \\\n",
            "\t-I./ \\\n",
            "\t-L/usr/local/cuda/lib64 -lcudart -lcuda \\\n",
            "\t-std=c++11 -Xcompiler=\"-Wall -Wextra\" -gencode arch=compute_70,code=sm_70 --expt-relaxed-constexpr \\\n",
            "\t-O3 \\\n",
            "\t-DGPU \\\n",
            "\t-g\n",
            "\u001b[01m\u001b[K./main.cpp:\u001b[m\u001b[K In function ‘\u001b[01m\u001b[Kvoid doc_query_scoring_cpu(std::vector<std::vector<short unsigned int> >&, int, std::vector<std::vector<short unsigned int> >&, std::vector<short unsigned int>&, std::vector<std::vector<int> >&, std::vector<std::vector<float> >&)\u001b[m\u001b[K’:\n",
            "\u001b[01m\u001b[K./main.cpp:171:29:\u001b[m\u001b[K \u001b[01;35m\u001b[Kwarning: \u001b[m\u001b[Kcomparison of integer expressions of different signedness: ‘\u001b[01m\u001b[Kint\u001b[m\u001b[K’ and ‘\u001b[01m\u001b[Kstd::vector<std::vector<short unsigned int> >::size_type\u001b[m\u001b[K’ {aka ‘\u001b[01m\u001b[Klong unsigned int\u001b[m\u001b[K’} [\u001b[01;35m\u001b[K\u001b]8;;https://gcc.gnu.org/onlinedocs/gcc/Warning-Options.html#index-Wsign-compare\u0007-Wsign-compare\u001b]8;;\u0007\u001b[m\u001b[K]\n",
            "  171 |         for (int id = 0; \u001b[01;35m\u001b[Kid < docs.size()\u001b[m\u001b[K; ++id) {\n",
            "      |                          \u001b[01;35m\u001b[K~~~^~~~~~~~~~~~~\u001b[m\u001b[K\n",
            "\u001b[01m\u001b[K./main.cpp:182:29:\u001b[m\u001b[K \u001b[01;35m\u001b[Kwarning: \u001b[m\u001b[Kcomparison of integer expressions of different signedness: ‘\u001b[01m\u001b[Kint\u001b[m\u001b[K’ and ‘\u001b[01m\u001b[Kstd::vector<std::vector<short unsigned int> >::size_type\u001b[m\u001b[K’ {aka ‘\u001b[01m\u001b[Klong unsigned int\u001b[m\u001b[K’} [\u001b[01;35m\u001b[K\u001b]8;;https://gcc.gnu.org/onlinedocs/gcc/Warning-Options.html#index-Wsign-compare\u0007-Wsign-compare\u001b]8;;\u0007\u001b[m\u001b[K]\n",
            "  182 |         for (int id = 0; \u001b[01;35m\u001b[Kid < docs.size()\u001b[m\u001b[K; id++) {\n",
            "      |                          \u001b[01;35m\u001b[K~~~^~~~~~~~~~~~~\u001b[m\u001b[K\n",
            "\u001b[01m\u001b[K./main.cpp:185:31:\u001b[m\u001b[K \u001b[01;35m\u001b[Kwarning: \u001b[m\u001b[Kcomparison of integer expressions of different signedness: ‘\u001b[01m\u001b[Kint\u001b[m\u001b[K’ and ‘\u001b[01m\u001b[Kstd::vector<short unsigned int>::size_type\u001b[m\u001b[K’ {aka ‘\u001b[01m\u001b[Klong unsigned int\u001b[m\u001b[K’} [\u001b[01;35m\u001b[K\u001b]8;;https://gcc.gnu.org/onlinedocs/gcc/Warning-Options.html#index-Wsign-compare\u0007-Wsign-compare\u001b]8;;\u0007\u001b[m\u001b[K]\n",
            "  185 |             for (int j = 0; \u001b[01;35m\u001b[Kj < doc.size()\u001b[m\u001b[K; j++) {\n",
            "      |                             \u001b[01;35m\u001b[K~~^~~~~~~~~~~~\u001b[m\u001b[K\n",
            "\u001b[01m\u001b[K./main.cpp:150:51:\u001b[m\u001b[K \u001b[01;35m\u001b[Kwarning: \u001b[m\u001b[Kunused parameter ‘\u001b[01m\u001b[Klens\u001b[m\u001b[K’ [\u001b[01;35m\u001b[K\u001b]8;;https://gcc.gnu.org/onlinedocs/gcc/Warning-Options.html#index-Wunused-parameter\u0007-Wunused-parameter\u001b]8;;\u0007\u001b[m\u001b[K]\n",
            "  150 |                            \u001b[01;35m\u001b[Kstd::vector<uint16_t>& lens\u001b[m\u001b[K,\n",
            "      |                            \u001b[01;35m\u001b[K~~~~~~~~~~~~~~~~~~~~~~~^~~~\u001b[m\u001b[K\n",
            "\u001b[01m\u001b[0m\u001b[01m./topk.cu(62)\u001b[0m: \u001b[01;35mwarning\u001b[0m #2464-D: conversion from a string literal to \"char *\" is deprecated\n",
            "\n",
            "\u001b[01m\u001b[0m\u001b[01m./topk.cu(65)\u001b[0m: \u001b[01;31merror\u001b[0m: calling a __host__ function(\"\u001b[01mstrtok\u001b[0m\") from a __global__ function(\"\u001b[01mdocQueryScoringCoalescedMemoryAccessSampleKernel\u001b[0m\") is not allowed\n",
            "\n",
            "\u001b[01m\u001b[0m\u001b[01m./topk.cu(65)\u001b[0m: \u001b[01;31merror\u001b[0m: identifier \"\u001b[01mstrtok\u001b[0m\" is undefined in device code\n",
            "\n",
            "\u001b[01m\u001b[0m\u001b[01m./topk.cu(68)\u001b[0m: \u001b[01;31merror\u001b[0m: calling a __host__ function(\"\u001b[01mstrtok\u001b[0m\") from a __global__ function(\"\u001b[01mdocQueryScoringCoalescedMemoryAccessSampleKernel\u001b[0m\") is not allowed\n",
            "\n",
            "\u001b[01m\u001b[0m\u001b[01m./topk.cu(68)\u001b[0m: \u001b[01;31merror\u001b[0m: identifier \"\u001b[01mstrtok\u001b[0m\" is undefined in device code\n",
            "\n",
            "4 errors detected in the compilation of \"./topk.cu\".\n",
            "make: *** [Makefile:46: build_cpu_gpu] Error 1\n",
            "make: Leaving directory '/content/topk'\n"
          ]
        }
      ]
    },
    {
      "cell_type": "code",
      "source": [
        "!topk/bin/query_doc_scoring_cpu_gpu STI2/translate/docs.txt STI2/translate/querys ./cpu_gpu_res.txt"
      ],
      "metadata": {
        "colab": {
          "base_uri": "https://localhost:8080/"
        },
        "id": "Xus_NdvFZ1Wi",
        "outputId": "2a4812fc-9806-4d86-ec22-ff70cc430511"
      },
      "execution_count": null,
      "outputs": [
        {
          "output_type": "stream",
          "name": "stdout",
          "text": [
            "/bin/bash: line 1: topk/bin/query_doc_scoring_cpu_gpu: No such file or directory\n"
          ]
        }
      ]
    },
    {
      "cell_type": "code",
      "source": [
        "!diff cpu_gpu_res.txt STI2/translate/res/result.txt"
      ],
      "metadata": {
        "colab": {
          "base_uri": "https://localhost:8080/"
        },
        "id": "DFiVJzkbaONU",
        "outputId": "584e5865-202e-4746-8407-9d00a0c9542d"
      },
      "execution_count": null,
      "outputs": [
        {
          "output_type": "stream",
          "name": "stdout",
          "text": [
            "1c1\n",
            "< 2701\n",
            "---\n",
            "> 2990\n"
          ]
        }
      ]
    },
    {
      "cell_type": "code",
      "source": [
        "!nvprof --print-gpu-trace topk/bin/query_doc_scoring_cpu_gpu STI2/translate/docs.txt STI2/translate/querys ./cpu_gpu_res_1.txt"
      ],
      "metadata": {
        "colab": {
          "base_uri": "https://localhost:8080/"
        },
        "id": "mNPktqNlpPti",
        "outputId": "bc113614-6fb8-4c57-df43-58cb075847bf"
      },
      "execution_count": null,
      "outputs": [
        {
          "output_type": "stream",
          "name": "stdout",
          "text": [
            "======== Error: application not found.\n"
          ]
        }
      ]
    },
    {
      "cell_type": "code",
      "source": [
        "!nsys profile  -o report_cpu_gpu.nsys-rep topk/bin/query_doc_scoring_cpu_gpu STI2/translate/docs.txt STI2/translate/querys ./cpu_gpu_res_1.txt\n"
      ],
      "metadata": {
        "colab": {
          "base_uri": "https://localhost:8080/"
        },
        "id": "JAY_Pi-FmeHS",
        "outputId": "997d5532-d69b-426a-baec-bda103006e9c"
      },
      "execution_count": null,
      "outputs": [
        {
          "output_type": "stream",
          "name": "stdout",
          "text": [
            "Executable not found in current directory or standard search paths\n"
          ]
        }
      ]
    },
    {
      "cell_type": "code",
      "source": [
        "!ncu --set full --call-stack --nvtx -o report_cpu_gpu topk/bin/query_doc_scoring_cpu_gpu STI2/translate/docs.txt STI2/translate/querys ./cpu_gpu_res_1.txt"
      ],
      "metadata": {
        "colab": {
          "base_uri": "https://localhost:8080/"
        },
        "id": "K6Q2XCESpI22",
        "outputId": "a2e5b955-c5f5-440a-aa7a-1f3b1a89ed2a"
      },
      "execution_count": null,
      "outputs": [
        {
          "output_type": "stream",
          "name": "stdout",
          "text": [
            "==ERROR== 'topk/bin/query_doc_scoring_cpu_gpu' does not exist or is not an executable. Please make sure to specify the absolute path to 'topk/bin/query_doc_scoring_cpu_gpu' if the executable is not in the local directory.\n"
          ]
        }
      ]
    },
    {
      "cell_type": "code",
      "source": [
        "!make -C topk/ build_cpu_concurency_gpu BUILD_TYPE=Release"
      ],
      "metadata": {
        "colab": {
          "base_uri": "https://localhost:8080/"
        },
        "id": "S3Hs6Bxc6t-F",
        "outputId": "cec1a683-b699-476f-b8ea-b99bacc5e1a2"
      },
      "execution_count": null,
      "outputs": [
        {
          "output_type": "stream",
          "name": "stdout",
          "text": [
            "make: Entering directory '/content/topk'\n",
            "make: *** No rule to make target 'build_cpu_concurency_gpu'.  Stop.\n",
            "make: Leaving directory '/content/topk'\n"
          ]
        }
      ]
    },
    {
      "cell_type": "code",
      "source": [
        "!topk/bin/query_doc_scoring_cpu_concurency_gpu STI2/translate/docs.txt STI2/translate/querys ./cpu_concurency_gpu_res.txt"
      ],
      "metadata": {
        "colab": {
          "base_uri": "https://localhost:8080/"
        },
        "id": "WXKHqEoRa28d",
        "outputId": "27c0f400-b8a8-4ce8-d5b4-993dcbdad3bd"
      },
      "execution_count": null,
      "outputs": [
        {
          "output_type": "stream",
          "name": "stdout",
          "text": [
            "/bin/bash: line 1: topk/bin/query_doc_scoring_cpu_concurency_gpu: No such file or directory\n"
          ]
        }
      ]
    },
    {
      "cell_type": "code",
      "source": [
        "!diff cpu_concurency_gpu_res.txt STI2/translate/res/result.txt"
      ],
      "metadata": {
        "colab": {
          "base_uri": "https://localhost:8080/"
        },
        "id": "IfLUEmuCf4qk",
        "outputId": "08b6bee4-a6ed-4677-8327-9ec64b9fcdbb"
      },
      "execution_count": null,
      "outputs": [
        {
          "output_type": "stream",
          "name": "stdout",
          "text": [
            "diff: cpu_concurency_gpu_res.txt: No such file or directory\n"
          ]
        }
      ]
    },
    {
      "cell_type": "code",
      "source": [
        "!nvprof --print-gpu-trace topk/bin/query_doc_scoring_cpu_concurency_gpu STI2/translate/docs.txt STI2/translate/querys ./cpu_concurency_gpu_res.txt"
      ],
      "metadata": {
        "colab": {
          "base_uri": "https://localhost:8080/"
        },
        "id": "0CT8_OkNpp6f",
        "outputId": "e35d0e25-cf14-49f2-8037-504dfd18101c"
      },
      "execution_count": null,
      "outputs": [
        {
          "output_type": "stream",
          "name": "stdout",
          "text": [
            "======== Error: application not found.\n"
          ]
        }
      ]
    },
    {
      "cell_type": "code",
      "source": [
        "!nsys profile  -o report_cpu_concurency_gpu.nsys-rep topk/bin/query_doc_scoring_cpu_concurency_gpu STI2/translate/docs.txt STI2/translate/querys ./cpu_concurency_gpu_res.txt\n"
      ],
      "metadata": {
        "colab": {
          "base_uri": "https://localhost:8080/"
        },
        "id": "EI6nnsS0mx2A",
        "outputId": "ae498aec-d888-44af-d6b4-185ee5f762c6"
      },
      "execution_count": null,
      "outputs": [
        {
          "output_type": "stream",
          "name": "stdout",
          "text": [
            "Executable not found in current directory or standard search paths\n"
          ]
        }
      ]
    },
    {
      "cell_type": "code",
      "source": [
        "!ncu --set full --call-stack --nvtx -o report_cpu_concurency_gpu topk/bin/query_doc_scoring_cpu_concurency_gpu STI2/translate/docs.txt STI2/translate/querys ./cpu_concurency_gpu_res.txt"
      ],
      "metadata": {
        "colab": {
          "base_uri": "https://localhost:8080/"
        },
        "id": "e6Kep-vEOwan",
        "outputId": "7b61f252-3a35-4913-da38-5850f8e39461"
      },
      "execution_count": null,
      "outputs": [
        {
          "output_type": "stream",
          "name": "stdout",
          "text": [
            "==ERROR== 'topk/bin/query_doc_scoring_cpu_concurency_gpu' does not exist or is not an executable. Please make sure to specify the absolute path to 'topk/bin/query_doc_scoring_cpu_concurency_gpu' if the executable is not in the local directory.\n"
          ]
        }
      ]
    },
    {
      "cell_type": "markdown",
      "source": [
        "## insert sort topk"
      ],
      "metadata": {
        "id": "HHXJ1_vE4urh"
      }
    },
    {
      "cell_type": "code",
      "source": [
        "!nvcc sum.cu -o sum"
      ],
      "metadata": {
        "id": "VIq76Vsf8WIq"
      },
      "execution_count": null,
      "outputs": []
    },
    {
      "cell_type": "code",
      "source": [
        "!./sum"
      ],
      "metadata": {
        "colab": {
          "base_uri": "https://localhost:8080/"
        },
        "id": "Lo8H1-cF8ZlE",
        "outputId": "3097e9ef-8e0d-4224-e437-47d970e774c0"
      },
      "execution_count": null,
      "outputs": [
        {
          "output_type": "stream",
          "name": "stdout",
          "text": [
            "Init input source[N]\n",
            "CPU time: 317.27\n",
            "GPU time: 11.21\n",
            "Result: Error\n",
            "GPU_result: 119571172;\n",
            "CPU_result: 450029111;\n"
          ]
        }
      ]
    },
    {
      "cell_type": "code",
      "source": [
        "!nvcc topk.cu -o topk"
      ],
      "metadata": {
        "id": "rUthosFi42yM"
      },
      "execution_count": null,
      "outputs": []
    },
    {
      "cell_type": "code",
      "source": [
        "!./topk"
      ],
      "metadata": {
        "colab": {
          "base_uri": "https://localhost:8080/"
        },
        "id": "VMkjp4CM49Ol",
        "outputId": "04d61093-af44-4772-e978-6b229ae86af0"
      },
      "execution_count": null,
      "outputs": [
        {
          "output_type": "stream",
          "name": "stdout",
          "text": [
            "Init source data...........\n",
            "Complete init source data.....\n",
            "GPU Run **************\n",
            "GPU Complete!!!\n",
            "CPU RUN***************\n",
            "CPU Complete!!!!!CPU top1: 2147483611; GPU top1: 2147483611;\n",
            "CPU top2: 2147483578; GPU top2: 2147483578;\n",
            "CPU top3: 2147483526; GPU top3: 2147483526;\n",
            "CPU top4: 2147483514; GPU top4: 2147483514;\n",
            "CPU top5: 2147483491; GPU top5: 2147483491;\n",
            "CPU top6: 2147483482; GPU top6: 2147483482;\n",
            "CPU top7: 2147483417; GPU top7: 2147483417;\n",
            "CPU top8: 2147483385; GPU top8: 2147483385;\n",
            "CPU top9: 2147483327; GPU top9: 2147483327;\n",
            "CPU top10: 2147483297; GPU top10: 2147483297;\n",
            "CPU top11: 2147483267; GPU top11: 2147483267;\n",
            "CPU top12: 2147483227; GPU top12: 2147483227;\n",
            "CPU top13: 2147483204; GPU top13: 2147483204;\n",
            "CPU top14: 2147483188; GPU top14: 2147483188;\n",
            "CPU top15: 2147483183; GPU top15: 2147483183;\n",
            "CPU top16: 2147483170; GPU top16: 2147483170;\n",
            "CPU top17: 2147483156; GPU top17: 2147483156;\n",
            "CPU top18: 2147483141; GPU top18: 2147483141;\n",
            "CPU top19: 2147483140; GPU top19: 2147483140;\n",
            "CPU top20: 2147483137; GPU top20: 2147483137;\n",
            "Result: Pass\n",
            "CPU time: 5413.41; GPU time: 154.85\n"
          ]
        }
      ]
    },
    {
      "cell_type": "markdown",
      "source": [
        "## sample test"
      ],
      "metadata": {
        "id": "851fkn3d9rXW"
      }
    },
    {
      "cell_type": "code",
      "source": [
        "!make -C topk build_gpu_examples"
      ],
      "metadata": {
        "colab": {
          "base_uri": "https://localhost:8080/"
        },
        "id": "0PEWyyGZH2VU",
        "outputId": "84d6ccd3-bfd4-47a8-abc3-b8658c3175bd"
      },
      "execution_count": null,
      "outputs": [
        {
          "output_type": "stream",
          "name": "stdout",
          "text": [
            "make: Entering directory '/content/topk'\n",
            "mkdir -p bin\n",
            "nvcc ./example_bitonic_sort_topk.cu -o ./bin/example_bitonic_sort_topk  \\\n",
            "\t-L/usr/local/cuda/lib64 -lcudart -lcuda \\\n",
            "\t-std=c++11 -Xcompiler=\"-Wall -Wextra\" -gencode arch=compute_70,code=sm_70 --expt-relaxed-constexpr \\\n",
            "\t-O0 \\\n",
            "\t-g\n",
            "\u001b[01m\u001b[0m\u001b[01m./example_bitonic_sort_topk.cu(8)\u001b[0m: \u001b[01;35mwarning\u001b[0m #177-D: variable \u001b[01m\"id\"\u001b[0m was declared but never referenced\n",
            "\n",
            "\u001b[01m\u001b[0m\u001b[01m./example_bitonic_sort_topk.cu(40)\u001b[0m: \u001b[01;35mwarning\u001b[0m #177-D: variable \u001b[01m\"id\"\u001b[0m was declared but never referenced\n",
            "\n",
            "make: Leaving directory '/content/topk'\n"
          ]
        }
      ]
    },
    {
      "cell_type": "code",
      "source": [
        "!sleep 86400"
      ],
      "metadata": {
        "colab": {
          "base_uri": "https://localhost:8080/"
        },
        "id": "WZBCtfD1_juj",
        "outputId": "83c9f2c0-186b-4504-c2d2-b836286a2599"
      },
      "execution_count": null,
      "outputs": [
        {
          "output_type": "stream",
          "name": "stdout",
          "text": [
            "^C\n"
          ]
        }
      ]
    },
    {
      "cell_type": "code",
      "source": [
        "!cd topk && g++ readfile.cpp -o bin/readfile --std=c++11 -O3"
      ],
      "metadata": {
        "id": "ePjrEqTzlomU"
      },
      "execution_count": null,
      "outputs": []
    },
    {
      "cell_type": "code",
      "source": [
        "!topk/bin/readfile STI2/translate/docs.txt"
      ],
      "metadata": {
        "colab": {
          "base_uri": "https://localhost:8080/"
        },
        "id": "UD8Z7xdVlsmf",
        "outputId": "6f19da8b-b81b-4577-8705-027643cf0c1f"
      },
      "execution_count": null,
      "outputs": [
        {
          "output_type": "stream",
          "name": "stdout",
          "text": [
            "docs_size:7853051 doc_lens_size:7853051\n",
            "read file cost 36537 ms \n"
          ]
        }
      ]
    },
    {
      "cell_type": "code",
      "source": [
        "!cd topk && make build_cpu_gpu_doc_stream BUILD_TYPE=Release"
      ],
      "metadata": {
        "colab": {
          "base_uri": "https://localhost:8080/"
        },
        "id": "qQE4ctsTkkVX",
        "outputId": "6d480f7d-8515-415e-c903-ec04ce80925e"
      },
      "execution_count": null,
      "outputs": [
        {
          "output_type": "stream",
          "name": "stdout",
          "text": [
            "mkdir -p bin\n",
            "nvcc ./main.cpp ./topk_doc_stream.cu -o ./bin/query_doc_scoring_cpu_gpu_doc_stream  \\\n",
            "\t-I./ \\\n",
            "\t-L/usr/local/cuda/lib64 -lcudart -lcuda \\\n",
            "\t-std=c++11 -Xcompiler=\"-Wall -Wextra\" -gencode arch=compute_70,code=sm_70 --expt-relaxed-constexpr \\\n",
            "\t-O3 \\\n",
            "\t-DGPU \\\n",
            "\t-g\n",
            "\u001b[01m\u001b[K./main.cpp:\u001b[m\u001b[K In function ‘\u001b[01m\u001b[Kvoid doc_query_scoring_cpu(std::vector<std::vector<short unsigned int> >&, int, std::vector<std::vector<short unsigned int> >&, std::vector<short unsigned int>&, std::vector<std::vector<int> >&, std::vector<std::vector<float> >&)\u001b[m\u001b[K’:\n",
            "\u001b[01m\u001b[K./main.cpp:171:29:\u001b[m\u001b[K \u001b[01;35m\u001b[Kwarning: \u001b[m\u001b[Kcomparison of integer expressions of different signedness: ‘\u001b[01m\u001b[Kint\u001b[m\u001b[K’ and ‘\u001b[01m\u001b[Kstd::vector<std::vector<short unsigned int> >::size_type\u001b[m\u001b[K’ {aka ‘\u001b[01m\u001b[Klong unsigned int\u001b[m\u001b[K’} [\u001b[01;35m\u001b[K\u001b]8;;https://gcc.gnu.org/onlinedocs/gcc/Warning-Options.html#index-Wsign-compare\u0007-Wsign-compare\u001b]8;;\u0007\u001b[m\u001b[K]\n",
            "  171 |         for (int id = 0; \u001b[01;35m\u001b[Kid < docs.size()\u001b[m\u001b[K; ++id) {\n",
            "      |                          \u001b[01;35m\u001b[K~~~^~~~~~~~~~~~~\u001b[m\u001b[K\n",
            "\u001b[01m\u001b[K./main.cpp:182:29:\u001b[m\u001b[K \u001b[01;35m\u001b[Kwarning: \u001b[m\u001b[Kcomparison of integer expressions of different signedness: ‘\u001b[01m\u001b[Kint\u001b[m\u001b[K’ and ‘\u001b[01m\u001b[Kstd::vector<std::vector<short unsigned int> >::size_type\u001b[m\u001b[K’ {aka ‘\u001b[01m\u001b[Klong unsigned int\u001b[m\u001b[K’} [\u001b[01;35m\u001b[K\u001b]8;;https://gcc.gnu.org/onlinedocs/gcc/Warning-Options.html#index-Wsign-compare\u0007-Wsign-compare\u001b]8;;\u0007\u001b[m\u001b[K]\n",
            "  182 |         for (int id = 0; \u001b[01;35m\u001b[Kid < docs.size()\u001b[m\u001b[K; id++) {\n",
            "      |                          \u001b[01;35m\u001b[K~~~^~~~~~~~~~~~~\u001b[m\u001b[K\n",
            "\u001b[01m\u001b[K./main.cpp:185:31:\u001b[m\u001b[K \u001b[01;35m\u001b[Kwarning: \u001b[m\u001b[Kcomparison of integer expressions of different signedness: ‘\u001b[01m\u001b[Kint\u001b[m\u001b[K’ and ‘\u001b[01m\u001b[Kstd::vector<short unsigned int>::size_type\u001b[m\u001b[K’ {aka ‘\u001b[01m\u001b[Klong unsigned int\u001b[m\u001b[K’} [\u001b[01;35m\u001b[K\u001b]8;;https://gcc.gnu.org/onlinedocs/gcc/Warning-Options.html#index-Wsign-compare\u0007-Wsign-compare\u001b]8;;\u0007\u001b[m\u001b[K]\n",
            "  185 |             for (int j = 0; \u001b[01;35m\u001b[Kj < doc.size()\u001b[m\u001b[K; j++) {\n",
            "      |                             \u001b[01;35m\u001b[K~~^~~~~~~~~~~~\u001b[m\u001b[K\n",
            "\u001b[01m\u001b[K./main.cpp:150:51:\u001b[m\u001b[K \u001b[01;35m\u001b[Kwarning: \u001b[m\u001b[Kunused parameter ‘\u001b[01m\u001b[Klens\u001b[m\u001b[K’ [\u001b[01;35m\u001b[K\u001b]8;;https://gcc.gnu.org/onlinedocs/gcc/Warning-Options.html#index-Wunused-parameter\u0007-Wunused-parameter\u001b]8;;\u0007\u001b[m\u001b[K]\n",
            "  150 |                            \u001b[01;35m\u001b[Kstd::vector<uint16_t>& lens\u001b[m\u001b[K,\n",
            "      |                            \u001b[01;35m\u001b[K~~~~~~~~~~~~~~~~~~~~~~~^~~~\u001b[m\u001b[K\n",
            "\u001b[01m\u001b[K./topk_doc_stream.cu:\u001b[m\u001b[K In function ‘\u001b[01m\u001b[Kvoid doc_query_scoring_gpu(std::vector<std::vector<short unsigned int> >&, int, std::vector<std::vector<short unsigned int> >&, std::vector<short unsigned int>&, std::vector<std::vector<int> >&, std::vector<std::vector<float> >&)\u001b[m\u001b[K’:\n",
            "\u001b[01m\u001b[K./topk_doc_stream.cu:79:19:\u001b[m\u001b[K \u001b[01;35m\u001b[Kwarning: \u001b[m\u001b[Kcomparison of integer expressions of different signedness: ‘\u001b[01m\u001b[Kint\u001b[m\u001b[K’ and ‘\u001b[01m\u001b[Kstd::vector<std::vector<short unsigned int> >::size_type\u001b[m\u001b[K’ {aka ‘\u001b[01m\u001b[Klong unsigned int\u001b[m\u001b[K’} [\u001b[01;35m\u001b[K\u001b]8;;https://gcc.gnu.org/onlinedocs/gcc/Warning-Options.html#index-Wsign-compare\u0007-Wsign-compare\u001b]8;;\u0007\u001b[m\u001b[K]\n",
            "   79 |     for (int i =\u001b[01;35m\u001b[K 0; i < docs.si\u001b[m\u001b[Kze(); i++) {\n",
            "      |                 \u001b[01;35m\u001b[K~~^~~~~~~~~~~~~\u001b[m\u001b[K\n",
            "\u001b[01m\u001b[K./topk_doc_stream.cu:80:19:\u001b[m\u001b[K \u001b[01;35m\u001b[Kwarning: \u001b[m\u001b[Kcomparison of integer expressions of different signedness: ‘\u001b[01m\u001b[Kint\u001b[m\u001b[K’ and ‘\u001b[01m\u001b[Kstd::vector<short unsigned int>::size_type\u001b[m\u001b[K’ {aka ‘\u001b[01m\u001b[Klong unsigned int\u001b[m\u001b[K’} [\u001b[01;35m\u001b[K\u001b]8;;https://gcc.gnu.org/onlinedocs/gcc/Warning-Options.html#index-Wsign-compare\u0007-Wsign-compare\u001b]8;;\u0007\u001b[m\u001b[K]\n",
            "   80 |         for (int\u001b[01;35m\u001b[K j = 0; j < docs[i\u001b[m\u001b[K].size(); j++) {\n",
            "      |                 \u001b[01;35m\u001b[K~~^~~~~~~~~~~~~~~~\u001b[m\u001b[K\n",
            "\u001b[01m\u001b[K./topk_doc_stream.cu:100:19:\u001b[m\u001b[K \u001b[01;35m\u001b[Kwarning: \u001b[m\u001b[Kcomparison of integer expressions of different signedness: ‘\u001b[01m\u001b[Kint\u001b[m\u001b[K’ and ‘\u001b[01m\u001b[Klong unsigned int\u001b[m\u001b[K’ [\u001b[01;35m\u001b[K\u001b]8;;https://gcc.gnu.org/onlinedocs/gcc/Warning-Options.html#index-Wsign-compare\u0007-Wsign-compare\u001b]8;;\u0007\u001b[m\u001b[K]\n",
            "  100 |         for (int\u001b[01;35m\u001b[K i = 0; i \u001b[m\u001b[K< n_docs; ++i) {\n",
            "      |                 \u001b[01;35m\u001b[K~~^~~~~~~~\u001b[m\u001b[K\n",
            "\u001b[01m\u001b[K./topk_doc_stream.cu:59:1:\u001b[m\u001b[K \u001b[01;35m\u001b[Kwarning: \u001b[m\u001b[Kunused parameter ‘\u001b[01m\u001b[Klens\u001b[m\u001b[K’ [\u001b[01;35m\u001b[K\u001b]8;;https://gcc.gnu.org/onlinedocs/gcc/Warning-Options.html#index-Wunused-parameter\u0007-Wunused-parameter\u001b]8;;\u0007\u001b[m\u001b[K]\n",
            "   58 |       \u001b[01;35m\u001b[K                     std::vector<std::vector<uint16_t>> &docs,\u001b[m\u001b[K\n",
            "      |                            \u001b[01;35m\u001b[K~~~~~~~~~~~~~~~~~~~~~~~~~~~~~~~~~~~~~~~~~\u001b[m\u001b[K\n",
            "   59 | \u001b[01;35m\u001b[K    \u001b[m\u001b[K                       std::vector<uint16_t> &lens,\n",
            "      | \u001b[01;35m\u001b[K^\u001b[m\u001b[K   \n",
            "\u001b[01m\u001b[K./topk_doc_stream.cu:183:5:\u001b[m\u001b[K \u001b[01;35m\u001b[Kwarning: \u001b[m\u001b[K‘\u001b[01m\u001b[Kvoid free(void*)\u001b[m\u001b[K’ called on pointer returned from a mismatched allocation function [\u001b[01;35m\u001b[K\u001b]8;;https://gcc.gnu.org/onlinedocs/gcc/Warning-Options.html#index-Wmismatched-new-delete\u0007-Wmismatched-new-delete\u001b]8;;\u0007\u001b[m\u001b[K]\n",
            "  183 | \u001b[01;35m\u001b[K    free(h_d\u001b[m\u001b[Kocs);\n",
            "      |     \u001b[01;35m\u001b[K^~~~~~~~\u001b[m\u001b[K\n",
            "\u001b[01m\u001b[K./topk_doc_stream.cu:76:48:\u001b[m\u001b[K \u001b[01;36m\u001b[Knote: \u001b[m\u001b[Kreturned from ‘\u001b[01m\u001b[Kvoid* operator new [](std::size_t)\u001b[m\u001b[K’\n",
            "   76 |     uint16_t *h_docs = new uint16_t[MAX_DOC_SIZ\u001b[01;36m\u001b[KE\u001b[m\u001b[K * n_docs];\n",
            "      |                                                \u001b[01;36m\u001b[K^\u001b[m\u001b[K\n"
          ]
        }
      ]
    },
    {
      "cell_type": "code",
      "source": [
        "!topk/bin/query_doc_scoring_cpu_gpu_doc_stream STI2/translate/docs.txt STI2/translate/querys ./res_gpu_doc_stream.txt"
      ],
      "metadata": {
        "colab": {
          "base_uri": "https://localhost:8080/"
        },
        "id": "YTE89nEAs6-l",
        "outputId": "5f9df528-39d5-470c-e2a2-d63787ac7311"
      },
      "execution_count": null,
      "outputs": [
        {
          "output_type": "stream",
          "name": "stdout",
          "text": [
            "start get topk\n",
            "query1.txt:10, 11, 16, 17, 42, 60, 22524, 22546, 22590, 22784, 23212, 23427, 23485, 23525, 23554, 24129, 24133, 24645, 24804, 24875, 25129, 25242, 25502, 25705, 25994, 26000, 26045, 26046, 26077, 26114, 26247, 26338, 26407, 27263, 27468, 27513, 28100, 40111, 40228, 40388, 41700, 45156, 45946, 46367, 47181, 47460, 47672\n",
            "query2.txt:10, 16, 18, 21, 22, 23, 30, 42, 43, 44, 45, 54, 22497, 22512, 22524, 22533, 22535, 22608, 22624, 22790, 22828, 22836, 22885, 23188, 23381, 23409, 23558, 24103, 24197, 24250, 24496, 24918, 24974, 24987, 25179, 25317, 25827, 25994, 25996, 26009, 26015, 26023, 26030, 26050, 26052, 26082, 26096, 26205, 26247, 27399, 27475, 40029, 40300, 40416, 40504, 40696, 40837, 41166, 41172, 41336, 41407, 41516, 43247, 43309, 44547, 44795, 45101, 48828\n",
            "query3.txt:11, 12, 13, 14, 21, 22, 23, 33, 42, 53, 61, 1380, 1545, 1546, 1557, 1560, 1566, 1569, 1583, 1646, 1759, 1762, 1787, 1794, 1877, 1882, 1892, 2069, 2120, 2146, 2368, 2670, 2888, 3022, 3327, 3335, 22460, 22461, 22462, 22497, 22507, 22512, 22797, 22828, 22885, 23010, 23112, 23337, 23351, 23358, 23441, 23930, 24093, 24301, 24320, 24416, 24771, 25378, 25476, 25846, 25882, 25994, 26692, 26992, 30070, 30085, 30111, 30116, 30188, 30195, 30294, 30332, 30476, 30488, 30656, 30731, 30920, 31021, 31024, 31382, 31493, 31510, 31562, 32167, 32657, 33375, 34247, 35336, 36536, 37502, 37643, 38316, 40228, 40510, 40620, 40785, 40793, 41176, 42143, 42766, 43047, 43895, 45069, 46492, 47956, 48995, 49443\n",
            "query4.txt:11, 18, 30, 32, 60, 1557, 1622, 2279, 22469, 22470, 22497, 22590, 22652, 22921, 22940, 23264, 23441, 24138, 26009, 26038, 26046, 26901, 27654, 30040, 30651, 31928, 32002, 32497, 40074, 40411, 40446, 41107, 46175, 46608\n",
            "query5.txt:11, 18, 35, 50, 54, 60, 22533, 22608, 22624, 22686, 22777, 22782, 23140, 23215, 24212, 25188, 26030, 26054, 26259, 26323, 28175, 40366, 40908, 42041\n",
            "query6.txt:21, 1557, 1559, 1561, 1565, 1568, 2118, 22590, 30489\n",
            "query7.txt:16, 17, 42, 22497, 22524, 22652, 22686, 22735, 22736, 22777, 23489, 23535, 25994, 26013, 26069, 26077, 26114, 26251, 26297, 26628, 26633, 26705, 27123, 27320, 40111, 41533, 42195, 42733, 42837, 46956, 49373\n",
            "query8.txt:16, 18, 21, 22, 30, 35, 42, 1600, 1614, 1707, 1875, 2088, 22459, 22463, 22464, 22466, 22474, 22497, 22502, 22507, 22512, 22529, 22533, 22535, 22590, 22608, 22652, 22684, 22686, 22777, 22795, 22803, 22824, 22828, 22867, 22971, 22972, 23066, 23116, 23150, 23188, 23199, 23289, 23312, 23692, 23760, 23927, 24089, 24136, 24301, 25166, 25359, 25502, 25582, 25994, 26015, 26043, 26086, 26114, 26236, 26251, 26515, 27125, 27276, 28235, 28283, 28297, 32541, 33756, 40210, 40320, 40945, 41092, 41096, 41123, 41245, 41665, 41762, 42525, 42820, 43852, 45045, 45264, 47110, 47491, 47632, 47763, 48145, 49837\n",
            "query9.txt:18, 30, 1388, 1557, 1622, 2279, 22469, 22470, 22535, 22777, 24309, 26007, 26046, 26217, 26530, 27824, 30040, 30651, 31928, 32002, 32497, 40074, 41796, 43144, 44293, 46955, 47628, 48045\n",
            "query_size: 9\n",
            "doc_size: 7853052\n",
            "read file cost 36637 ms \n",
            " Creating 8 CUDA streams.\n",
            "stream_id:  0 docs_len:981631\n",
            "stream_id:  1 docs_len:981631\n",
            "stream_id:  2 docs_len:981631\n",
            "stream_id:  3 docs_len:981631\n",
            "stream_id:  4 docs_len:981631\n",
            "stream_id:  5 docs_len:981631\n",
            "stream_id:  6 docs_len:981631\n",
            "stream_id:  7 docs_len:981635\n",
            " Creating 8 CUDA streams.\n",
            "stream_id:  0 docs_len:981631\n",
            "stream_id:  1 docs_len:981631\n",
            "stream_id:  2 docs_len:981631\n",
            "stream_id:  3 docs_len:981631\n",
            "stream_id:  4 docs_len:981631\n",
            "stream_id:  5 docs_len:981631\n",
            "stream_id:  6 docs_len:981631\n",
            "stream_id:  7 docs_len:981635\n",
            " Creating 8 CUDA streams.\n",
            "stream_id:  0 docs_len:981631\n",
            "stream_id:  1 docs_len:981631\n",
            "stream_id:  2 docs_len:981631\n",
            "stream_id:  3 docs_len:981631\n",
            "stream_id:  4 docs_len:981631\n",
            "stream_id:  5 docs_len:981631\n",
            "stream_id:  6 docs_len:981631\n",
            "stream_id:  7 docs_len:981635\n",
            " Creating 8 CUDA streams.\n",
            "stream_id:  0 docs_len:981631\n",
            "stream_id:  1 docs_len:981631\n",
            "stream_id:  2 docs_len:981631\n",
            "stream_id:  3 docs_len:981631\n",
            "stream_id:  4 docs_len:981631\n",
            "stream_id:  5 docs_len:981631\n",
            "stream_id:  6 docs_len:981631\n",
            "stream_id:  7 docs_len:981635\n",
            " Creating 8 CUDA streams.\n",
            "stream_id:  0 docs_len:981631\n",
            "stream_id:  1 docs_len:981631\n",
            "stream_id:  2 docs_len:981631\n",
            "stream_id:  3 docs_len:981631\n",
            "stream_id:  4 docs_len:981631\n",
            "stream_id:  5 docs_len:981631\n",
            "stream_id:  6 docs_len:981631\n",
            "stream_id:  7 docs_len:981635\n",
            " Creating 8 CUDA streams.\n",
            "stream_id:  0 docs_len:981631\n",
            "stream_id:  1 docs_len:981631\n",
            "stream_id:  2 docs_len:981631\n",
            "stream_id:  3 docs_len:981631\n",
            "stream_id:  4 docs_len:981631\n",
            "stream_id:  5 docs_len:981631\n",
            "stream_id:  6 docs_len:981631\n",
            "stream_id:  7 docs_len:981635\n",
            " Creating 8 CUDA streams.\n",
            "stream_id:  0 docs_len:981631\n",
            "stream_id:  1 docs_len:981631\n",
            "stream_id:  2 docs_len:981631\n",
            "stream_id:  3 docs_len:981631\n",
            "stream_id:  4 docs_len:981631\n",
            "stream_id:  5 docs_len:981631\n",
            "stream_id:  6 docs_len:981631\n",
            "stream_id:  7 docs_len:981635\n",
            " Creating 8 CUDA streams.\n",
            "stream_id:  0 docs_len:981631\n",
            "stream_id:  1 docs_len:981631\n",
            "stream_id:  2 docs_len:981631\n",
            "stream_id:  3 docs_len:981631\n",
            "stream_id:  4 docs_len:981631\n",
            "stream_id:  5 docs_len:981631\n",
            "stream_id:  6 docs_len:981631\n",
            "stream_id:  7 docs_len:981635\n",
            " Creating 8 CUDA streams.\n",
            "stream_id:  0 docs_len:981631\n",
            "stream_id:  1 docs_len:981631\n",
            "stream_id:  2 docs_len:981631\n",
            "stream_id:  3 docs_len:981631\n",
            "stream_id:  4 docs_len:981631\n",
            "stream_id:  5 docs_len:981631\n",
            "stream_id:  6 docs_len:981631\n",
            "stream_id:  7 docs_len:981635\n",
            "indices: 838822 898995 736455 761490 768500 851631 870617 928864 937201 973928 975221 652980 672897 673787 688252 699924 708213 728617 753553 760784 769807 782782 783913 791318 801556 801560 803383 804526 806825 810488 814386 831072 836443 838422 853357 883420 884781 890364 892811 894534 900092 906541 916266 916793 928204 931581 935359 939483 943189 945751 952906 954777 955964 956140 957381 962502 965142 967562 970089 976789 979424 363681 389817 486971 514955 522279 544230 588543 593603 599214 600704 601986 607284 624154 624739 629352 635225 636031 636071 638218 641001 648606 648747 649380 650258 660711 667271 681545 691732 692630 693163 694145 694883 695951 696845 697542 698939 702741 704765 705672 \n",
            "833939 892028 920993 931246 788188 851395 868678 886723 923119 962179 594793 611759 695965 758521 836924 858237 861589 875353 878941 880825 882405 912100 913366 914774 955626 962857 964841 964871 973162 978584 981432 526828 580313 582149 603066 623761 638218 682917 689539 693526 697477 707399 764569 767367 767771 773267 774508 794124 799030 799273 803610 805821 812125 818282 826675 830878 831076 835084 838573 853174 866324 877674 878072 878474 891590 893227 895442 898234 899344 902273 903103 918972 921077 922278 926754 926979 928924 931511 939624 941546 942724 943764 947315 950879 951909 954406 957100 958977 964382 965303 972312 981351 537633 547996 567203 571800 581006 605958 611791 615563 \n",
            "781428 827866 964334 969963 573523 699638 752271 752795 772179 796076 849182 853151 867257 921077 921172 611494 674459 736927 750699 751506 767730 789916 798150 810366 817553 824670 833939 854793 861017 866583 872982 889519 900287 902364 908072 912235 920993 925654 928498 931511 936084 936689 936749 937396 942904 950818 964841 964871 977992 979725 981238 370704 384744 402552 430522 443567 516554 545976 546170 562853 570933 580313 583693 584931 585127 595723 606821 622358 633305 633948 634117 634722 641374 649780 659529 673234 675936 676586 685393 685438 695688 696450 701129 704376 706763 708377 711012 715351 734481 734630 735863 743951 751998 752083 760261 760476 760603 764640 765150 767309 \n",
            "829802 853151 760001 905930 554859 724415 745675 847228 883206 906267 929541 949893 950908 954760 981525 524132 540823 543896 544486 562910 607509 613595 640156 659430 662912 669289 679330 704428 706025 711614 713697 722078 723336 729765 731986 738963 740258 743635 752913 753785 762154 768342 769807 775847 776530 798223 805619 808530 811215 820807 823379 827104 827130 829798 831482 846081 862960 863250 865293 866119 867315 868040 869369 879623 885106 885597 889544 891247 892923 892997 896339 900591 902136 903064 904321 905122 905579 909810 916793 916953 922525 925777 928974 930509 932748 933643 936330 938116 939677 946489 950535 950936 954544 956370 959146 960012 970473 976613 978636 979587 \n",
            "955556 857657 861206 876417 887623 966192 729848 745780 749289 749373 760378 764793 780966 798345 810283 812428 827239 837136 837140 853523 873004 899373 909533 919961 923692 927885 928574 936409 947049 952761 953239 953243 954777 959414 964113 964417 965654 966539 972596 976613 408656 447894 481999 536120 539616 540121 540432 573324 576584 586173 591518 607474 616507 622493 644176 647245 657100 666423 670028 670032 671029 676167 677804 682264 697934 701883 703247 707749 709018 709446 711868 716203 718108 721738 734126 736299 737854 743058 746156 751453 753601 754640 756809 758961 760382 760597 761954 762574 764782 766752 773112 778841 784365 787245 788854 789940 790014 790237 792011 792145 \n",
            "230088 216345 300968 310475 313394 335841 477634 380161 216355 221125 245181 249389 250057 258787 275508 276123 283647 285468 296469 407825 417190 435352 319823 321730 322082 323362 323414 325227 326290 332158 334029 340528 342509 343808 347376 357886 443567 459973 472416 359093 361271 365156 367910 368402 370943 371985 373272 373911 376475 382018 382512 385341 385723 386186 389431 393049 394524 397101 481907 490402 492867 499195 80159 102319 122643 125549 129103 144371 152315 160917 162756 163548 179228 189783 197367 201911 204896 207340 210713 226315 229678 230908 236088 241337 242610 243337 245775 246131 246545 247410 247512 248928 250397 250645 250924 254491 254735 255364 255905 256907 \n",
            "964841 667271 630033 650258 677671 772291 792145 834742 909695 927653 942910 950883 957635 593643 608153 638174 648606 660711 696845 699598 701976 703042 703182 704540 721738 731414 738103 742989 744565 749686 752311 752624 752691 758842 765476 766489 769014 777696 777740 778556 779007 785161 789712 790809 794731 797911 798287 801502 802054 802750 808666 809619 812231 812238 823525 829282 833939 837094 841723 848145 848779 849095 849854 850215 851363 851712 851758 852205 853151 853856 855781 857350 865056 865241 869196 873589 874181 874223 875997 877984 878824 881433 883647 883837 890605 897192 898935 900969 903103 905830 907462 915113 918639 920029 920993 922900 923382 924625 930867 935126 \n",
            "861589 933760 733659 765150 838573 848317 850215 877674 878824 879982 899157 916842 931649 946972 950908 965887 966687 972596 976762 651703 668934 702750 712623 714160 729737 752950 755402 767724 767771 773267 787943 788595 791321 799273 820709 822556 833939 847141 853151 855114 855781 873818 878134 880825 882096 883614 897300 897630 904131 910301 912100 916154 920542 924823 926797 931246 933615 937035 937201 939387 941546 945377 946024 946911 948382 953562 954678 957100 959124 962857 964841 964871 968254 975547 975899 534146 566647 572653 577351 578096 582149 611759 623761 639789 665091 678979 682917 686695 688338 692115 695067 695965 699703 700249 701592 702926 703930 710620 710728 715355 \n",
            "972287 574052 319272 574048 796001 883206 903064 903679 927465 954760 703041 748705 765040 766665 771746 868040 877891 885746 896339 921344 933643 953110 958218 972283 272793 325859 364635 459197 494556 500864 504959 554859 556998 557570 558425 576153 583811 586016 607509 614357 617274 618144 626678 629557 631561 632862 644262 646507 648662 648731 655298 659430 660365 671948 685953 691768 695067 699225 700928 706375 707977 708488 708636 711614 718303 720533 721358 723336 735358 740258 743395 748953 751994 752913 759173 760001 766125 769626 769807 775397 785477 785567 792832 793181 795778 797672 797771 807943 810646 810689 811112 811215 813363 820775 824241 824485 826428 826609 828640 831482 \n",
            "topk cost 6174 ms \n",
            "all cost 42812 ms \n",
            "end get topk\n"
          ]
        }
      ]
    },
    {
      "cell_type": "code",
      "source": [
        "!diff ./res_gpu_doc_stream.txt STI2/translate/res/result.txt"
      ],
      "metadata": {
        "colab": {
          "base_uri": "https://localhost:8080/"
        },
        "id": "bYfm9fKrxoMp",
        "outputId": "26bfa128-190b-4f59-f6ae-0a7469157c69"
      },
      "execution_count": null,
      "outputs": [
        {
          "output_type": "stream",
          "name": "stdout",
          "text": [
            "1,10c1,10\n",
            "< 6391\n",
            "< 2095355\t2104387\t2118767\t2147776\t2055923\t2206974\t2238603\t2020057\t2267746\t2220291\t2151279\t2154228\t1960823\t2001825\t2005314\t2029722\t2054064\t2098358\t2099815\t2287637\t2300031\t2158918\t2167292\t2177721\t2177855\t1981772\t2196213\t2520566\t1917947\t2017068\t2028496\t2083981\t2323778\t2247926\t2282000\t2202772\t2227479\t2236897\t2186351\t2028110\t2079765\t2486485\t2150430\t2381725\t1760981\t1855263\t1869531\t1877846\t1885219\t1896166\t1950185\t2119578\t2126999\t2306247\t2315934\t1776753\t1811788\t1848411\t1901590\t2026760\t2042826\t2073036\t2217999\t2224835\t1709996\t1754639\t1844734\t1987029\t2091827\t2093706\t2284846\t2151301\t2328000\t2351661\t1706744\t2081563\t2597490\t1759061\t2011063\t2077727\t2737847\t2362721\t1956654\t2193430\t2236145\t1462218\t1816978\t1897084\t1897296\t1902180\t1925148\t1933929\t1952948\t1958058\t1975060\t1984389\t1984524\t1987018\t2034453\t2070402\n",
            "< 3354548\t3385811\t3457483\t3584604\t3229654\t2491259\t3320427\t3340108\t2374643\t3657624\t3516117\t2403142\t3631235\t3648390\t3732526\t2575906\t2228660\t1839330\t3110584\t3242875\t3405025\t3557359\t3160212\t3163915\t3273973\t3307943\t3769564\t3806523\t3602105\t2729851\t2934266\t2981855\t3279884\t3629929\t2792939\t2982729\t2988175\t3135869\t3223714\t3305058\t3355769\t3450767\t3503322\t3515979\t3546639\t3651887\t1991883\t2661022\t2701924\t2731188\t3033866\t3093990\t3174760\t3179151\t3218768\t3350236\t3369672\t3383786\t3394555\t3718076\t3570449\t3574824\t3777334\t3587218\t3605208\t3868121\t3898614\t3902399\t2204093\t2322853\t2672853\t2751259\t2828732\t2879438\t2976417\t3012444\t3029707\t3039967\t3054977\t3090094\t3092642\t3092646\t3110288\t3132040\t3137181\t3144177\t3147849\t3156462\t3166063\t3179837\t3184917\t3193891\t3223877\t3237897\t3253186\t3265006\t3272634\t3301915\t3302837\t3303329\n",
            "< 2665443\t2862865\t2901753\t3053942\t3150957\t3596558\t2971061\t3920388\t1657741\t1400612\t3049174\t2708275\t3205664\t3078714\t2212032\t2479138\t3013485\t3128711\t2826708\t2894977\t2906761\t3291760\t3760049\t2273905\t2578672\t2988146\t3097061\t3098357\t3119953\t3127363\t3278836\t3395187\t3457583\t3538469\t3543595\t3590560\t3599048\t3644657\t3735363\t3882064\t2390593\t2542879\t2547813\t2580449\t2602667\t2781697\t2819789\t2911521\t2935228\t2944959\t3020870\t3063133\t3067272\t3071743\t3117913\t3140671\t3195897\t3223935\t3253850\t3295841\t3311055\t3328875\t3367097\t3404596\t3451600\t3529485\t3534642\t3671145\t3720820\t3722266\t3760672\t3805373\t3827105\t3830534\t3838328\t3875445\t2057196\t2329430\t2337038\t2410337\t2533040\t2590226\t2630670\t2687589\t2732575\t2745836\t2790485\t2835391\t2836542\t2837234\t2844096\t2857385\t2873850\t2878844\t2894808\t2898103\t2900680\t2989751\t2991282\t3023649\n",
            "< 1451621\t1382250\t1540932\t1450640\t1262561\t1566407\t1335473\t1620570\t1568523\t1526647\t1193260\t1422092\t1747981\t1695638\t1607748\t1635620\t1642524\t1748205\t1753426\t1756651\t1419752\t1692014\t1588632\t1764065\t1771377\t1750716\t1751898\t1314500\t1843821\t1562610\t1800155\t1549401\t1934867\t1952083\t1905795\t1681426\t2043426\t2116556\t2057656\t2066523\t2007984\t2082505\t2182954\t1883266\t829798\t2159965\t1713928\t1740800\t2598035\t2078676\t2476390\t2235444\t2478468\t1368552\t1395880\t1462012\t1477362\t1600656\t1181306\t1196062\t1217764\t1288223\t1332553\t1351327\t1359159\t1362783\t1365758\t1380350\t1403060\t1417818\t1418885\t1419478\t1427076\t1444403\t1446024\t1503685\t1528297\t1533183\t1564895\t1597464\t1456464\t1460135\t1474289\t1474708\t1479651\t1486246\t1486492\t1487213\t1487637\t1488488\t1498977\t1499199\t1727770\t1759843\t1650266\t1500479\t1501508\t1512040\t1513500\t1515434\n",
            "< 909608\t827239\t835944\t1106301\t670028\t760378\t1044469\t1256458\t971408\t1660188\t1386593\t1671117\t735164\t1758848\t1017181\t1019690\t1692876\t2253771\t756936\t834248\t857722\t885607\t1060121\t1518619\t983548\t991371\t993929\t2581823\t1216837\t1118431\t1141285\t1021830\t1024975\t1261547\t609363\t667110\t682264\t709182\t710432\t724946\t725523\t729305\t740024\t755611\t756670\t758961\t781663\t786129\t801445\t805738\t806569\t807739\t816678\t836966\t837206\t843575\t845992\t849308\t869084\t871776\t879533\t879937\t882969\t885608\t912651\t922608\t923211\t923499\t926660\t931621\t934316\t935962\t936424\t940713\t947015\t1188043\t1195753\t1064897\t1073029\t1081561\t1085457\t1098145\t963544\t968685\t969495\t969629\t969712\t971107\t975396\t976841\t978251\t978646\t979620\t980553\t983371\t984343\t985531\t986554\t988549\t991986\n",
            "< 230088\t216345\t335841\t216355\t221125\t245181\t249389\t258787\t260338\t268707\t275508\t283647\t289840\t296469\t303765\t304960\t332158\t340257\t459973\t705453\t368402\t373272\t382018\t382512\t385416\t393049\t494937\t499195\t80159\t102319\t122643\t125549\t129103\t144371\t152315\t160917\t162756\t163548\t179228\t189783\t197367\t201911\t204896\t207340\t210713\t226315\t229678\t230908\t236088\t242610\t243337\t243469\t246131\t246545\t247410\t247512\t248928\t250397\t250645\t250924\t254735\t255364\t255905\t256907\t257049\t259373\t260849\t263383\t263969\t264490\t268276\t270056\t270066\t270625\t271384\t271979\t274215\t275061\t276638\t279100\t279293\t281102\t282094\t282671\t284256\t284399\t284584\t284830\t285141\t287445\t293236\t293255\t293426\t294634\t295633\t296782\t297192\t297212\t297567\t298392\n",
            "< 1252669\t1066220\t1113897\t1150249\t1225249\t1576475\t970072\t1062988\t1921858\t2038652\t1893335\t1902421\t1919831\t1570616\t1180462\t1253004\t1275185\t1778618\t1806495\t1636840\t1645131\t1340543\t1683061\t2193399\t1354964\t1375114\t1886051\t1912531\t1554340\t1410377\t741971\t761714\t804954\t807786\t979150\t1036320\t1057415\t1064814\t1128680\t1129108\t1130413\t1146890\t1159505\t1215641\t1237718\t1241113\t1261613\t1263035\t1265342\t1265913\t1276543\t1296138\t1628438\t1986166\t1486770\t1845529\t2059320\t2061277\t1673579\t1701207\t1305112\t1313043\t1317069\t1317770\t1320371\t1331999\t1868618\t1731236\t1750223\t1350425\t1352075\t1356161\t1369660\t1372557\t1380687\t1384142\t1396978\t1944015\t1944444\t1555051\t1573799\t1586971\t1979519\t2004460\t2013511\t2026808\t1398638\t1405631\t1418585\t1419455\t1425885\t1431017\t1433791\t1434724\t1434744\t1442980\t1443172\t1445877\t1446322\t1447671\n",
            "< 3303318\t2856019\t3022313\t3282491\t3354882\t3399241\t2605412\t2907487\t3016606\t3040444\t3334415\t2918194\t2947243\t3092826\t3359236\t3454766\t3831167\t2655912\t2713308\t2603676\t2690301\t2765912\t2173953\t2447871\t2380355\t2350028\t1938413\t3512021\t1852565\t2194103\t3679886\t1601700\t2624022\t3060446\t3341702\t3534361\t3907293\t3429052\t3238869\t3399837\t3383934\t3399725\t3475715\t2796695\t3139728\t3158413\t3189479\t3726913\t2616302\t2711955\t2799938\t2826072\t2831040\t3315118\t3449319\t3717608\t3756718\t3780929\t3888803\t2570158\t2924763\t2971002\t3025128\t3065866\t3078644\t3131423\t3152627\t3159049\t3228326\t3232885\t3243305\t3254208\t3263021\t3284640\t3317115\t3429229\t3437338\t3500993\t3555221\t3566814\t3589724\t3597154\t3603697\t3614121\t3626506\t3640357\t3641020\t3660986\t3664197\t3665479\t3667868\t3684695\t3685384\t3704988\t3705256\t3711229\t3738775\t3757879\t3758553\t3769908\n",
            "< 1064412\t1212301\t1337544\t1279350\t1221518\t1244284\t1244680\t1165199\t972283\t1009627\t1094325\t1252175\t1260777\t1268224\t1384210\t1393825\t1310814\t1315547\t1317017\t1324553\t1329501\t1341171\t1477389\t1427999\t1443623\t1351931\t1352887\t1363146\t1292801\t1480921\t1490375\t1499799\t1435011\t1366052\t1485951\t1565048\t1566093\t1500616\t1511639\t1512826\t1538358\t1547424\t1307186\t1318251\t1418128\t1439307\t1440123\t1554073\t1571537\t1576178\t1588176\t1597752\t1690975\t1484789\t1486511\t1435168\t1596407\t1772693\t1380085\t1774156\t1622281\t1467924\t1527674\t1876256\t1951930\t1613338\t574048\t2078346\t1661370\t1932445\t1450838\t1182901\t1216202\t1237692\t1060174\t1086354\t1091797\t1100362\t1123673\t1133630\t1149061\t1348497\t1255132\t1255449\t1260932\t1264037\t1275180\t1288477\t1150172\t1153735\t1184612\t1189700\t1535638\t1403109\t1403478\t1408418\t1299546\t1303931\t1305020\t1307673\n",
            "---\n",
            "> 2990\n",
            "> 2095355\t2104387\t2118767\t2147776\t2055923\t2206974\t2238603\t2020057\t2267746\t2220291\t2151279\t2154228\t1960823\t2001825\t2005314\t2029722\t2054064\t2098358\t2099815\t2287637\t2300031\t2158918\t2167292\t2177721\t2177855\t1981772\t2196213\t2520566\t1917947\t2017068\t2028496\t2083981\t2323778\t2247926\t2282000\t2202772\t2227479\t2236897\t2186351\t2486485\t2150430\t2381725\t1760981\t1855263\t1869531\t1877846\t1885219\t1896166\t1950185\t2028110\t2079765\t2119578\t2126999\t2306247\t2315934\t1776753\t1811788\t1848411\t1901590\t2026760\t2042826\t2073036\t2217999\t2224835\t1709996\t1754639\t1844734\t1987029\t2091827\t2093706\t2284846\t2151301\t2328000\t2351661\t1706744\t2081563\t2597490\t1759061\t2011063\t2077727\t2737847\t2362721\t1956654\t2193430\t2236145\t1462218\t1816978\t1897084\t1897296\t1902180\t1925148\t1933929\t1952948\t1958058\t1975060\t1984389\t1984524\t1987018\t2013793\t2034453\n",
            "> 3354548\t3584604\t3385811\t3457483\t3229654\t3732526\t3320427\t3340108\t2491259\t3743142\t3631235\t3648390\t3657624\t3516117\t2374643\t2403142\t2575906\t2228660\t4836663\t1839330\t4591327\t3557359\t4697352\t3405025\t3570449\t3602105\t3110584\t3160212\t3212061\t3223714\t3242875\t3273973\t3307943\t3957807\t3992214\t3769564\t3806523\t3629929\t3651887\t2729851\t2934266\t3163915\t3305058\t3355769\t3503322\t3135869\t3350236\t3546639\t3574824\t3989624\t4006619\t3587218\t3601233\t3668228\t4131144\t2828732\t3033866\t3179151\t3273208\t3279884\t3366688\t3394555\t3768327\t4193955\t4227290\t3515312\t4052232\t3859022\t5064216\t3596686\t3605208\t3644977\t3647798\t3648284\t4156166\t3868121\t3875989\t3898614\t3912700\t3947820\t3958906\t1991883\t2204093\t2322853\t2661022\t2672853\t2738909\t2762270\t2792939\t3012444\t3029707\t3039967\t3092642\t3114822\t3137181\t3156462\t3166063\t3179837\t3184917\t3193891\n",
            "> 7788441\t7802401\t7782377\t7801971\t7814975\t7781694\t7810594\t7808590\t7843401\t7809945\t7846914\t7831446\t7761434\t6484473\t7351329\t7839524\t4498898\t2862865\t4338988\t5093113\t5330069\t2665443\t3053942\t7830965\t2901753\t2971061\t7343026\t7796214\t5240653\t3150957\t4269653\t5185997\t7820720\t3596558\t7763100\t7725698\t7796468\t7726591\t7753631\t7773714\t7483244\t7621636\t7738376\t7796323\t5634249\t7675769\t7787293\t5774762\t7632020\t7686575\t6427189\t7634212\t7692514\t7723174\t7759886\t1657741\t6379050\t7736250\t7760888\t6938835\t7681597\t7720071\t7799338\t7799616\t7814678\t6481180\t6920816\t6950153\t7107304\t7333006\t7657685\t7676458\t7732898\t7775566\t1400612\t5594644\t6363869\t6613416\t7267834\t7516270\t7533604\t7709970\t7818223\t7825162\t5124248\t6210009\t6475394\t7183416\t7218286\t7343105\t7781483\t7847590\t6089541\t6539482\t6791103\t7391558\t7725914\t7745458\t7766653\t7836635\n",
            "> 1451621\t1382250\t1540932\t1450640\t1262561\t1566407\t1526647\t1335473\t1692014\t1620570\t1568523\t1193260\t1422092\t1695638\t1607748\t1635620\t1642524\t1747981\t1748205\t1750716\t1753426\t1756651\t1419752\t1588632\t1549401\t1764065\t1771377\t1751898\t1314500\t1843821\t1562610\t1800155\t1905795\t1934867\t1952083\t1681426\t2043426\t2007984\t2116556\t2057656\t2066523\t2182954\t2082505\t1713928\t2235444\t2159965\t2078676\t1883266\t829798\t1740800\t2476390\t2478468\t2598035\t1395880\t1462012\t1474708\t1477362\t1181306\t1196062\t1288223\t1332553\t1351327\t1359159\t1362783\t1368552\t1380350\t1401753\t1403060\t1417818\t1418885\t1419478\t1427076\t1444403\t1446024\t1503685\t1528297\t1533183\t1564895\t1580725\t1597464\t1455141\t1456464\t1460135\t1474289\t1479651\t1486246\t1486492\t1487213\t1487637\t1488488\t1498977\t1499199\t1727770\t1500479\t1501508\t1512040\t1513500\t1515434\t1519849\t1523134\n",
            "> 909608\t827239\t835944\t1106301\t670028\t760378\t1044469\t1256458\t971408\t1660188\t1386593\t735164\t1758848\t1671117\t1017181\t1019690\t1692876\t2253771\t756936\t830452\t834248\t1060121\t1518619\t969495\t978646\t983548\t991371\t993929\t2581823\t1118431\t1021830\t1261547\t609363\t682264\t709182\t710432\t724946\t729305\t740024\t755611\t756670\t758961\t781663\t786129\t801445\t805738\t806569\t807739\t816678\t836966\t837206\t843575\t845992\t849308\t857722\t869084\t879533\t879937\t882969\t885608\t912651\t922608\t923211\t923499\t931621\t934316\t936424\t940713\t1195753\t1064897\t1098145\t968685\t969629\t976841\t978251\t979620\t980553\t983371\t984343\t985531\t986554\t988549\t991986\t995536\t1199336\t2937143\t1123418\t1137482\t1140941\t1141285\t1143722\t1144931\t1145908\t1253432\t1007549\t1007815\t1008286\t1008490\t1014131\t1015355\n",
            "> 230088\t216345\t335841\t216355\t221125\t245181\t249389\t258787\t275508\t283647\t296469\t332158\t459973\t705453\t368402\t373272\t382018\t382512\t393049\t499195\t80159\t102319\t122643\t125549\t129103\t144371\t152315\t160917\t162756\t163548\t179228\t189783\t197367\t201911\t204896\t207340\t210713\t226315\t229678\t230908\t236088\t242610\t243337\t246131\t246545\t247410\t247512\t248928\t250397\t250645\t250924\t254735\t255364\t255905\t256907\t257049\t259373\t260849\t263383\t264490\t268276\t270056\t270066\t270625\t271384\t271979\t274215\t275061\t276638\t279100\t279293\t281102\t282094\t284399\t284584\t285141\t287445\t293255\t293426\t294634\t295633\t296782\t297212\t297567\t298392\t300284\t301462\t302150\t303991\t304008\t306190\t306667\t307532\t308167\t308411\t308865\t310691\t312850\t315951\t317078\n",
            "> 1252669\t1066220\t1113897\t1150249\t1225249\t1576475\t970072\t1921858\t2038652\t1893335\t1902421\t1919831\t1570616\t1275185\t1778618\t1806495\t1636840\t1645131\t1683061\t2193399\t1375114\t1886051\t1912531\t1410377\t741971\t761714\t804954\t807786\t1062988\t1064814\t1130413\t1180462\t1253004\t1628438\t1986166\t2059320\t2061277\t1673579\t1701207\t1313043\t1868618\t1731236\t1750223\t1369660\t1380687\t1944444\t1573799\t1586971\t2026808\t1431017\t1433791\t1434744\t1445877\t1615562\t1642850\t1655089\t1828376\t1866084\t625063\t800738\t880457\t894216\t920367\t934990\t945747\t967598\t968216\t1036585\t1039949\t1066090\t1071212\t1086204\t1088107\t1100729\t1105698\t1120282\t1124245\t1132413\t1137647\t1147687\t1149454\t1150791\t1173007\t1176259\t1180793\t1181975\t1192835\t1193281\t1194979\t1199928\t1200103\t1216272\t1219634\t1221329\t1224794\t1228791\t1230024\t1237788\t1244042\t1245441\n",
            "> 6090639\t6550548\t6509567\t6584130\t6249854\t6696550\t6975462\t4599120\t4893967\t5007683\t6082923\t4545070\t4905833\t4968540\t4987919\t5247193\t5960912\t4640042\t4696758\t4721792\t4770021\t4818769\t4819777\t4822667\t4831686\t4841459\t4846437\t4848344\t4864511\t4865656\t4878130\t4894561\t4964502\t4968150\t4972261\t4977180\t5013779\t5015959\t5032262\t5047996\t5050707\t5070563\t5077156\t5083985\t5089526\t5099112\t5107786\t5113537\t5131943\t5150792\t5153381\t5157118\t5159109\t5161050\t5173782\t5223515\t5238178\t5261106\t5357067\t5398027\t5492820\t5661935\t6814748\t4770830\t4773247\t4829337\t4843465\t4851947\t4883775\t4884056\t4907090\t4916550\t4941515\t5043457\t5062701\t5066526\t5076851\t5092793\t5098747\t5101607\t5169146\t5178885\t5205714\t5242125\t5268978\t5330039\t5341655\t5366055\t5491355\t5496175\t5904757\t5965198\t4575321\t4892562\t4897602\t4910754\t4976057\t4977960\t5019812\t5024983\n",
            "> 1064412\t1212301\t1165199\t1324553\t1337544\t1279350\t1221518\t1244284\t1244680\t972283\t1009627\t1094325\t1252175\t1260777\t1268224\t1384210\t1393825\t1310814\t1315547\t1317017\t1329501\t1341171\t1292801\t1477389\t1427999\t1443623\t1351931\t1352887\t1363146\t1307186\t1480921\t1490375\t1499799\t1418128\t1435011\t1439307\t1440123\t1366052\t1485951\t1486511\t1565048\t1566093\t1500616\t1511639\t1512826\t1538358\t1547424\t1318251\t1554073\t1571537\t1576178\t1588176\t1596407\t1597752\t1690975\t1484789\t1613338\t1622281\t1435168\t1661370\t1772693\t1774156\t1467924\t1527674\t1380085\t1876256\t574048\t1951930\t2078346\t1932445\t2416096\t1450838\t1182901\t1216202\t1237692\t1060174\t1086354\t1091797\t1100362\t1123673\t1133630\t1149061\t1348497\t1255132\t1255449\t1260932\t1264037\t1275180\t1288477\t1150172\t1153735\t1184612\t1184758\t1189700\t1535638\t1403109\t1403478\t1408418\t1299546\t1303931\n"
          ]
        }
      ]
    },
    {
      "cell_type": "code",
      "source": [
        "!cd topk && nvcc ./stream.cu -o ./bin/stream && ./bin/stream"
      ],
      "metadata": {
        "colab": {
          "base_uri": "https://localhost:8080/"
        },
        "id": "3IlsNdwuoR3G",
        "outputId": "cc6bff56-e8fa-44c8-b385-d8e3b6b3bce8"
      },
      "execution_count": null,
      "outputs": [
        {
          "output_type": "stream",
          "name": "stdout",
          "text": [
            "Number of device(s): 1\n",
            "Device 0\n",
            "    Name:                    Tesla T4\n",
            "    Glocbal memory:          15101.8 MB\n",
            "    Shared memory per block: 48 KB\n",
            "    Warp size:               32\n",
            "    Max thread per block:    1024\n",
            "    Thread dimension limits: 1024 x 1024 x 64\n",
            "    Max grid size:           2147483647 x 65535 x 65535\n",
            "    Compute capability:      7.5\n",
            " \n",
            "Generating 7680 x 4320 BRGA8888 image, data size: 132710400\n",
            " \n",
            "Computing results using CPU.\n",
            " \n",
            "    Whole process took 497.971ms.\n",
            " \n",
            "Computing results using GPU, default stream.\n",
            " \n",
            "    Move data to GPU.\n",
            "        Data transfer took 12.0095ms.\n",
            "        Performance is 11.0504GB/s.\n",
            "    Convert 8-bit BGRA to 8-bit YUV.\n",
            "        Processing of 8K image took 1.70637ms.\n",
            "        Performance is 77.7736GB/s.\n",
            "    Move data to CPU.\n",
            "        Data transfer took 8.13226ms.\n",
            "        Performance is 12.2393GB/s.\n",
            "    Whole process took 21.8481ms.\n",
            "    Compare CPU and GPU results ...\n",
            "        Results are the same.\n",
            " \n",
            "Computing results using GPU, using 16 streams.\n",
            " \n",
            "    Creating 16 CUDA streams.\n",
            "        Launching stream 0.\n",
            "        Launching stream 1.\n",
            "        Launching stream 2.\n",
            "        Launching stream 3.\n",
            "        Launching stream 4.\n",
            "        Launching stream 5.\n",
            "        Launching stream 6.\n",
            "        Launching stream 7.\n",
            "        Launching stream 8.\n",
            "        Launching stream 9.\n",
            "        Launching stream 10.\n",
            "        Launching stream 11.\n",
            "        Launching stream 12.\n",
            "        Launching stream 13.\n",
            "        Launching stream 14.\n",
            "        Launching stream 15.\n",
            "    Whole process took 14.1979ms.\n",
            "    Compare CPU and GPU results ...\n",
            "        Results are the same.\n"
          ]
        }
      ]
    },
    {
      "cell_type": "markdown",
      "source": [
        "# rapidsai - cudf\n",
        "use chunk multibyte_split, strings split, gpu accelerate.\n",
        "\n",
        "1. https://github.com/rapidsai/cudf/blob/branch-23.12/CONTRIBUTING.md#build-cudf-from-source"
      ],
      "metadata": {
        "id": "Rz7nEJ9gQOJe"
      }
    },
    {
      "cell_type": "code",
      "source": [
        "!pip install \\\n",
        "    --extra-index-url=https://pypi.nvidia.com \\\n",
        "    cudf-cu11"
      ],
      "metadata": {
        "id": "wMpPxxN6smzo"
      },
      "execution_count": null,
      "outputs": []
    },
    {
      "cell_type": "code",
      "source": [
        "!git clone https://github.com/rapidsai/cudf.git"
      ],
      "metadata": {
        "id": "7X9cznQ3Qc0J"
      },
      "execution_count": null,
      "outputs": []
    },
    {
      "cell_type": "code",
      "source": [
        "!cd cudf && ./build.sh --help"
      ],
      "metadata": {
        "id": "0Tc0kj3HQlQf"
      },
      "execution_count": null,
      "outputs": []
    },
    {
      "cell_type": "code",
      "source": [
        "!cd cudf && ./build.sh libcudf"
      ],
      "metadata": {
        "id": "L3GF81KNRUKA"
      },
      "execution_count": null,
      "outputs": []
    },
    {
      "cell_type": "code",
      "source": [
        "!tar -zcvf libcudf2.tar.gz /include /lib/libcudf.so"
      ],
      "metadata": {
        "id": "wI8r4k0ORo6j"
      },
      "execution_count": null,
      "outputs": []
    },
    {
      "cell_type": "code",
      "source": [
        "!ls /include/\n",
        "!ls /lib\n"
      ],
      "metadata": {
        "id": "vJhaRR8yQXxo"
      },
      "execution_count": null,
      "outputs": []
    },
    {
      "cell_type": "code",
      "source": [
        "!git clone https://github.com/gabime/spdlog.git"
      ],
      "metadata": {
        "id": "bS7kQ3XVarQl"
      },
      "execution_count": null,
      "outputs": []
    },
    {
      "cell_type": "code",
      "source": [
        "!cd spdlog && cmake -B build -S . && make -C build -j"
      ],
      "metadata": {
        "id": "W5I0wTQ3bGIr"
      },
      "execution_count": null,
      "outputs": []
    },
    {
      "cell_type": "code",
      "source": [
        "!cp -r ./spdlog/include/spdlog/fmt/bundled /include/spdlog/fmt/"
      ],
      "metadata": {
        "id": "CEILx6hpcJMR"
      },
      "execution_count": null,
      "outputs": []
    },
    {
      "cell_type": "code",
      "source": [
        "!tar -zxvf libcudf.tar.gz"
      ],
      "metadata": {
        "id": "0bBMiuYOx9Sc"
      },
      "execution_count": null,
      "outputs": []
    },
    {
      "cell_type": "code",
      "source": [
        "!cp -r /include/arrow ./include/"
      ],
      "metadata": {
        "id": "QejTmJOmXZY7"
      },
      "execution_count": null,
      "outputs": []
    },
    {
      "cell_type": "code",
      "source": [
        "!cd topk && nvcc example_readfile.cpp readfile.cu -o readfile -O3 --std=c++17 \\\n",
        "  -I./ -I/include -L/lib -lcudf -L/usr/local/cuda/lib64 -lcudart -lcuda -DGPU -DFMT_HEADER_ONLY --expt-relaxed-constexpr"
      ],
      "metadata": {
        "id": "PuaVsv8IXBWx"
      },
      "execution_count": null,
      "outputs": []
    },
    {
      "cell_type": "code",
      "source": [
        "!cat topk/data.txt"
      ],
      "metadata": {
        "colab": {
          "base_uri": "https://localhost:8080/"
        },
        "id": "vxhLZSgVL_iG",
        "outputId": "00992d5c-3b2a-4e6d-9d71-366274d82e80"
      },
      "execution_count": null,
      "outputs": [
        {
          "output_type": "stream",
          "name": "stdout",
          "text": [
            "0, 1, 3\n",
            "1, 2, 3, 4\n",
            "4, 5, 6, 5\n",
            "7, 2"
          ]
        }
      ]
    },
    {
      "cell_type": "code",
      "source": [
        "!topk/readfile topk/data.txt chunk"
      ],
      "metadata": {
        "colab": {
          "base_uri": "https://localhost:8080/"
        },
        "id": "CYp0DceMYdEA",
        "outputId": "90bb195e-229f-4d20-b310-7724b009ebc0"
      },
      "execution_count": 147,
      "outputs": [
        {
          "output_type": "stream",
          "name": "stdout",
          "text": [
            "file size: 34\n",
            "chunk size: 268435456\n",
            " fread size: 34\n",
            " buffer: 0, 1, 3\n",
            "1, 2, 3, 4\n",
            "4, 5, 6, 5\n",
            "7, 2\n",
            "\n",
            "tid:0 docid:0 s:0 e:3 sub_view_size:3\n",
            "\n",
            "tid:1 docid:1 s:3 e:7 sub_view_size:4\n",
            "\n",
            "tid:2 docid:2 s:7 e:11 sub_view_size:4\n",
            "\n",
            "tid:3 docid:3 s:11 e:13 sub_view_size:2\n",
            "0,1,4,7,1,2,5,2,3,3,6,4,5,readcnt: 1\n",
            "doccnt: 4\n",
            "docs_size:0 doc_lens_size:0\n",
            "read file cost 1183 ms \n"
          ]
        }
      ]
    },
    {
      "cell_type": "code",
      "source": [
        "!topk/readfile STI2/translate/docs.txt chunk"
      ],
      "metadata": {
        "colab": {
          "base_uri": "https://localhost:8080/"
        },
        "id": "h0l5ZrK_Zn1t",
        "outputId": "b6a24027-8bfb-4c8b-a057-93d739dbbbaf"
      },
      "execution_count": 158,
      "outputs": [
        {
          "output_type": "stream",
          "name": "stdout",
          "text": [
            "file size: 3287460378\n",
            "chunk size: 268435456\n",
            " fread size: 268435456\n",
            " fread size: 268435456\n",
            " fread size: 268435456\n",
            " fread size: 268435456\n",
            " fread size: 268435456\n",
            " fread size: 268435456\n",
            " fread size: 268435456\n",
            " fread size: 268435456\n",
            " fread size: 268435456\n",
            " fread size: 268435456\n",
            " fread size: 268435456\n",
            " fread size: 268435456\n",
            " fread size: 66239130\n",
            "readcnt: 13\n",
            "doccnt: 7853052\n",
            "docs_size:0 doc_lens_size:0\n",
            "read file cost 9145 ms \n"
          ]
        }
      ]
    },
    {
      "cell_type": "markdown",
      "source": [
        "todo: use stream pool"
      ],
      "metadata": {
        "id": "kaiRPDqhipWa"
      }
    },
    {
      "cell_type": "code",
      "source": [
        "!topk/readfile STI2/translate/docs.txt line"
      ],
      "metadata": {
        "colab": {
          "base_uri": "https://localhost:8080/"
        },
        "id": "-SSgdZtXfugf",
        "outputId": "fe6a9c2f-e193-49a0-8fcf-e5b6bd494a4b"
      },
      "execution_count": null,
      "outputs": [
        {
          "output_type": "stream",
          "name": "stdout",
          "text": [
            "docs_size:7853051 doc_lens_size:7853051\n",
            "read file cost 34274 ms \n"
          ]
        }
      ]
    },
    {
      "cell_type": "code",
      "source": [
        "!topk/readfile STI2/translate/docs.txt buffer"
      ],
      "metadata": {
        "colab": {
          "base_uri": "https://localhost:8080/"
        },
        "id": "TiPh7OuqhQlu",
        "outputId": "50fc0b12-edb7-45fa-bd9f-f9a059f0ef59"
      },
      "execution_count": null,
      "outputs": [
        {
          "output_type": "stream",
          "name": "stdout",
          "text": [
            "readcnt: 7 fread size: 3287461913\n",
            "docs_size:7853051 doc_lens_size:7853051\n",
            "read file cost 42369 ms \n"
          ]
        }
      ]
    },
    {
      "cell_type": "markdown",
      "source": [
        "# rapidsai - RAFT\n",
        "\n",
        "use select k -> sort -> top k. gpu accelerate\n",
        "\n",
        "1. https://github.com/rapidsai/raft/blob/branch-23.12/docs/source/build.md"
      ],
      "metadata": {
        "id": "_eS0jfoLQmJp"
      }
    },
    {
      "cell_type": "code",
      "source": [
        "!apt install ninja-build"
      ],
      "metadata": {
        "colab": {
          "base_uri": "https://localhost:8080/"
        },
        "id": "m517uFqwKchl",
        "outputId": "2fa0aaa2-71d5-4089-9c2a-9dfc5dab612f"
      },
      "execution_count": 148,
      "outputs": [
        {
          "output_type": "stream",
          "name": "stdout",
          "text": [
            "Reading package lists... Done\n",
            "Building dependency tree... Done\n",
            "Reading state information... Done\n",
            "The following NEW packages will be installed:\n",
            "  ninja-build\n",
            "0 upgraded, 1 newly installed, 0 to remove and 19 not upgraded.\n",
            "Need to get 111 kB of archives.\n",
            "After this operation, 358 kB of additional disk space will be used.\n",
            "Get:1 http://archive.ubuntu.com/ubuntu jammy/universe amd64 ninja-build amd64 1.10.1-1 [111 kB]\n",
            "Fetched 111 kB in 0s (249 kB/s)\n",
            "Selecting previously unselected package ninja-build.\n",
            "(Reading database ... 120874 files and directories currently installed.)\n",
            "Preparing to unpack .../ninja-build_1.10.1-1_amd64.deb ...\n",
            "Unpacking ninja-build (1.10.1-1) ...\n",
            "Setting up ninja-build (1.10.1-1) ...\n",
            "Processing triggers for man-db (2.10.2-1) ...\n"
          ]
        }
      ]
    },
    {
      "cell_type": "code",
      "source": [
        "!git clone https://github.com/rapidsai/raft.git"
      ],
      "metadata": {
        "colab": {
          "base_uri": "https://localhost:8080/"
        },
        "id": "JYftcEk1Qrxe",
        "outputId": "9a4c9402-fff8-4d3a-a60e-ecbd5c1ec8d4"
      },
      "execution_count": 149,
      "outputs": [
        {
          "output_type": "stream",
          "name": "stdout",
          "text": [
            "Cloning into 'raft'...\n",
            "remote: Enumerating objects: 30965, done.\u001b[K\n",
            "remote: Counting objects: 100% (722/722), done.\u001b[K\n",
            "remote: Compressing objects: 100% (340/340), done.\u001b[K\n",
            "remote: Total 30965 (delta 443), reused 590 (delta 360), pack-reused 30243\u001b[K\n",
            "Receiving objects: 100% (30965/30965), 12.60 MiB | 23.75 MiB/s, done.\n",
            "Resolving deltas: 100% (22183/22183), done.\n"
          ]
        }
      ]
    },
    {
      "cell_type": "code",
      "source": [
        "!cd raft && ./build.sh --help"
      ],
      "metadata": {
        "colab": {
          "base_uri": "https://localhost:8080/"
        },
        "id": "kg6aTe3mVATT",
        "outputId": "a35a62be-5b98-45b9-c37d-cfb84bd2c709"
      },
      "execution_count": 150,
      "outputs": [
        {
          "output_type": "stream",
          "name": "stdout",
          "text": [
            "./build.sh [<target> ...] [<flag> ...] [--cmake-args=\"<args>\"] [--cache-tool=<tool>] [--limit-tests=<targets>] [--limit-bench-prims=<targets>] [--limit-bench-ann=<targets>] [--build-metrics=<filename>]\n",
            " where <target> is:\n",
            "   clean            - remove all existing build artifacts and configuration (start over)\n",
            "   libraft          - build the raft C++ code only. Also builds the C-wrapper library\n",
            "                      around the C++ code.\n",
            "   pylibraft        - build the pylibraft Python package\n",
            "   raft-dask        - build the raft-dask Python package. this also requires pylibraft.\n",
            "   docs             - build the documentation\n",
            "   tests            - build the tests\n",
            "   bench-prims      - build micro-benchmarks for primitives\n",
            "   bench-ann        - build end-to-end ann benchmarks\n",
            "   template         - build the example RAFT application template\n",
            "\n",
            " and <flag> is:\n",
            "   -v                          - verbose build mode\n",
            "   -g                          - build for debug\n",
            "   -n                          - no install step\n",
            "   --uninstall                 - uninstall files for specified targets which were built and installed prior\n",
            "   --compile-lib               - compile shared library for all components\n",
            "   --compile-static-lib        - compile static library for all components\n",
            "   --cpu-only                  - build CPU only components without CUDA. Applies to bench-ann only currently.\n",
            "   --limit-tests               - semicolon-separated list of test executables to compile (e.g. NEIGHBORS_TEST;CLUSTER_TEST)\n",
            "   --limit-bench-prims         - semicolon-separated list of prims benchmark executables to compute (e.g. NEIGHBORS_PRIMS_BENCH;CLUSTER_PRIMS_BENCH)\n",
            "   --limit-bench-ann           - semicolon-separated list of ann benchmark executables to compute (e.g. HNSWLIB_ANN_BENCH;RAFT_IVF_PQ_ANN_BENCH)\n",
            "   --allgpuarch                - build for all supported GPU architectures\n",
            "   --no-nvtx                   - disable nvtx (profiling markers), but allow enabling it in downstream projects\n",
            "   --show_depr_warn            - show cmake deprecation warnings\n",
            "   --build-metrics             - filename for generating build metrics report for libraft\n",
            "   --incl-cache-stats          - include cache statistics in build metrics report\n",
            "   --cmake-args=\\\"<args>\\\" - pass arbitrary list of CMake configuration options (escape all quotes in argument)\n",
            "   --cache-tool=<tool>         - pass the build cache tool (eg: ccache, sccache, distcc) that will be used\n",
            "                                 to speedup the build process.\n",
            "   --time                      - Enable nvcc compilation time logging into cpp/build/nvcc_compile_log.csv.\n",
            "                                 Results can be interpreted with cpp/scripts/analyze_nvcc_log.py\n",
            "   -h                          - print this text\n",
            "\n",
            " default action (no args) is to build libraft, tests, pylibraft and raft-dask targets\n",
            "\n"
          ]
        }
      ]
    },
    {
      "cell_type": "code",
      "source": [
        "!ls /lib"
      ],
      "metadata": {
        "id": "pljtEEcpyy7z"
      },
      "execution_count": null,
      "outputs": []
    },
    {
      "cell_type": "code",
      "source": [
        "!cd raft && ./build.sh libraft --compile-lib"
      ],
      "metadata": {
        "id": "VtjlrRzNVFzY"
      },
      "execution_count": null,
      "outputs": []
    },
    {
      "cell_type": "code",
      "source": [
        "!tar -zcvf libraft.tar.gz /content/raft/cpp/build/install"
      ],
      "metadata": {
        "id": "-1Shub1XPxWw"
      },
      "execution_count": null,
      "outputs": []
    },
    {
      "cell_type": "code",
      "source": [
        "!ls -hg"
      ],
      "metadata": {
        "colab": {
          "base_uri": "https://localhost:8080/"
        },
        "id": "46QgTzE3TAon",
        "outputId": "bef64845-adb5-4f82-eb09-112d3cfff7db"
      },
      "execution_count": 159,
      "outputs": [
        {
          "output_type": "stream",
          "name": "stdout",
          "text": [
            "total 1.1G\n",
            "drwxr-xr-x 12 root 4.0K Nov  9 03:38 cudf\n",
            "drwxr-xr-x  7 root 4.0K Nov  9 05:06 include\n",
            "drwxr-xr-x  2 root 4.0K Nov  9 05:05 lib\n",
            "-rw-r--r--  1 root  66M Nov  9 04:39 libcudf2.tar.gz\n",
            "-rw-r--r--  1 root  61M Nov  9 03:45 libcudf.tar.gz\n",
            "drwxr-xr-x  3 root 4.0K Nov  9 03:36 __MACOSX\n",
            "drwxr-xr-x 13 root 4.0K Nov  9 09:06 raft\n",
            "drwxr-xr-x  1 root 4.0K Nov  7 14:26 sample_data\n",
            "drwxr-xr-x 12 root 4.0K Nov  9 03:40 spdlog\n",
            "drwxr-xr-x  5 root 4.0K Oct 13 08:58 STI2\n",
            "-rw-r--r--  1 root 960M Oct 18 12:42 STI2_1017.zip\n",
            "drwxr-xr-x  3 root 4.0K Nov  9 09:39 topk\n"
          ]
        }
      ]
    }
  ]
}