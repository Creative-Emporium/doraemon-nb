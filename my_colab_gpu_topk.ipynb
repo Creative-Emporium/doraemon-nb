{
  "nbformat": 4,
  "nbformat_minor": 0,
  "metadata": {
    "colab": {
      "provenance": [],
      "gpuType": "T4",
      "authorship_tag": "ABX9TyO7Z6V4Y43JguwGTtkHJ5Qc",
      "include_colab_link": true
    },
    "kernelspec": {
      "name": "python3",
      "display_name": "Python 3"
    },
    "language_info": {
      "name": "python"
    },
    "accelerator": "GPU"
  },
  "cells": [
    {
      "cell_type": "markdown",
      "metadata": {
        "id": "view-in-github",
        "colab_type": "text"
      },
      "source": [
        "<a href=\"https://colab.research.google.com/github/weedge/doraemon-nb/blob/main/my_colab_gpu_topk.ipynb\" target=\"_parent\"><img src=\"https://colab.research.google.com/assets/colab-badge.svg\" alt=\"Open In Colab\"/></a>"
      ]
    },
    {
      "cell_type": "markdown",
      "source": [
        "# task\n",
        "【任务描述】\n",
        "给定850万条规模的数据文件，每条数据是最大128维度的整型id向量 （称为doc），id取值范围是0-50000，给定一个最大128维的整型id向量（称为query），数据集可以扩散进行优化.\n",
        "\n",
        "求query与doc全集内各数据交集个数平均分 topk (k=100); 这里定义item交集分数为：\n",
        "query[i] == doc[j] (0<=i<query_size, 0<=j<doc_size) 算一个交集, 平均分为 query与doc交集数目/max(query_size,doc_size)\n",
        "``` shell\n",
        "./bin/query_doc_scoring <doc_file_name> <query_file_name> <output_filename>\n",
        "```\n",
        "\n",
        "# optimize\n",
        "1. currency(cpu thread pool) + parallel(gpu warp pool): cpu(baseline) -> cpu thread currency -> cpu + gpu -> cpu thread currency + gpu\n",
        "2. find or filter: use hash/bitmap(bloom)\n",
        "3. topk sort: heap sort (partial_sort) -> bitonic sort (gpu parallel)\n",
        "4. search: need build index (list(IVF,skip),tree or graph), orderly struct\n",
        "5. SIMD: for cpu arch instruction set (sse,avx2,avx512)\n",
        "\n",
        "# reference\n",
        "- https://docs.nvidia.com/cuda/cuda-c-programming-guide/index.html\n",
        "- https://docs.nvidia.com/cuda/cuda-c-best-practices-guide/index.html\n",
        "- https://docs.nvidia.com/cuda/cuda-compiler-driver-nvcc/index.html\n",
        "- https://docs.nvidia.com/cuda/cuda-runtime-api/index.html\n",
        "- https://www.youtube.com/watch?v=cOBtkPsgkus\n",
        "\n",
        "\n",
        "\n",
        "\n"
      ],
      "metadata": {
        "id": "aMdCQaWebOOG"
      }
    },
    {
      "cell_type": "code",
      "source": [
        "!wget https://developer.download.nvidia.com/compute/cuda/repos/ubuntu2204/x86_64/nsight-systems-2023.2.3_2023.2.3.1001-1_amd64.deb\n",
        "!apt update\n",
        "!apt install ./nsight-systems-2023.2.3_2023.2.3.1001-1_amd64.deb\n",
        "!apt --fix-broken install\n"
      ],
      "metadata": {
        "id": "HrBuKvu-ETAp"
      },
      "execution_count": null,
      "outputs": []
    },
    {
      "cell_type": "code",
      "source": [
        "!wget \"https://bj.bcebos.com/v1/ai-studio-online/9805dd2d2e8e472693efac637628e16b9f9c5be0fe30438bb4a80de3b386781a?responseContentDisposition=attachment%3B%20filename%3DSTI2_1017.zip&authorization=bce-auth-v1%2F5cfe9a5e1454405eb2a975c43eace6ec%2F2023-10-18T12%3A42%3A27Z%2F-1%2F%2F6b5388dcd9013bc9b340bb1806476afa938ce0c65f2f595e1a75f529e90e4187\" -O STI2_1017.zip"
      ],
      "metadata": {
        "id": "RaVp3M11Ehkd"
      },
      "execution_count": null,
      "outputs": []
    },
    {
      "cell_type": "code",
      "source": [
        "!rm -rf STI2 && unzip STI2_1017.zip && mv STI2\\ 2 STI2"
      ],
      "metadata": {
        "id": "hncSzwE_Ej_i"
      },
      "execution_count": null,
      "outputs": []
    },
    {
      "cell_type": "code",
      "source": [
        "!sh STI2/build.sh"
      ],
      "metadata": {
        "colab": {
          "base_uri": "https://localhost:8080/"
        },
        "id": "nAUCeZk0EqND",
        "outputId": "a215344e-92eb-4372-f753-4039a9d1542a"
      },
      "execution_count": 5,
      "outputs": [
        {
          "output_type": "stream",
          "name": "stdout",
          "text": [
            "build success\n"
          ]
        }
      ]
    },
    {
      "cell_type": "markdown",
      "source": [
        "### just dev/test with colab vim IDE ❤ 🐑 🐑 🐑"
      ],
      "metadata": {
        "id": "puvz3VbkcZW1"
      }
    },
    {
      "cell_type": "code",
      "source": [
        "!mkdir -p querys"
      ],
      "metadata": {
        "id": "Zt7gMH6YHScl"
      },
      "execution_count": 6,
      "outputs": []
    },
    {
      "cell_type": "code",
      "source": [
        "!touch querys/query0.txt"
      ],
      "metadata": {
        "id": "7ReQfKwTHgR-"
      },
      "execution_count": 8,
      "outputs": []
    },
    {
      "cell_type": "code",
      "source": [
        "!rm -f docs.txt && touch docs.txt"
      ],
      "metadata": {
        "id": "CrYq4B6lPogK"
      },
      "execution_count": 10,
      "outputs": []
    },
    {
      "cell_type": "code",
      "source": [
        "!nvcc STI2/src/main.cpp STI2/src/topk.cu -o ./query_doc_scoring -I./ -ISTI2/src -L/usr/local/cuda/lib64 -lcudart -lcuda  -O3 -g"
      ],
      "metadata": {
        "id": "G2jCNhgEFaLz"
      },
      "execution_count": 21,
      "outputs": []
    },
    {
      "cell_type": "code",
      "source": [
        "!./query_doc_scoring ./docs.txt ./querys ./res.txt"
      ],
      "metadata": {
        "id": "7KmDKnXfIAXp",
        "colab": {
          "base_uri": "https://localhost:8080/"
        },
        "outputId": "3296eca3-3290-43c9-a060-19dc2a9a60ef"
      },
      "execution_count": 12,
      "outputs": [
        {
          "output_type": "stream",
          "name": "stdout",
          "text": [
            "start get topk\n",
            "query0.txt:10\n",
            "query_size: 1\n",
            "doc_size: 21\n",
            "read file cost 0 ms \n",
            "end\n",
            "query_idx:0 \t query_on_shm[query_idx]:10\t j:0\t doc_segment[j]:10\t tmp_score:1.0000000000 \n",
            "query_idx:0 \t query_on_shm[query_idx]:10\t j:0\t doc_segment[j]:10\t tmp_score:1.0000000000 \n",
            "query_idx:0 \t query_on_shm[query_idx]:10\t j:0\t doc_segment[j]:1\t tmp_score:0.0000000000 \n",
            "query_idx:0 \t query_on_shm[query_idx]:10\t j:1\t doc_segment[j]:10\t tmp_score:2.0000000000 \n",
            "query_idx:0 \t query_on_shm[query_idx]:10\t j:1\t doc_segment[j]:10\t tmp_score:1.0000000000 \n",
            "query_idx:0 \t query_on_shm[query_idx]:10\t j:2\t doc_segment[j]:10\t tmp_score:3.0000000000 \n",
            "query_idx:0 \t query_on_shm[query_idx]:10\t j:2\t doc_segment[j]:10\t tmp_score:2.0000000000 \n",
            "query_idx:0 \t query_on_shm[query_idx]:10\t j:3\t doc_segment[j]:1\t tmp_score:2.0000000000 \n",
            "query_idx:0 \t query_on_shm[query_idx]:10\t j:4\t doc_segment[j]:10\t tmp_score:3.0000000000 \n",
            "doc_id:0\t scores[doc_id]:1.0000000000\t tmp_score:1.0000000000\t query_len:1\t doc_lens[doc_id]:1\n",
            "doc_id:2\t scores[doc_id]:1.0000000000\t tmp_score:3.0000000000\t query_len:1\t doc_lens[doc_id]:3\n",
            "doc_id:4\t scores[doc_id]:0.6000000238\t tmp_score:3.0000000000\t query_len:1\t doc_lens[doc_id]:5\n",
            "cudaDeviceSynchronize end\n",
            "cudaDeviceSynchronize end\n",
            "1\t0\t1\t0\t0.6\t0\t0\t0\t0\t0\t0\t0\t0\t0\t0\t0\t0\t0\t0\t0\t0\t\n",
            "idx_size:21\n",
            "topk cost 368 ms \n",
            "all cost 368 ms \n",
            "end get topk\n"
          ]
        }
      ]
    },
    {
      "cell_type": "code",
      "source": [
        "!nvcc -g -O3 -o ./threadpool_example threadpool_example.cpp -std=c++11"
      ],
      "metadata": {
        "id": "gkEZXmrJdNq0"
      },
      "execution_count": 18,
      "outputs": []
    },
    {
      "cell_type": "code",
      "source": [
        "!./threadpool_example"
      ],
      "metadata": {
        "colab": {
          "base_uri": "https://localhost:8080/"
        },
        "id": "Aa4BDiTodTZD",
        "outputId": "1790af5c-88e9-4f1c-cd11-9cf576445c04"
      },
      "execution_count": 19,
      "outputs": [
        {
          "output_type": "stream",
          "name": "stdout",
          "text": [
            "hardware concurrency:2\n",
            "result:0\n",
            "result:1\n",
            "cost 1004ms\n"
          ]
        }
      ]
    },
    {
      "cell_type": "code",
      "source": [
        "!cat res.txt"
      ],
      "metadata": {
        "colab": {
          "base_uri": "https://localhost:8080/"
        },
        "id": "rPAgtl7tR91K",
        "outputId": "3e46fdd1-6de8-4be7-f55e-f0ff3eac6c01"
      },
      "execution_count": 13,
      "outputs": [
        {
          "output_type": "stream",
          "name": "stdout",
          "text": [
            "368\n",
            "0\t2\t4\t1\t3\t5\t6\t7\t8\t9\n"
          ]
        }
      ]
    }
  ]
}