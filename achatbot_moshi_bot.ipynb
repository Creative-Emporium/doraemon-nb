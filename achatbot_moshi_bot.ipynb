{
  "nbformat": 4,
  "nbformat_minor": 0,
  "metadata": {
    "colab": {
      "provenance": [],
      "machine_shape": "hm",
      "gpuType": "L4",
      "authorship_tag": "ABX9TyOqG7yrm5jiRcDgR/OIS4JR",
      "include_colab_link": true
    },
    "kernelspec": {
      "name": "python3",
      "display_name": "Python 3"
    },
    "language_info": {
      "name": "python"
    },
    "accelerator": "GPU"
  },
  "cells": [
    {
      "cell_type": "markdown",
      "metadata": {
        "id": "view-in-github",
        "colab_type": "text"
      },
      "source": [
        "<a href=\"https://colab.research.google.com/github/weedge/doraemon-nb/blob/main/achatbot_moshi_bot.ipynb\" target=\"_parent\"><img src=\"https://colab.research.google.com/assets/colab-badge.svg\" alt=\"Open In Colab\"/></a>"
      ]
    },
    {
      "cell_type": "markdown",
      "source": [
        "# init"
      ],
      "metadata": {
        "id": "Ddo7tQu_HN4e"
      }
    },
    {
      "cell_type": "code",
      "execution_count": null,
      "metadata": {
        "id": "RkBjPl7poY0c"
      },
      "outputs": [],
      "source": [
        "!cd /content && rm -rf achatbot && git clone --recursive https://github.com/ai-bot-pro/achatbot.git"
      ]
    },
    {
      "cell_type": "code",
      "source": [
        "%cd /content/achatbot\n"
      ],
      "metadata": {
        "colab": {
          "base_uri": "https://localhost:8080/"
        },
        "id": "RUHLLEKOo0dc",
        "outputId": "7e0456ef-5dbc-4db6-c26d-c5de048e56b4"
      },
      "execution_count": 14,
      "outputs": [
        {
          "output_type": "stream",
          "name": "stdout",
          "text": [
            "/content/achatbot\n"
          ]
        }
      ]
    },
    {
      "cell_type": "code",
      "source": [
        "!bash scripts/pypi_achatbot.sh dev\n"
      ],
      "metadata": {
        "id": "hd21Qe6Io1x2"
      },
      "execution_count": null,
      "outputs": []
    },
    {
      "cell_type": "code",
      "source": [
        "!pip install -q \"dist/achatbot-0.0.7.2-py3-none-any.whl[fastapi_bot_server,ngrok_proxy,websocket_server_transport,daily_room_audio_stream,livekit_room_audio_stream,silero_vad_analyzer,moshi_voice_processor,queue]\"\n"
      ],
      "metadata": {
        "id": "ua_H5K90o9uY"
      },
      "execution_count": null,
      "outputs": []
    },
    {
      "cell_type": "markdown",
      "source": [
        "# run livekit webrtc room bot"
      ],
      "metadata": {
        "id": "09zglU17HEPO"
      }
    },
    {
      "cell_type": "code",
      "source": [
        "!cat /content/livekit_moshi_voice_bot.json"
      ],
      "metadata": {
        "colab": {
          "base_uri": "https://localhost:8080/"
        },
        "id": "gBwMqoEWqPOq",
        "outputId": "d946e770-c3d7-44ea-871a-bffef6e88306"
      },
      "execution_count": 15,
      "outputs": [
        {
          "output_type": "stream",
          "name": "stdout",
          "text": [
            "{\n",
            "  \"chat_bot_name\": \"LivekitMoshiVoiceBot\",\n",
            "  \"room_name\": \"chat-room\",\n",
            "  \"room_url\": \"\",\n",
            "  \"token\": \"\",\n",
            "  \"room_manager\": {\n",
            "    \"tag\": \"livekit_room\",\n",
            "    \"args\": {\n",
            "      \"bot_name\": \"LivekitMoshiVoiceBot\",\n",
            "      \"is_common_session\": false\n",
            "    }\n",
            "  },\n",
            "  \"services\": {\n",
            "    \"pipeline\": \"achatbot\",\n",
            "    \"vad\": \"silero\",\n",
            "    \"voice_llm\": \"moshi\"\n",
            "  },\n",
            "  \"config\": {\n",
            "    \"vad\": {\n",
            "      \"tag\": \"silero_vad_analyzer\",\n",
            "      \"args\": { \"stop_secs\": 0.7 }\n",
            "    },\n",
            "    \"voice_llm\": {\n",
            "      \"tag\": \"moshi_voice_processor\",\n",
            "      \"args\": {\n",
            "        \"model_name\": \"kyutai/moshiko-pytorch-bf16\",\n",
            "        \"lm_gen_args\": {\n",
            "          \"use_sampling\": true,\n",
            "          \"temp\": 0.8,\n",
            "          \"temp_text\": 0.7,\n",
            "          \"top_k\": 250,\n",
            "          \"top_k_text\": 25,\n",
            "          \"check\": false\n",
            "        }\n",
            "      }\n",
            "    }\n",
            "  },\n",
            "  \"config_list\": []\n",
            "}\n"
          ]
        }
      ]
    },
    {
      "cell_type": "code",
      "source": [
        "from google.colab import userdata\n",
        "HF_TOKEN=userdata.get('HF_TOKEN')\n",
        "DAILY_API_KEY=userdata.get('DAILY_API_KEY')\n",
        "\n",
        "LIVEKIT_URL=userdata.get('LIVEKIT_URL')\n",
        "LIVEKIT_API_KEY=userdata.get('LIVEKIT_API_KEY')\n",
        "LIVEKIT_API_SECRET=userdata.get('LIVEKIT_API_SECRET')\n",
        "\n"
      ],
      "metadata": {
        "id": "0HW2HxGaqjgy"
      },
      "execution_count": 6,
      "outputs": []
    },
    {
      "cell_type": "code",
      "source": [
        "!LIVEKIT_URL=$LIVEKIT_URL LIVEKIT_API_KEY=$LIVEKIT_API_KEY LIVEKIT_API_SECRET=$LIVEKIT_API_SECRET \\\n",
        "  python -m src.cmd.bots.main -f /content/livekit_moshi_voice_bot.json"
      ],
      "metadata": {
        "id": "bD6Dv4UOqTyj"
      },
      "execution_count": null,
      "outputs": []
    },
    {
      "cell_type": "markdown",
      "source": [
        "# run fastapi websocket bot"
      ],
      "metadata": {
        "id": "QomJXdtjkiP6"
      }
    },
    {
      "cell_type": "code",
      "source": [
        "from google.colab import userdata\n",
        "NGROK_TOKEN=userdata.get('NGROK_TOKEN')"
      ],
      "metadata": {
        "id": "jrxc0gFakhCg"
      },
      "execution_count": 5,
      "outputs": []
    },
    {
      "cell_type": "code",
      "source": [
        "!ngrok config add-authtoken $NGROK_TOKEN"
      ],
      "metadata": {
        "colab": {
          "base_uri": "https://localhost:8080/"
        },
        "id": "aIvyFYcAkxax",
        "outputId": "cb8f549c-3022-4a30-f503-12292d313c0d"
      },
      "execution_count": 6,
      "outputs": [
        {
          "output_type": "stream",
          "name": "stdout",
          "text": [
            "Authtoken saved to configuration file: /root/.config/ngrok/ngrok.yml\n"
          ]
        }
      ]
    },
    {
      "cell_type": "code",
      "source": [
        "!cat /content/fastapi_websocket_moshi_voice_bot.json"
      ],
      "metadata": {
        "colab": {
          "base_uri": "https://localhost:8080/"
        },
        "id": "wSY0zItKkzbG",
        "outputId": "4d3b16fe-7bf5-45da-e21d-60540ac70273"
      },
      "execution_count": 7,
      "outputs": [
        {
          "output_type": "stream",
          "name": "stdout",
          "text": [
            "{\n",
            "  \"chat_bot_name\": \"FastapiWebsocketMoshiVoiceBot\",\n",
            "  \"transport_type\": \"websocket\",\n",
            "  \"handle_sigint\": false,\n",
            "  \"services\": {\n",
            "    \"pipeline\": \"achatbot\",\n",
            "    \"vad\": \"silero\",\n",
            "    \"voice_llm\": \"moshi\"\n",
            "  },\n",
            "  \"config\": {\n",
            "    \"vad\": {\n",
            "      \"tag\": \"silero_vad_analyzer\",\n",
            "      \"args\": { \"stop_secs\": 0.7 }\n",
            "    },\n",
            "    \"voice_llm\": {\n",
            "      \"tag\": \"moshi_opus_voice_processor\",\n",
            "      \"args\": {\n",
            "        \"model_name\": \"kyutai/moshiko-pytorch-bf16\",\n",
            "        \"lm_gen_args\": {\n",
            "          \"use_sampling\": true,\n",
            "          \"temp\": 0.8,\n",
            "          \"temp_text\": 0.7,\n",
            "          \"top_k\": 250,\n",
            "          \"top_k_text\": 25,\n",
            "          \"check\": false\n",
            "        }\n",
            "      }\n",
            "    }\n",
            "  },\n",
            "  \"config_list\": []\n",
            "}\n"
          ]
        }
      ]
    },
    {
      "cell_type": "code",
      "source": [
        "!python -m src.cmd.websocket.server.fastapi_ws_bot_serve --port 8000 --ngrok -f /content/fastapi_websocket_moshi_voice_bot.json"
      ],
      "metadata": {
        "id": "osrhL7gtlPBl"
      },
      "execution_count": null,
      "outputs": []
    }
  ]
}