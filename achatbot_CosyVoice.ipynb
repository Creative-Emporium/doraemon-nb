{
  "nbformat": 4,
  "nbformat_minor": 0,
  "metadata": {
    "colab": {
      "provenance": [],
      "machine_shape": "hm",
      "gpuType": "T4",
      "authorship_tag": "ABX9TyPsWi64Tpb3iq0yuLkwXZ9h",
      "include_colab_link": true
    },
    "kernelspec": {
      "name": "python3",
      "display_name": "Python 3"
    },
    "language_info": {
      "name": "python"
    },
    "accelerator": "GPU"
  },
  "cells": [
    {
      "cell_type": "markdown",
      "metadata": {
        "id": "view-in-github",
        "colab_type": "text"
      },
      "source": [
        "<a href=\"https://colab.research.google.com/github/weedge/doraemon-nb/blob/main/achatbot_CosyVoice.ipynb\" target=\"_parent\"><img src=\"https://colab.research.google.com/assets/colab-badge.svg\" alt=\"Open In Colab\"/></a>"
      ]
    },
    {
      "cell_type": "markdown",
      "source": [
        "- https://weedge.github.io/post/multimoding/voices/cosyvoice/\n",
        "- https://weedge.github.io/post/multimoding/voices/cosyvoice2/\n"
      ],
      "metadata": {
        "id": "fmReYEs5FSAu"
      }
    },
    {
      "cell_type": "code",
      "execution_count": null,
      "metadata": {
        "id": "5OTUbgjdyIhV"
      },
      "outputs": [],
      "source": [
        "!git clone https://github.com/ai-bot-pro/achatbot.git"
      ]
    },
    {
      "cell_type": "code",
      "source": [
        "!cd /content/achatbot && git submodule update --init --recursive"
      ],
      "metadata": {
        "id": "V-SlBXOrypBc"
      },
      "execution_count": null,
      "outputs": []
    },
    {
      "cell_type": "markdown",
      "source": [
        "# download models"
      ],
      "metadata": {
        "id": "EpG6Pk8CDzeD"
      }
    },
    {
      "cell_type": "code",
      "source": [
        "# CosyVoice\n",
        "!git clone https://www.modelscope.cn/iic/CosyVoice-300M.git /content/achatbot/models/FunAudioLLM/CosyVoice-300M\n",
        "!git clone https://www.modelscope.cn/iic/CosyVoice-300M-SFT.git /content/achatbot/models/FunAudioLLM/CosyVoice-300M-SFT\n",
        "!git clone https://www.modelscope.cn/iic/CosyVoice-300M-Instruct.git /content/achatbot/models/FunAudioLLM/CosyVoice-300M-Instruct"
      ],
      "metadata": {
        "id": "exPGQpnn1PJu"
      },
      "execution_count": null,
      "outputs": []
    },
    {
      "cell_type": "code",
      "source": [
        "# CosyVoice2\n",
        "!git clone https://www.modelscope.cn/iic/CosyVoice2-0.5B.git /content/achatbot/models/FunAudioLLM/CosyVoice2-0.5B"
      ],
      "metadata": {
        "id": "8ulZ1luszHat"
      },
      "execution_count": null,
      "outputs": []
    },
    {
      "cell_type": "code",
      "source": [
        "!ls -lh /content/achatbot/models/FunAudioLLM/CosyVoice-300M\n",
        "!ls -lh /content/achatbot/models/FunAudioLLM/CosyVoice-300M-SFT\n",
        "!ls -lh /content/achatbot/models/FunAudioLLM/CosyVoice-300M-Instruct\n"
      ],
      "metadata": {
        "id": "-crFYQxLupqr"
      },
      "execution_count": null,
      "outputs": []
    },
    {
      "cell_type": "code",
      "source": [
        "!ls -lh /content/achatbot/models/FunAudioLLM/CosyVoice2-0.5B\n"
      ],
      "metadata": {
        "id": "vT55B9nF5Fpv"
      },
      "execution_count": null,
      "outputs": []
    },
    {
      "cell_type": "markdown",
      "source": [
        "# Install"
      ],
      "metadata": {
        "id": "wcfCddbyDb1f"
      }
    },
    {
      "cell_type": "code",
      "source": [
        "%cd /content/achatbot"
      ],
      "metadata": {
        "id": "vLcrMM8UzY00"
      },
      "execution_count": null,
      "outputs": []
    },
    {
      "cell_type": "code",
      "source": [
        "!bash scripts/pypi_achatbot.sh dev"
      ],
      "metadata": {
        "id": "p-Wz5yz5zsPH"
      },
      "execution_count": null,
      "outputs": []
    },
    {
      "cell_type": "code",
      "source": [
        "!pip install -q \"dist/achatbot-0.0.8.6-py3-none-any.whl[grpc,tts_cosy_voice]\""
      ],
      "metadata": {
        "id": "yLW5bfyBzk-m"
      },
      "execution_count": null,
      "outputs": []
    },
    {
      "cell_type": "code",
      "source": [
        "!pip install -q \"dist/achatbot-0.0.8.6-py3-none-any.whl[remote_grpc_tts_server]\""
      ],
      "metadata": {
        "id": "G55ipIbUsE-g"
      },
      "execution_count": null,
      "outputs": []
    },
    {
      "cell_type": "markdown",
      "source": [
        "# grpc"
      ],
      "metadata": {
        "id": "GDE35QcGuTig"
      }
    },
    {
      "cell_type": "code",
      "source": [
        "#!python -m src.cmd.grpc.speaker.server.serve"
      ],
      "metadata": {
        "id": "G47cG1R02e1d"
      },
      "execution_count": null,
      "outputs": []
    },
    {
      "cell_type": "code",
      "source": [
        "!TTS_TAG=tts_cosy_voice IS_SAVE=1 IS_RELOAD=1 python -m src.cmd.grpc.speaker.client"
      ],
      "metadata": {
        "id": "kmjlQEGsuUr7"
      },
      "execution_count": null,
      "outputs": []
    },
    {
      "cell_type": "code",
      "source": [
        "from IPython.display import Audio\n",
        "Audio(\"/content/achatbot/records/grcp_tts_cosy_voice.wav\",autoplay=True)"
      ],
      "metadata": {
        "id": "KWuB7ZD70lkM"
      },
      "execution_count": null,
      "outputs": []
    },
    {
      "cell_type": "code",
      "source": [
        "!TTS_TAG=tts_cosy_voice2 IS_SAVE=1 \\\n",
        "    COSY_VOICE_MODELS_DIR=./models/FunAudioLLM/CosyVoice2-0.5B \\\n",
        "    COSY_VOICE_REFERENCE_AUDIO_PATH=./test/audio_files/asr_example_zh.wav \\\n",
        "    IS_RELOAD=1 python -m src.cmd.grpc.speaker.client"
      ],
      "metadata": {
        "id": "rJELMZP9wbt8"
      },
      "execution_count": null,
      "outputs": []
    },
    {
      "cell_type": "code",
      "source": [
        "from IPython.display import Audio\n",
        "Audio(\"/content/achatbot/records/grpc_tts_cosy_voice2.wav\",autoplay=True)"
      ],
      "metadata": {
        "id": "HxxuX2tj2XDW"
      },
      "execution_count": null,
      "outputs": []
    },
    {
      "cell_type": "markdown",
      "source": [
        "# CosyVoice Infer"
      ],
      "metadata": {
        "id": "tQ7wiopXD6h4"
      }
    },
    {
      "cell_type": "code",
      "source": [
        "%cd /content/achatbot"
      ],
      "metadata": {
        "id": "oX7JS5W4G7Jn"
      },
      "execution_count": null,
      "outputs": []
    },
    {
      "cell_type": "code",
      "source": [
        "!LOG_LEVEL=INFO TTS_TAG=tts_cosy_voice MODELS_DIR=/content/achatbot/models/FunAudioLLM/CosyVoice-300M-SFT \\\n",
        "  python -m unittest test.modules.speech.tts.test_cosy_voice.TestCosyVoiceTTS.test_get_voices"
      ],
      "metadata": {
        "id": "EvvrYY_UzgTF"
      },
      "execution_count": null,
      "outputs": []
    },
    {
      "cell_type": "code",
      "source": [
        "# cosyvoice default use sft infer\n",
        "!LOG_LEVEL=INFO TTS_TAG=tts_cosy_voice MODELS_DIR=/content/achatbot/models/FunAudioLLM/CosyVoice-300M-SFT \\\n",
        "  python -m unittest test.modules.speech.tts.test_cosy_voice.TestCosyVoiceTTS.test_synthesize"
      ],
      "metadata": {
        "id": "H71UqQFvCalc"
      },
      "execution_count": null,
      "outputs": []
    },
    {
      "cell_type": "code",
      "source": [
        "from IPython.display import Audio\n",
        "Audio(\"/content/achatbot/records/test_tts_cosy_voice.wav\")"
      ],
      "metadata": {
        "id": "cUhFUTvACvoa"
      },
      "execution_count": null,
      "outputs": []
    },
    {
      "cell_type": "code",
      "source": [
        "# cosyvoice test_synthesize with instruct infer\n",
        "!LOG_LEVEL=INFO TTS_TAG=tts_cosy_voice MODELS_DIR=/content/achatbot/models/FunAudioLLM/CosyVoice-300M-Instruct \\\n",
        "  TTS_TEXT=\"在面对挑战时，他展现了非凡的<strong>勇气</strong>与<strong>智慧</strong>。\" \\\n",
        "  INSTRUCT_TEXT=\"Theo \\'Crimson\\', is a fiery, passionate rebel leader. Fights with fervor for justice, but struggles with impulsiveness.\" \\\n",
        "  python -m unittest test.modules.speech.tts.test_cosy_voice.TestCosyVoiceTTS.test_synthesize"
      ],
      "metadata": {
        "id": "ZQogVxWWh3q1"
      },
      "execution_count": null,
      "outputs": []
    },
    {
      "cell_type": "code",
      "source": [
        "Audio(\"/content/achatbot/records/test_tts_cosy_voice.wav\",autoplay=True)"
      ],
      "metadata": {
        "id": "3eXG6SJ-iuvV"
      },
      "execution_count": null,
      "outputs": []
    },
    {
      "cell_type": "code",
      "source": [
        "Audio(\"/content/achatbot/test/audio_files/asr_example_zh.wav\",autoplay=True)"
      ],
      "metadata": {
        "id": "_Lb7y_GFlfZn"
      },
      "execution_count": null,
      "outputs": []
    },
    {
      "cell_type": "code",
      "source": [
        "# cosyvoice test_synthesize with zero shot infer\n",
        "# zero_shot usage, <|zh|><|en|><|jp|><|yue|><|ko|> for Chinese/English/Japanese/Cantonese/Korean\n",
        "!LOG_LEVEL=INFO TTS_TAG=tts_cosy_voice MODELS_DIR=/content/achatbot/models/FunAudioLLM/CosyVoice-300M \\\n",
        "  TTS_TEXT=\"您好啊，我是🤖机器人，很高兴认识您~\" \\\n",
        "  REFERENCE_AUDIO_PATH=/content/achatbot/test/audio_files/asr_example_zh.wav \\\n",
        "  REFERENCE_TEXT=\"欢迎大家来体验达摩院推出的语音识别模型。\" \\\n",
        "  python -m unittest test.modules.speech.tts.test_cosy_voice.TestCosyVoiceTTS.test_synthesize"
      ],
      "metadata": {
        "id": "UgfI4Hzri19y"
      },
      "execution_count": null,
      "outputs": []
    },
    {
      "cell_type": "code",
      "source": [
        "Audio(\"/content/achatbot/records/test_tts_cosy_voice.wav\",autoplay=True)"
      ],
      "metadata": {
        "id": "97P_h0uRiyId"
      },
      "execution_count": null,
      "outputs": []
    },
    {
      "cell_type": "code",
      "source": [
        "# cosyvoice test_synthesize with cross_lingual infer\n",
        "!LOG_LEVEL=INFO TTS_TAG=tts_cosy_voice MODELS_DIR=/content/achatbot/models/FunAudioLLM/CosyVoice-300M \\\n",
        "  TTS_TEXT=\"<|en|>And then later on, fully acquiring that company. So keeping management in line, interest in line with the asset that\\'s coming into the family is a reason why sometimes we don\\'t buy the whole thing.\" \\\n",
        "  REFERENCE_AUDIO_PATH=/content/achatbot/test/audio_files/asr_example_zh.wav \\\n",
        "  python -m unittest test.modules.speech.tts.test_cosy_voice.TestCosyVoiceTTS.test_synthesize"
      ],
      "metadata": {
        "id": "JMR0kZl-i23b"
      },
      "execution_count": null,
      "outputs": []
    },
    {
      "cell_type": "code",
      "source": [
        "Audio(\"/content/achatbot/records/test_tts_cosy_voice.wav\",autoplay=True)"
      ],
      "metadata": {
        "id": "vgCMdJl-iylF"
      },
      "execution_count": null,
      "outputs": []
    },
    {
      "cell_type": "code",
      "source": [
        "Audio(\"/content/achatbot/deps/CosyVoice/asset/cross_lingual_prompt.wav\",autoplay=True)"
      ],
      "metadata": {
        "id": "uLGvo6WeqQ5G"
      },
      "execution_count": null,
      "outputs": []
    },
    {
      "cell_type": "code",
      "source": [
        "# cosyvoice test_synthesize with voice convert infer\n",
        "!LOG_LEVEL=INFO TTS_TAG=tts_cosy_voice MODELS_DIR=/content/achatbot/models/FunAudioLLM/CosyVoice-300M \\\n",
        "  SRC_AUDIO_PATH=/content/achatbot/deps/CosyVoice/asset/cross_lingual_prompt.wav \\\n",
        "  REFERENCE_AUDIO_PATH=/content/achatbot/test/audio_files/asr_example_zh.wav \\\n",
        "  python -m unittest test.modules.speech.tts.test_cosy_voice.TestCosyVoiceTTS.test_synthesize"
      ],
      "metadata": {
        "id": "OfrRky43qAai"
      },
      "execution_count": null,
      "outputs": []
    },
    {
      "cell_type": "code",
      "source": [
        "Audio(\"/content/achatbot/records/test_tts_cosy_voice.wav\",autoplay=True)"
      ],
      "metadata": {
        "id": "18t3YeY1qvDI"
      },
      "execution_count": null,
      "outputs": []
    },
    {
      "cell_type": "markdown",
      "source": [
        "# cosyvoice2 infer"
      ],
      "metadata": {
        "id": "DhrXBmChhz29"
      }
    },
    {
      "cell_type": "code",
      "source": [
        "%cd /content/achatbot"
      ],
      "metadata": {
        "id": "SA8LdBxXG8jc"
      },
      "execution_count": null,
      "outputs": []
    },
    {
      "cell_type": "code",
      "source": [
        "# cosyvoice2 no spk, so need reference audio\n",
        "!LOG_LEVEL=INFO TTS_TAG=tts_cosy_voice2 MODELS_DIR=/content/achatbot/models/FunAudioLLM/CosyVoice2-0.5B \\\n",
        "  REFERENCE_AUDIO_PATH=/content/achatbot/records/test_tts_cosy_voice.wav \\\n",
        "  python -m unittest test.modules.speech.tts.test_cosy_voice.TestCosyVoiceTTS.test_get_voices"
      ],
      "metadata": {
        "id": "xgqjH-mO0hWP"
      },
      "execution_count": null,
      "outputs": []
    },
    {
      "cell_type": "code",
      "source": [
        "from IPython.display import Audio\n",
        "Audio(\"/content/achatbot/records/test_tts_cosy_voice.wav\",autoplay=True)"
      ],
      "metadata": {
        "id": "DPLPsYnSs8Zu"
      },
      "execution_count": null,
      "outputs": []
    },
    {
      "cell_type": "code",
      "source": [
        "# cosyvoice2 test_synthesize with instruct2 infer\n",
        "!LOG_LEVEL=INFO TTS_TAG=tts_cosy_voice2 MODELS_DIR=/content/achatbot/models/FunAudioLLM/CosyVoice2-0.5B \\\n",
        "  REFERENCE_AUDIO_PATH=/content/achatbot/records/test_tts_cosy_voice.wav \\\n",
        "  INSTRUCT_TEXT=\"用四川话说这句话\" \\\n",
        "  python -m unittest test.modules.speech.tts.test_cosy_voice.TestCosyVoiceTTS.test_synthesize"
      ],
      "metadata": {
        "id": "nOyRCC91Eo_y"
      },
      "execution_count": null,
      "outputs": []
    },
    {
      "cell_type": "code",
      "source": [
        "from IPython.display import Audio\n",
        "Audio(\"/content/achatbot/records/test_tts_cosy_voice2.wav\",autoplay=True)"
      ],
      "metadata": {
        "id": "rtj4IOE7Et99"
      },
      "execution_count": null,
      "outputs": []
    },
    {
      "cell_type": "code",
      "source": [
        "# cosyvoice2 test_synthesize with zero shot infer\n",
        "!LOG_LEVEL=INFO TTS_TAG=tts_cosy_voice2 MODELS_DIR=/content/achatbot/models/FunAudioLLM/CosyVoice2-0.5B \\\n",
        "  TTS_TEXT=\"您好啊，我是🤖机器人，很高兴认识您~\" \\\n",
        "  REFERENCE_AUDIO_PATH=/content/achatbot/test/audio_files/asr_example_zh.wav \\\n",
        "  REFERENCE_TEXT=\"欢迎大家来使用阿里达摩院推出的语音识别模型。\" \\\n",
        "  python -m unittest test.modules.speech.tts.test_cosy_voice.TestCosyVoiceTTS.test_synthesize"
      ],
      "metadata": {
        "id": "T1rNGZnKXB3h"
      },
      "execution_count": null,
      "outputs": []
    },
    {
      "cell_type": "code",
      "source": [
        "Audio(\"/content/achatbot/records/test_tts_cosy_voice2.wav\",autoplay=True)"
      ],
      "metadata": {
        "id": "ZEybg1N5X2IC"
      },
      "execution_count": null,
      "outputs": []
    },
    {
      "cell_type": "code",
      "source": [
        "# cosyvoice2 test_synthesize with cross lingual infer and use fine grained control,\n",
        "# for supported control, check cosyvoice/tokenizer/tokenizer.py#L248\n",
        "!LOG_LEVEL=INFO TTS_TAG=tts_cosy_voice2 MODELS_DIR=/content/achatbot/models/FunAudioLLM/CosyVoice2-0.5B \\\n",
        "  TTS_TEXT=\"在他讲述那个荒诞故事的过程中，他突然[laughter]停下来，因为他自己也被逗笑了[laughter]。\" \\\n",
        "  REFERENCE_AUDIO_PATH=/content/achatbot/records/test_tts_cosy_voice.wav \\\n",
        "  python -m unittest test.modules.speech.tts.test_cosy_voice.TestCosyVoiceTTS.test_synthesize"
      ],
      "metadata": {
        "id": "8wR60ewHX5eW"
      },
      "execution_count": null,
      "outputs": []
    },
    {
      "cell_type": "code",
      "source": [
        "Audio(\"/content/achatbot/records/test_tts_cosy_voice2.wav\",autoplay=True)"
      ],
      "metadata": {
        "id": "eu2lqJnlYVY_"
      },
      "execution_count": null,
      "outputs": []
    }
  ]
}