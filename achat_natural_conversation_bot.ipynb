{
  "nbformat": 4,
  "nbformat_minor": 0,
  "metadata": {
    "colab": {
      "provenance": [],
      "authorship_tag": "ABX9TyMuxWGNeVI1cXWjHvICN+Xy",
      "include_colab_link": true
    },
    "kernelspec": {
      "name": "python3",
      "display_name": "Python 3"
    },
    "language_info": {
      "name": "python"
    }
  },
  "cells": [
    {
      "cell_type": "markdown",
      "metadata": {
        "id": "view-in-github",
        "colab_type": "text"
      },
      "source": [
        "<a href=\"https://colab.research.google.com/github/weedge/doraemon-nb/blob/main/achat_natural_conversation_bot.ipynb\" target=\"_parent\"><img src=\"https://colab.research.google.com/assets/colab-badge.svg\" alt=\"Open In Colab\"/></a>"
      ]
    },
    {
      "cell_type": "markdown",
      "source": [
        "# install achatbot"
      ],
      "metadata": {
        "id": "faBeNQ78ohag"
      }
    },
    {
      "cell_type": "code",
      "execution_count": null,
      "metadata": {
        "id": "8x2vZWM5sw13"
      },
      "outputs": [],
      "source": [
        "!cd /content && rm -rf achatbot && git clone --recursive https://github.com/ai-bot-pro/achatbot.git"
      ]
    },
    {
      "cell_type": "code",
      "source": [
        "%cd /content/achatbot\n"
      ],
      "metadata": {
        "id": "GiZ_hTJHnyNO",
        "colab": {
          "base_uri": "https://localhost:8080/"
        },
        "outputId": "6d2c177b-8897-4d68-bb14-78d9fcdda518"
      },
      "execution_count": 3,
      "outputs": [
        {
          "output_type": "stream",
          "name": "stdout",
          "text": [
            "/content/achatbot\n"
          ]
        }
      ]
    },
    {
      "cell_type": "code",
      "source": [
        "!bash scripts/pypi_achatbot.sh dev\n"
      ],
      "metadata": {
        "id": "vMd1iWE0n2-d"
      },
      "execution_count": null,
      "outputs": []
    },
    {
      "cell_type": "code",
      "source": [
        "!pip install -q \"dist/achatbot-0.0.7.2-py3-none-any.whl[fastapi_bot_server,ngrok_proxy,daily_room_audio_stream,silero_vad_analyzer,sense_voice_asr,deepgram_asr_processor,litellm_processor,google_ai,together_ai,tts_edge,queue]\"\n"
      ],
      "metadata": {
        "id": "zlYoQrrun5yE"
      },
      "execution_count": null,
      "outputs": []
    },
    {
      "cell_type": "markdown",
      "source": [
        "# init api key"
      ],
      "metadata": {
        "id": "71zChXIRobZr"
      }
    },
    {
      "cell_type": "markdown",
      "source": [
        "run bot task woker with bot.json, e.g.: dummy_bot.json\n",
        "\n",
        "- use webrtc protocol audio stream e.g.: daily,livekit\n",
        "  - [daily](https://www.daily.co/) need DAILY_API_KEY\n",
        "  - [livekit](https://livekit.io/) need project url LIVEKIT_URL\n",
        "- asr(tts) deepgram need api key\n",
        "  - [deepgram](https://developers.deepgram.com/docs/create-additional-api-keys) DEEPGRAM_API_KEY\n",
        "- use openai/groq/together.ai api llm model need api key\n",
        "  - [openai](https://openai.com/) OPENAI_API_KEY\n",
        "  - [groq](https://groq.com/) GROQ_API_KEY\n",
        "  - [together.ai](https://www.together.ai/) TOGETHER_API_KEY\n",
        "- use image gen model:\n",
        "  - [openai](https://openai.com/) OPENAI_API_KEY\n",
        "  - [together.ai](https://www.together.ai/) TOGETHER_API_KEY\n",
        "  - [huggingface api](https://huggingface.co/docs/api-inference/tasks/text-to-image) HF_API_KEY\n",
        "\n",
        "\n"
      ],
      "metadata": {
        "id": "DVnxKXITzLnr"
      }
    },
    {
      "cell_type": "code",
      "source": [
        "from google.colab import userdata\n",
        "TOGETHER_API_KEY=userdata.get('TOGETHER_API_KEY')\n",
        "HF_TOKEN=userdata.get('HF_TOKEN')\n",
        "DAILY_API_KEY=userdata.get('DAILY_API_KEY')\n",
        "GOOGLE_API_KEY=userdata.get('GOOGLE_API_KEY')\n",
        "DEEPGRAM_API_KEY=userdata.get('DEEPGRAM_API_KEY')\n"
      ],
      "metadata": {
        "id": "OuKR4j5_x0jE"
      },
      "execution_count": 14,
      "outputs": []
    },
    {
      "cell_type": "markdown",
      "source": [
        "# download model"
      ],
      "metadata": {
        "id": "gU0jr8ZZk1DE"
      }
    },
    {
      "cell_type": "code",
      "source": [
        "!huggingface-cli login --token $HF_TOKEN --add-to-git-credential"
      ],
      "metadata": {
        "id": "dcp1LW2bsHQ9"
      },
      "execution_count": null,
      "outputs": []
    },
    {
      "cell_type": "code",
      "source": [
        "!huggingface-cli download FunAudioLLM/SenseVoiceSmall  --local-dir ./models/FunAudioLLM/SenseVoiceSmall --local-dir-use-symlinks False\n"
      ],
      "metadata": {
        "id": "Ifz9IaK9GEzf"
      },
      "execution_count": null,
      "outputs": []
    },
    {
      "cell_type": "markdown",
      "source": [
        "# run bot with config"
      ],
      "metadata": {
        "id": "V7Yb6Yboo23u"
      }
    },
    {
      "cell_type": "code",
      "source": [
        "!cat /content/daily_natural_conversation_bot.json"
      ],
      "metadata": {
        "id": "TN0cN49ZH2uT",
        "colab": {
          "base_uri": "https://localhost:8080/"
        },
        "outputId": "7be2fbb7-2678-496e-ca73-47f810440484"
      },
      "execution_count": 10,
      "outputs": [
        {
          "output_type": "stream",
          "name": "stdout",
          "text": [
            "{\n",
            "  \"chat_bot_name\": \"DailyNaturalConversationBot\",\n",
            "  \"room_name\": \"chat-room\",\n",
            "  \"room_url\": \"\",\n",
            "  \"token\": \"\",\n",
            "  \"room_manager\": {\n",
            "    \"tag\": \"daily_room\",\n",
            "    \"args\": {\n",
            "      \"privacy\": \"public\"\n",
            "    }\n",
            "  },\n",
            "  \"services\": {\n",
            "    \"pipeline\": \"achatbot\",\n",
            "    \"vad\": \"silero\",\n",
            "    \"asr\": \"sense_voice\",\n",
            "    \"llm\": \"groq\",\n",
            "    \"nlp_task_llm\": \"together\",\n",
            "    \"tts\": \"edge\"\n",
            "  },\n",
            "  \"config\": {\n",
            "    \"vad\": {\n",
            "      \"tag\": \"silero_vad_analyzer\",\n",
            "      \"args\": { \"stop_secs\": 0.7 }\n",
            "    },\n",
            "    \"asr\": {\n",
            "      \"tag\": \"deepgram_asr_processor\",\n",
            "      \"args\": {\n",
            "        \"language\": \"zh\",\n",
            "        \"model\": \"nova-2\"\n",
            "      }\n",
            "    },\n",
            "    \"nlp_task_llm\": {\n",
            "      \"tag\": \"openai_llm_processor\",\n",
            "      \"base_url\": \"https://api.together.xyz/v1\",\n",
            "      \"model\": \"google/gemma-2-27b-it\",\n",
            "      \"language\": \"zh\"\n",
            "    },\n",
            "    \"llm\": {\n",
            "      \"tag\": \"litellm_processor\",\n",
            "      \"model\": \"gemini/gemini-1.5-flash-latest\",\n",
            "      \"language\": \"zh\"\n",
            "    },\n",
            "    \"tts\": {\n",
            "      \"tag\": \"tts_edge\",\n",
            "      \"args\": {\n",
            "        \"voice_name\": \"zh-CN-YunjianNeural\",\n",
            "        \"language\": \"zh\",\n",
            "        \"gender\": \"Male\"\n",
            "      }\n",
            "    }\n",
            "  },\n",
            "  \"config_list\": []\n",
            "}\n"
          ]
        }
      ]
    },
    {
      "cell_type": "code",
      "source": [
        "!DAILY_API_KEY=$DAILY_API_KEY TOGETHER_API_KEY=$TOGETHER_API_KEY DEEPGRAM_API_KEY=$DEEPGRAM_API_KEY GEMINI_API_KEY=$GOOGLE_API_KEY \\\n",
        "  python -m src.cmd.bots.main -f /content/daily_natural_conversation_bot.json"
      ],
      "metadata": {
        "id": "ftEP-y-AIFnx"
      },
      "execution_count": null,
      "outputs": []
    },
    {
      "cell_type": "markdown",
      "source": [
        "# bot task queue redis"
      ],
      "metadata": {
        "id": "Q7PUaN2zksLf"
      }
    },
    {
      "cell_type": "code",
      "source": [
        "from google.colab import userdata\n",
        "REDIS_PASSWORD=userdata.get('REDIS_PASSWORD')\n"
      ],
      "metadata": {
        "id": "KWZaV2R6ICZ-"
      },
      "execution_count": null,
      "outputs": []
    },
    {
      "cell_type": "code",
      "source": [
        "!LOG_LEVEL=debug REDIS_PASSWORD=$REDIS_PASSWORD python -m src.cmd.bots.main -f /content/task_bot.json"
      ],
      "metadata": {
        "id": "4C5qgvz2IIXz"
      },
      "execution_count": null,
      "outputs": []
    }
  ]
}