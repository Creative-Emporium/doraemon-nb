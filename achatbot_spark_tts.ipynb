{
  "nbformat": 4,
  "nbformat_minor": 0,
  "metadata": {
    "colab": {
      "provenance": [],
      "machine_shape": "hm",
      "gpuType": "T4",
      "authorship_tag": "ABX9TyOkrIt2/Ic+IiDpauS+Mw7E",
      "include_colab_link": true
    },
    "kernelspec": {
      "name": "python3",
      "display_name": "Python 3"
    },
    "language_info": {
      "name": "python"
    },
    "accelerator": "GPU"
  },
  "cells": [
    {
      "cell_type": "markdown",
      "metadata": {
        "id": "view-in-github",
        "colab_type": "text"
      },
      "source": [
        "<a href=\"https://colab.research.google.com/github/weedge/doraemon-nb/blob/main/achatbot_spark_tts.ipynb\" target=\"_parent\"><img src=\"https://colab.research.google.com/assets/colab-badge.svg\" alt=\"Open In Colab\"/></a>"
      ]
    },
    {
      "cell_type": "code",
      "execution_count": null,
      "metadata": {
        "id": "Rg3GKWnfaw5X"
      },
      "outputs": [],
      "source": [
        "!git clone https://github.com/ai-bot-pro/achatbot.git -b feat/tts"
      ]
    },
    {
      "cell_type": "code",
      "source": [
        "%cd /content/achatbot\n"
      ],
      "metadata": {
        "id": "oVE_tDmwU-gl"
      },
      "execution_count": null,
      "outputs": []
    },
    {
      "cell_type": "code",
      "source": [
        "!git submodule update --init --recursive\n"
      ],
      "metadata": {
        "id": "hCv0dzy1VNdZ"
      },
      "execution_count": null,
      "outputs": []
    },
    {
      "cell_type": "code",
      "source": [
        "!bash -x scripts/pypi_achatbot.sh dev\n"
      ],
      "metadata": {
        "id": "ORxrrNMLU_0R"
      },
      "execution_count": null,
      "outputs": []
    },
    {
      "cell_type": "code",
      "source": [
        "!pip install -q dist/achatbot-0.0.8.13-py3-none-any.whl[tts_spark,grpc]\n"
      ],
      "metadata": {
        "id": "m_amXWRUVTYw"
      },
      "execution_count": null,
      "outputs": []
    },
    {
      "cell_type": "code",
      "source": [
        "!pip install torch==2.5.1 torchvision==0.20.1 torchaudio==2.5.1\n"
      ],
      "metadata": {
        "id": "4-_l1iFytXg3"
      },
      "execution_count": null,
      "outputs": []
    },
    {
      "cell_type": "markdown",
      "source": [
        "# download ckpt\n"
      ],
      "metadata": {
        "id": "Dq81SvYfPbkE"
      }
    },
    {
      "cell_type": "code",
      "source": [
        "from google.colab import userdata\n",
        "HF_TOKEN=userdata.get('HF_TOKEN')"
      ],
      "metadata": {
        "id": "6hhujTc_xuom"
      },
      "execution_count": null,
      "outputs": []
    },
    {
      "cell_type": "code",
      "source": [
        "!huggingface-cli login --token $HF_TOKEN --add-to-git-credential\n"
      ],
      "metadata": {
        "id": "c_j8AcMtyF0g"
      },
      "execution_count": null,
      "outputs": []
    },
    {
      "cell_type": "code",
      "source": [
        "!huggingface-cli download SparkAudio/Spark-TTS-0.5B --quie --local-dir /content/models/SparkAudio/Spark-TTS-0.5B\n"
      ],
      "metadata": {
        "id": "iwhowytqImqn"
      },
      "execution_count": null,
      "outputs": []
    },
    {
      "cell_type": "markdown",
      "source": [
        "# test bicodec"
      ],
      "metadata": {
        "id": "n9yx0c7lp2Wq"
      }
    },
    {
      "cell_type": "code",
      "source": [
        "%cd /content/achatbot\n"
      ],
      "metadata": {
        "id": "OdGf12AcrjSL"
      },
      "execution_count": null,
      "outputs": []
    },
    {
      "cell_type": "code",
      "source": [
        "!CODEC_TAG=codec_bitokenizer CODEC_MODEL_DIR=/content/models/SparkAudio/Spark-TTS-0.5B \\\n",
        "    python -m unittest test.modules.codec.test.TestCodec.test_encode_decode"
      ],
      "metadata": {
        "id": "HpgovZCop9we"
      },
      "execution_count": null,
      "outputs": []
    },
    {
      "cell_type": "code",
      "source": [
        "from IPython.display import Audio\n",
        "Audio(\"/content/achatbot/test/audio_files/asr_example_zh.wav\")"
      ],
      "metadata": {
        "id": "O6Yvj4dVkaoF"
      },
      "execution_count": null,
      "outputs": []
    },
    {
      "cell_type": "code",
      "source": [
        "from IPython.display import Audio\n",
        "Audio(\"/content/achatbot/codec_bitokenizer_test_codec.wav\")"
      ],
      "metadata": {
        "id": "hQCLPuEvkhSQ"
      },
      "execution_count": null,
      "outputs": []
    },
    {
      "cell_type": "markdown",
      "source": [
        "# test inference"
      ],
      "metadata": {
        "id": "dQjJ6-G8jTzM"
      }
    },
    {
      "cell_type": "code",
      "source": [
        "%cd /content/achatbot\n",
        "\n",
        "\n"
      ],
      "metadata": {
        "id": "y6ljlA6Pjd9j"
      },
      "execution_count": null,
      "outputs": []
    },
    {
      "cell_type": "code",
      "source": [
        "!TTS_MODEL_DIR=/content/models/SparkAudio/Spark-TTS-0.5B TTS_LM_MODEL_PATH=/content/models/SparkAudio/Spark-TTS-0.5B/LLM \\\n",
        "  python -m unittest test.modules.speech.tts.test_spark.TestSparkTTS.test_get_voices"
      ],
      "metadata": {
        "id": "rKcvEwJLjVyl"
      },
      "execution_count": null,
      "outputs": []
    },
    {
      "cell_type": "markdown",
      "source": [
        "## Inference Overview of Voice Cloning"
      ],
      "metadata": {
        "id": "iGaYd3iTj4sR"
      }
    },
    {
      "cell_type": "code",
      "source": [
        "!TTS_MODEL_DIR=/content/models/SparkAudio/Spark-TTS-0.5B TTS_LM_MODEL_PATH=/content/models/SparkAudio/Spark-TTS-0.5B/LLM \\\n",
        "  REF_AUDIO_PATH=./test/audio_files/asr_example_zh.wav \\\n",
        "  REF_TEXT=\"欢迎大家来体验达摩院推出的语音识别模型\" \\\n",
        "  python -m unittest test.modules.speech.tts.test_spark.TestSparkTTS.test_set_voice"
      ],
      "metadata": {
        "id": "dBDSZuuRjgna"
      },
      "execution_count": null,
      "outputs": []
    },
    {
      "cell_type": "code",
      "source": [
        "!TTS_MODEL_DIR=/content/models/SparkAudio/Spark-TTS-0.5B TTS_LM_MODEL_PATH=/content/models/SparkAudio/Spark-TTS-0.5B/LLM \\\n",
        "    REF_AUDIO_PATH=./test/audio_files/asr_example_zh.wav \\\n",
        "    REF_TEXT=\"欢迎大家来体验达摩院推出的语音识别模型\" \\\n",
        "    TTS_TEXT=\"万物之始,大道至简,衍化至繁。君不见黄河之水天上来，奔流到海不复回。君不见高堂明镜悲白发，朝如青丝暮成雪。人生得意须尽欢，莫使金樽空对月。天生我材必有用，千金散尽还复来。\" \\\n",
        "    python -m unittest test.modules.speech.tts.test_spark.TestSparkTTS.test_synthesize"
      ],
      "metadata": {
        "id": "0znkpFnTjinF"
      },
      "execution_count": null,
      "outputs": []
    },
    {
      "cell_type": "code",
      "source": [
        "from IPython.display import Audio\n",
        "Audio(\"/content/achatbot/records/test_tts_spark.wav\",autoplay=True)"
      ],
      "metadata": {
        "id": "CWpv0kQymltz"
      },
      "execution_count": null,
      "outputs": []
    },
    {
      "cell_type": "code",
      "source": [
        "!TTS_MODEL_DIR=/content/models/SparkAudio/Spark-TTS-0.5B TTS_LM_MODEL_PATH=/content/models/SparkAudio/Spark-TTS-0.5B/LLM \\\n",
        "    REF_AUDIO_PATH=./test/audio_files/asr_example_zh.wav \\\n",
        "    REF_TEXT=\"欢迎大家来体验达摩院推出的语音识别模型\" \\\n",
        "    TTS_TEXT=\"万物之始,大道至简,衍化至繁。\" \\\n",
        "    python -m unittest test.modules.speech.tts.test_spark.TestSparkTTS.test_synthesize"
      ],
      "metadata": {
        "id": "vDpr9vlMjjht"
      },
      "execution_count": null,
      "outputs": []
    },
    {
      "cell_type": "markdown",
      "source": [
        "## Inference Overview of Controlled Generation with gender"
      ],
      "metadata": {
        "id": "vEV6EVkkjqFY"
      }
    },
    {
      "cell_type": "code",
      "source": [
        "!TTS_MODEL_DIR=/content/models/SparkAudio/Spark-TTS-0.5B TTS_LM_MODEL_PATH=/content/models/SparkAudio/Spark-TTS-0.5B/LLM \\\n",
        "  python -m unittest test.modules.speech.tts.test_spark.TestSparkTTS.test_synthesize"
      ],
      "metadata": {
        "id": "xVeD5XmLjl3K"
      },
      "execution_count": null,
      "outputs": []
    },
    {
      "cell_type": "code",
      "source": [
        "!TTS_MODEL_DIR=/content/models/SparkAudio/Spark-TTS-0.5B TTS_LM_MODEL_PATH=/content/models/SparkAudio/Spark-TTS-0.5B/LLM \\\n",
        "    TTS_TEXT=\"万物之始,大道至简,衍化至繁。君不见黄河之水天上来，奔流到海不复回。君不见高堂明镜悲白发，朝如青丝暮成雪。人生得意须尽欢，莫使金樽空对月。天生我材必有用，千金散尽还复来。\" \\\n",
        "    python -m unittest test.modules.speech.tts.test_spark.TestSparkTTS.test_synthesize"
      ],
      "metadata": {
        "id": "_3DgMtuZjtwG"
      },
      "execution_count": null,
      "outputs": []
    }
  ]
}