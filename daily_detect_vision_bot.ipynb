{
  "nbformat": 4,
  "nbformat_minor": 0,
  "metadata": {
    "colab": {
      "provenance": [],
      "machine_shape": "hm",
      "gpuType": "T4",
      "authorship_tag": "ABX9TyNy44ZvPhD/rb3GaaugkUNo",
      "include_colab_link": true
    },
    "kernelspec": {
      "name": "python3",
      "display_name": "Python 3"
    },
    "language_info": {
      "name": "python"
    },
    "accelerator": "GPU"
  },
  "cells": [
    {
      "cell_type": "markdown",
      "metadata": {
        "id": "view-in-github",
        "colab_type": "text"
      },
      "source": [
        "<a href=\"https://colab.research.google.com/github/weedge/doraemon-nb/blob/main/daily_detect_vision_bot.ipynb\" target=\"_parent\"><img src=\"https://colab.research.google.com/assets/colab-badge.svg\" alt=\"Open In Colab\"/></a>"
      ]
    },
    {
      "cell_type": "code",
      "execution_count": null,
      "metadata": {
        "id": "hTOZMjbnUZyM"
      },
      "outputs": [],
      "source": [
        "!cd /content && rm -rf achatbot && git clone --recursive https://github.com/ai-bot-pro/achatbot.git"
      ]
    },
    {
      "cell_type": "code",
      "source": [
        "%cd /content/achatbot"
      ],
      "metadata": {
        "id": "jj-NSzY1U_p7"
      },
      "execution_count": null,
      "outputs": []
    },
    {
      "cell_type": "code",
      "source": [
        "!bash scripts/pypi_achatbot.sh dev"
      ],
      "metadata": {
        "id": "nesIRk-jVKsN"
      },
      "execution_count": null,
      "outputs": []
    },
    {
      "cell_type": "code",
      "source": [
        "!pip install -q \"dist/achatbot-0.0.7.2-py3-none-any.whl[daily_room_audio_stream,livekit,livekit-api,vision_yolo_detector,tts_edge,queue,tensorrt]\""
      ],
      "metadata": {
        "id": "1U0Zy_vGVUPX"
      },
      "execution_count": null,
      "outputs": []
    },
    {
      "cell_type": "code",
      "execution_count": null,
      "metadata": {
        "id": "Fg2ApmcbZ3Vc"
      },
      "outputs": [],
      "source": [
        "from google.colab import userdata\n",
        "DAILY_API_KEY=userdata.get('DAILY_API_KEY')\n",
        "\n",
        "LIVEKIT_URL=userdata.get('LIVEKIT_URL')\n",
        "LIVEKIT_API_KEY=userdata.get('LIVEKIT_API_KEY')\n",
        "LIVEKIT_API_SECRET=userdata.get('LIVEKIT_API_SECRET')\n"
      ]
    },
    {
      "cell_type": "markdown",
      "metadata": {
        "id": "DhPOa8RBb0dS"
      },
      "source": [
        "run bot task woker with bot.json, e.g.: dummy_bot.json\n",
        "\n",
        "- use daily/livekit room stream, u can click bot joined the room url, to start chat with bot with audio and camera stream,\n",
        "  - [daily](https://www.daily.co/) need DAILY_API_KEY\n",
        "  - [livekit](https://livekit.io/) need project url LIVEKIT_URL, LIVEKIT_API_KEY, LIVEKIT_API_SECRET\n",
        "- use detect object model\n",
        "  - [YOLO](https://docs.ultralytics.com/)\n",
        "\n",
        "\n"
      ]
    },
    {
      "cell_type": "code",
      "source": [
        "!cat /content/daily_detect_vision_bot.json"
      ],
      "metadata": {
        "id": "8nzFjEijz2gs",
        "colab": {
          "base_uri": "https://localhost:8080/"
        },
        "outputId": "d4aa7cc6-78d7-49a4-85d2-1f91af634588"
      },
      "execution_count": 10,
      "outputs": [
        {
          "output_type": "stream",
          "name": "stdout",
          "text": [
            "{\n",
            "  \"chat_bot_name\": \"DailyDetectVisionBot\",\n",
            "  \"room_name\": \"chat-room\",\n",
            "  \"room_url\": \"\",\n",
            "  \"token\": \"\",\n",
            "  \"services\": {},\n",
            "  \"config\": {\n",
            "    \"vision_detector\": {\n",
            "      \"tag\": \"vision_yolo_detector\",\n",
            "      \"args\": {\n",
            "        \"device\": \"cuda\",\n",
            "        \"stream\": true,\n",
            "        \"verbose\": false,\n",
            "        \"model\": \"./models/yolo11n.pt\",\n",
            "        \"desc\": [\"hello\"],\n",
            "        \"out_desc\": \"goodbye\",\n",
            "        \"custom_confidences\": [\n",
            "          {\n",
            "            \"boolean_op\": \"and\",\n",
            "            \"class_name\": \"person\",\n",
            "            \"d_min_cn\": 1,\n",
            "            \"d_confidence\": 0.5\n",
            "          }\n",
            "        ]\n",
            "      }\n",
            "    },\n",
            "    \"tts\": {\n",
            "      \"tag\": \"tts_edge\",\n",
            "      \"args\": {\n",
            "        \"voice_name\": \"zh-CN-YunjianNeural\",\n",
            "        \"language\": \"zh\",\n",
            "        \"gender\": \"Male\"\n",
            "      }\n",
            "    }\n",
            "  },\n",
            "  \"config_list\": []\n",
            "}\n"
          ]
        }
      ]
    },
    {
      "cell_type": "code",
      "execution_count": null,
      "metadata": {
        "id": "NKB146E-b9s_"
      },
      "outputs": [],
      "source": [
        "!DAILY_API_KEY=$DAILY_API_KEY python -m src.cmd.bots.main -f /content/daily_detect_vision_bot.json"
      ]
    },
    {
      "cell_type": "code",
      "source": [
        "!cat /content/livekit_detect_vision_bot.json"
      ],
      "metadata": {
        "colab": {
          "base_uri": "https://localhost:8080/"
        },
        "id": "nReDK6NVdnB4",
        "outputId": "c526fbc4-4353-40ef-af42-8c8f0774fe7b"
      },
      "execution_count": 11,
      "outputs": [
        {
          "output_type": "stream",
          "name": "stdout",
          "text": [
            "{\n",
            "  \"chat_bot_name\": \"LivekitDetectVisionBot\",\n",
            "  \"room_name\": \"chat-room\",\n",
            "  \"room_url\": \"\",\n",
            "  \"token\": \"\",\n",
            "  \"room_manager\": {\n",
            "    \"tag\": \"livekit_room\",\n",
            "    \"args\": {\n",
            "      \"bot_name\": \"LivekitDetectVisionBot\",\n",
            "      \"is_common_session\": false\n",
            "    }\n",
            "  },\n",
            "  \"services\": {},\n",
            "  \"config\": {\n",
            "    \"vision_detector\": {\n",
            "      \"tag\": \"vision_yolo_detector\",\n",
            "      \"args\": {\n",
            "        \"device\": \"cuda\",\n",
            "        \"stream\": true,\n",
            "        \"verbose\": false,\n",
            "        \"model\": \"./models/yolo11n.pt\",\n",
            "        \"desc\": [\"hello\"],\n",
            "        \"out_desc\": \"goodbye\",\n",
            "        \"custom_confidences\": [\n",
            "          {\n",
            "            \"boolean_op\": \"and\",\n",
            "            \"class_name\": \"person\",\n",
            "            \"d_min_cn\": 1,\n",
            "            \"d_confidence\": 0.5\n",
            "          }\n",
            "        ]\n",
            "      }\n",
            "    },\n",
            "    \"tts\": {\n",
            "      \"tag\": \"tts_edge\",\n",
            "      \"args\": {\n",
            "        \"voice_name\": \"zh-CN-YunjianNeural\",\n",
            "        \"language\": \"zh\",\n",
            "        \"gender\": \"Male\"\n",
            "      }\n",
            "    }\n",
            "  },\n",
            "  \"config_list\": []\n",
            "}\n"
          ]
        }
      ]
    },
    {
      "cell_type": "code",
      "source": [
        "!LIVEKIT_URL=$LIVEKIT_URL LIVEKIT_API_KEY=$LIVEKIT_API_KEY LIVEKIT_API_SECRET=$LIVEKIT_API_SECRET \\\n",
        "  python -m src.cmd.bots.main -f /content/livekit_detect_vision_bot.json"
      ],
      "metadata": {
        "id": "l3sfAfucdhXt"
      },
      "execution_count": null,
      "outputs": []
    },
    {
      "cell_type": "code",
      "execution_count": null,
      "metadata": {
        "id": "c6EiEKxtbqVT"
      },
      "outputs": [],
      "source": [
        "from google.colab import userdata\n",
        "REDIS_PASSWORD=userdata.get('REDIS_PASSWORD')"
      ]
    },
    {
      "cell_type": "code",
      "execution_count": null,
      "metadata": {
        "colab": {
          "background_save": true
        },
        "id": "FzqIIMQ9boPX"
      },
      "outputs": [],
      "source": [
        "!LOG_LEVEL=debug REDIS_PASSWORD=$REDIS_PASSWORD python -m src.cmd.bots.main -f /content/task_bot.json"
      ]
    }
  ]
}