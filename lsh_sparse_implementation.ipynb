{
  "cells": [
    {
      "cell_type": "markdown",
      "metadata": {
        "id": "view-in-github",
        "colab_type": "text"
      },
      "source": [
        "<a href=\"https://colab.research.google.com/github/weedge/doraemon-nb/blob/main/lsh_sparse_implementation.ipynb\" target=\"_parent\"><img src=\"https://colab.research.google.com/assets/colab-badge.svg\" alt=\"Open In Colab\"/></a>"
      ]
    },
    {
      "cell_type": "markdown",
      "metadata": {
        "id": "45WByKqZ7Hwi"
      },
      "source": [
        "# Sparse Implementation of LSH\n",
        "\n",
        "Locality Sensitive Hashing (LSH) can be implemented for both sparse and dense vectors. In this notebook we will implement the algorithm for searching sparse vectors. We will be using *k-shingling* and *minhashing* to create our sparse vectors before applying them for search with LSH.\n",
        "\n",
        "We start by defining a few sentences."
      ]
    },
    {
      "cell_type": "code",
      "execution_count": 1,
      "metadata": {
        "id": "YylyZgH27Hwj"
      },
      "outputs": [],
      "source": [
        "a = \"flying fish flew by the space station\"\n",
        "b = \"he will not allow you to bring your sticks of dynamite and pet armadillo along\"\n",
        "c = \"he figured a few sticks of dynamite were easier than a fishing pole to catch an armadillo\""
      ]
    },
    {
      "cell_type": "markdown",
      "metadata": {
        "id": "kfv_Ynv47Hwl"
      },
      "source": [
        "The first thing we do is create our shingles, we will use k-shingles where `k == 2`. For longer text it is recommended to create shingles where it is unlikely to produce matching shingles between non-matching text, `k` values of `7` to `11` would likely produce this outcome."
      ]
    },
    {
      "cell_type": "code",
      "execution_count": 2,
      "metadata": {
        "id": "Jkc8yfUj7Hwl",
        "outputId": "5c41a616-fd9f-4e72-ebe1-8af178949fda",
        "colab": {
          "base_uri": "https://localhost:8080/"
        }
      },
      "outputs": [
        {
          "output_type": "stream",
          "name": "stdout",
          "text": [
            "fl|ly|yi|in|ng|g | f|fi|is|sh|h | f|fl|le|ew|w | b|by|y | t|th|he|e | s|sp|pa|ac|ce|e | s|st|ta|at|ti|io|on|"
          ]
        }
      ],
      "source": [
        "k = 2\n",
        "for i in range(len(a) - k+1):\n",
        "    print(a[i: i+k], end='|')"
      ]
    },
    {
      "cell_type": "markdown",
      "metadata": {
        "id": "SugFjE4u7Hwm"
      },
      "source": [
        "These are our shingles, however, we must remove duplicate values as we are producing a *set*. We do this using the Python type `set`. To apply shingling to each of our sentences we will define a `shingle` function:"
      ]
    },
    {
      "cell_type": "code",
      "execution_count": 3,
      "metadata": {
        "id": "PvuRuwEE7Hwm"
      },
      "outputs": [],
      "source": [
        "def shingle(text: str, k: int):\n",
        "    shingle_set = []\n",
        "    for i in range(len(text) - k+1):\n",
        "        shingle_set.append(text[i:i+k])\n",
        "    return set(shingle_set)"
      ]
    },
    {
      "cell_type": "code",
      "execution_count": 4,
      "metadata": {
        "id": "naM4EklX7Hwn",
        "outputId": "e5bc536d-c855-42d0-feae-665f3b080446",
        "colab": {
          "base_uri": "https://localhost:8080/"
        }
      },
      "outputs": [
        {
          "output_type": "stream",
          "name": "stdout",
          "text": [
            "{'in', 'g ', 'sh', ' t', 'le', 'e ', 'ce', ' s', 'ew', 'ng', 'at', 'is', 'by', 'ti', 'h ', 'fl', 'ac', 'w ', 'fi', 'yi', ' f', 'ta', 'he', 'pa', 'st', 'io', 'y ', 'ly', 'th', 'on', 'sp', ' b'}\n"
          ]
        }
      ],
      "source": [
        "a = shingle(a, k)\n",
        "b = shingle(b, k)\n",
        "c = shingle(c, k)\n",
        "print(a)"
      ]
    },
    {
      "cell_type": "markdown",
      "metadata": {
        "id": "p0mAYu0r7Hwn"
      },
      "source": [
        "Now that we have our three shingles we create a shingle vocabulary by create a `union` between all three sets."
      ]
    },
    {
      "cell_type": "code",
      "execution_count": 5,
      "metadata": {
        "id": "aC-NvvW87Hwo",
        "outputId": "bc9da3a4-4362-4870-f811-5524afeffea0",
        "colab": {
          "base_uri": "https://localhost:8080/"
        }
      },
      "outputs": [
        {
          "output_type": "stream",
          "name": "stdout",
          "text": [
            "['in', 'g ', 'dy', 'as', 'r ', ' s', 'ol', 'nd', 'ew', 'gu', 'ot', 'ar', 't ', 'ti', 'f ', 'ac', 'w ', 'u ', 'a ', ' y', 'il', 's ', 'it', ' e', 'ly', 'on', ' t', 'l ', ' o', 'le', 'ch', 'of', ' c', 'no', 'ha', 'rm', 'ea', 'fl', 'ad', 'po', ' w', 'io', 'fe', 'br', 'ic', 'sp', 'fi', 'na', 'ma', 'ri', 'e ', 'ed', 'ng', 'ig', 'an', 'o ', 're', 'by', 'pe', ' a', 'yi', 'ta', 'yo', 'di', 'st', 'ow', 'y ', 'll', 'to', 'we', 'ck', 'lo', 'am', ' b', 'sh', 'ur', 'ce', 'wi', 'te', 'al', 'ks', 'is', 'ou', 'er', 'h ', 'yn', 'ca', ' p', 'n ', 'si', ' n', ' f', 'he', 'et', 'pa', ' d', 'ie', 'd ', 'mi', 'tc', 'th', 'hi', 'at']\n"
          ]
        }
      ],
      "source": [
        "vocab = list(a.union(b).union(c))\n",
        "print(vocab)"
      ]
    },
    {
      "cell_type": "markdown",
      "metadata": {
        "id": "FK_ScRzw7Hwo"
      },
      "source": [
        "Using this vocab we can create one-hot encoded sparse vectors to represent our shingles."
      ]
    },
    {
      "cell_type": "code",
      "execution_count": 6,
      "metadata": {
        "id": "Li1LVY5X7Hwp",
        "outputId": "d50f1b23-c334-4cb1-df82-333239e87ccf",
        "colab": {
          "base_uri": "https://localhost:8080/"
        }
      },
      "outputs": [
        {
          "output_type": "stream",
          "name": "stdout",
          "text": [
            "[1, 1, 0, 0, 0, 1, 0, 0, 1, 0, 0, 0, 0, 1, 0, 1, 1, 0, 0, 0, 0, 0, 0, 0, 1, 1, 1, 0, 0, 1, 0, 0, 0, 0, 0, 0, 0, 1, 0, 0, 0, 1, 0, 0, 0, 1, 1, 0, 0, 0, 1, 0, 1, 0, 0, 0, 0, 1, 0, 0, 1, 1, 0, 0, 1, 0, 1, 0, 0, 0, 0, 0, 0, 1, 1, 0, 1, 0, 0, 0, 0, 1, 0, 0, 1, 0, 0, 0, 0, 0, 0, 1, 1, 0, 1, 0, 0, 0, 0, 0, 1, 0, 1]\n"
          ]
        }
      ],
      "source": [
        "a_1hot = [1 if x in a else 0 for x in vocab]\n",
        "b_1hot = [1 if x in b else 0 for x in vocab]\n",
        "c_1hot = [1 if x in c else 0 for x in vocab]\n",
        "print(a_1hot)"
      ]
    },
    {
      "cell_type": "markdown",
      "metadata": {
        "id": "3HUxqNka7Hwp"
      },
      "source": [
        "So we now have one-hot encoded sparse vectors we can move onto *minhashing*.\n",
        "\n",
        "## Minhashing\n",
        "\n",
        "Minhashing is the next step in our process. After creating our shingle sets we use minhashing to create *signatures* from those sets.\n",
        "\n",
        "To create our minhashing function we build several hash functions, each will randomly count from `1` to `len(vocab) + 1` - creating a *random* vector:"
      ]
    },
    {
      "cell_type": "code",
      "execution_count": 7,
      "metadata": {
        "id": "p8PxKUhW7Hwp",
        "outputId": "4249d648-8d78-46d3-e153-3f4599234d4b",
        "colab": {
          "base_uri": "https://localhost:8080/"
        }
      },
      "outputs": [
        {
          "output_type": "stream",
          "name": "stdout",
          "text": [
            "[1, 2, 3, 4, 5, 6, 7, 8, 9, 10, 11, 12, 13, 14, 15, 16, 17, 18, 19, 20, 21, 22, 23, 24, 25, 26, 27, 28, 29, 30, 31, 32, 33, 34, 35, 36, 37, 38, 39, 40, 41, 42, 43, 44, 45, 46, 47, 48, 49, 50, 51, 52, 53, 54, 55, 56, 57, 58, 59, 60, 61, 62, 63, 64, 65, 66, 67, 68, 69, 70, 71, 72, 73, 74, 75, 76, 77, 78, 79, 80, 81, 82, 83, 84, 85, 86, 87, 88, 89, 90, 91, 92, 93, 94, 95, 96, 97, 98, 99, 100, 101, 102, 103]\n"
          ]
        }
      ],
      "source": [
        "hash_ex = list(range(1, len(vocab)+1))\n",
        "print(hash_ex)  # we haven't shuffled yet"
      ]
    },
    {
      "cell_type": "code",
      "execution_count": 8,
      "metadata": {
        "id": "ZLo8qnej7Hwp",
        "outputId": "02f85b91-ed55-4aa7-a28a-206142cc742d",
        "colab": {
          "base_uri": "https://localhost:8080/"
        }
      },
      "outputs": [
        {
          "output_type": "stream",
          "name": "stdout",
          "text": [
            "[8, 31, 101, 73, 23, 56, 82, 39, 88, 51, 72, 78, 10, 7, 34, 94, 102, 17, 85, 60, 45, 66, 35, 76, 64, 40, 6, 71, 90, 59, 52, 80, 22, 61, 14, 44, 27, 95, 84, 50, 93, 53, 54, 29, 43, 68, 96, 15, 62, 97, 11, 28, 21, 36, 98, 58, 49, 81, 42, 55, 91, 33, 19, 75, 70, 100, 63, 30, 57, 1, 9, 77, 86, 20, 12, 69, 92, 87, 67, 89, 47, 2, 48, 103, 79, 37, 41, 18, 83, 4, 5, 99, 13, 38, 65, 25, 26, 24, 46, 16, 74, 3, 32]\n"
          ]
        }
      ],
      "source": [
        "from random import shuffle\n",
        "\n",
        "shuffle(hash_ex)\n",
        "print(hash_ex)"
      ]
    },
    {
      "cell_type": "markdown",
      "metadata": {
        "id": "BjtuborC7Hwp"
      },
      "source": [
        "We now have a randomized list of integers which we can use in creating our *hashed* signatures. What we do now is begin counting from `1` through to `len(vocab) + 1`, extracting the position of this number in our new `hash_ex` list, like so (for the first few integers):"
      ]
    },
    {
      "cell_type": "code",
      "execution_count": 9,
      "metadata": {
        "id": "CqYi5wWe7Hwq",
        "outputId": "b98d27b3-13b7-492d-8405-9eb37ebd9e88",
        "colab": {
          "base_uri": "https://localhost:8080/"
        }
      },
      "outputs": [
        {
          "output_type": "stream",
          "name": "stdout",
          "text": [
            "1 -> 69\n",
            "2 -> 81\n",
            "3 -> 101\n",
            "4 -> 89\n"
          ]
        }
      ],
      "source": [
        "for i in range(1, 5):\n",
        "    print(f\"{i} -> {hash_ex.index(i)}\")"
      ]
    },
    {
      "cell_type": "markdown",
      "metadata": {
        "id": "zZaIyg3u7Hwq"
      },
      "source": [
        "What we do with this is count up from `1` to `len(vocab) + 1` and find if the resultant `hash_ex.index(i)` position in our one-hot encoded vectors contains a positive value (`1`) in that position, like so:"
      ]
    },
    {
      "cell_type": "code",
      "execution_count": 10,
      "metadata": {
        "id": "9G-piWwb7Hwq",
        "outputId": "a790c2ab-a7b2-4ac0-e3c8-eff2e3fbbe6e",
        "colab": {
          "base_uri": "https://localhost:8080/"
        }
      },
      "outputs": [
        {
          "output_type": "stream",
          "name": "stdout",
          "text": [
            "1 -> 69 -> 0\n",
            "2 -> 81 -> 1\n",
            "match!\n"
          ]
        }
      ],
      "source": [
        "for i in range(1, len(vocab)+1):\n",
        "    idx = hash_ex.index(i)\n",
        "    signature_val = a_1hot[idx]\n",
        "    print(f\"{i} -> {idx} -> {signature_val}\")\n",
        "    if signature_val == 1:\n",
        "        print('match!')\n",
        "        break"
      ]
    },
    {
      "cell_type": "markdown",
      "metadata": {
        "id": "NqfJkF9t7Hwq"
      },
      "source": [
        "That gives us a first signature value of `98`. But this is just a single value, and it takes many values to create a signature (100 for example).\n",
        "\n",
        "So, how to we generate these other values? By using more hash functions! Let's generate a set of hash functions to create a signature vector of length `20`."
      ]
    },
    {
      "cell_type": "markdown",
      "metadata": {
        "id": "D4oxBsiy7Hwq"
      },
      "source": [
        "hash_funcs = []\n",
        "\n",
        "for _ in range(20)"
      ]
    },
    {
      "cell_type": "code",
      "execution_count": 11,
      "metadata": {
        "id": "Xk4nbwbP7Hwq",
        "outputId": "6c7ecdae-deea-4164-bb62-a2d2a1c70a10",
        "colab": {
          "base_uri": "https://localhost:8080/"
        }
      },
      "outputs": [
        {
          "output_type": "stream",
          "name": "stdout",
          "text": [
            "hash function 1:\n",
            "[68, 3, 39, 60, 100, 80, 95, 87, 25, 40, 43, 85, 22, 72, 15, 4, 44, 12, 49, 103, 46, 93, 69, 13, 94, 7, 5, 11, 34, 98, 37, 63, 36, 82, 73, 14, 54, 97, 66, 86, 91, 28, 83, 81, 61, 84, 71, 64, 30, 20, 6, 18, 51, 57, 76, 16, 8, 88, 35, 38, 21, 50, 31, 96, 27, 59, 74, 19, 45, 55, 48, 99, 17, 62, 90, 75, 67, 42, 58, 23, 32, 77, 78, 53, 2, 41, 26, 79, 89, 24, 56, 47, 9, 65, 1, 92, 10, 70, 102, 29, 33, 101, 52]\n",
            "hash function 2:\n",
            "[26, 90, 94, 23, 20, 70, 38, 93, 85, 51, 71, 78, 53, 89, 25, 55, 60, 49, 44, 99, 101, 79, 96, 47, 80, 59, 67, 6, 10, 65, 42, 33, 21, 13, 5, 3, 64, 92, 88, 39, 57, 100, 2, 48, 103, 29, 61, 63, 68, 22, 45, 52, 56, 1, 73, 37, 83, 32, 28, 86, 97, 17, 102, 72, 62, 91, 14, 50, 84, 95, 41, 4, 27, 7, 30, 81, 43, 8, 35, 69, 40, 19, 54, 15, 16, 98, 76, 18, 58, 77, 87, 82, 9, 66, 74, 11, 75, 34, 46, 12, 36, 24, 31]\n",
            "hash function 3:\n",
            "[37, 50, 72, 77, 60, 73, 101, 25, 56, 94, 39, 33, 26, 38, 95, 19, 16, 98, 31, 36, 22, 40, 89, 46, 23, 8, 79, 81, 66, 4, 17, 78, 90, 48, 102, 28, 59, 10, 62, 2, 9, 97, 12, 76, 64, 32, 15, 52, 14, 29, 86, 51, 63, 54, 13, 83, 69, 80, 41, 93, 68, 6, 45, 91, 55, 1, 92, 100, 82, 103, 61, 99, 74, 35, 43, 65, 30, 24, 44, 11, 47, 57, 88, 58, 84, 7, 96, 70, 21, 27, 75, 71, 85, 5, 18, 67, 87, 49, 53, 20, 3, 42, 34]\n"
          ]
        }
      ],
      "source": [
        "hash_funcs = []\n",
        "\n",
        "for _ in range(20):\n",
        "    hash_ex = list(range(1, len(vocab)+1))\n",
        "    shuffle(hash_ex)\n",
        "    hash_funcs.append(hash_ex)\n",
        "\n",
        "for i in range(3):\n",
        "    print(f\"hash function {i+1}:\")\n",
        "    print(hash_funcs[i])"
      ]
    },
    {
      "cell_type": "markdown",
      "metadata": {
        "id": "u8b8gQ5G7Hwq"
      },
      "source": [
        "We're only showing the first three hash functions here - we have *20* in total. To create our signatures we simply process each one-hot vector through each hash function, appending the output value to our signature for that vector."
      ]
    },
    {
      "cell_type": "code",
      "execution_count": 12,
      "metadata": {
        "id": "vLk2R6TS7Hwr",
        "outputId": "8169493b-8681-4f84-8ea5-84726ed24ec8",
        "colab": {
          "base_uri": "https://localhost:8080/"
        }
      },
      "outputs": [
        {
          "output_type": "stream",
          "name": "stdout",
          "text": [
            "[94, 73, 100, 46, 29, 37, 25, 100, 73, 1, 94, 5, 8, 66, 73, 52, 0, 24, 91, 0]\n"
          ]
        }
      ],
      "source": [
        "signature = []\n",
        "\n",
        "for func in hash_funcs:\n",
        "    for i in range(1, len(vocab)+1):\n",
        "        idx = func.index(i)\n",
        "        signature_val = a_1hot[idx]\n",
        "        if signature_val == 1:\n",
        "            signature.append(idx)\n",
        "            break\n",
        "\n",
        "print(signature)"
      ]
    },
    {
      "cell_type": "markdown",
      "metadata": {
        "id": "MieZv2LZ7Hwr"
      },
      "source": [
        "And there we have our minhash produced signature for `a`. Let's clean up the code and formalize the process a little."
      ]
    },
    {
      "cell_type": "code",
      "execution_count": 13,
      "metadata": {
        "id": "5Fluj72Y7Hwr"
      },
      "outputs": [],
      "source": [
        "def create_hash_func(size: int):\n",
        "    # function for creating the hash vector/function\n",
        "    hash_ex = list(range(1, size+1))\n",
        "    shuffle(hash_ex)\n",
        "    return hash_ex\n",
        "\n",
        "def build_minhash_func(vocab_size: int, nbits: int):\n",
        "    # function for building multiple minhash vectors\n",
        "    hashes = []\n",
        "    for _ in range(nbits):\n",
        "        hashes.append(create_hash_func(vocab_size))\n",
        "    return hashes\n",
        "\n",
        "# we create 20 minhash vectors\n",
        "minhash_func = build_minhash_func(len(vocab), 20)"
      ]
    },
    {
      "cell_type": "code",
      "execution_count": 14,
      "metadata": {
        "id": "mEIPe-wW7Hwr"
      },
      "outputs": [],
      "source": [
        "def create_hash(vector: list):\n",
        "    # use this function for creating our signatures (eg the matching)\n",
        "    signature = []\n",
        "    for func in minhash_func:\n",
        "        for i in range(1, len(vocab)+1):\n",
        "            idx = func.index(i)\n",
        "            signature_val = vector[idx]\n",
        "            if signature_val == 1:\n",
        "                signature.append(idx)\n",
        "                break\n",
        "    return signature"
      ]
    },
    {
      "cell_type": "code",
      "execution_count": 15,
      "metadata": {
        "id": "eM-0padu7Hwr",
        "outputId": "17ba2e4f-ee78-43e2-981e-6845bad0624d",
        "colab": {
          "base_uri": "https://localhost:8080/"
        }
      },
      "outputs": [
        {
          "output_type": "stream",
          "name": "stdout",
          "text": [
            "[94, 45, 8, 81, 5, 45, 74, 26, 15, 29, 84, 46, 26, 74, 81, 24, 64, 64, 81, 57]\n",
            "[80, 54, 92, 12, 22, 85, 38, 26, 0, 31, 77, 55, 26, 85, 22, 98, 67, 64, 0, 43]\n"
          ]
        }
      ],
      "source": [
        "# now create signatures\n",
        "a_sig = create_hash(a_1hot)\n",
        "b_sig = create_hash(b_1hot)\n",
        "c_sig = create_hash(c_1hot)\n",
        "\n",
        "print(a_sig)\n",
        "print(b_sig)"
      ]
    },
    {
      "cell_type": "markdown",
      "metadata": {
        "id": "vVj8WDma7Hwr"
      },
      "source": [
        "We now have our three minhashed signatures! These signatures, despite being seemingly randomized, will on average have the very similar Jaccard similarity values as our previous sparse vectors. We have reduced the dimensionality of our vectors significantly - but maintained the same information!\n"
      ]
    },
    {
      "cell_type": "code",
      "execution_count": 16,
      "metadata": {
        "id": "rhyyAJQo7Hwr"
      },
      "outputs": [],
      "source": [
        "def jaccard(a: set, b: set):\n",
        "    return len(a.intersection(b)) / len(a.union(b))"
      ]
    },
    {
      "cell_type": "markdown",
      "metadata": {
        "id": "MuD0jyqg7Hwr"
      },
      "source": [
        "**a** should have lower similarity with **b** and **c**:"
      ]
    },
    {
      "cell_type": "code",
      "execution_count": 17,
      "metadata": {
        "id": "3IRJZZJ47Hws",
        "outputId": "0d6eec4c-2367-4312-a42e-36d9185ca066",
        "colab": {
          "base_uri": "https://localhost:8080/"
        }
      },
      "outputs": [
        {
          "output_type": "execute_result",
          "data": {
            "text/plain": [
              "(0.14814814814814814, 0.07142857142857142)"
            ]
          },
          "metadata": {},
          "execution_count": 17
        }
      ],
      "source": [
        "jaccard(a, b), jaccard(set(a_sig), set(b_sig))"
      ]
    },
    {
      "cell_type": "code",
      "execution_count": 18,
      "metadata": {
        "id": "tFxjBJ9E7Hws",
        "outputId": "e5d5c3dc-79ab-4331-d08e-af8d43b54d1a",
        "colab": {
          "base_uri": "https://localhost:8080/"
        }
      },
      "outputs": [
        {
          "output_type": "execute_result",
          "data": {
            "text/plain": [
              "(0.22093023255813954, 0.11538461538461539)"
            ]
          },
          "metadata": {},
          "execution_count": 18
        }
      ],
      "source": [
        "jaccard(a, c), jaccard(set(a_sig), set(c_sig))"
      ]
    },
    {
      "cell_type": "markdown",
      "metadata": {
        "id": "Pkb0ALX47Hws"
      },
      "source": [
        "And **b** and **c** should share much greater simliarity:"
      ]
    },
    {
      "cell_type": "code",
      "execution_count": 19,
      "metadata": {
        "id": "BRhNN1Jp7Hws",
        "outputId": "6bcf317f-3228-4efa-e0c3-5c04e5c0ba0c",
        "colab": {
          "base_uri": "https://localhost:8080/"
        }
      },
      "outputs": [
        {
          "output_type": "execute_result",
          "data": {
            "text/plain": [
              "(0.45652173913043476, 0.34782608695652173)"
            ]
          },
          "metadata": {},
          "execution_count": 19
        }
      ],
      "source": [
        "jaccard(b, c), jaccard(set(b_sig), set(c_sig))"
      ]
    },
    {
      "cell_type": "markdown",
      "metadata": {
        "id": "373iq6KK7Hws"
      },
      "source": [
        "We're now ready to move onto the LSH process.\n",
        "\n",
        "# Locality Sensitive Hashing\n",
        "\n",
        "The approach we will be taking in this notebook is break our signature vector into multiple *bands*, creating several sub-vectors.\n",
        "\n",
        "We then hash each of these sub-vectors into a set of buckets, if we find that two sub-vectors from two signature vectors collide (end up in the same hash bucket) we take the two *full* signature vectors as *candidate pairs* - which we then compare in full with a similarity metric (like Jaccard similarity, cosine similarity, etc).\n",
        "\n",
        "There is no *'set'* way to hash our signature vectors, and in-fact the simplest approach is to check for equivalence across sub-vectors, which will be our approach.\n",
        "\n",
        "First, we must define the number of buckets `b` we would like to create. It's important to note that each bucket must contain an equal number of rows `r` - and so our signature length must be divisible by `b`."
      ]
    },
    {
      "cell_type": "code",
      "execution_count": 20,
      "metadata": {
        "id": "_H-wQO_47Hws"
      },
      "outputs": [],
      "source": [
        "def split_vector(signature, b):\n",
        "    assert len(signature) % b == 0\n",
        "    r = int(len(signature) / b)\n",
        "    # code splitting signature in b parts\n",
        "    subvecs = []\n",
        "    for i in range(0, len(signature), r):\n",
        "        subvecs.append(signature[i : i+r])\n",
        "    return subvecs"
      ]
    },
    {
      "cell_type": "markdown",
      "metadata": {
        "id": "y2STxaJx7Hws"
      },
      "source": [
        "We'll start by splitting into 10 bands, creating rows of `2` - on the small side to be used in a genuine LSH function but good for our example (we'll explore different `r` and `b` values soon).\n",
        "\n",
        "Let's start with our **b** and **c** vectors, which should *hopefully* match in *at least one* band."
      ]
    },
    {
      "cell_type": "code",
      "execution_count": 21,
      "metadata": {
        "id": "DNZX-q777Hws",
        "outputId": "4bed7be9-c76a-478e-ae16-d3abe56e53e7",
        "colab": {
          "base_uri": "https://localhost:8080/"
        }
      },
      "outputs": [
        {
          "output_type": "execute_result",
          "data": {
            "text/plain": [
              "[[80, 54],\n",
              " [92, 12],\n",
              " [22, 85],\n",
              " [38, 26],\n",
              " [0, 31],\n",
              " [77, 55],\n",
              " [26, 85],\n",
              " [22, 98],\n",
              " [67, 64],\n",
              " [0, 43]]"
            ]
          },
          "metadata": {},
          "execution_count": 21
        }
      ],
      "source": [
        "band_b = split_vector(b_sig, 10)\n",
        "band_b"
      ]
    },
    {
      "cell_type": "code",
      "execution_count": 22,
      "metadata": {
        "id": "A0KAT1pF7Hwt",
        "outputId": "282af202-6369-4f5e-aabe-54a5e726ed30",
        "colab": {
          "base_uri": "https://localhost:8080/"
        }
      },
      "outputs": [
        {
          "output_type": "execute_result",
          "data": {
            "text/plain": [
              "[[80, 54],\n",
              " [8, 81],\n",
              " [22, 85],\n",
              " [38, 26],\n",
              " [0, 32],\n",
              " [96, 89],\n",
              " [26, 85],\n",
              " [22, 8],\n",
              " [67, 3],\n",
              " [81, 47]]"
            ]
          },
          "metadata": {},
          "execution_count": 22
        }
      ],
      "source": [
        "band_c = split_vector(c_sig, 10)\n",
        "band_c"
      ]
    },
    {
      "cell_type": "markdown",
      "metadata": {
        "id": "ObT1Pozf7Hwt"
      },
      "source": [
        "Check if they match (we'll rewrite some of this into Numpy soon)."
      ]
    },
    {
      "cell_type": "code",
      "execution_count": 23,
      "metadata": {
        "id": "JcF1BZfC7Hwt",
        "outputId": "d575e262-6cb1-4c38-efd2-d868c2c5b04f",
        "colab": {
          "base_uri": "https://localhost:8080/"
        }
      },
      "outputs": [
        {
          "output_type": "stream",
          "name": "stdout",
          "text": [
            "Candidate pair: [80, 54] == [80, 54]\n"
          ]
        }
      ],
      "source": [
        "for b_rows, c_rows in zip(band_b, band_c):\n",
        "    if b_rows == c_rows:\n",
        "        print(f\"Candidate pair: {b_rows} == {c_rows}\")\n",
        "        # we only need one band to match\n",
        "        break"
      ]
    },
    {
      "cell_type": "markdown",
      "metadata": {
        "id": "oa6X0sIw7Hwu"
      },
      "source": [
        "And let's do the same for **a**."
      ]
    },
    {
      "cell_type": "code",
      "execution_count": 24,
      "metadata": {
        "id": "AXfJCD4F7Hwu"
      },
      "outputs": [],
      "source": [
        "band_a = split_vector(a_sig, 10)"
      ]
    },
    {
      "cell_type": "code",
      "execution_count": 25,
      "metadata": {
        "id": "46FNQA3d7Hwu"
      },
      "outputs": [],
      "source": [
        "for a_rows, b_rows in zip(band_a, band_b):\n",
        "    if a_rows == b_rows:\n",
        "        print(f\"Candidate pair: {a_rows} == {b_rows}\")\n",
        "        # we only need one band to match\n",
        "        break"
      ]
    },
    {
      "cell_type": "code",
      "execution_count": 26,
      "metadata": {
        "id": "y_JOcBW27Hwu",
        "colab": {
          "base_uri": "https://localhost:8080/"
        },
        "outputId": "fd4c4faa-fc71-47f3-ad04-bea44837e84a"
      },
      "outputs": [
        {
          "output_type": "stream",
          "name": "stdout",
          "text": [
            "Candidate pair: [0, 43] == [8, 81]\n"
          ]
        }
      ],
      "source": [
        "for a_rows, c_rows in zip(band_a, band_c):\n",
        "    if a_rows == c_rows:\n",
        "        print(f\"Candidate pair: {b_rows} == {c_rows}\")\n",
        "        # we only need one band to match\n",
        "        break"
      ]
    },
    {
      "cell_type": "markdown",
      "metadata": {
        "id": "DmTgE7sI7Hwu"
      },
      "source": [
        "Okay great, so even with this very simple implementation - we manage to identify sentences **b** and **c** and candidate pairs, and identify **a** as a non-candidate."
      ]
    },
    {
      "cell_type": "markdown",
      "metadata": {
        "id": "63EFNjLs7Hwu"
      },
      "source": [
        "## Tuning LSH\n",
        "\n",
        "We can visualize the probability of returning a candidate pair vs the similarity of the pair for different values of `r` and `b` (rows and bands respectively) like so:"
      ]
    },
    {
      "cell_type": "code",
      "execution_count": 27,
      "metadata": {
        "id": "rgyRzg9L7Hwu"
      },
      "outputs": [],
      "source": [
        "def probability(s, r, b):\n",
        "    # s: similarity\n",
        "    # r: rows (per band)\n",
        "    # b: number of bands\n",
        "    return 1 - (1 - s**r)**b"
      ]
    },
    {
      "cell_type": "code",
      "execution_count": 28,
      "metadata": {
        "id": "ZC40CIK37Hwu"
      },
      "outputs": [],
      "source": [
        "import numpy as np\n",
        "import pandas as pd\n",
        "import matplotlib.pyplot as plt\n",
        "import seaborn as sns"
      ]
    },
    {
      "cell_type": "code",
      "execution_count": 34,
      "metadata": {
        "id": "LUNXwYcM7Hwv"
      },
      "outputs": [],
      "source": [
        "results = pd.DataFrame({\n",
        "    's': [],\n",
        "    'P': [],\n",
        "    'r,b': []\n",
        "})\n",
        "\n",
        "for s in np.arange(0.01, 1, 0.01):\n",
        "    total = 100\n",
        "    for b in [100, 50, 25, 20, 10, 5, 4, 2, 1]:\n",
        "        r = int(total/b)\n",
        "        P = probability(s, r, b)\n",
        "        results = pd.concat([results,pd.DataFrame({\n",
        "            's': s,\n",
        "            'P': P,\n",
        "            'r,b': f\"{r},{b}\"\n",
        "        },index=[0])], ignore_index=True)"
      ]
    },
    {
      "cell_type": "code",
      "execution_count": 35,
      "metadata": {
        "id": "BtoYnCf-7Hwv",
        "outputId": "ac7faf38-d443-420c-bfca-fb5828824458",
        "colab": {
          "base_uri": "https://localhost:8080/",
          "height": 467
        }
      },
      "outputs": [
        {
          "output_type": "execute_result",
          "data": {
            "text/plain": [
              "<Axes: xlabel='s', ylabel='P'>"
            ]
          },
          "metadata": {},
          "execution_count": 35
        },
        {
          "output_type": "display_data",
          "data": {
            "text/plain": [
              "<Figure size 640x480 with 1 Axes>"
            ],
            "image/png": "[encoded data removed]"
          },
          "metadata": {}
        }
      ],
      "source": [
        "sns.lineplot(data=results, x='s', y='P', hue='r,b')"
      ]
    }
  ],
  "metadata": {
    "kernelspec": {
      "display_name": "base",
      "language": "python",
      "name": "python3"
    },
    "language_info": {
      "codemirror_mode": {
        "name": "ipython",
        "version": 3
      },
      "file_extension": ".py",
      "mimetype": "text/x-python",
      "name": "python",
      "nbconvert_exporter": "python",
      "pygments_lexer": "ipython3",
      "version": "3.8.13 (default, Mar 28 2022, 06:59:08) [MSC v.1916 64 bit (AMD64)]"
    },
    "orig_nbformat": 4,
    "vscode": {
      "interpreter": {
        "hash": "5fe10bf018ef3e697f9035d60bf60847932a12bface18908407fd371fe880db9"
      }
    },
    "colab": {
      "provenance": [],
      "include_colab_link": true
    }
  },
  "nbformat": 4,
  "nbformat_minor": 0
}