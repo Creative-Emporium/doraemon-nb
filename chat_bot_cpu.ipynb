{
  "nbformat": 4,
  "nbformat_minor": 0,
  "metadata": {
    "colab": {
      "provenance": [],
      "machine_shape": "hm",
      "authorship_tag": "ABX9TyNfvZAnM8dayBmsriNmtbEB",
      "include_colab_link": true
    },
    "kernelspec": {
      "name": "python3",
      "display_name": "Python 3"
    },
    "language_info": {
      "name": "python"
    }
  },
  "cells": [
    {
      "cell_type": "markdown",
      "metadata": {
        "id": "view-in-github",
        "colab_type": "text"
      },
      "source": [
        "<a href=\"https://colab.research.google.com/github/weedge/doraemon-nb/blob/main/chat_bot_cpu.ipynb\" target=\"_parent\"><img src=\"https://colab.research.google.com/assets/colab-badge.svg\" alt=\"Open In Colab\"/></a>"
      ]
    },
    {
      "cell_type": "code",
      "execution_count": null,
      "metadata": {
        "id": "IfmcAQMns6aV"
      },
      "outputs": [],
      "source": [
        "!git clone https://github.com/weedge/chat-bot.git"
      ]
    },
    {
      "cell_type": "code",
      "source": [
        "%cd chat-bot"
      ],
      "metadata": {
        "id": "5a1qIXxQdJvV"
      },
      "execution_count": null,
      "outputs": []
    },
    {
      "cell_type": "markdown",
      "source": [
        "### install dependencies"
      ],
      "metadata": {
        "id": "jMvKdwJHlvhS"
      }
    },
    {
      "cell_type": "code",
      "source": [
        "!pip install --upgrade pip"
      ],
      "metadata": {
        "id": "FwKwMQL9RNE4"
      },
      "execution_count": null,
      "outputs": []
    },
    {
      "cell_type": "code",
      "source": [
        "# ChatTTS\n",
        "!git submodule update --init --recursive\n",
        "!pip install -q vocos\n",
        "!pip install vector_quantize_pytorch"
      ],
      "metadata": {
        "id": "tHi3wGoeVwtT"
      },
      "execution_count": null,
      "outputs": []
    },
    {
      "cell_type": "code",
      "source": [
        "!apt-get install python3-pyaudio && pip install pyannote.audio"
      ],
      "metadata": {
        "id": "PNTGOdhEkXDX"
      },
      "execution_count": null,
      "outputs": []
    },
    {
      "cell_type": "code",
      "source": [
        "!pip install pyaudio pydub redis"
      ],
      "metadata": {
        "id": "cGEdDL-QhXLt"
      },
      "execution_count": null,
      "outputs": []
    },
    {
      "cell_type": "code",
      "source": [
        "# asr whisper\n",
        "!pip install openai-whisper whisper-timestamped faster-whisper"
      ],
      "metadata": {
        "id": "dbujgZGJlJwc"
      },
      "execution_count": null,
      "outputs": []
    },
    {
      "cell_type": "code",
      "source": [
        "# llamacpp https://github.com/abetlen/llama-cpp-python?tab=readme-ov-file#installation\n",
        "# cpu\n",
        "!pip install llama-cpp-python\n",
        "#!pip install llama-cpp-python --extra-index-url https://abetlen.github.io/llama-cpp-python/whl/cpu\n",
        "#!CMAKE_ARGS=\"-DLLAMA_BLAS=ON -DLLAMA_BLAS_VENDOR=OpenBLAS\" pip install llama-cpp-python\n",
        "\n",
        "# gpu\n",
        "#!CMAKE_ARGS=\"-DLLAMA_CUDA=on\" pip install llama-cpp-python"
      ],
      "metadata": {
        "id": "7wKEoTuwRZiq"
      },
      "execution_count": null,
      "outputs": []
    },
    {
      "cell_type": "code",
      "source": [
        "!pip list | grep torch"
      ],
      "metadata": {
        "id": "ybwIxsrknMlO"
      },
      "execution_count": null,
      "outputs": []
    },
    {
      "cell_type": "code",
      "source": [
        "!pip show omegaconf einops IPython"
      ],
      "metadata": {
        "id": "UXUdeKJPtvV3"
      },
      "execution_count": null,
      "outputs": []
    },
    {
      "cell_type": "markdown",
      "source": [
        "### download models"
      ],
      "metadata": {
        "id": "HkXuo0PSlriI"
      }
    },
    {
      "cell_type": "code",
      "source": [
        "# asr openai whisper\n",
        "!huggingface-cli download openai/whisper-base  --local-dir ./models/openai/whisper-base --local-dir-use-symlinks False"
      ],
      "metadata": {
        "id": "sUBGxsNH9Y1v"
      },
      "execution_count": null,
      "outputs": []
    },
    {
      "cell_type": "code",
      "source": [
        "# llm llamacpp phi-3-mini-4k-instruct\n",
        "!huggingface-cli download microsoft/Phi-3-mini-4k-instruct-gguf Phi-3-mini-4k-instruct-q4.gguf --local-dir ./models --local-dir-use-symlinks False"
      ],
      "metadata": {
        "id": "ELUVP0Gx9qAf"
      },
      "execution_count": null,
      "outputs": []
    },
    {
      "cell_type": "code",
      "source": [
        "# tts chatTTS\n",
        "!huggingface-cli download 2Noise/ChatTTS  --local-dir ./models/2Noise/ChatTTS --local-dir-use-symlinks False"
      ],
      "metadata": {
        "id": "dIf4oBlZmH9j"
      },
      "execution_count": null,
      "outputs": []
    },
    {
      "cell_type": "markdown",
      "source": [
        "### run chat bot BE"
      ],
      "metadata": {
        "id": "b2IgjS7bmDzV"
      }
    },
    {
      "cell_type": "code",
      "source": [
        "from google.colab import userdata\n",
        "redis_pwd = userdata.get('REDIS_PASSWORD')"
      ],
      "metadata": {
        "id": "NIzdOsCZfmQo"
      },
      "execution_count": null,
      "outputs": []
    },
    {
      "cell_type": "code",
      "source": [
        "!mkdir -p log"
      ],
      "metadata": {
        "id": "T2dP-UcWgCT4"
      },
      "execution_count": null,
      "outputs": []
    },
    {
      "cell_type": "code",
      "source": [
        "!REDIS_PASSWORD=$redis_pwd RUN_OP=be TQDM_DISABLE=True python -m src.cmd.remote-queue-chat.generate_audio2audio > ./log/be_std_out.log"
      ],
      "metadata": {
        "id": "Ei6CpMWhdhAs"
      },
      "execution_count": null,
      "outputs": []
    }
  ]
}