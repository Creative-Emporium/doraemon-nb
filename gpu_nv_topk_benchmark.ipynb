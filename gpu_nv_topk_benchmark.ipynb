{
  "nbformat": 4,
  "nbformat_minor": 0,
  "metadata": {
    "colab": {
      "provenance": [],
      "toc_visible": true,
      "machine_shape": "hm",
      "gpuType": "T4",
      "authorship_tag": "ABX9TyMRcXQNbdX1KAUEHwsmbCFK",
      "include_colab_link": true
    },
    "kernelspec": {
      "name": "python3",
      "display_name": "Python 3"
    },
    "language_info": {
      "name": "python"
    },
    "accelerator": "GPU"
  },
  "cells": [
    {
      "cell_type": "markdown",
      "metadata": {
        "id": "view-in-github",
        "colab_type": "text"
      },
      "source": [
        "<a href=\"https://colab.research.google.com/github/weedge/doraemon-nb/blob/main/gpu_nv_topk_benchmark.ipynb\" target=\"_parent\"><img src=\"https://colab.research.google.com/assets/colab-badge.svg\" alt=\"Open In Colab\"/></a>"
      ]
    },
    {
      "cell_type": "code",
      "source": [
        "!nvidia-smi -h"
      ],
      "metadata": {
        "id": "BSi2ZpRZl6oo"
      },
      "execution_count": null,
      "outputs": []
    },
    {
      "cell_type": "code",
      "source": [
        "!nvidia-smi -q -d SUPPORTED_CLOCKS"
      ],
      "metadata": {
        "id": "fDqPk9DhmMMe"
      },
      "execution_count": null,
      "outputs": []
    },
    {
      "cell_type": "code",
      "source": [
        "!nvidia-smi -i 0 -ac 1215,1410"
      ],
      "metadata": {
        "id": "eSth7-cWlKpe"
      },
      "execution_count": null,
      "outputs": []
    },
    {
      "cell_type": "code",
      "execution_count": null,
      "metadata": {
        "id": "TIPCQre5UYk1"
      },
      "outputs": [],
      "source": [
        "!git clone https://github.com/ZhangJingrong/gpu_topK_benchmark.git"
      ]
    },
    {
      "cell_type": "markdown",
      "source": [
        "[**Parallel Top-K Algorithms on GPU: A Comprehensive Study and New Methods**](https://sc23.supercomputing.org/presentation/?id=pap294&sess=sess156) [paper](https://dl.acm.org/doi/pdf/10.1145/3581784.3607062)\n",
        "\n",
        "# REPRODUCIBILITY OF EXPERIMENTS\n",
        "\n",
        "Our experiments are conducted with NVIDIA CUDA 12.0 on\n",
        "NVIDIA A100 GPU.\n",
        "To reproduce the results in our paper:\n",
        "\n",
        "1) Set up the Python environment for figure generation: Go to\n",
        "directory “script”, and run “bash setup.sh”.\n",
        "\n",
        "2) Download and compile required libraries: Run the “down\u0002load.sh” in the directory “thrid_party”. Follow the description in\n",
        "README.md to compile these libraries.\n",
        "\n",
        "3) Generate the binary for the benchmark: In the directory\n",
        "“benchmark”, run “make”. A binary file named “benchmark” is gen\u0002erated.\n",
        "\n",
        "4) Run the experiments and collect data for the table and figures:\n",
        "In the directory “script”, run “bash run-k.sh” to collect data for Fig.6\n",
        "and “bash run-n.sh” to collect data for Fig.7.\n",
        "\n",
        "5) Use Python code to generate the table and figures: In the\n",
        "directory “script”, run “bash exp.sh”.\n",
        "Running “bash run-k.sh” and “bash run-n.sh” takes about 8.38\n",
        "hours and 8.65 hours, respectively.\n",
        "After running “bash run-k.sh”, we can get a file named “k-as\u0002x.out.a100”, which contains the running time for batch size 1, N\n",
        "equaling 2^15,2^20,2^25 and 2^30, and K varying from 2^3 to 2^20.\n",
        "After running “bash run-n.sh”, we can acquire a file named “n-as\u0002x.out.a100”, which contains the running time for batch sizes 1 and\n",
        "100, K equaling 2^5, 2^8, and 2^15, and N varying from 2^11 to\n",
        "2^30.\n",
        "With “exp.sh”, we can get two figures and a CSV file in the\n",
        "directory “script”: “k-as-x-a100.png” corresponds to Fig.6; “n-as-x\u0002a100.png” corresponds to Fig.7; “speedup.csv” corresponds to Table\n",
        "2"
      ],
      "metadata": {
        "id": "tAj6TJ0jjx--"
      }
    },
    {
      "cell_type": "code",
      "source": [
        "!cd gpu_topK_benchmark/third_party && bash download.sh"
      ],
      "metadata": {
        "id": "uzDpZXqvVHVy"
      },
      "execution_count": null,
      "outputs": []
    },
    {
      "cell_type": "markdown",
      "source": [
        "## build"
      ],
      "metadata": {
        "id": "W9lqg3c8cCE-"
      }
    },
    {
      "cell_type": "code",
      "source": [
        "!cd gpu_topK_benchmark/third_party/faiss && make\n"
      ],
      "metadata": {
        "colab": {
          "base_uri": "https://localhost:8080/"
        },
        "id": "Fva63d2YWAiO",
        "outputId": "5e70709a-8ada-48cb-8ae2-3ed9472cf8b4"
      },
      "execution_count": 6,
      "outputs": [
        {
          "output_type": "stream",
          "name": "stdout",
          "text": [
            "g++ -std=c++14 -O2 -fPIC -DNDEBUG -I. -I/usr/local/cuda/include  -c -o faiss/gpu/GpuResources.o faiss/gpu/GpuResources.cpp\n",
            "/usr/local/cuda/bin/nvcc -std=c++14 -O2 -Xcompiler -fPIC -arch=sm_80 -DNDEBUG -I. -I/usr/local/cuda/include -c faiss/gpu/utils/DeviceUtils.cu -o faiss/gpu/utils/DeviceUtils.o\n",
            "/usr/local/cuda/bin/nvcc -std=c++14 -O2 -Xcompiler -fPIC -arch=sm_80 -DNDEBUG -I. -I/usr/local/cuda/include -c faiss/gpu/utils/BlockSelectFloat.cu -o faiss/gpu/utils/BlockSelectFloat.o\n",
            "/usr/local/cuda/bin/nvcc -std=c++14 -O2 -Xcompiler -fPIC -arch=sm_80 -DNDEBUG -I. -I/usr/local/cuda/include -c faiss/gpu/utils/WarpSelectFloat.cu -o faiss/gpu/utils/WarpSelectFloat.o\n",
            "/usr/local/cuda/bin/nvcc -std=c++14 -O2 -Xcompiler -fPIC -arch=sm_80 -DNDEBUG -I. -I/usr/local/cuda/include -c faiss/gpu/utils/blockselect/BlockSelectFloat128.cu -o faiss/gpu/utils/blockselect/BlockSelectFloat128.o\n",
            "/usr/local/cuda/bin/nvcc -std=c++14 -O2 -Xcompiler -fPIC -arch=sm_80 -DNDEBUG -I. -I/usr/local/cuda/include -c faiss/gpu/utils/blockselect/BlockSelectFloat1.cu -o faiss/gpu/utils/blockselect/BlockSelectFloat1.o\n",
            "/usr/local/cuda/bin/nvcc -std=c++14 -O2 -Xcompiler -fPIC -arch=sm_80 -DNDEBUG -I. -I/usr/local/cuda/include -c faiss/gpu/utils/blockselect/BlockSelectFloat256.cu -o faiss/gpu/utils/blockselect/BlockSelectFloat256.o\n",
            "/usr/local/cuda/bin/nvcc -std=c++14 -O2 -Xcompiler -fPIC -arch=sm_80 -DNDEBUG -I. -I/usr/local/cuda/include -c faiss/gpu/utils/blockselect/BlockSelectFloat32.cu -o faiss/gpu/utils/blockselect/BlockSelectFloat32.o\n",
            "/usr/local/cuda/bin/nvcc -std=c++14 -O2 -Xcompiler -fPIC -arch=sm_80 -DNDEBUG -I. -I/usr/local/cuda/include -c faiss/gpu/utils/blockselect/BlockSelectFloat64.cu -o faiss/gpu/utils/blockselect/BlockSelectFloat64.o\n",
            "/usr/local/cuda/bin/nvcc -std=c++14 -O2 -Xcompiler -fPIC -arch=sm_80 -DNDEBUG -I. -I/usr/local/cuda/include -c faiss/gpu/utils/blockselect/BlockSelectFloatF1024.cu -o faiss/gpu/utils/blockselect/BlockSelectFloatF1024.o\n",
            "/usr/local/cuda/bin/nvcc -std=c++14 -O2 -Xcompiler -fPIC -arch=sm_80 -DNDEBUG -I. -I/usr/local/cuda/include -c faiss/gpu/utils/blockselect/BlockSelectFloatF2048.cu -o faiss/gpu/utils/blockselect/BlockSelectFloatF2048.o\n",
            "/usr/local/cuda/bin/nvcc -std=c++14 -O2 -Xcompiler -fPIC -arch=sm_80 -DNDEBUG -I. -I/usr/local/cuda/include -c faiss/gpu/utils/blockselect/BlockSelectFloatF512.cu -o faiss/gpu/utils/blockselect/BlockSelectFloatF512.o\n",
            "/usr/local/cuda/bin/nvcc -std=c++14 -O2 -Xcompiler -fPIC -arch=sm_80 -DNDEBUG -I. -I/usr/local/cuda/include -c faiss/gpu/utils/blockselect/BlockSelectFloatT1024.cu -o faiss/gpu/utils/blockselect/BlockSelectFloatT1024.o\n",
            "/usr/local/cuda/bin/nvcc -std=c++14 -O2 -Xcompiler -fPIC -arch=sm_80 -DNDEBUG -I. -I/usr/local/cuda/include -c faiss/gpu/utils/blockselect/BlockSelectFloatT2048.cu -o faiss/gpu/utils/blockselect/BlockSelectFloatT2048.o\n",
            "/usr/local/cuda/bin/nvcc -std=c++14 -O2 -Xcompiler -fPIC -arch=sm_80 -DNDEBUG -I. -I/usr/local/cuda/include -c faiss/gpu/utils/blockselect/BlockSelectFloatT512.cu -o faiss/gpu/utils/blockselect/BlockSelectFloatT512.o\n",
            "/usr/local/cuda/bin/nvcc -std=c++14 -O2 -Xcompiler -fPIC -arch=sm_80 -DNDEBUG -I. -I/usr/local/cuda/include -c faiss/gpu/utils/warpselect/WarpSelectFloat128.cu -o faiss/gpu/utils/warpselect/WarpSelectFloat128.o\n",
            "/usr/local/cuda/bin/nvcc -std=c++14 -O2 -Xcompiler -fPIC -arch=sm_80 -DNDEBUG -I. -I/usr/local/cuda/include -c faiss/gpu/utils/warpselect/WarpSelectFloat1.cu -o faiss/gpu/utils/warpselect/WarpSelectFloat1.o\n",
            "/usr/local/cuda/bin/nvcc -std=c++14 -O2 -Xcompiler -fPIC -arch=sm_80 -DNDEBUG -I. -I/usr/local/cuda/include -c faiss/gpu/utils/warpselect/WarpSelectFloat256.cu -o faiss/gpu/utils/warpselect/WarpSelectFloat256.o\n",
            "/usr/local/cuda/bin/nvcc -std=c++14 -O2 -Xcompiler -fPIC -arch=sm_80 -DNDEBUG -I. -I/usr/local/cuda/include -c faiss/gpu/utils/warpselect/WarpSelectFloat32.cu -o faiss/gpu/utils/warpselect/WarpSelectFloat32.o\n",
            "/usr/local/cuda/bin/nvcc -std=c++14 -O2 -Xcompiler -fPIC -arch=sm_80 -DNDEBUG -I. -I/usr/local/cuda/include -c faiss/gpu/utils/warpselect/WarpSelectFloat64.cu -o faiss/gpu/utils/warpselect/WarpSelectFloat64.o\n",
            "/usr/local/cuda/bin/nvcc -std=c++14 -O2 -Xcompiler -fPIC -arch=sm_80 -DNDEBUG -I. -I/usr/local/cuda/include -c faiss/gpu/utils/warpselect/WarpSelectFloatF1024.cu -o faiss/gpu/utils/warpselect/WarpSelectFloatF1024.o\n",
            "/usr/local/cuda/bin/nvcc -std=c++14 -O2 -Xcompiler -fPIC -arch=sm_80 -DNDEBUG -I. -I/usr/local/cuda/include -c faiss/gpu/utils/warpselect/WarpSelectFloatF2048.cu -o faiss/gpu/utils/warpselect/WarpSelectFloatF2048.o\n",
            "/usr/local/cuda/bin/nvcc -std=c++14 -O2 -Xcompiler -fPIC -arch=sm_80 -DNDEBUG -I. -I/usr/local/cuda/include -c faiss/gpu/utils/warpselect/WarpSelectFloatF512.cu -o faiss/gpu/utils/warpselect/WarpSelectFloatF512.o\n",
            "/usr/local/cuda/bin/nvcc -std=c++14 -O2 -Xcompiler -fPIC -arch=sm_80 -DNDEBUG -I. -I/usr/local/cuda/include -c faiss/gpu/utils/warpselect/WarpSelectFloatT1024.cu -o faiss/gpu/utils/warpselect/WarpSelectFloatT1024.o\n",
            "/usr/local/cuda/bin/nvcc -std=c++14 -O2 -Xcompiler -fPIC -arch=sm_80 -DNDEBUG -I. -I/usr/local/cuda/include -c faiss/gpu/utils/warpselect/WarpSelectFloatT2048.cu -o faiss/gpu/utils/warpselect/WarpSelectFloatT2048.o\n",
            "/usr/local/cuda/bin/nvcc -std=c++14 -O2 -Xcompiler -fPIC -arch=sm_80 -DNDEBUG -I. -I/usr/local/cuda/include -c faiss/gpu/utils/warpselect/WarpSelectFloatT512.cu -o faiss/gpu/utils/warpselect/WarpSelectFloatT512.o\n",
            "/usr/local/cuda/bin/nvcc -o libfaiss.so -std=c++14 -O2 -Xcompiler -fPIC -arch=sm_80 -Xcompiler \"-fPIC\" -Xcompiler \"-shared\" faiss/gpu/GpuResources.o faiss/gpu/utils/DeviceUtils.o faiss/gpu/utils/BlockSelectFloat.o faiss/gpu/utils/WarpSelectFloat.o faiss/gpu/utils/blockselect/BlockSelectFloat128.o faiss/gpu/utils/blockselect/BlockSelectFloat1.o faiss/gpu/utils/blockselect/BlockSelectFloat256.o faiss/gpu/utils/blockselect/BlockSelectFloat32.o faiss/gpu/utils/blockselect/BlockSelectFloat64.o faiss/gpu/utils/blockselect/BlockSelectFloatF1024.o faiss/gpu/utils/blockselect/BlockSelectFloatF2048.o faiss/gpu/utils/blockselect/BlockSelectFloatF512.o faiss/gpu/utils/blockselect/BlockSelectFloatT1024.o faiss/gpu/utils/blockselect/BlockSelectFloatT2048.o faiss/gpu/utils/blockselect/BlockSelectFloatT512.o faiss/gpu/utils/warpselect/WarpSelectFloat128.o faiss/gpu/utils/warpselect/WarpSelectFloat1.o faiss/gpu/utils/warpselect/WarpSelectFloat256.o faiss/gpu/utils/warpselect/WarpSelectFloat32.o faiss/gpu/utils/warpselect/WarpSelectFloat64.o faiss/gpu/utils/warpselect/WarpSelectFloatF1024.o faiss/gpu/utils/warpselect/WarpSelectFloatF2048.o faiss/gpu/utils/warpselect/WarpSelectFloatF512.o faiss/gpu/utils/warpselect/WarpSelectFloatT1024.o faiss/gpu/utils/warpselect/WarpSelectFloatT2048.o faiss/gpu/utils/warpselect/WarpSelectFloatT512.o -lcublas\n"
          ]
        }
      ]
    },
    {
      "cell_type": "code",
      "source": [
        "!cd gpu_topK_benchmark/third_party/gpu_selection && mkdir build && cd build && cmake .. && make\n"
      ],
      "metadata": {
        "colab": {
          "base_uri": "https://localhost:8080/"
        },
        "id": "DUvzDXblbb0B",
        "outputId": "75167986-dbd2-4f27-ee3c-1144b70f7a5a"
      },
      "execution_count": 8,
      "outputs": [
        {
          "output_type": "stream",
          "name": "stdout",
          "text": [
            "-- The CXX compiler identification is GNU 11.4.0\n",
            "-- The CUDA compiler identification is NVIDIA 11.8.89\n",
            "-- Detecting CXX compiler ABI info\n",
            "-- Detecting CXX compiler ABI info - done\n",
            "-- Check for working CXX compiler: /usr/bin/c++ - skipped\n",
            "-- Detecting CXX compile features\n",
            "-- Detecting CXX compile features - done\n",
            "-- Detecting CUDA compiler ABI info\n",
            "-- Detecting CUDA compiler ABI info - done\n",
            "-- Check for working CUDA compiler: /usr/local/cuda/bin/nvcc - skipped\n",
            "-- Detecting CUDA compile features\n",
            "-- Detecting CUDA compile features - done\n",
            "-- Configuring done (2.3s)\n",
            "\u001b[33mCMake Warning (dev) in lib/CMakeLists.txt:\n",
            "  Policy CMP0104 is not set: CMAKE_CUDA_ARCHITECTURES now detected for NVCC,\n",
            "  empty CUDA_ARCHITECTURES not allowed.  Run \"cmake --help-policy CMP0104\"\n",
            "  for policy details.  Use the cmake_policy command to set the policy and\n",
            "  suppress this warning.\n",
            "\n",
            "  CUDA_ARCHITECTURES is empty for target \"gpu_selection\".\n",
            "This warning is for project developers.  Use -Wno-dev to suppress it.\n",
            "\u001b[0m\n",
            "\u001b[33mCMake Warning (dev) in lib/CMakeLists.txt:\n",
            "  Policy CMP0104 is not set: CMAKE_CUDA_ARCHITECTURES now detected for NVCC,\n",
            "  empty CUDA_ARCHITECTURES not allowed.  Run \"cmake --help-policy CMP0104\"\n",
            "  for policy details.  Use the cmake_policy command to set the policy and\n",
            "  suppress this warning.\n",
            "\n",
            "  CUDA_ARCHITECTURES is empty for target \"gpu_selection\".\n",
            "This warning is for project developers.  Use -Wno-dev to suppress it.\n",
            "\u001b[0m\n",
            "-- Generating done (0.0s)\n",
            "-- Build files have been written to: /content/gpu_topK_benchmark/third_party/gpu_selection/build\n",
            "[  2%] \u001b[32mBuilding CXX object lib/CMakeFiles/gpu_selection.dir/cpu_reference.cpp.o\u001b[0m\n",
            "[  4%] \u001b[32mBuilding CXX object lib/CMakeFiles/gpu_selection.dir/verification.cpp.o\u001b[0m\n",
            "[  6%] \u001b[32mBuilding CUDA object lib/CMakeFiles/gpu_selection.dir/generated/gen0.cu.o\u001b[0m\n",
            "[  9%] \u001b[32mBuilding CUDA object lib/CMakeFiles/gpu_selection.dir/generated/gen1.cu.o\u001b[0m\n",
            "[ 11%] \u001b[32mBuilding CUDA object lib/CMakeFiles/gpu_selection.dir/generated/gen2.cu.o\u001b[0m\n",
            "[ 13%] \u001b[32mBuilding CUDA object lib/CMakeFiles/gpu_selection.dir/generated/gen3.cu.o\u001b[0m\n",
            "[ 15%] \u001b[32mBuilding CUDA object lib/CMakeFiles/gpu_selection.dir/generated/gen4.cu.o\u001b[0m\n",
            "[ 18%] \u001b[32mBuilding CUDA object lib/CMakeFiles/gpu_selection.dir/generated/gen5.cu.o\u001b[0m\n",
            "[ 20%] \u001b[32mBuilding CUDA object lib/CMakeFiles/gpu_selection.dir/generated/gen6.cu.o\u001b[0m\n",
            "[ 22%] \u001b[32mBuilding CUDA object lib/CMakeFiles/gpu_selection.dir/generated/gen7.cu.o\u001b[0m\n",
            "[ 25%] \u001b[32mBuilding CUDA object lib/CMakeFiles/gpu_selection.dir/generated/gen8.cu.o\u001b[0m\n",
            "[ 27%] \u001b[32mBuilding CUDA object lib/CMakeFiles/gpu_selection.dir/generated/gen9.cu.o\u001b[0m\n",
            "[ 29%] \u001b[32mBuilding CUDA object lib/CMakeFiles/gpu_selection.dir/generated/gen10.cu.o\u001b[0m\n",
            "[ 31%] \u001b[32mBuilding CUDA object lib/CMakeFiles/gpu_selection.dir/generated/gen11.cu.o\u001b[0m\n",
            "[ 34%] \u001b[32mBuilding CUDA object lib/CMakeFiles/gpu_selection.dir/generated/gen12.cu.o\u001b[0m\n",
            "[ 36%] \u001b[32mBuilding CUDA object lib/CMakeFiles/gpu_selection.dir/generated/gen13.cu.o\u001b[0m\n",
            "[ 38%] \u001b[32mBuilding CUDA object lib/CMakeFiles/gpu_selection.dir/generated/gen14.cu.o\u001b[0m\n",
            "[ 40%] \u001b[32mBuilding CUDA object lib/CMakeFiles/gpu_selection.dir/generated/gen15.cu.o\u001b[0m\n",
            "[ 43%] \u001b[32mBuilding CUDA object lib/CMakeFiles/gpu_selection.dir/generated/gen16.cu.o\u001b[0m\n",
            "[ 45%] \u001b[32mBuilding CUDA object lib/CMakeFiles/gpu_selection.dir/generated/gen17.cu.o\u001b[0m\n",
            "[ 47%] \u001b[32mBuilding CUDA object lib/CMakeFiles/gpu_selection.dir/generated/gen18.cu.o\u001b[0m\n",
            "[ 50%] \u001b[32mBuilding CUDA object lib/CMakeFiles/gpu_selection.dir/generated/gen19.cu.o\u001b[0m\n",
            "[ 52%] \u001b[32mBuilding CUDA object lib/CMakeFiles/gpu_selection.dir/generated/gen20.cu.o\u001b[0m\n",
            "[ 54%] \u001b[32mBuilding CUDA object lib/CMakeFiles/gpu_selection.dir/generated/gen21.cu.o\u001b[0m\n",
            "[ 56%] \u001b[32mBuilding CUDA object lib/CMakeFiles/gpu_selection.dir/generated/gen22.cu.o\u001b[0m\n",
            "[ 59%] \u001b[32mBuilding CUDA object lib/CMakeFiles/gpu_selection.dir/generated/gen23.cu.o\u001b[0m\n",
            "[ 61%] \u001b[32mBuilding CUDA object lib/CMakeFiles/gpu_selection.dir/generated/gen24.cu.o\u001b[0m\n",
            "[ 63%] \u001b[32mBuilding CUDA object lib/CMakeFiles/gpu_selection.dir/generated/gen25.cu.o\u001b[0m\n",
            "[ 65%] \u001b[32mBuilding CUDA object lib/CMakeFiles/gpu_selection.dir/generated/gen26.cu.o\u001b[0m\n",
            "[ 68%] \u001b[32mBuilding CUDA object lib/CMakeFiles/gpu_selection.dir/generated/gen27.cu.o\u001b[0m\n",
            "[ 70%] \u001b[32mBuilding CUDA object lib/CMakeFiles/gpu_selection.dir/generated/gen28.cu.o\u001b[0m\n",
            "[ 72%] \u001b[32mBuilding CUDA object lib/CMakeFiles/gpu_selection.dir/generated/gen29.cu.o\u001b[0m\n",
            "[ 75%] \u001b[32mBuilding CUDA object lib/CMakeFiles/gpu_selection.dir/generated/gen30.cu.o\u001b[0m\n",
            "[ 77%] \u001b[32mBuilding CUDA object lib/CMakeFiles/gpu_selection.dir/generated/gen31.cu.o\u001b[0m\n",
            "[ 79%] \u001b[32mBuilding CUDA object lib/CMakeFiles/gpu_selection.dir/generated/gen32.cu.o\u001b[0m\n",
            "[ 81%] \u001b[32mBuilding CUDA object lib/CMakeFiles/gpu_selection.dir/generated/gen33.cu.o\u001b[0m\n",
            "[ 84%] \u001b[32mBuilding CUDA object lib/CMakeFiles/gpu_selection.dir/generated/gen34.cu.o\u001b[0m\n",
            "[ 86%] \u001b[32mBuilding CUDA object lib/CMakeFiles/gpu_selection.dir/generated/gen35.cu.o\u001b[0m\n",
            "[ 88%] \u001b[32mBuilding CUDA object lib/CMakeFiles/gpu_selection.dir/generated/gen36.cu.o\u001b[0m\n",
            "[ 90%] \u001b[32mBuilding CUDA object lib/CMakeFiles/gpu_selection.dir/generated/gen37.cu.o\u001b[0m\n",
            "[ 93%] \u001b[32mBuilding CUDA object lib/CMakeFiles/gpu_selection.dir/generated/gen38.cu.o\u001b[0m\n",
            "[ 95%] \u001b[32mBuilding CUDA object lib/CMakeFiles/gpu_selection.dir/generated/gen39.cu.o\u001b[0m\n",
            "[ 97%] \u001b[32m\u001b[1mLinking CUDA device code CMakeFiles/gpu_selection.dir/cmake_device_link.o\u001b[0m\n",
            "[100%] \u001b[32m\u001b[1mLinking CXX shared library libgpu_selection.so\u001b[0m\n",
            "[100%] Built target gpu_selection\n"
          ]
        }
      ]
    },
    {
      "cell_type": "code",
      "source": [
        "!cd gpu_topK_benchmark/third_party/gpu_selection && mv build/lib/libgpu_selection.so ./\n"
      ],
      "metadata": {
        "id": "G3-kLauccRG6"
      },
      "execution_count": 9,
      "outputs": []
    },
    {
      "cell_type": "code",
      "source": [
        "!ls gpu_topK_benchmark/third_party/faiss/\n",
        "!ls gpu_topK_benchmark/third_party/gpu_selection/\n",
        "!ls gpu_topK_benchmark/third_party/"
      ],
      "metadata": {
        "colab": {
          "base_uri": "https://localhost:8080/"
        },
        "id": "gh1vJzk0fmcg",
        "outputId": "b6ef7e6d-d065-4040-cec2-bdb068702199"
      },
      "execution_count": 21,
      "outputs": [
        {
          "output_type": "stream",
          "name": "stdout",
          "text": [
            "faiss  libfaiss.so  Makefile\n",
            "app    CMakeLists.txt  lib\t\t    LICENSE\t    LICENSE-cub\n",
            "build  include\t       libgpu_selection.so  LICENSE-catch2  README\n",
            "download.sh  faiss\t    libgridselect.so  radix.patch  raft.patch  spdlog\n",
            "DrTopKSC     gpu_selection  LICENSE.faiss     raft\t   rmm\n"
          ]
        }
      ]
    },
    {
      "cell_type": "code",
      "source": [
        "!make -C gpu_topK_benchmark/benchmark"
      ],
      "metadata": {
        "colab": {
          "base_uri": "https://localhost:8080/"
        },
        "id": "-9kuloG7eHfm",
        "outputId": "7de495b6-1f53-463a-9bdb-6a846a3294e1"
      },
      "execution_count": 39,
      "outputs": [
        {
          "output_type": "stream",
          "name": "stdout",
          "text": [
            "make: Entering directory '/content/gpu_topK_benchmark/benchmark'\n",
            "nvcc -c -O2 -std=c++17 -Xcompiler \"-Wall -Wextra -Wno-unused-parameter\" --expt-relaxed-constexpr --extended-lambda -arch=sm_80 -DNDEBUG -I../include -I../third_party/faiss -isystem ../third_party/DrTopKSC/bitonic/LargerKVersions/largerK/ -I../third_party/DrTopKSC/baseline+filter+beta+shuffle/ -I../third_party/gpu_selection/include -I../third_party/gpu_selection/lib -isystem ../third_party/raft/cpp/include -isystem ../third_party/rmm/include -I../third_party/spdlog/include -I../third_party -o benchmark.o benchmark.cu\n",
            "nvcc -arch=sm_80 -L../third_party/faiss -lfaiss -Xlinker -rpath=../third_party/faiss -L../third_party/gpu_selection -lgpu_selection -Xlinker -rpath=../third_party/gpu_selection/ -L../third_party -lgridselect -Xlinker -rpath=../third_party -lcurand -o benchmark benchmark.o\n",
            "make: Leaving directory '/content/gpu_topK_benchmark/benchmark'\n"
          ]
        }
      ]
    },
    {
      "cell_type": "code",
      "source": [
        "#!ldd gpu_topK_benchmark/benchmark/benchmark\n",
        "!cd gpu_topK_benchmark/benchmark && ldd benchmark"
      ],
      "metadata": {
        "colab": {
          "base_uri": "https://localhost:8080/"
        },
        "id": "A0r1XQOPezL8",
        "outputId": "5ed2dfcc-1337-414a-918c-98ccd5708696"
      },
      "execution_count": 24,
      "outputs": [
        {
          "output_type": "stream",
          "name": "stdout",
          "text": [
            "\tlinux-vdso.so.1 (0x00007ffe495e3000)\n",
            "\tlibfaiss.so => ../third_party/faiss/libfaiss.so (0x00007c928f530000)\n",
            "\tlibgpu_selection.so => ../third_party/gpu_selection/libgpu_selection.so (0x00007c928cf40000)\n",
            "\tlibgridselect.so => ../third_party/libgridselect.so (0x00007c928c554000)\n",
            "\tlibcurand.so.10 => /usr/local/cuda/targets/x86_64-linux/lib/libcurand.so.10 (0x00007c9285c00000)\n",
            "\tlibstdc++.so.6 => /lib/x86_64-linux-gnu/libstdc++.so.6 (0x00007c92859d4000)\n",
            "\tlibm.so.6 => /lib/x86_64-linux-gnu/libm.so.6 (0x00007c92858ed000)\n",
            "\tlibgcc_s.so.1 => /lib/x86_64-linux-gnu/libgcc_s.so.1 (0x00007c928c51c000)\n",
            "\tlibc.so.6 => /lib/x86_64-linux-gnu/libc.so.6 (0x00007c92856c5000)\n",
            "\t/lib64/ld-linux-x86-64.so.2 (0x00007c92908ba000)\n",
            "\tlibcublas.so.11 => /usr/local/cuda/targets/x86_64-linux/lib/libcublas.so.11 (0x00007c927fa00000)\n",
            "\tlibrt.so.1 => /lib/x86_64-linux-gnu/librt.so.1 (0x00007c928c515000)\n",
            "\tlibpthread.so.0 => /lib/x86_64-linux-gnu/libpthread.so.0 (0x00007c928c510000)\n",
            "\tlibdl.so.2 => /lib/x86_64-linux-gnu/libdl.so.2 (0x00007c928c50b000)\n",
            "\tlibcublasLt.so.11 => /usr/local/cuda/targets/x86_64-linux/lib/libcublasLt.so.11 (0x00007c925b400000)\n"
          ]
        }
      ]
    },
    {
      "cell_type": "markdown",
      "source": [
        "## benchmark"
      ],
      "metadata": {
        "id": "1DusSvHE3Ihu"
      }
    },
    {
      "cell_type": "code",
      "source": [
        "!cd gpu_topK_benchmark/benchmark && ./benchmark"
      ],
      "metadata": {
        "colab": {
          "base_uri": "https://localhost:8080/"
        },
        "id": "phROBjmmiM24",
        "outputId": "013cf94a-ffe2-4844-9538-bb4915ed0bd8"
      },
      "execution_count": 25,
      "outputs": [
        {
          "output_type": "stream",
          "name": "stdout",
          "text": [
            "usage: ./benchmark [-c] [-n niter] [-w warmup_niter] [-r num_random_bits] [-g] algos batch_size len k\n",
            "   -c: compare with cpu result for validation\n",
            "   -n: number of iterations for benchmark, default = 1\n",
            "   -w: number of iterations for warmup, default = 1\n",
            "   -r: number of random bits, can only be used for 32-bits type and can't be used with -g\n",
            "   -g: use Gaussian distribution data (mean=0, stddev=1.0)\n",
            "       meaningful only for float\n",
            "       with this option, len should be multiple of 2 for float\n",
            "\n",
            "default distribution for test data:\n",
            "       Uniform distribution in (0,1] for float\n",
            "       bit-wise randomness for other data types\n",
            "\n",
            "algos: comma separated algorithm names, e.g. cpu,cub\n",
            "available algorithms:\n",
            "    cpu\n",
            "    cub\n",
            "    drtopk_bitonic\n",
            "    drtopk_radix\n",
            "    faiss_block\n",
            "    faiss_warp\n",
            "    grid_select\n",
            "    raft_radix_11bits_extra_pass\n",
            "    sampleselect\n",
            "    sampleselect-bucket\n",
            "    sampleselect-quick\n"
          ]
        }
      ]
    },
    {
      "cell_type": "code",
      "source": [
        "!cd gpu_topK_benchmark/benchmark && ./benchmark -c -w 20 -n 100 cpu 1 1e6 20"
      ],
      "metadata": {
        "colab": {
          "base_uri": "https://localhost:8080/"
        },
        "id": "OoFmnXkKiU9r",
        "outputId": "2483b810-af40-43d0-feb1-b99b88a347e3"
      },
      "execution_count": 46,
      "outputs": [
        {
          "output_type": "stream",
          "name": "stdout",
          "text": [
            "     2.847, "
          ]
        }
      ]
    },
    {
      "cell_type": "code",
      "source": [
        "!sleep 3600"
      ],
      "metadata": {
        "colab": {
          "base_uri": "https://localhost:8080/"
        },
        "id": "ulBBGvtkvAxG",
        "outputId": "fb6cfbf9-41de-4d33-8815-7d49d41353bc"
      },
      "execution_count": 40,
      "outputs": [
        {
          "output_type": "stream",
          "name": "stdout",
          "text": [
            "^C\n"
          ]
        }
      ]
    },
    {
      "cell_type": "code",
      "source": [
        "!cd gpu_topK_benchmark/script && bash run-k.sh"
      ],
      "metadata": {
        "id": "Qec2m2wmjxMv"
      },
      "execution_count": null,
      "outputs": []
    },
    {
      "cell_type": "code",
      "source": [
        "!cd gpu_topK_benchmark/script && bash run-n.sh"
      ],
      "metadata": {
        "id": "HIVVI5ya0aqQ"
      },
      "execution_count": null,
      "outputs": []
    },
    {
      "cell_type": "markdown",
      "source": [
        "## setup python env for benchmark exp\n",
        "\n"
      ],
      "metadata": {
        "id": "_XNb50e-cHa5"
      }
    },
    {
      "cell_type": "code",
      "source": [
        "!cd gpu_topK_benchmark/script && bash setup.sh"
      ],
      "metadata": {
        "id": "p7IyJqog2yCY"
      },
      "execution_count": null,
      "outputs": []
    },
    {
      "cell_type": "code",
      "source": [
        "!cd gpu_topK_benchmark/script && bash exp.sh"
      ],
      "metadata": {
        "id": "et7vEfQQ04iR"
      },
      "execution_count": null,
      "outputs": []
    }
  ]
}