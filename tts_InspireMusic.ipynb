{
  "nbformat": 4,
  "nbformat_minor": 0,
  "metadata": {
    "colab": {
      "provenance": [],
      "machine_shape": "hm",
      "gpuType": "L4",
      "authorship_tag": "ABX9TyO8ySb8hqygiHx/ofTJ5ViO",
      "include_colab_link": true
    },
    "kernelspec": {
      "name": "python3",
      "display_name": "Python 3"
    },
    "language_info": {
      "name": "python"
    },
    "accelerator": "GPU"
  },
  "cells": [
    {
      "cell_type": "markdown",
      "metadata": {
        "id": "view-in-github",
        "colab_type": "text"
      },
      "source": [
        "<a href=\"https://colab.research.google.com/github/weedge/doraemon-nb/blob/main/tts_InspireMusic.ipynb\" target=\"_parent\"><img src=\"https://colab.research.google.com/assets/colab-badge.svg\" alt=\"Open In Colab\"/></a>"
      ]
    },
    {
      "cell_type": "markdown",
      "source": [
        "# install"
      ],
      "metadata": {
        "id": "dWj53-P7RMgk"
      }
    },
    {
      "cell_type": "code",
      "execution_count": null,
      "metadata": {
        "id": "RIP1pOpGRI0z"
      },
      "outputs": [],
      "source": [
        "!git clone --recursive https://github.com/FunAudioLLM/InspireMusic.git"
      ]
    },
    {
      "cell_type": "code",
      "source": [
        "%cd /content/InspireMusic"
      ],
      "metadata": {
        "colab": {
          "base_uri": "https://localhost:8080/"
        },
        "id": "NrXjLAftRS9W",
        "outputId": "891214d9-f2a4-4022-9874-654df335aaf7"
      },
      "execution_count": null,
      "outputs": [
        {
          "output_type": "stream",
          "name": "stdout",
          "text": [
            "/content/InspireMusic\n"
          ]
        }
      ]
    },
    {
      "cell_type": "code",
      "source": [
        "!git submodule update --init --recursive"
      ],
      "metadata": {
        "id": "cf6d8N0GRW9N"
      },
      "execution_count": null,
      "outputs": []
    },
    {
      "cell_type": "code",
      "source": [
        "!python setup.py install"
      ],
      "metadata": {
        "id": "5ZszYv48RmPy"
      },
      "execution_count": null,
      "outputs": []
    },
    {
      "cell_type": "code",
      "source": [
        "!pip install flash-attn --no-build-isolation"
      ],
      "metadata": {
        "id": "oo76-ZnARm3r"
      },
      "execution_count": null,
      "outputs": []
    },
    {
      "cell_type": "code",
      "source": [
        "!apt-get install sox libsox-dev ffmpeg"
      ],
      "metadata": {
        "id": "FBqGkx9bRqqA"
      },
      "execution_count": null,
      "outputs": []
    },
    {
      "cell_type": "markdown",
      "source": [
        "# download ckpt\n"
      ],
      "metadata": {
        "id": "Dq81SvYfPbkE"
      }
    },
    {
      "cell_type": "code",
      "source": [
        "from google.colab import userdata\n",
        "HF_TOKEN=userdata.get('HF_TOKEN')"
      ],
      "metadata": {
        "id": "6hhujTc_xuom"
      },
      "execution_count": null,
      "outputs": []
    },
    {
      "cell_type": "code",
      "source": [
        "!huggingface-cli login --token $HF_TOKEN --add-to-git-credential\n"
      ],
      "metadata": {
        "id": "c_j8AcMtyF0g"
      },
      "execution_count": null,
      "outputs": []
    },
    {
      "cell_type": "code",
      "source": [
        "!huggingface-cli download FunAudioLLM/InspireMusic-1.5B-Long --quie --local-dir /content/InspireMusic/pretrained_models/InspireMusic-1.5B-Long\n"
      ],
      "metadata": {
        "colab": {
          "base_uri": "https://localhost:8080/"
        },
        "id": "zJW_a0mRO-xR",
        "outputId": "58e283a3-0adc-411e-b4dc-cb13b25495d6"
      },
      "execution_count": null,
      "outputs": [
        {
          "output_type": "stream",
          "name": "stdout",
          "text": [
            "/content/InspireMusic/pretrained_models/InspireMusic-1.5B-Long\n"
          ]
        }
      ]
    },
    {
      "cell_type": "markdown",
      "source": [
        "# inference"
      ],
      "metadata": {
        "id": "Pcso0s_vSrwG"
      }
    },
    {
      "cell_type": "code",
      "source": [
        "%cd /content/InspireMusic/examples/music_generation\n"
      ],
      "metadata": {
        "colab": {
          "base_uri": "https://localhost:8080/"
        },
        "id": "Q2SBZuW0SrJG",
        "outputId": "072d9db8-c639-41f6-bc92-b9f04a57dac7"
      },
      "execution_count": null,
      "outputs": [
        {
          "output_type": "stream",
          "name": "stdout",
          "text": [
            "/content/InspireMusic/examples/music_generation\n"
          ]
        }
      ]
    },
    {
      "cell_type": "code",
      "source": [
        "!ls ../../third_party/Matcha-TTS"
      ],
      "metadata": {
        "colab": {
          "base_uri": "https://localhost:8080/"
        },
        "id": "JOH10DhWp4sX",
        "outputId": "fa390ea7-9a3f-4297-c54e-28c6c19b33bc"
      },
      "execution_count": null,
      "outputs": [
        {
          "output_type": "stream",
          "name": "stdout",
          "text": [
            "configs  LICENSE   MANIFEST.in\tnotebooks\tREADME.md\t  scripts   synthesis.ipynb\n",
            "data\t Makefile  matcha\tpyproject.toml\trequirements.txt  setup.py\n"
          ]
        }
      ]
    },
    {
      "cell_type": "code",
      "source": [
        "!bash infer_1.5b_long.sh"
      ],
      "metadata": {
        "id": "FJz1yODHSvTb"
      },
      "execution_count": null,
      "outputs": []
    },
    {
      "cell_type": "markdown",
      "source": [
        "## text to music"
      ],
      "metadata": {
        "id": "-84jXAGGrvyJ"
      }
    },
    {
      "cell_type": "code",
      "source": [
        "# with flow matching\n",
        "# use one-line command to get a quick try\n",
        "!PYTHONPATH=../../third_party/Matcha-TTS python -m inspiremusic.cli.inference\n"
      ],
      "metadata": {
        "colab": {
          "base_uri": "https://localhost:8080/"
        },
        "id": "AIowASy8dyzA",
        "outputId": "77f66c15-4cd9-4316-9eaa-93fc8c317567"
      },
      "execution_count": null,
      "outputs": [
        {
          "output_type": "stream",
          "name": "stdout",
          "text": [
            "Namespace(model_name='InspireMusic-1.5B-Long', model_dir='../../pretrained_models/InspireMusic-1.5B-Long', text='Experience soothing and sensual instrumental jazz with a touch of Bossa Nova, perfect for a relaxing restaurant or spa ambiance.', audio_prompt=None, chorus='intro', fast=False, gpu=0, task='text-to-music', result_dir='exp/inspiremusic', output_fn='output_audio', format='wav', sample_rate=24000, output_sample_rate=48000, time_start=0.0, time_end=30.0, max_audio_prompt_length=5.0, min_generate_audio_seconds=10.0, max_generate_audio_seconds=30.0, fp16=True, fade_out=True, fade_out_duration=1.0, trim=False)\n",
            "2025-02-18 06:03:34,408 - INFO - NumExpr defaulting to 12 threads.\n",
            "2025-02-18 06:03:35.161677: I tensorflow/core/util/port.cc:153] oneDNN custom operations are on. You may see slightly different numerical results due to floating-point round-off errors from different computation orders. To turn them off, set the environment variable `TF_ENABLE_ONEDNN_OPTS=0`.\n",
            "2025-02-18 06:03:35.180059: E external/local_xla/xla/stream_executor/cuda/cuda_fft.cc:477] Unable to register cuFFT factory: Attempting to register factory for plugin cuFFT when one has already been registered\n",
            "WARNING: All log messages before absl::InitializeLog() is called are written to STDERR\n",
            "E0000 00:00:1739858615.202068   18874 cuda_dnn.cc:8310] Unable to register cuDNN factory: Attempting to register factory for plugin cuDNN when one has already been registered\n",
            "E0000 00:00:1739858615.208798   18874 cuda_blas.cc:1418] Unable to register cuBLAS factory: Attempting to register factory for plugin cuBLAS when one has already been registered\n",
            "2025-02-18 06:03:35.231114: I tensorflow/core/platform/cpu_feature_guard.cc:210] This TensorFlow binary is optimized to use available CPU instructions in performance-critical operations.\n",
            "To enable the following instructions: AVX2 AVX512F AVX512_VNNI FMA, in other operations, rebuild TensorFlow with the appropriate compiler flags.\n",
            "2025-02-18 06:03:37,833 - INFO - We will use 90% of the memory on device 0 for storing the model, and 10% for the buffer to avoid OOM. You can set `max_memory` in to a higher value to use more memory (at your own risk).\n",
            "2025-02-18 06:03:39,139 - INFO - infer_cfg_ratio: 3.0\n",
            "2025-02-18 06:03:39,139 - INFO - train_cfg_ratio: 0.2\n",
            "/usr/local/lib/python3.11/dist-packages/diffusers/models/lora.py:393: FutureWarning: `LoRACompatibleLinear` is deprecated and will be removed in version 1.0.0. Use of `LoRACompatibleLinear` is deprecated. Please switch to PEFT backend by installing PEFT: `pip install peft`.\n",
            "  deprecate(\"LoRACompatibleLinear\", \"1.0.0\", deprecation_message)\n",
            "2025-02-18 06:03:41,075 - INFO - input frame rate=75\n",
            "/content/InspireMusic/examples/music_generation/inspiremusic/music_tokenizer/vqvae.py:31: FutureWarning: You are using `torch.load` with `weights_only=False` (the current default value), which uses the default pickle module implicitly. It is possible to construct malicious pickle data which will execute arbitrary code during unpickling (See https://github.com/pytorch/pytorch/blob/main/SECURITY.md#untrusted-models for more details). In a future release, the default value for `weights_only` will be flipped to `True`. This limits the functions that could be executed during unpickling. Arbitrary objects will no longer be allowed to be loaded via this mode unless they are explicitly allowlisted by the user via `torch.serialization.add_safe_globals`. We recommend you start setting `weights_only=True` for any use case where you don't have full control of the loaded file. Please open an issue on GitHub for any issues related to this experimental feature.\n",
            "  ckpt = torch.load(ckpt_path)\n",
            "/usr/local/lib/python3.11/dist-packages/torch/nn/utils/weight_norm.py:143: FutureWarning: `torch.nn.utils.weight_norm` is deprecated in favor of `torch.nn.utils.parametrizations.weight_norm`.\n",
            "  WeightNorm.apply(module, name, dim)\n",
            "/content/InspireMusic/examples/music_generation/inspiremusic/dataset/processor.py:25: UserWarning: torchaudio._backend.set_audio_backend has been deprecated. With dispatcher enabled, this function is no-op. You can remove the function call.\n",
            "  torchaudio.set_audio_backend('soundfile')\n",
            "making attention of type 'vanilla' with 768 in_channels\n",
            "/content/InspireMusic/examples/music_generation/inspiremusic/wavtokenizer/decoder/pretrained.py:101: FutureWarning: You are using `torch.load` with `weights_only=False` (the current default value), which uses the default pickle module implicitly. It is possible to construct malicious pickle data which will execute arbitrary code during unpickling (See https://github.com/pytorch/pytorch/blob/main/SECURITY.md#untrusted-models for more details). In a future release, the default value for `weights_only` will be flipped to `True`. This limits the functions that could be executed during unpickling. Arbitrary objects will no longer be allowed to be loaded via this mode unless they are explicitly allowlisted by the user via `torch.serialization.add_safe_globals`. We recommend you start setting `weights_only=True` for any use case where you don't have full control of the loaded file. Please open an issue on GitHub for any issues related to this experimental feature.\n",
            "  state_dict_raw = torch.load(model_path, map_location=\"cpu\")['state_dict']\n",
            "/content/InspireMusic/examples/music_generation/inspiremusic/cli/model.py:69: FutureWarning: You are using `torch.load` with `weights_only=False` (the current default value), which uses the default pickle module implicitly. It is possible to construct malicious pickle data which will execute arbitrary code during unpickling (See https://github.com/pytorch/pytorch/blob/main/SECURITY.md#untrusted-models for more details). In a future release, the default value for `weights_only` will be flipped to `True`. This limits the functions that could be executed during unpickling. Arbitrary objects will no longer be allowed to be loaded via this mode unless they are explicitly allowlisted by the user via `torch.serialization.add_safe_globals`. We recommend you start setting `weights_only=True` for any use case where you don't have full control of the loaded file. Please open an issue on GitHub for any issues related to this experimental feature.\n",
            "  self.llm.load_state_dict(torch.load(llm_model, map_location=self.device))\n",
            "/content/InspireMusic/examples/music_generation/inspiremusic/cli/model.py:74: FutureWarning: You are using `torch.load` with `weights_only=False` (the current default value), which uses the default pickle module implicitly. It is possible to construct malicious pickle data which will execute arbitrary code during unpickling (See https://github.com/pytorch/pytorch/blob/main/SECURITY.md#untrusted-models for more details). In a future release, the default value for `weights_only` will be flipped to `True`. This limits the functions that could be executed during unpickling. Arbitrary objects will no longer be allowed to be loaded via this mode unless they are explicitly allowlisted by the user via `torch.serialization.add_safe_globals`. We recommend you start setting `weights_only=True` for any use case where you don't have full control of the loaded file. Please open an issue on GitHub for any issues related to this experimental feature.\n",
            "  self.flow.load_state_dict(torch.load(flow_model, map_location=self.device))\n",
            "making attention of type 'vanilla' with 768 in_channels\n",
            "making attention of type 'vanilla' with 768 in_channels\n",
            "2025-02-18 06:04:05,676 - INFO - prompt text Experience soothing and sensual instrumental jazz with a touch of Bossa Nova, perfect for a relaxing restaurant or spa ambiance.\n",
            "/content/InspireMusic/examples/music_generation/inspiremusic/cli/model.py:114: FutureWarning: `torch.cuda.amp.autocast(args...)` is deprecated. Please use `torch.amp.autocast('cuda', args...)` instead.\n",
            "  with autocast(enabled=self.fp16, dtype=self.dtype, cache_enabled=True):\n",
            "2025-02-18 06:05:23,180 - INFO - LLM generated audio token length: 2250\n",
            "2025-02-18 06:05:23,180 - INFO - using flow matching and hifi generator\n",
            "2025-02-18 06:05:23,181 - INFO - After trimmed, generated audio token length: 2250\n",
            "2025-02-18 06:05:33,200 - INFO - Generated audio sequence length: 1440000\n",
            "2025-02-18 06:05:33,200 - INFO - yield music len 60.0, rtf 1.4587323387463889\n",
            "2025-02-18 06:05:33,354 - INFO - Processing time: 87s, audio length: 30s, rtf: 2.917509643236796, text prompt: <|0.0|><|intro|><|Experience soothing and sensual instrumental jazz with a touch of Bossa Nova, perfect for a relaxing restaurant or spa ambiance.|><|30.0|>\n",
            "2025-02-18 06:05:33,354 - INFO - Generated audio file exp/inspiremusic/output_audio.wav is saved.\n"
          ]
        }
      ]
    },
    {
      "cell_type": "code",
      "source": [
        "from IPython.display import Audio\n",
        "Audio(\"exp/inspiremusic/output_audio.wav\",autoplay=True)"
      ],
      "metadata": {
        "colab": {
          "base_uri": "https://localhost:8080/",
          "height": 75
        },
        "id": "CKt-lBqVqfE0",
        "outputId": "19a6fae9-a08d-412c-d7c3-90a2471022ba"
      },
      "execution_count": null,
      "outputs": []
    },
    {
      "cell_type": "code",
      "source": [
        "# custom the config like the following one-line command\n",
        "!PYTHONPATH=../../third_party/Matcha-TTS python -m inspiremusic.cli.inference --task text-to-music -m \"InspireMusic-1.5B-Long\" -g 0 -t \"Experience soothing and sensual instrumental jazz with a touch of Bossa Nova, perfect for a relaxing restaurant or spa ambiance.\" -c intro -s 0.0 -e 30.0 -r \"exp/inspiremusic\" -o output -f wav\n"
      ],
      "metadata": {
        "colab": {
          "base_uri": "https://localhost:8080/"
        },
        "id": "RrrSQ0oXd5dk",
        "outputId": "8562a3bd-68b2-4e66-f95c-32a8b4f13e44"
      },
      "execution_count": null,
      "outputs": [
        {
          "output_type": "stream",
          "name": "stdout",
          "text": [
            "Namespace(model_name='InspireMusic-1.5B-Long', model_dir='../../pretrained_models/InspireMusic-1.5B-Long', text='Experience soothing and sensual instrumental jazz with a touch of Bossa Nova, perfect for a relaxing restaurant or spa ambiance.', audio_prompt=None, chorus='intro', fast=True, gpu=0, task='text-to-music', result_dir='exp/inspiremusic', output_fn='output', format='wav', sample_rate=24000, output_sample_rate=48000, time_start=0.0, time_end=30.0, max_audio_prompt_length=5.0, min_generate_audio_seconds=10.0, max_generate_audio_seconds=30.0, fp16=True, fade_out=True, fade_out_duration=1.0, trim=False)\n",
            "2025-02-18 06:07:17,867 - INFO - NumExpr defaulting to 12 threads.\n",
            "2025-02-18 06:07:18.557709: I tensorflow/core/util/port.cc:153] oneDNN custom operations are on. You may see slightly different numerical results due to floating-point round-off errors from different computation orders. To turn them off, set the environment variable `TF_ENABLE_ONEDNN_OPTS=0`.\n",
            "2025-02-18 06:07:18.576232: E external/local_xla/xla/stream_executor/cuda/cuda_fft.cc:477] Unable to register cuFFT factory: Attempting to register factory for plugin cuFFT when one has already been registered\n",
            "WARNING: All log messages before absl::InitializeLog() is called are written to STDERR\n",
            "E0000 00:00:1739858838.598706   19870 cuda_dnn.cc:8310] Unable to register cuDNN factory: Attempting to register factory for plugin cuDNN when one has already been registered\n",
            "E0000 00:00:1739858838.605563   19870 cuda_blas.cc:1418] Unable to register cuBLAS factory: Attempting to register factory for plugin cuBLAS when one has already been registered\n",
            "2025-02-18 06:07:18.628012: I tensorflow/core/platform/cpu_feature_guard.cc:210] This TensorFlow binary is optimized to use available CPU instructions in performance-critical operations.\n",
            "To enable the following instructions: AVX2 AVX512F AVX512_VNNI FMA, in other operations, rebuild TensorFlow with the appropriate compiler flags.\n",
            "2025-02-18 06:07:21,283 - INFO - We will use 90% of the memory on device 0 for storing the model, and 10% for the buffer to avoid OOM. You can set `max_memory` in to a higher value to use more memory (at your own risk).\n",
            "2025-02-18 06:07:22,609 - INFO - infer_cfg_ratio: 3.0\n",
            "2025-02-18 06:07:22,610 - INFO - train_cfg_ratio: 0.2\n",
            "/usr/local/lib/python3.11/dist-packages/diffusers/models/lora.py:393: FutureWarning: `LoRACompatibleLinear` is deprecated and will be removed in version 1.0.0. Use of `LoRACompatibleLinear` is deprecated. Please switch to PEFT backend by installing PEFT: `pip install peft`.\n",
            "  deprecate(\"LoRACompatibleLinear\", \"1.0.0\", deprecation_message)\n",
            "2025-02-18 06:07:24,448 - INFO - input frame rate=75\n",
            "/content/InspireMusic/examples/music_generation/inspiremusic/music_tokenizer/vqvae.py:31: FutureWarning: You are using `torch.load` with `weights_only=False` (the current default value), which uses the default pickle module implicitly. It is possible to construct malicious pickle data which will execute arbitrary code during unpickling (See https://github.com/pytorch/pytorch/blob/main/SECURITY.md#untrusted-models for more details). In a future release, the default value for `weights_only` will be flipped to `True`. This limits the functions that could be executed during unpickling. Arbitrary objects will no longer be allowed to be loaded via this mode unless they are explicitly allowlisted by the user via `torch.serialization.add_safe_globals`. We recommend you start setting `weights_only=True` for any use case where you don't have full control of the loaded file. Please open an issue on GitHub for any issues related to this experimental feature.\n",
            "  ckpt = torch.load(ckpt_path)\n",
            "/usr/local/lib/python3.11/dist-packages/torch/nn/utils/weight_norm.py:143: FutureWarning: `torch.nn.utils.weight_norm` is deprecated in favor of `torch.nn.utils.parametrizations.weight_norm`.\n",
            "  WeightNorm.apply(module, name, dim)\n",
            "/content/InspireMusic/examples/music_generation/inspiremusic/dataset/processor.py:25: UserWarning: torchaudio._backend.set_audio_backend has been deprecated. With dispatcher enabled, this function is no-op. You can remove the function call.\n",
            "  torchaudio.set_audio_backend('soundfile')\n",
            "making attention of type 'vanilla' with 768 in_channels\n",
            "/content/InspireMusic/examples/music_generation/inspiremusic/wavtokenizer/decoder/pretrained.py:101: FutureWarning: You are using `torch.load` with `weights_only=False` (the current default value), which uses the default pickle module implicitly. It is possible to construct malicious pickle data which will execute arbitrary code during unpickling (See https://github.com/pytorch/pytorch/blob/main/SECURITY.md#untrusted-models for more details). In a future release, the default value for `weights_only` will be flipped to `True`. This limits the functions that could be executed during unpickling. Arbitrary objects will no longer be allowed to be loaded via this mode unless they are explicitly allowlisted by the user via `torch.serialization.add_safe_globals`. We recommend you start setting `weights_only=True` for any use case where you don't have full control of the loaded file. Please open an issue on GitHub for any issues related to this experimental feature.\n",
            "  state_dict_raw = torch.load(model_path, map_location=\"cpu\")['state_dict']\n",
            "/content/InspireMusic/examples/music_generation/inspiremusic/cli/model.py:69: FutureWarning: You are using `torch.load` with `weights_only=False` (the current default value), which uses the default pickle module implicitly. It is possible to construct malicious pickle data which will execute arbitrary code during unpickling (See https://github.com/pytorch/pytorch/blob/main/SECURITY.md#untrusted-models for more details). In a future release, the default value for `weights_only` will be flipped to `True`. This limits the functions that could be executed during unpickling. Arbitrary objects will no longer be allowed to be loaded via this mode unless they are explicitly allowlisted by the user via `torch.serialization.add_safe_globals`. We recommend you start setting `weights_only=True` for any use case where you don't have full control of the loaded file. Please open an issue on GitHub for any issues related to this experimental feature.\n",
            "  self.llm.load_state_dict(torch.load(llm_model, map_location=self.device))\n",
            "/content/InspireMusic/examples/music_generation/inspiremusic/cli/model.py:74: FutureWarning: You are using `torch.load` with `weights_only=False` (the current default value), which uses the default pickle module implicitly. It is possible to construct malicious pickle data which will execute arbitrary code during unpickling (See https://github.com/pytorch/pytorch/blob/main/SECURITY.md#untrusted-models for more details). In a future release, the default value for `weights_only` will be flipped to `True`. This limits the functions that could be executed during unpickling. Arbitrary objects will no longer be allowed to be loaded via this mode unless they are explicitly allowlisted by the user via `torch.serialization.add_safe_globals`. We recommend you start setting `weights_only=True` for any use case where you don't have full control of the loaded file. Please open an issue on GitHub for any issues related to this experimental feature.\n",
            "  self.flow.load_state_dict(torch.load(flow_model, map_location=self.device))\n",
            "making attention of type 'vanilla' with 768 in_channels\n",
            "making attention of type 'vanilla' with 768 in_channels\n",
            "2025-02-18 06:07:48,821 - INFO - prompt text Experience soothing and sensual instrumental jazz with a touch of Bossa Nova, perfect for a relaxing restaurant or spa ambiance.\n",
            "/content/InspireMusic/examples/music_generation/inspiremusic/cli/model.py:114: FutureWarning: `torch.cuda.amp.autocast(args...)` is deprecated. Please use `torch.amp.autocast('cuda', args...)` instead.\n",
            "  with autocast(enabled=self.fp16, dtype=self.dtype, cache_enabled=True):\n",
            "2250\n",
            "torch.Size([1, 2250])\n",
            "2025-02-18 06:09:05,347 - INFO - using wavtokenizer generator without flow matching\n",
            "/content/InspireMusic/examples/music_generation/inspiremusic/cli/model.py:179: UserWarning: To copy construct from a tensor, it is recommended to use sourceTensor.clone().detach() or sourceTensor.clone().detach().requires_grad_(True), rather than torch.tensor(sourceTensor).\n",
            "  new_tensor = torch.tensor(token.to(self.device)).unsqueeze(0)\n",
            "torch.Size([1, 720000])\n",
            "2025-02-18 06:09:05,801 - INFO - yield music len 30.0, rtf 2.56600878238678\n",
            "2025-02-18 06:09:05,833 - INFO - Processing time: 76s, audio length: 30s, rtf: 2.566053263346354, text prompt: <|0.0|><|intro|><|Experience soothing and sensual instrumental jazz with a touch of Bossa Nova, perfect for a relaxing restaurant or spa ambiance.|><|30.0|>\n",
            "2025-02-18 06:09:05,833 - INFO - Generated audio file exp/inspiremusic/output.wav is saved.\n"
          ]
        }
      ]
    },
    {
      "cell_type": "code",
      "source": [
        "from IPython.display import Audio\n",
        "Audio(\"exp/inspiremusic/output.wav\",autoplay=True)"
      ],
      "metadata": {
        "colab": {
          "base_uri": "https://localhost:8080/",
          "height": 75
        },
        "id": "ymIj7LPJqrW9",
        "outputId": "d9bd3916-973b-4938-8398-6867c0dcd4db"
      },
      "execution_count": null,
      "outputs": []
    },
    {
      "cell_type": "code",
      "source": [
        "# without flow matching\n",
        "!PYTHONPATH=../../third_party/Matcha-TTS python -m inspiremusic.cli.inference --task text-to-music -g 0 -t \"Experience soothing and sensual instrumental jazz with a touch of Bossa Nova, perfect for a relaxing restaurant or spa ambiance.\" --fast True"
      ],
      "metadata": {
        "colab": {
          "base_uri": "https://localhost:8080/"
        },
        "id": "h1rWnl_9eFCu",
        "outputId": "f9f5b7d0-d3c3-440d-8ab9-2e96c2710fdf"
      },
      "execution_count": null,
      "outputs": [
        {
          "output_type": "stream",
          "name": "stdout",
          "text": [
            "Namespace(model_name='InspireMusic-1.5B-Long', model_dir='../../pretrained_models/InspireMusic-1.5B-Long', text='Experience soothing and sensual instrumental jazz with a touch of Bossa Nova, perfect for a relaxing restaurant or spa ambiance.', audio_prompt=None, chorus='intro', fast=True, gpu=0, task='text-to-music', result_dir='exp/inspiremusic', output_fn='output_audio', format='wav', sample_rate=24000, output_sample_rate=48000, time_start=0.0, time_end=30.0, max_audio_prompt_length=5.0, min_generate_audio_seconds=10.0, max_generate_audio_seconds=30.0, fp16=True, fade_out=True, fade_out_duration=1.0, trim=False)\n",
            "2025-02-18 06:09:56,628 - INFO - NumExpr defaulting to 12 threads.\n",
            "2025-02-18 06:09:57.327444: I tensorflow/core/util/port.cc:153] oneDNN custom operations are on. You may see slightly different numerical results due to floating-point round-off errors from different computation orders. To turn them off, set the environment variable `TF_ENABLE_ONEDNN_OPTS=0`.\n",
            "2025-02-18 06:09:57.346154: E external/local_xla/xla/stream_executor/cuda/cuda_fft.cc:477] Unable to register cuFFT factory: Attempting to register factory for plugin cuFFT when one has already been registered\n",
            "WARNING: All log messages before absl::InitializeLog() is called are written to STDERR\n",
            "E0000 00:00:1739858997.368481   20579 cuda_dnn.cc:8310] Unable to register cuDNN factory: Attempting to register factory for plugin cuDNN when one has already been registered\n",
            "E0000 00:00:1739858997.375310   20579 cuda_blas.cc:1418] Unable to register cuBLAS factory: Attempting to register factory for plugin cuBLAS when one has already been registered\n",
            "2025-02-18 06:09:57.397845: I tensorflow/core/platform/cpu_feature_guard.cc:210] This TensorFlow binary is optimized to use available CPU instructions in performance-critical operations.\n",
            "To enable the following instructions: AVX2 AVX512F AVX512_VNNI FMA, in other operations, rebuild TensorFlow with the appropriate compiler flags.\n",
            "2025-02-18 06:10:00,011 - INFO - We will use 90% of the memory on device 0 for storing the model, and 10% for the buffer to avoid OOM. You can set `max_memory` in to a higher value to use more memory (at your own risk).\n",
            "2025-02-18 06:10:01,300 - INFO - infer_cfg_ratio: 3.0\n",
            "2025-02-18 06:10:01,300 - INFO - train_cfg_ratio: 0.2\n",
            "/usr/local/lib/python3.11/dist-packages/diffusers/models/lora.py:393: FutureWarning: `LoRACompatibleLinear` is deprecated and will be removed in version 1.0.0. Use of `LoRACompatibleLinear` is deprecated. Please switch to PEFT backend by installing PEFT: `pip install peft`.\n",
            "  deprecate(\"LoRACompatibleLinear\", \"1.0.0\", deprecation_message)\n",
            "2025-02-18 06:10:03,126 - INFO - input frame rate=75\n",
            "/content/InspireMusic/examples/music_generation/inspiremusic/music_tokenizer/vqvae.py:31: FutureWarning: You are using `torch.load` with `weights_only=False` (the current default value), which uses the default pickle module implicitly. It is possible to construct malicious pickle data which will execute arbitrary code during unpickling (See https://github.com/pytorch/pytorch/blob/main/SECURITY.md#untrusted-models for more details). In a future release, the default value for `weights_only` will be flipped to `True`. This limits the functions that could be executed during unpickling. Arbitrary objects will no longer be allowed to be loaded via this mode unless they are explicitly allowlisted by the user via `torch.serialization.add_safe_globals`. We recommend you start setting `weights_only=True` for any use case where you don't have full control of the loaded file. Please open an issue on GitHub for any issues related to this experimental feature.\n",
            "  ckpt = torch.load(ckpt_path)\n",
            "/usr/local/lib/python3.11/dist-packages/torch/nn/utils/weight_norm.py:143: FutureWarning: `torch.nn.utils.weight_norm` is deprecated in favor of `torch.nn.utils.parametrizations.weight_norm`.\n",
            "  WeightNorm.apply(module, name, dim)\n",
            "/content/InspireMusic/examples/music_generation/inspiremusic/dataset/processor.py:25: UserWarning: torchaudio._backend.set_audio_backend has been deprecated. With dispatcher enabled, this function is no-op. You can remove the function call.\n",
            "  torchaudio.set_audio_backend('soundfile')\n",
            "making attention of type 'vanilla' with 768 in_channels\n",
            "/content/InspireMusic/examples/music_generation/inspiremusic/wavtokenizer/decoder/pretrained.py:101: FutureWarning: You are using `torch.load` with `weights_only=False` (the current default value), which uses the default pickle module implicitly. It is possible to construct malicious pickle data which will execute arbitrary code during unpickling (See https://github.com/pytorch/pytorch/blob/main/SECURITY.md#untrusted-models for more details). In a future release, the default value for `weights_only` will be flipped to `True`. This limits the functions that could be executed during unpickling. Arbitrary objects will no longer be allowed to be loaded via this mode unless they are explicitly allowlisted by the user via `torch.serialization.add_safe_globals`. We recommend you start setting `weights_only=True` for any use case where you don't have full control of the loaded file. Please open an issue on GitHub for any issues related to this experimental feature.\n",
            "  state_dict_raw = torch.load(model_path, map_location=\"cpu\")['state_dict']\n",
            "/content/InspireMusic/examples/music_generation/inspiremusic/cli/model.py:69: FutureWarning: You are using `torch.load` with `weights_only=False` (the current default value), which uses the default pickle module implicitly. It is possible to construct malicious pickle data which will execute arbitrary code during unpickling (See https://github.com/pytorch/pytorch/blob/main/SECURITY.md#untrusted-models for more details). In a future release, the default value for `weights_only` will be flipped to `True`. This limits the functions that could be executed during unpickling. Arbitrary objects will no longer be allowed to be loaded via this mode unless they are explicitly allowlisted by the user via `torch.serialization.add_safe_globals`. We recommend you start setting `weights_only=True` for any use case where you don't have full control of the loaded file. Please open an issue on GitHub for any issues related to this experimental feature.\n",
            "  self.llm.load_state_dict(torch.load(llm_model, map_location=self.device))\n",
            "/content/InspireMusic/examples/music_generation/inspiremusic/cli/model.py:74: FutureWarning: You are using `torch.load` with `weights_only=False` (the current default value), which uses the default pickle module implicitly. It is possible to construct malicious pickle data which will execute arbitrary code during unpickling (See https://github.com/pytorch/pytorch/blob/main/SECURITY.md#untrusted-models for more details). In a future release, the default value for `weights_only` will be flipped to `True`. This limits the functions that could be executed during unpickling. Arbitrary objects will no longer be allowed to be loaded via this mode unless they are explicitly allowlisted by the user via `torch.serialization.add_safe_globals`. We recommend you start setting `weights_only=True` for any use case where you don't have full control of the loaded file. Please open an issue on GitHub for any issues related to this experimental feature.\n",
            "  self.flow.load_state_dict(torch.load(flow_model, map_location=self.device))\n",
            "making attention of type 'vanilla' with 768 in_channels\n",
            "making attention of type 'vanilla' with 768 in_channels\n",
            "2025-02-18 06:10:27,641 - INFO - prompt text Experience soothing and sensual instrumental jazz with a touch of Bossa Nova, perfect for a relaxing restaurant or spa ambiance.\n",
            "/content/InspireMusic/examples/music_generation/inspiremusic/cli/model.py:114: FutureWarning: `torch.cuda.amp.autocast(args...)` is deprecated. Please use `torch.amp.autocast('cuda', args...)` instead.\n",
            "  with autocast(enabled=self.fp16, dtype=self.dtype, cache_enabled=True):\n",
            "2250\n",
            "torch.Size([1, 2250])\n",
            "2025-02-18 06:11:45,865 - INFO - using wavtokenizer generator without flow matching\n",
            "/content/InspireMusic/examples/music_generation/inspiremusic/cli/model.py:179: UserWarning: To copy construct from a tensor, it is recommended to use sourceTensor.clone().detach() or sourceTensor.clone().detach().requires_grad_(True), rather than torch.tensor(sourceTensor).\n",
            "  new_tensor = torch.tensor(token.to(self.device)).unsqueeze(0)\n",
            "torch.Size([1, 720000])\n",
            "2025-02-18 06:11:46,014 - INFO - yield music len 30.0, rtf 2.612442461649577\n",
            "2025-02-18 06:11:46,047 - INFO - Processing time: 78s, audio length: 30s, rtf: 2.6124854485193887, text prompt: <|0.0|><|intro|><|Experience soothing and sensual instrumental jazz with a touch of Bossa Nova, perfect for a relaxing restaurant or spa ambiance.|><|30.0|>\n",
            "2025-02-18 06:11:46,047 - INFO - Generated audio file exp/inspiremusic/output_audio.wav is saved.\n"
          ]
        }
      ]
    },
    {
      "cell_type": "code",
      "source": [
        "from IPython.display import Audio\n",
        "Audio(\"exp/inspiremusic/output_audio.wav\",autoplay=True)"
      ],
      "metadata": {
        "colab": {
          "base_uri": "https://localhost:8080/",
          "height": 75
        },
        "id": "ROfHMtiTqtRk",
        "outputId": "db60fad9-b86c-4c7a-c1ca-f13a1bfc6d10"
      },
      "execution_count": null,
      "outputs": []
    },
    {
      "cell_type": "code",
      "source": [
        "from inspiremusic.cli.inference import InspireMusicUnified\n",
        "from inspiremusic.cli.inference import set_env_variables\n",
        "if __name__ == \"__main__\":\n",
        "  set_env_variables()\n",
        "  model = InspireMusicUnified(model_name = \"InspireMusic-1.5B-Long\")\n",
        "  model.inference(\"text-to-music\", \"Experience soothing and sensual instrumental jazz with a touch of Bossa Nova, perfect for a relaxing restaurant or spa ambiance.\")\n",
        "\n"
      ],
      "metadata": {
        "colab": {
          "base_uri": "https://localhost:8080/"
        },
        "id": "kc9vbIb4eJ6u",
        "outputId": "404bc865-b547-4fd8-e0e2-294877fad684"
      },
      "execution_count": null,
      "outputs": [
        {
          "output_type": "stream",
          "name": "stdout",
          "text": [
            "making attention of type 'vanilla' with 768 in_channels\n",
            "making attention of type 'vanilla' with 768 in_channels\n",
            "making attention of type 'vanilla' with 768 in_channels\n"
          ]
        }
      ]
    },
    {
      "cell_type": "markdown",
      "source": [
        "## Music Continuation Task\n"
      ],
      "metadata": {
        "id": "7zCIHW3FeXmX"
      }
    },
    {
      "cell_type": "code",
      "source": [
        "# with flow matching\n",
        "!PYTHONPATH=../../third_party/Matcha-TTS python -m inspiremusic.cli.inference --task continuation -g 0 -a exp/inspiremusic/output.wav\n"
      ],
      "metadata": {
        "colab": {
          "base_uri": "https://localhost:8080/"
        },
        "id": "hNS_Pv3WeYWw",
        "outputId": "da677521-9a29-43a9-a9db-0b021725ba4e"
      },
      "execution_count": null,
      "outputs": [
        {
          "output_type": "stream",
          "name": "stdout",
          "text": [
            "Namespace(model_name='InspireMusic-1.5B-Long', model_dir='../../pretrained_models/InspireMusic-1.5B-Long', text='Experience soothing and sensual instrumental jazz with a touch of Bossa Nova, perfect for a relaxing restaurant or spa ambiance.', audio_prompt='exp/inspiremusic/output.wav', chorus='intro', fast=False, gpu=0, task='continuation', result_dir='exp/inspiremusic', output_fn='output_audio', format='wav', sample_rate=24000, output_sample_rate=48000, time_start=0.0, time_end=30.0, max_audio_prompt_length=5.0, min_generate_audio_seconds=10.0, max_generate_audio_seconds=30.0, fp16=True, fade_out=True, fade_out_duration=1.0, trim=False)\n",
            "2025-02-18 06:21:56,448 - INFO - NumExpr defaulting to 12 threads.\n",
            "2025-02-18 06:21:57.146867: I tensorflow/core/util/port.cc:153] oneDNN custom operations are on. You may see slightly different numerical results due to floating-point round-off errors from different computation orders. To turn them off, set the environment variable `TF_ENABLE_ONEDNN_OPTS=0`.\n",
            "2025-02-18 06:21:57.165671: E external/local_xla/xla/stream_executor/cuda/cuda_fft.cc:477] Unable to register cuFFT factory: Attempting to register factory for plugin cuFFT when one has already been registered\n",
            "WARNING: All log messages before absl::InitializeLog() is called are written to STDERR\n",
            "E0000 00:00:1739859717.187486   23982 cuda_dnn.cc:8310] Unable to register cuDNN factory: Attempting to register factory for plugin cuDNN when one has already been registered\n",
            "E0000 00:00:1739859717.194265   23982 cuda_blas.cc:1418] Unable to register cuBLAS factory: Attempting to register factory for plugin cuBLAS when one has already been registered\n",
            "2025-02-18 06:21:57.216686: I tensorflow/core/platform/cpu_feature_guard.cc:210] This TensorFlow binary is optimized to use available CPU instructions in performance-critical operations.\n",
            "To enable the following instructions: AVX2 AVX512F AVX512_VNNI FMA, in other operations, rebuild TensorFlow with the appropriate compiler flags.\n",
            "2025-02-18 06:21:59,840 - INFO - We will use 90% of the memory on device 0 for storing the model, and 10% for the buffer to avoid OOM. You can set `max_memory` in to a higher value to use more memory (at your own risk).\n",
            "2025-02-18 06:22:01,145 - INFO - infer_cfg_ratio: 3.0\n",
            "2025-02-18 06:22:01,145 - INFO - train_cfg_ratio: 0.2\n",
            "/usr/local/lib/python3.11/dist-packages/diffusers/models/lora.py:393: FutureWarning: `LoRACompatibleLinear` is deprecated and will be removed in version 1.0.0. Use of `LoRACompatibleLinear` is deprecated. Please switch to PEFT backend by installing PEFT: `pip install peft`.\n",
            "  deprecate(\"LoRACompatibleLinear\", \"1.0.0\", deprecation_message)\n",
            "2025-02-18 06:22:02,987 - INFO - input frame rate=75\n",
            "/content/InspireMusic/examples/music_generation/inspiremusic/music_tokenizer/vqvae.py:31: FutureWarning: You are using `torch.load` with `weights_only=False` (the current default value), which uses the default pickle module implicitly. It is possible to construct malicious pickle data which will execute arbitrary code during unpickling (See https://github.com/pytorch/pytorch/blob/main/SECURITY.md#untrusted-models for more details). In a future release, the default value for `weights_only` will be flipped to `True`. This limits the functions that could be executed during unpickling. Arbitrary objects will no longer be allowed to be loaded via this mode unless they are explicitly allowlisted by the user via `torch.serialization.add_safe_globals`. We recommend you start setting `weights_only=True` for any use case where you don't have full control of the loaded file. Please open an issue on GitHub for any issues related to this experimental feature.\n",
            "  ckpt = torch.load(ckpt_path)\n",
            "/usr/local/lib/python3.11/dist-packages/torch/nn/utils/weight_norm.py:143: FutureWarning: `torch.nn.utils.weight_norm` is deprecated in favor of `torch.nn.utils.parametrizations.weight_norm`.\n",
            "  WeightNorm.apply(module, name, dim)\n",
            "/content/InspireMusic/examples/music_generation/inspiremusic/dataset/processor.py:25: UserWarning: torchaudio._backend.set_audio_backend has been deprecated. With dispatcher enabled, this function is no-op. You can remove the function call.\n",
            "  torchaudio.set_audio_backend('soundfile')\n",
            "making attention of type 'vanilla' with 768 in_channels\n",
            "/content/InspireMusic/examples/music_generation/inspiremusic/wavtokenizer/decoder/pretrained.py:101: FutureWarning: You are using `torch.load` with `weights_only=False` (the current default value), which uses the default pickle module implicitly. It is possible to construct malicious pickle data which will execute arbitrary code during unpickling (See https://github.com/pytorch/pytorch/blob/main/SECURITY.md#untrusted-models for more details). In a future release, the default value for `weights_only` will be flipped to `True`. This limits the functions that could be executed during unpickling. Arbitrary objects will no longer be allowed to be loaded via this mode unless they are explicitly allowlisted by the user via `torch.serialization.add_safe_globals`. We recommend you start setting `weights_only=True` for any use case where you don't have full control of the loaded file. Please open an issue on GitHub for any issues related to this experimental feature.\n",
            "  state_dict_raw = torch.load(model_path, map_location=\"cpu\")['state_dict']\n",
            "/content/InspireMusic/examples/music_generation/inspiremusic/cli/model.py:69: FutureWarning: You are using `torch.load` with `weights_only=False` (the current default value), which uses the default pickle module implicitly. It is possible to construct malicious pickle data which will execute arbitrary code during unpickling (See https://github.com/pytorch/pytorch/blob/main/SECURITY.md#untrusted-models for more details). In a future release, the default value for `weights_only` will be flipped to `True`. This limits the functions that could be executed during unpickling. Arbitrary objects will no longer be allowed to be loaded via this mode unless they are explicitly allowlisted by the user via `torch.serialization.add_safe_globals`. We recommend you start setting `weights_only=True` for any use case where you don't have full control of the loaded file. Please open an issue on GitHub for any issues related to this experimental feature.\n",
            "  self.llm.load_state_dict(torch.load(llm_model, map_location=self.device))\n",
            "/content/InspireMusic/examples/music_generation/inspiremusic/cli/model.py:74: FutureWarning: You are using `torch.load` with `weights_only=False` (the current default value), which uses the default pickle module implicitly. It is possible to construct malicious pickle data which will execute arbitrary code during unpickling (See https://github.com/pytorch/pytorch/blob/main/SECURITY.md#untrusted-models for more details). In a future release, the default value for `weights_only` will be flipped to `True`. This limits the functions that could be executed during unpickling. Arbitrary objects will no longer be allowed to be loaded via this mode unless they are explicitly allowlisted by the user via `torch.serialization.add_safe_globals`. We recommend you start setting `weights_only=True` for any use case where you don't have full control of the loaded file. Please open an issue on GitHub for any issues related to this experimental feature.\n",
            "  self.flow.load_state_dict(torch.load(flow_model, map_location=self.device))\n",
            "making attention of type 'vanilla' with 768 in_channels\n",
            "making attention of type 'vanilla' with 768 in_channels\n",
            "/content/InspireMusic/examples/music_generation/inspiremusic/cli/frontend.py:57: UserWarning: To copy construct from a tensor, it is recommended to use sourceTensor.clone().detach() or sourceTensor.clone().detach().requires_grad_(True), rather than torch.tensor(sourceTensor).\n",
            "  audio = torch.tensor(audio, dtype=torch.float32, device=self.device)\n",
            "2025-02-18 06:22:27,506 - INFO - prompt audio length: 1\n",
            "/content/InspireMusic/examples/music_generation/inspiremusic/cli/model.py:114: FutureWarning: `torch.cuda.amp.autocast(args...)` is deprecated. Please use `torch.amp.autocast('cuda', args...)` instead.\n",
            "  with autocast(enabled=self.fp16, dtype=self.dtype, cache_enabled=True):\n",
            "2025-02-18 06:23:45,195 - INFO - LLM generated audio token length: 2250\n",
            "2025-02-18 06:23:45,195 - INFO - using flow matching and hifi generator\n",
            "2025-02-18 06:23:45,195 - INFO - After trimmed, generated audio token length: 2250\n",
            "2025-02-18 06:23:54,454 - INFO - Generated audio sequence length: 1440000\n",
            "2025-02-18 06:23:54,455 - INFO - yield music len 60.0, rtf 1.4491353392601014\n",
            "2025-02-18 06:23:54,523 - INFO - Processing time: 87s, audio length: 30s, rtf: 2.9114684581756594, text prompt: <|0.0|><|intro|><|Experience soothing and sensual instrumental jazz with a touch of Bossa Nova, perfect for a relaxing restaurant or spa ambiance.|><|30.0|>\n",
            "2025-02-18 06:23:54,523 - INFO - Generated audio file exp/inspiremusic/output_audio.wav is saved.\n"
          ]
        }
      ]
    },
    {
      "cell_type": "code",
      "source": [
        "from IPython.display import Audio\n",
        "Audio(\"exp/inspiremusic/output_audio.wav\",autoplay=True)"
      ],
      "metadata": {
        "colab": {
          "base_uri": "https://localhost:8080/",
          "height": 75
        },
        "id": "ZtQhD1EOsGZC",
        "outputId": "f5e29941-cb03-4899-d84f-4cde7babd1ad"
      },
      "execution_count": null,
      "outputs": []
    },
    {
      "cell_type": "code",
      "source": [
        "# without flow matching\n",
        "!PYTHONPATH=../../third_party/Matcha-TTS python -m inspiremusic.cli.inference --task continuation -g 0 -a exp/inspiremusic/output_audio.wav --fast True"
      ],
      "metadata": {
        "colab": {
          "base_uri": "https://localhost:8080/"
        },
        "id": "HNVN0kzneeEk",
        "outputId": "90b25081-2fe7-444e-c82d-969c01e9e845"
      },
      "execution_count": null,
      "outputs": [
        {
          "output_type": "stream",
          "name": "stdout",
          "text": [
            "Namespace(model_name='InspireMusic-1.5B-Long', model_dir='../../pretrained_models/InspireMusic-1.5B-Long', text='Experience soothing and sensual instrumental jazz with a touch of Bossa Nova, perfect for a relaxing restaurant or spa ambiance.', audio_prompt='exp/inspiremusic/output_audio.wav', chorus='intro', fast=True, gpu=0, task='continuation', result_dir='exp/inspiremusic', output_fn='output_audio', format='wav', sample_rate=24000, output_sample_rate=48000, time_start=0.0, time_end=30.0, max_audio_prompt_length=5.0, min_generate_audio_seconds=10.0, max_generate_audio_seconds=30.0, fp16=True, fade_out=True, fade_out_duration=1.0, trim=False)\n",
            "2025-02-18 06:25:33,863 - INFO - NumExpr defaulting to 12 threads.\n",
            "2025-02-18 06:25:34.566735: I tensorflow/core/util/port.cc:153] oneDNN custom operations are on. You may see slightly different numerical results due to floating-point round-off errors from different computation orders. To turn them off, set the environment variable `TF_ENABLE_ONEDNN_OPTS=0`.\n",
            "2025-02-18 06:25:34.585784: E external/local_xla/xla/stream_executor/cuda/cuda_fft.cc:477] Unable to register cuFFT factory: Attempting to register factory for plugin cuFFT when one has already been registered\n",
            "WARNING: All log messages before absl::InitializeLog() is called are written to STDERR\n",
            "E0000 00:00:1739859934.608552   24952 cuda_dnn.cc:8310] Unable to register cuDNN factory: Attempting to register factory for plugin cuDNN when one has already been registered\n",
            "E0000 00:00:1739859934.615392   24952 cuda_blas.cc:1418] Unable to register cuBLAS factory: Attempting to register factory for plugin cuBLAS when one has already been registered\n",
            "2025-02-18 06:25:34.637862: I tensorflow/core/platform/cpu_feature_guard.cc:210] This TensorFlow binary is optimized to use available CPU instructions in performance-critical operations.\n",
            "To enable the following instructions: AVX2 AVX512F AVX512_VNNI FMA, in other operations, rebuild TensorFlow with the appropriate compiler flags.\n",
            "2025-02-18 06:25:37,238 - INFO - We will use 90% of the memory on device 0 for storing the model, and 10% for the buffer to avoid OOM. You can set `max_memory` in to a higher value to use more memory (at your own risk).\n",
            "2025-02-18 06:25:38,536 - INFO - infer_cfg_ratio: 3.0\n",
            "2025-02-18 06:25:38,536 - INFO - train_cfg_ratio: 0.2\n",
            "/usr/local/lib/python3.11/dist-packages/diffusers/models/lora.py:393: FutureWarning: `LoRACompatibleLinear` is deprecated and will be removed in version 1.0.0. Use of `LoRACompatibleLinear` is deprecated. Please switch to PEFT backend by installing PEFT: `pip install peft`.\n",
            "  deprecate(\"LoRACompatibleLinear\", \"1.0.0\", deprecation_message)\n",
            "2025-02-18 06:25:40,364 - INFO - input frame rate=75\n",
            "/content/InspireMusic/examples/music_generation/inspiremusic/music_tokenizer/vqvae.py:31: FutureWarning: You are using `torch.load` with `weights_only=False` (the current default value), which uses the default pickle module implicitly. It is possible to construct malicious pickle data which will execute arbitrary code during unpickling (See https://github.com/pytorch/pytorch/blob/main/SECURITY.md#untrusted-models for more details). In a future release, the default value for `weights_only` will be flipped to `True`. This limits the functions that could be executed during unpickling. Arbitrary objects will no longer be allowed to be loaded via this mode unless they are explicitly allowlisted by the user via `torch.serialization.add_safe_globals`. We recommend you start setting `weights_only=True` for any use case where you don't have full control of the loaded file. Please open an issue on GitHub for any issues related to this experimental feature.\n",
            "  ckpt = torch.load(ckpt_path)\n",
            "/usr/local/lib/python3.11/dist-packages/torch/nn/utils/weight_norm.py:143: FutureWarning: `torch.nn.utils.weight_norm` is deprecated in favor of `torch.nn.utils.parametrizations.weight_norm`.\n",
            "  WeightNorm.apply(module, name, dim)\n",
            "/content/InspireMusic/examples/music_generation/inspiremusic/dataset/processor.py:25: UserWarning: torchaudio._backend.set_audio_backend has been deprecated. With dispatcher enabled, this function is no-op. You can remove the function call.\n",
            "  torchaudio.set_audio_backend('soundfile')\n",
            "making attention of type 'vanilla' with 768 in_channels\n",
            "/content/InspireMusic/examples/music_generation/inspiremusic/wavtokenizer/decoder/pretrained.py:101: FutureWarning: You are using `torch.load` with `weights_only=False` (the current default value), which uses the default pickle module implicitly. It is possible to construct malicious pickle data which will execute arbitrary code during unpickling (See https://github.com/pytorch/pytorch/blob/main/SECURITY.md#untrusted-models for more details). In a future release, the default value for `weights_only` will be flipped to `True`. This limits the functions that could be executed during unpickling. Arbitrary objects will no longer be allowed to be loaded via this mode unless they are explicitly allowlisted by the user via `torch.serialization.add_safe_globals`. We recommend you start setting `weights_only=True` for any use case where you don't have full control of the loaded file. Please open an issue on GitHub for any issues related to this experimental feature.\n",
            "  state_dict_raw = torch.load(model_path, map_location=\"cpu\")['state_dict']\n",
            "/content/InspireMusic/examples/music_generation/inspiremusic/cli/model.py:69: FutureWarning: You are using `torch.load` with `weights_only=False` (the current default value), which uses the default pickle module implicitly. It is possible to construct malicious pickle data which will execute arbitrary code during unpickling (See https://github.com/pytorch/pytorch/blob/main/SECURITY.md#untrusted-models for more details). In a future release, the default value for `weights_only` will be flipped to `True`. This limits the functions that could be executed during unpickling. Arbitrary objects will no longer be allowed to be loaded via this mode unless they are explicitly allowlisted by the user via `torch.serialization.add_safe_globals`. We recommend you start setting `weights_only=True` for any use case where you don't have full control of the loaded file. Please open an issue on GitHub for any issues related to this experimental feature.\n",
            "  self.llm.load_state_dict(torch.load(llm_model, map_location=self.device))\n",
            "/content/InspireMusic/examples/music_generation/inspiremusic/cli/model.py:74: FutureWarning: You are using `torch.load` with `weights_only=False` (the current default value), which uses the default pickle module implicitly. It is possible to construct malicious pickle data which will execute arbitrary code during unpickling (See https://github.com/pytorch/pytorch/blob/main/SECURITY.md#untrusted-models for more details). In a future release, the default value for `weights_only` will be flipped to `True`. This limits the functions that could be executed during unpickling. Arbitrary objects will no longer be allowed to be loaded via this mode unless they are explicitly allowlisted by the user via `torch.serialization.add_safe_globals`. We recommend you start setting `weights_only=True` for any use case where you don't have full control of the loaded file. Please open an issue on GitHub for any issues related to this experimental feature.\n",
            "  self.flow.load_state_dict(torch.load(flow_model, map_location=self.device))\n",
            "making attention of type 'vanilla' with 768 in_channels\n",
            "making attention of type 'vanilla' with 768 in_channels\n",
            "/content/InspireMusic/examples/music_generation/inspiremusic/cli/frontend.py:57: UserWarning: To copy construct from a tensor, it is recommended to use sourceTensor.clone().detach() or sourceTensor.clone().detach().requires_grad_(True), rather than torch.tensor(sourceTensor).\n",
            "  audio = torch.tensor(audio, dtype=torch.float32, device=self.device)\n",
            "2025-02-18 06:26:04,988 - INFO - prompt audio length: 1\n",
            "/content/InspireMusic/examples/music_generation/inspiremusic/cli/model.py:114: FutureWarning: `torch.cuda.amp.autocast(args...)` is deprecated. Please use `torch.amp.autocast('cuda', args...)` instead.\n",
            "  with autocast(enabled=self.fp16, dtype=self.dtype, cache_enabled=True):\n",
            "2250\n",
            "torch.Size([1, 2250])\n",
            "2025-02-18 06:27:23,357 - INFO - using wavtokenizer generator without flow matching\n",
            "/content/InspireMusic/examples/music_generation/inspiremusic/cli/model.py:179: UserWarning: To copy construct from a tensor, it is recommended to use sourceTensor.clone().detach() or sourceTensor.clone().detach().requires_grad_(True), rather than torch.tensor(sourceTensor).\n",
            "  new_tensor = torch.tensor(token.to(self.device)).unsqueeze(0)\n",
            "torch.Size([1, 720000])\n",
            "2025-02-18 06:27:23,416 - INFO - yield music len 30.0, rtf 2.614271306991577\n",
            "2025-02-18 06:27:23,449 - INFO - Processing time: 78s, audio length: 30s, rtf: 2.6299612760543822, text prompt: <|0.0|><|intro|><|Experience soothing and sensual instrumental jazz with a touch of Bossa Nova, perfect for a relaxing restaurant or spa ambiance.|><|30.0|>\n",
            "2025-02-18 06:27:23,449 - INFO - Generated audio file exp/inspiremusic/output_audio.wav is saved.\n"
          ]
        }
      ]
    },
    {
      "cell_type": "code",
      "source": [
        "from IPython.display import Audio\n",
        "Audio(\"exp/inspiremusic/output_audio.wav\",autoplay=True)"
      ],
      "metadata": {
        "colab": {
          "base_uri": "https://localhost:8080/",
          "height": 75
        },
        "id": "s-udpASlsHaK",
        "outputId": "ff432302-7e60-4a0a-a4ca-600e7dbbff2a"
      },
      "execution_count": null,
      "outputs": []
    },
    {
      "cell_type": "code",
      "source": [
        "from inspiremusic.cli.inference import InspireMusicUnified\n",
        "from inspiremusic.cli.inference import set_env_variables\n",
        "if __name__ == \"__main__\":\n",
        "  set_env_variables()\n",
        "  model = InspireMusicUnified(model_name = \"InspireMusic-1.5B-Long\")\n",
        "  # just use audio prompt\n",
        "  #model.inference(\"continuation\", None, \"exp/inspiremusic/output_audio.wav\")\n",
        "  # use both text prompt and audio prompt\n",
        "  model.inference(\"continuation\", \"Continue to generate jazz music.\", \"exp/inspiremusic/output_audio.wav\")\n"
      ],
      "metadata": {
        "colab": {
          "base_uri": "https://localhost:8080/"
        },
        "id": "0JHvcgu9ea--",
        "outputId": "e1ea9d59-3cee-4d1d-ea94-5d4c705521b6"
      },
      "execution_count": null,
      "outputs": [
        {
          "output_type": "stream",
          "name": "stdout",
          "text": [
            "making attention of type 'vanilla' with 768 in_channels\n",
            "making attention of type 'vanilla' with 768 in_channels\n",
            "making attention of type 'vanilla' with 768 in_channels\n"
          ]
        }
      ]
    },
    {
      "cell_type": "code",
      "source": [
        "from IPython.display import Audio\n",
        "Audio(\"exp/inspiremusic/output_audio.wav\",autoplay=True)"
      ],
      "metadata": {
        "colab": {
          "base_uri": "https://localhost:8080/",
          "height": 75
        },
        "id": "UnnnRAIjxICU",
        "outputId": "813b47dd-1f27-4569-ad1d-ca16ad4b379b"
      },
      "execution_count": null,
      "outputs": []
    }
  ]
}