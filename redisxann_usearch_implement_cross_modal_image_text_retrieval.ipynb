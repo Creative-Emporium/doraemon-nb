{
  "nbformat": 4,
  "nbformat_minor": 0,
  "metadata": {
    "colab": {
      "provenance": [],
      "gpuType": "T4",
      "authorship_tag": "ABX9TyPiwtlzx1iHoTaujNoyweIN",
      "include_colab_link": true
    },
    "kernelspec": {
      "name": "python3",
      "display_name": "Python 3"
    },
    "language_info": {
      "name": "python"
    },
    "accelerator": "GPU"
  },
  "cells": [
    {
      "cell_type": "markdown",
      "metadata": {
        "id": "view-in-github",
        "colab_type": "text"
      },
      "source": [
        "<a href=\"https://colab.research.google.com/github/weedge/doraemon-nb/blob/main/redisxann_usearch_implement_cross_modal_image_text_retrieval.ipynb\" target=\"_parent\"><img src=\"https://colab.research.google.com/assets/colab-badge.svg\" alt=\"Open In Colab\"/></a>"
      ]
    },
    {
      "cell_type": "markdown",
      "source": [
        "# Run RedisXANN-usearch redis server"
      ],
      "metadata": {
        "id": "Q_niEbGiDKY9"
      }
    },
    {
      "cell_type": "code",
      "execution_count": null,
      "metadata": {
        "id": "qrolQZix51x0"
      },
      "outputs": [],
      "source": [
        "!rm -rf redis && git clone https://github.com/redis/redis && \\\n",
        "  cd redis && \\\n",
        "  git checkout 7.0 && \\\n",
        "  make REDIS_CFLAGS='-Werror' BUILD_TLS=yes && make install && \\\n",
        "  which redis-server && redis-server --version"
      ]
    },
    {
      "cell_type": "code",
      "source": [
        "!git clone https://github.com/weedge/RedisXANN.git --recursive"
      ],
      "metadata": {
        "id": "5nq7IPAf6tvt"
      },
      "execution_count": null,
      "outputs": []
    },
    {
      "cell_type": "code",
      "source": [
        "!curl https://sh.rustup.rs -sSf > rustup.sh"
      ],
      "metadata": {
        "id": "9lHaCJ3W8CwF"
      },
      "execution_count": 3,
      "outputs": []
    },
    {
      "cell_type": "code",
      "source": [
        "!sh rustup.sh -y"
      ],
      "metadata": {
        "id": "GWyNpPmp9JVp"
      },
      "execution_count": null,
      "outputs": []
    },
    {
      "cell_type": "code",
      "source": [
        "!cd RedisXANN && source \"$HOME/.cargo/env\" && \\\n",
        "  cargo clean && \\\n",
        "  cargo build --lib --manifest-path rust/usearch/Cargo.toml --release"
      ],
      "metadata": {
        "id": "P35kArmA9jml"
      },
      "execution_count": null,
      "outputs": []
    },
    {
      "cell_type": "code",
      "source": [
        "!redis-server --daemonize yes \\\n",
        "  --loadmodule RedisXANN/target/release/libredisxann_usearch.so is_remove_serialized_file 1 \\\n",
        "  --port 6666 \\\n",
        "  --dbfilename dump.6666.rdb"
      ],
      "metadata": {
        "id": "82qdxHKD_NF1"
      },
      "execution_count": 6,
      "outputs": []
    },
    {
      "cell_type": "markdown",
      "source": [
        "## Data\n",
        "\n",
        "1. Oxford-IIIT 宠物数据集 https://www.robots.ox.ac.uk/~vgg/data/pets/\n",
        "\n",
        " images.tar.gz（数据集）和 annotations.tar.gz（groundtruth 数据）"
      ],
      "metadata": {
        "id": "8048Ii1zDDUI"
      }
    },
    {
      "cell_type": "code",
      "source": [
        "!wget https://thor.robots.ox.ac.uk/~vgg/data/pets/images.tar.gz -O images.tar.gz \\\n",
        "  && rm -rf images && tar -zxvf images.tar.gz"
      ],
      "metadata": {
        "id": "CWRbF2J0DJbZ"
      },
      "execution_count": null,
      "outputs": []
    },
    {
      "cell_type": "code",
      "source": [
        "!wget https://thor.robots.ox.ac.uk/~vgg/data/pets/annotations.tar.gz -O annotations.tar.gz \\\n",
        "  && rm -rf annotations && tar -zxvf annotations.tar.gz"
      ],
      "metadata": {
        "id": "kjep3EfAFCl-"
      },
      "execution_count": null,
      "outputs": []
    },
    {
      "cell_type": "markdown",
      "source": [
        "## install deps python package\n",
        "torch、matplotlib、Pillow(colab defualt install)；安装redisx、CLIP(openai clip,阿里巴巴cn_clip)等依赖"
      ],
      "metadata": {
        "id": "fot8lKxtF7O3"
      }
    },
    {
      "cell_type": "code",
      "source": [
        "!pip install torch matplotlib Pillow clip cn_clip redisx"
      ],
      "metadata": {
        "id": "LI7gIiCdFp9I"
      },
      "execution_count": null,
      "outputs": []
    },
    {
      "cell_type": "code",
      "source": [
        "import os\n",
        "from typing import List\n",
        "\n",
        "from redis import ResponseError\n",
        "import torch\n",
        "from PIL import Image\n",
        "import pylab\n",
        "from matplotlib import pyplot as plt\n",
        "import cn_clip.clip as clip\n",
        "from cn_clip.clip import available_models\n"
      ],
      "metadata": {
        "id": "Z3Ax-YBOI8t6"
      },
      "execution_count": 11,
      "outputs": []
    },
    {
      "cell_type": "code",
      "source": [
        "from random import random\n",
        "from redisx.client import Client\n",
        "\n",
        "# change the following configuration for your redis.\n",
        "REDIS_HOST = \"localhost\"\n",
        "REDIS_PORT = 6666\n",
        "REDIS_DB = 0\n",
        "REDIS_USERNAME = \"\"\n",
        "REDIS_PASSWORD = \"\"\n",
        "\n",
        "\n",
        "def get_client() -> Client:\n",
        "    return Client(\n",
        "        host=REDIS_HOST,\n",
        "        port=REDIS_PORT,\n",
        "        db=REDIS_DB,\n",
        "        username=REDIS_USERNAME,\n",
        "        password=REDIS_PASSWORD,\n",
        "    )\n",
        "\n",
        "\n",
        "def get_random_vectors(dim: int, n: int):\n",
        "    return [[random() for _ in range(dim)] for _ in range(n)]"
      ],
      "metadata": {
        "id": "yTv2WglrLHwz"
      },
      "execution_count": 10,
      "outputs": []
    },
    {
      "cell_type": "code",
      "source": [
        "from typing import Union\n",
        "\n",
        "from redis import ResponseError\n",
        "from redisx.define import UsearchQuantizationType\n",
        "from redisx.ann_usearch import VectorType\n",
        "\n",
        "cli = get_client()\n",
        "\n",
        "def create_index(index_name: str, dim:int):\n",
        "    try:\n",
        "        return cli.create_index(\n",
        "            index_name, dim,\n",
        "            quantization=UsearchQuantizationType.F64)\n",
        "    except ResponseError as e:\n",
        "        print(e)\n",
        "        return None\n",
        "\n",
        "def get_index(index_name: str):\n",
        "    try:\n",
        "        return cli.get_index(index_name)\n",
        "    except ResponseError as e:\n",
        "        print(e)\n",
        "        return None\n",
        "\n",
        "def add_vector(index_name: str, name: str, vector: Union[VectorType, str]):\n",
        "    try:\n",
        "        return cli.add_vector(index_name, name, vector)\n",
        "    except ResponseError as e:\n",
        "        print(e)\n",
        "        return None\n",
        "\n",
        "def kann_search(index_name: str, k: int, query_vector: Union[VectorType, str]):\n",
        "    try:\n",
        "        return cli.kann_search(index_name, k, query_vector)\n",
        "    except ResponseError as e:\n",
        "        print(e)\n",
        "        return False\n",
        "\n",
        "def build_index():\n",
        "    \"\"\"\n",
        "    创建存储图片、文本向量的Vector索引：(使用usearch库建立索引)\n",
        "    * 图片Key名称为\"index_images\"、文本Key名称为\"index_texts\"。\n",
        "    * 向量维度为1024。\n",
        "    * 计算向量距离函数为IP。\n",
        "    \"\"\"\n",
        "    ret = get_index(\"index_images\")\n",
        "    if ret is None:\n",
        "        create_index(\"index_images\", 1024)\n",
        "    ret = get_index(\"index_texts\")\n",
        "    if ret is None:\n",
        "        create_index(\"index_texts\", 1024)\n",
        "\n"
      ],
      "metadata": {
        "id": "8Vx0pAtZLYSs"
      },
      "execution_count": 24,
      "outputs": []
    },
    {
      "cell_type": "code",
      "source": [
        "build_index()\n"
      ],
      "metadata": {
        "id": "r4Z1Cmb0bmga"
      },
      "execution_count": 25,
      "outputs": []
    },
    {
      "cell_type": "markdown",
      "source": [
        "## load vision model\n",
        "use ResNet-50"
      ],
      "metadata": {
        "id": "NHFLZQphUGzv"
      }
    },
    {
      "cell_type": "code",
      "source": [
        "model, preprocess = clip.load_from_name(\"RN50\", device=\"cuda\", download_root=\"./\")\n"
      ],
      "metadata": {
        "colab": {
          "base_uri": "https://localhost:8080/"
        },
        "id": "4jka53UrPj-Q",
        "outputId": "6084e94e-2ba0-4f76-e4d5-856680261cc0"
      },
      "execution_count": 13,
      "outputs": [
        {
          "output_type": "stream",
          "name": "stderr",
          "text": [
            "100%|███████████████████████████████████████| 294M/294M [00:18<00:00, 16.9MiB/s]\n"
          ]
        },
        {
          "output_type": "stream",
          "name": "stdout",
          "text": [
            "Loading vision model config from /usr/local/lib/python3.10/dist-packages/cn_clip/clip/model_configs/RN50.json\n",
            "Loading text model config from /usr/local/lib/python3.10/dist-packages/cn_clip/clip/model_configs/RBT3-chinese.json\n",
            "Model info {'embed_dim': 1024, 'image_resolution': 224, 'vision_layers': [3, 4, 6, 3], 'vision_width': 64, 'vision_patch_size': None, 'vocab_size': 21128, 'text_attention_probs_dropout_prob': 0.1, 'text_hidden_act': 'gelu', 'text_hidden_dropout_prob': 0.1, 'text_hidden_size': 768, 'text_initializer_range': 0.02, 'text_intermediate_size': 3072, 'text_max_position_embeddings': 512, 'text_num_attention_heads': 12, 'text_num_hidden_layers': 3, 'text_type_vocab_size': 2}\n"
          ]
        }
      ]
    },
    {
      "cell_type": "code",
      "source": [
        "model.eval()"
      ],
      "metadata": {
        "id": "mNBQIMyPUGDq"
      },
      "execution_count": null,
      "outputs": []
    },
    {
      "cell_type": "code",
      "source": [
        "def insert_images(image_dir):\n",
        "    \"\"\"\n",
        "    需要输入图片的路径，该方法会自动遍历路径下的图片文件。\n",
        "    同时，该方法会调用extract_image_features方法（通过CLIP模型对图片文件进行预处理，并返回图片的特征信息），\n",
        "    并行将返回的特征信息存入redisXAnn-usearch中。\n",
        "    * 向量索引名称为“index_images”（固定）。\n",
        "    * Key为图片路径及其文件名，例如“test/images/boxer_18.jpg”。\n",
        "    * 特征信息为1024维向量。\n",
        "    \"\"\"\n",
        "    file_names = [f for f in os.listdir(image_dir) if (f.endswith('.jpg') or f.endswith('.jpeg'))]\n",
        "    for file_name in file_names:\n",
        "        image_feature = extract_image_features(image_dir + \"/\" + file_name)\n",
        "        add_vector(\"index_images\", image_dir + \"/\" + file_name, image_feature)\n",
        "\n",
        "def extract_image_features(img_name):\n",
        "    \"\"\"\n",
        "    该方法将通过CLIP模型对图片文件进行预处理，并返回图片的特征信息（1024维向量）。\n",
        "    \"\"\"\n",
        "    image_data = Image.open(img_name).convert(\"RGB\")\n",
        "    infer_data = preprocess(image_data)\n",
        "    infer_data = infer_data.unsqueeze(0).to(\"cuda\")\n",
        "    with torch.no_grad():\n",
        "        image_features = model.encode_image(infer_data)\n",
        "    image_features /= image_features.norm(dim=-1, keepdim=True)\n",
        "    return image_features.cpu().numpy()[0]  # [1, 1024]\n",
        "\n"
      ],
      "metadata": {
        "id": "1VWYdiFxNkXd"
      },
      "execution_count": 26,
      "outputs": []
    },
    {
      "cell_type": "code",
      "source": [
        "def insert_text(text):\n",
        "    \"\"\"\n",
        "    需要输入需存储的文本，该方法会调用extract_text_features方法（通过CLIP模型对文本进行预处理，并返回文本的特征信息），\n",
        "    并行将返回的特征信息存入redisXAnn-usearch中。\n",
        "    存入Tair的格式为：\n",
        "    * 向量索引名称为“index_texts”（固定）。\n",
        "    * Key为文本内容，例如“奔跑的狗”。\n",
        "    * 特征信息为1024维向量。\n",
        "    \"\"\"\n",
        "    text_features = extract_text_features(text)\n",
        "    add_vector(\"index_texts\", text, text_features)\n",
        "\n",
        "\n",
        "def extract_text_features(text):\n",
        "    \"\"\"\n",
        "    该方法将通过CLIP模型对文本进行预处理，并返回文本的特征信息（1024维向量）。\n",
        "    \"\"\"\n",
        "    text_data = clip.tokenize([text]).to(\"cuda\")\n",
        "    with torch.no_grad():\n",
        "        text_features = model.encode_text(text_data)\n",
        "    text_features /= text_features.norm(dim=-1, keepdim=True)\n",
        "    return text_features.cpu().numpy()[0]  # [1, 1024]\n",
        "\n"
      ],
      "metadata": {
        "id": "iQjaF8nUViYS"
      },
      "execution_count": 27,
      "outputs": []
    },
    {
      "cell_type": "code",
      "source": [
        "def query_images_by_text(q_text, topK):\n",
        "    \"\"\"\n",
        "    该方法将用于以文搜图。\n",
        "    需要输入待搜索的文本内容（text）和返回的结果数量（topK）。\n",
        "    该方法会通过CLIP 模型将待查询的文本内容进行预处理，然后通过USEARCH.SEARCH.KANN命令，\n",
        "    查询redis数据库中与该文本描述最为相似的图片。\n",
        "    将返回目标图片名称name，id和相似值similarity，\n",
        "    这里选择默认metric: IP(内积), 相似值similarity为距离，越小，表示相似度越高。\n",
        "    \"\"\"\n",
        "    q_text_feature = extract_text_features(q_text)\n",
        "    result = kann_search(\"index_images\", topK, q_text_feature)\n",
        "    print(\"topK {} q {} result {}\",topK,q_text_feature,result)\n",
        "    if result == None:\n",
        "      return None\n",
        "    for k, s in result[\"vals\"]:\n",
        "        print(\"{}:{}\\n\".format(k,s))\n",
        "        img = Image.open(k.decode('utf-8'))\n",
        "        plt.imshow(img)\n",
        "        pylab.show()\n",
        "\n",
        "\n",
        "def query_texts_by_image(image_path, topK=3):\n",
        "    \"\"\"\n",
        "    该方法将用于以图搜文。\n",
        "    需要输入待查询图片的路径和返回的结果数量（topK）。\n",
        "    该方法会通过CLIP 模型将待查询的图片内容进行预处理，然后通过Vector的TVS.KNNSEARCH命令，查询Tair数据库中与该图片最为吻合的文本。\n",
        "    将返回目标文本的Key名称和相似距离（distance），其中相似距离（distance）越小，表示相似度越高。\n",
        "    \"\"\"\n",
        "    image_feature = extract_image_features(image_path)\n",
        "    result = kann_search(\"index_texts\", topK, image_feature)\n",
        "    print(\"topK {} q {} result {}\",topK,image_feature,result)\n",
        "    if result == None:\n",
        "      return None\n",
        "    for i,item in enumerate(result[\"vals\"]):\n",
        "        print(\"{}=>{}\\n\".format(i,item))\n",
        "\n"
      ],
      "metadata": {
        "id": "fb4VTN9mVRcc"
      },
      "execution_count": 35,
      "outputs": []
    },
    {
      "cell_type": "code",
      "source": [
        "# 宠物图片数据集的路径为“./images”，写入图片数据。\n",
        "insert_images(\"./images\")"
      ],
      "metadata": {
        "id": "y1KI4PBMcudn"
      },
      "execution_count": 29,
      "outputs": []
    },
    {
      "cell_type": "code",
      "source": [
        "get_index(\"index_images\")"
      ],
      "metadata": {
        "colab": {
          "base_uri": "https://localhost:8080/"
        },
        "id": "tBtVg39OkY7v",
        "outputId": "5cac7f3a-3d1f-4cac-9feb-d2ecaf464ed1"
      },
      "execution_count": 38,
      "outputs": [
        {
          "output_type": "execute_result",
          "data": {
            "text/plain": [
              "{'name': 'usearch.index_images',\n",
              " 'dimensions': 1024,\n",
              " 'metric': 'IP',\n",
              " 'quantization': 'F64',\n",
              " 'connectivity': 10,\n",
              " 'expansion_add': 128,\n",
              " 'expansion_search': 3,\n",
              " 'serialization_file_path': '/content/0.usearch.index_images.idx',\n",
              " 'serialized_length': 61248608,\n",
              " 'index_size': 7390,\n",
              " 'index_capacity': 14770,\n",
              " 'index_mem_usage': 138530384}"
            ]
          },
          "metadata": {},
          "execution_count": 38
        }
      ]
    },
    {
      "cell_type": "code",
      "source": [
        "# 写入文本示例数据（\"狗\"、\"白色的狗\"、\"奔跑的白色的狗\"）。\n",
        "insert_text(\"狗\")\n",
        "insert_text(\"白色的狗\")\n",
        "insert_text(\"奔跑的白色的狗\")\n"
      ],
      "metadata": {
        "id": "XD_TjN8si6Uo"
      },
      "execution_count": 30,
      "outputs": []
    },
    {
      "cell_type": "code",
      "source": [
        "# 以文搜图，查询最符合文本\"奔跑的狗\"的三张图。\n",
        "query_images_by_text(\"奔跑的狗\", 3)"
      ],
      "metadata": {
        "colab": {
          "base_uri": "https://localhost:8080/"
        },
        "id": "cYeaZ-n0jMy2",
        "outputId": "0a657bea-bd1b-4d5c-f256-c89fad8397bd"
      },
      "execution_count": 34,
      "outputs": [
        {
          "output_type": "stream",
          "name": "stdout",
          "text": [
            "topK {} q {} result {} 3 [-0.005028 -0.01026   0.02936  ... -0.005123  0.03256   0.006367] None\n"
          ]
        }
      ]
    },
    {
      "cell_type": "code",
      "source": [
        "# 以图搜文，指定图片路径，查询比较符合图片描述的文本。\n",
        "query_texts_by_image(\"./images/boxer_18.jpg\",3)\n"
      ],
      "metadata": {
        "colab": {
          "base_uri": "https://localhost:8080/"
        },
        "id": "4oa4KHZdj2wE",
        "outputId": "70b67a0e-7f43-4002-fae3-d6660425feff"
      },
      "execution_count": 36,
      "outputs": [
        {
          "output_type": "stream",
          "name": "stdout",
          "text": [
            "topK {} q {} result {} 3 [ 0.02061  -0.001164  0.01122  ... -0.00635  -0.03745   0.03198 ] None\n"
          ]
        }
      ]
    },
    {
      "cell_type": "code",
      "source": [
        "!ls ./images/boxer_18.jpg"
      ],
      "metadata": {
        "colab": {
          "base_uri": "https://localhost:8080/"
        },
        "id": "4-HP6K9XkH_l",
        "outputId": "72886d02-51de-405c-fa56-d78973933eb0"
      },
      "execution_count": 37,
      "outputs": [
        {
          "output_type": "stream",
          "name": "stdout",
          "text": [
            "./images/boxer_18.jpg\n"
          ]
        }
      ]
    }
  ]
}